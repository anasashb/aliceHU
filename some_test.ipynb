{
 "cells": [
  {
   "cell_type": "markdown",
   "metadata": {},
   "source": [
    "## **A**utomated **L**earning for **I**nsightful **C**omparison and **E**valuation - (ALICE)"
   ]
  },
  {
   "cell_type": "markdown",
   "metadata": {},
   "source": [
    "This is a demo notebook where I demonstrate the main functionalities of the proposed python framework.\n",
    "\n",
    "For demonstrational purposes, I will be using a simple and small dataset called California Housing, which includes 8 predictors and 1 target (`MedHouseVal`) - which is a house value. This amount of predictors is small for us but a small dataset helps to run the python framework in a short amount of time, so it is very suitable for demonstration purposes.\n",
    "\n",
    "Because all of the variables in the dataset are continuous, I simulate a binary categorical column from MedHouseVal which just measures if house value is above average. \n",
    "\n",
    "I also generate a fake categorical variable just to demonstrate the framework's functionality to treat $n$ amount of columns obtained from dummy encoding of a categorical variable as one variable in feature selection process.\n",
    "\n",
    "Further details are given in comments and markdown notes throughout the notebook."
   ]
  },
  {
   "cell_type": "code",
   "execution_count": 1,
   "metadata": {},
   "outputs": [
    {
     "name": "stderr",
     "output_type": "stream",
     "text": [
      "<frozen importlib._bootstrap>:228: RuntimeWarning: scipy._lib.messagestream.MessageStream size changed, may indicate binary incompatibility. Expected 56 from C header, got 64 from PyObject\n"
     ]
    }
   ],
   "source": [
    "# Import numpy for mathematical operations\n",
    "import numpy as np\n",
    "# Import pandas for handling data tables\n",
    "import pandas as pd\n",
    "# Import stats from scipy - the key statistical package (an extension of Numpy) for python\n",
    "from scipy import stats\n",
    "# This just saves the directory\n",
    "import os\n",
    "cur_dir = os.getcwd()"
   ]
  },
  {
   "cell_type": "markdown",
   "metadata": {},
   "source": [
    "Loading the dataset from sklearn. The california housing can be loaded from sklearn, the go-to python library for ML and predictive modeling. "
   ]
  },
  {
   "cell_type": "code",
   "execution_count": 2,
   "metadata": {},
   "outputs": [],
   "source": [
    "## Here I load the dataset\n",
    "from sklearn.datasets import fetch_california_housing\n",
    "\n",
    "# I save the dataset as data\n",
    "data = fetch_california_housing()\n",
    "\n",
    "# Save predictors as vaiable X\n",
    "X = pd.DataFrame(data=data.data, columns=data.feature_names)\n",
    "# Save target as y\n",
    "y = pd.DataFrame(data=data.target, columns=data.target_names)\n",
    "# Combine X and y into a dataframe called df\n",
    "df = pd.concat([X,y], axis=1)"
   ]
  },
  {
   "cell_type": "markdown",
   "metadata": {},
   "source": [
    "The data table can just be inspected by calling its name"
   ]
  },
  {
   "cell_type": "code",
   "execution_count": 3,
   "metadata": {},
   "outputs": [
    {
     "data": {
      "text/html": [
       "<div>\n",
       "<style scoped>\n",
       "    .dataframe tbody tr th:only-of-type {\n",
       "        vertical-align: middle;\n",
       "    }\n",
       "\n",
       "    .dataframe tbody tr th {\n",
       "        vertical-align: top;\n",
       "    }\n",
       "\n",
       "    .dataframe thead th {\n",
       "        text-align: right;\n",
       "    }\n",
       "</style>\n",
       "<table border=\"1\" class=\"dataframe\">\n",
       "  <thead>\n",
       "    <tr style=\"text-align: right;\">\n",
       "      <th></th>\n",
       "      <th>MedInc</th>\n",
       "      <th>HouseAge</th>\n",
       "      <th>AveRooms</th>\n",
       "      <th>AveBedrms</th>\n",
       "      <th>Population</th>\n",
       "      <th>AveOccup</th>\n",
       "      <th>Latitude</th>\n",
       "      <th>Longitude</th>\n",
       "      <th>MedHouseVal</th>\n",
       "    </tr>\n",
       "  </thead>\n",
       "  <tbody>\n",
       "    <tr>\n",
       "      <th>0</th>\n",
       "      <td>8.3252</td>\n",
       "      <td>41.0</td>\n",
       "      <td>6.984127</td>\n",
       "      <td>1.023810</td>\n",
       "      <td>322.0</td>\n",
       "      <td>2.555556</td>\n",
       "      <td>37.88</td>\n",
       "      <td>-122.23</td>\n",
       "      <td>4.526</td>\n",
       "    </tr>\n",
       "    <tr>\n",
       "      <th>1</th>\n",
       "      <td>8.3014</td>\n",
       "      <td>21.0</td>\n",
       "      <td>6.238137</td>\n",
       "      <td>0.971880</td>\n",
       "      <td>2401.0</td>\n",
       "      <td>2.109842</td>\n",
       "      <td>37.86</td>\n",
       "      <td>-122.22</td>\n",
       "      <td>3.585</td>\n",
       "    </tr>\n",
       "    <tr>\n",
       "      <th>2</th>\n",
       "      <td>7.2574</td>\n",
       "      <td>52.0</td>\n",
       "      <td>8.288136</td>\n",
       "      <td>1.073446</td>\n",
       "      <td>496.0</td>\n",
       "      <td>2.802260</td>\n",
       "      <td>37.85</td>\n",
       "      <td>-122.24</td>\n",
       "      <td>3.521</td>\n",
       "    </tr>\n",
       "    <tr>\n",
       "      <th>3</th>\n",
       "      <td>5.6431</td>\n",
       "      <td>52.0</td>\n",
       "      <td>5.817352</td>\n",
       "      <td>1.073059</td>\n",
       "      <td>558.0</td>\n",
       "      <td>2.547945</td>\n",
       "      <td>37.85</td>\n",
       "      <td>-122.25</td>\n",
       "      <td>3.413</td>\n",
       "    </tr>\n",
       "    <tr>\n",
       "      <th>4</th>\n",
       "      <td>3.8462</td>\n",
       "      <td>52.0</td>\n",
       "      <td>6.281853</td>\n",
       "      <td>1.081081</td>\n",
       "      <td>565.0</td>\n",
       "      <td>2.181467</td>\n",
       "      <td>37.85</td>\n",
       "      <td>-122.25</td>\n",
       "      <td>3.422</td>\n",
       "    </tr>\n",
       "    <tr>\n",
       "      <th>...</th>\n",
       "      <td>...</td>\n",
       "      <td>...</td>\n",
       "      <td>...</td>\n",
       "      <td>...</td>\n",
       "      <td>...</td>\n",
       "      <td>...</td>\n",
       "      <td>...</td>\n",
       "      <td>...</td>\n",
       "      <td>...</td>\n",
       "    </tr>\n",
       "    <tr>\n",
       "      <th>20635</th>\n",
       "      <td>1.5603</td>\n",
       "      <td>25.0</td>\n",
       "      <td>5.045455</td>\n",
       "      <td>1.133333</td>\n",
       "      <td>845.0</td>\n",
       "      <td>2.560606</td>\n",
       "      <td>39.48</td>\n",
       "      <td>-121.09</td>\n",
       "      <td>0.781</td>\n",
       "    </tr>\n",
       "    <tr>\n",
       "      <th>20636</th>\n",
       "      <td>2.5568</td>\n",
       "      <td>18.0</td>\n",
       "      <td>6.114035</td>\n",
       "      <td>1.315789</td>\n",
       "      <td>356.0</td>\n",
       "      <td>3.122807</td>\n",
       "      <td>39.49</td>\n",
       "      <td>-121.21</td>\n",
       "      <td>0.771</td>\n",
       "    </tr>\n",
       "    <tr>\n",
       "      <th>20637</th>\n",
       "      <td>1.7000</td>\n",
       "      <td>17.0</td>\n",
       "      <td>5.205543</td>\n",
       "      <td>1.120092</td>\n",
       "      <td>1007.0</td>\n",
       "      <td>2.325635</td>\n",
       "      <td>39.43</td>\n",
       "      <td>-121.22</td>\n",
       "      <td>0.923</td>\n",
       "    </tr>\n",
       "    <tr>\n",
       "      <th>20638</th>\n",
       "      <td>1.8672</td>\n",
       "      <td>18.0</td>\n",
       "      <td>5.329513</td>\n",
       "      <td>1.171920</td>\n",
       "      <td>741.0</td>\n",
       "      <td>2.123209</td>\n",
       "      <td>39.43</td>\n",
       "      <td>-121.32</td>\n",
       "      <td>0.847</td>\n",
       "    </tr>\n",
       "    <tr>\n",
       "      <th>20639</th>\n",
       "      <td>2.3886</td>\n",
       "      <td>16.0</td>\n",
       "      <td>5.254717</td>\n",
       "      <td>1.162264</td>\n",
       "      <td>1387.0</td>\n",
       "      <td>2.616981</td>\n",
       "      <td>39.37</td>\n",
       "      <td>-121.24</td>\n",
       "      <td>0.894</td>\n",
       "    </tr>\n",
       "  </tbody>\n",
       "</table>\n",
       "<p>20640 rows × 9 columns</p>\n",
       "</div>"
      ],
      "text/plain": [
       "       MedInc  HouseAge  AveRooms  AveBedrms  Population  AveOccup  Latitude  \\\n",
       "0      8.3252      41.0  6.984127   1.023810       322.0  2.555556     37.88   \n",
       "1      8.3014      21.0  6.238137   0.971880      2401.0  2.109842     37.86   \n",
       "2      7.2574      52.0  8.288136   1.073446       496.0  2.802260     37.85   \n",
       "3      5.6431      52.0  5.817352   1.073059       558.0  2.547945     37.85   \n",
       "4      3.8462      52.0  6.281853   1.081081       565.0  2.181467     37.85   \n",
       "...       ...       ...       ...        ...         ...       ...       ...   \n",
       "20635  1.5603      25.0  5.045455   1.133333       845.0  2.560606     39.48   \n",
       "20636  2.5568      18.0  6.114035   1.315789       356.0  3.122807     39.49   \n",
       "20637  1.7000      17.0  5.205543   1.120092      1007.0  2.325635     39.43   \n",
       "20638  1.8672      18.0  5.329513   1.171920       741.0  2.123209     39.43   \n",
       "20639  2.3886      16.0  5.254717   1.162264      1387.0  2.616981     39.37   \n",
       "\n",
       "       Longitude  MedHouseVal  \n",
       "0        -122.23        4.526  \n",
       "1        -122.22        3.585  \n",
       "2        -122.24        3.521  \n",
       "3        -122.25        3.413  \n",
       "4        -122.25        3.422  \n",
       "...          ...          ...  \n",
       "20635    -121.09        0.781  \n",
       "20636    -121.21        0.771  \n",
       "20637    -121.22        0.923  \n",
       "20638    -121.32        0.847  \n",
       "20639    -121.24        0.894  \n",
       "\n",
       "[20640 rows x 9 columns]"
      ]
     },
     "execution_count": 3,
     "metadata": {},
     "output_type": "execute_result"
    }
   ],
   "source": [
    "# A brief look at the dataframe\n",
    "df"
   ]
  },
  {
   "cell_type": "code",
   "execution_count": 4,
   "metadata": {},
   "outputs": [
    {
     "data": {
      "text/html": [
       "<div>\n",
       "<style scoped>\n",
       "    .dataframe tbody tr th:only-of-type {\n",
       "        vertical-align: middle;\n",
       "    }\n",
       "\n",
       "    .dataframe tbody tr th {\n",
       "        vertical-align: top;\n",
       "    }\n",
       "\n",
       "    .dataframe thead th {\n",
       "        text-align: right;\n",
       "    }\n",
       "</style>\n",
       "<table border=\"1\" class=\"dataframe\">\n",
       "  <thead>\n",
       "    <tr style=\"text-align: right;\">\n",
       "      <th></th>\n",
       "      <th>MedInc</th>\n",
       "      <th>HouseAge</th>\n",
       "      <th>AveRooms</th>\n",
       "      <th>AveBedrms</th>\n",
       "      <th>Population</th>\n",
       "      <th>AveOccup</th>\n",
       "      <th>Latitude</th>\n",
       "      <th>Longitude</th>\n",
       "      <th>MedHouseVal</th>\n",
       "    </tr>\n",
       "  </thead>\n",
       "  <tbody>\n",
       "    <tr>\n",
       "      <th>count</th>\n",
       "      <td>20640.000000</td>\n",
       "      <td>20640.000000</td>\n",
       "      <td>20640.000000</td>\n",
       "      <td>20640.000000</td>\n",
       "      <td>20640.000000</td>\n",
       "      <td>20640.000000</td>\n",
       "      <td>20640.000000</td>\n",
       "      <td>20640.000000</td>\n",
       "      <td>20640.000000</td>\n",
       "    </tr>\n",
       "    <tr>\n",
       "      <th>mean</th>\n",
       "      <td>3.870671</td>\n",
       "      <td>28.639486</td>\n",
       "      <td>5.429000</td>\n",
       "      <td>1.096675</td>\n",
       "      <td>1425.476744</td>\n",
       "      <td>3.070655</td>\n",
       "      <td>35.631861</td>\n",
       "      <td>-119.569704</td>\n",
       "      <td>2.068558</td>\n",
       "    </tr>\n",
       "    <tr>\n",
       "      <th>std</th>\n",
       "      <td>1.899822</td>\n",
       "      <td>12.585558</td>\n",
       "      <td>2.474173</td>\n",
       "      <td>0.473911</td>\n",
       "      <td>1132.462122</td>\n",
       "      <td>10.386050</td>\n",
       "      <td>2.135952</td>\n",
       "      <td>2.003532</td>\n",
       "      <td>1.153956</td>\n",
       "    </tr>\n",
       "    <tr>\n",
       "      <th>min</th>\n",
       "      <td>0.499900</td>\n",
       "      <td>1.000000</td>\n",
       "      <td>0.846154</td>\n",
       "      <td>0.333333</td>\n",
       "      <td>3.000000</td>\n",
       "      <td>0.692308</td>\n",
       "      <td>32.540000</td>\n",
       "      <td>-124.350000</td>\n",
       "      <td>0.149990</td>\n",
       "    </tr>\n",
       "    <tr>\n",
       "      <th>25%</th>\n",
       "      <td>2.563400</td>\n",
       "      <td>18.000000</td>\n",
       "      <td>4.440716</td>\n",
       "      <td>1.006079</td>\n",
       "      <td>787.000000</td>\n",
       "      <td>2.429741</td>\n",
       "      <td>33.930000</td>\n",
       "      <td>-121.800000</td>\n",
       "      <td>1.196000</td>\n",
       "    </tr>\n",
       "    <tr>\n",
       "      <th>50%</th>\n",
       "      <td>3.534800</td>\n",
       "      <td>29.000000</td>\n",
       "      <td>5.229129</td>\n",
       "      <td>1.048780</td>\n",
       "      <td>1166.000000</td>\n",
       "      <td>2.818116</td>\n",
       "      <td>34.260000</td>\n",
       "      <td>-118.490000</td>\n",
       "      <td>1.797000</td>\n",
       "    </tr>\n",
       "    <tr>\n",
       "      <th>75%</th>\n",
       "      <td>4.743250</td>\n",
       "      <td>37.000000</td>\n",
       "      <td>6.052381</td>\n",
       "      <td>1.099526</td>\n",
       "      <td>1725.000000</td>\n",
       "      <td>3.282261</td>\n",
       "      <td>37.710000</td>\n",
       "      <td>-118.010000</td>\n",
       "      <td>2.647250</td>\n",
       "    </tr>\n",
       "    <tr>\n",
       "      <th>max</th>\n",
       "      <td>15.000100</td>\n",
       "      <td>52.000000</td>\n",
       "      <td>141.909091</td>\n",
       "      <td>34.066667</td>\n",
       "      <td>35682.000000</td>\n",
       "      <td>1243.333333</td>\n",
       "      <td>41.950000</td>\n",
       "      <td>-114.310000</td>\n",
       "      <td>5.000010</td>\n",
       "    </tr>\n",
       "  </tbody>\n",
       "</table>\n",
       "</div>"
      ],
      "text/plain": [
       "             MedInc      HouseAge      AveRooms     AveBedrms    Population  \\\n",
       "count  20640.000000  20640.000000  20640.000000  20640.000000  20640.000000   \n",
       "mean       3.870671     28.639486      5.429000      1.096675   1425.476744   \n",
       "std        1.899822     12.585558      2.474173      0.473911   1132.462122   \n",
       "min        0.499900      1.000000      0.846154      0.333333      3.000000   \n",
       "25%        2.563400     18.000000      4.440716      1.006079    787.000000   \n",
       "50%        3.534800     29.000000      5.229129      1.048780   1166.000000   \n",
       "75%        4.743250     37.000000      6.052381      1.099526   1725.000000   \n",
       "max       15.000100     52.000000    141.909091     34.066667  35682.000000   \n",
       "\n",
       "           AveOccup      Latitude     Longitude   MedHouseVal  \n",
       "count  20640.000000  20640.000000  20640.000000  20640.000000  \n",
       "mean       3.070655     35.631861   -119.569704      2.068558  \n",
       "std       10.386050      2.135952      2.003532      1.153956  \n",
       "min        0.692308     32.540000   -124.350000      0.149990  \n",
       "25%        2.429741     33.930000   -121.800000      1.196000  \n",
       "50%        2.818116     34.260000   -118.490000      1.797000  \n",
       "75%        3.282261     37.710000   -118.010000      2.647250  \n",
       "max     1243.333333     41.950000   -114.310000      5.000010  "
      ]
     },
     "execution_count": 4,
     "metadata": {},
     "output_type": "execute_result"
    }
   ],
   "source": [
    "# Look at descriptive statistics\n",
    "df.describe()"
   ]
  },
  {
   "cell_type": "markdown",
   "metadata": {},
   "source": [
    "Since every feature here is numerical, I will generate a fake categorical feature and encode it into dummies to demonstrate that function can handle dummies toegether."
   ]
  },
  {
   "cell_type": "code",
   "execution_count": 5,
   "metadata": {},
   "outputs": [],
   "source": [
    "# Fake categorical labels for one categorical variable\n",
    "fake_labels = ['nice', 'not_nice', 'mid']\n",
    "# Generate the new column by randomly assigning one of the fake labels to each observation\n",
    "df['HouseEval'] = np.random.choice(fake_labels, size=len(df))\n",
    "\n",
    "# Second set of fake labels for the second categorical variable\n",
    "fake_labels_2 = ['white', 'black', 'gray']\n",
    "# Again generate set of fake labels for the second categorical variable\n",
    "df['WallColors'] = np.random.choice(fake_labels_2, size=len(df))"
   ]
  },
  {
   "cell_type": "code",
   "execution_count": 6,
   "metadata": {},
   "outputs": [],
   "source": [
    "# Get dummies\n",
    "# Get dummies for the two columns and set one value as base\n",
    "df = pd.get_dummies(df, columns=['HouseEval', 'WallColors'], drop_first=True)"
   ]
  },
  {
   "cell_type": "code",
   "execution_count": 7,
   "metadata": {},
   "outputs": [
    {
     "data": {
      "text/html": [
       "<div>\n",
       "<style scoped>\n",
       "    .dataframe tbody tr th:only-of-type {\n",
       "        vertical-align: middle;\n",
       "    }\n",
       "\n",
       "    .dataframe tbody tr th {\n",
       "        vertical-align: top;\n",
       "    }\n",
       "\n",
       "    .dataframe thead th {\n",
       "        text-align: right;\n",
       "    }\n",
       "</style>\n",
       "<table border=\"1\" class=\"dataframe\">\n",
       "  <thead>\n",
       "    <tr style=\"text-align: right;\">\n",
       "      <th></th>\n",
       "      <th>MedInc</th>\n",
       "      <th>HouseAge</th>\n",
       "      <th>AveRooms</th>\n",
       "      <th>AveBedrms</th>\n",
       "      <th>Population</th>\n",
       "      <th>AveOccup</th>\n",
       "      <th>Latitude</th>\n",
       "      <th>Longitude</th>\n",
       "      <th>MedHouseVal</th>\n",
       "      <th>HouseEval_nice</th>\n",
       "      <th>HouseEval_not_nice</th>\n",
       "      <th>WallColors_gray</th>\n",
       "      <th>WallColors_white</th>\n",
       "    </tr>\n",
       "  </thead>\n",
       "  <tbody>\n",
       "    <tr>\n",
       "      <th>0</th>\n",
       "      <td>8.3252</td>\n",
       "      <td>41.0</td>\n",
       "      <td>6.984127</td>\n",
       "      <td>1.023810</td>\n",
       "      <td>322.0</td>\n",
       "      <td>2.555556</td>\n",
       "      <td>37.88</td>\n",
       "      <td>-122.23</td>\n",
       "      <td>4.526</td>\n",
       "      <td>1</td>\n",
       "      <td>0</td>\n",
       "      <td>1</td>\n",
       "      <td>0</td>\n",
       "    </tr>\n",
       "    <tr>\n",
       "      <th>1</th>\n",
       "      <td>8.3014</td>\n",
       "      <td>21.0</td>\n",
       "      <td>6.238137</td>\n",
       "      <td>0.971880</td>\n",
       "      <td>2401.0</td>\n",
       "      <td>2.109842</td>\n",
       "      <td>37.86</td>\n",
       "      <td>-122.22</td>\n",
       "      <td>3.585</td>\n",
       "      <td>0</td>\n",
       "      <td>0</td>\n",
       "      <td>0</td>\n",
       "      <td>0</td>\n",
       "    </tr>\n",
       "    <tr>\n",
       "      <th>2</th>\n",
       "      <td>7.2574</td>\n",
       "      <td>52.0</td>\n",
       "      <td>8.288136</td>\n",
       "      <td>1.073446</td>\n",
       "      <td>496.0</td>\n",
       "      <td>2.802260</td>\n",
       "      <td>37.85</td>\n",
       "      <td>-122.24</td>\n",
       "      <td>3.521</td>\n",
       "      <td>0</td>\n",
       "      <td>1</td>\n",
       "      <td>0</td>\n",
       "      <td>1</td>\n",
       "    </tr>\n",
       "    <tr>\n",
       "      <th>3</th>\n",
       "      <td>5.6431</td>\n",
       "      <td>52.0</td>\n",
       "      <td>5.817352</td>\n",
       "      <td>1.073059</td>\n",
       "      <td>558.0</td>\n",
       "      <td>2.547945</td>\n",
       "      <td>37.85</td>\n",
       "      <td>-122.25</td>\n",
       "      <td>3.413</td>\n",
       "      <td>0</td>\n",
       "      <td>0</td>\n",
       "      <td>1</td>\n",
       "      <td>0</td>\n",
       "    </tr>\n",
       "    <tr>\n",
       "      <th>4</th>\n",
       "      <td>3.8462</td>\n",
       "      <td>52.0</td>\n",
       "      <td>6.281853</td>\n",
       "      <td>1.081081</td>\n",
       "      <td>565.0</td>\n",
       "      <td>2.181467</td>\n",
       "      <td>37.85</td>\n",
       "      <td>-122.25</td>\n",
       "      <td>3.422</td>\n",
       "      <td>0</td>\n",
       "      <td>1</td>\n",
       "      <td>0</td>\n",
       "      <td>0</td>\n",
       "    </tr>\n",
       "  </tbody>\n",
       "</table>\n",
       "</div>"
      ],
      "text/plain": [
       "   MedInc  HouseAge  AveRooms  AveBedrms  Population  AveOccup  Latitude  \\\n",
       "0  8.3252      41.0  6.984127   1.023810       322.0  2.555556     37.88   \n",
       "1  8.3014      21.0  6.238137   0.971880      2401.0  2.109842     37.86   \n",
       "2  7.2574      52.0  8.288136   1.073446       496.0  2.802260     37.85   \n",
       "3  5.6431      52.0  5.817352   1.073059       558.0  2.547945     37.85   \n",
       "4  3.8462      52.0  6.281853   1.081081       565.0  2.181467     37.85   \n",
       "\n",
       "   Longitude  MedHouseVal  HouseEval_nice  HouseEval_not_nice  \\\n",
       "0    -122.23        4.526               1                   0   \n",
       "1    -122.22        3.585               0                   0   \n",
       "2    -122.24        3.521               0                   1   \n",
       "3    -122.25        3.413               0                   0   \n",
       "4    -122.25        3.422               0                   1   \n",
       "\n",
       "   WallColors_gray  WallColors_white  \n",
       "0                1                 0  \n",
       "1                0                 0  \n",
       "2                0                 1  \n",
       "3                1                 0  \n",
       "4                0                 0  "
      ]
     },
     "execution_count": 7,
     "metadata": {},
     "output_type": "execute_result"
    }
   ],
   "source": [
    "# We can again look at the dataframe\n",
    "df.head()"
   ]
  },
  {
   "cell_type": "markdown",
   "metadata": {},
   "source": [
    "For ease of demonstration, as said, I will generate a second target variable. This one will be binary and take value of 1 if house value is higher than the sample average and 0 if the house value is lower.\n",
    "\n",
    "Having two datasets, one with a continuous target and one with a binary target will help us demosntrate the functionalities of the dataframe on both regression and classification tasks."
   ]
  },
  {
   "cell_type": "code",
   "execution_count": 8,
   "metadata": {},
   "outputs": [],
   "source": [
    "# Obtain mean of the target variable\n",
    "mean_target = df['MedHouseVal'].mean()\n",
    "# Create copy of the dataframe and name it df_discrete\n",
    "df_discrete = df.copy()\n",
    "# Generate the new target variable\n",
    "df_discrete['AboveMean'] = (df_discrete['MedHouseVal'] >= mean_target).astype(int)\n",
    "# From the new dataframe, drop the continuous target variable\n",
    "df_discrete.drop('MedHouseVal', axis=1, inplace=True)"
   ]
  },
  {
   "cell_type": "markdown",
   "metadata": {},
   "source": [
    "### Demonstration of the Framework.\n",
    "\n",
    "Below I demonstrate the functionalities of the python framework I am working on.\n",
    "\n",
    "The module is built in a way that allows for either importing the entire thing in one go, or importing some individual functionalities (like functions that compute correlation, or cohen's kappa and so on) separately."
   ]
  },
  {
   "cell_type": "markdown",
   "metadata": {},
   "source": [
    "**Entire library:**"
   ]
  },
  {
   "cell_type": "code",
   "execution_count": 9,
   "metadata": {},
   "outputs": [],
   "source": [
    "# Can just import entire module\n",
    "import alice"
   ]
  },
  {
   "cell_type": "markdown",
   "metadata": {},
   "source": [
    "**Individual Functions:**"
   ]
  },
  {
   "cell_type": "code",
   "execution_count": 10,
   "metadata": {},
   "outputs": [],
   "source": [
    "# Or import individual functions\n",
    "\n",
    "# Import regression metrics\n",
    "from alice.metrics.regress import mse, rmse, mae\n",
    "# Import classification metrics\n",
    "from alice.metrics.classify import accuracy, precision, recall, f1\n",
    "\n",
    "# Import regression agreeability metric\n",
    "from alice.agreeability.regress import pearson\n",
    "# Import classification agreeability metric\n",
    "from alice.agreeability.classify import cohen_kappa\n",
    "\n",
    "# Import regression tests\n",
    "from alice.testing.regress import t_test\n",
    "# Import classification tests\n",
    "from alice.testing.classify import mcnemar_binomial, mcnemar_chisquare"
   ]
  },
  {
   "cell_type": "markdown",
   "metadata": {},
   "source": [
    "**Algorithm That Combines Backwards Feature Elimination with Inter-Rater Reliability:**"
   ]
  },
  {
   "cell_type": "code",
   "execution_count": 10,
   "metadata": {},
   "outputs": [],
   "source": [
    "# Import our demo search algorithm \n",
    "from alice.search_and_compare.sequential import BackEliminator"
   ]
  },
  {
   "cell_type": "markdown",
   "metadata": {},
   "source": [
    "In the huge code block below, I just copied the entire code I made for the `BackEliminator` module. The source code can be found in the `search_and_compare` folder in `sequential.py` file. "
   ]
  },
  {
   "cell_type": "code",
   "execution_count": 11,
   "metadata": {},
   "outputs": [],
   "source": [
    "from alice.metrics.regress import mse, rmse, mae\n",
    "from alice.metrics.classify import accuracy, precision, recall, f1\n",
    "from alice.agreeability.regress import pearson\n",
    "from alice.agreeability.classify import cohen_kappa\n",
    "from alice.testing.classify import mcnemar_binomial, mcnemar_chisquare\n",
    "from alice.testing.regress import t_test\n",
    "from alice.utils.feature_lists import dummy_grouper\n",
    "from alice.utils.feature_lists import feature_fixer\n",
    "from alice.utils.feature_lists import feature_list_flatten\n",
    "import pandas as pd\n",
    "import plotly.express as px\n",
    "import plotly.graph_objs as go\n",
    "from plotly.subplots import make_subplots\n",
    "import numpy as np\n",
    "\n",
    "class BackEliminator():\n",
    "    '''\n",
    "    The class is built for conducting backwards feature elimination in combination with model agreeability. A more detailed documentation will follow.\n",
    "    \n",
    "    Args:\n",
    "        X (pd.DataFrame): A pandas dataframe containing predictors.\n",
    "        y (pd.DataFrame): A pandas dataframe containing target.\n",
    "        validation_data (tuple): A tuple of validation data (X_val, y_val).\n",
    "        task_type (str): String for task type. Available options - 'classification' or 'regression'.\n",
    "        criterion (str): String for intra-model evaluation criterion. Available options: 'mse', 'rmse', 'mae', 'accuracy', 'precision', 'recall', 'f1'.\n",
    "        agreeability (str): String for inter-model comparison. Available options: 'pearson', 'cohen_kappa'\n",
    "        dummy_list (list): List of lists containing column names (str) of dummy features generated from a categorical variable. (Optional).\n",
    "        features_to_fix (list): List containing column names (str) of features that will be excluded from feature elimination and thus always included in modeling. (Optional)\n",
    "    \n",
    "    Regression Example:\n",
    "        seeker = Backeliminator(\n",
    "            X=X_train,\n",
    "            y=y_train,\n",
    "            validation_data=(X_val, y_val),\n",
    "            task_type='regression',\n",
    "            criterion='rmse',\n",
    "            agreeability='pearson',\n",
    "            dummy_list=[\n",
    "                ['dummy_1_from_variable_1', 'dummy_2_from_variable_1'],\n",
    "                ['dummy_1_from_variable_2', 'dummy_2_from_variable_2', 'dummy_3_from_variable_2']\n",
    "            ],\n",
    "            features_to_fix=[\n",
    "                'variable_3',\n",
    "                'variable_4'\n",
    "            ]\n",
    "        )\n",
    "    \n",
    "    Classification Example:\n",
    "        seeker = Backeliminator(\n",
    "            X=X_train,\n",
    "            y=y_train,\n",
    "            validation_data=(X_val, y_val),\n",
    "            task_type='classification',\n",
    "            criterion='f1',\n",
    "            agreeability='cohen_kappa',\n",
    "            dummy_list=[\n",
    "                ['dummy_1_from_variable_1', 'dummy_2_from_variable_1'],\n",
    "                ['dummy_1_from_variable_2', 'dummy_2_from_variable_2', 'dummy_3_from_variable_2']\n",
    "            ],\n",
    "            features_to_fix=[\n",
    "                'variable_3',\n",
    "                'variable_4'\n",
    "            ]\n",
    "        )    \n",
    "    '''\n",
    "\n",
    "    def __init__(self,\n",
    "                 X=None,\n",
    "                 y=None, \n",
    "                 validation_data=None,\n",
    "                 task_type=None,\n",
    "                 criterion=None,\n",
    "                 agreeability=None,\n",
    "                 dummy_list=None,\n",
    "                 features_to_fix=None\n",
    "                 ):\n",
    "\n",
    "        self.X = X\n",
    "        self.y = y\n",
    "        if validation_data:\n",
    "            self.validation_data = validation_data\n",
    "            self.X_val = self.validation_data[0]\n",
    "            self.y_val = self.validation_data[1]\n",
    "        self.criterion_registry = {\n",
    "            'mse': mse,\n",
    "            'rmse': rmse,\n",
    "            'mae': mae,\n",
    "            'accuracy': accuracy,\n",
    "            'precision': precision,\n",
    "            'recall': recall,\n",
    "            'f1': f1\n",
    "            }\n",
    "        self.criterion = criterion\n",
    "        self.agreeability_registry = {\n",
    "            'pearson': pearson,\n",
    "            'cohen_kappa': cohen_kappa\n",
    "        }\n",
    "        self.testing_registry = {\n",
    "            'mcnemar_binomial': mcnemar_binomial,\n",
    "            'mcnemar_chisquare': mcnemar_chisquare,\n",
    "            't_test': t_test\n",
    "        }\n",
    "        self.agreeability = agreeability\n",
    "        # To append all scores per dropped feature for all iterations of while loop\n",
    "        self.scores_and_preds_m1 = []\n",
    "        self.scores_and_preds_m2 = []\n",
    "    \n",
    "        #### =========================================================================================== ####\n",
    "        #### NEW SORTING DEFINED                                                                            #\n",
    "        #### ---------------------------------------------------------------------------------------------- #\n",
    "        #### Rationale:                                                                                     #\n",
    "        #### In Classification metrics: Higher Score <=> Better Predictive Performance                      #\n",
    "        #### Worst feature will be that whose removal led to the highest score in iteration                 #\n",
    "        #### In Regression metrics: Lower score <=> Better Predictive Performance                           #\n",
    "        #### Worst feature will be that whose removal led to the lowest score in iteration                  #\n",
    "        if task_type == 'classification':                                                                   #\n",
    "            # Get the entry which has highest score (in second column - [1]) - used in compare_best_models  #\n",
    "            self.find_worst_feature = lambda scores: max(scores, key=lambda x: x[1])                        #\n",
    "            # Order the container in descending from max score to min score - used in compare_all_models    #\n",
    "            self.sort_scores = lambda scores: sorted(scores, key=lambda x: x[1], reverse=True)              #\n",
    "        elif task_type == 'regression':                                                                     #\n",
    "            # Get the entry which has lowest score (in second column - [1])                                 #\n",
    "            self.find_worst_feature = lambda scores: min(scores, key=lambda x: x[1])                        #\n",
    "            # Order the container in ascending - min score on top max score on bottom                       #\n",
    "            self.sort_scores = lambda scores: sorted(scores, key=lambda x: x[1])                            #\n",
    "        else:                                                                                               #\n",
    "            raise ValueError(\"Invalid task type specified. Choose 'regression' or 'classification'.\")       #\n",
    "        #### Return will be (worst_feature, best_score, best_preds) from iteration                          #\n",
    "        #### =========================================================================================== ####\n",
    "\n",
    "        # Handle feature lists\n",
    "        # Will default to None if not provided\n",
    "        self.dummy_list = dummy_list\n",
    "        # Will default to None if not provided\n",
    "        self.features_to_fix = features_to_fix\n",
    "        # Group columns obtained from a one-hot-encoded variable together\n",
    "        if self.dummy_list:\n",
    "            self.initial_feature_list = dummy_grouper(feature_list=list(self.X.columns), dummy_list=self.dummy_list)\n",
    "        else:\n",
    "            self.initial_feature_list = list(self.X.columns)\n",
    "        # Remove features we want to fix from the feature list\n",
    "        if self.features_to_fix:\n",
    "            self.initial_feature_list = feature_fixer(self.initial_feature_list, self.features_to_fix)\n",
    "        \n",
    "    \n",
    "    # Method to be called in the main method of back elimination\n",
    "    def _deselect_feature(self,\n",
    "                          feature_list,\n",
    "                          model):\n",
    "        # Empty list for scores\n",
    "        score_per_dropped_feature = []\n",
    "        # Iterate over all features\n",
    "        for feature in feature_list:\n",
    "            # Generate temporary feature set to manipulate\n",
    "            temporary_set = feature_list.copy()\n",
    "            # Drop feature from set\n",
    "            temporary_set.remove(feature)\n",
    "            # Flatten list\n",
    "            temporary_set = feature_list_flatten(temporary_set)\n",
    "            # Train\n",
    "            model.fit(self.X[temporary_set], self.y)\n",
    "            # Predict on validation set\n",
    "            if self.validation_data:\n",
    "                y_preds = model.predict(self.X_val[temporary_set])\n",
    "                # Evaluate\n",
    "                score = self.criterion_registry[self.criterion](self.y_val, y_preds)\n",
    "            # Predict on training set\n",
    "            else:\n",
    "                y_preds = model.predict(self.X[temporary_set])\n",
    "                score = self.criterion_registry[self.criterion](self.y, y_preds)\n",
    "            # Append feature name, score after dropping it, y_preds after dropping it\n",
    "            score_per_dropped_feature.append((feature, score, y_preds))\n",
    "\n",
    "        #### Deprecated ####\n",
    "        # At the end of loop, identify feature\n",
    "        # which led to the worst score when \n",
    "        # feature dropped\n",
    "        # Descending sort based on score, (x[1])\n",
    "        #score_per_dropped_feature = self.sort_scores(score_per_dropped_feature) #### REMOVE THIS\n",
    "\n",
    "        # For ease of read\n",
    "        #worst_feature = score_per_dropped_feature[0][0] #### REMOVE THIS\n",
    "        #best_score = score_per_dropped_feature[0][1] ##### REMOVE THIS\n",
    "        #best_preds = score_per_dropped_feature[0][2] ##### REMOVE THIS\n",
    "\n",
    "        #del score_per_dropped_feature #### RETURN THIS\n",
    "        # Return feature name\n",
    "        #return worst_feature, best_score, best_preds\n",
    "        \n",
    "        #### =========================================================================================== ####\n",
    "        #### NEW RETURN DEFINED                                                                             #\n",
    "        #### ---------------------------------------------------------------------------------------------- #\n",
    "        return score_per_dropped_feature                                                                    #\n",
    "        #### Returns a list of tuples with three entries: str(feature_name), float(score), np.array(preds)  #\n",
    "        #### =========================================================================================== ####\n",
    "        ### TO DO ###\n",
    "        # Add functionality to possibly save trained models \n",
    "        # Will take up large memory, may be unfeasible\n",
    "        ### TO DO ###\n",
    "    \n",
    "    def compare_best_models(\n",
    "            self,\n",
    "            m1,\n",
    "            m2\n",
    "        ): \n",
    "        # Copy all features initially\n",
    "        # for both models\n",
    "        new_feature_list_m1 = self.initial_feature_list.copy()\n",
    "        new_feature_list_m2 = self.initial_feature_list.copy()\n",
    "        # Aggreeability scores\n",
    "        results = []\n",
    "        # First fit models w/o any removed features\n",
    "        # Flat lists for fitting\n",
    "        full_fit_m1 = feature_list_flatten(new_feature_list_m1)\n",
    "        full_fit_m2 = feature_list_flatten(new_feature_list_m2)\n",
    "        m1.fit(self.X[full_fit_m1], self.y)\n",
    "        m2.fit(self.X[full_fit_m2], self.y)\n",
    "        # Predict on validation set\n",
    "        if self.validation_data:\n",
    "            # Model 1\n",
    "            m1_preds = m1.predict(self.X_val[full_fit_m1])\n",
    "            m1_score = self.criterion_registry[self.criterion](self.y_val, m1_preds)\n",
    "            # Model 2\n",
    "            m2_preds = m2.predict(self.X_val[full_fit_m2])\n",
    "            m2_score = self.criterion_registry[self.criterion](self.y_val, m2_preds)\n",
    "            # Aggreeability Score\n",
    "            agreeability_coeff = self.agreeability_registry[self.agreeability](m1_preds, m2_preds)\n",
    "        # Predict on training set\n",
    "        else:\n",
    "            # Model 1\n",
    "            m1_preds = m1.predict(self.X[full_fit_m1])\n",
    "            m1_score = self.criterion_registry[self.criterion](self.y, m1_preds)\n",
    "            # Model 2\n",
    "            m2_preds = m2.predict(self.X[full_fit_m2])\n",
    "            m2_score = self.criterion_registry[self.criterion](self.y, m2_preds)\n",
    "            # Agreeability score\n",
    "            agreeability_coeff = self.agreeability_registry[self.agreeability](m1_preds, m2_preds)\n",
    "        \n",
    "        # Append to results\n",
    "        \n",
    "        results.append({\n",
    "            f'Best: M1 Included Features': full_fit_m1.copy(),\n",
    "            f'Best: M1 {self.criterion.upper()}': m1_score,\n",
    "            f'Best: M2 Included Features': full_fit_m2.copy(),\n",
    "            f'Best: M2 {self.criterion.upper()}': m2_score,\n",
    "            f'Best: Agreeability ({self.agreeability})': agreeability_coeff,\n",
    "            })            \n",
    "\n",
    "        ### DEBUG PRINTS\n",
    "        print(f'Initial run: fitted both models with full feature set.')\n",
    "        print(f'-' * 150)\n",
    "        print(f'Model 1 included: {new_feature_list_m1}. {self.criterion.upper()}: {m1_score}')\n",
    "        print(f'Model 2 included: {new_feature_list_m2}. {self.criterion.upper()}: {m2_score}')\n",
    "        print(f'-' * 150)\n",
    "        print(f'Agreeability Coefficient ({self.agreeability}): {agreeability_coeff}')\n",
    "        print(f'=' * 150)\n",
    "        ### DEBUG PRINTS   \n",
    "        \n",
    "        ### DEBUG\n",
    "        counter = 0\n",
    "        ### DEBUG\n",
    "\n",
    "        # Begin loop to deselect and evaluate\n",
    "        while len(new_feature_list_m1) > 1 and len(new_feature_list_m2) > 1:\n",
    "\n",
    "            ### DEBUG\n",
    "            counter += 1    \n",
    "            ### DEBUG    \n",
    "\n",
    "            # Obtain worst_feature, score and preds from deselect_feature functions\n",
    "            #worst_feature_m1, m1_score, m1_preds = self._deselect_feature(new_feature_list_m1, m1)\n",
    "            #worst_feature_m2, m2_score, m2_preds = self._deselect_feature(new_feature_list_m2, m2)\n",
    "            # Update included feature lists\n",
    "            #new_feature_list_m1.remove(worst_feature_m1) \n",
    "            #new_feature_list_m2.remove(worst_feature_m2)\n",
    "\n",
    "            # Obtain the score lists (removed feature, corresponding score, corresponding preds)\n",
    "            score_per_dropped_feature_m1 = self._deselect_feature(new_feature_list_m1, m1)\n",
    "            score_per_dropped_feature_m2 = self._deselect_feature(new_feature_list_m2, m2)\n",
    "\n",
    "            # Get the worst_feature, best_score, best_preds\n",
    "            worst_feature_m1, m1_score, m1_preds = self.find_worst_feature(score_per_dropped_feature_m1)\n",
    "            worst_feature_m2, m2_score, m2_preds = self.find_worst_feature(score_per_dropped_feature_m2)\n",
    "\n",
    "            # Update included feature lists\n",
    "            new_feature_list_m1.remove(worst_feature_m1)\n",
    "            new_feature_list_m2.remove(worst_feature_m2)\n",
    "            # Flat lists to append to results\n",
    "            flat_feature_list_m1 = feature_list_flatten(new_feature_list_m1)\n",
    "            flat_feature_list_m2 = feature_list_flatten(new_feature_list_m2)\n",
    "\n",
    "            # Compute agreeability\n",
    "            agreeability_coeff = self.agreeability_registry[self.agreeability](m1_preds, m2_preds)\n",
    "            # Append to results\n",
    "            results.append({\n",
    "                'Model 1 Included Features': flat_feature_list_m1.copy(),\n",
    "                f'Model 1 {self.criterion.upper()}': m1_score,\n",
    "                'Model 2 Included Features': flat_feature_list_m2.copy(),\n",
    "                f'Model 2 {self.criterion.upper()}': m2_score,\n",
    "                f'Agreeability Coefficient ({self.agreeability})': agreeability_coeff\n",
    "            })\n",
    "\n",
    "            ### DEBUG PRINTS\n",
    "            print(f'Iteration {counter}:')\n",
    "            print(f'-' * 150)\n",
    "            print(f'Model 1 included: {new_feature_list_m1}. {self.criterion.upper()}: {m1_score}')\n",
    "            print(f'Model 2 included: {new_feature_list_m2}. {self.criterion.upper()}: {m2_score}')\n",
    "            print(f'-' * 150)\n",
    "            print(f'Agreeability Coefficient ({self.agreeability}): {agreeability_coeff}')\n",
    "            print(f'=' * 150)\n",
    "            ### DEBUG PRINTS\n",
    "        # Save results\n",
    "        self.results = results\n",
    "        # Return results\n",
    "        return results\n",
    "    \n",
    "### Order for best for best    \n",
    "    def compare_all_models(\n",
    "            self,\n",
    "            m1,\n",
    "            m2\n",
    "        ):\n",
    "        '''\n",
    "        No docstring yet.\n",
    "        ''' \n",
    "        # Copy all features initially\n",
    "        # for both models\n",
    "        new_feature_list_m1 = self.initial_feature_list.copy()\n",
    "        new_feature_list_m2 = self.initial_feature_list.copy()\n",
    "        # Aggreeability scores\n",
    "        results = []\n",
    "        # Flat lists for fitting\n",
    "        full_fit_m1 = feature_list_flatten(new_feature_list_m1)\n",
    "        full_fit_m2 = feature_list_flatten(new_feature_list_m2)\n",
    "        # First fit models w/o any removed features\n",
    "        m1.fit(self.X[full_fit_m1], self.y)\n",
    "        m2.fit(self.X[full_fit_m2], self.y)\n",
    "        # Predict on validation set\n",
    "        if self.validation_data:\n",
    "            # Model 1\n",
    "            m1_preds = m1.predict(self.X_val[full_fit_m1])\n",
    "            best_score_m1 = self.criterion_registry[self.criterion](self.y_val, m1_preds)\n",
    "            # Model 2\n",
    "            m2_preds = m2.predict(self.X_val[full_fit_m2])\n",
    "            best_score_m2 = self.criterion_registry[self.criterion](self.y_val, m2_preds)\n",
    "            # Aggreeability Score\n",
    "            agreeability_coeff = self.agreeability_registry[self.agreeability](m1_preds, m2_preds)\n",
    "        # Predict on training set\n",
    "        else:\n",
    "            # Model 1\n",
    "            m1_preds = m1.predict(self.X[full_fit_m1])\n",
    "            best_score_m1 = self.criterion_registry[self.criterion](self.y, m1_preds)\n",
    "            # Model 2\n",
    "            m2_preds = m2.predict(self.X[full_fit_m2])\n",
    "            best_score_m2 = self.criterion_registry[self.criterion](self.y, m2_preds)\n",
    "            # Agreeability score\n",
    "            agreeability_coeff = self.agreeability_registry[self.agreeability](m1_preds, m2_preds)\n",
    "        \n",
    "        # Append to results\n",
    "        #### TO FIX\n",
    "        #### Since the first run is on entire dataset, - mean agreeability == agreeability, stdev == 0\n",
    "        #results.append({\n",
    "            #f'Best: M1 Included Features': new_feature_list_m1.copy(),\n",
    "            #f'Best: M1 {self.criterion.upper()}': best_score_m1,\n",
    "            #f'Best: M2 Included Features': new_feature_list_m2.copy(),\n",
    "            #f'Best: M2 {self.criterion.upper()}': best_score_m2,\n",
    "            #f'Best: Agreeability ({self.agreeability})': agreeability_coeff,\n",
    "            #f'All: Mean Agreeability ({self.agreeability})': np.mean(agreeability_coeff),\n",
    "            #f'All: Agreeability St. Dev.': np.std(agreeability_coeff)\n",
    "        #})          \n",
    "\n",
    "        results.append({\n",
    "            f'Best: M1 Included Features': full_fit_m1.copy(),\n",
    "            f'Best: M1 {self.criterion}': best_score_m1,\n",
    "            f'Best: M2 Included Features': full_fit_m2.copy(),\n",
    "            f'Best: M2 {self.criterion}': best_score_m2,\n",
    "            f'Best: Agreeability ({self.agreeability})': agreeability_coeff,\n",
    "            f'All: M1 Mean {self.criterion}': best_score_m1,\n",
    "            f'All: M1 STD {self.criterion}': 0,\n",
    "            f'All: M2 Mean {self.criterion}': best_score_m2,\n",
    "            f'All: M2 STD {self.criterion}': 0,\n",
    "            f'All: Mean Agreeability ({self.agreeability})': agreeability_coeff,\n",
    "            f'All: Agreeability St. Dev.': 0\n",
    "            })      \n",
    "\n",
    "        ### DEBUG PRINTS\n",
    "        print(f'Initial run: fitted both models with full feature set.')\n",
    "        print(f'-' * 150)\n",
    "        print(f'Model 1 included: {new_feature_list_m1}. {self.criterion.upper()}: {best_score_m1:.4f}')\n",
    "        print(f'Model 2 included: {new_feature_list_m2}. {self.criterion.upper()}: {best_score_m2:.4f}')\n",
    "        print(f'-' * 150)\n",
    "        print(f'Agreeability Coefficient ({self.agreeability}): {agreeability_coeff:.4f}')\n",
    "        print(f'=' * 150)\n",
    "        ### DEBUG PRINTS   \n",
    "        \n",
    "        ### DEBUG\n",
    "        counter = 0\n",
    "        ### DEBUG\n",
    "\n",
    "        # Begin loop to deselect and evaluate\n",
    "        while len(new_feature_list_m1) > 1 and len(new_feature_list_m2) > 1:\n",
    "\n",
    "            ### DEBUG\n",
    "            counter += 1    \n",
    "            ### DEBUG    \n",
    "\n",
    "            # Obtain worst_feature, score and preds from deselect_feature functions\n",
    "            #worst_feature_m1, m1_score, m1_preds = self._deselect_feature(new_feature_list_m1, m1)\n",
    "            #worst_feature_m2, m2_score, m2_preds = self._deselect_feature(new_feature_list_m2, m2)\n",
    "            # Update included feature lists\n",
    "            #new_feature_list_m1.remove(worst_feature_m1) \n",
    "            #new_feature_list_m2.remove(worst_feature_m2)\n",
    "\n",
    "            # Obtain the score lists (removed feature, score, preds)\n",
    "            score_per_dropped_feature_m1 = self._deselect_feature(new_feature_list_m1, m1)\n",
    "            score_per_dropped_feature_m2 = self._deselect_feature(new_feature_list_m2, m2)\n",
    "\n",
    "            # Sort the list\n",
    "            # Note that after sorting row results will not match iteration for iteration in _deselect_feature runs for m1 and m2\n",
    "            score_per_dropped_feature_m1 = self.sort_scores(score_per_dropped_feature_m1)\n",
    "            score_per_dropped_feature_m2 = self.sort_scores(score_per_dropped_feature_m2)\n",
    "\n",
    "            ####################################################################################################################\n",
    "            ############################################### HANDLE SCORES ######################################################\n",
    "            ####################################################################################################################\n",
    "            \n",
    "            # Obtain all scores for m1 and m2\n",
    "            all_scores_m1 = [row[1] for row in score_per_dropped_feature_m1]\n",
    "            all_scores_m2 = [row[1] for row in score_per_dropped_feature_m2]\n",
    "            # Obtain all preds for m1 and m2\n",
    "            all_preds_m1 = [row[2] for row in score_per_dropped_feature_m1]\n",
    "            all_preds_m2 = [row[2] for row in score_per_dropped_feature_m2]\n",
    "            # Append to respective containers ####### TO BE USED IN A NEW METHOD FOR TESTING #########\n",
    "            self.scores_and_preds_m1.append((all_scores_m1, all_preds_m1))\n",
    "            self.scores_and_preds_m2.append((all_scores_m2, all_preds_m2))\n",
    "            # Get best scores \n",
    "            best_score_m1 = all_scores_m1[0]\n",
    "            best_score_m2 = all_scores_m2[0]\n",
    "            # Average of all scores\n",
    "            mean_score_m1 = np.mean(all_scores_m1)\n",
    "            mean_score_m2 = np.mean(all_scores_m2)\n",
    "            # Get std-s of all scores (a bit manually not to recompute means implicitly by using np.std())\n",
    "            std_score_m1 = np.sqrt(np.mean((all_scores_m1 - mean_score_m1) ** 2))\n",
    "            std_score_m2 = np.sqrt(np.mean((all_scores_m2 - mean_score_m2) ** 2))\n",
    "\n",
    "            ####################################################################################################################\n",
    "            ############################################ HANDLE AGREEABILITY ###################################################\n",
    "            ####################################################################################################################\n",
    "\n",
    "            # Get all predictions from both models as a list of lists\n",
    "            # This will iterate row for row in the third column of the containers, where prediction arrays are given. \n",
    "            all_preds_m1 = [row[2] for row in score_per_dropped_feature_m1]\n",
    "            all_preds_m2 = [row[2] for row in score_per_dropped_feature_m2]\n",
    "\n",
    "            # Get agreeability measures row for row\n",
    "            # Result will be ordered s.t. entry on top is from the two models with best performance going all the way down to worst\n",
    "\n",
    "            all_agreeabilities = [self.agreeability_registry[self.agreeability](all_preds_m1[i], all_preds_m2[i]) for i in range(len(all_preds_m1))]\n",
    "            # Grab the agreeability coefficient between the predictions of best models\n",
    "            agreeability_coeff = all_agreeabilities[0]\n",
    "            # Takes average of all agreeability coeffs\n",
    "            mean_agreeability = np.mean(all_agreeabilities)\n",
    "            std_agreeability = np.std(all_agreeabilities)\n",
    "\n",
    "            ####################################################################################################################\n",
    "            ############################################## HANDLE FEATURES #####################################################\n",
    "            #################################################################################################################### \n",
    "\n",
    "            #### FOR BETTER READABILITY DEFINE ALL VARIABLES INDIVIDUALLY\n",
    "            worst_feature_m1 = score_per_dropped_feature_m1[0][0]\n",
    "            worst_feature_m2 = score_per_dropped_feature_m2[0][0]\n",
    "            # Update included feature lists\n",
    "            new_feature_list_m1.remove(worst_feature_m1)\n",
    "            new_feature_list_m2.remove(worst_feature_m2)\n",
    "            # Flat lists to append to results\n",
    "            flat_feature_list_m1 = feature_list_flatten(new_feature_list_m1)\n",
    "            flat_feature_list_m2 = feature_list_flatten(new_feature_list_m2)\n",
    "            #### ADD A TOPRINT METHOD SOMEWHERE TO MAKE SURE WE ARE NOT calling .upper() uselessly -- for the time being removed uppers.\n",
    "            # Append to results\n",
    "            results.append({\n",
    "                f'Best: M1 Included Features': flat_feature_list_m1.copy(),\n",
    "                f'Best: M1 {self.criterion}': best_score_m1,\n",
    "                f'Best: M2 Included Features': flat_feature_list_m2.copy(),\n",
    "                f'Best: M2 {self.criterion}': best_score_m2,\n",
    "                f'Best: Agreeability ({self.agreeability})': agreeability_coeff,\n",
    "                f'All: M1 Mean {self.criterion}': mean_score_m1,\n",
    "                f'All: M1 STD {self.criterion}': std_score_m1,\n",
    "                f'All: M2 Mean {self.criterion}': mean_score_m2,\n",
    "                f'All: M2 STD {self.criterion}': std_score_m2,\n",
    "                f'All: Mean Agreeability ({self.agreeability})': mean_agreeability,\n",
    "                f'All: Agreeability St. Dev.': std_agreeability\n",
    "            })  \n",
    "\n",
    "        \n",
    "            ### DEBUG PRINTS\n",
    "            print(f'Iteration {counter}:')\n",
    "            print(f'-' * 150)\n",
    "            print(f'Results from best models:')\n",
    "            print(f'Best Model 1 included: {new_feature_list_m1}. {self.criterion.upper()}: {best_score_m1:.4f}')\n",
    "            print(f'Best Model 2 included: {new_feature_list_m2}. {self.criterion.upper()}: {best_score_m2:.4f}')\n",
    "            print(f'Agreeability Coefficient ({self.agreeability}) between best models: {agreeability_coeff}')\n",
    "            print(f'-' * 150)\n",
    "            print(f'Results from all models:')\n",
    "            print(f'M1 mean score: {mean_score_m1:.4f}. Standard deviation: {std_score_m1:.4f}')\n",
    "            print(f'M1 mean score: {mean_score_m2:.4f}. Standard deviation: {std_score_m2:.4f}')\n",
    "            print(f'Mean agreeability coefficient ({self.agreeability}): {mean_agreeability:.4f}. Standard deviation: {std_agreeability:.4f}')\n",
    "            print(f'=' * 150)\n",
    "            ### DEBUG PRINTS\n",
    "        # Save results\n",
    "        self.results = results\n",
    "        # Return results\n",
    "        return results\n",
    "\n",
    "    def compare_n_best(self, \n",
    "                       n=None,\n",
    "                       test=None):\n",
    "        '''\n",
    "        Method for pair-wise comparison of n amount of best predictions obtained by the models.\n",
    "        The pairwise tests are conducted within the predictions of each models and will test if predictions obtained are statistically significantly different from each other.\n",
    "        \n",
    "        Args:\n",
    "            n (int): How many best results to compare.\n",
    "            test (str): Statistical test to use. Options: 'mcnemar_binomial' and 'mcnemar_chisquare' for binary classification. 't_test' for regression.\n",
    "        \n",
    "        Returns:\n",
    "            None. pval_and_stats_m1 and pval_and_stats_m2 are callable lists containing corresponding test statistics and p-values.\n",
    "        \n",
    "        Example: Setting n=3 will test:\n",
    "                - M1: best predictions against second best predictions; second best predictions and third best predictions.\n",
    "                - M2: best predictions against second best predictions; second best predictions and third best predictions. \n",
    "        '''\n",
    "        # Make sure the search is alrady ran and results are there.\n",
    "        if not self.scores_and_preds_m1 and not self.scores_and_preds_m2:\n",
    "            raise ValueError('No predictions found. Run a comparison algorithm first.')\n",
    "        # Make sure n != value more than available best predictions\n",
    "        if n > len(self.scores_and_preds_m1):\n",
    "            raise ValueError(f'Picked n is more than available amount of best predictions. Use n <= {len(self.scores_and_preds_m1)}.')\n",
    "        # Make sure test supported\n",
    "        if test not in self.testing_registry:\n",
    "            raise ValueError(\"Test not supported. Please use 'mcnemar_binomial' or 'mcnemar_chisquare' for classification or 't_test' for regression.\")\n",
    "        # Empty containers\n",
    "        self.pval_and_stats_m1 = []\n",
    "        self.pval_and_stats_m2 = []\n",
    "        # Iterate n-1 times\n",
    "        for i in range(n-1):\n",
    "            # Get result for model 1\n",
    "            pval_m1, stat_m1 = self.testing_registry[test](\n",
    "                self.scores_and_preds_m1[i][1][0],\n",
    "                self.scores_and_preds_m1[i+1][1][0],\n",
    "                self.y_val\n",
    "            )\n",
    "            self.pval_and_stats_m1.append((pval_m1, stat_m1))\n",
    "            # Get result for model 2\n",
    "            pval_m2, stat_m2 = self.testing_registry[test](\n",
    "                self.scores_and_preds_m2[i][1][0],\n",
    "                self.scores_and_preds_m2[i+1][1][0],\n",
    "                self.y_val\n",
    "            )\n",
    "            self.pval_and_stats_m2.append((pval_m2, stat_m2))\n",
    "            print(f'Model 1: Results for No. {i+1} and No. {i+2} best predictions: P-value: {pval_m1:.8f}. Test statistic: {stat_m1:.8f}.')\n",
    "            print(f'Model 2: Results for No. {i+1} and No. {i+2} best predictions: P-value: {pval_m2:.8f}. Test statistic: {stat_m2:.8f}.')\n",
    "            print('='*120)\n",
    "\n",
    "        #### REMOVE DESELECT_INPROG REMOVE DESELECT_INPROG REMOVE DESELECT_INPROG\n",
    "\n",
    "    # Method to turn results into a df\n",
    "    def dataframe_from_results(self):\n",
    "        '''\n",
    "        Return results as a dataframe.\n",
    "        '''\n",
    "        # Check if results exist\n",
    "        if not self.results:\n",
    "            raise ValueError(\"There are no results available. Make sure to run compare_models first.\")\n",
    "        # Return results\n",
    "        return pd.DataFrame(self.results)\n",
    "    \n",
    "    # Method to turn results into an interactive plot\n",
    "    def plot_from_results(self):\n",
    "        '''\n",
    "        Makes an interactive plot from the results.\n",
    "        '''\n",
    "        if not self.results:\n",
    "            raise ValueError(\"There are no results available. Make sure to run compare_models first.\")\n",
    "        df = pd.DataFrame(self.results)\n",
    "\n",
    "        df['Summary_Agreeability'] = df.apply(lambda row: f\"<br> {df.columns[4]}: <br> {row.iloc[4]:.4f} <br> {df.columns[9]}: <br> {row.iloc[9]:.4f} <br> {df.columns[10]}: <br> {row.iloc[10]:.4f}\", axis=1)\n",
    "        df['Summary_M1'] = df.apply(lambda row: f\"<br> {df.columns[1]}: <br> {row.iloc[1]:.4f} <br> {df.columns[0]}: <br> {', '.join(row.iloc[0])} <br> {df.columns[5]}: <br> {row.iloc[5]:.4f} <br> {df.columns[6]}: <br> {row.iloc[6]:.4f}\", axis=1)\n",
    "        df['Summary_M2'] = df.apply(lambda row: f\"<br> {df.columns[3]}: <br> {row.iloc[3]:.4f} <br> {df.columns[2]}: <br> {', '.join(row.iloc[2])} <br> {df.columns[7]}: <br> {row.iloc[7]:.4f} <br> {df.columns[8]}: <br> {row.iloc[8]:.4f}\", axis=1)\n",
    "\n",
    "\n",
    "        fig = make_subplots(\n",
    "            specs=[[{'secondary_y': True}]]\n",
    "        )\n",
    "\n",
    "        # Plot agreeability\n",
    "        fig.add_trace(\n",
    "            go.Scatter(\n",
    "            x=df.index + 1,\n",
    "            y=df.iloc[:, 4],\n",
    "            name=f'{df.columns[4]}',\n",
    "            mode='lines+markers',\n",
    "            hovertext=df['Summary_Agreeability'],\n",
    "            hoverinfo='text' \n",
    "            ),\n",
    "            secondary_y=False\n",
    "        )\n",
    "\n",
    "        # Plot model 1 score\n",
    "        fig.add_trace(\n",
    "            go.Scatter(\n",
    "                x=df.index + 1,\n",
    "                y=df.iloc[:, 1],\n",
    "                name=f'{df.columns[1]}',\n",
    "                mode='lines+markers',\n",
    "                hovertext=df['Summary_M1'],\n",
    "                hoverinfo='text'\n",
    "            ),\n",
    "            secondary_y=True\n",
    "        )\n",
    "\n",
    "        # Plot model 2 score\n",
    "        fig.add_trace(\n",
    "            go.Scatter(\n",
    "                x=df.index+1,\n",
    "                y=df.iloc[:, 3],\n",
    "                name=f'{df.columns[3]}',\n",
    "                mode='lines+markers',\n",
    "                hovertext=df['Summary_M2'],\n",
    "                hoverinfo='text'\n",
    "            ),\n",
    "            secondary_y=True\n",
    "        )\n",
    "\n",
    "        fig.update_layout(\n",
    "            title='Agreeability Coefficients and Model Scores Over Algorithm Iterations',\n",
    "            xaxis_title='Iteration',\n",
    "            yaxis_title='Agreeability',\n",
    "            yaxis2_title='Model Scores',\n",
    "            hovermode='closest'\n",
    "        )\n",
    "\n",
    "        fig.update_xaxes(type='category')\n",
    "        fig.show()"
   ]
  },
  {
   "cell_type": "markdown",
   "metadata": {},
   "source": [
    "Before running the algorithm I just look at all the columns I have:"
   ]
  },
  {
   "cell_type": "code",
   "execution_count": 12,
   "metadata": {},
   "outputs": [
    {
     "data": {
      "text/plain": [
       "Index(['MedInc', 'HouseAge', 'AveRooms', 'AveBedrms', 'Population', 'AveOccup',\n",
       "       'Latitude', 'Longitude', 'MedHouseVal', 'HouseEval_nice',\n",
       "       'HouseEval_not_nice', 'WallColors_gray', 'WallColors_white'],\n",
       "      dtype='object')"
      ]
     },
     "execution_count": 12,
     "metadata": {},
     "output_type": "execute_result"
    }
   ],
   "source": [
    "df.columns"
   ]
  },
  {
   "cell_type": "markdown",
   "metadata": {},
   "source": [
    "Below I demonstrate two of the new functionalities I added:\n",
    "- **Grouping dummy-encoded variables:** It would not make sense to treat dummy variables generated from categorical variables as individual features. Therefore in the framework I ensured you can provide the variable names and the algorithm treats them as one feature.<br>\n",
    "- **Fixing features:** You can choose variables that you want to exclude from feature selection (in other words, include them in every model built and fitted).<br>"
   ]
  },
  {
   "cell_type": "markdown",
   "metadata": {},
   "source": [
    "The dummy groups must be provided as a list of lists. Below I show a list that includes two sub-lists. In each sublist, I include the exact names of the variables (as strings). The algorithm will then treat each sublist as *one* feature when selecting features to drop. "
   ]
  },
  {
   "cell_type": "code",
   "execution_count": 13,
   "metadata": {},
   "outputs": [
    {
     "data": {
      "text/plain": [
       "[['HouseEval_nice', 'HouseEval_not_nice'],\n",
       " ['WallColors_gray', 'WallColors_white']]"
      ]
     },
     "execution_count": 13,
     "metadata": {},
     "output_type": "execute_result"
    }
   ],
   "source": [
    "dummy_list = [\n",
    "    ['HouseEval_nice', 'HouseEval_not_nice'],\n",
    "    ['WallColors_gray', 'WallColors_white']\n",
    "]\n",
    "dummy_list"
   ]
  },
  {
   "cell_type": "markdown",
   "metadata": {},
   "source": [
    "The features to fix must be provided as a list that contains the names of features to always keep in the models as string. Additionaly, a list with dummy column names can be given to fix them in place as well. \n",
    "\n",
    "*Note* that eventually when I run the algorithm I do not provide any features to fix, even though I demonstrate it here."
   ]
  },
  {
   "cell_type": "code",
   "execution_count": 14,
   "metadata": {},
   "outputs": [
    {
     "data": {
      "text/plain": [
       "['Latitude', 'Longitude', ['WallColors_gray', 'WallColors_white']]"
      ]
     },
     "execution_count": 14,
     "metadata": {},
     "output_type": "execute_result"
    }
   ],
   "source": [
    "ftofix = [\n",
    "    'Latitude',\n",
    "    'Longitude',\n",
    "    ['WallColors_gray', 'WallColors_white']\n",
    "]\n",
    "ftofix"
   ]
  },
  {
   "cell_type": "markdown",
   "metadata": {},
   "source": [
    "### Running a regression task"
   ]
  },
  {
   "cell_type": "code",
   "execution_count": 15,
   "metadata": {},
   "outputs": [],
   "source": [
    "# Import the train-test splitting function from sklearn\n",
    "from sklearn.model_selection import train_test_split"
   ]
  },
  {
   "cell_type": "code",
   "execution_count": 16,
   "metadata": {},
   "outputs": [
    {
     "name": "stdout",
     "output_type": "stream",
     "text": [
      "<class 'pandas.core.frame.DataFrame'>\n",
      "RangeIndex: 20640 entries, 0 to 20639\n",
      "Data columns (total 13 columns):\n",
      " #   Column              Non-Null Count  Dtype  \n",
      "---  ------              --------------  -----  \n",
      " 0   MedInc              20640 non-null  float64\n",
      " 1   HouseAge            20640 non-null  float64\n",
      " 2   AveRooms            20640 non-null  float64\n",
      " 3   AveBedrms           20640 non-null  float64\n",
      " 4   Population          20640 non-null  float64\n",
      " 5   AveOccup            20640 non-null  float64\n",
      " 6   Latitude            20640 non-null  float64\n",
      " 7   Longitude           20640 non-null  float64\n",
      " 8   MedHouseVal         20640 non-null  float64\n",
      " 9   HouseEval_nice      20640 non-null  uint8  \n",
      " 10  HouseEval_not_nice  20640 non-null  uint8  \n",
      " 11  WallColors_gray     20640 non-null  uint8  \n",
      " 12  WallColors_white    20640 non-null  uint8  \n",
      "dtypes: float64(9), uint8(4)\n",
      "memory usage: 1.5 MB\n"
     ]
    }
   ],
   "source": [
    "df.info()"
   ]
  },
  {
   "cell_type": "code",
   "execution_count": 17,
   "metadata": {},
   "outputs": [],
   "source": [
    "# Save the target variable as y\n",
    "y = df['MedHouseVal']\n",
    "# Save the rest of the predictors as X\n",
    "X = df.drop('MedHouseVal', axis=1)\n"
   ]
  },
  {
   "cell_type": "code",
   "execution_count": 18,
   "metadata": {},
   "outputs": [],
   "source": [
    "# Obtain training and validation sets of 0.8-0.2 proportion. random_state=66 ensures i get same split whenever I re-run the train test split function \n",
    "X_train, X_val, y_train, y_val = train_test_split(X, y, test_size=0.2, random_state=66)"
   ]
  },
  {
   "cell_type": "code",
   "execution_count": 19,
   "metadata": {},
   "outputs": [],
   "source": [
    "# Import linear regression from sklearn\n",
    "from sklearn.linear_model import LinearRegression\n",
    "# Import decision tree regressor from sklearn\n",
    "from sklearn.tree import DecisionTreeRegressor"
   ]
  },
  {
   "cell_type": "code",
   "execution_count": 20,
   "metadata": {},
   "outputs": [],
   "source": [
    "# set up model1\n",
    "m1 = LinearRegression()\n",
    "# set up model2\n",
    "m2 = DecisionTreeRegressor()"
   ]
  },
  {
   "cell_type": "code",
   "execution_count": 21,
   "metadata": {},
   "outputs": [
    {
     "name": "stdout",
     "output_type": "stream",
     "text": [
      "\u001b[0;31mInit signature:\u001b[0m\n",
      "\u001b[0mBackEliminator\u001b[0m\u001b[0;34m(\u001b[0m\u001b[0;34m\u001b[0m\n",
      "\u001b[0;34m\u001b[0m    \u001b[0mX\u001b[0m\u001b[0;34m=\u001b[0m\u001b[0;32mNone\u001b[0m\u001b[0;34m,\u001b[0m\u001b[0;34m\u001b[0m\n",
      "\u001b[0;34m\u001b[0m    \u001b[0my\u001b[0m\u001b[0;34m=\u001b[0m\u001b[0;32mNone\u001b[0m\u001b[0;34m,\u001b[0m\u001b[0;34m\u001b[0m\n",
      "\u001b[0;34m\u001b[0m    \u001b[0mvalidation_data\u001b[0m\u001b[0;34m=\u001b[0m\u001b[0;32mNone\u001b[0m\u001b[0;34m,\u001b[0m\u001b[0;34m\u001b[0m\n",
      "\u001b[0;34m\u001b[0m    \u001b[0mtask_type\u001b[0m\u001b[0;34m=\u001b[0m\u001b[0;32mNone\u001b[0m\u001b[0;34m,\u001b[0m\u001b[0;34m\u001b[0m\n",
      "\u001b[0;34m\u001b[0m    \u001b[0mcriterion\u001b[0m\u001b[0;34m=\u001b[0m\u001b[0;32mNone\u001b[0m\u001b[0;34m,\u001b[0m\u001b[0;34m\u001b[0m\n",
      "\u001b[0;34m\u001b[0m    \u001b[0magreeability\u001b[0m\u001b[0;34m=\u001b[0m\u001b[0;32mNone\u001b[0m\u001b[0;34m,\u001b[0m\u001b[0;34m\u001b[0m\n",
      "\u001b[0;34m\u001b[0m    \u001b[0mdummy_list\u001b[0m\u001b[0;34m=\u001b[0m\u001b[0;32mNone\u001b[0m\u001b[0;34m,\u001b[0m\u001b[0;34m\u001b[0m\n",
      "\u001b[0;34m\u001b[0m    \u001b[0mfeatures_to_fix\u001b[0m\u001b[0;34m=\u001b[0m\u001b[0;32mNone\u001b[0m\u001b[0;34m,\u001b[0m\u001b[0;34m\u001b[0m\n",
      "\u001b[0;34m\u001b[0m\u001b[0;34m)\u001b[0m\u001b[0;34m\u001b[0m\u001b[0;34m\u001b[0m\u001b[0m\n",
      "\u001b[0;31mDocstring:\u001b[0m     \n",
      "The class is built for conducting backwards feature elimination in combination with model agreeability. A more detailed documentation will follow.\n",
      "\n",
      "Args:\n",
      "    X (pd.DataFrame): A pandas dataframe containing predictors.\n",
      "    y (pd.DataFrame): A pandas dataframe containing target.\n",
      "    validation_data (tuple): A tuple of validation data (X_val, y_val).\n",
      "    task_type (str): String for task type. Available options - 'classification' or 'regression'.\n",
      "    criterion (str): String for intra-model evaluation criterion. Available options: 'mse', 'rmse', 'mae', 'accuracy', 'precision', 'recall', 'f1'.\n",
      "    agreeability (str): String for inter-model comparison. Available options: 'pearson', 'cohen_kappa'\n",
      "    dummy_list (list): List of lists containing column names (str) of dummy features generated from a categorical variable. (Optional).\n",
      "    features_to_fix (list): List containing column names (str) of features that will be excluded from feature elimination and thus always included in modeling. (Optional)\n",
      "\n",
      "Regression Example:\n",
      "    seeker = Backeliminator(\n",
      "        X=X_train,\n",
      "        y=y_train,\n",
      "        validation_data=(X_val, y_val),\n",
      "        task_type='regression',\n",
      "        criterion='rmse',\n",
      "        agreeability='pearson',\n",
      "        dummy_list=[\n",
      "            ['dummy_1_from_variable_1', 'dummy_2_from_variable_1'],\n",
      "            ['dummy_1_from_variable_2', 'dummy_2_from_variable_2', 'dummy_3_from_variable_2']\n",
      "        ],\n",
      "        features_to_fix=[\n",
      "            'variable_3',\n",
      "            'variable_4'\n",
      "        ]\n",
      "    )\n",
      "\n",
      "Classification Example:\n",
      "    seeker = Backeliminator(\n",
      "        X=X_train,\n",
      "        y=y_train,\n",
      "        validation_data=(X_val, y_val),\n",
      "        task_type='classification',\n",
      "        criterion='f1',\n",
      "        agreeability='cohen_kappa',\n",
      "        dummy_list=[\n",
      "            ['dummy_1_from_variable_1', 'dummy_2_from_variable_1'],\n",
      "            ['dummy_1_from_variable_2', 'dummy_2_from_variable_2', 'dummy_3_from_variable_2']\n",
      "        ],\n",
      "        features_to_fix=[\n",
      "            'variable_3',\n",
      "            'variable_4'\n",
      "        ]\n",
      "    )    \n",
      "\u001b[0;31mType:\u001b[0m           type\n",
      "\u001b[0;31mSubclasses:\u001b[0m     "
     ]
    }
   ],
   "source": [
    "# We can look at my documentation for the BackEliminator\n",
    "BackEliminator?"
   ]
  },
  {
   "cell_type": "code",
   "execution_count": 22,
   "metadata": {},
   "outputs": [],
   "source": [
    "# Initialize the python class.\n",
    "seeker = BackEliminator(\n",
    "    X=X_train,\n",
    "    y=y_train,\n",
    "    validation_data=(X_val, y_val),\n",
    "    task_type='regression',\n",
    "    criterion='rmse',\n",
    "    agreeability='pearson',\n",
    "    dummy_list=dummy_list,\n",
    ")"
   ]
  },
  {
   "cell_type": "code",
   "execution_count": 23,
   "metadata": {},
   "outputs": [
    {
     "name": "stdout",
     "output_type": "stream",
     "text": [
      "Initial run: fitted both models with full feature set.\n",
      "------------------------------------------------------------------------------------------------------------------------------------------------------\n",
      "Model 1 included: ['MedInc', 'HouseAge', 'AveRooms', 'AveBedrms', 'Population', 'AveOccup', 'Latitude', 'Longitude', ['HouseEval_nice', 'HouseEval_not_nice'], ['WallColors_gray', 'WallColors_white']]. RMSE: 0.7314\n",
      "Model 2 included: ['MedInc', 'HouseAge', 'AveRooms', 'AveBedrms', 'Population', 'AveOccup', 'Latitude', 'Longitude', ['HouseEval_nice', 'HouseEval_not_nice'], ['WallColors_gray', 'WallColors_white']]. RMSE: 0.7327\n",
      "------------------------------------------------------------------------------------------------------------------------------------------------------\n",
      "Agreeability Coefficient (pearson): 0.7568\n",
      "======================================================================================================================================================\n",
      "Iteration 1:\n",
      "------------------------------------------------------------------------------------------------------------------------------------------------------\n",
      "Results from best models:\n",
      "Best Model 1 included: ['MedInc', 'HouseAge', 'AveRooms', 'AveBedrms', 'Population', 'Latitude', 'Longitude', ['HouseEval_nice', 'HouseEval_not_nice'], ['WallColors_gray', 'WallColors_white']]. RMSE: 0.7242\n",
      "Best Model 2 included: ['MedInc', 'AveRooms', 'AveBedrms', 'Population', 'AveOccup', 'Latitude', 'Longitude', ['HouseEval_nice', 'HouseEval_not_nice'], ['WallColors_gray', 'WallColors_white']]. RMSE: 0.6946\n",
      "Agreeability Coefficient (pearson) between best models: 0.7682044657495833\n",
      "------------------------------------------------------------------------------------------------------------------------------------------------------\n",
      "Results from all models:\n",
      "M1 mean score: 0.7643. Standard deviation: 0.0550\n",
      "M1 mean score: 0.7415. Standard deviation: 0.0477\n",
      "Mean agreeability coefficient (pearson): 0.7219. Standard deviation: 0.0697\n",
      "======================================================================================================================================================\n",
      "Iteration 2:\n",
      "------------------------------------------------------------------------------------------------------------------------------------------------------\n",
      "Results from best models:\n",
      "Best Model 1 included: ['MedInc', 'HouseAge', 'AveRooms', 'AveBedrms', 'Latitude', 'Longitude', ['HouseEval_nice', 'HouseEval_not_nice'], ['WallColors_gray', 'WallColors_white']]. RMSE: 0.7242\n",
      "Best Model 2 included: ['MedInc', 'AveRooms', 'AveBedrms', 'Population', 'Latitude', 'Longitude', ['HouseEval_nice', 'HouseEval_not_nice'], ['WallColors_gray', 'WallColors_white']]. RMSE: 0.6733\n",
      "Agreeability Coefficient (pearson) between best models: 0.7786815490590877\n",
      "------------------------------------------------------------------------------------------------------------------------------------------------------\n",
      "Results from all models:\n",
      "M1 mean score: 0.7596. Standard deviation: 0.0548\n",
      "M1 mean score: 0.7391. Standard deviation: 0.0701\n",
      "Mean agreeability coefficient (pearson): 0.7275. Standard deviation: 0.0729\n",
      "======================================================================================================================================================\n",
      "Iteration 3:\n",
      "------------------------------------------------------------------------------------------------------------------------------------------------------\n",
      "Results from best models:\n",
      "Best Model 1 included: ['MedInc', 'HouseAge', 'AveRooms', 'AveBedrms', 'Latitude', 'Longitude', ['WallColors_gray', 'WallColors_white']]. RMSE: 0.7242\n",
      "Best Model 2 included: ['MedInc', 'AveRooms', 'AveBedrms', 'Latitude', 'Longitude', ['HouseEval_nice', 'HouseEval_not_nice'], ['WallColors_gray', 'WallColors_white']]. RMSE: 0.6569\n",
      "Agreeability Coefficient (pearson) between best models: 0.7828323057118103\n",
      "------------------------------------------------------------------------------------------------------------------------------------------------------\n",
      "Results from all models:\n",
      "M1 mean score: 0.7643. Standard deviation: 0.0566\n",
      "M1 mean score: 0.7452. Standard deviation: 0.1201\n",
      "Mean agreeability coefficient (pearson): 0.7246. Standard deviation: 0.0832\n",
      "======================================================================================================================================================\n",
      "Iteration 4:\n",
      "------------------------------------------------------------------------------------------------------------------------------------------------------\n",
      "Results from best models:\n",
      "Best Model 1 included: ['MedInc', 'HouseAge', 'AveRooms', 'AveBedrms', 'Latitude', 'Longitude']. RMSE: 0.7243\n",
      "Best Model 2 included: ['AveRooms', 'AveBedrms', 'Latitude', 'Longitude', ['HouseEval_nice', 'HouseEval_not_nice'], ['WallColors_gray', 'WallColors_white']]. RMSE: 0.6495\n",
      "Agreeability Coefficient (pearson) between best models: 0.7416058235295625\n",
      "------------------------------------------------------------------------------------------------------------------------------------------------------\n",
      "Results from all models:\n",
      "M1 mean score: 0.7700. Standard deviation: 0.0583\n",
      "M1 mean score: 0.7409. Standard deviation: 0.1344\n",
      "Mean agreeability coefficient (pearson): 0.7228. Standard deviation: 0.0854\n",
      "======================================================================================================================================================\n",
      "Iteration 5:\n",
      "------------------------------------------------------------------------------------------------------------------------------------------------------\n",
      "Results from best models:\n",
      "Best Model 1 included: ['MedInc', 'HouseAge', 'AveBedrms', 'Latitude', 'Longitude']. RMSE: 0.7299\n",
      "Best Model 2 included: ['AveRooms', 'AveBedrms', 'Latitude', 'Longitude', ['WallColors_gray', 'WallColors_white']]. RMSE: 0.6426\n",
      "Agreeability Coefficient (pearson) between best models: 0.7424142501900122\n",
      "------------------------------------------------------------------------------------------------------------------------------------------------------\n",
      "Results from all models:\n",
      "M1 mean score: 0.7777. Standard deviation: 0.0597\n",
      "M1 mean score: 0.8395. Standard deviation: 0.2424\n",
      "Mean agreeability coefficient (pearson): 0.6312. Standard deviation: 0.1146\n",
      "======================================================================================================================================================\n",
      "Iteration 6:\n",
      "------------------------------------------------------------------------------------------------------------------------------------------------------\n",
      "Results from best models:\n",
      "Best Model 1 included: ['MedInc', 'HouseAge', 'Latitude', 'Longitude']. RMSE: 0.7340\n",
      "Best Model 2 included: ['AveRooms', 'AveBedrms', 'Latitude', 'Longitude']. RMSE: 0.6321\n",
      "Agreeability Coefficient (pearson) between best models: 0.7431019867535953\n",
      "------------------------------------------------------------------------------------------------------------------------------------------------------\n",
      "Results from all models:\n",
      "M1 mean score: 0.8222. Standard deviation: 0.1052\n",
      "M1 mean score: 0.8687. Standard deviation: 0.2476\n",
      "Mean agreeability coefficient (pearson): 0.5722. Standard deviation: 0.1692\n",
      "======================================================================================================================================================\n",
      "Iteration 7:\n",
      "------------------------------------------------------------------------------------------------------------------------------------------------------\n",
      "Results from best models:\n",
      "Best Model 1 included: ['MedInc', 'Latitude', 'Longitude']. RMSE: 0.7420\n",
      "Best Model 2 included: ['AveRooms', 'Latitude', 'Longitude']. RMSE: 0.6490\n",
      "Agreeability Coefficient (pearson) between best models: 0.719247402818799\n",
      "------------------------------------------------------------------------------------------------------------------------------------------------------\n",
      "Results from all models:\n",
      "M1 mean score: 0.8456. Standard deviation: 0.1065\n",
      "M1 mean score: 0.9229. Standard deviation: 0.2419\n",
      "Mean agreeability coefficient (pearson): 0.5258. Standard deviation: 0.1635\n",
      "======================================================================================================================================================\n",
      "Iteration 8:\n",
      "------------------------------------------------------------------------------------------------------------------------------------------------------\n",
      "Results from best models:\n",
      "Best Model 1 included: ['MedInc', 'Latitude']. RMSE: 0.8302\n",
      "Best Model 2 included: ['Latitude', 'Longitude']. RMSE: 0.6331\n",
      "Agreeability Coefficient (pearson) between best models: 0.5979782811046317\n",
      "------------------------------------------------------------------------------------------------------------------------------------------------------\n",
      "Results from all models:\n",
      "M1 mean score: 0.8977. Standard deviation: 0.0893\n",
      "M1 mean score: 1.0197. Standard deviation: 0.2777\n",
      "Mean agreeability coefficient (pearson): 0.4417. Standard deviation: 0.1491\n",
      "======================================================================================================================================================\n",
      "Iteration 9:\n",
      "------------------------------------------------------------------------------------------------------------------------------------------------------\n",
      "Results from best models:\n",
      "Best Model 1 included: ['MedInc']. RMSE: 0.8391\n",
      "Best Model 2 included: ['Longitude']. RMSE: 1.0059\n",
      "Agreeability Coefficient (pearson) between best models: 0.3262706343168213\n",
      "------------------------------------------------------------------------------------------------------------------------------------------------------\n",
      "Results from all models:\n",
      "M1 mean score: 1.0013. Standard deviation: 0.1622\n",
      "M1 mean score: 1.0256. Standard deviation: 0.0197\n",
      "Mean agreeability coefficient (pearson): 0.3075. Standard deviation: 0.0188\n",
      "======================================================================================================================================================\n"
     ]
    }
   ],
   "source": [
    "# Run the algorithm by providing model 1 (in this case linreg) and model 2 (decision tree)\n",
    "results = seeker.compare_all_models(\n",
    "    m1=m1,\n",
    "    m2=m2\n",
    ")"
   ]
  },
  {
   "cell_type": "markdown",
   "metadata": {},
   "source": [
    "We can print the raw dictionary carrying the results:"
   ]
  },
  {
   "cell_type": "code",
   "execution_count": 24,
   "metadata": {},
   "outputs": [
    {
     "data": {
      "text/plain": [
       "[{'Best: M1 Included Features': ['MedInc',\n",
       "   'HouseAge',\n",
       "   'AveRooms',\n",
       "   'AveBedrms',\n",
       "   'Population',\n",
       "   'AveOccup',\n",
       "   'Latitude',\n",
       "   'Longitude',\n",
       "   'HouseEval_nice',\n",
       "   'HouseEval_not_nice',\n",
       "   'WallColors_gray',\n",
       "   'WallColors_white'],\n",
       "  'Best: M1 rmse': 0.7313631839067938,\n",
       "  'Best: M2 Included Features': ['MedInc',\n",
       "   'HouseAge',\n",
       "   'AveRooms',\n",
       "   'AveBedrms',\n",
       "   'Population',\n",
       "   'AveOccup',\n",
       "   'Latitude',\n",
       "   'Longitude',\n",
       "   'HouseEval_nice',\n",
       "   'HouseEval_not_nice',\n",
       "   'WallColors_gray',\n",
       "   'WallColors_white'],\n",
       "  'Best: M2 rmse': 0.7327078108794725,\n",
       "  'Best: Agreeability (pearson)': 0.7567790142007598,\n",
       "  'All: M1 Mean rmse': 0.7313631839067938,\n",
       "  'All: M1 STD rmse': 0,\n",
       "  'All: M2 Mean rmse': 0.7327078108794725,\n",
       "  'All: M2 STD rmse': 0,\n",
       "  'All: Mean Agreeability (pearson)': 0.7567790142007598,\n",
       "  'All: Agreeability St. Dev.': 0},\n",
       " {'Best: M1 Included Features': ['MedInc',\n",
       "   'HouseAge',\n",
       "   'AveRooms',\n",
       "   'AveBedrms',\n",
       "   'Population',\n",
       "   'Latitude',\n",
       "   'Longitude',\n",
       "   'HouseEval_nice',\n",
       "   'HouseEval_not_nice',\n",
       "   'WallColors_gray',\n",
       "   'WallColors_white'],\n",
       "  'Best: M1 rmse': 0.724194855571701,\n",
       "  'Best: M2 Included Features': ['MedInc',\n",
       "   'AveRooms',\n",
       "   'AveBedrms',\n",
       "   'Population',\n",
       "   'AveOccup',\n",
       "   'Latitude',\n",
       "   'Longitude',\n",
       "   'HouseEval_nice',\n",
       "   'HouseEval_not_nice',\n",
       "   'WallColors_gray',\n",
       "   'WallColors_white'],\n",
       "  'Best: M2 rmse': 0.6946100961915089,\n",
       "  'Best: Agreeability (pearson)': 0.7682044657495833,\n",
       "  'All: M1 Mean rmse': 0.7643425623898734,\n",
       "  'All: M1 STD rmse': 0.05500903539036714,\n",
       "  'All: M2 Mean rmse': 0.7414573212510681,\n",
       "  'All: M2 STD rmse': 0.04769169927851932,\n",
       "  'All: Mean Agreeability (pearson)': 0.7219088883216112,\n",
       "  'All: Agreeability St. Dev.': 0.06973884953122646},\n",
       " {'Best: M1 Included Features': ['MedInc',\n",
       "   'HouseAge',\n",
       "   'AveRooms',\n",
       "   'AveBedrms',\n",
       "   'Latitude',\n",
       "   'Longitude',\n",
       "   'HouseEval_nice',\n",
       "   'HouseEval_not_nice',\n",
       "   'WallColors_gray',\n",
       "   'WallColors_white'],\n",
       "  'Best: M1 rmse': 0.7241947577334621,\n",
       "  'Best: M2 Included Features': ['MedInc',\n",
       "   'AveRooms',\n",
       "   'AveBedrms',\n",
       "   'Population',\n",
       "   'Latitude',\n",
       "   'Longitude',\n",
       "   'HouseEval_nice',\n",
       "   'HouseEval_not_nice',\n",
       "   'WallColors_gray',\n",
       "   'WallColors_white'],\n",
       "  'Best: M2 rmse': 0.6733390711251698,\n",
       "  'Best: Agreeability (pearson)': 0.7786815490590877,\n",
       "  'All: M1 Mean rmse': 0.7596490891464935,\n",
       "  'All: M1 STD rmse': 0.054841224260557694,\n",
       "  'All: M2 Mean rmse': 0.739133139913567,\n",
       "  'All: M2 STD rmse': 0.07006292878157393,\n",
       "  'All: Mean Agreeability (pearson)': 0.7274566340643847,\n",
       "  'All: Agreeability St. Dev.': 0.07294505870881547},\n",
       " {'Best: M1 Included Features': ['MedInc',\n",
       "   'HouseAge',\n",
       "   'AveRooms',\n",
       "   'AveBedrms',\n",
       "   'Latitude',\n",
       "   'Longitude',\n",
       "   'WallColors_gray',\n",
       "   'WallColors_white'],\n",
       "  'Best: M1 rmse': 0.7242297950673143,\n",
       "  'Best: M2 Included Features': ['MedInc',\n",
       "   'AveRooms',\n",
       "   'AveBedrms',\n",
       "   'Latitude',\n",
       "   'Longitude',\n",
       "   'HouseEval_nice',\n",
       "   'HouseEval_not_nice',\n",
       "   'WallColors_gray',\n",
       "   'WallColors_white'],\n",
       "  'Best: M2 rmse': 0.6568878071162784,\n",
       "  'Best: Agreeability (pearson)': 0.7828323057118103,\n",
       "  'All: M1 Mean rmse': 0.7642566468654179,\n",
       "  'All: M1 STD rmse': 0.05660504479730524,\n",
       "  'All: M2 Mean rmse': 0.7451775148916648,\n",
       "  'All: M2 STD rmse': 0.12009590033776396,\n",
       "  'All: Mean Agreeability (pearson)': 0.7245887061533516,\n",
       "  'All: Agreeability St. Dev.': 0.08321867114913885},\n",
       " {'Best: M1 Included Features': ['MedInc',\n",
       "   'HouseAge',\n",
       "   'AveRooms',\n",
       "   'AveBedrms',\n",
       "   'Latitude',\n",
       "   'Longitude'],\n",
       "  'Best: M1 rmse': 0.7243206659201569,\n",
       "  'Best: M2 Included Features': ['AveRooms',\n",
       "   'AveBedrms',\n",
       "   'Latitude',\n",
       "   'Longitude',\n",
       "   'HouseEval_nice',\n",
       "   'HouseEval_not_nice',\n",
       "   'WallColors_gray',\n",
       "   'WallColors_white'],\n",
       "  'Best: M2 rmse': 0.6495063766119754,\n",
       "  'Best: Agreeability (pearson)': 0.7416058235295625,\n",
       "  'All: M1 Mean rmse': 0.7700111818384915,\n",
       "  'All: M1 STD rmse': 0.058328337176134414,\n",
       "  'All: M2 Mean rmse': 0.7408988932375059,\n",
       "  'All: M2 STD rmse': 0.13444641280872144,\n",
       "  'All: Mean Agreeability (pearson)': 0.7227759144733948,\n",
       "  'All: Agreeability St. Dev.': 0.08541615317156795},\n",
       " {'Best: M1 Included Features': ['MedInc',\n",
       "   'HouseAge',\n",
       "   'AveBedrms',\n",
       "   'Latitude',\n",
       "   'Longitude'],\n",
       "  'Best: M1 rmse': 0.7299080678582273,\n",
       "  'Best: M2 Included Features': ['AveRooms',\n",
       "   'AveBedrms',\n",
       "   'Latitude',\n",
       "   'Longitude',\n",
       "   'WallColors_gray',\n",
       "   'WallColors_white'],\n",
       "  'Best: M2 rmse': 0.6425692969287806,\n",
       "  'Best: Agreeability (pearson)': 0.7424142501900122,\n",
       "  'All: M1 Mean rmse': 0.7777087075258885,\n",
       "  'All: M1 STD rmse': 0.059709560831612926,\n",
       "  'All: M2 Mean rmse': 0.8394955790841353,\n",
       "  'All: M2 STD rmse': 0.2423728082381623,\n",
       "  'All: Mean Agreeability (pearson)': 0.6311836919914006,\n",
       "  'All: Agreeability St. Dev.': 0.11459935123337028},\n",
       " {'Best: M1 Included Features': ['MedInc',\n",
       "   'HouseAge',\n",
       "   'Latitude',\n",
       "   'Longitude'],\n",
       "  'Best: M1 rmse': 0.7340250301119083,\n",
       "  'Best: M2 Included Features': ['AveRooms',\n",
       "   'AveBedrms',\n",
       "   'Latitude',\n",
       "   'Longitude'],\n",
       "  'Best: M2 rmse': 0.6321286467604775,\n",
       "  'Best: Agreeability (pearson)': 0.7431019867535953,\n",
       "  'All: M1 Mean rmse': 0.8222171594334977,\n",
       "  'All: M1 STD rmse': 0.10522388597581891,\n",
       "  'All: M2 Mean rmse': 0.8686958107330153,\n",
       "  'All: M2 STD rmse': 0.24761571149098466,\n",
       "  'All: Mean Agreeability (pearson)': 0.5721834169117852,\n",
       "  'All: Agreeability St. Dev.': 0.16918043716755646},\n",
       " {'Best: M1 Included Features': ['MedInc', 'Latitude', 'Longitude'],\n",
       "  'Best: M1 rmse': 0.7419579345892257,\n",
       "  'Best: M2 Included Features': ['AveRooms', 'Latitude', 'Longitude'],\n",
       "  'Best: M2 rmse': 0.6490217469976426,\n",
       "  'Best: Agreeability (pearson)': 0.719247402818799,\n",
       "  'All: M1 Mean rmse': 0.8455973116246125,\n",
       "  'All: M1 STD rmse': 0.10652176290655452,\n",
       "  'All: M2 Mean rmse': 0.9228806061257426,\n",
       "  'All: M2 STD rmse': 0.24190669854508734,\n",
       "  'All: Mean Agreeability (pearson)': 0.5257619288447826,\n",
       "  'All: Agreeability St. Dev.': 0.16353957417010037},\n",
       " {'Best: M1 Included Features': ['MedInc', 'Latitude'],\n",
       "  'Best: M1 rmse': 0.8301873925326823,\n",
       "  'Best: M2 Included Features': ['Latitude', 'Longitude'],\n",
       "  'Best: M2 rmse': 0.6330917662455698,\n",
       "  'Best: Agreeability (pearson)': 0.5979782811046317,\n",
       "  'All: M1 Mean rmse': 0.8977439834292477,\n",
       "  'All: M1 STD rmse': 0.08931202533046595,\n",
       "  'All: M2 Mean rmse': 1.0197018152078696,\n",
       "  'All: M2 STD rmse': 0.27771130162943536,\n",
       "  'All: Mean Agreeability (pearson)': 0.44169789605730414,\n",
       "  'All: Agreeability St. Dev.': 0.14911467384296567},\n",
       " {'Best: M1 Included Features': ['MedInc'],\n",
       "  'Best: M1 rmse': 0.8390728208993037,\n",
       "  'Best: M2 Included Features': ['Longitude'],\n",
       "  'Best: M2 rmse': 1.0058695484342364,\n",
       "  'Best: Agreeability (pearson)': 0.3262706343168213,\n",
       "  'All: M1 Mean rmse': 1.0013004853773162,\n",
       "  'All: M1 STD rmse': 0.16222766447801262,\n",
       "  'All: M2 Mean rmse': 1.0255794069079167,\n",
       "  'All: M2 STD rmse': 0.01970985847368034,\n",
       "  'All: Mean Agreeability (pearson)': 0.30745749491435304,\n",
       "  'All: Agreeability St. Dev.': 0.018813139402468232}]"
      ]
     },
     "execution_count": 24,
     "metadata": {},
     "output_type": "execute_result"
    }
   ],
   "source": [
    "results"
   ]
  },
  {
   "cell_type": "markdown",
   "metadata": {},
   "source": [
    "Or we can generate a good looking pandas dataframe from the results from one of my built-in functionalities in the framework."
   ]
  },
  {
   "cell_type": "code",
   "execution_count": 25,
   "metadata": {},
   "outputs": [],
   "source": [
    "# For pandas to allow viewing full column width\n",
    "pd.set_option('display.max_colwidth', None)"
   ]
  },
  {
   "cell_type": "code",
   "execution_count": 26,
   "metadata": {},
   "outputs": [],
   "source": [
    "# Generate the dataframe\n",
    "results_df = seeker.dataframe_from_results()"
   ]
  },
  {
   "cell_type": "code",
   "execution_count": 27,
   "metadata": {},
   "outputs": [
    {
     "data": {
      "text/html": [
       "<div>\n",
       "<style scoped>\n",
       "    .dataframe tbody tr th:only-of-type {\n",
       "        vertical-align: middle;\n",
       "    }\n",
       "\n",
       "    .dataframe tbody tr th {\n",
       "        vertical-align: top;\n",
       "    }\n",
       "\n",
       "    .dataframe thead th {\n",
       "        text-align: right;\n",
       "    }\n",
       "</style>\n",
       "<table border=\"1\" class=\"dataframe\">\n",
       "  <thead>\n",
       "    <tr style=\"text-align: right;\">\n",
       "      <th></th>\n",
       "      <th>Best: M1 Included Features</th>\n",
       "      <th>Best: M1 rmse</th>\n",
       "      <th>Best: M2 Included Features</th>\n",
       "      <th>Best: M2 rmse</th>\n",
       "      <th>Best: Agreeability (pearson)</th>\n",
       "      <th>All: M1 Mean rmse</th>\n",
       "      <th>All: M1 STD rmse</th>\n",
       "      <th>All: M2 Mean rmse</th>\n",
       "      <th>All: M2 STD rmse</th>\n",
       "      <th>All: Mean Agreeability (pearson)</th>\n",
       "      <th>All: Agreeability St. Dev.</th>\n",
       "    </tr>\n",
       "  </thead>\n",
       "  <tbody>\n",
       "    <tr>\n",
       "      <th>0</th>\n",
       "      <td>[MedInc, HouseAge, AveRooms, AveBedrms, Population, AveOccup, Latitude, Longitude, HouseEval_nice, HouseEval_not_nice, WallColors_gray, WallColors_white]</td>\n",
       "      <td>0.731363</td>\n",
       "      <td>[MedInc, HouseAge, AveRooms, AveBedrms, Population, AveOccup, Latitude, Longitude, HouseEval_nice, HouseEval_not_nice, WallColors_gray, WallColors_white]</td>\n",
       "      <td>0.732708</td>\n",
       "      <td>0.756779</td>\n",
       "      <td>0.731363</td>\n",
       "      <td>0.000000</td>\n",
       "      <td>0.732708</td>\n",
       "      <td>0.000000</td>\n",
       "      <td>0.756779</td>\n",
       "      <td>0.000000</td>\n",
       "    </tr>\n",
       "    <tr>\n",
       "      <th>1</th>\n",
       "      <td>[MedInc, HouseAge, AveRooms, AveBedrms, Population, Latitude, Longitude, HouseEval_nice, HouseEval_not_nice, WallColors_gray, WallColors_white]</td>\n",
       "      <td>0.724195</td>\n",
       "      <td>[MedInc, AveRooms, AveBedrms, Population, AveOccup, Latitude, Longitude, HouseEval_nice, HouseEval_not_nice, WallColors_gray, WallColors_white]</td>\n",
       "      <td>0.694610</td>\n",
       "      <td>0.768204</td>\n",
       "      <td>0.764343</td>\n",
       "      <td>0.055009</td>\n",
       "      <td>0.741457</td>\n",
       "      <td>0.047692</td>\n",
       "      <td>0.721909</td>\n",
       "      <td>0.069739</td>\n",
       "    </tr>\n",
       "    <tr>\n",
       "      <th>2</th>\n",
       "      <td>[MedInc, HouseAge, AveRooms, AveBedrms, Latitude, Longitude, HouseEval_nice, HouseEval_not_nice, WallColors_gray, WallColors_white]</td>\n",
       "      <td>0.724195</td>\n",
       "      <td>[MedInc, AveRooms, AveBedrms, Population, Latitude, Longitude, HouseEval_nice, HouseEval_not_nice, WallColors_gray, WallColors_white]</td>\n",
       "      <td>0.673339</td>\n",
       "      <td>0.778682</td>\n",
       "      <td>0.759649</td>\n",
       "      <td>0.054841</td>\n",
       "      <td>0.739133</td>\n",
       "      <td>0.070063</td>\n",
       "      <td>0.727457</td>\n",
       "      <td>0.072945</td>\n",
       "    </tr>\n",
       "    <tr>\n",
       "      <th>3</th>\n",
       "      <td>[MedInc, HouseAge, AveRooms, AveBedrms, Latitude, Longitude, WallColors_gray, WallColors_white]</td>\n",
       "      <td>0.724230</td>\n",
       "      <td>[MedInc, AveRooms, AveBedrms, Latitude, Longitude, HouseEval_nice, HouseEval_not_nice, WallColors_gray, WallColors_white]</td>\n",
       "      <td>0.656888</td>\n",
       "      <td>0.782832</td>\n",
       "      <td>0.764257</td>\n",
       "      <td>0.056605</td>\n",
       "      <td>0.745178</td>\n",
       "      <td>0.120096</td>\n",
       "      <td>0.724589</td>\n",
       "      <td>0.083219</td>\n",
       "    </tr>\n",
       "    <tr>\n",
       "      <th>4</th>\n",
       "      <td>[MedInc, HouseAge, AveRooms, AveBedrms, Latitude, Longitude]</td>\n",
       "      <td>0.724321</td>\n",
       "      <td>[AveRooms, AveBedrms, Latitude, Longitude, HouseEval_nice, HouseEval_not_nice, WallColors_gray, WallColors_white]</td>\n",
       "      <td>0.649506</td>\n",
       "      <td>0.741606</td>\n",
       "      <td>0.770011</td>\n",
       "      <td>0.058328</td>\n",
       "      <td>0.740899</td>\n",
       "      <td>0.134446</td>\n",
       "      <td>0.722776</td>\n",
       "      <td>0.085416</td>\n",
       "    </tr>\n",
       "    <tr>\n",
       "      <th>5</th>\n",
       "      <td>[MedInc, HouseAge, AveBedrms, Latitude, Longitude]</td>\n",
       "      <td>0.729908</td>\n",
       "      <td>[AveRooms, AveBedrms, Latitude, Longitude, WallColors_gray, WallColors_white]</td>\n",
       "      <td>0.642569</td>\n",
       "      <td>0.742414</td>\n",
       "      <td>0.777709</td>\n",
       "      <td>0.059710</td>\n",
       "      <td>0.839496</td>\n",
       "      <td>0.242373</td>\n",
       "      <td>0.631184</td>\n",
       "      <td>0.114599</td>\n",
       "    </tr>\n",
       "    <tr>\n",
       "      <th>6</th>\n",
       "      <td>[MedInc, HouseAge, Latitude, Longitude]</td>\n",
       "      <td>0.734025</td>\n",
       "      <td>[AveRooms, AveBedrms, Latitude, Longitude]</td>\n",
       "      <td>0.632129</td>\n",
       "      <td>0.743102</td>\n",
       "      <td>0.822217</td>\n",
       "      <td>0.105224</td>\n",
       "      <td>0.868696</td>\n",
       "      <td>0.247616</td>\n",
       "      <td>0.572183</td>\n",
       "      <td>0.169180</td>\n",
       "    </tr>\n",
       "    <tr>\n",
       "      <th>7</th>\n",
       "      <td>[MedInc, Latitude, Longitude]</td>\n",
       "      <td>0.741958</td>\n",
       "      <td>[AveRooms, Latitude, Longitude]</td>\n",
       "      <td>0.649022</td>\n",
       "      <td>0.719247</td>\n",
       "      <td>0.845597</td>\n",
       "      <td>0.106522</td>\n",
       "      <td>0.922881</td>\n",
       "      <td>0.241907</td>\n",
       "      <td>0.525762</td>\n",
       "      <td>0.163540</td>\n",
       "    </tr>\n",
       "    <tr>\n",
       "      <th>8</th>\n",
       "      <td>[MedInc, Latitude]</td>\n",
       "      <td>0.830187</td>\n",
       "      <td>[Latitude, Longitude]</td>\n",
       "      <td>0.633092</td>\n",
       "      <td>0.597978</td>\n",
       "      <td>0.897744</td>\n",
       "      <td>0.089312</td>\n",
       "      <td>1.019702</td>\n",
       "      <td>0.277711</td>\n",
       "      <td>0.441698</td>\n",
       "      <td>0.149115</td>\n",
       "    </tr>\n",
       "    <tr>\n",
       "      <th>9</th>\n",
       "      <td>[MedInc]</td>\n",
       "      <td>0.839073</td>\n",
       "      <td>[Longitude]</td>\n",
       "      <td>1.005870</td>\n",
       "      <td>0.326271</td>\n",
       "      <td>1.001300</td>\n",
       "      <td>0.162228</td>\n",
       "      <td>1.025579</td>\n",
       "      <td>0.019710</td>\n",
       "      <td>0.307457</td>\n",
       "      <td>0.018813</td>\n",
       "    </tr>\n",
       "  </tbody>\n",
       "</table>\n",
       "</div>"
      ],
      "text/plain": [
       "                                                                                                                                  Best: M1 Included Features  \\\n",
       "0  [MedInc, HouseAge, AveRooms, AveBedrms, Population, AveOccup, Latitude, Longitude, HouseEval_nice, HouseEval_not_nice, WallColors_gray, WallColors_white]   \n",
       "1            [MedInc, HouseAge, AveRooms, AveBedrms, Population, Latitude, Longitude, HouseEval_nice, HouseEval_not_nice, WallColors_gray, WallColors_white]   \n",
       "2                        [MedInc, HouseAge, AveRooms, AveBedrms, Latitude, Longitude, HouseEval_nice, HouseEval_not_nice, WallColors_gray, WallColors_white]   \n",
       "3                                                            [MedInc, HouseAge, AveRooms, AveBedrms, Latitude, Longitude, WallColors_gray, WallColors_white]   \n",
       "4                                                                                               [MedInc, HouseAge, AveRooms, AveBedrms, Latitude, Longitude]   \n",
       "5                                                                                                         [MedInc, HouseAge, AveBedrms, Latitude, Longitude]   \n",
       "6                                                                                                                    [MedInc, HouseAge, Latitude, Longitude]   \n",
       "7                                                                                                                              [MedInc, Latitude, Longitude]   \n",
       "8                                                                                                                                         [MedInc, Latitude]   \n",
       "9                                                                                                                                                   [MedInc]   \n",
       "\n",
       "   Best: M1 rmse  \\\n",
       "0       0.731363   \n",
       "1       0.724195   \n",
       "2       0.724195   \n",
       "3       0.724230   \n",
       "4       0.724321   \n",
       "5       0.729908   \n",
       "6       0.734025   \n",
       "7       0.741958   \n",
       "8       0.830187   \n",
       "9       0.839073   \n",
       "\n",
       "                                                                                                                                  Best: M2 Included Features  \\\n",
       "0  [MedInc, HouseAge, AveRooms, AveBedrms, Population, AveOccup, Latitude, Longitude, HouseEval_nice, HouseEval_not_nice, WallColors_gray, WallColors_white]   \n",
       "1            [MedInc, AveRooms, AveBedrms, Population, AveOccup, Latitude, Longitude, HouseEval_nice, HouseEval_not_nice, WallColors_gray, WallColors_white]   \n",
       "2                      [MedInc, AveRooms, AveBedrms, Population, Latitude, Longitude, HouseEval_nice, HouseEval_not_nice, WallColors_gray, WallColors_white]   \n",
       "3                                  [MedInc, AveRooms, AveBedrms, Latitude, Longitude, HouseEval_nice, HouseEval_not_nice, WallColors_gray, WallColors_white]   \n",
       "4                                          [AveRooms, AveBedrms, Latitude, Longitude, HouseEval_nice, HouseEval_not_nice, WallColors_gray, WallColors_white]   \n",
       "5                                                                              [AveRooms, AveBedrms, Latitude, Longitude, WallColors_gray, WallColors_white]   \n",
       "6                                                                                                                 [AveRooms, AveBedrms, Latitude, Longitude]   \n",
       "7                                                                                                                            [AveRooms, Latitude, Longitude]   \n",
       "8                                                                                                                                      [Latitude, Longitude]   \n",
       "9                                                                                                                                                [Longitude]   \n",
       "\n",
       "   Best: M2 rmse  Best: Agreeability (pearson)  All: M1 Mean rmse  \\\n",
       "0       0.732708                      0.756779           0.731363   \n",
       "1       0.694610                      0.768204           0.764343   \n",
       "2       0.673339                      0.778682           0.759649   \n",
       "3       0.656888                      0.782832           0.764257   \n",
       "4       0.649506                      0.741606           0.770011   \n",
       "5       0.642569                      0.742414           0.777709   \n",
       "6       0.632129                      0.743102           0.822217   \n",
       "7       0.649022                      0.719247           0.845597   \n",
       "8       0.633092                      0.597978           0.897744   \n",
       "9       1.005870                      0.326271           1.001300   \n",
       "\n",
       "   All: M1 STD rmse  All: M2 Mean rmse  All: M2 STD rmse  \\\n",
       "0          0.000000           0.732708          0.000000   \n",
       "1          0.055009           0.741457          0.047692   \n",
       "2          0.054841           0.739133          0.070063   \n",
       "3          0.056605           0.745178          0.120096   \n",
       "4          0.058328           0.740899          0.134446   \n",
       "5          0.059710           0.839496          0.242373   \n",
       "6          0.105224           0.868696          0.247616   \n",
       "7          0.106522           0.922881          0.241907   \n",
       "8          0.089312           1.019702          0.277711   \n",
       "9          0.162228           1.025579          0.019710   \n",
       "\n",
       "   All: Mean Agreeability (pearson)  All: Agreeability St. Dev.  \n",
       "0                          0.756779                    0.000000  \n",
       "1                          0.721909                    0.069739  \n",
       "2                          0.727457                    0.072945  \n",
       "3                          0.724589                    0.083219  \n",
       "4                          0.722776                    0.085416  \n",
       "5                          0.631184                    0.114599  \n",
       "6                          0.572183                    0.169180  \n",
       "7                          0.525762                    0.163540  \n",
       "8                          0.441698                    0.149115  \n",
       "9                          0.307457                    0.018813  "
      ]
     },
     "execution_count": 27,
     "metadata": {},
     "output_type": "execute_result"
    }
   ],
   "source": [
    "results_df"
   ]
  },
  {
   "cell_type": "code",
   "execution_count": 28,
   "metadata": {},
   "outputs": [
    {
     "data": {
      "application/vnd.plotly.v1+json": {
       "config": {
        "plotlyServerURL": "https://plot.ly"
       },
       "data": [
        {
         "hoverinfo": "text",
         "hovertext": [
          "<br> Best: Agreeability (pearson): <br> 0.7568 <br> All: Mean Agreeability (pearson): <br> 0.7568 <br> All: Agreeability St. Dev.: <br> 0.0000",
          "<br> Best: Agreeability (pearson): <br> 0.7682 <br> All: Mean Agreeability (pearson): <br> 0.7219 <br> All: Agreeability St. Dev.: <br> 0.0697",
          "<br> Best: Agreeability (pearson): <br> 0.7787 <br> All: Mean Agreeability (pearson): <br> 0.7275 <br> All: Agreeability St. Dev.: <br> 0.0729",
          "<br> Best: Agreeability (pearson): <br> 0.7828 <br> All: Mean Agreeability (pearson): <br> 0.7246 <br> All: Agreeability St. Dev.: <br> 0.0832",
          "<br> Best: Agreeability (pearson): <br> 0.7416 <br> All: Mean Agreeability (pearson): <br> 0.7228 <br> All: Agreeability St. Dev.: <br> 0.0854",
          "<br> Best: Agreeability (pearson): <br> 0.7424 <br> All: Mean Agreeability (pearson): <br> 0.6312 <br> All: Agreeability St. Dev.: <br> 0.1146",
          "<br> Best: Agreeability (pearson): <br> 0.7431 <br> All: Mean Agreeability (pearson): <br> 0.5722 <br> All: Agreeability St. Dev.: <br> 0.1692",
          "<br> Best: Agreeability (pearson): <br> 0.7192 <br> All: Mean Agreeability (pearson): <br> 0.5258 <br> All: Agreeability St. Dev.: <br> 0.1635",
          "<br> Best: Agreeability (pearson): <br> 0.5980 <br> All: Mean Agreeability (pearson): <br> 0.4417 <br> All: Agreeability St. Dev.: <br> 0.1491",
          "<br> Best: Agreeability (pearson): <br> 0.3263 <br> All: Mean Agreeability (pearson): <br> 0.3075 <br> All: Agreeability St. Dev.: <br> 0.0188"
         ],
         "mode": "lines+markers",
         "name": "Best: Agreeability (pearson)",
         "type": "scatter",
         "x": [
          1,
          2,
          3,
          4,
          5,
          6,
          7,
          8,
          9,
          10
         ],
         "xaxis": "x",
         "y": [
          0.7567790142007598,
          0.7682044657495833,
          0.7786815490590877,
          0.7828323057118103,
          0.7416058235295625,
          0.7424142501900122,
          0.7431019867535953,
          0.719247402818799,
          0.5979782811046317,
          0.3262706343168213
         ],
         "yaxis": "y"
        },
        {
         "hoverinfo": "text",
         "hovertext": [
          "<br> Best: M1 rmse: <br> 0.7314 <br> Best: M1 Included Features: <br> MedInc, HouseAge, AveRooms, AveBedrms, Population, AveOccup, Latitude, Longitude, HouseEval_nice, HouseEval_not_nice, WallColors_gray, WallColors_white <br> All: M1 Mean rmse: <br> 0.7314 <br> All: M1 STD rmse: <br> 0.0000",
          "<br> Best: M1 rmse: <br> 0.7242 <br> Best: M1 Included Features: <br> MedInc, HouseAge, AveRooms, AveBedrms, Population, Latitude, Longitude, HouseEval_nice, HouseEval_not_nice, WallColors_gray, WallColors_white <br> All: M1 Mean rmse: <br> 0.7643 <br> All: M1 STD rmse: <br> 0.0550",
          "<br> Best: M1 rmse: <br> 0.7242 <br> Best: M1 Included Features: <br> MedInc, HouseAge, AveRooms, AveBedrms, Latitude, Longitude, HouseEval_nice, HouseEval_not_nice, WallColors_gray, WallColors_white <br> All: M1 Mean rmse: <br> 0.7596 <br> All: M1 STD rmse: <br> 0.0548",
          "<br> Best: M1 rmse: <br> 0.7242 <br> Best: M1 Included Features: <br> MedInc, HouseAge, AveRooms, AveBedrms, Latitude, Longitude, WallColors_gray, WallColors_white <br> All: M1 Mean rmse: <br> 0.7643 <br> All: M1 STD rmse: <br> 0.0566",
          "<br> Best: M1 rmse: <br> 0.7243 <br> Best: M1 Included Features: <br> MedInc, HouseAge, AveRooms, AveBedrms, Latitude, Longitude <br> All: M1 Mean rmse: <br> 0.7700 <br> All: M1 STD rmse: <br> 0.0583",
          "<br> Best: M1 rmse: <br> 0.7299 <br> Best: M1 Included Features: <br> MedInc, HouseAge, AveBedrms, Latitude, Longitude <br> All: M1 Mean rmse: <br> 0.7777 <br> All: M1 STD rmse: <br> 0.0597",
          "<br> Best: M1 rmse: <br> 0.7340 <br> Best: M1 Included Features: <br> MedInc, HouseAge, Latitude, Longitude <br> All: M1 Mean rmse: <br> 0.8222 <br> All: M1 STD rmse: <br> 0.1052",
          "<br> Best: M1 rmse: <br> 0.7420 <br> Best: M1 Included Features: <br> MedInc, Latitude, Longitude <br> All: M1 Mean rmse: <br> 0.8456 <br> All: M1 STD rmse: <br> 0.1065",
          "<br> Best: M1 rmse: <br> 0.8302 <br> Best: M1 Included Features: <br> MedInc, Latitude <br> All: M1 Mean rmse: <br> 0.8977 <br> All: M1 STD rmse: <br> 0.0893",
          "<br> Best: M1 rmse: <br> 0.8391 <br> Best: M1 Included Features: <br> MedInc <br> All: M1 Mean rmse: <br> 1.0013 <br> All: M1 STD rmse: <br> 0.1622"
         ],
         "mode": "lines+markers",
         "name": "Best: M1 rmse",
         "type": "scatter",
         "x": [
          1,
          2,
          3,
          4,
          5,
          6,
          7,
          8,
          9,
          10
         ],
         "xaxis": "x",
         "y": [
          0.7313631839067938,
          0.724194855571701,
          0.7241947577334621,
          0.7242297950673143,
          0.7243206659201569,
          0.7299080678582273,
          0.7340250301119083,
          0.7419579345892257,
          0.8301873925326823,
          0.8390728208993037
         ],
         "yaxis": "y2"
        },
        {
         "hoverinfo": "text",
         "hovertext": [
          "<br> Best: M2 rmse: <br> 0.7327 <br> Best: M2 Included Features: <br> MedInc, HouseAge, AveRooms, AveBedrms, Population, AveOccup, Latitude, Longitude, HouseEval_nice, HouseEval_not_nice, WallColors_gray, WallColors_white <br> All: M2 Mean rmse: <br> 0.7327 <br> All: M2 STD rmse: <br> 0.0000",
          "<br> Best: M2 rmse: <br> 0.6946 <br> Best: M2 Included Features: <br> MedInc, AveRooms, AveBedrms, Population, AveOccup, Latitude, Longitude, HouseEval_nice, HouseEval_not_nice, WallColors_gray, WallColors_white <br> All: M2 Mean rmse: <br> 0.7415 <br> All: M2 STD rmse: <br> 0.0477",
          "<br> Best: M2 rmse: <br> 0.6733 <br> Best: M2 Included Features: <br> MedInc, AveRooms, AveBedrms, Population, Latitude, Longitude, HouseEval_nice, HouseEval_not_nice, WallColors_gray, WallColors_white <br> All: M2 Mean rmse: <br> 0.7391 <br> All: M2 STD rmse: <br> 0.0701",
          "<br> Best: M2 rmse: <br> 0.6569 <br> Best: M2 Included Features: <br> MedInc, AveRooms, AveBedrms, Latitude, Longitude, HouseEval_nice, HouseEval_not_nice, WallColors_gray, WallColors_white <br> All: M2 Mean rmse: <br> 0.7452 <br> All: M2 STD rmse: <br> 0.1201",
          "<br> Best: M2 rmse: <br> 0.6495 <br> Best: M2 Included Features: <br> AveRooms, AveBedrms, Latitude, Longitude, HouseEval_nice, HouseEval_not_nice, WallColors_gray, WallColors_white <br> All: M2 Mean rmse: <br> 0.7409 <br> All: M2 STD rmse: <br> 0.1344",
          "<br> Best: M2 rmse: <br> 0.6426 <br> Best: M2 Included Features: <br> AveRooms, AveBedrms, Latitude, Longitude, WallColors_gray, WallColors_white <br> All: M2 Mean rmse: <br> 0.8395 <br> All: M2 STD rmse: <br> 0.2424",
          "<br> Best: M2 rmse: <br> 0.6321 <br> Best: M2 Included Features: <br> AveRooms, AveBedrms, Latitude, Longitude <br> All: M2 Mean rmse: <br> 0.8687 <br> All: M2 STD rmse: <br> 0.2476",
          "<br> Best: M2 rmse: <br> 0.6490 <br> Best: M2 Included Features: <br> AveRooms, Latitude, Longitude <br> All: M2 Mean rmse: <br> 0.9229 <br> All: M2 STD rmse: <br> 0.2419",
          "<br> Best: M2 rmse: <br> 0.6331 <br> Best: M2 Included Features: <br> Latitude, Longitude <br> All: M2 Mean rmse: <br> 1.0197 <br> All: M2 STD rmse: <br> 0.2777",
          "<br> Best: M2 rmse: <br> 1.0059 <br> Best: M2 Included Features: <br> Longitude <br> All: M2 Mean rmse: <br> 1.0256 <br> All: M2 STD rmse: <br> 0.0197"
         ],
         "mode": "lines+markers",
         "name": "Best: M2 rmse",
         "type": "scatter",
         "x": [
          1,
          2,
          3,
          4,
          5,
          6,
          7,
          8,
          9,
          10
         ],
         "xaxis": "x",
         "y": [
          0.7327078108794725,
          0.6946100961915089,
          0.6733390711251698,
          0.6568878071162784,
          0.6495063766119754,
          0.6425692969287806,
          0.6321286467604775,
          0.6490217469976426,
          0.6330917662455698,
          1.0058695484342364
         ],
         "yaxis": "y2"
        }
       ],
       "layout": {
        "hovermode": "closest",
        "template": {
         "data": {
          "bar": [
           {
            "error_x": {
             "color": "#2a3f5f"
            },
            "error_y": {
             "color": "#2a3f5f"
            },
            "marker": {
             "line": {
              "color": "#E5ECF6",
              "width": 0.5
             },
             "pattern": {
              "fillmode": "overlay",
              "size": 10,
              "solidity": 0.2
             }
            },
            "type": "bar"
           }
          ],
          "barpolar": [
           {
            "marker": {
             "line": {
              "color": "#E5ECF6",
              "width": 0.5
             },
             "pattern": {
              "fillmode": "overlay",
              "size": 10,
              "solidity": 0.2
             }
            },
            "type": "barpolar"
           }
          ],
          "carpet": [
           {
            "aaxis": {
             "endlinecolor": "#2a3f5f",
             "gridcolor": "white",
             "linecolor": "white",
             "minorgridcolor": "white",
             "startlinecolor": "#2a3f5f"
            },
            "baxis": {
             "endlinecolor": "#2a3f5f",
             "gridcolor": "white",
             "linecolor": "white",
             "minorgridcolor": "white",
             "startlinecolor": "#2a3f5f"
            },
            "type": "carpet"
           }
          ],
          "choropleth": [
           {
            "colorbar": {
             "outlinewidth": 0,
             "ticks": ""
            },
            "type": "choropleth"
           }
          ],
          "contour": [
           {
            "colorbar": {
             "outlinewidth": 0,
             "ticks": ""
            },
            "colorscale": [
             [
              0,
              "#0d0887"
             ],
             [
              0.1111111111111111,
              "#46039f"
             ],
             [
              0.2222222222222222,
              "#7201a8"
             ],
             [
              0.3333333333333333,
              "#9c179e"
             ],
             [
              0.4444444444444444,
              "#bd3786"
             ],
             [
              0.5555555555555556,
              "#d8576b"
             ],
             [
              0.6666666666666666,
              "#ed7953"
             ],
             [
              0.7777777777777778,
              "#fb9f3a"
             ],
             [
              0.8888888888888888,
              "#fdca26"
             ],
             [
              1,
              "#f0f921"
             ]
            ],
            "type": "contour"
           }
          ],
          "contourcarpet": [
           {
            "colorbar": {
             "outlinewidth": 0,
             "ticks": ""
            },
            "type": "contourcarpet"
           }
          ],
          "heatmap": [
           {
            "colorbar": {
             "outlinewidth": 0,
             "ticks": ""
            },
            "colorscale": [
             [
              0,
              "#0d0887"
             ],
             [
              0.1111111111111111,
              "#46039f"
             ],
             [
              0.2222222222222222,
              "#7201a8"
             ],
             [
              0.3333333333333333,
              "#9c179e"
             ],
             [
              0.4444444444444444,
              "#bd3786"
             ],
             [
              0.5555555555555556,
              "#d8576b"
             ],
             [
              0.6666666666666666,
              "#ed7953"
             ],
             [
              0.7777777777777778,
              "#fb9f3a"
             ],
             [
              0.8888888888888888,
              "#fdca26"
             ],
             [
              1,
              "#f0f921"
             ]
            ],
            "type": "heatmap"
           }
          ],
          "heatmapgl": [
           {
            "colorbar": {
             "outlinewidth": 0,
             "ticks": ""
            },
            "colorscale": [
             [
              0,
              "#0d0887"
             ],
             [
              0.1111111111111111,
              "#46039f"
             ],
             [
              0.2222222222222222,
              "#7201a8"
             ],
             [
              0.3333333333333333,
              "#9c179e"
             ],
             [
              0.4444444444444444,
              "#bd3786"
             ],
             [
              0.5555555555555556,
              "#d8576b"
             ],
             [
              0.6666666666666666,
              "#ed7953"
             ],
             [
              0.7777777777777778,
              "#fb9f3a"
             ],
             [
              0.8888888888888888,
              "#fdca26"
             ],
             [
              1,
              "#f0f921"
             ]
            ],
            "type": "heatmapgl"
           }
          ],
          "histogram": [
           {
            "marker": {
             "pattern": {
              "fillmode": "overlay",
              "size": 10,
              "solidity": 0.2
             }
            },
            "type": "histogram"
           }
          ],
          "histogram2d": [
           {
            "colorbar": {
             "outlinewidth": 0,
             "ticks": ""
            },
            "colorscale": [
             [
              0,
              "#0d0887"
             ],
             [
              0.1111111111111111,
              "#46039f"
             ],
             [
              0.2222222222222222,
              "#7201a8"
             ],
             [
              0.3333333333333333,
              "#9c179e"
             ],
             [
              0.4444444444444444,
              "#bd3786"
             ],
             [
              0.5555555555555556,
              "#d8576b"
             ],
             [
              0.6666666666666666,
              "#ed7953"
             ],
             [
              0.7777777777777778,
              "#fb9f3a"
             ],
             [
              0.8888888888888888,
              "#fdca26"
             ],
             [
              1,
              "#f0f921"
             ]
            ],
            "type": "histogram2d"
           }
          ],
          "histogram2dcontour": [
           {
            "colorbar": {
             "outlinewidth": 0,
             "ticks": ""
            },
            "colorscale": [
             [
              0,
              "#0d0887"
             ],
             [
              0.1111111111111111,
              "#46039f"
             ],
             [
              0.2222222222222222,
              "#7201a8"
             ],
             [
              0.3333333333333333,
              "#9c179e"
             ],
             [
              0.4444444444444444,
              "#bd3786"
             ],
             [
              0.5555555555555556,
              "#d8576b"
             ],
             [
              0.6666666666666666,
              "#ed7953"
             ],
             [
              0.7777777777777778,
              "#fb9f3a"
             ],
             [
              0.8888888888888888,
              "#fdca26"
             ],
             [
              1,
              "#f0f921"
             ]
            ],
            "type": "histogram2dcontour"
           }
          ],
          "mesh3d": [
           {
            "colorbar": {
             "outlinewidth": 0,
             "ticks": ""
            },
            "type": "mesh3d"
           }
          ],
          "parcoords": [
           {
            "line": {
             "colorbar": {
              "outlinewidth": 0,
              "ticks": ""
             }
            },
            "type": "parcoords"
           }
          ],
          "pie": [
           {
            "automargin": true,
            "type": "pie"
           }
          ],
          "scatter": [
           {
            "fillpattern": {
             "fillmode": "overlay",
             "size": 10,
             "solidity": 0.2
            },
            "type": "scatter"
           }
          ],
          "scatter3d": [
           {
            "line": {
             "colorbar": {
              "outlinewidth": 0,
              "ticks": ""
             }
            },
            "marker": {
             "colorbar": {
              "outlinewidth": 0,
              "ticks": ""
             }
            },
            "type": "scatter3d"
           }
          ],
          "scattercarpet": [
           {
            "marker": {
             "colorbar": {
              "outlinewidth": 0,
              "ticks": ""
             }
            },
            "type": "scattercarpet"
           }
          ],
          "scattergeo": [
           {
            "marker": {
             "colorbar": {
              "outlinewidth": 0,
              "ticks": ""
             }
            },
            "type": "scattergeo"
           }
          ],
          "scattergl": [
           {
            "marker": {
             "colorbar": {
              "outlinewidth": 0,
              "ticks": ""
             }
            },
            "type": "scattergl"
           }
          ],
          "scattermapbox": [
           {
            "marker": {
             "colorbar": {
              "outlinewidth": 0,
              "ticks": ""
             }
            },
            "type": "scattermapbox"
           }
          ],
          "scatterpolar": [
           {
            "marker": {
             "colorbar": {
              "outlinewidth": 0,
              "ticks": ""
             }
            },
            "type": "scatterpolar"
           }
          ],
          "scatterpolargl": [
           {
            "marker": {
             "colorbar": {
              "outlinewidth": 0,
              "ticks": ""
             }
            },
            "type": "scatterpolargl"
           }
          ],
          "scatterternary": [
           {
            "marker": {
             "colorbar": {
              "outlinewidth": 0,
              "ticks": ""
             }
            },
            "type": "scatterternary"
           }
          ],
          "surface": [
           {
            "colorbar": {
             "outlinewidth": 0,
             "ticks": ""
            },
            "colorscale": [
             [
              0,
              "#0d0887"
             ],
             [
              0.1111111111111111,
              "#46039f"
             ],
             [
              0.2222222222222222,
              "#7201a8"
             ],
             [
              0.3333333333333333,
              "#9c179e"
             ],
             [
              0.4444444444444444,
              "#bd3786"
             ],
             [
              0.5555555555555556,
              "#d8576b"
             ],
             [
              0.6666666666666666,
              "#ed7953"
             ],
             [
              0.7777777777777778,
              "#fb9f3a"
             ],
             [
              0.8888888888888888,
              "#fdca26"
             ],
             [
              1,
              "#f0f921"
             ]
            ],
            "type": "surface"
           }
          ],
          "table": [
           {
            "cells": {
             "fill": {
              "color": "#EBF0F8"
             },
             "line": {
              "color": "white"
             }
            },
            "header": {
             "fill": {
              "color": "#C8D4E3"
             },
             "line": {
              "color": "white"
             }
            },
            "type": "table"
           }
          ]
         },
         "layout": {
          "annotationdefaults": {
           "arrowcolor": "#2a3f5f",
           "arrowhead": 0,
           "arrowwidth": 1
          },
          "autotypenumbers": "strict",
          "coloraxis": {
           "colorbar": {
            "outlinewidth": 0,
            "ticks": ""
           }
          },
          "colorscale": {
           "diverging": [
            [
             0,
             "#8e0152"
            ],
            [
             0.1,
             "#c51b7d"
            ],
            [
             0.2,
             "#de77ae"
            ],
            [
             0.3,
             "#f1b6da"
            ],
            [
             0.4,
             "#fde0ef"
            ],
            [
             0.5,
             "#f7f7f7"
            ],
            [
             0.6,
             "#e6f5d0"
            ],
            [
             0.7,
             "#b8e186"
            ],
            [
             0.8,
             "#7fbc41"
            ],
            [
             0.9,
             "#4d9221"
            ],
            [
             1,
             "#276419"
            ]
           ],
           "sequential": [
            [
             0,
             "#0d0887"
            ],
            [
             0.1111111111111111,
             "#46039f"
            ],
            [
             0.2222222222222222,
             "#7201a8"
            ],
            [
             0.3333333333333333,
             "#9c179e"
            ],
            [
             0.4444444444444444,
             "#bd3786"
            ],
            [
             0.5555555555555556,
             "#d8576b"
            ],
            [
             0.6666666666666666,
             "#ed7953"
            ],
            [
             0.7777777777777778,
             "#fb9f3a"
            ],
            [
             0.8888888888888888,
             "#fdca26"
            ],
            [
             1,
             "#f0f921"
            ]
           ],
           "sequentialminus": [
            [
             0,
             "#0d0887"
            ],
            [
             0.1111111111111111,
             "#46039f"
            ],
            [
             0.2222222222222222,
             "#7201a8"
            ],
            [
             0.3333333333333333,
             "#9c179e"
            ],
            [
             0.4444444444444444,
             "#bd3786"
            ],
            [
             0.5555555555555556,
             "#d8576b"
            ],
            [
             0.6666666666666666,
             "#ed7953"
            ],
            [
             0.7777777777777778,
             "#fb9f3a"
            ],
            [
             0.8888888888888888,
             "#fdca26"
            ],
            [
             1,
             "#f0f921"
            ]
           ]
          },
          "colorway": [
           "#636efa",
           "#EF553B",
           "#00cc96",
           "#ab63fa",
           "#FFA15A",
           "#19d3f3",
           "#FF6692",
           "#B6E880",
           "#FF97FF",
           "#FECB52"
          ],
          "font": {
           "color": "#2a3f5f"
          },
          "geo": {
           "bgcolor": "white",
           "lakecolor": "white",
           "landcolor": "#E5ECF6",
           "showlakes": true,
           "showland": true,
           "subunitcolor": "white"
          },
          "hoverlabel": {
           "align": "left"
          },
          "hovermode": "closest",
          "mapbox": {
           "style": "light"
          },
          "paper_bgcolor": "white",
          "plot_bgcolor": "#E5ECF6",
          "polar": {
           "angularaxis": {
            "gridcolor": "white",
            "linecolor": "white",
            "ticks": ""
           },
           "bgcolor": "#E5ECF6",
           "radialaxis": {
            "gridcolor": "white",
            "linecolor": "white",
            "ticks": ""
           }
          },
          "scene": {
           "xaxis": {
            "backgroundcolor": "#E5ECF6",
            "gridcolor": "white",
            "gridwidth": 2,
            "linecolor": "white",
            "showbackground": true,
            "ticks": "",
            "zerolinecolor": "white"
           },
           "yaxis": {
            "backgroundcolor": "#E5ECF6",
            "gridcolor": "white",
            "gridwidth": 2,
            "linecolor": "white",
            "showbackground": true,
            "ticks": "",
            "zerolinecolor": "white"
           },
           "zaxis": {
            "backgroundcolor": "#E5ECF6",
            "gridcolor": "white",
            "gridwidth": 2,
            "linecolor": "white",
            "showbackground": true,
            "ticks": "",
            "zerolinecolor": "white"
           }
          },
          "shapedefaults": {
           "line": {
            "color": "#2a3f5f"
           }
          },
          "ternary": {
           "aaxis": {
            "gridcolor": "white",
            "linecolor": "white",
            "ticks": ""
           },
           "baxis": {
            "gridcolor": "white",
            "linecolor": "white",
            "ticks": ""
           },
           "bgcolor": "#E5ECF6",
           "caxis": {
            "gridcolor": "white",
            "linecolor": "white",
            "ticks": ""
           }
          },
          "title": {
           "x": 0.05
          },
          "xaxis": {
           "automargin": true,
           "gridcolor": "white",
           "linecolor": "white",
           "ticks": "",
           "title": {
            "standoff": 15
           },
           "zerolinecolor": "white",
           "zerolinewidth": 2
          },
          "yaxis": {
           "automargin": true,
           "gridcolor": "white",
           "linecolor": "white",
           "ticks": "",
           "title": {
            "standoff": 15
           },
           "zerolinecolor": "white",
           "zerolinewidth": 2
          }
         }
        },
        "title": {
         "text": "Agreeability Coefficients and Model Scores Over Algorithm Iterations"
        },
        "xaxis": {
         "anchor": "y",
         "domain": [
          0,
          0.94
         ],
         "title": {
          "text": "Iteration"
         },
         "type": "category"
        },
        "yaxis": {
         "anchor": "x",
         "domain": [
          0,
          1
         ],
         "title": {
          "text": "Agreeability"
         }
        },
        "yaxis2": {
         "anchor": "x",
         "overlaying": "y",
         "side": "right",
         "title": {
          "text": "Model Scores"
         }
        }
       }
      }
     },
     "metadata": {},
     "output_type": "display_data"
    }
   ],
   "source": [
    "# We can now look at the interactive plot\n",
    "seeker.plot_from_results()"
   ]
  },
  {
   "cell_type": "markdown",
   "metadata": {},
   "source": [
    "**New functionality:**\n",
    "\n",
    "I have added a new method to the framework that allows us to compare how statistically different the $n$ amount of best results from each models are from each-other - if we let $n=2$, then we are testing best results from model 1 with second best results from model 1, and testing best results from model 2 with second best results from model 2.\n",
    "\n",
    "Some experiments on the small dataset we have for demonstrational purposes shows that test statistics (t-test in this regression task, and mcnemar's test for classification task further down in the notebook) already shows that test statistics when comparing predictions of linear / logistic regressors are stable, while test statistics from comparing decision tree models tend do highly with different features."
   ]
  },
  {
   "cell_type": "code",
   "execution_count": 29,
   "metadata": {},
   "outputs": [
    {
     "name": "stdout",
     "output_type": "stream",
     "text": [
      "\u001b[0;31mSignature:\u001b[0m \u001b[0mseeker\u001b[0m\u001b[0;34m.\u001b[0m\u001b[0mcompare_n_best\u001b[0m\u001b[0;34m(\u001b[0m\u001b[0mn\u001b[0m\u001b[0;34m=\u001b[0m\u001b[0;32mNone\u001b[0m\u001b[0;34m,\u001b[0m \u001b[0mtest\u001b[0m\u001b[0;34m=\u001b[0m\u001b[0;32mNone\u001b[0m\u001b[0;34m)\u001b[0m\u001b[0;34m\u001b[0m\u001b[0;34m\u001b[0m\u001b[0m\n",
      "\u001b[0;31mDocstring:\u001b[0m\n",
      "Method for pair-wise comparison of n amount of best predictions obtained by the models.\n",
      "The pairwise tests are conducted within the predictions of each models and will test if predictions obtained are statistically significantly different from each other.\n",
      "\n",
      "Args:\n",
      "    n (int): How many best results to compare.\n",
      "    test (str): Statistical test to use. Options: 'mcnemar_binomial' and 'mcnemar_chisquare' for binary classification. 't_test' for regression.\n",
      "\n",
      "Returns:\n",
      "    None. pval_and_stats_m1 and pval_and_stats_m2 are callable lists containing corresponding test statistics and p-values.\n",
      "\n",
      "Example: Setting n=3 will test:\n",
      "        - M1: best predictions against second best predictions; second best predictions and third best predictions.\n",
      "        - M2: best predictions against second best predictions; second best predictions and third best predictions. \n",
      "\u001b[0;31mFile:\u001b[0m      /tmp/ipykernel_130701/3955809732.py\n",
      "\u001b[0;31mType:\u001b[0m      method"
     ]
    }
   ],
   "source": [
    "# You can further inspect my documentation for this functionality\n",
    "seeker.compare_n_best?"
   ]
  },
  {
   "cell_type": "code",
   "execution_count": 30,
   "metadata": {},
   "outputs": [
    {
     "name": "stdout",
     "output_type": "stream",
     "text": [
      "Model 1: Results for No. 1 and No. 2 best predictions: P-value: 0.70239521. Test statistic: -0.38210314.\n",
      "Model 2: Results for No. 1 and No. 2 best predictions: P-value: 0.77188139. Test statistic: -0.28992436.\n",
      "========================================================================================================================\n",
      "Model 1: Results for No. 2 and No. 3 best predictions: P-value: 0.70189896. Test statistic: -0.38277231.\n",
      "Model 2: Results for No. 2 and No. 3 best predictions: P-value: 0.94458274. Test statistic: 0.06951329.\n",
      "========================================================================================================================\n",
      "Model 1: Results for No. 3 and No. 4 best predictions: P-value: 0.70389361. Test statistic: -0.38008364.\n",
      "Model 2: Results for No. 3 and No. 4 best predictions: P-value: 0.48370647. Test statistic: -0.70038528.\n",
      "========================================================================================================================\n",
      "Model 1: Results for No. 4 and No. 5 best predictions: P-value: 0.69560290. Test statistic: -0.39127734.\n",
      "Model 2: Results for No. 4 and No. 5 best predictions: P-value: 0.67762958. Test statistic: -0.41571472.\n",
      "========================================================================================================================\n",
      "Model 1: Results for No. 5 and No. 6 best predictions: P-value: 0.73395124. Test statistic: -0.33988637.\n",
      "Model 2: Results for No. 5 and No. 6 best predictions: P-value: 0.48437545. Test statistic: -0.69931412.\n",
      "========================================================================================================================\n",
      "Model 1: Results for No. 6 and No. 7 best predictions: P-value: 0.70076084. Test statistic: -0.38430779.\n",
      "Model 2: Results for No. 6 and No. 7 best predictions: P-value: 0.38450176. Test statistic: -0.86967786.\n",
      "========================================================================================================================\n",
      "Model 1: Results for No. 7 and No. 8 best predictions: P-value: 0.79582729. Test statistic: 0.25876037.\n",
      "Model 2: Results for No. 7 and No. 8 best predictions: P-value: 0.21476852. Test statistic: -1.24065491.\n",
      "========================================================================================================================\n",
      "Model 1: Results for No. 8 and No. 9 best predictions: P-value: 0.77403698. Test statistic: 0.28710888.\n",
      "Model 2: Results for No. 8 and No. 9 best predictions: P-value: 0.15870383. Test statistic: -1.40960592.\n",
      "========================================================================================================================\n"
     ]
    }
   ],
   "source": [
    "seeker.compare_n_best(n=9, test='t_test')"
   ]
  },
  {
   "cell_type": "code",
   "execution_count": 31,
   "metadata": {},
   "outputs": [],
   "source": [
    "# The pvalues and test statistics can be saved as variables (list of tuples (p_value, test_statistic))\n",
    "pval_and_stats_m1 = seeker.pval_and_stats_m1\n",
    "pval_and_stats_m2 = seeker.pval_and_stats_m2"
   ]
  },
  {
   "cell_type": "markdown",
   "metadata": {},
   "source": [
    "(A note for self, disregard). How the indexing works in scores_and_preds. The resulting list has three possible indexing.\n",
    "\n",
    "$\\text{score} = \\text{list}[i][j][k]$, where $i$ ranges from $0$ to the maximum number of iteration of the search algorithm (however-many features we dropped before ending up with one feature), $j$ ranges from $0$ to $1$ with $0$ grabbing the score and $1$ grabbing the preds, and $k$ ranges from 0 to however-many features could be dropped during the iteration of search algorithm (for example at the very first iteration all $n$ amount of features can be dropped, thus $k$ will have that many things.)"
   ]
  },
  {
   "cell_type": "markdown",
   "metadata": {},
   "source": [
    "### Check functionality on a classification task"
   ]
  },
  {
   "cell_type": "markdown",
   "metadata": {},
   "source": [
    "Below I do not include detailed comments at the moment as we just re-run everything but with a different (binary) target"
   ]
  },
  {
   "cell_type": "code",
   "execution_count": 32,
   "metadata": {},
   "outputs": [
    {
     "name": "stdout",
     "output_type": "stream",
     "text": [
      "<class 'pandas.core.frame.DataFrame'>\n",
      "RangeIndex: 20640 entries, 0 to 20639\n",
      "Data columns (total 13 columns):\n",
      " #   Column              Non-Null Count  Dtype  \n",
      "---  ------              --------------  -----  \n",
      " 0   MedInc              20640 non-null  float64\n",
      " 1   HouseAge            20640 non-null  float64\n",
      " 2   AveRooms            20640 non-null  float64\n",
      " 3   AveBedrms           20640 non-null  float64\n",
      " 4   Population          20640 non-null  float64\n",
      " 5   AveOccup            20640 non-null  float64\n",
      " 6   Latitude            20640 non-null  float64\n",
      " 7   Longitude           20640 non-null  float64\n",
      " 8   HouseEval_nice      20640 non-null  uint8  \n",
      " 9   HouseEval_not_nice  20640 non-null  uint8  \n",
      " 10  WallColors_gray     20640 non-null  uint8  \n",
      " 11  WallColors_white    20640 non-null  uint8  \n",
      " 12  AboveMean           20640 non-null  int64  \n",
      "dtypes: float64(8), int64(1), uint8(4)\n",
      "memory usage: 1.5 MB\n"
     ]
    }
   ],
   "source": [
    "df_discrete.info()"
   ]
  },
  {
   "cell_type": "code",
   "execution_count": 33,
   "metadata": {},
   "outputs": [],
   "source": [
    "# Use binary target\n",
    "y = df_discrete['AboveMean']\n",
    "X = df_discrete.drop('AboveMean', axis=1)\n"
   ]
  },
  {
   "cell_type": "code",
   "execution_count": 34,
   "metadata": {},
   "outputs": [],
   "source": [
    "X_train, X_val, y_train, y_val = train_test_split(X, y, test_size=0.2, random_state=66)"
   ]
  },
  {
   "cell_type": "code",
   "execution_count": 35,
   "metadata": {},
   "outputs": [],
   "source": [
    "from sklearn.linear_model import LogisticRegression\n",
    "from sklearn.tree import DecisionTreeClassifier"
   ]
  },
  {
   "cell_type": "code",
   "execution_count": 36,
   "metadata": {},
   "outputs": [],
   "source": [
    "m1 = LogisticRegression(solver='liblinear')\n",
    "m2 = DecisionTreeClassifier()"
   ]
  },
  {
   "cell_type": "code",
   "execution_count": 37,
   "metadata": {},
   "outputs": [],
   "source": [
    "# Save this class under a different name\n",
    "seeker_2 = BackEliminator(\n",
    "    X=X_train,\n",
    "    y=y_train,\n",
    "    validation_data=(X_val, y_val),\n",
    "    task_type='classification',\n",
    "    criterion='f1',\n",
    "    agreeability='cohen_kappa',\n",
    "    dummy_list=dummy_list\n",
    ")"
   ]
  },
  {
   "cell_type": "code",
   "execution_count": 38,
   "metadata": {},
   "outputs": [
    {
     "name": "stdout",
     "output_type": "stream",
     "text": [
      "Initial run: fitted both models with full feature set.\n",
      "------------------------------------------------------------------------------------------------------------------------------------------------------\n",
      "Model 1 included: ['MedInc', 'HouseAge', 'AveRooms', 'AveBedrms', 'Population', 'AveOccup', 'Latitude', 'Longitude', ['HouseEval_nice', 'HouseEval_not_nice'], ['WallColors_gray', 'WallColors_white']]. F1: 0.7773\n",
      "Model 2 included: ['MedInc', 'HouseAge', 'AveRooms', 'AveBedrms', 'Population', 'AveOccup', 'Latitude', 'Longitude', ['HouseEval_nice', 'HouseEval_not_nice'], ['WallColors_gray', 'WallColors_white']]. F1: 0.7961\n",
      "------------------------------------------------------------------------------------------------------------------------------------------------------\n",
      "Agreeability Coefficient (cohen_kappa): 0.6436\n",
      "======================================================================================================================================================\n",
      "Iteration 1:\n",
      "------------------------------------------------------------------------------------------------------------------------------------------------------\n",
      "Results from best models:\n",
      "Best Model 1 included: ['MedInc', 'HouseAge', 'AveRooms', 'AveBedrms', 'AveOccup', 'Latitude', 'Longitude', ['HouseEval_nice', 'HouseEval_not_nice'], ['WallColors_gray', 'WallColors_white']]. F1: 0.7814\n",
      "Best Model 2 included: ['HouseAge', 'AveRooms', 'AveBedrms', 'Population', 'AveOccup', 'Latitude', 'Longitude', ['HouseEval_nice', 'HouseEval_not_nice'], ['WallColors_gray', 'WallColors_white']]. F1: 0.8121\n",
      "Agreeability Coefficient (cohen_kappa) between best models: 0.5663865546218487\n",
      "------------------------------------------------------------------------------------------------------------------------------------------------------\n",
      "Results from all models:\n",
      "M1 mean score: 0.7609. Standard deviation: 0.0304\n",
      "M1 mean score: 0.7868. Standard deviation: 0.0198\n",
      "Mean agreeability coefficient (cohen_kappa): 0.5929. Standard deviation: 0.0574\n",
      "======================================================================================================================================================\n",
      "Iteration 2:\n",
      "------------------------------------------------------------------------------------------------------------------------------------------------------\n",
      "Results from best models:\n",
      "Best Model 1 included: ['MedInc', 'HouseAge', 'AveRooms', 'AveOccup', 'Latitude', 'Longitude', ['HouseEval_nice', 'HouseEval_not_nice'], ['WallColors_gray', 'WallColors_white']]. F1: 0.7820\n",
      "Best Model 2 included: ['HouseAge', 'AveRooms', 'Population', 'AveOccup', 'Latitude', 'Longitude', ['HouseEval_nice', 'HouseEval_not_nice'], ['WallColors_gray', 'WallColors_white']]. F1: 0.8219\n",
      "Agreeability Coefficient (cohen_kappa) between best models: 0.5860775516198081\n",
      "------------------------------------------------------------------------------------------------------------------------------------------------------\n",
      "Results from all models:\n",
      "M1 mean score: 0.7649. Standard deviation: 0.0254\n",
      "M1 mean score: 0.7888. Standard deviation: 0.0423\n",
      "Mean agreeability coefficient (cohen_kappa): 0.5354. Standard deviation: 0.0557\n",
      "======================================================================================================================================================\n",
      "Iteration 3:\n",
      "------------------------------------------------------------------------------------------------------------------------------------------------------\n",
      "Results from best models:\n",
      "Best Model 1 included: ['MedInc', 'HouseAge', 'AveRooms', 'AveOccup', 'Latitude', 'Longitude', ['WallColors_gray', 'WallColors_white']]. F1: 0.7824\n",
      "Best Model 2 included: ['HouseAge', 'AveRooms', 'Population', 'AveOccup', 'Latitude', 'Longitude', ['WallColors_gray', 'WallColors_white']]. F1: 0.8297\n",
      "Agreeability Coefficient (cohen_kappa) between best models: 0.5914710488391536\n",
      "------------------------------------------------------------------------------------------------------------------------------------------------------\n",
      "Results from all models:\n",
      "M1 mean score: 0.7533. Standard deviation: 0.0429\n",
      "M1 mean score: 0.7878. Standard deviation: 0.0448\n",
      "Mean agreeability coefficient (cohen_kappa): 0.5166. Standard deviation: 0.0755\n",
      "======================================================================================================================================================\n",
      "Iteration 4:\n",
      "------------------------------------------------------------------------------------------------------------------------------------------------------\n",
      "Results from best models:\n",
      "Best Model 1 included: ['MedInc', 'HouseAge', 'AveRooms', 'AveOccup', 'Latitude', 'Longitude']. F1: 0.7808\n",
      "Best Model 2 included: ['HouseAge', 'AveRooms', 'Population', 'Latitude', 'Longitude', ['WallColors_gray', 'WallColors_white']]. F1: 0.8261\n",
      "Agreeability Coefficient (cohen_kappa) between best models: 0.5663779344549327\n",
      "------------------------------------------------------------------------------------------------------------------------------------------------------\n",
      "Results from all models:\n",
      "M1 mean score: 0.7494. Standard deviation: 0.0446\n",
      "M1 mean score: 0.7837. Standard deviation: 0.0498\n",
      "Mean agreeability coefficient (cohen_kappa): 0.5034. Standard deviation: 0.0769\n",
      "======================================================================================================================================================\n",
      "Iteration 5:\n",
      "------------------------------------------------------------------------------------------------------------------------------------------------------\n",
      "Results from best models:\n",
      "Best Model 1 included: ['MedInc', 'HouseAge', 'AveOccup', 'Latitude', 'Longitude']. F1: 0.7764\n",
      "Best Model 2 included: ['HouseAge', 'AveRooms', 'Population', 'Latitude', 'Longitude']. F1: 0.8281\n",
      "Agreeability Coefficient (cohen_kappa) between best models: 0.5824251354369012\n",
      "------------------------------------------------------------------------------------------------------------------------------------------------------\n",
      "Results from all models:\n",
      "M1 mean score: 0.7439. Standard deviation: 0.0456\n",
      "M1 mean score: 0.7611. Standard deviation: 0.0829\n",
      "Mean agreeability coefficient (cohen_kappa): 0.4694. Standard deviation: 0.1254\n",
      "======================================================================================================================================================\n",
      "Iteration 6:\n",
      "------------------------------------------------------------------------------------------------------------------------------------------------------\n",
      "Results from best models:\n",
      "Best Model 1 included: ['MedInc', 'AveOccup', 'Latitude', 'Longitude']. F1: 0.7670\n",
      "Best Model 2 included: ['HouseAge', 'AveRooms', 'Latitude', 'Longitude']. F1: 0.8279\n",
      "Agreeability Coefficient (cohen_kappa) between best models: 0.557864132747128\n",
      "------------------------------------------------------------------------------------------------------------------------------------------------------\n",
      "Results from all models:\n",
      "M1 mean score: 0.7176. Standard deviation: 0.0732\n",
      "M1 mean score: 0.7539. Standard deviation: 0.0838\n",
      "Mean agreeability coefficient (cohen_kappa): 0.4184. Standard deviation: 0.1650\n",
      "======================================================================================================================================================\n",
      "Iteration 7:\n",
      "------------------------------------------------------------------------------------------------------------------------------------------------------\n",
      "Results from best models:\n",
      "Best Model 1 included: ['MedInc', 'AveOccup', 'Latitude']. F1: 0.7451\n",
      "Best Model 2 included: ['HouseAge', 'Latitude', 'Longitude']. F1: 0.8303\n",
      "Agreeability Coefficient (cohen_kappa) between best models: 0.4933103582556446\n",
      "------------------------------------------------------------------------------------------------------------------------------------------------------\n",
      "Results from all models:\n",
      "M1 mean score: 0.6853. Standard deviation: 0.0769\n",
      "M1 mean score: 0.7421. Standard deviation: 0.0861\n",
      "Mean agreeability coefficient (cohen_kappa): 0.3717. Standard deviation: 0.1634\n",
      "======================================================================================================================================================\n",
      "Iteration 8:\n",
      "------------------------------------------------------------------------------------------------------------------------------------------------------\n",
      "Results from best models:\n",
      "Best Model 1 included: ['MedInc', 'AveOccup']. F1: 0.7382\n",
      "Best Model 2 included: ['Latitude', 'Longitude']. F1: 0.8400\n",
      "Agreeability Coefficient (cohen_kappa) between best models: 0.5106450416022617\n",
      "------------------------------------------------------------------------------------------------------------------------------------------------------\n",
      "Results from all models:\n",
      "M1 mean score: 0.6158. Standard deviation: 0.1379\n",
      "M1 mean score: 0.6662. Standard deviation: 0.1237\n",
      "Mean agreeability coefficient (cohen_kappa): 0.2579. Standard deviation: 0.1858\n",
      "======================================================================================================================================================\n",
      "Iteration 9:\n",
      "------------------------------------------------------------------------------------------------------------------------------------------------------\n",
      "Results from best models:\n",
      "Best Model 1 included: ['MedInc']. F1: 0.6912\n",
      "Best Model 2 included: ['Longitude']. F1: 0.6158\n",
      "Agreeability Coefficient (cohen_kappa) between best models: 0.2202984662586311\n",
      "------------------------------------------------------------------------------------------------------------------------------------------------------\n",
      "Results from all models:\n",
      "M1 mean score: 0.5278. Standard deviation: 0.1635\n",
      "M1 mean score: 0.6084. Standard deviation: 0.0074\n",
      "Mean agreeability coefficient (cohen_kappa): 0.1412. Standard deviation: 0.0791\n",
      "======================================================================================================================================================\n"
     ]
    }
   ],
   "source": [
    "results_2 = seeker_2.compare_all_models(\n",
    "    m1=m1,\n",
    "    m2=m2\n",
    ")"
   ]
  },
  {
   "cell_type": "code",
   "execution_count": 41,
   "metadata": {},
   "outputs": [
    {
     "data": {
      "text/plain": [
       "[{'Best: M1 Included Features': ['MedInc',\n",
       "   'HouseAge',\n",
       "   'AveRooms',\n",
       "   'AveBedrms',\n",
       "   'Population',\n",
       "   'AveOccup',\n",
       "   'Latitude',\n",
       "   'Longitude',\n",
       "   'HouseEval_nice',\n",
       "   'HouseEval_not_nice',\n",
       "   'WallColors_gray',\n",
       "   'WallColors_white'],\n",
       "  'Best: M1 f1': 0.7772713460954117,\n",
       "  'Best: M2 Included Features': ['MedInc',\n",
       "   'HouseAge',\n",
       "   'AveRooms',\n",
       "   'AveBedrms',\n",
       "   'Population',\n",
       "   'AveOccup',\n",
       "   'Latitude',\n",
       "   'Longitude',\n",
       "   'HouseEval_nice',\n",
       "   'HouseEval_not_nice',\n",
       "   'WallColors_gray',\n",
       "   'WallColors_white'],\n",
       "  'Best: M2 f1': 0.7960877296976882,\n",
       "  'Best: Agreeability (cohen_kappa)': 0.643642219845067,\n",
       "  'All: M1 Mean f1': 0.7772713460954117,\n",
       "  'All: M1 STD f1': 0,\n",
       "  'All: M2 Mean f1': 0.7960877296976882,\n",
       "  'All: M2 STD f1': 0,\n",
       "  'All: Mean Agreeability (cohen_kappa)': 0.643642219845067,\n",
       "  'All: Agreeability St. Dev.': 0},\n",
       " {'Best: M1 Included Features': ['MedInc',\n",
       "   'HouseAge',\n",
       "   'AveRooms',\n",
       "   'AveBedrms',\n",
       "   'AveOccup',\n",
       "   'Latitude',\n",
       "   'Longitude',\n",
       "   'HouseEval_nice',\n",
       "   'HouseEval_not_nice',\n",
       "   'WallColors_gray',\n",
       "   'WallColors_white'],\n",
       "  'Best: M1 f1': 0.7814489239163382,\n",
       "  'Best: M2 Included Features': ['HouseAge',\n",
       "   'AveRooms',\n",
       "   'AveBedrms',\n",
       "   'Population',\n",
       "   'AveOccup',\n",
       "   'Latitude',\n",
       "   'Longitude',\n",
       "   'HouseEval_nice',\n",
       "   'HouseEval_not_nice',\n",
       "   'WallColors_gray',\n",
       "   'WallColors_white'],\n",
       "  'Best: M2 f1': 0.8121104185218165,\n",
       "  'Best: Agreeability (cohen_kappa)': 0.5663865546218487,\n",
       "  'All: M1 Mean f1': 0.7608906025351441,\n",
       "  'All: M1 STD f1': 0.030382922171918646,\n",
       "  'All: M2 Mean f1': 0.7867648006223342,\n",
       "  'All: M2 STD f1': 0.01980557502722589,\n",
       "  'All: Mean Agreeability (cohen_kappa)': 0.59290053064185,\n",
       "  'All: Agreeability St. Dev.': 0.057391028610328576},\n",
       " {'Best: M1 Included Features': ['MedInc',\n",
       "   'HouseAge',\n",
       "   'AveRooms',\n",
       "   'AveOccup',\n",
       "   'Latitude',\n",
       "   'Longitude',\n",
       "   'HouseEval_nice',\n",
       "   'HouseEval_not_nice',\n",
       "   'WallColors_gray',\n",
       "   'WallColors_white'],\n",
       "  'Best: M1 f1': 0.7820048309178744,\n",
       "  'Best: M2 Included Features': ['HouseAge',\n",
       "   'AveRooms',\n",
       "   'Population',\n",
       "   'AveOccup',\n",
       "   'Latitude',\n",
       "   'Longitude',\n",
       "   'HouseEval_nice',\n",
       "   'HouseEval_not_nice',\n",
       "   'WallColors_gray',\n",
       "   'WallColors_white'],\n",
       "  'Best: M2 f1': 0.8218768679019725,\n",
       "  'Best: Agreeability (cohen_kappa)': 0.5860775516198081,\n",
       "  'All: M1 Mean f1': 0.7649301110086068,\n",
       "  'All: M1 STD f1': 0.02540187287297388,\n",
       "  'All: M2 Mean f1': 0.7888231823639509,\n",
       "  'All: M2 STD f1': 0.042269114232293716,\n",
       "  'All: Mean Agreeability (cohen_kappa)': 0.5353669375935572,\n",
       "  'All: Agreeability St. Dev.': 0.055699752261343466},\n",
       " {'Best: M1 Included Features': ['MedInc',\n",
       "   'HouseAge',\n",
       "   'AveRooms',\n",
       "   'AveOccup',\n",
       "   'Latitude',\n",
       "   'Longitude',\n",
       "   'WallColors_gray',\n",
       "   'WallColors_white'],\n",
       "  'Best: M1 f1': 0.7823990355635926,\n",
       "  'Best: M2 Included Features': ['HouseAge',\n",
       "   'AveRooms',\n",
       "   'Population',\n",
       "   'AveOccup',\n",
       "   'Latitude',\n",
       "   'Longitude',\n",
       "   'WallColors_gray',\n",
       "   'WallColors_white'],\n",
       "  'Best: M2 f1': 0.8297491039426522,\n",
       "  'Best: Agreeability (cohen_kappa)': 0.5914710488391536,\n",
       "  'All: M1 Mean f1': 0.7533030461310896,\n",
       "  'All: M1 STD f1': 0.04288774862760906,\n",
       "  'All: M2 Mean f1': 0.7878174465776541,\n",
       "  'All: M2 STD f1': 0.04477972872508046,\n",
       "  'All: Mean Agreeability (cohen_kappa)': 0.5166100265245844,\n",
       "  'All: Agreeability St. Dev.': 0.07551529978496592},\n",
       " {'Best: M1 Included Features': ['MedInc',\n",
       "   'HouseAge',\n",
       "   'AveRooms',\n",
       "   'AveOccup',\n",
       "   'Latitude',\n",
       "   'Longitude'],\n",
       "  'Best: M1 f1': 0.7807971014492755,\n",
       "  'Best: M2 Included Features': ['HouseAge',\n",
       "   'AveRooms',\n",
       "   'Population',\n",
       "   'Latitude',\n",
       "   'Longitude',\n",
       "   'WallColors_gray',\n",
       "   'WallColors_white'],\n",
       "  'Best: M2 f1': 0.8261390887290169,\n",
       "  'Best: Agreeability (cohen_kappa)': 0.5663779344549327,\n",
       "  'All: M1 Mean f1': 0.7493920235127719,\n",
       "  'All: M1 STD f1': 0.04461477114196508,\n",
       "  'All: M2 Mean f1': 0.7837408027662327,\n",
       "  'All: M2 STD f1': 0.049783760158072655,\n",
       "  'All: Mean Agreeability (cohen_kappa)': 0.503427877276383,\n",
       "  'All: Agreeability St. Dev.': 0.07693920892119584},\n",
       " {'Best: M1 Included Features': ['MedInc',\n",
       "   'HouseAge',\n",
       "   'AveOccup',\n",
       "   'Latitude',\n",
       "   'Longitude'],\n",
       "  'Best: M1 f1': 0.7763993948562784,\n",
       "  'Best: M2 Included Features': ['HouseAge',\n",
       "   'AveRooms',\n",
       "   'Population',\n",
       "   'Latitude',\n",
       "   'Longitude'],\n",
       "  'Best: M2 f1': 0.828125,\n",
       "  'Best: Agreeability (cohen_kappa)': 0.5824251354369012,\n",
       "  'All: M1 Mean f1': 0.7438614300459697,\n",
       "  'All: M1 STD f1': 0.045557281693751506,\n",
       "  'All: M2 Mean f1': 0.7610821671066693,\n",
       "  'All: M2 STD f1': 0.08290202851939843,\n",
       "  'All: Mean Agreeability (cohen_kappa)': 0.4694250459895768,\n",
       "  'All: Agreeability St. Dev.': 0.12538087806271533},\n",
       " {'Best: M1 Included Features': ['MedInc',\n",
       "   'AveOccup',\n",
       "   'Latitude',\n",
       "   'Longitude'],\n",
       "  'Best: M1 f1': 0.7670229007633588,\n",
       "  'Best: M2 Included Features': ['HouseAge',\n",
       "   'AveRooms',\n",
       "   'Latitude',\n",
       "   'Longitude'],\n",
       "  'Best: M2 f1': 0.8278958395689913,\n",
       "  'Best: Agreeability (cohen_kappa)': 0.557864132747128,\n",
       "  'All: M1 Mean f1': 0.7176197834299959,\n",
       "  'All: M1 STD f1': 0.07318186904774482,\n",
       "  'All: M2 Mean f1': 0.7538720109863343,\n",
       "  'All: M2 STD f1': 0.0837531775547488,\n",
       "  'All: Mean Agreeability (cohen_kappa)': 0.4184380259389878,\n",
       "  'All: Agreeability St. Dev.': 0.16502477781364486},\n",
       " {'Best: M1 Included Features': ['MedInc', 'AveOccup', 'Latitude'],\n",
       "  'Best: M1 f1': 0.7451343836886006,\n",
       "  'Best: M2 Included Features': ['HouseAge', 'Latitude', 'Longitude'],\n",
       "  'Best: M2 f1': 0.8303249097472926,\n",
       "  'Best: Agreeability (cohen_kappa)': 0.4933103582556446,\n",
       "  'All: M1 Mean f1': 0.6852704992073474,\n",
       "  'All: M1 STD f1': 0.07686153235484837,\n",
       "  'All: M2 Mean f1': 0.7420896039293748,\n",
       "  'All: M2 STD f1': 0.08605973734628693,\n",
       "  'All: Mean Agreeability (cohen_kappa)': 0.3717279401959309,\n",
       "  'All: Agreeability St. Dev.': 0.16336748231518342},\n",
       " {'Best: M1 Included Features': ['MedInc', 'AveOccup'],\n",
       "  'Best: M1 f1': 0.7381546134663343,\n",
       "  'Best: M2 Included Features': ['Latitude', 'Longitude'],\n",
       "  'Best: M2 f1': 0.8400122361578464,\n",
       "  'Best: Agreeability (cohen_kappa)': 0.5106450416022617,\n",
       "  'All: M1 Mean f1': 0.6158473888569961,\n",
       "  'All: M1 STD f1': 0.1378675666694671,\n",
       "  'All: M2 Mean f1': 0.6661506866311542,\n",
       "  'All: M2 STD f1': 0.12369612181029144,\n",
       "  'All: Mean Agreeability (cohen_kappa)': 0.25792690364064025,\n",
       "  'All: Agreeability St. Dev.': 0.1858326386510429},\n",
       " {'Best: M1 Included Features': ['MedInc'],\n",
       "  'Best: M1 f1': 0.6912144702842378,\n",
       "  'Best: M2 Included Features': ['Longitude'],\n",
       "  'Best: M2 f1': 0.615831987075929,\n",
       "  'Best: Agreeability (cohen_kappa)': 0.2202984662586311,\n",
       "  'All: M1 Mean f1': 0.5277573365619972,\n",
       "  'All: M1 STD f1': 0.16345713372224058,\n",
       "  'All: M2 Mean f1': 0.608411656487159,\n",
       "  'All: M2 STD f1': 0.007420330588770008,\n",
       "  'All: Mean Agreeability (cohen_kappa)': 0.1411717884366587,\n",
       "  'All: Agreeability St. Dev.': 0.07912667782197239}]"
      ]
     },
     "execution_count": 41,
     "metadata": {},
     "output_type": "execute_result"
    }
   ],
   "source": [
    "results_2"
   ]
  },
  {
   "cell_type": "code",
   "execution_count": 42,
   "metadata": {},
   "outputs": [],
   "source": [
    "results_df_2 = seeker_2.dataframe_from_results()"
   ]
  },
  {
   "cell_type": "code",
   "execution_count": 43,
   "metadata": {},
   "outputs": [
    {
     "data": {
      "text/html": [
       "<div>\n",
       "<style scoped>\n",
       "    .dataframe tbody tr th:only-of-type {\n",
       "        vertical-align: middle;\n",
       "    }\n",
       "\n",
       "    .dataframe tbody tr th {\n",
       "        vertical-align: top;\n",
       "    }\n",
       "\n",
       "    .dataframe thead th {\n",
       "        text-align: right;\n",
       "    }\n",
       "</style>\n",
       "<table border=\"1\" class=\"dataframe\">\n",
       "  <thead>\n",
       "    <tr style=\"text-align: right;\">\n",
       "      <th></th>\n",
       "      <th>Best: M1 Included Features</th>\n",
       "      <th>Best: M1 f1</th>\n",
       "      <th>Best: M2 Included Features</th>\n",
       "      <th>Best: M2 f1</th>\n",
       "      <th>Best: Agreeability (cohen_kappa)</th>\n",
       "      <th>All: M1 Mean f1</th>\n",
       "      <th>All: M1 STD f1</th>\n",
       "      <th>All: M2 Mean f1</th>\n",
       "      <th>All: M2 STD f1</th>\n",
       "      <th>All: Mean Agreeability (cohen_kappa)</th>\n",
       "      <th>All: Agreeability St. Dev.</th>\n",
       "    </tr>\n",
       "  </thead>\n",
       "  <tbody>\n",
       "    <tr>\n",
       "      <th>0</th>\n",
       "      <td>[MedInc, HouseAge, AveRooms, AveBedrms, Population, AveOccup, Latitude, Longitude, HouseEval_nice, HouseEval_not_nice, WallColors_gray, WallColors_white]</td>\n",
       "      <td>0.777271</td>\n",
       "      <td>[MedInc, HouseAge, AveRooms, AveBedrms, Population, AveOccup, Latitude, Longitude, HouseEval_nice, HouseEval_not_nice, WallColors_gray, WallColors_white]</td>\n",
       "      <td>0.796088</td>\n",
       "      <td>0.643642</td>\n",
       "      <td>0.777271</td>\n",
       "      <td>0.000000</td>\n",
       "      <td>0.796088</td>\n",
       "      <td>0.000000</td>\n",
       "      <td>0.643642</td>\n",
       "      <td>0.000000</td>\n",
       "    </tr>\n",
       "    <tr>\n",
       "      <th>1</th>\n",
       "      <td>[MedInc, HouseAge, AveRooms, AveBedrms, AveOccup, Latitude, Longitude, HouseEval_nice, HouseEval_not_nice, WallColors_gray, WallColors_white]</td>\n",
       "      <td>0.781449</td>\n",
       "      <td>[HouseAge, AveRooms, AveBedrms, Population, AveOccup, Latitude, Longitude, HouseEval_nice, HouseEval_not_nice, WallColors_gray, WallColors_white]</td>\n",
       "      <td>0.812110</td>\n",
       "      <td>0.566387</td>\n",
       "      <td>0.760891</td>\n",
       "      <td>0.030383</td>\n",
       "      <td>0.786765</td>\n",
       "      <td>0.019806</td>\n",
       "      <td>0.592901</td>\n",
       "      <td>0.057391</td>\n",
       "    </tr>\n",
       "    <tr>\n",
       "      <th>2</th>\n",
       "      <td>[MedInc, HouseAge, AveRooms, AveOccup, Latitude, Longitude, HouseEval_nice, HouseEval_not_nice, WallColors_gray, WallColors_white]</td>\n",
       "      <td>0.782005</td>\n",
       "      <td>[HouseAge, AveRooms, Population, AveOccup, Latitude, Longitude, HouseEval_nice, HouseEval_not_nice, WallColors_gray, WallColors_white]</td>\n",
       "      <td>0.821877</td>\n",
       "      <td>0.586078</td>\n",
       "      <td>0.764930</td>\n",
       "      <td>0.025402</td>\n",
       "      <td>0.788823</td>\n",
       "      <td>0.042269</td>\n",
       "      <td>0.535367</td>\n",
       "      <td>0.055700</td>\n",
       "    </tr>\n",
       "    <tr>\n",
       "      <th>3</th>\n",
       "      <td>[MedInc, HouseAge, AveRooms, AveOccup, Latitude, Longitude, WallColors_gray, WallColors_white]</td>\n",
       "      <td>0.782399</td>\n",
       "      <td>[HouseAge, AveRooms, Population, AveOccup, Latitude, Longitude, WallColors_gray, WallColors_white]</td>\n",
       "      <td>0.829749</td>\n",
       "      <td>0.591471</td>\n",
       "      <td>0.753303</td>\n",
       "      <td>0.042888</td>\n",
       "      <td>0.787817</td>\n",
       "      <td>0.044780</td>\n",
       "      <td>0.516610</td>\n",
       "      <td>0.075515</td>\n",
       "    </tr>\n",
       "    <tr>\n",
       "      <th>4</th>\n",
       "      <td>[MedInc, HouseAge, AveRooms, AveOccup, Latitude, Longitude]</td>\n",
       "      <td>0.780797</td>\n",
       "      <td>[HouseAge, AveRooms, Population, Latitude, Longitude, WallColors_gray, WallColors_white]</td>\n",
       "      <td>0.826139</td>\n",
       "      <td>0.566378</td>\n",
       "      <td>0.749392</td>\n",
       "      <td>0.044615</td>\n",
       "      <td>0.783741</td>\n",
       "      <td>0.049784</td>\n",
       "      <td>0.503428</td>\n",
       "      <td>0.076939</td>\n",
       "    </tr>\n",
       "    <tr>\n",
       "      <th>5</th>\n",
       "      <td>[MedInc, HouseAge, AveOccup, Latitude, Longitude]</td>\n",
       "      <td>0.776399</td>\n",
       "      <td>[HouseAge, AveRooms, Population, Latitude, Longitude]</td>\n",
       "      <td>0.828125</td>\n",
       "      <td>0.582425</td>\n",
       "      <td>0.743861</td>\n",
       "      <td>0.045557</td>\n",
       "      <td>0.761082</td>\n",
       "      <td>0.082902</td>\n",
       "      <td>0.469425</td>\n",
       "      <td>0.125381</td>\n",
       "    </tr>\n",
       "    <tr>\n",
       "      <th>6</th>\n",
       "      <td>[MedInc, AveOccup, Latitude, Longitude]</td>\n",
       "      <td>0.767023</td>\n",
       "      <td>[HouseAge, AveRooms, Latitude, Longitude]</td>\n",
       "      <td>0.827896</td>\n",
       "      <td>0.557864</td>\n",
       "      <td>0.717620</td>\n",
       "      <td>0.073182</td>\n",
       "      <td>0.753872</td>\n",
       "      <td>0.083753</td>\n",
       "      <td>0.418438</td>\n",
       "      <td>0.165025</td>\n",
       "    </tr>\n",
       "    <tr>\n",
       "      <th>7</th>\n",
       "      <td>[MedInc, AveOccup, Latitude]</td>\n",
       "      <td>0.745134</td>\n",
       "      <td>[HouseAge, Latitude, Longitude]</td>\n",
       "      <td>0.830325</td>\n",
       "      <td>0.493310</td>\n",
       "      <td>0.685270</td>\n",
       "      <td>0.076862</td>\n",
       "      <td>0.742090</td>\n",
       "      <td>0.086060</td>\n",
       "      <td>0.371728</td>\n",
       "      <td>0.163367</td>\n",
       "    </tr>\n",
       "    <tr>\n",
       "      <th>8</th>\n",
       "      <td>[MedInc, AveOccup]</td>\n",
       "      <td>0.738155</td>\n",
       "      <td>[Latitude, Longitude]</td>\n",
       "      <td>0.840012</td>\n",
       "      <td>0.510645</td>\n",
       "      <td>0.615847</td>\n",
       "      <td>0.137868</td>\n",
       "      <td>0.666151</td>\n",
       "      <td>0.123696</td>\n",
       "      <td>0.257927</td>\n",
       "      <td>0.185833</td>\n",
       "    </tr>\n",
       "    <tr>\n",
       "      <th>9</th>\n",
       "      <td>[MedInc]</td>\n",
       "      <td>0.691214</td>\n",
       "      <td>[Longitude]</td>\n",
       "      <td>0.615832</td>\n",
       "      <td>0.220298</td>\n",
       "      <td>0.527757</td>\n",
       "      <td>0.163457</td>\n",
       "      <td>0.608412</td>\n",
       "      <td>0.007420</td>\n",
       "      <td>0.141172</td>\n",
       "      <td>0.079127</td>\n",
       "    </tr>\n",
       "  </tbody>\n",
       "</table>\n",
       "</div>"
      ],
      "text/plain": [
       "                                                                                                                                  Best: M1 Included Features  \\\n",
       "0  [MedInc, HouseAge, AveRooms, AveBedrms, Population, AveOccup, Latitude, Longitude, HouseEval_nice, HouseEval_not_nice, WallColors_gray, WallColors_white]   \n",
       "1              [MedInc, HouseAge, AveRooms, AveBedrms, AveOccup, Latitude, Longitude, HouseEval_nice, HouseEval_not_nice, WallColors_gray, WallColors_white]   \n",
       "2                         [MedInc, HouseAge, AveRooms, AveOccup, Latitude, Longitude, HouseEval_nice, HouseEval_not_nice, WallColors_gray, WallColors_white]   \n",
       "3                                                             [MedInc, HouseAge, AveRooms, AveOccup, Latitude, Longitude, WallColors_gray, WallColors_white]   \n",
       "4                                                                                                [MedInc, HouseAge, AveRooms, AveOccup, Latitude, Longitude]   \n",
       "5                                                                                                          [MedInc, HouseAge, AveOccup, Latitude, Longitude]   \n",
       "6                                                                                                                    [MedInc, AveOccup, Latitude, Longitude]   \n",
       "7                                                                                                                               [MedInc, AveOccup, Latitude]   \n",
       "8                                                                                                                                         [MedInc, AveOccup]   \n",
       "9                                                                                                                                                   [MedInc]   \n",
       "\n",
       "   Best: M1 f1  \\\n",
       "0     0.777271   \n",
       "1     0.781449   \n",
       "2     0.782005   \n",
       "3     0.782399   \n",
       "4     0.780797   \n",
       "5     0.776399   \n",
       "6     0.767023   \n",
       "7     0.745134   \n",
       "8     0.738155   \n",
       "9     0.691214   \n",
       "\n",
       "                                                                                                                                  Best: M2 Included Features  \\\n",
       "0  [MedInc, HouseAge, AveRooms, AveBedrms, Population, AveOccup, Latitude, Longitude, HouseEval_nice, HouseEval_not_nice, WallColors_gray, WallColors_white]   \n",
       "1          [HouseAge, AveRooms, AveBedrms, Population, AveOccup, Latitude, Longitude, HouseEval_nice, HouseEval_not_nice, WallColors_gray, WallColors_white]   \n",
       "2                     [HouseAge, AveRooms, Population, AveOccup, Latitude, Longitude, HouseEval_nice, HouseEval_not_nice, WallColors_gray, WallColors_white]   \n",
       "3                                                         [HouseAge, AveRooms, Population, AveOccup, Latitude, Longitude, WallColors_gray, WallColors_white]   \n",
       "4                                                                   [HouseAge, AveRooms, Population, Latitude, Longitude, WallColors_gray, WallColors_white]   \n",
       "5                                                                                                      [HouseAge, AveRooms, Population, Latitude, Longitude]   \n",
       "6                                                                                                                  [HouseAge, AveRooms, Latitude, Longitude]   \n",
       "7                                                                                                                            [HouseAge, Latitude, Longitude]   \n",
       "8                                                                                                                                      [Latitude, Longitude]   \n",
       "9                                                                                                                                                [Longitude]   \n",
       "\n",
       "   Best: M2 f1  Best: Agreeability (cohen_kappa)  All: M1 Mean f1  \\\n",
       "0     0.796088                          0.643642         0.777271   \n",
       "1     0.812110                          0.566387         0.760891   \n",
       "2     0.821877                          0.586078         0.764930   \n",
       "3     0.829749                          0.591471         0.753303   \n",
       "4     0.826139                          0.566378         0.749392   \n",
       "5     0.828125                          0.582425         0.743861   \n",
       "6     0.827896                          0.557864         0.717620   \n",
       "7     0.830325                          0.493310         0.685270   \n",
       "8     0.840012                          0.510645         0.615847   \n",
       "9     0.615832                          0.220298         0.527757   \n",
       "\n",
       "   All: M1 STD f1  All: M2 Mean f1  All: M2 STD f1  \\\n",
       "0        0.000000         0.796088        0.000000   \n",
       "1        0.030383         0.786765        0.019806   \n",
       "2        0.025402         0.788823        0.042269   \n",
       "3        0.042888         0.787817        0.044780   \n",
       "4        0.044615         0.783741        0.049784   \n",
       "5        0.045557         0.761082        0.082902   \n",
       "6        0.073182         0.753872        0.083753   \n",
       "7        0.076862         0.742090        0.086060   \n",
       "8        0.137868         0.666151        0.123696   \n",
       "9        0.163457         0.608412        0.007420   \n",
       "\n",
       "   All: Mean Agreeability (cohen_kappa)  All: Agreeability St. Dev.  \n",
       "0                              0.643642                    0.000000  \n",
       "1                              0.592901                    0.057391  \n",
       "2                              0.535367                    0.055700  \n",
       "3                              0.516610                    0.075515  \n",
       "4                              0.503428                    0.076939  \n",
       "5                              0.469425                    0.125381  \n",
       "6                              0.418438                    0.165025  \n",
       "7                              0.371728                    0.163367  \n",
       "8                              0.257927                    0.185833  \n",
       "9                              0.141172                    0.079127  "
      ]
     },
     "execution_count": 43,
     "metadata": {},
     "output_type": "execute_result"
    }
   ],
   "source": [
    "results_df_2"
   ]
  },
  {
   "cell_type": "code",
   "execution_count": 44,
   "metadata": {},
   "outputs": [
    {
     "data": {
      "application/vnd.plotly.v1+json": {
       "config": {
        "plotlyServerURL": "https://plot.ly"
       },
       "data": [
        {
         "hoverinfo": "text",
         "hovertext": [
          "<br> Best: Agreeability (cohen_kappa): <br> 0.6436 <br> All: Mean Agreeability (cohen_kappa): <br> 0.6436 <br> All: Agreeability St. Dev.: <br> 0.0000",
          "<br> Best: Agreeability (cohen_kappa): <br> 0.5664 <br> All: Mean Agreeability (cohen_kappa): <br> 0.5929 <br> All: Agreeability St. Dev.: <br> 0.0574",
          "<br> Best: Agreeability (cohen_kappa): <br> 0.5861 <br> All: Mean Agreeability (cohen_kappa): <br> 0.5354 <br> All: Agreeability St. Dev.: <br> 0.0557",
          "<br> Best: Agreeability (cohen_kappa): <br> 0.5915 <br> All: Mean Agreeability (cohen_kappa): <br> 0.5166 <br> All: Agreeability St. Dev.: <br> 0.0755",
          "<br> Best: Agreeability (cohen_kappa): <br> 0.5664 <br> All: Mean Agreeability (cohen_kappa): <br> 0.5034 <br> All: Agreeability St. Dev.: <br> 0.0769",
          "<br> Best: Agreeability (cohen_kappa): <br> 0.5824 <br> All: Mean Agreeability (cohen_kappa): <br> 0.4694 <br> All: Agreeability St. Dev.: <br> 0.1254",
          "<br> Best: Agreeability (cohen_kappa): <br> 0.5579 <br> All: Mean Agreeability (cohen_kappa): <br> 0.4184 <br> All: Agreeability St. Dev.: <br> 0.1650",
          "<br> Best: Agreeability (cohen_kappa): <br> 0.4933 <br> All: Mean Agreeability (cohen_kappa): <br> 0.3717 <br> All: Agreeability St. Dev.: <br> 0.1634",
          "<br> Best: Agreeability (cohen_kappa): <br> 0.5106 <br> All: Mean Agreeability (cohen_kappa): <br> 0.2579 <br> All: Agreeability St. Dev.: <br> 0.1858",
          "<br> Best: Agreeability (cohen_kappa): <br> 0.2203 <br> All: Mean Agreeability (cohen_kappa): <br> 0.1412 <br> All: Agreeability St. Dev.: <br> 0.0791"
         ],
         "mode": "lines+markers",
         "name": "Best: Agreeability (cohen_kappa)",
         "type": "scatter",
         "x": [
          1,
          2,
          3,
          4,
          5,
          6,
          7,
          8,
          9,
          10
         ],
         "xaxis": "x",
         "y": [
          0.643642219845067,
          0.5663865546218487,
          0.5860775516198081,
          0.5914710488391536,
          0.5663779344549327,
          0.5824251354369012,
          0.557864132747128,
          0.4933103582556446,
          0.5106450416022617,
          0.2202984662586311
         ],
         "yaxis": "y"
        },
        {
         "hoverinfo": "text",
         "hovertext": [
          "<br> Best: M1 f1: <br> 0.7773 <br> Best: M1 Included Features: <br> MedInc, HouseAge, AveRooms, AveBedrms, Population, AveOccup, Latitude, Longitude, HouseEval_nice, HouseEval_not_nice, WallColors_gray, WallColors_white <br> All: M1 Mean f1: <br> 0.7773 <br> All: M1 STD f1: <br> 0.0000",
          "<br> Best: M1 f1: <br> 0.7814 <br> Best: M1 Included Features: <br> MedInc, HouseAge, AveRooms, AveBedrms, AveOccup, Latitude, Longitude, HouseEval_nice, HouseEval_not_nice, WallColors_gray, WallColors_white <br> All: M1 Mean f1: <br> 0.7609 <br> All: M1 STD f1: <br> 0.0304",
          "<br> Best: M1 f1: <br> 0.7820 <br> Best: M1 Included Features: <br> MedInc, HouseAge, AveRooms, AveOccup, Latitude, Longitude, HouseEval_nice, HouseEval_not_nice, WallColors_gray, WallColors_white <br> All: M1 Mean f1: <br> 0.7649 <br> All: M1 STD f1: <br> 0.0254",
          "<br> Best: M1 f1: <br> 0.7824 <br> Best: M1 Included Features: <br> MedInc, HouseAge, AveRooms, AveOccup, Latitude, Longitude, WallColors_gray, WallColors_white <br> All: M1 Mean f1: <br> 0.7533 <br> All: M1 STD f1: <br> 0.0429",
          "<br> Best: M1 f1: <br> 0.7808 <br> Best: M1 Included Features: <br> MedInc, HouseAge, AveRooms, AveOccup, Latitude, Longitude <br> All: M1 Mean f1: <br> 0.7494 <br> All: M1 STD f1: <br> 0.0446",
          "<br> Best: M1 f1: <br> 0.7764 <br> Best: M1 Included Features: <br> MedInc, HouseAge, AveOccup, Latitude, Longitude <br> All: M1 Mean f1: <br> 0.7439 <br> All: M1 STD f1: <br> 0.0456",
          "<br> Best: M1 f1: <br> 0.7670 <br> Best: M1 Included Features: <br> MedInc, AveOccup, Latitude, Longitude <br> All: M1 Mean f1: <br> 0.7176 <br> All: M1 STD f1: <br> 0.0732",
          "<br> Best: M1 f1: <br> 0.7451 <br> Best: M1 Included Features: <br> MedInc, AveOccup, Latitude <br> All: M1 Mean f1: <br> 0.6853 <br> All: M1 STD f1: <br> 0.0769",
          "<br> Best: M1 f1: <br> 0.7382 <br> Best: M1 Included Features: <br> MedInc, AveOccup <br> All: M1 Mean f1: <br> 0.6158 <br> All: M1 STD f1: <br> 0.1379",
          "<br> Best: M1 f1: <br> 0.6912 <br> Best: M1 Included Features: <br> MedInc <br> All: M1 Mean f1: <br> 0.5278 <br> All: M1 STD f1: <br> 0.1635"
         ],
         "mode": "lines+markers",
         "name": "Best: M1 f1",
         "type": "scatter",
         "x": [
          1,
          2,
          3,
          4,
          5,
          6,
          7,
          8,
          9,
          10
         ],
         "xaxis": "x",
         "y": [
          0.7772713460954117,
          0.7814489239163382,
          0.7820048309178744,
          0.7823990355635926,
          0.7807971014492755,
          0.7763993948562784,
          0.7670229007633588,
          0.7451343836886006,
          0.7381546134663343,
          0.6912144702842378
         ],
         "yaxis": "y2"
        },
        {
         "hoverinfo": "text",
         "hovertext": [
          "<br> Best: M2 f1: <br> 0.7961 <br> Best: M2 Included Features: <br> MedInc, HouseAge, AveRooms, AveBedrms, Population, AveOccup, Latitude, Longitude, HouseEval_nice, HouseEval_not_nice, WallColors_gray, WallColors_white <br> All: M2 Mean f1: <br> 0.7961 <br> All: M2 STD f1: <br> 0.0000",
          "<br> Best: M2 f1: <br> 0.8121 <br> Best: M2 Included Features: <br> HouseAge, AveRooms, AveBedrms, Population, AveOccup, Latitude, Longitude, HouseEval_nice, HouseEval_not_nice, WallColors_gray, WallColors_white <br> All: M2 Mean f1: <br> 0.7868 <br> All: M2 STD f1: <br> 0.0198",
          "<br> Best: M2 f1: <br> 0.8219 <br> Best: M2 Included Features: <br> HouseAge, AveRooms, Population, AveOccup, Latitude, Longitude, HouseEval_nice, HouseEval_not_nice, WallColors_gray, WallColors_white <br> All: M2 Mean f1: <br> 0.7888 <br> All: M2 STD f1: <br> 0.0423",
          "<br> Best: M2 f1: <br> 0.8297 <br> Best: M2 Included Features: <br> HouseAge, AveRooms, Population, AveOccup, Latitude, Longitude, WallColors_gray, WallColors_white <br> All: M2 Mean f1: <br> 0.7878 <br> All: M2 STD f1: <br> 0.0448",
          "<br> Best: M2 f1: <br> 0.8261 <br> Best: M2 Included Features: <br> HouseAge, AveRooms, Population, Latitude, Longitude, WallColors_gray, WallColors_white <br> All: M2 Mean f1: <br> 0.7837 <br> All: M2 STD f1: <br> 0.0498",
          "<br> Best: M2 f1: <br> 0.8281 <br> Best: M2 Included Features: <br> HouseAge, AveRooms, Population, Latitude, Longitude <br> All: M2 Mean f1: <br> 0.7611 <br> All: M2 STD f1: <br> 0.0829",
          "<br> Best: M2 f1: <br> 0.8279 <br> Best: M2 Included Features: <br> HouseAge, AveRooms, Latitude, Longitude <br> All: M2 Mean f1: <br> 0.7539 <br> All: M2 STD f1: <br> 0.0838",
          "<br> Best: M2 f1: <br> 0.8303 <br> Best: M2 Included Features: <br> HouseAge, Latitude, Longitude <br> All: M2 Mean f1: <br> 0.7421 <br> All: M2 STD f1: <br> 0.0861",
          "<br> Best: M2 f1: <br> 0.8400 <br> Best: M2 Included Features: <br> Latitude, Longitude <br> All: M2 Mean f1: <br> 0.6662 <br> All: M2 STD f1: <br> 0.1237",
          "<br> Best: M2 f1: <br> 0.6158 <br> Best: M2 Included Features: <br> Longitude <br> All: M2 Mean f1: <br> 0.6084 <br> All: M2 STD f1: <br> 0.0074"
         ],
         "mode": "lines+markers",
         "name": "Best: M2 f1",
         "type": "scatter",
         "x": [
          1,
          2,
          3,
          4,
          5,
          6,
          7,
          8,
          9,
          10
         ],
         "xaxis": "x",
         "y": [
          0.7960877296976882,
          0.8121104185218165,
          0.8218768679019725,
          0.8297491039426522,
          0.8261390887290169,
          0.828125,
          0.8278958395689913,
          0.8303249097472926,
          0.8400122361578464,
          0.615831987075929
         ],
         "yaxis": "y2"
        }
       ],
       "layout": {
        "hovermode": "closest",
        "template": {
         "data": {
          "bar": [
           {
            "error_x": {
             "color": "#2a3f5f"
            },
            "error_y": {
             "color": "#2a3f5f"
            },
            "marker": {
             "line": {
              "color": "#E5ECF6",
              "width": 0.5
             },
             "pattern": {
              "fillmode": "overlay",
              "size": 10,
              "solidity": 0.2
             }
            },
            "type": "bar"
           }
          ],
          "barpolar": [
           {
            "marker": {
             "line": {
              "color": "#E5ECF6",
              "width": 0.5
             },
             "pattern": {
              "fillmode": "overlay",
              "size": 10,
              "solidity": 0.2
             }
            },
            "type": "barpolar"
           }
          ],
          "carpet": [
           {
            "aaxis": {
             "endlinecolor": "#2a3f5f",
             "gridcolor": "white",
             "linecolor": "white",
             "minorgridcolor": "white",
             "startlinecolor": "#2a3f5f"
            },
            "baxis": {
             "endlinecolor": "#2a3f5f",
             "gridcolor": "white",
             "linecolor": "white",
             "minorgridcolor": "white",
             "startlinecolor": "#2a3f5f"
            },
            "type": "carpet"
           }
          ],
          "choropleth": [
           {
            "colorbar": {
             "outlinewidth": 0,
             "ticks": ""
            },
            "type": "choropleth"
           }
          ],
          "contour": [
           {
            "colorbar": {
             "outlinewidth": 0,
             "ticks": ""
            },
            "colorscale": [
             [
              0,
              "#0d0887"
             ],
             [
              0.1111111111111111,
              "#46039f"
             ],
             [
              0.2222222222222222,
              "#7201a8"
             ],
             [
              0.3333333333333333,
              "#9c179e"
             ],
             [
              0.4444444444444444,
              "#bd3786"
             ],
             [
              0.5555555555555556,
              "#d8576b"
             ],
             [
              0.6666666666666666,
              "#ed7953"
             ],
             [
              0.7777777777777778,
              "#fb9f3a"
             ],
             [
              0.8888888888888888,
              "#fdca26"
             ],
             [
              1,
              "#f0f921"
             ]
            ],
            "type": "contour"
           }
          ],
          "contourcarpet": [
           {
            "colorbar": {
             "outlinewidth": 0,
             "ticks": ""
            },
            "type": "contourcarpet"
           }
          ],
          "heatmap": [
           {
            "colorbar": {
             "outlinewidth": 0,
             "ticks": ""
            },
            "colorscale": [
             [
              0,
              "#0d0887"
             ],
             [
              0.1111111111111111,
              "#46039f"
             ],
             [
              0.2222222222222222,
              "#7201a8"
             ],
             [
              0.3333333333333333,
              "#9c179e"
             ],
             [
              0.4444444444444444,
              "#bd3786"
             ],
             [
              0.5555555555555556,
              "#d8576b"
             ],
             [
              0.6666666666666666,
              "#ed7953"
             ],
             [
              0.7777777777777778,
              "#fb9f3a"
             ],
             [
              0.8888888888888888,
              "#fdca26"
             ],
             [
              1,
              "#f0f921"
             ]
            ],
            "type": "heatmap"
           }
          ],
          "heatmapgl": [
           {
            "colorbar": {
             "outlinewidth": 0,
             "ticks": ""
            },
            "colorscale": [
             [
              0,
              "#0d0887"
             ],
             [
              0.1111111111111111,
              "#46039f"
             ],
             [
              0.2222222222222222,
              "#7201a8"
             ],
             [
              0.3333333333333333,
              "#9c179e"
             ],
             [
              0.4444444444444444,
              "#bd3786"
             ],
             [
              0.5555555555555556,
              "#d8576b"
             ],
             [
              0.6666666666666666,
              "#ed7953"
             ],
             [
              0.7777777777777778,
              "#fb9f3a"
             ],
             [
              0.8888888888888888,
              "#fdca26"
             ],
             [
              1,
              "#f0f921"
             ]
            ],
            "type": "heatmapgl"
           }
          ],
          "histogram": [
           {
            "marker": {
             "pattern": {
              "fillmode": "overlay",
              "size": 10,
              "solidity": 0.2
             }
            },
            "type": "histogram"
           }
          ],
          "histogram2d": [
           {
            "colorbar": {
             "outlinewidth": 0,
             "ticks": ""
            },
            "colorscale": [
             [
              0,
              "#0d0887"
             ],
             [
              0.1111111111111111,
              "#46039f"
             ],
             [
              0.2222222222222222,
              "#7201a8"
             ],
             [
              0.3333333333333333,
              "#9c179e"
             ],
             [
              0.4444444444444444,
              "#bd3786"
             ],
             [
              0.5555555555555556,
              "#d8576b"
             ],
             [
              0.6666666666666666,
              "#ed7953"
             ],
             [
              0.7777777777777778,
              "#fb9f3a"
             ],
             [
              0.8888888888888888,
              "#fdca26"
             ],
             [
              1,
              "#f0f921"
             ]
            ],
            "type": "histogram2d"
           }
          ],
          "histogram2dcontour": [
           {
            "colorbar": {
             "outlinewidth": 0,
             "ticks": ""
            },
            "colorscale": [
             [
              0,
              "#0d0887"
             ],
             [
              0.1111111111111111,
              "#46039f"
             ],
             [
              0.2222222222222222,
              "#7201a8"
             ],
             [
              0.3333333333333333,
              "#9c179e"
             ],
             [
              0.4444444444444444,
              "#bd3786"
             ],
             [
              0.5555555555555556,
              "#d8576b"
             ],
             [
              0.6666666666666666,
              "#ed7953"
             ],
             [
              0.7777777777777778,
              "#fb9f3a"
             ],
             [
              0.8888888888888888,
              "#fdca26"
             ],
             [
              1,
              "#f0f921"
             ]
            ],
            "type": "histogram2dcontour"
           }
          ],
          "mesh3d": [
           {
            "colorbar": {
             "outlinewidth": 0,
             "ticks": ""
            },
            "type": "mesh3d"
           }
          ],
          "parcoords": [
           {
            "line": {
             "colorbar": {
              "outlinewidth": 0,
              "ticks": ""
             }
            },
            "type": "parcoords"
           }
          ],
          "pie": [
           {
            "automargin": true,
            "type": "pie"
           }
          ],
          "scatter": [
           {
            "fillpattern": {
             "fillmode": "overlay",
             "size": 10,
             "solidity": 0.2
            },
            "type": "scatter"
           }
          ],
          "scatter3d": [
           {
            "line": {
             "colorbar": {
              "outlinewidth": 0,
              "ticks": ""
             }
            },
            "marker": {
             "colorbar": {
              "outlinewidth": 0,
              "ticks": ""
             }
            },
            "type": "scatter3d"
           }
          ],
          "scattercarpet": [
           {
            "marker": {
             "colorbar": {
              "outlinewidth": 0,
              "ticks": ""
             }
            },
            "type": "scattercarpet"
           }
          ],
          "scattergeo": [
           {
            "marker": {
             "colorbar": {
              "outlinewidth": 0,
              "ticks": ""
             }
            },
            "type": "scattergeo"
           }
          ],
          "scattergl": [
           {
            "marker": {
             "colorbar": {
              "outlinewidth": 0,
              "ticks": ""
             }
            },
            "type": "scattergl"
           }
          ],
          "scattermapbox": [
           {
            "marker": {
             "colorbar": {
              "outlinewidth": 0,
              "ticks": ""
             }
            },
            "type": "scattermapbox"
           }
          ],
          "scatterpolar": [
           {
            "marker": {
             "colorbar": {
              "outlinewidth": 0,
              "ticks": ""
             }
            },
            "type": "scatterpolar"
           }
          ],
          "scatterpolargl": [
           {
            "marker": {
             "colorbar": {
              "outlinewidth": 0,
              "ticks": ""
             }
            },
            "type": "scatterpolargl"
           }
          ],
          "scatterternary": [
           {
            "marker": {
             "colorbar": {
              "outlinewidth": 0,
              "ticks": ""
             }
            },
            "type": "scatterternary"
           }
          ],
          "surface": [
           {
            "colorbar": {
             "outlinewidth": 0,
             "ticks": ""
            },
            "colorscale": [
             [
              0,
              "#0d0887"
             ],
             [
              0.1111111111111111,
              "#46039f"
             ],
             [
              0.2222222222222222,
              "#7201a8"
             ],
             [
              0.3333333333333333,
              "#9c179e"
             ],
             [
              0.4444444444444444,
              "#bd3786"
             ],
             [
              0.5555555555555556,
              "#d8576b"
             ],
             [
              0.6666666666666666,
              "#ed7953"
             ],
             [
              0.7777777777777778,
              "#fb9f3a"
             ],
             [
              0.8888888888888888,
              "#fdca26"
             ],
             [
              1,
              "#f0f921"
             ]
            ],
            "type": "surface"
           }
          ],
          "table": [
           {
            "cells": {
             "fill": {
              "color": "#EBF0F8"
             },
             "line": {
              "color": "white"
             }
            },
            "header": {
             "fill": {
              "color": "#C8D4E3"
             },
             "line": {
              "color": "white"
             }
            },
            "type": "table"
           }
          ]
         },
         "layout": {
          "annotationdefaults": {
           "arrowcolor": "#2a3f5f",
           "arrowhead": 0,
           "arrowwidth": 1
          },
          "autotypenumbers": "strict",
          "coloraxis": {
           "colorbar": {
            "outlinewidth": 0,
            "ticks": ""
           }
          },
          "colorscale": {
           "diverging": [
            [
             0,
             "#8e0152"
            ],
            [
             0.1,
             "#c51b7d"
            ],
            [
             0.2,
             "#de77ae"
            ],
            [
             0.3,
             "#f1b6da"
            ],
            [
             0.4,
             "#fde0ef"
            ],
            [
             0.5,
             "#f7f7f7"
            ],
            [
             0.6,
             "#e6f5d0"
            ],
            [
             0.7,
             "#b8e186"
            ],
            [
             0.8,
             "#7fbc41"
            ],
            [
             0.9,
             "#4d9221"
            ],
            [
             1,
             "#276419"
            ]
           ],
           "sequential": [
            [
             0,
             "#0d0887"
            ],
            [
             0.1111111111111111,
             "#46039f"
            ],
            [
             0.2222222222222222,
             "#7201a8"
            ],
            [
             0.3333333333333333,
             "#9c179e"
            ],
            [
             0.4444444444444444,
             "#bd3786"
            ],
            [
             0.5555555555555556,
             "#d8576b"
            ],
            [
             0.6666666666666666,
             "#ed7953"
            ],
            [
             0.7777777777777778,
             "#fb9f3a"
            ],
            [
             0.8888888888888888,
             "#fdca26"
            ],
            [
             1,
             "#f0f921"
            ]
           ],
           "sequentialminus": [
            [
             0,
             "#0d0887"
            ],
            [
             0.1111111111111111,
             "#46039f"
            ],
            [
             0.2222222222222222,
             "#7201a8"
            ],
            [
             0.3333333333333333,
             "#9c179e"
            ],
            [
             0.4444444444444444,
             "#bd3786"
            ],
            [
             0.5555555555555556,
             "#d8576b"
            ],
            [
             0.6666666666666666,
             "#ed7953"
            ],
            [
             0.7777777777777778,
             "#fb9f3a"
            ],
            [
             0.8888888888888888,
             "#fdca26"
            ],
            [
             1,
             "#f0f921"
            ]
           ]
          },
          "colorway": [
           "#636efa",
           "#EF553B",
           "#00cc96",
           "#ab63fa",
           "#FFA15A",
           "#19d3f3",
           "#FF6692",
           "#B6E880",
           "#FF97FF",
           "#FECB52"
          ],
          "font": {
           "color": "#2a3f5f"
          },
          "geo": {
           "bgcolor": "white",
           "lakecolor": "white",
           "landcolor": "#E5ECF6",
           "showlakes": true,
           "showland": true,
           "subunitcolor": "white"
          },
          "hoverlabel": {
           "align": "left"
          },
          "hovermode": "closest",
          "mapbox": {
           "style": "light"
          },
          "paper_bgcolor": "white",
          "plot_bgcolor": "#E5ECF6",
          "polar": {
           "angularaxis": {
            "gridcolor": "white",
            "linecolor": "white",
            "ticks": ""
           },
           "bgcolor": "#E5ECF6",
           "radialaxis": {
            "gridcolor": "white",
            "linecolor": "white",
            "ticks": ""
           }
          },
          "scene": {
           "xaxis": {
            "backgroundcolor": "#E5ECF6",
            "gridcolor": "white",
            "gridwidth": 2,
            "linecolor": "white",
            "showbackground": true,
            "ticks": "",
            "zerolinecolor": "white"
           },
           "yaxis": {
            "backgroundcolor": "#E5ECF6",
            "gridcolor": "white",
            "gridwidth": 2,
            "linecolor": "white",
            "showbackground": true,
            "ticks": "",
            "zerolinecolor": "white"
           },
           "zaxis": {
            "backgroundcolor": "#E5ECF6",
            "gridcolor": "white",
            "gridwidth": 2,
            "linecolor": "white",
            "showbackground": true,
            "ticks": "",
            "zerolinecolor": "white"
           }
          },
          "shapedefaults": {
           "line": {
            "color": "#2a3f5f"
           }
          },
          "ternary": {
           "aaxis": {
            "gridcolor": "white",
            "linecolor": "white",
            "ticks": ""
           },
           "baxis": {
            "gridcolor": "white",
            "linecolor": "white",
            "ticks": ""
           },
           "bgcolor": "#E5ECF6",
           "caxis": {
            "gridcolor": "white",
            "linecolor": "white",
            "ticks": ""
           }
          },
          "title": {
           "x": 0.05
          },
          "xaxis": {
           "automargin": true,
           "gridcolor": "white",
           "linecolor": "white",
           "ticks": "",
           "title": {
            "standoff": 15
           },
           "zerolinecolor": "white",
           "zerolinewidth": 2
          },
          "yaxis": {
           "automargin": true,
           "gridcolor": "white",
           "linecolor": "white",
           "ticks": "",
           "title": {
            "standoff": 15
           },
           "zerolinecolor": "white",
           "zerolinewidth": 2
          }
         }
        },
        "title": {
         "text": "Agreeability Coefficients and Model Scores Over Algorithm Iterations"
        },
        "xaxis": {
         "anchor": "y",
         "domain": [
          0,
          0.94
         ],
         "title": {
          "text": "Iteration"
         },
         "type": "category"
        },
        "yaxis": {
         "anchor": "x",
         "domain": [
          0,
          1
         ],
         "title": {
          "text": "Agreeability"
         }
        },
        "yaxis2": {
         "anchor": "x",
         "overlaying": "y",
         "side": "right",
         "title": {
          "text": "Model Scores"
         }
        }
       }
      }
     },
     "metadata": {},
     "output_type": "display_data"
    }
   ],
   "source": [
    "seeker_2.plot_from_results()"
   ]
  },
  {
   "cell_type": "code",
   "execution_count": 45,
   "metadata": {},
   "outputs": [
    {
     "name": "stdout",
     "output_type": "stream",
     "text": [
      "Model 1: Results for No. 1 and No. 2 best predictions: P-value: 0.00000000. Test statistic: 461.12049861.\n",
      "Model 2: Results for No. 1 and No. 2 best predictions: P-value: 0.00000000. Test statistic: 87.98825503.\n",
      "========================================================================================================================\n",
      "Model 1: Results for No. 2 and No. 3 best predictions: P-value: 0.00000000. Test statistic: 708.06786704.\n",
      "Model 2: Results for No. 2 and No. 3 best predictions: P-value: 0.00000000. Test statistic: 296.35263158.\n",
      "========================================================================================================================\n",
      "Model 1: Results for No. 3 and No. 4 best predictions: P-value: 0.00000000. Test statistic: 665.32369146.\n",
      "Model 2: Results for No. 3 and No. 4 best predictions: P-value: 0.77131199. Test statistic: 0.08448276.\n",
      "========================================================================================================================\n",
      "Model 1: Results for No. 4 and No. 5 best predictions: P-value: 0.00000000. Test statistic: 578.77672530.\n",
      "Model 2: Results for No. 4 and No. 5 best predictions: P-value: 0.00000000. Test statistic: 309.86188811.\n",
      "========================================================================================================================\n",
      "Model 1: Results for No. 5 and No. 6 best predictions: P-value: 0.00000000. Test statistic: 233.39973788.\n",
      "Model 2: Results for No. 5 and No. 6 best predictions: P-value: 0.00000000. Test statistic: 142.25391304.\n",
      "========================================================================================================================\n",
      "Model 1: Results for No. 6 and No. 7 best predictions: P-value: 0.00000000. Test statistic: 496.48484848.\n",
      "Model 2: Results for No. 6 and No. 7 best predictions: P-value: 0.00366756. Test statistic: 8.44148936.\n",
      "========================================================================================================================\n",
      "Model 1: Results for No. 7 and No. 8 best predictions: P-value: 0.00000000. Test statistic: 510.74404762.\n",
      "Model 2: Results for No. 7 and No. 8 best predictions: P-value: 0.00000025. Test statistic: 26.62332696.\n",
      "========================================================================================================================\n",
      "Model 1: Results for No. 8 and No. 9 best predictions: P-value: 0.00000000. Test statistic: 277.43200837.\n",
      "Model 2: Results for No. 8 and No. 9 best predictions: P-value: 0.00000000. Test statistic: 302.77544155.\n",
      "========================================================================================================================\n"
     ]
    }
   ],
   "source": [
    "seeker_2.compare_n_best(n=9, test='mcnemar_chisquare')"
   ]
  },
  {
   "cell_type": "markdown",
   "metadata": {},
   "source": [
    "### Working Code for 3D Plot\n",
    "\n",
    "```python\n",
    "\n",
    "# Create a 3D scatter plot\n",
    "fig = go.Figure(data=[\n",
    "    go.Scatter3d(\n",
    "        x=df.index + 1,\n",
    "        y=df.iloc[:, 4],\n",
    "        z=df.iloc[:, 1], \n",
    "        mode='lines+markers',\n",
    "        name=f'{df.columns[1]}',\n",
    "        text=df['Summary_M1'],\n",
    "        hoverinfo='text'\n",
    "    ),\n",
    "    go.Scatter3d(\n",
    "        x=df.index + 1,\n",
    "        y=df.iloc[:, 4],\n",
    "        z=df.iloc[:, 3], \n",
    "        mode='lines+markers',\n",
    "        name=f'{df.columns[3]}',\n",
    "        text=df['Summary_M2'],\n",
    "        hoverinfo='text'\n",
    "    )\n",
    "])\n",
    "\n",
    "# Update layout\n",
    "fig.update_layout(\n",
    "    title='Agreeability Coefficients and Model Scores Over Algorithm Iterations',\n",
    "    scene=dict(\n",
    "        xaxis_title='Iteration',\n",
    "        yaxis_title='Agreeability',\n",
    "        zaxis_title='Model Scores'\n",
    "    ),\n",
    "    hovermode='closest'\n",
    ")\n",
    "\n",
    "# Show the plot\n",
    "fig.show()\n",
    "\n",
    "```"
   ]
  },
  {
   "cell_type": "markdown",
   "metadata": {},
   "source": [
    "### Dependencies"
   ]
  },
  {
   "cell_type": "code",
   "execution_count": 30,
   "metadata": {},
   "outputs": [],
   "source": [
    "import numpy as np\n",
    "import pandas as pd\n",
    "import statsmodels\n",
    "import sklearn\n",
    "import scipy\n",
    "import plotly\n",
    "import matplotlib\n",
    "import seaborn as sns\n",
    "import tensorflow as tf"
   ]
  },
  {
   "cell_type": "code",
   "execution_count": 32,
   "metadata": {},
   "outputs": [
    {
     "name": "stdout",
     "output_type": "stream",
     "text": [
      "pandas: 1.5.3\n",
      "numpy: 1.20.3\n",
      "statsmodels: 0.13.5\n",
      "sklearn: 1.2.2\n",
      "scipy: 1.10.0\n",
      "plotly: 5.18.0\n",
      "matplotlib: 3.3.4\n",
      "seaborn: 0.11.1\n",
      "tensorflow: 2.10.1\n"
     ]
    }
   ],
   "source": [
    "print(f'pandas: {pd.__version__}')\n",
    "print(f'numpy: {np.__version__}')\n",
    "print(f'statsmodels: {statsmodels.__version__}')\n",
    "print(f'sklearn: {sklearn.__version__}')\n",
    "print(f'scipy: {scipy.__version__}')\n",
    "print(f'plotly: {plotly.__version__}')\n",
    "print(f'matplotlib: {matplotlib.__version__}')\n",
    "print(f'seaborn: {sns.__version__}')\n",
    "print(f'tensorflow: {tf.__version__}')\n"
   ]
  }
 ],
 "metadata": {
  "kernelspec": {
   "display_name": "DEDA",
   "language": "python",
   "name": "python3"
  },
  "language_info": {
   "codemirror_mode": {
    "name": "ipython",
    "version": 3
   },
   "file_extension": ".py",
   "mimetype": "text/x-python",
   "name": "python",
   "nbconvert_exporter": "python",
   "pygments_lexer": "ipython3",
   "version": "3.9.17"
  }
 },
 "nbformat": 4,
 "nbformat_minor": 2
}
