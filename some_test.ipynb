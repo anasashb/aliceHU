{
 "cells": [
  {
   "cell_type": "markdown",
   "metadata": {},
   "source": [
    "## **A**utomated **L**earning for **I**nsightful **C**omparison and **E**valuation - (ALICE)"
   ]
  },
  {
   "cell_type": "code",
   "execution_count": 1,
   "metadata": {},
   "outputs": [],
   "source": [
    "import numpy as np\n",
    "import pandas as pd\n",
    "import os\n",
    "cur_dir = os.getcwd()"
   ]
  },
  {
   "cell_type": "code",
   "execution_count": 5,
   "metadata": {},
   "outputs": [],
   "source": [
    "## Just to test stuff out\n",
    "from sklearn.datasets import fetch_california_housing\n",
    "\n",
    "data = fetch_california_housing()\n",
    "\n",
    "X = pd.DataFrame(data=data.data, columns=data.feature_names)\n",
    "y = pd.DataFrame(data=data.target, columns=data.target_names)\n",
    "\n",
    "df = pd.concat([X,y], axis=1)"
   ]
  },
  {
   "cell_type": "code",
   "execution_count": 6,
   "metadata": {},
   "outputs": [
    {
     "data": {
      "text/html": [
       "<div>\n",
       "<style scoped>\n",
       "    .dataframe tbody tr th:only-of-type {\n",
       "        vertical-align: middle;\n",
       "    }\n",
       "\n",
       "    .dataframe tbody tr th {\n",
       "        vertical-align: top;\n",
       "    }\n",
       "\n",
       "    .dataframe thead th {\n",
       "        text-align: right;\n",
       "    }\n",
       "</style>\n",
       "<table border=\"1\" class=\"dataframe\">\n",
       "  <thead>\n",
       "    <tr style=\"text-align: right;\">\n",
       "      <th></th>\n",
       "      <th>MedInc</th>\n",
       "      <th>HouseAge</th>\n",
       "      <th>AveRooms</th>\n",
       "      <th>AveBedrms</th>\n",
       "      <th>Population</th>\n",
       "      <th>AveOccup</th>\n",
       "      <th>Latitude</th>\n",
       "      <th>Longitude</th>\n",
       "      <th>MedHouseVal</th>\n",
       "    </tr>\n",
       "  </thead>\n",
       "  <tbody>\n",
       "    <tr>\n",
       "      <th>0</th>\n",
       "      <td>8.3252</td>\n",
       "      <td>41.0</td>\n",
       "      <td>6.984127</td>\n",
       "      <td>1.023810</td>\n",
       "      <td>322.0</td>\n",
       "      <td>2.555556</td>\n",
       "      <td>37.88</td>\n",
       "      <td>-122.23</td>\n",
       "      <td>4.526</td>\n",
       "    </tr>\n",
       "    <tr>\n",
       "      <th>1</th>\n",
       "      <td>8.3014</td>\n",
       "      <td>21.0</td>\n",
       "      <td>6.238137</td>\n",
       "      <td>0.971880</td>\n",
       "      <td>2401.0</td>\n",
       "      <td>2.109842</td>\n",
       "      <td>37.86</td>\n",
       "      <td>-122.22</td>\n",
       "      <td>3.585</td>\n",
       "    </tr>\n",
       "    <tr>\n",
       "      <th>2</th>\n",
       "      <td>7.2574</td>\n",
       "      <td>52.0</td>\n",
       "      <td>8.288136</td>\n",
       "      <td>1.073446</td>\n",
       "      <td>496.0</td>\n",
       "      <td>2.802260</td>\n",
       "      <td>37.85</td>\n",
       "      <td>-122.24</td>\n",
       "      <td>3.521</td>\n",
       "    </tr>\n",
       "    <tr>\n",
       "      <th>3</th>\n",
       "      <td>5.6431</td>\n",
       "      <td>52.0</td>\n",
       "      <td>5.817352</td>\n",
       "      <td>1.073059</td>\n",
       "      <td>558.0</td>\n",
       "      <td>2.547945</td>\n",
       "      <td>37.85</td>\n",
       "      <td>-122.25</td>\n",
       "      <td>3.413</td>\n",
       "    </tr>\n",
       "    <tr>\n",
       "      <th>4</th>\n",
       "      <td>3.8462</td>\n",
       "      <td>52.0</td>\n",
       "      <td>6.281853</td>\n",
       "      <td>1.081081</td>\n",
       "      <td>565.0</td>\n",
       "      <td>2.181467</td>\n",
       "      <td>37.85</td>\n",
       "      <td>-122.25</td>\n",
       "      <td>3.422</td>\n",
       "    </tr>\n",
       "    <tr>\n",
       "      <th>...</th>\n",
       "      <td>...</td>\n",
       "      <td>...</td>\n",
       "      <td>...</td>\n",
       "      <td>...</td>\n",
       "      <td>...</td>\n",
       "      <td>...</td>\n",
       "      <td>...</td>\n",
       "      <td>...</td>\n",
       "      <td>...</td>\n",
       "    </tr>\n",
       "    <tr>\n",
       "      <th>20635</th>\n",
       "      <td>1.5603</td>\n",
       "      <td>25.0</td>\n",
       "      <td>5.045455</td>\n",
       "      <td>1.133333</td>\n",
       "      <td>845.0</td>\n",
       "      <td>2.560606</td>\n",
       "      <td>39.48</td>\n",
       "      <td>-121.09</td>\n",
       "      <td>0.781</td>\n",
       "    </tr>\n",
       "    <tr>\n",
       "      <th>20636</th>\n",
       "      <td>2.5568</td>\n",
       "      <td>18.0</td>\n",
       "      <td>6.114035</td>\n",
       "      <td>1.315789</td>\n",
       "      <td>356.0</td>\n",
       "      <td>3.122807</td>\n",
       "      <td>39.49</td>\n",
       "      <td>-121.21</td>\n",
       "      <td>0.771</td>\n",
       "    </tr>\n",
       "    <tr>\n",
       "      <th>20637</th>\n",
       "      <td>1.7000</td>\n",
       "      <td>17.0</td>\n",
       "      <td>5.205543</td>\n",
       "      <td>1.120092</td>\n",
       "      <td>1007.0</td>\n",
       "      <td>2.325635</td>\n",
       "      <td>39.43</td>\n",
       "      <td>-121.22</td>\n",
       "      <td>0.923</td>\n",
       "    </tr>\n",
       "    <tr>\n",
       "      <th>20638</th>\n",
       "      <td>1.8672</td>\n",
       "      <td>18.0</td>\n",
       "      <td>5.329513</td>\n",
       "      <td>1.171920</td>\n",
       "      <td>741.0</td>\n",
       "      <td>2.123209</td>\n",
       "      <td>39.43</td>\n",
       "      <td>-121.32</td>\n",
       "      <td>0.847</td>\n",
       "    </tr>\n",
       "    <tr>\n",
       "      <th>20639</th>\n",
       "      <td>2.3886</td>\n",
       "      <td>16.0</td>\n",
       "      <td>5.254717</td>\n",
       "      <td>1.162264</td>\n",
       "      <td>1387.0</td>\n",
       "      <td>2.616981</td>\n",
       "      <td>39.37</td>\n",
       "      <td>-121.24</td>\n",
       "      <td>0.894</td>\n",
       "    </tr>\n",
       "  </tbody>\n",
       "</table>\n",
       "<p>20640 rows × 9 columns</p>\n",
       "</div>"
      ],
      "text/plain": [
       "       MedInc  HouseAge  AveRooms  AveBedrms  Population  AveOccup  Latitude  \\\n",
       "0      8.3252      41.0  6.984127   1.023810       322.0  2.555556     37.88   \n",
       "1      8.3014      21.0  6.238137   0.971880      2401.0  2.109842     37.86   \n",
       "2      7.2574      52.0  8.288136   1.073446       496.0  2.802260     37.85   \n",
       "3      5.6431      52.0  5.817352   1.073059       558.0  2.547945     37.85   \n",
       "4      3.8462      52.0  6.281853   1.081081       565.0  2.181467     37.85   \n",
       "...       ...       ...       ...        ...         ...       ...       ...   \n",
       "20635  1.5603      25.0  5.045455   1.133333       845.0  2.560606     39.48   \n",
       "20636  2.5568      18.0  6.114035   1.315789       356.0  3.122807     39.49   \n",
       "20637  1.7000      17.0  5.205543   1.120092      1007.0  2.325635     39.43   \n",
       "20638  1.8672      18.0  5.329513   1.171920       741.0  2.123209     39.43   \n",
       "20639  2.3886      16.0  5.254717   1.162264      1387.0  2.616981     39.37   \n",
       "\n",
       "       Longitude  MedHouseVal  \n",
       "0        -122.23        4.526  \n",
       "1        -122.22        3.585  \n",
       "2        -122.24        3.521  \n",
       "3        -122.25        3.413  \n",
       "4        -122.25        3.422  \n",
       "...          ...          ...  \n",
       "20635    -121.09        0.781  \n",
       "20636    -121.21        0.771  \n",
       "20637    -121.22        0.923  \n",
       "20638    -121.32        0.847  \n",
       "20639    -121.24        0.894  \n",
       "\n",
       "[20640 rows x 9 columns]"
      ]
     },
     "execution_count": 6,
     "metadata": {},
     "output_type": "execute_result"
    }
   ],
   "source": [
    "df"
   ]
  },
  {
   "cell_type": "code",
   "execution_count": 7,
   "metadata": {},
   "outputs": [
    {
     "data": {
      "text/html": [
       "<div>\n",
       "<style scoped>\n",
       "    .dataframe tbody tr th:only-of-type {\n",
       "        vertical-align: middle;\n",
       "    }\n",
       "\n",
       "    .dataframe tbody tr th {\n",
       "        vertical-align: top;\n",
       "    }\n",
       "\n",
       "    .dataframe thead th {\n",
       "        text-align: right;\n",
       "    }\n",
       "</style>\n",
       "<table border=\"1\" class=\"dataframe\">\n",
       "  <thead>\n",
       "    <tr style=\"text-align: right;\">\n",
       "      <th></th>\n",
       "      <th>MedInc</th>\n",
       "      <th>HouseAge</th>\n",
       "      <th>AveRooms</th>\n",
       "      <th>AveBedrms</th>\n",
       "      <th>Population</th>\n",
       "      <th>AveOccup</th>\n",
       "      <th>Latitude</th>\n",
       "      <th>Longitude</th>\n",
       "      <th>MedHouseVal</th>\n",
       "    </tr>\n",
       "  </thead>\n",
       "  <tbody>\n",
       "    <tr>\n",
       "      <th>count</th>\n",
       "      <td>20640.000000</td>\n",
       "      <td>20640.000000</td>\n",
       "      <td>20640.000000</td>\n",
       "      <td>20640.000000</td>\n",
       "      <td>20640.000000</td>\n",
       "      <td>20640.000000</td>\n",
       "      <td>20640.000000</td>\n",
       "      <td>20640.000000</td>\n",
       "      <td>20640.000000</td>\n",
       "    </tr>\n",
       "    <tr>\n",
       "      <th>mean</th>\n",
       "      <td>3.870671</td>\n",
       "      <td>28.639486</td>\n",
       "      <td>5.429000</td>\n",
       "      <td>1.096675</td>\n",
       "      <td>1425.476744</td>\n",
       "      <td>3.070655</td>\n",
       "      <td>35.631861</td>\n",
       "      <td>-119.569704</td>\n",
       "      <td>2.068558</td>\n",
       "    </tr>\n",
       "    <tr>\n",
       "      <th>std</th>\n",
       "      <td>1.899822</td>\n",
       "      <td>12.585558</td>\n",
       "      <td>2.474173</td>\n",
       "      <td>0.473911</td>\n",
       "      <td>1132.462122</td>\n",
       "      <td>10.386050</td>\n",
       "      <td>2.135952</td>\n",
       "      <td>2.003532</td>\n",
       "      <td>1.153956</td>\n",
       "    </tr>\n",
       "    <tr>\n",
       "      <th>min</th>\n",
       "      <td>0.499900</td>\n",
       "      <td>1.000000</td>\n",
       "      <td>0.846154</td>\n",
       "      <td>0.333333</td>\n",
       "      <td>3.000000</td>\n",
       "      <td>0.692308</td>\n",
       "      <td>32.540000</td>\n",
       "      <td>-124.350000</td>\n",
       "      <td>0.149990</td>\n",
       "    </tr>\n",
       "    <tr>\n",
       "      <th>25%</th>\n",
       "      <td>2.563400</td>\n",
       "      <td>18.000000</td>\n",
       "      <td>4.440716</td>\n",
       "      <td>1.006079</td>\n",
       "      <td>787.000000</td>\n",
       "      <td>2.429741</td>\n",
       "      <td>33.930000</td>\n",
       "      <td>-121.800000</td>\n",
       "      <td>1.196000</td>\n",
       "    </tr>\n",
       "    <tr>\n",
       "      <th>50%</th>\n",
       "      <td>3.534800</td>\n",
       "      <td>29.000000</td>\n",
       "      <td>5.229129</td>\n",
       "      <td>1.048780</td>\n",
       "      <td>1166.000000</td>\n",
       "      <td>2.818116</td>\n",
       "      <td>34.260000</td>\n",
       "      <td>-118.490000</td>\n",
       "      <td>1.797000</td>\n",
       "    </tr>\n",
       "    <tr>\n",
       "      <th>75%</th>\n",
       "      <td>4.743250</td>\n",
       "      <td>37.000000</td>\n",
       "      <td>6.052381</td>\n",
       "      <td>1.099526</td>\n",
       "      <td>1725.000000</td>\n",
       "      <td>3.282261</td>\n",
       "      <td>37.710000</td>\n",
       "      <td>-118.010000</td>\n",
       "      <td>2.647250</td>\n",
       "    </tr>\n",
       "    <tr>\n",
       "      <th>max</th>\n",
       "      <td>15.000100</td>\n",
       "      <td>52.000000</td>\n",
       "      <td>141.909091</td>\n",
       "      <td>34.066667</td>\n",
       "      <td>35682.000000</td>\n",
       "      <td>1243.333333</td>\n",
       "      <td>41.950000</td>\n",
       "      <td>-114.310000</td>\n",
       "      <td>5.000010</td>\n",
       "    </tr>\n",
       "  </tbody>\n",
       "</table>\n",
       "</div>"
      ],
      "text/plain": [
       "             MedInc      HouseAge      AveRooms     AveBedrms    Population  \\\n",
       "count  20640.000000  20640.000000  20640.000000  20640.000000  20640.000000   \n",
       "mean       3.870671     28.639486      5.429000      1.096675   1425.476744   \n",
       "std        1.899822     12.585558      2.474173      0.473911   1132.462122   \n",
       "min        0.499900      1.000000      0.846154      0.333333      3.000000   \n",
       "25%        2.563400     18.000000      4.440716      1.006079    787.000000   \n",
       "50%        3.534800     29.000000      5.229129      1.048780   1166.000000   \n",
       "75%        4.743250     37.000000      6.052381      1.099526   1725.000000   \n",
       "max       15.000100     52.000000    141.909091     34.066667  35682.000000   \n",
       "\n",
       "           AveOccup      Latitude     Longitude   MedHouseVal  \n",
       "count  20640.000000  20640.000000  20640.000000  20640.000000  \n",
       "mean       3.070655     35.631861   -119.569704      2.068558  \n",
       "std       10.386050      2.135952      2.003532      1.153956  \n",
       "min        0.692308     32.540000   -124.350000      0.149990  \n",
       "25%        2.429741     33.930000   -121.800000      1.196000  \n",
       "50%        2.818116     34.260000   -118.490000      1.797000  \n",
       "75%        3.282261     37.710000   -118.010000      2.647250  \n",
       "max     1243.333333     41.950000   -114.310000      5.000010  "
      ]
     },
     "execution_count": 7,
     "metadata": {},
     "output_type": "execute_result"
    }
   ],
   "source": [
    "df.describe()"
   ]
  },
  {
   "cell_type": "code",
   "execution_count": 8,
   "metadata": {},
   "outputs": [],
   "source": [
    "# Discretize df\n",
    "\n",
    "mean_target = df['MedHouseVal'].mean()\n",
    "df_discrete = df.copy()\n",
    "\n",
    "df_discrete['AboveMean'] = (df_discrete['MedHouseVal'] >= mean_target).astype(int)\n",
    "df_discrete.drop('MedHouseVal', axis=1, inplace=True)"
   ]
  },
  {
   "cell_type": "code",
   "execution_count": 9,
   "metadata": {},
   "outputs": [],
   "source": [
    "# Can just import entire module\n",
    "import alice"
   ]
  },
  {
   "cell_type": "code",
   "execution_count": 10,
   "metadata": {},
   "outputs": [],
   "source": [
    "# Import regression metrics\n",
    "from alice.metrics.regress import mse, rmse, mae\n",
    "# Import classification metrics\n",
    "from alice.metrics.classify import accuracy, precision, recall, f1\n",
    "# Import regression agreeability metric\n",
    "from alice.agreeability.regress import pearson\n",
    "# Import classification agreeability metric\n",
    "from alice.agreeability.classify import cohen_kappa\n"
   ]
  },
  {
   "cell_type": "code",
   "execution_count": 11,
   "metadata": {},
   "outputs": [],
   "source": [
    "# Import our demo search algorithm \n",
    "from alice.search_and_compare.sequential import BackEliminator"
   ]
  },
  {
   "cell_type": "markdown",
   "metadata": {},
   "source": [
    "### Check functionality on a regression task"
   ]
  },
  {
   "cell_type": "code",
   "execution_count": 12,
   "metadata": {},
   "outputs": [],
   "source": [
    "from sklearn.model_selection import train_test_split"
   ]
  },
  {
   "cell_type": "code",
   "execution_count": 13,
   "metadata": {},
   "outputs": [
    {
     "name": "stdout",
     "output_type": "stream",
     "text": [
      "<class 'pandas.core.frame.DataFrame'>\n",
      "RangeIndex: 20640 entries, 0 to 20639\n",
      "Data columns (total 9 columns):\n",
      " #   Column       Non-Null Count  Dtype  \n",
      "---  ------       --------------  -----  \n",
      " 0   MedInc       20640 non-null  float64\n",
      " 1   HouseAge     20640 non-null  float64\n",
      " 2   AveRooms     20640 non-null  float64\n",
      " 3   AveBedrms    20640 non-null  float64\n",
      " 4   Population   20640 non-null  float64\n",
      " 5   AveOccup     20640 non-null  float64\n",
      " 6   Latitude     20640 non-null  float64\n",
      " 7   Longitude    20640 non-null  float64\n",
      " 8   MedHouseVal  20640 non-null  float64\n",
      "dtypes: float64(9)\n",
      "memory usage: 1.4 MB\n"
     ]
    }
   ],
   "source": [
    "df.info()"
   ]
  },
  {
   "cell_type": "code",
   "execution_count": 14,
   "metadata": {},
   "outputs": [],
   "source": [
    "y = df['MedHouseVal']\n",
    "X = df.drop('MedHouseVal', axis=1)\n"
   ]
  },
  {
   "cell_type": "code",
   "execution_count": 15,
   "metadata": {},
   "outputs": [],
   "source": [
    "X_train, X_val, y_train, y_val = train_test_split(X, y, test_size=0.2, random_state=66)"
   ]
  },
  {
   "cell_type": "code",
   "execution_count": 16,
   "metadata": {},
   "outputs": [],
   "source": [
    "from sklearn.linear_model import LinearRegression\n",
    "from sklearn.tree import DecisionTreeRegressor"
   ]
  },
  {
   "cell_type": "code",
   "execution_count": 17,
   "metadata": {},
   "outputs": [],
   "source": [
    "m1 = LinearRegression()\n",
    "m2 = DecisionTreeRegressor()"
   ]
  },
  {
   "cell_type": "code",
   "execution_count": 18,
   "metadata": {},
   "outputs": [],
   "source": [
    "seeker = BackEliminator(\n",
    "    X=X_train,\n",
    "    y=y_train,\n",
    "    validation_data=(X_val, y_val),\n",
    "    task_type='regression',\n",
    "    criterion='rmse',\n",
    "    agreeability='pearson'\n",
    ")"
   ]
  },
  {
   "cell_type": "code",
   "execution_count": 19,
   "metadata": {},
   "outputs": [
    {
     "name": "stdout",
     "output_type": "stream",
     "text": [
      "Initial run: fitted both models with full feature set.\n",
      "------------------------------------------------------------------------------------------------------------------------------------------------------\n",
      "Model 1 included: ['MedInc', 'HouseAge', 'AveRooms', 'AveBedrms', 'Population', 'AveOccup', 'Latitude', 'Longitude']. RMSE: 0.7315\n",
      "Model 2 included: ['MedInc', 'HouseAge', 'AveRooms', 'AveBedrms', 'Population', 'AveOccup', 'Latitude', 'Longitude']. RMSE: 0.7272\n",
      "------------------------------------------------------------------------------------------------------------------------------------------------------\n",
      "Agreeability Coefficient (pearson): 0.7609\n",
      "======================================================================================================================================================\n",
      "Iteration 1:\n",
      "------------------------------------------------------------------------------------------------------------------------------------------------------\n",
      "Results from best models:\n",
      "Best Model 1 included: ['MedInc', 'HouseAge', 'AveRooms', 'AveBedrms', 'Population', 'Latitude', 'Longitude']. RMSE: 0.7243\n",
      "Best Model 2 included: ['MedInc', 'HouseAge', 'AveRooms', 'AveBedrms', 'Population', 'Latitude', 'Longitude']. RMSE: 0.6747\n",
      "Agreeability Coefficient (pearson) between best models: 0.7724847470819484\n",
      "------------------------------------------------------------------------------------------------------------------------------------------------------\n",
      "Results from all models:\n",
      "M1 mean score: 0.7727. Standard deviation: 0.0587\n",
      "M1 mean score: 0.7386. Standard deviation: 0.0568\n",
      "Mean agreeability coefficient (pearson): 0.7145. Standard deviation: 0.0772\n",
      "======================================================================================================================================================\n",
      "Iteration 2:\n",
      "------------------------------------------------------------------------------------------------------------------------------------------------------\n",
      "Results from best models:\n",
      "Best Model 1 included: ['MedInc', 'HouseAge', 'AveRooms', 'AveBedrms', 'Latitude', 'Longitude']. RMSE: 0.7243\n",
      "Best Model 2 included: ['MedInc', 'AveRooms', 'AveBedrms', 'Population', 'Latitude', 'Longitude']. RMSE: 0.6765\n",
      "Agreeability Coefficient (pearson) between best models: 0.7780967283792712\n",
      "------------------------------------------------------------------------------------------------------------------------------------------------------\n",
      "Results from all models:\n",
      "M1 mean score: 0.7699. Standard deviation: 0.0584\n",
      "M1 mean score: 0.7515. Standard deviation: 0.0999\n",
      "Mean agreeability coefficient (pearson): 0.7215. Standard deviation: 0.0767\n",
      "======================================================================================================================================================\n",
      "Iteration 3:\n",
      "------------------------------------------------------------------------------------------------------------------------------------------------------\n",
      "Results from best models:\n",
      "Best Model 1 included: ['MedInc', 'HouseAge', 'AveBedrms', 'Latitude', 'Longitude']. RMSE: 0.7299\n",
      "Best Model 2 included: ['AveRooms', 'AveBedrms', 'Population', 'Latitude', 'Longitude']. RMSE: 0.6457\n",
      "Agreeability Coefficient (pearson) between best models: 0.7462554089439155\n",
      "------------------------------------------------------------------------------------------------------------------------------------------------------\n",
      "Results from all models:\n",
      "M1 mean score: 0.7777. Standard deviation: 0.0597\n",
      "M1 mean score: 0.7567. Standard deviation: 0.1365\n",
      "Mean agreeability coefficient (pearson): 0.7126. Standard deviation: 0.0892\n",
      "======================================================================================================================================================\n",
      "Iteration 4:\n",
      "------------------------------------------------------------------------------------------------------------------------------------------------------\n",
      "Results from best models:\n",
      "Best Model 1 included: ['MedInc', 'HouseAge', 'Latitude', 'Longitude']. RMSE: 0.7340\n",
      "Best Model 2 included: ['AveRooms', 'AveBedrms', 'Latitude', 'Longitude']. RMSE: 0.6348\n",
      "Agreeability Coefficient (pearson) between best models: 0.7424794731120581\n",
      "------------------------------------------------------------------------------------------------------------------------------------------------------\n",
      "Results from all models:\n",
      "M1 mean score: 0.8222. Standard deviation: 0.1052\n",
      "M1 mean score: 0.8711. Standard deviation: 0.2437\n",
      "Mean agreeability coefficient (pearson): 0.5712. Standard deviation: 0.1708\n",
      "======================================================================================================================================================\n",
      "Iteration 5:\n",
      "------------------------------------------------------------------------------------------------------------------------------------------------------\n",
      "Results from best models:\n",
      "Best Model 1 included: ['MedInc', 'Latitude', 'Longitude']. RMSE: 0.7420\n",
      "Best Model 2 included: ['AveRooms', 'Latitude', 'Longitude']. RMSE: 0.6411\n",
      "Agreeability Coefficient (pearson) between best models: 0.7228535679025345\n",
      "------------------------------------------------------------------------------------------------------------------------------------------------------\n",
      "Results from all models:\n",
      "M1 mean score: 0.8456. Standard deviation: 0.1065\n",
      "M1 mean score: 0.9219. Standard deviation: 0.2448\n",
      "Mean agreeability coefficient (pearson): 0.5265. Standard deviation: 0.1639\n",
      "======================================================================================================================================================\n",
      "Iteration 6:\n",
      "------------------------------------------------------------------------------------------------------------------------------------------------------\n",
      "Results from best models:\n",
      "Best Model 1 included: ['MedInc', 'Latitude']. RMSE: 0.8302\n",
      "Best Model 2 included: ['Latitude', 'Longitude']. RMSE: 0.6321\n",
      "Agreeability Coefficient (pearson) between best models: 0.5991500652683802\n",
      "------------------------------------------------------------------------------------------------------------------------------------------------------\n",
      "Results from all models:\n",
      "M1 mean score: 0.8977. Standard deviation: 0.0893\n",
      "M1 mean score: 1.0200. Standard deviation: 0.2787\n",
      "Mean agreeability coefficient (pearson): 0.4422. Standard deviation: 0.1485\n",
      "======================================================================================================================================================\n",
      "Iteration 7:\n",
      "------------------------------------------------------------------------------------------------------------------------------------------------------\n",
      "Results from best models:\n",
      "Best Model 1 included: ['MedInc']. RMSE: 0.8391\n",
      "Best Model 2 included: ['Longitude']. RMSE: 1.0059\n",
      "Agreeability Coefficient (pearson) between best models: 0.3262706343168213\n",
      "------------------------------------------------------------------------------------------------------------------------------------------------------\n",
      "Results from all models:\n",
      "M1 mean score: 1.0013. Standard deviation: 0.1622\n",
      "M1 mean score: 1.0256. Standard deviation: 0.0197\n",
      "Mean agreeability coefficient (pearson): 0.3075. Standard deviation: 0.0188\n",
      "======================================================================================================================================================\n"
     ]
    }
   ],
   "source": [
    "results = seeker.compare_all_models(\n",
    "    m1=m1,\n",
    "    m2=m2\n",
    ")"
   ]
  },
  {
   "cell_type": "code",
   "execution_count": 20,
   "metadata": {},
   "outputs": [
    {
     "data": {
      "text/plain": [
       "[{'Best: M1 Included Features': ['MedInc',\n",
       "   'HouseAge',\n",
       "   'AveRooms',\n",
       "   'AveBedrms',\n",
       "   'Population',\n",
       "   'AveOccup',\n",
       "   'Latitude',\n",
       "   'Longitude'],\n",
       "  'Best: M1 rmse': 0.7315223258924328,\n",
       "  'Best: M2 Included Features': ['MedInc',\n",
       "   'HouseAge',\n",
       "   'AveRooms',\n",
       "   'AveBedrms',\n",
       "   'Population',\n",
       "   'AveOccup',\n",
       "   'Latitude',\n",
       "   'Longitude'],\n",
       "  'Best: M2 rmse': 0.7271857510834681,\n",
       "  'Best: Agreeability (pearson)': 0.7609497068607372,\n",
       "  'All: M1 Mean rmse': 0.7315223258924328,\n",
       "  'All: M1 STD rmse': 0,\n",
       "  'All: M2 Mean rmse': 0.7271857510834681,\n",
       "  'All: M2 STD rmse': 0,\n",
       "  'All: Mean Agreeability (pearson)': 0.7609497068607372,\n",
       "  'All: Agreeability St. Dev.': 0},\n",
       " {'Best: M1 Included Features': ['MedInc',\n",
       "   'HouseAge',\n",
       "   'AveRooms',\n",
       "   'AveBedrms',\n",
       "   'Population',\n",
       "   'Latitude',\n",
       "   'Longitude'],\n",
       "  'Best: M1 rmse': 0.7243210543253327,\n",
       "  'Best: M2 Included Features': ['MedInc',\n",
       "   'HouseAge',\n",
       "   'AveRooms',\n",
       "   'AveBedrms',\n",
       "   'Population',\n",
       "   'Latitude',\n",
       "   'Longitude'],\n",
       "  'Best: M2 rmse': 0.6746895716764478,\n",
       "  'Best: Agreeability (pearson)': 0.7724847470819484,\n",
       "  'All: M1 Mean rmse': 0.7727296000887818,\n",
       "  'All: M1 STD rmse': 0.058713308465785485,\n",
       "  'All: M2 Mean rmse': 0.7385896018453683,\n",
       "  'All: M2 STD rmse': 0.05680730415861131,\n",
       "  'All: Mean Agreeability (pearson)': 0.7145179530438905,\n",
       "  'All: Agreeability St. Dev.': 0.07723846931860925},\n",
       " {'Best: M1 Included Features': ['MedInc',\n",
       "   'HouseAge',\n",
       "   'AveRooms',\n",
       "   'AveBedrms',\n",
       "   'Latitude',\n",
       "   'Longitude'],\n",
       "  'Best: M1 rmse': 0.7243206659201569,\n",
       "  'Best: M2 Included Features': ['MedInc',\n",
       "   'AveRooms',\n",
       "   'AveBedrms',\n",
       "   'Population',\n",
       "   'Latitude',\n",
       "   'Longitude'],\n",
       "  'Best: M2 rmse': 0.6764706281288936,\n",
       "  'Best: Agreeability (pearson)': 0.7780967283792712,\n",
       "  'All: M1 Mean rmse': 0.7698800217405871,\n",
       "  'All: M1 STD rmse': 0.05839595056936049,\n",
       "  'All: M2 Mean rmse': 0.7515124926218688,\n",
       "  'All: M2 STD rmse': 0.09992627552600092,\n",
       "  'All: Mean Agreeability (pearson)': 0.7215029933691662,\n",
       "  'All: Agreeability St. Dev.': 0.076748737041347},\n",
       " {'Best: M1 Included Features': ['MedInc',\n",
       "   'HouseAge',\n",
       "   'AveBedrms',\n",
       "   'Latitude',\n",
       "   'Longitude'],\n",
       "  'Best: M1 rmse': 0.7299080678582273,\n",
       "  'Best: M2 Included Features': ['AveRooms',\n",
       "   'AveBedrms',\n",
       "   'Population',\n",
       "   'Latitude',\n",
       "   'Longitude'],\n",
       "  'Best: M2 rmse': 0.6456739092170511,\n",
       "  'Best: Agreeability (pearson)': 0.7462554089439155,\n",
       "  'All: M1 Mean rmse': 0.7777087075258885,\n",
       "  'All: M1 STD rmse': 0.059709560831612926,\n",
       "  'All: M2 Mean rmse': 0.756670752135124,\n",
       "  'All: M2 STD rmse': 0.13651385754960993,\n",
       "  'All: Mean Agreeability (pearson)': 0.712632190355602,\n",
       "  'All: Agreeability St. Dev.': 0.08924644263346664},\n",
       " {'Best: M1 Included Features': ['MedInc',\n",
       "   'HouseAge',\n",
       "   'Latitude',\n",
       "   'Longitude'],\n",
       "  'Best: M1 rmse': 0.7340250301119083,\n",
       "  'Best: M2 Included Features': ['AveRooms',\n",
       "   'AveBedrms',\n",
       "   'Latitude',\n",
       "   'Longitude'],\n",
       "  'Best: M2 rmse': 0.6347800797292712,\n",
       "  'Best: Agreeability (pearson)': 0.7424794731120581,\n",
       "  'All: M1 Mean rmse': 0.8222171594334977,\n",
       "  'All: M1 STD rmse': 0.10522388597581891,\n",
       "  'All: M2 Mean rmse': 0.8711233971604703,\n",
       "  'All: M2 STD rmse': 0.24369456952817595,\n",
       "  'All: Mean Agreeability (pearson)': 0.5711576464418641,\n",
       "  'All: Agreeability St. Dev.': 0.17083699818649242},\n",
       " {'Best: M1 Included Features': ['MedInc', 'Latitude', 'Longitude'],\n",
       "  'Best: M1 rmse': 0.7419579345892257,\n",
       "  'Best: M2 Included Features': ['AveRooms', 'Latitude', 'Longitude'],\n",
       "  'Best: M2 rmse': 0.641112327390111,\n",
       "  'Best: Agreeability (pearson)': 0.7228535679025345,\n",
       "  'All: M1 Mean rmse': 0.8455973116246125,\n",
       "  'All: M1 STD rmse': 0.10652176290655452,\n",
       "  'All: M2 Mean rmse': 0.921943060686639,\n",
       "  'All: M2 STD rmse': 0.2448296867986645,\n",
       "  'All: Mean Agreeability (pearson)': 0.5264607058249672,\n",
       "  'All: Agreeability St. Dev.': 0.1639120658923311},\n",
       " {'Best: M1 Included Features': ['MedInc', 'Latitude'],\n",
       "  'Best: M1 rmse': 0.8301873925326823,\n",
       "  'Best: M2 Included Features': ['Latitude', 'Longitude'],\n",
       "  'Best: M2 rmse': 0.6320666184605236,\n",
       "  'Best: Agreeability (pearson)': 0.5991500652683802,\n",
       "  'All: M1 Mean rmse': 0.8977439834292477,\n",
       "  'All: M1 STD rmse': 0.08931202533046595,\n",
       "  'All: M2 Mean rmse': 1.0199756478357884,\n",
       "  'All: M2 STD rmse': 0.27874249701018206,\n",
       "  'All: Mean Agreeability (pearson)': 0.44216901337802916,\n",
       "  'All: Agreeability St. Dev.': 0.14854312968022038},\n",
       " {'Best: M1 Included Features': ['MedInc'],\n",
       "  'Best: M1 rmse': 0.8390728208993037,\n",
       "  'Best: M2 Included Features': ['Longitude'],\n",
       "  'Best: M2 rmse': 1.0058695484342364,\n",
       "  'Best: Agreeability (pearson)': 0.3262706343168213,\n",
       "  'All: M1 Mean rmse': 1.0013004853773162,\n",
       "  'All: M1 STD rmse': 0.16222766447801262,\n",
       "  'All: M2 Mean rmse': 1.0255794069079167,\n",
       "  'All: M2 STD rmse': 0.01970985847368034,\n",
       "  'All: Mean Agreeability (pearson)': 0.30745749491435304,\n",
       "  'All: Agreeability St. Dev.': 0.018813139402468232}]"
      ]
     },
     "execution_count": 20,
     "metadata": {},
     "output_type": "execute_result"
    }
   ],
   "source": [
    "results"
   ]
  },
  {
   "cell_type": "code",
   "execution_count": 21,
   "metadata": {},
   "outputs": [],
   "source": [
    "# scores now callable\n",
    "scores_m1 = seeker.scores_m1\n",
    "scores_m2 = seeker.scores_m2\n"
   ]
  },
  {
   "cell_type": "code",
   "execution_count": 22,
   "metadata": {},
   "outputs": [
    {
     "data": {
      "text/plain": [
       "[{'Best: M1 Included Features': ['MedInc',\n",
       "   'HouseAge',\n",
       "   'AveRooms',\n",
       "   'AveBedrms',\n",
       "   'Population',\n",
       "   'AveOccup',\n",
       "   'Latitude',\n",
       "   'Longitude'],\n",
       "  'Best: M1 rmse': 0.7315223258924328,\n",
       "  'Best: M2 Included Features': ['MedInc',\n",
       "   'HouseAge',\n",
       "   'AveRooms',\n",
       "   'AveBedrms',\n",
       "   'Population',\n",
       "   'AveOccup',\n",
       "   'Latitude',\n",
       "   'Longitude'],\n",
       "  'Best: M2 rmse': 0.7271857510834681,\n",
       "  'Best: Agreeability (pearson)': 0.7609497068607372,\n",
       "  'All: M1 Mean rmse': 0.7315223258924328,\n",
       "  'All: M1 STD rmse': 0,\n",
       "  'All: M2 Mean rmse': 0.7271857510834681,\n",
       "  'All: M2 STD rmse': 0,\n",
       "  'All: Mean Agreeability (pearson)': 0.7609497068607372,\n",
       "  'All: Agreeability St. Dev.': 0},\n",
       " {'Best: M1 Included Features': ['MedInc',\n",
       "   'HouseAge',\n",
       "   'AveRooms',\n",
       "   'AveBedrms',\n",
       "   'Population',\n",
       "   'Latitude',\n",
       "   'Longitude'],\n",
       "  'Best: M1 rmse': 0.7243210543253327,\n",
       "  'Best: M2 Included Features': ['MedInc',\n",
       "   'HouseAge',\n",
       "   'AveRooms',\n",
       "   'AveBedrms',\n",
       "   'Population',\n",
       "   'Latitude',\n",
       "   'Longitude'],\n",
       "  'Best: M2 rmse': 0.6746895716764478,\n",
       "  'Best: Agreeability (pearson)': 0.7724847470819484,\n",
       "  'All: M1 Mean rmse': 0.7727296000887818,\n",
       "  'All: M1 STD rmse': 0.058713308465785485,\n",
       "  'All: M2 Mean rmse': 0.7385896018453683,\n",
       "  'All: M2 STD rmse': 0.05680730415861131,\n",
       "  'All: Mean Agreeability (pearson)': 0.7145179530438905,\n",
       "  'All: Agreeability St. Dev.': 0.07723846931860925},\n",
       " {'Best: M1 Included Features': ['MedInc',\n",
       "   'HouseAge',\n",
       "   'AveRooms',\n",
       "   'AveBedrms',\n",
       "   'Latitude',\n",
       "   'Longitude'],\n",
       "  'Best: M1 rmse': 0.7243206659201569,\n",
       "  'Best: M2 Included Features': ['MedInc',\n",
       "   'AveRooms',\n",
       "   'AveBedrms',\n",
       "   'Population',\n",
       "   'Latitude',\n",
       "   'Longitude'],\n",
       "  'Best: M2 rmse': 0.6764706281288936,\n",
       "  'Best: Agreeability (pearson)': 0.7780967283792712,\n",
       "  'All: M1 Mean rmse': 0.7698800217405871,\n",
       "  'All: M1 STD rmse': 0.05839595056936049,\n",
       "  'All: M2 Mean rmse': 0.7515124926218688,\n",
       "  'All: M2 STD rmse': 0.09992627552600092,\n",
       "  'All: Mean Agreeability (pearson)': 0.7215029933691662,\n",
       "  'All: Agreeability St. Dev.': 0.076748737041347},\n",
       " {'Best: M1 Included Features': ['MedInc',\n",
       "   'HouseAge',\n",
       "   'AveBedrms',\n",
       "   'Latitude',\n",
       "   'Longitude'],\n",
       "  'Best: M1 rmse': 0.7299080678582273,\n",
       "  'Best: M2 Included Features': ['AveRooms',\n",
       "   'AveBedrms',\n",
       "   'Population',\n",
       "   'Latitude',\n",
       "   'Longitude'],\n",
       "  'Best: M2 rmse': 0.6456739092170511,\n",
       "  'Best: Agreeability (pearson)': 0.7462554089439155,\n",
       "  'All: M1 Mean rmse': 0.7777087075258885,\n",
       "  'All: M1 STD rmse': 0.059709560831612926,\n",
       "  'All: M2 Mean rmse': 0.756670752135124,\n",
       "  'All: M2 STD rmse': 0.13651385754960993,\n",
       "  'All: Mean Agreeability (pearson)': 0.712632190355602,\n",
       "  'All: Agreeability St. Dev.': 0.08924644263346664},\n",
       " {'Best: M1 Included Features': ['MedInc',\n",
       "   'HouseAge',\n",
       "   'Latitude',\n",
       "   'Longitude'],\n",
       "  'Best: M1 rmse': 0.7340250301119083,\n",
       "  'Best: M2 Included Features': ['AveRooms',\n",
       "   'AveBedrms',\n",
       "   'Latitude',\n",
       "   'Longitude'],\n",
       "  'Best: M2 rmse': 0.6347800797292712,\n",
       "  'Best: Agreeability (pearson)': 0.7424794731120581,\n",
       "  'All: M1 Mean rmse': 0.8222171594334977,\n",
       "  'All: M1 STD rmse': 0.10522388597581891,\n",
       "  'All: M2 Mean rmse': 0.8711233971604703,\n",
       "  'All: M2 STD rmse': 0.24369456952817595,\n",
       "  'All: Mean Agreeability (pearson)': 0.5711576464418641,\n",
       "  'All: Agreeability St. Dev.': 0.17083699818649242},\n",
       " {'Best: M1 Included Features': ['MedInc', 'Latitude', 'Longitude'],\n",
       "  'Best: M1 rmse': 0.7419579345892257,\n",
       "  'Best: M2 Included Features': ['AveRooms', 'Latitude', 'Longitude'],\n",
       "  'Best: M2 rmse': 0.641112327390111,\n",
       "  'Best: Agreeability (pearson)': 0.7228535679025345,\n",
       "  'All: M1 Mean rmse': 0.8455973116246125,\n",
       "  'All: M1 STD rmse': 0.10652176290655452,\n",
       "  'All: M2 Mean rmse': 0.921943060686639,\n",
       "  'All: M2 STD rmse': 0.2448296867986645,\n",
       "  'All: Mean Agreeability (pearson)': 0.5264607058249672,\n",
       "  'All: Agreeability St. Dev.': 0.1639120658923311},\n",
       " {'Best: M1 Included Features': ['MedInc', 'Latitude'],\n",
       "  'Best: M1 rmse': 0.8301873925326823,\n",
       "  'Best: M2 Included Features': ['Latitude', 'Longitude'],\n",
       "  'Best: M2 rmse': 0.6320666184605236,\n",
       "  'Best: Agreeability (pearson)': 0.5991500652683802,\n",
       "  'All: M1 Mean rmse': 0.8977439834292477,\n",
       "  'All: M1 STD rmse': 0.08931202533046595,\n",
       "  'All: M2 Mean rmse': 1.0199756478357884,\n",
       "  'All: M2 STD rmse': 0.27874249701018206,\n",
       "  'All: Mean Agreeability (pearson)': 0.44216901337802916,\n",
       "  'All: Agreeability St. Dev.': 0.14854312968022038},\n",
       " {'Best: M1 Included Features': ['MedInc'],\n",
       "  'Best: M1 rmse': 0.8390728208993037,\n",
       "  'Best: M2 Included Features': ['Longitude'],\n",
       "  'Best: M2 rmse': 1.0058695484342364,\n",
       "  'Best: Agreeability (pearson)': 0.3262706343168213,\n",
       "  'All: M1 Mean rmse': 1.0013004853773162,\n",
       "  'All: M1 STD rmse': 0.16222766447801262,\n",
       "  'All: M2 Mean rmse': 1.0255794069079167,\n",
       "  'All: M2 STD rmse': 0.01970985847368034,\n",
       "  'All: Mean Agreeability (pearson)': 0.30745749491435304,\n",
       "  'All: Agreeability St. Dev.': 0.018813139402468232}]"
      ]
     },
     "execution_count": 22,
     "metadata": {},
     "output_type": "execute_result"
    }
   ],
   "source": [
    "results"
   ]
  },
  {
   "cell_type": "code",
   "execution_count": 23,
   "metadata": {},
   "outputs": [],
   "source": [
    "results_df = seeker.dataframe_from_results()"
   ]
  },
  {
   "cell_type": "code",
   "execution_count": 24,
   "metadata": {},
   "outputs": [
    {
     "data": {
      "text/html": [
       "<div>\n",
       "<style scoped>\n",
       "    .dataframe tbody tr th:only-of-type {\n",
       "        vertical-align: middle;\n",
       "    }\n",
       "\n",
       "    .dataframe tbody tr th {\n",
       "        vertical-align: top;\n",
       "    }\n",
       "\n",
       "    .dataframe thead th {\n",
       "        text-align: right;\n",
       "    }\n",
       "</style>\n",
       "<table border=\"1\" class=\"dataframe\">\n",
       "  <thead>\n",
       "    <tr style=\"text-align: right;\">\n",
       "      <th></th>\n",
       "      <th>Best: M1 Included Features</th>\n",
       "      <th>Best: M1 rmse</th>\n",
       "      <th>Best: M2 Included Features</th>\n",
       "      <th>Best: M2 rmse</th>\n",
       "      <th>Best: Agreeability (pearson)</th>\n",
       "      <th>All: M1 Mean rmse</th>\n",
       "      <th>All: M1 STD rmse</th>\n",
       "      <th>All: M2 Mean rmse</th>\n",
       "      <th>All: M2 STD rmse</th>\n",
       "      <th>All: Mean Agreeability (pearson)</th>\n",
       "      <th>All: Agreeability St. Dev.</th>\n",
       "    </tr>\n",
       "  </thead>\n",
       "  <tbody>\n",
       "    <tr>\n",
       "      <th>0</th>\n",
       "      <td>[MedInc, HouseAge, AveRooms, AveBedrms, Popula...</td>\n",
       "      <td>0.731522</td>\n",
       "      <td>[MedInc, HouseAge, AveRooms, AveBedrms, Popula...</td>\n",
       "      <td>0.727186</td>\n",
       "      <td>0.760950</td>\n",
       "      <td>0.731522</td>\n",
       "      <td>0.000000</td>\n",
       "      <td>0.727186</td>\n",
       "      <td>0.000000</td>\n",
       "      <td>0.760950</td>\n",
       "      <td>0.000000</td>\n",
       "    </tr>\n",
       "    <tr>\n",
       "      <th>1</th>\n",
       "      <td>[MedInc, HouseAge, AveRooms, AveBedrms, Popula...</td>\n",
       "      <td>0.724321</td>\n",
       "      <td>[MedInc, HouseAge, AveRooms, AveBedrms, Popula...</td>\n",
       "      <td>0.674690</td>\n",
       "      <td>0.772485</td>\n",
       "      <td>0.772730</td>\n",
       "      <td>0.058713</td>\n",
       "      <td>0.738590</td>\n",
       "      <td>0.056807</td>\n",
       "      <td>0.714518</td>\n",
       "      <td>0.077238</td>\n",
       "    </tr>\n",
       "    <tr>\n",
       "      <th>2</th>\n",
       "      <td>[MedInc, HouseAge, AveRooms, AveBedrms, Latitu...</td>\n",
       "      <td>0.724321</td>\n",
       "      <td>[MedInc, AveRooms, AveBedrms, Population, Lati...</td>\n",
       "      <td>0.676471</td>\n",
       "      <td>0.778097</td>\n",
       "      <td>0.769880</td>\n",
       "      <td>0.058396</td>\n",
       "      <td>0.751512</td>\n",
       "      <td>0.099926</td>\n",
       "      <td>0.721503</td>\n",
       "      <td>0.076749</td>\n",
       "    </tr>\n",
       "    <tr>\n",
       "      <th>3</th>\n",
       "      <td>[MedInc, HouseAge, AveBedrms, Latitude, Longit...</td>\n",
       "      <td>0.729908</td>\n",
       "      <td>[AveRooms, AveBedrms, Population, Latitude, Lo...</td>\n",
       "      <td>0.645674</td>\n",
       "      <td>0.746255</td>\n",
       "      <td>0.777709</td>\n",
       "      <td>0.059710</td>\n",
       "      <td>0.756671</td>\n",
       "      <td>0.136514</td>\n",
       "      <td>0.712632</td>\n",
       "      <td>0.089246</td>\n",
       "    </tr>\n",
       "    <tr>\n",
       "      <th>4</th>\n",
       "      <td>[MedInc, HouseAge, Latitude, Longitude]</td>\n",
       "      <td>0.734025</td>\n",
       "      <td>[AveRooms, AveBedrms, Latitude, Longitude]</td>\n",
       "      <td>0.634780</td>\n",
       "      <td>0.742479</td>\n",
       "      <td>0.822217</td>\n",
       "      <td>0.105224</td>\n",
       "      <td>0.871123</td>\n",
       "      <td>0.243695</td>\n",
       "      <td>0.571158</td>\n",
       "      <td>0.170837</td>\n",
       "    </tr>\n",
       "    <tr>\n",
       "      <th>5</th>\n",
       "      <td>[MedInc, Latitude, Longitude]</td>\n",
       "      <td>0.741958</td>\n",
       "      <td>[AveRooms, Latitude, Longitude]</td>\n",
       "      <td>0.641112</td>\n",
       "      <td>0.722854</td>\n",
       "      <td>0.845597</td>\n",
       "      <td>0.106522</td>\n",
       "      <td>0.921943</td>\n",
       "      <td>0.244830</td>\n",
       "      <td>0.526461</td>\n",
       "      <td>0.163912</td>\n",
       "    </tr>\n",
       "    <tr>\n",
       "      <th>6</th>\n",
       "      <td>[MedInc, Latitude]</td>\n",
       "      <td>0.830187</td>\n",
       "      <td>[Latitude, Longitude]</td>\n",
       "      <td>0.632067</td>\n",
       "      <td>0.599150</td>\n",
       "      <td>0.897744</td>\n",
       "      <td>0.089312</td>\n",
       "      <td>1.019976</td>\n",
       "      <td>0.278742</td>\n",
       "      <td>0.442169</td>\n",
       "      <td>0.148543</td>\n",
       "    </tr>\n",
       "    <tr>\n",
       "      <th>7</th>\n",
       "      <td>[MedInc]</td>\n",
       "      <td>0.839073</td>\n",
       "      <td>[Longitude]</td>\n",
       "      <td>1.005870</td>\n",
       "      <td>0.326271</td>\n",
       "      <td>1.001300</td>\n",
       "      <td>0.162228</td>\n",
       "      <td>1.025579</td>\n",
       "      <td>0.019710</td>\n",
       "      <td>0.307457</td>\n",
       "      <td>0.018813</td>\n",
       "    </tr>\n",
       "  </tbody>\n",
       "</table>\n",
       "</div>"
      ],
      "text/plain": [
       "                          Best: M1 Included Features  Best: M1 rmse  \\\n",
       "0  [MedInc, HouseAge, AveRooms, AveBedrms, Popula...       0.731522   \n",
       "1  [MedInc, HouseAge, AveRooms, AveBedrms, Popula...       0.724321   \n",
       "2  [MedInc, HouseAge, AveRooms, AveBedrms, Latitu...       0.724321   \n",
       "3  [MedInc, HouseAge, AveBedrms, Latitude, Longit...       0.729908   \n",
       "4            [MedInc, HouseAge, Latitude, Longitude]       0.734025   \n",
       "5                      [MedInc, Latitude, Longitude]       0.741958   \n",
       "6                                 [MedInc, Latitude]       0.830187   \n",
       "7                                           [MedInc]       0.839073   \n",
       "\n",
       "                          Best: M2 Included Features  Best: M2 rmse  \\\n",
       "0  [MedInc, HouseAge, AveRooms, AveBedrms, Popula...       0.727186   \n",
       "1  [MedInc, HouseAge, AveRooms, AveBedrms, Popula...       0.674690   \n",
       "2  [MedInc, AveRooms, AveBedrms, Population, Lati...       0.676471   \n",
       "3  [AveRooms, AveBedrms, Population, Latitude, Lo...       0.645674   \n",
       "4         [AveRooms, AveBedrms, Latitude, Longitude]       0.634780   \n",
       "5                    [AveRooms, Latitude, Longitude]       0.641112   \n",
       "6                              [Latitude, Longitude]       0.632067   \n",
       "7                                        [Longitude]       1.005870   \n",
       "\n",
       "   Best: Agreeability (pearson)  All: M1 Mean rmse  All: M1 STD rmse  \\\n",
       "0                      0.760950           0.731522          0.000000   \n",
       "1                      0.772485           0.772730          0.058713   \n",
       "2                      0.778097           0.769880          0.058396   \n",
       "3                      0.746255           0.777709          0.059710   \n",
       "4                      0.742479           0.822217          0.105224   \n",
       "5                      0.722854           0.845597          0.106522   \n",
       "6                      0.599150           0.897744          0.089312   \n",
       "7                      0.326271           1.001300          0.162228   \n",
       "\n",
       "   All: M2 Mean rmse  All: M2 STD rmse  All: Mean Agreeability (pearson)  \\\n",
       "0           0.727186          0.000000                          0.760950   \n",
       "1           0.738590          0.056807                          0.714518   \n",
       "2           0.751512          0.099926                          0.721503   \n",
       "3           0.756671          0.136514                          0.712632   \n",
       "4           0.871123          0.243695                          0.571158   \n",
       "5           0.921943          0.244830                          0.526461   \n",
       "6           1.019976          0.278742                          0.442169   \n",
       "7           1.025579          0.019710                          0.307457   \n",
       "\n",
       "   All: Agreeability St. Dev.  \n",
       "0                    0.000000  \n",
       "1                    0.077238  \n",
       "2                    0.076749  \n",
       "3                    0.089246  \n",
       "4                    0.170837  \n",
       "5                    0.163912  \n",
       "6                    0.148543  \n",
       "7                    0.018813  "
      ]
     },
     "execution_count": 24,
     "metadata": {},
     "output_type": "execute_result"
    }
   ],
   "source": [
    "results_df"
   ]
  },
  {
   "cell_type": "code",
   "execution_count": 25,
   "metadata": {},
   "outputs": [
    {
     "data": {
      "application/vnd.plotly.v1+json": {
       "config": {
        "plotlyServerURL": "https://plot.ly"
       },
       "data": [
        {
         "hoverinfo": "text",
         "hovertext": [
          "<br> Best: Agreeability (pearson): <br> 0.7609 <br> All: Mean Agreeability (pearson): <br> 0.7609 <br> All: Agreeability St. Dev.: <br> 0.0000",
          "<br> Best: Agreeability (pearson): <br> 0.7725 <br> All: Mean Agreeability (pearson): <br> 0.7145 <br> All: Agreeability St. Dev.: <br> 0.0772",
          "<br> Best: Agreeability (pearson): <br> 0.7781 <br> All: Mean Agreeability (pearson): <br> 0.7215 <br> All: Agreeability St. Dev.: <br> 0.0767",
          "<br> Best: Agreeability (pearson): <br> 0.7463 <br> All: Mean Agreeability (pearson): <br> 0.7126 <br> All: Agreeability St. Dev.: <br> 0.0892",
          "<br> Best: Agreeability (pearson): <br> 0.7425 <br> All: Mean Agreeability (pearson): <br> 0.5712 <br> All: Agreeability St. Dev.: <br> 0.1708",
          "<br> Best: Agreeability (pearson): <br> 0.7229 <br> All: Mean Agreeability (pearson): <br> 0.5265 <br> All: Agreeability St. Dev.: <br> 0.1639",
          "<br> Best: Agreeability (pearson): <br> 0.5992 <br> All: Mean Agreeability (pearson): <br> 0.4422 <br> All: Agreeability St. Dev.: <br> 0.1485",
          "<br> Best: Agreeability (pearson): <br> 0.3263 <br> All: Mean Agreeability (pearson): <br> 0.3075 <br> All: Agreeability St. Dev.: <br> 0.0188"
         ],
         "mode": "lines+markers",
         "name": "Best: Agreeability (pearson)",
         "type": "scatter",
         "x": [
          1,
          2,
          3,
          4,
          5,
          6,
          7,
          8
         ],
         "xaxis": "x",
         "y": [
          0.7609497068607372,
          0.7724847470819484,
          0.7780967283792712,
          0.7462554089439155,
          0.7424794731120581,
          0.7228535679025345,
          0.5991500652683802,
          0.3262706343168213
         ],
         "yaxis": "y"
        },
        {
         "hoverinfo": "text",
         "hovertext": [
          "<br> Best: M1 rmse: <br> 0.7315 <br> Best: M1 Included Features: <br> MedInc, HouseAge, AveRooms, AveBedrms, Population, AveOccup, Latitude, Longitude <br> All: M1 Mean rmse: <br> 0.7315 <br> All: M1 STD rmse: <br> 0.0000",
          "<br> Best: M1 rmse: <br> 0.7243 <br> Best: M1 Included Features: <br> MedInc, HouseAge, AveRooms, AveBedrms, Population, Latitude, Longitude <br> All: M1 Mean rmse: <br> 0.7727 <br> All: M1 STD rmse: <br> 0.0587",
          "<br> Best: M1 rmse: <br> 0.7243 <br> Best: M1 Included Features: <br> MedInc, HouseAge, AveRooms, AveBedrms, Latitude, Longitude <br> All: M1 Mean rmse: <br> 0.7699 <br> All: M1 STD rmse: <br> 0.0584",
          "<br> Best: M1 rmse: <br> 0.7299 <br> Best: M1 Included Features: <br> MedInc, HouseAge, AveBedrms, Latitude, Longitude <br> All: M1 Mean rmse: <br> 0.7777 <br> All: M1 STD rmse: <br> 0.0597",
          "<br> Best: M1 rmse: <br> 0.7340 <br> Best: M1 Included Features: <br> MedInc, HouseAge, Latitude, Longitude <br> All: M1 Mean rmse: <br> 0.8222 <br> All: M1 STD rmse: <br> 0.1052",
          "<br> Best: M1 rmse: <br> 0.7420 <br> Best: M1 Included Features: <br> MedInc, Latitude, Longitude <br> All: M1 Mean rmse: <br> 0.8456 <br> All: M1 STD rmse: <br> 0.1065",
          "<br> Best: M1 rmse: <br> 0.8302 <br> Best: M1 Included Features: <br> MedInc, Latitude <br> All: M1 Mean rmse: <br> 0.8977 <br> All: M1 STD rmse: <br> 0.0893",
          "<br> Best: M1 rmse: <br> 0.8391 <br> Best: M1 Included Features: <br> MedInc <br> All: M1 Mean rmse: <br> 1.0013 <br> All: M1 STD rmse: <br> 0.1622"
         ],
         "mode": "lines+markers",
         "name": "Best: M1 rmse",
         "type": "scatter",
         "x": [
          1,
          2,
          3,
          4,
          5,
          6,
          7,
          8
         ],
         "xaxis": "x",
         "y": [
          0.7315223258924328,
          0.7243210543253327,
          0.7243206659201569,
          0.7299080678582273,
          0.7340250301119083,
          0.7419579345892257,
          0.8301873925326823,
          0.8390728208993037
         ],
         "yaxis": "y2"
        },
        {
         "hoverinfo": "text",
         "hovertext": [
          "<br> Best: M2 rmse: <br> 0.7272 <br> Best: M2 Included Features: <br> MedInc, HouseAge, AveRooms, AveBedrms, Population, AveOccup, Latitude, Longitude <br> All: M2 Mean rmse: <br> 0.7272 <br> All: M2 STD rmse: <br> 0.0000",
          "<br> Best: M2 rmse: <br> 0.6747 <br> Best: M2 Included Features: <br> MedInc, HouseAge, AveRooms, AveBedrms, Population, Latitude, Longitude <br> All: M2 Mean rmse: <br> 0.7386 <br> All: M2 STD rmse: <br> 0.0568",
          "<br> Best: M2 rmse: <br> 0.6765 <br> Best: M2 Included Features: <br> MedInc, AveRooms, AveBedrms, Population, Latitude, Longitude <br> All: M2 Mean rmse: <br> 0.7515 <br> All: M2 STD rmse: <br> 0.0999",
          "<br> Best: M2 rmse: <br> 0.6457 <br> Best: M2 Included Features: <br> AveRooms, AveBedrms, Population, Latitude, Longitude <br> All: M2 Mean rmse: <br> 0.7567 <br> All: M2 STD rmse: <br> 0.1365",
          "<br> Best: M2 rmse: <br> 0.6348 <br> Best: M2 Included Features: <br> AveRooms, AveBedrms, Latitude, Longitude <br> All: M2 Mean rmse: <br> 0.8711 <br> All: M2 STD rmse: <br> 0.2437",
          "<br> Best: M2 rmse: <br> 0.6411 <br> Best: M2 Included Features: <br> AveRooms, Latitude, Longitude <br> All: M2 Mean rmse: <br> 0.9219 <br> All: M2 STD rmse: <br> 0.2448",
          "<br> Best: M2 rmse: <br> 0.6321 <br> Best: M2 Included Features: <br> Latitude, Longitude <br> All: M2 Mean rmse: <br> 1.0200 <br> All: M2 STD rmse: <br> 0.2787",
          "<br> Best: M2 rmse: <br> 1.0059 <br> Best: M2 Included Features: <br> Longitude <br> All: M2 Mean rmse: <br> 1.0256 <br> All: M2 STD rmse: <br> 0.0197"
         ],
         "mode": "lines+markers",
         "name": "Best: M2 rmse",
         "type": "scatter",
         "x": [
          1,
          2,
          3,
          4,
          5,
          6,
          7,
          8
         ],
         "xaxis": "x",
         "y": [
          0.7271857510834681,
          0.6746895716764478,
          0.6764706281288936,
          0.6456739092170511,
          0.6347800797292712,
          0.641112327390111,
          0.6320666184605236,
          1.0058695484342364
         ],
         "yaxis": "y2"
        }
       ],
       "layout": {
        "hovermode": "closest",
        "template": {
         "data": {
          "bar": [
           {
            "error_x": {
             "color": "#2a3f5f"
            },
            "error_y": {
             "color": "#2a3f5f"
            },
            "marker": {
             "line": {
              "color": "#E5ECF6",
              "width": 0.5
             },
             "pattern": {
              "fillmode": "overlay",
              "size": 10,
              "solidity": 0.2
             }
            },
            "type": "bar"
           }
          ],
          "barpolar": [
           {
            "marker": {
             "line": {
              "color": "#E5ECF6",
              "width": 0.5
             },
             "pattern": {
              "fillmode": "overlay",
              "size": 10,
              "solidity": 0.2
             }
            },
            "type": "barpolar"
           }
          ],
          "carpet": [
           {
            "aaxis": {
             "endlinecolor": "#2a3f5f",
             "gridcolor": "white",
             "linecolor": "white",
             "minorgridcolor": "white",
             "startlinecolor": "#2a3f5f"
            },
            "baxis": {
             "endlinecolor": "#2a3f5f",
             "gridcolor": "white",
             "linecolor": "white",
             "minorgridcolor": "white",
             "startlinecolor": "#2a3f5f"
            },
            "type": "carpet"
           }
          ],
          "choropleth": [
           {
            "colorbar": {
             "outlinewidth": 0,
             "ticks": ""
            },
            "type": "choropleth"
           }
          ],
          "contour": [
           {
            "colorbar": {
             "outlinewidth": 0,
             "ticks": ""
            },
            "colorscale": [
             [
              0,
              "#0d0887"
             ],
             [
              0.1111111111111111,
              "#46039f"
             ],
             [
              0.2222222222222222,
              "#7201a8"
             ],
             [
              0.3333333333333333,
              "#9c179e"
             ],
             [
              0.4444444444444444,
              "#bd3786"
             ],
             [
              0.5555555555555556,
              "#d8576b"
             ],
             [
              0.6666666666666666,
              "#ed7953"
             ],
             [
              0.7777777777777778,
              "#fb9f3a"
             ],
             [
              0.8888888888888888,
              "#fdca26"
             ],
             [
              1,
              "#f0f921"
             ]
            ],
            "type": "contour"
           }
          ],
          "contourcarpet": [
           {
            "colorbar": {
             "outlinewidth": 0,
             "ticks": ""
            },
            "type": "contourcarpet"
           }
          ],
          "heatmap": [
           {
            "colorbar": {
             "outlinewidth": 0,
             "ticks": ""
            },
            "colorscale": [
             [
              0,
              "#0d0887"
             ],
             [
              0.1111111111111111,
              "#46039f"
             ],
             [
              0.2222222222222222,
              "#7201a8"
             ],
             [
              0.3333333333333333,
              "#9c179e"
             ],
             [
              0.4444444444444444,
              "#bd3786"
             ],
             [
              0.5555555555555556,
              "#d8576b"
             ],
             [
              0.6666666666666666,
              "#ed7953"
             ],
             [
              0.7777777777777778,
              "#fb9f3a"
             ],
             [
              0.8888888888888888,
              "#fdca26"
             ],
             [
              1,
              "#f0f921"
             ]
            ],
            "type": "heatmap"
           }
          ],
          "heatmapgl": [
           {
            "colorbar": {
             "outlinewidth": 0,
             "ticks": ""
            },
            "colorscale": [
             [
              0,
              "#0d0887"
             ],
             [
              0.1111111111111111,
              "#46039f"
             ],
             [
              0.2222222222222222,
              "#7201a8"
             ],
             [
              0.3333333333333333,
              "#9c179e"
             ],
             [
              0.4444444444444444,
              "#bd3786"
             ],
             [
              0.5555555555555556,
              "#d8576b"
             ],
             [
              0.6666666666666666,
              "#ed7953"
             ],
             [
              0.7777777777777778,
              "#fb9f3a"
             ],
             [
              0.8888888888888888,
              "#fdca26"
             ],
             [
              1,
              "#f0f921"
             ]
            ],
            "type": "heatmapgl"
           }
          ],
          "histogram": [
           {
            "marker": {
             "pattern": {
              "fillmode": "overlay",
              "size": 10,
              "solidity": 0.2
             }
            },
            "type": "histogram"
           }
          ],
          "histogram2d": [
           {
            "colorbar": {
             "outlinewidth": 0,
             "ticks": ""
            },
            "colorscale": [
             [
              0,
              "#0d0887"
             ],
             [
              0.1111111111111111,
              "#46039f"
             ],
             [
              0.2222222222222222,
              "#7201a8"
             ],
             [
              0.3333333333333333,
              "#9c179e"
             ],
             [
              0.4444444444444444,
              "#bd3786"
             ],
             [
              0.5555555555555556,
              "#d8576b"
             ],
             [
              0.6666666666666666,
              "#ed7953"
             ],
             [
              0.7777777777777778,
              "#fb9f3a"
             ],
             [
              0.8888888888888888,
              "#fdca26"
             ],
             [
              1,
              "#f0f921"
             ]
            ],
            "type": "histogram2d"
           }
          ],
          "histogram2dcontour": [
           {
            "colorbar": {
             "outlinewidth": 0,
             "ticks": ""
            },
            "colorscale": [
             [
              0,
              "#0d0887"
             ],
             [
              0.1111111111111111,
              "#46039f"
             ],
             [
              0.2222222222222222,
              "#7201a8"
             ],
             [
              0.3333333333333333,
              "#9c179e"
             ],
             [
              0.4444444444444444,
              "#bd3786"
             ],
             [
              0.5555555555555556,
              "#d8576b"
             ],
             [
              0.6666666666666666,
              "#ed7953"
             ],
             [
              0.7777777777777778,
              "#fb9f3a"
             ],
             [
              0.8888888888888888,
              "#fdca26"
             ],
             [
              1,
              "#f0f921"
             ]
            ],
            "type": "histogram2dcontour"
           }
          ],
          "mesh3d": [
           {
            "colorbar": {
             "outlinewidth": 0,
             "ticks": ""
            },
            "type": "mesh3d"
           }
          ],
          "parcoords": [
           {
            "line": {
             "colorbar": {
              "outlinewidth": 0,
              "ticks": ""
             }
            },
            "type": "parcoords"
           }
          ],
          "pie": [
           {
            "automargin": true,
            "type": "pie"
           }
          ],
          "scatter": [
           {
            "fillpattern": {
             "fillmode": "overlay",
             "size": 10,
             "solidity": 0.2
            },
            "type": "scatter"
           }
          ],
          "scatter3d": [
           {
            "line": {
             "colorbar": {
              "outlinewidth": 0,
              "ticks": ""
             }
            },
            "marker": {
             "colorbar": {
              "outlinewidth": 0,
              "ticks": ""
             }
            },
            "type": "scatter3d"
           }
          ],
          "scattercarpet": [
           {
            "marker": {
             "colorbar": {
              "outlinewidth": 0,
              "ticks": ""
             }
            },
            "type": "scattercarpet"
           }
          ],
          "scattergeo": [
           {
            "marker": {
             "colorbar": {
              "outlinewidth": 0,
              "ticks": ""
             }
            },
            "type": "scattergeo"
           }
          ],
          "scattergl": [
           {
            "marker": {
             "colorbar": {
              "outlinewidth": 0,
              "ticks": ""
             }
            },
            "type": "scattergl"
           }
          ],
          "scattermapbox": [
           {
            "marker": {
             "colorbar": {
              "outlinewidth": 0,
              "ticks": ""
             }
            },
            "type": "scattermapbox"
           }
          ],
          "scatterpolar": [
           {
            "marker": {
             "colorbar": {
              "outlinewidth": 0,
              "ticks": ""
             }
            },
            "type": "scatterpolar"
           }
          ],
          "scatterpolargl": [
           {
            "marker": {
             "colorbar": {
              "outlinewidth": 0,
              "ticks": ""
             }
            },
            "type": "scatterpolargl"
           }
          ],
          "scatterternary": [
           {
            "marker": {
             "colorbar": {
              "outlinewidth": 0,
              "ticks": ""
             }
            },
            "type": "scatterternary"
           }
          ],
          "surface": [
           {
            "colorbar": {
             "outlinewidth": 0,
             "ticks": ""
            },
            "colorscale": [
             [
              0,
              "#0d0887"
             ],
             [
              0.1111111111111111,
              "#46039f"
             ],
             [
              0.2222222222222222,
              "#7201a8"
             ],
             [
              0.3333333333333333,
              "#9c179e"
             ],
             [
              0.4444444444444444,
              "#bd3786"
             ],
             [
              0.5555555555555556,
              "#d8576b"
             ],
             [
              0.6666666666666666,
              "#ed7953"
             ],
             [
              0.7777777777777778,
              "#fb9f3a"
             ],
             [
              0.8888888888888888,
              "#fdca26"
             ],
             [
              1,
              "#f0f921"
             ]
            ],
            "type": "surface"
           }
          ],
          "table": [
           {
            "cells": {
             "fill": {
              "color": "#EBF0F8"
             },
             "line": {
              "color": "white"
             }
            },
            "header": {
             "fill": {
              "color": "#C8D4E3"
             },
             "line": {
              "color": "white"
             }
            },
            "type": "table"
           }
          ]
         },
         "layout": {
          "annotationdefaults": {
           "arrowcolor": "#2a3f5f",
           "arrowhead": 0,
           "arrowwidth": 1
          },
          "autotypenumbers": "strict",
          "coloraxis": {
           "colorbar": {
            "outlinewidth": 0,
            "ticks": ""
           }
          },
          "colorscale": {
           "diverging": [
            [
             0,
             "#8e0152"
            ],
            [
             0.1,
             "#c51b7d"
            ],
            [
             0.2,
             "#de77ae"
            ],
            [
             0.3,
             "#f1b6da"
            ],
            [
             0.4,
             "#fde0ef"
            ],
            [
             0.5,
             "#f7f7f7"
            ],
            [
             0.6,
             "#e6f5d0"
            ],
            [
             0.7,
             "#b8e186"
            ],
            [
             0.8,
             "#7fbc41"
            ],
            [
             0.9,
             "#4d9221"
            ],
            [
             1,
             "#276419"
            ]
           ],
           "sequential": [
            [
             0,
             "#0d0887"
            ],
            [
             0.1111111111111111,
             "#46039f"
            ],
            [
             0.2222222222222222,
             "#7201a8"
            ],
            [
             0.3333333333333333,
             "#9c179e"
            ],
            [
             0.4444444444444444,
             "#bd3786"
            ],
            [
             0.5555555555555556,
             "#d8576b"
            ],
            [
             0.6666666666666666,
             "#ed7953"
            ],
            [
             0.7777777777777778,
             "#fb9f3a"
            ],
            [
             0.8888888888888888,
             "#fdca26"
            ],
            [
             1,
             "#f0f921"
            ]
           ],
           "sequentialminus": [
            [
             0,
             "#0d0887"
            ],
            [
             0.1111111111111111,
             "#46039f"
            ],
            [
             0.2222222222222222,
             "#7201a8"
            ],
            [
             0.3333333333333333,
             "#9c179e"
            ],
            [
             0.4444444444444444,
             "#bd3786"
            ],
            [
             0.5555555555555556,
             "#d8576b"
            ],
            [
             0.6666666666666666,
             "#ed7953"
            ],
            [
             0.7777777777777778,
             "#fb9f3a"
            ],
            [
             0.8888888888888888,
             "#fdca26"
            ],
            [
             1,
             "#f0f921"
            ]
           ]
          },
          "colorway": [
           "#636efa",
           "#EF553B",
           "#00cc96",
           "#ab63fa",
           "#FFA15A",
           "#19d3f3",
           "#FF6692",
           "#B6E880",
           "#FF97FF",
           "#FECB52"
          ],
          "font": {
           "color": "#2a3f5f"
          },
          "geo": {
           "bgcolor": "white",
           "lakecolor": "white",
           "landcolor": "#E5ECF6",
           "showlakes": true,
           "showland": true,
           "subunitcolor": "white"
          },
          "hoverlabel": {
           "align": "left"
          },
          "hovermode": "closest",
          "mapbox": {
           "style": "light"
          },
          "paper_bgcolor": "white",
          "plot_bgcolor": "#E5ECF6",
          "polar": {
           "angularaxis": {
            "gridcolor": "white",
            "linecolor": "white",
            "ticks": ""
           },
           "bgcolor": "#E5ECF6",
           "radialaxis": {
            "gridcolor": "white",
            "linecolor": "white",
            "ticks": ""
           }
          },
          "scene": {
           "xaxis": {
            "backgroundcolor": "#E5ECF6",
            "gridcolor": "white",
            "gridwidth": 2,
            "linecolor": "white",
            "showbackground": true,
            "ticks": "",
            "zerolinecolor": "white"
           },
           "yaxis": {
            "backgroundcolor": "#E5ECF6",
            "gridcolor": "white",
            "gridwidth": 2,
            "linecolor": "white",
            "showbackground": true,
            "ticks": "",
            "zerolinecolor": "white"
           },
           "zaxis": {
            "backgroundcolor": "#E5ECF6",
            "gridcolor": "white",
            "gridwidth": 2,
            "linecolor": "white",
            "showbackground": true,
            "ticks": "",
            "zerolinecolor": "white"
           }
          },
          "shapedefaults": {
           "line": {
            "color": "#2a3f5f"
           }
          },
          "ternary": {
           "aaxis": {
            "gridcolor": "white",
            "linecolor": "white",
            "ticks": ""
           },
           "baxis": {
            "gridcolor": "white",
            "linecolor": "white",
            "ticks": ""
           },
           "bgcolor": "#E5ECF6",
           "caxis": {
            "gridcolor": "white",
            "linecolor": "white",
            "ticks": ""
           }
          },
          "title": {
           "x": 0.05
          },
          "xaxis": {
           "automargin": true,
           "gridcolor": "white",
           "linecolor": "white",
           "ticks": "",
           "title": {
            "standoff": 15
           },
           "zerolinecolor": "white",
           "zerolinewidth": 2
          },
          "yaxis": {
           "automargin": true,
           "gridcolor": "white",
           "linecolor": "white",
           "ticks": "",
           "title": {
            "standoff": 15
           },
           "zerolinecolor": "white",
           "zerolinewidth": 2
          }
         }
        },
        "title": {
         "text": "Agreeability Coefficients and Model Scores Over Algorithm Iterations"
        },
        "xaxis": {
         "anchor": "y",
         "domain": [
          0,
          0.94
         ],
         "title": {
          "text": "Iteration"
         },
         "type": "category"
        },
        "yaxis": {
         "anchor": "x",
         "domain": [
          0,
          1
         ],
         "title": {
          "text": "Agreeability"
         }
        },
        "yaxis2": {
         "anchor": "x",
         "overlaying": "y",
         "side": "right",
         "title": {
          "text": "Model Scores"
         }
        }
       }
      }
     },
     "metadata": {},
     "output_type": "display_data"
    }
   ],
   "source": [
    "seeker.plot_from_results()"
   ]
  },
  {
   "cell_type": "markdown",
   "metadata": {},
   "source": [
    "### Check functionality on a classification task"
   ]
  },
  {
   "cell_type": "code",
   "execution_count": 26,
   "metadata": {},
   "outputs": [
    {
     "name": "stdout",
     "output_type": "stream",
     "text": [
      "<class 'pandas.core.frame.DataFrame'>\n",
      "RangeIndex: 20640 entries, 0 to 20639\n",
      "Data columns (total 9 columns):\n",
      " #   Column      Non-Null Count  Dtype  \n",
      "---  ------      --------------  -----  \n",
      " 0   MedInc      20640 non-null  float64\n",
      " 1   HouseAge    20640 non-null  float64\n",
      " 2   AveRooms    20640 non-null  float64\n",
      " 3   AveBedrms   20640 non-null  float64\n",
      " 4   Population  20640 non-null  float64\n",
      " 5   AveOccup    20640 non-null  float64\n",
      " 6   Latitude    20640 non-null  float64\n",
      " 7   Longitude   20640 non-null  float64\n",
      " 8   AboveMean   20640 non-null  int64  \n",
      "dtypes: float64(8), int64(1)\n",
      "memory usage: 1.4 MB\n"
     ]
    }
   ],
   "source": [
    "df_discrete.info()"
   ]
  },
  {
   "cell_type": "code",
   "execution_count": 27,
   "metadata": {},
   "outputs": [],
   "source": [
    "y = df_discrete['AboveMean']\n",
    "X = df_discrete.drop('AboveMean', axis=1)\n"
   ]
  },
  {
   "cell_type": "code",
   "execution_count": 28,
   "metadata": {},
   "outputs": [],
   "source": [
    "X_train, X_val, y_train, y_val = train_test_split(X, y, test_size=0.2, random_state=66)"
   ]
  },
  {
   "cell_type": "code",
   "execution_count": 29,
   "metadata": {},
   "outputs": [],
   "source": [
    "from sklearn.linear_model import LogisticRegression\n",
    "from sklearn.tree import DecisionTreeClassifier"
   ]
  },
  {
   "cell_type": "code",
   "execution_count": 30,
   "metadata": {},
   "outputs": [],
   "source": [
    "m1 = LogisticRegression(solver='liblinear')\n",
    "m2 = DecisionTreeClassifier()"
   ]
  },
  {
   "cell_type": "code",
   "execution_count": 31,
   "metadata": {},
   "outputs": [],
   "source": [
    "seeker_2 = BackEliminator(\n",
    "    X=X_train,\n",
    "    y=y_train,\n",
    "    validation_data=(X_val, y_val),\n",
    "    task_type='classification',\n",
    "    criterion='f1',\n",
    "    agreeability='cohen_kappa'\n",
    ")"
   ]
  },
  {
   "cell_type": "code",
   "execution_count": 32,
   "metadata": {},
   "outputs": [
    {
     "name": "stdout",
     "output_type": "stream",
     "text": [
      "Initial run: fitted both models with full feature set.\n",
      "------------------------------------------------------------------------------------------------------------------------------------------------------\n",
      "Model 1 included: ['MedInc', 'HouseAge', 'AveRooms', 'AveBedrms', 'Population', 'AveOccup', 'Latitude', 'Longitude']. F1: 0.7787\n",
      "Model 2 included: ['MedInc', 'HouseAge', 'AveRooms', 'AveBedrms', 'Population', 'AveOccup', 'Latitude', 'Longitude']. F1: 0.7937\n",
      "------------------------------------------------------------------------------------------------------------------------------------------------------\n",
      "Agreeability Coefficient (cohen_kappa): 0.6388\n",
      "======================================================================================================================================================\n",
      "Iteration 1:\n",
      "------------------------------------------------------------------------------------------------------------------------------------------------------\n",
      "Results from best models:\n",
      "Best Model 1 included: ['MedInc', 'HouseAge', 'AveRooms', 'AveBedrms', 'AveOccup', 'Latitude', 'Longitude']. F1: 0.7816\n",
      "Best Model 2 included: ['HouseAge', 'AveRooms', 'AveBedrms', 'Population', 'AveOccup', 'Latitude', 'Longitude']. F1: 0.8132\n",
      "Agreeability Coefficient (cohen_kappa) between best models: 0.5808036825997458\n",
      "------------------------------------------------------------------------------------------------------------------------------------------------------\n",
      "Results from all models:\n",
      "M1 mean score: 0.7570. Standard deviation: 0.0317\n",
      "M1 mean score: 0.7873. Standard deviation: 0.0222\n",
      "Mean agreeability coefficient (cohen_kappa): 0.5897. Standard deviation: 0.0561\n",
      "======================================================================================================================================================\n",
      "Iteration 2:\n",
      "------------------------------------------------------------------------------------------------------------------------------------------------------\n",
      "Results from best models:\n",
      "Best Model 1 included: ['MedInc', 'HouseAge', 'AveRooms', 'AveOccup', 'Latitude', 'Longitude']. F1: 0.7808\n",
      "Best Model 2 included: ['HouseAge', 'AveRooms', 'Population', 'AveOccup', 'Latitude', 'Longitude']. F1: 0.8259\n",
      "Agreeability Coefficient (cohen_kappa) between best models: 0.5808352773036569\n",
      "------------------------------------------------------------------------------------------------------------------------------------------------------\n",
      "Results from all models:\n",
      "M1 mean score: 0.7606. Standard deviation: 0.0267\n",
      "M1 mean score: 0.7843. Standard deviation: 0.0471\n",
      "Mean agreeability coefficient (cohen_kappa): 0.5228. Standard deviation: 0.0578\n",
      "======================================================================================================================================================\n",
      "Iteration 3:\n",
      "------------------------------------------------------------------------------------------------------------------------------------------------------\n",
      "Results from best models:\n",
      "Best Model 1 included: ['MedInc', 'HouseAge', 'AveOccup', 'Latitude', 'Longitude']. F1: 0.7764\n",
      "Best Model 2 included: ['HouseAge', 'AveRooms', 'Population', 'Latitude', 'Longitude']. F1: 0.8324\n",
      "Agreeability Coefficient (cohen_kappa) between best models: 0.574129423624498\n",
      "------------------------------------------------------------------------------------------------------------------------------------------------------\n",
      "Results from all models:\n",
      "M1 mean score: 0.7439. Standard deviation: 0.0456\n",
      "M1 mean score: 0.7784. Standard deviation: 0.0529\n",
      "Mean agreeability coefficient (cohen_kappa): 0.4934. Standard deviation: 0.0796\n",
      "======================================================================================================================================================\n",
      "Iteration 4:\n",
      "------------------------------------------------------------------------------------------------------------------------------------------------------\n",
      "Results from best models:\n",
      "Best Model 1 included: ['MedInc', 'AveOccup', 'Latitude', 'Longitude']. F1: 0.7670\n",
      "Best Model 2 included: ['HouseAge', 'AveRooms', 'Latitude', 'Longitude']. F1: 0.8253\n",
      "Agreeability Coefficient (cohen_kappa) between best models: 0.554990441575606\n",
      "------------------------------------------------------------------------------------------------------------------------------------------------------\n",
      "Results from all models:\n",
      "M1 mean score: 0.7176. Standard deviation: 0.0732\n",
      "M1 mean score: 0.7525. Standard deviation: 0.0818\n",
      "Mean agreeability coefficient (cohen_kappa): 0.4176. Standard deviation: 0.1589\n",
      "======================================================================================================================================================\n",
      "Iteration 5:\n",
      "------------------------------------------------------------------------------------------------------------------------------------------------------\n",
      "Results from best models:\n",
      "Best Model 1 included: ['MedInc', 'AveOccup', 'Latitude']. F1: 0.7451\n",
      "Best Model 2 included: ['HouseAge', 'Latitude', 'Longitude']. F1: 0.8294\n",
      "Agreeability Coefficient (cohen_kappa) between best models: 0.4929199525005391\n",
      "------------------------------------------------------------------------------------------------------------------------------------------------------\n",
      "Results from all models:\n",
      "M1 mean score: 0.6853. Standard deviation: 0.0769\n",
      "M1 mean score: 0.7409. Standard deviation: 0.0852\n",
      "Mean agreeability coefficient (cohen_kappa): 0.3684. Standard deviation: 0.1621\n",
      "======================================================================================================================================================\n",
      "Iteration 6:\n",
      "------------------------------------------------------------------------------------------------------------------------------------------------------\n",
      "Results from best models:\n",
      "Best Model 1 included: ['MedInc', 'AveOccup']. F1: 0.7382\n",
      "Best Model 2 included: ['Latitude', 'Longitude']. F1: 0.8399\n",
      "Agreeability Coefficient (cohen_kappa) between best models: 0.5094772060222981\n",
      "------------------------------------------------------------------------------------------------------------------------------------------------------\n",
      "Results from all models:\n",
      "M1 mean score: 0.6158. Standard deviation: 0.1379\n",
      "M1 mean score: 0.6655. Standard deviation: 0.1241\n",
      "Mean agreeability coefficient (cohen_kappa): 0.2572. Standard deviation: 0.1856\n",
      "======================================================================================================================================================\n",
      "Iteration 7:\n",
      "------------------------------------------------------------------------------------------------------------------------------------------------------\n",
      "Results from best models:\n",
      "Best Model 1 included: ['MedInc']. F1: 0.6912\n",
      "Best Model 2 included: ['Longitude']. F1: 0.6158\n",
      "Agreeability Coefficient (cohen_kappa) between best models: 0.2202984662586311\n",
      "------------------------------------------------------------------------------------------------------------------------------------------------------\n",
      "Results from all models:\n",
      "M1 mean score: 0.5278. Standard deviation: 0.1635\n",
      "M1 mean score: 0.6084. Standard deviation: 0.0074\n",
      "Mean agreeability coefficient (cohen_kappa): 0.1412. Standard deviation: 0.0791\n",
      "======================================================================================================================================================\n"
     ]
    }
   ],
   "source": [
    "results_2 = seeker_2.compare_all_models(\n",
    "    m1=m1,\n",
    "    m2=m2\n",
    ")"
   ]
  },
  {
   "cell_type": "code",
   "execution_count": 33,
   "metadata": {},
   "outputs": [
    {
     "data": {
      "text/plain": [
       "[{'Best: M1 Included Features': ['MedInc',\n",
       "   'HouseAge',\n",
       "   'AveRooms',\n",
       "   'AveBedrms',\n",
       "   'Population',\n",
       "   'AveOccup',\n",
       "   'Latitude',\n",
       "   'Longitude'],\n",
       "  'Best: M1 f1': 0.7787234042553192,\n",
       "  'Best: M2 Included Features': ['MedInc',\n",
       "   'HouseAge',\n",
       "   'AveRooms',\n",
       "   'AveBedrms',\n",
       "   'Population',\n",
       "   'AveOccup',\n",
       "   'Latitude',\n",
       "   'Longitude'],\n",
       "  'Best: M2 f1': 0.793725954424386,\n",
       "  'Best: Agreeability (cohen_kappa)': 0.638759480434029,\n",
       "  'All: M1 Mean f1': 0.7787234042553192,\n",
       "  'All: M1 STD f1': 0,\n",
       "  'All: M2 Mean f1': 0.793725954424386,\n",
       "  'All: M2 STD f1': 0,\n",
       "  'All: Mean Agreeability (cohen_kappa)': 0.638759480434029,\n",
       "  'All: Agreeability St. Dev.': 0},\n",
       " {'Best: M1 Included Features': ['MedInc',\n",
       "   'HouseAge',\n",
       "   'AveRooms',\n",
       "   'AveBedrms',\n",
       "   'AveOccup',\n",
       "   'Latitude',\n",
       "   'Longitude'],\n",
       "  'Best: M1 f1': 0.7815533980582524,\n",
       "  'Best: M2 Included Features': ['HouseAge',\n",
       "   'AveRooms',\n",
       "   'AveBedrms',\n",
       "   'Population',\n",
       "   'AveOccup',\n",
       "   'Latitude',\n",
       "   'Longitude'],\n",
       "  'Best: M2 f1': 0.8131539611360239,\n",
       "  'Best: Agreeability (cohen_kappa)': 0.5808036825997458,\n",
       "  'All: M1 Mean f1': 0.757009815924332,\n",
       "  'All: M1 STD f1': 0.03166215443220271,\n",
       "  'All: M2 Mean f1': 0.7872833361385375,\n",
       "  'All: M2 STD f1': 0.022222965871365994,\n",
       "  'All: Mean Agreeability (cohen_kappa)': 0.5896794350002422,\n",
       "  'All: Agreeability St. Dev.': 0.05610674305687275},\n",
       " {'Best: M1 Included Features': ['MedInc',\n",
       "   'HouseAge',\n",
       "   'AveRooms',\n",
       "   'AveOccup',\n",
       "   'Latitude',\n",
       "   'Longitude'],\n",
       "  'Best: M1 f1': 0.7807971014492755,\n",
       "  'Best: M2 Included Features': ['HouseAge',\n",
       "   'AveRooms',\n",
       "   'Population',\n",
       "   'AveOccup',\n",
       "   'Latitude',\n",
       "   'Longitude'],\n",
       "  'Best: M2 f1': 0.8258527827648116,\n",
       "  'Best: Agreeability (cohen_kappa)': 0.5808352773036569,\n",
       "  'All: M1 Mean f1': 0.7606359316792347,\n",
       "  'All: M1 STD f1': 0.02668147041340194,\n",
       "  'All: M2 Mean f1': 0.7842589261901795,\n",
       "  'All: M2 STD f1': 0.047125258628622387,\n",
       "  'All: Mean Agreeability (cohen_kappa)': 0.5228394081461573,\n",
       "  'All: Agreeability St. Dev.': 0.057828746272995675},\n",
       " {'Best: M1 Included Features': ['MedInc',\n",
       "   'HouseAge',\n",
       "   'AveOccup',\n",
       "   'Latitude',\n",
       "   'Longitude'],\n",
       "  'Best: M1 f1': 0.7763993948562784,\n",
       "  'Best: M2 Included Features': ['HouseAge',\n",
       "   'AveRooms',\n",
       "   'Population',\n",
       "   'Latitude',\n",
       "   'Longitude'],\n",
       "  'Best: M2 f1': 0.832383808095952,\n",
       "  'Best: Agreeability (cohen_kappa)': 0.574129423624498,\n",
       "  'All: M1 Mean f1': 0.7438614300459697,\n",
       "  'All: M1 STD f1': 0.045557281693751506,\n",
       "  'All: M2 Mean f1': 0.778355453195227,\n",
       "  'All: M2 STD f1': 0.052894505042572905,\n",
       "  'All: Mean Agreeability (cohen_kappa)': 0.4934173064174621,\n",
       "  'All: Agreeability St. Dev.': 0.0796443421682042},\n",
       " {'Best: M1 Included Features': ['MedInc',\n",
       "   'AveOccup',\n",
       "   'Latitude',\n",
       "   'Longitude'],\n",
       "  'Best: M1 f1': 0.7670229007633588,\n",
       "  'Best: M2 Included Features': ['HouseAge',\n",
       "   'AveRooms',\n",
       "   'Latitude',\n",
       "   'Longitude'],\n",
       "  'Best: M2 f1': 0.8252832438878952,\n",
       "  'Best: Agreeability (cohen_kappa)': 0.554990441575606,\n",
       "  'All: M1 Mean f1': 0.7176197834299959,\n",
       "  'All: M1 STD f1': 0.07318186904774482,\n",
       "  'All: M2 Mean f1': 0.7525204219038626,\n",
       "  'All: M2 STD f1': 0.08179475849495657,\n",
       "  'All: Mean Agreeability (cohen_kappa)': 0.4175980236666942,\n",
       "  'All: Agreeability St. Dev.': 0.15888352850526316},\n",
       " {'Best: M1 Included Features': ['MedInc', 'AveOccup', 'Latitude'],\n",
       "  'Best: M1 f1': 0.7451343836886006,\n",
       "  'Best: M2 Included Features': ['HouseAge', 'Latitude', 'Longitude'],\n",
       "  'Best: M2 f1': 0.8294153104279687,\n",
       "  'Best: Agreeability (cohen_kappa)': 0.4929199525005391,\n",
       "  'All: M1 Mean f1': 0.6852704992073474,\n",
       "  'All: M1 STD f1': 0.07686153235484837,\n",
       "  'All: M2 Mean f1': 0.7408997131024841,\n",
       "  'All: M2 STD f1': 0.08517461464798129,\n",
       "  'All: Mean Agreeability (cohen_kappa)': 0.3683746911991977,\n",
       "  'All: Agreeability St. Dev.': 0.16213436451979746},\n",
       " {'Best: M1 Included Features': ['MedInc', 'AveOccup'],\n",
       "  'Best: M1 f1': 0.7381546134663343,\n",
       "  'Best: M2 Included Features': ['Latitude', 'Longitude'],\n",
       "  'Best: M2 f1': 0.839914294459749,\n",
       "  'Best: Agreeability (cohen_kappa)': 0.5094772060222981,\n",
       "  'All: M1 Mean f1': 0.6158473888569961,\n",
       "  'All: M1 STD f1': 0.1378675666694671,\n",
       "  'All: M2 Mean f1': 0.6655449941171075,\n",
       "  'All: M2 STD f1': 0.12407363573407211,\n",
       "  'All: Mean Agreeability (cohen_kappa)': 0.25724529572446747,\n",
       "  'All: Agreeability St. Dev.': 0.18560078975798575},\n",
       " {'Best: M1 Included Features': ['MedInc'],\n",
       "  'Best: M1 f1': 0.6912144702842378,\n",
       "  'Best: M2 Included Features': ['Longitude'],\n",
       "  'Best: M2 f1': 0.615831987075929,\n",
       "  'Best: Agreeability (cohen_kappa)': 0.2202984662586311,\n",
       "  'All: M1 Mean f1': 0.5277573365619972,\n",
       "  'All: M1 STD f1': 0.16345713372224058,\n",
       "  'All: M2 Mean f1': 0.608411656487159,\n",
       "  'All: M2 STD f1': 0.007420330588770008,\n",
       "  'All: Mean Agreeability (cohen_kappa)': 0.1411717884366587,\n",
       "  'All: Agreeability St. Dev.': 0.07912667782197239}]"
      ]
     },
     "execution_count": 33,
     "metadata": {},
     "output_type": "execute_result"
    }
   ],
   "source": [
    "results_2"
   ]
  },
  {
   "cell_type": "code",
   "execution_count": 34,
   "metadata": {},
   "outputs": [],
   "source": [
    "results_df_2 = seeker_2.dataframe_from_results()"
   ]
  },
  {
   "cell_type": "code",
   "execution_count": 35,
   "metadata": {},
   "outputs": [
    {
     "data": {
      "text/html": [
       "<div>\n",
       "<style scoped>\n",
       "    .dataframe tbody tr th:only-of-type {\n",
       "        vertical-align: middle;\n",
       "    }\n",
       "\n",
       "    .dataframe tbody tr th {\n",
       "        vertical-align: top;\n",
       "    }\n",
       "\n",
       "    .dataframe thead th {\n",
       "        text-align: right;\n",
       "    }\n",
       "</style>\n",
       "<table border=\"1\" class=\"dataframe\">\n",
       "  <thead>\n",
       "    <tr style=\"text-align: right;\">\n",
       "      <th></th>\n",
       "      <th>Best: M1 Included Features</th>\n",
       "      <th>Best: M1 f1</th>\n",
       "      <th>Best: M2 Included Features</th>\n",
       "      <th>Best: M2 f1</th>\n",
       "      <th>Best: Agreeability (cohen_kappa)</th>\n",
       "      <th>All: M1 Mean f1</th>\n",
       "      <th>All: M1 STD f1</th>\n",
       "      <th>All: M2 Mean f1</th>\n",
       "      <th>All: M2 STD f1</th>\n",
       "      <th>All: Mean Agreeability (cohen_kappa)</th>\n",
       "      <th>All: Agreeability St. Dev.</th>\n",
       "    </tr>\n",
       "  </thead>\n",
       "  <tbody>\n",
       "    <tr>\n",
       "      <th>0</th>\n",
       "      <td>[MedInc, HouseAge, AveRooms, AveBedrms, Popula...</td>\n",
       "      <td>0.778723</td>\n",
       "      <td>[MedInc, HouseAge, AveRooms, AveBedrms, Popula...</td>\n",
       "      <td>0.793726</td>\n",
       "      <td>0.638759</td>\n",
       "      <td>0.778723</td>\n",
       "      <td>0.000000</td>\n",
       "      <td>0.793726</td>\n",
       "      <td>0.000000</td>\n",
       "      <td>0.638759</td>\n",
       "      <td>0.000000</td>\n",
       "    </tr>\n",
       "    <tr>\n",
       "      <th>1</th>\n",
       "      <td>[MedInc, HouseAge, AveRooms, AveBedrms, AveOcc...</td>\n",
       "      <td>0.781553</td>\n",
       "      <td>[HouseAge, AveRooms, AveBedrms, Population, Av...</td>\n",
       "      <td>0.813154</td>\n",
       "      <td>0.580804</td>\n",
       "      <td>0.757010</td>\n",
       "      <td>0.031662</td>\n",
       "      <td>0.787283</td>\n",
       "      <td>0.022223</td>\n",
       "      <td>0.589679</td>\n",
       "      <td>0.056107</td>\n",
       "    </tr>\n",
       "    <tr>\n",
       "      <th>2</th>\n",
       "      <td>[MedInc, HouseAge, AveRooms, AveOccup, Latitud...</td>\n",
       "      <td>0.780797</td>\n",
       "      <td>[HouseAge, AveRooms, Population, AveOccup, Lat...</td>\n",
       "      <td>0.825853</td>\n",
       "      <td>0.580835</td>\n",
       "      <td>0.760636</td>\n",
       "      <td>0.026681</td>\n",
       "      <td>0.784259</td>\n",
       "      <td>0.047125</td>\n",
       "      <td>0.522839</td>\n",
       "      <td>0.057829</td>\n",
       "    </tr>\n",
       "    <tr>\n",
       "      <th>3</th>\n",
       "      <td>[MedInc, HouseAge, AveOccup, Latitude, Longitude]</td>\n",
       "      <td>0.776399</td>\n",
       "      <td>[HouseAge, AveRooms, Population, Latitude, Lon...</td>\n",
       "      <td>0.832384</td>\n",
       "      <td>0.574129</td>\n",
       "      <td>0.743861</td>\n",
       "      <td>0.045557</td>\n",
       "      <td>0.778355</td>\n",
       "      <td>0.052895</td>\n",
       "      <td>0.493417</td>\n",
       "      <td>0.079644</td>\n",
       "    </tr>\n",
       "    <tr>\n",
       "      <th>4</th>\n",
       "      <td>[MedInc, AveOccup, Latitude, Longitude]</td>\n",
       "      <td>0.767023</td>\n",
       "      <td>[HouseAge, AveRooms, Latitude, Longitude]</td>\n",
       "      <td>0.825283</td>\n",
       "      <td>0.554990</td>\n",
       "      <td>0.717620</td>\n",
       "      <td>0.073182</td>\n",
       "      <td>0.752520</td>\n",
       "      <td>0.081795</td>\n",
       "      <td>0.417598</td>\n",
       "      <td>0.158884</td>\n",
       "    </tr>\n",
       "    <tr>\n",
       "      <th>5</th>\n",
       "      <td>[MedInc, AveOccup, Latitude]</td>\n",
       "      <td>0.745134</td>\n",
       "      <td>[HouseAge, Latitude, Longitude]</td>\n",
       "      <td>0.829415</td>\n",
       "      <td>0.492920</td>\n",
       "      <td>0.685270</td>\n",
       "      <td>0.076862</td>\n",
       "      <td>0.740900</td>\n",
       "      <td>0.085175</td>\n",
       "      <td>0.368375</td>\n",
       "      <td>0.162134</td>\n",
       "    </tr>\n",
       "    <tr>\n",
       "      <th>6</th>\n",
       "      <td>[MedInc, AveOccup]</td>\n",
       "      <td>0.738155</td>\n",
       "      <td>[Latitude, Longitude]</td>\n",
       "      <td>0.839914</td>\n",
       "      <td>0.509477</td>\n",
       "      <td>0.615847</td>\n",
       "      <td>0.137868</td>\n",
       "      <td>0.665545</td>\n",
       "      <td>0.124074</td>\n",
       "      <td>0.257245</td>\n",
       "      <td>0.185601</td>\n",
       "    </tr>\n",
       "    <tr>\n",
       "      <th>7</th>\n",
       "      <td>[MedInc]</td>\n",
       "      <td>0.691214</td>\n",
       "      <td>[Longitude]</td>\n",
       "      <td>0.615832</td>\n",
       "      <td>0.220298</td>\n",
       "      <td>0.527757</td>\n",
       "      <td>0.163457</td>\n",
       "      <td>0.608412</td>\n",
       "      <td>0.007420</td>\n",
       "      <td>0.141172</td>\n",
       "      <td>0.079127</td>\n",
       "    </tr>\n",
       "  </tbody>\n",
       "</table>\n",
       "</div>"
      ],
      "text/plain": [
       "                          Best: M1 Included Features  Best: M1 f1  \\\n",
       "0  [MedInc, HouseAge, AveRooms, AveBedrms, Popula...     0.778723   \n",
       "1  [MedInc, HouseAge, AveRooms, AveBedrms, AveOcc...     0.781553   \n",
       "2  [MedInc, HouseAge, AveRooms, AveOccup, Latitud...     0.780797   \n",
       "3  [MedInc, HouseAge, AveOccup, Latitude, Longitude]     0.776399   \n",
       "4            [MedInc, AveOccup, Latitude, Longitude]     0.767023   \n",
       "5                       [MedInc, AveOccup, Latitude]     0.745134   \n",
       "6                                 [MedInc, AveOccup]     0.738155   \n",
       "7                                           [MedInc]     0.691214   \n",
       "\n",
       "                          Best: M2 Included Features  Best: M2 f1  \\\n",
       "0  [MedInc, HouseAge, AveRooms, AveBedrms, Popula...     0.793726   \n",
       "1  [HouseAge, AveRooms, AveBedrms, Population, Av...     0.813154   \n",
       "2  [HouseAge, AveRooms, Population, AveOccup, Lat...     0.825853   \n",
       "3  [HouseAge, AveRooms, Population, Latitude, Lon...     0.832384   \n",
       "4          [HouseAge, AveRooms, Latitude, Longitude]     0.825283   \n",
       "5                    [HouseAge, Latitude, Longitude]     0.829415   \n",
       "6                              [Latitude, Longitude]     0.839914   \n",
       "7                                        [Longitude]     0.615832   \n",
       "\n",
       "   Best: Agreeability (cohen_kappa)  All: M1 Mean f1  All: M1 STD f1  \\\n",
       "0                          0.638759         0.778723        0.000000   \n",
       "1                          0.580804         0.757010        0.031662   \n",
       "2                          0.580835         0.760636        0.026681   \n",
       "3                          0.574129         0.743861        0.045557   \n",
       "4                          0.554990         0.717620        0.073182   \n",
       "5                          0.492920         0.685270        0.076862   \n",
       "6                          0.509477         0.615847        0.137868   \n",
       "7                          0.220298         0.527757        0.163457   \n",
       "\n",
       "   All: M2 Mean f1  All: M2 STD f1  All: Mean Agreeability (cohen_kappa)  \\\n",
       "0         0.793726        0.000000                              0.638759   \n",
       "1         0.787283        0.022223                              0.589679   \n",
       "2         0.784259        0.047125                              0.522839   \n",
       "3         0.778355        0.052895                              0.493417   \n",
       "4         0.752520        0.081795                              0.417598   \n",
       "5         0.740900        0.085175                              0.368375   \n",
       "6         0.665545        0.124074                              0.257245   \n",
       "7         0.608412        0.007420                              0.141172   \n",
       "\n",
       "   All: Agreeability St. Dev.  \n",
       "0                    0.000000  \n",
       "1                    0.056107  \n",
       "2                    0.057829  \n",
       "3                    0.079644  \n",
       "4                    0.158884  \n",
       "5                    0.162134  \n",
       "6                    0.185601  \n",
       "7                    0.079127  "
      ]
     },
     "execution_count": 35,
     "metadata": {},
     "output_type": "execute_result"
    }
   ],
   "source": [
    "results_df_2"
   ]
  },
  {
   "cell_type": "code",
   "execution_count": 36,
   "metadata": {},
   "outputs": [
    {
     "data": {
      "application/vnd.plotly.v1+json": {
       "config": {
        "plotlyServerURL": "https://plot.ly"
       },
       "data": [
        {
         "hoverinfo": "text",
         "hovertext": [
          "<br> Best: Agreeability (cohen_kappa): <br> 0.6388 <br> All: Mean Agreeability (cohen_kappa): <br> 0.6388 <br> All: Agreeability St. Dev.: <br> 0.0000",
          "<br> Best: Agreeability (cohen_kappa): <br> 0.5808 <br> All: Mean Agreeability (cohen_kappa): <br> 0.5897 <br> All: Agreeability St. Dev.: <br> 0.0561",
          "<br> Best: Agreeability (cohen_kappa): <br> 0.5808 <br> All: Mean Agreeability (cohen_kappa): <br> 0.5228 <br> All: Agreeability St. Dev.: <br> 0.0578",
          "<br> Best: Agreeability (cohen_kappa): <br> 0.5741 <br> All: Mean Agreeability (cohen_kappa): <br> 0.4934 <br> All: Agreeability St. Dev.: <br> 0.0796",
          "<br> Best: Agreeability (cohen_kappa): <br> 0.5550 <br> All: Mean Agreeability (cohen_kappa): <br> 0.4176 <br> All: Agreeability St. Dev.: <br> 0.1589",
          "<br> Best: Agreeability (cohen_kappa): <br> 0.4929 <br> All: Mean Agreeability (cohen_kappa): <br> 0.3684 <br> All: Agreeability St. Dev.: <br> 0.1621",
          "<br> Best: Agreeability (cohen_kappa): <br> 0.5095 <br> All: Mean Agreeability (cohen_kappa): <br> 0.2572 <br> All: Agreeability St. Dev.: <br> 0.1856",
          "<br> Best: Agreeability (cohen_kappa): <br> 0.2203 <br> All: Mean Agreeability (cohen_kappa): <br> 0.1412 <br> All: Agreeability St. Dev.: <br> 0.0791"
         ],
         "mode": "lines+markers",
         "name": "Best: Agreeability (cohen_kappa)",
         "type": "scatter",
         "x": [
          1,
          2,
          3,
          4,
          5,
          6,
          7,
          8
         ],
         "xaxis": "x",
         "y": [
          0.638759480434029,
          0.5808036825997458,
          0.5808352773036569,
          0.574129423624498,
          0.554990441575606,
          0.4929199525005391,
          0.5094772060222981,
          0.2202984662586311
         ],
         "yaxis": "y"
        },
        {
         "hoverinfo": "text",
         "hovertext": [
          "<br> Best: M1 f1: <br> 0.7787 <br> Best: M1 Included Features: <br> MedInc, HouseAge, AveRooms, AveBedrms, Population, AveOccup, Latitude, Longitude <br> All: M1 Mean f1: <br> 0.7787 <br> All: M1 STD f1: <br> 0.0000",
          "<br> Best: M1 f1: <br> 0.7816 <br> Best: M1 Included Features: <br> MedInc, HouseAge, AveRooms, AveBedrms, AveOccup, Latitude, Longitude <br> All: M1 Mean f1: <br> 0.7570 <br> All: M1 STD f1: <br> 0.0317",
          "<br> Best: M1 f1: <br> 0.7808 <br> Best: M1 Included Features: <br> MedInc, HouseAge, AveRooms, AveOccup, Latitude, Longitude <br> All: M1 Mean f1: <br> 0.7606 <br> All: M1 STD f1: <br> 0.0267",
          "<br> Best: M1 f1: <br> 0.7764 <br> Best: M1 Included Features: <br> MedInc, HouseAge, AveOccup, Latitude, Longitude <br> All: M1 Mean f1: <br> 0.7439 <br> All: M1 STD f1: <br> 0.0456",
          "<br> Best: M1 f1: <br> 0.7670 <br> Best: M1 Included Features: <br> MedInc, AveOccup, Latitude, Longitude <br> All: M1 Mean f1: <br> 0.7176 <br> All: M1 STD f1: <br> 0.0732",
          "<br> Best: M1 f1: <br> 0.7451 <br> Best: M1 Included Features: <br> MedInc, AveOccup, Latitude <br> All: M1 Mean f1: <br> 0.6853 <br> All: M1 STD f1: <br> 0.0769",
          "<br> Best: M1 f1: <br> 0.7382 <br> Best: M1 Included Features: <br> MedInc, AveOccup <br> All: M1 Mean f1: <br> 0.6158 <br> All: M1 STD f1: <br> 0.1379",
          "<br> Best: M1 f1: <br> 0.6912 <br> Best: M1 Included Features: <br> MedInc <br> All: M1 Mean f1: <br> 0.5278 <br> All: M1 STD f1: <br> 0.1635"
         ],
         "mode": "lines+markers",
         "name": "Best: M1 f1",
         "type": "scatter",
         "x": [
          1,
          2,
          3,
          4,
          5,
          6,
          7,
          8
         ],
         "xaxis": "x",
         "y": [
          0.7787234042553192,
          0.7815533980582524,
          0.7807971014492755,
          0.7763993948562784,
          0.7670229007633588,
          0.7451343836886006,
          0.7381546134663343,
          0.6912144702842378
         ],
         "yaxis": "y2"
        },
        {
         "hoverinfo": "text",
         "hovertext": [
          "<br> Best: M2 f1: <br> 0.7937 <br> Best: M2 Included Features: <br> MedInc, HouseAge, AveRooms, AveBedrms, Population, AveOccup, Latitude, Longitude <br> All: M2 Mean f1: <br> 0.7937 <br> All: M2 STD f1: <br> 0.0000",
          "<br> Best: M2 f1: <br> 0.8132 <br> Best: M2 Included Features: <br> HouseAge, AveRooms, AveBedrms, Population, AveOccup, Latitude, Longitude <br> All: M2 Mean f1: <br> 0.7873 <br> All: M2 STD f1: <br> 0.0222",
          "<br> Best: M2 f1: <br> 0.8259 <br> Best: M2 Included Features: <br> HouseAge, AveRooms, Population, AveOccup, Latitude, Longitude <br> All: M2 Mean f1: <br> 0.7843 <br> All: M2 STD f1: <br> 0.0471",
          "<br> Best: M2 f1: <br> 0.8324 <br> Best: M2 Included Features: <br> HouseAge, AveRooms, Population, Latitude, Longitude <br> All: M2 Mean f1: <br> 0.7784 <br> All: M2 STD f1: <br> 0.0529",
          "<br> Best: M2 f1: <br> 0.8253 <br> Best: M2 Included Features: <br> HouseAge, AveRooms, Latitude, Longitude <br> All: M2 Mean f1: <br> 0.7525 <br> All: M2 STD f1: <br> 0.0818",
          "<br> Best: M2 f1: <br> 0.8294 <br> Best: M2 Included Features: <br> HouseAge, Latitude, Longitude <br> All: M2 Mean f1: <br> 0.7409 <br> All: M2 STD f1: <br> 0.0852",
          "<br> Best: M2 f1: <br> 0.8399 <br> Best: M2 Included Features: <br> Latitude, Longitude <br> All: M2 Mean f1: <br> 0.6655 <br> All: M2 STD f1: <br> 0.1241",
          "<br> Best: M2 f1: <br> 0.6158 <br> Best: M2 Included Features: <br> Longitude <br> All: M2 Mean f1: <br> 0.6084 <br> All: M2 STD f1: <br> 0.0074"
         ],
         "mode": "lines+markers",
         "name": "Best: M2 f1",
         "type": "scatter",
         "x": [
          1,
          2,
          3,
          4,
          5,
          6,
          7,
          8
         ],
         "xaxis": "x",
         "y": [
          0.793725954424386,
          0.8131539611360239,
          0.8258527827648116,
          0.832383808095952,
          0.8252832438878952,
          0.8294153104279687,
          0.839914294459749,
          0.615831987075929
         ],
         "yaxis": "y2"
        }
       ],
       "layout": {
        "hovermode": "closest",
        "template": {
         "data": {
          "bar": [
           {
            "error_x": {
             "color": "#2a3f5f"
            },
            "error_y": {
             "color": "#2a3f5f"
            },
            "marker": {
             "line": {
              "color": "#E5ECF6",
              "width": 0.5
             },
             "pattern": {
              "fillmode": "overlay",
              "size": 10,
              "solidity": 0.2
             }
            },
            "type": "bar"
           }
          ],
          "barpolar": [
           {
            "marker": {
             "line": {
              "color": "#E5ECF6",
              "width": 0.5
             },
             "pattern": {
              "fillmode": "overlay",
              "size": 10,
              "solidity": 0.2
             }
            },
            "type": "barpolar"
           }
          ],
          "carpet": [
           {
            "aaxis": {
             "endlinecolor": "#2a3f5f",
             "gridcolor": "white",
             "linecolor": "white",
             "minorgridcolor": "white",
             "startlinecolor": "#2a3f5f"
            },
            "baxis": {
             "endlinecolor": "#2a3f5f",
             "gridcolor": "white",
             "linecolor": "white",
             "minorgridcolor": "white",
             "startlinecolor": "#2a3f5f"
            },
            "type": "carpet"
           }
          ],
          "choropleth": [
           {
            "colorbar": {
             "outlinewidth": 0,
             "ticks": ""
            },
            "type": "choropleth"
           }
          ],
          "contour": [
           {
            "colorbar": {
             "outlinewidth": 0,
             "ticks": ""
            },
            "colorscale": [
             [
              0,
              "#0d0887"
             ],
             [
              0.1111111111111111,
              "#46039f"
             ],
             [
              0.2222222222222222,
              "#7201a8"
             ],
             [
              0.3333333333333333,
              "#9c179e"
             ],
             [
              0.4444444444444444,
              "#bd3786"
             ],
             [
              0.5555555555555556,
              "#d8576b"
             ],
             [
              0.6666666666666666,
              "#ed7953"
             ],
             [
              0.7777777777777778,
              "#fb9f3a"
             ],
             [
              0.8888888888888888,
              "#fdca26"
             ],
             [
              1,
              "#f0f921"
             ]
            ],
            "type": "contour"
           }
          ],
          "contourcarpet": [
           {
            "colorbar": {
             "outlinewidth": 0,
             "ticks": ""
            },
            "type": "contourcarpet"
           }
          ],
          "heatmap": [
           {
            "colorbar": {
             "outlinewidth": 0,
             "ticks": ""
            },
            "colorscale": [
             [
              0,
              "#0d0887"
             ],
             [
              0.1111111111111111,
              "#46039f"
             ],
             [
              0.2222222222222222,
              "#7201a8"
             ],
             [
              0.3333333333333333,
              "#9c179e"
             ],
             [
              0.4444444444444444,
              "#bd3786"
             ],
             [
              0.5555555555555556,
              "#d8576b"
             ],
             [
              0.6666666666666666,
              "#ed7953"
             ],
             [
              0.7777777777777778,
              "#fb9f3a"
             ],
             [
              0.8888888888888888,
              "#fdca26"
             ],
             [
              1,
              "#f0f921"
             ]
            ],
            "type": "heatmap"
           }
          ],
          "heatmapgl": [
           {
            "colorbar": {
             "outlinewidth": 0,
             "ticks": ""
            },
            "colorscale": [
             [
              0,
              "#0d0887"
             ],
             [
              0.1111111111111111,
              "#46039f"
             ],
             [
              0.2222222222222222,
              "#7201a8"
             ],
             [
              0.3333333333333333,
              "#9c179e"
             ],
             [
              0.4444444444444444,
              "#bd3786"
             ],
             [
              0.5555555555555556,
              "#d8576b"
             ],
             [
              0.6666666666666666,
              "#ed7953"
             ],
             [
              0.7777777777777778,
              "#fb9f3a"
             ],
             [
              0.8888888888888888,
              "#fdca26"
             ],
             [
              1,
              "#f0f921"
             ]
            ],
            "type": "heatmapgl"
           }
          ],
          "histogram": [
           {
            "marker": {
             "pattern": {
              "fillmode": "overlay",
              "size": 10,
              "solidity": 0.2
             }
            },
            "type": "histogram"
           }
          ],
          "histogram2d": [
           {
            "colorbar": {
             "outlinewidth": 0,
             "ticks": ""
            },
            "colorscale": [
             [
              0,
              "#0d0887"
             ],
             [
              0.1111111111111111,
              "#46039f"
             ],
             [
              0.2222222222222222,
              "#7201a8"
             ],
             [
              0.3333333333333333,
              "#9c179e"
             ],
             [
              0.4444444444444444,
              "#bd3786"
             ],
             [
              0.5555555555555556,
              "#d8576b"
             ],
             [
              0.6666666666666666,
              "#ed7953"
             ],
             [
              0.7777777777777778,
              "#fb9f3a"
             ],
             [
              0.8888888888888888,
              "#fdca26"
             ],
             [
              1,
              "#f0f921"
             ]
            ],
            "type": "histogram2d"
           }
          ],
          "histogram2dcontour": [
           {
            "colorbar": {
             "outlinewidth": 0,
             "ticks": ""
            },
            "colorscale": [
             [
              0,
              "#0d0887"
             ],
             [
              0.1111111111111111,
              "#46039f"
             ],
             [
              0.2222222222222222,
              "#7201a8"
             ],
             [
              0.3333333333333333,
              "#9c179e"
             ],
             [
              0.4444444444444444,
              "#bd3786"
             ],
             [
              0.5555555555555556,
              "#d8576b"
             ],
             [
              0.6666666666666666,
              "#ed7953"
             ],
             [
              0.7777777777777778,
              "#fb9f3a"
             ],
             [
              0.8888888888888888,
              "#fdca26"
             ],
             [
              1,
              "#f0f921"
             ]
            ],
            "type": "histogram2dcontour"
           }
          ],
          "mesh3d": [
           {
            "colorbar": {
             "outlinewidth": 0,
             "ticks": ""
            },
            "type": "mesh3d"
           }
          ],
          "parcoords": [
           {
            "line": {
             "colorbar": {
              "outlinewidth": 0,
              "ticks": ""
             }
            },
            "type": "parcoords"
           }
          ],
          "pie": [
           {
            "automargin": true,
            "type": "pie"
           }
          ],
          "scatter": [
           {
            "fillpattern": {
             "fillmode": "overlay",
             "size": 10,
             "solidity": 0.2
            },
            "type": "scatter"
           }
          ],
          "scatter3d": [
           {
            "line": {
             "colorbar": {
              "outlinewidth": 0,
              "ticks": ""
             }
            },
            "marker": {
             "colorbar": {
              "outlinewidth": 0,
              "ticks": ""
             }
            },
            "type": "scatter3d"
           }
          ],
          "scattercarpet": [
           {
            "marker": {
             "colorbar": {
              "outlinewidth": 0,
              "ticks": ""
             }
            },
            "type": "scattercarpet"
           }
          ],
          "scattergeo": [
           {
            "marker": {
             "colorbar": {
              "outlinewidth": 0,
              "ticks": ""
             }
            },
            "type": "scattergeo"
           }
          ],
          "scattergl": [
           {
            "marker": {
             "colorbar": {
              "outlinewidth": 0,
              "ticks": ""
             }
            },
            "type": "scattergl"
           }
          ],
          "scattermapbox": [
           {
            "marker": {
             "colorbar": {
              "outlinewidth": 0,
              "ticks": ""
             }
            },
            "type": "scattermapbox"
           }
          ],
          "scatterpolar": [
           {
            "marker": {
             "colorbar": {
              "outlinewidth": 0,
              "ticks": ""
             }
            },
            "type": "scatterpolar"
           }
          ],
          "scatterpolargl": [
           {
            "marker": {
             "colorbar": {
              "outlinewidth": 0,
              "ticks": ""
             }
            },
            "type": "scatterpolargl"
           }
          ],
          "scatterternary": [
           {
            "marker": {
             "colorbar": {
              "outlinewidth": 0,
              "ticks": ""
             }
            },
            "type": "scatterternary"
           }
          ],
          "surface": [
           {
            "colorbar": {
             "outlinewidth": 0,
             "ticks": ""
            },
            "colorscale": [
             [
              0,
              "#0d0887"
             ],
             [
              0.1111111111111111,
              "#46039f"
             ],
             [
              0.2222222222222222,
              "#7201a8"
             ],
             [
              0.3333333333333333,
              "#9c179e"
             ],
             [
              0.4444444444444444,
              "#bd3786"
             ],
             [
              0.5555555555555556,
              "#d8576b"
             ],
             [
              0.6666666666666666,
              "#ed7953"
             ],
             [
              0.7777777777777778,
              "#fb9f3a"
             ],
             [
              0.8888888888888888,
              "#fdca26"
             ],
             [
              1,
              "#f0f921"
             ]
            ],
            "type": "surface"
           }
          ],
          "table": [
           {
            "cells": {
             "fill": {
              "color": "#EBF0F8"
             },
             "line": {
              "color": "white"
             }
            },
            "header": {
             "fill": {
              "color": "#C8D4E3"
             },
             "line": {
              "color": "white"
             }
            },
            "type": "table"
           }
          ]
         },
         "layout": {
          "annotationdefaults": {
           "arrowcolor": "#2a3f5f",
           "arrowhead": 0,
           "arrowwidth": 1
          },
          "autotypenumbers": "strict",
          "coloraxis": {
           "colorbar": {
            "outlinewidth": 0,
            "ticks": ""
           }
          },
          "colorscale": {
           "diverging": [
            [
             0,
             "#8e0152"
            ],
            [
             0.1,
             "#c51b7d"
            ],
            [
             0.2,
             "#de77ae"
            ],
            [
             0.3,
             "#f1b6da"
            ],
            [
             0.4,
             "#fde0ef"
            ],
            [
             0.5,
             "#f7f7f7"
            ],
            [
             0.6,
             "#e6f5d0"
            ],
            [
             0.7,
             "#b8e186"
            ],
            [
             0.8,
             "#7fbc41"
            ],
            [
             0.9,
             "#4d9221"
            ],
            [
             1,
             "#276419"
            ]
           ],
           "sequential": [
            [
             0,
             "#0d0887"
            ],
            [
             0.1111111111111111,
             "#46039f"
            ],
            [
             0.2222222222222222,
             "#7201a8"
            ],
            [
             0.3333333333333333,
             "#9c179e"
            ],
            [
             0.4444444444444444,
             "#bd3786"
            ],
            [
             0.5555555555555556,
             "#d8576b"
            ],
            [
             0.6666666666666666,
             "#ed7953"
            ],
            [
             0.7777777777777778,
             "#fb9f3a"
            ],
            [
             0.8888888888888888,
             "#fdca26"
            ],
            [
             1,
             "#f0f921"
            ]
           ],
           "sequentialminus": [
            [
             0,
             "#0d0887"
            ],
            [
             0.1111111111111111,
             "#46039f"
            ],
            [
             0.2222222222222222,
             "#7201a8"
            ],
            [
             0.3333333333333333,
             "#9c179e"
            ],
            [
             0.4444444444444444,
             "#bd3786"
            ],
            [
             0.5555555555555556,
             "#d8576b"
            ],
            [
             0.6666666666666666,
             "#ed7953"
            ],
            [
             0.7777777777777778,
             "#fb9f3a"
            ],
            [
             0.8888888888888888,
             "#fdca26"
            ],
            [
             1,
             "#f0f921"
            ]
           ]
          },
          "colorway": [
           "#636efa",
           "#EF553B",
           "#00cc96",
           "#ab63fa",
           "#FFA15A",
           "#19d3f3",
           "#FF6692",
           "#B6E880",
           "#FF97FF",
           "#FECB52"
          ],
          "font": {
           "color": "#2a3f5f"
          },
          "geo": {
           "bgcolor": "white",
           "lakecolor": "white",
           "landcolor": "#E5ECF6",
           "showlakes": true,
           "showland": true,
           "subunitcolor": "white"
          },
          "hoverlabel": {
           "align": "left"
          },
          "hovermode": "closest",
          "mapbox": {
           "style": "light"
          },
          "paper_bgcolor": "white",
          "plot_bgcolor": "#E5ECF6",
          "polar": {
           "angularaxis": {
            "gridcolor": "white",
            "linecolor": "white",
            "ticks": ""
           },
           "bgcolor": "#E5ECF6",
           "radialaxis": {
            "gridcolor": "white",
            "linecolor": "white",
            "ticks": ""
           }
          },
          "scene": {
           "xaxis": {
            "backgroundcolor": "#E5ECF6",
            "gridcolor": "white",
            "gridwidth": 2,
            "linecolor": "white",
            "showbackground": true,
            "ticks": "",
            "zerolinecolor": "white"
           },
           "yaxis": {
            "backgroundcolor": "#E5ECF6",
            "gridcolor": "white",
            "gridwidth": 2,
            "linecolor": "white",
            "showbackground": true,
            "ticks": "",
            "zerolinecolor": "white"
           },
           "zaxis": {
            "backgroundcolor": "#E5ECF6",
            "gridcolor": "white",
            "gridwidth": 2,
            "linecolor": "white",
            "showbackground": true,
            "ticks": "",
            "zerolinecolor": "white"
           }
          },
          "shapedefaults": {
           "line": {
            "color": "#2a3f5f"
           }
          },
          "ternary": {
           "aaxis": {
            "gridcolor": "white",
            "linecolor": "white",
            "ticks": ""
           },
           "baxis": {
            "gridcolor": "white",
            "linecolor": "white",
            "ticks": ""
           },
           "bgcolor": "#E5ECF6",
           "caxis": {
            "gridcolor": "white",
            "linecolor": "white",
            "ticks": ""
           }
          },
          "title": {
           "x": 0.05
          },
          "xaxis": {
           "automargin": true,
           "gridcolor": "white",
           "linecolor": "white",
           "ticks": "",
           "title": {
            "standoff": 15
           },
           "zerolinecolor": "white",
           "zerolinewidth": 2
          },
          "yaxis": {
           "automargin": true,
           "gridcolor": "white",
           "linecolor": "white",
           "ticks": "",
           "title": {
            "standoff": 15
           },
           "zerolinecolor": "white",
           "zerolinewidth": 2
          }
         }
        },
        "title": {
         "text": "Agreeability Coefficients and Model Scores Over Algorithm Iterations"
        },
        "xaxis": {
         "anchor": "y",
         "domain": [
          0,
          0.94
         ],
         "title": {
          "text": "Iteration"
         },
         "type": "category"
        },
        "yaxis": {
         "anchor": "x",
         "domain": [
          0,
          1
         ],
         "title": {
          "text": "Agreeability"
         }
        },
        "yaxis2": {
         "anchor": "x",
         "overlaying": "y",
         "side": "right",
         "title": {
          "text": "Model Scores"
         }
        }
       }
      }
     },
     "metadata": {},
     "output_type": "display_data"
    }
   ],
   "source": [
    "seeker_2.plot_from_results()"
   ]
  },
  {
   "cell_type": "markdown",
   "metadata": {},
   "source": [
    "### Working Code for 3D Plot\n",
    "\n",
    "```python\n",
    "\n",
    "# Create a 3D scatter plot\n",
    "fig = go.Figure(data=[\n",
    "    go.Scatter3d(\n",
    "        x=df.index + 1,\n",
    "        y=df.iloc[:, 4],\n",
    "        z=df.iloc[:, 1], \n",
    "        mode='lines+markers',\n",
    "        name=f'{df.columns[1]}',\n",
    "        text=df['Summary_M1'],\n",
    "        hoverinfo='text'\n",
    "    ),\n",
    "    go.Scatter3d(\n",
    "        x=df.index + 1,\n",
    "        y=df.iloc[:, 4],\n",
    "        z=df.iloc[:, 3], \n",
    "        mode='lines+markers',\n",
    "        name=f'{df.columns[3]}',\n",
    "        text=df['Summary_M2'],\n",
    "        hoverinfo='text'\n",
    "    )\n",
    "])\n",
    "\n",
    "# Update layout\n",
    "fig.update_layout(\n",
    "    title='Agreeability Coefficients and Model Scores Over Algorithm Iterations',\n",
    "    scene=dict(\n",
    "        xaxis_title='Iteration',\n",
    "        yaxis_title='Agreeability',\n",
    "        zaxis_title='Model Scores'\n",
    "    ),\n",
    "    hovermode='closest'\n",
    ")\n",
    "\n",
    "# Show the plot\n",
    "fig.show()\n",
    "\n",
    "```"
   ]
  },
  {
   "cell_type": "markdown",
   "metadata": {},
   "source": [
    "### Dependencies"
   ]
  },
  {
   "cell_type": "code",
   "execution_count": 30,
   "metadata": {},
   "outputs": [],
   "source": [
    "import numpy as np\n",
    "import pandas as pd\n",
    "import statsmodels\n",
    "import sklearn\n",
    "import scipy\n",
    "import plotly\n",
    "import matplotlib\n",
    "import seaborn as sns\n",
    "import tensorflow as tf\n"
   ]
  },
  {
   "cell_type": "code",
   "execution_count": 32,
   "metadata": {},
   "outputs": [
    {
     "name": "stdout",
     "output_type": "stream",
     "text": [
      "pandas: 1.5.3\n",
      "numpy: 1.20.3\n",
      "statsmodels: 0.13.5\n",
      "sklearn: 1.2.2\n",
      "scipy: 1.10.0\n",
      "plotly: 5.18.0\n",
      "matplotlib: 3.3.4\n",
      "seaborn: 0.11.1\n",
      "tensorflow: 2.10.1\n"
     ]
    }
   ],
   "source": [
    "print(f'pandas: {pd.__version__}')\n",
    "print(f'numpy: {np.__version__}')\n",
    "print(f'statsmodels: {statsmodels.__version__}')\n",
    "print(f'sklearn: {sklearn.__version__}')\n",
    "print(f'scipy: {scipy.__version__}')\n",
    "print(f'plotly: {plotly.__version__}')\n",
    "print(f'matplotlib: {matplotlib.__version__}')\n",
    "print(f'seaborn: {sns.__version__}')\n",
    "print(f'tensorflow: {tf.__version__}')\n"
   ]
  }
 ],
 "metadata": {
  "kernelspec": {
   "display_name": "DEDA",
   "language": "python",
   "name": "python3"
  },
  "language_info": {
   "codemirror_mode": {
    "name": "ipython",
    "version": 3
   },
   "file_extension": ".py",
   "mimetype": "text/x-python",
   "name": "python",
   "nbconvert_exporter": "python",
   "pygments_lexer": "ipython3",
   "version": "3.9.17"
  }
 },
 "nbformat": 4,
 "nbformat_minor": 2
}
