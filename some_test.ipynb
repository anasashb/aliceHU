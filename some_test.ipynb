{
 "cells": [
  {
   "cell_type": "markdown",
   "metadata": {},
   "source": [
    "## **A**utomated **L**earning for **I**nsightful **C**omparison and **E**valuation - (ALICE)"
   ]
  },
  {
   "cell_type": "code",
   "execution_count": 7,
   "metadata": {},
   "outputs": [],
   "source": [
    "import numpy as np\n",
    "import pandas as pd\n",
    "import os\n",
    "cur_dir = os.getcwd()"
   ]
  },
  {
   "cell_type": "code",
   "execution_count": 8,
   "metadata": {},
   "outputs": [],
   "source": [
    "## Just to test stuff out\n",
    "from sklearn.datasets import fetch_california_housing\n",
    "\n",
    "data = fetch_california_housing()\n",
    "\n",
    "X = pd.DataFrame(data=data.data, columns=data.feature_names)\n",
    "y = pd.DataFrame(data=data.target, columns=data.target_names)\n",
    "\n",
    "df = pd.concat([X,y], axis=1)"
   ]
  },
  {
   "cell_type": "code",
   "execution_count": 9,
   "metadata": {},
   "outputs": [
    {
     "data": {
      "text/html": [
       "<div>\n",
       "<style scoped>\n",
       "    .dataframe tbody tr th:only-of-type {\n",
       "        vertical-align: middle;\n",
       "    }\n",
       "\n",
       "    .dataframe tbody tr th {\n",
       "        vertical-align: top;\n",
       "    }\n",
       "\n",
       "    .dataframe thead th {\n",
       "        text-align: right;\n",
       "    }\n",
       "</style>\n",
       "<table border=\"1\" class=\"dataframe\">\n",
       "  <thead>\n",
       "    <tr style=\"text-align: right;\">\n",
       "      <th></th>\n",
       "      <th>MedInc</th>\n",
       "      <th>HouseAge</th>\n",
       "      <th>AveRooms</th>\n",
       "      <th>AveBedrms</th>\n",
       "      <th>Population</th>\n",
       "      <th>AveOccup</th>\n",
       "      <th>Latitude</th>\n",
       "      <th>Longitude</th>\n",
       "      <th>MedHouseVal</th>\n",
       "    </tr>\n",
       "  </thead>\n",
       "  <tbody>\n",
       "    <tr>\n",
       "      <th>0</th>\n",
       "      <td>8.3252</td>\n",
       "      <td>41.0</td>\n",
       "      <td>6.984127</td>\n",
       "      <td>1.023810</td>\n",
       "      <td>322.0</td>\n",
       "      <td>2.555556</td>\n",
       "      <td>37.88</td>\n",
       "      <td>-122.23</td>\n",
       "      <td>4.526</td>\n",
       "    </tr>\n",
       "    <tr>\n",
       "      <th>1</th>\n",
       "      <td>8.3014</td>\n",
       "      <td>21.0</td>\n",
       "      <td>6.238137</td>\n",
       "      <td>0.971880</td>\n",
       "      <td>2401.0</td>\n",
       "      <td>2.109842</td>\n",
       "      <td>37.86</td>\n",
       "      <td>-122.22</td>\n",
       "      <td>3.585</td>\n",
       "    </tr>\n",
       "    <tr>\n",
       "      <th>2</th>\n",
       "      <td>7.2574</td>\n",
       "      <td>52.0</td>\n",
       "      <td>8.288136</td>\n",
       "      <td>1.073446</td>\n",
       "      <td>496.0</td>\n",
       "      <td>2.802260</td>\n",
       "      <td>37.85</td>\n",
       "      <td>-122.24</td>\n",
       "      <td>3.521</td>\n",
       "    </tr>\n",
       "    <tr>\n",
       "      <th>3</th>\n",
       "      <td>5.6431</td>\n",
       "      <td>52.0</td>\n",
       "      <td>5.817352</td>\n",
       "      <td>1.073059</td>\n",
       "      <td>558.0</td>\n",
       "      <td>2.547945</td>\n",
       "      <td>37.85</td>\n",
       "      <td>-122.25</td>\n",
       "      <td>3.413</td>\n",
       "    </tr>\n",
       "    <tr>\n",
       "      <th>4</th>\n",
       "      <td>3.8462</td>\n",
       "      <td>52.0</td>\n",
       "      <td>6.281853</td>\n",
       "      <td>1.081081</td>\n",
       "      <td>565.0</td>\n",
       "      <td>2.181467</td>\n",
       "      <td>37.85</td>\n",
       "      <td>-122.25</td>\n",
       "      <td>3.422</td>\n",
       "    </tr>\n",
       "    <tr>\n",
       "      <th>...</th>\n",
       "      <td>...</td>\n",
       "      <td>...</td>\n",
       "      <td>...</td>\n",
       "      <td>...</td>\n",
       "      <td>...</td>\n",
       "      <td>...</td>\n",
       "      <td>...</td>\n",
       "      <td>...</td>\n",
       "      <td>...</td>\n",
       "    </tr>\n",
       "    <tr>\n",
       "      <th>20635</th>\n",
       "      <td>1.5603</td>\n",
       "      <td>25.0</td>\n",
       "      <td>5.045455</td>\n",
       "      <td>1.133333</td>\n",
       "      <td>845.0</td>\n",
       "      <td>2.560606</td>\n",
       "      <td>39.48</td>\n",
       "      <td>-121.09</td>\n",
       "      <td>0.781</td>\n",
       "    </tr>\n",
       "    <tr>\n",
       "      <th>20636</th>\n",
       "      <td>2.5568</td>\n",
       "      <td>18.0</td>\n",
       "      <td>6.114035</td>\n",
       "      <td>1.315789</td>\n",
       "      <td>356.0</td>\n",
       "      <td>3.122807</td>\n",
       "      <td>39.49</td>\n",
       "      <td>-121.21</td>\n",
       "      <td>0.771</td>\n",
       "    </tr>\n",
       "    <tr>\n",
       "      <th>20637</th>\n",
       "      <td>1.7000</td>\n",
       "      <td>17.0</td>\n",
       "      <td>5.205543</td>\n",
       "      <td>1.120092</td>\n",
       "      <td>1007.0</td>\n",
       "      <td>2.325635</td>\n",
       "      <td>39.43</td>\n",
       "      <td>-121.22</td>\n",
       "      <td>0.923</td>\n",
       "    </tr>\n",
       "    <tr>\n",
       "      <th>20638</th>\n",
       "      <td>1.8672</td>\n",
       "      <td>18.0</td>\n",
       "      <td>5.329513</td>\n",
       "      <td>1.171920</td>\n",
       "      <td>741.0</td>\n",
       "      <td>2.123209</td>\n",
       "      <td>39.43</td>\n",
       "      <td>-121.32</td>\n",
       "      <td>0.847</td>\n",
       "    </tr>\n",
       "    <tr>\n",
       "      <th>20639</th>\n",
       "      <td>2.3886</td>\n",
       "      <td>16.0</td>\n",
       "      <td>5.254717</td>\n",
       "      <td>1.162264</td>\n",
       "      <td>1387.0</td>\n",
       "      <td>2.616981</td>\n",
       "      <td>39.37</td>\n",
       "      <td>-121.24</td>\n",
       "      <td>0.894</td>\n",
       "    </tr>\n",
       "  </tbody>\n",
       "</table>\n",
       "<p>20640 rows × 9 columns</p>\n",
       "</div>"
      ],
      "text/plain": [
       "       MedInc  HouseAge  AveRooms  AveBedrms  Population  AveOccup  Latitude  \\\n",
       "0      8.3252      41.0  6.984127   1.023810       322.0  2.555556     37.88   \n",
       "1      8.3014      21.0  6.238137   0.971880      2401.0  2.109842     37.86   \n",
       "2      7.2574      52.0  8.288136   1.073446       496.0  2.802260     37.85   \n",
       "3      5.6431      52.0  5.817352   1.073059       558.0  2.547945     37.85   \n",
       "4      3.8462      52.0  6.281853   1.081081       565.0  2.181467     37.85   \n",
       "...       ...       ...       ...        ...         ...       ...       ...   \n",
       "20635  1.5603      25.0  5.045455   1.133333       845.0  2.560606     39.48   \n",
       "20636  2.5568      18.0  6.114035   1.315789       356.0  3.122807     39.49   \n",
       "20637  1.7000      17.0  5.205543   1.120092      1007.0  2.325635     39.43   \n",
       "20638  1.8672      18.0  5.329513   1.171920       741.0  2.123209     39.43   \n",
       "20639  2.3886      16.0  5.254717   1.162264      1387.0  2.616981     39.37   \n",
       "\n",
       "       Longitude  MedHouseVal  \n",
       "0        -122.23        4.526  \n",
       "1        -122.22        3.585  \n",
       "2        -122.24        3.521  \n",
       "3        -122.25        3.413  \n",
       "4        -122.25        3.422  \n",
       "...          ...          ...  \n",
       "20635    -121.09        0.781  \n",
       "20636    -121.21        0.771  \n",
       "20637    -121.22        0.923  \n",
       "20638    -121.32        0.847  \n",
       "20639    -121.24        0.894  \n",
       "\n",
       "[20640 rows x 9 columns]"
      ]
     },
     "execution_count": 9,
     "metadata": {},
     "output_type": "execute_result"
    }
   ],
   "source": [
    "df"
   ]
  },
  {
   "cell_type": "code",
   "execution_count": 10,
   "metadata": {},
   "outputs": [
    {
     "data": {
      "text/html": [
       "<div>\n",
       "<style scoped>\n",
       "    .dataframe tbody tr th:only-of-type {\n",
       "        vertical-align: middle;\n",
       "    }\n",
       "\n",
       "    .dataframe tbody tr th {\n",
       "        vertical-align: top;\n",
       "    }\n",
       "\n",
       "    .dataframe thead th {\n",
       "        text-align: right;\n",
       "    }\n",
       "</style>\n",
       "<table border=\"1\" class=\"dataframe\">\n",
       "  <thead>\n",
       "    <tr style=\"text-align: right;\">\n",
       "      <th></th>\n",
       "      <th>MedInc</th>\n",
       "      <th>HouseAge</th>\n",
       "      <th>AveRooms</th>\n",
       "      <th>AveBedrms</th>\n",
       "      <th>Population</th>\n",
       "      <th>AveOccup</th>\n",
       "      <th>Latitude</th>\n",
       "      <th>Longitude</th>\n",
       "      <th>MedHouseVal</th>\n",
       "    </tr>\n",
       "  </thead>\n",
       "  <tbody>\n",
       "    <tr>\n",
       "      <th>count</th>\n",
       "      <td>20640.000000</td>\n",
       "      <td>20640.000000</td>\n",
       "      <td>20640.000000</td>\n",
       "      <td>20640.000000</td>\n",
       "      <td>20640.000000</td>\n",
       "      <td>20640.000000</td>\n",
       "      <td>20640.000000</td>\n",
       "      <td>20640.000000</td>\n",
       "      <td>20640.000000</td>\n",
       "    </tr>\n",
       "    <tr>\n",
       "      <th>mean</th>\n",
       "      <td>3.870671</td>\n",
       "      <td>28.639486</td>\n",
       "      <td>5.429000</td>\n",
       "      <td>1.096675</td>\n",
       "      <td>1425.476744</td>\n",
       "      <td>3.070655</td>\n",
       "      <td>35.631861</td>\n",
       "      <td>-119.569704</td>\n",
       "      <td>2.068558</td>\n",
       "    </tr>\n",
       "    <tr>\n",
       "      <th>std</th>\n",
       "      <td>1.899822</td>\n",
       "      <td>12.585558</td>\n",
       "      <td>2.474173</td>\n",
       "      <td>0.473911</td>\n",
       "      <td>1132.462122</td>\n",
       "      <td>10.386050</td>\n",
       "      <td>2.135952</td>\n",
       "      <td>2.003532</td>\n",
       "      <td>1.153956</td>\n",
       "    </tr>\n",
       "    <tr>\n",
       "      <th>min</th>\n",
       "      <td>0.499900</td>\n",
       "      <td>1.000000</td>\n",
       "      <td>0.846154</td>\n",
       "      <td>0.333333</td>\n",
       "      <td>3.000000</td>\n",
       "      <td>0.692308</td>\n",
       "      <td>32.540000</td>\n",
       "      <td>-124.350000</td>\n",
       "      <td>0.149990</td>\n",
       "    </tr>\n",
       "    <tr>\n",
       "      <th>25%</th>\n",
       "      <td>2.563400</td>\n",
       "      <td>18.000000</td>\n",
       "      <td>4.440716</td>\n",
       "      <td>1.006079</td>\n",
       "      <td>787.000000</td>\n",
       "      <td>2.429741</td>\n",
       "      <td>33.930000</td>\n",
       "      <td>-121.800000</td>\n",
       "      <td>1.196000</td>\n",
       "    </tr>\n",
       "    <tr>\n",
       "      <th>50%</th>\n",
       "      <td>3.534800</td>\n",
       "      <td>29.000000</td>\n",
       "      <td>5.229129</td>\n",
       "      <td>1.048780</td>\n",
       "      <td>1166.000000</td>\n",
       "      <td>2.818116</td>\n",
       "      <td>34.260000</td>\n",
       "      <td>-118.490000</td>\n",
       "      <td>1.797000</td>\n",
       "    </tr>\n",
       "    <tr>\n",
       "      <th>75%</th>\n",
       "      <td>4.743250</td>\n",
       "      <td>37.000000</td>\n",
       "      <td>6.052381</td>\n",
       "      <td>1.099526</td>\n",
       "      <td>1725.000000</td>\n",
       "      <td>3.282261</td>\n",
       "      <td>37.710000</td>\n",
       "      <td>-118.010000</td>\n",
       "      <td>2.647250</td>\n",
       "    </tr>\n",
       "    <tr>\n",
       "      <th>max</th>\n",
       "      <td>15.000100</td>\n",
       "      <td>52.000000</td>\n",
       "      <td>141.909091</td>\n",
       "      <td>34.066667</td>\n",
       "      <td>35682.000000</td>\n",
       "      <td>1243.333333</td>\n",
       "      <td>41.950000</td>\n",
       "      <td>-114.310000</td>\n",
       "      <td>5.000010</td>\n",
       "    </tr>\n",
       "  </tbody>\n",
       "</table>\n",
       "</div>"
      ],
      "text/plain": [
       "             MedInc      HouseAge      AveRooms     AveBedrms    Population  \\\n",
       "count  20640.000000  20640.000000  20640.000000  20640.000000  20640.000000   \n",
       "mean       3.870671     28.639486      5.429000      1.096675   1425.476744   \n",
       "std        1.899822     12.585558      2.474173      0.473911   1132.462122   \n",
       "min        0.499900      1.000000      0.846154      0.333333      3.000000   \n",
       "25%        2.563400     18.000000      4.440716      1.006079    787.000000   \n",
       "50%        3.534800     29.000000      5.229129      1.048780   1166.000000   \n",
       "75%        4.743250     37.000000      6.052381      1.099526   1725.000000   \n",
       "max       15.000100     52.000000    141.909091     34.066667  35682.000000   \n",
       "\n",
       "           AveOccup      Latitude     Longitude   MedHouseVal  \n",
       "count  20640.000000  20640.000000  20640.000000  20640.000000  \n",
       "mean       3.070655     35.631861   -119.569704      2.068558  \n",
       "std       10.386050      2.135952      2.003532      1.153956  \n",
       "min        0.692308     32.540000   -124.350000      0.149990  \n",
       "25%        2.429741     33.930000   -121.800000      1.196000  \n",
       "50%        2.818116     34.260000   -118.490000      1.797000  \n",
       "75%        3.282261     37.710000   -118.010000      2.647250  \n",
       "max     1243.333333     41.950000   -114.310000      5.000010  "
      ]
     },
     "execution_count": 10,
     "metadata": {},
     "output_type": "execute_result"
    }
   ],
   "source": [
    "df.describe()"
   ]
  },
  {
   "cell_type": "markdown",
   "metadata": {},
   "source": [
    "Since every feature here is numerical, I will generate a fake categorical feature and encode it into dummies to demonstrate that function can handle dummies toegether."
   ]
  },
  {
   "cell_type": "code",
   "execution_count": 11,
   "metadata": {},
   "outputs": [],
   "source": [
    "fake_labels = ['nice', 'not_nice', 'mid']\n",
    "df['HouseEval'] = np.random.choice(fake_labels, size=len(df))\n",
    "\n",
    "fake_labels_2 = ['white', 'black', 'gray']\n",
    "df['WallColors'] = np.random.choice(fake_labels_2, size=len(df))"
   ]
  },
  {
   "cell_type": "code",
   "execution_count": 12,
   "metadata": {},
   "outputs": [],
   "source": [
    "# Get dummies\n",
    "# Get dummies for the column and set one value as base\n",
    "df = pd.get_dummies(df, columns=['HouseEval', 'WallColors'], drop_first=True)"
   ]
  },
  {
   "cell_type": "code",
   "execution_count": 13,
   "metadata": {},
   "outputs": [
    {
     "data": {
      "text/html": [
       "<div>\n",
       "<style scoped>\n",
       "    .dataframe tbody tr th:only-of-type {\n",
       "        vertical-align: middle;\n",
       "    }\n",
       "\n",
       "    .dataframe tbody tr th {\n",
       "        vertical-align: top;\n",
       "    }\n",
       "\n",
       "    .dataframe thead th {\n",
       "        text-align: right;\n",
       "    }\n",
       "</style>\n",
       "<table border=\"1\" class=\"dataframe\">\n",
       "  <thead>\n",
       "    <tr style=\"text-align: right;\">\n",
       "      <th></th>\n",
       "      <th>MedInc</th>\n",
       "      <th>HouseAge</th>\n",
       "      <th>AveRooms</th>\n",
       "      <th>AveBedrms</th>\n",
       "      <th>Population</th>\n",
       "      <th>AveOccup</th>\n",
       "      <th>Latitude</th>\n",
       "      <th>Longitude</th>\n",
       "      <th>MedHouseVal</th>\n",
       "      <th>HouseEval_nice</th>\n",
       "      <th>HouseEval_not_nice</th>\n",
       "      <th>WallColors_gray</th>\n",
       "      <th>WallColors_white</th>\n",
       "    </tr>\n",
       "  </thead>\n",
       "  <tbody>\n",
       "    <tr>\n",
       "      <th>0</th>\n",
       "      <td>8.3252</td>\n",
       "      <td>41.0</td>\n",
       "      <td>6.984127</td>\n",
       "      <td>1.023810</td>\n",
       "      <td>322.0</td>\n",
       "      <td>2.555556</td>\n",
       "      <td>37.88</td>\n",
       "      <td>-122.23</td>\n",
       "      <td>4.526</td>\n",
       "      <td>1</td>\n",
       "      <td>0</td>\n",
       "      <td>0</td>\n",
       "      <td>1</td>\n",
       "    </tr>\n",
       "    <tr>\n",
       "      <th>1</th>\n",
       "      <td>8.3014</td>\n",
       "      <td>21.0</td>\n",
       "      <td>6.238137</td>\n",
       "      <td>0.971880</td>\n",
       "      <td>2401.0</td>\n",
       "      <td>2.109842</td>\n",
       "      <td>37.86</td>\n",
       "      <td>-122.22</td>\n",
       "      <td>3.585</td>\n",
       "      <td>1</td>\n",
       "      <td>0</td>\n",
       "      <td>0</td>\n",
       "      <td>1</td>\n",
       "    </tr>\n",
       "    <tr>\n",
       "      <th>2</th>\n",
       "      <td>7.2574</td>\n",
       "      <td>52.0</td>\n",
       "      <td>8.288136</td>\n",
       "      <td>1.073446</td>\n",
       "      <td>496.0</td>\n",
       "      <td>2.802260</td>\n",
       "      <td>37.85</td>\n",
       "      <td>-122.24</td>\n",
       "      <td>3.521</td>\n",
       "      <td>1</td>\n",
       "      <td>0</td>\n",
       "      <td>0</td>\n",
       "      <td>1</td>\n",
       "    </tr>\n",
       "    <tr>\n",
       "      <th>3</th>\n",
       "      <td>5.6431</td>\n",
       "      <td>52.0</td>\n",
       "      <td>5.817352</td>\n",
       "      <td>1.073059</td>\n",
       "      <td>558.0</td>\n",
       "      <td>2.547945</td>\n",
       "      <td>37.85</td>\n",
       "      <td>-122.25</td>\n",
       "      <td>3.413</td>\n",
       "      <td>0</td>\n",
       "      <td>0</td>\n",
       "      <td>0</td>\n",
       "      <td>0</td>\n",
       "    </tr>\n",
       "    <tr>\n",
       "      <th>4</th>\n",
       "      <td>3.8462</td>\n",
       "      <td>52.0</td>\n",
       "      <td>6.281853</td>\n",
       "      <td>1.081081</td>\n",
       "      <td>565.0</td>\n",
       "      <td>2.181467</td>\n",
       "      <td>37.85</td>\n",
       "      <td>-122.25</td>\n",
       "      <td>3.422</td>\n",
       "      <td>0</td>\n",
       "      <td>0</td>\n",
       "      <td>0</td>\n",
       "      <td>1</td>\n",
       "    </tr>\n",
       "  </tbody>\n",
       "</table>\n",
       "</div>"
      ],
      "text/plain": [
       "   MedInc  HouseAge  AveRooms  AveBedrms  Population  AveOccup  Latitude  \\\n",
       "0  8.3252      41.0  6.984127   1.023810       322.0  2.555556     37.88   \n",
       "1  8.3014      21.0  6.238137   0.971880      2401.0  2.109842     37.86   \n",
       "2  7.2574      52.0  8.288136   1.073446       496.0  2.802260     37.85   \n",
       "3  5.6431      52.0  5.817352   1.073059       558.0  2.547945     37.85   \n",
       "4  3.8462      52.0  6.281853   1.081081       565.0  2.181467     37.85   \n",
       "\n",
       "   Longitude  MedHouseVal  HouseEval_nice  HouseEval_not_nice  \\\n",
       "0    -122.23        4.526               1                   0   \n",
       "1    -122.22        3.585               1                   0   \n",
       "2    -122.24        3.521               1                   0   \n",
       "3    -122.25        3.413               0                   0   \n",
       "4    -122.25        3.422               0                   0   \n",
       "\n",
       "   WallColors_gray  WallColors_white  \n",
       "0                0                 1  \n",
       "1                0                 1  \n",
       "2                0                 1  \n",
       "3                0                 0  \n",
       "4                0                 1  "
      ]
     },
     "execution_count": 13,
     "metadata": {},
     "output_type": "execute_result"
    }
   ],
   "source": [
    "df.head()"
   ]
  },
  {
   "cell_type": "code",
   "execution_count": 14,
   "metadata": {},
   "outputs": [],
   "source": [
    "# Discretize df\n",
    "\n",
    "mean_target = df['MedHouseVal'].mean()\n",
    "df_discrete = df.copy()\n",
    "\n",
    "df_discrete['AboveMean'] = (df_discrete['MedHouseVal'] >= mean_target).astype(int)\n",
    "df_discrete.drop('MedHouseVal', axis=1, inplace=True)"
   ]
  },
  {
   "cell_type": "code",
   "execution_count": 9,
   "metadata": {},
   "outputs": [],
   "source": [
    "# Can just import entire module\n",
    "import alice"
   ]
  },
  {
   "cell_type": "code",
   "execution_count": 6,
   "metadata": {},
   "outputs": [],
   "source": [
    "# Import regression metrics\n",
    "from alice.metrics.regress import mse, rmse, mae\n",
    "# Import classification metrics\n",
    "from alice.metrics.classify import accuracy, precision, recall, f1\n",
    "# Import regression agreeability metric\n",
    "from alice.agreeability.regress import pearson\n",
    "# Import classification agreeability metric\n",
    "from alice.agreeability.classify import cohen_kappa\n"
   ]
  },
  {
   "cell_type": "code",
   "execution_count": 11,
   "metadata": {},
   "outputs": [],
   "source": [
    "# Import our demo search algorithm \n",
    "from alice.search_and_compare.sequential import BackEliminator"
   ]
  },
  {
   "cell_type": "code",
   "execution_count": 132,
   "metadata": {},
   "outputs": [],
   "source": [
    "from alice.metrics.regress import mse, rmse, mae\n",
    "from alice.metrics.classify import accuracy, precision, recall, f1\n",
    "from alice.agreeability.regress import pearson\n",
    "from alice.agreeability.classify import cohen_kappa\n",
    "from alice.utils.feature_lists import dummy_grouper\n",
    "from alice.utils.feature_lists import feature_fixer\n",
    "from alice.utils.feature_lists import feature_list_flatten\n",
    "import pandas as pd\n",
    "import plotly.express as px\n",
    "import plotly.graph_objs as go\n",
    "from plotly.subplots import make_subplots\n",
    "import numpy as np\n",
    "\n",
    "class BackEliminator():\n",
    "\n",
    "    def __init__(self,\n",
    "                 X=None,\n",
    "                 y=None, \n",
    "                 validation_data=None,\n",
    "                 task_type=None,\n",
    "                 criterion=None,\n",
    "                 agreeability=None,\n",
    "                 dummy_list=None,\n",
    "                 features_to_fix=None\n",
    "                 ):\n",
    "\n",
    "        self.X = X\n",
    "        self.y = y\n",
    "        if validation_data:\n",
    "            self.validation_data = validation_data\n",
    "            self.X_val = self.validation_data[0]\n",
    "            self.y_val = self.validation_data[1]\n",
    "        self.criterion_registry = {\n",
    "            'mse': mse,\n",
    "            'rmse': rmse,\n",
    "            'mae': mae,\n",
    "            'accuracy': accuracy,\n",
    "            'precision': precision,\n",
    "            'recall': recall,\n",
    "            'f1': f1\n",
    "            }\n",
    "        self.criterion = criterion\n",
    "        self.agreeability_registry = {\n",
    "            'pearson': pearson,\n",
    "            'cohen_kappa': cohen_kappa\n",
    "        }\n",
    "        self.agreeability = agreeability\n",
    "        # To append all scores per dropped feature for all iterations of while loop\n",
    "        self.scores_n_preds_m1 = []\n",
    "        self.scores_n_preds_m2 = []\n",
    "    \n",
    "        #### =========================================================================================== ####\n",
    "        #### NEW SORTING DEFINED                                                                            #\n",
    "        #### ---------------------------------------------------------------------------------------------- #\n",
    "        #### Rationale:                                                                                     #\n",
    "        #### In Classification metrics: Higher Score <=> Better Predictive Performance                      #\n",
    "        #### Worst feature will be that whose removal led to the highest score in iteration                 #\n",
    "        #### In Regression metrics: Lower score <=> Better Predictive Performance                           #\n",
    "        #### Worst feature will be that whose removal led to the lowest score in iteration                  #\n",
    "        if task_type == 'classification':                                                                   #\n",
    "            # Get the entry which has highest score (in second column - [1]) - used in compare_best_models  #\n",
    "            self.find_worst_feature = lambda scores: max(scores, key=lambda x: x[1])                        #\n",
    "            # Order the container in descending from max score to min score - used in compare_all_models    #\n",
    "            self.sort_scores = lambda scores: sorted(scores, key=lambda x: x[1], reverse=True)              #\n",
    "        elif task_type == 'regression':                                                                     #\n",
    "            # Get the entry which has lowest score (in second column - [1])                                 #\n",
    "            self.find_worst_feature = lambda scores: min(scores, key=lambda x: x[1])                        #\n",
    "            # Order the container in ascending - min score on top max score on bottom                       #\n",
    "            self.sort_scores = lambda scores: sorted(scores, key=lambda x: x[1])                            #\n",
    "        else:                                                                                               #\n",
    "            raise ValueError(\"Invalid task type specified. Choose 'regression' or 'classification'.\")       #\n",
    "        #### Return will be (worst_feature, best_score, best_preds) from iteration                          #\n",
    "        #### =========================================================================================== ####\n",
    "\n",
    "        # Handle feature lists\n",
    "        # Will default to None if not provided\n",
    "        self.dummy_list = dummy_list\n",
    "        # Will default to None if not provided\n",
    "        self.features_to_fix = features_to_fix\n",
    "        # Group columns obtained from a one-hot-encoded variable together\n",
    "        if self.dummy_list:\n",
    "            self.initial_feature_list = dummy_grouper(feature_list=list(self.X.columns), dummy_list=self.dummy_list)\n",
    "        else:\n",
    "            self.initial_feature_list = list(self.X.columns)\n",
    "        # Remove features we want to fix from the feature list\n",
    "        if self.features_to_fix:\n",
    "            self.initial_feature_list = feature_fixer(self.initial_feature_list, self.features_to_fix)\n",
    "        \n",
    "    \n",
    "    # Method to be called in the main method of back elimination\n",
    "    def _deselect_feature(self,\n",
    "                          feature_list,\n",
    "                          model):\n",
    "        # Empty list for scores\n",
    "        score_per_dropped_feature = []\n",
    "        # Iterate over all features\n",
    "        for feature in feature_list:\n",
    "            # Generate temporary feature set to manipulate\n",
    "            temporary_set = feature_list.copy()\n",
    "            # Drop feature from set\n",
    "            temporary_set.remove(feature)\n",
    "            # Flatten list\n",
    "            temporary_set = feature_list_flatten(temporary_set)\n",
    "            # Train\n",
    "            model.fit(self.X[temporary_set], self.y)\n",
    "            # Predict on validation set\n",
    "            if self.validation_data:\n",
    "                y_preds = model.predict(self.X_val[temporary_set])\n",
    "                # Evaluate\n",
    "                score = self.criterion_registry[self.criterion](self.y_val, y_preds)\n",
    "            # Predict on training set\n",
    "            else:\n",
    "                y_preds = model.predict(self.X[temporary_set])\n",
    "                score = self.criterion_registry[self.criterion](self.y, y_preds)\n",
    "            # Append feature name, score after dropping it, y_preds after dropping it\n",
    "            score_per_dropped_feature.append((feature, score, y_preds))\n",
    "\n",
    "        #### Deprecated ####\n",
    "        # At the end of loop, identify feature\n",
    "        # which led to the worst score when \n",
    "        # feature dropped\n",
    "        # Descending sort based on score, (x[1])\n",
    "        #score_per_dropped_feature = self.sort_scores(score_per_dropped_feature) #### REMOVE THIS\n",
    "\n",
    "        # For ease of read\n",
    "        #worst_feature = score_per_dropped_feature[0][0] #### REMOVE THIS\n",
    "        #best_score = score_per_dropped_feature[0][1] ##### REMOVE THIS\n",
    "        #best_preds = score_per_dropped_feature[0][2] ##### REMOVE THIS\n",
    "\n",
    "        #del score_per_dropped_feature #### RETURN THIS\n",
    "        # Return feature name\n",
    "        #return worst_feature, best_score, best_preds\n",
    "        \n",
    "        #### =========================================================================================== ####\n",
    "        #### NEW RETURN DEFINED                                                                             #\n",
    "        #### ---------------------------------------------------------------------------------------------- #\n",
    "        return score_per_dropped_feature                                                                    #\n",
    "        #### Returns a list of tuples with three entries: str(feature_name), float(score), np.array(preds)  #\n",
    "        #### =========================================================================================== ####\n",
    "        ### TO DO ###\n",
    "        # Add functionality to possibly save trained models \n",
    "        # Will take up large memory, may be unfeasible\n",
    "        ### TO DO ###\n",
    "    \n",
    "    def compare_best_models(\n",
    "            self,\n",
    "            m1,\n",
    "            m2\n",
    "        ): \n",
    "        # Copy all features initially\n",
    "        # for both models\n",
    "        new_feature_list_m1 = self.initial_feature_list.copy()\n",
    "        new_feature_list_m2 = self.initial_feature_list.copy()\n",
    "        # Aggreeability scores\n",
    "        results = []\n",
    "        # First fit models w/o any removed features\n",
    "        # Flat lists for fitting\n",
    "        full_fit_m1 = feature_list_flatten(new_feature_list_m1)\n",
    "        full_fit_m2 = feature_list_flatten(new_feature_list_m2)\n",
    "        m1.fit(self.X[full_fit_m1], self.y)\n",
    "        m2.fit(self.X[full_fit_m2], self.y)\n",
    "        # Predict on validation set\n",
    "        if self.validation_data:\n",
    "            # Model 1\n",
    "            m1_preds = m1.predict(self.X_val[full_fit_m1])\n",
    "            m1_score = self.criterion_registry[self.criterion](self.y_val, m1_preds)\n",
    "            # Model 2\n",
    "            m2_preds = m2.predict(self.X_val[full_fit_m2])\n",
    "            m2_score = self.criterion_registry[self.criterion](self.y_val, m2_preds)\n",
    "            # Aggreeability Score\n",
    "            agreeability_coeff = self.agreeability_registry[self.agreeability](m1_preds, m2_preds)\n",
    "        # Predict on training set\n",
    "        else:\n",
    "            # Model 1\n",
    "            m1_preds = m1.predict(self.X[full_fit_m1])\n",
    "            m1_score = self.criterion_registry[self.criterion](self.y, m1_preds)\n",
    "            # Model 2\n",
    "            m2_preds = m2.predict(self.X[full_fit_m2])\n",
    "            m2_score = self.criterion_registry[self.criterion](self.y, m2_preds)\n",
    "            # Agreeability score\n",
    "            agreeability_coeff = self.agreeability_registry[self.agreeability](m1_preds, m2_preds)\n",
    "        \n",
    "        # Append to results\n",
    "        \n",
    "        results.append({\n",
    "            f'Best: M1 Included Features': full_fit_m1.copy(),\n",
    "            f'Best: M1 {self.criterion.upper()}': m1_score,\n",
    "            f'Best: M2 Included Features': full_fit_m2.copy(),\n",
    "            f'Best: M2 {self.criterion.upper()}': m2_score,\n",
    "            f'Best: Agreeability ({self.agreeability})': agreeability_coeff,\n",
    "            })            \n",
    "\n",
    "        ### DEBUG PRINTS\n",
    "        print(f'Initial run: fitted both models with full feature set.')\n",
    "        print(f'-' * 150)\n",
    "        print(f'Model 1 included: {new_feature_list_m1}. {self.criterion.upper()}: {m1_score}')\n",
    "        print(f'Model 2 included: {new_feature_list_m2}. {self.criterion.upper()}: {m2_score}')\n",
    "        print(f'-' * 150)\n",
    "        print(f'Agreeability Coefficient ({self.agreeability}): {agreeability_coeff}')\n",
    "        print(f'=' * 150)\n",
    "        ### DEBUG PRINTS   \n",
    "        \n",
    "        ### DEBUG\n",
    "        counter = 0\n",
    "        ### DEBUG\n",
    "\n",
    "        # Begin loop to deselect and evaluate\n",
    "        while len(new_feature_list_m1) > 1 and len(new_feature_list_m2) > 1:\n",
    "\n",
    "            ### DEBUG\n",
    "            counter += 1    \n",
    "            ### DEBUG    \n",
    "\n",
    "            # Obtain worst_feature, score and preds from deselect_feature functions\n",
    "            #worst_feature_m1, m1_score, m1_preds = self._deselect_feature(new_feature_list_m1, m1)\n",
    "            #worst_feature_m2, m2_score, m2_preds = self._deselect_feature(new_feature_list_m2, m2)\n",
    "            # Update included feature lists\n",
    "            #new_feature_list_m1.remove(worst_feature_m1) \n",
    "            #new_feature_list_m2.remove(worst_feature_m2)\n",
    "\n",
    "            # Obtain the score lists (removed feature, corresponding score, corresponding preds)\n",
    "            score_per_dropped_feature_m1 = self._deselect_feature(new_feature_list_m1, m1)\n",
    "            score_per_dropped_feature_m2 = self._deselect_feature(new_feature_list_m2, m2)\n",
    "\n",
    "            # Get the worst_feature, best_score, best_preds\n",
    "            worst_feature_m1, m1_score, m1_preds = self.find_worst_feature(score_per_dropped_feature_m1)\n",
    "            worst_feature_m2, m2_score, m2_preds = self.find_worst_feature(score_per_dropped_feature_m2)\n",
    "\n",
    "            # Update included feature lists\n",
    "            new_feature_list_m1.remove(worst_feature_m1)\n",
    "            new_feature_list_m2.remove(worst_feature_m2)\n",
    "            # Flat lists to append to results\n",
    "            flat_feature_list_m1 = feature_list_flatten(new_feature_list_m1)\n",
    "            flat_feature_list_m2 = feature_list_flatten(new_feature_list_m2)\n",
    "\n",
    "            # Compute agreeability\n",
    "            agreeability_coeff = self.agreeability_registry[self.agreeability](m1_preds, m2_preds)\n",
    "            # Append to results\n",
    "            results.append({\n",
    "                'Model 1 Included Features': flat_feature_list_m1.copy(),\n",
    "                f'Model 1 {self.criterion.upper()}': m1_score,\n",
    "                'Model 2 Included Features': flat_feature_list_m2.copy(),\n",
    "                f'Model 2 {self.criterion.upper()}': m2_score,\n",
    "                f'Agreeability Coefficient ({self.agreeability})': agreeability_coeff\n",
    "            })\n",
    "\n",
    "            ### DEBUG PRINTS\n",
    "            print(f'Iteration {counter}:')\n",
    "            print(f'-' * 150)\n",
    "            print(f'Model 1 included: {new_feature_list_m1}. {self.criterion.upper()}: {m1_score}')\n",
    "            print(f'Model 2 included: {new_feature_list_m2}. {self.criterion.upper()}: {m2_score}')\n",
    "            print(f'-' * 150)\n",
    "            print(f'Agreeability Coefficient ({self.agreeability}): {agreeability_coeff}')\n",
    "            print(f'=' * 150)\n",
    "            ### DEBUG PRINTS\n",
    "        # Save results\n",
    "        self.results = results\n",
    "        # Return results\n",
    "        return results\n",
    "    \n",
    "### Order for best for best    \n",
    "    def compare_all_models(\n",
    "            self,\n",
    "            m1,\n",
    "            m2\n",
    "        ):\n",
    "        '''\n",
    "        Note: feature elimination strategy same as compare_best_models().\n",
    "        At higher computing costs, evaluates agreeability between sub-par models at each iteration and computers mean agreeability score and standard deviation.\n",
    "        Results obtained from _deselect_feature are ordered from best to worst\n",
    "        ''' \n",
    "        # Copy all features initially\n",
    "        # for both models\n",
    "        new_feature_list_m1 = self.initial_feature_list.copy()\n",
    "        new_feature_list_m2 = self.initial_feature_list.copy()\n",
    "        # Aggreeability scores\n",
    "        results = []\n",
    "        # Flat lists for fitting\n",
    "        full_fit_m1 = feature_list_flatten(new_feature_list_m1)\n",
    "        full_fit_m2 = feature_list_flatten(new_feature_list_m2)\n",
    "        # First fit models w/o any removed features\n",
    "        m1.fit(self.X[full_fit_m1], self.y)\n",
    "        m2.fit(self.X[full_fit_m2], self.y)\n",
    "        # Predict on validation set\n",
    "        if self.validation_data:\n",
    "            # Model 1\n",
    "            m1_preds = m1.predict(self.X_val[full_fit_m1])\n",
    "            best_score_m1 = self.criterion_registry[self.criterion](self.y_val, m1_preds)\n",
    "            # Model 2\n",
    "            m2_preds = m2.predict(self.X_val[full_fit_m2])\n",
    "            best_score_m2 = self.criterion_registry[self.criterion](self.y_val, m2_preds)\n",
    "            # Aggreeability Score\n",
    "            agreeability_coeff = self.agreeability_registry[self.agreeability](m1_preds, m2_preds)\n",
    "        # Predict on training set\n",
    "        else:\n",
    "            # Model 1\n",
    "            m1_preds = m1.predict(self.X[full_fit_m1])\n",
    "            best_score_m1 = self.criterion_registry[self.criterion](self.y, m1_preds)\n",
    "            # Model 2\n",
    "            m2_preds = m2.predict(self.X[full_fit_m2])\n",
    "            best_score_m2 = self.criterion_registry[self.criterion](self.y, m2_preds)\n",
    "            # Agreeability score\n",
    "            agreeability_coeff = self.agreeability_registry[self.agreeability](m1_preds, m2_preds)\n",
    "        \n",
    "        # Append to results\n",
    "        #### TO FIX\n",
    "        #### Since the first run is on entire dataset, - mean agreeability == agreeability, stdev == 0\n",
    "        #results.append({\n",
    "            #f'Best: M1 Included Features': new_feature_list_m1.copy(),\n",
    "            #f'Best: M1 {self.criterion.upper()}': best_score_m1,\n",
    "            #f'Best: M2 Included Features': new_feature_list_m2.copy(),\n",
    "            #f'Best: M2 {self.criterion.upper()}': best_score_m2,\n",
    "            #f'Best: Agreeability ({self.agreeability})': agreeability_coeff,\n",
    "            #f'All: Mean Agreeability ({self.agreeability})': np.mean(agreeability_coeff),\n",
    "            #f'All: Agreeability St. Dev.': np.std(agreeability_coeff)\n",
    "        #})          \n",
    "\n",
    "        results.append({\n",
    "            f'Best: M1 Included Features': full_fit_m1.copy(),\n",
    "            f'Best: M1 {self.criterion}': best_score_m1,\n",
    "            f'Best: M2 Included Features': full_fit_m2.copy(),\n",
    "            f'Best: M2 {self.criterion}': best_score_m2,\n",
    "            f'Best: Agreeability ({self.agreeability})': agreeability_coeff,\n",
    "            f'All: M1 Mean {self.criterion}': best_score_m1,\n",
    "            f'All: M1 STD {self.criterion}': 0,\n",
    "            f'All: M2 Mean {self.criterion}': best_score_m2,\n",
    "            f'All: M2 STD {self.criterion}': 0,\n",
    "            f'All: Mean Agreeability ({self.agreeability})': agreeability_coeff,\n",
    "            f'All: Agreeability St. Dev.': 0\n",
    "            })      \n",
    "\n",
    "        ### DEBUG PRINTS\n",
    "        print(f'Initial run: fitted both models with full feature set.')\n",
    "        print(f'-' * 150)\n",
    "        print(f'Model 1 included: {new_feature_list_m1}. {self.criterion.upper()}: {best_score_m1:.4f}')\n",
    "        print(f'Model 2 included: {new_feature_list_m2}. {self.criterion.upper()}: {best_score_m2:.4f}')\n",
    "        print(f'-' * 150)\n",
    "        print(f'Agreeability Coefficient ({self.agreeability}): {agreeability_coeff:.4f}')\n",
    "        print(f'=' * 150)\n",
    "        ### DEBUG PRINTS   \n",
    "        \n",
    "        ### DEBUG\n",
    "        counter = 0\n",
    "        ### DEBUG\n",
    "\n",
    "        # Begin loop to deselect and evaluate\n",
    "        while len(new_feature_list_m1) > 1 and len(new_feature_list_m2) > 1:\n",
    "\n",
    "            ### DEBUG\n",
    "            counter += 1    \n",
    "            ### DEBUG    \n",
    "\n",
    "            # Obtain worst_feature, score and preds from deselect_feature functions\n",
    "            #worst_feature_m1, m1_score, m1_preds = self._deselect_feature(new_feature_list_m1, m1)\n",
    "            #worst_feature_m2, m2_score, m2_preds = self._deselect_feature(new_feature_list_m2, m2)\n",
    "            # Update included feature lists\n",
    "            #new_feature_list_m1.remove(worst_feature_m1) \n",
    "            #new_feature_list_m2.remove(worst_feature_m2)\n",
    "\n",
    "            # Obtain the score lists (removed feature, score, preds)\n",
    "            score_per_dropped_feature_m1 = self._deselect_feature(new_feature_list_m1, m1)\n",
    "            score_per_dropped_feature_m2 = self._deselect_feature(new_feature_list_m2, m2)\n",
    "\n",
    "            # Sort the list\n",
    "            # Note that after sorting row results will not match iteration for iteration in _deselect_feature runs for m1 and m2\n",
    "            score_per_dropped_feature_m1 = self.sort_scores(score_per_dropped_feature_m1)\n",
    "            score_per_dropped_feature_m2 = self.sort_scores(score_per_dropped_feature_m2)\n",
    "\n",
    "            ####################################################################################################################\n",
    "            ############################################### HANDLE SCORES ######################################################\n",
    "            ####################################################################################################################\n",
    "            \n",
    "            # Obtain all scores for m1 and m2\n",
    "            all_scores_m1 = [row[1] for row in score_per_dropped_feature_m1]\n",
    "            all_scores_m2 = [row[1] for row in score_per_dropped_feature_m2]\n",
    "            # Obtain all preds for m1 and m2\n",
    "            all_preds_m1 = [row[2] for row in score_per_dropped_feature_m1]\n",
    "            all_preds_m2 = [row[2] for row in score_per_dropped_feature_m2]\n",
    "            # Append to respective containers ####### TO BE USED IN A NEW METHOD FOR TESTING #########\n",
    "            self.scores_n_preds_m1.append((all_scores_m1, all_preds_m1))\n",
    "            self.scores_n_preds_m2.append((all_scores_m2, all_preds_m2))\n",
    "            # Get best scores \n",
    "            best_score_m1 = all_scores_m1[0]\n",
    "            best_score_m2 = all_scores_m2[0]\n",
    "            # Average of all scores\n",
    "            mean_score_m1 = np.mean(all_scores_m1)\n",
    "            mean_score_m2 = np.mean(all_scores_m2)\n",
    "            # Get std-s of all scores (a bit manually not to recompute means implicitly by using np.std())\n",
    "            std_score_m1 = np.sqrt(np.mean((all_scores_m1 - mean_score_m1) ** 2))\n",
    "            std_score_m2 = np.sqrt(np.mean((all_scores_m2 - mean_score_m2) ** 2))\n",
    "\n",
    "            ####################################################################################################################\n",
    "            ############################################ HANDLE AGREEABILITY ###################################################\n",
    "            ####################################################################################################################\n",
    "\n",
    "            # Get all predictions from both models as a list of lists\n",
    "            # This will iterate row for row in the third column of the containers, where prediction arrays are given. \n",
    "            all_preds_m1 = [row[2] for row in score_per_dropped_feature_m1]\n",
    "            all_preds_m2 = [row[2] for row in score_per_dropped_feature_m2]\n",
    "\n",
    "            # Get agreeability measures row for row\n",
    "            # Result will be ordered s.t. entry on top is from the two models with best performance going all the way down to worst\n",
    "\n",
    "            all_agreeabilities = [self.agreeability_registry[self.agreeability](all_preds_m1[i], all_preds_m2[i]) for i in range(len(all_preds_m1))]\n",
    "            # Grab the agreeability coefficient between the predictions of best models\n",
    "            agreeability_coeff = all_agreeabilities[0]\n",
    "            # Takes average of all agreeability coeffs\n",
    "            mean_agreeability = np.mean(all_agreeabilities)\n",
    "            std_agreeability = np.std(all_agreeabilities)\n",
    "\n",
    "            ####################################################################################################################\n",
    "            ############################################## HANDLE FEATURES #####################################################\n",
    "            #################################################################################################################### \n",
    "\n",
    "            #### FOR BETTER READABILITY DEFINE ALL VARIABLES INDIVIDUALLY\n",
    "            worst_feature_m1 = score_per_dropped_feature_m1[0][0]\n",
    "            worst_feature_m2 = score_per_dropped_feature_m2[0][0]\n",
    "            # Update included feature lists\n",
    "            new_feature_list_m1.remove(worst_feature_m1)\n",
    "            new_feature_list_m2.remove(worst_feature_m2)\n",
    "            # Flat lists to append to results\n",
    "            flat_feature_list_m1 = feature_list_flatten(new_feature_list_m1)\n",
    "            flat_feature_list_m2 = feature_list_flatten(new_feature_list_m2)\n",
    "            #### ADD A TOPRINT METHOD SOMEWHERE TO MAKE SURE WE ARE NOT calling .upper() uselessly -- for the time being removed uppers.\n",
    "            # Append to results\n",
    "            results.append({\n",
    "                f'Best: M1 Included Features': flat_feature_list_m1.copy(),\n",
    "                f'Best: M1 {self.criterion}': best_score_m1,\n",
    "                f'Best: M2 Included Features': flat_feature_list_m2.copy(),\n",
    "                f'Best: M2 {self.criterion}': best_score_m2,\n",
    "                f'Best: Agreeability ({self.agreeability})': agreeability_coeff,\n",
    "                f'All: M1 Mean {self.criterion}': mean_score_m1,\n",
    "                f'All: M1 STD {self.criterion}': std_score_m1,\n",
    "                f'All: M2 Mean {self.criterion}': mean_score_m2,\n",
    "                f'All: M2 STD {self.criterion}': std_score_m2,\n",
    "                f'All: Mean Agreeability ({self.agreeability})': mean_agreeability,\n",
    "                f'All: Agreeability St. Dev.': std_agreeability\n",
    "            })  \n",
    "\n",
    "        \n",
    "            ### DEBUG PRINTS\n",
    "            print(f'Iteration {counter}:')\n",
    "            print(f'-' * 150)\n",
    "            print(f'Results from best models:')\n",
    "            print(f'Best Model 1 included: {new_feature_list_m1}. {self.criterion.upper()}: {best_score_m1:.4f}')\n",
    "            print(f'Best Model 2 included: {new_feature_list_m2}. {self.criterion.upper()}: {best_score_m2:.4f}')\n",
    "            print(f'Agreeability Coefficient ({self.agreeability}) between best models: {agreeability_coeff}')\n",
    "            print(f'-' * 150)\n",
    "            print(f'Results from all models:')\n",
    "            print(f'M1 mean score: {mean_score_m1:.4f}. Standard deviation: {std_score_m1:.4f}')\n",
    "            print(f'M1 mean score: {mean_score_m2:.4f}. Standard deviation: {std_score_m2:.4f}')\n",
    "            print(f'Mean agreeability coefficient ({self.agreeability}): {mean_agreeability:.4f}. Standard deviation: {std_agreeability:.4f}')\n",
    "            print(f'=' * 150)\n",
    "            ### DEBUG PRINTS\n",
    "        # Save results\n",
    "        self.results = results\n",
    "        # Return results\n",
    "        return results\n",
    "\n",
    "\n",
    "        #### REMOVE DESELECT_INPROG REMOVE DESELECT_INPROG REMOVE DESELECT_INPROG\n",
    "\n",
    "    # Method to turn results into a df\n",
    "    def dataframe_from_results(self):\n",
    "        '''\n",
    "        Return results as a dataframe.\n",
    "        '''\n",
    "        # Check if results exist\n",
    "        if not self.results:\n",
    "            raise ValueError(\"There are no results available. Make sure to run compare_models first.\")\n",
    "        # Return results\n",
    "        return pd.DataFrame(self.results)\n",
    "    \n",
    "    # Method to turn results into an interactive plot\n",
    "    def plot_from_results(self):\n",
    "        '''\n",
    "        Makes an interactive plot from the results.\n",
    "        '''\n",
    "        if not self.results:\n",
    "            raise ValueError(\"There are no results available. Make sure to run compare_models first.\")\n",
    "        df = pd.DataFrame(self.results)\n",
    "\n",
    "        df['Summary_Agreeability'] = df.apply(lambda row: f\"<br> {df.columns[4]}: <br> {row.iloc[4]:.4f} <br> {df.columns[9]}: <br> {row.iloc[9]:.4f} <br> {df.columns[10]}: <br> {row.iloc[10]:.4f}\", axis=1)\n",
    "        df['Summary_M1'] = df.apply(lambda row: f\"<br> {df.columns[1]}: <br> {row.iloc[1]:.4f} <br> {df.columns[0]}: <br> {', '.join(row.iloc[0])} <br> {df.columns[5]}: <br> {row.iloc[5]:.4f} <br> {df.columns[6]}: <br> {row.iloc[6]:.4f}\", axis=1)\n",
    "        df['Summary_M2'] = df.apply(lambda row: f\"<br> {df.columns[3]}: <br> {row.iloc[3]:.4f} <br> {df.columns[2]}: <br> {', '.join(row.iloc[2])} <br> {df.columns[7]}: <br> {row.iloc[7]:.4f} <br> {df.columns[8]}: <br> {row.iloc[8]:.4f}\", axis=1)\n",
    "\n",
    "\n",
    "        fig = make_subplots(\n",
    "            specs=[[{'secondary_y': True}]]\n",
    "        )\n",
    "\n",
    "        # Plot agreeability\n",
    "        fig.add_trace(\n",
    "            go.Scatter(\n",
    "            x=df.index + 1,\n",
    "            y=df.iloc[:, 4],\n",
    "            name=f'{df.columns[4]}',\n",
    "            mode='lines+markers',\n",
    "            hovertext=df['Summary_Agreeability'],\n",
    "            hoverinfo='text' \n",
    "            ),\n",
    "            secondary_y=False\n",
    "        )\n",
    "\n",
    "        # Plot model 1 score\n",
    "        fig.add_trace(\n",
    "            go.Scatter(\n",
    "                x=df.index + 1,\n",
    "                y=df.iloc[:, 1],\n",
    "                name=f'{df.columns[1]}',\n",
    "                mode='lines+markers',\n",
    "                hovertext=df['Summary_M1'],\n",
    "                hoverinfo='text'\n",
    "            ),\n",
    "            secondary_y=True\n",
    "        )\n",
    "\n",
    "        # Plot model 2 score\n",
    "        fig.add_trace(\n",
    "            go.Scatter(\n",
    "                x=df.index+1,\n",
    "                y=df.iloc[:, 3],\n",
    "                name=f'{df.columns[3]}',\n",
    "                mode='lines+markers',\n",
    "                hovertext=df['Summary_M2'],\n",
    "                hoverinfo='text'\n",
    "            ),\n",
    "            secondary_y=True\n",
    "        )\n",
    "\n",
    "        fig.update_layout(\n",
    "            title='Agreeability Coefficients and Model Scores Over Algorithm Iterations',\n",
    "            xaxis_title='Iteration',\n",
    "            yaxis_title='Agreeability',\n",
    "            yaxis2_title='Model Scores',\n",
    "            hovermode='closest'\n",
    "        )\n",
    "\n",
    "        fig.update_xaxes(type='category')\n",
    "        fig.show()"
   ]
  },
  {
   "cell_type": "code",
   "execution_count": 133,
   "metadata": {},
   "outputs": [
    {
     "data": {
      "text/plain": [
       "Index(['MedInc', 'HouseAge', 'AveRooms', 'AveBedrms', 'Population', 'AveOccup',\n",
       "       'Latitude', 'Longitude', 'MedHouseVal', 'HouseEval_nice',\n",
       "       'HouseEval_not_nice', 'WallColors_gray', 'WallColors_white'],\n",
       "      dtype='object')"
      ]
     },
     "execution_count": 133,
     "metadata": {},
     "output_type": "execute_result"
    }
   ],
   "source": [
    "df.columns"
   ]
  },
  {
   "cell_type": "code",
   "execution_count": 134,
   "metadata": {},
   "outputs": [
    {
     "data": {
      "text/plain": [
       "[['HouseEval_nice', 'HouseEval_not_nice'],\n",
       " ['WallColors_gray', 'WallColors_white']]"
      ]
     },
     "execution_count": 134,
     "metadata": {},
     "output_type": "execute_result"
    }
   ],
   "source": [
    "dummy_list = [\n",
    "    ['HouseEval_nice', 'HouseEval_not_nice'],\n",
    "    ['WallColors_gray', 'WallColors_white']\n",
    "]\n",
    "dummy_list"
   ]
  },
  {
   "cell_type": "code",
   "execution_count": 135,
   "metadata": {},
   "outputs": [
    {
     "data": {
      "text/plain": [
       "['Latitude', 'Longitude', ['WallColors_gray', 'WallColors_white']]"
      ]
     },
     "execution_count": 135,
     "metadata": {},
     "output_type": "execute_result"
    }
   ],
   "source": [
    "ftofix = [\n",
    "    'Latitude',\n",
    "    'Longitude',\n",
    "    ['WallColors_gray', 'WallColors_white']\n",
    "]\n",
    "ftofix"
   ]
  },
  {
   "cell_type": "markdown",
   "metadata": {},
   "source": [
    "### Check functionality on a regression task"
   ]
  },
  {
   "cell_type": "code",
   "execution_count": 136,
   "metadata": {},
   "outputs": [],
   "source": [
    "from sklearn.model_selection import train_test_split"
   ]
  },
  {
   "cell_type": "code",
   "execution_count": 137,
   "metadata": {},
   "outputs": [
    {
     "name": "stdout",
     "output_type": "stream",
     "text": [
      "<class 'pandas.core.frame.DataFrame'>\n",
      "RangeIndex: 20640 entries, 0 to 20639\n",
      "Data columns (total 13 columns):\n",
      " #   Column              Non-Null Count  Dtype  \n",
      "---  ------              --------------  -----  \n",
      " 0   MedInc              20640 non-null  float64\n",
      " 1   HouseAge            20640 non-null  float64\n",
      " 2   AveRooms            20640 non-null  float64\n",
      " 3   AveBedrms           20640 non-null  float64\n",
      " 4   Population          20640 non-null  float64\n",
      " 5   AveOccup            20640 non-null  float64\n",
      " 6   Latitude            20640 non-null  float64\n",
      " 7   Longitude           20640 non-null  float64\n",
      " 8   MedHouseVal         20640 non-null  float64\n",
      " 9   HouseEval_nice      20640 non-null  uint8  \n",
      " 10  HouseEval_not_nice  20640 non-null  uint8  \n",
      " 11  WallColors_gray     20640 non-null  uint8  \n",
      " 12  WallColors_white    20640 non-null  uint8  \n",
      "dtypes: float64(9), uint8(4)\n",
      "memory usage: 1.5 MB\n"
     ]
    }
   ],
   "source": [
    "df.info()"
   ]
  },
  {
   "cell_type": "code",
   "execution_count": 138,
   "metadata": {},
   "outputs": [],
   "source": [
    "y = df['MedHouseVal']\n",
    "X = df.drop('MedHouseVal', axis=1)\n"
   ]
  },
  {
   "cell_type": "code",
   "execution_count": 139,
   "metadata": {},
   "outputs": [],
   "source": [
    "X_train, X_val, y_train, y_val = train_test_split(X, y, test_size=0.2, random_state=66)"
   ]
  },
  {
   "cell_type": "code",
   "execution_count": 140,
   "metadata": {},
   "outputs": [],
   "source": [
    "from sklearn.linear_model import LinearRegression\n",
    "from sklearn.tree import DecisionTreeRegressor"
   ]
  },
  {
   "cell_type": "code",
   "execution_count": 141,
   "metadata": {},
   "outputs": [],
   "source": [
    "m1 = LinearRegression()\n",
    "m2 = DecisionTreeRegressor()"
   ]
  },
  {
   "cell_type": "code",
   "execution_count": 142,
   "metadata": {},
   "outputs": [],
   "source": [
    "seeker = BackEliminator(\n",
    "    X=X_train,\n",
    "    y=y_train,\n",
    "    validation_data=(X_val, y_val),\n",
    "    task_type='regression',\n",
    "    criterion='rmse',\n",
    "    agreeability='pearson',\n",
    "    dummy_list=dummy_list,\n",
    ")"
   ]
  },
  {
   "cell_type": "code",
   "execution_count": 143,
   "metadata": {},
   "outputs": [
    {
     "name": "stdout",
     "output_type": "stream",
     "text": [
      "Initial run: fitted both models with full feature set.\n",
      "------------------------------------------------------------------------------------------------------------------------------------------------------\n",
      "Model 1 included: ['MedInc', 'HouseAge', 'AveRooms', 'AveBedrms', 'Population', 'AveOccup', 'Latitude', 'Longitude', ['HouseEval_nice', 'HouseEval_not_nice'], ['WallColors_gray', 'WallColors_white']]. RMSE: 0.7312\n",
      "Model 2 included: ['MedInc', 'HouseAge', 'AveRooms', 'AveBedrms', 'Population', 'AveOccup', 'Latitude', 'Longitude', ['HouseEval_nice', 'HouseEval_not_nice'], ['WallColors_gray', 'WallColors_white']]. RMSE: 0.7198\n",
      "------------------------------------------------------------------------------------------------------------------------------------------------------\n",
      "Agreeability Coefficient (pearson): 0.7651\n",
      "======================================================================================================================================================\n",
      "Iteration 1:\n",
      "------------------------------------------------------------------------------------------------------------------------------------------------------\n",
      "Results from best models:\n",
      "Best Model 1 included: ['MedInc', 'HouseAge', 'AveRooms', 'AveBedrms', 'Population', 'Latitude', 'Longitude', ['HouseEval_nice', 'HouseEval_not_nice'], ['WallColors_gray', 'WallColors_white']]. RMSE: 0.7241\n",
      "Best Model 2 included: ['MedInc', 'HouseAge', 'AveRooms', 'AveBedrms', 'Population', 'Latitude', 'Longitude', ['HouseEval_nice', 'HouseEval_not_nice'], ['WallColors_gray', 'WallColors_white']]. RMSE: 0.6821\n",
      "Agreeability Coefficient (pearson) between best models: 0.7746023391695528\n",
      "------------------------------------------------------------------------------------------------------------------------------------------------------\n",
      "Results from all models:\n",
      "M1 mean score: 0.7642. Standard deviation: 0.0550\n",
      "M1 mean score: 0.7395. Standard deviation: 0.0506\n",
      "Mean agreeability coefficient (pearson): 0.7253. Standard deviation: 0.0670\n",
      "======================================================================================================================================================\n",
      "Iteration 2:\n",
      "------------------------------------------------------------------------------------------------------------------------------------------------------\n",
      "Results from best models:\n",
      "Best Model 1 included: ['MedInc', 'HouseAge', 'AveRooms', 'AveBedrms', 'Population', 'Latitude', 'Longitude', ['HouseEval_nice', 'HouseEval_not_nice']]. RMSE: 0.7240\n",
      "Best Model 2 included: ['HouseAge', 'AveRooms', 'AveBedrms', 'Population', 'Latitude', 'Longitude', ['HouseEval_nice', 'HouseEval_not_nice'], ['WallColors_gray', 'WallColors_white']]. RMSE: 0.6780\n",
      "Agreeability Coefficient (pearson) between best models: 0.7337328639540336\n",
      "------------------------------------------------------------------------------------------------------------------------------------------------------\n",
      "Results from all models:\n",
      "M1 mean score: 0.7595. Standard deviation: 0.0548\n",
      "M1 mean score: 0.7402. Standard deviation: 0.0953\n",
      "Mean agreeability coefficient (pearson): 0.7290. Standard deviation: 0.0718\n",
      "======================================================================================================================================================\n",
      "Iteration 3:\n",
      "------------------------------------------------------------------------------------------------------------------------------------------------------\n",
      "Results from best models:\n",
      "Best Model 1 included: ['MedInc', 'HouseAge', 'AveRooms', 'AveBedrms', 'Latitude', 'Longitude', ['HouseEval_nice', 'HouseEval_not_nice']]. RMSE: 0.7240\n",
      "Best Model 2 included: ['HouseAge', 'AveRooms', 'Population', 'Latitude', 'Longitude', ['HouseEval_nice', 'HouseEval_not_nice'], ['WallColors_gray', 'WallColors_white']]. RMSE: 0.6580\n",
      "Agreeability Coefficient (pearson) between best models: 0.7204520105966682\n",
      "------------------------------------------------------------------------------------------------------------------------------------------------------\n",
      "Results from all models:\n",
      "M1 mean score: 0.7639. Standard deviation: 0.0566\n",
      "M1 mean score: 0.7973. Standard deviation: 0.1940\n",
      "Mean agreeability coefficient (pearson): 0.6525. Standard deviation: 0.1037\n",
      "======================================================================================================================================================\n",
      "Iteration 4:\n",
      "------------------------------------------------------------------------------------------------------------------------------------------------------\n",
      "Results from best models:\n",
      "Best Model 1 included: ['MedInc', 'HouseAge', 'AveRooms', 'AveBedrms', 'Latitude', 'Longitude']. RMSE: 0.7243\n",
      "Best Model 2 included: ['HouseAge', 'AveRooms', 'Population', 'Latitude', 'Longitude', ['HouseEval_nice', 'HouseEval_not_nice']]. RMSE: 0.6521\n",
      "Agreeability Coefficient (pearson) between best models: 0.722448359469043\n",
      "------------------------------------------------------------------------------------------------------------------------------------------------------\n",
      "Results from all models:\n",
      "M1 mean score: 0.7698. Standard deviation: 0.0583\n",
      "M1 mean score: 0.8151. Standard deviation: 0.2220\n",
      "Mean agreeability coefficient (pearson): 0.6274. Standard deviation: 0.1207\n",
      "======================================================================================================================================================\n",
      "Iteration 5:\n",
      "------------------------------------------------------------------------------------------------------------------------------------------------------\n",
      "Results from best models:\n",
      "Best Model 1 included: ['MedInc', 'HouseAge', 'AveBedrms', 'Latitude', 'Longitude']. RMSE: 0.7299\n",
      "Best Model 2 included: ['HouseAge', 'AveRooms', 'Latitude', 'Longitude', ['HouseEval_nice', 'HouseEval_not_nice']]. RMSE: 0.6504\n",
      "Agreeability Coefficient (pearson) between best models: 0.7302530305256901\n",
      "------------------------------------------------------------------------------------------------------------------------------------------------------\n",
      "Results from all models:\n",
      "M1 mean score: 0.7777. Standard deviation: 0.0597\n",
      "M1 mean score: 0.8382. Standard deviation: 0.2312\n",
      "Mean agreeability coefficient (pearson): 0.6134. Standard deviation: 0.1237\n",
      "======================================================================================================================================================\n",
      "Iteration 6:\n",
      "------------------------------------------------------------------------------------------------------------------------------------------------------\n",
      "Results from best models:\n",
      "Best Model 1 included: ['MedInc', 'HouseAge', 'Latitude', 'Longitude']. RMSE: 0.7340\n",
      "Best Model 2 included: ['HouseAge', 'AveRooms', 'Latitude', 'Longitude']. RMSE: 0.6520\n",
      "Agreeability Coefficient (pearson) between best models: 0.7247508744439151\n",
      "------------------------------------------------------------------------------------------------------------------------------------------------------\n",
      "Results from all models:\n",
      "M1 mean score: 0.8222. Standard deviation: 0.1052\n",
      "M1 mean score: 0.8590. Standard deviation: 0.2309\n",
      "Mean agreeability coefficient (pearson): 0.5636. Standard deviation: 0.1705\n",
      "======================================================================================================================================================\n",
      "Iteration 7:\n",
      "------------------------------------------------------------------------------------------------------------------------------------------------------\n",
      "Results from best models:\n",
      "Best Model 1 included: ['MedInc', 'Latitude', 'Longitude']. RMSE: 0.7420\n",
      "Best Model 2 included: ['AveRooms', 'Latitude', 'Longitude']. RMSE: 0.6393\n",
      "Agreeability Coefficient (pearson) between best models: 0.7235383838838974\n",
      "------------------------------------------------------------------------------------------------------------------------------------------------------\n",
      "Results from all models:\n",
      "M1 mean score: 0.8456. Standard deviation: 0.1065\n",
      "M1 mean score: 0.8971. Standard deviation: 0.2350\n",
      "Mean agreeability coefficient (pearson): 0.5246. Standard deviation: 0.1725\n",
      "======================================================================================================================================================\n",
      "Iteration 8:\n",
      "------------------------------------------------------------------------------------------------------------------------------------------------------\n",
      "Results from best models:\n",
      "Best Model 1 included: ['MedInc', 'Latitude']. RMSE: 0.8302\n",
      "Best Model 2 included: ['Latitude', 'Longitude']. RMSE: 0.6312\n",
      "Agreeability Coefficient (pearson) between best models: 0.5980722661863032\n",
      "------------------------------------------------------------------------------------------------------------------------------------------------------\n",
      "Results from all models:\n",
      "M1 mean score: 0.8977. Standard deviation: 0.0893\n",
      "M1 mean score: 1.0179. Standard deviation: 0.2774\n",
      "Mean agreeability coefficient (pearson): 0.4415. Standard deviation: 0.1487\n",
      "======================================================================================================================================================\n",
      "Iteration 9:\n",
      "------------------------------------------------------------------------------------------------------------------------------------------------------\n",
      "Results from best models:\n",
      "Best Model 1 included: ['MedInc']. RMSE: 0.8391\n",
      "Best Model 2 included: ['Longitude']. RMSE: 1.0059\n",
      "Agreeability Coefficient (pearson) between best models: 0.3262706343168213\n",
      "------------------------------------------------------------------------------------------------------------------------------------------------------\n",
      "Results from all models:\n",
      "M1 mean score: 1.0013. Standard deviation: 0.1622\n",
      "M1 mean score: 1.0256. Standard deviation: 0.0197\n",
      "Mean agreeability coefficient (pearson): 0.3075. Standard deviation: 0.0188\n",
      "======================================================================================================================================================\n"
     ]
    }
   ],
   "source": [
    "results = seeker.compare_all_models(\n",
    "    m1=m1,\n",
    "    m2=m2\n",
    ")"
   ]
  },
  {
   "cell_type": "code",
   "execution_count": 145,
   "metadata": {},
   "outputs": [
    {
     "name": "stdout",
     "output_type": "stream",
     "text": [
      "{'Best: M1 Included Features': ['MedInc', 'HouseAge', 'AveRooms', 'AveBedrms', 'Population', 'AveOccup', 'Latitude', 'Longitude', 'HouseEval_nice', 'HouseEval_not_nice', 'WallColors_gray', 'WallColors_white'], 'Best: M1 rmse': 0.7311818094816698, 'Best: M2 Included Features': ['MedInc', 'HouseAge', 'AveRooms', 'AveBedrms', 'Population', 'AveOccup', 'Latitude', 'Longitude', 'HouseEval_nice', 'HouseEval_not_nice', 'WallColors_gray', 'WallColors_white'], 'Best: M2 rmse': 0.7198003255099564, 'Best: Agreeability (pearson)': 0.7650956459381608, 'All: M1 Mean rmse': 0.7311818094816698, 'All: M1 STD rmse': 0, 'All: M2 Mean rmse': 0.7198003255099564, 'All: M2 STD rmse': 0, 'All: Mean Agreeability (pearson)': 0.7650956459381608, 'All: Agreeability St. Dev.': 0}\n",
      "{'Best: M1 Included Features': ['MedInc', 'HouseAge', 'AveRooms', 'AveBedrms', 'Population', 'Latitude', 'Longitude', 'HouseEval_nice', 'HouseEval_not_nice', 'WallColors_gray', 'WallColors_white'], 'Best: M1 rmse': 0.7240502408441594, 'Best: M2 Included Features': ['MedInc', 'HouseAge', 'AveRooms', 'AveBedrms', 'Population', 'Latitude', 'Longitude', 'HouseEval_nice', 'HouseEval_not_nice', 'WallColors_gray', 'WallColors_white'], 'Best: M2 rmse': 0.682069190822872, 'Best: Agreeability (pearson)': 0.7746023391695528, 'All: M1 Mean rmse': 0.7641876117926429, 'All: M1 STD rmse': 0.05500360362651229, 'All: M2 Mean rmse': 0.7394559375961208, 'All: M2 STD rmse': 0.05058529594693522, 'All: Mean Agreeability (pearson)': 0.7253063632900258, 'All: Agreeability St. Dev.': 0.0670053810582184}\n",
      "{'Best: M1 Included Features': ['MedInc', 'HouseAge', 'AveRooms', 'AveBedrms', 'Population', 'Latitude', 'Longitude', 'HouseEval_nice', 'HouseEval_not_nice'], 'Best: M1 rmse': 0.7240477007207936, 'Best: M2 Included Features': ['HouseAge', 'AveRooms', 'AveBedrms', 'Population', 'Latitude', 'Longitude', 'HouseEval_nice', 'HouseEval_not_nice', 'WallColors_gray', 'WallColors_white'], 'Best: M2 rmse': 0.6779517551997455, 'Best: Agreeability (pearson)': 0.7337328639540336, 'All: M1 Mean rmse': 0.7595201988007415, 'All: M1 STD rmse': 0.05483055357721568, 'All: M2 Mean rmse': 0.7401925089272056, 'All: M2 STD rmse': 0.09529259246343007, 'All: Mean Agreeability (pearson)': 0.7289794709825199, 'All: Agreeability St. Dev.': 0.07183605842646229}\n",
      "{'Best: M1 Included Features': ['MedInc', 'HouseAge', 'AveRooms', 'AveBedrms', 'Latitude', 'Longitude', 'HouseEval_nice', 'HouseEval_not_nice'], 'Best: M1 rmse': 0.7240488594750116, 'Best: M2 Included Features': ['HouseAge', 'AveRooms', 'Population', 'Latitude', 'Longitude', 'HouseEval_nice', 'HouseEval_not_nice', 'WallColors_gray', 'WallColors_white'], 'Best: M2 rmse': 0.6579845411226032, 'Best: Agreeability (pearson)': 0.7204520105966682, 'All: M1 Mean rmse': 0.7639428198950241, 'All: M1 STD rmse': 0.056619130199254554, 'All: M2 Mean rmse': 0.7973288520345875, 'All: M2 STD rmse': 0.19398186356017416, 'All: Mean Agreeability (pearson)': 0.652500854491951, 'All: Agreeability St. Dev.': 0.10367268183142862}\n",
      "{'Best: M1 Included Features': ['MedInc', 'HouseAge', 'AveRooms', 'AveBedrms', 'Latitude', 'Longitude'], 'Best: M1 rmse': 0.7243206659201569, 'Best: M2 Included Features': ['HouseAge', 'AveRooms', 'Population', 'Latitude', 'Longitude', 'HouseEval_nice', 'HouseEval_not_nice'], 'Best: M2 rmse': 0.652074134106663, 'Best: Agreeability (pearson)': 0.722448359469043, 'All: M1 Mean rmse': 0.7698453858470712, 'All: M1 STD rmse': 0.05829640780859462, 'All: M2 Mean rmse': 0.815148584460354, 'All: M2 STD rmse': 0.22200651690234433, 'All: Mean Agreeability (pearson)': 0.62736115333053, 'All: Agreeability St. Dev.': 0.12069587280290404}\n",
      "{'Best: M1 Included Features': ['MedInc', 'HouseAge', 'AveBedrms', 'Latitude', 'Longitude'], 'Best: M1 rmse': 0.7299080678582273, 'Best: M2 Included Features': ['HouseAge', 'AveRooms', 'Latitude', 'Longitude', 'HouseEval_nice', 'HouseEval_not_nice'], 'Best: M2 rmse': 0.6503889533979705, 'Best: Agreeability (pearson)': 0.7302530305256901, 'All: M1 Mean rmse': 0.7777087075258885, 'All: M1 STD rmse': 0.059709560831612926, 'All: M2 Mean rmse': 0.838224681779382, 'All: M2 STD rmse': 0.23115764051462637, 'All: Mean Agreeability (pearson)': 0.6134022515204501, 'All: Agreeability St. Dev.': 0.12371869992954009}\n",
      "{'Best: M1 Included Features': ['MedInc', 'HouseAge', 'Latitude', 'Longitude'], 'Best: M1 rmse': 0.7340250301119083, 'Best: M2 Included Features': ['HouseAge', 'AveRooms', 'Latitude', 'Longitude'], 'Best: M2 rmse': 0.6519741062662989, 'Best: Agreeability (pearson)': 0.7247508744439151, 'All: M1 Mean rmse': 0.8222171594334977, 'All: M1 STD rmse': 0.10522388597581891, 'All: M2 Mean rmse': 0.8589770931785949, 'All: M2 STD rmse': 0.23092323726682587, 'All: Mean Agreeability (pearson)': 0.5636256835708936, 'All: Agreeability St. Dev.': 0.17049850566469024}\n",
      "{'Best: M1 Included Features': ['MedInc', 'Latitude', 'Longitude'], 'Best: M1 rmse': 0.7419579345892257, 'Best: M2 Included Features': ['AveRooms', 'Latitude', 'Longitude'], 'Best: M2 rmse': 0.6393050802616673, 'Best: Agreeability (pearson)': 0.7235383838838974, 'All: M1 Mean rmse': 0.8455973116246125, 'All: M1 STD rmse': 0.10652176290655452, 'All: M2 Mean rmse': 0.8970791467904702, 'All: M2 STD rmse': 0.23502259671798753, 'All: Mean Agreeability (pearson)': 0.5245869013947445, 'All: Agreeability St. Dev.': 0.1725214662801143}\n",
      "{'Best: M1 Included Features': ['MedInc', 'Latitude'], 'Best: M1 rmse': 0.8301873925326823, 'Best: M2 Included Features': ['Latitude', 'Longitude'], 'Best: M2 rmse': 0.6312279759802373, 'Best: Agreeability (pearson)': 0.5980722661863032, 'All: M1 Mean rmse': 0.8977439834292477, 'All: M1 STD rmse': 0.08931202533046595, 'All: M2 Mean rmse': 1.0179057991145517, 'All: M2 STD rmse': 0.27739348244506157, 'All: Mean Agreeability (pearson)': 0.44148954705976884, 'All: Agreeability St. Dev.': 0.14870083135852777}\n",
      "{'Best: M1 Included Features': ['MedInc'], 'Best: M1 rmse': 0.8390728208993037, 'Best: M2 Included Features': ['Longitude'], 'Best: M2 rmse': 1.0058695484342364, 'Best: Agreeability (pearson)': 0.3262706343168213, 'All: M1 Mean rmse': 1.0013004853773162, 'All: M1 STD rmse': 0.16222766447801262, 'All: M2 Mean rmse': 1.0255794069079167, 'All: M2 STD rmse': 0.01970985847368034, 'All: Mean Agreeability (pearson)': 0.30745749491435304, 'All: Agreeability St. Dev.': 0.018813139402468232}\n"
     ]
    }
   ],
   "source": [
    "for result in results:\n",
    "    print(result)"
   ]
  },
  {
   "cell_type": "markdown",
   "metadata": {},
   "source": [
    "### INPROGRESS SECTION"
   ]
  },
  {
   "cell_type": "code",
   "execution_count": 146,
   "metadata": {},
   "outputs": [],
   "source": [
    "# scores and preds now callable\n",
    "all_m1 = seeker.scores_n_preds_m1\n",
    "all_m2 = seeker.scores_n_preds_m2\n"
   ]
  },
  {
   "cell_type": "code",
   "execution_count": 160,
   "metadata": {},
   "outputs": [
    {
     "name": "stdout",
     "output_type": "stream",
     "text": [
      "0.7240502408441594\n",
      "[2.45287863 1.12014776 2.44103847 ... 3.27266263 2.21264488 2.61508088]\n"
     ]
    }
   ],
   "source": [
    "# Best score from first iter\n",
    "print(all_m1[0][0][0])\n",
    "# Best (corresponding) preds from first iter\n",
    "print(all_m1[0][1][0])"
   ]
  },
  {
   "cell_type": "code",
   "execution_count": 161,
   "metadata": {},
   "outputs": [],
   "source": [
    "from scipy import stats"
   ]
  },
  {
   "cell_type": "code",
   "execution_count": 175,
   "metadata": {},
   "outputs": [],
   "source": [
    "best_preds_iter_1 = all_m1[0][1][0]\n",
    "best_preds_iter_2 = all_m1[1][1][0]\n",
    "best_preds_iter_5 = all_m1[4][1][0]"
   ]
  },
  {
   "cell_type": "markdown",
   "metadata": {},
   "source": [
    "Comparing first best model with second best - LINREG"
   ]
  },
  {
   "cell_type": "code",
   "execution_count": 177,
   "metadata": {},
   "outputs": [
    {
     "name": "stdout",
     "output_type": "stream",
     "text": [
      "Results t-test:\n",
      "Test statistic: -0.0034260032284453134\n",
      "P-value: 0.997266533060361\n"
     ]
    }
   ],
   "source": [
    "# Simple pipeline for doing a paired t test and determining equal variance\n",
    "# I will use levene test here \n",
    "\n",
    "levene_results = stats.levene(best_preds_iter_1, best_preds_iter_2)\n",
    "\n",
    "# Levene test H0 is that variances are equal\n",
    "# if cannot be rejected (pvalue > 0.05)\n",
    "# go for normal t-test\n",
    "if levene_results.pvalue > 0.05:\n",
    "    t_test = stats.ttest_ind(best_preds_iter_1, best_preds_iter_2, equal_var=True)\n",
    "    print(\n",
    "        f'Results t-test:\\n'\n",
    "        f'Test statistic: {t_test[0]}\\n'\n",
    "        f'P-value: {t_test[1]}'\n",
    "    )\n",
    "else:\n",
    "    # else use welch t test\n",
    "    welch_t_test = stats.ttest_ind(best_preds_iter_1, best_preds_iter_2, equal_var=False)\n",
    "    print(\n",
    "        f'Results Welch\\'s t-test:\\n'\n",
    "        f'Test statistic: {welch_t_test[0]}\\n'\n",
    "        f'P-value: {welch_t_test[1]}'\n",
    "    )"
   ]
  },
  {
   "cell_type": "markdown",
   "metadata": {},
   "source": [
    "Comparing first best model with fifth best - LINREG"
   ]
  },
  {
   "cell_type": "code",
   "execution_count": 181,
   "metadata": {},
   "outputs": [
    {
     "name": "stdout",
     "output_type": "stream",
     "text": [
      "Results t-test:\n",
      "Test statistic: 0.028315486960823682\n",
      "P-value: 0.9774112132969359\n"
     ]
    }
   ],
   "source": [
    "# Simple pipeline for doing a paired t test and determining equal variance\n",
    "# I will use levene test here \n",
    "\n",
    "levene_results = stats.levene(best_preds_iter_1, best_preds_iter_2)\n",
    "\n",
    "# Levene test H0 is that variances are equal\n",
    "# if cannot be rejected (pvalue > 0.05)\n",
    "# go for normal t-test\n",
    "if levene_results.pvalue > 0.05:\n",
    "    t_test = stats.ttest_ind(best_preds_iter_1, best_preds_iter_5, equal_var=True)\n",
    "    print(\n",
    "        f'Results t-test:\\n'\n",
    "        f'Test statistic: {t_test[0]}\\n'\n",
    "        f'P-value: {t_test[1]}'\n",
    "    )\n",
    "else:\n",
    "    # else use welch t test\n",
    "    welch_t_test = stats.ttest_ind(best_preds_iter_1, best_preds_iter_5, equal_var=False)\n",
    "    print(\n",
    "        f'Results Welch\\'s t-test:\\n'\n",
    "        f'Test statistic: {welch_t_test[0]}\\n'\n",
    "        f'P-value: {welch_t_test[1]}'\n",
    "    )"
   ]
  },
  {
   "cell_type": "markdown",
   "metadata": {},
   "source": [
    "Comparing first best model with second best - TREE"
   ]
  },
  {
   "cell_type": "code",
   "execution_count": 182,
   "metadata": {},
   "outputs": [],
   "source": [
    "best_preds_iter_1 = all_m2[0][1][0]\n",
    "best_preds_iter_2 = all_m2[1][1][0]\n",
    "best_preds_iter_5 = all_m2[4][1][0]"
   ]
  },
  {
   "cell_type": "code",
   "execution_count": 183,
   "metadata": {},
   "outputs": [
    {
     "name": "stdout",
     "output_type": "stream",
     "text": [
      "Results t-test:\n",
      "Test statistic: -0.020542423181810505\n",
      "P-value: 0.9836111669396426\n"
     ]
    }
   ],
   "source": [
    "# Simple pipeline for doing a paired t test and determining equal variance\n",
    "# I will use levene test here \n",
    "\n",
    "levene_results = stats.levene(best_preds_iter_1, best_preds_iter_2)\n",
    "\n",
    "# Levene test H0 is that variances are equal\n",
    "# if cannot be rejected (pvalue > 0.05)\n",
    "# go for normal t-test\n",
    "if levene_results.pvalue > 0.05:\n",
    "    t_test = stats.ttest_ind(best_preds_iter_1, best_preds_iter_2, equal_var=True)\n",
    "    print(\n",
    "        f'Results t-test:\\n'\n",
    "        f'Test statistic: {t_test[0]}\\n'\n",
    "        f'P-value: {t_test[1]}'\n",
    "    )\n",
    "else:\n",
    "    # else use welch t test\n",
    "    welch_t_test = stats.ttest_ind(best_preds_iter_1, best_preds_iter_2, equal_var=False)\n",
    "    print(\n",
    "        f'Results Welch\\'s t-test:\\n'\n",
    "        f'Test statistic: {welch_t_test[0]}\\n'\n",
    "        f'P-value: {welch_t_test[1]}'\n",
    "    )"
   ]
  },
  {
   "cell_type": "markdown",
   "metadata": {},
   "source": [
    "Comparing first best model with fifth best - LINREG"
   ]
  },
  {
   "cell_type": "code",
   "execution_count": 184,
   "metadata": {},
   "outputs": [
    {
     "name": "stdout",
     "output_type": "stream",
     "text": [
      "Results t-test:\n",
      "Test statistic: 0.3992291190826404\n",
      "P-value: 0.689734717869275\n"
     ]
    }
   ],
   "source": [
    "# Simple pipeline for doing a paired t test and determining equal variance\n",
    "# I will use levene test here \n",
    "\n",
    "levene_results = stats.levene(best_preds_iter_1, best_preds_iter_2)\n",
    "\n",
    "# Levene test H0 is that variances are equal\n",
    "# if cannot be rejected (pvalue > 0.05)\n",
    "# go for normal t-test\n",
    "if levene_results.pvalue > 0.05:\n",
    "    t_test = stats.ttest_ind(best_preds_iter_1, best_preds_iter_5, equal_var=True)\n",
    "    print(\n",
    "        f'Results t-test:\\n'\n",
    "        f'Test statistic: {t_test[0]}\\n'\n",
    "        f'P-value: {t_test[1]}'\n",
    "    )\n",
    "else:\n",
    "    # else use welch t test\n",
    "    welch_t_test = stats.ttest_ind(best_preds_iter_1, best_preds_iter_5, equal_var=False)\n",
    "    print(\n",
    "        f'Results Welch\\'s t-test:\\n'\n",
    "        f'Test statistic: {welch_t_test[0]}\\n'\n",
    "        f'P-value: {welch_t_test[1]}'\n",
    "    )"
   ]
  },
  {
   "cell_type": "markdown",
   "metadata": {},
   "source": [
    "Tree less robust nice"
   ]
  },
  {
   "cell_type": "markdown",
   "metadata": {},
   "source": [
    "### INPROGRESS SECTION END"
   ]
  },
  {
   "cell_type": "code",
   "execution_count": 185,
   "metadata": {},
   "outputs": [],
   "source": [
    "pd.set_option('display.max_colwidth', None)"
   ]
  },
  {
   "cell_type": "code",
   "execution_count": 186,
   "metadata": {},
   "outputs": [],
   "source": [
    "results_df = seeker.dataframe_from_results()"
   ]
  },
  {
   "cell_type": "code",
   "execution_count": 187,
   "metadata": {},
   "outputs": [
    {
     "data": {
      "text/html": [
       "<div>\n",
       "<style scoped>\n",
       "    .dataframe tbody tr th:only-of-type {\n",
       "        vertical-align: middle;\n",
       "    }\n",
       "\n",
       "    .dataframe tbody tr th {\n",
       "        vertical-align: top;\n",
       "    }\n",
       "\n",
       "    .dataframe thead th {\n",
       "        text-align: right;\n",
       "    }\n",
       "</style>\n",
       "<table border=\"1\" class=\"dataframe\">\n",
       "  <thead>\n",
       "    <tr style=\"text-align: right;\">\n",
       "      <th></th>\n",
       "      <th>Best: M1 Included Features</th>\n",
       "      <th>Best: M1 rmse</th>\n",
       "      <th>Best: M2 Included Features</th>\n",
       "      <th>Best: M2 rmse</th>\n",
       "      <th>Best: Agreeability (pearson)</th>\n",
       "      <th>All: M1 Mean rmse</th>\n",
       "      <th>All: M1 STD rmse</th>\n",
       "      <th>All: M2 Mean rmse</th>\n",
       "      <th>All: M2 STD rmse</th>\n",
       "      <th>All: Mean Agreeability (pearson)</th>\n",
       "      <th>All: Agreeability St. Dev.</th>\n",
       "    </tr>\n",
       "  </thead>\n",
       "  <tbody>\n",
       "    <tr>\n",
       "      <th>0</th>\n",
       "      <td>[MedInc, HouseAge, AveRooms, AveBedrms, Population, AveOccup, Latitude, Longitude, HouseEval_nice, HouseEval_not_nice, WallColors_gray, WallColors_white]</td>\n",
       "      <td>0.731182</td>\n",
       "      <td>[MedInc, HouseAge, AveRooms, AveBedrms, Population, AveOccup, Latitude, Longitude, HouseEval_nice, HouseEval_not_nice, WallColors_gray, WallColors_white]</td>\n",
       "      <td>0.719800</td>\n",
       "      <td>0.765096</td>\n",
       "      <td>0.731182</td>\n",
       "      <td>0.000000</td>\n",
       "      <td>0.719800</td>\n",
       "      <td>0.000000</td>\n",
       "      <td>0.765096</td>\n",
       "      <td>0.000000</td>\n",
       "    </tr>\n",
       "    <tr>\n",
       "      <th>1</th>\n",
       "      <td>[MedInc, HouseAge, AveRooms, AveBedrms, Population, Latitude, Longitude, HouseEval_nice, HouseEval_not_nice, WallColors_gray, WallColors_white]</td>\n",
       "      <td>0.724050</td>\n",
       "      <td>[MedInc, HouseAge, AveRooms, AveBedrms, Population, Latitude, Longitude, HouseEval_nice, HouseEval_not_nice, WallColors_gray, WallColors_white]</td>\n",
       "      <td>0.682069</td>\n",
       "      <td>0.774602</td>\n",
       "      <td>0.764188</td>\n",
       "      <td>0.055004</td>\n",
       "      <td>0.739456</td>\n",
       "      <td>0.050585</td>\n",
       "      <td>0.725306</td>\n",
       "      <td>0.067005</td>\n",
       "    </tr>\n",
       "    <tr>\n",
       "      <th>2</th>\n",
       "      <td>[MedInc, HouseAge, AveRooms, AveBedrms, Population, Latitude, Longitude, HouseEval_nice, HouseEval_not_nice]</td>\n",
       "      <td>0.724048</td>\n",
       "      <td>[HouseAge, AveRooms, AveBedrms, Population, Latitude, Longitude, HouseEval_nice, HouseEval_not_nice, WallColors_gray, WallColors_white]</td>\n",
       "      <td>0.677952</td>\n",
       "      <td>0.733733</td>\n",
       "      <td>0.759520</td>\n",
       "      <td>0.054831</td>\n",
       "      <td>0.740193</td>\n",
       "      <td>0.095293</td>\n",
       "      <td>0.728979</td>\n",
       "      <td>0.071836</td>\n",
       "    </tr>\n",
       "    <tr>\n",
       "      <th>3</th>\n",
       "      <td>[MedInc, HouseAge, AveRooms, AveBedrms, Latitude, Longitude, HouseEval_nice, HouseEval_not_nice]</td>\n",
       "      <td>0.724049</td>\n",
       "      <td>[HouseAge, AveRooms, Population, Latitude, Longitude, HouseEval_nice, HouseEval_not_nice, WallColors_gray, WallColors_white]</td>\n",
       "      <td>0.657985</td>\n",
       "      <td>0.720452</td>\n",
       "      <td>0.763943</td>\n",
       "      <td>0.056619</td>\n",
       "      <td>0.797329</td>\n",
       "      <td>0.193982</td>\n",
       "      <td>0.652501</td>\n",
       "      <td>0.103673</td>\n",
       "    </tr>\n",
       "    <tr>\n",
       "      <th>4</th>\n",
       "      <td>[MedInc, HouseAge, AveRooms, AveBedrms, Latitude, Longitude]</td>\n",
       "      <td>0.724321</td>\n",
       "      <td>[HouseAge, AveRooms, Population, Latitude, Longitude, HouseEval_nice, HouseEval_not_nice]</td>\n",
       "      <td>0.652074</td>\n",
       "      <td>0.722448</td>\n",
       "      <td>0.769845</td>\n",
       "      <td>0.058296</td>\n",
       "      <td>0.815149</td>\n",
       "      <td>0.222007</td>\n",
       "      <td>0.627361</td>\n",
       "      <td>0.120696</td>\n",
       "    </tr>\n",
       "    <tr>\n",
       "      <th>5</th>\n",
       "      <td>[MedInc, HouseAge, AveBedrms, Latitude, Longitude]</td>\n",
       "      <td>0.729908</td>\n",
       "      <td>[HouseAge, AveRooms, Latitude, Longitude, HouseEval_nice, HouseEval_not_nice]</td>\n",
       "      <td>0.650389</td>\n",
       "      <td>0.730253</td>\n",
       "      <td>0.777709</td>\n",
       "      <td>0.059710</td>\n",
       "      <td>0.838225</td>\n",
       "      <td>0.231158</td>\n",
       "      <td>0.613402</td>\n",
       "      <td>0.123719</td>\n",
       "    </tr>\n",
       "    <tr>\n",
       "      <th>6</th>\n",
       "      <td>[MedInc, HouseAge, Latitude, Longitude]</td>\n",
       "      <td>0.734025</td>\n",
       "      <td>[HouseAge, AveRooms, Latitude, Longitude]</td>\n",
       "      <td>0.651974</td>\n",
       "      <td>0.724751</td>\n",
       "      <td>0.822217</td>\n",
       "      <td>0.105224</td>\n",
       "      <td>0.858977</td>\n",
       "      <td>0.230923</td>\n",
       "      <td>0.563626</td>\n",
       "      <td>0.170499</td>\n",
       "    </tr>\n",
       "    <tr>\n",
       "      <th>7</th>\n",
       "      <td>[MedInc, Latitude, Longitude]</td>\n",
       "      <td>0.741958</td>\n",
       "      <td>[AveRooms, Latitude, Longitude]</td>\n",
       "      <td>0.639305</td>\n",
       "      <td>0.723538</td>\n",
       "      <td>0.845597</td>\n",
       "      <td>0.106522</td>\n",
       "      <td>0.897079</td>\n",
       "      <td>0.235023</td>\n",
       "      <td>0.524587</td>\n",
       "      <td>0.172521</td>\n",
       "    </tr>\n",
       "    <tr>\n",
       "      <th>8</th>\n",
       "      <td>[MedInc, Latitude]</td>\n",
       "      <td>0.830187</td>\n",
       "      <td>[Latitude, Longitude]</td>\n",
       "      <td>0.631228</td>\n",
       "      <td>0.598072</td>\n",
       "      <td>0.897744</td>\n",
       "      <td>0.089312</td>\n",
       "      <td>1.017906</td>\n",
       "      <td>0.277393</td>\n",
       "      <td>0.441490</td>\n",
       "      <td>0.148701</td>\n",
       "    </tr>\n",
       "    <tr>\n",
       "      <th>9</th>\n",
       "      <td>[MedInc]</td>\n",
       "      <td>0.839073</td>\n",
       "      <td>[Longitude]</td>\n",
       "      <td>1.005870</td>\n",
       "      <td>0.326271</td>\n",
       "      <td>1.001300</td>\n",
       "      <td>0.162228</td>\n",
       "      <td>1.025579</td>\n",
       "      <td>0.019710</td>\n",
       "      <td>0.307457</td>\n",
       "      <td>0.018813</td>\n",
       "    </tr>\n",
       "  </tbody>\n",
       "</table>\n",
       "</div>"
      ],
      "text/plain": [
       "                                                                                                                                  Best: M1 Included Features  \\\n",
       "0  [MedInc, HouseAge, AveRooms, AveBedrms, Population, AveOccup, Latitude, Longitude, HouseEval_nice, HouseEval_not_nice, WallColors_gray, WallColors_white]   \n",
       "1            [MedInc, HouseAge, AveRooms, AveBedrms, Population, Latitude, Longitude, HouseEval_nice, HouseEval_not_nice, WallColors_gray, WallColors_white]   \n",
       "2                                               [MedInc, HouseAge, AveRooms, AveBedrms, Population, Latitude, Longitude, HouseEval_nice, HouseEval_not_nice]   \n",
       "3                                                           [MedInc, HouseAge, AveRooms, AveBedrms, Latitude, Longitude, HouseEval_nice, HouseEval_not_nice]   \n",
       "4                                                                                               [MedInc, HouseAge, AveRooms, AveBedrms, Latitude, Longitude]   \n",
       "5                                                                                                         [MedInc, HouseAge, AveBedrms, Latitude, Longitude]   \n",
       "6                                                                                                                    [MedInc, HouseAge, Latitude, Longitude]   \n",
       "7                                                                                                                              [MedInc, Latitude, Longitude]   \n",
       "8                                                                                                                                         [MedInc, Latitude]   \n",
       "9                                                                                                                                                   [MedInc]   \n",
       "\n",
       "   Best: M1 rmse  \\\n",
       "0       0.731182   \n",
       "1       0.724050   \n",
       "2       0.724048   \n",
       "3       0.724049   \n",
       "4       0.724321   \n",
       "5       0.729908   \n",
       "6       0.734025   \n",
       "7       0.741958   \n",
       "8       0.830187   \n",
       "9       0.839073   \n",
       "\n",
       "                                                                                                                                  Best: M2 Included Features  \\\n",
       "0  [MedInc, HouseAge, AveRooms, AveBedrms, Population, AveOccup, Latitude, Longitude, HouseEval_nice, HouseEval_not_nice, WallColors_gray, WallColors_white]   \n",
       "1            [MedInc, HouseAge, AveRooms, AveBedrms, Population, Latitude, Longitude, HouseEval_nice, HouseEval_not_nice, WallColors_gray, WallColors_white]   \n",
       "2                    [HouseAge, AveRooms, AveBedrms, Population, Latitude, Longitude, HouseEval_nice, HouseEval_not_nice, WallColors_gray, WallColors_white]   \n",
       "3                               [HouseAge, AveRooms, Population, Latitude, Longitude, HouseEval_nice, HouseEval_not_nice, WallColors_gray, WallColors_white]   \n",
       "4                                                                  [HouseAge, AveRooms, Population, Latitude, Longitude, HouseEval_nice, HouseEval_not_nice]   \n",
       "5                                                                              [HouseAge, AveRooms, Latitude, Longitude, HouseEval_nice, HouseEval_not_nice]   \n",
       "6                                                                                                                  [HouseAge, AveRooms, Latitude, Longitude]   \n",
       "7                                                                                                                            [AveRooms, Latitude, Longitude]   \n",
       "8                                                                                                                                      [Latitude, Longitude]   \n",
       "9                                                                                                                                                [Longitude]   \n",
       "\n",
       "   Best: M2 rmse  Best: Agreeability (pearson)  All: M1 Mean rmse  \\\n",
       "0       0.719800                      0.765096           0.731182   \n",
       "1       0.682069                      0.774602           0.764188   \n",
       "2       0.677952                      0.733733           0.759520   \n",
       "3       0.657985                      0.720452           0.763943   \n",
       "4       0.652074                      0.722448           0.769845   \n",
       "5       0.650389                      0.730253           0.777709   \n",
       "6       0.651974                      0.724751           0.822217   \n",
       "7       0.639305                      0.723538           0.845597   \n",
       "8       0.631228                      0.598072           0.897744   \n",
       "9       1.005870                      0.326271           1.001300   \n",
       "\n",
       "   All: M1 STD rmse  All: M2 Mean rmse  All: M2 STD rmse  \\\n",
       "0          0.000000           0.719800          0.000000   \n",
       "1          0.055004           0.739456          0.050585   \n",
       "2          0.054831           0.740193          0.095293   \n",
       "3          0.056619           0.797329          0.193982   \n",
       "4          0.058296           0.815149          0.222007   \n",
       "5          0.059710           0.838225          0.231158   \n",
       "6          0.105224           0.858977          0.230923   \n",
       "7          0.106522           0.897079          0.235023   \n",
       "8          0.089312           1.017906          0.277393   \n",
       "9          0.162228           1.025579          0.019710   \n",
       "\n",
       "   All: Mean Agreeability (pearson)  All: Agreeability St. Dev.  \n",
       "0                          0.765096                    0.000000  \n",
       "1                          0.725306                    0.067005  \n",
       "2                          0.728979                    0.071836  \n",
       "3                          0.652501                    0.103673  \n",
       "4                          0.627361                    0.120696  \n",
       "5                          0.613402                    0.123719  \n",
       "6                          0.563626                    0.170499  \n",
       "7                          0.524587                    0.172521  \n",
       "8                          0.441490                    0.148701  \n",
       "9                          0.307457                    0.018813  "
      ]
     },
     "execution_count": 187,
     "metadata": {},
     "output_type": "execute_result"
    }
   ],
   "source": [
    "results_df"
   ]
  },
  {
   "cell_type": "code",
   "execution_count": 188,
   "metadata": {},
   "outputs": [
    {
     "data": {
      "application/vnd.plotly.v1+json": {
       "config": {
        "plotlyServerURL": "https://plot.ly"
       },
       "data": [
        {
         "hoverinfo": "text",
         "hovertext": [
          "<br> Best: Agreeability (pearson): <br> 0.7651 <br> All: Mean Agreeability (pearson): <br> 0.7651 <br> All: Agreeability St. Dev.: <br> 0.0000",
          "<br> Best: Agreeability (pearson): <br> 0.7746 <br> All: Mean Agreeability (pearson): <br> 0.7253 <br> All: Agreeability St. Dev.: <br> 0.0670",
          "<br> Best: Agreeability (pearson): <br> 0.7337 <br> All: Mean Agreeability (pearson): <br> 0.7290 <br> All: Agreeability St. Dev.: <br> 0.0718",
          "<br> Best: Agreeability (pearson): <br> 0.7205 <br> All: Mean Agreeability (pearson): <br> 0.6525 <br> All: Agreeability St. Dev.: <br> 0.1037",
          "<br> Best: Agreeability (pearson): <br> 0.7224 <br> All: Mean Agreeability (pearson): <br> 0.6274 <br> All: Agreeability St. Dev.: <br> 0.1207",
          "<br> Best: Agreeability (pearson): <br> 0.7303 <br> All: Mean Agreeability (pearson): <br> 0.6134 <br> All: Agreeability St. Dev.: <br> 0.1237",
          "<br> Best: Agreeability (pearson): <br> 0.7248 <br> All: Mean Agreeability (pearson): <br> 0.5636 <br> All: Agreeability St. Dev.: <br> 0.1705",
          "<br> Best: Agreeability (pearson): <br> 0.7235 <br> All: Mean Agreeability (pearson): <br> 0.5246 <br> All: Agreeability St. Dev.: <br> 0.1725",
          "<br> Best: Agreeability (pearson): <br> 0.5981 <br> All: Mean Agreeability (pearson): <br> 0.4415 <br> All: Agreeability St. Dev.: <br> 0.1487",
          "<br> Best: Agreeability (pearson): <br> 0.3263 <br> All: Mean Agreeability (pearson): <br> 0.3075 <br> All: Agreeability St. Dev.: <br> 0.0188"
         ],
         "mode": "lines+markers",
         "name": "Best: Agreeability (pearson)",
         "type": "scatter",
         "x": [
          1,
          2,
          3,
          4,
          5,
          6,
          7,
          8,
          9,
          10
         ],
         "xaxis": "x",
         "y": [
          0.7650956459381608,
          0.7746023391695528,
          0.7337328639540336,
          0.7204520105966682,
          0.722448359469043,
          0.7302530305256901,
          0.7247508744439151,
          0.7235383838838974,
          0.5980722661863032,
          0.3262706343168213
         ],
         "yaxis": "y"
        },
        {
         "hoverinfo": "text",
         "hovertext": [
          "<br> Best: M1 rmse: <br> 0.7312 <br> Best: M1 Included Features: <br> MedInc, HouseAge, AveRooms, AveBedrms, Population, AveOccup, Latitude, Longitude, HouseEval_nice, HouseEval_not_nice, WallColors_gray, WallColors_white <br> All: M1 Mean rmse: <br> 0.7312 <br> All: M1 STD rmse: <br> 0.0000",
          "<br> Best: M1 rmse: <br> 0.7241 <br> Best: M1 Included Features: <br> MedInc, HouseAge, AveRooms, AveBedrms, Population, Latitude, Longitude, HouseEval_nice, HouseEval_not_nice, WallColors_gray, WallColors_white <br> All: M1 Mean rmse: <br> 0.7642 <br> All: M1 STD rmse: <br> 0.0550",
          "<br> Best: M1 rmse: <br> 0.7240 <br> Best: M1 Included Features: <br> MedInc, HouseAge, AveRooms, AveBedrms, Population, Latitude, Longitude, HouseEval_nice, HouseEval_not_nice <br> All: M1 Mean rmse: <br> 0.7595 <br> All: M1 STD rmse: <br> 0.0548",
          "<br> Best: M1 rmse: <br> 0.7240 <br> Best: M1 Included Features: <br> MedInc, HouseAge, AveRooms, AveBedrms, Latitude, Longitude, HouseEval_nice, HouseEval_not_nice <br> All: M1 Mean rmse: <br> 0.7639 <br> All: M1 STD rmse: <br> 0.0566",
          "<br> Best: M1 rmse: <br> 0.7243 <br> Best: M1 Included Features: <br> MedInc, HouseAge, AveRooms, AveBedrms, Latitude, Longitude <br> All: M1 Mean rmse: <br> 0.7698 <br> All: M1 STD rmse: <br> 0.0583",
          "<br> Best: M1 rmse: <br> 0.7299 <br> Best: M1 Included Features: <br> MedInc, HouseAge, AveBedrms, Latitude, Longitude <br> All: M1 Mean rmse: <br> 0.7777 <br> All: M1 STD rmse: <br> 0.0597",
          "<br> Best: M1 rmse: <br> 0.7340 <br> Best: M1 Included Features: <br> MedInc, HouseAge, Latitude, Longitude <br> All: M1 Mean rmse: <br> 0.8222 <br> All: M1 STD rmse: <br> 0.1052",
          "<br> Best: M1 rmse: <br> 0.7420 <br> Best: M1 Included Features: <br> MedInc, Latitude, Longitude <br> All: M1 Mean rmse: <br> 0.8456 <br> All: M1 STD rmse: <br> 0.1065",
          "<br> Best: M1 rmse: <br> 0.8302 <br> Best: M1 Included Features: <br> MedInc, Latitude <br> All: M1 Mean rmse: <br> 0.8977 <br> All: M1 STD rmse: <br> 0.0893",
          "<br> Best: M1 rmse: <br> 0.8391 <br> Best: M1 Included Features: <br> MedInc <br> All: M1 Mean rmse: <br> 1.0013 <br> All: M1 STD rmse: <br> 0.1622"
         ],
         "mode": "lines+markers",
         "name": "Best: M1 rmse",
         "type": "scatter",
         "x": [
          1,
          2,
          3,
          4,
          5,
          6,
          7,
          8,
          9,
          10
         ],
         "xaxis": "x",
         "y": [
          0.7311818094816698,
          0.7240502408441594,
          0.7240477007207936,
          0.7240488594750116,
          0.7243206659201569,
          0.7299080678582273,
          0.7340250301119083,
          0.7419579345892257,
          0.8301873925326823,
          0.8390728208993037
         ],
         "yaxis": "y2"
        },
        {
         "hoverinfo": "text",
         "hovertext": [
          "<br> Best: M2 rmse: <br> 0.7198 <br> Best: M2 Included Features: <br> MedInc, HouseAge, AveRooms, AveBedrms, Population, AveOccup, Latitude, Longitude, HouseEval_nice, HouseEval_not_nice, WallColors_gray, WallColors_white <br> All: M2 Mean rmse: <br> 0.7198 <br> All: M2 STD rmse: <br> 0.0000",
          "<br> Best: M2 rmse: <br> 0.6821 <br> Best: M2 Included Features: <br> MedInc, HouseAge, AveRooms, AveBedrms, Population, Latitude, Longitude, HouseEval_nice, HouseEval_not_nice, WallColors_gray, WallColors_white <br> All: M2 Mean rmse: <br> 0.7395 <br> All: M2 STD rmse: <br> 0.0506",
          "<br> Best: M2 rmse: <br> 0.6780 <br> Best: M2 Included Features: <br> HouseAge, AveRooms, AveBedrms, Population, Latitude, Longitude, HouseEval_nice, HouseEval_not_nice, WallColors_gray, WallColors_white <br> All: M2 Mean rmse: <br> 0.7402 <br> All: M2 STD rmse: <br> 0.0953",
          "<br> Best: M2 rmse: <br> 0.6580 <br> Best: M2 Included Features: <br> HouseAge, AveRooms, Population, Latitude, Longitude, HouseEval_nice, HouseEval_not_nice, WallColors_gray, WallColors_white <br> All: M2 Mean rmse: <br> 0.7973 <br> All: M2 STD rmse: <br> 0.1940",
          "<br> Best: M2 rmse: <br> 0.6521 <br> Best: M2 Included Features: <br> HouseAge, AveRooms, Population, Latitude, Longitude, HouseEval_nice, HouseEval_not_nice <br> All: M2 Mean rmse: <br> 0.8151 <br> All: M2 STD rmse: <br> 0.2220",
          "<br> Best: M2 rmse: <br> 0.6504 <br> Best: M2 Included Features: <br> HouseAge, AveRooms, Latitude, Longitude, HouseEval_nice, HouseEval_not_nice <br> All: M2 Mean rmse: <br> 0.8382 <br> All: M2 STD rmse: <br> 0.2312",
          "<br> Best: M2 rmse: <br> 0.6520 <br> Best: M2 Included Features: <br> HouseAge, AveRooms, Latitude, Longitude <br> All: M2 Mean rmse: <br> 0.8590 <br> All: M2 STD rmse: <br> 0.2309",
          "<br> Best: M2 rmse: <br> 0.6393 <br> Best: M2 Included Features: <br> AveRooms, Latitude, Longitude <br> All: M2 Mean rmse: <br> 0.8971 <br> All: M2 STD rmse: <br> 0.2350",
          "<br> Best: M2 rmse: <br> 0.6312 <br> Best: M2 Included Features: <br> Latitude, Longitude <br> All: M2 Mean rmse: <br> 1.0179 <br> All: M2 STD rmse: <br> 0.2774",
          "<br> Best: M2 rmse: <br> 1.0059 <br> Best: M2 Included Features: <br> Longitude <br> All: M2 Mean rmse: <br> 1.0256 <br> All: M2 STD rmse: <br> 0.0197"
         ],
         "mode": "lines+markers",
         "name": "Best: M2 rmse",
         "type": "scatter",
         "x": [
          1,
          2,
          3,
          4,
          5,
          6,
          7,
          8,
          9,
          10
         ],
         "xaxis": "x",
         "y": [
          0.7198003255099564,
          0.682069190822872,
          0.6779517551997455,
          0.6579845411226032,
          0.652074134106663,
          0.6503889533979705,
          0.6519741062662989,
          0.6393050802616673,
          0.6312279759802373,
          1.0058695484342364
         ],
         "yaxis": "y2"
        }
       ],
       "layout": {
        "hovermode": "closest",
        "template": {
         "data": {
          "bar": [
           {
            "error_x": {
             "color": "#2a3f5f"
            },
            "error_y": {
             "color": "#2a3f5f"
            },
            "marker": {
             "line": {
              "color": "#E5ECF6",
              "width": 0.5
             },
             "pattern": {
              "fillmode": "overlay",
              "size": 10,
              "solidity": 0.2
             }
            },
            "type": "bar"
           }
          ],
          "barpolar": [
           {
            "marker": {
             "line": {
              "color": "#E5ECF6",
              "width": 0.5
             },
             "pattern": {
              "fillmode": "overlay",
              "size": 10,
              "solidity": 0.2
             }
            },
            "type": "barpolar"
           }
          ],
          "carpet": [
           {
            "aaxis": {
             "endlinecolor": "#2a3f5f",
             "gridcolor": "white",
             "linecolor": "white",
             "minorgridcolor": "white",
             "startlinecolor": "#2a3f5f"
            },
            "baxis": {
             "endlinecolor": "#2a3f5f",
             "gridcolor": "white",
             "linecolor": "white",
             "minorgridcolor": "white",
             "startlinecolor": "#2a3f5f"
            },
            "type": "carpet"
           }
          ],
          "choropleth": [
           {
            "colorbar": {
             "outlinewidth": 0,
             "ticks": ""
            },
            "type": "choropleth"
           }
          ],
          "contour": [
           {
            "colorbar": {
             "outlinewidth": 0,
             "ticks": ""
            },
            "colorscale": [
             [
              0,
              "#0d0887"
             ],
             [
              0.1111111111111111,
              "#46039f"
             ],
             [
              0.2222222222222222,
              "#7201a8"
             ],
             [
              0.3333333333333333,
              "#9c179e"
             ],
             [
              0.4444444444444444,
              "#bd3786"
             ],
             [
              0.5555555555555556,
              "#d8576b"
             ],
             [
              0.6666666666666666,
              "#ed7953"
             ],
             [
              0.7777777777777778,
              "#fb9f3a"
             ],
             [
              0.8888888888888888,
              "#fdca26"
             ],
             [
              1,
              "#f0f921"
             ]
            ],
            "type": "contour"
           }
          ],
          "contourcarpet": [
           {
            "colorbar": {
             "outlinewidth": 0,
             "ticks": ""
            },
            "type": "contourcarpet"
           }
          ],
          "heatmap": [
           {
            "colorbar": {
             "outlinewidth": 0,
             "ticks": ""
            },
            "colorscale": [
             [
              0,
              "#0d0887"
             ],
             [
              0.1111111111111111,
              "#46039f"
             ],
             [
              0.2222222222222222,
              "#7201a8"
             ],
             [
              0.3333333333333333,
              "#9c179e"
             ],
             [
              0.4444444444444444,
              "#bd3786"
             ],
             [
              0.5555555555555556,
              "#d8576b"
             ],
             [
              0.6666666666666666,
              "#ed7953"
             ],
             [
              0.7777777777777778,
              "#fb9f3a"
             ],
             [
              0.8888888888888888,
              "#fdca26"
             ],
             [
              1,
              "#f0f921"
             ]
            ],
            "type": "heatmap"
           }
          ],
          "heatmapgl": [
           {
            "colorbar": {
             "outlinewidth": 0,
             "ticks": ""
            },
            "colorscale": [
             [
              0,
              "#0d0887"
             ],
             [
              0.1111111111111111,
              "#46039f"
             ],
             [
              0.2222222222222222,
              "#7201a8"
             ],
             [
              0.3333333333333333,
              "#9c179e"
             ],
             [
              0.4444444444444444,
              "#bd3786"
             ],
             [
              0.5555555555555556,
              "#d8576b"
             ],
             [
              0.6666666666666666,
              "#ed7953"
             ],
             [
              0.7777777777777778,
              "#fb9f3a"
             ],
             [
              0.8888888888888888,
              "#fdca26"
             ],
             [
              1,
              "#f0f921"
             ]
            ],
            "type": "heatmapgl"
           }
          ],
          "histogram": [
           {
            "marker": {
             "pattern": {
              "fillmode": "overlay",
              "size": 10,
              "solidity": 0.2
             }
            },
            "type": "histogram"
           }
          ],
          "histogram2d": [
           {
            "colorbar": {
             "outlinewidth": 0,
             "ticks": ""
            },
            "colorscale": [
             [
              0,
              "#0d0887"
             ],
             [
              0.1111111111111111,
              "#46039f"
             ],
             [
              0.2222222222222222,
              "#7201a8"
             ],
             [
              0.3333333333333333,
              "#9c179e"
             ],
             [
              0.4444444444444444,
              "#bd3786"
             ],
             [
              0.5555555555555556,
              "#d8576b"
             ],
             [
              0.6666666666666666,
              "#ed7953"
             ],
             [
              0.7777777777777778,
              "#fb9f3a"
             ],
             [
              0.8888888888888888,
              "#fdca26"
             ],
             [
              1,
              "#f0f921"
             ]
            ],
            "type": "histogram2d"
           }
          ],
          "histogram2dcontour": [
           {
            "colorbar": {
             "outlinewidth": 0,
             "ticks": ""
            },
            "colorscale": [
             [
              0,
              "#0d0887"
             ],
             [
              0.1111111111111111,
              "#46039f"
             ],
             [
              0.2222222222222222,
              "#7201a8"
             ],
             [
              0.3333333333333333,
              "#9c179e"
             ],
             [
              0.4444444444444444,
              "#bd3786"
             ],
             [
              0.5555555555555556,
              "#d8576b"
             ],
             [
              0.6666666666666666,
              "#ed7953"
             ],
             [
              0.7777777777777778,
              "#fb9f3a"
             ],
             [
              0.8888888888888888,
              "#fdca26"
             ],
             [
              1,
              "#f0f921"
             ]
            ],
            "type": "histogram2dcontour"
           }
          ],
          "mesh3d": [
           {
            "colorbar": {
             "outlinewidth": 0,
             "ticks": ""
            },
            "type": "mesh3d"
           }
          ],
          "parcoords": [
           {
            "line": {
             "colorbar": {
              "outlinewidth": 0,
              "ticks": ""
             }
            },
            "type": "parcoords"
           }
          ],
          "pie": [
           {
            "automargin": true,
            "type": "pie"
           }
          ],
          "scatter": [
           {
            "fillpattern": {
             "fillmode": "overlay",
             "size": 10,
             "solidity": 0.2
            },
            "type": "scatter"
           }
          ],
          "scatter3d": [
           {
            "line": {
             "colorbar": {
              "outlinewidth": 0,
              "ticks": ""
             }
            },
            "marker": {
             "colorbar": {
              "outlinewidth": 0,
              "ticks": ""
             }
            },
            "type": "scatter3d"
           }
          ],
          "scattercarpet": [
           {
            "marker": {
             "colorbar": {
              "outlinewidth": 0,
              "ticks": ""
             }
            },
            "type": "scattercarpet"
           }
          ],
          "scattergeo": [
           {
            "marker": {
             "colorbar": {
              "outlinewidth": 0,
              "ticks": ""
             }
            },
            "type": "scattergeo"
           }
          ],
          "scattergl": [
           {
            "marker": {
             "colorbar": {
              "outlinewidth": 0,
              "ticks": ""
             }
            },
            "type": "scattergl"
           }
          ],
          "scattermapbox": [
           {
            "marker": {
             "colorbar": {
              "outlinewidth": 0,
              "ticks": ""
             }
            },
            "type": "scattermapbox"
           }
          ],
          "scatterpolar": [
           {
            "marker": {
             "colorbar": {
              "outlinewidth": 0,
              "ticks": ""
             }
            },
            "type": "scatterpolar"
           }
          ],
          "scatterpolargl": [
           {
            "marker": {
             "colorbar": {
              "outlinewidth": 0,
              "ticks": ""
             }
            },
            "type": "scatterpolargl"
           }
          ],
          "scatterternary": [
           {
            "marker": {
             "colorbar": {
              "outlinewidth": 0,
              "ticks": ""
             }
            },
            "type": "scatterternary"
           }
          ],
          "surface": [
           {
            "colorbar": {
             "outlinewidth": 0,
             "ticks": ""
            },
            "colorscale": [
             [
              0,
              "#0d0887"
             ],
             [
              0.1111111111111111,
              "#46039f"
             ],
             [
              0.2222222222222222,
              "#7201a8"
             ],
             [
              0.3333333333333333,
              "#9c179e"
             ],
             [
              0.4444444444444444,
              "#bd3786"
             ],
             [
              0.5555555555555556,
              "#d8576b"
             ],
             [
              0.6666666666666666,
              "#ed7953"
             ],
             [
              0.7777777777777778,
              "#fb9f3a"
             ],
             [
              0.8888888888888888,
              "#fdca26"
             ],
             [
              1,
              "#f0f921"
             ]
            ],
            "type": "surface"
           }
          ],
          "table": [
           {
            "cells": {
             "fill": {
              "color": "#EBF0F8"
             },
             "line": {
              "color": "white"
             }
            },
            "header": {
             "fill": {
              "color": "#C8D4E3"
             },
             "line": {
              "color": "white"
             }
            },
            "type": "table"
           }
          ]
         },
         "layout": {
          "annotationdefaults": {
           "arrowcolor": "#2a3f5f",
           "arrowhead": 0,
           "arrowwidth": 1
          },
          "autotypenumbers": "strict",
          "coloraxis": {
           "colorbar": {
            "outlinewidth": 0,
            "ticks": ""
           }
          },
          "colorscale": {
           "diverging": [
            [
             0,
             "#8e0152"
            ],
            [
             0.1,
             "#c51b7d"
            ],
            [
             0.2,
             "#de77ae"
            ],
            [
             0.3,
             "#f1b6da"
            ],
            [
             0.4,
             "#fde0ef"
            ],
            [
             0.5,
             "#f7f7f7"
            ],
            [
             0.6,
             "#e6f5d0"
            ],
            [
             0.7,
             "#b8e186"
            ],
            [
             0.8,
             "#7fbc41"
            ],
            [
             0.9,
             "#4d9221"
            ],
            [
             1,
             "#276419"
            ]
           ],
           "sequential": [
            [
             0,
             "#0d0887"
            ],
            [
             0.1111111111111111,
             "#46039f"
            ],
            [
             0.2222222222222222,
             "#7201a8"
            ],
            [
             0.3333333333333333,
             "#9c179e"
            ],
            [
             0.4444444444444444,
             "#bd3786"
            ],
            [
             0.5555555555555556,
             "#d8576b"
            ],
            [
             0.6666666666666666,
             "#ed7953"
            ],
            [
             0.7777777777777778,
             "#fb9f3a"
            ],
            [
             0.8888888888888888,
             "#fdca26"
            ],
            [
             1,
             "#f0f921"
            ]
           ],
           "sequentialminus": [
            [
             0,
             "#0d0887"
            ],
            [
             0.1111111111111111,
             "#46039f"
            ],
            [
             0.2222222222222222,
             "#7201a8"
            ],
            [
             0.3333333333333333,
             "#9c179e"
            ],
            [
             0.4444444444444444,
             "#bd3786"
            ],
            [
             0.5555555555555556,
             "#d8576b"
            ],
            [
             0.6666666666666666,
             "#ed7953"
            ],
            [
             0.7777777777777778,
             "#fb9f3a"
            ],
            [
             0.8888888888888888,
             "#fdca26"
            ],
            [
             1,
             "#f0f921"
            ]
           ]
          },
          "colorway": [
           "#636efa",
           "#EF553B",
           "#00cc96",
           "#ab63fa",
           "#FFA15A",
           "#19d3f3",
           "#FF6692",
           "#B6E880",
           "#FF97FF",
           "#FECB52"
          ],
          "font": {
           "color": "#2a3f5f"
          },
          "geo": {
           "bgcolor": "white",
           "lakecolor": "white",
           "landcolor": "#E5ECF6",
           "showlakes": true,
           "showland": true,
           "subunitcolor": "white"
          },
          "hoverlabel": {
           "align": "left"
          },
          "hovermode": "closest",
          "mapbox": {
           "style": "light"
          },
          "paper_bgcolor": "white",
          "plot_bgcolor": "#E5ECF6",
          "polar": {
           "angularaxis": {
            "gridcolor": "white",
            "linecolor": "white",
            "ticks": ""
           },
           "bgcolor": "#E5ECF6",
           "radialaxis": {
            "gridcolor": "white",
            "linecolor": "white",
            "ticks": ""
           }
          },
          "scene": {
           "xaxis": {
            "backgroundcolor": "#E5ECF6",
            "gridcolor": "white",
            "gridwidth": 2,
            "linecolor": "white",
            "showbackground": true,
            "ticks": "",
            "zerolinecolor": "white"
           },
           "yaxis": {
            "backgroundcolor": "#E5ECF6",
            "gridcolor": "white",
            "gridwidth": 2,
            "linecolor": "white",
            "showbackground": true,
            "ticks": "",
            "zerolinecolor": "white"
           },
           "zaxis": {
            "backgroundcolor": "#E5ECF6",
            "gridcolor": "white",
            "gridwidth": 2,
            "linecolor": "white",
            "showbackground": true,
            "ticks": "",
            "zerolinecolor": "white"
           }
          },
          "shapedefaults": {
           "line": {
            "color": "#2a3f5f"
           }
          },
          "ternary": {
           "aaxis": {
            "gridcolor": "white",
            "linecolor": "white",
            "ticks": ""
           },
           "baxis": {
            "gridcolor": "white",
            "linecolor": "white",
            "ticks": ""
           },
           "bgcolor": "#E5ECF6",
           "caxis": {
            "gridcolor": "white",
            "linecolor": "white",
            "ticks": ""
           }
          },
          "title": {
           "x": 0.05
          },
          "xaxis": {
           "automargin": true,
           "gridcolor": "white",
           "linecolor": "white",
           "ticks": "",
           "title": {
            "standoff": 15
           },
           "zerolinecolor": "white",
           "zerolinewidth": 2
          },
          "yaxis": {
           "automargin": true,
           "gridcolor": "white",
           "linecolor": "white",
           "ticks": "",
           "title": {
            "standoff": 15
           },
           "zerolinecolor": "white",
           "zerolinewidth": 2
          }
         }
        },
        "title": {
         "text": "Agreeability Coefficients and Model Scores Over Algorithm Iterations"
        },
        "xaxis": {
         "anchor": "y",
         "domain": [
          0,
          0.94
         ],
         "title": {
          "text": "Iteration"
         },
         "type": "category"
        },
        "yaxis": {
         "anchor": "x",
         "domain": [
          0,
          1
         ],
         "title": {
          "text": "Agreeability"
         }
        },
        "yaxis2": {
         "anchor": "x",
         "overlaying": "y",
         "side": "right",
         "title": {
          "text": "Model Scores"
         }
        }
       }
      }
     },
     "metadata": {},
     "output_type": "display_data"
    }
   ],
   "source": [
    "seeker.plot_from_results()"
   ]
  },
  {
   "cell_type": "markdown",
   "metadata": {},
   "source": [
    "### Check functionality on a classification task"
   ]
  },
  {
   "cell_type": "code",
   "execution_count": 105,
   "metadata": {},
   "outputs": [
    {
     "name": "stdout",
     "output_type": "stream",
     "text": [
      "<class 'pandas.core.frame.DataFrame'>\n",
      "RangeIndex: 20640 entries, 0 to 20639\n",
      "Data columns (total 13 columns):\n",
      " #   Column              Non-Null Count  Dtype  \n",
      "---  ------              --------------  -----  \n",
      " 0   MedInc              20640 non-null  float64\n",
      " 1   HouseAge            20640 non-null  float64\n",
      " 2   AveRooms            20640 non-null  float64\n",
      " 3   AveBedrms           20640 non-null  float64\n",
      " 4   Population          20640 non-null  float64\n",
      " 5   AveOccup            20640 non-null  float64\n",
      " 6   Latitude            20640 non-null  float64\n",
      " 7   Longitude           20640 non-null  float64\n",
      " 8   HouseEval_nice      20640 non-null  uint8  \n",
      " 9   HouseEval_not_nice  20640 non-null  uint8  \n",
      " 10  WallColors_gray     20640 non-null  uint8  \n",
      " 11  WallColors_white    20640 non-null  uint8  \n",
      " 12  AboveMean           20640 non-null  int64  \n",
      "dtypes: float64(8), int64(1), uint8(4)\n",
      "memory usage: 1.5 MB\n"
     ]
    }
   ],
   "source": [
    "df_discrete.info()"
   ]
  },
  {
   "cell_type": "code",
   "execution_count": 106,
   "metadata": {},
   "outputs": [],
   "source": [
    "y = df_discrete['AboveMean']\n",
    "X = df_discrete.drop('AboveMean', axis=1)\n"
   ]
  },
  {
   "cell_type": "code",
   "execution_count": 107,
   "metadata": {},
   "outputs": [],
   "source": [
    "X_train, X_val, y_train, y_val = train_test_split(X, y, test_size=0.2, random_state=66)"
   ]
  },
  {
   "cell_type": "code",
   "execution_count": 108,
   "metadata": {},
   "outputs": [],
   "source": [
    "from sklearn.linear_model import LogisticRegression\n",
    "from sklearn.tree import DecisionTreeClassifier"
   ]
  },
  {
   "cell_type": "code",
   "execution_count": 109,
   "metadata": {},
   "outputs": [],
   "source": [
    "m1 = LogisticRegression(solver='liblinear')\n",
    "m2 = DecisionTreeClassifier()"
   ]
  },
  {
   "cell_type": "code",
   "execution_count": 111,
   "metadata": {},
   "outputs": [],
   "source": [
    "seeker_2 = BackEliminator(\n",
    "    X=X_train,\n",
    "    y=y_train,\n",
    "    validation_data=(X_val, y_val),\n",
    "    task_type='classification',\n",
    "    criterion='f1',\n",
    "    agreeability='cohen_kappa',\n",
    "    dummy_list=dummy_list\n",
    ")"
   ]
  },
  {
   "cell_type": "code",
   "execution_count": 112,
   "metadata": {},
   "outputs": [
    {
     "name": "stdout",
     "output_type": "stream",
     "text": [
      "Initial run: fitted both models with full feature set.\n",
      "------------------------------------------------------------------------------------------------------------------------------------------------------\n",
      "Model 1 included: ['MedInc', 'HouseAge', 'AveRooms', 'AveBedrms', 'Population', 'AveOccup', 'Latitude', 'Longitude', ['HouseEval_nice', 'HouseEval_not_nice'], ['WallColors_gray', 'WallColors_white']]. F1: 0.7803\n",
      "Model 2 included: ['MedInc', 'HouseAge', 'AveRooms', 'AveBedrms', 'Population', 'AveOccup', 'Latitude', 'Longitude', ['HouseEval_nice', 'HouseEval_not_nice'], ['WallColors_gray', 'WallColors_white']]. F1: 0.7888\n",
      "------------------------------------------------------------------------------------------------------------------------------------------------------\n",
      "Agreeability Coefficient (cohen_kappa): 0.6389\n",
      "======================================================================================================================================================\n",
      "Iteration 1:\n",
      "------------------------------------------------------------------------------------------------------------------------------------------------------\n",
      "Results from best models:\n",
      "Best Model 1 included: ['MedInc', 'HouseAge', 'AveRooms', 'AveBedrms', 'AveOccup', 'Latitude', 'Longitude', ['HouseEval_nice', 'HouseEval_not_nice'], ['WallColors_gray', 'WallColors_white']]. F1: 0.7831\n",
      "Best Model 2 included: ['HouseAge', 'AveRooms', 'AveBedrms', 'Population', 'AveOccup', 'Latitude', 'Longitude', ['HouseEval_nice', 'HouseEval_not_nice'], ['WallColors_gray', 'WallColors_white']]. F1: 0.8105\n",
      "Agreeability Coefficient (cohen_kappa) between best models: 0.5694791541924249\n",
      "------------------------------------------------------------------------------------------------------------------------------------------------------\n",
      "Results from all models:\n",
      "M1 mean score: 0.7624. Standard deviation: 0.0294\n",
      "M1 mean score: 0.7862. Standard deviation: 0.0178\n",
      "Mean agreeability coefficient (cohen_kappa): 0.5962. Standard deviation: 0.0496\n",
      "======================================================================================================================================================\n",
      "Iteration 2:\n",
      "------------------------------------------------------------------------------------------------------------------------------------------------------\n",
      "Results from best models:\n",
      "Best Model 1 included: ['MedInc', 'HouseAge', 'AveRooms', 'AveBedrms', 'AveOccup', 'Latitude', 'Longitude', ['HouseEval_nice', 'HouseEval_not_nice']]. F1: 0.7842\n",
      "Best Model 2 included: ['HouseAge', 'AveRooms', 'AveBedrms', 'AveOccup', 'Latitude', 'Longitude', ['HouseEval_nice', 'HouseEval_not_nice'], ['WallColors_gray', 'WallColors_white']]. F1: 0.8197\n",
      "Agreeability Coefficient (cohen_kappa) between best models: 0.5796871354262122\n",
      "------------------------------------------------------------------------------------------------------------------------------------------------------\n",
      "Results from all models:\n",
      "M1 mean score: 0.7664. Standard deviation: 0.0246\n",
      "M1 mean score: 0.7894. Standard deviation: 0.0424\n",
      "Mean agreeability coefficient (cohen_kappa): 0.5329. Standard deviation: 0.0554\n",
      "======================================================================================================================================================\n",
      "Iteration 3:\n",
      "------------------------------------------------------------------------------------------------------------------------------------------------------\n",
      "Results from best models:\n",
      "Best Model 1 included: ['MedInc', 'HouseAge', 'AveRooms', 'AveOccup', 'Latitude', 'Longitude', ['HouseEval_nice', 'HouseEval_not_nice']]. F1: 0.7821\n",
      "Best Model 2 included: ['HouseAge', 'AveRooms', 'AveOccup', 'Latitude', 'Longitude', ['HouseEval_nice', 'HouseEval_not_nice'], ['WallColors_gray', 'WallColors_white']]. F1: 0.8231\n",
      "Agreeability Coefficient (cohen_kappa) between best models: 0.5732820080431204\n",
      "------------------------------------------------------------------------------------------------------------------------------------------------------\n",
      "Results from all models:\n",
      "M1 mean score: 0.7630. Standard deviation: 0.0267\n",
      "M1 mean score: 0.7867. Standard deviation: 0.0433\n",
      "Mean agreeability coefficient (cohen_kappa): 0.5286. Standard deviation: 0.0553\n",
      "======================================================================================================================================================\n",
      "Iteration 4:\n",
      "------------------------------------------------------------------------------------------------------------------------------------------------------\n",
      "Results from best models:\n",
      "Best Model 1 included: ['MedInc', 'HouseAge', 'AveRooms', 'AveOccup', 'Latitude', 'Longitude']. F1: 0.7808\n",
      "Best Model 2 included: ['HouseAge', 'AveRooms', 'Latitude', 'Longitude', ['HouseEval_nice', 'HouseEval_not_nice'], ['WallColors_gray', 'WallColors_white']]. F1: 0.8260\n",
      "Agreeability Coefficient (cohen_kappa) between best models: 0.5873078177361782\n",
      "------------------------------------------------------------------------------------------------------------------------------------------------------\n",
      "Results from all models:\n",
      "M1 mean score: 0.7496. Standard deviation: 0.0444\n",
      "M1 mean score: 0.7834. Standard deviation: 0.0508\n",
      "Mean agreeability coefficient (cohen_kappa): 0.5096. Standard deviation: 0.0785\n",
      "======================================================================================================================================================\n",
      "Iteration 5:\n",
      "------------------------------------------------------------------------------------------------------------------------------------------------------\n",
      "Results from best models:\n",
      "Best Model 1 included: ['MedInc', 'HouseAge', 'AveOccup', 'Latitude', 'Longitude']. F1: 0.7764\n",
      "Best Model 2 included: ['HouseAge', 'AveRooms', 'Latitude', 'Longitude', ['WallColors_gray', 'WallColors_white']]. F1: 0.8250\n",
      "Agreeability Coefficient (cohen_kappa) between best models: 0.5765318443388169\n",
      "------------------------------------------------------------------------------------------------------------------------------------------------------\n",
      "Results from all models:\n",
      "M1 mean score: 0.7439. Standard deviation: 0.0456\n",
      "M1 mean score: 0.7633. Standard deviation: 0.0818\n",
      "Mean agreeability coefficient (cohen_kappa): 0.4707. Standard deviation: 0.1333\n",
      "======================================================================================================================================================\n",
      "Iteration 6:\n",
      "------------------------------------------------------------------------------------------------------------------------------------------------------\n",
      "Results from best models:\n",
      "Best Model 1 included: ['MedInc', 'AveOccup', 'Latitude', 'Longitude']. F1: 0.7670\n",
      "Best Model 2 included: ['HouseAge', 'AveRooms', 'Latitude', 'Longitude']. F1: 0.8262\n",
      "Agreeability Coefficient (cohen_kappa) between best models: 0.562033273466301\n",
      "------------------------------------------------------------------------------------------------------------------------------------------------------\n",
      "Results from all models:\n",
      "M1 mean score: 0.7176. Standard deviation: 0.0732\n",
      "M1 mean score: 0.7556. Standard deviation: 0.0825\n",
      "Mean agreeability coefficient (cohen_kappa): 0.4217. Standard deviation: 0.1650\n",
      "======================================================================================================================================================\n",
      "Iteration 7:\n",
      "------------------------------------------------------------------------------------------------------------------------------------------------------\n",
      "Results from best models:\n",
      "Best Model 1 included: ['MedInc', 'AveOccup', 'Latitude']. F1: 0.7451\n",
      "Best Model 2 included: ['HouseAge', 'Latitude', 'Longitude']. F1: 0.8313\n",
      "Agreeability Coefficient (cohen_kappa) between best models: 0.4979763984152004\n",
      "------------------------------------------------------------------------------------------------------------------------------------------------------\n",
      "Results from all models:\n",
      "M1 mean score: 0.6853. Standard deviation: 0.0769\n",
      "M1 mean score: 0.7422. Standard deviation: 0.0873\n",
      "Mean agreeability coefficient (cohen_kappa): 0.3710. Standard deviation: 0.1627\n",
      "======================================================================================================================================================\n",
      "Iteration 8:\n",
      "------------------------------------------------------------------------------------------------------------------------------------------------------\n",
      "Results from best models:\n",
      "Best Model 1 included: ['MedInc', 'AveOccup']. F1: 0.7382\n",
      "Best Model 2 included: ['Latitude', 'Longitude']. F1: 0.8406\n",
      "Agreeability Coefficient (cohen_kappa) between best models: 0.5106450416022617\n",
      "------------------------------------------------------------------------------------------------------------------------------------------------------\n",
      "Results from all models:\n",
      "M1 mean score: 0.6158. Standard deviation: 0.1379\n",
      "M1 mean score: 0.6662. Standard deviation: 0.1241\n",
      "Mean agreeability coefficient (cohen_kappa): 0.2577. Standard deviation: 0.1866\n",
      "======================================================================================================================================================\n",
      "Iteration 9:\n",
      "------------------------------------------------------------------------------------------------------------------------------------------------------\n",
      "Results from best models:\n",
      "Best Model 1 included: ['MedInc']. F1: 0.6912\n",
      "Best Model 2 included: ['Longitude']. F1: 0.6158\n",
      "Agreeability Coefficient (cohen_kappa) between best models: 0.2202984662586311\n",
      "------------------------------------------------------------------------------------------------------------------------------------------------------\n",
      "Results from all models:\n",
      "M1 mean score: 0.5278. Standard deviation: 0.1635\n",
      "M1 mean score: 0.6084. Standard deviation: 0.0074\n",
      "Mean agreeability coefficient (cohen_kappa): 0.1412. Standard deviation: 0.0791\n",
      "======================================================================================================================================================\n"
     ]
    }
   ],
   "source": [
    "results_2 = seeker_2.compare_all_models(\n",
    "    m1=m1,\n",
    "    m2=m2\n",
    ")"
   ]
  },
  {
   "cell_type": "code",
   "execution_count": 113,
   "metadata": {},
   "outputs": [
    {
     "data": {
      "text/plain": [
       "[{'Best: M1 Included Features': ['MedInc',\n",
       "   'HouseAge',\n",
       "   'AveRooms',\n",
       "   'AveBedrms',\n",
       "   'Population',\n",
       "   'AveOccup',\n",
       "   'Latitude',\n",
       "   'Longitude',\n",
       "   'HouseEval_nice',\n",
       "   'HouseEval_not_nice',\n",
       "   'WallColors_gray',\n",
       "   'WallColors_white'],\n",
       "  'Best: M1 f1': 0.780279975654291,\n",
       "  'Best: M2 Included Features': ['MedInc',\n",
       "   'HouseAge',\n",
       "   'AveRooms',\n",
       "   'AveBedrms',\n",
       "   'Population',\n",
       "   'AveOccup',\n",
       "   'Latitude',\n",
       "   'Longitude',\n",
       "   'HouseEval_nice',\n",
       "   'HouseEval_not_nice',\n",
       "   'WallColors_gray',\n",
       "   'WallColors_white'],\n",
       "  'Best: M2 f1': 0.7887740029542099,\n",
       "  'Best: Agreeability (cohen_kappa)': 0.6388752806145795,\n",
       "  'All: M1 Mean f1': 0.780279975654291,\n",
       "  'All: M1 STD f1': 0,\n",
       "  'All: M2 Mean f1': 0.7887740029542099,\n",
       "  'All: M2 STD f1': 0,\n",
       "  'All: Mean Agreeability (cohen_kappa)': 0.6388752806145795,\n",
       "  'All: Agreeability St. Dev.': 0},\n",
       " {'Best: M1 Included Features': ['MedInc',\n",
       "   'HouseAge',\n",
       "   'AveRooms',\n",
       "   'AveBedrms',\n",
       "   'AveOccup',\n",
       "   'Latitude',\n",
       "   'Longitude',\n",
       "   'HouseEval_nice',\n",
       "   'HouseEval_not_nice',\n",
       "   'WallColors_gray',\n",
       "   'WallColors_white'],\n",
       "  'Best: M1 f1': 0.7831361844100697,\n",
       "  'Best: M2 Included Features': ['HouseAge',\n",
       "   'AveRooms',\n",
       "   'AveBedrms',\n",
       "   'Population',\n",
       "   'AveOccup',\n",
       "   'Latitude',\n",
       "   'Longitude',\n",
       "   'HouseEval_nice',\n",
       "   'HouseEval_not_nice',\n",
       "   'WallColors_gray',\n",
       "   'WallColors_white'],\n",
       "  'Best: M2 f1': 0.8105043270665473,\n",
       "  'Best: Agreeability (cohen_kappa)': 0.5694791541924249,\n",
       "  'All: M1 Mean f1': 0.7624332978591644,\n",
       "  'All: M1 STD f1': 0.029421513710484924,\n",
       "  'All: M2 Mean f1': 0.7862469737911629,\n",
       "  'All: M2 STD f1': 0.017792104032746888,\n",
       "  'All: Mean Agreeability (cohen_kappa)': 0.5961913983198314,\n",
       "  'All: Agreeability St. Dev.': 0.04957958760114663},\n",
       " {'Best: M1 Included Features': ['MedInc',\n",
       "   'HouseAge',\n",
       "   'AveRooms',\n",
       "   'AveBedrms',\n",
       "   'AveOccup',\n",
       "   'Latitude',\n",
       "   'Longitude',\n",
       "   'HouseEval_nice',\n",
       "   'HouseEval_not_nice'],\n",
       "  'Best: M1 f1': 0.7842424242424242,\n",
       "  'Best: M2 Included Features': ['HouseAge',\n",
       "   'AveRooms',\n",
       "   'AveBedrms',\n",
       "   'AveOccup',\n",
       "   'Latitude',\n",
       "   'Longitude',\n",
       "   'HouseEval_nice',\n",
       "   'HouseEval_not_nice',\n",
       "   'WallColors_gray',\n",
       "   'WallColors_white'],\n",
       "  'Best: M2 f1': 0.8197014925373134,\n",
       "  'Best: Agreeability (cohen_kappa)': 0.5796871354262122,\n",
       "  'All: M1 Mean f1': 0.7663747440458506,\n",
       "  'All: M1 STD f1': 0.024601604285506406,\n",
       "  'All: M2 Mean f1': 0.7893570996621215,\n",
       "  'All: M2 STD f1': 0.04235916369410198,\n",
       "  'All: Mean Agreeability (cohen_kappa)': 0.5329348581855444,\n",
       "  'All: Agreeability St. Dev.': 0.055377253449573165},\n",
       " {'Best: M1 Included Features': ['MedInc',\n",
       "   'HouseAge',\n",
       "   'AveRooms',\n",
       "   'AveOccup',\n",
       "   'Latitude',\n",
       "   'Longitude',\n",
       "   'HouseEval_nice',\n",
       "   'HouseEval_not_nice'],\n",
       "  'Best: M1 f1': 0.7821363910681955,\n",
       "  'Best: M2 Included Features': ['HouseAge',\n",
       "   'AveRooms',\n",
       "   'AveOccup',\n",
       "   'Latitude',\n",
       "   'Longitude',\n",
       "   'HouseEval_nice',\n",
       "   'HouseEval_not_nice',\n",
       "   'WallColors_gray',\n",
       "   'WallColors_white'],\n",
       "  'Best: M2 f1': 0.8231068542352589,\n",
       "  'Best: Agreeability (cohen_kappa)': 0.5732820080431204,\n",
       "  'All: M1 Mean f1': 0.7629585771160983,\n",
       "  'All: M1 STD f1': 0.026715075080098242,\n",
       "  'All: M2 Mean f1': 0.7867290203445251,\n",
       "  'All: M2 STD f1': 0.04327499576864493,\n",
       "  'All: Mean Agreeability (cohen_kappa)': 0.5286078019052146,\n",
       "  'All: Agreeability St. Dev.': 0.05533124372664594},\n",
       " {'Best: M1 Included Features': ['MedInc',\n",
       "   'HouseAge',\n",
       "   'AveRooms',\n",
       "   'AveOccup',\n",
       "   'Latitude',\n",
       "   'Longitude'],\n",
       "  'Best: M1 f1': 0.7807971014492755,\n",
       "  'Best: M2 Included Features': ['HouseAge',\n",
       "   'AveRooms',\n",
       "   'Latitude',\n",
       "   'Longitude',\n",
       "   'HouseEval_nice',\n",
       "   'HouseEval_not_nice',\n",
       "   'WallColors_gray',\n",
       "   'WallColors_white'],\n",
       "  'Best: M2 f1': 0.826047633403678,\n",
       "  'Best: Agreeability (cohen_kappa)': 0.5873078177361782,\n",
       "  'All: M1 Mean f1': 0.7496370569090928,\n",
       "  'All: M1 STD f1': 0.04444660589770411,\n",
       "  'All: M2 Mean f1': 0.7833576332985533,\n",
       "  'All: M2 STD f1': 0.05082046476421321,\n",
       "  'All: Mean Agreeability (cohen_kappa)': 0.5096342644312739,\n",
       "  'All: Agreeability St. Dev.': 0.07848938525142077},\n",
       " {'Best: M1 Included Features': ['MedInc',\n",
       "   'HouseAge',\n",
       "   'AveOccup',\n",
       "   'Latitude',\n",
       "   'Longitude'],\n",
       "  'Best: M1 f1': 0.7763993948562784,\n",
       "  'Best: M2 Included Features': ['HouseAge',\n",
       "   'AveRooms',\n",
       "   'Latitude',\n",
       "   'Longitude',\n",
       "   'WallColors_gray',\n",
       "   'WallColors_white'],\n",
       "  'Best: M2 f1': 0.8250074783128926,\n",
       "  'Best: Agreeability (cohen_kappa)': 0.5765318443388169,\n",
       "  'All: M1 Mean f1': 0.7438614300459697,\n",
       "  'All: M1 STD f1': 0.045557281693751506,\n",
       "  'All: M2 Mean f1': 0.7633411909538377,\n",
       "  'All: M2 STD f1': 0.08180920085645368,\n",
       "  'All: Mean Agreeability (cohen_kappa)': 0.4707283031858105,\n",
       "  'All: Agreeability St. Dev.': 0.13325736558536216},\n",
       " {'Best: M1 Included Features': ['MedInc',\n",
       "   'AveOccup',\n",
       "   'Latitude',\n",
       "   'Longitude'],\n",
       "  'Best: M1 f1': 0.7670229007633588,\n",
       "  'Best: M2 Included Features': ['HouseAge',\n",
       "   'AveRooms',\n",
       "   'Latitude',\n",
       "   'Longitude'],\n",
       "  'Best: M2 f1': 0.8262040083757104,\n",
       "  'Best: Agreeability (cohen_kappa)': 0.562033273466301,\n",
       "  'All: M1 Mean f1': 0.7176197834299959,\n",
       "  'All: M1 STD f1': 0.07318186904774482,\n",
       "  'All: M2 Mean f1': 0.7555943621031458,\n",
       "  'All: M2 STD f1': 0.08254634696504415,\n",
       "  'All: Mean Agreeability (cohen_kappa)': 0.421665420365415,\n",
       "  'All: Agreeability St. Dev.': 0.16498804692593624},\n",
       " {'Best: M1 Included Features': ['MedInc', 'AveOccup', 'Latitude'],\n",
       "  'Best: M1 f1': 0.7451343836886006,\n",
       "  'Best: M2 Included Features': ['HouseAge', 'Latitude', 'Longitude'],\n",
       "  'Best: M2 f1': 0.8312781954887217,\n",
       "  'Best: Agreeability (cohen_kappa)': 0.4979763984152004,\n",
       "  'All: M1 Mean f1': 0.6852704992073474,\n",
       "  'All: M1 STD f1': 0.07686153235484837,\n",
       "  'All: M2 Mean f1': 0.7421611174260655,\n",
       "  'All: M2 STD f1': 0.08732932987173343,\n",
       "  'All: Mean Agreeability (cohen_kappa)': 0.37098332263076716,\n",
       "  'All: Agreeability St. Dev.': 0.16271520343376877},\n",
       " {'Best: M1 Included Features': ['MedInc', 'AveOccup'],\n",
       "  'Best: M1 f1': 0.7381546134663343,\n",
       "  'Best: M2 Included Features': ['Latitude', 'Longitude'],\n",
       "  'Best: M2 f1': 0.8406240440501682,\n",
       "  'Best: Agreeability (cohen_kappa)': 0.5106450416022617,\n",
       "  'All: M1 Mean f1': 0.6158473888569961,\n",
       "  'All: M1 STD f1': 0.1378675666694671,\n",
       "  'All: M2 Mean f1': 0.666243156868414,\n",
       "  'All: M2 STD f1': 0.12414616881440992,\n",
       "  'All: Mean Agreeability (cohen_kappa)': 0.2577499357661183,\n",
       "  'All: Agreeability St. Dev.': 0.18662106342830118},\n",
       " {'Best: M1 Included Features': ['MedInc'],\n",
       "  'Best: M1 f1': 0.6912144702842378,\n",
       "  'Best: M2 Included Features': ['Longitude'],\n",
       "  'Best: M2 f1': 0.615831987075929,\n",
       "  'Best: Agreeability (cohen_kappa)': 0.2202984662586311,\n",
       "  'All: M1 Mean f1': 0.5277573365619972,\n",
       "  'All: M1 STD f1': 0.16345713372224058,\n",
       "  'All: M2 Mean f1': 0.608411656487159,\n",
       "  'All: M2 STD f1': 0.007420330588770008,\n",
       "  'All: Mean Agreeability (cohen_kappa)': 0.1411717884366587,\n",
       "  'All: Agreeability St. Dev.': 0.07912667782197239}]"
      ]
     },
     "execution_count": 113,
     "metadata": {},
     "output_type": "execute_result"
    }
   ],
   "source": [
    "results_2"
   ]
  },
  {
   "cell_type": "code",
   "execution_count": 114,
   "metadata": {},
   "outputs": [],
   "source": [
    "results_df_2 = seeker_2.dataframe_from_results()"
   ]
  },
  {
   "cell_type": "code",
   "execution_count": 115,
   "metadata": {},
   "outputs": [
    {
     "data": {
      "text/html": [
       "<div>\n",
       "<style scoped>\n",
       "    .dataframe tbody tr th:only-of-type {\n",
       "        vertical-align: middle;\n",
       "    }\n",
       "\n",
       "    .dataframe tbody tr th {\n",
       "        vertical-align: top;\n",
       "    }\n",
       "\n",
       "    .dataframe thead th {\n",
       "        text-align: right;\n",
       "    }\n",
       "</style>\n",
       "<table border=\"1\" class=\"dataframe\">\n",
       "  <thead>\n",
       "    <tr style=\"text-align: right;\">\n",
       "      <th></th>\n",
       "      <th>Best: M1 Included Features</th>\n",
       "      <th>Best: M1 f1</th>\n",
       "      <th>Best: M2 Included Features</th>\n",
       "      <th>Best: M2 f1</th>\n",
       "      <th>Best: Agreeability (cohen_kappa)</th>\n",
       "      <th>All: M1 Mean f1</th>\n",
       "      <th>All: M1 STD f1</th>\n",
       "      <th>All: M2 Mean f1</th>\n",
       "      <th>All: M2 STD f1</th>\n",
       "      <th>All: Mean Agreeability (cohen_kappa)</th>\n",
       "      <th>All: Agreeability St. Dev.</th>\n",
       "    </tr>\n",
       "  </thead>\n",
       "  <tbody>\n",
       "    <tr>\n",
       "      <th>0</th>\n",
       "      <td>[MedInc, HouseAge, AveRooms, AveBedrms, Population, AveOccup, Latitude, Longitude, HouseEval_nice, HouseEval_not_nice, WallColors_gray, WallColors_white]</td>\n",
       "      <td>0.780280</td>\n",
       "      <td>[MedInc, HouseAge, AveRooms, AveBedrms, Population, AveOccup, Latitude, Longitude, HouseEval_nice, HouseEval_not_nice, WallColors_gray, WallColors_white]</td>\n",
       "      <td>0.788774</td>\n",
       "      <td>0.638875</td>\n",
       "      <td>0.780280</td>\n",
       "      <td>0.000000</td>\n",
       "      <td>0.788774</td>\n",
       "      <td>0.000000</td>\n",
       "      <td>0.638875</td>\n",
       "      <td>0.000000</td>\n",
       "    </tr>\n",
       "    <tr>\n",
       "      <th>1</th>\n",
       "      <td>[MedInc, HouseAge, AveRooms, AveBedrms, AveOccup, Latitude, Longitude, HouseEval_nice, HouseEval_not_nice, WallColors_gray, WallColors_white]</td>\n",
       "      <td>0.783136</td>\n",
       "      <td>[HouseAge, AveRooms, AveBedrms, Population, AveOccup, Latitude, Longitude, HouseEval_nice, HouseEval_not_nice, WallColors_gray, WallColors_white]</td>\n",
       "      <td>0.810504</td>\n",
       "      <td>0.569479</td>\n",
       "      <td>0.762433</td>\n",
       "      <td>0.029422</td>\n",
       "      <td>0.786247</td>\n",
       "      <td>0.017792</td>\n",
       "      <td>0.596191</td>\n",
       "      <td>0.049580</td>\n",
       "    </tr>\n",
       "    <tr>\n",
       "      <th>2</th>\n",
       "      <td>[MedInc, HouseAge, AveRooms, AveBedrms, AveOccup, Latitude, Longitude, HouseEval_nice, HouseEval_not_nice]</td>\n",
       "      <td>0.784242</td>\n",
       "      <td>[HouseAge, AveRooms, AveBedrms, AveOccup, Latitude, Longitude, HouseEval_nice, HouseEval_not_nice, WallColors_gray, WallColors_white]</td>\n",
       "      <td>0.819701</td>\n",
       "      <td>0.579687</td>\n",
       "      <td>0.766375</td>\n",
       "      <td>0.024602</td>\n",
       "      <td>0.789357</td>\n",
       "      <td>0.042359</td>\n",
       "      <td>0.532935</td>\n",
       "      <td>0.055377</td>\n",
       "    </tr>\n",
       "    <tr>\n",
       "      <th>3</th>\n",
       "      <td>[MedInc, HouseAge, AveRooms, AveOccup, Latitude, Longitude, HouseEval_nice, HouseEval_not_nice]</td>\n",
       "      <td>0.782136</td>\n",
       "      <td>[HouseAge, AveRooms, AveOccup, Latitude, Longitude, HouseEval_nice, HouseEval_not_nice, WallColors_gray, WallColors_white]</td>\n",
       "      <td>0.823107</td>\n",
       "      <td>0.573282</td>\n",
       "      <td>0.762959</td>\n",
       "      <td>0.026715</td>\n",
       "      <td>0.786729</td>\n",
       "      <td>0.043275</td>\n",
       "      <td>0.528608</td>\n",
       "      <td>0.055331</td>\n",
       "    </tr>\n",
       "    <tr>\n",
       "      <th>4</th>\n",
       "      <td>[MedInc, HouseAge, AveRooms, AveOccup, Latitude, Longitude]</td>\n",
       "      <td>0.780797</td>\n",
       "      <td>[HouseAge, AveRooms, Latitude, Longitude, HouseEval_nice, HouseEval_not_nice, WallColors_gray, WallColors_white]</td>\n",
       "      <td>0.826048</td>\n",
       "      <td>0.587308</td>\n",
       "      <td>0.749637</td>\n",
       "      <td>0.044447</td>\n",
       "      <td>0.783358</td>\n",
       "      <td>0.050820</td>\n",
       "      <td>0.509634</td>\n",
       "      <td>0.078489</td>\n",
       "    </tr>\n",
       "    <tr>\n",
       "      <th>5</th>\n",
       "      <td>[MedInc, HouseAge, AveOccup, Latitude, Longitude]</td>\n",
       "      <td>0.776399</td>\n",
       "      <td>[HouseAge, AveRooms, Latitude, Longitude, WallColors_gray, WallColors_white]</td>\n",
       "      <td>0.825007</td>\n",
       "      <td>0.576532</td>\n",
       "      <td>0.743861</td>\n",
       "      <td>0.045557</td>\n",
       "      <td>0.763341</td>\n",
       "      <td>0.081809</td>\n",
       "      <td>0.470728</td>\n",
       "      <td>0.133257</td>\n",
       "    </tr>\n",
       "    <tr>\n",
       "      <th>6</th>\n",
       "      <td>[MedInc, AveOccup, Latitude, Longitude]</td>\n",
       "      <td>0.767023</td>\n",
       "      <td>[HouseAge, AveRooms, Latitude, Longitude]</td>\n",
       "      <td>0.826204</td>\n",
       "      <td>0.562033</td>\n",
       "      <td>0.717620</td>\n",
       "      <td>0.073182</td>\n",
       "      <td>0.755594</td>\n",
       "      <td>0.082546</td>\n",
       "      <td>0.421665</td>\n",
       "      <td>0.164988</td>\n",
       "    </tr>\n",
       "    <tr>\n",
       "      <th>7</th>\n",
       "      <td>[MedInc, AveOccup, Latitude]</td>\n",
       "      <td>0.745134</td>\n",
       "      <td>[HouseAge, Latitude, Longitude]</td>\n",
       "      <td>0.831278</td>\n",
       "      <td>0.497976</td>\n",
       "      <td>0.685270</td>\n",
       "      <td>0.076862</td>\n",
       "      <td>0.742161</td>\n",
       "      <td>0.087329</td>\n",
       "      <td>0.370983</td>\n",
       "      <td>0.162715</td>\n",
       "    </tr>\n",
       "    <tr>\n",
       "      <th>8</th>\n",
       "      <td>[MedInc, AveOccup]</td>\n",
       "      <td>0.738155</td>\n",
       "      <td>[Latitude, Longitude]</td>\n",
       "      <td>0.840624</td>\n",
       "      <td>0.510645</td>\n",
       "      <td>0.615847</td>\n",
       "      <td>0.137868</td>\n",
       "      <td>0.666243</td>\n",
       "      <td>0.124146</td>\n",
       "      <td>0.257750</td>\n",
       "      <td>0.186621</td>\n",
       "    </tr>\n",
       "    <tr>\n",
       "      <th>9</th>\n",
       "      <td>[MedInc]</td>\n",
       "      <td>0.691214</td>\n",
       "      <td>[Longitude]</td>\n",
       "      <td>0.615832</td>\n",
       "      <td>0.220298</td>\n",
       "      <td>0.527757</td>\n",
       "      <td>0.163457</td>\n",
       "      <td>0.608412</td>\n",
       "      <td>0.007420</td>\n",
       "      <td>0.141172</td>\n",
       "      <td>0.079127</td>\n",
       "    </tr>\n",
       "  </tbody>\n",
       "</table>\n",
       "</div>"
      ],
      "text/plain": [
       "                                                                                                                                  Best: M1 Included Features  \\\n",
       "0  [MedInc, HouseAge, AveRooms, AveBedrms, Population, AveOccup, Latitude, Longitude, HouseEval_nice, HouseEval_not_nice, WallColors_gray, WallColors_white]   \n",
       "1              [MedInc, HouseAge, AveRooms, AveBedrms, AveOccup, Latitude, Longitude, HouseEval_nice, HouseEval_not_nice, WallColors_gray, WallColors_white]   \n",
       "2                                                 [MedInc, HouseAge, AveRooms, AveBedrms, AveOccup, Latitude, Longitude, HouseEval_nice, HouseEval_not_nice]   \n",
       "3                                                            [MedInc, HouseAge, AveRooms, AveOccup, Latitude, Longitude, HouseEval_nice, HouseEval_not_nice]   \n",
       "4                                                                                                [MedInc, HouseAge, AveRooms, AveOccup, Latitude, Longitude]   \n",
       "5                                                                                                          [MedInc, HouseAge, AveOccup, Latitude, Longitude]   \n",
       "6                                                                                                                    [MedInc, AveOccup, Latitude, Longitude]   \n",
       "7                                                                                                                               [MedInc, AveOccup, Latitude]   \n",
       "8                                                                                                                                         [MedInc, AveOccup]   \n",
       "9                                                                                                                                                   [MedInc]   \n",
       "\n",
       "   Best: M1 f1  \\\n",
       "0     0.780280   \n",
       "1     0.783136   \n",
       "2     0.784242   \n",
       "3     0.782136   \n",
       "4     0.780797   \n",
       "5     0.776399   \n",
       "6     0.767023   \n",
       "7     0.745134   \n",
       "8     0.738155   \n",
       "9     0.691214   \n",
       "\n",
       "                                                                                                                                  Best: M2 Included Features  \\\n",
       "0  [MedInc, HouseAge, AveRooms, AveBedrms, Population, AveOccup, Latitude, Longitude, HouseEval_nice, HouseEval_not_nice, WallColors_gray, WallColors_white]   \n",
       "1          [HouseAge, AveRooms, AveBedrms, Population, AveOccup, Latitude, Longitude, HouseEval_nice, HouseEval_not_nice, WallColors_gray, WallColors_white]   \n",
       "2                      [HouseAge, AveRooms, AveBedrms, AveOccup, Latitude, Longitude, HouseEval_nice, HouseEval_not_nice, WallColors_gray, WallColors_white]   \n",
       "3                                 [HouseAge, AveRooms, AveOccup, Latitude, Longitude, HouseEval_nice, HouseEval_not_nice, WallColors_gray, WallColors_white]   \n",
       "4                                           [HouseAge, AveRooms, Latitude, Longitude, HouseEval_nice, HouseEval_not_nice, WallColors_gray, WallColors_white]   \n",
       "5                                                                               [HouseAge, AveRooms, Latitude, Longitude, WallColors_gray, WallColors_white]   \n",
       "6                                                                                                                  [HouseAge, AveRooms, Latitude, Longitude]   \n",
       "7                                                                                                                            [HouseAge, Latitude, Longitude]   \n",
       "8                                                                                                                                      [Latitude, Longitude]   \n",
       "9                                                                                                                                                [Longitude]   \n",
       "\n",
       "   Best: M2 f1  Best: Agreeability (cohen_kappa)  All: M1 Mean f1  \\\n",
       "0     0.788774                          0.638875         0.780280   \n",
       "1     0.810504                          0.569479         0.762433   \n",
       "2     0.819701                          0.579687         0.766375   \n",
       "3     0.823107                          0.573282         0.762959   \n",
       "4     0.826048                          0.587308         0.749637   \n",
       "5     0.825007                          0.576532         0.743861   \n",
       "6     0.826204                          0.562033         0.717620   \n",
       "7     0.831278                          0.497976         0.685270   \n",
       "8     0.840624                          0.510645         0.615847   \n",
       "9     0.615832                          0.220298         0.527757   \n",
       "\n",
       "   All: M1 STD f1  All: M2 Mean f1  All: M2 STD f1  \\\n",
       "0        0.000000         0.788774        0.000000   \n",
       "1        0.029422         0.786247        0.017792   \n",
       "2        0.024602         0.789357        0.042359   \n",
       "3        0.026715         0.786729        0.043275   \n",
       "4        0.044447         0.783358        0.050820   \n",
       "5        0.045557         0.763341        0.081809   \n",
       "6        0.073182         0.755594        0.082546   \n",
       "7        0.076862         0.742161        0.087329   \n",
       "8        0.137868         0.666243        0.124146   \n",
       "9        0.163457         0.608412        0.007420   \n",
       "\n",
       "   All: Mean Agreeability (cohen_kappa)  All: Agreeability St. Dev.  \n",
       "0                              0.638875                    0.000000  \n",
       "1                              0.596191                    0.049580  \n",
       "2                              0.532935                    0.055377  \n",
       "3                              0.528608                    0.055331  \n",
       "4                              0.509634                    0.078489  \n",
       "5                              0.470728                    0.133257  \n",
       "6                              0.421665                    0.164988  \n",
       "7                              0.370983                    0.162715  \n",
       "8                              0.257750                    0.186621  \n",
       "9                              0.141172                    0.079127  "
      ]
     },
     "execution_count": 115,
     "metadata": {},
     "output_type": "execute_result"
    }
   ],
   "source": [
    "results_df_2"
   ]
  },
  {
   "cell_type": "code",
   "execution_count": 116,
   "metadata": {},
   "outputs": [
    {
     "data": {
      "application/vnd.plotly.v1+json": {
       "config": {
        "plotlyServerURL": "https://plot.ly"
       },
       "data": [
        {
         "hoverinfo": "text",
         "hovertext": [
          "<br> Best: Agreeability (cohen_kappa): <br> 0.6389 <br> All: Mean Agreeability (cohen_kappa): <br> 0.6389 <br> All: Agreeability St. Dev.: <br> 0.0000",
          "<br> Best: Agreeability (cohen_kappa): <br> 0.5695 <br> All: Mean Agreeability (cohen_kappa): <br> 0.5962 <br> All: Agreeability St. Dev.: <br> 0.0496",
          "<br> Best: Agreeability (cohen_kappa): <br> 0.5797 <br> All: Mean Agreeability (cohen_kappa): <br> 0.5329 <br> All: Agreeability St. Dev.: <br> 0.0554",
          "<br> Best: Agreeability (cohen_kappa): <br> 0.5733 <br> All: Mean Agreeability (cohen_kappa): <br> 0.5286 <br> All: Agreeability St. Dev.: <br> 0.0553",
          "<br> Best: Agreeability (cohen_kappa): <br> 0.5873 <br> All: Mean Agreeability (cohen_kappa): <br> 0.5096 <br> All: Agreeability St. Dev.: <br> 0.0785",
          "<br> Best: Agreeability (cohen_kappa): <br> 0.5765 <br> All: Mean Agreeability (cohen_kappa): <br> 0.4707 <br> All: Agreeability St. Dev.: <br> 0.1333",
          "<br> Best: Agreeability (cohen_kappa): <br> 0.5620 <br> All: Mean Agreeability (cohen_kappa): <br> 0.4217 <br> All: Agreeability St. Dev.: <br> 0.1650",
          "<br> Best: Agreeability (cohen_kappa): <br> 0.4980 <br> All: Mean Agreeability (cohen_kappa): <br> 0.3710 <br> All: Agreeability St. Dev.: <br> 0.1627",
          "<br> Best: Agreeability (cohen_kappa): <br> 0.5106 <br> All: Mean Agreeability (cohen_kappa): <br> 0.2577 <br> All: Agreeability St. Dev.: <br> 0.1866",
          "<br> Best: Agreeability (cohen_kappa): <br> 0.2203 <br> All: Mean Agreeability (cohen_kappa): <br> 0.1412 <br> All: Agreeability St. Dev.: <br> 0.0791"
         ],
         "mode": "lines+markers",
         "name": "Best: Agreeability (cohen_kappa)",
         "type": "scatter",
         "x": [
          1,
          2,
          3,
          4,
          5,
          6,
          7,
          8,
          9,
          10
         ],
         "xaxis": "x",
         "y": [
          0.6388752806145795,
          0.5694791541924249,
          0.5796871354262122,
          0.5732820080431204,
          0.5873078177361782,
          0.5765318443388169,
          0.562033273466301,
          0.4979763984152004,
          0.5106450416022617,
          0.2202984662586311
         ],
         "yaxis": "y"
        },
        {
         "hoverinfo": "text",
         "hovertext": [
          "<br> Best: M1 f1: <br> 0.7803 <br> Best: M1 Included Features: <br> MedInc, HouseAge, AveRooms, AveBedrms, Population, AveOccup, Latitude, Longitude, HouseEval_nice, HouseEval_not_nice, WallColors_gray, WallColors_white <br> All: M1 Mean f1: <br> 0.7803 <br> All: M1 STD f1: <br> 0.0000",
          "<br> Best: M1 f1: <br> 0.7831 <br> Best: M1 Included Features: <br> MedInc, HouseAge, AveRooms, AveBedrms, AveOccup, Latitude, Longitude, HouseEval_nice, HouseEval_not_nice, WallColors_gray, WallColors_white <br> All: M1 Mean f1: <br> 0.7624 <br> All: M1 STD f1: <br> 0.0294",
          "<br> Best: M1 f1: <br> 0.7842 <br> Best: M1 Included Features: <br> MedInc, HouseAge, AveRooms, AveBedrms, AveOccup, Latitude, Longitude, HouseEval_nice, HouseEval_not_nice <br> All: M1 Mean f1: <br> 0.7664 <br> All: M1 STD f1: <br> 0.0246",
          "<br> Best: M1 f1: <br> 0.7821 <br> Best: M1 Included Features: <br> MedInc, HouseAge, AveRooms, AveOccup, Latitude, Longitude, HouseEval_nice, HouseEval_not_nice <br> All: M1 Mean f1: <br> 0.7630 <br> All: M1 STD f1: <br> 0.0267",
          "<br> Best: M1 f1: <br> 0.7808 <br> Best: M1 Included Features: <br> MedInc, HouseAge, AveRooms, AveOccup, Latitude, Longitude <br> All: M1 Mean f1: <br> 0.7496 <br> All: M1 STD f1: <br> 0.0444",
          "<br> Best: M1 f1: <br> 0.7764 <br> Best: M1 Included Features: <br> MedInc, HouseAge, AveOccup, Latitude, Longitude <br> All: M1 Mean f1: <br> 0.7439 <br> All: M1 STD f1: <br> 0.0456",
          "<br> Best: M1 f1: <br> 0.7670 <br> Best: M1 Included Features: <br> MedInc, AveOccup, Latitude, Longitude <br> All: M1 Mean f1: <br> 0.7176 <br> All: M1 STD f1: <br> 0.0732",
          "<br> Best: M1 f1: <br> 0.7451 <br> Best: M1 Included Features: <br> MedInc, AveOccup, Latitude <br> All: M1 Mean f1: <br> 0.6853 <br> All: M1 STD f1: <br> 0.0769",
          "<br> Best: M1 f1: <br> 0.7382 <br> Best: M1 Included Features: <br> MedInc, AveOccup <br> All: M1 Mean f1: <br> 0.6158 <br> All: M1 STD f1: <br> 0.1379",
          "<br> Best: M1 f1: <br> 0.6912 <br> Best: M1 Included Features: <br> MedInc <br> All: M1 Mean f1: <br> 0.5278 <br> All: M1 STD f1: <br> 0.1635"
         ],
         "mode": "lines+markers",
         "name": "Best: M1 f1",
         "type": "scatter",
         "x": [
          1,
          2,
          3,
          4,
          5,
          6,
          7,
          8,
          9,
          10
         ],
         "xaxis": "x",
         "y": [
          0.780279975654291,
          0.7831361844100697,
          0.7842424242424242,
          0.7821363910681955,
          0.7807971014492755,
          0.7763993948562784,
          0.7670229007633588,
          0.7451343836886006,
          0.7381546134663343,
          0.6912144702842378
         ],
         "yaxis": "y2"
        },
        {
         "hoverinfo": "text",
         "hovertext": [
          "<br> Best: M2 f1: <br> 0.7888 <br> Best: M2 Included Features: <br> MedInc, HouseAge, AveRooms, AveBedrms, Population, AveOccup, Latitude, Longitude, HouseEval_nice, HouseEval_not_nice, WallColors_gray, WallColors_white <br> All: M2 Mean f1: <br> 0.7888 <br> All: M2 STD f1: <br> 0.0000",
          "<br> Best: M2 f1: <br> 0.8105 <br> Best: M2 Included Features: <br> HouseAge, AveRooms, AveBedrms, Population, AveOccup, Latitude, Longitude, HouseEval_nice, HouseEval_not_nice, WallColors_gray, WallColors_white <br> All: M2 Mean f1: <br> 0.7862 <br> All: M2 STD f1: <br> 0.0178",
          "<br> Best: M2 f1: <br> 0.8197 <br> Best: M2 Included Features: <br> HouseAge, AveRooms, AveBedrms, AveOccup, Latitude, Longitude, HouseEval_nice, HouseEval_not_nice, WallColors_gray, WallColors_white <br> All: M2 Mean f1: <br> 0.7894 <br> All: M2 STD f1: <br> 0.0424",
          "<br> Best: M2 f1: <br> 0.8231 <br> Best: M2 Included Features: <br> HouseAge, AveRooms, AveOccup, Latitude, Longitude, HouseEval_nice, HouseEval_not_nice, WallColors_gray, WallColors_white <br> All: M2 Mean f1: <br> 0.7867 <br> All: M2 STD f1: <br> 0.0433",
          "<br> Best: M2 f1: <br> 0.8260 <br> Best: M2 Included Features: <br> HouseAge, AveRooms, Latitude, Longitude, HouseEval_nice, HouseEval_not_nice, WallColors_gray, WallColors_white <br> All: M2 Mean f1: <br> 0.7834 <br> All: M2 STD f1: <br> 0.0508",
          "<br> Best: M2 f1: <br> 0.8250 <br> Best: M2 Included Features: <br> HouseAge, AveRooms, Latitude, Longitude, WallColors_gray, WallColors_white <br> All: M2 Mean f1: <br> 0.7633 <br> All: M2 STD f1: <br> 0.0818",
          "<br> Best: M2 f1: <br> 0.8262 <br> Best: M2 Included Features: <br> HouseAge, AveRooms, Latitude, Longitude <br> All: M2 Mean f1: <br> 0.7556 <br> All: M2 STD f1: <br> 0.0825",
          "<br> Best: M2 f1: <br> 0.8313 <br> Best: M2 Included Features: <br> HouseAge, Latitude, Longitude <br> All: M2 Mean f1: <br> 0.7422 <br> All: M2 STD f1: <br> 0.0873",
          "<br> Best: M2 f1: <br> 0.8406 <br> Best: M2 Included Features: <br> Latitude, Longitude <br> All: M2 Mean f1: <br> 0.6662 <br> All: M2 STD f1: <br> 0.1241",
          "<br> Best: M2 f1: <br> 0.6158 <br> Best: M2 Included Features: <br> Longitude <br> All: M2 Mean f1: <br> 0.6084 <br> All: M2 STD f1: <br> 0.0074"
         ],
         "mode": "lines+markers",
         "name": "Best: M2 f1",
         "type": "scatter",
         "x": [
          1,
          2,
          3,
          4,
          5,
          6,
          7,
          8,
          9,
          10
         ],
         "xaxis": "x",
         "y": [
          0.7887740029542099,
          0.8105043270665473,
          0.8197014925373134,
          0.8231068542352589,
          0.826047633403678,
          0.8250074783128926,
          0.8262040083757104,
          0.8312781954887217,
          0.8406240440501682,
          0.615831987075929
         ],
         "yaxis": "y2"
        }
       ],
       "layout": {
        "hovermode": "closest",
        "template": {
         "data": {
          "bar": [
           {
            "error_x": {
             "color": "#2a3f5f"
            },
            "error_y": {
             "color": "#2a3f5f"
            },
            "marker": {
             "line": {
              "color": "#E5ECF6",
              "width": 0.5
             },
             "pattern": {
              "fillmode": "overlay",
              "size": 10,
              "solidity": 0.2
             }
            },
            "type": "bar"
           }
          ],
          "barpolar": [
           {
            "marker": {
             "line": {
              "color": "#E5ECF6",
              "width": 0.5
             },
             "pattern": {
              "fillmode": "overlay",
              "size": 10,
              "solidity": 0.2
             }
            },
            "type": "barpolar"
           }
          ],
          "carpet": [
           {
            "aaxis": {
             "endlinecolor": "#2a3f5f",
             "gridcolor": "white",
             "linecolor": "white",
             "minorgridcolor": "white",
             "startlinecolor": "#2a3f5f"
            },
            "baxis": {
             "endlinecolor": "#2a3f5f",
             "gridcolor": "white",
             "linecolor": "white",
             "minorgridcolor": "white",
             "startlinecolor": "#2a3f5f"
            },
            "type": "carpet"
           }
          ],
          "choropleth": [
           {
            "colorbar": {
             "outlinewidth": 0,
             "ticks": ""
            },
            "type": "choropleth"
           }
          ],
          "contour": [
           {
            "colorbar": {
             "outlinewidth": 0,
             "ticks": ""
            },
            "colorscale": [
             [
              0,
              "#0d0887"
             ],
             [
              0.1111111111111111,
              "#46039f"
             ],
             [
              0.2222222222222222,
              "#7201a8"
             ],
             [
              0.3333333333333333,
              "#9c179e"
             ],
             [
              0.4444444444444444,
              "#bd3786"
             ],
             [
              0.5555555555555556,
              "#d8576b"
             ],
             [
              0.6666666666666666,
              "#ed7953"
             ],
             [
              0.7777777777777778,
              "#fb9f3a"
             ],
             [
              0.8888888888888888,
              "#fdca26"
             ],
             [
              1,
              "#f0f921"
             ]
            ],
            "type": "contour"
           }
          ],
          "contourcarpet": [
           {
            "colorbar": {
             "outlinewidth": 0,
             "ticks": ""
            },
            "type": "contourcarpet"
           }
          ],
          "heatmap": [
           {
            "colorbar": {
             "outlinewidth": 0,
             "ticks": ""
            },
            "colorscale": [
             [
              0,
              "#0d0887"
             ],
             [
              0.1111111111111111,
              "#46039f"
             ],
             [
              0.2222222222222222,
              "#7201a8"
             ],
             [
              0.3333333333333333,
              "#9c179e"
             ],
             [
              0.4444444444444444,
              "#bd3786"
             ],
             [
              0.5555555555555556,
              "#d8576b"
             ],
             [
              0.6666666666666666,
              "#ed7953"
             ],
             [
              0.7777777777777778,
              "#fb9f3a"
             ],
             [
              0.8888888888888888,
              "#fdca26"
             ],
             [
              1,
              "#f0f921"
             ]
            ],
            "type": "heatmap"
           }
          ],
          "heatmapgl": [
           {
            "colorbar": {
             "outlinewidth": 0,
             "ticks": ""
            },
            "colorscale": [
             [
              0,
              "#0d0887"
             ],
             [
              0.1111111111111111,
              "#46039f"
             ],
             [
              0.2222222222222222,
              "#7201a8"
             ],
             [
              0.3333333333333333,
              "#9c179e"
             ],
             [
              0.4444444444444444,
              "#bd3786"
             ],
             [
              0.5555555555555556,
              "#d8576b"
             ],
             [
              0.6666666666666666,
              "#ed7953"
             ],
             [
              0.7777777777777778,
              "#fb9f3a"
             ],
             [
              0.8888888888888888,
              "#fdca26"
             ],
             [
              1,
              "#f0f921"
             ]
            ],
            "type": "heatmapgl"
           }
          ],
          "histogram": [
           {
            "marker": {
             "pattern": {
              "fillmode": "overlay",
              "size": 10,
              "solidity": 0.2
             }
            },
            "type": "histogram"
           }
          ],
          "histogram2d": [
           {
            "colorbar": {
             "outlinewidth": 0,
             "ticks": ""
            },
            "colorscale": [
             [
              0,
              "#0d0887"
             ],
             [
              0.1111111111111111,
              "#46039f"
             ],
             [
              0.2222222222222222,
              "#7201a8"
             ],
             [
              0.3333333333333333,
              "#9c179e"
             ],
             [
              0.4444444444444444,
              "#bd3786"
             ],
             [
              0.5555555555555556,
              "#d8576b"
             ],
             [
              0.6666666666666666,
              "#ed7953"
             ],
             [
              0.7777777777777778,
              "#fb9f3a"
             ],
             [
              0.8888888888888888,
              "#fdca26"
             ],
             [
              1,
              "#f0f921"
             ]
            ],
            "type": "histogram2d"
           }
          ],
          "histogram2dcontour": [
           {
            "colorbar": {
             "outlinewidth": 0,
             "ticks": ""
            },
            "colorscale": [
             [
              0,
              "#0d0887"
             ],
             [
              0.1111111111111111,
              "#46039f"
             ],
             [
              0.2222222222222222,
              "#7201a8"
             ],
             [
              0.3333333333333333,
              "#9c179e"
             ],
             [
              0.4444444444444444,
              "#bd3786"
             ],
             [
              0.5555555555555556,
              "#d8576b"
             ],
             [
              0.6666666666666666,
              "#ed7953"
             ],
             [
              0.7777777777777778,
              "#fb9f3a"
             ],
             [
              0.8888888888888888,
              "#fdca26"
             ],
             [
              1,
              "#f0f921"
             ]
            ],
            "type": "histogram2dcontour"
           }
          ],
          "mesh3d": [
           {
            "colorbar": {
             "outlinewidth": 0,
             "ticks": ""
            },
            "type": "mesh3d"
           }
          ],
          "parcoords": [
           {
            "line": {
             "colorbar": {
              "outlinewidth": 0,
              "ticks": ""
             }
            },
            "type": "parcoords"
           }
          ],
          "pie": [
           {
            "automargin": true,
            "type": "pie"
           }
          ],
          "scatter": [
           {
            "fillpattern": {
             "fillmode": "overlay",
             "size": 10,
             "solidity": 0.2
            },
            "type": "scatter"
           }
          ],
          "scatter3d": [
           {
            "line": {
             "colorbar": {
              "outlinewidth": 0,
              "ticks": ""
             }
            },
            "marker": {
             "colorbar": {
              "outlinewidth": 0,
              "ticks": ""
             }
            },
            "type": "scatter3d"
           }
          ],
          "scattercarpet": [
           {
            "marker": {
             "colorbar": {
              "outlinewidth": 0,
              "ticks": ""
             }
            },
            "type": "scattercarpet"
           }
          ],
          "scattergeo": [
           {
            "marker": {
             "colorbar": {
              "outlinewidth": 0,
              "ticks": ""
             }
            },
            "type": "scattergeo"
           }
          ],
          "scattergl": [
           {
            "marker": {
             "colorbar": {
              "outlinewidth": 0,
              "ticks": ""
             }
            },
            "type": "scattergl"
           }
          ],
          "scattermapbox": [
           {
            "marker": {
             "colorbar": {
              "outlinewidth": 0,
              "ticks": ""
             }
            },
            "type": "scattermapbox"
           }
          ],
          "scatterpolar": [
           {
            "marker": {
             "colorbar": {
              "outlinewidth": 0,
              "ticks": ""
             }
            },
            "type": "scatterpolar"
           }
          ],
          "scatterpolargl": [
           {
            "marker": {
             "colorbar": {
              "outlinewidth": 0,
              "ticks": ""
             }
            },
            "type": "scatterpolargl"
           }
          ],
          "scatterternary": [
           {
            "marker": {
             "colorbar": {
              "outlinewidth": 0,
              "ticks": ""
             }
            },
            "type": "scatterternary"
           }
          ],
          "surface": [
           {
            "colorbar": {
             "outlinewidth": 0,
             "ticks": ""
            },
            "colorscale": [
             [
              0,
              "#0d0887"
             ],
             [
              0.1111111111111111,
              "#46039f"
             ],
             [
              0.2222222222222222,
              "#7201a8"
             ],
             [
              0.3333333333333333,
              "#9c179e"
             ],
             [
              0.4444444444444444,
              "#bd3786"
             ],
             [
              0.5555555555555556,
              "#d8576b"
             ],
             [
              0.6666666666666666,
              "#ed7953"
             ],
             [
              0.7777777777777778,
              "#fb9f3a"
             ],
             [
              0.8888888888888888,
              "#fdca26"
             ],
             [
              1,
              "#f0f921"
             ]
            ],
            "type": "surface"
           }
          ],
          "table": [
           {
            "cells": {
             "fill": {
              "color": "#EBF0F8"
             },
             "line": {
              "color": "white"
             }
            },
            "header": {
             "fill": {
              "color": "#C8D4E3"
             },
             "line": {
              "color": "white"
             }
            },
            "type": "table"
           }
          ]
         },
         "layout": {
          "annotationdefaults": {
           "arrowcolor": "#2a3f5f",
           "arrowhead": 0,
           "arrowwidth": 1
          },
          "autotypenumbers": "strict",
          "coloraxis": {
           "colorbar": {
            "outlinewidth": 0,
            "ticks": ""
           }
          },
          "colorscale": {
           "diverging": [
            [
             0,
             "#8e0152"
            ],
            [
             0.1,
             "#c51b7d"
            ],
            [
             0.2,
             "#de77ae"
            ],
            [
             0.3,
             "#f1b6da"
            ],
            [
             0.4,
             "#fde0ef"
            ],
            [
             0.5,
             "#f7f7f7"
            ],
            [
             0.6,
             "#e6f5d0"
            ],
            [
             0.7,
             "#b8e186"
            ],
            [
             0.8,
             "#7fbc41"
            ],
            [
             0.9,
             "#4d9221"
            ],
            [
             1,
             "#276419"
            ]
           ],
           "sequential": [
            [
             0,
             "#0d0887"
            ],
            [
             0.1111111111111111,
             "#46039f"
            ],
            [
             0.2222222222222222,
             "#7201a8"
            ],
            [
             0.3333333333333333,
             "#9c179e"
            ],
            [
             0.4444444444444444,
             "#bd3786"
            ],
            [
             0.5555555555555556,
             "#d8576b"
            ],
            [
             0.6666666666666666,
             "#ed7953"
            ],
            [
             0.7777777777777778,
             "#fb9f3a"
            ],
            [
             0.8888888888888888,
             "#fdca26"
            ],
            [
             1,
             "#f0f921"
            ]
           ],
           "sequentialminus": [
            [
             0,
             "#0d0887"
            ],
            [
             0.1111111111111111,
             "#46039f"
            ],
            [
             0.2222222222222222,
             "#7201a8"
            ],
            [
             0.3333333333333333,
             "#9c179e"
            ],
            [
             0.4444444444444444,
             "#bd3786"
            ],
            [
             0.5555555555555556,
             "#d8576b"
            ],
            [
             0.6666666666666666,
             "#ed7953"
            ],
            [
             0.7777777777777778,
             "#fb9f3a"
            ],
            [
             0.8888888888888888,
             "#fdca26"
            ],
            [
             1,
             "#f0f921"
            ]
           ]
          },
          "colorway": [
           "#636efa",
           "#EF553B",
           "#00cc96",
           "#ab63fa",
           "#FFA15A",
           "#19d3f3",
           "#FF6692",
           "#B6E880",
           "#FF97FF",
           "#FECB52"
          ],
          "font": {
           "color": "#2a3f5f"
          },
          "geo": {
           "bgcolor": "white",
           "lakecolor": "white",
           "landcolor": "#E5ECF6",
           "showlakes": true,
           "showland": true,
           "subunitcolor": "white"
          },
          "hoverlabel": {
           "align": "left"
          },
          "hovermode": "closest",
          "mapbox": {
           "style": "light"
          },
          "paper_bgcolor": "white",
          "plot_bgcolor": "#E5ECF6",
          "polar": {
           "angularaxis": {
            "gridcolor": "white",
            "linecolor": "white",
            "ticks": ""
           },
           "bgcolor": "#E5ECF6",
           "radialaxis": {
            "gridcolor": "white",
            "linecolor": "white",
            "ticks": ""
           }
          },
          "scene": {
           "xaxis": {
            "backgroundcolor": "#E5ECF6",
            "gridcolor": "white",
            "gridwidth": 2,
            "linecolor": "white",
            "showbackground": true,
            "ticks": "",
            "zerolinecolor": "white"
           },
           "yaxis": {
            "backgroundcolor": "#E5ECF6",
            "gridcolor": "white",
            "gridwidth": 2,
            "linecolor": "white",
            "showbackground": true,
            "ticks": "",
            "zerolinecolor": "white"
           },
           "zaxis": {
            "backgroundcolor": "#E5ECF6",
            "gridcolor": "white",
            "gridwidth": 2,
            "linecolor": "white",
            "showbackground": true,
            "ticks": "",
            "zerolinecolor": "white"
           }
          },
          "shapedefaults": {
           "line": {
            "color": "#2a3f5f"
           }
          },
          "ternary": {
           "aaxis": {
            "gridcolor": "white",
            "linecolor": "white",
            "ticks": ""
           },
           "baxis": {
            "gridcolor": "white",
            "linecolor": "white",
            "ticks": ""
           },
           "bgcolor": "#E5ECF6",
           "caxis": {
            "gridcolor": "white",
            "linecolor": "white",
            "ticks": ""
           }
          },
          "title": {
           "x": 0.05
          },
          "xaxis": {
           "automargin": true,
           "gridcolor": "white",
           "linecolor": "white",
           "ticks": "",
           "title": {
            "standoff": 15
           },
           "zerolinecolor": "white",
           "zerolinewidth": 2
          },
          "yaxis": {
           "automargin": true,
           "gridcolor": "white",
           "linecolor": "white",
           "ticks": "",
           "title": {
            "standoff": 15
           },
           "zerolinecolor": "white",
           "zerolinewidth": 2
          }
         }
        },
        "title": {
         "text": "Agreeability Coefficients and Model Scores Over Algorithm Iterations"
        },
        "xaxis": {
         "anchor": "y",
         "domain": [
          0,
          0.94
         ],
         "title": {
          "text": "Iteration"
         },
         "type": "category"
        },
        "yaxis": {
         "anchor": "x",
         "domain": [
          0,
          1
         ],
         "title": {
          "text": "Agreeability"
         }
        },
        "yaxis2": {
         "anchor": "x",
         "overlaying": "y",
         "side": "right",
         "title": {
          "text": "Model Scores"
         }
        }
       }
      }
     },
     "metadata": {},
     "output_type": "display_data"
    }
   ],
   "source": [
    "seeker_2.plot_from_results()"
   ]
  },
  {
   "cell_type": "markdown",
   "metadata": {},
   "source": [
    "### Working Code for 3D Plot\n",
    "\n",
    "```python\n",
    "\n",
    "# Create a 3D scatter plot\n",
    "fig = go.Figure(data=[\n",
    "    go.Scatter3d(\n",
    "        x=df.index + 1,\n",
    "        y=df.iloc[:, 4],\n",
    "        z=df.iloc[:, 1], \n",
    "        mode='lines+markers',\n",
    "        name=f'{df.columns[1]}',\n",
    "        text=df['Summary_M1'],\n",
    "        hoverinfo='text'\n",
    "    ),\n",
    "    go.Scatter3d(\n",
    "        x=df.index + 1,\n",
    "        y=df.iloc[:, 4],\n",
    "        z=df.iloc[:, 3], \n",
    "        mode='lines+markers',\n",
    "        name=f'{df.columns[3]}',\n",
    "        text=df['Summary_M2'],\n",
    "        hoverinfo='text'\n",
    "    )\n",
    "])\n",
    "\n",
    "# Update layout\n",
    "fig.update_layout(\n",
    "    title='Agreeability Coefficients and Model Scores Over Algorithm Iterations',\n",
    "    scene=dict(\n",
    "        xaxis_title='Iteration',\n",
    "        yaxis_title='Agreeability',\n",
    "        zaxis_title='Model Scores'\n",
    "    ),\n",
    "    hovermode='closest'\n",
    ")\n",
    "\n",
    "# Show the plot\n",
    "fig.show()\n",
    "\n",
    "```"
   ]
  },
  {
   "cell_type": "markdown",
   "metadata": {},
   "source": [
    "### Dependencies"
   ]
  },
  {
   "cell_type": "code",
   "execution_count": 30,
   "metadata": {},
   "outputs": [],
   "source": [
    "import numpy as np\n",
    "import pandas as pd\n",
    "import statsmodels\n",
    "import sklearn\n",
    "import scipy\n",
    "import plotly\n",
    "import matplotlib\n",
    "import seaborn as sns\n",
    "import tensorflow as tf\n"
   ]
  },
  {
   "cell_type": "code",
   "execution_count": 32,
   "metadata": {},
   "outputs": [
    {
     "name": "stdout",
     "output_type": "stream",
     "text": [
      "pandas: 1.5.3\n",
      "numpy: 1.20.3\n",
      "statsmodels: 0.13.5\n",
      "sklearn: 1.2.2\n",
      "scipy: 1.10.0\n",
      "plotly: 5.18.0\n",
      "matplotlib: 3.3.4\n",
      "seaborn: 0.11.1\n",
      "tensorflow: 2.10.1\n"
     ]
    }
   ],
   "source": [
    "print(f'pandas: {pd.__version__}')\n",
    "print(f'numpy: {np.__version__}')\n",
    "print(f'statsmodels: {statsmodels.__version__}')\n",
    "print(f'sklearn: {sklearn.__version__}')\n",
    "print(f'scipy: {scipy.__version__}')\n",
    "print(f'plotly: {plotly.__version__}')\n",
    "print(f'matplotlib: {matplotlib.__version__}')\n",
    "print(f'seaborn: {sns.__version__}')\n",
    "print(f'tensorflow: {tf.__version__}')\n"
   ]
  }
 ],
 "metadata": {
  "kernelspec": {
   "display_name": "DEDA",
   "language": "python",
   "name": "python3"
  },
  "language_info": {
   "codemirror_mode": {
    "name": "ipython",
    "version": 3
   },
   "file_extension": ".py",
   "mimetype": "text/x-python",
   "name": "python",
   "nbconvert_exporter": "python",
   "pygments_lexer": "ipython3",
   "version": "3.9.17"
  }
 },
 "nbformat": 4,
 "nbformat_minor": 2
}
