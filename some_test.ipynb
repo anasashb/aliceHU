{
 "cells": [
  {
   "cell_type": "markdown",
   "metadata": {},
   "source": [
    "## **A**utomated **L**earning for **I**nsightful **C**omparison and **E**valuation - (ALICE)"
   ]
  },
  {
   "cell_type": "code",
   "execution_count": 1,
   "metadata": {},
   "outputs": [],
   "source": [
    "import numpy as np\n",
    "import pandas as pd\n",
    "import os\n",
    "cur_dir = os.getcwd()"
   ]
  },
  {
   "cell_type": "code",
   "execution_count": 2,
   "metadata": {},
   "outputs": [
    {
     "name": "stderr",
     "output_type": "stream",
     "text": [
      "<frozen importlib._bootstrap>:228: RuntimeWarning: scipy._lib.messagestream.MessageStream size changed, may indicate binary incompatibility. Expected 56 from C header, got 64 from PyObject\n"
     ]
    }
   ],
   "source": [
    "## Just to test stuff out\n",
    "from sklearn.datasets import fetch_california_housing\n",
    "\n",
    "data = fetch_california_housing()\n",
    "\n",
    "X = pd.DataFrame(data=data.data, columns=data.feature_names)\n",
    "y = pd.DataFrame(data=data.target, columns=data.target_names)\n",
    "\n",
    "df = pd.concat([X,y], axis=1)"
   ]
  },
  {
   "cell_type": "code",
   "execution_count": 3,
   "metadata": {},
   "outputs": [
    {
     "data": {
      "text/html": [
       "<div>\n",
       "<style scoped>\n",
       "    .dataframe tbody tr th:only-of-type {\n",
       "        vertical-align: middle;\n",
       "    }\n",
       "\n",
       "    .dataframe tbody tr th {\n",
       "        vertical-align: top;\n",
       "    }\n",
       "\n",
       "    .dataframe thead th {\n",
       "        text-align: right;\n",
       "    }\n",
       "</style>\n",
       "<table border=\"1\" class=\"dataframe\">\n",
       "  <thead>\n",
       "    <tr style=\"text-align: right;\">\n",
       "      <th></th>\n",
       "      <th>MedInc</th>\n",
       "      <th>HouseAge</th>\n",
       "      <th>AveRooms</th>\n",
       "      <th>AveBedrms</th>\n",
       "      <th>Population</th>\n",
       "      <th>AveOccup</th>\n",
       "      <th>Latitude</th>\n",
       "      <th>Longitude</th>\n",
       "      <th>MedHouseVal</th>\n",
       "    </tr>\n",
       "  </thead>\n",
       "  <tbody>\n",
       "    <tr>\n",
       "      <th>0</th>\n",
       "      <td>8.3252</td>\n",
       "      <td>41.0</td>\n",
       "      <td>6.984127</td>\n",
       "      <td>1.023810</td>\n",
       "      <td>322.0</td>\n",
       "      <td>2.555556</td>\n",
       "      <td>37.88</td>\n",
       "      <td>-122.23</td>\n",
       "      <td>4.526</td>\n",
       "    </tr>\n",
       "    <tr>\n",
       "      <th>1</th>\n",
       "      <td>8.3014</td>\n",
       "      <td>21.0</td>\n",
       "      <td>6.238137</td>\n",
       "      <td>0.971880</td>\n",
       "      <td>2401.0</td>\n",
       "      <td>2.109842</td>\n",
       "      <td>37.86</td>\n",
       "      <td>-122.22</td>\n",
       "      <td>3.585</td>\n",
       "    </tr>\n",
       "    <tr>\n",
       "      <th>2</th>\n",
       "      <td>7.2574</td>\n",
       "      <td>52.0</td>\n",
       "      <td>8.288136</td>\n",
       "      <td>1.073446</td>\n",
       "      <td>496.0</td>\n",
       "      <td>2.802260</td>\n",
       "      <td>37.85</td>\n",
       "      <td>-122.24</td>\n",
       "      <td>3.521</td>\n",
       "    </tr>\n",
       "    <tr>\n",
       "      <th>3</th>\n",
       "      <td>5.6431</td>\n",
       "      <td>52.0</td>\n",
       "      <td>5.817352</td>\n",
       "      <td>1.073059</td>\n",
       "      <td>558.0</td>\n",
       "      <td>2.547945</td>\n",
       "      <td>37.85</td>\n",
       "      <td>-122.25</td>\n",
       "      <td>3.413</td>\n",
       "    </tr>\n",
       "    <tr>\n",
       "      <th>4</th>\n",
       "      <td>3.8462</td>\n",
       "      <td>52.0</td>\n",
       "      <td>6.281853</td>\n",
       "      <td>1.081081</td>\n",
       "      <td>565.0</td>\n",
       "      <td>2.181467</td>\n",
       "      <td>37.85</td>\n",
       "      <td>-122.25</td>\n",
       "      <td>3.422</td>\n",
       "    </tr>\n",
       "    <tr>\n",
       "      <th>...</th>\n",
       "      <td>...</td>\n",
       "      <td>...</td>\n",
       "      <td>...</td>\n",
       "      <td>...</td>\n",
       "      <td>...</td>\n",
       "      <td>...</td>\n",
       "      <td>...</td>\n",
       "      <td>...</td>\n",
       "      <td>...</td>\n",
       "    </tr>\n",
       "    <tr>\n",
       "      <th>20635</th>\n",
       "      <td>1.5603</td>\n",
       "      <td>25.0</td>\n",
       "      <td>5.045455</td>\n",
       "      <td>1.133333</td>\n",
       "      <td>845.0</td>\n",
       "      <td>2.560606</td>\n",
       "      <td>39.48</td>\n",
       "      <td>-121.09</td>\n",
       "      <td>0.781</td>\n",
       "    </tr>\n",
       "    <tr>\n",
       "      <th>20636</th>\n",
       "      <td>2.5568</td>\n",
       "      <td>18.0</td>\n",
       "      <td>6.114035</td>\n",
       "      <td>1.315789</td>\n",
       "      <td>356.0</td>\n",
       "      <td>3.122807</td>\n",
       "      <td>39.49</td>\n",
       "      <td>-121.21</td>\n",
       "      <td>0.771</td>\n",
       "    </tr>\n",
       "    <tr>\n",
       "      <th>20637</th>\n",
       "      <td>1.7000</td>\n",
       "      <td>17.0</td>\n",
       "      <td>5.205543</td>\n",
       "      <td>1.120092</td>\n",
       "      <td>1007.0</td>\n",
       "      <td>2.325635</td>\n",
       "      <td>39.43</td>\n",
       "      <td>-121.22</td>\n",
       "      <td>0.923</td>\n",
       "    </tr>\n",
       "    <tr>\n",
       "      <th>20638</th>\n",
       "      <td>1.8672</td>\n",
       "      <td>18.0</td>\n",
       "      <td>5.329513</td>\n",
       "      <td>1.171920</td>\n",
       "      <td>741.0</td>\n",
       "      <td>2.123209</td>\n",
       "      <td>39.43</td>\n",
       "      <td>-121.32</td>\n",
       "      <td>0.847</td>\n",
       "    </tr>\n",
       "    <tr>\n",
       "      <th>20639</th>\n",
       "      <td>2.3886</td>\n",
       "      <td>16.0</td>\n",
       "      <td>5.254717</td>\n",
       "      <td>1.162264</td>\n",
       "      <td>1387.0</td>\n",
       "      <td>2.616981</td>\n",
       "      <td>39.37</td>\n",
       "      <td>-121.24</td>\n",
       "      <td>0.894</td>\n",
       "    </tr>\n",
       "  </tbody>\n",
       "</table>\n",
       "<p>20640 rows × 9 columns</p>\n",
       "</div>"
      ],
      "text/plain": [
       "       MedInc  HouseAge  AveRooms  AveBedrms  Population  AveOccup  Latitude  \\\n",
       "0      8.3252      41.0  6.984127   1.023810       322.0  2.555556     37.88   \n",
       "1      8.3014      21.0  6.238137   0.971880      2401.0  2.109842     37.86   \n",
       "2      7.2574      52.0  8.288136   1.073446       496.0  2.802260     37.85   \n",
       "3      5.6431      52.0  5.817352   1.073059       558.0  2.547945     37.85   \n",
       "4      3.8462      52.0  6.281853   1.081081       565.0  2.181467     37.85   \n",
       "...       ...       ...       ...        ...         ...       ...       ...   \n",
       "20635  1.5603      25.0  5.045455   1.133333       845.0  2.560606     39.48   \n",
       "20636  2.5568      18.0  6.114035   1.315789       356.0  3.122807     39.49   \n",
       "20637  1.7000      17.0  5.205543   1.120092      1007.0  2.325635     39.43   \n",
       "20638  1.8672      18.0  5.329513   1.171920       741.0  2.123209     39.43   \n",
       "20639  2.3886      16.0  5.254717   1.162264      1387.0  2.616981     39.37   \n",
       "\n",
       "       Longitude  MedHouseVal  \n",
       "0        -122.23        4.526  \n",
       "1        -122.22        3.585  \n",
       "2        -122.24        3.521  \n",
       "3        -122.25        3.413  \n",
       "4        -122.25        3.422  \n",
       "...          ...          ...  \n",
       "20635    -121.09        0.781  \n",
       "20636    -121.21        0.771  \n",
       "20637    -121.22        0.923  \n",
       "20638    -121.32        0.847  \n",
       "20639    -121.24        0.894  \n",
       "\n",
       "[20640 rows x 9 columns]"
      ]
     },
     "execution_count": 3,
     "metadata": {},
     "output_type": "execute_result"
    }
   ],
   "source": [
    "df"
   ]
  },
  {
   "cell_type": "code",
   "execution_count": 4,
   "metadata": {},
   "outputs": [
    {
     "data": {
      "text/html": [
       "<div>\n",
       "<style scoped>\n",
       "    .dataframe tbody tr th:only-of-type {\n",
       "        vertical-align: middle;\n",
       "    }\n",
       "\n",
       "    .dataframe tbody tr th {\n",
       "        vertical-align: top;\n",
       "    }\n",
       "\n",
       "    .dataframe thead th {\n",
       "        text-align: right;\n",
       "    }\n",
       "</style>\n",
       "<table border=\"1\" class=\"dataframe\">\n",
       "  <thead>\n",
       "    <tr style=\"text-align: right;\">\n",
       "      <th></th>\n",
       "      <th>MedInc</th>\n",
       "      <th>HouseAge</th>\n",
       "      <th>AveRooms</th>\n",
       "      <th>AveBedrms</th>\n",
       "      <th>Population</th>\n",
       "      <th>AveOccup</th>\n",
       "      <th>Latitude</th>\n",
       "      <th>Longitude</th>\n",
       "      <th>MedHouseVal</th>\n",
       "    </tr>\n",
       "  </thead>\n",
       "  <tbody>\n",
       "    <tr>\n",
       "      <th>count</th>\n",
       "      <td>20640.000000</td>\n",
       "      <td>20640.000000</td>\n",
       "      <td>20640.000000</td>\n",
       "      <td>20640.000000</td>\n",
       "      <td>20640.000000</td>\n",
       "      <td>20640.000000</td>\n",
       "      <td>20640.000000</td>\n",
       "      <td>20640.000000</td>\n",
       "      <td>20640.000000</td>\n",
       "    </tr>\n",
       "    <tr>\n",
       "      <th>mean</th>\n",
       "      <td>3.870671</td>\n",
       "      <td>28.639486</td>\n",
       "      <td>5.429000</td>\n",
       "      <td>1.096675</td>\n",
       "      <td>1425.476744</td>\n",
       "      <td>3.070655</td>\n",
       "      <td>35.631861</td>\n",
       "      <td>-119.569704</td>\n",
       "      <td>2.068558</td>\n",
       "    </tr>\n",
       "    <tr>\n",
       "      <th>std</th>\n",
       "      <td>1.899822</td>\n",
       "      <td>12.585558</td>\n",
       "      <td>2.474173</td>\n",
       "      <td>0.473911</td>\n",
       "      <td>1132.462122</td>\n",
       "      <td>10.386050</td>\n",
       "      <td>2.135952</td>\n",
       "      <td>2.003532</td>\n",
       "      <td>1.153956</td>\n",
       "    </tr>\n",
       "    <tr>\n",
       "      <th>min</th>\n",
       "      <td>0.499900</td>\n",
       "      <td>1.000000</td>\n",
       "      <td>0.846154</td>\n",
       "      <td>0.333333</td>\n",
       "      <td>3.000000</td>\n",
       "      <td>0.692308</td>\n",
       "      <td>32.540000</td>\n",
       "      <td>-124.350000</td>\n",
       "      <td>0.149990</td>\n",
       "    </tr>\n",
       "    <tr>\n",
       "      <th>25%</th>\n",
       "      <td>2.563400</td>\n",
       "      <td>18.000000</td>\n",
       "      <td>4.440716</td>\n",
       "      <td>1.006079</td>\n",
       "      <td>787.000000</td>\n",
       "      <td>2.429741</td>\n",
       "      <td>33.930000</td>\n",
       "      <td>-121.800000</td>\n",
       "      <td>1.196000</td>\n",
       "    </tr>\n",
       "    <tr>\n",
       "      <th>50%</th>\n",
       "      <td>3.534800</td>\n",
       "      <td>29.000000</td>\n",
       "      <td>5.229129</td>\n",
       "      <td>1.048780</td>\n",
       "      <td>1166.000000</td>\n",
       "      <td>2.818116</td>\n",
       "      <td>34.260000</td>\n",
       "      <td>-118.490000</td>\n",
       "      <td>1.797000</td>\n",
       "    </tr>\n",
       "    <tr>\n",
       "      <th>75%</th>\n",
       "      <td>4.743250</td>\n",
       "      <td>37.000000</td>\n",
       "      <td>6.052381</td>\n",
       "      <td>1.099526</td>\n",
       "      <td>1725.000000</td>\n",
       "      <td>3.282261</td>\n",
       "      <td>37.710000</td>\n",
       "      <td>-118.010000</td>\n",
       "      <td>2.647250</td>\n",
       "    </tr>\n",
       "    <tr>\n",
       "      <th>max</th>\n",
       "      <td>15.000100</td>\n",
       "      <td>52.000000</td>\n",
       "      <td>141.909091</td>\n",
       "      <td>34.066667</td>\n",
       "      <td>35682.000000</td>\n",
       "      <td>1243.333333</td>\n",
       "      <td>41.950000</td>\n",
       "      <td>-114.310000</td>\n",
       "      <td>5.000010</td>\n",
       "    </tr>\n",
       "  </tbody>\n",
       "</table>\n",
       "</div>"
      ],
      "text/plain": [
       "             MedInc      HouseAge      AveRooms     AveBedrms    Population  \\\n",
       "count  20640.000000  20640.000000  20640.000000  20640.000000  20640.000000   \n",
       "mean       3.870671     28.639486      5.429000      1.096675   1425.476744   \n",
       "std        1.899822     12.585558      2.474173      0.473911   1132.462122   \n",
       "min        0.499900      1.000000      0.846154      0.333333      3.000000   \n",
       "25%        2.563400     18.000000      4.440716      1.006079    787.000000   \n",
       "50%        3.534800     29.000000      5.229129      1.048780   1166.000000   \n",
       "75%        4.743250     37.000000      6.052381      1.099526   1725.000000   \n",
       "max       15.000100     52.000000    141.909091     34.066667  35682.000000   \n",
       "\n",
       "           AveOccup      Latitude     Longitude   MedHouseVal  \n",
       "count  20640.000000  20640.000000  20640.000000  20640.000000  \n",
       "mean       3.070655     35.631861   -119.569704      2.068558  \n",
       "std       10.386050      2.135952      2.003532      1.153956  \n",
       "min        0.692308     32.540000   -124.350000      0.149990  \n",
       "25%        2.429741     33.930000   -121.800000      1.196000  \n",
       "50%        2.818116     34.260000   -118.490000      1.797000  \n",
       "75%        3.282261     37.710000   -118.010000      2.647250  \n",
       "max     1243.333333     41.950000   -114.310000      5.000010  "
      ]
     },
     "execution_count": 4,
     "metadata": {},
     "output_type": "execute_result"
    }
   ],
   "source": [
    "df.describe()"
   ]
  },
  {
   "cell_type": "code",
   "execution_count": 5,
   "metadata": {},
   "outputs": [],
   "source": [
    "# Discretize df\n",
    "\n",
    "mean_target = df['MedHouseVal'].mean()\n",
    "df_discrete = df.copy()\n",
    "\n",
    "df_discrete['AboveMean'] = (df_discrete['MedHouseVal'] >= mean_target).astype(int)\n",
    "df_discrete.drop('MedHouseVal', axis=1, inplace=True)"
   ]
  },
  {
   "cell_type": "code",
   "execution_count": 6,
   "metadata": {},
   "outputs": [],
   "source": [
    "# Can just import entire module\n",
    "import alice"
   ]
  },
  {
   "cell_type": "code",
   "execution_count": 7,
   "metadata": {},
   "outputs": [],
   "source": [
    "# Import regression metrics\n",
    "from alice.metrics.regress import mse, rmse, mae\n",
    "# Import classification metrics\n",
    "from alice.metrics.classify import accuracy, precision, recall, f1\n",
    "# Import regression agreeability metric\n",
    "from alice.agreeability.regress import pearson\n",
    "# Import classification agreeability metric\n",
    "from alice.agreeability.classify import cohen_kappa\n"
   ]
  },
  {
   "cell_type": "code",
   "execution_count": 8,
   "metadata": {},
   "outputs": [],
   "source": [
    "# Import our demo search algorithm \n",
    "from alice.search_and_compare.sequential import BackEliminator"
   ]
  },
  {
   "cell_type": "code",
   "execution_count": 23,
   "metadata": {},
   "outputs": [],
   "source": [
    "from alice.metrics.regress import mse, rmse, mae\n",
    "from alice.metrics.classify import accuracy, precision, recall, f1\n",
    "from alice.agreeability.regress import pearson\n",
    "from alice.agreeability.classify import cohen_kappa\n",
    "import pandas as pd\n",
    "import plotly.express as px\n",
    "\n",
    "\n",
    "class BackEliminator():\n",
    "\n",
    "    def __init__(self,\n",
    "                 X=None,\n",
    "                 y=None, \n",
    "                 validation_data=None,\n",
    "                 task_type=None,\n",
    "                 criterion=None,\n",
    "                 agreeability=None\n",
    "                 ):\n",
    "\n",
    "        self.X = X\n",
    "        self.y = y\n",
    "        if validation_data:\n",
    "            self.validation_data = validation_data\n",
    "            self.X_val = self.validation_data[0]\n",
    "            self.y_val = self.validation_data[1]\n",
    "        self.criterion_registry = {\n",
    "            'mse': mse,\n",
    "            'rmse': rmse,\n",
    "            'mae': mae,\n",
    "            'accuracy': accuracy,\n",
    "            'precision': precision,\n",
    "            'recall': recall,\n",
    "            'f1': f1\n",
    "            }\n",
    "        self.criterion = criterion\n",
    "        self.agreeability_registry = {\n",
    "            'pearson': pearson,\n",
    "            'cohen_kappa': cohen_kappa\n",
    "        }\n",
    "        self.agreeability = agreeability\n",
    "        self.initial_feature_list = list(self.X.columns)\n",
    "\n",
    "        if task_type == 'classification':\n",
    "            self.sort_scores = lambda scores: sorted(scores, key=lambda x: x[1], reverse=True)\n",
    "        else:\n",
    "            self.sort_scores = lambda scores: sorted(scores, key=lambda x: x[1])\n",
    "\n",
    "    # Method to be called in the main method of back elimination\n",
    "    def _deselect_feature(self,\n",
    "                          feature_list,\n",
    "                          model):\n",
    "        # Empty list for scores\n",
    "        score_per_dropped_feature = []\n",
    "        # Iterate over all features\n",
    "        for feature in feature_list:\n",
    "            # Generate temporary feature set to manipulate\n",
    "            temporary_set = feature_list.copy()\n",
    "            # Drop feature from set\n",
    "            temporary_set.remove(feature)\n",
    "            # Train\n",
    "            model.fit(self.X[temporary_set], self.y)\n",
    "            # Predict on validation set\n",
    "            if self.validation_data:\n",
    "                y_preds = model.predict(self.X_val[temporary_set])\n",
    "                # Evaluate\n",
    "                score = self.criterion_registry[self.criterion](self.y_val, y_preds)\n",
    "            # Predict on training set\n",
    "            else:\n",
    "                y_preds = model.predict(self.X[temporary_set])\n",
    "                score = self.criterion_registry[self.criterion](self.y, y_preds)\n",
    "            # Append\n",
    "            score_per_dropped_feature.append((feature,score, y_preds))\n",
    "\n",
    "        # At the end of loop, identify feature\n",
    "        # which led to the worst score when \n",
    "        # feature dropped\n",
    "        # Descending sort based on score, (x[1])\n",
    "        score_per_dropped_feature = self.sort_scores(score_per_dropped_feature)\n",
    "\n",
    "        # For ease of read\n",
    "        worst_feature = score_per_dropped_feature[0][0]\n",
    "        best_score = score_per_dropped_feature[0][1]\n",
    "        best_preds = score_per_dropped_feature[0][2]\n",
    "\n",
    "        # Free up memory\n",
    "        del score_per_dropped_feature\n",
    "        # Return feature name\n",
    "        return worst_feature, best_score, best_preds\n",
    "        ### TO DO ###\n",
    "        # Add functionality to possibly save trained models \n",
    "        # Will take up large memory, may be unfeasible\n",
    "        ### TO DO ###\n",
    "    def compare_models(self,\n",
    "                           m1,\n",
    "                           m2,): \n",
    "        # Copy all features initially\n",
    "        # for both models\n",
    "        new_feature_list_m1 = self.initial_feature_list.copy()\n",
    "        new_feature_list_m2 = self.initial_feature_list.copy()\n",
    "        # Aggreeability scores\n",
    "        results = []\n",
    "        # First fit models w/o any removed features\n",
    "        m1.fit(self.X[new_feature_list_m1], self.y)\n",
    "        m2.fit(self.X[new_feature_list_m2], self.y)\n",
    "        # Predict on validation set\n",
    "        if self.validation_data:\n",
    "            # Model 1\n",
    "            m1_preds = m1.predict(self.X_val[new_feature_list_m1])\n",
    "            m1_score = self.criterion_registry[self.criterion](self.y_val, m1_preds)\n",
    "            # Model 2\n",
    "            m2_preds = m2.predict(self.X_val[new_feature_list_m2])\n",
    "            m2_score = self.criterion_registry[self.criterion](self.y_val, m2_preds)\n",
    "            # Aggreeability Score\n",
    "            agreeability_coeff = self.agreeability_registry[self.agreeability](m1_preds, m2_preds)\n",
    "        # Predict on training set\n",
    "        else:\n",
    "            # Model 1\n",
    "            m1_preds = m1.predict(self.X[new_feature_list_m1])\n",
    "            m1_score = self.criterion_registry[self.criterion](self.y, m1_preds)\n",
    "            # Model 2\n",
    "            m2_preds = m2.predict(self.X[new_feature_list_m2])\n",
    "            m2_score = self.criterion_registry[self.criterion](self.y, m2_preds)\n",
    "            # Agreeability score\n",
    "            agreeability_coeff = self.agreeability_registry[self.agreeability](m1_preds, m2_preds)\n",
    "        # Append to results\n",
    "        results.append({\n",
    "            'Model 1 Included Features': new_feature_list_m1.copy(),\n",
    "            f'Model 1 {self.criterion.upper()}': m1_score,\n",
    "            'Model 2 Included Features': new_feature_list_m2.copy(),\n",
    "            f'Model 2 {self.criterion.upper()}': m2_score,\n",
    "            f'Agreeability Coefficient ({self.agreeability})': agreeability_coeff\n",
    "        })\n",
    "\n",
    "\n",
    "        ### DEBUG PRINTS\n",
    "        print(f'Initial run: fitted both models with full feature set.')\n",
    "        print(f'-' * 150)\n",
    "        print(f'Model 1 included: {new_feature_list_m1}. {self.criterion.upper()}: {m1_score}')\n",
    "        print(f'Model 2 included: {new_feature_list_m2}. {self.criterion.upper()}: {m2_score}')\n",
    "        print(f'-' * 150)\n",
    "        print(f'Agreeability Coefficient ({self.agreeability}): {agreeability_coeff}')\n",
    "        print(f'=' * 150)\n",
    "        ### DEBUG PRINTS   \n",
    "        \n",
    "        ### DEBUG\n",
    "        counter = 0\n",
    "        ### DEBUG\n",
    "\n",
    "        # Begin loop to deselect and evaluate\n",
    "        while len(new_feature_list_m1) > 1 and len(new_feature_list_m2) > 1:\n",
    "\n",
    "            ### DEBUG\n",
    "            counter += 1    \n",
    "            ### DEBUG    \n",
    "\n",
    "            # Obtain worst_feature, score and preds from deselect_feature functions\n",
    "            worst_feature_m1, m1_score, m1_preds = self._deselect_feature(new_feature_list_m1, m1)\n",
    "            worst_feature_m2, m2_score, m2_preds = self._deselect_feature(new_feature_list_m2, m2)\n",
    "            # Update included feature lists\n",
    "            new_feature_list_m1.remove(worst_feature_m1) \n",
    "            new_feature_list_m2.remove(worst_feature_m2)\n",
    "\n",
    "\n",
    "            # Compute agreeability\n",
    "            agreeability_coeff = self.agreeability_registry[self.agreeability](m1_preds, m2_preds)\n",
    "            # Append to results\n",
    "            results.append({\n",
    "                'Model 1 Included Features': new_feature_list_m1.copy(),\n",
    "                f'Model 1 {self.criterion.upper()}': m1_score,\n",
    "                'Model 2 Included Features': new_feature_list_m2.copy(),\n",
    "                f'Model 2 {self.criterion.upper()}': m2_score,\n",
    "                f'Agreeability Coefficient ({self.agreeability})': agreeability_coeff\n",
    "            })\n",
    "\n",
    "            ### DEBUG PRINTS\n",
    "            print(f'Iteration {counter}:')\n",
    "            print(f'-' * 150)\n",
    "            print(f'Model 1 included: {new_feature_list_m1}. {self.criterion.upper()}: {m1_score}')\n",
    "            print(f'Model 2 included: {new_feature_list_m2}. {self.criterion.upper()}: {m2_score}')\n",
    "            print(f'-' * 150)\n",
    "            print(f'Agreeability Coefficient ({self.agreeability}): {agreeability_coeff}')\n",
    "            print(f'=' * 150)\n",
    "            ### DEBUG PRINTS\n",
    "        # Save results\n",
    "        self.results = results\n",
    "        # Return results\n",
    "        return results\n",
    "    \n",
    "    # Method to turn results into a df\n",
    "    def dataframe_from_results(self):\n",
    "        '''\n",
    "        Return results as a dataframe.\n",
    "        '''\n",
    "        # Check if results exist\n",
    "        if not self.results:\n",
    "            raise ValueError(\"There are no results available. Make sure to run compare_models first.\")\n",
    "        # Return results\n",
    "        return pd.DataFrame(self.results)\n",
    "    \n",
    "    # Method to turn results into an interactive plot\n",
    "    def plot_from_results(self):\n",
    "        '''\n",
    "        Makes an interactive plot from the results.\n",
    "        '''\n",
    "        if not self.results:\n",
    "            raise ValueError(\"There are no results available. Make sure to run compare_models first.\")\n",
    "        df = pd.DataFrame(self.results)\n",
    "\n",
    "        # Create a new column that combines the relevant information for hovering with HTML line breaks\n",
    "        df['Summary'] = df.apply(lambda row: f\"{df.columns[0]}: <br>{', '.join(row.iloc[0])}<br>{df.columns[1]}: {row.iloc[1]}<br>{df.columns[2]}: <br>{', '.join(row.iloc[2])}<br>{df.columns[3]}: {row.iloc[3]}\", axis=1)\n",
    "\n",
    "        # Plot \n",
    "        fig = px.line(\n",
    "            df, \n",
    "            x=df.index+1, \n",
    "            y=df.iloc[:, 4], \n",
    "            hover_data=['Summary'], \n",
    "            labels={'y': f'{df.columns[4]}', 'x': 'Iteration'},\n",
    "            title='Agreeability Coefficients Over Algorithm Iterations',\n",
    "            markers=True\n",
    "        )\n",
    "\n",
    "        fig.update_xaxes(type='category')\n",
    "        fig.update_layout(hovermode='closest')\n",
    "\n",
    "        fig.show()"
   ]
  },
  {
   "cell_type": "markdown",
   "metadata": {},
   "source": [
    "### Check functionality on a regression task"
   ]
  },
  {
   "cell_type": "code",
   "execution_count": 9,
   "metadata": {},
   "outputs": [],
   "source": [
    "from sklearn.model_selection import train_test_split"
   ]
  },
  {
   "cell_type": "code",
   "execution_count": 10,
   "metadata": {},
   "outputs": [
    {
     "name": "stdout",
     "output_type": "stream",
     "text": [
      "<class 'pandas.core.frame.DataFrame'>\n",
      "RangeIndex: 20640 entries, 0 to 20639\n",
      "Data columns (total 9 columns):\n",
      " #   Column       Non-Null Count  Dtype  \n",
      "---  ------       --------------  -----  \n",
      " 0   MedInc       20640 non-null  float64\n",
      " 1   HouseAge     20640 non-null  float64\n",
      " 2   AveRooms     20640 non-null  float64\n",
      " 3   AveBedrms    20640 non-null  float64\n",
      " 4   Population   20640 non-null  float64\n",
      " 5   AveOccup     20640 non-null  float64\n",
      " 6   Latitude     20640 non-null  float64\n",
      " 7   Longitude    20640 non-null  float64\n",
      " 8   MedHouseVal  20640 non-null  float64\n",
      "dtypes: float64(9)\n",
      "memory usage: 1.4 MB\n"
     ]
    }
   ],
   "source": [
    "df.info()"
   ]
  },
  {
   "cell_type": "code",
   "execution_count": 11,
   "metadata": {},
   "outputs": [],
   "source": [
    "y = df['MedHouseVal']\n",
    "X = df.drop('MedHouseVal', axis=1)\n"
   ]
  },
  {
   "cell_type": "code",
   "execution_count": 12,
   "metadata": {},
   "outputs": [],
   "source": [
    "X_train, X_val, y_train, y_val = train_test_split(X, y, test_size=0.2, random_state=66)"
   ]
  },
  {
   "cell_type": "code",
   "execution_count": 13,
   "metadata": {},
   "outputs": [],
   "source": [
    "from sklearn.linear_model import LinearRegression\n",
    "from sklearn.tree import DecisionTreeRegressor"
   ]
  },
  {
   "cell_type": "code",
   "execution_count": 14,
   "metadata": {},
   "outputs": [],
   "source": [
    "m1 = LinearRegression()\n",
    "m2 = DecisionTreeRegressor()"
   ]
  },
  {
   "cell_type": "code",
   "execution_count": 15,
   "metadata": {},
   "outputs": [],
   "source": [
    "seeker = BackEliminator(\n",
    "    X=X_train,\n",
    "    y=y_train,\n",
    "    validation_data=(X_val, y_val),\n",
    "    task_type='regression',\n",
    "    criterion='rmse',\n",
    "    agreeability='pearson'\n",
    ")"
   ]
  },
  {
   "cell_type": "code",
   "execution_count": 16,
   "metadata": {},
   "outputs": [
    {
     "name": "stdout",
     "output_type": "stream",
     "text": [
      "Initial run: fitted both models with full feature set.\n",
      "------------------------------------------------------------------------------------------------------------------------------------------------------\n",
      "Model 1 included: ['MedInc', 'HouseAge', 'AveRooms', 'AveBedrms', 'Population', 'AveOccup', 'Latitude', 'Longitude']. RMSE: 0.7315223258924328\n",
      "Model 2 included: ['MedInc', 'HouseAge', 'AveRooms', 'AveBedrms', 'Population', 'AveOccup', 'Latitude', 'Longitude']. RMSE: 0.727676842497427\n",
      "------------------------------------------------------------------------------------------------------------------------------------------------------\n",
      "Agreeability Coefficient (pearson): 0.7615588209425082\n",
      "======================================================================================================================================================\n",
      "Iteration 1:\n",
      "------------------------------------------------------------------------------------------------------------------------------------------------------\n",
      "Model 1 included: ['MedInc', 'HouseAge', 'AveRooms', 'AveBedrms', 'Population', 'Latitude', 'Longitude']. RMSE: 0.7243210543253327\n",
      "Model 2 included: ['MedInc', 'HouseAge', 'AveRooms', 'AveBedrms', 'Population', 'Latitude', 'Longitude']. RMSE: 0.6797659162787423\n",
      "------------------------------------------------------------------------------------------------------------------------------------------------------\n",
      "Agreeability Coefficient (pearson): 0.7717165584399881\n",
      "======================================================================================================================================================\n",
      "Iteration 2:\n",
      "------------------------------------------------------------------------------------------------------------------------------------------------------\n",
      "Model 1 included: ['MedInc', 'HouseAge', 'AveRooms', 'AveBedrms', 'Latitude', 'Longitude']. RMSE: 0.7243206659201569\n",
      "Model 2 included: ['MedInc', 'AveRooms', 'AveBedrms', 'Population', 'Latitude', 'Longitude']. RMSE: 0.6674780080605296\n",
      "------------------------------------------------------------------------------------------------------------------------------------------------------\n",
      "Agreeability Coefficient (pearson): 0.7832585143827089\n",
      "======================================================================================================================================================\n",
      "Iteration 3:\n",
      "------------------------------------------------------------------------------------------------------------------------------------------------------\n",
      "Model 1 included: ['MedInc', 'HouseAge', 'AveBedrms', 'Latitude', 'Longitude']. RMSE: 0.7299080678582273\n",
      "Model 2 included: ['MedInc', 'AveRooms', 'AveBedrms', 'Latitude', 'Longitude']. RMSE: 0.6460492295896211\n",
      "------------------------------------------------------------------------------------------------------------------------------------------------------\n",
      "Agreeability Coefficient (pearson): 0.7815540319949525\n",
      "======================================================================================================================================================\n",
      "Iteration 4:\n",
      "------------------------------------------------------------------------------------------------------------------------------------------------------\n",
      "Model 1 included: ['MedInc', 'HouseAge', 'Latitude', 'Longitude']. RMSE: 0.7340250301119083\n",
      "Model 2 included: ['MedInc', 'AveRooms', 'Latitude', 'Longitude']. RMSE: 0.6350600627986662\n",
      "------------------------------------------------------------------------------------------------------------------------------------------------------\n",
      "Agreeability Coefficient (pearson): 0.7796369086976055\n",
      "======================================================================================================================================================\n",
      "Iteration 5:\n",
      "------------------------------------------------------------------------------------------------------------------------------------------------------\n",
      "Model 1 included: ['MedInc', 'Latitude', 'Longitude']. RMSE: 0.7419579345892257\n",
      "Model 2 included: ['AveRooms', 'Latitude', 'Longitude']. RMSE: 0.6381314025630901\n",
      "------------------------------------------------------------------------------------------------------------------------------------------------------\n",
      "Agreeability Coefficient (pearson): 0.724497112504825\n",
      "======================================================================================================================================================\n",
      "Iteration 6:\n",
      "------------------------------------------------------------------------------------------------------------------------------------------------------\n",
      "Model 1 included: ['MedInc', 'Latitude']. RMSE: 0.8301873925326823\n",
      "Model 2 included: ['Latitude', 'Longitude']. RMSE: 0.6323506836333833\n",
      "------------------------------------------------------------------------------------------------------------------------------------------------------\n",
      "Agreeability Coefficient (pearson): 0.5990974962893794\n",
      "======================================================================================================================================================\n",
      "Iteration 7:\n",
      "------------------------------------------------------------------------------------------------------------------------------------------------------\n",
      "Model 1 included: ['MedInc']. RMSE: 0.8390728208993037\n",
      "Model 2 included: ['Longitude']. RMSE: 1.0058695484342364\n",
      "------------------------------------------------------------------------------------------------------------------------------------------------------\n",
      "Agreeability Coefficient (pearson): 0.3262706343168213\n",
      "======================================================================================================================================================\n"
     ]
    }
   ],
   "source": [
    "results = seeker.compare_models(\n",
    "    m1=m1,\n",
    "    m2=m2\n",
    ")"
   ]
  },
  {
   "cell_type": "code",
   "execution_count": 17,
   "metadata": {},
   "outputs": [
    {
     "data": {
      "text/plain": [
       "[{'Model 1 Included Features': ['MedInc',\n",
       "   'HouseAge',\n",
       "   'AveRooms',\n",
       "   'AveBedrms',\n",
       "   'Population',\n",
       "   'AveOccup',\n",
       "   'Latitude',\n",
       "   'Longitude'],\n",
       "  'Model 1 RMSE': 0.7315223258924328,\n",
       "  'Model 2 Included Features': ['MedInc',\n",
       "   'HouseAge',\n",
       "   'AveRooms',\n",
       "   'AveBedrms',\n",
       "   'Population',\n",
       "   'AveOccup',\n",
       "   'Latitude',\n",
       "   'Longitude'],\n",
       "  'Model 2 RMSE': 0.727676842497427,\n",
       "  'Agreeability Coefficient (pearson)': 0.7615588209425082},\n",
       " {'Model 1 Included Features': ['MedInc',\n",
       "   'HouseAge',\n",
       "   'AveRooms',\n",
       "   'AveBedrms',\n",
       "   'Population',\n",
       "   'Latitude',\n",
       "   'Longitude'],\n",
       "  'Model 1 RMSE': 0.7243210543253327,\n",
       "  'Model 2 Included Features': ['MedInc',\n",
       "   'HouseAge',\n",
       "   'AveRooms',\n",
       "   'AveBedrms',\n",
       "   'Population',\n",
       "   'Latitude',\n",
       "   'Longitude'],\n",
       "  'Model 2 RMSE': 0.6797659162787423,\n",
       "  'Agreeability Coefficient (pearson)': 0.7717165584399881},\n",
       " {'Model 1 Included Features': ['MedInc',\n",
       "   'HouseAge',\n",
       "   'AveRooms',\n",
       "   'AveBedrms',\n",
       "   'Latitude',\n",
       "   'Longitude'],\n",
       "  'Model 1 RMSE': 0.7243206659201569,\n",
       "  'Model 2 Included Features': ['MedInc',\n",
       "   'AveRooms',\n",
       "   'AveBedrms',\n",
       "   'Population',\n",
       "   'Latitude',\n",
       "   'Longitude'],\n",
       "  'Model 2 RMSE': 0.6674780080605296,\n",
       "  'Agreeability Coefficient (pearson)': 0.7832585143827089},\n",
       " {'Model 1 Included Features': ['MedInc',\n",
       "   'HouseAge',\n",
       "   'AveBedrms',\n",
       "   'Latitude',\n",
       "   'Longitude'],\n",
       "  'Model 1 RMSE': 0.7299080678582273,\n",
       "  'Model 2 Included Features': ['MedInc',\n",
       "   'AveRooms',\n",
       "   'AveBedrms',\n",
       "   'Latitude',\n",
       "   'Longitude'],\n",
       "  'Model 2 RMSE': 0.6460492295896211,\n",
       "  'Agreeability Coefficient (pearson)': 0.7815540319949525},\n",
       " {'Model 1 Included Features': ['MedInc', 'HouseAge', 'Latitude', 'Longitude'],\n",
       "  'Model 1 RMSE': 0.7340250301119083,\n",
       "  'Model 2 Included Features': ['MedInc', 'AveRooms', 'Latitude', 'Longitude'],\n",
       "  'Model 2 RMSE': 0.6350600627986662,\n",
       "  'Agreeability Coefficient (pearson)': 0.7796369086976055},\n",
       " {'Model 1 Included Features': ['MedInc', 'Latitude', 'Longitude'],\n",
       "  'Model 1 RMSE': 0.7419579345892257,\n",
       "  'Model 2 Included Features': ['AveRooms', 'Latitude', 'Longitude'],\n",
       "  'Model 2 RMSE': 0.6381314025630901,\n",
       "  'Agreeability Coefficient (pearson)': 0.724497112504825},\n",
       " {'Model 1 Included Features': ['MedInc', 'Latitude'],\n",
       "  'Model 1 RMSE': 0.8301873925326823,\n",
       "  'Model 2 Included Features': ['Latitude', 'Longitude'],\n",
       "  'Model 2 RMSE': 0.6323506836333833,\n",
       "  'Agreeability Coefficient (pearson)': 0.5990974962893794},\n",
       " {'Model 1 Included Features': ['MedInc'],\n",
       "  'Model 1 RMSE': 0.8390728208993037,\n",
       "  'Model 2 Included Features': ['Longitude'],\n",
       "  'Model 2 RMSE': 1.0058695484342364,\n",
       "  'Agreeability Coefficient (pearson)': 0.3262706343168213}]"
      ]
     },
     "execution_count": 17,
     "metadata": {},
     "output_type": "execute_result"
    }
   ],
   "source": [
    "results"
   ]
  },
  {
   "cell_type": "code",
   "execution_count": 18,
   "metadata": {},
   "outputs": [],
   "source": [
    "results_df = seeker.dataframe_from_results()"
   ]
  },
  {
   "cell_type": "code",
   "execution_count": 19,
   "metadata": {},
   "outputs": [
    {
     "data": {
      "text/html": [
       "<div>\n",
       "<style scoped>\n",
       "    .dataframe tbody tr th:only-of-type {\n",
       "        vertical-align: middle;\n",
       "    }\n",
       "\n",
       "    .dataframe tbody tr th {\n",
       "        vertical-align: top;\n",
       "    }\n",
       "\n",
       "    .dataframe thead th {\n",
       "        text-align: right;\n",
       "    }\n",
       "</style>\n",
       "<table border=\"1\" class=\"dataframe\">\n",
       "  <thead>\n",
       "    <tr style=\"text-align: right;\">\n",
       "      <th></th>\n",
       "      <th>Model 1 Included Features</th>\n",
       "      <th>Model 1 RMSE</th>\n",
       "      <th>Model 2 Included Features</th>\n",
       "      <th>Model 2 RMSE</th>\n",
       "      <th>Agreeability Coefficient (pearson)</th>\n",
       "    </tr>\n",
       "  </thead>\n",
       "  <tbody>\n",
       "    <tr>\n",
       "      <th>0</th>\n",
       "      <td>[MedInc, HouseAge, AveRooms, AveBedrms, Popula...</td>\n",
       "      <td>0.731522</td>\n",
       "      <td>[MedInc, HouseAge, AveRooms, AveBedrms, Popula...</td>\n",
       "      <td>0.727677</td>\n",
       "      <td>0.761559</td>\n",
       "    </tr>\n",
       "    <tr>\n",
       "      <th>1</th>\n",
       "      <td>[MedInc, HouseAge, AveRooms, AveBedrms, Popula...</td>\n",
       "      <td>0.724321</td>\n",
       "      <td>[MedInc, HouseAge, AveRooms, AveBedrms, Popula...</td>\n",
       "      <td>0.679766</td>\n",
       "      <td>0.771717</td>\n",
       "    </tr>\n",
       "    <tr>\n",
       "      <th>2</th>\n",
       "      <td>[MedInc, HouseAge, AveRooms, AveBedrms, Latitu...</td>\n",
       "      <td>0.724321</td>\n",
       "      <td>[MedInc, AveRooms, AveBedrms, Population, Lati...</td>\n",
       "      <td>0.667478</td>\n",
       "      <td>0.783259</td>\n",
       "    </tr>\n",
       "    <tr>\n",
       "      <th>3</th>\n",
       "      <td>[MedInc, HouseAge, AveBedrms, Latitude, Longit...</td>\n",
       "      <td>0.729908</td>\n",
       "      <td>[MedInc, AveRooms, AveBedrms, Latitude, Longit...</td>\n",
       "      <td>0.646049</td>\n",
       "      <td>0.781554</td>\n",
       "    </tr>\n",
       "    <tr>\n",
       "      <th>4</th>\n",
       "      <td>[MedInc, HouseAge, Latitude, Longitude]</td>\n",
       "      <td>0.734025</td>\n",
       "      <td>[MedInc, AveRooms, Latitude, Longitude]</td>\n",
       "      <td>0.635060</td>\n",
       "      <td>0.779637</td>\n",
       "    </tr>\n",
       "    <tr>\n",
       "      <th>5</th>\n",
       "      <td>[MedInc, Latitude, Longitude]</td>\n",
       "      <td>0.741958</td>\n",
       "      <td>[AveRooms, Latitude, Longitude]</td>\n",
       "      <td>0.638131</td>\n",
       "      <td>0.724497</td>\n",
       "    </tr>\n",
       "    <tr>\n",
       "      <th>6</th>\n",
       "      <td>[MedInc, Latitude]</td>\n",
       "      <td>0.830187</td>\n",
       "      <td>[Latitude, Longitude]</td>\n",
       "      <td>0.632351</td>\n",
       "      <td>0.599097</td>\n",
       "    </tr>\n",
       "    <tr>\n",
       "      <th>7</th>\n",
       "      <td>[MedInc]</td>\n",
       "      <td>0.839073</td>\n",
       "      <td>[Longitude]</td>\n",
       "      <td>1.005870</td>\n",
       "      <td>0.326271</td>\n",
       "    </tr>\n",
       "  </tbody>\n",
       "</table>\n",
       "</div>"
      ],
      "text/plain": [
       "                           Model 1 Included Features  Model 1 RMSE  \\\n",
       "0  [MedInc, HouseAge, AveRooms, AveBedrms, Popula...      0.731522   \n",
       "1  [MedInc, HouseAge, AveRooms, AveBedrms, Popula...      0.724321   \n",
       "2  [MedInc, HouseAge, AveRooms, AveBedrms, Latitu...      0.724321   \n",
       "3  [MedInc, HouseAge, AveBedrms, Latitude, Longit...      0.729908   \n",
       "4            [MedInc, HouseAge, Latitude, Longitude]      0.734025   \n",
       "5                      [MedInc, Latitude, Longitude]      0.741958   \n",
       "6                                 [MedInc, Latitude]      0.830187   \n",
       "7                                           [MedInc]      0.839073   \n",
       "\n",
       "                           Model 2 Included Features  Model 2 RMSE  \\\n",
       "0  [MedInc, HouseAge, AveRooms, AveBedrms, Popula...      0.727677   \n",
       "1  [MedInc, HouseAge, AveRooms, AveBedrms, Popula...      0.679766   \n",
       "2  [MedInc, AveRooms, AveBedrms, Population, Lati...      0.667478   \n",
       "3  [MedInc, AveRooms, AveBedrms, Latitude, Longit...      0.646049   \n",
       "4            [MedInc, AveRooms, Latitude, Longitude]      0.635060   \n",
       "5                    [AveRooms, Latitude, Longitude]      0.638131   \n",
       "6                              [Latitude, Longitude]      0.632351   \n",
       "7                                        [Longitude]      1.005870   \n",
       "\n",
       "   Agreeability Coefficient (pearson)  \n",
       "0                            0.761559  \n",
       "1                            0.771717  \n",
       "2                            0.783259  \n",
       "3                            0.781554  \n",
       "4                            0.779637  \n",
       "5                            0.724497  \n",
       "6                            0.599097  \n",
       "7                            0.326271  "
      ]
     },
     "execution_count": 19,
     "metadata": {},
     "output_type": "execute_result"
    }
   ],
   "source": [
    "results_df"
   ]
  },
  {
   "cell_type": "code",
   "execution_count": 20,
   "metadata": {},
   "outputs": [
    {
     "data": {
      "application/vnd.plotly.v1+json": {
       "config": {
        "plotlyServerURL": "https://plot.ly"
       },
       "data": [
        {
         "customdata": [
          [
           "Model 1 Included Features: <br>MedInc, HouseAge, AveRooms, AveBedrms, Population, AveOccup, Latitude, Longitude<br>Model 1 RMSE: 0.7315223258924328<br>Model 2 Included Features: <br>MedInc, HouseAge, AveRooms, AveBedrms, Population, AveOccup, Latitude, Longitude<br>Model 2 RMSE: 0.727676842497427"
          ],
          [
           "Model 1 Included Features: <br>MedInc, HouseAge, AveRooms, AveBedrms, Population, Latitude, Longitude<br>Model 1 RMSE: 0.7243210543253327<br>Model 2 Included Features: <br>MedInc, HouseAge, AveRooms, AveBedrms, Population, Latitude, Longitude<br>Model 2 RMSE: 0.6797659162787423"
          ],
          [
           "Model 1 Included Features: <br>MedInc, HouseAge, AveRooms, AveBedrms, Latitude, Longitude<br>Model 1 RMSE: 0.7243206659201569<br>Model 2 Included Features: <br>MedInc, AveRooms, AveBedrms, Population, Latitude, Longitude<br>Model 2 RMSE: 0.6674780080605296"
          ],
          [
           "Model 1 Included Features: <br>MedInc, HouseAge, AveBedrms, Latitude, Longitude<br>Model 1 RMSE: 0.7299080678582273<br>Model 2 Included Features: <br>MedInc, AveRooms, AveBedrms, Latitude, Longitude<br>Model 2 RMSE: 0.6460492295896211"
          ],
          [
           "Model 1 Included Features: <br>MedInc, HouseAge, Latitude, Longitude<br>Model 1 RMSE: 0.7340250301119083<br>Model 2 Included Features: <br>MedInc, AveRooms, Latitude, Longitude<br>Model 2 RMSE: 0.6350600627986662"
          ],
          [
           "Model 1 Included Features: <br>MedInc, Latitude, Longitude<br>Model 1 RMSE: 0.7419579345892257<br>Model 2 Included Features: <br>AveRooms, Latitude, Longitude<br>Model 2 RMSE: 0.6381314025630901"
          ],
          [
           "Model 1 Included Features: <br>MedInc, Latitude<br>Model 1 RMSE: 0.8301873925326823<br>Model 2 Included Features: <br>Latitude, Longitude<br>Model 2 RMSE: 0.6323506836333833"
          ],
          [
           "Model 1 Included Features: <br>MedInc<br>Model 1 RMSE: 0.8390728208993037<br>Model 2 Included Features: <br>Longitude<br>Model 2 RMSE: 1.0058695484342364"
          ]
         ],
         "hovertemplate": "Iteration=%{x}<br>Agreeability Coefficient (pearson)=%{y}<br>Summary=%{customdata[0]}<extra></extra>",
         "legendgroup": "",
         "line": {
          "color": "#636efa",
          "dash": "solid"
         },
         "marker": {
          "symbol": "circle"
         },
         "mode": "markers+lines",
         "name": "",
         "orientation": "v",
         "showlegend": false,
         "type": "scatter",
         "x": [
          1,
          2,
          3,
          4,
          5,
          6,
          7,
          8
         ],
         "xaxis": "x",
         "y": [
          0.7615588209425082,
          0.7717165584399881,
          0.7832585143827089,
          0.7815540319949525,
          0.7796369086976055,
          0.724497112504825,
          0.5990974962893794,
          0.3262706343168213
         ],
         "yaxis": "y"
        }
       ],
       "layout": {
        "hovermode": "closest",
        "legend": {
         "tracegroupgap": 0
        },
        "template": {
         "data": {
          "bar": [
           {
            "error_x": {
             "color": "#2a3f5f"
            },
            "error_y": {
             "color": "#2a3f5f"
            },
            "marker": {
             "line": {
              "color": "#E5ECF6",
              "width": 0.5
             },
             "pattern": {
              "fillmode": "overlay",
              "size": 10,
              "solidity": 0.2
             }
            },
            "type": "bar"
           }
          ],
          "barpolar": [
           {
            "marker": {
             "line": {
              "color": "#E5ECF6",
              "width": 0.5
             },
             "pattern": {
              "fillmode": "overlay",
              "size": 10,
              "solidity": 0.2
             }
            },
            "type": "barpolar"
           }
          ],
          "carpet": [
           {
            "aaxis": {
             "endlinecolor": "#2a3f5f",
             "gridcolor": "white",
             "linecolor": "white",
             "minorgridcolor": "white",
             "startlinecolor": "#2a3f5f"
            },
            "baxis": {
             "endlinecolor": "#2a3f5f",
             "gridcolor": "white",
             "linecolor": "white",
             "minorgridcolor": "white",
             "startlinecolor": "#2a3f5f"
            },
            "type": "carpet"
           }
          ],
          "choropleth": [
           {
            "colorbar": {
             "outlinewidth": 0,
             "ticks": ""
            },
            "type": "choropleth"
           }
          ],
          "contour": [
           {
            "colorbar": {
             "outlinewidth": 0,
             "ticks": ""
            },
            "colorscale": [
             [
              0,
              "#0d0887"
             ],
             [
              0.1111111111111111,
              "#46039f"
             ],
             [
              0.2222222222222222,
              "#7201a8"
             ],
             [
              0.3333333333333333,
              "#9c179e"
             ],
             [
              0.4444444444444444,
              "#bd3786"
             ],
             [
              0.5555555555555556,
              "#d8576b"
             ],
             [
              0.6666666666666666,
              "#ed7953"
             ],
             [
              0.7777777777777778,
              "#fb9f3a"
             ],
             [
              0.8888888888888888,
              "#fdca26"
             ],
             [
              1,
              "#f0f921"
             ]
            ],
            "type": "contour"
           }
          ],
          "contourcarpet": [
           {
            "colorbar": {
             "outlinewidth": 0,
             "ticks": ""
            },
            "type": "contourcarpet"
           }
          ],
          "heatmap": [
           {
            "colorbar": {
             "outlinewidth": 0,
             "ticks": ""
            },
            "colorscale": [
             [
              0,
              "#0d0887"
             ],
             [
              0.1111111111111111,
              "#46039f"
             ],
             [
              0.2222222222222222,
              "#7201a8"
             ],
             [
              0.3333333333333333,
              "#9c179e"
             ],
             [
              0.4444444444444444,
              "#bd3786"
             ],
             [
              0.5555555555555556,
              "#d8576b"
             ],
             [
              0.6666666666666666,
              "#ed7953"
             ],
             [
              0.7777777777777778,
              "#fb9f3a"
             ],
             [
              0.8888888888888888,
              "#fdca26"
             ],
             [
              1,
              "#f0f921"
             ]
            ],
            "type": "heatmap"
           }
          ],
          "heatmapgl": [
           {
            "colorbar": {
             "outlinewidth": 0,
             "ticks": ""
            },
            "colorscale": [
             [
              0,
              "#0d0887"
             ],
             [
              0.1111111111111111,
              "#46039f"
             ],
             [
              0.2222222222222222,
              "#7201a8"
             ],
             [
              0.3333333333333333,
              "#9c179e"
             ],
             [
              0.4444444444444444,
              "#bd3786"
             ],
             [
              0.5555555555555556,
              "#d8576b"
             ],
             [
              0.6666666666666666,
              "#ed7953"
             ],
             [
              0.7777777777777778,
              "#fb9f3a"
             ],
             [
              0.8888888888888888,
              "#fdca26"
             ],
             [
              1,
              "#f0f921"
             ]
            ],
            "type": "heatmapgl"
           }
          ],
          "histogram": [
           {
            "marker": {
             "pattern": {
              "fillmode": "overlay",
              "size": 10,
              "solidity": 0.2
             }
            },
            "type": "histogram"
           }
          ],
          "histogram2d": [
           {
            "colorbar": {
             "outlinewidth": 0,
             "ticks": ""
            },
            "colorscale": [
             [
              0,
              "#0d0887"
             ],
             [
              0.1111111111111111,
              "#46039f"
             ],
             [
              0.2222222222222222,
              "#7201a8"
             ],
             [
              0.3333333333333333,
              "#9c179e"
             ],
             [
              0.4444444444444444,
              "#bd3786"
             ],
             [
              0.5555555555555556,
              "#d8576b"
             ],
             [
              0.6666666666666666,
              "#ed7953"
             ],
             [
              0.7777777777777778,
              "#fb9f3a"
             ],
             [
              0.8888888888888888,
              "#fdca26"
             ],
             [
              1,
              "#f0f921"
             ]
            ],
            "type": "histogram2d"
           }
          ],
          "histogram2dcontour": [
           {
            "colorbar": {
             "outlinewidth": 0,
             "ticks": ""
            },
            "colorscale": [
             [
              0,
              "#0d0887"
             ],
             [
              0.1111111111111111,
              "#46039f"
             ],
             [
              0.2222222222222222,
              "#7201a8"
             ],
             [
              0.3333333333333333,
              "#9c179e"
             ],
             [
              0.4444444444444444,
              "#bd3786"
             ],
             [
              0.5555555555555556,
              "#d8576b"
             ],
             [
              0.6666666666666666,
              "#ed7953"
             ],
             [
              0.7777777777777778,
              "#fb9f3a"
             ],
             [
              0.8888888888888888,
              "#fdca26"
             ],
             [
              1,
              "#f0f921"
             ]
            ],
            "type": "histogram2dcontour"
           }
          ],
          "mesh3d": [
           {
            "colorbar": {
             "outlinewidth": 0,
             "ticks": ""
            },
            "type": "mesh3d"
           }
          ],
          "parcoords": [
           {
            "line": {
             "colorbar": {
              "outlinewidth": 0,
              "ticks": ""
             }
            },
            "type": "parcoords"
           }
          ],
          "pie": [
           {
            "automargin": true,
            "type": "pie"
           }
          ],
          "scatter": [
           {
            "fillpattern": {
             "fillmode": "overlay",
             "size": 10,
             "solidity": 0.2
            },
            "type": "scatter"
           }
          ],
          "scatter3d": [
           {
            "line": {
             "colorbar": {
              "outlinewidth": 0,
              "ticks": ""
             }
            },
            "marker": {
             "colorbar": {
              "outlinewidth": 0,
              "ticks": ""
             }
            },
            "type": "scatter3d"
           }
          ],
          "scattercarpet": [
           {
            "marker": {
             "colorbar": {
              "outlinewidth": 0,
              "ticks": ""
             }
            },
            "type": "scattercarpet"
           }
          ],
          "scattergeo": [
           {
            "marker": {
             "colorbar": {
              "outlinewidth": 0,
              "ticks": ""
             }
            },
            "type": "scattergeo"
           }
          ],
          "scattergl": [
           {
            "marker": {
             "colorbar": {
              "outlinewidth": 0,
              "ticks": ""
             }
            },
            "type": "scattergl"
           }
          ],
          "scattermapbox": [
           {
            "marker": {
             "colorbar": {
              "outlinewidth": 0,
              "ticks": ""
             }
            },
            "type": "scattermapbox"
           }
          ],
          "scatterpolar": [
           {
            "marker": {
             "colorbar": {
              "outlinewidth": 0,
              "ticks": ""
             }
            },
            "type": "scatterpolar"
           }
          ],
          "scatterpolargl": [
           {
            "marker": {
             "colorbar": {
              "outlinewidth": 0,
              "ticks": ""
             }
            },
            "type": "scatterpolargl"
           }
          ],
          "scatterternary": [
           {
            "marker": {
             "colorbar": {
              "outlinewidth": 0,
              "ticks": ""
             }
            },
            "type": "scatterternary"
           }
          ],
          "surface": [
           {
            "colorbar": {
             "outlinewidth": 0,
             "ticks": ""
            },
            "colorscale": [
             [
              0,
              "#0d0887"
             ],
             [
              0.1111111111111111,
              "#46039f"
             ],
             [
              0.2222222222222222,
              "#7201a8"
             ],
             [
              0.3333333333333333,
              "#9c179e"
             ],
             [
              0.4444444444444444,
              "#bd3786"
             ],
             [
              0.5555555555555556,
              "#d8576b"
             ],
             [
              0.6666666666666666,
              "#ed7953"
             ],
             [
              0.7777777777777778,
              "#fb9f3a"
             ],
             [
              0.8888888888888888,
              "#fdca26"
             ],
             [
              1,
              "#f0f921"
             ]
            ],
            "type": "surface"
           }
          ],
          "table": [
           {
            "cells": {
             "fill": {
              "color": "#EBF0F8"
             },
             "line": {
              "color": "white"
             }
            },
            "header": {
             "fill": {
              "color": "#C8D4E3"
             },
             "line": {
              "color": "white"
             }
            },
            "type": "table"
           }
          ]
         },
         "layout": {
          "annotationdefaults": {
           "arrowcolor": "#2a3f5f",
           "arrowhead": 0,
           "arrowwidth": 1
          },
          "autotypenumbers": "strict",
          "coloraxis": {
           "colorbar": {
            "outlinewidth": 0,
            "ticks": ""
           }
          },
          "colorscale": {
           "diverging": [
            [
             0,
             "#8e0152"
            ],
            [
             0.1,
             "#c51b7d"
            ],
            [
             0.2,
             "#de77ae"
            ],
            [
             0.3,
             "#f1b6da"
            ],
            [
             0.4,
             "#fde0ef"
            ],
            [
             0.5,
             "#f7f7f7"
            ],
            [
             0.6,
             "#e6f5d0"
            ],
            [
             0.7,
             "#b8e186"
            ],
            [
             0.8,
             "#7fbc41"
            ],
            [
             0.9,
             "#4d9221"
            ],
            [
             1,
             "#276419"
            ]
           ],
           "sequential": [
            [
             0,
             "#0d0887"
            ],
            [
             0.1111111111111111,
             "#46039f"
            ],
            [
             0.2222222222222222,
             "#7201a8"
            ],
            [
             0.3333333333333333,
             "#9c179e"
            ],
            [
             0.4444444444444444,
             "#bd3786"
            ],
            [
             0.5555555555555556,
             "#d8576b"
            ],
            [
             0.6666666666666666,
             "#ed7953"
            ],
            [
             0.7777777777777778,
             "#fb9f3a"
            ],
            [
             0.8888888888888888,
             "#fdca26"
            ],
            [
             1,
             "#f0f921"
            ]
           ],
           "sequentialminus": [
            [
             0,
             "#0d0887"
            ],
            [
             0.1111111111111111,
             "#46039f"
            ],
            [
             0.2222222222222222,
             "#7201a8"
            ],
            [
             0.3333333333333333,
             "#9c179e"
            ],
            [
             0.4444444444444444,
             "#bd3786"
            ],
            [
             0.5555555555555556,
             "#d8576b"
            ],
            [
             0.6666666666666666,
             "#ed7953"
            ],
            [
             0.7777777777777778,
             "#fb9f3a"
            ],
            [
             0.8888888888888888,
             "#fdca26"
            ],
            [
             1,
             "#f0f921"
            ]
           ]
          },
          "colorway": [
           "#636efa",
           "#EF553B",
           "#00cc96",
           "#ab63fa",
           "#FFA15A",
           "#19d3f3",
           "#FF6692",
           "#B6E880",
           "#FF97FF",
           "#FECB52"
          ],
          "font": {
           "color": "#2a3f5f"
          },
          "geo": {
           "bgcolor": "white",
           "lakecolor": "white",
           "landcolor": "#E5ECF6",
           "showlakes": true,
           "showland": true,
           "subunitcolor": "white"
          },
          "hoverlabel": {
           "align": "left"
          },
          "hovermode": "closest",
          "mapbox": {
           "style": "light"
          },
          "paper_bgcolor": "white",
          "plot_bgcolor": "#E5ECF6",
          "polar": {
           "angularaxis": {
            "gridcolor": "white",
            "linecolor": "white",
            "ticks": ""
           },
           "bgcolor": "#E5ECF6",
           "radialaxis": {
            "gridcolor": "white",
            "linecolor": "white",
            "ticks": ""
           }
          },
          "scene": {
           "xaxis": {
            "backgroundcolor": "#E5ECF6",
            "gridcolor": "white",
            "gridwidth": 2,
            "linecolor": "white",
            "showbackground": true,
            "ticks": "",
            "zerolinecolor": "white"
           },
           "yaxis": {
            "backgroundcolor": "#E5ECF6",
            "gridcolor": "white",
            "gridwidth": 2,
            "linecolor": "white",
            "showbackground": true,
            "ticks": "",
            "zerolinecolor": "white"
           },
           "zaxis": {
            "backgroundcolor": "#E5ECF6",
            "gridcolor": "white",
            "gridwidth": 2,
            "linecolor": "white",
            "showbackground": true,
            "ticks": "",
            "zerolinecolor": "white"
           }
          },
          "shapedefaults": {
           "line": {
            "color": "#2a3f5f"
           }
          },
          "ternary": {
           "aaxis": {
            "gridcolor": "white",
            "linecolor": "white",
            "ticks": ""
           },
           "baxis": {
            "gridcolor": "white",
            "linecolor": "white",
            "ticks": ""
           },
           "bgcolor": "#E5ECF6",
           "caxis": {
            "gridcolor": "white",
            "linecolor": "white",
            "ticks": ""
           }
          },
          "title": {
           "x": 0.05
          },
          "xaxis": {
           "automargin": true,
           "gridcolor": "white",
           "linecolor": "white",
           "ticks": "",
           "title": {
            "standoff": 15
           },
           "zerolinecolor": "white",
           "zerolinewidth": 2
          },
          "yaxis": {
           "automargin": true,
           "gridcolor": "white",
           "linecolor": "white",
           "ticks": "",
           "title": {
            "standoff": 15
           },
           "zerolinecolor": "white",
           "zerolinewidth": 2
          }
         }
        },
        "title": {
         "text": "Agreeability Coefficients Over Algorithm Iterations"
        },
        "xaxis": {
         "anchor": "y",
         "domain": [
          0,
          1
         ],
         "title": {
          "text": "Iteration"
         },
         "type": "category"
        },
        "yaxis": {
         "anchor": "x",
         "domain": [
          0,
          1
         ],
         "title": {
          "text": "Agreeability Coefficient (pearson)"
         }
        }
       }
      }
     },
     "metadata": {},
     "output_type": "display_data"
    }
   ],
   "source": [
    "seeker.plot_from_results()"
   ]
  },
  {
   "cell_type": "markdown",
   "metadata": {},
   "source": [
    "### Check functionality on a classification task"
   ]
  },
  {
   "cell_type": "code",
   "execution_count": 21,
   "metadata": {},
   "outputs": [
    {
     "name": "stdout",
     "output_type": "stream",
     "text": [
      "<class 'pandas.core.frame.DataFrame'>\n",
      "RangeIndex: 20640 entries, 0 to 20639\n",
      "Data columns (total 9 columns):\n",
      " #   Column      Non-Null Count  Dtype  \n",
      "---  ------      --------------  -----  \n",
      " 0   MedInc      20640 non-null  float64\n",
      " 1   HouseAge    20640 non-null  float64\n",
      " 2   AveRooms    20640 non-null  float64\n",
      " 3   AveBedrms   20640 non-null  float64\n",
      " 4   Population  20640 non-null  float64\n",
      " 5   AveOccup    20640 non-null  float64\n",
      " 6   Latitude    20640 non-null  float64\n",
      " 7   Longitude   20640 non-null  float64\n",
      " 8   AboveMean   20640 non-null  int64  \n",
      "dtypes: float64(8), int64(1)\n",
      "memory usage: 1.4 MB\n"
     ]
    }
   ],
   "source": [
    "df_discrete.info()"
   ]
  },
  {
   "cell_type": "code",
   "execution_count": 22,
   "metadata": {},
   "outputs": [],
   "source": [
    "y = df_discrete['AboveMean']\n",
    "X = df_discrete.drop('AboveMean', axis=1)\n"
   ]
  },
  {
   "cell_type": "code",
   "execution_count": 23,
   "metadata": {},
   "outputs": [],
   "source": [
    "X_train, X_val, y_train, y_val = train_test_split(X, y, test_size=0.2, random_state=66)"
   ]
  },
  {
   "cell_type": "code",
   "execution_count": 24,
   "metadata": {},
   "outputs": [],
   "source": [
    "from sklearn.linear_model import LogisticRegression\n",
    "from sklearn.tree import DecisionTreeClassifier"
   ]
  },
  {
   "cell_type": "code",
   "execution_count": 25,
   "metadata": {},
   "outputs": [],
   "source": [
    "m1 = LogisticRegression(solver='liblinear')\n",
    "m2 = DecisionTreeClassifier()"
   ]
  },
  {
   "cell_type": "code",
   "execution_count": 26,
   "metadata": {},
   "outputs": [],
   "source": [
    "seeker_2 = BackEliminator(\n",
    "    X=X_train,\n",
    "    y=y_train,\n",
    "    validation_data=(X_val, y_val),\n",
    "    task_type='classification',\n",
    "    criterion='f1',\n",
    "    agreeability='cohen_kappa'\n",
    ")"
   ]
  },
  {
   "cell_type": "code",
   "execution_count": 27,
   "metadata": {},
   "outputs": [
    {
     "name": "stdout",
     "output_type": "stream",
     "text": [
      "Initial run: fitted both models with full feature set.\n",
      "------------------------------------------------------------------------------------------------------------------------------------------------------\n",
      "Model 1 included: ['MedInc', 'HouseAge', 'AveRooms', 'AveBedrms', 'Population', 'AveOccup', 'Latitude', 'Longitude']. F1: 0.7787234042553192\n",
      "Model 2 included: ['MedInc', 'HouseAge', 'AveRooms', 'AveBedrms', 'Population', 'AveOccup', 'Latitude', 'Longitude']. F1: 0.7909604519774012\n",
      "------------------------------------------------------------------------------------------------------------------------------------------------------\n",
      "Agreeability Coefficient (cohen_kappa): 0.6370880883296353\n",
      "======================================================================================================================================================\n",
      "Iteration 1:\n",
      "------------------------------------------------------------------------------------------------------------------------------------------------------\n",
      "Model 1 included: ['MedInc', 'HouseAge', 'AveRooms', 'AveBedrms', 'AveOccup', 'Latitude', 'Longitude']. F1: 0.7815533980582524\n",
      "Model 2 included: ['HouseAge', 'AveRooms', 'AveBedrms', 'Population', 'AveOccup', 'Latitude', 'Longitude']. F1: 0.8131736526946108\n",
      "------------------------------------------------------------------------------------------------------------------------------------------------------\n",
      "Agreeability Coefficient (cohen_kappa): 0.5760027186873634\n",
      "======================================================================================================================================================\n",
      "Iteration 2:\n",
      "------------------------------------------------------------------------------------------------------------------------------------------------------\n",
      "Model 1 included: ['MedInc', 'HouseAge', 'AveRooms', 'AveOccup', 'Latitude', 'Longitude']. F1: 0.7807971014492755\n",
      "Model 2 included: ['HouseAge', 'AveRooms', 'Population', 'AveOccup', 'Latitude', 'Longitude']. F1: 0.8241296518607443\n",
      "------------------------------------------------------------------------------------------------------------------------------------------------------\n",
      "Agreeability Coefficient (cohen_kappa): 0.5813929163084897\n",
      "======================================================================================================================================================\n",
      "Iteration 3:\n",
      "------------------------------------------------------------------------------------------------------------------------------------------------------\n",
      "Model 1 included: ['MedInc', 'HouseAge', 'AveOccup', 'Latitude', 'Longitude']. F1: 0.7763993948562784\n",
      "Model 2 included: ['HouseAge', 'AveRooms', 'Population', 'Latitude', 'Longitude']. F1: 0.8284166164960868\n",
      "------------------------------------------------------------------------------------------------------------------------------------------------------\n",
      "Agreeability Coefficient (cohen_kappa): 0.5740243025883305\n",
      "======================================================================================================================================================\n",
      "Iteration 4:\n",
      "------------------------------------------------------------------------------------------------------------------------------------------------------\n",
      "Model 1 included: ['MedInc', 'AveOccup', 'Latitude', 'Longitude']. F1: 0.7670229007633588\n",
      "Model 2 included: ['HouseAge', 'AveRooms', 'Latitude', 'Longitude']. F1: 0.8302793631721237\n",
      "------------------------------------------------------------------------------------------------------------------------------------------------------\n",
      "Agreeability Coefficient (cohen_kappa): 0.5613075794158027\n",
      "======================================================================================================================================================\n",
      "Iteration 5:\n",
      "------------------------------------------------------------------------------------------------------------------------------------------------------\n",
      "Model 1 included: ['MedInc', 'AveOccup', 'Latitude']. F1: 0.7451343836886006\n",
      "Model 2 included: ['HouseAge', 'Latitude', 'Longitude']. F1: 0.8272946859903382\n",
      "------------------------------------------------------------------------------------------------------------------------------------------------------\n",
      "Agreeability Coefficient (cohen_kappa): 0.49048062557094163\n",
      "======================================================================================================================================================\n",
      "Iteration 6:\n",
      "------------------------------------------------------------------------------------------------------------------------------------------------------\n",
      "Model 1 included: ['MedInc', 'AveOccup']. F1: 0.7381546134663343\n",
      "Model 2 included: ['Latitude', 'Longitude']. F1: 0.8414932680538556\n",
      "------------------------------------------------------------------------------------------------------------------------------------------------------\n",
      "Agreeability Coefficient (cohen_kappa): 0.5141957083982377\n",
      "======================================================================================================================================================\n",
      "Iteration 7:\n",
      "------------------------------------------------------------------------------------------------------------------------------------------------------\n",
      "Model 1 included: ['MedInc']. F1: 0.6912144702842378\n",
      "Model 2 included: ['Longitude']. F1: 0.615831987075929\n",
      "------------------------------------------------------------------------------------------------------------------------------------------------------\n",
      "Agreeability Coefficient (cohen_kappa): 0.2202984662586311\n",
      "======================================================================================================================================================\n"
     ]
    }
   ],
   "source": [
    "results_2 = seeker_2.compare_models(\n",
    "    m1=m1,\n",
    "    m2=m2\n",
    ")"
   ]
  },
  {
   "cell_type": "code",
   "execution_count": 28,
   "metadata": {},
   "outputs": [
    {
     "data": {
      "text/plain": [
       "[{'Model 1 Included Features': ['MedInc',\n",
       "   'HouseAge',\n",
       "   'AveRooms',\n",
       "   'AveBedrms',\n",
       "   'Population',\n",
       "   'AveOccup',\n",
       "   'Latitude',\n",
       "   'Longitude'],\n",
       "  'Model 1 F1': 0.7787234042553192,\n",
       "  'Model 2 Included Features': ['MedInc',\n",
       "   'HouseAge',\n",
       "   'AveRooms',\n",
       "   'AveBedrms',\n",
       "   'Population',\n",
       "   'AveOccup',\n",
       "   'Latitude',\n",
       "   'Longitude'],\n",
       "  'Model 2 F1': 0.7909604519774012,\n",
       "  'Agreeability Coefficient (cohen_kappa)': 0.6370880883296353},\n",
       " {'Model 1 Included Features': ['MedInc',\n",
       "   'HouseAge',\n",
       "   'AveRooms',\n",
       "   'AveBedrms',\n",
       "   'AveOccup',\n",
       "   'Latitude',\n",
       "   'Longitude'],\n",
       "  'Model 1 F1': 0.7815533980582524,\n",
       "  'Model 2 Included Features': ['HouseAge',\n",
       "   'AveRooms',\n",
       "   'AveBedrms',\n",
       "   'Population',\n",
       "   'AveOccup',\n",
       "   'Latitude',\n",
       "   'Longitude'],\n",
       "  'Model 2 F1': 0.8131736526946108,\n",
       "  'Agreeability Coefficient (cohen_kappa)': 0.5760027186873634},\n",
       " {'Model 1 Included Features': ['MedInc',\n",
       "   'HouseAge',\n",
       "   'AveRooms',\n",
       "   'AveOccup',\n",
       "   'Latitude',\n",
       "   'Longitude'],\n",
       "  'Model 1 F1': 0.7807971014492755,\n",
       "  'Model 2 Included Features': ['HouseAge',\n",
       "   'AveRooms',\n",
       "   'Population',\n",
       "   'AveOccup',\n",
       "   'Latitude',\n",
       "   'Longitude'],\n",
       "  'Model 2 F1': 0.8241296518607443,\n",
       "  'Agreeability Coefficient (cohen_kappa)': 0.5813929163084897},\n",
       " {'Model 1 Included Features': ['MedInc',\n",
       "   'HouseAge',\n",
       "   'AveOccup',\n",
       "   'Latitude',\n",
       "   'Longitude'],\n",
       "  'Model 1 F1': 0.7763993948562784,\n",
       "  'Model 2 Included Features': ['HouseAge',\n",
       "   'AveRooms',\n",
       "   'Population',\n",
       "   'Latitude',\n",
       "   'Longitude'],\n",
       "  'Model 2 F1': 0.8284166164960868,\n",
       "  'Agreeability Coefficient (cohen_kappa)': 0.5740243025883305},\n",
       " {'Model 1 Included Features': ['MedInc', 'AveOccup', 'Latitude', 'Longitude'],\n",
       "  'Model 1 F1': 0.7670229007633588,\n",
       "  'Model 2 Included Features': ['HouseAge',\n",
       "   'AveRooms',\n",
       "   'Latitude',\n",
       "   'Longitude'],\n",
       "  'Model 2 F1': 0.8302793631721237,\n",
       "  'Agreeability Coefficient (cohen_kappa)': 0.5613075794158027},\n",
       " {'Model 1 Included Features': ['MedInc', 'AveOccup', 'Latitude'],\n",
       "  'Model 1 F1': 0.7451343836886006,\n",
       "  'Model 2 Included Features': ['HouseAge', 'Latitude', 'Longitude'],\n",
       "  'Model 2 F1': 0.8272946859903382,\n",
       "  'Agreeability Coefficient (cohen_kappa)': 0.49048062557094163},\n",
       " {'Model 1 Included Features': ['MedInc', 'AveOccup'],\n",
       "  'Model 1 F1': 0.7381546134663343,\n",
       "  'Model 2 Included Features': ['Latitude', 'Longitude'],\n",
       "  'Model 2 F1': 0.8414932680538556,\n",
       "  'Agreeability Coefficient (cohen_kappa)': 0.5141957083982377},\n",
       " {'Model 1 Included Features': ['MedInc'],\n",
       "  'Model 1 F1': 0.6912144702842378,\n",
       "  'Model 2 Included Features': ['Longitude'],\n",
       "  'Model 2 F1': 0.615831987075929,\n",
       "  'Agreeability Coefficient (cohen_kappa)': 0.2202984662586311}]"
      ]
     },
     "execution_count": 28,
     "metadata": {},
     "output_type": "execute_result"
    }
   ],
   "source": [
    "results_2"
   ]
  },
  {
   "cell_type": "code",
   "execution_count": 29,
   "metadata": {},
   "outputs": [],
   "source": [
    "results_df_2 = seeker_2.dataframe_from_results()"
   ]
  },
  {
   "cell_type": "code",
   "execution_count": 30,
   "metadata": {},
   "outputs": [
    {
     "data": {
      "text/html": [
       "<div>\n",
       "<style scoped>\n",
       "    .dataframe tbody tr th:only-of-type {\n",
       "        vertical-align: middle;\n",
       "    }\n",
       "\n",
       "    .dataframe tbody tr th {\n",
       "        vertical-align: top;\n",
       "    }\n",
       "\n",
       "    .dataframe thead th {\n",
       "        text-align: right;\n",
       "    }\n",
       "</style>\n",
       "<table border=\"1\" class=\"dataframe\">\n",
       "  <thead>\n",
       "    <tr style=\"text-align: right;\">\n",
       "      <th></th>\n",
       "      <th>Model 1 Included Features</th>\n",
       "      <th>Model 1 F1</th>\n",
       "      <th>Model 2 Included Features</th>\n",
       "      <th>Model 2 F1</th>\n",
       "      <th>Agreeability Coefficient (cohen_kappa)</th>\n",
       "    </tr>\n",
       "  </thead>\n",
       "  <tbody>\n",
       "    <tr>\n",
       "      <th>0</th>\n",
       "      <td>[MedInc, HouseAge, AveRooms, AveBedrms, Popula...</td>\n",
       "      <td>0.778723</td>\n",
       "      <td>[MedInc, HouseAge, AveRooms, AveBedrms, Popula...</td>\n",
       "      <td>0.790960</td>\n",
       "      <td>0.637088</td>\n",
       "    </tr>\n",
       "    <tr>\n",
       "      <th>1</th>\n",
       "      <td>[MedInc, HouseAge, AveRooms, AveBedrms, AveOcc...</td>\n",
       "      <td>0.781553</td>\n",
       "      <td>[HouseAge, AveRooms, AveBedrms, Population, Av...</td>\n",
       "      <td>0.813174</td>\n",
       "      <td>0.576003</td>\n",
       "    </tr>\n",
       "    <tr>\n",
       "      <th>2</th>\n",
       "      <td>[MedInc, HouseAge, AveRooms, AveOccup, Latitud...</td>\n",
       "      <td>0.780797</td>\n",
       "      <td>[HouseAge, AveRooms, Population, AveOccup, Lat...</td>\n",
       "      <td>0.824130</td>\n",
       "      <td>0.581393</td>\n",
       "    </tr>\n",
       "    <tr>\n",
       "      <th>3</th>\n",
       "      <td>[MedInc, HouseAge, AveOccup, Latitude, Longitude]</td>\n",
       "      <td>0.776399</td>\n",
       "      <td>[HouseAge, AveRooms, Population, Latitude, Lon...</td>\n",
       "      <td>0.828417</td>\n",
       "      <td>0.574024</td>\n",
       "    </tr>\n",
       "    <tr>\n",
       "      <th>4</th>\n",
       "      <td>[MedInc, AveOccup, Latitude, Longitude]</td>\n",
       "      <td>0.767023</td>\n",
       "      <td>[HouseAge, AveRooms, Latitude, Longitude]</td>\n",
       "      <td>0.830279</td>\n",
       "      <td>0.561308</td>\n",
       "    </tr>\n",
       "    <tr>\n",
       "      <th>5</th>\n",
       "      <td>[MedInc, AveOccup, Latitude]</td>\n",
       "      <td>0.745134</td>\n",
       "      <td>[HouseAge, Latitude, Longitude]</td>\n",
       "      <td>0.827295</td>\n",
       "      <td>0.490481</td>\n",
       "    </tr>\n",
       "    <tr>\n",
       "      <th>6</th>\n",
       "      <td>[MedInc, AveOccup]</td>\n",
       "      <td>0.738155</td>\n",
       "      <td>[Latitude, Longitude]</td>\n",
       "      <td>0.841493</td>\n",
       "      <td>0.514196</td>\n",
       "    </tr>\n",
       "    <tr>\n",
       "      <th>7</th>\n",
       "      <td>[MedInc]</td>\n",
       "      <td>0.691214</td>\n",
       "      <td>[Longitude]</td>\n",
       "      <td>0.615832</td>\n",
       "      <td>0.220298</td>\n",
       "    </tr>\n",
       "  </tbody>\n",
       "</table>\n",
       "</div>"
      ],
      "text/plain": [
       "                           Model 1 Included Features  Model 1 F1  \\\n",
       "0  [MedInc, HouseAge, AveRooms, AveBedrms, Popula...    0.778723   \n",
       "1  [MedInc, HouseAge, AveRooms, AveBedrms, AveOcc...    0.781553   \n",
       "2  [MedInc, HouseAge, AveRooms, AveOccup, Latitud...    0.780797   \n",
       "3  [MedInc, HouseAge, AveOccup, Latitude, Longitude]    0.776399   \n",
       "4            [MedInc, AveOccup, Latitude, Longitude]    0.767023   \n",
       "5                       [MedInc, AveOccup, Latitude]    0.745134   \n",
       "6                                 [MedInc, AveOccup]    0.738155   \n",
       "7                                           [MedInc]    0.691214   \n",
       "\n",
       "                           Model 2 Included Features  Model 2 F1  \\\n",
       "0  [MedInc, HouseAge, AveRooms, AveBedrms, Popula...    0.790960   \n",
       "1  [HouseAge, AveRooms, AveBedrms, Population, Av...    0.813174   \n",
       "2  [HouseAge, AveRooms, Population, AveOccup, Lat...    0.824130   \n",
       "3  [HouseAge, AveRooms, Population, Latitude, Lon...    0.828417   \n",
       "4          [HouseAge, AveRooms, Latitude, Longitude]    0.830279   \n",
       "5                    [HouseAge, Latitude, Longitude]    0.827295   \n",
       "6                              [Latitude, Longitude]    0.841493   \n",
       "7                                        [Longitude]    0.615832   \n",
       "\n",
       "   Agreeability Coefficient (cohen_kappa)  \n",
       "0                                0.637088  \n",
       "1                                0.576003  \n",
       "2                                0.581393  \n",
       "3                                0.574024  \n",
       "4                                0.561308  \n",
       "5                                0.490481  \n",
       "6                                0.514196  \n",
       "7                                0.220298  "
      ]
     },
     "execution_count": 30,
     "metadata": {},
     "output_type": "execute_result"
    }
   ],
   "source": [
    "results_df_2"
   ]
  },
  {
   "cell_type": "code",
   "execution_count": 31,
   "metadata": {},
   "outputs": [
    {
     "data": {
      "application/vnd.plotly.v1+json": {
       "config": {
        "plotlyServerURL": "https://plot.ly"
       },
       "data": [
        {
         "customdata": [
          [
           "Model 1 Included Features: <br>MedInc, HouseAge, AveRooms, AveBedrms, Population, AveOccup, Latitude, Longitude<br>Model 1 F1: 0.7787234042553192<br>Model 2 Included Features: <br>MedInc, HouseAge, AveRooms, AveBedrms, Population, AveOccup, Latitude, Longitude<br>Model 2 F1: 0.7909604519774012"
          ],
          [
           "Model 1 Included Features: <br>MedInc, HouseAge, AveRooms, AveBedrms, AveOccup, Latitude, Longitude<br>Model 1 F1: 0.7815533980582524<br>Model 2 Included Features: <br>HouseAge, AveRooms, AveBedrms, Population, AveOccup, Latitude, Longitude<br>Model 2 F1: 0.8131736526946108"
          ],
          [
           "Model 1 Included Features: <br>MedInc, HouseAge, AveRooms, AveOccup, Latitude, Longitude<br>Model 1 F1: 0.7807971014492755<br>Model 2 Included Features: <br>HouseAge, AveRooms, Population, AveOccup, Latitude, Longitude<br>Model 2 F1: 0.8241296518607443"
          ],
          [
           "Model 1 Included Features: <br>MedInc, HouseAge, AveOccup, Latitude, Longitude<br>Model 1 F1: 0.7763993948562784<br>Model 2 Included Features: <br>HouseAge, AveRooms, Population, Latitude, Longitude<br>Model 2 F1: 0.8284166164960868"
          ],
          [
           "Model 1 Included Features: <br>MedInc, AveOccup, Latitude, Longitude<br>Model 1 F1: 0.7670229007633588<br>Model 2 Included Features: <br>HouseAge, AveRooms, Latitude, Longitude<br>Model 2 F1: 0.8302793631721237"
          ],
          [
           "Model 1 Included Features: <br>MedInc, AveOccup, Latitude<br>Model 1 F1: 0.7451343836886006<br>Model 2 Included Features: <br>HouseAge, Latitude, Longitude<br>Model 2 F1: 0.8272946859903382"
          ],
          [
           "Model 1 Included Features: <br>MedInc, AveOccup<br>Model 1 F1: 0.7381546134663343<br>Model 2 Included Features: <br>Latitude, Longitude<br>Model 2 F1: 0.8414932680538556"
          ],
          [
           "Model 1 Included Features: <br>MedInc<br>Model 1 F1: 0.6912144702842378<br>Model 2 Included Features: <br>Longitude<br>Model 2 F1: 0.615831987075929"
          ]
         ],
         "hovertemplate": "Iteration=%{x}<br>Agreeability Coefficient (cohen_kappa)=%{y}<br>Summary=%{customdata[0]}<extra></extra>",
         "legendgroup": "",
         "line": {
          "color": "#636efa",
          "dash": "solid"
         },
         "marker": {
          "symbol": "circle"
         },
         "mode": "markers+lines",
         "name": "",
         "orientation": "v",
         "showlegend": false,
         "type": "scatter",
         "x": [
          1,
          2,
          3,
          4,
          5,
          6,
          7,
          8
         ],
         "xaxis": "x",
         "y": [
          0.6370880883296353,
          0.5760027186873634,
          0.5813929163084897,
          0.5740243025883305,
          0.5613075794158027,
          0.49048062557094163,
          0.5141957083982377,
          0.2202984662586311
         ],
         "yaxis": "y"
        }
       ],
       "layout": {
        "hovermode": "closest",
        "legend": {
         "tracegroupgap": 0
        },
        "template": {
         "data": {
          "bar": [
           {
            "error_x": {
             "color": "#2a3f5f"
            },
            "error_y": {
             "color": "#2a3f5f"
            },
            "marker": {
             "line": {
              "color": "#E5ECF6",
              "width": 0.5
             },
             "pattern": {
              "fillmode": "overlay",
              "size": 10,
              "solidity": 0.2
             }
            },
            "type": "bar"
           }
          ],
          "barpolar": [
           {
            "marker": {
             "line": {
              "color": "#E5ECF6",
              "width": 0.5
             },
             "pattern": {
              "fillmode": "overlay",
              "size": 10,
              "solidity": 0.2
             }
            },
            "type": "barpolar"
           }
          ],
          "carpet": [
           {
            "aaxis": {
             "endlinecolor": "#2a3f5f",
             "gridcolor": "white",
             "linecolor": "white",
             "minorgridcolor": "white",
             "startlinecolor": "#2a3f5f"
            },
            "baxis": {
             "endlinecolor": "#2a3f5f",
             "gridcolor": "white",
             "linecolor": "white",
             "minorgridcolor": "white",
             "startlinecolor": "#2a3f5f"
            },
            "type": "carpet"
           }
          ],
          "choropleth": [
           {
            "colorbar": {
             "outlinewidth": 0,
             "ticks": ""
            },
            "type": "choropleth"
           }
          ],
          "contour": [
           {
            "colorbar": {
             "outlinewidth": 0,
             "ticks": ""
            },
            "colorscale": [
             [
              0,
              "#0d0887"
             ],
             [
              0.1111111111111111,
              "#46039f"
             ],
             [
              0.2222222222222222,
              "#7201a8"
             ],
             [
              0.3333333333333333,
              "#9c179e"
             ],
             [
              0.4444444444444444,
              "#bd3786"
             ],
             [
              0.5555555555555556,
              "#d8576b"
             ],
             [
              0.6666666666666666,
              "#ed7953"
             ],
             [
              0.7777777777777778,
              "#fb9f3a"
             ],
             [
              0.8888888888888888,
              "#fdca26"
             ],
             [
              1,
              "#f0f921"
             ]
            ],
            "type": "contour"
           }
          ],
          "contourcarpet": [
           {
            "colorbar": {
             "outlinewidth": 0,
             "ticks": ""
            },
            "type": "contourcarpet"
           }
          ],
          "heatmap": [
           {
            "colorbar": {
             "outlinewidth": 0,
             "ticks": ""
            },
            "colorscale": [
             [
              0,
              "#0d0887"
             ],
             [
              0.1111111111111111,
              "#46039f"
             ],
             [
              0.2222222222222222,
              "#7201a8"
             ],
             [
              0.3333333333333333,
              "#9c179e"
             ],
             [
              0.4444444444444444,
              "#bd3786"
             ],
             [
              0.5555555555555556,
              "#d8576b"
             ],
             [
              0.6666666666666666,
              "#ed7953"
             ],
             [
              0.7777777777777778,
              "#fb9f3a"
             ],
             [
              0.8888888888888888,
              "#fdca26"
             ],
             [
              1,
              "#f0f921"
             ]
            ],
            "type": "heatmap"
           }
          ],
          "heatmapgl": [
           {
            "colorbar": {
             "outlinewidth": 0,
             "ticks": ""
            },
            "colorscale": [
             [
              0,
              "#0d0887"
             ],
             [
              0.1111111111111111,
              "#46039f"
             ],
             [
              0.2222222222222222,
              "#7201a8"
             ],
             [
              0.3333333333333333,
              "#9c179e"
             ],
             [
              0.4444444444444444,
              "#bd3786"
             ],
             [
              0.5555555555555556,
              "#d8576b"
             ],
             [
              0.6666666666666666,
              "#ed7953"
             ],
             [
              0.7777777777777778,
              "#fb9f3a"
             ],
             [
              0.8888888888888888,
              "#fdca26"
             ],
             [
              1,
              "#f0f921"
             ]
            ],
            "type": "heatmapgl"
           }
          ],
          "histogram": [
           {
            "marker": {
             "pattern": {
              "fillmode": "overlay",
              "size": 10,
              "solidity": 0.2
             }
            },
            "type": "histogram"
           }
          ],
          "histogram2d": [
           {
            "colorbar": {
             "outlinewidth": 0,
             "ticks": ""
            },
            "colorscale": [
             [
              0,
              "#0d0887"
             ],
             [
              0.1111111111111111,
              "#46039f"
             ],
             [
              0.2222222222222222,
              "#7201a8"
             ],
             [
              0.3333333333333333,
              "#9c179e"
             ],
             [
              0.4444444444444444,
              "#bd3786"
             ],
             [
              0.5555555555555556,
              "#d8576b"
             ],
             [
              0.6666666666666666,
              "#ed7953"
             ],
             [
              0.7777777777777778,
              "#fb9f3a"
             ],
             [
              0.8888888888888888,
              "#fdca26"
             ],
             [
              1,
              "#f0f921"
             ]
            ],
            "type": "histogram2d"
           }
          ],
          "histogram2dcontour": [
           {
            "colorbar": {
             "outlinewidth": 0,
             "ticks": ""
            },
            "colorscale": [
             [
              0,
              "#0d0887"
             ],
             [
              0.1111111111111111,
              "#46039f"
             ],
             [
              0.2222222222222222,
              "#7201a8"
             ],
             [
              0.3333333333333333,
              "#9c179e"
             ],
             [
              0.4444444444444444,
              "#bd3786"
             ],
             [
              0.5555555555555556,
              "#d8576b"
             ],
             [
              0.6666666666666666,
              "#ed7953"
             ],
             [
              0.7777777777777778,
              "#fb9f3a"
             ],
             [
              0.8888888888888888,
              "#fdca26"
             ],
             [
              1,
              "#f0f921"
             ]
            ],
            "type": "histogram2dcontour"
           }
          ],
          "mesh3d": [
           {
            "colorbar": {
             "outlinewidth": 0,
             "ticks": ""
            },
            "type": "mesh3d"
           }
          ],
          "parcoords": [
           {
            "line": {
             "colorbar": {
              "outlinewidth": 0,
              "ticks": ""
             }
            },
            "type": "parcoords"
           }
          ],
          "pie": [
           {
            "automargin": true,
            "type": "pie"
           }
          ],
          "scatter": [
           {
            "fillpattern": {
             "fillmode": "overlay",
             "size": 10,
             "solidity": 0.2
            },
            "type": "scatter"
           }
          ],
          "scatter3d": [
           {
            "line": {
             "colorbar": {
              "outlinewidth": 0,
              "ticks": ""
             }
            },
            "marker": {
             "colorbar": {
              "outlinewidth": 0,
              "ticks": ""
             }
            },
            "type": "scatter3d"
           }
          ],
          "scattercarpet": [
           {
            "marker": {
             "colorbar": {
              "outlinewidth": 0,
              "ticks": ""
             }
            },
            "type": "scattercarpet"
           }
          ],
          "scattergeo": [
           {
            "marker": {
             "colorbar": {
              "outlinewidth": 0,
              "ticks": ""
             }
            },
            "type": "scattergeo"
           }
          ],
          "scattergl": [
           {
            "marker": {
             "colorbar": {
              "outlinewidth": 0,
              "ticks": ""
             }
            },
            "type": "scattergl"
           }
          ],
          "scattermapbox": [
           {
            "marker": {
             "colorbar": {
              "outlinewidth": 0,
              "ticks": ""
             }
            },
            "type": "scattermapbox"
           }
          ],
          "scatterpolar": [
           {
            "marker": {
             "colorbar": {
              "outlinewidth": 0,
              "ticks": ""
             }
            },
            "type": "scatterpolar"
           }
          ],
          "scatterpolargl": [
           {
            "marker": {
             "colorbar": {
              "outlinewidth": 0,
              "ticks": ""
             }
            },
            "type": "scatterpolargl"
           }
          ],
          "scatterternary": [
           {
            "marker": {
             "colorbar": {
              "outlinewidth": 0,
              "ticks": ""
             }
            },
            "type": "scatterternary"
           }
          ],
          "surface": [
           {
            "colorbar": {
             "outlinewidth": 0,
             "ticks": ""
            },
            "colorscale": [
             [
              0,
              "#0d0887"
             ],
             [
              0.1111111111111111,
              "#46039f"
             ],
             [
              0.2222222222222222,
              "#7201a8"
             ],
             [
              0.3333333333333333,
              "#9c179e"
             ],
             [
              0.4444444444444444,
              "#bd3786"
             ],
             [
              0.5555555555555556,
              "#d8576b"
             ],
             [
              0.6666666666666666,
              "#ed7953"
             ],
             [
              0.7777777777777778,
              "#fb9f3a"
             ],
             [
              0.8888888888888888,
              "#fdca26"
             ],
             [
              1,
              "#f0f921"
             ]
            ],
            "type": "surface"
           }
          ],
          "table": [
           {
            "cells": {
             "fill": {
              "color": "#EBF0F8"
             },
             "line": {
              "color": "white"
             }
            },
            "header": {
             "fill": {
              "color": "#C8D4E3"
             },
             "line": {
              "color": "white"
             }
            },
            "type": "table"
           }
          ]
         },
         "layout": {
          "annotationdefaults": {
           "arrowcolor": "#2a3f5f",
           "arrowhead": 0,
           "arrowwidth": 1
          },
          "autotypenumbers": "strict",
          "coloraxis": {
           "colorbar": {
            "outlinewidth": 0,
            "ticks": ""
           }
          },
          "colorscale": {
           "diverging": [
            [
             0,
             "#8e0152"
            ],
            [
             0.1,
             "#c51b7d"
            ],
            [
             0.2,
             "#de77ae"
            ],
            [
             0.3,
             "#f1b6da"
            ],
            [
             0.4,
             "#fde0ef"
            ],
            [
             0.5,
             "#f7f7f7"
            ],
            [
             0.6,
             "#e6f5d0"
            ],
            [
             0.7,
             "#b8e186"
            ],
            [
             0.8,
             "#7fbc41"
            ],
            [
             0.9,
             "#4d9221"
            ],
            [
             1,
             "#276419"
            ]
           ],
           "sequential": [
            [
             0,
             "#0d0887"
            ],
            [
             0.1111111111111111,
             "#46039f"
            ],
            [
             0.2222222222222222,
             "#7201a8"
            ],
            [
             0.3333333333333333,
             "#9c179e"
            ],
            [
             0.4444444444444444,
             "#bd3786"
            ],
            [
             0.5555555555555556,
             "#d8576b"
            ],
            [
             0.6666666666666666,
             "#ed7953"
            ],
            [
             0.7777777777777778,
             "#fb9f3a"
            ],
            [
             0.8888888888888888,
             "#fdca26"
            ],
            [
             1,
             "#f0f921"
            ]
           ],
           "sequentialminus": [
            [
             0,
             "#0d0887"
            ],
            [
             0.1111111111111111,
             "#46039f"
            ],
            [
             0.2222222222222222,
             "#7201a8"
            ],
            [
             0.3333333333333333,
             "#9c179e"
            ],
            [
             0.4444444444444444,
             "#bd3786"
            ],
            [
             0.5555555555555556,
             "#d8576b"
            ],
            [
             0.6666666666666666,
             "#ed7953"
            ],
            [
             0.7777777777777778,
             "#fb9f3a"
            ],
            [
             0.8888888888888888,
             "#fdca26"
            ],
            [
             1,
             "#f0f921"
            ]
           ]
          },
          "colorway": [
           "#636efa",
           "#EF553B",
           "#00cc96",
           "#ab63fa",
           "#FFA15A",
           "#19d3f3",
           "#FF6692",
           "#B6E880",
           "#FF97FF",
           "#FECB52"
          ],
          "font": {
           "color": "#2a3f5f"
          },
          "geo": {
           "bgcolor": "white",
           "lakecolor": "white",
           "landcolor": "#E5ECF6",
           "showlakes": true,
           "showland": true,
           "subunitcolor": "white"
          },
          "hoverlabel": {
           "align": "left"
          },
          "hovermode": "closest",
          "mapbox": {
           "style": "light"
          },
          "paper_bgcolor": "white",
          "plot_bgcolor": "#E5ECF6",
          "polar": {
           "angularaxis": {
            "gridcolor": "white",
            "linecolor": "white",
            "ticks": ""
           },
           "bgcolor": "#E5ECF6",
           "radialaxis": {
            "gridcolor": "white",
            "linecolor": "white",
            "ticks": ""
           }
          },
          "scene": {
           "xaxis": {
            "backgroundcolor": "#E5ECF6",
            "gridcolor": "white",
            "gridwidth": 2,
            "linecolor": "white",
            "showbackground": true,
            "ticks": "",
            "zerolinecolor": "white"
           },
           "yaxis": {
            "backgroundcolor": "#E5ECF6",
            "gridcolor": "white",
            "gridwidth": 2,
            "linecolor": "white",
            "showbackground": true,
            "ticks": "",
            "zerolinecolor": "white"
           },
           "zaxis": {
            "backgroundcolor": "#E5ECF6",
            "gridcolor": "white",
            "gridwidth": 2,
            "linecolor": "white",
            "showbackground": true,
            "ticks": "",
            "zerolinecolor": "white"
           }
          },
          "shapedefaults": {
           "line": {
            "color": "#2a3f5f"
           }
          },
          "ternary": {
           "aaxis": {
            "gridcolor": "white",
            "linecolor": "white",
            "ticks": ""
           },
           "baxis": {
            "gridcolor": "white",
            "linecolor": "white",
            "ticks": ""
           },
           "bgcolor": "#E5ECF6",
           "caxis": {
            "gridcolor": "white",
            "linecolor": "white",
            "ticks": ""
           }
          },
          "title": {
           "x": 0.05
          },
          "xaxis": {
           "automargin": true,
           "gridcolor": "white",
           "linecolor": "white",
           "ticks": "",
           "title": {
            "standoff": 15
           },
           "zerolinecolor": "white",
           "zerolinewidth": 2
          },
          "yaxis": {
           "automargin": true,
           "gridcolor": "white",
           "linecolor": "white",
           "ticks": "",
           "title": {
            "standoff": 15
           },
           "zerolinecolor": "white",
           "zerolinewidth": 2
          }
         }
        },
        "title": {
         "text": "Agreeability Coefficients Over Algorithm Iterations"
        },
        "xaxis": {
         "anchor": "y",
         "domain": [
          0,
          1
         ],
         "title": {
          "text": "Iteration"
         },
         "type": "category"
        },
        "yaxis": {
         "anchor": "x",
         "domain": [
          0,
          1
         ],
         "title": {
          "text": "Agreeability Coefficient (cohen_kappa)"
         }
        }
       }
      }
     },
     "metadata": {},
     "output_type": "display_data"
    }
   ],
   "source": [
    "seeker_2.plot_from_results()"
   ]
  }
 ],
 "metadata": {
  "kernelspec": {
   "display_name": "DEDA",
   "language": "python",
   "name": "python3"
  },
  "language_info": {
   "codemirror_mode": {
    "name": "ipython",
    "version": 3
   },
   "file_extension": ".py",
   "mimetype": "text/x-python",
   "name": "python",
   "nbconvert_exporter": "python",
   "pygments_lexer": "ipython3",
   "version": "3.9.17"
  }
 },
 "nbformat": 4,
 "nbformat_minor": 2
}
