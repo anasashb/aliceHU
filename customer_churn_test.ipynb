{
 "cells": [
  {
   "cell_type": "markdown",
   "metadata": {},
   "source": [
    "## **A**utomated **L**earning for **I**nsightful **C**omparison and **E**valuation - (ALICE)"
   ]
  },
  {
   "cell_type": "markdown",
   "metadata": {},
   "source": [
    "This is a demo notebook where I demonstrate the main functionalities of the proposed python framework.\n",
    "\n",
    "For demonstrational purposes, I will be using a simple and small dataset called California Housing, which includes 8 predictors and 1 target (`MedHouseVal`) - which is a house value. This amount of predictors is small for us but a small dataset helps to run the python framework in a short amount of time, so it is very suitable for demonstration purposes.\n",
    "\n",
    "Because all of the variables in the dataset are continuous, I simulate a binary categorical column from MedHouseVal which just measures if house value is above average. \n",
    "\n",
    "I also generate a fake categorical variable just to demonstrate the framework's functionality to treat $n$ amount of columns obtained from dummy encoding of a categorical variable as one variable in feature selection process.\n",
    "\n",
    "Further details are given in comments and markdown notes throughout the notebook."
   ]
  },
  {
   "cell_type": "code",
   "execution_count": 90,
   "metadata": {},
   "outputs": [],
   "source": [
    "# Import numpy for mathematical operations\n",
    "import numpy as np\n",
    "# Import pandas for handling data tables\n",
    "import pandas as pd\n",
    "pd.set_option('display.max_columns', None)\n",
    "pd.set_option('display.max_rows', None)\n",
    "# Import stats from scipy - the key statistical package (an extension of Numpy) for python\n",
    "from scipy import stats\n",
    "\n",
    "# import matplotlib\n",
    "import matplotlib.pyplot as plt\n",
    "plt.style.use('seaborn-v0_8')\n",
    "\n",
    "# This just saves the directory\n",
    "import os\n",
    "cur_dir = os.getcwd()\n",
    "import pickle\n",
    "\n",
    "from imblearn.over_sampling import SMOTE\n",
    "from sklearn.model_selection import train_test_split\n",
    "\n",
    "\n",
    "from sklearn.compose import ColumnTransformer\n",
    "from sklearn.compose import make_column_transformer\n",
    "from sklearn.preprocessing import StandardScaler\n",
    "from sklearn.pipeline import Pipeline\n",
    "\n",
    "import tensorflow as tf\n",
    "from tensorflow.keras.models import Sequential\n",
    "from tensorflow.keras.layers import Dense\n",
    "\n",
    "import keras_tuner\n"
   ]
  },
  {
   "cell_type": "markdown",
   "metadata": {},
   "source": [
    "### Import My Framework"
   ]
  },
  {
   "cell_type": "code",
   "execution_count": 2,
   "metadata": {},
   "outputs": [],
   "source": [
    "# Can just import entire module\n",
    "import alice"
   ]
  },
  {
   "cell_type": "markdown",
   "metadata": {},
   "source": [
    "**Individual Functions:**"
   ]
  },
  {
   "cell_type": "code",
   "execution_count": 3,
   "metadata": {},
   "outputs": [],
   "source": [
    "# Or import individual functions\n",
    "\n",
    "# Import regression metrics\n",
    "from alice.metrics.regress import mse, rmse, mae\n",
    "# Import classification metrics\n",
    "from alice.metrics.classify import accuracy, precision, recall, f1\n",
    "\n",
    "# Import regression agreeability metric\n",
    "from alice.agreeability.regress import pearson\n",
    "# Import classification agreeability metric\n",
    "from alice.agreeability.classify import cohen_kappa\n",
    "\n",
    "# Import regression tests\n",
    "from alice.testing.regress import t_test\n",
    "# Import classification tests\n",
    "from alice.testing.classify import mcnemar_binomial, mcnemar_chisquare"
   ]
  },
  {
   "cell_type": "markdown",
   "metadata": {},
   "source": [
    "**Algorithm That Combines Backwards Feature Elimination with Inter-Rater Reliability:**"
   ]
  },
  {
   "cell_type": "code",
   "execution_count": 4,
   "metadata": {},
   "outputs": [],
   "source": [
    "# Import our demo search algorithm \n",
    "from alice.search_and_compare.sequential import BackEliminator"
   ]
  },
  {
   "cell_type": "code",
   "execution_count": 5,
   "metadata": {},
   "outputs": [
    {
     "name": "stdout",
     "output_type": "stream",
     "text": [
      "\u001b[0;31mInit signature:\u001b[0m\n",
      "\u001b[0mBackEliminator\u001b[0m\u001b[0;34m(\u001b[0m\u001b[0;34m\u001b[0m\n",
      "\u001b[0;34m\u001b[0m    \u001b[0mX\u001b[0m\u001b[0;34m=\u001b[0m\u001b[0;32mNone\u001b[0m\u001b[0;34m,\u001b[0m\u001b[0;34m\u001b[0m\n",
      "\u001b[0;34m\u001b[0m    \u001b[0my\u001b[0m\u001b[0;34m=\u001b[0m\u001b[0;32mNone\u001b[0m\u001b[0;34m,\u001b[0m\u001b[0;34m\u001b[0m\n",
      "\u001b[0;34m\u001b[0m    \u001b[0mvalidation_data\u001b[0m\u001b[0;34m=\u001b[0m\u001b[0;32mNone\u001b[0m\u001b[0;34m,\u001b[0m\u001b[0;34m\u001b[0m\n",
      "\u001b[0;34m\u001b[0m    \u001b[0mtask_type\u001b[0m\u001b[0;34m=\u001b[0m\u001b[0;32mNone\u001b[0m\u001b[0;34m,\u001b[0m\u001b[0;34m\u001b[0m\n",
      "\u001b[0;34m\u001b[0m    \u001b[0mcriterion\u001b[0m\u001b[0;34m=\u001b[0m\u001b[0;32mNone\u001b[0m\u001b[0;34m,\u001b[0m\u001b[0;34m\u001b[0m\n",
      "\u001b[0;34m\u001b[0m    \u001b[0magreeability\u001b[0m\u001b[0;34m=\u001b[0m\u001b[0;32mNone\u001b[0m\u001b[0;34m,\u001b[0m\u001b[0;34m\u001b[0m\n",
      "\u001b[0;34m\u001b[0m    \u001b[0mdummy_list\u001b[0m\u001b[0;34m=\u001b[0m\u001b[0;32mNone\u001b[0m\u001b[0;34m,\u001b[0m\u001b[0;34m\u001b[0m\n",
      "\u001b[0;34m\u001b[0m    \u001b[0mfeatures_to_fix\u001b[0m\u001b[0;34m=\u001b[0m\u001b[0;32mNone\u001b[0m\u001b[0;34m,\u001b[0m\u001b[0;34m\u001b[0m\n",
      "\u001b[0;34m\u001b[0m\u001b[0;34m)\u001b[0m\u001b[0;34m\u001b[0m\u001b[0;34m\u001b[0m\u001b[0m\n",
      "\u001b[0;31mDocstring:\u001b[0m     \n",
      "The class is built for conducting backwards feature elimination in combination with model agreeability. A more detailed documentation will follow.\n",
      "\n",
      "Args:\n",
      "    X (pd.DataFrame): A pandas dataframe containing predictors.\n",
      "    y (pd.DataFrame): A pandas dataframe containing target.\n",
      "    validation_data (tuple): A tuple of validation data (X_val, y_val).\n",
      "    task_type (str): String for task type. Available options - 'classification' or 'regression'.\n",
      "    criterion (str): String for intra-model evaluation criterion. Available options: 'mse', 'rmse', 'mae', 'accuracy', 'precision', 'recall', 'f1'.\n",
      "    agreeability (str): String for inter-model comparison. Available options: 'pearson', 'cohen_kappa'\n",
      "    dummy_list (list): List of lists containing column names (str) of dummy features generated from a categorical variable. (Optional).\n",
      "    features_to_fix (list): List containing column names (str) of features that will be excluded from feature elimination and thus always included in modeling. (Optional)\n",
      "\n",
      "Regression Example:\n",
      "    seeker = Backeliminator(\n",
      "        X=X_train,\n",
      "        y=y_train,\n",
      "        validation_data=(X_val, y_val),\n",
      "        task_type='regression',\n",
      "        criterion='rmse',\n",
      "        agreeability='pearson',\n",
      "        dummy_list=[\n",
      "            ['dummy_1_from_variable_1', 'dummy_2_from_variable_1'],\n",
      "            ['dummy_1_from_variable_2', 'dummy_2_from_variable_2', 'dummy_3_from_variable_2']\n",
      "        ],\n",
      "        features_to_fix=[\n",
      "            'variable_3',\n",
      "            'variable_4'\n",
      "        ]\n",
      "    )\n",
      "\n",
      "Classification Example:\n",
      "    seeker = Backeliminator(\n",
      "        X=X_train,\n",
      "        y=y_train,\n",
      "        validation_data=(X_val, y_val),\n",
      "        task_type='classification',\n",
      "        criterion='f1',\n",
      "        agreeability='cohen_kappa',\n",
      "        dummy_list=[\n",
      "            ['dummy_1_from_variable_1', 'dummy_2_from_variable_1'],\n",
      "            ['dummy_1_from_variable_2', 'dummy_2_from_variable_2', 'dummy_3_from_variable_2']\n",
      "        ],\n",
      "        features_to_fix=[\n",
      "            'variable_3',\n",
      "            'variable_4'\n",
      "        ]\n",
      "    )    \n",
      "\u001b[0;31mFile:\u001b[0m           ~/Dokumente/alice/alice/search_and_compare/sequential.py\n",
      "\u001b[0;31mType:\u001b[0m           type\n",
      "\u001b[0;31mSubclasses:\u001b[0m     "
     ]
    }
   ],
   "source": [
    "# We can look at my documentation for the BackEliminator\n",
    "BackEliminator?"
   ]
  },
  {
   "cell_type": "markdown",
   "metadata": {},
   "source": [
    "### Import the Data"
   ]
  },
  {
   "cell_type": "code",
   "execution_count": 77,
   "metadata": {},
   "outputs": [],
   "source": [
    "## Set up paths (to either save or import the datasets)\n",
    "raw_train_path = 'clean_data/class_telco/raw_train.pkl'\n",
    "upsampled_train_path = 'clean_data/class_telco/upsampled_train.pkl'\n",
    "test_path = 'clean_data/class_telco/test.pkl'\n"
   ]
  },
  {
   "cell_type": "markdown",
   "metadata": {},
   "source": [
    "### Load Upsampled Datasets"
   ]
  },
  {
   "cell_type": "code",
   "execution_count": 78,
   "metadata": {},
   "outputs": [],
   "source": [
    "# Load upsampled train set\n",
    "with open(upsampled_train_path, 'rb') as f:\n",
    "    train = pickle.load(f)\n",
    "\n",
    "# Load test set (unchanged)\n",
    "with open(test_path, 'rb') as f:\n",
    "    test = pickle.load(f)"
   ]
  },
  {
   "cell_type": "code",
   "execution_count": 83,
   "metadata": {},
   "outputs": [],
   "source": [
    "# obtain a list of columns we need to fix\n",
    "dummies_togroup = [feature for feature in train.columns if train[feature].dtype == 'uint8']"
   ]
  },
  {
   "cell_type": "code",
   "execution_count": 84,
   "metadata": {},
   "outputs": [
    {
     "name": "stdout",
     "output_type": "stream",
     "text": [
      "MultipleLines_No_phone_service\n",
      "MultipleLines_Yes\n",
      "InternetService_Fiber_optic\n",
      "InternetService_No\n",
      "OnlineSecurity_No_internet_service\n",
      "OnlineSecurity_Yes\n",
      "OnlineBackup_No_internet_service\n",
      "OnlineBackup_Yes\n",
      "DeviceProtection_No_internet_service\n",
      "DeviceProtection_Yes\n",
      "TechSupport_No_internet_service\n",
      "TechSupport_Yes\n",
      "StreamingTV_No_internet_service\n",
      "StreamingTV_Yes\n",
      "StreamingMovies_No_internet_service\n",
      "StreamingMovies_Yes\n",
      "Contract_One_year\n",
      "Contract_Two_year\n",
      "PaymentMethod_Credit_card_(automatic)\n",
      "PaymentMethod_Electronic_check\n",
      "PaymentMethod_Mailed_check\n"
     ]
    }
   ],
   "source": [
    "for item in dummies_togroup:\n",
    "    print(item)"
   ]
  },
  {
   "cell_type": "code",
   "execution_count": 85,
   "metadata": {},
   "outputs": [
    {
     "data": {
      "text/plain": [
       "[['MultipleLines_No_phone_service', 'MultipleLines_Yes'],\n",
       " ['InternetService_Fiber_optic', 'InternetService_No'],\n",
       " ['OnlineSecurity_No_internet_service', 'OnlineSecurity_Yes'],\n",
       " ['OnlineBackup_No_internet_service', 'OnlineBackup_Yes'],\n",
       " ['DeviceProtection_No_internet_service', 'DeviceProtection_Yes'],\n",
       " ['TechSupport_No_internet_service', 'TechSupport_Yes'],\n",
       " ['StreamingTV_No_internet_service', 'StreamingTV_Yes'],\n",
       " ['StreamingMovies_No_internet_service', 'StreamingMovies_Yes'],\n",
       " ['Contract_One_year', 'Contract_Two_year'],\n",
       " ['PaymentMethod_Credit_card_(automatic)',\n",
       "  'PaymentMethod_Electronic_check',\n",
       "  'PaymentMethod_Mailed_check']]"
      ]
     },
     "execution_count": 85,
     "metadata": {},
     "output_type": "execute_result"
    }
   ],
   "source": [
    "# Group the dummies in a list to input to the framework\n",
    "dummy_list = [\n",
    "    ['MultipleLines_No_phone_service', 'MultipleLines_Yes'],\n",
    "    ['InternetService_Fiber_optic', 'InternetService_No'],\n",
    "    ['OnlineSecurity_No_internet_service', 'OnlineSecurity_Yes'],\n",
    "    ['OnlineBackup_No_internet_service', 'OnlineBackup_Yes'],\n",
    "    ['DeviceProtection_No_internet_service', 'DeviceProtection_Yes'],\n",
    "    ['TechSupport_No_internet_service', 'TechSupport_Yes'],\n",
    "    ['StreamingTV_No_internet_service', 'StreamingTV_Yes'],\n",
    "    ['StreamingMovies_No_internet_service', 'StreamingMovies_Yes'],\n",
    "    ['Contract_One_year', 'Contract_Two_year'],\n",
    "    ['PaymentMethod_Credit_card_(automatic)', 'PaymentMethod_Electronic_check', 'PaymentMethod_Mailed_check']\n",
    "]\n",
    "dummy_list"
   ]
  },
  {
   "cell_type": "code",
   "execution_count": 86,
   "metadata": {},
   "outputs": [
    {
     "name": "stdout",
     "output_type": "stream",
     "text": [
      "Everything went well.\n"
     ]
    }
   ],
   "source": [
    "# Get X_train and X_test\n",
    "\n",
    "# Drop target from predictors in the train set\n",
    "X_train = train.drop('ChurnValue', axis=1)\n",
    "\n",
    "# Drop target from predictors in the validation set\n",
    "X_val = test.drop('ChurnValue', axis=1)\n",
    "\n",
    "# Get y_train and y_test\n",
    "y_train = train['ChurnValue']\n",
    "y_val = test['ChurnValue']\n",
    "\n",
    "if len(X_train) == len(y_train) and len(X_val) == len(y_val): \n",
    "    print('Everything went well.')"
   ]
  },
  {
   "cell_type": "code",
   "execution_count": 91,
   "metadata": {},
   "outputs": [],
   "source": [
    "# Get the names of the columns to be scaled\n",
    "float_cols = X_train.select_dtypes(include=['float64']).columns\n",
    "\n",
    "# Create the ColumnTransformer\n",
    "standardizer = make_column_transformer(\n",
    "    (StandardScaler(), float_cols),\n",
    "    remainder='passthrough'\n",
    ")\n",
    "\n",
    "# Apply the transformations\n",
    "X_train_scaled = standardizer.fit_transform(X_train)\n",
    "X_val_scaled = standardizer.transform(X_val)\n",
    "\n",
    "# Get the order of columns after transformation\n",
    "transformed_columns_order = list(float_cols) + [col for col in X_train.columns if col not in float_cols]\n",
    "\n",
    "# Reconstruct the DataFrame with the correct column order\n",
    "X_train_scaled = pd.DataFrame(X_train_scaled, columns=transformed_columns_order)\n",
    "X_val_scaled = pd.DataFrame(X_val_scaled, columns=transformed_columns_order)\n"
   ]
  },
  {
   "cell_type": "markdown",
   "metadata": {},
   "source": [
    "### (OPTIONAL) KERAS TUNING for Neural Networks\n",
    "\n",
    "In this small subsection I do a gridsearch over some hyperparameters for a Neural Network classifier (this is not related to the framework), so skip this section"
   ]
  },
  {
   "cell_type": "code",
   "execution_count": 14,
   "metadata": {},
   "outputs": [
    {
     "name": "stderr",
     "output_type": "stream",
     "text": [
      "2024-01-22 20:53:27.840084: I tensorflow/core/common_runtime/gpu/gpu_device.cc:1886] Created device /job:localhost/replica:0/task:0/device:GPU:0 with 43604 MB memory:  -> device: 0, name: NVIDIA A40, pci bus id: 0000:17:00.0, compute capability: 8.6\n",
      "2024-01-22 20:53:27.848187: I tensorflow/core/common_runtime/gpu/gpu_device.cc:1886] Created device /job:localhost/replica:0/task:0/device:GPU:1 with 43604 MB memory:  -> device: 1, name: NVIDIA A40, pci bus id: 0000:65:00.0, compute capability: 8.6\n"
     ]
    }
   ],
   "source": [
    "## Turn into tensors for tensorflow\n",
    "X_train_tensor = tf.cast(X_train_scaled.values, dtype=tf.float32) ###\n",
    "y_train_tensor = tf.cast(y_train.values, dtype=tf.float32) ###"
   ]
  },
  {
   "cell_type": "code",
   "execution_count": 31,
   "metadata": {},
   "outputs": [
    {
     "name": "stdout",
     "output_type": "stream",
     "text": [
      "\u001b[0;31mInit signature:\u001b[0m\n",
      "\u001b[0mtf\u001b[0m\u001b[0;34m.\u001b[0m\u001b[0mkeras\u001b[0m\u001b[0;34m.\u001b[0m\u001b[0mlayers\u001b[0m\u001b[0;34m.\u001b[0m\u001b[0mDense\u001b[0m\u001b[0;34m(\u001b[0m\u001b[0;34m\u001b[0m\n",
      "\u001b[0;34m\u001b[0m    \u001b[0munits\u001b[0m\u001b[0;34m,\u001b[0m\u001b[0;34m\u001b[0m\n",
      "\u001b[0;34m\u001b[0m    \u001b[0mactivation\u001b[0m\u001b[0;34m=\u001b[0m\u001b[0;32mNone\u001b[0m\u001b[0;34m,\u001b[0m\u001b[0;34m\u001b[0m\n",
      "\u001b[0;34m\u001b[0m    \u001b[0muse_bias\u001b[0m\u001b[0;34m=\u001b[0m\u001b[0;32mTrue\u001b[0m\u001b[0;34m,\u001b[0m\u001b[0;34m\u001b[0m\n",
      "\u001b[0;34m\u001b[0m    \u001b[0mkernel_initializer\u001b[0m\u001b[0;34m=\u001b[0m\u001b[0;34m'glorot_uniform'\u001b[0m\u001b[0;34m,\u001b[0m\u001b[0;34m\u001b[0m\n",
      "\u001b[0;34m\u001b[0m    \u001b[0mbias_initializer\u001b[0m\u001b[0;34m=\u001b[0m\u001b[0;34m'zeros'\u001b[0m\u001b[0;34m,\u001b[0m\u001b[0;34m\u001b[0m\n",
      "\u001b[0;34m\u001b[0m    \u001b[0mkernel_regularizer\u001b[0m\u001b[0;34m=\u001b[0m\u001b[0;32mNone\u001b[0m\u001b[0;34m,\u001b[0m\u001b[0;34m\u001b[0m\n",
      "\u001b[0;34m\u001b[0m    \u001b[0mbias_regularizer\u001b[0m\u001b[0;34m=\u001b[0m\u001b[0;32mNone\u001b[0m\u001b[0;34m,\u001b[0m\u001b[0;34m\u001b[0m\n",
      "\u001b[0;34m\u001b[0m    \u001b[0mactivity_regularizer\u001b[0m\u001b[0;34m=\u001b[0m\u001b[0;32mNone\u001b[0m\u001b[0;34m,\u001b[0m\u001b[0;34m\u001b[0m\n",
      "\u001b[0;34m\u001b[0m    \u001b[0mkernel_constraint\u001b[0m\u001b[0;34m=\u001b[0m\u001b[0;32mNone\u001b[0m\u001b[0;34m,\u001b[0m\u001b[0;34m\u001b[0m\n",
      "\u001b[0;34m\u001b[0m    \u001b[0mbias_constraint\u001b[0m\u001b[0;34m=\u001b[0m\u001b[0;32mNone\u001b[0m\u001b[0;34m,\u001b[0m\u001b[0;34m\u001b[0m\n",
      "\u001b[0;34m\u001b[0m    \u001b[0;34m**\u001b[0m\u001b[0mkwargs\u001b[0m\u001b[0;34m,\u001b[0m\u001b[0;34m\u001b[0m\n",
      "\u001b[0;34m\u001b[0m\u001b[0;34m)\u001b[0m\u001b[0;34m\u001b[0m\u001b[0;34m\u001b[0m\u001b[0m\n",
      "\u001b[0;31mDocstring:\u001b[0m     \n",
      "Just your regular densely-connected NN layer.\n",
      "\n",
      "`Dense` implements the operation:\n",
      "`output = activation(dot(input, kernel) + bias)`\n",
      "where `activation` is the element-wise activation function\n",
      "passed as the `activation` argument, `kernel` is a weights matrix\n",
      "created by the layer, and `bias` is a bias vector created by the layer\n",
      "(only applicable if `use_bias` is `True`). These are all attributes of\n",
      "`Dense`.\n",
      "\n",
      "Note: If the input to the layer has a rank greater than 2, then `Dense`\n",
      "computes the dot product between the `inputs` and the `kernel` along the\n",
      "last axis of the `inputs` and axis 0 of the `kernel` (using `tf.tensordot`).\n",
      "For example, if input has dimensions `(batch_size, d0, d1)`, then we create\n",
      "a `kernel` with shape `(d1, units)`, and the `kernel` operates along axis 2\n",
      "of the `input`, on every sub-tensor of shape `(1, 1, d1)` (there are\n",
      "`batch_size * d0` such sub-tensors).  The output in this case will have\n",
      "shape `(batch_size, d0, units)`.\n",
      "\n",
      "Besides, layer attributes cannot be modified after the layer has been called\n",
      "once (except the `trainable` attribute).\n",
      "When a popular kwarg `input_shape` is passed, then keras will create\n",
      "an input layer to insert before the current layer. This can be treated\n",
      "equivalent to explicitly defining an `InputLayer`.\n",
      "\n",
      "Example:\n",
      "\n",
      ">>> # Create a `Sequential` model and add a Dense layer as the first layer.\n",
      ">>> model = tf.keras.models.Sequential()\n",
      ">>> model.add(tf.keras.Input(shape=(16,)))\n",
      ">>> model.add(tf.keras.layers.Dense(32, activation='relu'))\n",
      ">>> # Now the model will take as input arrays of shape (None, 16)\n",
      ">>> # and output arrays of shape (None, 32).\n",
      ">>> # Note that after the first layer, you don't need to specify\n",
      ">>> # the size of the input anymore:\n",
      ">>> model.add(tf.keras.layers.Dense(32))\n",
      ">>> model.output_shape\n",
      "(None, 32)\n",
      "\n",
      "Args:\n",
      "    units: Positive integer, dimensionality of the output space.\n",
      "    activation: Activation function to use.\n",
      "        If you don't specify anything, no activation is applied\n",
      "        (ie. \"linear\" activation: `a(x) = x`).\n",
      "    use_bias: Boolean, whether the layer uses a bias vector.\n",
      "    kernel_initializer: Initializer for the `kernel` weights matrix.\n",
      "    bias_initializer: Initializer for the bias vector.\n",
      "    kernel_regularizer: Regularizer function applied to\n",
      "        the `kernel` weights matrix.\n",
      "    bias_regularizer: Regularizer function applied to the bias vector.\n",
      "    activity_regularizer: Regularizer function applied to\n",
      "        the output of the layer (its \"activation\").\n",
      "    kernel_constraint: Constraint function applied to\n",
      "        the `kernel` weights matrix.\n",
      "    bias_constraint: Constraint function applied to the bias vector.\n",
      "\n",
      "Input shape:\n",
      "    N-D tensor with shape: `(batch_size, ..., input_dim)`.\n",
      "    The most common situation would be\n",
      "    a 2D input with shape `(batch_size, input_dim)`.\n",
      "\n",
      "Output shape:\n",
      "    N-D tensor with shape: `(batch_size, ..., units)`.\n",
      "    For instance, for a 2D input with shape `(batch_size, input_dim)`,\n",
      "    the output would have shape `(batch_size, units)`.\n",
      "\u001b[0;31mFile:\u001b[0m           ~/.conda/envs/ansb/lib/python3.9/site-packages/keras/src/layers/core/dense.py\n",
      "\u001b[0;31mType:\u001b[0m           type\n",
      "\u001b[0;31mSubclasses:\u001b[0m     "
     ]
    }
   ],
   "source": [
    "tf.keras.layers.Dense?"
   ]
  },
  {
   "cell_type": "code",
   "execution_count": 34,
   "metadata": {},
   "outputs": [],
   "source": [
    "model = tf.keras.Sequential()\n",
    "model.add(\n",
    "    tf.keras.layers.Dense(16, 'relu'),\n",
    ")\n",
    "model.add(tf.keras.layers.Dense(1, 'sigmoid'))\n",
    "model.compile()"
   ]
  },
  {
   "cell_type": "code",
   "execution_count": 55,
   "metadata": {},
   "outputs": [
    {
     "data": {
      "text/plain": [
       "<keras.src.engine.sequential.Sequential at 0x7f5858468430>"
      ]
     },
     "execution_count": 55,
     "metadata": {},
     "output_type": "execute_result"
    }
   ],
   "source": [
    "# The function defines a \"hypermodel\" that can be used for hyperparameter optimization algorithm\n",
    "\n",
    "def build_model(hp):\n",
    "    \n",
    "    # Create keras neural network instance\n",
    "    model = tf.keras.Sequential()\n",
    "    \n",
    "    # Add a feed-forward layer (Dense) with Rectified Linear Unit (RELU) activation function - f(x) = max(0, x)\n",
    "    # Grid search will try out 64, 128, 256 and 512 neurons in this layer\n",
    "    model.add(\n",
    "        tf.keras.layers.Dense(\n",
    "            units=hp.Choice(name='units_layer_1', values=[64, 128, 256, 512]),\n",
    "            activation='relu'\n",
    "        )\n",
    "    )\n",
    "\n",
    "    # Add a feed-forward layer (Dense) with Rectified Linear Unit (RELU) activation function - f(x) = max(0, x)\n",
    "    # Grid search will try out 8, 16, 21 and 64 neurons in this layer\n",
    "    model.add(\n",
    "        tf.keras.layers.Dense(\n",
    "            units=hp.Choice(name='units_layer_2', values=[8, 16, 32, 64]),\n",
    "            activation='relu'\n",
    "        )\n",
    "    )\n",
    "\n",
    "    # Whether to include a dropout layer that deactivates outputs of 20% of the neurons\n",
    "    # Grid search will try the neuron combinations above with dropout and then without\n",
    "    if hp.Boolean('dropout'):\n",
    "        model.add(tf.keras.layers.Dropout(rate=0.2))\n",
    "    \n",
    "    # A layer with a single neuron --- the output layer. Activation used 'sigmoid' --- essentially a logistic function used for classification head\n",
    "    model.add(\n",
    "        tf.keras.layers.Dense(\n",
    "            units=1,\n",
    "            activation='sigmoid'\n",
    "        )\n",
    "    )\n",
    "    \n",
    "    # Define learning rate --- 0.0001, 0.01, 0.001 will be tried out in the gridsearch\n",
    "    learning_rate = hp.Choice(name='lr', values=[1e-4, 1e-2, 1e-3])\n",
    "\n",
    "    # Compile model with\n",
    "    # Optimizer --- Adaptive Moment Estimation with learning rate choice specified above\n",
    "    # Loss function --- Binary Cross-Entropy\n",
    "    # Metrics --- this is a metric (in this case accuracy) that we'll just keep track of during training\n",
    "    model.compile(\n",
    "        optimizer = tf.keras.optimizers.Adam(learning_rate=learning_rate),\n",
    "        loss=tf.keras.losses.BinaryCrossentropy(),\n",
    "        metrics=['accuracy']\n",
    "    )\n",
    "    \n",
    "    # Retunr\n",
    "    return model\n",
    "\n",
    "build_model(keras_tuner.HyperParameters())"
   ]
  },
  {
   "cell_type": "code",
   "execution_count": 56,
   "metadata": {},
   "outputs": [
    {
     "name": "stdout",
     "output_type": "stream",
     "text": [
      "Search space summary\n",
      "Default search space size: 4\n",
      "units_layer_1 (Choice)\n",
      "{'default': 64, 'conditions': [], 'values': [64, 128, 256, 512], 'ordered': True}\n",
      "units_layer_2 (Choice)\n",
      "{'default': 8, 'conditions': [], 'values': [8, 16, 32, 64], 'ordered': True}\n",
      "dropout (Boolean)\n",
      "{'default': False, 'conditions': []}\n",
      "lr (Choice)\n",
      "{'default': 0.0001, 'conditions': [], 'values': [0.0001, 0.01, 0.001], 'ordered': True}\n"
     ]
    }
   ],
   "source": [
    "# Setting up tuner\n",
    "# initialize a tuner with grid search\n",
    "\n",
    "tuner = keras_tuner.GridSearch(\n",
    "    hypermodel=build_model, # specify build_model defined above as a hypermodel\n",
    "    objective = keras_tuner.Objective(name='accuracy', direction='max'), #maximize out-of-sample predictive 'accuracy' --- wanted to use f1 instead but ther was a problem\n",
    "    executions_per_trial=2, # In each search trial, model will be fitted twice\n",
    "    overwrite=True, # Logs results\n",
    "    directory = 'logs', # Logs results\n",
    "    project_name = 'class_telco'# Logs results\n",
    ")\n",
    "\n",
    "# Setting up early stopping\n",
    "# Monitors validation loss, will stop after 5 training epochs if there is no improvement\n",
    "# Restores weights from the best iteration\n",
    "STOP_EARLY = tf.keras.callbacks.EarlyStopping(monitor='val_loss', patience=5, restore_best_weights=True)\n",
    "\n",
    "# Print search space summary\n",
    "tuner.search_space_summary()"
   ]
  },
  {
   "cell_type": "code",
   "execution_count": 57,
   "metadata": {},
   "outputs": [
    {
     "name": "stdout",
     "output_type": "stream",
     "text": [
      "Trial 96 Complete [00h 00m 34s]\n",
      "accuracy: 0.62507563829422\n",
      "\n",
      "Best accuracy So Far: 0.7714760899543762\n",
      "Total elapsed time: 01h 01m 48s\n"
     ]
    }
   ],
   "source": [
    "# Begin the search\n",
    "tuner.search(X_train_tensor, y_train_tensor, epochs=100, validation_split=0.2, callbacks=[STOP_EARLY])"
   ]
  },
  {
   "cell_type": "code",
   "execution_count": 58,
   "metadata": {},
   "outputs": [
    {
     "name": "stdout",
     "output_type": "stream",
     "text": [
      "Results summary\n",
      "Results in logs/class_telco\n",
      "Showing 10 best trials\n",
      "Objective(name=\"accuracy\", direction=\"max\")\n",
      "\n",
      "Trial 0043 summary\n",
      "Hyperparameters:\n",
      "units_layer_1: 128\n",
      "units_layer_2: 64\n",
      "dropout: False\n",
      "lr: 0.01\n",
      "Score: 0.7714760899543762\n",
      "\n",
      "Trial 0072 summary\n",
      "Hyperparameters:\n",
      "units_layer_1: 512\n",
      "units_layer_2: 8\n",
      "dropout: False\n",
      "lr: 0.0001\n",
      "Score: 0.7704174518585205\n",
      "\n",
      "Trial 0019 summary\n",
      "Hyperparameters:\n",
      "units_layer_1: 64\n",
      "units_layer_2: 64\n",
      "dropout: False\n",
      "lr: 0.01\n",
      "Score: 0.7633847594261169\n",
      "\n",
      "Trial 0030 summary\n",
      "Hyperparameters:\n",
      "units_layer_1: 128\n",
      "units_layer_2: 16\n",
      "dropout: False\n",
      "lr: 0.0001\n",
      "Score: 0.7611161470413208\n",
      "\n",
      "Trial 0061 summary\n",
      "Hyperparameters:\n",
      "units_layer_1: 256\n",
      "units_layer_2: 32\n",
      "dropout: False\n",
      "lr: 0.01\n",
      "Score: 0.760511189699173\n",
      "\n",
      "Trial 0024 summary\n",
      "Hyperparameters:\n",
      "units_layer_1: 128\n",
      "units_layer_2: 8\n",
      "dropout: False\n",
      "lr: 0.0001\n",
      "Score: 0.7583938241004944\n",
      "\n",
      "Trial 0000 summary\n",
      "Hyperparameters:\n",
      "units_layer_1: 64\n",
      "units_layer_2: 8\n",
      "dropout: False\n",
      "lr: 0.0001\n",
      "Score: 0.757637619972229\n",
      "\n",
      "Trial 0037 summary\n",
      "Hyperparameters:\n",
      "units_layer_1: 128\n",
      "units_layer_2: 32\n",
      "dropout: False\n",
      "lr: 0.01\n",
      "Score: 0.7566545605659485\n",
      "\n",
      "Trial 0048 summary\n",
      "Hyperparameters:\n",
      "units_layer_1: 256\n",
      "units_layer_2: 8\n",
      "dropout: False\n",
      "lr: 0.0001\n",
      "Score: 0.7565789222717285\n",
      "\n",
      "Trial 0031 summary\n",
      "Hyperparameters:\n",
      "units_layer_1: 128\n",
      "units_layer_2: 16\n",
      "dropout: False\n",
      "lr: 0.01\n",
      "Score: 0.7549909055233002\n"
     ]
    }
   ],
   "source": [
    "# PRINT 10 best RESULTS\n",
    "tuner.results_summary()"
   ]
  },
  {
   "cell_type": "markdown",
   "metadata": {},
   "source": [
    "### Running the algorithms"
   ]
  },
  {
   "cell_type": "markdown",
   "metadata": {},
   "source": [
    "To use with my algorithm, I can based on this results use a Neural Network of the following specifications:\n",
    "\n",
    "- layer 1 units 128\n",
    "- layer 2 units 64\n",
    "- no dropout layer\n",
    "- learning rate of 0.01"
   ]
  },
  {
   "cell_type": "code",
   "execution_count": 93,
   "metadata": {},
   "outputs": [],
   "source": [
    "# Import logistic regression\n",
    "from sklearn.linear_model import LogisticRegression\n",
    "\n",
    "# Import Decision Tree Classifier\n",
    "from sklearn.tree import DecisionTreeClassifier\n",
    "\n",
    "# Import Random Forest Classifier\n",
    "from sklearn.ensemble import RandomForestClassifier"
   ]
  },
  {
   "cell_type": "code",
   "execution_count": 94,
   "metadata": {},
   "outputs": [],
   "source": [
    "# Initialize logistic regressor\n",
    "logit = LogisticRegression(solver='liblinear')\n",
    "\n",
    "# Initialize random forest ensemble of 50 classifiers\n",
    "rfc = RandomForestClassifier(n_estimators=100)"
   ]
  },
  {
   "cell_type": "code",
   "execution_count": 96,
   "metadata": {},
   "outputs": [],
   "source": [
    "# These are helper utilities I coded for my framework to be able \n",
    "# to incorporate neural networks and still maintain the user-friendly interface of Keras\n",
    "from alice.utils.model_training import KerasSequential # This is for defining a neural network model to put into the elimination-agreeability algorithm\n",
    "from alice.utils.model_training import KerasParams # This is for defining training parameters to put into the elimination-agreeability algorithm\n",
    "from alice.utils.model_training import ModelTrainer # This is a wrapper function that is used for training --- I do not use it here in the Notebook because the algorithm calls it inside"
   ]
  },
  {
   "cell_type": "markdown",
   "metadata": {},
   "source": [
    "Initializing a small neural network to save computing time"
   ]
  },
  {
   "cell_type": "code",
   "execution_count": 97,
   "metadata": {},
   "outputs": [],
   "source": [
    "mlp = KerasSequential() # Initialize multi-layer perceptron (classifier neural net) as my KerasSequential class\n",
    "mlp.add(tf.keras.layers.Dense, units=128, activation='linear') # for now I just use 16 units in first layer\n",
    "mlp.add(tf.keras.layers.Dense, units=64, activation='linear') # 8 units in second layer\n",
    "mlp.add(tf.keras.layers.Dense, units=1, activation='sigmoid') # Sigmoid for classification\n",
    "\n",
    "mlp.compile(\n",
    "    optimizer='adam', # adaptive moment estimation as optimizer (default learning rate of 0.001)\n",
    "    loss=tf.keras.losses.BinaryCrossentropy(), # Binary Cross-entropy as loss\n",
    "    metrics=['accuracy'] # Track accuracy\n",
    "    )"
   ]
  },
  {
   "cell_type": "code",
   "execution_count": 98,
   "metadata": {},
   "outputs": [],
   "source": [
    "# Set up Keras parameters to include with our model\n",
    "\n",
    "# early stopping after 10 epochs with no improvement\n",
    "EARLY_STOPPING = [tf.keras.callbacks.EarlyStopping(monitor='val_loss', patience=5, restore_best_weights=True)]\n",
    "\n",
    "\n",
    "# KerasParams is a class I coded that can be predefined and fed to my algorithm as an optional argument when including a neural network in it\n",
    "keras_params = KerasParams(\n",
    "    batch_size=32, # batch size for mini-batch training\n",
    "    epochs=100, # fit a model for 100 epochs (is too much but early stopping ensures models stop earlier)\n",
    "    validation_split=0.2, # further 0.8-0.2 split in the training set --- early stopping will happen based on evaluations on this\n",
    "    callbacks=EARLY_STOPPING, # include early stopping as a training callbakc\n",
    "    verbose=0 # irrelevant\n",
    ")"
   ]
  },
  {
   "cell_type": "markdown",
   "metadata": {},
   "source": [
    "### BackEliminator with RandomForestClassifier and MultiLayerPerceptron"
   ]
  },
  {
   "cell_type": "code",
   "execution_count": 99,
   "metadata": {},
   "outputs": [],
   "source": [
    "# Initialize my algorithm\n",
    "seeker = BackEliminator(\n",
    "    X=X_train_scaled, # predictor\n",
    "    y=y_train, # target\n",
    "    validation_data=(X_val_scaled, y_val), # validation datasets for evaluation\n",
    "    task_type='classification', # select classification task\n",
    "    criterion='f1', # select f1 score for feature elimination \n",
    "    agreeability='cohen_kappa', # select cohen's kappa as inter rater agreeability\n",
    "    dummy_list=dummy_list # List of dummy variables to group together when evaluating features\n",
    ")"
   ]
  },
  {
   "cell_type": "code",
   "execution_count": 100,
   "metadata": {},
   "outputs": [
    {
     "name": "stdout",
     "output_type": "stream",
     "text": [
      "Initial run: fitted both models with full feature set.\n",
      "------------------------------------------------------------------------------------------------------------------------------------------------------\n",
      "Model 1 included: ['Latitude', 'Longitude', 'TenureMonths', 'MonthlyCharges', 'TotalCharges', 'CLTV', 'Gender', 'SeniorCitizen', 'Partner', 'Dependents', 'PhoneService', 'PaperlessBilling', ['MultipleLines_No_phone_service', 'MultipleLines_Yes'], ['InternetService_Fiber_optic', 'InternetService_No'], ['OnlineSecurity_No_internet_service', 'OnlineSecurity_Yes'], ['OnlineBackup_No_internet_service', 'OnlineBackup_Yes'], ['DeviceProtection_No_internet_service', 'DeviceProtection_Yes'], ['TechSupport_No_internet_service', 'TechSupport_Yes'], ['StreamingTV_No_internet_service', 'StreamingTV_Yes'], ['StreamingMovies_No_internet_service', 'StreamingMovies_Yes'], ['Contract_One_year', 'Contract_Two_year'], ['PaymentMethod_Credit_card_(automatic)', 'PaymentMethod_Electronic_check', 'PaymentMethod_Mailed_check']]. F1: 0.6071\n",
      "Model 2 included: ['Latitude', 'Longitude', 'TenureMonths', 'MonthlyCharges', 'TotalCharges', 'CLTV', 'Gender', 'SeniorCitizen', 'Partner', 'Dependents', 'PhoneService', 'PaperlessBilling', ['MultipleLines_No_phone_service', 'MultipleLines_Yes'], ['InternetService_Fiber_optic', 'InternetService_No'], ['OnlineSecurity_No_internet_service', 'OnlineSecurity_Yes'], ['OnlineBackup_No_internet_service', 'OnlineBackup_Yes'], ['DeviceProtection_No_internet_service', 'DeviceProtection_Yes'], ['TechSupport_No_internet_service', 'TechSupport_Yes'], ['StreamingTV_No_internet_service', 'StreamingTV_Yes'], ['StreamingMovies_No_internet_service', 'StreamingMovies_Yes'], ['Contract_One_year', 'Contract_Two_year'], ['PaymentMethod_Credit_card_(automatic)', 'PaymentMethod_Electronic_check', 'PaymentMethod_Mailed_check']]. F1: 0.6292\n",
      "------------------------------------------------------------------------------------------------------------------------------------------------------\n",
      "Agreeability Coefficient (cohen_kappa): 0.7438\n",
      "======================================================================================================================================================\n",
      "Iteration 1:\n",
      "------------------------------------------------------------------------------------------------------------------------------------------------------\n",
      "Results from best models:\n",
      "Best Model 1 included: ['Latitude', 'Longitude', 'TenureMonths', 'MonthlyCharges', 'TotalCharges', 'CLTV', 'Gender', 'SeniorCitizen', 'Partner', 'Dependents', 'PhoneService', 'PaperlessBilling', ['MultipleLines_No_phone_service', 'MultipleLines_Yes'], ['InternetService_Fiber_optic', 'InternetService_No'], ['OnlineBackup_No_internet_service', 'OnlineBackup_Yes'], ['DeviceProtection_No_internet_service', 'DeviceProtection_Yes'], ['TechSupport_No_internet_service', 'TechSupport_Yes'], ['StreamingTV_No_internet_service', 'StreamingTV_Yes'], ['StreamingMovies_No_internet_service', 'StreamingMovies_Yes'], ['Contract_One_year', 'Contract_Two_year'], ['PaymentMethod_Credit_card_(automatic)', 'PaymentMethod_Electronic_check', 'PaymentMethod_Mailed_check']]. F1: 0.6332\n",
      "Best Model 2 included: ['Latitude', 'Longitude', 'TenureMonths', 'MonthlyCharges', 'TotalCharges', 'CLTV', 'Gender', 'Partner', 'Dependents', 'PhoneService', 'PaperlessBilling', ['MultipleLines_No_phone_service', 'MultipleLines_Yes'], ['InternetService_Fiber_optic', 'InternetService_No'], ['OnlineSecurity_No_internet_service', 'OnlineSecurity_Yes'], ['OnlineBackup_No_internet_service', 'OnlineBackup_Yes'], ['DeviceProtection_No_internet_service', 'DeviceProtection_Yes'], ['TechSupport_No_internet_service', 'TechSupport_Yes'], ['StreamingTV_No_internet_service', 'StreamingTV_Yes'], ['StreamingMovies_No_internet_service', 'StreamingMovies_Yes'], ['Contract_One_year', 'Contract_Two_year'], ['PaymentMethod_Credit_card_(automatic)', 'PaymentMethod_Electronic_check', 'PaymentMethod_Mailed_check']]. F1: 0.6448\n",
      "Agreeability Coefficient (cohen_kappa) between best models: 0.7817300120197288\n",
      "------------------------------------------------------------------------------------------------------------------------------------------------------\n",
      "Results from all models:\n",
      "M1 mean score: 0.6101. Standard deviation: 0.0112\n",
      "M2 mean score: 0.6318. Standard deviation: 0.0071\n",
      "Mean agreeability coefficient (cohen_kappa): 0.7612. Standard deviation: 0.0254\n",
      "======================================================================================================================================================\n",
      "Iteration 2:\n",
      "------------------------------------------------------------------------------------------------------------------------------------------------------\n",
      "Results from best models:\n",
      "Best Model 1 included: ['Latitude', 'Longitude', 'TenureMonths', 'MonthlyCharges', 'TotalCharges', 'CLTV', 'SeniorCitizen', 'Partner', 'Dependents', 'PhoneService', 'PaperlessBilling', ['MultipleLines_No_phone_service', 'MultipleLines_Yes'], ['InternetService_Fiber_optic', 'InternetService_No'], ['OnlineBackup_No_internet_service', 'OnlineBackup_Yes'], ['DeviceProtection_No_internet_service', 'DeviceProtection_Yes'], ['TechSupport_No_internet_service', 'TechSupport_Yes'], ['StreamingTV_No_internet_service', 'StreamingTV_Yes'], ['StreamingMovies_No_internet_service', 'StreamingMovies_Yes'], ['Contract_One_year', 'Contract_Two_year'], ['PaymentMethod_Credit_card_(automatic)', 'PaymentMethod_Electronic_check', 'PaymentMethod_Mailed_check']]. F1: 0.6369\n",
      "Best Model 2 included: ['Latitude', 'Longitude', 'TenureMonths', 'TotalCharges', 'CLTV', 'Gender', 'Partner', 'Dependents', 'PhoneService', 'PaperlessBilling', ['MultipleLines_No_phone_service', 'MultipleLines_Yes'], ['InternetService_Fiber_optic', 'InternetService_No'], ['OnlineSecurity_No_internet_service', 'OnlineSecurity_Yes'], ['OnlineBackup_No_internet_service', 'OnlineBackup_Yes'], ['DeviceProtection_No_internet_service', 'DeviceProtection_Yes'], ['TechSupport_No_internet_service', 'TechSupport_Yes'], ['StreamingTV_No_internet_service', 'StreamingTV_Yes'], ['StreamingMovies_No_internet_service', 'StreamingMovies_Yes'], ['Contract_One_year', 'Contract_Two_year'], ['PaymentMethod_Credit_card_(automatic)', 'PaymentMethod_Electronic_check', 'PaymentMethod_Mailed_check']]. F1: 0.6445\n",
      "Agreeability Coefficient (cohen_kappa) between best models: 0.761154335832508\n",
      "------------------------------------------------------------------------------------------------------------------------------------------------------\n",
      "Results from all models:\n",
      "M1 mean score: 0.6236. Standard deviation: 0.0094\n",
      "M2 mean score: 0.6320. Standard deviation: 0.0055\n",
      "Mean agreeability coefficient (cohen_kappa): 0.7607. Standard deviation: 0.0324\n",
      "======================================================================================================================================================\n",
      "Iteration 3:\n",
      "------------------------------------------------------------------------------------------------------------------------------------------------------\n",
      "Results from best models:\n",
      "Best Model 1 included: ['Latitude', 'Longitude', 'TenureMonths', 'MonthlyCharges', 'TotalCharges', 'CLTV', 'SeniorCitizen', 'Partner', 'Dependents', 'PhoneService', 'PaperlessBilling', ['MultipleLines_No_phone_service', 'MultipleLines_Yes'], ['InternetService_Fiber_optic', 'InternetService_No'], ['OnlineBackup_No_internet_service', 'OnlineBackup_Yes'], ['DeviceProtection_No_internet_service', 'DeviceProtection_Yes'], ['TechSupport_No_internet_service', 'TechSupport_Yes'], ['StreamingTV_No_internet_service', 'StreamingTV_Yes'], ['StreamingMovies_No_internet_service', 'StreamingMovies_Yes'], ['Contract_One_year', 'Contract_Two_year']]. F1: 0.6361\n",
      "Best Model 2 included: ['Latitude', 'Longitude', 'TenureMonths', 'TotalCharges', 'CLTV', 'Gender', 'Dependents', 'PhoneService', 'PaperlessBilling', ['MultipleLines_No_phone_service', 'MultipleLines_Yes'], ['InternetService_Fiber_optic', 'InternetService_No'], ['OnlineSecurity_No_internet_service', 'OnlineSecurity_Yes'], ['OnlineBackup_No_internet_service', 'OnlineBackup_Yes'], ['DeviceProtection_No_internet_service', 'DeviceProtection_Yes'], ['TechSupport_No_internet_service', 'TechSupport_Yes'], ['StreamingTV_No_internet_service', 'StreamingTV_Yes'], ['StreamingMovies_No_internet_service', 'StreamingMovies_Yes'], ['Contract_One_year', 'Contract_Two_year'], ['PaymentMethod_Credit_card_(automatic)', 'PaymentMethod_Electronic_check', 'PaymentMethod_Mailed_check']]. F1: 0.6477\n",
      "Agreeability Coefficient (cohen_kappa) between best models: 0.7977720681778496\n",
      "------------------------------------------------------------------------------------------------------------------------------------------------------\n",
      "Results from all models:\n",
      "M1 mean score: 0.6244. Standard deviation: 0.0082\n",
      "M2 mean score: 0.6346. Standard deviation: 0.0075\n",
      "Mean agreeability coefficient (cohen_kappa): 0.7466. Standard deviation: 0.0259\n",
      "======================================================================================================================================================\n",
      "Iteration 4:\n",
      "------------------------------------------------------------------------------------------------------------------------------------------------------\n",
      "Results from best models:\n",
      "Best Model 1 included: ['Latitude', 'TenureMonths', 'MonthlyCharges', 'TotalCharges', 'CLTV', 'SeniorCitizen', 'Partner', 'Dependents', 'PhoneService', 'PaperlessBilling', ['MultipleLines_No_phone_service', 'MultipleLines_Yes'], ['InternetService_Fiber_optic', 'InternetService_No'], ['OnlineBackup_No_internet_service', 'OnlineBackup_Yes'], ['DeviceProtection_No_internet_service', 'DeviceProtection_Yes'], ['TechSupport_No_internet_service', 'TechSupport_Yes'], ['StreamingTV_No_internet_service', 'StreamingTV_Yes'], ['StreamingMovies_No_internet_service', 'StreamingMovies_Yes'], ['Contract_One_year', 'Contract_Two_year']]. F1: 0.6401\n",
      "Best Model 2 included: ['Latitude', 'Longitude', 'TenureMonths', 'TotalCharges', 'CLTV', 'Gender', 'Dependents', 'PhoneService', 'PaperlessBilling', ['MultipleLines_No_phone_service', 'MultipleLines_Yes'], ['InternetService_Fiber_optic', 'InternetService_No'], ['OnlineSecurity_No_internet_service', 'OnlineSecurity_Yes'], ['OnlineBackup_No_internet_service', 'OnlineBackup_Yes'], ['DeviceProtection_No_internet_service', 'DeviceProtection_Yes'], ['TechSupport_No_internet_service', 'TechSupport_Yes'], ['StreamingTV_No_internet_service', 'StreamingTV_Yes'], ['StreamingMovies_No_internet_service', 'StreamingMovies_Yes'], ['Contract_One_year', 'Contract_Two_year']]. F1: 0.6461\n",
      "Agreeability Coefficient (cohen_kappa) between best models: 0.7784786875610089\n",
      "------------------------------------------------------------------------------------------------------------------------------------------------------\n",
      "Results from all models:\n",
      "M1 mean score: 0.6233. Standard deviation: 0.0083\n",
      "M2 mean score: 0.6308. Standard deviation: 0.0082\n",
      "Mean agreeability coefficient (cohen_kappa): 0.7622. Standard deviation: 0.0333\n",
      "======================================================================================================================================================\n",
      "Iteration 5:\n",
      "------------------------------------------------------------------------------------------------------------------------------------------------------\n",
      "Results from best models:\n",
      "Best Model 1 included: ['Latitude', 'TenureMonths', 'MonthlyCharges', 'TotalCharges', 'CLTV', 'SeniorCitizen', 'Partner', 'Dependents', 'PhoneService', 'PaperlessBilling', ['InternetService_Fiber_optic', 'InternetService_No'], ['OnlineBackup_No_internet_service', 'OnlineBackup_Yes'], ['DeviceProtection_No_internet_service', 'DeviceProtection_Yes'], ['TechSupport_No_internet_service', 'TechSupport_Yes'], ['StreamingTV_No_internet_service', 'StreamingTV_Yes'], ['StreamingMovies_No_internet_service', 'StreamingMovies_Yes'], ['Contract_One_year', 'Contract_Two_year']]. F1: 0.6535\n",
      "Best Model 2 included: ['Latitude', 'Longitude', 'TenureMonths', 'TotalCharges', 'CLTV', 'Gender', 'Dependents', 'PaperlessBilling', ['MultipleLines_No_phone_service', 'MultipleLines_Yes'], ['InternetService_Fiber_optic', 'InternetService_No'], ['OnlineSecurity_No_internet_service', 'OnlineSecurity_Yes'], ['OnlineBackup_No_internet_service', 'OnlineBackup_Yes'], ['DeviceProtection_No_internet_service', 'DeviceProtection_Yes'], ['TechSupport_No_internet_service', 'TechSupport_Yes'], ['StreamingTV_No_internet_service', 'StreamingTV_Yes'], ['StreamingMovies_No_internet_service', 'StreamingMovies_Yes'], ['Contract_One_year', 'Contract_Two_year']]. F1: 0.6356\n",
      "Agreeability Coefficient (cohen_kappa) between best models: 0.7801653424260946\n",
      "------------------------------------------------------------------------------------------------------------------------------------------------------\n",
      "Results from all models:\n",
      "M1 mean score: 0.6312. Standard deviation: 0.0101\n",
      "M2 mean score: 0.6253. Standard deviation: 0.0061\n",
      "Mean agreeability coefficient (cohen_kappa): 0.7546. Standard deviation: 0.0322\n",
      "======================================================================================================================================================\n",
      "Iteration 6:\n",
      "------------------------------------------------------------------------------------------------------------------------------------------------------\n",
      "Results from best models:\n",
      "Best Model 1 included: ['Latitude', 'TenureMonths', 'MonthlyCharges', 'TotalCharges', 'SeniorCitizen', 'Partner', 'Dependents', 'PhoneService', 'PaperlessBilling', ['InternetService_Fiber_optic', 'InternetService_No'], ['OnlineBackup_No_internet_service', 'OnlineBackup_Yes'], ['DeviceProtection_No_internet_service', 'DeviceProtection_Yes'], ['TechSupport_No_internet_service', 'TechSupport_Yes'], ['StreamingTV_No_internet_service', 'StreamingTV_Yes'], ['StreamingMovies_No_internet_service', 'StreamingMovies_Yes'], ['Contract_One_year', 'Contract_Two_year']]. F1: 0.6576\n",
      "Best Model 2 included: ['Latitude', 'Longitude', 'TenureMonths', 'TotalCharges', 'CLTV', 'Gender', 'Dependents', 'PaperlessBilling', ['MultipleLines_No_phone_service', 'MultipleLines_Yes'], ['InternetService_Fiber_optic', 'InternetService_No'], ['OnlineSecurity_No_internet_service', 'OnlineSecurity_Yes'], ['OnlineBackup_No_internet_service', 'OnlineBackup_Yes'], ['DeviceProtection_No_internet_service', 'DeviceProtection_Yes'], ['TechSupport_No_internet_service', 'TechSupport_Yes'], ['StreamingTV_No_internet_service', 'StreamingTV_Yes'], ['Contract_One_year', 'Contract_Two_year']]. F1: 0.6308\n",
      "Agreeability Coefficient (cohen_kappa) between best models: 0.7474978947804359\n",
      "------------------------------------------------------------------------------------------------------------------------------------------------------\n",
      "Results from all models:\n",
      "M1 mean score: 0.6309. Standard deviation: 0.0117\n",
      "M2 mean score: 0.6218. Standard deviation: 0.0054\n",
      "Mean agreeability coefficient (cohen_kappa): 0.7470. Standard deviation: 0.0386\n",
      "======================================================================================================================================================\n",
      "Iteration 7:\n",
      "------------------------------------------------------------------------------------------------------------------------------------------------------\n",
      "Results from best models:\n",
      "Best Model 1 included: ['Latitude', 'TenureMonths', 'MonthlyCharges', 'TotalCharges', 'SeniorCitizen', 'Partner', 'Dependents', 'PhoneService', ['InternetService_Fiber_optic', 'InternetService_No'], ['OnlineBackup_No_internet_service', 'OnlineBackup_Yes'], ['DeviceProtection_No_internet_service', 'DeviceProtection_Yes'], ['TechSupport_No_internet_service', 'TechSupport_Yes'], ['StreamingTV_No_internet_service', 'StreamingTV_Yes'], ['StreamingMovies_No_internet_service', 'StreamingMovies_Yes'], ['Contract_One_year', 'Contract_Two_year']]. F1: 0.6476\n",
      "Best Model 2 included: ['Latitude', 'Longitude', 'TenureMonths', 'TotalCharges', 'CLTV', 'Gender', 'Dependents', 'PaperlessBilling', ['MultipleLines_No_phone_service', 'MultipleLines_Yes'], ['InternetService_Fiber_optic', 'InternetService_No'], ['OnlineSecurity_No_internet_service', 'OnlineSecurity_Yes'], ['DeviceProtection_No_internet_service', 'DeviceProtection_Yes'], ['TechSupport_No_internet_service', 'TechSupport_Yes'], ['StreamingTV_No_internet_service', 'StreamingTV_Yes'], ['Contract_One_year', 'Contract_Two_year']]. F1: 0.6396\n",
      "Agreeability Coefficient (cohen_kappa) between best models: 0.7515811406662715\n",
      "------------------------------------------------------------------------------------------------------------------------------------------------------\n",
      "Results from all models:\n",
      "M1 mean score: 0.6325. Standard deviation: 0.0105\n",
      "M2 mean score: 0.6221. Standard deviation: 0.0083\n",
      "Mean agreeability coefficient (cohen_kappa): 0.7351. Standard deviation: 0.0301\n",
      "======================================================================================================================================================\n",
      "Iteration 8:\n",
      "------------------------------------------------------------------------------------------------------------------------------------------------------\n",
      "Results from best models:\n",
      "Best Model 1 included: ['Latitude', 'TenureMonths', 'MonthlyCharges', 'TotalCharges', 'SeniorCitizen', 'Partner', 'Dependents', ['InternetService_Fiber_optic', 'InternetService_No'], ['OnlineBackup_No_internet_service', 'OnlineBackup_Yes'], ['DeviceProtection_No_internet_service', 'DeviceProtection_Yes'], ['TechSupport_No_internet_service', 'TechSupport_Yes'], ['StreamingTV_No_internet_service', 'StreamingTV_Yes'], ['StreamingMovies_No_internet_service', 'StreamingMovies_Yes'], ['Contract_One_year', 'Contract_Two_year']]. F1: 0.6496\n",
      "Best Model 2 included: ['Longitude', 'TenureMonths', 'TotalCharges', 'CLTV', 'Gender', 'Dependents', 'PaperlessBilling', ['MultipleLines_No_phone_service', 'MultipleLines_Yes'], ['InternetService_Fiber_optic', 'InternetService_No'], ['OnlineSecurity_No_internet_service', 'OnlineSecurity_Yes'], ['DeviceProtection_No_internet_service', 'DeviceProtection_Yes'], ['TechSupport_No_internet_service', 'TechSupport_Yes'], ['StreamingTV_No_internet_service', 'StreamingTV_Yes'], ['Contract_One_year', 'Contract_Two_year']]. F1: 0.6402\n",
      "Agreeability Coefficient (cohen_kappa) between best models: 0.7521225632025802\n",
      "------------------------------------------------------------------------------------------------------------------------------------------------------\n",
      "Results from all models:\n",
      "M1 mean score: 0.6338. Standard deviation: 0.0112\n",
      "M2 mean score: 0.6295. Standard deviation: 0.0058\n",
      "Mean agreeability coefficient (cohen_kappa): 0.7132. Standard deviation: 0.0372\n",
      "======================================================================================================================================================\n",
      "Iteration 9:\n",
      "------------------------------------------------------------------------------------------------------------------------------------------------------\n",
      "Results from best models:\n",
      "Best Model 1 included: ['Latitude', 'TenureMonths', 'MonthlyCharges', 'TotalCharges', 'SeniorCitizen', 'Partner', 'Dependents', ['InternetService_Fiber_optic', 'InternetService_No'], ['OnlineBackup_No_internet_service', 'OnlineBackup_Yes'], ['TechSupport_No_internet_service', 'TechSupport_Yes'], ['StreamingTV_No_internet_service', 'StreamingTV_Yes'], ['StreamingMovies_No_internet_service', 'StreamingMovies_Yes'], ['Contract_One_year', 'Contract_Two_year']]. F1: 0.6433\n",
      "Best Model 2 included: ['Longitude', 'TenureMonths', 'TotalCharges', 'CLTV', 'Gender', 'Dependents', 'PaperlessBilling', ['MultipleLines_No_phone_service', 'MultipleLines_Yes'], ['InternetService_Fiber_optic', 'InternetService_No'], ['OnlineSecurity_No_internet_service', 'OnlineSecurity_Yes'], ['DeviceProtection_No_internet_service', 'DeviceProtection_Yes'], ['TechSupport_No_internet_service', 'TechSupport_Yes'], ['Contract_One_year', 'Contract_Two_year']]. F1: 0.6356\n",
      "Agreeability Coefficient (cohen_kappa) between best models: 0.7401572076595448\n",
      "------------------------------------------------------------------------------------------------------------------------------------------------------\n",
      "Results from all models:\n",
      "M1 mean score: 0.6275. Standard deviation: 0.0101\n",
      "M2 mean score: 0.6255. Standard deviation: 0.0066\n",
      "Mean agreeability coefficient (cohen_kappa): 0.7173. Standard deviation: 0.0262\n",
      "======================================================================================================================================================\n",
      "Iteration 10:\n",
      "------------------------------------------------------------------------------------------------------------------------------------------------------\n",
      "Results from best models:\n",
      "Best Model 1 included: ['Latitude', 'TenureMonths', 'MonthlyCharges', 'TotalCharges', 'Partner', 'Dependents', ['InternetService_Fiber_optic', 'InternetService_No'], ['OnlineBackup_No_internet_service', 'OnlineBackup_Yes'], ['TechSupport_No_internet_service', 'TechSupport_Yes'], ['StreamingTV_No_internet_service', 'StreamingTV_Yes'], ['StreamingMovies_No_internet_service', 'StreamingMovies_Yes'], ['Contract_One_year', 'Contract_Two_year']]. F1: 0.6496\n",
      "Best Model 2 included: ['Longitude', 'TenureMonths', 'TotalCharges', 'CLTV', 'Gender', 'Dependents', 'PaperlessBilling', ['MultipleLines_No_phone_service', 'MultipleLines_Yes'], ['InternetService_Fiber_optic', 'InternetService_No'], ['DeviceProtection_No_internet_service', 'DeviceProtection_Yes'], ['TechSupport_No_internet_service', 'TechSupport_Yes'], ['Contract_One_year', 'Contract_Two_year']]. F1: 0.6351\n",
      "Agreeability Coefficient (cohen_kappa) between best models: 0.7611289809842521\n",
      "------------------------------------------------------------------------------------------------------------------------------------------------------\n",
      "Results from all models:\n",
      "M1 mean score: 0.6199. Standard deviation: 0.0131\n",
      "M2 mean score: 0.6246. Standard deviation: 0.0052\n",
      "Mean agreeability coefficient (cohen_kappa): 0.7166. Standard deviation: 0.0307\n",
      "======================================================================================================================================================\n",
      "Iteration 11:\n",
      "------------------------------------------------------------------------------------------------------------------------------------------------------\n",
      "Results from best models:\n",
      "Best Model 1 included: ['Latitude', 'TenureMonths', 'MonthlyCharges', 'TotalCharges', 'Partner', 'Dependents', ['InternetService_Fiber_optic', 'InternetService_No'], ['TechSupport_No_internet_service', 'TechSupport_Yes'], ['StreamingTV_No_internet_service', 'StreamingTV_Yes'], ['StreamingMovies_No_internet_service', 'StreamingMovies_Yes'], ['Contract_One_year', 'Contract_Two_year']]. F1: 0.6344\n",
      "Best Model 2 included: ['Longitude', 'TenureMonths', 'TotalCharges', 'CLTV', 'Gender', 'Dependents', ['MultipleLines_No_phone_service', 'MultipleLines_Yes'], ['InternetService_Fiber_optic', 'InternetService_No'], ['DeviceProtection_No_internet_service', 'DeviceProtection_Yes'], ['TechSupport_No_internet_service', 'TechSupport_Yes'], ['Contract_One_year', 'Contract_Two_year']]. F1: 0.6398\n",
      "Agreeability Coefficient (cohen_kappa) between best models: 0.7702053951596765\n",
      "------------------------------------------------------------------------------------------------------------------------------------------------------\n",
      "Results from all models:\n",
      "M1 mean score: 0.6183. Standard deviation: 0.0108\n",
      "M2 mean score: 0.6262. Standard deviation: 0.0075\n",
      "Mean agreeability coefficient (cohen_kappa): 0.7204. Standard deviation: 0.0407\n",
      "======================================================================================================================================================\n",
      "Iteration 12:\n",
      "------------------------------------------------------------------------------------------------------------------------------------------------------\n",
      "Results from best models:\n",
      "Best Model 1 included: ['Latitude', 'TenureMonths', 'MonthlyCharges', 'TotalCharges', 'Partner', 'Dependents', ['InternetService_Fiber_optic', 'InternetService_No'], ['TechSupport_No_internet_service', 'TechSupport_Yes'], ['StreamingTV_No_internet_service', 'StreamingTV_Yes'], ['Contract_One_year', 'Contract_Two_year']]. F1: 0.6376\n",
      "Best Model 2 included: ['Longitude', 'TenureMonths', 'TotalCharges', 'CLTV', 'Gender', 'Dependents', ['InternetService_Fiber_optic', 'InternetService_No'], ['DeviceProtection_No_internet_service', 'DeviceProtection_Yes'], ['TechSupport_No_internet_service', 'TechSupport_Yes'], ['Contract_One_year', 'Contract_Two_year']]. F1: 0.6339\n",
      "Agreeability Coefficient (cohen_kappa) between best models: 0.7554705383297851\n",
      "------------------------------------------------------------------------------------------------------------------------------------------------------\n",
      "Results from all models:\n",
      "M1 mean score: 0.6224. Standard deviation: 0.0089\n",
      "M2 mean score: 0.6257. Standard deviation: 0.0063\n",
      "Mean agreeability coefficient (cohen_kappa): 0.7315. Standard deviation: 0.0446\n",
      "======================================================================================================================================================\n",
      "Iteration 13:\n",
      "------------------------------------------------------------------------------------------------------------------------------------------------------\n",
      "Results from best models:\n",
      "Best Model 1 included: ['Latitude', 'TenureMonths', 'MonthlyCharges', 'TotalCharges', 'Partner', 'Dependents', ['TechSupport_No_internet_service', 'TechSupport_Yes'], ['StreamingTV_No_internet_service', 'StreamingTV_Yes'], ['Contract_One_year', 'Contract_Two_year']]. F1: 0.6325\n",
      "Best Model 2 included: ['Longitude', 'TenureMonths', 'TotalCharges', 'CLTV', 'Gender', 'Dependents', ['InternetService_Fiber_optic', 'InternetService_No'], ['TechSupport_No_internet_service', 'TechSupport_Yes'], ['Contract_One_year', 'Contract_Two_year']]. F1: 0.6317\n",
      "Agreeability Coefficient (cohen_kappa) between best models: 0.7791226508169501\n",
      "------------------------------------------------------------------------------------------------------------------------------------------------------\n",
      "Results from all models:\n",
      "M1 mean score: 0.6159. Standard deviation: 0.0136\n",
      "M2 mean score: 0.6231. Standard deviation: 0.0070\n",
      "Mean agreeability coefficient (cohen_kappa): 0.7298. Standard deviation: 0.0413\n",
      "======================================================================================================================================================\n",
      "Iteration 14:\n",
      "------------------------------------------------------------------------------------------------------------------------------------------------------\n",
      "Results from best models:\n",
      "Best Model 1 included: ['Latitude', 'MonthlyCharges', 'TotalCharges', 'Partner', 'Dependents', ['TechSupport_No_internet_service', 'TechSupport_Yes'], ['StreamingTV_No_internet_service', 'StreamingTV_Yes'], ['Contract_One_year', 'Contract_Two_year']]. F1: 0.6322\n",
      "Best Model 2 included: ['Longitude', 'TenureMonths', 'TotalCharges', 'CLTV', 'Gender', ['InternetService_Fiber_optic', 'InternetService_No'], ['TechSupport_No_internet_service', 'TechSupport_Yes'], ['Contract_One_year', 'Contract_Two_year']]. F1: 0.6333\n",
      "Agreeability Coefficient (cohen_kappa) between best models: 0.7233145285135705\n",
      "------------------------------------------------------------------------------------------------------------------------------------------------------\n",
      "Results from all models:\n",
      "M1 mean score: 0.6160. Standard deviation: 0.0138\n",
      "M2 mean score: 0.6251. Standard deviation: 0.0062\n",
      "Mean agreeability coefficient (cohen_kappa): 0.7325. Standard deviation: 0.0379\n",
      "======================================================================================================================================================\n",
      "Iteration 15:\n",
      "------------------------------------------------------------------------------------------------------------------------------------------------------\n",
      "Results from best models:\n",
      "Best Model 1 included: ['Latitude', 'MonthlyCharges', 'TotalCharges', 'Partner', 'Dependents', ['TechSupport_No_internet_service', 'TechSupport_Yes'], ['Contract_One_year', 'Contract_Two_year']]. F1: 0.6341\n",
      "Best Model 2 included: ['TenureMonths', 'TotalCharges', 'CLTV', 'Gender', ['InternetService_Fiber_optic', 'InternetService_No'], ['TechSupport_No_internet_service', 'TechSupport_Yes'], ['Contract_One_year', 'Contract_Two_year']]. F1: 0.6365\n",
      "Agreeability Coefficient (cohen_kappa) between best models: 0.7261797272252054\n",
      "------------------------------------------------------------------------------------------------------------------------------------------------------\n",
      "Results from all models:\n",
      "M1 mean score: 0.6082. Standard deviation: 0.0188\n",
      "M2 mean score: 0.6205. Standard deviation: 0.0082\n",
      "Mean agreeability coefficient (cohen_kappa): 0.6738. Standard deviation: 0.0470\n",
      "======================================================================================================================================================\n",
      "Iteration 16:\n",
      "------------------------------------------------------------------------------------------------------------------------------------------------------\n",
      "Results from best models:\n",
      "Best Model 1 included: ['Latitude', 'MonthlyCharges', 'TotalCharges', 'Dependents', ['TechSupport_No_internet_service', 'TechSupport_Yes'], ['Contract_One_year', 'Contract_Two_year']]. F1: 0.6259\n",
      "Best Model 2 included: ['TenureMonths', 'CLTV', 'Gender', ['InternetService_Fiber_optic', 'InternetService_No'], ['TechSupport_No_internet_service', 'TechSupport_Yes'], ['Contract_One_year', 'Contract_Two_year']]. F1: 0.6254\n",
      "Agreeability Coefficient (cohen_kappa) between best models: 0.7040888364431317\n",
      "------------------------------------------------------------------------------------------------------------------------------------------------------\n",
      "Results from all models:\n",
      "M1 mean score: 0.6024. Standard deviation: 0.0137\n",
      "M2 mean score: 0.6150. Standard deviation: 0.0101\n",
      "Mean agreeability coefficient (cohen_kappa): 0.6522. Standard deviation: 0.0520\n",
      "======================================================================================================================================================\n",
      "Iteration 17:\n",
      "------------------------------------------------------------------------------------------------------------------------------------------------------\n",
      "Results from best models:\n",
      "Best Model 1 included: ['Latitude', 'MonthlyCharges', 'TotalCharges', ['TechSupport_No_internet_service', 'TechSupport_Yes'], ['Contract_One_year', 'Contract_Two_year']]. F1: 0.6207\n",
      "Best Model 2 included: ['TenureMonths', 'Gender', ['InternetService_Fiber_optic', 'InternetService_No'], ['TechSupport_No_internet_service', 'TechSupport_Yes'], ['Contract_One_year', 'Contract_Two_year']]. F1: 0.6267\n",
      "Agreeability Coefficient (cohen_kappa) between best models: 0.7585859536289318\n",
      "------------------------------------------------------------------------------------------------------------------------------------------------------\n",
      "Results from all models:\n",
      "M1 mean score: 0.6003. Standard deviation: 0.0139\n",
      "M2 mean score: 0.6093. Standard deviation: 0.0136\n",
      "Mean agreeability coefficient (cohen_kappa): 0.6498. Standard deviation: 0.0548\n",
      "======================================================================================================================================================\n",
      "Iteration 18:\n",
      "------------------------------------------------------------------------------------------------------------------------------------------------------\n",
      "Results from best models:\n",
      "Best Model 1 included: ['Latitude', 'MonthlyCharges', 'TotalCharges', ['Contract_One_year', 'Contract_Two_year']]. F1: 0.6049\n",
      "Best Model 2 included: ['TenureMonths', ['InternetService_Fiber_optic', 'InternetService_No'], ['TechSupport_No_internet_service', 'TechSupport_Yes'], ['Contract_One_year', 'Contract_Two_year']]. F1: 0.6199\n",
      "Agreeability Coefficient (cohen_kappa) between best models: 0.6747040771591408\n",
      "------------------------------------------------------------------------------------------------------------------------------------------------------\n",
      "Results from all models:\n",
      "M1 mean score: 0.5766. Standard deviation: 0.0179\n",
      "M2 mean score: 0.6041. Standard deviation: 0.0129\n",
      "Mean agreeability coefficient (cohen_kappa): 0.6553. Standard deviation: 0.0364\n",
      "======================================================================================================================================================\n",
      "Iteration 19:\n",
      "------------------------------------------------------------------------------------------------------------------------------------------------------\n",
      "Results from best models:\n",
      "Best Model 1 included: ['Latitude', 'MonthlyCharges', 'TotalCharges']. F1: 0.5704\n",
      "Best Model 2 included: ['TenureMonths', ['InternetService_Fiber_optic', 'InternetService_No'], ['Contract_One_year', 'Contract_Two_year']]. F1: 0.6182\n",
      "Agreeability Coefficient (cohen_kappa) between best models: 0.5876560576754001\n",
      "------------------------------------------------------------------------------------------------------------------------------------------------------\n",
      "Results from all models:\n",
      "M1 mean score: 0.5488. Standard deviation: 0.0135\n",
      "M2 mean score: 0.6049. Standard deviation: 0.0105\n",
      "Mean agreeability coefficient (cohen_kappa): 0.5671. Standard deviation: 0.0588\n",
      "======================================================================================================================================================\n",
      "Iteration 20:\n",
      "------------------------------------------------------------------------------------------------------------------------------------------------------\n",
      "Results from best models:\n",
      "Best Model 1 included: ['MonthlyCharges', 'TotalCharges']. F1: 0.5154\n",
      "Best Model 2 included: ['TenureMonths', ['InternetService_Fiber_optic', 'InternetService_No']]. F1: 0.6049\n",
      "Agreeability Coefficient (cohen_kappa) between best models: 0.5828704281612782\n",
      "------------------------------------------------------------------------------------------------------------------------------------------------------\n",
      "Results from all models:\n",
      "M1 mean score: 0.4430. Standard deviation: 0.0512\n",
      "M2 mean score: 0.5901. Standard deviation: 0.0128\n",
      "Mean agreeability coefficient (cohen_kappa): 0.2714. Standard deviation: 0.2228\n",
      "======================================================================================================================================================\n",
      "Iteration 21:\n",
      "------------------------------------------------------------------------------------------------------------------------------------------------------\n",
      "Results from best models:\n",
      "Best Model 1 included: ['TotalCharges']. F1: 0.3779\n",
      "Best Model 2 included: ['TenureMonths']. F1: 0.5430\n",
      "Agreeability Coefficient (cohen_kappa) between best models: 0.20806292452082717\n",
      "------------------------------------------------------------------------------------------------------------------------------------------------------\n",
      "Results from all models:\n",
      "M1 mean score: 0.3702. Standard deviation: 0.0077\n",
      "M2 mean score: 0.5380. Standard deviation: 0.0050\n",
      "Mean agreeability coefficient (cohen_kappa): 0.2159. Standard deviation: 0.0078\n",
      "======================================================================================================================================================\n"
     ]
    }
   ],
   "source": [
    "# Run the comparison algorithm \n",
    "results = seeker.compare_all_models(\n",
    "    m1=rfc, # Model 1: Logistic Regression\n",
    "    m2=mlp, # Model 2: Neural Network Classifier // Replace with 'rcf' - random forest classifier for testing the framework on a CPU to save time\n",
    "    keras_params=keras_params # Provide parameters for training the neural network\n",
    ")"
   ]
  },
  {
   "cell_type": "code",
   "execution_count": 101,
   "metadata": {},
   "outputs": [
    {
     "data": {
      "text/plain": [
       "[{'Best: M1 Included Features': ['Latitude',\n",
       "   'Longitude',\n",
       "   'TenureMonths',\n",
       "   'MonthlyCharges',\n",
       "   'TotalCharges',\n",
       "   'CLTV',\n",
       "   'Gender',\n",
       "   'SeniorCitizen',\n",
       "   'Partner',\n",
       "   'Dependents',\n",
       "   'PhoneService',\n",
       "   'PaperlessBilling',\n",
       "   'MultipleLines_No_phone_service',\n",
       "   'MultipleLines_Yes',\n",
       "   'InternetService_Fiber_optic',\n",
       "   'InternetService_No',\n",
       "   'OnlineSecurity_No_internet_service',\n",
       "   'OnlineSecurity_Yes',\n",
       "   'OnlineBackup_No_internet_service',\n",
       "   'OnlineBackup_Yes',\n",
       "   'DeviceProtection_No_internet_service',\n",
       "   'DeviceProtection_Yes',\n",
       "   'TechSupport_No_internet_service',\n",
       "   'TechSupport_Yes',\n",
       "   'StreamingTV_No_internet_service',\n",
       "   'StreamingTV_Yes',\n",
       "   'StreamingMovies_No_internet_service',\n",
       "   'StreamingMovies_Yes',\n",
       "   'Contract_One_year',\n",
       "   'Contract_Two_year',\n",
       "   'PaymentMethod_Credit_card_(automatic)',\n",
       "   'PaymentMethod_Electronic_check',\n",
       "   'PaymentMethod_Mailed_check'],\n",
       "  'Best: M1 f1': 0.607095926412615,\n",
       "  'Best: M2 Included Features': ['Latitude',\n",
       "   'Longitude',\n",
       "   'TenureMonths',\n",
       "   'MonthlyCharges',\n",
       "   'TotalCharges',\n",
       "   'CLTV',\n",
       "   'Gender',\n",
       "   'SeniorCitizen',\n",
       "   'Partner',\n",
       "   'Dependents',\n",
       "   'PhoneService',\n",
       "   'PaperlessBilling',\n",
       "   'MultipleLines_No_phone_service',\n",
       "   'MultipleLines_Yes',\n",
       "   'InternetService_Fiber_optic',\n",
       "   'InternetService_No',\n",
       "   'OnlineSecurity_No_internet_service',\n",
       "   'OnlineSecurity_Yes',\n",
       "   'OnlineBackup_No_internet_service',\n",
       "   'OnlineBackup_Yes',\n",
       "   'DeviceProtection_No_internet_service',\n",
       "   'DeviceProtection_Yes',\n",
       "   'TechSupport_No_internet_service',\n",
       "   'TechSupport_Yes',\n",
       "   'StreamingTV_No_internet_service',\n",
       "   'StreamingTV_Yes',\n",
       "   'StreamingMovies_No_internet_service',\n",
       "   'StreamingMovies_Yes',\n",
       "   'Contract_One_year',\n",
       "   'Contract_Two_year',\n",
       "   'PaymentMethod_Credit_card_(automatic)',\n",
       "   'PaymentMethod_Electronic_check',\n",
       "   'PaymentMethod_Mailed_check'],\n",
       "  'Best: M2 f1': 0.6292397660818714,\n",
       "  'Best: Agreeability (cohen_kappa)': 0.7437976659217482,\n",
       "  'All: M1 Mean f1': 0.607095926412615,\n",
       "  'All: M1 STD f1': 0,\n",
       "  'All: M2 Mean f1': 0.6292397660818714,\n",
       "  'All: M2 STD f1': 0,\n",
       "  'All: Mean Agreeability (cohen_kappa)': 0.7437976659217482,\n",
       "  'All: Agreeability St. Dev.': 0},\n",
       " {'Best: M1 Included Features': ['Latitude',\n",
       "   'Longitude',\n",
       "   'TenureMonths',\n",
       "   'MonthlyCharges',\n",
       "   'TotalCharges',\n",
       "   'CLTV',\n",
       "   'Gender',\n",
       "   'SeniorCitizen',\n",
       "   'Partner',\n",
       "   'Dependents',\n",
       "   'PhoneService',\n",
       "   'PaperlessBilling',\n",
       "   'MultipleLines_No_phone_service',\n",
       "   'MultipleLines_Yes',\n",
       "   'InternetService_Fiber_optic',\n",
       "   'InternetService_No',\n",
       "   'OnlineBackup_No_internet_service',\n",
       "   'OnlineBackup_Yes',\n",
       "   'DeviceProtection_No_internet_service',\n",
       "   'DeviceProtection_Yes',\n",
       "   'TechSupport_No_internet_service',\n",
       "   'TechSupport_Yes',\n",
       "   'StreamingTV_No_internet_service',\n",
       "   'StreamingTV_Yes',\n",
       "   'StreamingMovies_No_internet_service',\n",
       "   'StreamingMovies_Yes',\n",
       "   'Contract_One_year',\n",
       "   'Contract_Two_year',\n",
       "   'PaymentMethod_Credit_card_(automatic)',\n",
       "   'PaymentMethod_Electronic_check',\n",
       "   'PaymentMethod_Mailed_check'],\n",
       "  'Best: M1 f1': 0.6331658291457286,\n",
       "  'Best: M2 Included Features': ['Latitude',\n",
       "   'Longitude',\n",
       "   'TenureMonths',\n",
       "   'MonthlyCharges',\n",
       "   'TotalCharges',\n",
       "   'CLTV',\n",
       "   'Gender',\n",
       "   'Partner',\n",
       "   'Dependents',\n",
       "   'PhoneService',\n",
       "   'PaperlessBilling',\n",
       "   'MultipleLines_No_phone_service',\n",
       "   'MultipleLines_Yes',\n",
       "   'InternetService_Fiber_optic',\n",
       "   'InternetService_No',\n",
       "   'OnlineSecurity_No_internet_service',\n",
       "   'OnlineSecurity_Yes',\n",
       "   'OnlineBackup_No_internet_service',\n",
       "   'OnlineBackup_Yes',\n",
       "   'DeviceProtection_No_internet_service',\n",
       "   'DeviceProtection_Yes',\n",
       "   'TechSupport_No_internet_service',\n",
       "   'TechSupport_Yes',\n",
       "   'StreamingTV_No_internet_service',\n",
       "   'StreamingTV_Yes',\n",
       "   'StreamingMovies_No_internet_service',\n",
       "   'StreamingMovies_Yes',\n",
       "   'Contract_One_year',\n",
       "   'Contract_Two_year',\n",
       "   'PaymentMethod_Credit_card_(automatic)',\n",
       "   'PaymentMethod_Electronic_check',\n",
       "   'PaymentMethod_Mailed_check'],\n",
       "  'Best: M2 f1': 0.6448484848484848,\n",
       "  'Best: Agreeability (cohen_kappa)': 0.7817300120197288,\n",
       "  'All: M1 Mean f1': 0.6101146785007527,\n",
       "  'All: M1 STD f1': 0.01115312033786618,\n",
       "  'All: M2 Mean f1': 0.6318496550347582,\n",
       "  'All: M2 STD f1': 0.007100962864278718,\n",
       "  'All: Mean Agreeability (cohen_kappa)': 0.7611525335986862,\n",
       "  'All: Agreeability St. Dev.': 0.025370285809919284},\n",
       " {'Best: M1 Included Features': ['Latitude',\n",
       "   'Longitude',\n",
       "   'TenureMonths',\n",
       "   'MonthlyCharges',\n",
       "   'TotalCharges',\n",
       "   'CLTV',\n",
       "   'SeniorCitizen',\n",
       "   'Partner',\n",
       "   'Dependents',\n",
       "   'PhoneService',\n",
       "   'PaperlessBilling',\n",
       "   'MultipleLines_No_phone_service',\n",
       "   'MultipleLines_Yes',\n",
       "   'InternetService_Fiber_optic',\n",
       "   'InternetService_No',\n",
       "   'OnlineBackup_No_internet_service',\n",
       "   'OnlineBackup_Yes',\n",
       "   'DeviceProtection_No_internet_service',\n",
       "   'DeviceProtection_Yes',\n",
       "   'TechSupport_No_internet_service',\n",
       "   'TechSupport_Yes',\n",
       "   'StreamingTV_No_internet_service',\n",
       "   'StreamingTV_Yes',\n",
       "   'StreamingMovies_No_internet_service',\n",
       "   'StreamingMovies_Yes',\n",
       "   'Contract_One_year',\n",
       "   'Contract_Two_year',\n",
       "   'PaymentMethod_Credit_card_(automatic)',\n",
       "   'PaymentMethod_Electronic_check',\n",
       "   'PaymentMethod_Mailed_check'],\n",
       "  'Best: M1 f1': 0.6369426751592356,\n",
       "  'Best: M2 Included Features': ['Latitude',\n",
       "   'Longitude',\n",
       "   'TenureMonths',\n",
       "   'TotalCharges',\n",
       "   'CLTV',\n",
       "   'Gender',\n",
       "   'Partner',\n",
       "   'Dependents',\n",
       "   'PhoneService',\n",
       "   'PaperlessBilling',\n",
       "   'MultipleLines_No_phone_service',\n",
       "   'MultipleLines_Yes',\n",
       "   'InternetService_Fiber_optic',\n",
       "   'InternetService_No',\n",
       "   'OnlineSecurity_No_internet_service',\n",
       "   'OnlineSecurity_Yes',\n",
       "   'OnlineBackup_No_internet_service',\n",
       "   'OnlineBackup_Yes',\n",
       "   'DeviceProtection_No_internet_service',\n",
       "   'DeviceProtection_Yes',\n",
       "   'TechSupport_No_internet_service',\n",
       "   'TechSupport_Yes',\n",
       "   'StreamingTV_No_internet_service',\n",
       "   'StreamingTV_Yes',\n",
       "   'StreamingMovies_No_internet_service',\n",
       "   'StreamingMovies_Yes',\n",
       "   'Contract_One_year',\n",
       "   'Contract_Two_year',\n",
       "   'PaymentMethod_Credit_card_(automatic)',\n",
       "   'PaymentMethod_Electronic_check',\n",
       "   'PaymentMethod_Mailed_check'],\n",
       "  'Best: M2 f1': 0.6444708680142688,\n",
       "  'Best: Agreeability (cohen_kappa)': 0.761154335832508,\n",
       "  'All: M1 Mean f1': 0.6236476264358943,\n",
       "  'All: M1 STD f1': 0.009417388627066875,\n",
       "  'All: M2 Mean f1': 0.6319783173165847,\n",
       "  'All: M2 STD f1': 0.005479112494303597,\n",
       "  'All: Mean Agreeability (cohen_kappa)': 0.7606672004908225,\n",
       "  'All: Agreeability St. Dev.': 0.032439784127282184},\n",
       " {'Best: M1 Included Features': ['Latitude',\n",
       "   'Longitude',\n",
       "   'TenureMonths',\n",
       "   'MonthlyCharges',\n",
       "   'TotalCharges',\n",
       "   'CLTV',\n",
       "   'SeniorCitizen',\n",
       "   'Partner',\n",
       "   'Dependents',\n",
       "   'PhoneService',\n",
       "   'PaperlessBilling',\n",
       "   'MultipleLines_No_phone_service',\n",
       "   'MultipleLines_Yes',\n",
       "   'InternetService_Fiber_optic',\n",
       "   'InternetService_No',\n",
       "   'OnlineBackup_No_internet_service',\n",
       "   'OnlineBackup_Yes',\n",
       "   'DeviceProtection_No_internet_service',\n",
       "   'DeviceProtection_Yes',\n",
       "   'TechSupport_No_internet_service',\n",
       "   'TechSupport_Yes',\n",
       "   'StreamingTV_No_internet_service',\n",
       "   'StreamingTV_Yes',\n",
       "   'StreamingMovies_No_internet_service',\n",
       "   'StreamingMovies_Yes',\n",
       "   'Contract_One_year',\n",
       "   'Contract_Two_year'],\n",
       "  'Best: M1 f1': 0.636138613861386,\n",
       "  'Best: M2 Included Features': ['Latitude',\n",
       "   'Longitude',\n",
       "   'TenureMonths',\n",
       "   'TotalCharges',\n",
       "   'CLTV',\n",
       "   'Gender',\n",
       "   'Dependents',\n",
       "   'PhoneService',\n",
       "   'PaperlessBilling',\n",
       "   'MultipleLines_No_phone_service',\n",
       "   'MultipleLines_Yes',\n",
       "   'InternetService_Fiber_optic',\n",
       "   'InternetService_No',\n",
       "   'OnlineSecurity_No_internet_service',\n",
       "   'OnlineSecurity_Yes',\n",
       "   'OnlineBackup_No_internet_service',\n",
       "   'OnlineBackup_Yes',\n",
       "   'DeviceProtection_No_internet_service',\n",
       "   'DeviceProtection_Yes',\n",
       "   'TechSupport_No_internet_service',\n",
       "   'TechSupport_Yes',\n",
       "   'StreamingTV_No_internet_service',\n",
       "   'StreamingTV_Yes',\n",
       "   'StreamingMovies_No_internet_service',\n",
       "   'StreamingMovies_Yes',\n",
       "   'Contract_One_year',\n",
       "   'Contract_Two_year',\n",
       "   'PaymentMethod_Credit_card_(automatic)',\n",
       "   'PaymentMethod_Electronic_check',\n",
       "   'PaymentMethod_Mailed_check'],\n",
       "  'Best: M2 f1': 0.6477132262051916,\n",
       "  'Best: Agreeability (cohen_kappa)': 0.7977720681778496,\n",
       "  'All: M1 Mean f1': 0.6243898555218408,\n",
       "  'All: M1 STD f1': 0.008167460451100145,\n",
       "  'All: M2 Mean f1': 0.6346436333537577,\n",
       "  'All: M2 STD f1': 0.007485943500677576,\n",
       "  'All: Mean Agreeability (cohen_kappa)': 0.7465575580647216,\n",
       "  'All: Agreeability St. Dev.': 0.025907673618922777},\n",
       " {'Best: M1 Included Features': ['Latitude',\n",
       "   'TenureMonths',\n",
       "   'MonthlyCharges',\n",
       "   'TotalCharges',\n",
       "   'CLTV',\n",
       "   'SeniorCitizen',\n",
       "   'Partner',\n",
       "   'Dependents',\n",
       "   'PhoneService',\n",
       "   'PaperlessBilling',\n",
       "   'MultipleLines_No_phone_service',\n",
       "   'MultipleLines_Yes',\n",
       "   'InternetService_Fiber_optic',\n",
       "   'InternetService_No',\n",
       "   'OnlineBackup_No_internet_service',\n",
       "   'OnlineBackup_Yes',\n",
       "   'DeviceProtection_No_internet_service',\n",
       "   'DeviceProtection_Yes',\n",
       "   'TechSupport_No_internet_service',\n",
       "   'TechSupport_Yes',\n",
       "   'StreamingTV_No_internet_service',\n",
       "   'StreamingTV_Yes',\n",
       "   'StreamingMovies_No_internet_service',\n",
       "   'StreamingMovies_Yes',\n",
       "   'Contract_One_year',\n",
       "   'Contract_Two_year'],\n",
       "  'Best: M1 f1': 0.6400996264009963,\n",
       "  'Best: M2 Included Features': ['Latitude',\n",
       "   'Longitude',\n",
       "   'TenureMonths',\n",
       "   'TotalCharges',\n",
       "   'CLTV',\n",
       "   'Gender',\n",
       "   'Dependents',\n",
       "   'PhoneService',\n",
       "   'PaperlessBilling',\n",
       "   'MultipleLines_No_phone_service',\n",
       "   'MultipleLines_Yes',\n",
       "   'InternetService_Fiber_optic',\n",
       "   'InternetService_No',\n",
       "   'OnlineSecurity_No_internet_service',\n",
       "   'OnlineSecurity_Yes',\n",
       "   'OnlineBackup_No_internet_service',\n",
       "   'OnlineBackup_Yes',\n",
       "   'DeviceProtection_No_internet_service',\n",
       "   'DeviceProtection_Yes',\n",
       "   'TechSupport_No_internet_service',\n",
       "   'TechSupport_Yes',\n",
       "   'StreamingTV_No_internet_service',\n",
       "   'StreamingTV_Yes',\n",
       "   'StreamingMovies_No_internet_service',\n",
       "   'StreamingMovies_Yes',\n",
       "   'Contract_One_year',\n",
       "   'Contract_Two_year'],\n",
       "  'Best: M2 f1': 0.6460807600950118,\n",
       "  'Best: Agreeability (cohen_kappa)': 0.7784786875610089,\n",
       "  'All: M1 Mean f1': 0.6232634547388671,\n",
       "  'All: M1 STD f1': 0.008304974145351921,\n",
       "  'All: M2 Mean f1': 0.6308082933273557,\n",
       "  'All: M2 STD f1': 0.008161543920380362,\n",
       "  'All: Mean Agreeability (cohen_kappa)': 0.7622411713480215,\n",
       "  'All: Agreeability St. Dev.': 0.03333961109283924},\n",
       " {'Best: M1 Included Features': ['Latitude',\n",
       "   'TenureMonths',\n",
       "   'MonthlyCharges',\n",
       "   'TotalCharges',\n",
       "   'CLTV',\n",
       "   'SeniorCitizen',\n",
       "   'Partner',\n",
       "   'Dependents',\n",
       "   'PhoneService',\n",
       "   'PaperlessBilling',\n",
       "   'InternetService_Fiber_optic',\n",
       "   'InternetService_No',\n",
       "   'OnlineBackup_No_internet_service',\n",
       "   'OnlineBackup_Yes',\n",
       "   'DeviceProtection_No_internet_service',\n",
       "   'DeviceProtection_Yes',\n",
       "   'TechSupport_No_internet_service',\n",
       "   'TechSupport_Yes',\n",
       "   'StreamingTV_No_internet_service',\n",
       "   'StreamingTV_Yes',\n",
       "   'StreamingMovies_No_internet_service',\n",
       "   'StreamingMovies_Yes',\n",
       "   'Contract_One_year',\n",
       "   'Contract_Two_year'],\n",
       "  'Best: M1 f1': 0.6535141800246609,\n",
       "  'Best: M2 Included Features': ['Latitude',\n",
       "   'Longitude',\n",
       "   'TenureMonths',\n",
       "   'TotalCharges',\n",
       "   'CLTV',\n",
       "   'Gender',\n",
       "   'Dependents',\n",
       "   'PaperlessBilling',\n",
       "   'MultipleLines_No_phone_service',\n",
       "   'MultipleLines_Yes',\n",
       "   'InternetService_Fiber_optic',\n",
       "   'InternetService_No',\n",
       "   'OnlineSecurity_No_internet_service',\n",
       "   'OnlineSecurity_Yes',\n",
       "   'OnlineBackup_No_internet_service',\n",
       "   'OnlineBackup_Yes',\n",
       "   'DeviceProtection_No_internet_service',\n",
       "   'DeviceProtection_Yes',\n",
       "   'TechSupport_No_internet_service',\n",
       "   'TechSupport_Yes',\n",
       "   'StreamingTV_No_internet_service',\n",
       "   'StreamingTV_Yes',\n",
       "   'StreamingMovies_No_internet_service',\n",
       "   'StreamingMovies_Yes',\n",
       "   'Contract_One_year',\n",
       "   'Contract_Two_year'],\n",
       "  'Best: M2 f1': 0.6356228172293364,\n",
       "  'Best: Agreeability (cohen_kappa)': 0.7801653424260946,\n",
       "  'All: M1 Mean f1': 0.6312356798541913,\n",
       "  'All: M1 STD f1': 0.010103221558662407,\n",
       "  'All: M2 Mean f1': 0.6252909538455259,\n",
       "  'All: M2 STD f1': 0.006100109622779914,\n",
       "  'All: Mean Agreeability (cohen_kappa)': 0.7546004101483459,\n",
       "  'All: Agreeability St. Dev.': 0.032163199615443755},\n",
       " {'Best: M1 Included Features': ['Latitude',\n",
       "   'TenureMonths',\n",
       "   'MonthlyCharges',\n",
       "   'TotalCharges',\n",
       "   'SeniorCitizen',\n",
       "   'Partner',\n",
       "   'Dependents',\n",
       "   'PhoneService',\n",
       "   'PaperlessBilling',\n",
       "   'InternetService_Fiber_optic',\n",
       "   'InternetService_No',\n",
       "   'OnlineBackup_No_internet_service',\n",
       "   'OnlineBackup_Yes',\n",
       "   'DeviceProtection_No_internet_service',\n",
       "   'DeviceProtection_Yes',\n",
       "   'TechSupport_No_internet_service',\n",
       "   'TechSupport_Yes',\n",
       "   'StreamingTV_No_internet_service',\n",
       "   'StreamingTV_Yes',\n",
       "   'StreamingMovies_No_internet_service',\n",
       "   'StreamingMovies_Yes',\n",
       "   'Contract_One_year',\n",
       "   'Contract_Two_year'],\n",
       "  'Best: M1 f1': 0.6576354679802956,\n",
       "  'Best: M2 Included Features': ['Latitude',\n",
       "   'Longitude',\n",
       "   'TenureMonths',\n",
       "   'TotalCharges',\n",
       "   'CLTV',\n",
       "   'Gender',\n",
       "   'Dependents',\n",
       "   'PaperlessBilling',\n",
       "   'MultipleLines_No_phone_service',\n",
       "   'MultipleLines_Yes',\n",
       "   'InternetService_Fiber_optic',\n",
       "   'InternetService_No',\n",
       "   'OnlineSecurity_No_internet_service',\n",
       "   'OnlineSecurity_Yes',\n",
       "   'OnlineBackup_No_internet_service',\n",
       "   'OnlineBackup_Yes',\n",
       "   'DeviceProtection_No_internet_service',\n",
       "   'DeviceProtection_Yes',\n",
       "   'TechSupport_No_internet_service',\n",
       "   'TechSupport_Yes',\n",
       "   'StreamingTV_No_internet_service',\n",
       "   'StreamingTV_Yes',\n",
       "   'Contract_One_year',\n",
       "   'Contract_Two_year'],\n",
       "  'Best: M2 f1': 0.6308411214953271,\n",
       "  'Best: Agreeability (cohen_kappa)': 0.7474978947804359,\n",
       "  'All: M1 Mean f1': 0.6309451156511546,\n",
       "  'All: M1 STD f1': 0.011695947978154892,\n",
       "  'All: M2 Mean f1': 0.6218239510534606,\n",
       "  'All: M2 STD f1': 0.005429216759743157,\n",
       "  'All: Mean Agreeability (cohen_kappa)': 0.7470172398970379,\n",
       "  'All: Agreeability St. Dev.': 0.038618962005983255},\n",
       " {'Best: M1 Included Features': ['Latitude',\n",
       "   'TenureMonths',\n",
       "   'MonthlyCharges',\n",
       "   'TotalCharges',\n",
       "   'SeniorCitizen',\n",
       "   'Partner',\n",
       "   'Dependents',\n",
       "   'PhoneService',\n",
       "   'InternetService_Fiber_optic',\n",
       "   'InternetService_No',\n",
       "   'OnlineBackup_No_internet_service',\n",
       "   'OnlineBackup_Yes',\n",
       "   'DeviceProtection_No_internet_service',\n",
       "   'DeviceProtection_Yes',\n",
       "   'TechSupport_No_internet_service',\n",
       "   'TechSupport_Yes',\n",
       "   'StreamingTV_No_internet_service',\n",
       "   'StreamingTV_Yes',\n",
       "   'StreamingMovies_No_internet_service',\n",
       "   'StreamingMovies_Yes',\n",
       "   'Contract_One_year',\n",
       "   'Contract_Two_year'],\n",
       "  'Best: M1 f1': 0.6475716064757162,\n",
       "  'Best: M2 Included Features': ['Latitude',\n",
       "   'Longitude',\n",
       "   'TenureMonths',\n",
       "   'TotalCharges',\n",
       "   'CLTV',\n",
       "   'Gender',\n",
       "   'Dependents',\n",
       "   'PaperlessBilling',\n",
       "   'MultipleLines_No_phone_service',\n",
       "   'MultipleLines_Yes',\n",
       "   'InternetService_Fiber_optic',\n",
       "   'InternetService_No',\n",
       "   'OnlineSecurity_No_internet_service',\n",
       "   'OnlineSecurity_Yes',\n",
       "   'DeviceProtection_No_internet_service',\n",
       "   'DeviceProtection_Yes',\n",
       "   'TechSupport_No_internet_service',\n",
       "   'TechSupport_Yes',\n",
       "   'StreamingTV_No_internet_service',\n",
       "   'StreamingTV_Yes',\n",
       "   'Contract_One_year',\n",
       "   'Contract_Two_year'],\n",
       "  'Best: M2 f1': 0.6396181384248211,\n",
       "  'Best: Agreeability (cohen_kappa)': 0.7515811406662715,\n",
       "  'All: M1 Mean f1': 0.6325027952128541,\n",
       "  'All: M1 STD f1': 0.010549371170885842,\n",
       "  'All: M2 Mean f1': 0.6221415414388635,\n",
       "  'All: M2 STD f1': 0.00830071479546051,\n",
       "  'All: Mean Agreeability (cohen_kappa)': 0.7350849523828543,\n",
       "  'All: Agreeability St. Dev.': 0.03011628730923526},\n",
       " {'Best: M1 Included Features': ['Latitude',\n",
       "   'TenureMonths',\n",
       "   'MonthlyCharges',\n",
       "   'TotalCharges',\n",
       "   'SeniorCitizen',\n",
       "   'Partner',\n",
       "   'Dependents',\n",
       "   'InternetService_Fiber_optic',\n",
       "   'InternetService_No',\n",
       "   'OnlineBackup_No_internet_service',\n",
       "   'OnlineBackup_Yes',\n",
       "   'DeviceProtection_No_internet_service',\n",
       "   'DeviceProtection_Yes',\n",
       "   'TechSupport_No_internet_service',\n",
       "   'TechSupport_Yes',\n",
       "   'StreamingTV_No_internet_service',\n",
       "   'StreamingTV_Yes',\n",
       "   'StreamingMovies_No_internet_service',\n",
       "   'StreamingMovies_Yes',\n",
       "   'Contract_One_year',\n",
       "   'Contract_Two_year'],\n",
       "  'Best: M1 f1': 0.6495726495726496,\n",
       "  'Best: M2 Included Features': ['Longitude',\n",
       "   'TenureMonths',\n",
       "   'TotalCharges',\n",
       "   'CLTV',\n",
       "   'Gender',\n",
       "   'Dependents',\n",
       "   'PaperlessBilling',\n",
       "   'MultipleLines_No_phone_service',\n",
       "   'MultipleLines_Yes',\n",
       "   'InternetService_Fiber_optic',\n",
       "   'InternetService_No',\n",
       "   'OnlineSecurity_No_internet_service',\n",
       "   'OnlineSecurity_Yes',\n",
       "   'DeviceProtection_No_internet_service',\n",
       "   'DeviceProtection_Yes',\n",
       "   'TechSupport_No_internet_service',\n",
       "   'TechSupport_Yes',\n",
       "   'StreamingTV_No_internet_service',\n",
       "   'StreamingTV_Yes',\n",
       "   'Contract_One_year',\n",
       "   'Contract_Two_year'],\n",
       "  'Best: M2 f1': 0.6401816118047673,\n",
       "  'Best: Agreeability (cohen_kappa)': 0.7521225632025802,\n",
       "  'All: M1 Mean f1': 0.6337856145650171,\n",
       "  'All: M1 STD f1': 0.01124702721979457,\n",
       "  'All: M2 Mean f1': 0.6294612224862026,\n",
       "  'All: M2 STD f1': 0.005783502160980278,\n",
       "  'All: Mean Agreeability (cohen_kappa)': 0.7132306560787561,\n",
       "  'All: Agreeability St. Dev.': 0.037194194770062194},\n",
       " {'Best: M1 Included Features': ['Latitude',\n",
       "   'TenureMonths',\n",
       "   'MonthlyCharges',\n",
       "   'TotalCharges',\n",
       "   'SeniorCitizen',\n",
       "   'Partner',\n",
       "   'Dependents',\n",
       "   'InternetService_Fiber_optic',\n",
       "   'InternetService_No',\n",
       "   'OnlineBackup_No_internet_service',\n",
       "   'OnlineBackup_Yes',\n",
       "   'TechSupport_No_internet_service',\n",
       "   'TechSupport_Yes',\n",
       "   'StreamingTV_No_internet_service',\n",
       "   'StreamingTV_Yes',\n",
       "   'StreamingMovies_No_internet_service',\n",
       "   'StreamingMovies_Yes',\n",
       "   'Contract_One_year',\n",
       "   'Contract_Two_year'],\n",
       "  'Best: M1 f1': 0.6432889963724304,\n",
       "  'Best: M2 Included Features': ['Longitude',\n",
       "   'TenureMonths',\n",
       "   'TotalCharges',\n",
       "   'CLTV',\n",
       "   'Gender',\n",
       "   'Dependents',\n",
       "   'PaperlessBilling',\n",
       "   'MultipleLines_No_phone_service',\n",
       "   'MultipleLines_Yes',\n",
       "   'InternetService_Fiber_optic',\n",
       "   'InternetService_No',\n",
       "   'OnlineSecurity_No_internet_service',\n",
       "   'OnlineSecurity_Yes',\n",
       "   'DeviceProtection_No_internet_service',\n",
       "   'DeviceProtection_Yes',\n",
       "   'TechSupport_No_internet_service',\n",
       "   'TechSupport_Yes',\n",
       "   'Contract_One_year',\n",
       "   'Contract_Two_year'],\n",
       "  'Best: M2 f1': 0.6356033452807646,\n",
       "  'Best: Agreeability (cohen_kappa)': 0.7401572076595448,\n",
       "  'All: M1 Mean f1': 0.6275090880242097,\n",
       "  'All: M1 STD f1': 0.010114343011286322,\n",
       "  'All: M2 Mean f1': 0.6254581772274078,\n",
       "  'All: M2 STD f1': 0.006642341353054245,\n",
       "  'All: Mean Agreeability (cohen_kappa)': 0.7172958643009782,\n",
       "  'All: Agreeability St. Dev.': 0.026174572850495063},\n",
       " {'Best: M1 Included Features': ['Latitude',\n",
       "   'TenureMonths',\n",
       "   'MonthlyCharges',\n",
       "   'TotalCharges',\n",
       "   'Partner',\n",
       "   'Dependents',\n",
       "   'InternetService_Fiber_optic',\n",
       "   'InternetService_No',\n",
       "   'OnlineBackup_No_internet_service',\n",
       "   'OnlineBackup_Yes',\n",
       "   'TechSupport_No_internet_service',\n",
       "   'TechSupport_Yes',\n",
       "   'StreamingTV_No_internet_service',\n",
       "   'StreamingTV_Yes',\n",
       "   'StreamingMovies_No_internet_service',\n",
       "   'StreamingMovies_Yes',\n",
       "   'Contract_One_year',\n",
       "   'Contract_Two_year'],\n",
       "  'Best: M1 f1': 0.6495726495726496,\n",
       "  'Best: M2 Included Features': ['Longitude',\n",
       "   'TenureMonths',\n",
       "   'TotalCharges',\n",
       "   'CLTV',\n",
       "   'Gender',\n",
       "   'Dependents',\n",
       "   'PaperlessBilling',\n",
       "   'MultipleLines_No_phone_service',\n",
       "   'MultipleLines_Yes',\n",
       "   'InternetService_Fiber_optic',\n",
       "   'InternetService_No',\n",
       "   'DeviceProtection_No_internet_service',\n",
       "   'DeviceProtection_Yes',\n",
       "   'TechSupport_No_internet_service',\n",
       "   'TechSupport_Yes',\n",
       "   'Contract_One_year',\n",
       "   'Contract_Two_year'],\n",
       "  'Best: M2 f1': 0.6351039260969977,\n",
       "  'Best: Agreeability (cohen_kappa)': 0.7611289809842521,\n",
       "  'All: M1 Mean f1': 0.6199387917311296,\n",
       "  'All: M1 STD f1': 0.013084717910378005,\n",
       "  'All: M2 Mean f1': 0.6245846089127414,\n",
       "  'All: M2 STD f1': 0.005208613463818558,\n",
       "  'All: Mean Agreeability (cohen_kappa)': 0.7165996014807463,\n",
       "  'All: Agreeability St. Dev.': 0.030699092956906628},\n",
       " {'Best: M1 Included Features': ['Latitude',\n",
       "   'TenureMonths',\n",
       "   'MonthlyCharges',\n",
       "   'TotalCharges',\n",
       "   'Partner',\n",
       "   'Dependents',\n",
       "   'InternetService_Fiber_optic',\n",
       "   'InternetService_No',\n",
       "   'TechSupport_No_internet_service',\n",
       "   'TechSupport_Yes',\n",
       "   'StreamingTV_No_internet_service',\n",
       "   'StreamingTV_Yes',\n",
       "   'StreamingMovies_No_internet_service',\n",
       "   'StreamingMovies_Yes',\n",
       "   'Contract_One_year',\n",
       "   'Contract_Two_year'],\n",
       "  'Best: M1 f1': 0.6343825665859564,\n",
       "  'Best: M2 Included Features': ['Longitude',\n",
       "   'TenureMonths',\n",
       "   'TotalCharges',\n",
       "   'CLTV',\n",
       "   'Gender',\n",
       "   'Dependents',\n",
       "   'MultipleLines_No_phone_service',\n",
       "   'MultipleLines_Yes',\n",
       "   'InternetService_Fiber_optic',\n",
       "   'InternetService_No',\n",
       "   'DeviceProtection_No_internet_service',\n",
       "   'DeviceProtection_Yes',\n",
       "   'TechSupport_No_internet_service',\n",
       "   'TechSupport_Yes',\n",
       "   'Contract_One_year',\n",
       "   'Contract_Two_year'],\n",
       "  'Best: M2 f1': 0.6398104265402844,\n",
       "  'Best: Agreeability (cohen_kappa)': 0.7702053951596765,\n",
       "  'All: M1 Mean f1': 0.6182635849704988,\n",
       "  'All: M1 STD f1': 0.010842327310774903,\n",
       "  'All: M2 Mean f1': 0.626233074253178,\n",
       "  'All: M2 STD f1': 0.007501460254908739,\n",
       "  'All: Mean Agreeability (cohen_kappa)': 0.7203858784953376,\n",
       "  'All: Agreeability St. Dev.': 0.04072922146535127},\n",
       " {'Best: M1 Included Features': ['Latitude',\n",
       "   'TenureMonths',\n",
       "   'MonthlyCharges',\n",
       "   'TotalCharges',\n",
       "   'Partner',\n",
       "   'Dependents',\n",
       "   'InternetService_Fiber_optic',\n",
       "   'InternetService_No',\n",
       "   'TechSupport_No_internet_service',\n",
       "   'TechSupport_Yes',\n",
       "   'StreamingTV_No_internet_service',\n",
       "   'StreamingTV_Yes',\n",
       "   'Contract_One_year',\n",
       "   'Contract_Two_year'],\n",
       "  'Best: M1 f1': 0.6375757575757576,\n",
       "  'Best: M2 Included Features': ['Longitude',\n",
       "   'TenureMonths',\n",
       "   'TotalCharges',\n",
       "   'CLTV',\n",
       "   'Gender',\n",
       "   'Dependents',\n",
       "   'InternetService_Fiber_optic',\n",
       "   'InternetService_No',\n",
       "   'DeviceProtection_No_internet_service',\n",
       "   'DeviceProtection_Yes',\n",
       "   'TechSupport_No_internet_service',\n",
       "   'TechSupport_Yes',\n",
       "   'Contract_One_year',\n",
       "   'Contract_Two_year'],\n",
       "  'Best: M2 f1': 0.6339181286549708,\n",
       "  'Best: Agreeability (cohen_kappa)': 0.7554705383297851,\n",
       "  'All: M1 Mean f1': 0.622350228004229,\n",
       "  'All: M1 STD f1': 0.008880853905648366,\n",
       "  'All: M2 Mean f1': 0.6257246329154198,\n",
       "  'All: M2 STD f1': 0.006346677964796081,\n",
       "  'All: Mean Agreeability (cohen_kappa)': 0.7314835140155199,\n",
       "  'All: Agreeability St. Dev.': 0.0446257457959562},\n",
       " {'Best: M1 Included Features': ['Latitude',\n",
       "   'TenureMonths',\n",
       "   'MonthlyCharges',\n",
       "   'TotalCharges',\n",
       "   'Partner',\n",
       "   'Dependents',\n",
       "   'TechSupport_No_internet_service',\n",
       "   'TechSupport_Yes',\n",
       "   'StreamingTV_No_internet_service',\n",
       "   'StreamingTV_Yes',\n",
       "   'Contract_One_year',\n",
       "   'Contract_Two_year'],\n",
       "  'Best: M1 f1': 0.6324582338902148,\n",
       "  'Best: M2 Included Features': ['Longitude',\n",
       "   'TenureMonths',\n",
       "   'TotalCharges',\n",
       "   'CLTV',\n",
       "   'Gender',\n",
       "   'Dependents',\n",
       "   'InternetService_Fiber_optic',\n",
       "   'InternetService_No',\n",
       "   'TechSupport_No_internet_service',\n",
       "   'TechSupport_Yes',\n",
       "   'Contract_One_year',\n",
       "   'Contract_Two_year'],\n",
       "  'Best: M2 f1': 0.6317044100119189,\n",
       "  'Best: Agreeability (cohen_kappa)': 0.7791226508169501,\n",
       "  'All: M1 Mean f1': 0.6159099410521488,\n",
       "  'All: M1 STD f1': 0.013642808066167576,\n",
       "  'All: M2 Mean f1': 0.6230659768132795,\n",
       "  'All: M2 STD f1': 0.007024508349600738,\n",
       "  'All: Mean Agreeability (cohen_kappa)': 0.7298069075747987,\n",
       "  'All: Agreeability St. Dev.': 0.041254764180628234},\n",
       " {'Best: M1 Included Features': ['Latitude',\n",
       "   'MonthlyCharges',\n",
       "   'TotalCharges',\n",
       "   'Partner',\n",
       "   'Dependents',\n",
       "   'TechSupport_No_internet_service',\n",
       "   'TechSupport_Yes',\n",
       "   'StreamingTV_No_internet_service',\n",
       "   'StreamingTV_Yes',\n",
       "   'Contract_One_year',\n",
       "   'Contract_Two_year'],\n",
       "  'Best: M1 f1': 0.6322115384615384,\n",
       "  'Best: M2 Included Features': ['Longitude',\n",
       "   'TenureMonths',\n",
       "   'TotalCharges',\n",
       "   'CLTV',\n",
       "   'Gender',\n",
       "   'InternetService_Fiber_optic',\n",
       "   'InternetService_No',\n",
       "   'TechSupport_No_internet_service',\n",
       "   'TechSupport_Yes',\n",
       "   'Contract_One_year',\n",
       "   'Contract_Two_year'],\n",
       "  'Best: M2 f1': 0.6332945285215367,\n",
       "  'Best: Agreeability (cohen_kappa)': 0.7233145285135705,\n",
       "  'All: M1 Mean f1': 0.6160098026627421,\n",
       "  'All: M1 STD f1': 0.013784001337391305,\n",
       "  'All: M2 Mean f1': 0.6250812842810648,\n",
       "  'All: M2 STD f1': 0.006221661345469834,\n",
       "  'All: Mean Agreeability (cohen_kappa)': 0.7325110743745076,\n",
       "  'All: Agreeability St. Dev.': 0.03790338530811712},\n",
       " {'Best: M1 Included Features': ['Latitude',\n",
       "   'MonthlyCharges',\n",
       "   'TotalCharges',\n",
       "   'Partner',\n",
       "   'Dependents',\n",
       "   'TechSupport_No_internet_service',\n",
       "   'TechSupport_Yes',\n",
       "   'Contract_One_year',\n",
       "   'Contract_Two_year'],\n",
       "  'Best: M1 f1': 0.634088200238379,\n",
       "  'Best: M2 Included Features': ['TenureMonths',\n",
       "   'TotalCharges',\n",
       "   'CLTV',\n",
       "   'Gender',\n",
       "   'InternetService_Fiber_optic',\n",
       "   'InternetService_No',\n",
       "   'TechSupport_No_internet_service',\n",
       "   'TechSupport_Yes',\n",
       "   'Contract_One_year',\n",
       "   'Contract_Two_year'],\n",
       "  'Best: M2 f1': 0.6364692218350756,\n",
       "  'Best: Agreeability (cohen_kappa)': 0.7261797272252054,\n",
       "  'All: M1 Mean f1': 0.6081952602172582,\n",
       "  'All: M1 STD f1': 0.018822426385320005,\n",
       "  'All: M2 Mean f1': 0.6205087517909376,\n",
       "  'All: M2 STD f1': 0.00816037725549731,\n",
       "  'All: Mean Agreeability (cohen_kappa)': 0.6738270110881996,\n",
       "  'All: Agreeability St. Dev.': 0.04695474980630611},\n",
       " {'Best: M1 Included Features': ['Latitude',\n",
       "   'MonthlyCharges',\n",
       "   'TotalCharges',\n",
       "   'Dependents',\n",
       "   'TechSupport_No_internet_service',\n",
       "   'TechSupport_Yes',\n",
       "   'Contract_One_year',\n",
       "   'Contract_Two_year'],\n",
       "  'Best: M1 f1': 0.6258992805755396,\n",
       "  'Best: M2 Included Features': ['TenureMonths',\n",
       "   'CLTV',\n",
       "   'Gender',\n",
       "   'InternetService_Fiber_optic',\n",
       "   'InternetService_No',\n",
       "   'TechSupport_No_internet_service',\n",
       "   'TechSupport_Yes',\n",
       "   'Contract_One_year',\n",
       "   'Contract_Two_year'],\n",
       "  'Best: M2 f1': 0.6254375729288215,\n",
       "  'Best: Agreeability (cohen_kappa)': 0.7040888364431317,\n",
       "  'All: M1 Mean f1': 0.6024106873248912,\n",
       "  'All: M1 STD f1': 0.013676392100145422,\n",
       "  'All: M2 Mean f1': 0.6150413680579436,\n",
       "  'All: M2 STD f1': 0.0100895804369182,\n",
       "  'All: Mean Agreeability (cohen_kappa)': 0.6521528324627643,\n",
       "  'All: Agreeability St. Dev.': 0.05200785326982374},\n",
       " {'Best: M1 Included Features': ['Latitude',\n",
       "   'MonthlyCharges',\n",
       "   'TotalCharges',\n",
       "   'TechSupport_No_internet_service',\n",
       "   'TechSupport_Yes',\n",
       "   'Contract_One_year',\n",
       "   'Contract_Two_year'],\n",
       "  'Best: M1 f1': 0.6206896551724138,\n",
       "  'Best: M2 Included Features': ['TenureMonths',\n",
       "   'Gender',\n",
       "   'InternetService_Fiber_optic',\n",
       "   'InternetService_No',\n",
       "   'TechSupport_No_internet_service',\n",
       "   'TechSupport_Yes',\n",
       "   'Contract_One_year',\n",
       "   'Contract_Two_year'],\n",
       "  'Best: M2 f1': 0.6266666666666666,\n",
       "  'Best: Agreeability (cohen_kappa)': 0.7585859536289318,\n",
       "  'All: M1 Mean f1': 0.6003297934129749,\n",
       "  'All: M1 STD f1': 0.013911569539627524,\n",
       "  'All: M2 Mean f1': 0.6093450266706785,\n",
       "  'All: M2 STD f1': 0.013637449249161477,\n",
       "  'All: Mean Agreeability (cohen_kappa)': 0.6498470117863389,\n",
       "  'All: Agreeability St. Dev.': 0.054823711510372686},\n",
       " {'Best: M1 Included Features': ['Latitude',\n",
       "   'MonthlyCharges',\n",
       "   'TotalCharges',\n",
       "   'Contract_One_year',\n",
       "   'Contract_Two_year'],\n",
       "  'Best: M1 f1': 0.6048667439165701,\n",
       "  'Best: M2 Included Features': ['TenureMonths',\n",
       "   'InternetService_Fiber_optic',\n",
       "   'InternetService_No',\n",
       "   'TechSupport_No_internet_service',\n",
       "   'TechSupport_Yes',\n",
       "   'Contract_One_year',\n",
       "   'Contract_Two_year'],\n",
       "  'Best: M2 f1': 0.6199342825848849,\n",
       "  'Best: Agreeability (cohen_kappa)': 0.6747040771591408,\n",
       "  'All: M1 Mean f1': 0.5765582911681467,\n",
       "  'All: M1 STD f1': 0.017891867976727777,\n",
       "  'All: M2 Mean f1': 0.6041221141125641,\n",
       "  'All: M2 STD f1': 0.012933838158840399,\n",
       "  'All: Mean Agreeability (cohen_kappa)': 0.6553324253626233,\n",
       "  'All: Agreeability St. Dev.': 0.03640676865850453},\n",
       " {'Best: M1 Included Features': ['Latitude', 'MonthlyCharges', 'TotalCharges'],\n",
       "  'Best: M1 f1': 0.5704142011834319,\n",
       "  'Best: M2 Included Features': ['TenureMonths',\n",
       "   'InternetService_Fiber_optic',\n",
       "   'InternetService_No',\n",
       "   'Contract_One_year',\n",
       "   'Contract_Two_year'],\n",
       "  'Best: M2 f1': 0.618181818181818,\n",
       "  'Best: Agreeability (cohen_kappa)': 0.5876560576754001,\n",
       "  'All: M1 Mean f1': 0.5487793420643754,\n",
       "  'All: M1 STD f1': 0.013492733518727594,\n",
       "  'All: M2 Mean f1': 0.6048866699036839,\n",
       "  'All: M2 STD f1': 0.010516909807279335,\n",
       "  'All: Mean Agreeability (cohen_kappa)': 0.5671174506942329,\n",
       "  'All: Agreeability St. Dev.': 0.0587969410604516},\n",
       " {'Best: M1 Included Features': ['MonthlyCharges', 'TotalCharges'],\n",
       "  'Best: M1 f1': 0.51539338654504,\n",
       "  'Best: M2 Included Features': ['TenureMonths',\n",
       "   'InternetService_Fiber_optic',\n",
       "   'InternetService_No'],\n",
       "  'Best: M2 f1': 0.6049237983587338,\n",
       "  'Best: Agreeability (cohen_kappa)': 0.5828704281612782,\n",
       "  'All: M1 Mean f1': 0.4430465052397879,\n",
       "  'All: M1 STD f1': 0.051157079007376115,\n",
       "  'All: M2 Mean f1': 0.5901019739958745,\n",
       "  'All: M2 STD f1': 0.012822502252106408,\n",
       "  'All: Mean Agreeability (cohen_kappa)': 0.2713937328976814,\n",
       "  'All: Agreeability St. Dev.': 0.2228496369752019},\n",
       " {'Best: M1 Included Features': ['TotalCharges'],\n",
       "  'Best: M1 f1': 0.37790697674418605,\n",
       "  'Best: M2 Included Features': ['TenureMonths'],\n",
       "  'Best: M2 f1': 0.5430167597765363,\n",
       "  'Best: Agreeability (cohen_kappa)': 0.20806292452082717,\n",
       "  'All: M1 Mean f1': 0.3701615420633682,\n",
       "  'All: M1 STD f1': 0.007745434680817842,\n",
       "  'All: M2 Mean f1': 0.5380394073552062,\n",
       "  'All: M2 STD f1': 0.004977352421330183,\n",
       "  'All: Mean Agreeability (cohen_kappa)': 0.21590486798649375,\n",
       "  'All: Agreeability St. Dev.': 0.007841943465666579}]"
      ]
     },
     "execution_count": 101,
     "metadata": {},
     "output_type": "execute_result"
    }
   ],
   "source": [
    "results"
   ]
  },
  {
   "cell_type": "code",
   "execution_count": 102,
   "metadata": {},
   "outputs": [],
   "source": [
    "results_df = seeker.dataframe_from_results()"
   ]
  },
  {
   "cell_type": "code",
   "execution_count": 109,
   "metadata": {},
   "outputs": [],
   "source": [
    "RESULTS_PATH = 'test_results/rfc_mlp/rfc_mlp.pkl'\n",
    "\n",
    "with open(RESULTS_PATH, 'wb') as f:\n",
    "    pickle.dump(results_df, f)"
   ]
  },
  {
   "cell_type": "code",
   "execution_count": 103,
   "metadata": {},
   "outputs": [
    {
     "data": {
      "application/vnd.plotly.v1+json": {
       "config": {
        "plotlyServerURL": "https://plot.ly"
       },
       "data": [
        {
         "hoverinfo": "text",
         "hovertext": [
          "<br> Best: Agreeability (cohen_kappa): <br> 0.7438 <br> All: Mean Agreeability (cohen_kappa): <br> 0.7438 <br> All: Agreeability St. Dev.: <br> 0.0000",
          "<br> Best: Agreeability (cohen_kappa): <br> 0.7817 <br> All: Mean Agreeability (cohen_kappa): <br> 0.7612 <br> All: Agreeability St. Dev.: <br> 0.0254",
          "<br> Best: Agreeability (cohen_kappa): <br> 0.7612 <br> All: Mean Agreeability (cohen_kappa): <br> 0.7607 <br> All: Agreeability St. Dev.: <br> 0.0324",
          "<br> Best: Agreeability (cohen_kappa): <br> 0.7978 <br> All: Mean Agreeability (cohen_kappa): <br> 0.7466 <br> All: Agreeability St. Dev.: <br> 0.0259",
          "<br> Best: Agreeability (cohen_kappa): <br> 0.7785 <br> All: Mean Agreeability (cohen_kappa): <br> 0.7622 <br> All: Agreeability St. Dev.: <br> 0.0333",
          "<br> Best: Agreeability (cohen_kappa): <br> 0.7802 <br> All: Mean Agreeability (cohen_kappa): <br> 0.7546 <br> All: Agreeability St. Dev.: <br> 0.0322",
          "<br> Best: Agreeability (cohen_kappa): <br> 0.7475 <br> All: Mean Agreeability (cohen_kappa): <br> 0.7470 <br> All: Agreeability St. Dev.: <br> 0.0386",
          "<br> Best: Agreeability (cohen_kappa): <br> 0.7516 <br> All: Mean Agreeability (cohen_kappa): <br> 0.7351 <br> All: Agreeability St. Dev.: <br> 0.0301",
          "<br> Best: Agreeability (cohen_kappa): <br> 0.7521 <br> All: Mean Agreeability (cohen_kappa): <br> 0.7132 <br> All: Agreeability St. Dev.: <br> 0.0372",
          "<br> Best: Agreeability (cohen_kappa): <br> 0.7402 <br> All: Mean Agreeability (cohen_kappa): <br> 0.7173 <br> All: Agreeability St. Dev.: <br> 0.0262",
          "<br> Best: Agreeability (cohen_kappa): <br> 0.7611 <br> All: Mean Agreeability (cohen_kappa): <br> 0.7166 <br> All: Agreeability St. Dev.: <br> 0.0307",
          "<br> Best: Agreeability (cohen_kappa): <br> 0.7702 <br> All: Mean Agreeability (cohen_kappa): <br> 0.7204 <br> All: Agreeability St. Dev.: <br> 0.0407",
          "<br> Best: Agreeability (cohen_kappa): <br> 0.7555 <br> All: Mean Agreeability (cohen_kappa): <br> 0.7315 <br> All: Agreeability St. Dev.: <br> 0.0446",
          "<br> Best: Agreeability (cohen_kappa): <br> 0.7791 <br> All: Mean Agreeability (cohen_kappa): <br> 0.7298 <br> All: Agreeability St. Dev.: <br> 0.0413",
          "<br> Best: Agreeability (cohen_kappa): <br> 0.7233 <br> All: Mean Agreeability (cohen_kappa): <br> 0.7325 <br> All: Agreeability St. Dev.: <br> 0.0379",
          "<br> Best: Agreeability (cohen_kappa): <br> 0.7262 <br> All: Mean Agreeability (cohen_kappa): <br> 0.6738 <br> All: Agreeability St. Dev.: <br> 0.0470",
          "<br> Best: Agreeability (cohen_kappa): <br> 0.7041 <br> All: Mean Agreeability (cohen_kappa): <br> 0.6522 <br> All: Agreeability St. Dev.: <br> 0.0520",
          "<br> Best: Agreeability (cohen_kappa): <br> 0.7586 <br> All: Mean Agreeability (cohen_kappa): <br> 0.6498 <br> All: Agreeability St. Dev.: <br> 0.0548",
          "<br> Best: Agreeability (cohen_kappa): <br> 0.6747 <br> All: Mean Agreeability (cohen_kappa): <br> 0.6553 <br> All: Agreeability St. Dev.: <br> 0.0364",
          "<br> Best: Agreeability (cohen_kappa): <br> 0.5877 <br> All: Mean Agreeability (cohen_kappa): <br> 0.5671 <br> All: Agreeability St. Dev.: <br> 0.0588",
          "<br> Best: Agreeability (cohen_kappa): <br> 0.5829 <br> All: Mean Agreeability (cohen_kappa): <br> 0.2714 <br> All: Agreeability St. Dev.: <br> 0.2228",
          "<br> Best: Agreeability (cohen_kappa): <br> 0.2081 <br> All: Mean Agreeability (cohen_kappa): <br> 0.2159 <br> All: Agreeability St. Dev.: <br> 0.0078"
         ],
         "mode": "lines+markers",
         "name": "Best: Agreeability (cohen_kappa)",
         "type": "scatter",
         "x": [
          1,
          2,
          3,
          4,
          5,
          6,
          7,
          8,
          9,
          10,
          11,
          12,
          13,
          14,
          15,
          16,
          17,
          18,
          19,
          20,
          21,
          22
         ],
         "xaxis": "x",
         "y": [
          0.7437976659217482,
          0.7817300120197288,
          0.761154335832508,
          0.7977720681778496,
          0.7784786875610089,
          0.7801653424260946,
          0.7474978947804359,
          0.7515811406662715,
          0.7521225632025802,
          0.7401572076595448,
          0.7611289809842521,
          0.7702053951596765,
          0.7554705383297851,
          0.7791226508169501,
          0.7233145285135705,
          0.7261797272252054,
          0.7040888364431317,
          0.7585859536289318,
          0.6747040771591408,
          0.5876560576754001,
          0.5828704281612782,
          0.20806292452082717
         ],
         "yaxis": "y"
        },
        {
         "hoverinfo": "text",
         "hovertext": [
          "<br> Best: M1 f1: <br> 0.6071 <br> Best: M1 Included Features: <br> Latitude, Longitude, TenureMonths, MonthlyCharges, TotalCharges, CLTV, Gender, SeniorCitizen, Partner, Dependents, PhoneService, PaperlessBilling, MultipleLines_No_phone_service, MultipleLines_Yes, InternetService_Fiber_optic, InternetService_No, OnlineSecurity_No_internet_service, OnlineSecurity_Yes, OnlineBackup_No_internet_service, OnlineBackup_Yes, DeviceProtection_No_internet_service, DeviceProtection_Yes, TechSupport_No_internet_service, TechSupport_Yes, StreamingTV_No_internet_service, StreamingTV_Yes, StreamingMovies_No_internet_service, StreamingMovies_Yes, Contract_One_year, Contract_Two_year, PaymentMethod_Credit_card_(automatic), PaymentMethod_Electronic_check, PaymentMethod_Mailed_check <br> All: M1 Mean f1: <br> 0.6071 <br> All: M1 STD f1: <br> 0.0000",
          "<br> Best: M1 f1: <br> 0.6332 <br> Best: M1 Included Features: <br> Latitude, Longitude, TenureMonths, MonthlyCharges, TotalCharges, CLTV, Gender, SeniorCitizen, Partner, Dependents, PhoneService, PaperlessBilling, MultipleLines_No_phone_service, MultipleLines_Yes, InternetService_Fiber_optic, InternetService_No, OnlineBackup_No_internet_service, OnlineBackup_Yes, DeviceProtection_No_internet_service, DeviceProtection_Yes, TechSupport_No_internet_service, TechSupport_Yes, StreamingTV_No_internet_service, StreamingTV_Yes, StreamingMovies_No_internet_service, StreamingMovies_Yes, Contract_One_year, Contract_Two_year, PaymentMethod_Credit_card_(automatic), PaymentMethod_Electronic_check, PaymentMethod_Mailed_check <br> All: M1 Mean f1: <br> 0.6101 <br> All: M1 STD f1: <br> 0.0112",
          "<br> Best: M1 f1: <br> 0.6369 <br> Best: M1 Included Features: <br> Latitude, Longitude, TenureMonths, MonthlyCharges, TotalCharges, CLTV, SeniorCitizen, Partner, Dependents, PhoneService, PaperlessBilling, MultipleLines_No_phone_service, MultipleLines_Yes, InternetService_Fiber_optic, InternetService_No, OnlineBackup_No_internet_service, OnlineBackup_Yes, DeviceProtection_No_internet_service, DeviceProtection_Yes, TechSupport_No_internet_service, TechSupport_Yes, StreamingTV_No_internet_service, StreamingTV_Yes, StreamingMovies_No_internet_service, StreamingMovies_Yes, Contract_One_year, Contract_Two_year, PaymentMethod_Credit_card_(automatic), PaymentMethod_Electronic_check, PaymentMethod_Mailed_check <br> All: M1 Mean f1: <br> 0.6236 <br> All: M1 STD f1: <br> 0.0094",
          "<br> Best: M1 f1: <br> 0.6361 <br> Best: M1 Included Features: <br> Latitude, Longitude, TenureMonths, MonthlyCharges, TotalCharges, CLTV, SeniorCitizen, Partner, Dependents, PhoneService, PaperlessBilling, MultipleLines_No_phone_service, MultipleLines_Yes, InternetService_Fiber_optic, InternetService_No, OnlineBackup_No_internet_service, OnlineBackup_Yes, DeviceProtection_No_internet_service, DeviceProtection_Yes, TechSupport_No_internet_service, TechSupport_Yes, StreamingTV_No_internet_service, StreamingTV_Yes, StreamingMovies_No_internet_service, StreamingMovies_Yes, Contract_One_year, Contract_Two_year <br> All: M1 Mean f1: <br> 0.6244 <br> All: M1 STD f1: <br> 0.0082",
          "<br> Best: M1 f1: <br> 0.6401 <br> Best: M1 Included Features: <br> Latitude, TenureMonths, MonthlyCharges, TotalCharges, CLTV, SeniorCitizen, Partner, Dependents, PhoneService, PaperlessBilling, MultipleLines_No_phone_service, MultipleLines_Yes, InternetService_Fiber_optic, InternetService_No, OnlineBackup_No_internet_service, OnlineBackup_Yes, DeviceProtection_No_internet_service, DeviceProtection_Yes, TechSupport_No_internet_service, TechSupport_Yes, StreamingTV_No_internet_service, StreamingTV_Yes, StreamingMovies_No_internet_service, StreamingMovies_Yes, Contract_One_year, Contract_Two_year <br> All: M1 Mean f1: <br> 0.6233 <br> All: M1 STD f1: <br> 0.0083",
          "<br> Best: M1 f1: <br> 0.6535 <br> Best: M1 Included Features: <br> Latitude, TenureMonths, MonthlyCharges, TotalCharges, CLTV, SeniorCitizen, Partner, Dependents, PhoneService, PaperlessBilling, InternetService_Fiber_optic, InternetService_No, OnlineBackup_No_internet_service, OnlineBackup_Yes, DeviceProtection_No_internet_service, DeviceProtection_Yes, TechSupport_No_internet_service, TechSupport_Yes, StreamingTV_No_internet_service, StreamingTV_Yes, StreamingMovies_No_internet_service, StreamingMovies_Yes, Contract_One_year, Contract_Two_year <br> All: M1 Mean f1: <br> 0.6312 <br> All: M1 STD f1: <br> 0.0101",
          "<br> Best: M1 f1: <br> 0.6576 <br> Best: M1 Included Features: <br> Latitude, TenureMonths, MonthlyCharges, TotalCharges, SeniorCitizen, Partner, Dependents, PhoneService, PaperlessBilling, InternetService_Fiber_optic, InternetService_No, OnlineBackup_No_internet_service, OnlineBackup_Yes, DeviceProtection_No_internet_service, DeviceProtection_Yes, TechSupport_No_internet_service, TechSupport_Yes, StreamingTV_No_internet_service, StreamingTV_Yes, StreamingMovies_No_internet_service, StreamingMovies_Yes, Contract_One_year, Contract_Two_year <br> All: M1 Mean f1: <br> 0.6309 <br> All: M1 STD f1: <br> 0.0117",
          "<br> Best: M1 f1: <br> 0.6476 <br> Best: M1 Included Features: <br> Latitude, TenureMonths, MonthlyCharges, TotalCharges, SeniorCitizen, Partner, Dependents, PhoneService, InternetService_Fiber_optic, InternetService_No, OnlineBackup_No_internet_service, OnlineBackup_Yes, DeviceProtection_No_internet_service, DeviceProtection_Yes, TechSupport_No_internet_service, TechSupport_Yes, StreamingTV_No_internet_service, StreamingTV_Yes, StreamingMovies_No_internet_service, StreamingMovies_Yes, Contract_One_year, Contract_Two_year <br> All: M1 Mean f1: <br> 0.6325 <br> All: M1 STD f1: <br> 0.0105",
          "<br> Best: M1 f1: <br> 0.6496 <br> Best: M1 Included Features: <br> Latitude, TenureMonths, MonthlyCharges, TotalCharges, SeniorCitizen, Partner, Dependents, InternetService_Fiber_optic, InternetService_No, OnlineBackup_No_internet_service, OnlineBackup_Yes, DeviceProtection_No_internet_service, DeviceProtection_Yes, TechSupport_No_internet_service, TechSupport_Yes, StreamingTV_No_internet_service, StreamingTV_Yes, StreamingMovies_No_internet_service, StreamingMovies_Yes, Contract_One_year, Contract_Two_year <br> All: M1 Mean f1: <br> 0.6338 <br> All: M1 STD f1: <br> 0.0112",
          "<br> Best: M1 f1: <br> 0.6433 <br> Best: M1 Included Features: <br> Latitude, TenureMonths, MonthlyCharges, TotalCharges, SeniorCitizen, Partner, Dependents, InternetService_Fiber_optic, InternetService_No, OnlineBackup_No_internet_service, OnlineBackup_Yes, TechSupport_No_internet_service, TechSupport_Yes, StreamingTV_No_internet_service, StreamingTV_Yes, StreamingMovies_No_internet_service, StreamingMovies_Yes, Contract_One_year, Contract_Two_year <br> All: M1 Mean f1: <br> 0.6275 <br> All: M1 STD f1: <br> 0.0101",
          "<br> Best: M1 f1: <br> 0.6496 <br> Best: M1 Included Features: <br> Latitude, TenureMonths, MonthlyCharges, TotalCharges, Partner, Dependents, InternetService_Fiber_optic, InternetService_No, OnlineBackup_No_internet_service, OnlineBackup_Yes, TechSupport_No_internet_service, TechSupport_Yes, StreamingTV_No_internet_service, StreamingTV_Yes, StreamingMovies_No_internet_service, StreamingMovies_Yes, Contract_One_year, Contract_Two_year <br> All: M1 Mean f1: <br> 0.6199 <br> All: M1 STD f1: <br> 0.0131",
          "<br> Best: M1 f1: <br> 0.6344 <br> Best: M1 Included Features: <br> Latitude, TenureMonths, MonthlyCharges, TotalCharges, Partner, Dependents, InternetService_Fiber_optic, InternetService_No, TechSupport_No_internet_service, TechSupport_Yes, StreamingTV_No_internet_service, StreamingTV_Yes, StreamingMovies_No_internet_service, StreamingMovies_Yes, Contract_One_year, Contract_Two_year <br> All: M1 Mean f1: <br> 0.6183 <br> All: M1 STD f1: <br> 0.0108",
          "<br> Best: M1 f1: <br> 0.6376 <br> Best: M1 Included Features: <br> Latitude, TenureMonths, MonthlyCharges, TotalCharges, Partner, Dependents, InternetService_Fiber_optic, InternetService_No, TechSupport_No_internet_service, TechSupport_Yes, StreamingTV_No_internet_service, StreamingTV_Yes, Contract_One_year, Contract_Two_year <br> All: M1 Mean f1: <br> 0.6224 <br> All: M1 STD f1: <br> 0.0089",
          "<br> Best: M1 f1: <br> 0.6325 <br> Best: M1 Included Features: <br> Latitude, TenureMonths, MonthlyCharges, TotalCharges, Partner, Dependents, TechSupport_No_internet_service, TechSupport_Yes, StreamingTV_No_internet_service, StreamingTV_Yes, Contract_One_year, Contract_Two_year <br> All: M1 Mean f1: <br> 0.6159 <br> All: M1 STD f1: <br> 0.0136",
          "<br> Best: M1 f1: <br> 0.6322 <br> Best: M1 Included Features: <br> Latitude, MonthlyCharges, TotalCharges, Partner, Dependents, TechSupport_No_internet_service, TechSupport_Yes, StreamingTV_No_internet_service, StreamingTV_Yes, Contract_One_year, Contract_Two_year <br> All: M1 Mean f1: <br> 0.6160 <br> All: M1 STD f1: <br> 0.0138",
          "<br> Best: M1 f1: <br> 0.6341 <br> Best: M1 Included Features: <br> Latitude, MonthlyCharges, TotalCharges, Partner, Dependents, TechSupport_No_internet_service, TechSupport_Yes, Contract_One_year, Contract_Two_year <br> All: M1 Mean f1: <br> 0.6082 <br> All: M1 STD f1: <br> 0.0188",
          "<br> Best: M1 f1: <br> 0.6259 <br> Best: M1 Included Features: <br> Latitude, MonthlyCharges, TotalCharges, Dependents, TechSupport_No_internet_service, TechSupport_Yes, Contract_One_year, Contract_Two_year <br> All: M1 Mean f1: <br> 0.6024 <br> All: M1 STD f1: <br> 0.0137",
          "<br> Best: M1 f1: <br> 0.6207 <br> Best: M1 Included Features: <br> Latitude, MonthlyCharges, TotalCharges, TechSupport_No_internet_service, TechSupport_Yes, Contract_One_year, Contract_Two_year <br> All: M1 Mean f1: <br> 0.6003 <br> All: M1 STD f1: <br> 0.0139",
          "<br> Best: M1 f1: <br> 0.6049 <br> Best: M1 Included Features: <br> Latitude, MonthlyCharges, TotalCharges, Contract_One_year, Contract_Two_year <br> All: M1 Mean f1: <br> 0.5766 <br> All: M1 STD f1: <br> 0.0179",
          "<br> Best: M1 f1: <br> 0.5704 <br> Best: M1 Included Features: <br> Latitude, MonthlyCharges, TotalCharges <br> All: M1 Mean f1: <br> 0.5488 <br> All: M1 STD f1: <br> 0.0135",
          "<br> Best: M1 f1: <br> 0.5154 <br> Best: M1 Included Features: <br> MonthlyCharges, TotalCharges <br> All: M1 Mean f1: <br> 0.4430 <br> All: M1 STD f1: <br> 0.0512",
          "<br> Best: M1 f1: <br> 0.3779 <br> Best: M1 Included Features: <br> TotalCharges <br> All: M1 Mean f1: <br> 0.3702 <br> All: M1 STD f1: <br> 0.0077"
         ],
         "mode": "lines+markers",
         "name": "Best: M1 f1",
         "type": "scatter",
         "x": [
          1,
          2,
          3,
          4,
          5,
          6,
          7,
          8,
          9,
          10,
          11,
          12,
          13,
          14,
          15,
          16,
          17,
          18,
          19,
          20,
          21,
          22
         ],
         "xaxis": "x",
         "y": [
          0.607095926412615,
          0.6331658291457286,
          0.6369426751592356,
          0.636138613861386,
          0.6400996264009963,
          0.6535141800246609,
          0.6576354679802956,
          0.6475716064757162,
          0.6495726495726496,
          0.6432889963724304,
          0.6495726495726496,
          0.6343825665859564,
          0.6375757575757576,
          0.6324582338902148,
          0.6322115384615384,
          0.634088200238379,
          0.6258992805755396,
          0.6206896551724138,
          0.6048667439165701,
          0.5704142011834319,
          0.51539338654504,
          0.37790697674418605
         ],
         "yaxis": "y2"
        },
        {
         "hoverinfo": "text",
         "hovertext": [
          "<br> Best: M2 f1: <br> 0.6292 <br> Best: M2 Included Features: <br> Latitude, Longitude, TenureMonths, MonthlyCharges, TotalCharges, CLTV, Gender, SeniorCitizen, Partner, Dependents, PhoneService, PaperlessBilling, MultipleLines_No_phone_service, MultipleLines_Yes, InternetService_Fiber_optic, InternetService_No, OnlineSecurity_No_internet_service, OnlineSecurity_Yes, OnlineBackup_No_internet_service, OnlineBackup_Yes, DeviceProtection_No_internet_service, DeviceProtection_Yes, TechSupport_No_internet_service, TechSupport_Yes, StreamingTV_No_internet_service, StreamingTV_Yes, StreamingMovies_No_internet_service, StreamingMovies_Yes, Contract_One_year, Contract_Two_year, PaymentMethod_Credit_card_(automatic), PaymentMethod_Electronic_check, PaymentMethod_Mailed_check <br> All: M2 Mean f1: <br> 0.6292 <br> All: M2 STD f1: <br> 0.0000",
          "<br> Best: M2 f1: <br> 0.6448 <br> Best: M2 Included Features: <br> Latitude, Longitude, TenureMonths, MonthlyCharges, TotalCharges, CLTV, Gender, Partner, Dependents, PhoneService, PaperlessBilling, MultipleLines_No_phone_service, MultipleLines_Yes, InternetService_Fiber_optic, InternetService_No, OnlineSecurity_No_internet_service, OnlineSecurity_Yes, OnlineBackup_No_internet_service, OnlineBackup_Yes, DeviceProtection_No_internet_service, DeviceProtection_Yes, TechSupport_No_internet_service, TechSupport_Yes, StreamingTV_No_internet_service, StreamingTV_Yes, StreamingMovies_No_internet_service, StreamingMovies_Yes, Contract_One_year, Contract_Two_year, PaymentMethod_Credit_card_(automatic), PaymentMethod_Electronic_check, PaymentMethod_Mailed_check <br> All: M2 Mean f1: <br> 0.6318 <br> All: M2 STD f1: <br> 0.0071",
          "<br> Best: M2 f1: <br> 0.6445 <br> Best: M2 Included Features: <br> Latitude, Longitude, TenureMonths, TotalCharges, CLTV, Gender, Partner, Dependents, PhoneService, PaperlessBilling, MultipleLines_No_phone_service, MultipleLines_Yes, InternetService_Fiber_optic, InternetService_No, OnlineSecurity_No_internet_service, OnlineSecurity_Yes, OnlineBackup_No_internet_service, OnlineBackup_Yes, DeviceProtection_No_internet_service, DeviceProtection_Yes, TechSupport_No_internet_service, TechSupport_Yes, StreamingTV_No_internet_service, StreamingTV_Yes, StreamingMovies_No_internet_service, StreamingMovies_Yes, Contract_One_year, Contract_Two_year, PaymentMethod_Credit_card_(automatic), PaymentMethod_Electronic_check, PaymentMethod_Mailed_check <br> All: M2 Mean f1: <br> 0.6320 <br> All: M2 STD f1: <br> 0.0055",
          "<br> Best: M2 f1: <br> 0.6477 <br> Best: M2 Included Features: <br> Latitude, Longitude, TenureMonths, TotalCharges, CLTV, Gender, Dependents, PhoneService, PaperlessBilling, MultipleLines_No_phone_service, MultipleLines_Yes, InternetService_Fiber_optic, InternetService_No, OnlineSecurity_No_internet_service, OnlineSecurity_Yes, OnlineBackup_No_internet_service, OnlineBackup_Yes, DeviceProtection_No_internet_service, DeviceProtection_Yes, TechSupport_No_internet_service, TechSupport_Yes, StreamingTV_No_internet_service, StreamingTV_Yes, StreamingMovies_No_internet_service, StreamingMovies_Yes, Contract_One_year, Contract_Two_year, PaymentMethod_Credit_card_(automatic), PaymentMethod_Electronic_check, PaymentMethod_Mailed_check <br> All: M2 Mean f1: <br> 0.6346 <br> All: M2 STD f1: <br> 0.0075",
          "<br> Best: M2 f1: <br> 0.6461 <br> Best: M2 Included Features: <br> Latitude, Longitude, TenureMonths, TotalCharges, CLTV, Gender, Dependents, PhoneService, PaperlessBilling, MultipleLines_No_phone_service, MultipleLines_Yes, InternetService_Fiber_optic, InternetService_No, OnlineSecurity_No_internet_service, OnlineSecurity_Yes, OnlineBackup_No_internet_service, OnlineBackup_Yes, DeviceProtection_No_internet_service, DeviceProtection_Yes, TechSupport_No_internet_service, TechSupport_Yes, StreamingTV_No_internet_service, StreamingTV_Yes, StreamingMovies_No_internet_service, StreamingMovies_Yes, Contract_One_year, Contract_Two_year <br> All: M2 Mean f1: <br> 0.6308 <br> All: M2 STD f1: <br> 0.0082",
          "<br> Best: M2 f1: <br> 0.6356 <br> Best: M2 Included Features: <br> Latitude, Longitude, TenureMonths, TotalCharges, CLTV, Gender, Dependents, PaperlessBilling, MultipleLines_No_phone_service, MultipleLines_Yes, InternetService_Fiber_optic, InternetService_No, OnlineSecurity_No_internet_service, OnlineSecurity_Yes, OnlineBackup_No_internet_service, OnlineBackup_Yes, DeviceProtection_No_internet_service, DeviceProtection_Yes, TechSupport_No_internet_service, TechSupport_Yes, StreamingTV_No_internet_service, StreamingTV_Yes, StreamingMovies_No_internet_service, StreamingMovies_Yes, Contract_One_year, Contract_Two_year <br> All: M2 Mean f1: <br> 0.6253 <br> All: M2 STD f1: <br> 0.0061",
          "<br> Best: M2 f1: <br> 0.6308 <br> Best: M2 Included Features: <br> Latitude, Longitude, TenureMonths, TotalCharges, CLTV, Gender, Dependents, PaperlessBilling, MultipleLines_No_phone_service, MultipleLines_Yes, InternetService_Fiber_optic, InternetService_No, OnlineSecurity_No_internet_service, OnlineSecurity_Yes, OnlineBackup_No_internet_service, OnlineBackup_Yes, DeviceProtection_No_internet_service, DeviceProtection_Yes, TechSupport_No_internet_service, TechSupport_Yes, StreamingTV_No_internet_service, StreamingTV_Yes, Contract_One_year, Contract_Two_year <br> All: M2 Mean f1: <br> 0.6218 <br> All: M2 STD f1: <br> 0.0054",
          "<br> Best: M2 f1: <br> 0.6396 <br> Best: M2 Included Features: <br> Latitude, Longitude, TenureMonths, TotalCharges, CLTV, Gender, Dependents, PaperlessBilling, MultipleLines_No_phone_service, MultipleLines_Yes, InternetService_Fiber_optic, InternetService_No, OnlineSecurity_No_internet_service, OnlineSecurity_Yes, DeviceProtection_No_internet_service, DeviceProtection_Yes, TechSupport_No_internet_service, TechSupport_Yes, StreamingTV_No_internet_service, StreamingTV_Yes, Contract_One_year, Contract_Two_year <br> All: M2 Mean f1: <br> 0.6221 <br> All: M2 STD f1: <br> 0.0083",
          "<br> Best: M2 f1: <br> 0.6402 <br> Best: M2 Included Features: <br> Longitude, TenureMonths, TotalCharges, CLTV, Gender, Dependents, PaperlessBilling, MultipleLines_No_phone_service, MultipleLines_Yes, InternetService_Fiber_optic, InternetService_No, OnlineSecurity_No_internet_service, OnlineSecurity_Yes, DeviceProtection_No_internet_service, DeviceProtection_Yes, TechSupport_No_internet_service, TechSupport_Yes, StreamingTV_No_internet_service, StreamingTV_Yes, Contract_One_year, Contract_Two_year <br> All: M2 Mean f1: <br> 0.6295 <br> All: M2 STD f1: <br> 0.0058",
          "<br> Best: M2 f1: <br> 0.6356 <br> Best: M2 Included Features: <br> Longitude, TenureMonths, TotalCharges, CLTV, Gender, Dependents, PaperlessBilling, MultipleLines_No_phone_service, MultipleLines_Yes, InternetService_Fiber_optic, InternetService_No, OnlineSecurity_No_internet_service, OnlineSecurity_Yes, DeviceProtection_No_internet_service, DeviceProtection_Yes, TechSupport_No_internet_service, TechSupport_Yes, Contract_One_year, Contract_Two_year <br> All: M2 Mean f1: <br> 0.6255 <br> All: M2 STD f1: <br> 0.0066",
          "<br> Best: M2 f1: <br> 0.6351 <br> Best: M2 Included Features: <br> Longitude, TenureMonths, TotalCharges, CLTV, Gender, Dependents, PaperlessBilling, MultipleLines_No_phone_service, MultipleLines_Yes, InternetService_Fiber_optic, InternetService_No, DeviceProtection_No_internet_service, DeviceProtection_Yes, TechSupport_No_internet_service, TechSupport_Yes, Contract_One_year, Contract_Two_year <br> All: M2 Mean f1: <br> 0.6246 <br> All: M2 STD f1: <br> 0.0052",
          "<br> Best: M2 f1: <br> 0.6398 <br> Best: M2 Included Features: <br> Longitude, TenureMonths, TotalCharges, CLTV, Gender, Dependents, MultipleLines_No_phone_service, MultipleLines_Yes, InternetService_Fiber_optic, InternetService_No, DeviceProtection_No_internet_service, DeviceProtection_Yes, TechSupport_No_internet_service, TechSupport_Yes, Contract_One_year, Contract_Two_year <br> All: M2 Mean f1: <br> 0.6262 <br> All: M2 STD f1: <br> 0.0075",
          "<br> Best: M2 f1: <br> 0.6339 <br> Best: M2 Included Features: <br> Longitude, TenureMonths, TotalCharges, CLTV, Gender, Dependents, InternetService_Fiber_optic, InternetService_No, DeviceProtection_No_internet_service, DeviceProtection_Yes, TechSupport_No_internet_service, TechSupport_Yes, Contract_One_year, Contract_Two_year <br> All: M2 Mean f1: <br> 0.6257 <br> All: M2 STD f1: <br> 0.0063",
          "<br> Best: M2 f1: <br> 0.6317 <br> Best: M2 Included Features: <br> Longitude, TenureMonths, TotalCharges, CLTV, Gender, Dependents, InternetService_Fiber_optic, InternetService_No, TechSupport_No_internet_service, TechSupport_Yes, Contract_One_year, Contract_Two_year <br> All: M2 Mean f1: <br> 0.6231 <br> All: M2 STD f1: <br> 0.0070",
          "<br> Best: M2 f1: <br> 0.6333 <br> Best: M2 Included Features: <br> Longitude, TenureMonths, TotalCharges, CLTV, Gender, InternetService_Fiber_optic, InternetService_No, TechSupport_No_internet_service, TechSupport_Yes, Contract_One_year, Contract_Two_year <br> All: M2 Mean f1: <br> 0.6251 <br> All: M2 STD f1: <br> 0.0062",
          "<br> Best: M2 f1: <br> 0.6365 <br> Best: M2 Included Features: <br> TenureMonths, TotalCharges, CLTV, Gender, InternetService_Fiber_optic, InternetService_No, TechSupport_No_internet_service, TechSupport_Yes, Contract_One_year, Contract_Two_year <br> All: M2 Mean f1: <br> 0.6205 <br> All: M2 STD f1: <br> 0.0082",
          "<br> Best: M2 f1: <br> 0.6254 <br> Best: M2 Included Features: <br> TenureMonths, CLTV, Gender, InternetService_Fiber_optic, InternetService_No, TechSupport_No_internet_service, TechSupport_Yes, Contract_One_year, Contract_Two_year <br> All: M2 Mean f1: <br> 0.6150 <br> All: M2 STD f1: <br> 0.0101",
          "<br> Best: M2 f1: <br> 0.6267 <br> Best: M2 Included Features: <br> TenureMonths, Gender, InternetService_Fiber_optic, InternetService_No, TechSupport_No_internet_service, TechSupport_Yes, Contract_One_year, Contract_Two_year <br> All: M2 Mean f1: <br> 0.6093 <br> All: M2 STD f1: <br> 0.0136",
          "<br> Best: M2 f1: <br> 0.6199 <br> Best: M2 Included Features: <br> TenureMonths, InternetService_Fiber_optic, InternetService_No, TechSupport_No_internet_service, TechSupport_Yes, Contract_One_year, Contract_Two_year <br> All: M2 Mean f1: <br> 0.6041 <br> All: M2 STD f1: <br> 0.0129",
          "<br> Best: M2 f1: <br> 0.6182 <br> Best: M2 Included Features: <br> TenureMonths, InternetService_Fiber_optic, InternetService_No, Contract_One_year, Contract_Two_year <br> All: M2 Mean f1: <br> 0.6049 <br> All: M2 STD f1: <br> 0.0105",
          "<br> Best: M2 f1: <br> 0.6049 <br> Best: M2 Included Features: <br> TenureMonths, InternetService_Fiber_optic, InternetService_No <br> All: M2 Mean f1: <br> 0.5901 <br> All: M2 STD f1: <br> 0.0128",
          "<br> Best: M2 f1: <br> 0.5430 <br> Best: M2 Included Features: <br> TenureMonths <br> All: M2 Mean f1: <br> 0.5380 <br> All: M2 STD f1: <br> 0.0050"
         ],
         "mode": "lines+markers",
         "name": "Best: M2 f1",
         "type": "scatter",
         "x": [
          1,
          2,
          3,
          4,
          5,
          6,
          7,
          8,
          9,
          10,
          11,
          12,
          13,
          14,
          15,
          16,
          17,
          18,
          19,
          20,
          21,
          22
         ],
         "xaxis": "x",
         "y": [
          0.6292397660818714,
          0.6448484848484848,
          0.6444708680142688,
          0.6477132262051916,
          0.6460807600950118,
          0.6356228172293364,
          0.6308411214953271,
          0.6396181384248211,
          0.6401816118047673,
          0.6356033452807646,
          0.6351039260969977,
          0.6398104265402844,
          0.6339181286549708,
          0.6317044100119189,
          0.6332945285215367,
          0.6364692218350756,
          0.6254375729288215,
          0.6266666666666666,
          0.6199342825848849,
          0.618181818181818,
          0.6049237983587338,
          0.5430167597765363
         ],
         "yaxis": "y2"
        }
       ],
       "layout": {
        "hovermode": "closest",
        "template": {
         "data": {
          "bar": [
           {
            "error_x": {
             "color": "#2a3f5f"
            },
            "error_y": {
             "color": "#2a3f5f"
            },
            "marker": {
             "line": {
              "color": "#E5ECF6",
              "width": 0.5
             },
             "pattern": {
              "fillmode": "overlay",
              "size": 10,
              "solidity": 0.2
             }
            },
            "type": "bar"
           }
          ],
          "barpolar": [
           {
            "marker": {
             "line": {
              "color": "#E5ECF6",
              "width": 0.5
             },
             "pattern": {
              "fillmode": "overlay",
              "size": 10,
              "solidity": 0.2
             }
            },
            "type": "barpolar"
           }
          ],
          "carpet": [
           {
            "aaxis": {
             "endlinecolor": "#2a3f5f",
             "gridcolor": "white",
             "linecolor": "white",
             "minorgridcolor": "white",
             "startlinecolor": "#2a3f5f"
            },
            "baxis": {
             "endlinecolor": "#2a3f5f",
             "gridcolor": "white",
             "linecolor": "white",
             "minorgridcolor": "white",
             "startlinecolor": "#2a3f5f"
            },
            "type": "carpet"
           }
          ],
          "choropleth": [
           {
            "colorbar": {
             "outlinewidth": 0,
             "ticks": ""
            },
            "type": "choropleth"
           }
          ],
          "contour": [
           {
            "colorbar": {
             "outlinewidth": 0,
             "ticks": ""
            },
            "colorscale": [
             [
              0,
              "#0d0887"
             ],
             [
              0.1111111111111111,
              "#46039f"
             ],
             [
              0.2222222222222222,
              "#7201a8"
             ],
             [
              0.3333333333333333,
              "#9c179e"
             ],
             [
              0.4444444444444444,
              "#bd3786"
             ],
             [
              0.5555555555555556,
              "#d8576b"
             ],
             [
              0.6666666666666666,
              "#ed7953"
             ],
             [
              0.7777777777777778,
              "#fb9f3a"
             ],
             [
              0.8888888888888888,
              "#fdca26"
             ],
             [
              1,
              "#f0f921"
             ]
            ],
            "type": "contour"
           }
          ],
          "contourcarpet": [
           {
            "colorbar": {
             "outlinewidth": 0,
             "ticks": ""
            },
            "type": "contourcarpet"
           }
          ],
          "heatmap": [
           {
            "colorbar": {
             "outlinewidth": 0,
             "ticks": ""
            },
            "colorscale": [
             [
              0,
              "#0d0887"
             ],
             [
              0.1111111111111111,
              "#46039f"
             ],
             [
              0.2222222222222222,
              "#7201a8"
             ],
             [
              0.3333333333333333,
              "#9c179e"
             ],
             [
              0.4444444444444444,
              "#bd3786"
             ],
             [
              0.5555555555555556,
              "#d8576b"
             ],
             [
              0.6666666666666666,
              "#ed7953"
             ],
             [
              0.7777777777777778,
              "#fb9f3a"
             ],
             [
              0.8888888888888888,
              "#fdca26"
             ],
             [
              1,
              "#f0f921"
             ]
            ],
            "type": "heatmap"
           }
          ],
          "heatmapgl": [
           {
            "colorbar": {
             "outlinewidth": 0,
             "ticks": ""
            },
            "colorscale": [
             [
              0,
              "#0d0887"
             ],
             [
              0.1111111111111111,
              "#46039f"
             ],
             [
              0.2222222222222222,
              "#7201a8"
             ],
             [
              0.3333333333333333,
              "#9c179e"
             ],
             [
              0.4444444444444444,
              "#bd3786"
             ],
             [
              0.5555555555555556,
              "#d8576b"
             ],
             [
              0.6666666666666666,
              "#ed7953"
             ],
             [
              0.7777777777777778,
              "#fb9f3a"
             ],
             [
              0.8888888888888888,
              "#fdca26"
             ],
             [
              1,
              "#f0f921"
             ]
            ],
            "type": "heatmapgl"
           }
          ],
          "histogram": [
           {
            "marker": {
             "pattern": {
              "fillmode": "overlay",
              "size": 10,
              "solidity": 0.2
             }
            },
            "type": "histogram"
           }
          ],
          "histogram2d": [
           {
            "colorbar": {
             "outlinewidth": 0,
             "ticks": ""
            },
            "colorscale": [
             [
              0,
              "#0d0887"
             ],
             [
              0.1111111111111111,
              "#46039f"
             ],
             [
              0.2222222222222222,
              "#7201a8"
             ],
             [
              0.3333333333333333,
              "#9c179e"
             ],
             [
              0.4444444444444444,
              "#bd3786"
             ],
             [
              0.5555555555555556,
              "#d8576b"
             ],
             [
              0.6666666666666666,
              "#ed7953"
             ],
             [
              0.7777777777777778,
              "#fb9f3a"
             ],
             [
              0.8888888888888888,
              "#fdca26"
             ],
             [
              1,
              "#f0f921"
             ]
            ],
            "type": "histogram2d"
           }
          ],
          "histogram2dcontour": [
           {
            "colorbar": {
             "outlinewidth": 0,
             "ticks": ""
            },
            "colorscale": [
             [
              0,
              "#0d0887"
             ],
             [
              0.1111111111111111,
              "#46039f"
             ],
             [
              0.2222222222222222,
              "#7201a8"
             ],
             [
              0.3333333333333333,
              "#9c179e"
             ],
             [
              0.4444444444444444,
              "#bd3786"
             ],
             [
              0.5555555555555556,
              "#d8576b"
             ],
             [
              0.6666666666666666,
              "#ed7953"
             ],
             [
              0.7777777777777778,
              "#fb9f3a"
             ],
             [
              0.8888888888888888,
              "#fdca26"
             ],
             [
              1,
              "#f0f921"
             ]
            ],
            "type": "histogram2dcontour"
           }
          ],
          "mesh3d": [
           {
            "colorbar": {
             "outlinewidth": 0,
             "ticks": ""
            },
            "type": "mesh3d"
           }
          ],
          "parcoords": [
           {
            "line": {
             "colorbar": {
              "outlinewidth": 0,
              "ticks": ""
             }
            },
            "type": "parcoords"
           }
          ],
          "pie": [
           {
            "automargin": true,
            "type": "pie"
           }
          ],
          "scatter": [
           {
            "fillpattern": {
             "fillmode": "overlay",
             "size": 10,
             "solidity": 0.2
            },
            "type": "scatter"
           }
          ],
          "scatter3d": [
           {
            "line": {
             "colorbar": {
              "outlinewidth": 0,
              "ticks": ""
             }
            },
            "marker": {
             "colorbar": {
              "outlinewidth": 0,
              "ticks": ""
             }
            },
            "type": "scatter3d"
           }
          ],
          "scattercarpet": [
           {
            "marker": {
             "colorbar": {
              "outlinewidth": 0,
              "ticks": ""
             }
            },
            "type": "scattercarpet"
           }
          ],
          "scattergeo": [
           {
            "marker": {
             "colorbar": {
              "outlinewidth": 0,
              "ticks": ""
             }
            },
            "type": "scattergeo"
           }
          ],
          "scattergl": [
           {
            "marker": {
             "colorbar": {
              "outlinewidth": 0,
              "ticks": ""
             }
            },
            "type": "scattergl"
           }
          ],
          "scattermapbox": [
           {
            "marker": {
             "colorbar": {
              "outlinewidth": 0,
              "ticks": ""
             }
            },
            "type": "scattermapbox"
           }
          ],
          "scatterpolar": [
           {
            "marker": {
             "colorbar": {
              "outlinewidth": 0,
              "ticks": ""
             }
            },
            "type": "scatterpolar"
           }
          ],
          "scatterpolargl": [
           {
            "marker": {
             "colorbar": {
              "outlinewidth": 0,
              "ticks": ""
             }
            },
            "type": "scatterpolargl"
           }
          ],
          "scatterternary": [
           {
            "marker": {
             "colorbar": {
              "outlinewidth": 0,
              "ticks": ""
             }
            },
            "type": "scatterternary"
           }
          ],
          "surface": [
           {
            "colorbar": {
             "outlinewidth": 0,
             "ticks": ""
            },
            "colorscale": [
             [
              0,
              "#0d0887"
             ],
             [
              0.1111111111111111,
              "#46039f"
             ],
             [
              0.2222222222222222,
              "#7201a8"
             ],
             [
              0.3333333333333333,
              "#9c179e"
             ],
             [
              0.4444444444444444,
              "#bd3786"
             ],
             [
              0.5555555555555556,
              "#d8576b"
             ],
             [
              0.6666666666666666,
              "#ed7953"
             ],
             [
              0.7777777777777778,
              "#fb9f3a"
             ],
             [
              0.8888888888888888,
              "#fdca26"
             ],
             [
              1,
              "#f0f921"
             ]
            ],
            "type": "surface"
           }
          ],
          "table": [
           {
            "cells": {
             "fill": {
              "color": "#EBF0F8"
             },
             "line": {
              "color": "white"
             }
            },
            "header": {
             "fill": {
              "color": "#C8D4E3"
             },
             "line": {
              "color": "white"
             }
            },
            "type": "table"
           }
          ]
         },
         "layout": {
          "annotationdefaults": {
           "arrowcolor": "#2a3f5f",
           "arrowhead": 0,
           "arrowwidth": 1
          },
          "autotypenumbers": "strict",
          "coloraxis": {
           "colorbar": {
            "outlinewidth": 0,
            "ticks": ""
           }
          },
          "colorscale": {
           "diverging": [
            [
             0,
             "#8e0152"
            ],
            [
             0.1,
             "#c51b7d"
            ],
            [
             0.2,
             "#de77ae"
            ],
            [
             0.3,
             "#f1b6da"
            ],
            [
             0.4,
             "#fde0ef"
            ],
            [
             0.5,
             "#f7f7f7"
            ],
            [
             0.6,
             "#e6f5d0"
            ],
            [
             0.7,
             "#b8e186"
            ],
            [
             0.8,
             "#7fbc41"
            ],
            [
             0.9,
             "#4d9221"
            ],
            [
             1,
             "#276419"
            ]
           ],
           "sequential": [
            [
             0,
             "#0d0887"
            ],
            [
             0.1111111111111111,
             "#46039f"
            ],
            [
             0.2222222222222222,
             "#7201a8"
            ],
            [
             0.3333333333333333,
             "#9c179e"
            ],
            [
             0.4444444444444444,
             "#bd3786"
            ],
            [
             0.5555555555555556,
             "#d8576b"
            ],
            [
             0.6666666666666666,
             "#ed7953"
            ],
            [
             0.7777777777777778,
             "#fb9f3a"
            ],
            [
             0.8888888888888888,
             "#fdca26"
            ],
            [
             1,
             "#f0f921"
            ]
           ],
           "sequentialminus": [
            [
             0,
             "#0d0887"
            ],
            [
             0.1111111111111111,
             "#46039f"
            ],
            [
             0.2222222222222222,
             "#7201a8"
            ],
            [
             0.3333333333333333,
             "#9c179e"
            ],
            [
             0.4444444444444444,
             "#bd3786"
            ],
            [
             0.5555555555555556,
             "#d8576b"
            ],
            [
             0.6666666666666666,
             "#ed7953"
            ],
            [
             0.7777777777777778,
             "#fb9f3a"
            ],
            [
             0.8888888888888888,
             "#fdca26"
            ],
            [
             1,
             "#f0f921"
            ]
           ]
          },
          "colorway": [
           "#636efa",
           "#EF553B",
           "#00cc96",
           "#ab63fa",
           "#FFA15A",
           "#19d3f3",
           "#FF6692",
           "#B6E880",
           "#FF97FF",
           "#FECB52"
          ],
          "font": {
           "color": "#2a3f5f"
          },
          "geo": {
           "bgcolor": "white",
           "lakecolor": "white",
           "landcolor": "#E5ECF6",
           "showlakes": true,
           "showland": true,
           "subunitcolor": "white"
          },
          "hoverlabel": {
           "align": "left"
          },
          "hovermode": "closest",
          "mapbox": {
           "style": "light"
          },
          "paper_bgcolor": "white",
          "plot_bgcolor": "#E5ECF6",
          "polar": {
           "angularaxis": {
            "gridcolor": "white",
            "linecolor": "white",
            "ticks": ""
           },
           "bgcolor": "#E5ECF6",
           "radialaxis": {
            "gridcolor": "white",
            "linecolor": "white",
            "ticks": ""
           }
          },
          "scene": {
           "xaxis": {
            "backgroundcolor": "#E5ECF6",
            "gridcolor": "white",
            "gridwidth": 2,
            "linecolor": "white",
            "showbackground": true,
            "ticks": "",
            "zerolinecolor": "white"
           },
           "yaxis": {
            "backgroundcolor": "#E5ECF6",
            "gridcolor": "white",
            "gridwidth": 2,
            "linecolor": "white",
            "showbackground": true,
            "ticks": "",
            "zerolinecolor": "white"
           },
           "zaxis": {
            "backgroundcolor": "#E5ECF6",
            "gridcolor": "white",
            "gridwidth": 2,
            "linecolor": "white",
            "showbackground": true,
            "ticks": "",
            "zerolinecolor": "white"
           }
          },
          "shapedefaults": {
           "line": {
            "color": "#2a3f5f"
           }
          },
          "ternary": {
           "aaxis": {
            "gridcolor": "white",
            "linecolor": "white",
            "ticks": ""
           },
           "baxis": {
            "gridcolor": "white",
            "linecolor": "white",
            "ticks": ""
           },
           "bgcolor": "#E5ECF6",
           "caxis": {
            "gridcolor": "white",
            "linecolor": "white",
            "ticks": ""
           }
          },
          "title": {
           "x": 0.05
          },
          "xaxis": {
           "automargin": true,
           "gridcolor": "white",
           "linecolor": "white",
           "ticks": "",
           "title": {
            "standoff": 15
           },
           "zerolinecolor": "white",
           "zerolinewidth": 2
          },
          "yaxis": {
           "automargin": true,
           "gridcolor": "white",
           "linecolor": "white",
           "ticks": "",
           "title": {
            "standoff": 15
           },
           "zerolinecolor": "white",
           "zerolinewidth": 2
          }
         }
        },
        "title": {
         "text": "Agreeability Coefficients and Model Scores Over Algorithm Iterations"
        },
        "xaxis": {
         "anchor": "y",
         "domain": [
          0,
          0.94
         ],
         "title": {
          "text": "Iteration"
         },
         "type": "category"
        },
        "yaxis": {
         "anchor": "x",
         "domain": [
          0,
          1
         ],
         "title": {
          "text": "Agreeability"
         }
        },
        "yaxis2": {
         "anchor": "x",
         "overlaying": "y",
         "side": "right",
         "title": {
          "text": "Model Scores"
         }
        }
       }
      }
     },
     "metadata": {},
     "output_type": "display_data"
    }
   ],
   "source": [
    "seeker.plot_from_results()"
   ]
  },
  {
   "cell_type": "code",
   "execution_count": 104,
   "metadata": {},
   "outputs": [
    {
     "name": "stdout",
     "output_type": "stream",
     "text": [
      "Model 1: Results for No. 1 and No. 2 best predictions: P-value: 0.00000000. Test statistic: 179.21403509.\n",
      "Model 2: Results for No. 1 and No. 2 best predictions: P-value: 0.00000000. Test statistic: 212.38795987.\n",
      "========================================================================================================================\n",
      "Model 1: Results for No. 2 and No. 3 best predictions: P-value: 0.00000000. Test statistic: 129.33673469.\n",
      "Model 2: Results for No. 2 and No. 3 best predictions: P-value: 0.00000000. Test statistic: 202.10526316.\n",
      "========================================================================================================================\n",
      "Model 1: Results for No. 3 and No. 4 best predictions: P-value: 0.00000000. Test statistic: 173.61937716.\n",
      "Model 2: Results for No. 3 and No. 4 best predictions: P-value: 0.00000000. Test statistic: 163.89597315.\n",
      "========================================================================================================================\n",
      "Model 1: Results for No. 4 and No. 5 best predictions: P-value: 0.00000000. Test statistic: 184.99644128.\n",
      "Model 2: Results for No. 4 and No. 5 best predictions: P-value: 0.00000000. Test statistic: 209.38019169.\n",
      "========================================================================================================================\n",
      "Model 1: Results for No. 5 and No. 6 best predictions: P-value: 0.00000000. Test statistic: 139.60071942.\n",
      "Model 2: Results for No. 5 and No. 6 best predictions: P-value: 0.00000000. Test statistic: 215.57278481.\n",
      "========================================================================================================================\n",
      "Model 1: Results for No. 6 and No. 7 best predictions: P-value: 0.00000000. Test statistic: 138.53003534.\n",
      "Model 2: Results for No. 6 and No. 7 best predictions: P-value: 0.00000000. Test statistic: 205.30132450.\n",
      "========================================================================================================================\n",
      "Model 1: Results for No. 7 and No. 8 best predictions: P-value: 0.00000000. Test statistic: 184.32055749.\n",
      "Model 2: Results for No. 7 and No. 8 best predictions: P-value: 0.00000000. Test statistic: 175.69716088.\n",
      "========================================================================================================================\n",
      "Model 1: Results for No. 8 and No. 9 best predictions: P-value: 0.00000000. Test statistic: 164.06779661.\n",
      "Model 2: Results for No. 8 and No. 9 best predictions: P-value: 0.00000000. Test statistic: 208.20983607.\n",
      "========================================================================================================================\n",
      "Model 1: Results for No. 9 and No. 10 best predictions: P-value: 0.00000000. Test statistic: 190.78745645.\n",
      "Model 2: Results for No. 9 and No. 10 best predictions: P-value: 0.00000000. Test statistic: 186.86392405.\n",
      "========================================================================================================================\n",
      "Model 1: Results for No. 10 and No. 11 best predictions: P-value: 0.00000000. Test statistic: 120.79801325.\n",
      "Model 2: Results for No. 10 and No. 11 best predictions: P-value: 0.00000000. Test statistic: 256.05592105.\n",
      "========================================================================================================================\n",
      "Model 1: Results for No. 11 and No. 12 best predictions: P-value: 0.00000000. Test statistic: 183.13043478.\n",
      "Model 2: Results for No. 11 and No. 12 best predictions: P-value: 0.00000000. Test statistic: 254.07028754.\n",
      "========================================================================================================================\n",
      "Model 1: Results for No. 12 and No. 13 best predictions: P-value: 0.00000000. Test statistic: 182.36688312.\n",
      "Model 2: Results for No. 12 and No. 13 best predictions: P-value: 0.00000000. Test statistic: 232.44012945.\n",
      "========================================================================================================================\n",
      "Model 1: Results for No. 13 and No. 14 best predictions: P-value: 0.00000000. Test statistic: 189.80718954.\n",
      "Model 2: Results for No. 13 and No. 14 best predictions: P-value: 0.00000000. Test statistic: 126.98412698.\n",
      "========================================================================================================================\n",
      "Model 1: Results for No. 14 and No. 15 best predictions: P-value: 0.00000000. Test statistic: 200.33876221.\n",
      "Model 2: Results for No. 14 and No. 15 best predictions: P-value: 0.00000000. Test statistic: 299.15654952.\n",
      "========================================================================================================================\n",
      "Model 1: Results for No. 15 and No. 16 best predictions: P-value: 0.00000000. Test statistic: 171.02884615.\n",
      "Model 2: Results for No. 15 and No. 16 best predictions: P-value: 0.00000000. Test statistic: 213.84423676.\n",
      "========================================================================================================================\n",
      "Model 1: Results for No. 16 and No. 17 best predictions: P-value: 0.00000000. Test statistic: 127.91222571.\n",
      "Model 2: Results for No. 16 and No. 17 best predictions: P-value: 0.00000000. Test statistic: 221.81250000.\n",
      "========================================================================================================================\n",
      "Model 1: Results for No. 17 and No. 18 best predictions: P-value: 0.00000000. Test statistic: 129.32551320.\n",
      "Model 2: Results for No. 17 and No. 18 best predictions: P-value: 0.00000000. Test statistic: 295.10086455.\n",
      "========================================================================================================================\n",
      "Model 1: Results for No. 18 and No. 19 best predictions: P-value: 0.00000000. Test statistic: 83.40495868.\n",
      "Model 2: Results for No. 18 and No. 19 best predictions: P-value: 0.00000000. Test statistic: 180.71708683.\n",
      "========================================================================================================================\n",
      "Model 1: Results for No. 19 and No. 20 best predictions: P-value: 0.00000002. Test statistic: 31.66117647.\n",
      "Model 2: Results for No. 19 and No. 20 best predictions: P-value: 0.00000000. Test statistic: 156.97329377.\n",
      "========================================================================================================================\n",
      "Model 1: Results for No. 20 and No. 21 best predictions: P-value: 0.00000000. Test statistic: 39.37850467.\n",
      "Model 2: Results for No. 20 and No. 21 best predictions: P-value: 0.00300908. Test statistic: 8.80195599.\n",
      "========================================================================================================================\n"
     ]
    }
   ],
   "source": [
    "seeker.compare_n_best(n=21, test='mcnemar_chisquare')"
   ]
  },
  {
   "cell_type": "markdown",
   "metadata": {},
   "source": [
    "### BackEliminator with Logit and MultiLayerPerceptron"
   ]
  },
  {
   "cell_type": "code",
   "execution_count": 110,
   "metadata": {},
   "outputs": [],
   "source": [
    "# Initialize my algorithm\n",
    "seeker_2 = BackEliminator(\n",
    "    X=X_train_scaled, # predictor\n",
    "    y=y_train, # target\n",
    "    validation_data=(X_val_scaled, y_val), # validation datasets for evaluation\n",
    "    task_type='classification', # select classification task\n",
    "    criterion='f1', # select f1 score for feature elimination \n",
    "    agreeability='cohen_kappa', # select cohen's kappa as inter rater agreeability\n",
    "    dummy_list=dummy_list # List of dummy variables to group together when evaluating features\n",
    ")"
   ]
  },
  {
   "cell_type": "code",
   "execution_count": 111,
   "metadata": {},
   "outputs": [
    {
     "name": "stdout",
     "output_type": "stream",
     "text": [
      "Initial run: fitted both models with full feature set.\n",
      "------------------------------------------------------------------------------------------------------------------------------------------------------\n",
      "Model 1 included: ['Latitude', 'Longitude', 'TenureMonths', 'MonthlyCharges', 'TotalCharges', 'CLTV', 'Gender', 'SeniorCitizen', 'Partner', 'Dependents', 'PhoneService', 'PaperlessBilling', ['MultipleLines_No_phone_service', 'MultipleLines_Yes'], ['InternetService_Fiber_optic', 'InternetService_No'], ['OnlineSecurity_No_internet_service', 'OnlineSecurity_Yes'], ['OnlineBackup_No_internet_service', 'OnlineBackup_Yes'], ['DeviceProtection_No_internet_service', 'DeviceProtection_Yes'], ['TechSupport_No_internet_service', 'TechSupport_Yes'], ['StreamingTV_No_internet_service', 'StreamingTV_Yes'], ['StreamingMovies_No_internet_service', 'StreamingMovies_Yes'], ['Contract_One_year', 'Contract_Two_year'], ['PaymentMethod_Credit_card_(automatic)', 'PaymentMethod_Electronic_check', 'PaymentMethod_Mailed_check']]. F1: 0.6342\n",
      "Model 2 included: ['Latitude', 'Longitude', 'TenureMonths', 'MonthlyCharges', 'TotalCharges', 'CLTV', 'Gender', 'SeniorCitizen', 'Partner', 'Dependents', 'PhoneService', 'PaperlessBilling', ['MultipleLines_No_phone_service', 'MultipleLines_Yes'], ['InternetService_Fiber_optic', 'InternetService_No'], ['OnlineSecurity_No_internet_service', 'OnlineSecurity_Yes'], ['OnlineBackup_No_internet_service', 'OnlineBackup_Yes'], ['DeviceProtection_No_internet_service', 'DeviceProtection_Yes'], ['TechSupport_No_internet_service', 'TechSupport_Yes'], ['StreamingTV_No_internet_service', 'StreamingTV_Yes'], ['StreamingMovies_No_internet_service', 'StreamingMovies_Yes'], ['Contract_One_year', 'Contract_Two_year'], ['PaymentMethod_Credit_card_(automatic)', 'PaymentMethod_Electronic_check', 'PaymentMethod_Mailed_check']]. F1: 0.6173\n",
      "------------------------------------------------------------------------------------------------------------------------------------------------------\n",
      "Agreeability Coefficient (cohen_kappa): 0.9245\n",
      "======================================================================================================================================================\n",
      "Iteration 1:\n",
      "------------------------------------------------------------------------------------------------------------------------------------------------------\n",
      "Results from best models:\n",
      "Best Model 1 included: ['Latitude', 'TenureMonths', 'MonthlyCharges', 'TotalCharges', 'CLTV', 'Gender', 'SeniorCitizen', 'Partner', 'Dependents', 'PhoneService', 'PaperlessBilling', ['MultipleLines_No_phone_service', 'MultipleLines_Yes'], ['InternetService_Fiber_optic', 'InternetService_No'], ['OnlineSecurity_No_internet_service', 'OnlineSecurity_Yes'], ['OnlineBackup_No_internet_service', 'OnlineBackup_Yes'], ['DeviceProtection_No_internet_service', 'DeviceProtection_Yes'], ['TechSupport_No_internet_service', 'TechSupport_Yes'], ['StreamingTV_No_internet_service', 'StreamingTV_Yes'], ['StreamingMovies_No_internet_service', 'StreamingMovies_Yes'], ['Contract_One_year', 'Contract_Two_year'], ['PaymentMethod_Credit_card_(automatic)', 'PaymentMethod_Electronic_check', 'PaymentMethod_Mailed_check']]. F1: 0.6325\n",
      "Best Model 2 included: ['Latitude', 'Longitude', 'TenureMonths', 'MonthlyCharges', 'TotalCharges', 'CLTV', 'Gender', 'SeniorCitizen', 'Partner', 'Dependents', 'PaperlessBilling', ['MultipleLines_No_phone_service', 'MultipleLines_Yes'], ['InternetService_Fiber_optic', 'InternetService_No'], ['OnlineSecurity_No_internet_service', 'OnlineSecurity_Yes'], ['OnlineBackup_No_internet_service', 'OnlineBackup_Yes'], ['DeviceProtection_No_internet_service', 'DeviceProtection_Yes'], ['TechSupport_No_internet_service', 'TechSupport_Yes'], ['StreamingTV_No_internet_service', 'StreamingTV_Yes'], ['StreamingMovies_No_internet_service', 'StreamingMovies_Yes'], ['Contract_One_year', 'Contract_Two_year'], ['PaymentMethod_Credit_card_(automatic)', 'PaymentMethod_Electronic_check', 'PaymentMethod_Mailed_check']]. F1: 0.6446\n",
      "Agreeability Coefficient (cohen_kappa) between best models: 0.8297897108267084\n",
      "------------------------------------------------------------------------------------------------------------------------------------------------------\n",
      "Results from all models:\n",
      "M1 mean score: 0.6223. Standard deviation: 0.0065\n",
      "M2 mean score: 0.6288. Standard deviation: 0.0067\n",
      "Mean agreeability coefficient (cohen_kappa): 0.8640. Standard deviation: 0.0356\n",
      "======================================================================================================================================================\n",
      "Iteration 2:\n",
      "------------------------------------------------------------------------------------------------------------------------------------------------------\n",
      "Results from best models:\n",
      "Best Model 1 included: ['Latitude', 'TenureMonths', 'MonthlyCharges', 'TotalCharges', 'CLTV', 'Gender', 'SeniorCitizen', 'Dependents', 'PhoneService', 'PaperlessBilling', ['MultipleLines_No_phone_service', 'MultipleLines_Yes'], ['InternetService_Fiber_optic', 'InternetService_No'], ['OnlineSecurity_No_internet_service', 'OnlineSecurity_Yes'], ['OnlineBackup_No_internet_service', 'OnlineBackup_Yes'], ['DeviceProtection_No_internet_service', 'DeviceProtection_Yes'], ['TechSupport_No_internet_service', 'TechSupport_Yes'], ['StreamingTV_No_internet_service', 'StreamingTV_Yes'], ['StreamingMovies_No_internet_service', 'StreamingMovies_Yes'], ['Contract_One_year', 'Contract_Two_year'], ['PaymentMethod_Credit_card_(automatic)', 'PaymentMethod_Electronic_check', 'PaymentMethod_Mailed_check']]. F1: 0.6342\n",
      "Best Model 2 included: ['Latitude', 'Longitude', 'TenureMonths', 'MonthlyCharges', 'CLTV', 'Gender', 'SeniorCitizen', 'Partner', 'Dependents', 'PaperlessBilling', ['MultipleLines_No_phone_service', 'MultipleLines_Yes'], ['InternetService_Fiber_optic', 'InternetService_No'], ['OnlineSecurity_No_internet_service', 'OnlineSecurity_Yes'], ['OnlineBackup_No_internet_service', 'OnlineBackup_Yes'], ['DeviceProtection_No_internet_service', 'DeviceProtection_Yes'], ['TechSupport_No_internet_service', 'TechSupport_Yes'], ['StreamingTV_No_internet_service', 'StreamingTV_Yes'], ['StreamingMovies_No_internet_service', 'StreamingMovies_Yes'], ['Contract_One_year', 'Contract_Two_year'], ['PaymentMethod_Credit_card_(automatic)', 'PaymentMethod_Electronic_check', 'PaymentMethod_Mailed_check']]. F1: 0.6408\n",
      "Agreeability Coefficient (cohen_kappa) between best models: 0.8886289770935007\n",
      "------------------------------------------------------------------------------------------------------------------------------------------------------\n",
      "Results from all models:\n",
      "M1 mean score: 0.6214. Standard deviation: 0.0065\n",
      "M2 mean score: 0.6274. Standard deviation: 0.0068\n",
      "Mean agreeability coefficient (cohen_kappa): 0.8752. Standard deviation: 0.0462\n",
      "======================================================================================================================================================\n",
      "Iteration 3:\n",
      "------------------------------------------------------------------------------------------------------------------------------------------------------\n",
      "Results from best models:\n",
      "Best Model 1 included: ['TenureMonths', 'MonthlyCharges', 'TotalCharges', 'CLTV', 'Gender', 'SeniorCitizen', 'Dependents', 'PhoneService', 'PaperlessBilling', ['MultipleLines_No_phone_service', 'MultipleLines_Yes'], ['InternetService_Fiber_optic', 'InternetService_No'], ['OnlineSecurity_No_internet_service', 'OnlineSecurity_Yes'], ['OnlineBackup_No_internet_service', 'OnlineBackup_Yes'], ['DeviceProtection_No_internet_service', 'DeviceProtection_Yes'], ['TechSupport_No_internet_service', 'TechSupport_Yes'], ['StreamingTV_No_internet_service', 'StreamingTV_Yes'], ['StreamingMovies_No_internet_service', 'StreamingMovies_Yes'], ['Contract_One_year', 'Contract_Two_year'], ['PaymentMethod_Credit_card_(automatic)', 'PaymentMethod_Electronic_check', 'PaymentMethod_Mailed_check']]. F1: 0.6308\n",
      "Best Model 2 included: ['Latitude', 'Longitude', 'TenureMonths', 'MonthlyCharges', 'CLTV', 'SeniorCitizen', 'Partner', 'Dependents', 'PaperlessBilling', ['MultipleLines_No_phone_service', 'MultipleLines_Yes'], ['InternetService_Fiber_optic', 'InternetService_No'], ['OnlineSecurity_No_internet_service', 'OnlineSecurity_Yes'], ['OnlineBackup_No_internet_service', 'OnlineBackup_Yes'], ['DeviceProtection_No_internet_service', 'DeviceProtection_Yes'], ['TechSupport_No_internet_service', 'TechSupport_Yes'], ['StreamingTV_No_internet_service', 'StreamingTV_Yes'], ['StreamingMovies_No_internet_service', 'StreamingMovies_Yes'], ['Contract_One_year', 'Contract_Two_year'], ['PaymentMethod_Credit_card_(automatic)', 'PaymentMethod_Electronic_check', 'PaymentMethod_Mailed_check']]. F1: 0.6316\n",
      "Agreeability Coefficient (cohen_kappa) between best models: 0.8963319128101402\n",
      "------------------------------------------------------------------------------------------------------------------------------------------------------\n",
      "Results from all models:\n",
      "M1 mean score: 0.6202. Standard deviation: 0.0077\n",
      "M2 mean score: 0.6248. Standard deviation: 0.0058\n",
      "Mean agreeability coefficient (cohen_kappa): 0.8443. Standard deviation: 0.0429\n",
      "======================================================================================================================================================\n",
      "Iteration 4:\n",
      "------------------------------------------------------------------------------------------------------------------------------------------------------\n",
      "Results from best models:\n",
      "Best Model 1 included: ['TenureMonths', 'TotalCharges', 'CLTV', 'Gender', 'SeniorCitizen', 'Dependents', 'PhoneService', 'PaperlessBilling', ['MultipleLines_No_phone_service', 'MultipleLines_Yes'], ['InternetService_Fiber_optic', 'InternetService_No'], ['OnlineSecurity_No_internet_service', 'OnlineSecurity_Yes'], ['OnlineBackup_No_internet_service', 'OnlineBackup_Yes'], ['DeviceProtection_No_internet_service', 'DeviceProtection_Yes'], ['TechSupport_No_internet_service', 'TechSupport_Yes'], ['StreamingTV_No_internet_service', 'StreamingTV_Yes'], ['StreamingMovies_No_internet_service', 'StreamingMovies_Yes'], ['Contract_One_year', 'Contract_Two_year'], ['PaymentMethod_Credit_card_(automatic)', 'PaymentMethod_Electronic_check', 'PaymentMethod_Mailed_check']]. F1: 0.6302\n",
      "Best Model 2 included: ['Latitude', 'Longitude', 'TenureMonths', 'MonthlyCharges', 'CLTV', 'SeniorCitizen', 'Partner', 'Dependents', 'PaperlessBilling', ['MultipleLines_No_phone_service', 'MultipleLines_Yes'], ['OnlineSecurity_No_internet_service', 'OnlineSecurity_Yes'], ['OnlineBackup_No_internet_service', 'OnlineBackup_Yes'], ['DeviceProtection_No_internet_service', 'DeviceProtection_Yes'], ['TechSupport_No_internet_service', 'TechSupport_Yes'], ['StreamingTV_No_internet_service', 'StreamingTV_Yes'], ['StreamingMovies_No_internet_service', 'StreamingMovies_Yes'], ['Contract_One_year', 'Contract_Two_year'], ['PaymentMethod_Credit_card_(automatic)', 'PaymentMethod_Electronic_check', 'PaymentMethod_Mailed_check']]. F1: 0.6417\n",
      "Agreeability Coefficient (cohen_kappa) between best models: 0.8609035367568466\n",
      "------------------------------------------------------------------------------------------------------------------------------------------------------\n",
      "Results from all models:\n",
      "M1 mean score: 0.6205. Standard deviation: 0.0070\n",
      "M2 mean score: 0.6245. Standard deviation: 0.0059\n",
      "Mean agreeability coefficient (cohen_kappa): 0.8402. Standard deviation: 0.0372\n",
      "======================================================================================================================================================\n",
      "Iteration 5:\n",
      "------------------------------------------------------------------------------------------------------------------------------------------------------\n",
      "Results from best models:\n",
      "Best Model 1 included: ['TenureMonths', 'TotalCharges', 'CLTV', 'Gender', 'SeniorCitizen', 'Dependents', 'PhoneService', 'PaperlessBilling', ['MultipleLines_No_phone_service', 'MultipleLines_Yes'], ['InternetService_Fiber_optic', 'InternetService_No'], ['OnlineSecurity_No_internet_service', 'OnlineSecurity_Yes'], ['DeviceProtection_No_internet_service', 'DeviceProtection_Yes'], ['TechSupport_No_internet_service', 'TechSupport_Yes'], ['StreamingTV_No_internet_service', 'StreamingTV_Yes'], ['StreamingMovies_No_internet_service', 'StreamingMovies_Yes'], ['Contract_One_year', 'Contract_Two_year'], ['PaymentMethod_Credit_card_(automatic)', 'PaymentMethod_Electronic_check', 'PaymentMethod_Mailed_check']]. F1: 0.6383\n",
      "Best Model 2 included: ['Latitude', 'TenureMonths', 'MonthlyCharges', 'CLTV', 'SeniorCitizen', 'Partner', 'Dependents', 'PaperlessBilling', ['MultipleLines_No_phone_service', 'MultipleLines_Yes'], ['OnlineSecurity_No_internet_service', 'OnlineSecurity_Yes'], ['OnlineBackup_No_internet_service', 'OnlineBackup_Yes'], ['DeviceProtection_No_internet_service', 'DeviceProtection_Yes'], ['TechSupport_No_internet_service', 'TechSupport_Yes'], ['StreamingTV_No_internet_service', 'StreamingTV_Yes'], ['StreamingMovies_No_internet_service', 'StreamingMovies_Yes'], ['Contract_One_year', 'Contract_Two_year'], ['PaymentMethod_Credit_card_(automatic)', 'PaymentMethod_Electronic_check', 'PaymentMethod_Mailed_check']]. F1: 0.6353\n",
      "Agreeability Coefficient (cohen_kappa) between best models: 0.875702668396312\n",
      "------------------------------------------------------------------------------------------------------------------------------------------------------\n",
      "Results from all models:\n",
      "M1 mean score: 0.6214. Standard deviation: 0.0114\n",
      "M2 mean score: 0.6252. Standard deviation: 0.0063\n",
      "Mean agreeability coefficient (cohen_kappa): 0.8333. Standard deviation: 0.0394\n",
      "======================================================================================================================================================\n",
      "Iteration 6:\n",
      "------------------------------------------------------------------------------------------------------------------------------------------------------\n",
      "Results from best models:\n",
      "Best Model 1 included: ['TenureMonths', 'TotalCharges', 'CLTV', 'Gender', 'SeniorCitizen', 'Dependents', 'PhoneService', 'PaperlessBilling', ['MultipleLines_No_phone_service', 'MultipleLines_Yes'], ['InternetService_Fiber_optic', 'InternetService_No'], ['OnlineSecurity_No_internet_service', 'OnlineSecurity_Yes'], ['DeviceProtection_No_internet_service', 'DeviceProtection_Yes'], ['TechSupport_No_internet_service', 'TechSupport_Yes'], ['StreamingMovies_No_internet_service', 'StreamingMovies_Yes'], ['Contract_One_year', 'Contract_Two_year'], ['PaymentMethod_Credit_card_(automatic)', 'PaymentMethod_Electronic_check', 'PaymentMethod_Mailed_check']]. F1: 0.6368\n",
      "Best Model 2 included: ['Latitude', 'TenureMonths', 'MonthlyCharges', 'CLTV', 'SeniorCitizen', 'Partner', 'Dependents', 'PaperlessBilling', ['MultipleLines_No_phone_service', 'MultipleLines_Yes'], ['OnlineSecurity_No_internet_service', 'OnlineSecurity_Yes'], ['OnlineBackup_No_internet_service', 'OnlineBackup_Yes'], ['DeviceProtection_No_internet_service', 'DeviceProtection_Yes'], ['TechSupport_No_internet_service', 'TechSupport_Yes'], ['StreamingTV_No_internet_service', 'StreamingTV_Yes'], ['Contract_One_year', 'Contract_Two_year'], ['PaymentMethod_Credit_card_(automatic)', 'PaymentMethod_Electronic_check', 'PaymentMethod_Mailed_check']]. F1: 0.6336\n",
      "Agreeability Coefficient (cohen_kappa) between best models: 0.8674568965517242\n",
      "------------------------------------------------------------------------------------------------------------------------------------------------------\n",
      "Results from all models:\n",
      "M1 mean score: 0.6269. Standard deviation: 0.0071\n",
      "M2 mean score: 0.6253. Standard deviation: 0.0060\n",
      "Mean agreeability coefficient (cohen_kappa): 0.8331. Standard deviation: 0.0372\n",
      "======================================================================================================================================================\n",
      "Iteration 7:\n",
      "------------------------------------------------------------------------------------------------------------------------------------------------------\n",
      "Results from best models:\n",
      "Best Model 1 included: ['TenureMonths', 'TotalCharges', 'CLTV', 'Gender', 'SeniorCitizen', 'Dependents', 'PhoneService', 'PaperlessBilling', ['InternetService_Fiber_optic', 'InternetService_No'], ['OnlineSecurity_No_internet_service', 'OnlineSecurity_Yes'], ['DeviceProtection_No_internet_service', 'DeviceProtection_Yes'], ['TechSupport_No_internet_service', 'TechSupport_Yes'], ['StreamingMovies_No_internet_service', 'StreamingMovies_Yes'], ['Contract_One_year', 'Contract_Two_year'], ['PaymentMethod_Credit_card_(automatic)', 'PaymentMethod_Electronic_check', 'PaymentMethod_Mailed_check']]. F1: 0.6361\n",
      "Best Model 2 included: ['TenureMonths', 'MonthlyCharges', 'CLTV', 'SeniorCitizen', 'Partner', 'Dependents', 'PaperlessBilling', ['MultipleLines_No_phone_service', 'MultipleLines_Yes'], ['OnlineSecurity_No_internet_service', 'OnlineSecurity_Yes'], ['OnlineBackup_No_internet_service', 'OnlineBackup_Yes'], ['DeviceProtection_No_internet_service', 'DeviceProtection_Yes'], ['TechSupport_No_internet_service', 'TechSupport_Yes'], ['StreamingTV_No_internet_service', 'StreamingTV_Yes'], ['Contract_One_year', 'Contract_Two_year'], ['PaymentMethod_Credit_card_(automatic)', 'PaymentMethod_Electronic_check', 'PaymentMethod_Mailed_check']]. F1: 0.6359\n",
      "Agreeability Coefficient (cohen_kappa) between best models: 0.8290322580645162\n",
      "------------------------------------------------------------------------------------------------------------------------------------------------------\n",
      "Results from all models:\n",
      "M1 mean score: 0.6280. Standard deviation: 0.0070\n",
      "M2 mean score: 0.6209. Standard deviation: 0.0082\n",
      "Mean agreeability coefficient (cohen_kappa): 0.8200. Standard deviation: 0.0409\n",
      "======================================================================================================================================================\n",
      "Iteration 8:\n",
      "------------------------------------------------------------------------------------------------------------------------------------------------------\n",
      "Results from best models:\n",
      "Best Model 1 included: ['TenureMonths', 'TotalCharges', 'CLTV', 'SeniorCitizen', 'Dependents', 'PhoneService', 'PaperlessBilling', ['InternetService_Fiber_optic', 'InternetService_No'], ['OnlineSecurity_No_internet_service', 'OnlineSecurity_Yes'], ['DeviceProtection_No_internet_service', 'DeviceProtection_Yes'], ['TechSupport_No_internet_service', 'TechSupport_Yes'], ['StreamingMovies_No_internet_service', 'StreamingMovies_Yes'], ['Contract_One_year', 'Contract_Two_year'], ['PaymentMethod_Credit_card_(automatic)', 'PaymentMethod_Electronic_check', 'PaymentMethod_Mailed_check']]. F1: 0.6332\n",
      "Best Model 2 included: ['TenureMonths', 'MonthlyCharges', 'CLTV', 'SeniorCitizen', 'Dependents', 'PaperlessBilling', ['MultipleLines_No_phone_service', 'MultipleLines_Yes'], ['OnlineSecurity_No_internet_service', 'OnlineSecurity_Yes'], ['OnlineBackup_No_internet_service', 'OnlineBackup_Yes'], ['DeviceProtection_No_internet_service', 'DeviceProtection_Yes'], ['TechSupport_No_internet_service', 'TechSupport_Yes'], ['StreamingTV_No_internet_service', 'StreamingTV_Yes'], ['Contract_One_year', 'Contract_Two_year'], ['PaymentMethod_Credit_card_(automatic)', 'PaymentMethod_Electronic_check', 'PaymentMethod_Mailed_check']]. F1: 0.6405\n",
      "Agreeability Coefficient (cohen_kappa) between best models: 0.8274907442526136\n",
      "------------------------------------------------------------------------------------------------------------------------------------------------------\n",
      "Results from all models:\n",
      "M1 mean score: 0.6257. Standard deviation: 0.0076\n",
      "M2 mean score: 0.6217. Standard deviation: 0.0092\n",
      "Mean agreeability coefficient (cohen_kappa): 0.8075. Standard deviation: 0.0417\n",
      "======================================================================================================================================================\n",
      "Iteration 9:\n",
      "------------------------------------------------------------------------------------------------------------------------------------------------------\n",
      "Results from best models:\n",
      "Best Model 1 included: ['TenureMonths', 'TotalCharges', 'CLTV', 'SeniorCitizen', 'Dependents', 'PhoneService', 'PaperlessBilling', ['InternetService_Fiber_optic', 'InternetService_No'], ['OnlineSecurity_No_internet_service', 'OnlineSecurity_Yes'], ['DeviceProtection_No_internet_service', 'DeviceProtection_Yes'], ['TechSupport_No_internet_service', 'TechSupport_Yes'], ['Contract_One_year', 'Contract_Two_year'], ['PaymentMethod_Credit_card_(automatic)', 'PaymentMethod_Electronic_check', 'PaymentMethod_Mailed_check']]. F1: 0.6365\n",
      "Best Model 2 included: ['TenureMonths', 'MonthlyCharges', 'CLTV', 'Dependents', 'PaperlessBilling', ['MultipleLines_No_phone_service', 'MultipleLines_Yes'], ['OnlineSecurity_No_internet_service', 'OnlineSecurity_Yes'], ['OnlineBackup_No_internet_service', 'OnlineBackup_Yes'], ['DeviceProtection_No_internet_service', 'DeviceProtection_Yes'], ['TechSupport_No_internet_service', 'TechSupport_Yes'], ['StreamingTV_No_internet_service', 'StreamingTV_Yes'], ['Contract_One_year', 'Contract_Two_year'], ['PaymentMethod_Credit_card_(automatic)', 'PaymentMethod_Electronic_check', 'PaymentMethod_Mailed_check']]. F1: 0.6327\n",
      "Agreeability Coefficient (cohen_kappa) between best models: 0.8312747331814366\n",
      "------------------------------------------------------------------------------------------------------------------------------------------------------\n",
      "Results from all models:\n",
      "M1 mean score: 0.6245. Standard deviation: 0.0086\n",
      "M2 mean score: 0.6232. Standard deviation: 0.0057\n",
      "Mean agreeability coefficient (cohen_kappa): 0.8193. Standard deviation: 0.0417\n",
      "======================================================================================================================================================\n",
      "Iteration 10:\n",
      "------------------------------------------------------------------------------------------------------------------------------------------------------\n",
      "Results from best models:\n",
      "Best Model 1 included: ['TenureMonths', 'TotalCharges', 'CLTV', 'SeniorCitizen', 'Dependents', 'PhoneService', 'PaperlessBilling', ['OnlineSecurity_No_internet_service', 'OnlineSecurity_Yes'], ['DeviceProtection_No_internet_service', 'DeviceProtection_Yes'], ['TechSupport_No_internet_service', 'TechSupport_Yes'], ['Contract_One_year', 'Contract_Two_year'], ['PaymentMethod_Credit_card_(automatic)', 'PaymentMethod_Electronic_check', 'PaymentMethod_Mailed_check']]. F1: 0.6389\n",
      "Best Model 2 included: ['TenureMonths', 'MonthlyCharges', 'CLTV', 'Dependents', 'PaperlessBilling', ['MultipleLines_No_phone_service', 'MultipleLines_Yes'], ['OnlineSecurity_No_internet_service', 'OnlineSecurity_Yes'], ['OnlineBackup_No_internet_service', 'OnlineBackup_Yes'], ['DeviceProtection_No_internet_service', 'DeviceProtection_Yes'], ['TechSupport_No_internet_service', 'TechSupport_Yes'], ['StreamingTV_No_internet_service', 'StreamingTV_Yes'], ['Contract_One_year', 'Contract_Two_year']]. F1: 0.6373\n",
      "Agreeability Coefficient (cohen_kappa) between best models: 0.8165741768405476\n",
      "------------------------------------------------------------------------------------------------------------------------------------------------------\n",
      "Results from all models:\n",
      "M1 mean score: 0.6281. Standard deviation: 0.0067\n",
      "M2 mean score: 0.6271. Standard deviation: 0.0069\n",
      "Mean agreeability coefficient (cohen_kappa): 0.8087. Standard deviation: 0.0350\n",
      "======================================================================================================================================================\n",
      "Iteration 11:\n",
      "------------------------------------------------------------------------------------------------------------------------------------------------------\n",
      "Results from best models:\n",
      "Best Model 1 included: ['TenureMonths', 'TotalCharges', 'CLTV', 'Dependents', 'PhoneService', 'PaperlessBilling', ['OnlineSecurity_No_internet_service', 'OnlineSecurity_Yes'], ['DeviceProtection_No_internet_service', 'DeviceProtection_Yes'], ['TechSupport_No_internet_service', 'TechSupport_Yes'], ['Contract_One_year', 'Contract_Two_year'], ['PaymentMethod_Credit_card_(automatic)', 'PaymentMethod_Electronic_check', 'PaymentMethod_Mailed_check']]. F1: 0.6398\n",
      "Best Model 2 included: ['TenureMonths', 'MonthlyCharges', 'CLTV', 'Dependents', 'PaperlessBilling', ['MultipleLines_No_phone_service', 'MultipleLines_Yes'], ['OnlineSecurity_No_internet_service', 'OnlineSecurity_Yes'], ['OnlineBackup_No_internet_service', 'OnlineBackup_Yes'], ['TechSupport_No_internet_service', 'TechSupport_Yes'], ['StreamingTV_No_internet_service', 'StreamingTV_Yes'], ['Contract_One_year', 'Contract_Two_year']]. F1: 0.6352\n",
      "Agreeability Coefficient (cohen_kappa) between best models: 0.8235123530880706\n",
      "------------------------------------------------------------------------------------------------------------------------------------------------------\n",
      "Results from all models:\n",
      "M1 mean score: 0.6251. Standard deviation: 0.0093\n",
      "M2 mean score: 0.6237. Standard deviation: 0.0052\n",
      "Mean agreeability coefficient (cohen_kappa): 0.7955. Standard deviation: 0.0487\n",
      "======================================================================================================================================================\n",
      "Iteration 12:\n",
      "------------------------------------------------------------------------------------------------------------------------------------------------------\n",
      "Results from best models:\n",
      "Best Model 1 included: ['TenureMonths', 'TotalCharges', 'Dependents', 'PhoneService', 'PaperlessBilling', ['OnlineSecurity_No_internet_service', 'OnlineSecurity_Yes'], ['DeviceProtection_No_internet_service', 'DeviceProtection_Yes'], ['TechSupport_No_internet_service', 'TechSupport_Yes'], ['Contract_One_year', 'Contract_Two_year'], ['PaymentMethod_Credit_card_(automatic)', 'PaymentMethod_Electronic_check', 'PaymentMethod_Mailed_check']]. F1: 0.6367\n",
      "Best Model 2 included: ['TenureMonths', 'MonthlyCharges', 'Dependents', 'PaperlessBilling', ['MultipleLines_No_phone_service', 'MultipleLines_Yes'], ['OnlineSecurity_No_internet_service', 'OnlineSecurity_Yes'], ['OnlineBackup_No_internet_service', 'OnlineBackup_Yes'], ['TechSupport_No_internet_service', 'TechSupport_Yes'], ['StreamingTV_No_internet_service', 'StreamingTV_Yes'], ['Contract_One_year', 'Contract_Two_year']]. F1: 0.6372\n",
      "Agreeability Coefficient (cohen_kappa) between best models: 0.8312770455238481\n",
      "------------------------------------------------------------------------------------------------------------------------------------------------------\n",
      "Results from all models:\n",
      "M1 mean score: 0.6253. Standard deviation: 0.0080\n",
      "M2 mean score: 0.6259. Standard deviation: 0.0085\n",
      "Mean agreeability coefficient (cohen_kappa): 0.7970. Standard deviation: 0.0538\n",
      "======================================================================================================================================================\n",
      "Iteration 13:\n",
      "------------------------------------------------------------------------------------------------------------------------------------------------------\n",
      "Results from best models:\n",
      "Best Model 1 included: ['TenureMonths', 'TotalCharges', 'Dependents', 'PhoneService', ['OnlineSecurity_No_internet_service', 'OnlineSecurity_Yes'], ['DeviceProtection_No_internet_service', 'DeviceProtection_Yes'], ['TechSupport_No_internet_service', 'TechSupport_Yes'], ['Contract_One_year', 'Contract_Two_year'], ['PaymentMethod_Credit_card_(automatic)', 'PaymentMethod_Electronic_check', 'PaymentMethod_Mailed_check']]. F1: 0.6397\n",
      "Best Model 2 included: ['TenureMonths', 'MonthlyCharges', 'Dependents', 'PaperlessBilling', ['MultipleLines_No_phone_service', 'MultipleLines_Yes'], ['OnlineSecurity_No_internet_service', 'OnlineSecurity_Yes'], ['OnlineBackup_No_internet_service', 'OnlineBackup_Yes'], ['TechSupport_No_internet_service', 'TechSupport_Yes'], ['Contract_One_year', 'Contract_Two_year']]. F1: 0.6389\n",
      "Agreeability Coefficient (cohen_kappa) between best models: 0.8100706289338395\n",
      "------------------------------------------------------------------------------------------------------------------------------------------------------\n",
      "Results from all models:\n",
      "M1 mean score: 0.6266. Standard deviation: 0.0067\n",
      "M2 mean score: 0.6230. Standard deviation: 0.0079\n",
      "Mean agreeability coefficient (cohen_kappa): 0.7886. Standard deviation: 0.0443\n",
      "======================================================================================================================================================\n",
      "Iteration 14:\n",
      "------------------------------------------------------------------------------------------------------------------------------------------------------\n",
      "Results from best models:\n",
      "Best Model 1 included: ['TenureMonths', 'TotalCharges', 'Dependents', 'PhoneService', ['OnlineSecurity_No_internet_service', 'OnlineSecurity_Yes'], ['TechSupport_No_internet_service', 'TechSupport_Yes'], ['Contract_One_year', 'Contract_Two_year'], ['PaymentMethod_Credit_card_(automatic)', 'PaymentMethod_Electronic_check', 'PaymentMethod_Mailed_check']]. F1: 0.6353\n",
      "Best Model 2 included: ['TenureMonths', 'MonthlyCharges', 'PaperlessBilling', ['MultipleLines_No_phone_service', 'MultipleLines_Yes'], ['OnlineSecurity_No_internet_service', 'OnlineSecurity_Yes'], ['OnlineBackup_No_internet_service', 'OnlineBackup_Yes'], ['TechSupport_No_internet_service', 'TechSupport_Yes'], ['Contract_One_year', 'Contract_Two_year']]. F1: 0.6354\n",
      "Agreeability Coefficient (cohen_kappa) between best models: 0.7408421069284375\n",
      "------------------------------------------------------------------------------------------------------------------------------------------------------\n",
      "Results from all models:\n",
      "M1 mean score: 0.6241. Standard deviation: 0.0078\n",
      "M2 mean score: 0.6218. Standard deviation: 0.0080\n",
      "Mean agreeability coefficient (cohen_kappa): 0.7771. Standard deviation: 0.0491\n",
      "======================================================================================================================================================\n",
      "Iteration 15:\n",
      "------------------------------------------------------------------------------------------------------------------------------------------------------\n",
      "Results from best models:\n",
      "Best Model 1 included: ['TenureMonths', 'TotalCharges', 'Dependents', 'PhoneService', ['TechSupport_No_internet_service', 'TechSupport_Yes'], ['Contract_One_year', 'Contract_Two_year'], ['PaymentMethod_Credit_card_(automatic)', 'PaymentMethod_Electronic_check', 'PaymentMethod_Mailed_check']]. F1: 0.6286\n",
      "Best Model 2 included: ['TenureMonths', 'MonthlyCharges', 'PaperlessBilling', ['OnlineSecurity_No_internet_service', 'OnlineSecurity_Yes'], ['OnlineBackup_No_internet_service', 'OnlineBackup_Yes'], ['TechSupport_No_internet_service', 'TechSupport_Yes'], ['Contract_One_year', 'Contract_Two_year']]. F1: 0.6257\n",
      "Agreeability Coefficient (cohen_kappa) between best models: 0.7322915547437413\n",
      "------------------------------------------------------------------------------------------------------------------------------------------------------\n",
      "Results from all models:\n",
      "M1 mean score: 0.6178. Standard deviation: 0.0082\n",
      "M2 mean score: 0.6116. Standard deviation: 0.0092\n",
      "Mean agreeability coefficient (cohen_kappa): 0.7235. Standard deviation: 0.0484\n",
      "======================================================================================================================================================\n",
      "Iteration 16:\n",
      "------------------------------------------------------------------------------------------------------------------------------------------------------\n",
      "Results from best models:\n",
      "Best Model 1 included: ['TenureMonths', 'TotalCharges', 'Dependents', 'PhoneService', ['Contract_One_year', 'Contract_Two_year'], ['PaymentMethod_Credit_card_(automatic)', 'PaymentMethod_Electronic_check', 'PaymentMethod_Mailed_check']]. F1: 0.6384\n",
      "Best Model 2 included: ['TenureMonths', 'MonthlyCharges', ['OnlineSecurity_No_internet_service', 'OnlineSecurity_Yes'], ['OnlineBackup_No_internet_service', 'OnlineBackup_Yes'], ['TechSupport_No_internet_service', 'TechSupport_Yes'], ['Contract_One_year', 'Contract_Two_year']]. F1: 0.6189\n",
      "Agreeability Coefficient (cohen_kappa) between best models: 0.6141601165637482\n",
      "------------------------------------------------------------------------------------------------------------------------------------------------------\n",
      "Results from all models:\n",
      "M1 mean score: 0.6190. Standard deviation: 0.0104\n",
      "M2 mean score: 0.6078. Standard deviation: 0.0088\n",
      "Mean agreeability coefficient (cohen_kappa): 0.6981. Standard deviation: 0.0393\n",
      "======================================================================================================================================================\n",
      "Iteration 17:\n",
      "------------------------------------------------------------------------------------------------------------------------------------------------------\n",
      "Results from best models:\n",
      "Best Model 1 included: ['TenureMonths', 'TotalCharges', 'Dependents', ['Contract_One_year', 'Contract_Two_year'], ['PaymentMethod_Credit_card_(automatic)', 'PaymentMethod_Electronic_check', 'PaymentMethod_Mailed_check']]. F1: 0.6351\n",
      "Best Model 2 included: ['TenureMonths', 'MonthlyCharges', ['OnlineSecurity_No_internet_service', 'OnlineSecurity_Yes'], ['TechSupport_No_internet_service', 'TechSupport_Yes'], ['Contract_One_year', 'Contract_Two_year']]. F1: 0.6194\n",
      "Agreeability Coefficient (cohen_kappa) between best models: 0.6462629204050578\n",
      "------------------------------------------------------------------------------------------------------------------------------------------------------\n",
      "Results from all models:\n",
      "M1 mean score: 0.6110. Standard deviation: 0.0185\n",
      "M2 mean score: 0.6019. Standard deviation: 0.0124\n",
      "Mean agreeability coefficient (cohen_kappa): 0.5941. Standard deviation: 0.0410\n",
      "======================================================================================================================================================\n",
      "Iteration 18:\n",
      "------------------------------------------------------------------------------------------------------------------------------------------------------\n",
      "Results from best models:\n",
      "Best Model 1 included: ['TenureMonths', 'TotalCharges', ['Contract_One_year', 'Contract_Two_year'], ['PaymentMethod_Credit_card_(automatic)', 'PaymentMethod_Electronic_check', 'PaymentMethod_Mailed_check']]. F1: 0.6286\n",
      "Best Model 2 included: ['TenureMonths', 'MonthlyCharges', ['TechSupport_No_internet_service', 'TechSupport_Yes'], ['Contract_One_year', 'Contract_Two_year']]. F1: 0.6235\n",
      "Agreeability Coefficient (cohen_kappa) between best models: 0.6755921257519383\n",
      "------------------------------------------------------------------------------------------------------------------------------------------------------\n",
      "Results from all models:\n",
      "M1 mean score: 0.6142. Standard deviation: 0.0149\n",
      "M2 mean score: 0.6084. Standard deviation: 0.0105\n",
      "Mean agreeability coefficient (cohen_kappa): 0.5779. Standard deviation: 0.0870\n",
      "======================================================================================================================================================\n",
      "Iteration 19:\n",
      "------------------------------------------------------------------------------------------------------------------------------------------------------\n",
      "Results from best models:\n",
      "Best Model 1 included: ['TenureMonths', 'TotalCharges', ['Contract_One_year', 'Contract_Two_year']]. F1: 0.6051\n",
      "Best Model 2 included: ['TenureMonths', 'MonthlyCharges', ['TechSupport_No_internet_service', 'TechSupport_Yes']]. F1: 0.6039\n",
      "Agreeability Coefficient (cohen_kappa) between best models: 0.5705404420434327\n",
      "------------------------------------------------------------------------------------------------------------------------------------------------------\n",
      "Results from all models:\n",
      "M1 mean score: 0.5676. Standard deviation: 0.0234\n",
      "M2 mean score: 0.5932. Standard deviation: 0.0073\n",
      "Mean agreeability coefficient (cohen_kappa): 0.5729. Standard deviation: 0.0250\n",
      "======================================================================================================================================================\n",
      "Iteration 20:\n",
      "------------------------------------------------------------------------------------------------------------------------------------------------------\n",
      "Results from best models:\n",
      "Best Model 1 included: ['TotalCharges', ['Contract_One_year', 'Contract_Two_year']]. F1: 0.5818\n",
      "Best Model 2 included: ['TenureMonths', 'MonthlyCharges']. F1: 0.5985\n",
      "Agreeability Coefficient (cohen_kappa) between best models: 0.4447422286562574\n",
      "------------------------------------------------------------------------------------------------------------------------------------------------------\n",
      "Results from all models:\n",
      "M1 mean score: 0.5771. Standard deviation: 0.0067\n",
      "M2 mean score: 0.5713. Standard deviation: 0.0242\n",
      "Mean agreeability coefficient (cohen_kappa): 0.3898. Standard deviation: 0.1119\n",
      "======================================================================================================================================================\n",
      "Iteration 21:\n",
      "------------------------------------------------------------------------------------------------------------------------------------------------------\n",
      "Results from best models:\n",
      "Best Model 1 included: [['Contract_One_year', 'Contract_Two_year']]. F1: 0.5818\n",
      "Best Model 2 included: ['TenureMonths']. F1: 0.5430\n",
      "Agreeability Coefficient (cohen_kappa) between best models: 0.47728273432770096\n",
      "------------------------------------------------------------------------------------------------------------------------------------------------------\n",
      "Results from all models:\n",
      "M1 mean score: 0.5180. Standard deviation: 0.0638\n",
      "M2 mean score: 0.4266. Standard deviation: 0.1164\n",
      "Mean agreeability coefficient (cohen_kappa): 0.0893. Standard deviation: 0.3880\n",
      "======================================================================================================================================================\n"
     ]
    }
   ],
   "source": [
    "# Run the comparison algorithm \n",
    "results_2 = seeker_2.compare_all_models(\n",
    "    m1=logit, # Model 1: Logistic Regression\n",
    "    m2=mlp, # Model 2: Neural Network Classifier // Replace with 'rcf' - random forest classifier for testing the framework on a CPU to save time\n",
    "    keras_params=keras_params # Provide parameters for training the neural network\n",
    ")"
   ]
  },
  {
   "cell_type": "code",
   "execution_count": 112,
   "metadata": {},
   "outputs": [
    {
     "data": {
      "text/plain": [
       "[{'Best: M1 Included Features': ['Latitude',\n",
       "   'Longitude',\n",
       "   'TenureMonths',\n",
       "   'MonthlyCharges',\n",
       "   'TotalCharges',\n",
       "   'CLTV',\n",
       "   'Gender',\n",
       "   'SeniorCitizen',\n",
       "   'Partner',\n",
       "   'Dependents',\n",
       "   'PhoneService',\n",
       "   'PaperlessBilling',\n",
       "   'MultipleLines_No_phone_service',\n",
       "   'MultipleLines_Yes',\n",
       "   'InternetService_Fiber_optic',\n",
       "   'InternetService_No',\n",
       "   'OnlineSecurity_No_internet_service',\n",
       "   'OnlineSecurity_Yes',\n",
       "   'OnlineBackup_No_internet_service',\n",
       "   'OnlineBackup_Yes',\n",
       "   'DeviceProtection_No_internet_service',\n",
       "   'DeviceProtection_Yes',\n",
       "   'TechSupport_No_internet_service',\n",
       "   'TechSupport_Yes',\n",
       "   'StreamingTV_No_internet_service',\n",
       "   'StreamingTV_Yes',\n",
       "   'StreamingMovies_No_internet_service',\n",
       "   'StreamingMovies_Yes',\n",
       "   'Contract_One_year',\n",
       "   'Contract_Two_year',\n",
       "   'PaymentMethod_Credit_card_(automatic)',\n",
       "   'PaymentMethod_Electronic_check',\n",
       "   'PaymentMethod_Mailed_check'],\n",
       "  'Best: M1 f1': 0.634207240948814,\n",
       "  'Best: M2 Included Features': ['Latitude',\n",
       "   'Longitude',\n",
       "   'TenureMonths',\n",
       "   'MonthlyCharges',\n",
       "   'TotalCharges',\n",
       "   'CLTV',\n",
       "   'Gender',\n",
       "   'SeniorCitizen',\n",
       "   'Partner',\n",
       "   'Dependents',\n",
       "   'PhoneService',\n",
       "   'PaperlessBilling',\n",
       "   'MultipleLines_No_phone_service',\n",
       "   'MultipleLines_Yes',\n",
       "   'InternetService_Fiber_optic',\n",
       "   'InternetService_No',\n",
       "   'OnlineSecurity_No_internet_service',\n",
       "   'OnlineSecurity_Yes',\n",
       "   'OnlineBackup_No_internet_service',\n",
       "   'OnlineBackup_Yes',\n",
       "   'DeviceProtection_No_internet_service',\n",
       "   'DeviceProtection_Yes',\n",
       "   'TechSupport_No_internet_service',\n",
       "   'TechSupport_Yes',\n",
       "   'StreamingTV_No_internet_service',\n",
       "   'StreamingTV_Yes',\n",
       "   'StreamingMovies_No_internet_service',\n",
       "   'StreamingMovies_Yes',\n",
       "   'Contract_One_year',\n",
       "   'Contract_Two_year',\n",
       "   'PaymentMethod_Credit_card_(automatic)',\n",
       "   'PaymentMethod_Electronic_check',\n",
       "   'PaymentMethod_Mailed_check'],\n",
       "  'Best: M2 f1': 0.6172839506172839,\n",
       "  'Best: Agreeability (cohen_kappa)': 0.924500515731295,\n",
       "  'All: M1 Mean f1': 0.634207240948814,\n",
       "  'All: M1 STD f1': 0,\n",
       "  'All: M2 Mean f1': 0.6172839506172839,\n",
       "  'All: M2 STD f1': 0,\n",
       "  'All: Mean Agreeability (cohen_kappa)': 0.924500515731295,\n",
       "  'All: Agreeability St. Dev.': 0},\n",
       " {'Best: M1 Included Features': ['Latitude',\n",
       "   'TenureMonths',\n",
       "   'MonthlyCharges',\n",
       "   'TotalCharges',\n",
       "   'CLTV',\n",
       "   'Gender',\n",
       "   'SeniorCitizen',\n",
       "   'Partner',\n",
       "   'Dependents',\n",
       "   'PhoneService',\n",
       "   'PaperlessBilling',\n",
       "   'MultipleLines_No_phone_service',\n",
       "   'MultipleLines_Yes',\n",
       "   'InternetService_Fiber_optic',\n",
       "   'InternetService_No',\n",
       "   'OnlineSecurity_No_internet_service',\n",
       "   'OnlineSecurity_Yes',\n",
       "   'OnlineBackup_No_internet_service',\n",
       "   'OnlineBackup_Yes',\n",
       "   'DeviceProtection_No_internet_service',\n",
       "   'DeviceProtection_Yes',\n",
       "   'TechSupport_No_internet_service',\n",
       "   'TechSupport_Yes',\n",
       "   'StreamingTV_No_internet_service',\n",
       "   'StreamingTV_Yes',\n",
       "   'StreamingMovies_No_internet_service',\n",
       "   'StreamingMovies_Yes',\n",
       "   'Contract_One_year',\n",
       "   'Contract_Two_year',\n",
       "   'PaymentMethod_Credit_card_(automatic)',\n",
       "   'PaymentMethod_Electronic_check',\n",
       "   'PaymentMethod_Mailed_check'],\n",
       "  'Best: M1 f1': 0.6325000000000001,\n",
       "  'Best: M2 Included Features': ['Latitude',\n",
       "   'Longitude',\n",
       "   'TenureMonths',\n",
       "   'MonthlyCharges',\n",
       "   'TotalCharges',\n",
       "   'CLTV',\n",
       "   'Gender',\n",
       "   'SeniorCitizen',\n",
       "   'Partner',\n",
       "   'Dependents',\n",
       "   'PaperlessBilling',\n",
       "   'MultipleLines_No_phone_service',\n",
       "   'MultipleLines_Yes',\n",
       "   'InternetService_Fiber_optic',\n",
       "   'InternetService_No',\n",
       "   'OnlineSecurity_No_internet_service',\n",
       "   'OnlineSecurity_Yes',\n",
       "   'OnlineBackup_No_internet_service',\n",
       "   'OnlineBackup_Yes',\n",
       "   'DeviceProtection_No_internet_service',\n",
       "   'DeviceProtection_Yes',\n",
       "   'TechSupport_No_internet_service',\n",
       "   'TechSupport_Yes',\n",
       "   'StreamingTV_No_internet_service',\n",
       "   'StreamingTV_Yes',\n",
       "   'StreamingMovies_No_internet_service',\n",
       "   'StreamingMovies_Yes',\n",
       "   'Contract_One_year',\n",
       "   'Contract_Two_year',\n",
       "   'PaymentMethod_Credit_card_(automatic)',\n",
       "   'PaymentMethod_Electronic_check',\n",
       "   'PaymentMethod_Mailed_check'],\n",
       "  'Best: M2 f1': 0.6446469248291572,\n",
       "  'Best: Agreeability (cohen_kappa)': 0.8297897108267084,\n",
       "  'All: M1 Mean f1': 0.6222639323232861,\n",
       "  'All: M1 STD f1': 0.006539995496016802,\n",
       "  'All: M2 Mean f1': 0.6287781236422292,\n",
       "  'All: M2 STD f1': 0.006731776129591927,\n",
       "  'All: Mean Agreeability (cohen_kappa)': 0.864008140408536,\n",
       "  'All: Agreeability St. Dev.': 0.03561916718300196},\n",
       " {'Best: M1 Included Features': ['Latitude',\n",
       "   'TenureMonths',\n",
       "   'MonthlyCharges',\n",
       "   'TotalCharges',\n",
       "   'CLTV',\n",
       "   'Gender',\n",
       "   'SeniorCitizen',\n",
       "   'Dependents',\n",
       "   'PhoneService',\n",
       "   'PaperlessBilling',\n",
       "   'MultipleLines_No_phone_service',\n",
       "   'MultipleLines_Yes',\n",
       "   'InternetService_Fiber_optic',\n",
       "   'InternetService_No',\n",
       "   'OnlineSecurity_No_internet_service',\n",
       "   'OnlineSecurity_Yes',\n",
       "   'OnlineBackup_No_internet_service',\n",
       "   'OnlineBackup_Yes',\n",
       "   'DeviceProtection_No_internet_service',\n",
       "   'DeviceProtection_Yes',\n",
       "   'TechSupport_No_internet_service',\n",
       "   'TechSupport_Yes',\n",
       "   'StreamingTV_No_internet_service',\n",
       "   'StreamingTV_Yes',\n",
       "   'StreamingMovies_No_internet_service',\n",
       "   'StreamingMovies_Yes',\n",
       "   'Contract_One_year',\n",
       "   'Contract_Two_year',\n",
       "   'PaymentMethod_Credit_card_(automatic)',\n",
       "   'PaymentMethod_Electronic_check',\n",
       "   'PaymentMethod_Mailed_check'],\n",
       "  'Best: M1 f1': 0.634207240948814,\n",
       "  'Best: M2 Included Features': ['Latitude',\n",
       "   'Longitude',\n",
       "   'TenureMonths',\n",
       "   'MonthlyCharges',\n",
       "   'CLTV',\n",
       "   'Gender',\n",
       "   'SeniorCitizen',\n",
       "   'Partner',\n",
       "   'Dependents',\n",
       "   'PaperlessBilling',\n",
       "   'MultipleLines_No_phone_service',\n",
       "   'MultipleLines_Yes',\n",
       "   'InternetService_Fiber_optic',\n",
       "   'InternetService_No',\n",
       "   'OnlineSecurity_No_internet_service',\n",
       "   'OnlineSecurity_Yes',\n",
       "   'OnlineBackup_No_internet_service',\n",
       "   'OnlineBackup_Yes',\n",
       "   'DeviceProtection_No_internet_service',\n",
       "   'DeviceProtection_Yes',\n",
       "   'TechSupport_No_internet_service',\n",
       "   'TechSupport_Yes',\n",
       "   'StreamingTV_No_internet_service',\n",
       "   'StreamingTV_Yes',\n",
       "   'StreamingMovies_No_internet_service',\n",
       "   'StreamingMovies_Yes',\n",
       "   'Contract_One_year',\n",
       "   'Contract_Two_year',\n",
       "   'PaymentMethod_Credit_card_(automatic)',\n",
       "   'PaymentMethod_Electronic_check',\n",
       "   'PaymentMethod_Mailed_check'],\n",
       "  'Best: M2 f1': 0.6407766990291263,\n",
       "  'Best: Agreeability (cohen_kappa)': 0.8886289770935007,\n",
       "  'All: M1 Mean f1': 0.6214013834353892,\n",
       "  'All: M1 STD f1': 0.006464964686120529,\n",
       "  'All: M2 Mean f1': 0.6273670483287933,\n",
       "  'All: M2 STD f1': 0.006789892279637767,\n",
       "  'All: Mean Agreeability (cohen_kappa)': 0.8751697443173226,\n",
       "  'All: Agreeability St. Dev.': 0.04615356676181944},\n",
       " {'Best: M1 Included Features': ['TenureMonths',\n",
       "   'MonthlyCharges',\n",
       "   'TotalCharges',\n",
       "   'CLTV',\n",
       "   'Gender',\n",
       "   'SeniorCitizen',\n",
       "   'Dependents',\n",
       "   'PhoneService',\n",
       "   'PaperlessBilling',\n",
       "   'MultipleLines_No_phone_service',\n",
       "   'MultipleLines_Yes',\n",
       "   'InternetService_Fiber_optic',\n",
       "   'InternetService_No',\n",
       "   'OnlineSecurity_No_internet_service',\n",
       "   'OnlineSecurity_Yes',\n",
       "   'OnlineBackup_No_internet_service',\n",
       "   'OnlineBackup_Yes',\n",
       "   'DeviceProtection_No_internet_service',\n",
       "   'DeviceProtection_Yes',\n",
       "   'TechSupport_No_internet_service',\n",
       "   'TechSupport_Yes',\n",
       "   'StreamingTV_No_internet_service',\n",
       "   'StreamingTV_Yes',\n",
       "   'StreamingMovies_No_internet_service',\n",
       "   'StreamingMovies_Yes',\n",
       "   'Contract_One_year',\n",
       "   'Contract_Two_year',\n",
       "   'PaymentMethod_Credit_card_(automatic)',\n",
       "   'PaymentMethod_Electronic_check',\n",
       "   'PaymentMethod_Mailed_check'],\n",
       "  'Best: M1 f1': 0.6307884856070087,\n",
       "  'Best: M2 Included Features': ['Latitude',\n",
       "   'Longitude',\n",
       "   'TenureMonths',\n",
       "   'MonthlyCharges',\n",
       "   'CLTV',\n",
       "   'SeniorCitizen',\n",
       "   'Partner',\n",
       "   'Dependents',\n",
       "   'PaperlessBilling',\n",
       "   'MultipleLines_No_phone_service',\n",
       "   'MultipleLines_Yes',\n",
       "   'InternetService_Fiber_optic',\n",
       "   'InternetService_No',\n",
       "   'OnlineSecurity_No_internet_service',\n",
       "   'OnlineSecurity_Yes',\n",
       "   'OnlineBackup_No_internet_service',\n",
       "   'OnlineBackup_Yes',\n",
       "   'DeviceProtection_No_internet_service',\n",
       "   'DeviceProtection_Yes',\n",
       "   'TechSupport_No_internet_service',\n",
       "   'TechSupport_Yes',\n",
       "   'StreamingTV_No_internet_service',\n",
       "   'StreamingTV_Yes',\n",
       "   'StreamingMovies_No_internet_service',\n",
       "   'StreamingMovies_Yes',\n",
       "   'Contract_One_year',\n",
       "   'Contract_Two_year',\n",
       "   'PaymentMethod_Credit_card_(automatic)',\n",
       "   'PaymentMethod_Electronic_check',\n",
       "   'PaymentMethod_Mailed_check'],\n",
       "  'Best: M2 f1': 0.6315789473684211,\n",
       "  'Best: Agreeability (cohen_kappa)': 0.8963319128101402,\n",
       "  'All: M1 Mean f1': 0.620222601694141,\n",
       "  'All: M1 STD f1': 0.007671161187748532,\n",
       "  'All: M2 Mean f1': 0.6248191525130296,\n",
       "  'All: M2 STD f1': 0.005765386472946696,\n",
       "  'All: Mean Agreeability (cohen_kappa)': 0.8442565149093875,\n",
       "  'All: Agreeability St. Dev.': 0.04290558717753446},\n",
       " {'Best: M1 Included Features': ['TenureMonths',\n",
       "   'TotalCharges',\n",
       "   'CLTV',\n",
       "   'Gender',\n",
       "   'SeniorCitizen',\n",
       "   'Dependents',\n",
       "   'PhoneService',\n",
       "   'PaperlessBilling',\n",
       "   'MultipleLines_No_phone_service',\n",
       "   'MultipleLines_Yes',\n",
       "   'InternetService_Fiber_optic',\n",
       "   'InternetService_No',\n",
       "   'OnlineSecurity_No_internet_service',\n",
       "   'OnlineSecurity_Yes',\n",
       "   'OnlineBackup_No_internet_service',\n",
       "   'OnlineBackup_Yes',\n",
       "   'DeviceProtection_No_internet_service',\n",
       "   'DeviceProtection_Yes',\n",
       "   'TechSupport_No_internet_service',\n",
       "   'TechSupport_Yes',\n",
       "   'StreamingTV_No_internet_service',\n",
       "   'StreamingTV_Yes',\n",
       "   'StreamingMovies_No_internet_service',\n",
       "   'StreamingMovies_Yes',\n",
       "   'Contract_One_year',\n",
       "   'Contract_Two_year',\n",
       "   'PaymentMethod_Credit_card_(automatic)',\n",
       "   'PaymentMethod_Electronic_check',\n",
       "   'PaymentMethod_Mailed_check'],\n",
       "  'Best: M1 f1': 0.6301703163017031,\n",
       "  'Best: M2 Included Features': ['Latitude',\n",
       "   'Longitude',\n",
       "   'TenureMonths',\n",
       "   'MonthlyCharges',\n",
       "   'CLTV',\n",
       "   'SeniorCitizen',\n",
       "   'Partner',\n",
       "   'Dependents',\n",
       "   'PaperlessBilling',\n",
       "   'MultipleLines_No_phone_service',\n",
       "   'MultipleLines_Yes',\n",
       "   'OnlineSecurity_No_internet_service',\n",
       "   'OnlineSecurity_Yes',\n",
       "   'OnlineBackup_No_internet_service',\n",
       "   'OnlineBackup_Yes',\n",
       "   'DeviceProtection_No_internet_service',\n",
       "   'DeviceProtection_Yes',\n",
       "   'TechSupport_No_internet_service',\n",
       "   'TechSupport_Yes',\n",
       "   'StreamingTV_No_internet_service',\n",
       "   'StreamingTV_Yes',\n",
       "   'StreamingMovies_No_internet_service',\n",
       "   'StreamingMovies_Yes',\n",
       "   'Contract_One_year',\n",
       "   'Contract_Two_year',\n",
       "   'PaymentMethod_Credit_card_(automatic)',\n",
       "   'PaymentMethod_Electronic_check',\n",
       "   'PaymentMethod_Mailed_check'],\n",
       "  'Best: M2 f1': 0.6417370325693608,\n",
       "  'Best: Agreeability (cohen_kappa)': 0.8609035367568466,\n",
       "  'All: M1 Mean f1': 0.6204592948932109,\n",
       "  'All: M1 STD f1': 0.0070493240108695215,\n",
       "  'All: M2 Mean f1': 0.6244850759251236,\n",
       "  'All: M2 STD f1': 0.005878825132745384,\n",
       "  'All: Mean Agreeability (cohen_kappa)': 0.8401891943535483,\n",
       "  'All: Agreeability St. Dev.': 0.037245468637345056},\n",
       " {'Best: M1 Included Features': ['TenureMonths',\n",
       "   'TotalCharges',\n",
       "   'CLTV',\n",
       "   'Gender',\n",
       "   'SeniorCitizen',\n",
       "   'Dependents',\n",
       "   'PhoneService',\n",
       "   'PaperlessBilling',\n",
       "   'MultipleLines_No_phone_service',\n",
       "   'MultipleLines_Yes',\n",
       "   'InternetService_Fiber_optic',\n",
       "   'InternetService_No',\n",
       "   'OnlineSecurity_No_internet_service',\n",
       "   'OnlineSecurity_Yes',\n",
       "   'DeviceProtection_No_internet_service',\n",
       "   'DeviceProtection_Yes',\n",
       "   'TechSupport_No_internet_service',\n",
       "   'TechSupport_Yes',\n",
       "   'StreamingTV_No_internet_service',\n",
       "   'StreamingTV_Yes',\n",
       "   'StreamingMovies_No_internet_service',\n",
       "   'StreamingMovies_Yes',\n",
       "   'Contract_One_year',\n",
       "   'Contract_Two_year',\n",
       "   'PaymentMethod_Credit_card_(automatic)',\n",
       "   'PaymentMethod_Electronic_check',\n",
       "   'PaymentMethod_Mailed_check'],\n",
       "  'Best: M1 f1': 0.6383495145631067,\n",
       "  'Best: M2 Included Features': ['Latitude',\n",
       "   'TenureMonths',\n",
       "   'MonthlyCharges',\n",
       "   'CLTV',\n",
       "   'SeniorCitizen',\n",
       "   'Partner',\n",
       "   'Dependents',\n",
       "   'PaperlessBilling',\n",
       "   'MultipleLines_No_phone_service',\n",
       "   'MultipleLines_Yes',\n",
       "   'OnlineSecurity_No_internet_service',\n",
       "   'OnlineSecurity_Yes',\n",
       "   'OnlineBackup_No_internet_service',\n",
       "   'OnlineBackup_Yes',\n",
       "   'DeviceProtection_No_internet_service',\n",
       "   'DeviceProtection_Yes',\n",
       "   'TechSupport_No_internet_service',\n",
       "   'TechSupport_Yes',\n",
       "   'StreamingTV_No_internet_service',\n",
       "   'StreamingTV_Yes',\n",
       "   'StreamingMovies_No_internet_service',\n",
       "   'StreamingMovies_Yes',\n",
       "   'Contract_One_year',\n",
       "   'Contract_Two_year',\n",
       "   'PaymentMethod_Credit_card_(automatic)',\n",
       "   'PaymentMethod_Electronic_check',\n",
       "   'PaymentMethod_Mailed_check'],\n",
       "  'Best: M2 f1': 0.6352657004830917,\n",
       "  'Best: Agreeability (cohen_kappa)': 0.875702668396312,\n",
       "  'All: M1 Mean f1': 0.6213943278275846,\n",
       "  'All: M1 STD f1': 0.011391279987927732,\n",
       "  'All: M2 Mean f1': 0.625163312489431,\n",
       "  'All: M2 STD f1': 0.0062650622183373665,\n",
       "  'All: Mean Agreeability (cohen_kappa)': 0.8332722656424526,\n",
       "  'All: Agreeability St. Dev.': 0.039406490120499495},\n",
       " {'Best: M1 Included Features': ['TenureMonths',\n",
       "   'TotalCharges',\n",
       "   'CLTV',\n",
       "   'Gender',\n",
       "   'SeniorCitizen',\n",
       "   'Dependents',\n",
       "   'PhoneService',\n",
       "   'PaperlessBilling',\n",
       "   'MultipleLines_No_phone_service',\n",
       "   'MultipleLines_Yes',\n",
       "   'InternetService_Fiber_optic',\n",
       "   'InternetService_No',\n",
       "   'OnlineSecurity_No_internet_service',\n",
       "   'OnlineSecurity_Yes',\n",
       "   'DeviceProtection_No_internet_service',\n",
       "   'DeviceProtection_Yes',\n",
       "   'TechSupport_No_internet_service',\n",
       "   'TechSupport_Yes',\n",
       "   'StreamingMovies_No_internet_service',\n",
       "   'StreamingMovies_Yes',\n",
       "   'Contract_One_year',\n",
       "   'Contract_Two_year',\n",
       "   'PaymentMethod_Credit_card_(automatic)',\n",
       "   'PaymentMethod_Electronic_check',\n",
       "   'PaymentMethod_Mailed_check'],\n",
       "  'Best: M1 f1': 0.6368038740920098,\n",
       "  'Best: M2 Included Features': ['Latitude',\n",
       "   'TenureMonths',\n",
       "   'MonthlyCharges',\n",
       "   'CLTV',\n",
       "   'SeniorCitizen',\n",
       "   'Partner',\n",
       "   'Dependents',\n",
       "   'PaperlessBilling',\n",
       "   'MultipleLines_No_phone_service',\n",
       "   'MultipleLines_Yes',\n",
       "   'OnlineSecurity_No_internet_service',\n",
       "   'OnlineSecurity_Yes',\n",
       "   'OnlineBackup_No_internet_service',\n",
       "   'OnlineBackup_Yes',\n",
       "   'DeviceProtection_No_internet_service',\n",
       "   'DeviceProtection_Yes',\n",
       "   'TechSupport_No_internet_service',\n",
       "   'TechSupport_Yes',\n",
       "   'StreamingTV_No_internet_service',\n",
       "   'StreamingTV_Yes',\n",
       "   'Contract_One_year',\n",
       "   'Contract_Two_year',\n",
       "   'PaymentMethod_Credit_card_(automatic)',\n",
       "   'PaymentMethod_Electronic_check',\n",
       "   'PaymentMethod_Mailed_check'],\n",
       "  'Best: M2 f1': 0.6335697399527186,\n",
       "  'Best: Agreeability (cohen_kappa)': 0.8674568965517242,\n",
       "  'All: M1 Mean f1': 0.6268542984268348,\n",
       "  'All: M1 STD f1': 0.007098972246723391,\n",
       "  'All: M2 Mean f1': 0.6252981191430774,\n",
       "  'All: M2 STD f1': 0.0060003828390835495,\n",
       "  'All: Mean Agreeability (cohen_kappa)': 0.8331121989088999,\n",
       "  'All: Agreeability St. Dev.': 0.037185455331135715},\n",
       " {'Best: M1 Included Features': ['TenureMonths',\n",
       "   'TotalCharges',\n",
       "   'CLTV',\n",
       "   'Gender',\n",
       "   'SeniorCitizen',\n",
       "   'Dependents',\n",
       "   'PhoneService',\n",
       "   'PaperlessBilling',\n",
       "   'InternetService_Fiber_optic',\n",
       "   'InternetService_No',\n",
       "   'OnlineSecurity_No_internet_service',\n",
       "   'OnlineSecurity_Yes',\n",
       "   'DeviceProtection_No_internet_service',\n",
       "   'DeviceProtection_Yes',\n",
       "   'TechSupport_No_internet_service',\n",
       "   'TechSupport_Yes',\n",
       "   'StreamingMovies_No_internet_service',\n",
       "   'StreamingMovies_Yes',\n",
       "   'Contract_One_year',\n",
       "   'Contract_Two_year',\n",
       "   'PaymentMethod_Credit_card_(automatic)',\n",
       "   'PaymentMethod_Electronic_check',\n",
       "   'PaymentMethod_Mailed_check'],\n",
       "  'Best: M1 f1': 0.636144578313253,\n",
       "  'Best: M2 Included Features': ['TenureMonths',\n",
       "   'MonthlyCharges',\n",
       "   'CLTV',\n",
       "   'SeniorCitizen',\n",
       "   'Partner',\n",
       "   'Dependents',\n",
       "   'PaperlessBilling',\n",
       "   'MultipleLines_No_phone_service',\n",
       "   'MultipleLines_Yes',\n",
       "   'OnlineSecurity_No_internet_service',\n",
       "   'OnlineSecurity_Yes',\n",
       "   'OnlineBackup_No_internet_service',\n",
       "   'OnlineBackup_Yes',\n",
       "   'DeviceProtection_No_internet_service',\n",
       "   'DeviceProtection_Yes',\n",
       "   'TechSupport_No_internet_service',\n",
       "   'TechSupport_Yes',\n",
       "   'StreamingTV_No_internet_service',\n",
       "   'StreamingTV_Yes',\n",
       "   'Contract_One_year',\n",
       "   'Contract_Two_year',\n",
       "   'PaymentMethod_Credit_card_(automatic)',\n",
       "   'PaymentMethod_Electronic_check',\n",
       "   'PaymentMethod_Mailed_check'],\n",
       "  'Best: M2 f1': 0.6359338061465721,\n",
       "  'Best: Agreeability (cohen_kappa)': 0.8290322580645162,\n",
       "  'All: M1 Mean f1': 0.6279793079463177,\n",
       "  'All: M1 STD f1': 0.006954964031553171,\n",
       "  'All: M2 Mean f1': 0.6209390692580439,\n",
       "  'All: M2 STD f1': 0.008232274581284275,\n",
       "  'All: Mean Agreeability (cohen_kappa)': 0.8199891765096268,\n",
       "  'All: Agreeability St. Dev.': 0.04088301030998088},\n",
       " {'Best: M1 Included Features': ['TenureMonths',\n",
       "   'TotalCharges',\n",
       "   'CLTV',\n",
       "   'SeniorCitizen',\n",
       "   'Dependents',\n",
       "   'PhoneService',\n",
       "   'PaperlessBilling',\n",
       "   'InternetService_Fiber_optic',\n",
       "   'InternetService_No',\n",
       "   'OnlineSecurity_No_internet_service',\n",
       "   'OnlineSecurity_Yes',\n",
       "   'DeviceProtection_No_internet_service',\n",
       "   'DeviceProtection_Yes',\n",
       "   'TechSupport_No_internet_service',\n",
       "   'TechSupport_Yes',\n",
       "   'StreamingMovies_No_internet_service',\n",
       "   'StreamingMovies_Yes',\n",
       "   'Contract_One_year',\n",
       "   'Contract_Two_year',\n",
       "   'PaymentMethod_Credit_card_(automatic)',\n",
       "   'PaymentMethod_Electronic_check',\n",
       "   'PaymentMethod_Mailed_check'],\n",
       "  'Best: M1 f1': 0.6332138590203106,\n",
       "  'Best: M2 Included Features': ['TenureMonths',\n",
       "   'MonthlyCharges',\n",
       "   'CLTV',\n",
       "   'SeniorCitizen',\n",
       "   'Dependents',\n",
       "   'PaperlessBilling',\n",
       "   'MultipleLines_No_phone_service',\n",
       "   'MultipleLines_Yes',\n",
       "   'OnlineSecurity_No_internet_service',\n",
       "   'OnlineSecurity_Yes',\n",
       "   'OnlineBackup_No_internet_service',\n",
       "   'OnlineBackup_Yes',\n",
       "   'DeviceProtection_No_internet_service',\n",
       "   'DeviceProtection_Yes',\n",
       "   'TechSupport_No_internet_service',\n",
       "   'TechSupport_Yes',\n",
       "   'StreamingTV_No_internet_service',\n",
       "   'StreamingTV_Yes',\n",
       "   'Contract_One_year',\n",
       "   'Contract_Two_year',\n",
       "   'PaymentMethod_Credit_card_(automatic)',\n",
       "   'PaymentMethod_Electronic_check',\n",
       "   'PaymentMethod_Mailed_check'],\n",
       "  'Best: M2 f1': 0.6404761904761904,\n",
       "  'Best: Agreeability (cohen_kappa)': 0.8274907442526136,\n",
       "  'All: M1 Mean f1': 0.6257312749885275,\n",
       "  'All: M1 STD f1': 0.007565077696845505,\n",
       "  'All: M2 Mean f1': 0.6217456490243494,\n",
       "  'All: M2 STD f1': 0.009238684642311252,\n",
       "  'All: Mean Agreeability (cohen_kappa)': 0.8074651214005928,\n",
       "  'All: Agreeability St. Dev.': 0.041718790356147756},\n",
       " {'Best: M1 Included Features': ['TenureMonths',\n",
       "   'TotalCharges',\n",
       "   'CLTV',\n",
       "   'SeniorCitizen',\n",
       "   'Dependents',\n",
       "   'PhoneService',\n",
       "   'PaperlessBilling',\n",
       "   'InternetService_Fiber_optic',\n",
       "   'InternetService_No',\n",
       "   'OnlineSecurity_No_internet_service',\n",
       "   'OnlineSecurity_Yes',\n",
       "   'DeviceProtection_No_internet_service',\n",
       "   'DeviceProtection_Yes',\n",
       "   'TechSupport_No_internet_service',\n",
       "   'TechSupport_Yes',\n",
       "   'Contract_One_year',\n",
       "   'Contract_Two_year',\n",
       "   'PaymentMethod_Credit_card_(automatic)',\n",
       "   'PaymentMethod_Electronic_check',\n",
       "   'PaymentMethod_Mailed_check'],\n",
       "  'Best: M1 f1': 0.6364719904648392,\n",
       "  'Best: M2 Included Features': ['TenureMonths',\n",
       "   'MonthlyCharges',\n",
       "   'CLTV',\n",
       "   'Dependents',\n",
       "   'PaperlessBilling',\n",
       "   'MultipleLines_No_phone_service',\n",
       "   'MultipleLines_Yes',\n",
       "   'OnlineSecurity_No_internet_service',\n",
       "   'OnlineSecurity_Yes',\n",
       "   'OnlineBackup_No_internet_service',\n",
       "   'OnlineBackup_Yes',\n",
       "   'DeviceProtection_No_internet_service',\n",
       "   'DeviceProtection_Yes',\n",
       "   'TechSupport_No_internet_service',\n",
       "   'TechSupport_Yes',\n",
       "   'StreamingTV_No_internet_service',\n",
       "   'StreamingTV_Yes',\n",
       "   'Contract_One_year',\n",
       "   'Contract_Two_year',\n",
       "   'PaymentMethod_Credit_card_(automatic)',\n",
       "   'PaymentMethod_Electronic_check',\n",
       "   'PaymentMethod_Mailed_check'],\n",
       "  'Best: M2 f1': 0.6327014218009478,\n",
       "  'Best: Agreeability (cohen_kappa)': 0.8312747331814366,\n",
       "  'All: M1 Mean f1': 0.6244658355134141,\n",
       "  'All: M1 STD f1': 0.008562037645324101,\n",
       "  'All: M2 Mean f1': 0.6232496835796429,\n",
       "  'All: M2 STD f1': 0.00569233254230483,\n",
       "  'All: Mean Agreeability (cohen_kappa)': 0.8192896009895121,\n",
       "  'All: Agreeability St. Dev.': 0.041688596499440816},\n",
       " {'Best: M1 Included Features': ['TenureMonths',\n",
       "   'TotalCharges',\n",
       "   'CLTV',\n",
       "   'SeniorCitizen',\n",
       "   'Dependents',\n",
       "   'PhoneService',\n",
       "   'PaperlessBilling',\n",
       "   'OnlineSecurity_No_internet_service',\n",
       "   'OnlineSecurity_Yes',\n",
       "   'DeviceProtection_No_internet_service',\n",
       "   'DeviceProtection_Yes',\n",
       "   'TechSupport_No_internet_service',\n",
       "   'TechSupport_Yes',\n",
       "   'Contract_One_year',\n",
       "   'Contract_Two_year',\n",
       "   'PaymentMethod_Credit_card_(automatic)',\n",
       "   'PaymentMethod_Electronic_check',\n",
       "   'PaymentMethod_Mailed_check'],\n",
       "  'Best: M1 f1': 0.6388557806912991,\n",
       "  'Best: M2 Included Features': ['TenureMonths',\n",
       "   'MonthlyCharges',\n",
       "   'CLTV',\n",
       "   'Dependents',\n",
       "   'PaperlessBilling',\n",
       "   'MultipleLines_No_phone_service',\n",
       "   'MultipleLines_Yes',\n",
       "   'OnlineSecurity_No_internet_service',\n",
       "   'OnlineSecurity_Yes',\n",
       "   'OnlineBackup_No_internet_service',\n",
       "   'OnlineBackup_Yes',\n",
       "   'DeviceProtection_No_internet_service',\n",
       "   'DeviceProtection_Yes',\n",
       "   'TechSupport_No_internet_service',\n",
       "   'TechSupport_Yes',\n",
       "   'StreamingTV_No_internet_service',\n",
       "   'StreamingTV_Yes',\n",
       "   'Contract_One_year',\n",
       "   'Contract_Two_year'],\n",
       "  'Best: M2 f1': 0.6372795969773299,\n",
       "  'Best: Agreeability (cohen_kappa)': 0.8165741768405476,\n",
       "  'All: M1 Mean f1': 0.6281423917771379,\n",
       "  'All: M1 STD f1': 0.006674531125263112,\n",
       "  'All: M2 Mean f1': 0.6271392737461368,\n",
       "  'All: M2 STD f1': 0.006908921201971209,\n",
       "  'All: Mean Agreeability (cohen_kappa)': 0.8087015271612439,\n",
       "  'All: Agreeability St. Dev.': 0.03502175834123893},\n",
       " {'Best: M1 Included Features': ['TenureMonths',\n",
       "   'TotalCharges',\n",
       "   'CLTV',\n",
       "   'Dependents',\n",
       "   'PhoneService',\n",
       "   'PaperlessBilling',\n",
       "   'OnlineSecurity_No_internet_service',\n",
       "   'OnlineSecurity_Yes',\n",
       "   'DeviceProtection_No_internet_service',\n",
       "   'DeviceProtection_Yes',\n",
       "   'TechSupport_No_internet_service',\n",
       "   'TechSupport_Yes',\n",
       "   'Contract_One_year',\n",
       "   'Contract_Two_year',\n",
       "   'PaymentMethod_Credit_card_(automatic)',\n",
       "   'PaymentMethod_Electronic_check',\n",
       "   'PaymentMethod_Mailed_check'],\n",
       "  'Best: M1 f1': 0.6398104265402844,\n",
       "  'Best: M2 Included Features': ['TenureMonths',\n",
       "   'MonthlyCharges',\n",
       "   'CLTV',\n",
       "   'Dependents',\n",
       "   'PaperlessBilling',\n",
       "   'MultipleLines_No_phone_service',\n",
       "   'MultipleLines_Yes',\n",
       "   'OnlineSecurity_No_internet_service',\n",
       "   'OnlineSecurity_Yes',\n",
       "   'OnlineBackup_No_internet_service',\n",
       "   'OnlineBackup_Yes',\n",
       "   'TechSupport_No_internet_service',\n",
       "   'TechSupport_Yes',\n",
       "   'StreamingTV_No_internet_service',\n",
       "   'StreamingTV_Yes',\n",
       "   'Contract_One_year',\n",
       "   'Contract_Two_year'],\n",
       "  'Best: M2 f1': 0.6351515151515151,\n",
       "  'Best: Agreeability (cohen_kappa)': 0.8235123530880706,\n",
       "  'All: M1 Mean f1': 0.6250742786191058,\n",
       "  'All: M1 STD f1': 0.009308268072901313,\n",
       "  'All: M2 Mean f1': 0.6237107120467295,\n",
       "  'All: M2 STD f1': 0.0052182794402401795,\n",
       "  'All: Mean Agreeability (cohen_kappa)': 0.7955063216947132,\n",
       "  'All: Agreeability St. Dev.': 0.048736792490715254},\n",
       " {'Best: M1 Included Features': ['TenureMonths',\n",
       "   'TotalCharges',\n",
       "   'Dependents',\n",
       "   'PhoneService',\n",
       "   'PaperlessBilling',\n",
       "   'OnlineSecurity_No_internet_service',\n",
       "   'OnlineSecurity_Yes',\n",
       "   'DeviceProtection_No_internet_service',\n",
       "   'DeviceProtection_Yes',\n",
       "   'TechSupport_No_internet_service',\n",
       "   'TechSupport_Yes',\n",
       "   'Contract_One_year',\n",
       "   'Contract_Two_year',\n",
       "   'PaymentMethod_Credit_card_(automatic)',\n",
       "   'PaymentMethod_Electronic_check',\n",
       "   'PaymentMethod_Mailed_check'],\n",
       "  'Best: M1 f1': 0.6366863905325444,\n",
       "  'Best: M2 Included Features': ['TenureMonths',\n",
       "   'MonthlyCharges',\n",
       "   'Dependents',\n",
       "   'PaperlessBilling',\n",
       "   'MultipleLines_No_phone_service',\n",
       "   'MultipleLines_Yes',\n",
       "   'OnlineSecurity_No_internet_service',\n",
       "   'OnlineSecurity_Yes',\n",
       "   'OnlineBackup_No_internet_service',\n",
       "   'OnlineBackup_Yes',\n",
       "   'TechSupport_No_internet_service',\n",
       "   'TechSupport_Yes',\n",
       "   'StreamingTV_No_internet_service',\n",
       "   'StreamingTV_Yes',\n",
       "   'Contract_One_year',\n",
       "   'Contract_Two_year'],\n",
       "  'Best: M2 f1': 0.6372315035799523,\n",
       "  'Best: Agreeability (cohen_kappa)': 0.8312770455238481,\n",
       "  'All: M1 Mean f1': 0.6252837385953045,\n",
       "  'All: M1 STD f1': 0.007957667962501294,\n",
       "  'All: M2 Mean f1': 0.6258598720195472,\n",
       "  'All: M2 STD f1': 0.008475768219991867,\n",
       "  'All: Mean Agreeability (cohen_kappa)': 0.7969511918507497,\n",
       "  'All: Agreeability St. Dev.': 0.05380716364565075},\n",
       " {'Best: M1 Included Features': ['TenureMonths',\n",
       "   'TotalCharges',\n",
       "   'Dependents',\n",
       "   'PhoneService',\n",
       "   'OnlineSecurity_No_internet_service',\n",
       "   'OnlineSecurity_Yes',\n",
       "   'DeviceProtection_No_internet_service',\n",
       "   'DeviceProtection_Yes',\n",
       "   'TechSupport_No_internet_service',\n",
       "   'TechSupport_Yes',\n",
       "   'Contract_One_year',\n",
       "   'Contract_Two_year',\n",
       "   'PaymentMethod_Credit_card_(automatic)',\n",
       "   'PaymentMethod_Electronic_check',\n",
       "   'PaymentMethod_Mailed_check'],\n",
       "  'Best: M1 f1': 0.6397146254458977,\n",
       "  'Best: M2 Included Features': ['TenureMonths',\n",
       "   'MonthlyCharges',\n",
       "   'Dependents',\n",
       "   'PaperlessBilling',\n",
       "   'MultipleLines_No_phone_service',\n",
       "   'MultipleLines_Yes',\n",
       "   'OnlineSecurity_No_internet_service',\n",
       "   'OnlineSecurity_Yes',\n",
       "   'OnlineBackup_No_internet_service',\n",
       "   'OnlineBackup_Yes',\n",
       "   'TechSupport_No_internet_service',\n",
       "   'TechSupport_Yes',\n",
       "   'Contract_One_year',\n",
       "   'Contract_Two_year'],\n",
       "  'Best: M2 f1': 0.6388557806912991,\n",
       "  'Best: Agreeability (cohen_kappa)': 0.8100706289338395,\n",
       "  'All: M1 Mean f1': 0.6266326111692859,\n",
       "  'All: M1 STD f1': 0.0067294451203899945,\n",
       "  'All: M2 Mean f1': 0.623020902852961,\n",
       "  'All: M2 STD f1': 0.007871636297309697,\n",
       "  'All: Mean Agreeability (cohen_kappa)': 0.7885787269364527,\n",
       "  'All: Agreeability St. Dev.': 0.04427244903914753},\n",
       " {'Best: M1 Included Features': ['TenureMonths',\n",
       "   'TotalCharges',\n",
       "   'Dependents',\n",
       "   'PhoneService',\n",
       "   'OnlineSecurity_No_internet_service',\n",
       "   'OnlineSecurity_Yes',\n",
       "   'TechSupport_No_internet_service',\n",
       "   'TechSupport_Yes',\n",
       "   'Contract_One_year',\n",
       "   'Contract_Two_year',\n",
       "   'PaymentMethod_Credit_card_(automatic)',\n",
       "   'PaymentMethod_Electronic_check',\n",
       "   'PaymentMethod_Mailed_check'],\n",
       "  'Best: M1 f1': 0.6352941176470588,\n",
       "  'Best: M2 Included Features': ['TenureMonths',\n",
       "   'MonthlyCharges',\n",
       "   'PaperlessBilling',\n",
       "   'MultipleLines_No_phone_service',\n",
       "   'MultipleLines_Yes',\n",
       "   'OnlineSecurity_No_internet_service',\n",
       "   'OnlineSecurity_Yes',\n",
       "   'OnlineBackup_No_internet_service',\n",
       "   'OnlineBackup_Yes',\n",
       "   'TechSupport_No_internet_service',\n",
       "   'TechSupport_Yes',\n",
       "   'Contract_One_year',\n",
       "   'Contract_Two_year'],\n",
       "  'Best: M2 f1': 0.6354044548651817,\n",
       "  'Best: Agreeability (cohen_kappa)': 0.7408421069284375,\n",
       "  'All: M1 Mean f1': 0.6241470262714647,\n",
       "  'All: M1 STD f1': 0.007803599934325579,\n",
       "  'All: M2 Mean f1': 0.6217956206246763,\n",
       "  'All: M2 STD f1': 0.007952487555201272,\n",
       "  'All: Mean Agreeability (cohen_kappa)': 0.7771344760411737,\n",
       "  'All: Agreeability St. Dev.': 0.04911487175578193},\n",
       " {'Best: M1 Included Features': ['TenureMonths',\n",
       "   'TotalCharges',\n",
       "   'Dependents',\n",
       "   'PhoneService',\n",
       "   'TechSupport_No_internet_service',\n",
       "   'TechSupport_Yes',\n",
       "   'Contract_One_year',\n",
       "   'Contract_Two_year',\n",
       "   'PaymentMethod_Credit_card_(automatic)',\n",
       "   'PaymentMethod_Electronic_check',\n",
       "   'PaymentMethod_Mailed_check'],\n",
       "  'Best: M1 f1': 0.6286379511059371,\n",
       "  'Best: M2 Included Features': ['TenureMonths',\n",
       "   'MonthlyCharges',\n",
       "   'PaperlessBilling',\n",
       "   'OnlineSecurity_No_internet_service',\n",
       "   'OnlineSecurity_Yes',\n",
       "   'OnlineBackup_No_internet_service',\n",
       "   'OnlineBackup_Yes',\n",
       "   'TechSupport_No_internet_service',\n",
       "   'TechSupport_Yes',\n",
       "   'Contract_One_year',\n",
       "   'Contract_Two_year'],\n",
       "  'Best: M2 f1': 0.6257242178447276,\n",
       "  'Best: Agreeability (cohen_kappa)': 0.7322915547437413,\n",
       "  'All: M1 Mean f1': 0.6178337246384901,\n",
       "  'All: M1 STD f1': 0.008215083025741038,\n",
       "  'All: M2 Mean f1': 0.6115525553294907,\n",
       "  'All: M2 STD f1': 0.009194109452180755,\n",
       "  'All: Mean Agreeability (cohen_kappa)': 0.7235223884319402,\n",
       "  'All: Agreeability St. Dev.': 0.04840984801277796},\n",
       " {'Best: M1 Included Features': ['TenureMonths',\n",
       "   'TotalCharges',\n",
       "   'Dependents',\n",
       "   'PhoneService',\n",
       "   'Contract_One_year',\n",
       "   'Contract_Two_year',\n",
       "   'PaymentMethod_Credit_card_(automatic)',\n",
       "   'PaymentMethod_Electronic_check',\n",
       "   'PaymentMethod_Mailed_check'],\n",
       "  'Best: M1 f1': 0.6384364820846905,\n",
       "  'Best: M2 Included Features': ['TenureMonths',\n",
       "   'MonthlyCharges',\n",
       "   'OnlineSecurity_No_internet_service',\n",
       "   'OnlineSecurity_Yes',\n",
       "   'OnlineBackup_No_internet_service',\n",
       "   'OnlineBackup_Yes',\n",
       "   'TechSupport_No_internet_service',\n",
       "   'TechSupport_Yes',\n",
       "   'Contract_One_year',\n",
       "   'Contract_Two_year'],\n",
       "  'Best: M2 f1': 0.6189320388349515,\n",
       "  'Best: Agreeability (cohen_kappa)': 0.6141601165637482,\n",
       "  'All: M1 Mean f1': 0.6189784483296396,\n",
       "  'All: M1 STD f1': 0.010442005971961009,\n",
       "  'All: M2 Mean f1': 0.607839014547857,\n",
       "  'All: M2 STD f1': 0.008775275641945274,\n",
       "  'All: Mean Agreeability (cohen_kappa)': 0.6981347333063693,\n",
       "  'All: Agreeability St. Dev.': 0.03934456045094207},\n",
       " {'Best: M1 Included Features': ['TenureMonths',\n",
       "   'TotalCharges',\n",
       "   'Dependents',\n",
       "   'Contract_One_year',\n",
       "   'Contract_Two_year',\n",
       "   'PaymentMethod_Credit_card_(automatic)',\n",
       "   'PaymentMethod_Electronic_check',\n",
       "   'PaymentMethod_Mailed_check'],\n",
       "  'Best: M1 f1': 0.635091496232508,\n",
       "  'Best: M2 Included Features': ['TenureMonths',\n",
       "   'MonthlyCharges',\n",
       "   'OnlineSecurity_No_internet_service',\n",
       "   'OnlineSecurity_Yes',\n",
       "   'TechSupport_No_internet_service',\n",
       "   'TechSupport_Yes',\n",
       "   'Contract_One_year',\n",
       "   'Contract_Two_year'],\n",
       "  'Best: M2 f1': 0.6194477791116446,\n",
       "  'Best: Agreeability (cohen_kappa)': 0.6462629204050578,\n",
       "  'All: M1 Mean f1': 0.6110402237286368,\n",
       "  'All: M1 STD f1': 0.018470889801189168,\n",
       "  'All: M2 Mean f1': 0.6019014581568439,\n",
       "  'All: M2 STD f1': 0.012397071912213642,\n",
       "  'All: Mean Agreeability (cohen_kappa)': 0.5940921131717428,\n",
       "  'All: Agreeability St. Dev.': 0.04102236708687852},\n",
       " {'Best: M1 Included Features': ['TenureMonths',\n",
       "   'TotalCharges',\n",
       "   'Contract_One_year',\n",
       "   'Contract_Two_year',\n",
       "   'PaymentMethod_Credit_card_(automatic)',\n",
       "   'PaymentMethod_Electronic_check',\n",
       "   'PaymentMethod_Mailed_check'],\n",
       "  'Best: M1 f1': 0.6286329386437031,\n",
       "  'Best: M2 Included Features': ['TenureMonths',\n",
       "   'MonthlyCharges',\n",
       "   'TechSupport_No_internet_service',\n",
       "   'TechSupport_Yes',\n",
       "   'Contract_One_year',\n",
       "   'Contract_Two_year'],\n",
       "  'Best: M2 f1': 0.6235011990407674,\n",
       "  'Best: Agreeability (cohen_kappa)': 0.6755921257519383,\n",
       "  'All: M1 Mean f1': 0.6142342662043141,\n",
       "  'All: M1 STD f1': 0.014920737378766077,\n",
       "  'All: M2 Mean f1': 0.6084362507067151,\n",
       "  'All: M2 STD f1': 0.010505052280936117,\n",
       "  'All: Mean Agreeability (cohen_kappa)': 0.5778552276470647,\n",
       "  'All: Agreeability St. Dev.': 0.08695081240536907},\n",
       " {'Best: M1 Included Features': ['TenureMonths',\n",
       "   'TotalCharges',\n",
       "   'Contract_One_year',\n",
       "   'Contract_Two_year'],\n",
       "  'Best: M1 f1': 0.6050895381715363,\n",
       "  'Best: M2 Included Features': ['TenureMonths',\n",
       "   'MonthlyCharges',\n",
       "   'TechSupport_No_internet_service',\n",
       "   'TechSupport_Yes'],\n",
       "  'Best: M2 f1': 0.6039119804400979,\n",
       "  'Best: Agreeability (cohen_kappa)': 0.5705404420434327,\n",
       "  'All: M1 Mean f1': 0.5675802277599802,\n",
       "  'All: M1 STD f1': 0.023407485815382687,\n",
       "  'All: M2 Mean f1': 0.5932108529298721,\n",
       "  'All: M2 STD f1': 0.007312800966992064,\n",
       "  'All: Mean Agreeability (cohen_kappa)': 0.5728516681307363,\n",
       "  'All: Agreeability St. Dev.': 0.024990283509297162},\n",
       " {'Best: M1 Included Features': ['TotalCharges',\n",
       "   'Contract_One_year',\n",
       "   'Contract_Two_year'],\n",
       "  'Best: M1 f1': 0.5818181818181819,\n",
       "  'Best: M2 Included Features': ['TenureMonths', 'MonthlyCharges'],\n",
       "  'Best: M2 f1': 0.598503740648379,\n",
       "  'Best: Agreeability (cohen_kappa)': 0.4447422286562574,\n",
       "  'All: M1 Mean f1': 0.5770679770679771,\n",
       "  'All: M1 STD f1': 0.006717803981788708,\n",
       "  'All: M2 Mean f1': 0.5713185886813563,\n",
       "  'All: M2 STD f1': 0.024248799475272684,\n",
       "  'All: Mean Agreeability (cohen_kappa)': 0.389782747679613,\n",
       "  'All: Agreeability St. Dev.': 0.11185744446936911},\n",
       " {'Best: M1 Included Features': ['Contract_One_year', 'Contract_Two_year'],\n",
       "  'Best: M1 f1': 0.5818181818181819,\n",
       "  'Best: M2 Included Features': ['TenureMonths'],\n",
       "  'Best: M2 f1': 0.5430167597765363,\n",
       "  'Best: Agreeability (cohen_kappa)': 0.47728273432770096,\n",
       "  'All: M1 Mean f1': 0.5180332739156269,\n",
       "  'All: M1 STD f1': 0.063784907902555,\n",
       "  'All: M2 Mean f1': 0.42662886181597903,\n",
       "  'All: M2 STD f1': 0.11638789796055729,\n",
       "  'All: Mean Agreeability (cohen_kappa)': 0.08927236161109939,\n",
       "  'All: Agreeability St. Dev.': 0.38801037271660155}]"
      ]
     },
     "execution_count": 112,
     "metadata": {},
     "output_type": "execute_result"
    }
   ],
   "source": [
    "results_2"
   ]
  },
  {
   "cell_type": "code",
   "execution_count": 113,
   "metadata": {},
   "outputs": [],
   "source": [
    "results_df_2 = seeker_2.dataframe_from_results()"
   ]
  },
  {
   "cell_type": "code",
   "execution_count": 114,
   "metadata": {},
   "outputs": [
    {
     "data": {
      "application/vnd.plotly.v1+json": {
       "config": {
        "plotlyServerURL": "https://plot.ly"
       },
       "data": [
        {
         "hoverinfo": "text",
         "hovertext": [
          "<br> Best: Agreeability (cohen_kappa): <br> 0.9245 <br> All: Mean Agreeability (cohen_kappa): <br> 0.9245 <br> All: Agreeability St. Dev.: <br> 0.0000",
          "<br> Best: Agreeability (cohen_kappa): <br> 0.8298 <br> All: Mean Agreeability (cohen_kappa): <br> 0.8640 <br> All: Agreeability St. Dev.: <br> 0.0356",
          "<br> Best: Agreeability (cohen_kappa): <br> 0.8886 <br> All: Mean Agreeability (cohen_kappa): <br> 0.8752 <br> All: Agreeability St. Dev.: <br> 0.0462",
          "<br> Best: Agreeability (cohen_kappa): <br> 0.8963 <br> All: Mean Agreeability (cohen_kappa): <br> 0.8443 <br> All: Agreeability St. Dev.: <br> 0.0429",
          "<br> Best: Agreeability (cohen_kappa): <br> 0.8609 <br> All: Mean Agreeability (cohen_kappa): <br> 0.8402 <br> All: Agreeability St. Dev.: <br> 0.0372",
          "<br> Best: Agreeability (cohen_kappa): <br> 0.8757 <br> All: Mean Agreeability (cohen_kappa): <br> 0.8333 <br> All: Agreeability St. Dev.: <br> 0.0394",
          "<br> Best: Agreeability (cohen_kappa): <br> 0.8675 <br> All: Mean Agreeability (cohen_kappa): <br> 0.8331 <br> All: Agreeability St. Dev.: <br> 0.0372",
          "<br> Best: Agreeability (cohen_kappa): <br> 0.8290 <br> All: Mean Agreeability (cohen_kappa): <br> 0.8200 <br> All: Agreeability St. Dev.: <br> 0.0409",
          "<br> Best: Agreeability (cohen_kappa): <br> 0.8275 <br> All: Mean Agreeability (cohen_kappa): <br> 0.8075 <br> All: Agreeability St. Dev.: <br> 0.0417",
          "<br> Best: Agreeability (cohen_kappa): <br> 0.8313 <br> All: Mean Agreeability (cohen_kappa): <br> 0.8193 <br> All: Agreeability St. Dev.: <br> 0.0417",
          "<br> Best: Agreeability (cohen_kappa): <br> 0.8166 <br> All: Mean Agreeability (cohen_kappa): <br> 0.8087 <br> All: Agreeability St. Dev.: <br> 0.0350",
          "<br> Best: Agreeability (cohen_kappa): <br> 0.8235 <br> All: Mean Agreeability (cohen_kappa): <br> 0.7955 <br> All: Agreeability St. Dev.: <br> 0.0487",
          "<br> Best: Agreeability (cohen_kappa): <br> 0.8313 <br> All: Mean Agreeability (cohen_kappa): <br> 0.7970 <br> All: Agreeability St. Dev.: <br> 0.0538",
          "<br> Best: Agreeability (cohen_kappa): <br> 0.8101 <br> All: Mean Agreeability (cohen_kappa): <br> 0.7886 <br> All: Agreeability St. Dev.: <br> 0.0443",
          "<br> Best: Agreeability (cohen_kappa): <br> 0.7408 <br> All: Mean Agreeability (cohen_kappa): <br> 0.7771 <br> All: Agreeability St. Dev.: <br> 0.0491",
          "<br> Best: Agreeability (cohen_kappa): <br> 0.7323 <br> All: Mean Agreeability (cohen_kappa): <br> 0.7235 <br> All: Agreeability St. Dev.: <br> 0.0484",
          "<br> Best: Agreeability (cohen_kappa): <br> 0.6142 <br> All: Mean Agreeability (cohen_kappa): <br> 0.6981 <br> All: Agreeability St. Dev.: <br> 0.0393",
          "<br> Best: Agreeability (cohen_kappa): <br> 0.6463 <br> All: Mean Agreeability (cohen_kappa): <br> 0.5941 <br> All: Agreeability St. Dev.: <br> 0.0410",
          "<br> Best: Agreeability (cohen_kappa): <br> 0.6756 <br> All: Mean Agreeability (cohen_kappa): <br> 0.5779 <br> All: Agreeability St. Dev.: <br> 0.0870",
          "<br> Best: Agreeability (cohen_kappa): <br> 0.5705 <br> All: Mean Agreeability (cohen_kappa): <br> 0.5729 <br> All: Agreeability St. Dev.: <br> 0.0250",
          "<br> Best: Agreeability (cohen_kappa): <br> 0.4447 <br> All: Mean Agreeability (cohen_kappa): <br> 0.3898 <br> All: Agreeability St. Dev.: <br> 0.1119",
          "<br> Best: Agreeability (cohen_kappa): <br> 0.4773 <br> All: Mean Agreeability (cohen_kappa): <br> 0.0893 <br> All: Agreeability St. Dev.: <br> 0.3880"
         ],
         "mode": "lines+markers",
         "name": "Best: Agreeability (cohen_kappa)",
         "type": "scatter",
         "x": [
          1,
          2,
          3,
          4,
          5,
          6,
          7,
          8,
          9,
          10,
          11,
          12,
          13,
          14,
          15,
          16,
          17,
          18,
          19,
          20,
          21,
          22
         ],
         "xaxis": "x",
         "y": [
          0.924500515731295,
          0.8297897108267084,
          0.8886289770935007,
          0.8963319128101402,
          0.8609035367568466,
          0.875702668396312,
          0.8674568965517242,
          0.8290322580645162,
          0.8274907442526136,
          0.8312747331814366,
          0.8165741768405476,
          0.8235123530880706,
          0.8312770455238481,
          0.8100706289338395,
          0.7408421069284375,
          0.7322915547437413,
          0.6141601165637482,
          0.6462629204050578,
          0.6755921257519383,
          0.5705404420434327,
          0.4447422286562574,
          0.47728273432770096
         ],
         "yaxis": "y"
        },
        {
         "hoverinfo": "text",
         "hovertext": [
          "<br> Best: M1 f1: <br> 0.6342 <br> Best: M1 Included Features: <br> Latitude, Longitude, TenureMonths, MonthlyCharges, TotalCharges, CLTV, Gender, SeniorCitizen, Partner, Dependents, PhoneService, PaperlessBilling, MultipleLines_No_phone_service, MultipleLines_Yes, InternetService_Fiber_optic, InternetService_No, OnlineSecurity_No_internet_service, OnlineSecurity_Yes, OnlineBackup_No_internet_service, OnlineBackup_Yes, DeviceProtection_No_internet_service, DeviceProtection_Yes, TechSupport_No_internet_service, TechSupport_Yes, StreamingTV_No_internet_service, StreamingTV_Yes, StreamingMovies_No_internet_service, StreamingMovies_Yes, Contract_One_year, Contract_Two_year, PaymentMethod_Credit_card_(automatic), PaymentMethod_Electronic_check, PaymentMethod_Mailed_check <br> All: M1 Mean f1: <br> 0.6342 <br> All: M1 STD f1: <br> 0.0000",
          "<br> Best: M1 f1: <br> 0.6325 <br> Best: M1 Included Features: <br> Latitude, TenureMonths, MonthlyCharges, TotalCharges, CLTV, Gender, SeniorCitizen, Partner, Dependents, PhoneService, PaperlessBilling, MultipleLines_No_phone_service, MultipleLines_Yes, InternetService_Fiber_optic, InternetService_No, OnlineSecurity_No_internet_service, OnlineSecurity_Yes, OnlineBackup_No_internet_service, OnlineBackup_Yes, DeviceProtection_No_internet_service, DeviceProtection_Yes, TechSupport_No_internet_service, TechSupport_Yes, StreamingTV_No_internet_service, StreamingTV_Yes, StreamingMovies_No_internet_service, StreamingMovies_Yes, Contract_One_year, Contract_Two_year, PaymentMethod_Credit_card_(automatic), PaymentMethod_Electronic_check, PaymentMethod_Mailed_check <br> All: M1 Mean f1: <br> 0.6223 <br> All: M1 STD f1: <br> 0.0065",
          "<br> Best: M1 f1: <br> 0.6342 <br> Best: M1 Included Features: <br> Latitude, TenureMonths, MonthlyCharges, TotalCharges, CLTV, Gender, SeniorCitizen, Dependents, PhoneService, PaperlessBilling, MultipleLines_No_phone_service, MultipleLines_Yes, InternetService_Fiber_optic, InternetService_No, OnlineSecurity_No_internet_service, OnlineSecurity_Yes, OnlineBackup_No_internet_service, OnlineBackup_Yes, DeviceProtection_No_internet_service, DeviceProtection_Yes, TechSupport_No_internet_service, TechSupport_Yes, StreamingTV_No_internet_service, StreamingTV_Yes, StreamingMovies_No_internet_service, StreamingMovies_Yes, Contract_One_year, Contract_Two_year, PaymentMethod_Credit_card_(automatic), PaymentMethod_Electronic_check, PaymentMethod_Mailed_check <br> All: M1 Mean f1: <br> 0.6214 <br> All: M1 STD f1: <br> 0.0065",
          "<br> Best: M1 f1: <br> 0.6308 <br> Best: M1 Included Features: <br> TenureMonths, MonthlyCharges, TotalCharges, CLTV, Gender, SeniorCitizen, Dependents, PhoneService, PaperlessBilling, MultipleLines_No_phone_service, MultipleLines_Yes, InternetService_Fiber_optic, InternetService_No, OnlineSecurity_No_internet_service, OnlineSecurity_Yes, OnlineBackup_No_internet_service, OnlineBackup_Yes, DeviceProtection_No_internet_service, DeviceProtection_Yes, TechSupport_No_internet_service, TechSupport_Yes, StreamingTV_No_internet_service, StreamingTV_Yes, StreamingMovies_No_internet_service, StreamingMovies_Yes, Contract_One_year, Contract_Two_year, PaymentMethod_Credit_card_(automatic), PaymentMethod_Electronic_check, PaymentMethod_Mailed_check <br> All: M1 Mean f1: <br> 0.6202 <br> All: M1 STD f1: <br> 0.0077",
          "<br> Best: M1 f1: <br> 0.6302 <br> Best: M1 Included Features: <br> TenureMonths, TotalCharges, CLTV, Gender, SeniorCitizen, Dependents, PhoneService, PaperlessBilling, MultipleLines_No_phone_service, MultipleLines_Yes, InternetService_Fiber_optic, InternetService_No, OnlineSecurity_No_internet_service, OnlineSecurity_Yes, OnlineBackup_No_internet_service, OnlineBackup_Yes, DeviceProtection_No_internet_service, DeviceProtection_Yes, TechSupport_No_internet_service, TechSupport_Yes, StreamingTV_No_internet_service, StreamingTV_Yes, StreamingMovies_No_internet_service, StreamingMovies_Yes, Contract_One_year, Contract_Two_year, PaymentMethod_Credit_card_(automatic), PaymentMethod_Electronic_check, PaymentMethod_Mailed_check <br> All: M1 Mean f1: <br> 0.6205 <br> All: M1 STD f1: <br> 0.0070",
          "<br> Best: M1 f1: <br> 0.6383 <br> Best: M1 Included Features: <br> TenureMonths, TotalCharges, CLTV, Gender, SeniorCitizen, Dependents, PhoneService, PaperlessBilling, MultipleLines_No_phone_service, MultipleLines_Yes, InternetService_Fiber_optic, InternetService_No, OnlineSecurity_No_internet_service, OnlineSecurity_Yes, DeviceProtection_No_internet_service, DeviceProtection_Yes, TechSupport_No_internet_service, TechSupport_Yes, StreamingTV_No_internet_service, StreamingTV_Yes, StreamingMovies_No_internet_service, StreamingMovies_Yes, Contract_One_year, Contract_Two_year, PaymentMethod_Credit_card_(automatic), PaymentMethod_Electronic_check, PaymentMethod_Mailed_check <br> All: M1 Mean f1: <br> 0.6214 <br> All: M1 STD f1: <br> 0.0114",
          "<br> Best: M1 f1: <br> 0.6368 <br> Best: M1 Included Features: <br> TenureMonths, TotalCharges, CLTV, Gender, SeniorCitizen, Dependents, PhoneService, PaperlessBilling, MultipleLines_No_phone_service, MultipleLines_Yes, InternetService_Fiber_optic, InternetService_No, OnlineSecurity_No_internet_service, OnlineSecurity_Yes, DeviceProtection_No_internet_service, DeviceProtection_Yes, TechSupport_No_internet_service, TechSupport_Yes, StreamingMovies_No_internet_service, StreamingMovies_Yes, Contract_One_year, Contract_Two_year, PaymentMethod_Credit_card_(automatic), PaymentMethod_Electronic_check, PaymentMethod_Mailed_check <br> All: M1 Mean f1: <br> 0.6269 <br> All: M1 STD f1: <br> 0.0071",
          "<br> Best: M1 f1: <br> 0.6361 <br> Best: M1 Included Features: <br> TenureMonths, TotalCharges, CLTV, Gender, SeniorCitizen, Dependents, PhoneService, PaperlessBilling, InternetService_Fiber_optic, InternetService_No, OnlineSecurity_No_internet_service, OnlineSecurity_Yes, DeviceProtection_No_internet_service, DeviceProtection_Yes, TechSupport_No_internet_service, TechSupport_Yes, StreamingMovies_No_internet_service, StreamingMovies_Yes, Contract_One_year, Contract_Two_year, PaymentMethod_Credit_card_(automatic), PaymentMethod_Electronic_check, PaymentMethod_Mailed_check <br> All: M1 Mean f1: <br> 0.6280 <br> All: M1 STD f1: <br> 0.0070",
          "<br> Best: M1 f1: <br> 0.6332 <br> Best: M1 Included Features: <br> TenureMonths, TotalCharges, CLTV, SeniorCitizen, Dependents, PhoneService, PaperlessBilling, InternetService_Fiber_optic, InternetService_No, OnlineSecurity_No_internet_service, OnlineSecurity_Yes, DeviceProtection_No_internet_service, DeviceProtection_Yes, TechSupport_No_internet_service, TechSupport_Yes, StreamingMovies_No_internet_service, StreamingMovies_Yes, Contract_One_year, Contract_Two_year, PaymentMethod_Credit_card_(automatic), PaymentMethod_Electronic_check, PaymentMethod_Mailed_check <br> All: M1 Mean f1: <br> 0.6257 <br> All: M1 STD f1: <br> 0.0076",
          "<br> Best: M1 f1: <br> 0.6365 <br> Best: M1 Included Features: <br> TenureMonths, TotalCharges, CLTV, SeniorCitizen, Dependents, PhoneService, PaperlessBilling, InternetService_Fiber_optic, InternetService_No, OnlineSecurity_No_internet_service, OnlineSecurity_Yes, DeviceProtection_No_internet_service, DeviceProtection_Yes, TechSupport_No_internet_service, TechSupport_Yes, Contract_One_year, Contract_Two_year, PaymentMethod_Credit_card_(automatic), PaymentMethod_Electronic_check, PaymentMethod_Mailed_check <br> All: M1 Mean f1: <br> 0.6245 <br> All: M1 STD f1: <br> 0.0086",
          "<br> Best: M1 f1: <br> 0.6389 <br> Best: M1 Included Features: <br> TenureMonths, TotalCharges, CLTV, SeniorCitizen, Dependents, PhoneService, PaperlessBilling, OnlineSecurity_No_internet_service, OnlineSecurity_Yes, DeviceProtection_No_internet_service, DeviceProtection_Yes, TechSupport_No_internet_service, TechSupport_Yes, Contract_One_year, Contract_Two_year, PaymentMethod_Credit_card_(automatic), PaymentMethod_Electronic_check, PaymentMethod_Mailed_check <br> All: M1 Mean f1: <br> 0.6281 <br> All: M1 STD f1: <br> 0.0067",
          "<br> Best: M1 f1: <br> 0.6398 <br> Best: M1 Included Features: <br> TenureMonths, TotalCharges, CLTV, Dependents, PhoneService, PaperlessBilling, OnlineSecurity_No_internet_service, OnlineSecurity_Yes, DeviceProtection_No_internet_service, DeviceProtection_Yes, TechSupport_No_internet_service, TechSupport_Yes, Contract_One_year, Contract_Two_year, PaymentMethod_Credit_card_(automatic), PaymentMethod_Electronic_check, PaymentMethod_Mailed_check <br> All: M1 Mean f1: <br> 0.6251 <br> All: M1 STD f1: <br> 0.0093",
          "<br> Best: M1 f1: <br> 0.6367 <br> Best: M1 Included Features: <br> TenureMonths, TotalCharges, Dependents, PhoneService, PaperlessBilling, OnlineSecurity_No_internet_service, OnlineSecurity_Yes, DeviceProtection_No_internet_service, DeviceProtection_Yes, TechSupport_No_internet_service, TechSupport_Yes, Contract_One_year, Contract_Two_year, PaymentMethod_Credit_card_(automatic), PaymentMethod_Electronic_check, PaymentMethod_Mailed_check <br> All: M1 Mean f1: <br> 0.6253 <br> All: M1 STD f1: <br> 0.0080",
          "<br> Best: M1 f1: <br> 0.6397 <br> Best: M1 Included Features: <br> TenureMonths, TotalCharges, Dependents, PhoneService, OnlineSecurity_No_internet_service, OnlineSecurity_Yes, DeviceProtection_No_internet_service, DeviceProtection_Yes, TechSupport_No_internet_service, TechSupport_Yes, Contract_One_year, Contract_Two_year, PaymentMethod_Credit_card_(automatic), PaymentMethod_Electronic_check, PaymentMethod_Mailed_check <br> All: M1 Mean f1: <br> 0.6266 <br> All: M1 STD f1: <br> 0.0067",
          "<br> Best: M1 f1: <br> 0.6353 <br> Best: M1 Included Features: <br> TenureMonths, TotalCharges, Dependents, PhoneService, OnlineSecurity_No_internet_service, OnlineSecurity_Yes, TechSupport_No_internet_service, TechSupport_Yes, Contract_One_year, Contract_Two_year, PaymentMethod_Credit_card_(automatic), PaymentMethod_Electronic_check, PaymentMethod_Mailed_check <br> All: M1 Mean f1: <br> 0.6241 <br> All: M1 STD f1: <br> 0.0078",
          "<br> Best: M1 f1: <br> 0.6286 <br> Best: M1 Included Features: <br> TenureMonths, TotalCharges, Dependents, PhoneService, TechSupport_No_internet_service, TechSupport_Yes, Contract_One_year, Contract_Two_year, PaymentMethod_Credit_card_(automatic), PaymentMethod_Electronic_check, PaymentMethod_Mailed_check <br> All: M1 Mean f1: <br> 0.6178 <br> All: M1 STD f1: <br> 0.0082",
          "<br> Best: M1 f1: <br> 0.6384 <br> Best: M1 Included Features: <br> TenureMonths, TotalCharges, Dependents, PhoneService, Contract_One_year, Contract_Two_year, PaymentMethod_Credit_card_(automatic), PaymentMethod_Electronic_check, PaymentMethod_Mailed_check <br> All: M1 Mean f1: <br> 0.6190 <br> All: M1 STD f1: <br> 0.0104",
          "<br> Best: M1 f1: <br> 0.6351 <br> Best: M1 Included Features: <br> TenureMonths, TotalCharges, Dependents, Contract_One_year, Contract_Two_year, PaymentMethod_Credit_card_(automatic), PaymentMethod_Electronic_check, PaymentMethod_Mailed_check <br> All: M1 Mean f1: <br> 0.6110 <br> All: M1 STD f1: <br> 0.0185",
          "<br> Best: M1 f1: <br> 0.6286 <br> Best: M1 Included Features: <br> TenureMonths, TotalCharges, Contract_One_year, Contract_Two_year, PaymentMethod_Credit_card_(automatic), PaymentMethod_Electronic_check, PaymentMethod_Mailed_check <br> All: M1 Mean f1: <br> 0.6142 <br> All: M1 STD f1: <br> 0.0149",
          "<br> Best: M1 f1: <br> 0.6051 <br> Best: M1 Included Features: <br> TenureMonths, TotalCharges, Contract_One_year, Contract_Two_year <br> All: M1 Mean f1: <br> 0.5676 <br> All: M1 STD f1: <br> 0.0234",
          "<br> Best: M1 f1: <br> 0.5818 <br> Best: M1 Included Features: <br> TotalCharges, Contract_One_year, Contract_Two_year <br> All: M1 Mean f1: <br> 0.5771 <br> All: M1 STD f1: <br> 0.0067",
          "<br> Best: M1 f1: <br> 0.5818 <br> Best: M1 Included Features: <br> Contract_One_year, Contract_Two_year <br> All: M1 Mean f1: <br> 0.5180 <br> All: M1 STD f1: <br> 0.0638"
         ],
         "mode": "lines+markers",
         "name": "Best: M1 f1",
         "type": "scatter",
         "x": [
          1,
          2,
          3,
          4,
          5,
          6,
          7,
          8,
          9,
          10,
          11,
          12,
          13,
          14,
          15,
          16,
          17,
          18,
          19,
          20,
          21,
          22
         ],
         "xaxis": "x",
         "y": [
          0.634207240948814,
          0.6325000000000001,
          0.634207240948814,
          0.6307884856070087,
          0.6301703163017031,
          0.6383495145631067,
          0.6368038740920098,
          0.636144578313253,
          0.6332138590203106,
          0.6364719904648392,
          0.6388557806912991,
          0.6398104265402844,
          0.6366863905325444,
          0.6397146254458977,
          0.6352941176470588,
          0.6286379511059371,
          0.6384364820846905,
          0.635091496232508,
          0.6286329386437031,
          0.6050895381715363,
          0.5818181818181819,
          0.5818181818181819
         ],
         "yaxis": "y2"
        },
        {
         "hoverinfo": "text",
         "hovertext": [
          "<br> Best: M2 f1: <br> 0.6173 <br> Best: M2 Included Features: <br> Latitude, Longitude, TenureMonths, MonthlyCharges, TotalCharges, CLTV, Gender, SeniorCitizen, Partner, Dependents, PhoneService, PaperlessBilling, MultipleLines_No_phone_service, MultipleLines_Yes, InternetService_Fiber_optic, InternetService_No, OnlineSecurity_No_internet_service, OnlineSecurity_Yes, OnlineBackup_No_internet_service, OnlineBackup_Yes, DeviceProtection_No_internet_service, DeviceProtection_Yes, TechSupport_No_internet_service, TechSupport_Yes, StreamingTV_No_internet_service, StreamingTV_Yes, StreamingMovies_No_internet_service, StreamingMovies_Yes, Contract_One_year, Contract_Two_year, PaymentMethod_Credit_card_(automatic), PaymentMethod_Electronic_check, PaymentMethod_Mailed_check <br> All: M2 Mean f1: <br> 0.6173 <br> All: M2 STD f1: <br> 0.0000",
          "<br> Best: M2 f1: <br> 0.6446 <br> Best: M2 Included Features: <br> Latitude, Longitude, TenureMonths, MonthlyCharges, TotalCharges, CLTV, Gender, SeniorCitizen, Partner, Dependents, PaperlessBilling, MultipleLines_No_phone_service, MultipleLines_Yes, InternetService_Fiber_optic, InternetService_No, OnlineSecurity_No_internet_service, OnlineSecurity_Yes, OnlineBackup_No_internet_service, OnlineBackup_Yes, DeviceProtection_No_internet_service, DeviceProtection_Yes, TechSupport_No_internet_service, TechSupport_Yes, StreamingTV_No_internet_service, StreamingTV_Yes, StreamingMovies_No_internet_service, StreamingMovies_Yes, Contract_One_year, Contract_Two_year, PaymentMethod_Credit_card_(automatic), PaymentMethod_Electronic_check, PaymentMethod_Mailed_check <br> All: M2 Mean f1: <br> 0.6288 <br> All: M2 STD f1: <br> 0.0067",
          "<br> Best: M2 f1: <br> 0.6408 <br> Best: M2 Included Features: <br> Latitude, Longitude, TenureMonths, MonthlyCharges, CLTV, Gender, SeniorCitizen, Partner, Dependents, PaperlessBilling, MultipleLines_No_phone_service, MultipleLines_Yes, InternetService_Fiber_optic, InternetService_No, OnlineSecurity_No_internet_service, OnlineSecurity_Yes, OnlineBackup_No_internet_service, OnlineBackup_Yes, DeviceProtection_No_internet_service, DeviceProtection_Yes, TechSupport_No_internet_service, TechSupport_Yes, StreamingTV_No_internet_service, StreamingTV_Yes, StreamingMovies_No_internet_service, StreamingMovies_Yes, Contract_One_year, Contract_Two_year, PaymentMethod_Credit_card_(automatic), PaymentMethod_Electronic_check, PaymentMethod_Mailed_check <br> All: M2 Mean f1: <br> 0.6274 <br> All: M2 STD f1: <br> 0.0068",
          "<br> Best: M2 f1: <br> 0.6316 <br> Best: M2 Included Features: <br> Latitude, Longitude, TenureMonths, MonthlyCharges, CLTV, SeniorCitizen, Partner, Dependents, PaperlessBilling, MultipleLines_No_phone_service, MultipleLines_Yes, InternetService_Fiber_optic, InternetService_No, OnlineSecurity_No_internet_service, OnlineSecurity_Yes, OnlineBackup_No_internet_service, OnlineBackup_Yes, DeviceProtection_No_internet_service, DeviceProtection_Yes, TechSupport_No_internet_service, TechSupport_Yes, StreamingTV_No_internet_service, StreamingTV_Yes, StreamingMovies_No_internet_service, StreamingMovies_Yes, Contract_One_year, Contract_Two_year, PaymentMethod_Credit_card_(automatic), PaymentMethod_Electronic_check, PaymentMethod_Mailed_check <br> All: M2 Mean f1: <br> 0.6248 <br> All: M2 STD f1: <br> 0.0058",
          "<br> Best: M2 f1: <br> 0.6417 <br> Best: M2 Included Features: <br> Latitude, Longitude, TenureMonths, MonthlyCharges, CLTV, SeniorCitizen, Partner, Dependents, PaperlessBilling, MultipleLines_No_phone_service, MultipleLines_Yes, OnlineSecurity_No_internet_service, OnlineSecurity_Yes, OnlineBackup_No_internet_service, OnlineBackup_Yes, DeviceProtection_No_internet_service, DeviceProtection_Yes, TechSupport_No_internet_service, TechSupport_Yes, StreamingTV_No_internet_service, StreamingTV_Yes, StreamingMovies_No_internet_service, StreamingMovies_Yes, Contract_One_year, Contract_Two_year, PaymentMethod_Credit_card_(automatic), PaymentMethod_Electronic_check, PaymentMethod_Mailed_check <br> All: M2 Mean f1: <br> 0.6245 <br> All: M2 STD f1: <br> 0.0059",
          "<br> Best: M2 f1: <br> 0.6353 <br> Best: M2 Included Features: <br> Latitude, TenureMonths, MonthlyCharges, CLTV, SeniorCitizen, Partner, Dependents, PaperlessBilling, MultipleLines_No_phone_service, MultipleLines_Yes, OnlineSecurity_No_internet_service, OnlineSecurity_Yes, OnlineBackup_No_internet_service, OnlineBackup_Yes, DeviceProtection_No_internet_service, DeviceProtection_Yes, TechSupport_No_internet_service, TechSupport_Yes, StreamingTV_No_internet_service, StreamingTV_Yes, StreamingMovies_No_internet_service, StreamingMovies_Yes, Contract_One_year, Contract_Two_year, PaymentMethod_Credit_card_(automatic), PaymentMethod_Electronic_check, PaymentMethod_Mailed_check <br> All: M2 Mean f1: <br> 0.6252 <br> All: M2 STD f1: <br> 0.0063",
          "<br> Best: M2 f1: <br> 0.6336 <br> Best: M2 Included Features: <br> Latitude, TenureMonths, MonthlyCharges, CLTV, SeniorCitizen, Partner, Dependents, PaperlessBilling, MultipleLines_No_phone_service, MultipleLines_Yes, OnlineSecurity_No_internet_service, OnlineSecurity_Yes, OnlineBackup_No_internet_service, OnlineBackup_Yes, DeviceProtection_No_internet_service, DeviceProtection_Yes, TechSupport_No_internet_service, TechSupport_Yes, StreamingTV_No_internet_service, StreamingTV_Yes, Contract_One_year, Contract_Two_year, PaymentMethod_Credit_card_(automatic), PaymentMethod_Electronic_check, PaymentMethod_Mailed_check <br> All: M2 Mean f1: <br> 0.6253 <br> All: M2 STD f1: <br> 0.0060",
          "<br> Best: M2 f1: <br> 0.6359 <br> Best: M2 Included Features: <br> TenureMonths, MonthlyCharges, CLTV, SeniorCitizen, Partner, Dependents, PaperlessBilling, MultipleLines_No_phone_service, MultipleLines_Yes, OnlineSecurity_No_internet_service, OnlineSecurity_Yes, OnlineBackup_No_internet_service, OnlineBackup_Yes, DeviceProtection_No_internet_service, DeviceProtection_Yes, TechSupport_No_internet_service, TechSupport_Yes, StreamingTV_No_internet_service, StreamingTV_Yes, Contract_One_year, Contract_Two_year, PaymentMethod_Credit_card_(automatic), PaymentMethod_Electronic_check, PaymentMethod_Mailed_check <br> All: M2 Mean f1: <br> 0.6209 <br> All: M2 STD f1: <br> 0.0082",
          "<br> Best: M2 f1: <br> 0.6405 <br> Best: M2 Included Features: <br> TenureMonths, MonthlyCharges, CLTV, SeniorCitizen, Dependents, PaperlessBilling, MultipleLines_No_phone_service, MultipleLines_Yes, OnlineSecurity_No_internet_service, OnlineSecurity_Yes, OnlineBackup_No_internet_service, OnlineBackup_Yes, DeviceProtection_No_internet_service, DeviceProtection_Yes, TechSupport_No_internet_service, TechSupport_Yes, StreamingTV_No_internet_service, StreamingTV_Yes, Contract_One_year, Contract_Two_year, PaymentMethod_Credit_card_(automatic), PaymentMethod_Electronic_check, PaymentMethod_Mailed_check <br> All: M2 Mean f1: <br> 0.6217 <br> All: M2 STD f1: <br> 0.0092",
          "<br> Best: M2 f1: <br> 0.6327 <br> Best: M2 Included Features: <br> TenureMonths, MonthlyCharges, CLTV, Dependents, PaperlessBilling, MultipleLines_No_phone_service, MultipleLines_Yes, OnlineSecurity_No_internet_service, OnlineSecurity_Yes, OnlineBackup_No_internet_service, OnlineBackup_Yes, DeviceProtection_No_internet_service, DeviceProtection_Yes, TechSupport_No_internet_service, TechSupport_Yes, StreamingTV_No_internet_service, StreamingTV_Yes, Contract_One_year, Contract_Two_year, PaymentMethod_Credit_card_(automatic), PaymentMethod_Electronic_check, PaymentMethod_Mailed_check <br> All: M2 Mean f1: <br> 0.6232 <br> All: M2 STD f1: <br> 0.0057",
          "<br> Best: M2 f1: <br> 0.6373 <br> Best: M2 Included Features: <br> TenureMonths, MonthlyCharges, CLTV, Dependents, PaperlessBilling, MultipleLines_No_phone_service, MultipleLines_Yes, OnlineSecurity_No_internet_service, OnlineSecurity_Yes, OnlineBackup_No_internet_service, OnlineBackup_Yes, DeviceProtection_No_internet_service, DeviceProtection_Yes, TechSupport_No_internet_service, TechSupport_Yes, StreamingTV_No_internet_service, StreamingTV_Yes, Contract_One_year, Contract_Two_year <br> All: M2 Mean f1: <br> 0.6271 <br> All: M2 STD f1: <br> 0.0069",
          "<br> Best: M2 f1: <br> 0.6352 <br> Best: M2 Included Features: <br> TenureMonths, MonthlyCharges, CLTV, Dependents, PaperlessBilling, MultipleLines_No_phone_service, MultipleLines_Yes, OnlineSecurity_No_internet_service, OnlineSecurity_Yes, OnlineBackup_No_internet_service, OnlineBackup_Yes, TechSupport_No_internet_service, TechSupport_Yes, StreamingTV_No_internet_service, StreamingTV_Yes, Contract_One_year, Contract_Two_year <br> All: M2 Mean f1: <br> 0.6237 <br> All: M2 STD f1: <br> 0.0052",
          "<br> Best: M2 f1: <br> 0.6372 <br> Best: M2 Included Features: <br> TenureMonths, MonthlyCharges, Dependents, PaperlessBilling, MultipleLines_No_phone_service, MultipleLines_Yes, OnlineSecurity_No_internet_service, OnlineSecurity_Yes, OnlineBackup_No_internet_service, OnlineBackup_Yes, TechSupport_No_internet_service, TechSupport_Yes, StreamingTV_No_internet_service, StreamingTV_Yes, Contract_One_year, Contract_Two_year <br> All: M2 Mean f1: <br> 0.6259 <br> All: M2 STD f1: <br> 0.0085",
          "<br> Best: M2 f1: <br> 0.6389 <br> Best: M2 Included Features: <br> TenureMonths, MonthlyCharges, Dependents, PaperlessBilling, MultipleLines_No_phone_service, MultipleLines_Yes, OnlineSecurity_No_internet_service, OnlineSecurity_Yes, OnlineBackup_No_internet_service, OnlineBackup_Yes, TechSupport_No_internet_service, TechSupport_Yes, Contract_One_year, Contract_Two_year <br> All: M2 Mean f1: <br> 0.6230 <br> All: M2 STD f1: <br> 0.0079",
          "<br> Best: M2 f1: <br> 0.6354 <br> Best: M2 Included Features: <br> TenureMonths, MonthlyCharges, PaperlessBilling, MultipleLines_No_phone_service, MultipleLines_Yes, OnlineSecurity_No_internet_service, OnlineSecurity_Yes, OnlineBackup_No_internet_service, OnlineBackup_Yes, TechSupport_No_internet_service, TechSupport_Yes, Contract_One_year, Contract_Two_year <br> All: M2 Mean f1: <br> 0.6218 <br> All: M2 STD f1: <br> 0.0080",
          "<br> Best: M2 f1: <br> 0.6257 <br> Best: M2 Included Features: <br> TenureMonths, MonthlyCharges, PaperlessBilling, OnlineSecurity_No_internet_service, OnlineSecurity_Yes, OnlineBackup_No_internet_service, OnlineBackup_Yes, TechSupport_No_internet_service, TechSupport_Yes, Contract_One_year, Contract_Two_year <br> All: M2 Mean f1: <br> 0.6116 <br> All: M2 STD f1: <br> 0.0092",
          "<br> Best: M2 f1: <br> 0.6189 <br> Best: M2 Included Features: <br> TenureMonths, MonthlyCharges, OnlineSecurity_No_internet_service, OnlineSecurity_Yes, OnlineBackup_No_internet_service, OnlineBackup_Yes, TechSupport_No_internet_service, TechSupport_Yes, Contract_One_year, Contract_Two_year <br> All: M2 Mean f1: <br> 0.6078 <br> All: M2 STD f1: <br> 0.0088",
          "<br> Best: M2 f1: <br> 0.6194 <br> Best: M2 Included Features: <br> TenureMonths, MonthlyCharges, OnlineSecurity_No_internet_service, OnlineSecurity_Yes, TechSupport_No_internet_service, TechSupport_Yes, Contract_One_year, Contract_Two_year <br> All: M2 Mean f1: <br> 0.6019 <br> All: M2 STD f1: <br> 0.0124",
          "<br> Best: M2 f1: <br> 0.6235 <br> Best: M2 Included Features: <br> TenureMonths, MonthlyCharges, TechSupport_No_internet_service, TechSupport_Yes, Contract_One_year, Contract_Two_year <br> All: M2 Mean f1: <br> 0.6084 <br> All: M2 STD f1: <br> 0.0105",
          "<br> Best: M2 f1: <br> 0.6039 <br> Best: M2 Included Features: <br> TenureMonths, MonthlyCharges, TechSupport_No_internet_service, TechSupport_Yes <br> All: M2 Mean f1: <br> 0.5932 <br> All: M2 STD f1: <br> 0.0073",
          "<br> Best: M2 f1: <br> 0.5985 <br> Best: M2 Included Features: <br> TenureMonths, MonthlyCharges <br> All: M2 Mean f1: <br> 0.5713 <br> All: M2 STD f1: <br> 0.0242",
          "<br> Best: M2 f1: <br> 0.5430 <br> Best: M2 Included Features: <br> TenureMonths <br> All: M2 Mean f1: <br> 0.4266 <br> All: M2 STD f1: <br> 0.1164"
         ],
         "mode": "lines+markers",
         "name": "Best: M2 f1",
         "type": "scatter",
         "x": [
          1,
          2,
          3,
          4,
          5,
          6,
          7,
          8,
          9,
          10,
          11,
          12,
          13,
          14,
          15,
          16,
          17,
          18,
          19,
          20,
          21,
          22
         ],
         "xaxis": "x",
         "y": [
          0.6172839506172839,
          0.6446469248291572,
          0.6407766990291263,
          0.6315789473684211,
          0.6417370325693608,
          0.6352657004830917,
          0.6335697399527186,
          0.6359338061465721,
          0.6404761904761904,
          0.6327014218009478,
          0.6372795969773299,
          0.6351515151515151,
          0.6372315035799523,
          0.6388557806912991,
          0.6354044548651817,
          0.6257242178447276,
          0.6189320388349515,
          0.6194477791116446,
          0.6235011990407674,
          0.6039119804400979,
          0.598503740648379,
          0.5430167597765363
         ],
         "yaxis": "y2"
        }
       ],
       "layout": {
        "hovermode": "closest",
        "template": {
         "data": {
          "bar": [
           {
            "error_x": {
             "color": "#2a3f5f"
            },
            "error_y": {
             "color": "#2a3f5f"
            },
            "marker": {
             "line": {
              "color": "#E5ECF6",
              "width": 0.5
             },
             "pattern": {
              "fillmode": "overlay",
              "size": 10,
              "solidity": 0.2
             }
            },
            "type": "bar"
           }
          ],
          "barpolar": [
           {
            "marker": {
             "line": {
              "color": "#E5ECF6",
              "width": 0.5
             },
             "pattern": {
              "fillmode": "overlay",
              "size": 10,
              "solidity": 0.2
             }
            },
            "type": "barpolar"
           }
          ],
          "carpet": [
           {
            "aaxis": {
             "endlinecolor": "#2a3f5f",
             "gridcolor": "white",
             "linecolor": "white",
             "minorgridcolor": "white",
             "startlinecolor": "#2a3f5f"
            },
            "baxis": {
             "endlinecolor": "#2a3f5f",
             "gridcolor": "white",
             "linecolor": "white",
             "minorgridcolor": "white",
             "startlinecolor": "#2a3f5f"
            },
            "type": "carpet"
           }
          ],
          "choropleth": [
           {
            "colorbar": {
             "outlinewidth": 0,
             "ticks": ""
            },
            "type": "choropleth"
           }
          ],
          "contour": [
           {
            "colorbar": {
             "outlinewidth": 0,
             "ticks": ""
            },
            "colorscale": [
             [
              0,
              "#0d0887"
             ],
             [
              0.1111111111111111,
              "#46039f"
             ],
             [
              0.2222222222222222,
              "#7201a8"
             ],
             [
              0.3333333333333333,
              "#9c179e"
             ],
             [
              0.4444444444444444,
              "#bd3786"
             ],
             [
              0.5555555555555556,
              "#d8576b"
             ],
             [
              0.6666666666666666,
              "#ed7953"
             ],
             [
              0.7777777777777778,
              "#fb9f3a"
             ],
             [
              0.8888888888888888,
              "#fdca26"
             ],
             [
              1,
              "#f0f921"
             ]
            ],
            "type": "contour"
           }
          ],
          "contourcarpet": [
           {
            "colorbar": {
             "outlinewidth": 0,
             "ticks": ""
            },
            "type": "contourcarpet"
           }
          ],
          "heatmap": [
           {
            "colorbar": {
             "outlinewidth": 0,
             "ticks": ""
            },
            "colorscale": [
             [
              0,
              "#0d0887"
             ],
             [
              0.1111111111111111,
              "#46039f"
             ],
             [
              0.2222222222222222,
              "#7201a8"
             ],
             [
              0.3333333333333333,
              "#9c179e"
             ],
             [
              0.4444444444444444,
              "#bd3786"
             ],
             [
              0.5555555555555556,
              "#d8576b"
             ],
             [
              0.6666666666666666,
              "#ed7953"
             ],
             [
              0.7777777777777778,
              "#fb9f3a"
             ],
             [
              0.8888888888888888,
              "#fdca26"
             ],
             [
              1,
              "#f0f921"
             ]
            ],
            "type": "heatmap"
           }
          ],
          "heatmapgl": [
           {
            "colorbar": {
             "outlinewidth": 0,
             "ticks": ""
            },
            "colorscale": [
             [
              0,
              "#0d0887"
             ],
             [
              0.1111111111111111,
              "#46039f"
             ],
             [
              0.2222222222222222,
              "#7201a8"
             ],
             [
              0.3333333333333333,
              "#9c179e"
             ],
             [
              0.4444444444444444,
              "#bd3786"
             ],
             [
              0.5555555555555556,
              "#d8576b"
             ],
             [
              0.6666666666666666,
              "#ed7953"
             ],
             [
              0.7777777777777778,
              "#fb9f3a"
             ],
             [
              0.8888888888888888,
              "#fdca26"
             ],
             [
              1,
              "#f0f921"
             ]
            ],
            "type": "heatmapgl"
           }
          ],
          "histogram": [
           {
            "marker": {
             "pattern": {
              "fillmode": "overlay",
              "size": 10,
              "solidity": 0.2
             }
            },
            "type": "histogram"
           }
          ],
          "histogram2d": [
           {
            "colorbar": {
             "outlinewidth": 0,
             "ticks": ""
            },
            "colorscale": [
             [
              0,
              "#0d0887"
             ],
             [
              0.1111111111111111,
              "#46039f"
             ],
             [
              0.2222222222222222,
              "#7201a8"
             ],
             [
              0.3333333333333333,
              "#9c179e"
             ],
             [
              0.4444444444444444,
              "#bd3786"
             ],
             [
              0.5555555555555556,
              "#d8576b"
             ],
             [
              0.6666666666666666,
              "#ed7953"
             ],
             [
              0.7777777777777778,
              "#fb9f3a"
             ],
             [
              0.8888888888888888,
              "#fdca26"
             ],
             [
              1,
              "#f0f921"
             ]
            ],
            "type": "histogram2d"
           }
          ],
          "histogram2dcontour": [
           {
            "colorbar": {
             "outlinewidth": 0,
             "ticks": ""
            },
            "colorscale": [
             [
              0,
              "#0d0887"
             ],
             [
              0.1111111111111111,
              "#46039f"
             ],
             [
              0.2222222222222222,
              "#7201a8"
             ],
             [
              0.3333333333333333,
              "#9c179e"
             ],
             [
              0.4444444444444444,
              "#bd3786"
             ],
             [
              0.5555555555555556,
              "#d8576b"
             ],
             [
              0.6666666666666666,
              "#ed7953"
             ],
             [
              0.7777777777777778,
              "#fb9f3a"
             ],
             [
              0.8888888888888888,
              "#fdca26"
             ],
             [
              1,
              "#f0f921"
             ]
            ],
            "type": "histogram2dcontour"
           }
          ],
          "mesh3d": [
           {
            "colorbar": {
             "outlinewidth": 0,
             "ticks": ""
            },
            "type": "mesh3d"
           }
          ],
          "parcoords": [
           {
            "line": {
             "colorbar": {
              "outlinewidth": 0,
              "ticks": ""
             }
            },
            "type": "parcoords"
           }
          ],
          "pie": [
           {
            "automargin": true,
            "type": "pie"
           }
          ],
          "scatter": [
           {
            "fillpattern": {
             "fillmode": "overlay",
             "size": 10,
             "solidity": 0.2
            },
            "type": "scatter"
           }
          ],
          "scatter3d": [
           {
            "line": {
             "colorbar": {
              "outlinewidth": 0,
              "ticks": ""
             }
            },
            "marker": {
             "colorbar": {
              "outlinewidth": 0,
              "ticks": ""
             }
            },
            "type": "scatter3d"
           }
          ],
          "scattercarpet": [
           {
            "marker": {
             "colorbar": {
              "outlinewidth": 0,
              "ticks": ""
             }
            },
            "type": "scattercarpet"
           }
          ],
          "scattergeo": [
           {
            "marker": {
             "colorbar": {
              "outlinewidth": 0,
              "ticks": ""
             }
            },
            "type": "scattergeo"
           }
          ],
          "scattergl": [
           {
            "marker": {
             "colorbar": {
              "outlinewidth": 0,
              "ticks": ""
             }
            },
            "type": "scattergl"
           }
          ],
          "scattermapbox": [
           {
            "marker": {
             "colorbar": {
              "outlinewidth": 0,
              "ticks": ""
             }
            },
            "type": "scattermapbox"
           }
          ],
          "scatterpolar": [
           {
            "marker": {
             "colorbar": {
              "outlinewidth": 0,
              "ticks": ""
             }
            },
            "type": "scatterpolar"
           }
          ],
          "scatterpolargl": [
           {
            "marker": {
             "colorbar": {
              "outlinewidth": 0,
              "ticks": ""
             }
            },
            "type": "scatterpolargl"
           }
          ],
          "scatterternary": [
           {
            "marker": {
             "colorbar": {
              "outlinewidth": 0,
              "ticks": ""
             }
            },
            "type": "scatterternary"
           }
          ],
          "surface": [
           {
            "colorbar": {
             "outlinewidth": 0,
             "ticks": ""
            },
            "colorscale": [
             [
              0,
              "#0d0887"
             ],
             [
              0.1111111111111111,
              "#46039f"
             ],
             [
              0.2222222222222222,
              "#7201a8"
             ],
             [
              0.3333333333333333,
              "#9c179e"
             ],
             [
              0.4444444444444444,
              "#bd3786"
             ],
             [
              0.5555555555555556,
              "#d8576b"
             ],
             [
              0.6666666666666666,
              "#ed7953"
             ],
             [
              0.7777777777777778,
              "#fb9f3a"
             ],
             [
              0.8888888888888888,
              "#fdca26"
             ],
             [
              1,
              "#f0f921"
             ]
            ],
            "type": "surface"
           }
          ],
          "table": [
           {
            "cells": {
             "fill": {
              "color": "#EBF0F8"
             },
             "line": {
              "color": "white"
             }
            },
            "header": {
             "fill": {
              "color": "#C8D4E3"
             },
             "line": {
              "color": "white"
             }
            },
            "type": "table"
           }
          ]
         },
         "layout": {
          "annotationdefaults": {
           "arrowcolor": "#2a3f5f",
           "arrowhead": 0,
           "arrowwidth": 1
          },
          "autotypenumbers": "strict",
          "coloraxis": {
           "colorbar": {
            "outlinewidth": 0,
            "ticks": ""
           }
          },
          "colorscale": {
           "diverging": [
            [
             0,
             "#8e0152"
            ],
            [
             0.1,
             "#c51b7d"
            ],
            [
             0.2,
             "#de77ae"
            ],
            [
             0.3,
             "#f1b6da"
            ],
            [
             0.4,
             "#fde0ef"
            ],
            [
             0.5,
             "#f7f7f7"
            ],
            [
             0.6,
             "#e6f5d0"
            ],
            [
             0.7,
             "#b8e186"
            ],
            [
             0.8,
             "#7fbc41"
            ],
            [
             0.9,
             "#4d9221"
            ],
            [
             1,
             "#276419"
            ]
           ],
           "sequential": [
            [
             0,
             "#0d0887"
            ],
            [
             0.1111111111111111,
             "#46039f"
            ],
            [
             0.2222222222222222,
             "#7201a8"
            ],
            [
             0.3333333333333333,
             "#9c179e"
            ],
            [
             0.4444444444444444,
             "#bd3786"
            ],
            [
             0.5555555555555556,
             "#d8576b"
            ],
            [
             0.6666666666666666,
             "#ed7953"
            ],
            [
             0.7777777777777778,
             "#fb9f3a"
            ],
            [
             0.8888888888888888,
             "#fdca26"
            ],
            [
             1,
             "#f0f921"
            ]
           ],
           "sequentialminus": [
            [
             0,
             "#0d0887"
            ],
            [
             0.1111111111111111,
             "#46039f"
            ],
            [
             0.2222222222222222,
             "#7201a8"
            ],
            [
             0.3333333333333333,
             "#9c179e"
            ],
            [
             0.4444444444444444,
             "#bd3786"
            ],
            [
             0.5555555555555556,
             "#d8576b"
            ],
            [
             0.6666666666666666,
             "#ed7953"
            ],
            [
             0.7777777777777778,
             "#fb9f3a"
            ],
            [
             0.8888888888888888,
             "#fdca26"
            ],
            [
             1,
             "#f0f921"
            ]
           ]
          },
          "colorway": [
           "#636efa",
           "#EF553B",
           "#00cc96",
           "#ab63fa",
           "#FFA15A",
           "#19d3f3",
           "#FF6692",
           "#B6E880",
           "#FF97FF",
           "#FECB52"
          ],
          "font": {
           "color": "#2a3f5f"
          },
          "geo": {
           "bgcolor": "white",
           "lakecolor": "white",
           "landcolor": "#E5ECF6",
           "showlakes": true,
           "showland": true,
           "subunitcolor": "white"
          },
          "hoverlabel": {
           "align": "left"
          },
          "hovermode": "closest",
          "mapbox": {
           "style": "light"
          },
          "paper_bgcolor": "white",
          "plot_bgcolor": "#E5ECF6",
          "polar": {
           "angularaxis": {
            "gridcolor": "white",
            "linecolor": "white",
            "ticks": ""
           },
           "bgcolor": "#E5ECF6",
           "radialaxis": {
            "gridcolor": "white",
            "linecolor": "white",
            "ticks": ""
           }
          },
          "scene": {
           "xaxis": {
            "backgroundcolor": "#E5ECF6",
            "gridcolor": "white",
            "gridwidth": 2,
            "linecolor": "white",
            "showbackground": true,
            "ticks": "",
            "zerolinecolor": "white"
           },
           "yaxis": {
            "backgroundcolor": "#E5ECF6",
            "gridcolor": "white",
            "gridwidth": 2,
            "linecolor": "white",
            "showbackground": true,
            "ticks": "",
            "zerolinecolor": "white"
           },
           "zaxis": {
            "backgroundcolor": "#E5ECF6",
            "gridcolor": "white",
            "gridwidth": 2,
            "linecolor": "white",
            "showbackground": true,
            "ticks": "",
            "zerolinecolor": "white"
           }
          },
          "shapedefaults": {
           "line": {
            "color": "#2a3f5f"
           }
          },
          "ternary": {
           "aaxis": {
            "gridcolor": "white",
            "linecolor": "white",
            "ticks": ""
           },
           "baxis": {
            "gridcolor": "white",
            "linecolor": "white",
            "ticks": ""
           },
           "bgcolor": "#E5ECF6",
           "caxis": {
            "gridcolor": "white",
            "linecolor": "white",
            "ticks": ""
           }
          },
          "title": {
           "x": 0.05
          },
          "xaxis": {
           "automargin": true,
           "gridcolor": "white",
           "linecolor": "white",
           "ticks": "",
           "title": {
            "standoff": 15
           },
           "zerolinecolor": "white",
           "zerolinewidth": 2
          },
          "yaxis": {
           "automargin": true,
           "gridcolor": "white",
           "linecolor": "white",
           "ticks": "",
           "title": {
            "standoff": 15
           },
           "zerolinecolor": "white",
           "zerolinewidth": 2
          }
         }
        },
        "title": {
         "text": "Agreeability Coefficients and Model Scores Over Algorithm Iterations"
        },
        "xaxis": {
         "anchor": "y",
         "domain": [
          0,
          0.94
         ],
         "title": {
          "text": "Iteration"
         },
         "type": "category"
        },
        "yaxis": {
         "anchor": "x",
         "domain": [
          0,
          1
         ],
         "title": {
          "text": "Agreeability"
         }
        },
        "yaxis2": {
         "anchor": "x",
         "overlaying": "y",
         "side": "right",
         "title": {
          "text": "Model Scores"
         }
        }
       }
      }
     },
     "metadata": {},
     "output_type": "display_data"
    }
   ],
   "source": [
    "seeker_2.plot_from_results()"
   ]
  },
  {
   "cell_type": "code",
   "execution_count": 115,
   "metadata": {},
   "outputs": [
    {
     "name": "stdout",
     "output_type": "stream",
     "text": [
      "Model 1: Results for No. 1 and No. 2 best predictions: P-value: 0.00000000. Test statistic: 283.08532423.\n",
      "Model 2: Results for No. 1 and No. 2 best predictions: P-value: 0.00000000. Test statistic: 136.48986486.\n",
      "========================================================================================================================\n",
      "Model 1: Results for No. 2 and No. 3 best predictions: P-value: 0.00000000. Test statistic: 277.27457627.\n",
      "Model 2: Results for No. 2 and No. 3 best predictions: P-value: 0.00000000. Test statistic: 201.04983389.\n",
      "========================================================================================================================\n",
      "Model 1: Results for No. 3 and No. 4 best predictions: P-value: 0.00000000. Test statistic: 203.95065789.\n",
      "Model 2: Results for No. 3 and No. 4 best predictions: P-value: 0.00000000. Test statistic: 217.22558923.\n",
      "========================================================================================================================\n",
      "Model 1: Results for No. 4 and No. 5 best predictions: P-value: 0.00000000. Test statistic: 204.72818792.\n",
      "Model 2: Results for No. 4 and No. 5 best predictions: P-value: 0.00000000. Test statistic: 239.60596026.\n",
      "========================================================================================================================\n",
      "Model 1: Results for No. 5 and No. 6 best predictions: P-value: 0.00000000. Test statistic: 274.56333333.\n",
      "Model 2: Results for No. 5 and No. 6 best predictions: P-value: 0.00000000. Test statistic: 219.74516129.\n",
      "========================================================================================================================\n",
      "Model 1: Results for No. 6 and No. 7 best predictions: P-value: 0.00000000. Test statistic: 218.70529801.\n",
      "Model 2: Results for No. 6 and No. 7 best predictions: P-value: 0.00000000. Test statistic: 260.02922078.\n",
      "========================================================================================================================\n",
      "Model 1: Results for No. 7 and No. 8 best predictions: P-value: 0.00000000. Test statistic: 200.33876221.\n",
      "Model 2: Results for No. 7 and No. 8 best predictions: P-value: 0.00000000. Test statistic: 246.78476821.\n",
      "========================================================================================================================\n",
      "Model 1: Results for No. 8 and No. 9 best predictions: P-value: 0.00000000. Test statistic: 283.39672131.\n",
      "Model 2: Results for No. 8 and No. 9 best predictions: P-value: 0.00000000. Test statistic: 229.96451613.\n",
      "========================================================================================================================\n",
      "Model 1: Results for No. 9 and No. 10 best predictions: P-value: 0.00000000. Test statistic: 301.00330033.\n",
      "Model 2: Results for No. 9 and No. 10 best predictions: P-value: 0.00000000. Test statistic: 195.03125000.\n",
      "========================================================================================================================\n",
      "Model 1: Results for No. 10 and No. 11 best predictions: P-value: 0.00000000. Test statistic: 238.02960526.\n",
      "Model 2: Results for No. 10 and No. 11 best predictions: P-value: 0.00000000. Test statistic: 197.79401993.\n",
      "========================================================================================================================\n",
      "Model 1: Results for No. 11 and No. 12 best predictions: P-value: 0.00000000. Test statistic: 285.39413681.\n",
      "Model 2: Results for No. 11 and No. 12 best predictions: P-value: 0.00000000. Test statistic: 245.16118421.\n",
      "========================================================================================================================\n",
      "Model 1: Results for No. 12 and No. 13 best predictions: P-value: 0.00000000. Test statistic: 297.02970297.\n",
      "Model 2: Results for No. 12 and No. 13 best predictions: P-value: 0.00000000. Test statistic: 247.77557756.\n",
      "========================================================================================================================\n",
      "Model 1: Results for No. 13 and No. 14 best predictions: P-value: 0.00000000. Test statistic: 223.12580645.\n",
      "Model 2: Results for No. 13 and No. 14 best predictions: P-value: 0.00000000. Test statistic: 150.01929260.\n",
      "========================================================================================================================\n",
      "Model 1: Results for No. 14 and No. 15 best predictions: P-value: 0.00000000. Test statistic: 205.44200627.\n",
      "Model 2: Results for No. 14 and No. 15 best predictions: P-value: 0.00000000. Test statistic: 219.05882353.\n",
      "========================================================================================================================\n",
      "Model 1: Results for No. 15 and No. 16 best predictions: P-value: 0.00000000. Test statistic: 122.53453453.\n",
      "Model 2: Results for No. 15 and No. 16 best predictions: P-value: 0.00000000. Test statistic: 210.34713376.\n",
      "========================================================================================================================\n",
      "Model 1: Results for No. 16 and No. 17 best predictions: P-value: 0.00000000. Test statistic: 269.03834808.\n",
      "Model 2: Results for No. 16 and No. 17 best predictions: P-value: 0.00000000. Test statistic: 141.77917981.\n",
      "========================================================================================================================\n",
      "Model 1: Results for No. 17 and No. 18 best predictions: P-value: 0.00000000. Test statistic: 102.44637681.\n",
      "Model 2: Results for No. 17 and No. 18 best predictions: P-value: 0.00000000. Test statistic: 141.78662420.\n",
      "========================================================================================================================\n",
      "Model 1: Results for No. 18 and No. 19 best predictions: P-value: 0.00000000. Test statistic: 84.35322196.\n",
      "Model 2: Results for No. 18 and No. 19 best predictions: P-value: 0.00000000. Test statistic: 150.74382716.\n",
      "========================================================================================================================\n",
      "Model 1: Results for No. 19 and No. 20 best predictions: P-value: 0.00000000. Test statistic: 217.34161491.\n",
      "Model 2: Results for No. 19 and No. 20 best predictions: P-value: 0.00000000. Test statistic: 113.29503106.\n",
      "========================================================================================================================\n",
      "Model 1: Results for No. 20 and No. 21 best predictions: P-value: 0.00000000. Test statistic: 481.00207039.\n",
      "Model 2: Results for No. 20 and No. 21 best predictions: P-value: 0.11358152. Test statistic: 2.50366748.\n",
      "========================================================================================================================\n"
     ]
    }
   ],
   "source": [
    "seeker_2.compare_n_best(n=21, test='mcnemar_chisquare')"
   ]
  },
  {
   "cell_type": "code",
   "execution_count": 116,
   "metadata": {},
   "outputs": [],
   "source": [
    "RESULTS_PATH = 'test_results/logit_mlp/logit_mlp.pkl'\n",
    "\n",
    "with open(RESULTS_PATH, 'wb') as f:\n",
    "    pickle.dump(results_df_2, f)"
   ]
  },
  {
   "cell_type": "markdown",
   "metadata": {},
   "source": [
    "### BackEliminator with Logit and RandomForestClassifier"
   ]
  },
  {
   "cell_type": "code",
   "execution_count": 120,
   "metadata": {},
   "outputs": [],
   "source": [
    "# Initialize my algorithm\n",
    "seeker_3 = BackEliminator(\n",
    "    X=X_train_scaled, # predictor\n",
    "    y=y_train, # target\n",
    "    validation_data=(X_val_scaled, y_val), # validation datasets for evaluation\n",
    "    task_type='classification', # select classification task\n",
    "    criterion='f1', # select f1 score for feature elimination \n",
    "    agreeability='cohen_kappa', # select cohen's kappa as inter rater agreeability\n",
    "    dummy_list=dummy_list # List of dummy variables to group together when evaluating features\n",
    ")"
   ]
  },
  {
   "cell_type": "code",
   "execution_count": 121,
   "metadata": {},
   "outputs": [
    {
     "name": "stdout",
     "output_type": "stream",
     "text": [
      "Initial run: fitted both models with full feature set.\n",
      "------------------------------------------------------------------------------------------------------------------------------------------------------\n",
      "Model 1 included: ['Latitude', 'Longitude', 'TenureMonths', 'MonthlyCharges', 'TotalCharges', 'CLTV', 'Gender', 'SeniorCitizen', 'Partner', 'Dependents', 'PhoneService', 'PaperlessBilling', ['MultipleLines_No_phone_service', 'MultipleLines_Yes'], ['InternetService_Fiber_optic', 'InternetService_No'], ['OnlineSecurity_No_internet_service', 'OnlineSecurity_Yes'], ['OnlineBackup_No_internet_service', 'OnlineBackup_Yes'], ['DeviceProtection_No_internet_service', 'DeviceProtection_Yes'], ['TechSupport_No_internet_service', 'TechSupport_Yes'], ['StreamingTV_No_internet_service', 'StreamingTV_Yes'], ['StreamingMovies_No_internet_service', 'StreamingMovies_Yes'], ['Contract_One_year', 'Contract_Two_year'], ['PaymentMethod_Credit_card_(automatic)', 'PaymentMethod_Electronic_check', 'PaymentMethod_Mailed_check']]. F1: 0.6342\n",
      "Model 2 included: ['Latitude', 'Longitude', 'TenureMonths', 'MonthlyCharges', 'TotalCharges', 'CLTV', 'Gender', 'SeniorCitizen', 'Partner', 'Dependents', 'PhoneService', 'PaperlessBilling', ['MultipleLines_No_phone_service', 'MultipleLines_Yes'], ['InternetService_Fiber_optic', 'InternetService_No'], ['OnlineSecurity_No_internet_service', 'OnlineSecurity_Yes'], ['OnlineBackup_No_internet_service', 'OnlineBackup_Yes'], ['DeviceProtection_No_internet_service', 'DeviceProtection_Yes'], ['TechSupport_No_internet_service', 'TechSupport_Yes'], ['StreamingTV_No_internet_service', 'StreamingTV_Yes'], ['StreamingMovies_No_internet_service', 'StreamingMovies_Yes'], ['Contract_One_year', 'Contract_Two_year'], ['PaymentMethod_Credit_card_(automatic)', 'PaymentMethod_Electronic_check', 'PaymentMethod_Mailed_check']]. F1: 0.6105\n",
      "------------------------------------------------------------------------------------------------------------------------------------------------------\n",
      "Agreeability Coefficient (cohen_kappa): 0.7865\n",
      "======================================================================================================================================================\n",
      "Iteration 1:\n",
      "------------------------------------------------------------------------------------------------------------------------------------------------------\n",
      "Results from best models:\n",
      "Best Model 1 included: ['Latitude', 'TenureMonths', 'MonthlyCharges', 'TotalCharges', 'CLTV', 'Gender', 'SeniorCitizen', 'Partner', 'Dependents', 'PhoneService', 'PaperlessBilling', ['MultipleLines_No_phone_service', 'MultipleLines_Yes'], ['InternetService_Fiber_optic', 'InternetService_No'], ['OnlineSecurity_No_internet_service', 'OnlineSecurity_Yes'], ['OnlineBackup_No_internet_service', 'OnlineBackup_Yes'], ['DeviceProtection_No_internet_service', 'DeviceProtection_Yes'], ['TechSupport_No_internet_service', 'TechSupport_Yes'], ['StreamingTV_No_internet_service', 'StreamingTV_Yes'], ['StreamingMovies_No_internet_service', 'StreamingMovies_Yes'], ['Contract_One_year', 'Contract_Two_year'], ['PaymentMethod_Credit_card_(automatic)', 'PaymentMethod_Electronic_check', 'PaymentMethod_Mailed_check']]. F1: 0.6325\n",
      "Best Model 2 included: ['Latitude', 'Longitude', 'TenureMonths', 'MonthlyCharges', 'TotalCharges', 'CLTV', 'Gender', 'SeniorCitizen', 'Partner', 'Dependents', 'PhoneService', 'PaperlessBilling', ['MultipleLines_No_phone_service', 'MultipleLines_Yes'], ['InternetService_Fiber_optic', 'InternetService_No'], ['OnlineBackup_No_internet_service', 'OnlineBackup_Yes'], ['DeviceProtection_No_internet_service', 'DeviceProtection_Yes'], ['TechSupport_No_internet_service', 'TechSupport_Yes'], ['StreamingTV_No_internet_service', 'StreamingTV_Yes'], ['StreamingMovies_No_internet_service', 'StreamingMovies_Yes'], ['Contract_One_year', 'Contract_Two_year'], ['PaymentMethod_Credit_card_(automatic)', 'PaymentMethod_Electronic_check', 'PaymentMethod_Mailed_check']]. F1: 0.6405\n",
      "Agreeability Coefficient (cohen_kappa) between best models: 0.7685782496063394\n",
      "------------------------------------------------------------------------------------------------------------------------------------------------------\n",
      "Results from all models:\n",
      "M1 mean score: 0.6223. Standard deviation: 0.0065\n",
      "M2 mean score: 0.6106. Standard deviation: 0.0112\n",
      "Mean agreeability coefficient (cohen_kappa): 0.7710. Standard deviation: 0.0268\n",
      "======================================================================================================================================================\n",
      "Iteration 2:\n",
      "------------------------------------------------------------------------------------------------------------------------------------------------------\n",
      "Results from best models:\n",
      "Best Model 1 included: ['Latitude', 'TenureMonths', 'MonthlyCharges', 'TotalCharges', 'CLTV', 'Gender', 'SeniorCitizen', 'Dependents', 'PhoneService', 'PaperlessBilling', ['MultipleLines_No_phone_service', 'MultipleLines_Yes'], ['InternetService_Fiber_optic', 'InternetService_No'], ['OnlineSecurity_No_internet_service', 'OnlineSecurity_Yes'], ['OnlineBackup_No_internet_service', 'OnlineBackup_Yes'], ['DeviceProtection_No_internet_service', 'DeviceProtection_Yes'], ['TechSupport_No_internet_service', 'TechSupport_Yes'], ['StreamingTV_No_internet_service', 'StreamingTV_Yes'], ['StreamingMovies_No_internet_service', 'StreamingMovies_Yes'], ['Contract_One_year', 'Contract_Two_year'], ['PaymentMethod_Credit_card_(automatic)', 'PaymentMethod_Electronic_check', 'PaymentMethod_Mailed_check']]. F1: 0.6342\n",
      "Best Model 2 included: ['Latitude', 'Longitude', 'TenureMonths', 'MonthlyCharges', 'TotalCharges', 'CLTV', 'Gender', 'Partner', 'Dependents', 'PhoneService', 'PaperlessBilling', ['MultipleLines_No_phone_service', 'MultipleLines_Yes'], ['InternetService_Fiber_optic', 'InternetService_No'], ['OnlineBackup_No_internet_service', 'OnlineBackup_Yes'], ['DeviceProtection_No_internet_service', 'DeviceProtection_Yes'], ['TechSupport_No_internet_service', 'TechSupport_Yes'], ['StreamingTV_No_internet_service', 'StreamingTV_Yes'], ['StreamingMovies_No_internet_service', 'StreamingMovies_Yes'], ['Contract_One_year', 'Contract_Two_year'], ['PaymentMethod_Credit_card_(automatic)', 'PaymentMethod_Electronic_check', 'PaymentMethod_Mailed_check']]. F1: 0.6346\n",
      "Agreeability Coefficient (cohen_kappa) between best models: 0.7756940267683098\n",
      "------------------------------------------------------------------------------------------------------------------------------------------------------\n",
      "Results from all models:\n",
      "M1 mean score: 0.6214. Standard deviation: 0.0065\n",
      "M2 mean score: 0.6189. Standard deviation: 0.0082\n",
      "Mean agreeability coefficient (cohen_kappa): 0.7500. Standard deviation: 0.0210\n",
      "======================================================================================================================================================\n",
      "Iteration 3:\n",
      "------------------------------------------------------------------------------------------------------------------------------------------------------\n",
      "Results from best models:\n",
      "Best Model 1 included: ['TenureMonths', 'MonthlyCharges', 'TotalCharges', 'CLTV', 'Gender', 'SeniorCitizen', 'Dependents', 'PhoneService', 'PaperlessBilling', ['MultipleLines_No_phone_service', 'MultipleLines_Yes'], ['InternetService_Fiber_optic', 'InternetService_No'], ['OnlineSecurity_No_internet_service', 'OnlineSecurity_Yes'], ['OnlineBackup_No_internet_service', 'OnlineBackup_Yes'], ['DeviceProtection_No_internet_service', 'DeviceProtection_Yes'], ['TechSupport_No_internet_service', 'TechSupport_Yes'], ['StreamingTV_No_internet_service', 'StreamingTV_Yes'], ['StreamingMovies_No_internet_service', 'StreamingMovies_Yes'], ['Contract_One_year', 'Contract_Two_year'], ['PaymentMethod_Credit_card_(automatic)', 'PaymentMethod_Electronic_check', 'PaymentMethod_Mailed_check']]. F1: 0.6308\n",
      "Best Model 2 included: ['Latitude', 'TenureMonths', 'MonthlyCharges', 'TotalCharges', 'CLTV', 'Gender', 'Partner', 'Dependents', 'PhoneService', 'PaperlessBilling', ['MultipleLines_No_phone_service', 'MultipleLines_Yes'], ['InternetService_Fiber_optic', 'InternetService_No'], ['OnlineBackup_No_internet_service', 'OnlineBackup_Yes'], ['DeviceProtection_No_internet_service', 'DeviceProtection_Yes'], ['TechSupport_No_internet_service', 'TechSupport_Yes'], ['StreamingTV_No_internet_service', 'StreamingTV_Yes'], ['StreamingMovies_No_internet_service', 'StreamingMovies_Yes'], ['Contract_One_year', 'Contract_Two_year'], ['PaymentMethod_Credit_card_(automatic)', 'PaymentMethod_Electronic_check', 'PaymentMethod_Mailed_check']]. F1: 0.6372\n",
      "Agreeability Coefficient (cohen_kappa) between best models: 0.7855898872327765\n",
      "------------------------------------------------------------------------------------------------------------------------------------------------------\n",
      "Results from all models:\n",
      "M1 mean score: 0.6202. Standard deviation: 0.0077\n",
      "M2 mean score: 0.6240. Standard deviation: 0.0085\n",
      "Mean agreeability coefficient (cohen_kappa): 0.7485. Standard deviation: 0.0253\n",
      "======================================================================================================================================================\n",
      "Iteration 4:\n",
      "------------------------------------------------------------------------------------------------------------------------------------------------------\n",
      "Results from best models:\n",
      "Best Model 1 included: ['TenureMonths', 'TotalCharges', 'CLTV', 'Gender', 'SeniorCitizen', 'Dependents', 'PhoneService', 'PaperlessBilling', ['MultipleLines_No_phone_service', 'MultipleLines_Yes'], ['InternetService_Fiber_optic', 'InternetService_No'], ['OnlineSecurity_No_internet_service', 'OnlineSecurity_Yes'], ['OnlineBackup_No_internet_service', 'OnlineBackup_Yes'], ['DeviceProtection_No_internet_service', 'DeviceProtection_Yes'], ['TechSupport_No_internet_service', 'TechSupport_Yes'], ['StreamingTV_No_internet_service', 'StreamingTV_Yes'], ['StreamingMovies_No_internet_service', 'StreamingMovies_Yes'], ['Contract_One_year', 'Contract_Two_year'], ['PaymentMethod_Credit_card_(automatic)', 'PaymentMethod_Electronic_check', 'PaymentMethod_Mailed_check']]. F1: 0.6302\n",
      "Best Model 2 included: ['Latitude', 'TenureMonths', 'MonthlyCharges', 'TotalCharges', 'CLTV', 'Gender', 'Partner', 'Dependents', 'PhoneService', 'PaperlessBilling', ['MultipleLines_No_phone_service', 'MultipleLines_Yes'], ['InternetService_Fiber_optic', 'InternetService_No'], ['OnlineBackup_No_internet_service', 'OnlineBackup_Yes'], ['DeviceProtection_No_internet_service', 'DeviceProtection_Yes'], ['TechSupport_No_internet_service', 'TechSupport_Yes'], ['StreamingTV_No_internet_service', 'StreamingTV_Yes'], ['Contract_One_year', 'Contract_Two_year'], ['PaymentMethod_Credit_card_(automatic)', 'PaymentMethod_Electronic_check', 'PaymentMethod_Mailed_check']]. F1: 0.6386\n",
      "Agreeability Coefficient (cohen_kappa) between best models: 0.7526019207743384\n",
      "------------------------------------------------------------------------------------------------------------------------------------------------------\n",
      "Results from all models:\n",
      "M1 mean score: 0.6205. Standard deviation: 0.0070\n",
      "M2 mean score: 0.6268. Standard deviation: 0.0083\n",
      "Mean agreeability coefficient (cohen_kappa): 0.7378. Standard deviation: 0.0330\n",
      "======================================================================================================================================================\n",
      "Iteration 5:\n",
      "------------------------------------------------------------------------------------------------------------------------------------------------------\n",
      "Results from best models:\n",
      "Best Model 1 included: ['TenureMonths', 'TotalCharges', 'CLTV', 'Gender', 'SeniorCitizen', 'Dependents', 'PhoneService', 'PaperlessBilling', ['MultipleLines_No_phone_service', 'MultipleLines_Yes'], ['InternetService_Fiber_optic', 'InternetService_No'], ['OnlineSecurity_No_internet_service', 'OnlineSecurity_Yes'], ['DeviceProtection_No_internet_service', 'DeviceProtection_Yes'], ['TechSupport_No_internet_service', 'TechSupport_Yes'], ['StreamingTV_No_internet_service', 'StreamingTV_Yes'], ['StreamingMovies_No_internet_service', 'StreamingMovies_Yes'], ['Contract_One_year', 'Contract_Two_year'], ['PaymentMethod_Credit_card_(automatic)', 'PaymentMethod_Electronic_check', 'PaymentMethod_Mailed_check']]. F1: 0.6383\n",
      "Best Model 2 included: ['Latitude', 'TenureMonths', 'MonthlyCharges', 'TotalCharges', 'CLTV', 'Partner', 'Dependents', 'PhoneService', 'PaperlessBilling', ['MultipleLines_No_phone_service', 'MultipleLines_Yes'], ['InternetService_Fiber_optic', 'InternetService_No'], ['OnlineBackup_No_internet_service', 'OnlineBackup_Yes'], ['DeviceProtection_No_internet_service', 'DeviceProtection_Yes'], ['TechSupport_No_internet_service', 'TechSupport_Yes'], ['StreamingTV_No_internet_service', 'StreamingTV_Yes'], ['Contract_One_year', 'Contract_Two_year'], ['PaymentMethod_Credit_card_(automatic)', 'PaymentMethod_Electronic_check', 'PaymentMethod_Mailed_check']]. F1: 0.6410\n",
      "Agreeability Coefficient (cohen_kappa) between best models: 0.7339780869914847\n",
      "------------------------------------------------------------------------------------------------------------------------------------------------------\n",
      "Results from all models:\n",
      "M1 mean score: 0.6214. Standard deviation: 0.0114\n",
      "M2 mean score: 0.6254. Standard deviation: 0.0096\n",
      "Mean agreeability coefficient (cohen_kappa): 0.7221. Standard deviation: 0.0289\n",
      "======================================================================================================================================================\n",
      "Iteration 6:\n",
      "------------------------------------------------------------------------------------------------------------------------------------------------------\n",
      "Results from best models:\n",
      "Best Model 1 included: ['TenureMonths', 'TotalCharges', 'CLTV', 'Gender', 'SeniorCitizen', 'Dependents', 'PhoneService', 'PaperlessBilling', ['MultipleLines_No_phone_service', 'MultipleLines_Yes'], ['InternetService_Fiber_optic', 'InternetService_No'], ['OnlineSecurity_No_internet_service', 'OnlineSecurity_Yes'], ['DeviceProtection_No_internet_service', 'DeviceProtection_Yes'], ['TechSupport_No_internet_service', 'TechSupport_Yes'], ['StreamingMovies_No_internet_service', 'StreamingMovies_Yes'], ['Contract_One_year', 'Contract_Two_year'], ['PaymentMethod_Credit_card_(automatic)', 'PaymentMethod_Electronic_check', 'PaymentMethod_Mailed_check']]. F1: 0.6368\n",
      "Best Model 2 included: ['Latitude', 'TenureMonths', 'MonthlyCharges', 'TotalCharges', 'CLTV', 'Dependents', 'PhoneService', 'PaperlessBilling', ['MultipleLines_No_phone_service', 'MultipleLines_Yes'], ['InternetService_Fiber_optic', 'InternetService_No'], ['OnlineBackup_No_internet_service', 'OnlineBackup_Yes'], ['DeviceProtection_No_internet_service', 'DeviceProtection_Yes'], ['TechSupport_No_internet_service', 'TechSupport_Yes'], ['StreamingTV_No_internet_service', 'StreamingTV_Yes'], ['Contract_One_year', 'Contract_Two_year'], ['PaymentMethod_Credit_card_(automatic)', 'PaymentMethod_Electronic_check', 'PaymentMethod_Mailed_check']]. F1: 0.6557\n",
      "Agreeability Coefficient (cohen_kappa) between best models: 0.7159128699700699\n",
      "------------------------------------------------------------------------------------------------------------------------------------------------------\n",
      "Results from all models:\n",
      "M1 mean score: 0.6269. Standard deviation: 0.0071\n",
      "M2 mean score: 0.6318. Standard deviation: 0.0136\n",
      "Mean agreeability coefficient (cohen_kappa): 0.7068. Standard deviation: 0.0280\n",
      "======================================================================================================================================================\n",
      "Iteration 7:\n",
      "------------------------------------------------------------------------------------------------------------------------------------------------------\n",
      "Results from best models:\n",
      "Best Model 1 included: ['TenureMonths', 'TotalCharges', 'CLTV', 'Gender', 'SeniorCitizen', 'Dependents', 'PhoneService', 'PaperlessBilling', ['InternetService_Fiber_optic', 'InternetService_No'], ['OnlineSecurity_No_internet_service', 'OnlineSecurity_Yes'], ['DeviceProtection_No_internet_service', 'DeviceProtection_Yes'], ['TechSupport_No_internet_service', 'TechSupport_Yes'], ['StreamingMovies_No_internet_service', 'StreamingMovies_Yes'], ['Contract_One_year', 'Contract_Two_year'], ['PaymentMethod_Credit_card_(automatic)', 'PaymentMethod_Electronic_check', 'PaymentMethod_Mailed_check']]. F1: 0.6361\n",
      "Best Model 2 included: ['Latitude', 'TenureMonths', 'MonthlyCharges', 'TotalCharges', 'CLTV', 'Dependents', 'PhoneService', 'PaperlessBilling', ['InternetService_Fiber_optic', 'InternetService_No'], ['OnlineBackup_No_internet_service', 'OnlineBackup_Yes'], ['DeviceProtection_No_internet_service', 'DeviceProtection_Yes'], ['TechSupport_No_internet_service', 'TechSupport_Yes'], ['StreamingTV_No_internet_service', 'StreamingTV_Yes'], ['Contract_One_year', 'Contract_Two_year'], ['PaymentMethod_Credit_card_(automatic)', 'PaymentMethod_Electronic_check', 'PaymentMethod_Mailed_check']]. F1: 0.6439\n",
      "Agreeability Coefficient (cohen_kappa) between best models: 0.7203597362312874\n",
      "------------------------------------------------------------------------------------------------------------------------------------------------------\n",
      "Results from all models:\n",
      "M1 mean score: 0.6280. Standard deviation: 0.0070\n",
      "M2 mean score: 0.6298. Standard deviation: 0.0088\n",
      "Mean agreeability coefficient (cohen_kappa): 0.7052. Standard deviation: 0.0268\n",
      "======================================================================================================================================================\n",
      "Iteration 8:\n",
      "------------------------------------------------------------------------------------------------------------------------------------------------------\n",
      "Results from best models:\n",
      "Best Model 1 included: ['TenureMonths', 'TotalCharges', 'CLTV', 'SeniorCitizen', 'Dependents', 'PhoneService', 'PaperlessBilling', ['InternetService_Fiber_optic', 'InternetService_No'], ['OnlineSecurity_No_internet_service', 'OnlineSecurity_Yes'], ['DeviceProtection_No_internet_service', 'DeviceProtection_Yes'], ['TechSupport_No_internet_service', 'TechSupport_Yes'], ['StreamingMovies_No_internet_service', 'StreamingMovies_Yes'], ['Contract_One_year', 'Contract_Two_year'], ['PaymentMethod_Credit_card_(automatic)', 'PaymentMethod_Electronic_check', 'PaymentMethod_Mailed_check']]. F1: 0.6332\n",
      "Best Model 2 included: ['Latitude', 'TenureMonths', 'MonthlyCharges', 'CLTV', 'Dependents', 'PhoneService', 'PaperlessBilling', ['InternetService_Fiber_optic', 'InternetService_No'], ['OnlineBackup_No_internet_service', 'OnlineBackup_Yes'], ['DeviceProtection_No_internet_service', 'DeviceProtection_Yes'], ['TechSupport_No_internet_service', 'TechSupport_Yes'], ['StreamingTV_No_internet_service', 'StreamingTV_Yes'], ['Contract_One_year', 'Contract_Two_year'], ['PaymentMethod_Credit_card_(automatic)', 'PaymentMethod_Electronic_check', 'PaymentMethod_Mailed_check']]. F1: 0.6373\n",
      "Agreeability Coefficient (cohen_kappa) between best models: 0.736900784312342\n",
      "------------------------------------------------------------------------------------------------------------------------------------------------------\n",
      "Results from all models:\n",
      "M1 mean score: 0.6257. Standard deviation: 0.0076\n",
      "M2 mean score: 0.6187. Standard deviation: 0.0129\n",
      "Mean agreeability coefficient (cohen_kappa): 0.7010. Standard deviation: 0.0290\n",
      "======================================================================================================================================================\n",
      "Iteration 9:\n",
      "------------------------------------------------------------------------------------------------------------------------------------------------------\n",
      "Results from best models:\n",
      "Best Model 1 included: ['TenureMonths', 'TotalCharges', 'CLTV', 'SeniorCitizen', 'Dependents', 'PhoneService', 'PaperlessBilling', ['InternetService_Fiber_optic', 'InternetService_No'], ['OnlineSecurity_No_internet_service', 'OnlineSecurity_Yes'], ['DeviceProtection_No_internet_service', 'DeviceProtection_Yes'], ['TechSupport_No_internet_service', 'TechSupport_Yes'], ['Contract_One_year', 'Contract_Two_year'], ['PaymentMethod_Credit_card_(automatic)', 'PaymentMethod_Electronic_check', 'PaymentMethod_Mailed_check']]. F1: 0.6365\n",
      "Best Model 2 included: ['Latitude', 'TenureMonths', 'MonthlyCharges', 'CLTV', 'Dependents', 'PhoneService', 'PaperlessBilling', ['OnlineBackup_No_internet_service', 'OnlineBackup_Yes'], ['DeviceProtection_No_internet_service', 'DeviceProtection_Yes'], ['TechSupport_No_internet_service', 'TechSupport_Yes'], ['StreamingTV_No_internet_service', 'StreamingTV_Yes'], ['Contract_One_year', 'Contract_Two_year'], ['PaymentMethod_Credit_card_(automatic)', 'PaymentMethod_Electronic_check', 'PaymentMethod_Mailed_check']]. F1: 0.6433\n",
      "Agreeability Coefficient (cohen_kappa) between best models: 0.7561239547466799\n",
      "------------------------------------------------------------------------------------------------------------------------------------------------------\n",
      "Results from all models:\n",
      "M1 mean score: 0.6245. Standard deviation: 0.0086\n",
      "M2 mean score: 0.6240. Standard deviation: 0.0147\n",
      "Mean agreeability coefficient (cohen_kappa): 0.7094. Standard deviation: 0.0485\n",
      "======================================================================================================================================================\n",
      "Iteration 10:\n",
      "------------------------------------------------------------------------------------------------------------------------------------------------------\n",
      "Results from best models:\n",
      "Best Model 1 included: ['TenureMonths', 'TotalCharges', 'CLTV', 'SeniorCitizen', 'Dependents', 'PhoneService', 'PaperlessBilling', ['OnlineSecurity_No_internet_service', 'OnlineSecurity_Yes'], ['DeviceProtection_No_internet_service', 'DeviceProtection_Yes'], ['TechSupport_No_internet_service', 'TechSupport_Yes'], ['Contract_One_year', 'Contract_Two_year'], ['PaymentMethod_Credit_card_(automatic)', 'PaymentMethod_Electronic_check', 'PaymentMethod_Mailed_check']]. F1: 0.6389\n",
      "Best Model 2 included: ['Latitude', 'TenureMonths', 'MonthlyCharges', 'CLTV', 'Dependents', 'PhoneService', ['OnlineBackup_No_internet_service', 'OnlineBackup_Yes'], ['DeviceProtection_No_internet_service', 'DeviceProtection_Yes'], ['TechSupport_No_internet_service', 'TechSupport_Yes'], ['StreamingTV_No_internet_service', 'StreamingTV_Yes'], ['Contract_One_year', 'Contract_Two_year'], ['PaymentMethod_Credit_card_(automatic)', 'PaymentMethod_Electronic_check', 'PaymentMethod_Mailed_check']]. F1: 0.6424\n",
      "Agreeability Coefficient (cohen_kappa) between best models: 0.7360516078199634\n",
      "------------------------------------------------------------------------------------------------------------------------------------------------------\n",
      "Results from all models:\n",
      "M1 mean score: 0.6281. Standard deviation: 0.0067\n",
      "M2 mean score: 0.6185. Standard deviation: 0.0186\n",
      "Mean agreeability coefficient (cohen_kappa): 0.7115. Standard deviation: 0.0478\n",
      "======================================================================================================================================================\n",
      "Iteration 11:\n",
      "------------------------------------------------------------------------------------------------------------------------------------------------------\n",
      "Results from best models:\n",
      "Best Model 1 included: ['TenureMonths', 'TotalCharges', 'CLTV', 'Dependents', 'PhoneService', 'PaperlessBilling', ['OnlineSecurity_No_internet_service', 'OnlineSecurity_Yes'], ['DeviceProtection_No_internet_service', 'DeviceProtection_Yes'], ['TechSupport_No_internet_service', 'TechSupport_Yes'], ['Contract_One_year', 'Contract_Two_year'], ['PaymentMethod_Credit_card_(automatic)', 'PaymentMethod_Electronic_check', 'PaymentMethod_Mailed_check']]. F1: 0.6398\n",
      "Best Model 2 included: ['Latitude', 'TenureMonths', 'MonthlyCharges', 'CLTV', 'Dependents', ['OnlineBackup_No_internet_service', 'OnlineBackup_Yes'], ['DeviceProtection_No_internet_service', 'DeviceProtection_Yes'], ['TechSupport_No_internet_service', 'TechSupport_Yes'], ['StreamingTV_No_internet_service', 'StreamingTV_Yes'], ['Contract_One_year', 'Contract_Two_year'], ['PaymentMethod_Credit_card_(automatic)', 'PaymentMethod_Electronic_check', 'PaymentMethod_Mailed_check']]. F1: 0.6360\n",
      "Agreeability Coefficient (cohen_kappa) between best models: 0.7397212142224726\n",
      "------------------------------------------------------------------------------------------------------------------------------------------------------\n",
      "Results from all models:\n",
      "M1 mean score: 0.6251. Standard deviation: 0.0093\n",
      "M2 mean score: 0.6186. Standard deviation: 0.0143\n",
      "Mean agreeability coefficient (cohen_kappa): 0.6948. Standard deviation: 0.0391\n",
      "======================================================================================================================================================\n",
      "Iteration 12:\n",
      "------------------------------------------------------------------------------------------------------------------------------------------------------\n",
      "Results from best models:\n",
      "Best Model 1 included: ['TenureMonths', 'TotalCharges', 'Dependents', 'PhoneService', 'PaperlessBilling', ['OnlineSecurity_No_internet_service', 'OnlineSecurity_Yes'], ['DeviceProtection_No_internet_service', 'DeviceProtection_Yes'], ['TechSupport_No_internet_service', 'TechSupport_Yes'], ['Contract_One_year', 'Contract_Two_year'], ['PaymentMethod_Credit_card_(automatic)', 'PaymentMethod_Electronic_check', 'PaymentMethod_Mailed_check']]. F1: 0.6367\n",
      "Best Model 2 included: ['Latitude', 'TenureMonths', 'MonthlyCharges', 'CLTV', 'Dependents', ['DeviceProtection_No_internet_service', 'DeviceProtection_Yes'], ['TechSupport_No_internet_service', 'TechSupport_Yes'], ['StreamingTV_No_internet_service', 'StreamingTV_Yes'], ['Contract_One_year', 'Contract_Two_year'], ['PaymentMethod_Credit_card_(automatic)', 'PaymentMethod_Electronic_check', 'PaymentMethod_Mailed_check']]. F1: 0.6444\n",
      "Agreeability Coefficient (cohen_kappa) between best models: 0.7483432171204383\n",
      "------------------------------------------------------------------------------------------------------------------------------------------------------\n",
      "Results from all models:\n",
      "M1 mean score: 0.6253. Standard deviation: 0.0080\n",
      "M2 mean score: 0.6189. Standard deviation: 0.0133\n",
      "Mean agreeability coefficient (cohen_kappa): 0.7014. Standard deviation: 0.0490\n",
      "======================================================================================================================================================\n",
      "Iteration 13:\n",
      "------------------------------------------------------------------------------------------------------------------------------------------------------\n",
      "Results from best models:\n",
      "Best Model 1 included: ['TenureMonths', 'TotalCharges', 'Dependents', 'PhoneService', ['OnlineSecurity_No_internet_service', 'OnlineSecurity_Yes'], ['DeviceProtection_No_internet_service', 'DeviceProtection_Yes'], ['TechSupport_No_internet_service', 'TechSupport_Yes'], ['Contract_One_year', 'Contract_Two_year'], ['PaymentMethod_Credit_card_(automatic)', 'PaymentMethod_Electronic_check', 'PaymentMethod_Mailed_check']]. F1: 0.6397\n",
      "Best Model 2 included: ['Latitude', 'TenureMonths', 'MonthlyCharges', 'CLTV', 'Dependents', ['DeviceProtection_No_internet_service', 'DeviceProtection_Yes'], ['TechSupport_No_internet_service', 'TechSupport_Yes'], ['StreamingTV_No_internet_service', 'StreamingTV_Yes'], ['Contract_One_year', 'Contract_Two_year']]. F1: 0.6369\n",
      "Agreeability Coefficient (cohen_kappa) between best models: 0.7442865753500293\n",
      "------------------------------------------------------------------------------------------------------------------------------------------------------\n",
      "Results from all models:\n",
      "M1 mean score: 0.6266. Standard deviation: 0.0067\n",
      "M2 mean score: 0.6197. Standard deviation: 0.0138\n",
      "Mean agreeability coefficient (cohen_kappa): 0.7114. Standard deviation: 0.0365\n",
      "======================================================================================================================================================\n",
      "Iteration 14:\n",
      "------------------------------------------------------------------------------------------------------------------------------------------------------\n",
      "Results from best models:\n",
      "Best Model 1 included: ['TenureMonths', 'TotalCharges', 'Dependents', 'PhoneService', ['OnlineSecurity_No_internet_service', 'OnlineSecurity_Yes'], ['TechSupport_No_internet_service', 'TechSupport_Yes'], ['Contract_One_year', 'Contract_Two_year'], ['PaymentMethod_Credit_card_(automatic)', 'PaymentMethod_Electronic_check', 'PaymentMethod_Mailed_check']]. F1: 0.6353\n",
      "Best Model 2 included: ['Latitude', 'TenureMonths', 'MonthlyCharges', 'CLTV', 'Dependents', ['DeviceProtection_No_internet_service', 'DeviceProtection_Yes'], ['TechSupport_No_internet_service', 'TechSupport_Yes'], ['Contract_One_year', 'Contract_Two_year']]. F1: 0.6363\n",
      "Agreeability Coefficient (cohen_kappa) between best models: 0.7541802411025355\n",
      "------------------------------------------------------------------------------------------------------------------------------------------------------\n",
      "Results from all models:\n",
      "M1 mean score: 0.6241. Standard deviation: 0.0078\n",
      "M2 mean score: 0.6184. Standard deviation: 0.0108\n",
      "Mean agreeability coefficient (cohen_kappa): 0.6983. Standard deviation: 0.0549\n",
      "======================================================================================================================================================\n",
      "Iteration 15:\n",
      "------------------------------------------------------------------------------------------------------------------------------------------------------\n",
      "Results from best models:\n",
      "Best Model 1 included: ['TenureMonths', 'TotalCharges', 'Dependents', 'PhoneService', ['TechSupport_No_internet_service', 'TechSupport_Yes'], ['Contract_One_year', 'Contract_Two_year'], ['PaymentMethod_Credit_card_(automatic)', 'PaymentMethod_Electronic_check', 'PaymentMethod_Mailed_check']]. F1: 0.6286\n",
      "Best Model 2 included: ['Latitude', 'TenureMonths', 'MonthlyCharges', 'CLTV', 'Dependents', ['TechSupport_No_internet_service', 'TechSupport_Yes'], ['Contract_One_year', 'Contract_Two_year']]. F1: 0.6360\n",
      "Agreeability Coefficient (cohen_kappa) between best models: 0.7716501177770013\n",
      "------------------------------------------------------------------------------------------------------------------------------------------------------\n",
      "Results from all models:\n",
      "M1 mean score: 0.6178. Standard deviation: 0.0082\n",
      "M2 mean score: 0.6114. Standard deviation: 0.0182\n",
      "Mean agreeability coefficient (cohen_kappa): 0.6955. Standard deviation: 0.0469\n",
      "======================================================================================================================================================\n",
      "Iteration 16:\n",
      "------------------------------------------------------------------------------------------------------------------------------------------------------\n",
      "Results from best models:\n",
      "Best Model 1 included: ['TenureMonths', 'TotalCharges', 'Dependents', 'PhoneService', ['Contract_One_year', 'Contract_Two_year'], ['PaymentMethod_Credit_card_(automatic)', 'PaymentMethod_Electronic_check', 'PaymentMethod_Mailed_check']]. F1: 0.6384\n",
      "Best Model 2 included: ['TenureMonths', 'MonthlyCharges', 'CLTV', 'Dependents', ['TechSupport_No_internet_service', 'TechSupport_Yes'], ['Contract_One_year', 'Contract_Two_year']]. F1: 0.6280\n",
      "Agreeability Coefficient (cohen_kappa) between best models: 0.6722471267447595\n",
      "------------------------------------------------------------------------------------------------------------------------------------------------------\n",
      "Results from all models:\n",
      "M1 mean score: 0.6190. Standard deviation: 0.0104\n",
      "M2 mean score: 0.6160. Standard deviation: 0.0103\n",
      "Mean agreeability coefficient (cohen_kappa): 0.7031. Standard deviation: 0.0425\n",
      "======================================================================================================================================================\n",
      "Iteration 17:\n",
      "------------------------------------------------------------------------------------------------------------------------------------------------------\n",
      "Results from best models:\n",
      "Best Model 1 included: ['TenureMonths', 'TotalCharges', 'Dependents', ['Contract_One_year', 'Contract_Two_year'], ['PaymentMethod_Credit_card_(automatic)', 'PaymentMethod_Electronic_check', 'PaymentMethod_Mailed_check']]. F1: 0.6351\n",
      "Best Model 2 included: ['TenureMonths', 'MonthlyCharges', 'CLTV', ['TechSupport_No_internet_service', 'TechSupport_Yes'], ['Contract_One_year', 'Contract_Two_year']]. F1: 0.6066\n",
      "Agreeability Coefficient (cohen_kappa) between best models: 0.5952485630078321\n",
      "------------------------------------------------------------------------------------------------------------------------------------------------------\n",
      "Results from all models:\n",
      "M1 mean score: 0.6110. Standard deviation: 0.0185\n",
      "M2 mean score: 0.5895. Standard deviation: 0.0133\n",
      "Mean agreeability coefficient (cohen_kappa): 0.5826. Standard deviation: 0.0329\n",
      "======================================================================================================================================================\n",
      "Iteration 18:\n",
      "------------------------------------------------------------------------------------------------------------------------------------------------------\n",
      "Results from best models:\n",
      "Best Model 1 included: ['TenureMonths', 'TotalCharges', ['Contract_One_year', 'Contract_Two_year'], ['PaymentMethod_Credit_card_(automatic)', 'PaymentMethod_Electronic_check', 'PaymentMethod_Mailed_check']]. F1: 0.6286\n",
      "Best Model 2 included: ['TenureMonths', 'MonthlyCharges', 'CLTV', ['TechSupport_No_internet_service', 'TechSupport_Yes']]. F1: 0.5745\n",
      "Agreeability Coefficient (cohen_kappa) between best models: 0.5088201603665522\n",
      "------------------------------------------------------------------------------------------------------------------------------------------------------\n",
      "Results from all models:\n",
      "M1 mean score: 0.6142. Standard deviation: 0.0149\n",
      "M2 mean score: 0.5641. Standard deviation: 0.0095\n",
      "Mean agreeability coefficient (cohen_kappa): 0.5047. Standard deviation: 0.0435\n",
      "======================================================================================================================================================\n",
      "Iteration 19:\n",
      "------------------------------------------------------------------------------------------------------------------------------------------------------\n",
      "Results from best models:\n",
      "Best Model 1 included: ['TenureMonths', 'TotalCharges', ['Contract_One_year', 'Contract_Two_year']]. F1: 0.6051\n",
      "Best Model 2 included: ['TenureMonths', 'MonthlyCharges', 'CLTV']. F1: 0.5444\n",
      "Agreeability Coefficient (cohen_kappa) between best models: 0.497827949094469\n",
      "------------------------------------------------------------------------------------------------------------------------------------------------------\n",
      "Results from all models:\n",
      "M1 mean score: 0.5676. Standard deviation: 0.0234\n",
      "M2 mean score: 0.5232. Standard deviation: 0.0168\n",
      "Mean agreeability coefficient (cohen_kappa): 0.3704. Standard deviation: 0.0822\n",
      "======================================================================================================================================================\n",
      "Iteration 20:\n",
      "------------------------------------------------------------------------------------------------------------------------------------------------------\n",
      "Results from best models:\n",
      "Best Model 1 included: ['TotalCharges', ['Contract_One_year', 'Contract_Two_year']]. F1: 0.5818\n",
      "Best Model 2 included: ['TenureMonths', 'MonthlyCharges']. F1: 0.5327\n",
      "Agreeability Coefficient (cohen_kappa) between best models: 0.3937790806338965\n",
      "------------------------------------------------------------------------------------------------------------------------------------------------------\n",
      "Results from all models:\n",
      "M1 mean score: 0.5771. Standard deviation: 0.0067\n",
      "M2 mean score: 0.4537. Standard deviation: 0.0571\n",
      "Mean agreeability coefficient (cohen_kappa): 0.2497. Standard deviation: 0.1244\n",
      "======================================================================================================================================================\n",
      "Iteration 21:\n",
      "------------------------------------------------------------------------------------------------------------------------------------------------------\n",
      "Results from best models:\n",
      "Best Model 1 included: [['Contract_One_year', 'Contract_Two_year']]. F1: 0.5818\n",
      "Best Model 2 included: ['TenureMonths']. F1: 0.5179\n",
      "Agreeability Coefficient (cohen_kappa) between best models: 0.5400300842358604\n",
      "------------------------------------------------------------------------------------------------------------------------------------------------------\n",
      "Results from all models:\n",
      "M1 mean score: 0.5180. Standard deviation: 0.0638\n",
      "M2 mean score: 0.4349. Standard deviation: 0.0831\n",
      "Mean agreeability coefficient (cohen_kappa): 0.2223. Standard deviation: 0.3178\n",
      "======================================================================================================================================================\n"
     ]
    }
   ],
   "source": [
    "# Run the comparison algorithm \n",
    "results_3 = seeker_3.compare_all_models(\n",
    "    m1=logit, # Model 1: Logistic Regression\n",
    "    m2=rfc, # Model 2: RFC\n",
    ")"
   ]
  },
  {
   "cell_type": "code",
   "execution_count": 122,
   "metadata": {},
   "outputs": [
    {
     "data": {
      "text/plain": [
       "[{'Best: M1 Included Features': ['Latitude',\n",
       "   'Longitude',\n",
       "   'TenureMonths',\n",
       "   'MonthlyCharges',\n",
       "   'TotalCharges',\n",
       "   'CLTV',\n",
       "   'Gender',\n",
       "   'SeniorCitizen',\n",
       "   'Partner',\n",
       "   'Dependents',\n",
       "   'PhoneService',\n",
       "   'PaperlessBilling',\n",
       "   'MultipleLines_No_phone_service',\n",
       "   'MultipleLines_Yes',\n",
       "   'InternetService_Fiber_optic',\n",
       "   'InternetService_No',\n",
       "   'OnlineSecurity_No_internet_service',\n",
       "   'OnlineSecurity_Yes',\n",
       "   'OnlineBackup_No_internet_service',\n",
       "   'OnlineBackup_Yes',\n",
       "   'DeviceProtection_No_internet_service',\n",
       "   'DeviceProtection_Yes',\n",
       "   'TechSupport_No_internet_service',\n",
       "   'TechSupport_Yes',\n",
       "   'StreamingTV_No_internet_service',\n",
       "   'StreamingTV_Yes',\n",
       "   'StreamingMovies_No_internet_service',\n",
       "   'StreamingMovies_Yes',\n",
       "   'Contract_One_year',\n",
       "   'Contract_Two_year',\n",
       "   'PaymentMethod_Credit_card_(automatic)',\n",
       "   'PaymentMethod_Electronic_check',\n",
       "   'PaymentMethod_Mailed_check'],\n",
       "  'Best: M1 f1': 0.634207240948814,\n",
       "  'Best: M2 Included Features': ['Latitude',\n",
       "   'Longitude',\n",
       "   'TenureMonths',\n",
       "   'MonthlyCharges',\n",
       "   'TotalCharges',\n",
       "   'CLTV',\n",
       "   'Gender',\n",
       "   'SeniorCitizen',\n",
       "   'Partner',\n",
       "   'Dependents',\n",
       "   'PhoneService',\n",
       "   'PaperlessBilling',\n",
       "   'MultipleLines_No_phone_service',\n",
       "   'MultipleLines_Yes',\n",
       "   'InternetService_Fiber_optic',\n",
       "   'InternetService_No',\n",
       "   'OnlineSecurity_No_internet_service',\n",
       "   'OnlineSecurity_Yes',\n",
       "   'OnlineBackup_No_internet_service',\n",
       "   'OnlineBackup_Yes',\n",
       "   'DeviceProtection_No_internet_service',\n",
       "   'DeviceProtection_Yes',\n",
       "   'TechSupport_No_internet_service',\n",
       "   'TechSupport_Yes',\n",
       "   'StreamingTV_No_internet_service',\n",
       "   'StreamingTV_Yes',\n",
       "   'StreamingMovies_No_internet_service',\n",
       "   'StreamingMovies_Yes',\n",
       "   'Contract_One_year',\n",
       "   'Contract_Two_year',\n",
       "   'PaymentMethod_Credit_card_(automatic)',\n",
       "   'PaymentMethod_Electronic_check',\n",
       "   'PaymentMethod_Mailed_check'],\n",
       "  'Best: M2 f1': 0.6105263157894738,\n",
       "  'Best: Agreeability (cohen_kappa)': 0.7865197091276915,\n",
       "  'All: M1 Mean f1': 0.634207240948814,\n",
       "  'All: M1 STD f1': 0,\n",
       "  'All: M2 Mean f1': 0.6105263157894738,\n",
       "  'All: M2 STD f1': 0,\n",
       "  'All: Mean Agreeability (cohen_kappa)': 0.7865197091276915,\n",
       "  'All: Agreeability St. Dev.': 0},\n",
       " {'Best: M1 Included Features': ['Latitude',\n",
       "   'TenureMonths',\n",
       "   'MonthlyCharges',\n",
       "   'TotalCharges',\n",
       "   'CLTV',\n",
       "   'Gender',\n",
       "   'SeniorCitizen',\n",
       "   'Partner',\n",
       "   'Dependents',\n",
       "   'PhoneService',\n",
       "   'PaperlessBilling',\n",
       "   'MultipleLines_No_phone_service',\n",
       "   'MultipleLines_Yes',\n",
       "   'InternetService_Fiber_optic',\n",
       "   'InternetService_No',\n",
       "   'OnlineSecurity_No_internet_service',\n",
       "   'OnlineSecurity_Yes',\n",
       "   'OnlineBackup_No_internet_service',\n",
       "   'OnlineBackup_Yes',\n",
       "   'DeviceProtection_No_internet_service',\n",
       "   'DeviceProtection_Yes',\n",
       "   'TechSupport_No_internet_service',\n",
       "   'TechSupport_Yes',\n",
       "   'StreamingTV_No_internet_service',\n",
       "   'StreamingTV_Yes',\n",
       "   'StreamingMovies_No_internet_service',\n",
       "   'StreamingMovies_Yes',\n",
       "   'Contract_One_year',\n",
       "   'Contract_Two_year',\n",
       "   'PaymentMethod_Credit_card_(automatic)',\n",
       "   'PaymentMethod_Electronic_check',\n",
       "   'PaymentMethod_Mailed_check'],\n",
       "  'Best: M1 f1': 0.6325000000000001,\n",
       "  'Best: M2 Included Features': ['Latitude',\n",
       "   'Longitude',\n",
       "   'TenureMonths',\n",
       "   'MonthlyCharges',\n",
       "   'TotalCharges',\n",
       "   'CLTV',\n",
       "   'Gender',\n",
       "   'SeniorCitizen',\n",
       "   'Partner',\n",
       "   'Dependents',\n",
       "   'PhoneService',\n",
       "   'PaperlessBilling',\n",
       "   'MultipleLines_No_phone_service',\n",
       "   'MultipleLines_Yes',\n",
       "   'InternetService_Fiber_optic',\n",
       "   'InternetService_No',\n",
       "   'OnlineBackup_No_internet_service',\n",
       "   'OnlineBackup_Yes',\n",
       "   'DeviceProtection_No_internet_service',\n",
       "   'DeviceProtection_Yes',\n",
       "   'TechSupport_No_internet_service',\n",
       "   'TechSupport_Yes',\n",
       "   'StreamingTV_No_internet_service',\n",
       "   'StreamingTV_Yes',\n",
       "   'StreamingMovies_No_internet_service',\n",
       "   'StreamingMovies_Yes',\n",
       "   'Contract_One_year',\n",
       "   'Contract_Two_year',\n",
       "   'PaymentMethod_Credit_card_(automatic)',\n",
       "   'PaymentMethod_Electronic_check',\n",
       "   'PaymentMethod_Mailed_check'],\n",
       "  'Best: M2 f1': 0.640506329113924,\n",
       "  'Best: Agreeability (cohen_kappa)': 0.7685782496063394,\n",
       "  'All: M1 Mean f1': 0.6222639323232861,\n",
       "  'All: M1 STD f1': 0.006539995496016802,\n",
       "  'All: M2 Mean f1': 0.6106007041584144,\n",
       "  'All: M2 STD f1': 0.011203261804103656,\n",
       "  'All: Mean Agreeability (cohen_kappa)': 0.7710441566287898,\n",
       "  'All: Agreeability St. Dev.': 0.02675909859623414},\n",
       " {'Best: M1 Included Features': ['Latitude',\n",
       "   'TenureMonths',\n",
       "   'MonthlyCharges',\n",
       "   'TotalCharges',\n",
       "   'CLTV',\n",
       "   'Gender',\n",
       "   'SeniorCitizen',\n",
       "   'Dependents',\n",
       "   'PhoneService',\n",
       "   'PaperlessBilling',\n",
       "   'MultipleLines_No_phone_service',\n",
       "   'MultipleLines_Yes',\n",
       "   'InternetService_Fiber_optic',\n",
       "   'InternetService_No',\n",
       "   'OnlineSecurity_No_internet_service',\n",
       "   'OnlineSecurity_Yes',\n",
       "   'OnlineBackup_No_internet_service',\n",
       "   'OnlineBackup_Yes',\n",
       "   'DeviceProtection_No_internet_service',\n",
       "   'DeviceProtection_Yes',\n",
       "   'TechSupport_No_internet_service',\n",
       "   'TechSupport_Yes',\n",
       "   'StreamingTV_No_internet_service',\n",
       "   'StreamingTV_Yes',\n",
       "   'StreamingMovies_No_internet_service',\n",
       "   'StreamingMovies_Yes',\n",
       "   'Contract_One_year',\n",
       "   'Contract_Two_year',\n",
       "   'PaymentMethod_Credit_card_(automatic)',\n",
       "   'PaymentMethod_Electronic_check',\n",
       "   'PaymentMethod_Mailed_check'],\n",
       "  'Best: M1 f1': 0.634207240948814,\n",
       "  'Best: M2 Included Features': ['Latitude',\n",
       "   'Longitude',\n",
       "   'TenureMonths',\n",
       "   'MonthlyCharges',\n",
       "   'TotalCharges',\n",
       "   'CLTV',\n",
       "   'Gender',\n",
       "   'Partner',\n",
       "   'Dependents',\n",
       "   'PhoneService',\n",
       "   'PaperlessBilling',\n",
       "   'MultipleLines_No_phone_service',\n",
       "   'MultipleLines_Yes',\n",
       "   'InternetService_Fiber_optic',\n",
       "   'InternetService_No',\n",
       "   'OnlineBackup_No_internet_service',\n",
       "   'OnlineBackup_Yes',\n",
       "   'DeviceProtection_No_internet_service',\n",
       "   'DeviceProtection_Yes',\n",
       "   'TechSupport_No_internet_service',\n",
       "   'TechSupport_Yes',\n",
       "   'StreamingTV_No_internet_service',\n",
       "   'StreamingTV_Yes',\n",
       "   'StreamingMovies_No_internet_service',\n",
       "   'StreamingMovies_Yes',\n",
       "   'Contract_One_year',\n",
       "   'Contract_Two_year',\n",
       "   'PaymentMethod_Credit_card_(automatic)',\n",
       "   'PaymentMethod_Electronic_check',\n",
       "   'PaymentMethod_Mailed_check'],\n",
       "  'Best: M2 f1': 0.6346396965865992,\n",
       "  'Best: Agreeability (cohen_kappa)': 0.7756940267683098,\n",
       "  'All: M1 Mean f1': 0.6214013834353892,\n",
       "  'All: M1 STD f1': 0.006464964686120529,\n",
       "  'All: M2 Mean f1': 0.6189104055117098,\n",
       "  'All: M2 STD f1': 0.008243826263820461,\n",
       "  'All: Mean Agreeability (cohen_kappa)': 0.7499945208384544,\n",
       "  'All: Agreeability St. Dev.': 0.021042789906104555},\n",
       " {'Best: M1 Included Features': ['TenureMonths',\n",
       "   'MonthlyCharges',\n",
       "   'TotalCharges',\n",
       "   'CLTV',\n",
       "   'Gender',\n",
       "   'SeniorCitizen',\n",
       "   'Dependents',\n",
       "   'PhoneService',\n",
       "   'PaperlessBilling',\n",
       "   'MultipleLines_No_phone_service',\n",
       "   'MultipleLines_Yes',\n",
       "   'InternetService_Fiber_optic',\n",
       "   'InternetService_No',\n",
       "   'OnlineSecurity_No_internet_service',\n",
       "   'OnlineSecurity_Yes',\n",
       "   'OnlineBackup_No_internet_service',\n",
       "   'OnlineBackup_Yes',\n",
       "   'DeviceProtection_No_internet_service',\n",
       "   'DeviceProtection_Yes',\n",
       "   'TechSupport_No_internet_service',\n",
       "   'TechSupport_Yes',\n",
       "   'StreamingTV_No_internet_service',\n",
       "   'StreamingTV_Yes',\n",
       "   'StreamingMovies_No_internet_service',\n",
       "   'StreamingMovies_Yes',\n",
       "   'Contract_One_year',\n",
       "   'Contract_Two_year',\n",
       "   'PaymentMethod_Credit_card_(automatic)',\n",
       "   'PaymentMethod_Electronic_check',\n",
       "   'PaymentMethod_Mailed_check'],\n",
       "  'Best: M1 f1': 0.6307884856070087,\n",
       "  'Best: M2 Included Features': ['Latitude',\n",
       "   'TenureMonths',\n",
       "   'MonthlyCharges',\n",
       "   'TotalCharges',\n",
       "   'CLTV',\n",
       "   'Gender',\n",
       "   'Partner',\n",
       "   'Dependents',\n",
       "   'PhoneService',\n",
       "   'PaperlessBilling',\n",
       "   'MultipleLines_No_phone_service',\n",
       "   'MultipleLines_Yes',\n",
       "   'InternetService_Fiber_optic',\n",
       "   'InternetService_No',\n",
       "   'OnlineBackup_No_internet_service',\n",
       "   'OnlineBackup_Yes',\n",
       "   'DeviceProtection_No_internet_service',\n",
       "   'DeviceProtection_Yes',\n",
       "   'TechSupport_No_internet_service',\n",
       "   'TechSupport_Yes',\n",
       "   'StreamingTV_No_internet_service',\n",
       "   'StreamingTV_Yes',\n",
       "   'StreamingMovies_No_internet_service',\n",
       "   'StreamingMovies_Yes',\n",
       "   'Contract_One_year',\n",
       "   'Contract_Two_year',\n",
       "   'PaymentMethod_Credit_card_(automatic)',\n",
       "   'PaymentMethod_Electronic_check',\n",
       "   'PaymentMethod_Mailed_check'],\n",
       "  'Best: M2 f1': 0.6371681415929202,\n",
       "  'Best: Agreeability (cohen_kappa)': 0.7855898872327765,\n",
       "  'All: M1 Mean f1': 0.620222601694141,\n",
       "  'All: M1 STD f1': 0.007671161187748532,\n",
       "  'All: M2 Mean f1': 0.6239547076292713,\n",
       "  'All: M2 STD f1': 0.008536625576173691,\n",
       "  'All: Mean Agreeability (cohen_kappa)': 0.7485259588765893,\n",
       "  'All: Agreeability St. Dev.': 0.025260165442532602},\n",
       " {'Best: M1 Included Features': ['TenureMonths',\n",
       "   'TotalCharges',\n",
       "   'CLTV',\n",
       "   'Gender',\n",
       "   'SeniorCitizen',\n",
       "   'Dependents',\n",
       "   'PhoneService',\n",
       "   'PaperlessBilling',\n",
       "   'MultipleLines_No_phone_service',\n",
       "   'MultipleLines_Yes',\n",
       "   'InternetService_Fiber_optic',\n",
       "   'InternetService_No',\n",
       "   'OnlineSecurity_No_internet_service',\n",
       "   'OnlineSecurity_Yes',\n",
       "   'OnlineBackup_No_internet_service',\n",
       "   'OnlineBackup_Yes',\n",
       "   'DeviceProtection_No_internet_service',\n",
       "   'DeviceProtection_Yes',\n",
       "   'TechSupport_No_internet_service',\n",
       "   'TechSupport_Yes',\n",
       "   'StreamingTV_No_internet_service',\n",
       "   'StreamingTV_Yes',\n",
       "   'StreamingMovies_No_internet_service',\n",
       "   'StreamingMovies_Yes',\n",
       "   'Contract_One_year',\n",
       "   'Contract_Two_year',\n",
       "   'PaymentMethod_Credit_card_(automatic)',\n",
       "   'PaymentMethod_Electronic_check',\n",
       "   'PaymentMethod_Mailed_check'],\n",
       "  'Best: M1 f1': 0.6301703163017031,\n",
       "  'Best: M2 Included Features': ['Latitude',\n",
       "   'TenureMonths',\n",
       "   'MonthlyCharges',\n",
       "   'TotalCharges',\n",
       "   'CLTV',\n",
       "   'Gender',\n",
       "   'Partner',\n",
       "   'Dependents',\n",
       "   'PhoneService',\n",
       "   'PaperlessBilling',\n",
       "   'MultipleLines_No_phone_service',\n",
       "   'MultipleLines_Yes',\n",
       "   'InternetService_Fiber_optic',\n",
       "   'InternetService_No',\n",
       "   'OnlineBackup_No_internet_service',\n",
       "   'OnlineBackup_Yes',\n",
       "   'DeviceProtection_No_internet_service',\n",
       "   'DeviceProtection_Yes',\n",
       "   'TechSupport_No_internet_service',\n",
       "   'TechSupport_Yes',\n",
       "   'StreamingTV_No_internet_service',\n",
       "   'StreamingTV_Yes',\n",
       "   'Contract_One_year',\n",
       "   'Contract_Two_year',\n",
       "   'PaymentMethod_Credit_card_(automatic)',\n",
       "   'PaymentMethod_Electronic_check',\n",
       "   'PaymentMethod_Mailed_check'],\n",
       "  'Best: M2 f1': 0.6385696040868455,\n",
       "  'Best: Agreeability (cohen_kappa)': 0.7526019207743384,\n",
       "  'All: M1 Mean f1': 0.6204592948932109,\n",
       "  'All: M1 STD f1': 0.0070493240108695215,\n",
       "  'All: M2 Mean f1': 0.626836777496749,\n",
       "  'All: M2 STD f1': 0.008252674960084503,\n",
       "  'All: Mean Agreeability (cohen_kappa)': 0.737763352753644,\n",
       "  'All: Agreeability St. Dev.': 0.03297467942389546},\n",
       " {'Best: M1 Included Features': ['TenureMonths',\n",
       "   'TotalCharges',\n",
       "   'CLTV',\n",
       "   'Gender',\n",
       "   'SeniorCitizen',\n",
       "   'Dependents',\n",
       "   'PhoneService',\n",
       "   'PaperlessBilling',\n",
       "   'MultipleLines_No_phone_service',\n",
       "   'MultipleLines_Yes',\n",
       "   'InternetService_Fiber_optic',\n",
       "   'InternetService_No',\n",
       "   'OnlineSecurity_No_internet_service',\n",
       "   'OnlineSecurity_Yes',\n",
       "   'DeviceProtection_No_internet_service',\n",
       "   'DeviceProtection_Yes',\n",
       "   'TechSupport_No_internet_service',\n",
       "   'TechSupport_Yes',\n",
       "   'StreamingTV_No_internet_service',\n",
       "   'StreamingTV_Yes',\n",
       "   'StreamingMovies_No_internet_service',\n",
       "   'StreamingMovies_Yes',\n",
       "   'Contract_One_year',\n",
       "   'Contract_Two_year',\n",
       "   'PaymentMethod_Credit_card_(automatic)',\n",
       "   'PaymentMethod_Electronic_check',\n",
       "   'PaymentMethod_Mailed_check'],\n",
       "  'Best: M1 f1': 0.6383495145631067,\n",
       "  'Best: M2 Included Features': ['Latitude',\n",
       "   'TenureMonths',\n",
       "   'MonthlyCharges',\n",
       "   'TotalCharges',\n",
       "   'CLTV',\n",
       "   'Partner',\n",
       "   'Dependents',\n",
       "   'PhoneService',\n",
       "   'PaperlessBilling',\n",
       "   'MultipleLines_No_phone_service',\n",
       "   'MultipleLines_Yes',\n",
       "   'InternetService_Fiber_optic',\n",
       "   'InternetService_No',\n",
       "   'OnlineBackup_No_internet_service',\n",
       "   'OnlineBackup_Yes',\n",
       "   'DeviceProtection_No_internet_service',\n",
       "   'DeviceProtection_Yes',\n",
       "   'TechSupport_No_internet_service',\n",
       "   'TechSupport_Yes',\n",
       "   'StreamingTV_No_internet_service',\n",
       "   'StreamingTV_Yes',\n",
       "   'Contract_One_year',\n",
       "   'Contract_Two_year',\n",
       "   'PaymentMethod_Credit_card_(automatic)',\n",
       "   'PaymentMethod_Electronic_check',\n",
       "   'PaymentMethod_Mailed_check'],\n",
       "  'Best: M2 f1': 0.641025641025641,\n",
       "  'Best: Agreeability (cohen_kappa)': 0.7339780869914847,\n",
       "  'All: M1 Mean f1': 0.6213943278275846,\n",
       "  'All: M1 STD f1': 0.011391279987927732,\n",
       "  'All: M2 Mean f1': 0.6254469905066026,\n",
       "  'All: M2 STD f1': 0.009562828876182938,\n",
       "  'All: Mean Agreeability (cohen_kappa)': 0.7221172012464946,\n",
       "  'All: Agreeability St. Dev.': 0.02892352417232221},\n",
       " {'Best: M1 Included Features': ['TenureMonths',\n",
       "   'TotalCharges',\n",
       "   'CLTV',\n",
       "   'Gender',\n",
       "   'SeniorCitizen',\n",
       "   'Dependents',\n",
       "   'PhoneService',\n",
       "   'PaperlessBilling',\n",
       "   'MultipleLines_No_phone_service',\n",
       "   'MultipleLines_Yes',\n",
       "   'InternetService_Fiber_optic',\n",
       "   'InternetService_No',\n",
       "   'OnlineSecurity_No_internet_service',\n",
       "   'OnlineSecurity_Yes',\n",
       "   'DeviceProtection_No_internet_service',\n",
       "   'DeviceProtection_Yes',\n",
       "   'TechSupport_No_internet_service',\n",
       "   'TechSupport_Yes',\n",
       "   'StreamingMovies_No_internet_service',\n",
       "   'StreamingMovies_Yes',\n",
       "   'Contract_One_year',\n",
       "   'Contract_Two_year',\n",
       "   'PaymentMethod_Credit_card_(automatic)',\n",
       "   'PaymentMethod_Electronic_check',\n",
       "   'PaymentMethod_Mailed_check'],\n",
       "  'Best: M1 f1': 0.6368038740920098,\n",
       "  'Best: M2 Included Features': ['Latitude',\n",
       "   'TenureMonths',\n",
       "   'MonthlyCharges',\n",
       "   'TotalCharges',\n",
       "   'CLTV',\n",
       "   'Dependents',\n",
       "   'PhoneService',\n",
       "   'PaperlessBilling',\n",
       "   'MultipleLines_No_phone_service',\n",
       "   'MultipleLines_Yes',\n",
       "   'InternetService_Fiber_optic',\n",
       "   'InternetService_No',\n",
       "   'OnlineBackup_No_internet_service',\n",
       "   'OnlineBackup_Yes',\n",
       "   'DeviceProtection_No_internet_service',\n",
       "   'DeviceProtection_Yes',\n",
       "   'TechSupport_No_internet_service',\n",
       "   'TechSupport_Yes',\n",
       "   'StreamingTV_No_internet_service',\n",
       "   'StreamingTV_Yes',\n",
       "   'Contract_One_year',\n",
       "   'Contract_Two_year',\n",
       "   'PaymentMethod_Credit_card_(automatic)',\n",
       "   'PaymentMethod_Electronic_check',\n",
       "   'PaymentMethod_Mailed_check'],\n",
       "  'Best: M2 f1': 0.6556962025316455,\n",
       "  'Best: Agreeability (cohen_kappa)': 0.7159128699700699,\n",
       "  'All: M1 Mean f1': 0.6268542984268348,\n",
       "  'All: M1 STD f1': 0.007098972246723391,\n",
       "  'All: M2 Mean f1': 0.631772408462026,\n",
       "  'All: M2 STD f1': 0.013600169260684102,\n",
       "  'All: Mean Agreeability (cohen_kappa)': 0.706760625695127,\n",
       "  'All: Agreeability St. Dev.': 0.028019341525260612},\n",
       " {'Best: M1 Included Features': ['TenureMonths',\n",
       "   'TotalCharges',\n",
       "   'CLTV',\n",
       "   'Gender',\n",
       "   'SeniorCitizen',\n",
       "   'Dependents',\n",
       "   'PhoneService',\n",
       "   'PaperlessBilling',\n",
       "   'InternetService_Fiber_optic',\n",
       "   'InternetService_No',\n",
       "   'OnlineSecurity_No_internet_service',\n",
       "   'OnlineSecurity_Yes',\n",
       "   'DeviceProtection_No_internet_service',\n",
       "   'DeviceProtection_Yes',\n",
       "   'TechSupport_No_internet_service',\n",
       "   'TechSupport_Yes',\n",
       "   'StreamingMovies_No_internet_service',\n",
       "   'StreamingMovies_Yes',\n",
       "   'Contract_One_year',\n",
       "   'Contract_Two_year',\n",
       "   'PaymentMethod_Credit_card_(automatic)',\n",
       "   'PaymentMethod_Electronic_check',\n",
       "   'PaymentMethod_Mailed_check'],\n",
       "  'Best: M1 f1': 0.636144578313253,\n",
       "  'Best: M2 Included Features': ['Latitude',\n",
       "   'TenureMonths',\n",
       "   'MonthlyCharges',\n",
       "   'TotalCharges',\n",
       "   'CLTV',\n",
       "   'Dependents',\n",
       "   'PhoneService',\n",
       "   'PaperlessBilling',\n",
       "   'InternetService_Fiber_optic',\n",
       "   'InternetService_No',\n",
       "   'OnlineBackup_No_internet_service',\n",
       "   'OnlineBackup_Yes',\n",
       "   'DeviceProtection_No_internet_service',\n",
       "   'DeviceProtection_Yes',\n",
       "   'TechSupport_No_internet_service',\n",
       "   'TechSupport_Yes',\n",
       "   'StreamingTV_No_internet_service',\n",
       "   'StreamingTV_Yes',\n",
       "   'Contract_One_year',\n",
       "   'Contract_Two_year',\n",
       "   'PaymentMethod_Credit_card_(automatic)',\n",
       "   'PaymentMethod_Electronic_check',\n",
       "   'PaymentMethod_Mailed_check'],\n",
       "  'Best: M2 f1': 0.6439393939393939,\n",
       "  'Best: Agreeability (cohen_kappa)': 0.7203597362312874,\n",
       "  'All: M1 Mean f1': 0.6279793079463177,\n",
       "  'All: M1 STD f1': 0.006954964031553171,\n",
       "  'All: M2 Mean f1': 0.6297787925469136,\n",
       "  'All: M2 STD f1': 0.008839557272182918,\n",
       "  'All: Mean Agreeability (cohen_kappa)': 0.7052458038566944,\n",
       "  'All: Agreeability St. Dev.': 0.02682552898536004},\n",
       " {'Best: M1 Included Features': ['TenureMonths',\n",
       "   'TotalCharges',\n",
       "   'CLTV',\n",
       "   'SeniorCitizen',\n",
       "   'Dependents',\n",
       "   'PhoneService',\n",
       "   'PaperlessBilling',\n",
       "   'InternetService_Fiber_optic',\n",
       "   'InternetService_No',\n",
       "   'OnlineSecurity_No_internet_service',\n",
       "   'OnlineSecurity_Yes',\n",
       "   'DeviceProtection_No_internet_service',\n",
       "   'DeviceProtection_Yes',\n",
       "   'TechSupport_No_internet_service',\n",
       "   'TechSupport_Yes',\n",
       "   'StreamingMovies_No_internet_service',\n",
       "   'StreamingMovies_Yes',\n",
       "   'Contract_One_year',\n",
       "   'Contract_Two_year',\n",
       "   'PaymentMethod_Credit_card_(automatic)',\n",
       "   'PaymentMethod_Electronic_check',\n",
       "   'PaymentMethod_Mailed_check'],\n",
       "  'Best: M1 f1': 0.6332138590203106,\n",
       "  'Best: M2 Included Features': ['Latitude',\n",
       "   'TenureMonths',\n",
       "   'MonthlyCharges',\n",
       "   'CLTV',\n",
       "   'Dependents',\n",
       "   'PhoneService',\n",
       "   'PaperlessBilling',\n",
       "   'InternetService_Fiber_optic',\n",
       "   'InternetService_No',\n",
       "   'OnlineBackup_No_internet_service',\n",
       "   'OnlineBackup_Yes',\n",
       "   'DeviceProtection_No_internet_service',\n",
       "   'DeviceProtection_Yes',\n",
       "   'TechSupport_No_internet_service',\n",
       "   'TechSupport_Yes',\n",
       "   'StreamingTV_No_internet_service',\n",
       "   'StreamingTV_Yes',\n",
       "   'Contract_One_year',\n",
       "   'Contract_Two_year',\n",
       "   'PaymentMethod_Credit_card_(automatic)',\n",
       "   'PaymentMethod_Electronic_check',\n",
       "   'PaymentMethod_Mailed_check'],\n",
       "  'Best: M2 f1': 0.6372795969773299,\n",
       "  'Best: Agreeability (cohen_kappa)': 0.736900784312342,\n",
       "  'All: M1 Mean f1': 0.6257312749885275,\n",
       "  'All: M1 STD f1': 0.007565077696845505,\n",
       "  'All: M2 Mean f1': 0.6186983269866995,\n",
       "  'All: M2 STD f1': 0.012867326948996815,\n",
       "  'All: Mean Agreeability (cohen_kappa)': 0.7009557641487693,\n",
       "  'All: Agreeability St. Dev.': 0.028979174380259345},\n",
       " {'Best: M1 Included Features': ['TenureMonths',\n",
       "   'TotalCharges',\n",
       "   'CLTV',\n",
       "   'SeniorCitizen',\n",
       "   'Dependents',\n",
       "   'PhoneService',\n",
       "   'PaperlessBilling',\n",
       "   'InternetService_Fiber_optic',\n",
       "   'InternetService_No',\n",
       "   'OnlineSecurity_No_internet_service',\n",
       "   'OnlineSecurity_Yes',\n",
       "   'DeviceProtection_No_internet_service',\n",
       "   'DeviceProtection_Yes',\n",
       "   'TechSupport_No_internet_service',\n",
       "   'TechSupport_Yes',\n",
       "   'Contract_One_year',\n",
       "   'Contract_Two_year',\n",
       "   'PaymentMethod_Credit_card_(automatic)',\n",
       "   'PaymentMethod_Electronic_check',\n",
       "   'PaymentMethod_Mailed_check'],\n",
       "  'Best: M1 f1': 0.6364719904648392,\n",
       "  'Best: M2 Included Features': ['Latitude',\n",
       "   'TenureMonths',\n",
       "   'MonthlyCharges',\n",
       "   'CLTV',\n",
       "   'Dependents',\n",
       "   'PhoneService',\n",
       "   'PaperlessBilling',\n",
       "   'OnlineBackup_No_internet_service',\n",
       "   'OnlineBackup_Yes',\n",
       "   'DeviceProtection_No_internet_service',\n",
       "   'DeviceProtection_Yes',\n",
       "   'TechSupport_No_internet_service',\n",
       "   'TechSupport_Yes',\n",
       "   'StreamingTV_No_internet_service',\n",
       "   'StreamingTV_Yes',\n",
       "   'Contract_One_year',\n",
       "   'Contract_Two_year',\n",
       "   'PaymentMethod_Credit_card_(automatic)',\n",
       "   'PaymentMethod_Electronic_check',\n",
       "   'PaymentMethod_Mailed_check'],\n",
       "  'Best: M2 f1': 0.6433041301627033,\n",
       "  'Best: Agreeability (cohen_kappa)': 0.7561239547466799,\n",
       "  'All: M1 Mean f1': 0.6244658355134141,\n",
       "  'All: M1 STD f1': 0.008562037645324101,\n",
       "  'All: M2 Mean f1': 0.6240459809579703,\n",
       "  'All: M2 STD f1': 0.01466293791407813,\n",
       "  'All: Mean Agreeability (cohen_kappa)': 0.7093839607210369,\n",
       "  'All: Agreeability St. Dev.': 0.04851388677694706},\n",
       " {'Best: M1 Included Features': ['TenureMonths',\n",
       "   'TotalCharges',\n",
       "   'CLTV',\n",
       "   'SeniorCitizen',\n",
       "   'Dependents',\n",
       "   'PhoneService',\n",
       "   'PaperlessBilling',\n",
       "   'OnlineSecurity_No_internet_service',\n",
       "   'OnlineSecurity_Yes',\n",
       "   'DeviceProtection_No_internet_service',\n",
       "   'DeviceProtection_Yes',\n",
       "   'TechSupport_No_internet_service',\n",
       "   'TechSupport_Yes',\n",
       "   'Contract_One_year',\n",
       "   'Contract_Two_year',\n",
       "   'PaymentMethod_Credit_card_(automatic)',\n",
       "   'PaymentMethod_Electronic_check',\n",
       "   'PaymentMethod_Mailed_check'],\n",
       "  'Best: M1 f1': 0.6388557806912991,\n",
       "  'Best: M2 Included Features': ['Latitude',\n",
       "   'TenureMonths',\n",
       "   'MonthlyCharges',\n",
       "   'CLTV',\n",
       "   'Dependents',\n",
       "   'PhoneService',\n",
       "   'OnlineBackup_No_internet_service',\n",
       "   'OnlineBackup_Yes',\n",
       "   'DeviceProtection_No_internet_service',\n",
       "   'DeviceProtection_Yes',\n",
       "   'TechSupport_No_internet_service',\n",
       "   'TechSupport_Yes',\n",
       "   'StreamingTV_No_internet_service',\n",
       "   'StreamingTV_Yes',\n",
       "   'Contract_One_year',\n",
       "   'Contract_Two_year',\n",
       "   'PaymentMethod_Credit_card_(automatic)',\n",
       "   'PaymentMethod_Electronic_check',\n",
       "   'PaymentMethod_Mailed_check'],\n",
       "  'Best: M2 f1': 0.642409033877039,\n",
       "  'Best: Agreeability (cohen_kappa)': 0.7360516078199634,\n",
       "  'All: M1 Mean f1': 0.6281423917771379,\n",
       "  'All: M1 STD f1': 0.006674531125263112,\n",
       "  'All: M2 Mean f1': 0.6184929058264016,\n",
       "  'All: M2 STD f1': 0.018563404001089526,\n",
       "  'All: Mean Agreeability (cohen_kappa)': 0.7114730257877151,\n",
       "  'All: Agreeability St. Dev.': 0.04776508114729279},\n",
       " {'Best: M1 Included Features': ['TenureMonths',\n",
       "   'TotalCharges',\n",
       "   'CLTV',\n",
       "   'Dependents',\n",
       "   'PhoneService',\n",
       "   'PaperlessBilling',\n",
       "   'OnlineSecurity_No_internet_service',\n",
       "   'OnlineSecurity_Yes',\n",
       "   'DeviceProtection_No_internet_service',\n",
       "   'DeviceProtection_Yes',\n",
       "   'TechSupport_No_internet_service',\n",
       "   'TechSupport_Yes',\n",
       "   'Contract_One_year',\n",
       "   'Contract_Two_year',\n",
       "   'PaymentMethod_Credit_card_(automatic)',\n",
       "   'PaymentMethod_Electronic_check',\n",
       "   'PaymentMethod_Mailed_check'],\n",
       "  'Best: M1 f1': 0.6398104265402844,\n",
       "  'Best: M2 Included Features': ['Latitude',\n",
       "   'TenureMonths',\n",
       "   'MonthlyCharges',\n",
       "   'CLTV',\n",
       "   'Dependents',\n",
       "   'OnlineBackup_No_internet_service',\n",
       "   'OnlineBackup_Yes',\n",
       "   'DeviceProtection_No_internet_service',\n",
       "   'DeviceProtection_Yes',\n",
       "   'TechSupport_No_internet_service',\n",
       "   'TechSupport_Yes',\n",
       "   'StreamingTV_No_internet_service',\n",
       "   'StreamingTV_Yes',\n",
       "   'Contract_One_year',\n",
       "   'Contract_Two_year',\n",
       "   'PaymentMethod_Credit_card_(automatic)',\n",
       "   'PaymentMethod_Electronic_check',\n",
       "   'PaymentMethod_Mailed_check'],\n",
       "  'Best: M2 f1': 0.6360248447204968,\n",
       "  'Best: Agreeability (cohen_kappa)': 0.7397212142224726,\n",
       "  'All: M1 Mean f1': 0.6250742786191058,\n",
       "  'All: M1 STD f1': 0.009308268072901313,\n",
       "  'All: M2 Mean f1': 0.6186111628347444,\n",
       "  'All: M2 STD f1': 0.014335194924420857,\n",
       "  'All: Mean Agreeability (cohen_kappa)': 0.6948306931445006,\n",
       "  'All: Agreeability St. Dev.': 0.039074347014700424},\n",
       " {'Best: M1 Included Features': ['TenureMonths',\n",
       "   'TotalCharges',\n",
       "   'Dependents',\n",
       "   'PhoneService',\n",
       "   'PaperlessBilling',\n",
       "   'OnlineSecurity_No_internet_service',\n",
       "   'OnlineSecurity_Yes',\n",
       "   'DeviceProtection_No_internet_service',\n",
       "   'DeviceProtection_Yes',\n",
       "   'TechSupport_No_internet_service',\n",
       "   'TechSupport_Yes',\n",
       "   'Contract_One_year',\n",
       "   'Contract_Two_year',\n",
       "   'PaymentMethod_Credit_card_(automatic)',\n",
       "   'PaymentMethod_Electronic_check',\n",
       "   'PaymentMethod_Mailed_check'],\n",
       "  'Best: M1 f1': 0.6366863905325444,\n",
       "  'Best: M2 Included Features': ['Latitude',\n",
       "   'TenureMonths',\n",
       "   'MonthlyCharges',\n",
       "   'CLTV',\n",
       "   'Dependents',\n",
       "   'DeviceProtection_No_internet_service',\n",
       "   'DeviceProtection_Yes',\n",
       "   'TechSupport_No_internet_service',\n",
       "   'TechSupport_Yes',\n",
       "   'StreamingTV_No_internet_service',\n",
       "   'StreamingTV_Yes',\n",
       "   'Contract_One_year',\n",
       "   'Contract_Two_year',\n",
       "   'PaymentMethod_Credit_card_(automatic)',\n",
       "   'PaymentMethod_Electronic_check',\n",
       "   'PaymentMethod_Mailed_check'],\n",
       "  'Best: M2 f1': 0.644361833952912,\n",
       "  'Best: Agreeability (cohen_kappa)': 0.7483432171204383,\n",
       "  'All: M1 Mean f1': 0.6252837385953045,\n",
       "  'All: M1 STD f1': 0.007957667962501294,\n",
       "  'All: M2 Mean f1': 0.6188721024978991,\n",
       "  'All: M2 STD f1': 0.013299632348875646,\n",
       "  'All: Mean Agreeability (cohen_kappa)': 0.701358746792171,\n",
       "  'All: Agreeability St. Dev.': 0.04903639025873125},\n",
       " {'Best: M1 Included Features': ['TenureMonths',\n",
       "   'TotalCharges',\n",
       "   'Dependents',\n",
       "   'PhoneService',\n",
       "   'OnlineSecurity_No_internet_service',\n",
       "   'OnlineSecurity_Yes',\n",
       "   'DeviceProtection_No_internet_service',\n",
       "   'DeviceProtection_Yes',\n",
       "   'TechSupport_No_internet_service',\n",
       "   'TechSupport_Yes',\n",
       "   'Contract_One_year',\n",
       "   'Contract_Two_year',\n",
       "   'PaymentMethod_Credit_card_(automatic)',\n",
       "   'PaymentMethod_Electronic_check',\n",
       "   'PaymentMethod_Mailed_check'],\n",
       "  'Best: M1 f1': 0.6397146254458977,\n",
       "  'Best: M2 Included Features': ['Latitude',\n",
       "   'TenureMonths',\n",
       "   'MonthlyCharges',\n",
       "   'CLTV',\n",
       "   'Dependents',\n",
       "   'DeviceProtection_No_internet_service',\n",
       "   'DeviceProtection_Yes',\n",
       "   'TechSupport_No_internet_service',\n",
       "   'TechSupport_Yes',\n",
       "   'StreamingTV_No_internet_service',\n",
       "   'StreamingTV_Yes',\n",
       "   'Contract_One_year',\n",
       "   'Contract_Two_year'],\n",
       "  'Best: M2 f1': 0.6369119420989143,\n",
       "  'Best: Agreeability (cohen_kappa)': 0.7442865753500293,\n",
       "  'All: M1 Mean f1': 0.6266326111692859,\n",
       "  'All: M1 STD f1': 0.0067294451203899945,\n",
       "  'All: M2 Mean f1': 0.619659650802264,\n",
       "  'All: M2 STD f1': 0.013840924193819935,\n",
       "  'All: Mean Agreeability (cohen_kappa)': 0.7113951824326183,\n",
       "  'All: Agreeability St. Dev.': 0.03653665493041855},\n",
       " {'Best: M1 Included Features': ['TenureMonths',\n",
       "   'TotalCharges',\n",
       "   'Dependents',\n",
       "   'PhoneService',\n",
       "   'OnlineSecurity_No_internet_service',\n",
       "   'OnlineSecurity_Yes',\n",
       "   'TechSupport_No_internet_service',\n",
       "   'TechSupport_Yes',\n",
       "   'Contract_One_year',\n",
       "   'Contract_Two_year',\n",
       "   'PaymentMethod_Credit_card_(automatic)',\n",
       "   'PaymentMethod_Electronic_check',\n",
       "   'PaymentMethod_Mailed_check'],\n",
       "  'Best: M1 f1': 0.6352941176470588,\n",
       "  'Best: M2 Included Features': ['Latitude',\n",
       "   'TenureMonths',\n",
       "   'MonthlyCharges',\n",
       "   'CLTV',\n",
       "   'Dependents',\n",
       "   'DeviceProtection_No_internet_service',\n",
       "   'DeviceProtection_Yes',\n",
       "   'TechSupport_No_internet_service',\n",
       "   'TechSupport_Yes',\n",
       "   'Contract_One_year',\n",
       "   'Contract_Two_year'],\n",
       "  'Best: M2 f1': 0.6362545018007202,\n",
       "  'Best: Agreeability (cohen_kappa)': 0.7541802411025355,\n",
       "  'All: M1 Mean f1': 0.6241470262714647,\n",
       "  'All: M1 STD f1': 0.007803599934325579,\n",
       "  'All: M2 Mean f1': 0.6184051170420317,\n",
       "  'All: M2 STD f1': 0.01079430969843865,\n",
       "  'All: Mean Agreeability (cohen_kappa)': 0.6983179239647027,\n",
       "  'All: Agreeability St. Dev.': 0.05485266226082092},\n",
       " {'Best: M1 Included Features': ['TenureMonths',\n",
       "   'TotalCharges',\n",
       "   'Dependents',\n",
       "   'PhoneService',\n",
       "   'TechSupport_No_internet_service',\n",
       "   'TechSupport_Yes',\n",
       "   'Contract_One_year',\n",
       "   'Contract_Two_year',\n",
       "   'PaymentMethod_Credit_card_(automatic)',\n",
       "   'PaymentMethod_Electronic_check',\n",
       "   'PaymentMethod_Mailed_check'],\n",
       "  'Best: M1 f1': 0.6286379511059371,\n",
       "  'Best: M2 Included Features': ['Latitude',\n",
       "   'TenureMonths',\n",
       "   'MonthlyCharges',\n",
       "   'CLTV',\n",
       "   'Dependents',\n",
       "   'TechSupport_No_internet_service',\n",
       "   'TechSupport_Yes',\n",
       "   'Contract_One_year',\n",
       "   'Contract_Two_year'],\n",
       "  'Best: M2 f1': 0.6360424028268552,\n",
       "  'Best: Agreeability (cohen_kappa)': 0.7716501177770013,\n",
       "  'All: M1 Mean f1': 0.6178337246384901,\n",
       "  'All: M1 STD f1': 0.008215083025741038,\n",
       "  'All: M2 Mean f1': 0.6113610081333549,\n",
       "  'All: M2 STD f1': 0.018178443465295284,\n",
       "  'All: Mean Agreeability (cohen_kappa)': 0.6954724962733959,\n",
       "  'All: Agreeability St. Dev.': 0.04693351438719941},\n",
       " {'Best: M1 Included Features': ['TenureMonths',\n",
       "   'TotalCharges',\n",
       "   'Dependents',\n",
       "   'PhoneService',\n",
       "   'Contract_One_year',\n",
       "   'Contract_Two_year',\n",
       "   'PaymentMethod_Credit_card_(automatic)',\n",
       "   'PaymentMethod_Electronic_check',\n",
       "   'PaymentMethod_Mailed_check'],\n",
       "  'Best: M1 f1': 0.6384364820846905,\n",
       "  'Best: M2 Included Features': ['TenureMonths',\n",
       "   'MonthlyCharges',\n",
       "   'CLTV',\n",
       "   'Dependents',\n",
       "   'TechSupport_No_internet_service',\n",
       "   'TechSupport_Yes',\n",
       "   'Contract_One_year',\n",
       "   'Contract_Two_year'],\n",
       "  'Best: M2 f1': 0.6279620853080569,\n",
       "  'Best: Agreeability (cohen_kappa)': 0.6722471267447595,\n",
       "  'All: M1 Mean f1': 0.6189784483296396,\n",
       "  'All: M1 STD f1': 0.010442005971961009,\n",
       "  'All: M2 Mean f1': 0.6160416489652502,\n",
       "  'All: M2 STD f1': 0.010256361139713342,\n",
       "  'All: Mean Agreeability (cohen_kappa)': 0.7031144558861285,\n",
       "  'All: Agreeability St. Dev.': 0.04254129961572481},\n",
       " {'Best: M1 Included Features': ['TenureMonths',\n",
       "   'TotalCharges',\n",
       "   'Dependents',\n",
       "   'Contract_One_year',\n",
       "   'Contract_Two_year',\n",
       "   'PaymentMethod_Credit_card_(automatic)',\n",
       "   'PaymentMethod_Electronic_check',\n",
       "   'PaymentMethod_Mailed_check'],\n",
       "  'Best: M1 f1': 0.635091496232508,\n",
       "  'Best: M2 Included Features': ['TenureMonths',\n",
       "   'MonthlyCharges',\n",
       "   'CLTV',\n",
       "   'TechSupport_No_internet_service',\n",
       "   'TechSupport_Yes',\n",
       "   'Contract_One_year',\n",
       "   'Contract_Two_year'],\n",
       "  'Best: M2 f1': 0.6065573770491802,\n",
       "  'Best: Agreeability (cohen_kappa)': 0.5952485630078321,\n",
       "  'All: M1 Mean f1': 0.6110402237286368,\n",
       "  'All: M1 STD f1': 0.018470889801189168,\n",
       "  'All: M2 Mean f1': 0.5894842189018656,\n",
       "  'All: M2 STD f1': 0.013251352733717579,\n",
       "  'All: Mean Agreeability (cohen_kappa)': 0.5825679308236434,\n",
       "  'All: Agreeability St. Dev.': 0.03293121214774793},\n",
       " {'Best: M1 Included Features': ['TenureMonths',\n",
       "   'TotalCharges',\n",
       "   'Contract_One_year',\n",
       "   'Contract_Two_year',\n",
       "   'PaymentMethod_Credit_card_(automatic)',\n",
       "   'PaymentMethod_Electronic_check',\n",
       "   'PaymentMethod_Mailed_check'],\n",
       "  'Best: M1 f1': 0.6286329386437031,\n",
       "  'Best: M2 Included Features': ['TenureMonths',\n",
       "   'MonthlyCharges',\n",
       "   'CLTV',\n",
       "   'TechSupport_No_internet_service',\n",
       "   'TechSupport_Yes'],\n",
       "  'Best: M2 f1': 0.5744934445768772,\n",
       "  'Best: Agreeability (cohen_kappa)': 0.5088201603665522,\n",
       "  'All: M1 Mean f1': 0.6142342662043141,\n",
       "  'All: M1 STD f1': 0.014920737378766077,\n",
       "  'All: M2 Mean f1': 0.5641046321147014,\n",
       "  'All: M2 STD f1': 0.009496928554017698,\n",
       "  'All: Mean Agreeability (cohen_kappa)': 0.5047257903586184,\n",
       "  'All: Agreeability St. Dev.': 0.04347585100963003},\n",
       " {'Best: M1 Included Features': ['TenureMonths',\n",
       "   'TotalCharges',\n",
       "   'Contract_One_year',\n",
       "   'Contract_Two_year'],\n",
       "  'Best: M1 f1': 0.6050895381715363,\n",
       "  'Best: M2 Included Features': ['TenureMonths', 'MonthlyCharges', 'CLTV'],\n",
       "  'Best: M2 f1': 0.5443786982248522,\n",
       "  'Best: Agreeability (cohen_kappa)': 0.497827949094469,\n",
       "  'All: M1 Mean f1': 0.5675802277599802,\n",
       "  'All: M1 STD f1': 0.023407485815382687,\n",
       "  'All: M2 Mean f1': 0.5231964375655277,\n",
       "  'All: M2 STD f1': 0.01682466866568097,\n",
       "  'All: Mean Agreeability (cohen_kappa)': 0.37044688934928127,\n",
       "  'All: Agreeability St. Dev.': 0.0821919552893439},\n",
       " {'Best: M1 Included Features': ['TotalCharges',\n",
       "   'Contract_One_year',\n",
       "   'Contract_Two_year'],\n",
       "  'Best: M1 f1': 0.5818181818181819,\n",
       "  'Best: M2 Included Features': ['TenureMonths', 'MonthlyCharges'],\n",
       "  'Best: M2 f1': 0.532741398446171,\n",
       "  'Best: Agreeability (cohen_kappa)': 0.3937790806338965,\n",
       "  'All: M1 Mean f1': 0.5770679770679771,\n",
       "  'All: M1 STD f1': 0.006717803981788708,\n",
       "  'All: M2 Mean f1': 0.4537172568289191,\n",
       "  'All: M2 STD f1': 0.05706953961982837,\n",
       "  'All: Mean Agreeability (cohen_kappa)': 0.24970139283898996,\n",
       "  'All: Agreeability St. Dev.': 0.12444252880366283},\n",
       " {'Best: M1 Included Features': ['Contract_One_year', 'Contract_Two_year'],\n",
       "  'Best: M1 f1': 0.5818181818181819,\n",
       "  'Best: M2 Included Features': ['TenureMonths'],\n",
       "  'Best: M2 f1': 0.5179437439379244,\n",
       "  'Best: Agreeability (cohen_kappa)': 0.5400300842358604,\n",
       "  'All: M1 Mean f1': 0.5180332739156269,\n",
       "  'All: M1 STD f1': 0.063784907902555,\n",
       "  'All: M2 Mean f1': 0.4348852684506943,\n",
       "  'All: M2 STD f1': 0.08305847548723014,\n",
       "  'All: Mean Agreeability (cohen_kappa)': 0.22226239580667898,\n",
       "  'All: Agreeability St. Dev.': 0.31776768842918146}]"
      ]
     },
     "execution_count": 122,
     "metadata": {},
     "output_type": "execute_result"
    }
   ],
   "source": [
    "results_3"
   ]
  },
  {
   "cell_type": "code",
   "execution_count": 128,
   "metadata": {},
   "outputs": [],
   "source": [
    "results_df_3 = seeker_3.dataframe_from_results()"
   ]
  },
  {
   "cell_type": "code",
   "execution_count": 129,
   "metadata": {},
   "outputs": [
    {
     "data": {
      "application/vnd.plotly.v1+json": {
       "config": {
        "plotlyServerURL": "https://plot.ly"
       },
       "data": [
        {
         "hoverinfo": "text",
         "hovertext": [
          "<br> Best: Agreeability (cohen_kappa): <br> 0.7865 <br> All: Mean Agreeability (cohen_kappa): <br> 0.7865 <br> All: Agreeability St. Dev.: <br> 0.0000",
          "<br> Best: Agreeability (cohen_kappa): <br> 0.7686 <br> All: Mean Agreeability (cohen_kappa): <br> 0.7710 <br> All: Agreeability St. Dev.: <br> 0.0268",
          "<br> Best: Agreeability (cohen_kappa): <br> 0.7757 <br> All: Mean Agreeability (cohen_kappa): <br> 0.7500 <br> All: Agreeability St. Dev.: <br> 0.0210",
          "<br> Best: Agreeability (cohen_kappa): <br> 0.7856 <br> All: Mean Agreeability (cohen_kappa): <br> 0.7485 <br> All: Agreeability St. Dev.: <br> 0.0253",
          "<br> Best: Agreeability (cohen_kappa): <br> 0.7526 <br> All: Mean Agreeability (cohen_kappa): <br> 0.7378 <br> All: Agreeability St. Dev.: <br> 0.0330",
          "<br> Best: Agreeability (cohen_kappa): <br> 0.7340 <br> All: Mean Agreeability (cohen_kappa): <br> 0.7221 <br> All: Agreeability St. Dev.: <br> 0.0289",
          "<br> Best: Agreeability (cohen_kappa): <br> 0.7159 <br> All: Mean Agreeability (cohen_kappa): <br> 0.7068 <br> All: Agreeability St. Dev.: <br> 0.0280",
          "<br> Best: Agreeability (cohen_kappa): <br> 0.7204 <br> All: Mean Agreeability (cohen_kappa): <br> 0.7052 <br> All: Agreeability St. Dev.: <br> 0.0268",
          "<br> Best: Agreeability (cohen_kappa): <br> 0.7369 <br> All: Mean Agreeability (cohen_kappa): <br> 0.7010 <br> All: Agreeability St. Dev.: <br> 0.0290",
          "<br> Best: Agreeability (cohen_kappa): <br> 0.7561 <br> All: Mean Agreeability (cohen_kappa): <br> 0.7094 <br> All: Agreeability St. Dev.: <br> 0.0485",
          "<br> Best: Agreeability (cohen_kappa): <br> 0.7361 <br> All: Mean Agreeability (cohen_kappa): <br> 0.7115 <br> All: Agreeability St. Dev.: <br> 0.0478",
          "<br> Best: Agreeability (cohen_kappa): <br> 0.7397 <br> All: Mean Agreeability (cohen_kappa): <br> 0.6948 <br> All: Agreeability St. Dev.: <br> 0.0391",
          "<br> Best: Agreeability (cohen_kappa): <br> 0.7483 <br> All: Mean Agreeability (cohen_kappa): <br> 0.7014 <br> All: Agreeability St. Dev.: <br> 0.0490",
          "<br> Best: Agreeability (cohen_kappa): <br> 0.7443 <br> All: Mean Agreeability (cohen_kappa): <br> 0.7114 <br> All: Agreeability St. Dev.: <br> 0.0365",
          "<br> Best: Agreeability (cohen_kappa): <br> 0.7542 <br> All: Mean Agreeability (cohen_kappa): <br> 0.6983 <br> All: Agreeability St. Dev.: <br> 0.0549",
          "<br> Best: Agreeability (cohen_kappa): <br> 0.7717 <br> All: Mean Agreeability (cohen_kappa): <br> 0.6955 <br> All: Agreeability St. Dev.: <br> 0.0469",
          "<br> Best: Agreeability (cohen_kappa): <br> 0.6722 <br> All: Mean Agreeability (cohen_kappa): <br> 0.7031 <br> All: Agreeability St. Dev.: <br> 0.0425",
          "<br> Best: Agreeability (cohen_kappa): <br> 0.5952 <br> All: Mean Agreeability (cohen_kappa): <br> 0.5826 <br> All: Agreeability St. Dev.: <br> 0.0329",
          "<br> Best: Agreeability (cohen_kappa): <br> 0.5088 <br> All: Mean Agreeability (cohen_kappa): <br> 0.5047 <br> All: Agreeability St. Dev.: <br> 0.0435",
          "<br> Best: Agreeability (cohen_kappa): <br> 0.4978 <br> All: Mean Agreeability (cohen_kappa): <br> 0.3704 <br> All: Agreeability St. Dev.: <br> 0.0822",
          "<br> Best: Agreeability (cohen_kappa): <br> 0.3938 <br> All: Mean Agreeability (cohen_kappa): <br> 0.2497 <br> All: Agreeability St. Dev.: <br> 0.1244",
          "<br> Best: Agreeability (cohen_kappa): <br> 0.5400 <br> All: Mean Agreeability (cohen_kappa): <br> 0.2223 <br> All: Agreeability St. Dev.: <br> 0.3178"
         ],
         "mode": "lines+markers",
         "name": "Best: Agreeability (cohen_kappa)",
         "type": "scatter",
         "x": [
          1,
          2,
          3,
          4,
          5,
          6,
          7,
          8,
          9,
          10,
          11,
          12,
          13,
          14,
          15,
          16,
          17,
          18,
          19,
          20,
          21,
          22
         ],
         "xaxis": "x",
         "y": [
          0.7865197091276915,
          0.7685782496063394,
          0.7756940267683098,
          0.7855898872327765,
          0.7526019207743384,
          0.7339780869914847,
          0.7159128699700699,
          0.7203597362312874,
          0.736900784312342,
          0.7561239547466799,
          0.7360516078199634,
          0.7397212142224726,
          0.7483432171204383,
          0.7442865753500293,
          0.7541802411025355,
          0.7716501177770013,
          0.6722471267447595,
          0.5952485630078321,
          0.5088201603665522,
          0.497827949094469,
          0.3937790806338965,
          0.5400300842358604
         ],
         "yaxis": "y"
        },
        {
         "hoverinfo": "text",
         "hovertext": [
          "<br> Best: M1 f1: <br> 0.6342 <br> Best: M1 Included Features: <br> Latitude, Longitude, TenureMonths, MonthlyCharges, TotalCharges, CLTV, Gender, SeniorCitizen, Partner, Dependents, PhoneService, PaperlessBilling, MultipleLines_No_phone_service, MultipleLines_Yes, InternetService_Fiber_optic, InternetService_No, OnlineSecurity_No_internet_service, OnlineSecurity_Yes, OnlineBackup_No_internet_service, OnlineBackup_Yes, DeviceProtection_No_internet_service, DeviceProtection_Yes, TechSupport_No_internet_service, TechSupport_Yes, StreamingTV_No_internet_service, StreamingTV_Yes, StreamingMovies_No_internet_service, StreamingMovies_Yes, Contract_One_year, Contract_Two_year, PaymentMethod_Credit_card_(automatic), PaymentMethod_Electronic_check, PaymentMethod_Mailed_check <br> All: M1 Mean f1: <br> 0.6342 <br> All: M1 STD f1: <br> 0.0000",
          "<br> Best: M1 f1: <br> 0.6325 <br> Best: M1 Included Features: <br> Latitude, TenureMonths, MonthlyCharges, TotalCharges, CLTV, Gender, SeniorCitizen, Partner, Dependents, PhoneService, PaperlessBilling, MultipleLines_No_phone_service, MultipleLines_Yes, InternetService_Fiber_optic, InternetService_No, OnlineSecurity_No_internet_service, OnlineSecurity_Yes, OnlineBackup_No_internet_service, OnlineBackup_Yes, DeviceProtection_No_internet_service, DeviceProtection_Yes, TechSupport_No_internet_service, TechSupport_Yes, StreamingTV_No_internet_service, StreamingTV_Yes, StreamingMovies_No_internet_service, StreamingMovies_Yes, Contract_One_year, Contract_Two_year, PaymentMethod_Credit_card_(automatic), PaymentMethod_Electronic_check, PaymentMethod_Mailed_check <br> All: M1 Mean f1: <br> 0.6223 <br> All: M1 STD f1: <br> 0.0065",
          "<br> Best: M1 f1: <br> 0.6342 <br> Best: M1 Included Features: <br> Latitude, TenureMonths, MonthlyCharges, TotalCharges, CLTV, Gender, SeniorCitizen, Dependents, PhoneService, PaperlessBilling, MultipleLines_No_phone_service, MultipleLines_Yes, InternetService_Fiber_optic, InternetService_No, OnlineSecurity_No_internet_service, OnlineSecurity_Yes, OnlineBackup_No_internet_service, OnlineBackup_Yes, DeviceProtection_No_internet_service, DeviceProtection_Yes, TechSupport_No_internet_service, TechSupport_Yes, StreamingTV_No_internet_service, StreamingTV_Yes, StreamingMovies_No_internet_service, StreamingMovies_Yes, Contract_One_year, Contract_Two_year, PaymentMethod_Credit_card_(automatic), PaymentMethod_Electronic_check, PaymentMethod_Mailed_check <br> All: M1 Mean f1: <br> 0.6214 <br> All: M1 STD f1: <br> 0.0065",
          "<br> Best: M1 f1: <br> 0.6308 <br> Best: M1 Included Features: <br> TenureMonths, MonthlyCharges, TotalCharges, CLTV, Gender, SeniorCitizen, Dependents, PhoneService, PaperlessBilling, MultipleLines_No_phone_service, MultipleLines_Yes, InternetService_Fiber_optic, InternetService_No, OnlineSecurity_No_internet_service, OnlineSecurity_Yes, OnlineBackup_No_internet_service, OnlineBackup_Yes, DeviceProtection_No_internet_service, DeviceProtection_Yes, TechSupport_No_internet_service, TechSupport_Yes, StreamingTV_No_internet_service, StreamingTV_Yes, StreamingMovies_No_internet_service, StreamingMovies_Yes, Contract_One_year, Contract_Two_year, PaymentMethod_Credit_card_(automatic), PaymentMethod_Electronic_check, PaymentMethod_Mailed_check <br> All: M1 Mean f1: <br> 0.6202 <br> All: M1 STD f1: <br> 0.0077",
          "<br> Best: M1 f1: <br> 0.6302 <br> Best: M1 Included Features: <br> TenureMonths, TotalCharges, CLTV, Gender, SeniorCitizen, Dependents, PhoneService, PaperlessBilling, MultipleLines_No_phone_service, MultipleLines_Yes, InternetService_Fiber_optic, InternetService_No, OnlineSecurity_No_internet_service, OnlineSecurity_Yes, OnlineBackup_No_internet_service, OnlineBackup_Yes, DeviceProtection_No_internet_service, DeviceProtection_Yes, TechSupport_No_internet_service, TechSupport_Yes, StreamingTV_No_internet_service, StreamingTV_Yes, StreamingMovies_No_internet_service, StreamingMovies_Yes, Contract_One_year, Contract_Two_year, PaymentMethod_Credit_card_(automatic), PaymentMethod_Electronic_check, PaymentMethod_Mailed_check <br> All: M1 Mean f1: <br> 0.6205 <br> All: M1 STD f1: <br> 0.0070",
          "<br> Best: M1 f1: <br> 0.6383 <br> Best: M1 Included Features: <br> TenureMonths, TotalCharges, CLTV, Gender, SeniorCitizen, Dependents, PhoneService, PaperlessBilling, MultipleLines_No_phone_service, MultipleLines_Yes, InternetService_Fiber_optic, InternetService_No, OnlineSecurity_No_internet_service, OnlineSecurity_Yes, DeviceProtection_No_internet_service, DeviceProtection_Yes, TechSupport_No_internet_service, TechSupport_Yes, StreamingTV_No_internet_service, StreamingTV_Yes, StreamingMovies_No_internet_service, StreamingMovies_Yes, Contract_One_year, Contract_Two_year, PaymentMethod_Credit_card_(automatic), PaymentMethod_Electronic_check, PaymentMethod_Mailed_check <br> All: M1 Mean f1: <br> 0.6214 <br> All: M1 STD f1: <br> 0.0114",
          "<br> Best: M1 f1: <br> 0.6368 <br> Best: M1 Included Features: <br> TenureMonths, TotalCharges, CLTV, Gender, SeniorCitizen, Dependents, PhoneService, PaperlessBilling, MultipleLines_No_phone_service, MultipleLines_Yes, InternetService_Fiber_optic, InternetService_No, OnlineSecurity_No_internet_service, OnlineSecurity_Yes, DeviceProtection_No_internet_service, DeviceProtection_Yes, TechSupport_No_internet_service, TechSupport_Yes, StreamingMovies_No_internet_service, StreamingMovies_Yes, Contract_One_year, Contract_Two_year, PaymentMethod_Credit_card_(automatic), PaymentMethod_Electronic_check, PaymentMethod_Mailed_check <br> All: M1 Mean f1: <br> 0.6269 <br> All: M1 STD f1: <br> 0.0071",
          "<br> Best: M1 f1: <br> 0.6361 <br> Best: M1 Included Features: <br> TenureMonths, TotalCharges, CLTV, Gender, SeniorCitizen, Dependents, PhoneService, PaperlessBilling, InternetService_Fiber_optic, InternetService_No, OnlineSecurity_No_internet_service, OnlineSecurity_Yes, DeviceProtection_No_internet_service, DeviceProtection_Yes, TechSupport_No_internet_service, TechSupport_Yes, StreamingMovies_No_internet_service, StreamingMovies_Yes, Contract_One_year, Contract_Two_year, PaymentMethod_Credit_card_(automatic), PaymentMethod_Electronic_check, PaymentMethod_Mailed_check <br> All: M1 Mean f1: <br> 0.6280 <br> All: M1 STD f1: <br> 0.0070",
          "<br> Best: M1 f1: <br> 0.6332 <br> Best: M1 Included Features: <br> TenureMonths, TotalCharges, CLTV, SeniorCitizen, Dependents, PhoneService, PaperlessBilling, InternetService_Fiber_optic, InternetService_No, OnlineSecurity_No_internet_service, OnlineSecurity_Yes, DeviceProtection_No_internet_service, DeviceProtection_Yes, TechSupport_No_internet_service, TechSupport_Yes, StreamingMovies_No_internet_service, StreamingMovies_Yes, Contract_One_year, Contract_Two_year, PaymentMethod_Credit_card_(automatic), PaymentMethod_Electronic_check, PaymentMethod_Mailed_check <br> All: M1 Mean f1: <br> 0.6257 <br> All: M1 STD f1: <br> 0.0076",
          "<br> Best: M1 f1: <br> 0.6365 <br> Best: M1 Included Features: <br> TenureMonths, TotalCharges, CLTV, SeniorCitizen, Dependents, PhoneService, PaperlessBilling, InternetService_Fiber_optic, InternetService_No, OnlineSecurity_No_internet_service, OnlineSecurity_Yes, DeviceProtection_No_internet_service, DeviceProtection_Yes, TechSupport_No_internet_service, TechSupport_Yes, Contract_One_year, Contract_Two_year, PaymentMethod_Credit_card_(automatic), PaymentMethod_Electronic_check, PaymentMethod_Mailed_check <br> All: M1 Mean f1: <br> 0.6245 <br> All: M1 STD f1: <br> 0.0086",
          "<br> Best: M1 f1: <br> 0.6389 <br> Best: M1 Included Features: <br> TenureMonths, TotalCharges, CLTV, SeniorCitizen, Dependents, PhoneService, PaperlessBilling, OnlineSecurity_No_internet_service, OnlineSecurity_Yes, DeviceProtection_No_internet_service, DeviceProtection_Yes, TechSupport_No_internet_service, TechSupport_Yes, Contract_One_year, Contract_Two_year, PaymentMethod_Credit_card_(automatic), PaymentMethod_Electronic_check, PaymentMethod_Mailed_check <br> All: M1 Mean f1: <br> 0.6281 <br> All: M1 STD f1: <br> 0.0067",
          "<br> Best: M1 f1: <br> 0.6398 <br> Best: M1 Included Features: <br> TenureMonths, TotalCharges, CLTV, Dependents, PhoneService, PaperlessBilling, OnlineSecurity_No_internet_service, OnlineSecurity_Yes, DeviceProtection_No_internet_service, DeviceProtection_Yes, TechSupport_No_internet_service, TechSupport_Yes, Contract_One_year, Contract_Two_year, PaymentMethod_Credit_card_(automatic), PaymentMethod_Electronic_check, PaymentMethod_Mailed_check <br> All: M1 Mean f1: <br> 0.6251 <br> All: M1 STD f1: <br> 0.0093",
          "<br> Best: M1 f1: <br> 0.6367 <br> Best: M1 Included Features: <br> TenureMonths, TotalCharges, Dependents, PhoneService, PaperlessBilling, OnlineSecurity_No_internet_service, OnlineSecurity_Yes, DeviceProtection_No_internet_service, DeviceProtection_Yes, TechSupport_No_internet_service, TechSupport_Yes, Contract_One_year, Contract_Two_year, PaymentMethod_Credit_card_(automatic), PaymentMethod_Electronic_check, PaymentMethod_Mailed_check <br> All: M1 Mean f1: <br> 0.6253 <br> All: M1 STD f1: <br> 0.0080",
          "<br> Best: M1 f1: <br> 0.6397 <br> Best: M1 Included Features: <br> TenureMonths, TotalCharges, Dependents, PhoneService, OnlineSecurity_No_internet_service, OnlineSecurity_Yes, DeviceProtection_No_internet_service, DeviceProtection_Yes, TechSupport_No_internet_service, TechSupport_Yes, Contract_One_year, Contract_Two_year, PaymentMethod_Credit_card_(automatic), PaymentMethod_Electronic_check, PaymentMethod_Mailed_check <br> All: M1 Mean f1: <br> 0.6266 <br> All: M1 STD f1: <br> 0.0067",
          "<br> Best: M1 f1: <br> 0.6353 <br> Best: M1 Included Features: <br> TenureMonths, TotalCharges, Dependents, PhoneService, OnlineSecurity_No_internet_service, OnlineSecurity_Yes, TechSupport_No_internet_service, TechSupport_Yes, Contract_One_year, Contract_Two_year, PaymentMethod_Credit_card_(automatic), PaymentMethod_Electronic_check, PaymentMethod_Mailed_check <br> All: M1 Mean f1: <br> 0.6241 <br> All: M1 STD f1: <br> 0.0078",
          "<br> Best: M1 f1: <br> 0.6286 <br> Best: M1 Included Features: <br> TenureMonths, TotalCharges, Dependents, PhoneService, TechSupport_No_internet_service, TechSupport_Yes, Contract_One_year, Contract_Two_year, PaymentMethod_Credit_card_(automatic), PaymentMethod_Electronic_check, PaymentMethod_Mailed_check <br> All: M1 Mean f1: <br> 0.6178 <br> All: M1 STD f1: <br> 0.0082",
          "<br> Best: M1 f1: <br> 0.6384 <br> Best: M1 Included Features: <br> TenureMonths, TotalCharges, Dependents, PhoneService, Contract_One_year, Contract_Two_year, PaymentMethod_Credit_card_(automatic), PaymentMethod_Electronic_check, PaymentMethod_Mailed_check <br> All: M1 Mean f1: <br> 0.6190 <br> All: M1 STD f1: <br> 0.0104",
          "<br> Best: M1 f1: <br> 0.6351 <br> Best: M1 Included Features: <br> TenureMonths, TotalCharges, Dependents, Contract_One_year, Contract_Two_year, PaymentMethod_Credit_card_(automatic), PaymentMethod_Electronic_check, PaymentMethod_Mailed_check <br> All: M1 Mean f1: <br> 0.6110 <br> All: M1 STD f1: <br> 0.0185",
          "<br> Best: M1 f1: <br> 0.6286 <br> Best: M1 Included Features: <br> TenureMonths, TotalCharges, Contract_One_year, Contract_Two_year, PaymentMethod_Credit_card_(automatic), PaymentMethod_Electronic_check, PaymentMethod_Mailed_check <br> All: M1 Mean f1: <br> 0.6142 <br> All: M1 STD f1: <br> 0.0149",
          "<br> Best: M1 f1: <br> 0.6051 <br> Best: M1 Included Features: <br> TenureMonths, TotalCharges, Contract_One_year, Contract_Two_year <br> All: M1 Mean f1: <br> 0.5676 <br> All: M1 STD f1: <br> 0.0234",
          "<br> Best: M1 f1: <br> 0.5818 <br> Best: M1 Included Features: <br> TotalCharges, Contract_One_year, Contract_Two_year <br> All: M1 Mean f1: <br> 0.5771 <br> All: M1 STD f1: <br> 0.0067",
          "<br> Best: M1 f1: <br> 0.5818 <br> Best: M1 Included Features: <br> Contract_One_year, Contract_Two_year <br> All: M1 Mean f1: <br> 0.5180 <br> All: M1 STD f1: <br> 0.0638"
         ],
         "mode": "lines+markers",
         "name": "Best: M1 f1",
         "type": "scatter",
         "x": [
          1,
          2,
          3,
          4,
          5,
          6,
          7,
          8,
          9,
          10,
          11,
          12,
          13,
          14,
          15,
          16,
          17,
          18,
          19,
          20,
          21,
          22
         ],
         "xaxis": "x",
         "y": [
          0.634207240948814,
          0.6325000000000001,
          0.634207240948814,
          0.6307884856070087,
          0.6301703163017031,
          0.6383495145631067,
          0.6368038740920098,
          0.636144578313253,
          0.6332138590203106,
          0.6364719904648392,
          0.6388557806912991,
          0.6398104265402844,
          0.6366863905325444,
          0.6397146254458977,
          0.6352941176470588,
          0.6286379511059371,
          0.6384364820846905,
          0.635091496232508,
          0.6286329386437031,
          0.6050895381715363,
          0.5818181818181819,
          0.5818181818181819
         ],
         "yaxis": "y2"
        },
        {
         "hoverinfo": "text",
         "hovertext": [
          "<br> Best: M2 f1: <br> 0.6105 <br> Best: M2 Included Features: <br> Latitude, Longitude, TenureMonths, MonthlyCharges, TotalCharges, CLTV, Gender, SeniorCitizen, Partner, Dependents, PhoneService, PaperlessBilling, MultipleLines_No_phone_service, MultipleLines_Yes, InternetService_Fiber_optic, InternetService_No, OnlineSecurity_No_internet_service, OnlineSecurity_Yes, OnlineBackup_No_internet_service, OnlineBackup_Yes, DeviceProtection_No_internet_service, DeviceProtection_Yes, TechSupport_No_internet_service, TechSupport_Yes, StreamingTV_No_internet_service, StreamingTV_Yes, StreamingMovies_No_internet_service, StreamingMovies_Yes, Contract_One_year, Contract_Two_year, PaymentMethod_Credit_card_(automatic), PaymentMethod_Electronic_check, PaymentMethod_Mailed_check <br> All: M2 Mean f1: <br> 0.6105 <br> All: M2 STD f1: <br> 0.0000",
          "<br> Best: M2 f1: <br> 0.6405 <br> Best: M2 Included Features: <br> Latitude, Longitude, TenureMonths, MonthlyCharges, TotalCharges, CLTV, Gender, SeniorCitizen, Partner, Dependents, PhoneService, PaperlessBilling, MultipleLines_No_phone_service, MultipleLines_Yes, InternetService_Fiber_optic, InternetService_No, OnlineBackup_No_internet_service, OnlineBackup_Yes, DeviceProtection_No_internet_service, DeviceProtection_Yes, TechSupport_No_internet_service, TechSupport_Yes, StreamingTV_No_internet_service, StreamingTV_Yes, StreamingMovies_No_internet_service, StreamingMovies_Yes, Contract_One_year, Contract_Two_year, PaymentMethod_Credit_card_(automatic), PaymentMethod_Electronic_check, PaymentMethod_Mailed_check <br> All: M2 Mean f1: <br> 0.6106 <br> All: M2 STD f1: <br> 0.0112",
          "<br> Best: M2 f1: <br> 0.6346 <br> Best: M2 Included Features: <br> Latitude, Longitude, TenureMonths, MonthlyCharges, TotalCharges, CLTV, Gender, Partner, Dependents, PhoneService, PaperlessBilling, MultipleLines_No_phone_service, MultipleLines_Yes, InternetService_Fiber_optic, InternetService_No, OnlineBackup_No_internet_service, OnlineBackup_Yes, DeviceProtection_No_internet_service, DeviceProtection_Yes, TechSupport_No_internet_service, TechSupport_Yes, StreamingTV_No_internet_service, StreamingTV_Yes, StreamingMovies_No_internet_service, StreamingMovies_Yes, Contract_One_year, Contract_Two_year, PaymentMethod_Credit_card_(automatic), PaymentMethod_Electronic_check, PaymentMethod_Mailed_check <br> All: M2 Mean f1: <br> 0.6189 <br> All: M2 STD f1: <br> 0.0082",
          "<br> Best: M2 f1: <br> 0.6372 <br> Best: M2 Included Features: <br> Latitude, TenureMonths, MonthlyCharges, TotalCharges, CLTV, Gender, Partner, Dependents, PhoneService, PaperlessBilling, MultipleLines_No_phone_service, MultipleLines_Yes, InternetService_Fiber_optic, InternetService_No, OnlineBackup_No_internet_service, OnlineBackup_Yes, DeviceProtection_No_internet_service, DeviceProtection_Yes, TechSupport_No_internet_service, TechSupport_Yes, StreamingTV_No_internet_service, StreamingTV_Yes, StreamingMovies_No_internet_service, StreamingMovies_Yes, Contract_One_year, Contract_Two_year, PaymentMethod_Credit_card_(automatic), PaymentMethod_Electronic_check, PaymentMethod_Mailed_check <br> All: M2 Mean f1: <br> 0.6240 <br> All: M2 STD f1: <br> 0.0085",
          "<br> Best: M2 f1: <br> 0.6386 <br> Best: M2 Included Features: <br> Latitude, TenureMonths, MonthlyCharges, TotalCharges, CLTV, Gender, Partner, Dependents, PhoneService, PaperlessBilling, MultipleLines_No_phone_service, MultipleLines_Yes, InternetService_Fiber_optic, InternetService_No, OnlineBackup_No_internet_service, OnlineBackup_Yes, DeviceProtection_No_internet_service, DeviceProtection_Yes, TechSupport_No_internet_service, TechSupport_Yes, StreamingTV_No_internet_service, StreamingTV_Yes, Contract_One_year, Contract_Two_year, PaymentMethod_Credit_card_(automatic), PaymentMethod_Electronic_check, PaymentMethod_Mailed_check <br> All: M2 Mean f1: <br> 0.6268 <br> All: M2 STD f1: <br> 0.0083",
          "<br> Best: M2 f1: <br> 0.6410 <br> Best: M2 Included Features: <br> Latitude, TenureMonths, MonthlyCharges, TotalCharges, CLTV, Partner, Dependents, PhoneService, PaperlessBilling, MultipleLines_No_phone_service, MultipleLines_Yes, InternetService_Fiber_optic, InternetService_No, OnlineBackup_No_internet_service, OnlineBackup_Yes, DeviceProtection_No_internet_service, DeviceProtection_Yes, TechSupport_No_internet_service, TechSupport_Yes, StreamingTV_No_internet_service, StreamingTV_Yes, Contract_One_year, Contract_Two_year, PaymentMethod_Credit_card_(automatic), PaymentMethod_Electronic_check, PaymentMethod_Mailed_check <br> All: M2 Mean f1: <br> 0.6254 <br> All: M2 STD f1: <br> 0.0096",
          "<br> Best: M2 f1: <br> 0.6557 <br> Best: M2 Included Features: <br> Latitude, TenureMonths, MonthlyCharges, TotalCharges, CLTV, Dependents, PhoneService, PaperlessBilling, MultipleLines_No_phone_service, MultipleLines_Yes, InternetService_Fiber_optic, InternetService_No, OnlineBackup_No_internet_service, OnlineBackup_Yes, DeviceProtection_No_internet_service, DeviceProtection_Yes, TechSupport_No_internet_service, TechSupport_Yes, StreamingTV_No_internet_service, StreamingTV_Yes, Contract_One_year, Contract_Two_year, PaymentMethod_Credit_card_(automatic), PaymentMethod_Electronic_check, PaymentMethod_Mailed_check <br> All: M2 Mean f1: <br> 0.6318 <br> All: M2 STD f1: <br> 0.0136",
          "<br> Best: M2 f1: <br> 0.6439 <br> Best: M2 Included Features: <br> Latitude, TenureMonths, MonthlyCharges, TotalCharges, CLTV, Dependents, PhoneService, PaperlessBilling, InternetService_Fiber_optic, InternetService_No, OnlineBackup_No_internet_service, OnlineBackup_Yes, DeviceProtection_No_internet_service, DeviceProtection_Yes, TechSupport_No_internet_service, TechSupport_Yes, StreamingTV_No_internet_service, StreamingTV_Yes, Contract_One_year, Contract_Two_year, PaymentMethod_Credit_card_(automatic), PaymentMethod_Electronic_check, PaymentMethod_Mailed_check <br> All: M2 Mean f1: <br> 0.6298 <br> All: M2 STD f1: <br> 0.0088",
          "<br> Best: M2 f1: <br> 0.6373 <br> Best: M2 Included Features: <br> Latitude, TenureMonths, MonthlyCharges, CLTV, Dependents, PhoneService, PaperlessBilling, InternetService_Fiber_optic, InternetService_No, OnlineBackup_No_internet_service, OnlineBackup_Yes, DeviceProtection_No_internet_service, DeviceProtection_Yes, TechSupport_No_internet_service, TechSupport_Yes, StreamingTV_No_internet_service, StreamingTV_Yes, Contract_One_year, Contract_Two_year, PaymentMethod_Credit_card_(automatic), PaymentMethod_Electronic_check, PaymentMethod_Mailed_check <br> All: M2 Mean f1: <br> 0.6187 <br> All: M2 STD f1: <br> 0.0129",
          "<br> Best: M2 f1: <br> 0.6433 <br> Best: M2 Included Features: <br> Latitude, TenureMonths, MonthlyCharges, CLTV, Dependents, PhoneService, PaperlessBilling, OnlineBackup_No_internet_service, OnlineBackup_Yes, DeviceProtection_No_internet_service, DeviceProtection_Yes, TechSupport_No_internet_service, TechSupport_Yes, StreamingTV_No_internet_service, StreamingTV_Yes, Contract_One_year, Contract_Two_year, PaymentMethod_Credit_card_(automatic), PaymentMethod_Electronic_check, PaymentMethod_Mailed_check <br> All: M2 Mean f1: <br> 0.6240 <br> All: M2 STD f1: <br> 0.0147",
          "<br> Best: M2 f1: <br> 0.6424 <br> Best: M2 Included Features: <br> Latitude, TenureMonths, MonthlyCharges, CLTV, Dependents, PhoneService, OnlineBackup_No_internet_service, OnlineBackup_Yes, DeviceProtection_No_internet_service, DeviceProtection_Yes, TechSupport_No_internet_service, TechSupport_Yes, StreamingTV_No_internet_service, StreamingTV_Yes, Contract_One_year, Contract_Two_year, PaymentMethod_Credit_card_(automatic), PaymentMethod_Electronic_check, PaymentMethod_Mailed_check <br> All: M2 Mean f1: <br> 0.6185 <br> All: M2 STD f1: <br> 0.0186",
          "<br> Best: M2 f1: <br> 0.6360 <br> Best: M2 Included Features: <br> Latitude, TenureMonths, MonthlyCharges, CLTV, Dependents, OnlineBackup_No_internet_service, OnlineBackup_Yes, DeviceProtection_No_internet_service, DeviceProtection_Yes, TechSupport_No_internet_service, TechSupport_Yes, StreamingTV_No_internet_service, StreamingTV_Yes, Contract_One_year, Contract_Two_year, PaymentMethod_Credit_card_(automatic), PaymentMethod_Electronic_check, PaymentMethod_Mailed_check <br> All: M2 Mean f1: <br> 0.6186 <br> All: M2 STD f1: <br> 0.0143",
          "<br> Best: M2 f1: <br> 0.6444 <br> Best: M2 Included Features: <br> Latitude, TenureMonths, MonthlyCharges, CLTV, Dependents, DeviceProtection_No_internet_service, DeviceProtection_Yes, TechSupport_No_internet_service, TechSupport_Yes, StreamingTV_No_internet_service, StreamingTV_Yes, Contract_One_year, Contract_Two_year, PaymentMethod_Credit_card_(automatic), PaymentMethod_Electronic_check, PaymentMethod_Mailed_check <br> All: M2 Mean f1: <br> 0.6189 <br> All: M2 STD f1: <br> 0.0133",
          "<br> Best: M2 f1: <br> 0.6369 <br> Best: M2 Included Features: <br> Latitude, TenureMonths, MonthlyCharges, CLTV, Dependents, DeviceProtection_No_internet_service, DeviceProtection_Yes, TechSupport_No_internet_service, TechSupport_Yes, StreamingTV_No_internet_service, StreamingTV_Yes, Contract_One_year, Contract_Two_year <br> All: M2 Mean f1: <br> 0.6197 <br> All: M2 STD f1: <br> 0.0138",
          "<br> Best: M2 f1: <br> 0.6363 <br> Best: M2 Included Features: <br> Latitude, TenureMonths, MonthlyCharges, CLTV, Dependents, DeviceProtection_No_internet_service, DeviceProtection_Yes, TechSupport_No_internet_service, TechSupport_Yes, Contract_One_year, Contract_Two_year <br> All: M2 Mean f1: <br> 0.6184 <br> All: M2 STD f1: <br> 0.0108",
          "<br> Best: M2 f1: <br> 0.6360 <br> Best: M2 Included Features: <br> Latitude, TenureMonths, MonthlyCharges, CLTV, Dependents, TechSupport_No_internet_service, TechSupport_Yes, Contract_One_year, Contract_Two_year <br> All: M2 Mean f1: <br> 0.6114 <br> All: M2 STD f1: <br> 0.0182",
          "<br> Best: M2 f1: <br> 0.6280 <br> Best: M2 Included Features: <br> TenureMonths, MonthlyCharges, CLTV, Dependents, TechSupport_No_internet_service, TechSupport_Yes, Contract_One_year, Contract_Two_year <br> All: M2 Mean f1: <br> 0.6160 <br> All: M2 STD f1: <br> 0.0103",
          "<br> Best: M2 f1: <br> 0.6066 <br> Best: M2 Included Features: <br> TenureMonths, MonthlyCharges, CLTV, TechSupport_No_internet_service, TechSupport_Yes, Contract_One_year, Contract_Two_year <br> All: M2 Mean f1: <br> 0.5895 <br> All: M2 STD f1: <br> 0.0133",
          "<br> Best: M2 f1: <br> 0.5745 <br> Best: M2 Included Features: <br> TenureMonths, MonthlyCharges, CLTV, TechSupport_No_internet_service, TechSupport_Yes <br> All: M2 Mean f1: <br> 0.5641 <br> All: M2 STD f1: <br> 0.0095",
          "<br> Best: M2 f1: <br> 0.5444 <br> Best: M2 Included Features: <br> TenureMonths, MonthlyCharges, CLTV <br> All: M2 Mean f1: <br> 0.5232 <br> All: M2 STD f1: <br> 0.0168",
          "<br> Best: M2 f1: <br> 0.5327 <br> Best: M2 Included Features: <br> TenureMonths, MonthlyCharges <br> All: M2 Mean f1: <br> 0.4537 <br> All: M2 STD f1: <br> 0.0571",
          "<br> Best: M2 f1: <br> 0.5179 <br> Best: M2 Included Features: <br> TenureMonths <br> All: M2 Mean f1: <br> 0.4349 <br> All: M2 STD f1: <br> 0.0831"
         ],
         "mode": "lines+markers",
         "name": "Best: M2 f1",
         "type": "scatter",
         "x": [
          1,
          2,
          3,
          4,
          5,
          6,
          7,
          8,
          9,
          10,
          11,
          12,
          13,
          14,
          15,
          16,
          17,
          18,
          19,
          20,
          21,
          22
         ],
         "xaxis": "x",
         "y": [
          0.6105263157894738,
          0.640506329113924,
          0.6346396965865992,
          0.6371681415929202,
          0.6385696040868455,
          0.641025641025641,
          0.6556962025316455,
          0.6439393939393939,
          0.6372795969773299,
          0.6433041301627033,
          0.642409033877039,
          0.6360248447204968,
          0.644361833952912,
          0.6369119420989143,
          0.6362545018007202,
          0.6360424028268552,
          0.6279620853080569,
          0.6065573770491802,
          0.5744934445768772,
          0.5443786982248522,
          0.532741398446171,
          0.5179437439379244
         ],
         "yaxis": "y2"
        }
       ],
       "layout": {
        "hovermode": "closest",
        "template": {
         "data": {
          "bar": [
           {
            "error_x": {
             "color": "#2a3f5f"
            },
            "error_y": {
             "color": "#2a3f5f"
            },
            "marker": {
             "line": {
              "color": "#E5ECF6",
              "width": 0.5
             },
             "pattern": {
              "fillmode": "overlay",
              "size": 10,
              "solidity": 0.2
             }
            },
            "type": "bar"
           }
          ],
          "barpolar": [
           {
            "marker": {
             "line": {
              "color": "#E5ECF6",
              "width": 0.5
             },
             "pattern": {
              "fillmode": "overlay",
              "size": 10,
              "solidity": 0.2
             }
            },
            "type": "barpolar"
           }
          ],
          "carpet": [
           {
            "aaxis": {
             "endlinecolor": "#2a3f5f",
             "gridcolor": "white",
             "linecolor": "white",
             "minorgridcolor": "white",
             "startlinecolor": "#2a3f5f"
            },
            "baxis": {
             "endlinecolor": "#2a3f5f",
             "gridcolor": "white",
             "linecolor": "white",
             "minorgridcolor": "white",
             "startlinecolor": "#2a3f5f"
            },
            "type": "carpet"
           }
          ],
          "choropleth": [
           {
            "colorbar": {
             "outlinewidth": 0,
             "ticks": ""
            },
            "type": "choropleth"
           }
          ],
          "contour": [
           {
            "colorbar": {
             "outlinewidth": 0,
             "ticks": ""
            },
            "colorscale": [
             [
              0,
              "#0d0887"
             ],
             [
              0.1111111111111111,
              "#46039f"
             ],
             [
              0.2222222222222222,
              "#7201a8"
             ],
             [
              0.3333333333333333,
              "#9c179e"
             ],
             [
              0.4444444444444444,
              "#bd3786"
             ],
             [
              0.5555555555555556,
              "#d8576b"
             ],
             [
              0.6666666666666666,
              "#ed7953"
             ],
             [
              0.7777777777777778,
              "#fb9f3a"
             ],
             [
              0.8888888888888888,
              "#fdca26"
             ],
             [
              1,
              "#f0f921"
             ]
            ],
            "type": "contour"
           }
          ],
          "contourcarpet": [
           {
            "colorbar": {
             "outlinewidth": 0,
             "ticks": ""
            },
            "type": "contourcarpet"
           }
          ],
          "heatmap": [
           {
            "colorbar": {
             "outlinewidth": 0,
             "ticks": ""
            },
            "colorscale": [
             [
              0,
              "#0d0887"
             ],
             [
              0.1111111111111111,
              "#46039f"
             ],
             [
              0.2222222222222222,
              "#7201a8"
             ],
             [
              0.3333333333333333,
              "#9c179e"
             ],
             [
              0.4444444444444444,
              "#bd3786"
             ],
             [
              0.5555555555555556,
              "#d8576b"
             ],
             [
              0.6666666666666666,
              "#ed7953"
             ],
             [
              0.7777777777777778,
              "#fb9f3a"
             ],
             [
              0.8888888888888888,
              "#fdca26"
             ],
             [
              1,
              "#f0f921"
             ]
            ],
            "type": "heatmap"
           }
          ],
          "heatmapgl": [
           {
            "colorbar": {
             "outlinewidth": 0,
             "ticks": ""
            },
            "colorscale": [
             [
              0,
              "#0d0887"
             ],
             [
              0.1111111111111111,
              "#46039f"
             ],
             [
              0.2222222222222222,
              "#7201a8"
             ],
             [
              0.3333333333333333,
              "#9c179e"
             ],
             [
              0.4444444444444444,
              "#bd3786"
             ],
             [
              0.5555555555555556,
              "#d8576b"
             ],
             [
              0.6666666666666666,
              "#ed7953"
             ],
             [
              0.7777777777777778,
              "#fb9f3a"
             ],
             [
              0.8888888888888888,
              "#fdca26"
             ],
             [
              1,
              "#f0f921"
             ]
            ],
            "type": "heatmapgl"
           }
          ],
          "histogram": [
           {
            "marker": {
             "pattern": {
              "fillmode": "overlay",
              "size": 10,
              "solidity": 0.2
             }
            },
            "type": "histogram"
           }
          ],
          "histogram2d": [
           {
            "colorbar": {
             "outlinewidth": 0,
             "ticks": ""
            },
            "colorscale": [
             [
              0,
              "#0d0887"
             ],
             [
              0.1111111111111111,
              "#46039f"
             ],
             [
              0.2222222222222222,
              "#7201a8"
             ],
             [
              0.3333333333333333,
              "#9c179e"
             ],
             [
              0.4444444444444444,
              "#bd3786"
             ],
             [
              0.5555555555555556,
              "#d8576b"
             ],
             [
              0.6666666666666666,
              "#ed7953"
             ],
             [
              0.7777777777777778,
              "#fb9f3a"
             ],
             [
              0.8888888888888888,
              "#fdca26"
             ],
             [
              1,
              "#f0f921"
             ]
            ],
            "type": "histogram2d"
           }
          ],
          "histogram2dcontour": [
           {
            "colorbar": {
             "outlinewidth": 0,
             "ticks": ""
            },
            "colorscale": [
             [
              0,
              "#0d0887"
             ],
             [
              0.1111111111111111,
              "#46039f"
             ],
             [
              0.2222222222222222,
              "#7201a8"
             ],
             [
              0.3333333333333333,
              "#9c179e"
             ],
             [
              0.4444444444444444,
              "#bd3786"
             ],
             [
              0.5555555555555556,
              "#d8576b"
             ],
             [
              0.6666666666666666,
              "#ed7953"
             ],
             [
              0.7777777777777778,
              "#fb9f3a"
             ],
             [
              0.8888888888888888,
              "#fdca26"
             ],
             [
              1,
              "#f0f921"
             ]
            ],
            "type": "histogram2dcontour"
           }
          ],
          "mesh3d": [
           {
            "colorbar": {
             "outlinewidth": 0,
             "ticks": ""
            },
            "type": "mesh3d"
           }
          ],
          "parcoords": [
           {
            "line": {
             "colorbar": {
              "outlinewidth": 0,
              "ticks": ""
             }
            },
            "type": "parcoords"
           }
          ],
          "pie": [
           {
            "automargin": true,
            "type": "pie"
           }
          ],
          "scatter": [
           {
            "fillpattern": {
             "fillmode": "overlay",
             "size": 10,
             "solidity": 0.2
            },
            "type": "scatter"
           }
          ],
          "scatter3d": [
           {
            "line": {
             "colorbar": {
              "outlinewidth": 0,
              "ticks": ""
             }
            },
            "marker": {
             "colorbar": {
              "outlinewidth": 0,
              "ticks": ""
             }
            },
            "type": "scatter3d"
           }
          ],
          "scattercarpet": [
           {
            "marker": {
             "colorbar": {
              "outlinewidth": 0,
              "ticks": ""
             }
            },
            "type": "scattercarpet"
           }
          ],
          "scattergeo": [
           {
            "marker": {
             "colorbar": {
              "outlinewidth": 0,
              "ticks": ""
             }
            },
            "type": "scattergeo"
           }
          ],
          "scattergl": [
           {
            "marker": {
             "colorbar": {
              "outlinewidth": 0,
              "ticks": ""
             }
            },
            "type": "scattergl"
           }
          ],
          "scattermapbox": [
           {
            "marker": {
             "colorbar": {
              "outlinewidth": 0,
              "ticks": ""
             }
            },
            "type": "scattermapbox"
           }
          ],
          "scatterpolar": [
           {
            "marker": {
             "colorbar": {
              "outlinewidth": 0,
              "ticks": ""
             }
            },
            "type": "scatterpolar"
           }
          ],
          "scatterpolargl": [
           {
            "marker": {
             "colorbar": {
              "outlinewidth": 0,
              "ticks": ""
             }
            },
            "type": "scatterpolargl"
           }
          ],
          "scatterternary": [
           {
            "marker": {
             "colorbar": {
              "outlinewidth": 0,
              "ticks": ""
             }
            },
            "type": "scatterternary"
           }
          ],
          "surface": [
           {
            "colorbar": {
             "outlinewidth": 0,
             "ticks": ""
            },
            "colorscale": [
             [
              0,
              "#0d0887"
             ],
             [
              0.1111111111111111,
              "#46039f"
             ],
             [
              0.2222222222222222,
              "#7201a8"
             ],
             [
              0.3333333333333333,
              "#9c179e"
             ],
             [
              0.4444444444444444,
              "#bd3786"
             ],
             [
              0.5555555555555556,
              "#d8576b"
             ],
             [
              0.6666666666666666,
              "#ed7953"
             ],
             [
              0.7777777777777778,
              "#fb9f3a"
             ],
             [
              0.8888888888888888,
              "#fdca26"
             ],
             [
              1,
              "#f0f921"
             ]
            ],
            "type": "surface"
           }
          ],
          "table": [
           {
            "cells": {
             "fill": {
              "color": "#EBF0F8"
             },
             "line": {
              "color": "white"
             }
            },
            "header": {
             "fill": {
              "color": "#C8D4E3"
             },
             "line": {
              "color": "white"
             }
            },
            "type": "table"
           }
          ]
         },
         "layout": {
          "annotationdefaults": {
           "arrowcolor": "#2a3f5f",
           "arrowhead": 0,
           "arrowwidth": 1
          },
          "autotypenumbers": "strict",
          "coloraxis": {
           "colorbar": {
            "outlinewidth": 0,
            "ticks": ""
           }
          },
          "colorscale": {
           "diverging": [
            [
             0,
             "#8e0152"
            ],
            [
             0.1,
             "#c51b7d"
            ],
            [
             0.2,
             "#de77ae"
            ],
            [
             0.3,
             "#f1b6da"
            ],
            [
             0.4,
             "#fde0ef"
            ],
            [
             0.5,
             "#f7f7f7"
            ],
            [
             0.6,
             "#e6f5d0"
            ],
            [
             0.7,
             "#b8e186"
            ],
            [
             0.8,
             "#7fbc41"
            ],
            [
             0.9,
             "#4d9221"
            ],
            [
             1,
             "#276419"
            ]
           ],
           "sequential": [
            [
             0,
             "#0d0887"
            ],
            [
             0.1111111111111111,
             "#46039f"
            ],
            [
             0.2222222222222222,
             "#7201a8"
            ],
            [
             0.3333333333333333,
             "#9c179e"
            ],
            [
             0.4444444444444444,
             "#bd3786"
            ],
            [
             0.5555555555555556,
             "#d8576b"
            ],
            [
             0.6666666666666666,
             "#ed7953"
            ],
            [
             0.7777777777777778,
             "#fb9f3a"
            ],
            [
             0.8888888888888888,
             "#fdca26"
            ],
            [
             1,
             "#f0f921"
            ]
           ],
           "sequentialminus": [
            [
             0,
             "#0d0887"
            ],
            [
             0.1111111111111111,
             "#46039f"
            ],
            [
             0.2222222222222222,
             "#7201a8"
            ],
            [
             0.3333333333333333,
             "#9c179e"
            ],
            [
             0.4444444444444444,
             "#bd3786"
            ],
            [
             0.5555555555555556,
             "#d8576b"
            ],
            [
             0.6666666666666666,
             "#ed7953"
            ],
            [
             0.7777777777777778,
             "#fb9f3a"
            ],
            [
             0.8888888888888888,
             "#fdca26"
            ],
            [
             1,
             "#f0f921"
            ]
           ]
          },
          "colorway": [
           "#636efa",
           "#EF553B",
           "#00cc96",
           "#ab63fa",
           "#FFA15A",
           "#19d3f3",
           "#FF6692",
           "#B6E880",
           "#FF97FF",
           "#FECB52"
          ],
          "font": {
           "color": "#2a3f5f"
          },
          "geo": {
           "bgcolor": "white",
           "lakecolor": "white",
           "landcolor": "#E5ECF6",
           "showlakes": true,
           "showland": true,
           "subunitcolor": "white"
          },
          "hoverlabel": {
           "align": "left"
          },
          "hovermode": "closest",
          "mapbox": {
           "style": "light"
          },
          "paper_bgcolor": "white",
          "plot_bgcolor": "#E5ECF6",
          "polar": {
           "angularaxis": {
            "gridcolor": "white",
            "linecolor": "white",
            "ticks": ""
           },
           "bgcolor": "#E5ECF6",
           "radialaxis": {
            "gridcolor": "white",
            "linecolor": "white",
            "ticks": ""
           }
          },
          "scene": {
           "xaxis": {
            "backgroundcolor": "#E5ECF6",
            "gridcolor": "white",
            "gridwidth": 2,
            "linecolor": "white",
            "showbackground": true,
            "ticks": "",
            "zerolinecolor": "white"
           },
           "yaxis": {
            "backgroundcolor": "#E5ECF6",
            "gridcolor": "white",
            "gridwidth": 2,
            "linecolor": "white",
            "showbackground": true,
            "ticks": "",
            "zerolinecolor": "white"
           },
           "zaxis": {
            "backgroundcolor": "#E5ECF6",
            "gridcolor": "white",
            "gridwidth": 2,
            "linecolor": "white",
            "showbackground": true,
            "ticks": "",
            "zerolinecolor": "white"
           }
          },
          "shapedefaults": {
           "line": {
            "color": "#2a3f5f"
           }
          },
          "ternary": {
           "aaxis": {
            "gridcolor": "white",
            "linecolor": "white",
            "ticks": ""
           },
           "baxis": {
            "gridcolor": "white",
            "linecolor": "white",
            "ticks": ""
           },
           "bgcolor": "#E5ECF6",
           "caxis": {
            "gridcolor": "white",
            "linecolor": "white",
            "ticks": ""
           }
          },
          "title": {
           "x": 0.05
          },
          "xaxis": {
           "automargin": true,
           "gridcolor": "white",
           "linecolor": "white",
           "ticks": "",
           "title": {
            "standoff": 15
           },
           "zerolinecolor": "white",
           "zerolinewidth": 2
          },
          "yaxis": {
           "automargin": true,
           "gridcolor": "white",
           "linecolor": "white",
           "ticks": "",
           "title": {
            "standoff": 15
           },
           "zerolinecolor": "white",
           "zerolinewidth": 2
          }
         }
        },
        "title": {
         "text": "Agreeability Coefficients and Model Scores Over Algorithm Iterations"
        },
        "xaxis": {
         "anchor": "y",
         "domain": [
          0,
          0.94
         ],
         "title": {
          "text": "Iteration"
         },
         "type": "category"
        },
        "yaxis": {
         "anchor": "x",
         "domain": [
          0,
          1
         ],
         "title": {
          "text": "Agreeability"
         }
        },
        "yaxis2": {
         "anchor": "x",
         "overlaying": "y",
         "side": "right",
         "title": {
          "text": "Model Scores"
         }
        }
       }
      }
     },
     "metadata": {},
     "output_type": "display_data"
    }
   ],
   "source": [
    "seeker_3.plot_from_results()"
   ]
  },
  {
   "cell_type": "code",
   "execution_count": 125,
   "metadata": {},
   "outputs": [
    {
     "name": "stdout",
     "output_type": "stream",
     "text": [
      "Model 1: Results for No. 1 and No. 2 best predictions: P-value: 0.00000000. Test statistic: 283.08532423.\n",
      "Model 2: Results for No. 1 and No. 2 best predictions: P-value: 0.00000000. Test statistic: 199.30795848.\n",
      "========================================================================================================================\n",
      "Model 1: Results for No. 2 and No. 3 best predictions: P-value: 0.00000000. Test statistic: 277.27457627.\n",
      "Model 2: Results for No. 2 and No. 3 best predictions: P-value: 0.00000000. Test statistic: 197.36585366.\n",
      "========================================================================================================================\n",
      "Model 1: Results for No. 3 and No. 4 best predictions: P-value: 0.00000000. Test statistic: 203.95065789.\n",
      "Model 2: Results for No. 3 and No. 4 best predictions: P-value: 0.00000000. Test statistic: 190.19081272.\n",
      "========================================================================================================================\n",
      "Model 1: Results for No. 4 and No. 5 best predictions: P-value: 0.00000000. Test statistic: 204.72818792.\n",
      "Model 2: Results for No. 4 and No. 5 best predictions: P-value: 0.00000000. Test statistic: 150.08928571.\n",
      "========================================================================================================================\n",
      "Model 1: Results for No. 5 and No. 6 best predictions: P-value: 0.00000000. Test statistic: 274.56333333.\n",
      "Model 2: Results for No. 5 and No. 6 best predictions: P-value: 0.00000000. Test statistic: 160.59191176.\n",
      "========================================================================================================================\n",
      "Model 1: Results for No. 6 and No. 7 best predictions: P-value: 0.00000000. Test statistic: 218.70529801.\n",
      "Model 2: Results for No. 6 and No. 7 best predictions: P-value: 0.00000000. Test statistic: 146.13120567.\n",
      "========================================================================================================================\n",
      "Model 1: Results for No. 7 and No. 8 best predictions: P-value: 0.00000000. Test statistic: 200.33876221.\n",
      "Model 2: Results for No. 7 and No. 8 best predictions: P-value: 0.00000000. Test statistic: 157.53125000.\n",
      "========================================================================================================================\n",
      "Model 1: Results for No. 8 and No. 9 best predictions: P-value: 0.00000000. Test statistic: 283.39672131.\n",
      "Model 2: Results for No. 8 and No. 9 best predictions: P-value: 0.00000000. Test statistic: 202.10526316.\n",
      "========================================================================================================================\n",
      "Model 1: Results for No. 9 and No. 10 best predictions: P-value: 0.00000000. Test statistic: 301.00330033.\n",
      "Model 2: Results for No. 9 and No. 10 best predictions: P-value: 0.00000000. Test statistic: 172.92631579.\n",
      "========================================================================================================================\n",
      "Model 1: Results for No. 10 and No. 11 best predictions: P-value: 0.00000000. Test statistic: 238.02960526.\n",
      "Model 2: Results for No. 10 and No. 11 best predictions: P-value: 0.00000000. Test statistic: 174.32081911.\n",
      "========================================================================================================================\n",
      "Model 1: Results for No. 11 and No. 12 best predictions: P-value: 0.00000000. Test statistic: 285.39413681.\n",
      "Model 2: Results for No. 11 and No. 12 best predictions: P-value: 0.00000000. Test statistic: 159.56794425.\n",
      "========================================================================================================================\n",
      "Model 1: Results for No. 12 and No. 13 best predictions: P-value: 0.00000000. Test statistic: 297.02970297.\n",
      "Model 2: Results for No. 12 and No. 13 best predictions: P-value: 0.00000000. Test statistic: 122.47176080.\n",
      "========================================================================================================================\n",
      "Model 1: Results for No. 13 and No. 14 best predictions: P-value: 0.00000000. Test statistic: 223.12580645.\n",
      "Model 2: Results for No. 13 and No. 14 best predictions: P-value: 0.00000000. Test statistic: 199.72277228.\n",
      "========================================================================================================================\n",
      "Model 1: Results for No. 14 and No. 15 best predictions: P-value: 0.00000000. Test statistic: 205.44200627.\n",
      "Model 2: Results for No. 14 and No. 15 best predictions: P-value: 0.00000000. Test statistic: 174.18770227.\n",
      "========================================================================================================================\n",
      "Model 1: Results for No. 15 and No. 16 best predictions: P-value: 0.00000000. Test statistic: 122.53453453.\n",
      "Model 2: Results for No. 15 and No. 16 best predictions: P-value: 0.00000000. Test statistic: 116.18152866.\n",
      "========================================================================================================================\n",
      "Model 1: Results for No. 16 and No. 17 best predictions: P-value: 0.00000000. Test statistic: 269.03834808.\n",
      "Model 2: Results for No. 16 and No. 17 best predictions: P-value: 0.00000000. Test statistic: 110.86011905.\n",
      "========================================================================================================================\n",
      "Model 1: Results for No. 17 and No. 18 best predictions: P-value: 0.00000000. Test statistic: 102.44637681.\n",
      "Model 2: Results for No. 17 and No. 18 best predictions: P-value: 0.00000000. Test statistic: 105.42296919.\n",
      "========================================================================================================================\n",
      "Model 1: Results for No. 18 and No. 19 best predictions: P-value: 0.00000000. Test statistic: 84.35322196.\n",
      "Model 2: Results for No. 18 and No. 19 best predictions: P-value: 0.00000000. Test statistic: 93.76623377.\n",
      "========================================================================================================================\n",
      "Model 1: Results for No. 19 and No. 20 best predictions: P-value: 0.00000000. Test statistic: 217.34161491.\n",
      "Model 2: Results for No. 19 and No. 20 best predictions: P-value: 0.00000733. Test statistic: 20.10451306.\n",
      "========================================================================================================================\n",
      "Model 1: Results for No. 20 and No. 21 best predictions: P-value: 0.00000000. Test statistic: 481.00207039.\n",
      "Model 2: Results for No. 20 and No. 21 best predictions: P-value: 0.71970802. Test statistic: 0.12877264.\n",
      "========================================================================================================================\n"
     ]
    }
   ],
   "source": [
    "seeker_3.compare_n_best(n=21, test='mcnemar_chisquare')"
   ]
  },
  {
   "cell_type": "code",
   "execution_count": 126,
   "metadata": {},
   "outputs": [],
   "source": [
    "RESULTS_PATH = 'test_results/logit_rfc/logit_rfc.pkl'\n",
    "\n",
    "with open(RESULTS_PATH, 'wb') as f:\n",
    "    pickle.dump(results_df_3, f)"
   ]
  },
  {
   "cell_type": "markdown",
   "metadata": {},
   "source": [
    "### Small Cross-Comparison"
   ]
  },
  {
   "cell_type": "code",
   "execution_count": 130,
   "metadata": {},
   "outputs": [],
   "source": [
    "RESULTS_LOGIT_RFC = 'test_results/logit_rfc/logit_rfc.pkl'\n",
    "RESULTS_LOGIT_MLP = 'test_results/logit_mlp/logit_mlp.pkl'\n",
    "RESULTS_RFC_MLP = 'test_results/rfc_mlp/rfc_mlp.pkl'\n",
    "\n",
    "# Load results\n",
    "with open(RESULTS_LOGIT_RFC, 'rb') as f:\n",
    "    logit_rfc = pickle.load(f)\n",
    "\n",
    "with open(RESULTS_LOGIT_MLP, 'rb') as f:\n",
    "    logit_mlp = pickle.load(f)\n",
    "\n",
    "with open(RESULTS_RFC_MLP, 'rb') as f:\n",
    "    rfc_mlp = pickle.load(f)"
   ]
  },
  {
   "cell_type": "code",
   "execution_count": 159,
   "metadata": {},
   "outputs": [
    {
     "data": {
      "image/png": "[encoded data removed]",
      "text/plain": [
       "<Figure size 1500x800 with 1 Axes>"
      ]
     },
     "metadata": {},
     "output_type": "display_data"
    }
   ],
   "source": [
    "agree_col = 'Best: Agreeability (cohen_kappa)'\n",
    "\n",
    "algorithm_iterations = logit_rfc.index + 1\n",
    "\n",
    "plt.style.use('ggplot')\n",
    "plt.figure(figsize=(15, 8))\n",
    "plt.plot(algorithm_iterations, logit_rfc[agree_col], label='Logit and RFC', linewidth=3)\n",
    "plt.plot(algorithm_iterations, logit_mlp[agree_col], label='Logit and MLP', linewidth=3)\n",
    "plt.plot(algorithm_iterations, rfc_mlp[agree_col], label='RFC and MLP', linewidth=3)\n",
    "plt.title('Best Agreeabilities Between Models')\n",
    "plt.ylabel('Cohen\\'s $\\kappa$')\n",
    "plt.xlabel('$BackEliminator$ Iterations')\n",
    "plt.legend()\n",
    "plt.show()"
   ]
  },
  {
   "cell_type": "code",
   "execution_count": 163,
   "metadata": {},
   "outputs": [
    {
     "data": {
      "image/png": "[encoded data removed]",
      "text/plain": [
       "<Figure size 1500x800 with 1 Axes>"
      ]
     },
     "metadata": {},
     "output_type": "display_data"
    }
   ],
   "source": [
    "mean_agree_col = 'All: Mean Agreeability (cohen_kappa)'\n",
    "std_agree_col = 'All: Agreeability St. Dev.'\n",
    "\n",
    "algorithm_iterations = logit_rfc.index + 1\n",
    "\n",
    "plt.style.use('ggplot')\n",
    "plt.figure(figsize=(15, 8))\n",
    "plt.plot(algorithm_iterations, logit_rfc[mean_agree_col], label='Logit and RFC', linewidth=3)\n",
    "plt.plot(algorithm_iterations, logit_mlp[mean_agree_col], label='Logit and MLP', linewidth=3)\n",
    "plt.plot(algorithm_iterations, rfc_mlp[mean_agree_col], label='RFC and MLP', linewidth=3)\n",
    "\n",
    "plt.fill_between(algorithm_iterations, logit_rfc[mean_agree_col] - logit_rfc[std_agree_col], logit_rfc[mean_agree_col] + logit_rfc[std_agree_col], alpha=0.2)\n",
    "plt.fill_between(algorithm_iterations, logit_mlp[mean_agree_col] - logit_mlp[std_agree_col], logit_mlp[mean_agree_col] + logit_mlp[std_agree_col], alpha=0.2)\n",
    "plt.fill_between(algorithm_iterations, rfc_mlp[mean_agree_col] - rfc_mlp[std_agree_col], rfc_mlp[mean_agree_col] + rfc_mlp[std_agree_col], alpha=0.2)\n",
    "\n",
    "plt.title('Mean Agreeabilities Between Models with Confidence Intervals')\n",
    "plt.ylabel('Cohen\\'s $\\kappa$')\n",
    "plt.xlabel('$BackEliminator$ Iterations')\n",
    "plt.legend()\n",
    "plt.show()\n"
   ]
  },
  {
   "cell_type": "markdown",
   "metadata": {},
   "source": [
    "### Working Code for 3D Plot\n",
    "\n",
    "```python\n",
    "\n",
    "# Create a 3D scatter plot\n",
    "fig = go.Figure(data=[\n",
    "    go.Scatter3d(\n",
    "        x=df.index + 1,\n",
    "        y=df.iloc[:, 4],\n",
    "        z=df.iloc[:, 1], \n",
    "        mode='lines+markers',\n",
    "        name=f'{df.columns[1]}',\n",
    "        text=df['Summary_M1'],\n",
    "        hoverinfo='text'\n",
    "    ),\n",
    "    go.Scatter3d(\n",
    "        x=df.index + 1,\n",
    "        y=df.iloc[:, 4],\n",
    "        z=df.iloc[:, 3], \n",
    "        mode='lines+markers',\n",
    "        name=f'{df.columns[3]}',\n",
    "        text=df['Summary_M2'],\n",
    "        hoverinfo='text'\n",
    "    )\n",
    "])\n",
    "\n",
    "# Update layout\n",
    "fig.update_layout(\n",
    "    title='Agreeability Coefficients and Model Scores Over Algorithm Iterations',\n",
    "    scene=dict(\n",
    "        xaxis_title='Iteration',\n",
    "        yaxis_title='Agreeability',\n",
    "        zaxis_title='Model Scores'\n",
    "    ),\n",
    "    hovermode='closest'\n",
    ")\n",
    "\n",
    "# Show the plot\n",
    "fig.show()\n",
    "\n",
    "```"
   ]
  },
  {
   "cell_type": "markdown",
   "metadata": {},
   "source": [
    "### Dependencies"
   ]
  },
  {
   "cell_type": "code",
   "execution_count": 52,
   "metadata": {},
   "outputs": [],
   "source": [
    "import numpy as np\n",
    "import pandas as pd\n",
    "import statsmodels\n",
    "import sklearn\n",
    "import scipy\n",
    "import plotly\n",
    "import matplotlib\n",
    "import seaborn as sns\n",
    "import tensorflow as tf\n",
    "import openpyxl\n",
    "import imblearn\n",
    "import nbformat"
   ]
  },
  {
   "cell_type": "code",
   "execution_count": 53,
   "metadata": {},
   "outputs": [
    {
     "name": "stdout",
     "output_type": "stream",
     "text": [
      "pandas: 1.5.3\n",
      "numpy: 1.24.4\n",
      "statsmodels: 0.13.5\n",
      "sklearn: 1.1.3\n",
      "scipy: 1.11.3\n",
      "plotly: 5.18.0\n",
      "matplotlib: 3.6.0\n",
      "seaborn: 0.12.2\n",
      "tensorflow: 2.14.0\n",
      "openpyxl: 3.1.2\n",
      "imblearn: 0.11.0\n",
      "nbformat: 4.2.0\n"
     ]
    }
   ],
   "source": [
    "print(f'pandas: {pd.__version__}')\n",
    "print(f'numpy: {np.__version__}')\n",
    "print(f'statsmodels: {statsmodels.__version__}')\n",
    "print(f'sklearn: {sklearn.__version__}')\n",
    "print(f'scipy: {scipy.__version__}')\n",
    "print(f'plotly: {plotly.__version__}')\n",
    "print(f'matplotlib: {matplotlib.__version__}')\n",
    "print(f'seaborn: {sns.__version__}')\n",
    "print(f'tensorflow: {tf.__version__}')\n",
    "print(f'openpyxl: {openpyxl.__version__}')\n",
    "print(f'imblearn: {imblearn.__version__}')\n",
    "print(f'nbformat: {nbformat.__version__}')"
   ]
  }
 ],
 "metadata": {
  "kernelspec": {
   "display_name": "DEDA",
   "language": "python",
   "name": "python3"
  },
  "language_info": {
   "codemirror_mode": {
    "name": "ipython",
    "version": 3
   },
   "file_extension": ".py",
   "mimetype": "text/x-python",
   "name": "python",
   "nbconvert_exporter": "python",
   "pygments_lexer": "ipython3",
   "version": "3.9.17"
  }
 },
 "nbformat": 4,
 "nbformat_minor": 2
}
