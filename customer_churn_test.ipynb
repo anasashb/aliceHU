{
 "cells": [
  {
   "cell_type": "markdown",
   "metadata": {},
   "source": [
    "## **A**utomated **L**earning for **I**nsightful **C**omparison and **E**valuation - (ALICE)"
   ]
  },
  {
   "cell_type": "markdown",
   "metadata": {},
   "source": [
    "This is a demo notebook where I demonstrate the main functionalities of the proposed python framework.\n",
    "\n",
    "For demonstrational purposes, I will be using a simple and small dataset called California Housing, which includes 8 predictors and 1 target (`MedHouseVal`) - which is a house value. This amount of predictors is small for us but a small dataset helps to run the python framework in a short amount of time, so it is very suitable for demonstration purposes.\n",
    "\n",
    "Because all of the variables in the dataset are continuous, I simulate a binary categorical column from MedHouseVal which just measures if house value is above average. \n",
    "\n",
    "I also generate a fake categorical variable just to demonstrate the framework's functionality to treat $n$ amount of columns obtained from dummy encoding of a categorical variable as one variable in feature selection process.\n",
    "\n",
    "Further details are given in comments and markdown notes throughout the notebook."
   ]
  },
  {
   "cell_type": "code",
   "execution_count": 90,
   "metadata": {},
   "outputs": [],
   "source": [
    "# Import numpy for mathematical operations\n",
    "import numpy as np\n",
    "# Import pandas for handling data tables\n",
    "import pandas as pd\n",
    "pd.set_option('display.max_columns', None)\n",
    "pd.set_option('display.max_rows', None)\n",
    "# Import stats from scipy - the key statistical package (an extension of Numpy) for python\n",
    "from scipy import stats\n",
    "\n",
    "# import matplotlib\n",
    "import matplotlib.pyplot as plt\n",
    "plt.style.use('seaborn-v0_8')\n",
    "\n",
    "# This just saves the directory\n",
    "import os\n",
    "cur_dir = os.getcwd()\n",
    "import pickle\n",
    "\n",
    "from imblearn.over_sampling import SMOTE\n",
    "from sklearn.model_selection import train_test_split\n",
    "\n",
    "\n",
    "from sklearn.compose import ColumnTransformer\n",
    "from sklearn.compose import make_column_transformer\n",
    "from sklearn.preprocessing import StandardScaler\n",
    "from sklearn.pipeline import Pipeline\n",
    "\n",
    "import tensorflow as tf\n",
    "from tensorflow.keras.models import Sequential\n",
    "from tensorflow.keras.layers import Dense\n",
    "\n",
    "import keras_tuner\n"
   ]
  },
  {
   "cell_type": "markdown",
   "metadata": {},
   "source": [
    "### Import My Framework"
   ]
  },
  {
   "cell_type": "code",
   "execution_count": 2,
   "metadata": {},
   "outputs": [],
   "source": [
    "# Can just import entire module\n",
    "import alice"
   ]
  },
  {
   "cell_type": "markdown",
   "metadata": {},
   "source": [
    "**Individual Functions:**"
   ]
  },
  {
   "cell_type": "code",
   "execution_count": 3,
   "metadata": {},
   "outputs": [],
   "source": [
    "# Or import individual functions\n",
    "\n",
    "# Import regression metrics\n",
    "from alice.metrics.regress import mse, rmse, mae\n",
    "# Import classification metrics\n",
    "from alice.metrics.classify import accuracy, precision, recall, f1\n",
    "\n",
    "# Import regression agreeability metric\n",
    "from alice.agreeability.regress import pearson\n",
    "# Import classification agreeability metric\n",
    "from alice.agreeability.classify import cohen_kappa\n",
    "\n",
    "# Import regression tests\n",
    "from alice.testing.regress import t_test\n",
    "# Import classification tests\n",
    "from alice.testing.classify import mcnemar_binomial, mcnemar_chisquare"
   ]
  },
  {
   "cell_type": "markdown",
   "metadata": {},
   "source": [
    "**Algorithm That Combines Backwards Feature Elimination with Inter-Rater Reliability:**"
   ]
  },
  {
   "cell_type": "code",
   "execution_count": 4,
   "metadata": {},
   "outputs": [],
   "source": [
    "# Import our demo search algorithm \n",
    "from alice.search_and_compare.sequential import BackEliminator"
   ]
  },
  {
   "cell_type": "code",
   "execution_count": 5,
   "metadata": {},
   "outputs": [
    {
     "name": "stdout",
     "output_type": "stream",
     "text": [
      "\u001b[0;31mInit signature:\u001b[0m\n",
      "\u001b[0mBackEliminator\u001b[0m\u001b[0;34m(\u001b[0m\u001b[0;34m\u001b[0m\n",
      "\u001b[0;34m\u001b[0m    \u001b[0mX\u001b[0m\u001b[0;34m=\u001b[0m\u001b[0;32mNone\u001b[0m\u001b[0;34m,\u001b[0m\u001b[0;34m\u001b[0m\n",
      "\u001b[0;34m\u001b[0m    \u001b[0my\u001b[0m\u001b[0;34m=\u001b[0m\u001b[0;32mNone\u001b[0m\u001b[0;34m,\u001b[0m\u001b[0;34m\u001b[0m\n",
      "\u001b[0;34m\u001b[0m    \u001b[0mvalidation_data\u001b[0m\u001b[0;34m=\u001b[0m\u001b[0;32mNone\u001b[0m\u001b[0;34m,\u001b[0m\u001b[0;34m\u001b[0m\n",
      "\u001b[0;34m\u001b[0m    \u001b[0mtask_type\u001b[0m\u001b[0;34m=\u001b[0m\u001b[0;32mNone\u001b[0m\u001b[0;34m,\u001b[0m\u001b[0;34m\u001b[0m\n",
      "\u001b[0;34m\u001b[0m    \u001b[0mcriterion\u001b[0m\u001b[0;34m=\u001b[0m\u001b[0;32mNone\u001b[0m\u001b[0;34m,\u001b[0m\u001b[0;34m\u001b[0m\n",
      "\u001b[0;34m\u001b[0m    \u001b[0magreeability\u001b[0m\u001b[0;34m=\u001b[0m\u001b[0;32mNone\u001b[0m\u001b[0;34m,\u001b[0m\u001b[0;34m\u001b[0m\n",
      "\u001b[0;34m\u001b[0m    \u001b[0mdummy_list\u001b[0m\u001b[0;34m=\u001b[0m\u001b[0;32mNone\u001b[0m\u001b[0;34m,\u001b[0m\u001b[0;34m\u001b[0m\n",
      "\u001b[0;34m\u001b[0m    \u001b[0mfeatures_to_fix\u001b[0m\u001b[0;34m=\u001b[0m\u001b[0;32mNone\u001b[0m\u001b[0;34m,\u001b[0m\u001b[0;34m\u001b[0m\n",
      "\u001b[0;34m\u001b[0m\u001b[0;34m)\u001b[0m\u001b[0;34m\u001b[0m\u001b[0;34m\u001b[0m\u001b[0m\n",
      "\u001b[0;31mDocstring:\u001b[0m     \n",
      "The class is built for conducting backwards feature elimination in combination with model agreeability. A more detailed documentation will follow.\n",
      "\n",
      "Args:\n",
      "    X (pd.DataFrame): A pandas dataframe containing predictors.\n",
      "    y (pd.DataFrame): A pandas dataframe containing target.\n",
      "    validation_data (tuple): A tuple of validation data (X_val, y_val).\n",
      "    task_type (str): String for task type. Available options - 'classification' or 'regression'.\n",
      "    criterion (str): String for intra-model evaluation criterion. Available options: 'mse', 'rmse', 'mae', 'accuracy', 'precision', 'recall', 'f1'.\n",
      "    agreeability (str): String for inter-model comparison. Available options: 'pearson', 'cohen_kappa'\n",
      "    dummy_list (list): List of lists containing column names (str) of dummy features generated from a categorical variable. (Optional).\n",
      "    features_to_fix (list): List containing column names (str) of features that will be excluded from feature elimination and thus always included in modeling. (Optional)\n",
      "\n",
      "Regression Example:\n",
      "    seeker = Backeliminator(\n",
      "        X=X_train,\n",
      "        y=y_train,\n",
      "        validation_data=(X_val, y_val),\n",
      "        task_type='regression',\n",
      "        criterion='rmse',\n",
      "        agreeability='pearson',\n",
      "        dummy_list=[\n",
      "            ['dummy_1_from_variable_1', 'dummy_2_from_variable_1'],\n",
      "            ['dummy_1_from_variable_2', 'dummy_2_from_variable_2', 'dummy_3_from_variable_2']\n",
      "        ],\n",
      "        features_to_fix=[\n",
      "            'variable_3',\n",
      "            'variable_4'\n",
      "        ]\n",
      "    )\n",
      "\n",
      "Classification Example:\n",
      "    seeker = Backeliminator(\n",
      "        X=X_train,\n",
      "        y=y_train,\n",
      "        validation_data=(X_val, y_val),\n",
      "        task_type='classification',\n",
      "        criterion='f1',\n",
      "        agreeability='cohen_kappa',\n",
      "        dummy_list=[\n",
      "            ['dummy_1_from_variable_1', 'dummy_2_from_variable_1'],\n",
      "            ['dummy_1_from_variable_2', 'dummy_2_from_variable_2', 'dummy_3_from_variable_2']\n",
      "        ],\n",
      "        features_to_fix=[\n",
      "            'variable_3',\n",
      "            'variable_4'\n",
      "        ]\n",
      "    )    \n",
      "\u001b[0;31mFile:\u001b[0m           ~/Dokumente/alice/alice/search_and_compare/sequential.py\n",
      "\u001b[0;31mType:\u001b[0m           type\n",
      "\u001b[0;31mSubclasses:\u001b[0m     "
     ]
    }
   ],
   "source": [
    "# We can look at my documentation for the BackEliminator\n",
    "BackEliminator?"
   ]
  },
  {
   "cell_type": "markdown",
   "metadata": {},
   "source": [
    "### Import the Data"
   ]
  },
  {
   "cell_type": "code",
   "execution_count": 77,
   "metadata": {},
   "outputs": [],
   "source": [
    "## Set up paths (to either save or import the datasets)\n",
    "raw_train_path = 'clean_data/class_telco/raw_train.pkl'\n",
    "upsampled_train_path = 'clean_data/class_telco/upsampled_train.pkl'\n",
    "test_path = 'clean_data/class_telco/test.pkl'\n"
   ]
  },
  {
   "cell_type": "markdown",
   "metadata": {},
   "source": [
    "### Load Upsampled Datasets"
   ]
  },
  {
   "cell_type": "code",
   "execution_count": 78,
   "metadata": {},
   "outputs": [],
   "source": [
    "# Load upsampled train set\n",
    "with open(upsampled_train_path, 'rb') as f:\n",
    "    train = pickle.load(f)\n",
    "\n",
    "# Load test set (unchanged)\n",
    "with open(test_path, 'rb') as f:\n",
    "    test = pickle.load(f)"
   ]
  },
  {
   "cell_type": "code",
   "execution_count": 83,
   "metadata": {},
   "outputs": [],
   "source": [
    "# obtain a list of columns we need to fix\n",
    "dummies_togroup = [feature for feature in train.columns if train[feature].dtype == 'uint8']"
   ]
  },
  {
   "cell_type": "code",
   "execution_count": 84,
   "metadata": {},
   "outputs": [
    {
     "name": "stdout",
     "output_type": "stream",
     "text": [
      "MultipleLines_No_phone_service\n",
      "MultipleLines_Yes\n",
      "InternetService_Fiber_optic\n",
      "InternetService_No\n",
      "OnlineSecurity_No_internet_service\n",
      "OnlineSecurity_Yes\n",
      "OnlineBackup_No_internet_service\n",
      "OnlineBackup_Yes\n",
      "DeviceProtection_No_internet_service\n",
      "DeviceProtection_Yes\n",
      "TechSupport_No_internet_service\n",
      "TechSupport_Yes\n",
      "StreamingTV_No_internet_service\n",
      "StreamingTV_Yes\n",
      "StreamingMovies_No_internet_service\n",
      "StreamingMovies_Yes\n",
      "Contract_One_year\n",
      "Contract_Two_year\n",
      "PaymentMethod_Credit_card_(automatic)\n",
      "PaymentMethod_Electronic_check\n",
      "PaymentMethod_Mailed_check\n"
     ]
    }
   ],
   "source": [
    "for item in dummies_togroup:\n",
    "    print(item)"
   ]
  },
  {
   "cell_type": "code",
   "execution_count": 85,
   "metadata": {},
   "outputs": [
    {
     "data": {
      "text/plain": [
       "[['MultipleLines_No_phone_service', 'MultipleLines_Yes'],\n",
       " ['InternetService_Fiber_optic', 'InternetService_No'],\n",
       " ['OnlineSecurity_No_internet_service', 'OnlineSecurity_Yes'],\n",
       " ['OnlineBackup_No_internet_service', 'OnlineBackup_Yes'],\n",
       " ['DeviceProtection_No_internet_service', 'DeviceProtection_Yes'],\n",
       " ['TechSupport_No_internet_service', 'TechSupport_Yes'],\n",
       " ['StreamingTV_No_internet_service', 'StreamingTV_Yes'],\n",
       " ['StreamingMovies_No_internet_service', 'StreamingMovies_Yes'],\n",
       " ['Contract_One_year', 'Contract_Two_year'],\n",
       " ['PaymentMethod_Credit_card_(automatic)',\n",
       "  'PaymentMethod_Electronic_check',\n",
       "  'PaymentMethod_Mailed_check']]"
      ]
     },
     "execution_count": 85,
     "metadata": {},
     "output_type": "execute_result"
    }
   ],
   "source": [
    "# Group the dummies in a list to input to the framework\n",
    "dummy_list = [\n",
    "    ['MultipleLines_No_phone_service', 'MultipleLines_Yes'],\n",
    "    ['InternetService_Fiber_optic', 'InternetService_No'],\n",
    "    ['OnlineSecurity_No_internet_service', 'OnlineSecurity_Yes'],\n",
    "    ['OnlineBackup_No_internet_service', 'OnlineBackup_Yes'],\n",
    "    ['DeviceProtection_No_internet_service', 'DeviceProtection_Yes'],\n",
    "    ['TechSupport_No_internet_service', 'TechSupport_Yes'],\n",
    "    ['StreamingTV_No_internet_service', 'StreamingTV_Yes'],\n",
    "    ['StreamingMovies_No_internet_service', 'StreamingMovies_Yes'],\n",
    "    ['Contract_One_year', 'Contract_Two_year'],\n",
    "    ['PaymentMethod_Credit_card_(automatic)', 'PaymentMethod_Electronic_check', 'PaymentMethod_Mailed_check']\n",
    "]\n",
    "dummy_list"
   ]
  },
  {
   "cell_type": "code",
   "execution_count": 86,
   "metadata": {},
   "outputs": [
    {
     "name": "stdout",
     "output_type": "stream",
     "text": [
      "Everything went well.\n"
     ]
    }
   ],
   "source": [
    "# Get X_train and X_test\n",
    "\n",
    "# Drop target from predictors in the train set\n",
    "X_train = train.drop('ChurnValue', axis=1)\n",
    "\n",
    "# Drop target from predictors in the validation set\n",
    "X_val = test.drop('ChurnValue', axis=1)\n",
    "\n",
    "# Get y_train and y_test\n",
    "y_train = train['ChurnValue']\n",
    "y_val = test['ChurnValue']\n",
    "\n",
    "if len(X_train) == len(y_train) and len(X_val) == len(y_val): \n",
    "    print('Everything went well.')"
   ]
  },
  {
   "cell_type": "code",
   "execution_count": 91,
   "metadata": {},
   "outputs": [],
   "source": [
    "# Get the names of the columns to be scaled\n",
    "float_cols = X_train.select_dtypes(include=['float64']).columns\n",
    "\n",
    "# Create the ColumnTransformer\n",
    "standardizer = make_column_transformer(\n",
    "    (StandardScaler(), float_cols),\n",
    "    remainder='passthrough'\n",
    ")\n",
    "\n",
    "# Apply the transformations\n",
    "X_train_scaled = standardizer.fit_transform(X_train)\n",
    "X_val_scaled = standardizer.transform(X_val)\n",
    "\n",
    "# Get the order of columns after transformation\n",
    "transformed_columns_order = list(float_cols) + [col for col in X_train.columns if col not in float_cols]\n",
    "\n",
    "# Reconstruct the DataFrame with the correct column order\n",
    "X_train_scaled = pd.DataFrame(X_train_scaled, columns=transformed_columns_order)\n",
    "X_val_scaled = pd.DataFrame(X_val_scaled, columns=transformed_columns_order)\n"
   ]
  },
  {
   "cell_type": "markdown",
   "metadata": {},
   "source": [
    "### (OPTIONAL) KERAS TUNING for Neural Networks\n",
    "\n",
    "In this small subsection I do a gridsearch over some hyperparameters for a Neural Network classifier (this is not related to the framework), so skip this section"
   ]
  },
  {
   "cell_type": "code",
   "execution_count": 14,
   "metadata": {},
   "outputs": [
    {
     "name": "stderr",
     "output_type": "stream",
     "text": [
      "2024-01-22 20:53:27.840084: I tensorflow/core/common_runtime/gpu/gpu_device.cc:1886] Created device /job:localhost/replica:0/task:0/device:GPU:0 with 43604 MB memory:  -> device: 0, name: NVIDIA A40, pci bus id: 0000:17:00.0, compute capability: 8.6\n",
      "2024-01-22 20:53:27.848187: I tensorflow/core/common_runtime/gpu/gpu_device.cc:1886] Created device /job:localhost/replica:0/task:0/device:GPU:1 with 43604 MB memory:  -> device: 1, name: NVIDIA A40, pci bus id: 0000:65:00.0, compute capability: 8.6\n"
     ]
    }
   ],
   "source": [
    "## Turn into tensors for tensorflow\n",
    "X_train_tensor = tf.cast(X_train_scaled.values, dtype=tf.float32) ###\n",
    "y_train_tensor = tf.cast(y_train.values, dtype=tf.float32) ###"
   ]
  },
  {
   "cell_type": "code",
   "execution_count": 31,
   "metadata": {},
   "outputs": [
    {
     "name": "stdout",
     "output_type": "stream",
     "text": [
      "\u001b[0;31mInit signature:\u001b[0m\n",
      "\u001b[0mtf\u001b[0m\u001b[0;34m.\u001b[0m\u001b[0mkeras\u001b[0m\u001b[0;34m.\u001b[0m\u001b[0mlayers\u001b[0m\u001b[0;34m.\u001b[0m\u001b[0mDense\u001b[0m\u001b[0;34m(\u001b[0m\u001b[0;34m\u001b[0m\n",
      "\u001b[0;34m\u001b[0m    \u001b[0munits\u001b[0m\u001b[0;34m,\u001b[0m\u001b[0;34m\u001b[0m\n",
      "\u001b[0;34m\u001b[0m    \u001b[0mactivation\u001b[0m\u001b[0;34m=\u001b[0m\u001b[0;32mNone\u001b[0m\u001b[0;34m,\u001b[0m\u001b[0;34m\u001b[0m\n",
      "\u001b[0;34m\u001b[0m    \u001b[0muse_bias\u001b[0m\u001b[0;34m=\u001b[0m\u001b[0;32mTrue\u001b[0m\u001b[0;34m,\u001b[0m\u001b[0;34m\u001b[0m\n",
      "\u001b[0;34m\u001b[0m    \u001b[0mkernel_initializer\u001b[0m\u001b[0;34m=\u001b[0m\u001b[0;34m'glorot_uniform'\u001b[0m\u001b[0;34m,\u001b[0m\u001b[0;34m\u001b[0m\n",
      "\u001b[0;34m\u001b[0m    \u001b[0mbias_initializer\u001b[0m\u001b[0;34m=\u001b[0m\u001b[0;34m'zeros'\u001b[0m\u001b[0;34m,\u001b[0m\u001b[0;34m\u001b[0m\n",
      "\u001b[0;34m\u001b[0m    \u001b[0mkernel_regularizer\u001b[0m\u001b[0;34m=\u001b[0m\u001b[0;32mNone\u001b[0m\u001b[0;34m,\u001b[0m\u001b[0;34m\u001b[0m\n",
      "\u001b[0;34m\u001b[0m    \u001b[0mbias_regularizer\u001b[0m\u001b[0;34m=\u001b[0m\u001b[0;32mNone\u001b[0m\u001b[0;34m,\u001b[0m\u001b[0;34m\u001b[0m\n",
      "\u001b[0;34m\u001b[0m    \u001b[0mactivity_regularizer\u001b[0m\u001b[0;34m=\u001b[0m\u001b[0;32mNone\u001b[0m\u001b[0;34m,\u001b[0m\u001b[0;34m\u001b[0m\n",
      "\u001b[0;34m\u001b[0m    \u001b[0mkernel_constraint\u001b[0m\u001b[0;34m=\u001b[0m\u001b[0;32mNone\u001b[0m\u001b[0;34m,\u001b[0m\u001b[0;34m\u001b[0m\n",
      "\u001b[0;34m\u001b[0m    \u001b[0mbias_constraint\u001b[0m\u001b[0;34m=\u001b[0m\u001b[0;32mNone\u001b[0m\u001b[0;34m,\u001b[0m\u001b[0;34m\u001b[0m\n",
      "\u001b[0;34m\u001b[0m    \u001b[0;34m**\u001b[0m\u001b[0mkwargs\u001b[0m\u001b[0;34m,\u001b[0m\u001b[0;34m\u001b[0m\n",
      "\u001b[0;34m\u001b[0m\u001b[0;34m)\u001b[0m\u001b[0;34m\u001b[0m\u001b[0;34m\u001b[0m\u001b[0m\n",
      "\u001b[0;31mDocstring:\u001b[0m     \n",
      "Just your regular densely-connected NN layer.\n",
      "\n",
      "`Dense` implements the operation:\n",
      "`output = activation(dot(input, kernel) + bias)`\n",
      "where `activation` is the element-wise activation function\n",
      "passed as the `activation` argument, `kernel` is a weights matrix\n",
      "created by the layer, and `bias` is a bias vector created by the layer\n",
      "(only applicable if `use_bias` is `True`). These are all attributes of\n",
      "`Dense`.\n",
      "\n",
      "Note: If the input to the layer has a rank greater than 2, then `Dense`\n",
      "computes the dot product between the `inputs` and the `kernel` along the\n",
      "last axis of the `inputs` and axis 0 of the `kernel` (using `tf.tensordot`).\n",
      "For example, if input has dimensions `(batch_size, d0, d1)`, then we create\n",
      "a `kernel` with shape `(d1, units)`, and the `kernel` operates along axis 2\n",
      "of the `input`, on every sub-tensor of shape `(1, 1, d1)` (there are\n",
      "`batch_size * d0` such sub-tensors).  The output in this case will have\n",
      "shape `(batch_size, d0, units)`.\n",
      "\n",
      "Besides, layer attributes cannot be modified after the layer has been called\n",
      "once (except the `trainable` attribute).\n",
      "When a popular kwarg `input_shape` is passed, then keras will create\n",
      "an input layer to insert before the current layer. This can be treated\n",
      "equivalent to explicitly defining an `InputLayer`.\n",
      "\n",
      "Example:\n",
      "\n",
      ">>> # Create a `Sequential` model and add a Dense layer as the first layer.\n",
      ">>> model = tf.keras.models.Sequential()\n",
      ">>> model.add(tf.keras.Input(shape=(16,)))\n",
      ">>> model.add(tf.keras.layers.Dense(32, activation='relu'))\n",
      ">>> # Now the model will take as input arrays of shape (None, 16)\n",
      ">>> # and output arrays of shape (None, 32).\n",
      ">>> # Note that after the first layer, you don't need to specify\n",
      ">>> # the size of the input anymore:\n",
      ">>> model.add(tf.keras.layers.Dense(32))\n",
      ">>> model.output_shape\n",
      "(None, 32)\n",
      "\n",
      "Args:\n",
      "    units: Positive integer, dimensionality of the output space.\n",
      "    activation: Activation function to use.\n",
      "        If you don't specify anything, no activation is applied\n",
      "        (ie. \"linear\" activation: `a(x) = x`).\n",
      "    use_bias: Boolean, whether the layer uses a bias vector.\n",
      "    kernel_initializer: Initializer for the `kernel` weights matrix.\n",
      "    bias_initializer: Initializer for the bias vector.\n",
      "    kernel_regularizer: Regularizer function applied to\n",
      "        the `kernel` weights matrix.\n",
      "    bias_regularizer: Regularizer function applied to the bias vector.\n",
      "    activity_regularizer: Regularizer function applied to\n",
      "        the output of the layer (its \"activation\").\n",
      "    kernel_constraint: Constraint function applied to\n",
      "        the `kernel` weights matrix.\n",
      "    bias_constraint: Constraint function applied to the bias vector.\n",
      "\n",
      "Input shape:\n",
      "    N-D tensor with shape: `(batch_size, ..., input_dim)`.\n",
      "    The most common situation would be\n",
      "    a 2D input with shape `(batch_size, input_dim)`.\n",
      "\n",
      "Output shape:\n",
      "    N-D tensor with shape: `(batch_size, ..., units)`.\n",
      "    For instance, for a 2D input with shape `(batch_size, input_dim)`,\n",
      "    the output would have shape `(batch_size, units)`.\n",
      "\u001b[0;31mFile:\u001b[0m           ~/.conda/envs/ansb/lib/python3.9/site-packages/keras/src/layers/core/dense.py\n",
      "\u001b[0;31mType:\u001b[0m           type\n",
      "\u001b[0;31mSubclasses:\u001b[0m     "
     ]
    }
   ],
   "source": [
    "tf.keras.layers.Dense?"
   ]
  },
  {
   "cell_type": "code",
   "execution_count": 34,
   "metadata": {},
   "outputs": [],
   "source": [
    "model = tf.keras.Sequential()\n",
    "model.add(\n",
    "    tf.keras.layers.Dense(16, 'relu'),\n",
    ")\n",
    "model.add(tf.keras.layers.Dense(1, 'sigmoid'))\n",
    "model.compile()"
   ]
  },
  {
   "cell_type": "code",
   "execution_count": 55,
   "metadata": {},
   "outputs": [
    {
     "data": {
      "text/plain": [
       "<keras.src.engine.sequential.Sequential at 0x7f5858468430>"
      ]
     },
     "execution_count": 55,
     "metadata": {},
     "output_type": "execute_result"
    }
   ],
   "source": [
    "# The function defines a \"hypermodel\" that can be used for hyperparameter optimization algorithm\n",
    "\n",
    "def build_model(hp):\n",
    "    \n",
    "    # Create keras neural network instance\n",
    "    model = tf.keras.Sequential()\n",
    "    \n",
    "    # Add a feed-forward layer (Dense) with Rectified Linear Unit (RELU) activation function - f(x) = max(0, x)\n",
    "    # Grid search will try out 64, 128, 256 and 512 neurons in this layer\n",
    "    model.add(\n",
    "        tf.keras.layers.Dense(\n",
    "            units=hp.Choice(name='units_layer_1', values=[64, 128, 256, 512]),\n",
    "            activation='relu'\n",
    "        )\n",
    "    )\n",
    "\n",
    "    # Add a feed-forward layer (Dense) with Rectified Linear Unit (RELU) activation function - f(x) = max(0, x)\n",
    "    # Grid search will try out 8, 16, 21 and 64 neurons in this layer\n",
    "    model.add(\n",
    "        tf.keras.layers.Dense(\n",
    "            units=hp.Choice(name='units_layer_2', values=[8, 16, 32, 64]),\n",
    "            activation='relu'\n",
    "        )\n",
    "    )\n",
    "\n",
    "    # Whether to include a dropout layer that deactivates outputs of 20% of the neurons\n",
    "    # Grid search will try the neuron combinations above with dropout and then without\n",
    "    if hp.Boolean('dropout'):\n",
    "        model.add(tf.keras.layers.Dropout(rate=0.2))\n",
    "    \n",
    "    # A layer with a single neuron --- the output layer. Activation used 'sigmoid' --- essentially a logistic function used for classification head\n",
    "    model.add(\n",
    "        tf.keras.layers.Dense(\n",
    "            units=1,\n",
    "            activation='sigmoid'\n",
    "        )\n",
    "    )\n",
    "    \n",
    "    # Define learning rate --- 0.0001, 0.01, 0.001 will be tried out in the gridsearch\n",
    "    learning_rate = hp.Choice(name='lr', values=[1e-4, 1e-2, 1e-3])\n",
    "\n",
    "    # Compile model with\n",
    "    # Optimizer --- Adaptive Moment Estimation with learning rate choice specified above\n",
    "    # Loss function --- Binary Cross-Entropy\n",
    "    # Metrics --- this is a metric (in this case accuracy) that we'll just keep track of during training\n",
    "    model.compile(\n",
    "        optimizer = tf.keras.optimizers.Adam(learning_rate=learning_rate),\n",
    "        loss=tf.keras.losses.BinaryCrossentropy(),\n",
    "        metrics=['accuracy']\n",
    "    )\n",
    "    \n",
    "    # Retunr\n",
    "    return model\n",
    "\n",
    "build_model(keras_tuner.HyperParameters())"
   ]
  },
  {
   "cell_type": "code",
   "execution_count": 56,
   "metadata": {},
   "outputs": [
    {
     "name": "stdout",
     "output_type": "stream",
     "text": [
      "Search space summary\n",
      "Default search space size: 4\n",
      "units_layer_1 (Choice)\n",
      "{'default': 64, 'conditions': [], 'values': [64, 128, 256, 512], 'ordered': True}\n",
      "units_layer_2 (Choice)\n",
      "{'default': 8, 'conditions': [], 'values': [8, 16, 32, 64], 'ordered': True}\n",
      "dropout (Boolean)\n",
      "{'default': False, 'conditions': []}\n",
      "lr (Choice)\n",
      "{'default': 0.0001, 'conditions': [], 'values': [0.0001, 0.01, 0.001], 'ordered': True}\n"
     ]
    }
   ],
   "source": [
    "# Setting up tuner\n",
    "# initialize a tuner with grid search\n",
    "\n",
    "tuner = keras_tuner.GridSearch(\n",
    "    hypermodel=build_model, # specify build_model defined above as a hypermodel\n",
    "    objective = keras_tuner.Objective(name='accuracy', direction='max'), #maximize out-of-sample predictive 'accuracy' --- wanted to use f1 instead but ther was a problem\n",
    "    executions_per_trial=2, # In each search trial, model will be fitted twice\n",
    "    overwrite=True, # Logs results\n",
    "    directory = 'logs', # Logs results\n",
    "    project_name = 'class_telco'# Logs results\n",
    ")\n",
    "\n",
    "# Setting up early stopping\n",
    "# Monitors validation loss, will stop after 5 training epochs if there is no improvement\n",
    "# Restores weights from the best iteration\n",
    "STOP_EARLY = tf.keras.callbacks.EarlyStopping(monitor='val_loss', patience=5, restore_best_weights=True)\n",
    "\n",
    "# Print search space summary\n",
    "tuner.search_space_summary()"
   ]
  },
  {
   "cell_type": "code",
   "execution_count": 57,
   "metadata": {},
   "outputs": [
    {
     "name": "stdout",
     "output_type": "stream",
     "text": [
      "Trial 96 Complete [00h 00m 34s]\n",
      "accuracy: 0.62507563829422\n",
      "\n",
      "Best accuracy So Far: 0.7714760899543762\n",
      "Total elapsed time: 01h 01m 48s\n"
     ]
    }
   ],
   "source": [
    "# Begin the search\n",
    "tuner.search(X_train_tensor, y_train_tensor, epochs=100, validation_split=0.2, callbacks=[STOP_EARLY])"
   ]
  },
  {
   "cell_type": "code",
   "execution_count": 58,
   "metadata": {},
   "outputs": [
    {
     "name": "stdout",
     "output_type": "stream",
     "text": [
      "Results summary\n",
      "Results in logs/class_telco\n",
      "Showing 10 best trials\n",
      "Objective(name=\"accuracy\", direction=\"max\")\n",
      "\n",
      "Trial 0043 summary\n",
      "Hyperparameters:\n",
      "units_layer_1: 128\n",
      "units_layer_2: 64\n",
      "dropout: False\n",
      "lr: 0.01\n",
      "Score: 0.7714760899543762\n",
      "\n",
      "Trial 0072 summary\n",
      "Hyperparameters:\n",
      "units_layer_1: 512\n",
      "units_layer_2: 8\n",
      "dropout: False\n",
      "lr: 0.0001\n",
      "Score: 0.7704174518585205\n",
      "\n",
      "Trial 0019 summary\n",
      "Hyperparameters:\n",
      "units_layer_1: 64\n",
      "units_layer_2: 64\n",
      "dropout: False\n",
      "lr: 0.01\n",
      "Score: 0.7633847594261169\n",
      "\n",
      "Trial 0030 summary\n",
      "Hyperparameters:\n",
      "units_layer_1: 128\n",
      "units_layer_2: 16\n",
      "dropout: False\n",
      "lr: 0.0001\n",
      "Score: 0.7611161470413208\n",
      "\n",
      "Trial 0061 summary\n",
      "Hyperparameters:\n",
      "units_layer_1: 256\n",
      "units_layer_2: 32\n",
      "dropout: False\n",
      "lr: 0.01\n",
      "Score: 0.760511189699173\n",
      "\n",
      "Trial 0024 summary\n",
      "Hyperparameters:\n",
      "units_layer_1: 128\n",
      "units_layer_2: 8\n",
      "dropout: False\n",
      "lr: 0.0001\n",
      "Score: 0.7583938241004944\n",
      "\n",
      "Trial 0000 summary\n",
      "Hyperparameters:\n",
      "units_layer_1: 64\n",
      "units_layer_2: 8\n",
      "dropout: False\n",
      "lr: 0.0001\n",
      "Score: 0.757637619972229\n",
      "\n",
      "Trial 0037 summary\n",
      "Hyperparameters:\n",
      "units_layer_1: 128\n",
      "units_layer_2: 32\n",
      "dropout: False\n",
      "lr: 0.01\n",
      "Score: 0.7566545605659485\n",
      "\n",
      "Trial 0048 summary\n",
      "Hyperparameters:\n",
      "units_layer_1: 256\n",
      "units_layer_2: 8\n",
      "dropout: False\n",
      "lr: 0.0001\n",
      "Score: 0.7565789222717285\n",
      "\n",
      "Trial 0031 summary\n",
      "Hyperparameters:\n",
      "units_layer_1: 128\n",
      "units_layer_2: 16\n",
      "dropout: False\n",
      "lr: 0.01\n",
      "Score: 0.7549909055233002\n"
     ]
    }
   ],
   "source": [
    "# PRINT 10 best RESULTS\n",
    "tuner.results_summary()"
   ]
  },
  {
   "cell_type": "markdown",
   "metadata": {},
   "source": [
    "### Running the algorithms"
   ]
  },
  {
   "cell_type": "markdown",
   "metadata": {},
   "source": [
    "To use with my algorithm, I can based on this results use a Neural Network of the following specifications:\n",
    "\n",
    "- layer 1 units 128\n",
    "- layer 2 units 64\n",
    "- no dropout layer\n",
    "- learning rate of 0.01"
   ]
  },
  {
   "cell_type": "code",
   "execution_count": 93,
   "metadata": {},
   "outputs": [],
   "source": [
    "# Import logistic regression\n",
    "from sklearn.linear_model import LogisticRegression\n",
    "\n",
    "# Import Decision Tree Classifier\n",
    "from sklearn.tree import DecisionTreeClassifier\n",
    "\n",
    "# Import Random Forest Classifier\n",
    "from sklearn.ensemble import RandomForestClassifier"
   ]
  },
  {
   "cell_type": "code",
   "execution_count": 94,
   "metadata": {},
   "outputs": [],
   "source": [
    "# Initialize logistic regressor\n",
    "logit = LogisticRegression(solver='liblinear')\n",
    "\n",
    "# Initialize random forest ensemble of 50 classifiers\n",
    "rfc = RandomForestClassifier(n_estimators=100)"
   ]
  },
  {
   "cell_type": "code",
   "execution_count": 95,
   "metadata": {},
   "outputs": [],
   "source": [
    "# These are helper utilities I coded for my framework to be able \n",
    "# to incorporate neural networks and still maintain the user-friendly interface of Keras\n",
    "from alice.utils.model_training import KerasSequential # This is for defining a neural network model to put into the elimination-agreeability algorithm\n",
    "from alice.utils.model_training import KerasParams # This is for defining training parameters to put into the elimination-agreeability algorithm\n",
    "from alice.utils.model_training import ModelTrainer # This is a wrapper function that is used for training --- I do not use it here in the Notebook because the algorithm calls it inside"
   ]
  },
  {
   "cell_type": "markdown",
   "metadata": {},
   "source": [
    "Initializing a small neural network to save computing time"
   ]
  },
  {
   "cell_type": "code",
   "execution_count": 18,
   "metadata": {},
   "outputs": [],
   "source": [
    "mlp = KerasSequential() # Initialize multi-layer perceptron (classifier neural net) as my KerasSequential class\n",
    "mlp.add(tf.keras.layers.Dense, units=128, activation='linear') # for now I just use 16 units in first layer\n",
    "mlp.add(tf.keras.layers.Dense, units=64, activation='linear') # 8 units in second layer\n",
    "mlp.add(tf.keras.layers.Dense, units=1, activation='sigmoid') # Sigmoid for classification\n",
    "\n",
    "mlp.compile(\n",
    "    optimizer='adam', # adaptive moment estimation as optimizer (default learning rate of 0.001)\n",
    "    loss=tf.keras.losses.BinaryCrossentropy(), # Binary Cross-entropy as loss\n",
    "    metrics=['accuracy'] # Track accuracy\n",
    "    )"
   ]
  },
  {
   "cell_type": "code",
   "execution_count": 19,
   "metadata": {},
   "outputs": [],
   "source": [
    "# Set up Keras parameters to include with our model\n",
    "\n",
    "# early stopping after 10 epochs with no improvement\n",
    "EARLY_STOPPING = [tf.keras.callbacks.EarlyStopping(monitor='val_loss', patience=10, restore_best_weights=True)]\n",
    "\n",
    "\n",
    "# KerasParams is a class I coded that can be predefined and fed to my algorithm as an optional argument when including a neural network in it\n",
    "keras_params = KerasParams(\n",
    "    batch_size=32, # batch size for mini-batch training\n",
    "    epochs=100, # fit a model for 100 epochs (is too much but early stopping ensures models stop earlier)\n",
    "    validation_split=0.2, # further 0.8-0.2 split in the training set --- early stopping will happen based on evaluations on this\n",
    "    callbacks=EARLY_STOPPING, # include early stopping as a training callbakc\n",
    "    verbose=0 # irrelevant\n",
    ")"
   ]
  },
  {
   "cell_type": "code",
   "execution_count": 20,
   "metadata": {},
   "outputs": [],
   "source": [
    "# Initialize my algorithm\n",
    "seeker = BackEliminator(\n",
    "    X=X_train_scaled, # predictor\n",
    "    y=y_train, # target\n",
    "    validation_data=(X_val_scaled, y_val), # validation datasets for evaluation\n",
    "    task_type='classification', # select classification task\n",
    "    criterion='f1', # select f1 score for feature elimination \n",
    "    agreeability='cohen_kappa', # select cohen's kappa as inter rater agreeability\n",
    "    dummy_list=dummy_list # List of dummy variables to group together when evaluating features\n",
    ")"
   ]
  },
  {
   "cell_type": "code",
   "execution_count": 21,
   "metadata": {},
   "outputs": [
    {
     "name": "stderr",
     "output_type": "stream",
     "text": [
      "2024-01-24 16:35:27.541051: I tensorflow/core/common_runtime/gpu/gpu_device.cc:1886] Created device /job:localhost/replica:0/task:0/device:GPU:0 with 43604 MB memory:  -> device: 0, name: NVIDIA A40, pci bus id: 0000:17:00.0, compute capability: 8.6\n",
      "2024-01-24 16:35:27.543881: I tensorflow/core/common_runtime/gpu/gpu_device.cc:1886] Created device /job:localhost/replica:0/task:0/device:GPU:1 with 36575 MB memory:  -> device: 1, name: NVIDIA A40, pci bus id: 0000:65:00.0, compute capability: 8.6\n",
      "2024-01-24 16:35:29.628069: I tensorflow/compiler/xla/service/service.cc:168] XLA service 0x7fb1a89f91c0 initialized for platform CUDA (this does not guarantee that XLA will be used). Devices:\n",
      "2024-01-24 16:35:29.628112: I tensorflow/compiler/xla/service/service.cc:176]   StreamExecutor device (0): NVIDIA A40, Compute Capability 8.6\n",
      "2024-01-24 16:35:29.628118: I tensorflow/compiler/xla/service/service.cc:176]   StreamExecutor device (1): NVIDIA A40, Compute Capability 8.6\n",
      "2024-01-24 16:35:29.635197: I tensorflow/compiler/mlir/tensorflow/utils/dump_mlir_util.cc:269] disabling MLIR crash reproducer, set env var `MLIR_CRASH_REPRODUCER_DIRECTORY` to enable.\n",
      "2024-01-24 16:35:29.658241: I tensorflow/compiler/xla/stream_executor/cuda/cuda_dnn.cc:442] Loaded cuDNN version 8700\n",
      "2024-01-24 16:35:29.808538: I ./tensorflow/compiler/jit/device_compiler.h:186] Compiled cluster using XLA!  This line is logged at most once for the lifetime of the process.\n"
     ]
    },
    {
     "name": "stdout",
     "output_type": "stream",
     "text": [
      "Initial run: fitted both models with full feature set.\n",
      "------------------------------------------------------------------------------------------------------------------------------------------------------\n",
      "Model 1 included: ['Latitude', 'Longitude', 'Gender', 'SeniorCitizen', 'Partner', 'Dependents', 'TenureMonths', 'PhoneService', 'PaperlessBilling', 'MonthlyCharges', 'TotalCharges', 'CLTV', ['MultipleLines_No_phone_service', 'MultipleLines_Yes'], ['InternetService_Fiber_optic', 'InternetService_No'], ['OnlineSecurity_No_internet_service', 'OnlineSecurity_Yes'], ['OnlineBackup_No_internet_service', 'OnlineBackup_Yes'], ['DeviceProtection_No_internet_service', 'DeviceProtection_Yes'], ['TechSupport_No_internet_service', 'TechSupport_Yes'], ['StreamingTV_No_internet_service', 'StreamingTV_Yes'], ['StreamingMovies_No_internet_service', 'StreamingMovies_Yes'], ['Contract_One_year', 'Contract_Two_year'], ['PaymentMethod_Credit_card_(automatic)', 'PaymentMethod_Electronic_check', 'PaymentMethod_Mailed_check']]. F1: 0.6186\n",
      "Model 2 included: ['Latitude', 'Longitude', 'Gender', 'SeniorCitizen', 'Partner', 'Dependents', 'TenureMonths', 'PhoneService', 'PaperlessBilling', 'MonthlyCharges', 'TotalCharges', 'CLTV', ['MultipleLines_No_phone_service', 'MultipleLines_Yes'], ['InternetService_Fiber_optic', 'InternetService_No'], ['OnlineSecurity_No_internet_service', 'OnlineSecurity_Yes'], ['OnlineBackup_No_internet_service', 'OnlineBackup_Yes'], ['DeviceProtection_No_internet_service', 'DeviceProtection_Yes'], ['TechSupport_No_internet_service', 'TechSupport_Yes'], ['StreamingTV_No_internet_service', 'StreamingTV_Yes'], ['StreamingMovies_No_internet_service', 'StreamingMovies_Yes'], ['Contract_One_year', 'Contract_Two_year'], ['PaymentMethod_Credit_card_(automatic)', 'PaymentMethod_Electronic_check', 'PaymentMethod_Mailed_check']]. F1: 0.4234\n",
      "------------------------------------------------------------------------------------------------------------------------------------------------------\n",
      "Agreeability Coefficient (cohen_kappa): 0.0016\n",
      "======================================================================================================================================================\n",
      "Iteration 1:\n",
      "------------------------------------------------------------------------------------------------------------------------------------------------------\n",
      "Results from best models:\n",
      "Best Model 1 included: ['Latitude', 'Longitude', 'Gender', 'SeniorCitizen', 'Partner', 'Dependents', 'TenureMonths', 'PhoneService', 'PaperlessBilling', 'MonthlyCharges', 'TotalCharges', 'CLTV', ['MultipleLines_No_phone_service', 'MultipleLines_Yes'], ['InternetService_Fiber_optic', 'InternetService_No'], ['OnlineSecurity_No_internet_service', 'OnlineSecurity_Yes'], ['DeviceProtection_No_internet_service', 'DeviceProtection_Yes'], ['TechSupport_No_internet_service', 'TechSupport_Yes'], ['StreamingTV_No_internet_service', 'StreamingTV_Yes'], ['StreamingMovies_No_internet_service', 'StreamingMovies_Yes'], ['Contract_One_year', 'Contract_Two_year'], ['PaymentMethod_Credit_card_(automatic)', 'PaymentMethod_Electronic_check', 'PaymentMethod_Mailed_check']]. F1: 0.6286\n",
      "Best Model 2 included: ['Latitude', 'Longitude', 'Gender', 'SeniorCitizen', 'Partner', 'Dependents', 'TenureMonths', 'PhoneService', 'PaperlessBilling', 'MonthlyCharges', 'TotalCharges', ['MultipleLines_No_phone_service', 'MultipleLines_Yes'], ['InternetService_Fiber_optic', 'InternetService_No'], ['OnlineSecurity_No_internet_service', 'OnlineSecurity_Yes'], ['OnlineBackup_No_internet_service', 'OnlineBackup_Yes'], ['DeviceProtection_No_internet_service', 'DeviceProtection_Yes'], ['TechSupport_No_internet_service', 'TechSupport_Yes'], ['StreamingTV_No_internet_service', 'StreamingTV_Yes'], ['StreamingMovies_No_internet_service', 'StreamingMovies_Yes'], ['Contract_One_year', 'Contract_Two_year'], ['PaymentMethod_Credit_card_(automatic)', 'PaymentMethod_Electronic_check', 'PaymentMethod_Mailed_check']]. F1: 0.6290\n",
      "Agreeability Coefficient (cohen_kappa) between best models: 0.7540504875666227\n",
      "------------------------------------------------------------------------------------------------------------------------------------------------------\n",
      "Results from all models:\n",
      "M1 mean score: 0.6114. Standard deviation: 0.0109\n",
      "M2 mean score: 0.4562. Standard deviation: 0.0479\n",
      "Mean agreeability coefficient (cohen_kappa): 0.1012. Standard deviation: 0.1629\n",
      "======================================================================================================================================================\n",
      "Iteration 2:\n",
      "------------------------------------------------------------------------------------------------------------------------------------------------------\n",
      "Results from best models:\n",
      "Best Model 1 included: ['Latitude', 'Gender', 'SeniorCitizen', 'Partner', 'Dependents', 'TenureMonths', 'PhoneService', 'PaperlessBilling', 'MonthlyCharges', 'TotalCharges', 'CLTV', ['MultipleLines_No_phone_service', 'MultipleLines_Yes'], ['InternetService_Fiber_optic', 'InternetService_No'], ['OnlineSecurity_No_internet_service', 'OnlineSecurity_Yes'], ['DeviceProtection_No_internet_service', 'DeviceProtection_Yes'], ['TechSupport_No_internet_service', 'TechSupport_Yes'], ['StreamingTV_No_internet_service', 'StreamingTV_Yes'], ['StreamingMovies_No_internet_service', 'StreamingMovies_Yes'], ['Contract_One_year', 'Contract_Two_year'], ['PaymentMethod_Credit_card_(automatic)', 'PaymentMethod_Electronic_check', 'PaymentMethod_Mailed_check']]. F1: 0.6264\n",
      "Best Model 2 included: ['Latitude', 'Longitude', 'Gender', 'SeniorCitizen', 'Partner', 'Dependents', 'TenureMonths', 'PhoneService', 'PaperlessBilling', 'MonthlyCharges', 'TotalCharges', ['MultipleLines_No_phone_service', 'MultipleLines_Yes'], ['InternetService_Fiber_optic', 'InternetService_No'], ['OnlineSecurity_No_internet_service', 'OnlineSecurity_Yes'], ['OnlineBackup_No_internet_service', 'OnlineBackup_Yes'], ['DeviceProtection_No_internet_service', 'DeviceProtection_Yes'], ['TechSupport_No_internet_service', 'TechSupport_Yes'], ['StreamingMovies_No_internet_service', 'StreamingMovies_Yes'], ['Contract_One_year', 'Contract_Two_year'], ['PaymentMethod_Credit_card_(automatic)', 'PaymentMethod_Electronic_check', 'PaymentMethod_Mailed_check']]. F1: 0.6386\n",
      "Agreeability Coefficient (cohen_kappa) between best models: 0.7393014110571362\n",
      "------------------------------------------------------------------------------------------------------------------------------------------------------\n",
      "Results from all models:\n",
      "M1 mean score: 0.6092. Standard deviation: 0.0103\n",
      "M2 mean score: 0.6018. Standard deviation: 0.0291\n",
      "Mean agreeability coefficient (cohen_kappa): 0.6120. Standard deviation: 0.1018\n",
      "======================================================================================================================================================\n",
      "Iteration 3:\n",
      "------------------------------------------------------------------------------------------------------------------------------------------------------\n",
      "Results from best models:\n",
      "Best Model 1 included: ['Latitude', 'Gender', 'SeniorCitizen', 'Partner', 'TenureMonths', 'PhoneService', 'PaperlessBilling', 'MonthlyCharges', 'TotalCharges', 'CLTV', ['MultipleLines_No_phone_service', 'MultipleLines_Yes'], ['InternetService_Fiber_optic', 'InternetService_No'], ['OnlineSecurity_No_internet_service', 'OnlineSecurity_Yes'], ['DeviceProtection_No_internet_service', 'DeviceProtection_Yes'], ['TechSupport_No_internet_service', 'TechSupport_Yes'], ['StreamingTV_No_internet_service', 'StreamingTV_Yes'], ['StreamingMovies_No_internet_service', 'StreamingMovies_Yes'], ['Contract_One_year', 'Contract_Two_year'], ['PaymentMethod_Credit_card_(automatic)', 'PaymentMethod_Electronic_check', 'PaymentMethod_Mailed_check']]. F1: 0.6208\n",
      "Best Model 2 included: ['Latitude', 'Longitude', 'Gender', 'SeniorCitizen', 'Partner', 'Dependents', 'PhoneService', 'PaperlessBilling', 'MonthlyCharges', 'TotalCharges', ['MultipleLines_No_phone_service', 'MultipleLines_Yes'], ['InternetService_Fiber_optic', 'InternetService_No'], ['OnlineSecurity_No_internet_service', 'OnlineSecurity_Yes'], ['OnlineBackup_No_internet_service', 'OnlineBackup_Yes'], ['DeviceProtection_No_internet_service', 'DeviceProtection_Yes'], ['TechSupport_No_internet_service', 'TechSupport_Yes'], ['StreamingMovies_No_internet_service', 'StreamingMovies_Yes'], ['Contract_One_year', 'Contract_Two_year'], ['PaymentMethod_Credit_card_(automatic)', 'PaymentMethod_Electronic_check', 'PaymentMethod_Mailed_check']]. F1: 0.6385\n",
      "Agreeability Coefficient (cohen_kappa) between best models: 0.7417356714585235\n",
      "------------------------------------------------------------------------------------------------------------------------------------------------------\n",
      "Results from all models:\n",
      "M1 mean score: 0.6114. Standard deviation: 0.0063\n",
      "M2 mean score: 0.6148. Standard deviation: 0.0163\n",
      "Mean agreeability coefficient (cohen_kappa): 0.6498. Standard deviation: 0.0690\n",
      "======================================================================================================================================================\n",
      "Iteration 4:\n",
      "------------------------------------------------------------------------------------------------------------------------------------------------------\n",
      "Results from best models:\n",
      "Best Model 1 included: ['Latitude', 'Gender', 'SeniorCitizen', 'Partner', 'TenureMonths', 'PhoneService', 'PaperlessBilling', 'MonthlyCharges', 'TotalCharges', 'CLTV', ['MultipleLines_No_phone_service', 'MultipleLines_Yes'], ['OnlineSecurity_No_internet_service', 'OnlineSecurity_Yes'], ['DeviceProtection_No_internet_service', 'DeviceProtection_Yes'], ['TechSupport_No_internet_service', 'TechSupport_Yes'], ['StreamingTV_No_internet_service', 'StreamingTV_Yes'], ['StreamingMovies_No_internet_service', 'StreamingMovies_Yes'], ['Contract_One_year', 'Contract_Two_year'], ['PaymentMethod_Credit_card_(automatic)', 'PaymentMethod_Electronic_check', 'PaymentMethod_Mailed_check']]. F1: 0.6316\n",
      "Best Model 2 included: ['Latitude', 'Longitude', 'Gender', 'SeniorCitizen', 'Partner', 'Dependents', 'PhoneService', 'PaperlessBilling', 'MonthlyCharges', 'TotalCharges', ['MultipleLines_No_phone_service', 'MultipleLines_Yes'], ['InternetService_Fiber_optic', 'InternetService_No'], ['OnlineSecurity_No_internet_service', 'OnlineSecurity_Yes'], ['DeviceProtection_No_internet_service', 'DeviceProtection_Yes'], ['TechSupport_No_internet_service', 'TechSupport_Yes'], ['StreamingMovies_No_internet_service', 'StreamingMovies_Yes'], ['Contract_One_year', 'Contract_Two_year'], ['PaymentMethod_Credit_card_(automatic)', 'PaymentMethod_Electronic_check', 'PaymentMethod_Mailed_check']]. F1: 0.6447\n",
      "Agreeability Coefficient (cohen_kappa) between best models: 0.7281553398058251\n",
      "------------------------------------------------------------------------------------------------------------------------------------------------------\n",
      "Results from all models:\n",
      "M1 mean score: 0.6140. Standard deviation: 0.0105\n",
      "M2 mean score: 0.6092. Standard deviation: 0.0267\n",
      "Mean agreeability coefficient (cohen_kappa): 0.6362. Standard deviation: 0.0870\n",
      "======================================================================================================================================================\n",
      "Iteration 5:\n",
      "------------------------------------------------------------------------------------------------------------------------------------------------------\n",
      "Results from best models:\n",
      "Best Model 1 included: ['Latitude', 'Gender', 'SeniorCitizen', 'TenureMonths', 'PhoneService', 'PaperlessBilling', 'MonthlyCharges', 'TotalCharges', 'CLTV', ['MultipleLines_No_phone_service', 'MultipleLines_Yes'], ['OnlineSecurity_No_internet_service', 'OnlineSecurity_Yes'], ['DeviceProtection_No_internet_service', 'DeviceProtection_Yes'], ['TechSupport_No_internet_service', 'TechSupport_Yes'], ['StreamingTV_No_internet_service', 'StreamingTV_Yes'], ['StreamingMovies_No_internet_service', 'StreamingMovies_Yes'], ['Contract_One_year', 'Contract_Two_year'], ['PaymentMethod_Credit_card_(automatic)', 'PaymentMethod_Electronic_check', 'PaymentMethod_Mailed_check']]. F1: 0.6298\n",
      "Best Model 2 included: ['Latitude', 'Longitude', 'Gender', 'Partner', 'Dependents', 'PhoneService', 'PaperlessBilling', 'MonthlyCharges', 'TotalCharges', ['MultipleLines_No_phone_service', 'MultipleLines_Yes'], ['InternetService_Fiber_optic', 'InternetService_No'], ['OnlineSecurity_No_internet_service', 'OnlineSecurity_Yes'], ['DeviceProtection_No_internet_service', 'DeviceProtection_Yes'], ['TechSupport_No_internet_service', 'TechSupport_Yes'], ['StreamingMovies_No_internet_service', 'StreamingMovies_Yes'], ['Contract_One_year', 'Contract_Two_year'], ['PaymentMethod_Credit_card_(automatic)', 'PaymentMethod_Electronic_check', 'PaymentMethod_Mailed_check']]. F1: 0.6420\n",
      "Agreeability Coefficient (cohen_kappa) between best models: 0.7496773856854131\n",
      "------------------------------------------------------------------------------------------------------------------------------------------------------\n",
      "Results from all models:\n",
      "M1 mean score: 0.6103. Standard deviation: 0.0127\n",
      "M2 mean score: 0.6137. Standard deviation: 0.0192\n",
      "Mean agreeability coefficient (cohen_kappa): 0.6428. Standard deviation: 0.0746\n",
      "======================================================================================================================================================\n",
      "Iteration 6:\n",
      "------------------------------------------------------------------------------------------------------------------------------------------------------\n",
      "Results from best models:\n",
      "Best Model 1 included: ['Latitude', 'Gender', 'SeniorCitizen', 'TenureMonths', 'PhoneService', 'PaperlessBilling', 'MonthlyCharges', 'TotalCharges', 'CLTV', ['MultipleLines_No_phone_service', 'MultipleLines_Yes'], ['DeviceProtection_No_internet_service', 'DeviceProtection_Yes'], ['TechSupport_No_internet_service', 'TechSupport_Yes'], ['StreamingTV_No_internet_service', 'StreamingTV_Yes'], ['StreamingMovies_No_internet_service', 'StreamingMovies_Yes'], ['Contract_One_year', 'Contract_Two_year'], ['PaymentMethod_Credit_card_(automatic)', 'PaymentMethod_Electronic_check', 'PaymentMethod_Mailed_check']]. F1: 0.6393\n",
      "Best Model 2 included: ['Longitude', 'Gender', 'Partner', 'Dependents', 'PhoneService', 'PaperlessBilling', 'MonthlyCharges', 'TotalCharges', ['MultipleLines_No_phone_service', 'MultipleLines_Yes'], ['InternetService_Fiber_optic', 'InternetService_No'], ['OnlineSecurity_No_internet_service', 'OnlineSecurity_Yes'], ['DeviceProtection_No_internet_service', 'DeviceProtection_Yes'], ['TechSupport_No_internet_service', 'TechSupport_Yes'], ['StreamingMovies_No_internet_service', 'StreamingMovies_Yes'], ['Contract_One_year', 'Contract_Two_year'], ['PaymentMethod_Credit_card_(automatic)', 'PaymentMethod_Electronic_check', 'PaymentMethod_Mailed_check']]. F1: 0.6355\n",
      "Agreeability Coefficient (cohen_kappa) between best models: 0.7499641165494474\n",
      "------------------------------------------------------------------------------------------------------------------------------------------------------\n",
      "Results from all models:\n",
      "M1 mean score: 0.6145. Standard deviation: 0.0145\n",
      "M2 mean score: 0.6094. Standard deviation: 0.0244\n",
      "Mean agreeability coefficient (cohen_kappa): 0.6351. Standard deviation: 0.0904\n",
      "======================================================================================================================================================\n",
      "Iteration 7:\n",
      "------------------------------------------------------------------------------------------------------------------------------------------------------\n",
      "Results from best models:\n",
      "Best Model 1 included: ['Latitude', 'Gender', 'SeniorCitizen', 'TenureMonths', 'PhoneService', 'PaperlessBilling', 'TotalCharges', 'CLTV', ['MultipleLines_No_phone_service', 'MultipleLines_Yes'], ['DeviceProtection_No_internet_service', 'DeviceProtection_Yes'], ['TechSupport_No_internet_service', 'TechSupport_Yes'], ['StreamingTV_No_internet_service', 'StreamingTV_Yes'], ['StreamingMovies_No_internet_service', 'StreamingMovies_Yes'], ['Contract_One_year', 'Contract_Two_year'], ['PaymentMethod_Credit_card_(automatic)', 'PaymentMethod_Electronic_check', 'PaymentMethod_Mailed_check']]. F1: 0.6418\n",
      "Best Model 2 included: ['Longitude', 'Gender', 'Partner', 'Dependents', 'PhoneService', 'MonthlyCharges', 'TotalCharges', ['MultipleLines_No_phone_service', 'MultipleLines_Yes'], ['InternetService_Fiber_optic', 'InternetService_No'], ['OnlineSecurity_No_internet_service', 'OnlineSecurity_Yes'], ['DeviceProtection_No_internet_service', 'DeviceProtection_Yes'], ['TechSupport_No_internet_service', 'TechSupport_Yes'], ['StreamingMovies_No_internet_service', 'StreamingMovies_Yes'], ['Contract_One_year', 'Contract_Two_year'], ['PaymentMethod_Credit_card_(automatic)', 'PaymentMethod_Electronic_check', 'PaymentMethod_Mailed_check']]. F1: 0.6383\n",
      "Agreeability Coefficient (cohen_kappa) between best models: 0.7053895380968019\n",
      "------------------------------------------------------------------------------------------------------------------------------------------------------\n",
      "Results from all models:\n",
      "M1 mean score: 0.6260. Standard deviation: 0.0144\n",
      "M2 mean score: 0.6109. Standard deviation: 0.0243\n",
      "Mean agreeability coefficient (cohen_kappa): 0.6383. Standard deviation: 0.0862\n",
      "======================================================================================================================================================\n",
      "Iteration 8:\n",
      "------------------------------------------------------------------------------------------------------------------------------------------------------\n",
      "Results from best models:\n",
      "Best Model 1 included: ['Latitude', 'Gender', 'SeniorCitizen', 'TenureMonths', 'PhoneService', 'PaperlessBilling', 'TotalCharges', 'CLTV', ['MultipleLines_No_phone_service', 'MultipleLines_Yes'], ['DeviceProtection_No_internet_service', 'DeviceProtection_Yes'], ['TechSupport_No_internet_service', 'TechSupport_Yes'], ['StreamingTV_No_internet_service', 'StreamingTV_Yes'], ['Contract_One_year', 'Contract_Two_year'], ['PaymentMethod_Credit_card_(automatic)', 'PaymentMethod_Electronic_check', 'PaymentMethod_Mailed_check']]. F1: 0.6351\n",
      "Best Model 2 included: ['Longitude', 'Gender', 'Partner', 'Dependents', 'PhoneService', 'TotalCharges', ['MultipleLines_No_phone_service', 'MultipleLines_Yes'], ['InternetService_Fiber_optic', 'InternetService_No'], ['OnlineSecurity_No_internet_service', 'OnlineSecurity_Yes'], ['DeviceProtection_No_internet_service', 'DeviceProtection_Yes'], ['TechSupport_No_internet_service', 'TechSupport_Yes'], ['StreamingMovies_No_internet_service', 'StreamingMovies_Yes'], ['Contract_One_year', 'Contract_Two_year'], ['PaymentMethod_Credit_card_(automatic)', 'PaymentMethod_Electronic_check', 'PaymentMethod_Mailed_check']]. F1: 0.6346\n",
      "Agreeability Coefficient (cohen_kappa) between best models: 0.7440037468878644\n",
      "------------------------------------------------------------------------------------------------------------------------------------------------------\n",
      "Results from all models:\n",
      "M1 mean score: 0.6222. Standard deviation: 0.0135\n",
      "M2 mean score: 0.6234. Standard deviation: 0.0116\n",
      "Mean agreeability coefficient (cohen_kappa): 0.6994. Standard deviation: 0.0551\n",
      "======================================================================================================================================================\n",
      "Iteration 9:\n",
      "------------------------------------------------------------------------------------------------------------------------------------------------------\n",
      "Results from best models:\n",
      "Best Model 1 included: ['Latitude', 'Gender', 'SeniorCitizen', 'TenureMonths', 'PhoneService', 'PaperlessBilling', 'CLTV', ['MultipleLines_No_phone_service', 'MultipleLines_Yes'], ['DeviceProtection_No_internet_service', 'DeviceProtection_Yes'], ['TechSupport_No_internet_service', 'TechSupport_Yes'], ['StreamingTV_No_internet_service', 'StreamingTV_Yes'], ['Contract_One_year', 'Contract_Two_year'], ['PaymentMethod_Credit_card_(automatic)', 'PaymentMethod_Electronic_check', 'PaymentMethod_Mailed_check']]. F1: 0.6460\n",
      "Best Model 2 included: ['Gender', 'Partner', 'Dependents', 'PhoneService', 'TotalCharges', ['MultipleLines_No_phone_service', 'MultipleLines_Yes'], ['InternetService_Fiber_optic', 'InternetService_No'], ['OnlineSecurity_No_internet_service', 'OnlineSecurity_Yes'], ['DeviceProtection_No_internet_service', 'DeviceProtection_Yes'], ['TechSupport_No_internet_service', 'TechSupport_Yes'], ['StreamingMovies_No_internet_service', 'StreamingMovies_Yes'], ['Contract_One_year', 'Contract_Two_year'], ['PaymentMethod_Credit_card_(automatic)', 'PaymentMethod_Electronic_check', 'PaymentMethod_Mailed_check']]. F1: 0.6347\n",
      "Agreeability Coefficient (cohen_kappa) between best models: 0.7499047764150226\n",
      "------------------------------------------------------------------------------------------------------------------------------------------------------\n",
      "Results from all models:\n",
      "M1 mean score: 0.6181. Standard deviation: 0.0145\n",
      "M2 mean score: 0.6205. Standard deviation: 0.0116\n",
      "Mean agreeability coefficient (cohen_kappa): 0.7026. Standard deviation: 0.0380\n",
      "======================================================================================================================================================\n",
      "Iteration 10:\n",
      "------------------------------------------------------------------------------------------------------------------------------------------------------\n",
      "Results from best models:\n",
      "Best Model 1 included: ['Latitude', 'Gender', 'SeniorCitizen', 'TenureMonths', 'PhoneService', 'CLTV', ['MultipleLines_No_phone_service', 'MultipleLines_Yes'], ['DeviceProtection_No_internet_service', 'DeviceProtection_Yes'], ['TechSupport_No_internet_service', 'TechSupport_Yes'], ['StreamingTV_No_internet_service', 'StreamingTV_Yes'], ['Contract_One_year', 'Contract_Two_year'], ['PaymentMethod_Credit_card_(automatic)', 'PaymentMethod_Electronic_check', 'PaymentMethod_Mailed_check']]. F1: 0.6486\n",
      "Best Model 2 included: ['Gender', 'Partner', 'Dependents', 'PhoneService', 'TotalCharges', ['InternetService_Fiber_optic', 'InternetService_No'], ['OnlineSecurity_No_internet_service', 'OnlineSecurity_Yes'], ['DeviceProtection_No_internet_service', 'DeviceProtection_Yes'], ['TechSupport_No_internet_service', 'TechSupport_Yes'], ['StreamingMovies_No_internet_service', 'StreamingMovies_Yes'], ['Contract_One_year', 'Contract_Two_year'], ['PaymentMethod_Credit_card_(automatic)', 'PaymentMethod_Electronic_check', 'PaymentMethod_Mailed_check']]. F1: 0.6317\n",
      "Agreeability Coefficient (cohen_kappa) between best models: 0.7399398409493593\n",
      "------------------------------------------------------------------------------------------------------------------------------------------------------\n",
      "Results from all models:\n",
      "M1 mean score: 0.6252. Standard deviation: 0.0115\n",
      "M2 mean score: 0.6175. Standard deviation: 0.0114\n",
      "Mean agreeability coefficient (cohen_kappa): 0.6959. Standard deviation: 0.0486\n",
      "======================================================================================================================================================\n",
      "Iteration 11:\n",
      "------------------------------------------------------------------------------------------------------------------------------------------------------\n",
      "Results from best models:\n",
      "Best Model 1 included: ['Latitude', 'Gender', 'SeniorCitizen', 'PhoneService', 'CLTV', ['MultipleLines_No_phone_service', 'MultipleLines_Yes'], ['DeviceProtection_No_internet_service', 'DeviceProtection_Yes'], ['TechSupport_No_internet_service', 'TechSupport_Yes'], ['StreamingTV_No_internet_service', 'StreamingTV_Yes'], ['Contract_One_year', 'Contract_Two_year'], ['PaymentMethod_Credit_card_(automatic)', 'PaymentMethod_Electronic_check', 'PaymentMethod_Mailed_check']]. F1: 0.6534\n",
      "Best Model 2 included: ['Gender', 'Dependents', 'PhoneService', 'TotalCharges', ['InternetService_Fiber_optic', 'InternetService_No'], ['OnlineSecurity_No_internet_service', 'OnlineSecurity_Yes'], ['DeviceProtection_No_internet_service', 'DeviceProtection_Yes'], ['TechSupport_No_internet_service', 'TechSupport_Yes'], ['StreamingMovies_No_internet_service', 'StreamingMovies_Yes'], ['Contract_One_year', 'Contract_Two_year'], ['PaymentMethod_Credit_card_(automatic)', 'PaymentMethod_Electronic_check', 'PaymentMethod_Mailed_check']]. F1: 0.6354\n",
      "Agreeability Coefficient (cohen_kappa) between best models: 0.7375447076666044\n",
      "------------------------------------------------------------------------------------------------------------------------------------------------------\n",
      "Results from all models:\n",
      "M1 mean score: 0.6237. Standard deviation: 0.0159\n",
      "M2 mean score: 0.6250. Standard deviation: 0.0074\n",
      "Mean agreeability coefficient (cohen_kappa): 0.6973. Standard deviation: 0.0397\n",
      "======================================================================================================================================================\n",
      "Iteration 12:\n",
      "------------------------------------------------------------------------------------------------------------------------------------------------------\n",
      "Results from best models:\n",
      "Best Model 1 included: ['Latitude', 'Gender', 'SeniorCitizen', 'PhoneService', 'CLTV', ['DeviceProtection_No_internet_service', 'DeviceProtection_Yes'], ['TechSupport_No_internet_service', 'TechSupport_Yes'], ['StreamingTV_No_internet_service', 'StreamingTV_Yes'], ['Contract_One_year', 'Contract_Two_year'], ['PaymentMethod_Credit_card_(automatic)', 'PaymentMethod_Electronic_check', 'PaymentMethod_Mailed_check']]. F1: 0.6434\n",
      "Best Model 2 included: ['Gender', 'Dependents', 'PhoneService', 'TotalCharges', ['InternetService_Fiber_optic', 'InternetService_No'], ['OnlineSecurity_No_internet_service', 'OnlineSecurity_Yes'], ['DeviceProtection_No_internet_service', 'DeviceProtection_Yes'], ['TechSupport_No_internet_service', 'TechSupport_Yes'], ['Contract_One_year', 'Contract_Two_year'], ['PaymentMethod_Credit_card_(automatic)', 'PaymentMethod_Electronic_check', 'PaymentMethod_Mailed_check']]. F1: 0.6392\n",
      "Agreeability Coefficient (cohen_kappa) between best models: 0.7383305320566019\n",
      "------------------------------------------------------------------------------------------------------------------------------------------------------\n",
      "Results from all models:\n",
      "M1 mean score: 0.6184. Standard deviation: 0.0180\n",
      "M2 mean score: 0.6219. Standard deviation: 0.0129\n",
      "Mean agreeability coefficient (cohen_kappa): 0.6921. Standard deviation: 0.0469\n",
      "======================================================================================================================================================\n",
      "Iteration 13:\n",
      "------------------------------------------------------------------------------------------------------------------------------------------------------\n",
      "Results from best models:\n",
      "Best Model 1 included: ['Latitude', 'Gender', 'SeniorCitizen', 'PhoneService', 'CLTV', ['DeviceProtection_No_internet_service', 'DeviceProtection_Yes'], ['TechSupport_No_internet_service', 'TechSupport_Yes'], ['StreamingTV_No_internet_service', 'StreamingTV_Yes'], ['Contract_One_year', 'Contract_Two_year']]. F1: 0.6448\n",
      "Best Model 2 included: ['Dependents', 'PhoneService', 'TotalCharges', ['InternetService_Fiber_optic', 'InternetService_No'], ['OnlineSecurity_No_internet_service', 'OnlineSecurity_Yes'], ['DeviceProtection_No_internet_service', 'DeviceProtection_Yes'], ['TechSupport_No_internet_service', 'TechSupport_Yes'], ['Contract_One_year', 'Contract_Two_year'], ['PaymentMethod_Credit_card_(automatic)', 'PaymentMethod_Electronic_check', 'PaymentMethod_Mailed_check']]. F1: 0.6350\n",
      "Agreeability Coefficient (cohen_kappa) between best models: 0.7621457076869088\n",
      "------------------------------------------------------------------------------------------------------------------------------------------------------\n",
      "Results from all models:\n",
      "M1 mean score: 0.6198. Standard deviation: 0.0196\n",
      "M2 mean score: 0.6217. Standard deviation: 0.0081\n",
      "Mean agreeability coefficient (cohen_kappa): 0.6930. Standard deviation: 0.0421\n",
      "======================================================================================================================================================\n",
      "Iteration 14:\n",
      "------------------------------------------------------------------------------------------------------------------------------------------------------\n",
      "Results from best models:\n",
      "Best Model 1 included: ['Latitude', 'Gender', 'SeniorCitizen', 'PhoneService', 'CLTV', ['TechSupport_No_internet_service', 'TechSupport_Yes'], ['StreamingTV_No_internet_service', 'StreamingTV_Yes'], ['Contract_One_year', 'Contract_Two_year']]. F1: 0.6448\n",
      "Best Model 2 included: ['PhoneService', 'TotalCharges', ['InternetService_Fiber_optic', 'InternetService_No'], ['OnlineSecurity_No_internet_service', 'OnlineSecurity_Yes'], ['DeviceProtection_No_internet_service', 'DeviceProtection_Yes'], ['TechSupport_No_internet_service', 'TechSupport_Yes'], ['Contract_One_year', 'Contract_Two_year'], ['PaymentMethod_Credit_card_(automatic)', 'PaymentMethod_Electronic_check', 'PaymentMethod_Mailed_check']]. F1: 0.6351\n",
      "Agreeability Coefficient (cohen_kappa) between best models: 0.7586305618513659\n",
      "------------------------------------------------------------------------------------------------------------------------------------------------------\n",
      "Results from all models:\n",
      "M1 mean score: 0.6241. Standard deviation: 0.0127\n",
      "M2 mean score: 0.6241. Standard deviation: 0.0095\n",
      "Mean agreeability coefficient (cohen_kappa): 0.7082. Standard deviation: 0.0444\n",
      "======================================================================================================================================================\n",
      "Iteration 15:\n",
      "------------------------------------------------------------------------------------------------------------------------------------------------------\n",
      "Results from best models:\n",
      "Best Model 1 included: ['Latitude', 'Gender', 'SeniorCitizen', 'PhoneService', 'CLTV', ['TechSupport_No_internet_service', 'TechSupport_Yes'], ['Contract_One_year', 'Contract_Two_year']]. F1: 0.6293\n",
      "Best Model 2 included: ['PhoneService', ['InternetService_Fiber_optic', 'InternetService_No'], ['OnlineSecurity_No_internet_service', 'OnlineSecurity_Yes'], ['DeviceProtection_No_internet_service', 'DeviceProtection_Yes'], ['TechSupport_No_internet_service', 'TechSupport_Yes'], ['Contract_One_year', 'Contract_Two_year'], ['PaymentMethod_Credit_card_(automatic)', 'PaymentMethod_Electronic_check', 'PaymentMethod_Mailed_check']]. F1: 0.6367\n",
      "Agreeability Coefficient (cohen_kappa) between best models: 0.7719449638045929\n",
      "------------------------------------------------------------------------------------------------------------------------------------------------------\n",
      "Results from all models:\n",
      "M1 mean score: 0.6172. Standard deviation: 0.0097\n",
      "M2 mean score: 0.6225. Standard deviation: 0.0123\n",
      "Mean agreeability coefficient (cohen_kappa): 0.6892. Standard deviation: 0.0748\n",
      "======================================================================================================================================================\n",
      "Iteration 16:\n",
      "------------------------------------------------------------------------------------------------------------------------------------------------------\n",
      "Results from best models:\n",
      "Best Model 1 included: ['Gender', 'SeniorCitizen', 'PhoneService', 'CLTV', ['TechSupport_No_internet_service', 'TechSupport_Yes'], ['Contract_One_year', 'Contract_Two_year']]. F1: 0.6330\n",
      "Best Model 2 included: ['PhoneService', ['InternetService_Fiber_optic', 'InternetService_No'], ['OnlineSecurity_No_internet_service', 'OnlineSecurity_Yes'], ['TechSupport_No_internet_service', 'TechSupport_Yes'], ['Contract_One_year', 'Contract_Two_year'], ['PaymentMethod_Credit_card_(automatic)', 'PaymentMethod_Electronic_check', 'PaymentMethod_Mailed_check']]. F1: 0.6284\n",
      "Agreeability Coefficient (cohen_kappa) between best models: 0.6934339448826632\n",
      "------------------------------------------------------------------------------------------------------------------------------------------------------\n",
      "Results from all models:\n",
      "M1 mean score: 0.6181. Standard deviation: 0.0091\n",
      "M2 mean score: 0.6159. Standard deviation: 0.0083\n",
      "Mean agreeability coefficient (cohen_kappa): 0.6822. Standard deviation: 0.0529\n",
      "======================================================================================================================================================\n",
      "Iteration 17:\n",
      "------------------------------------------------------------------------------------------------------------------------------------------------------\n",
      "Results from best models:\n",
      "Best Model 1 included: ['Gender', 'SeniorCitizen', 'PhoneService', 'CLTV', ['TechSupport_No_internet_service', 'TechSupport_Yes']]. F1: 0.5966\n",
      "Best Model 2 included: ['PhoneService', ['InternetService_Fiber_optic', 'InternetService_No'], ['OnlineSecurity_No_internet_service', 'OnlineSecurity_Yes'], ['TechSupport_No_internet_service', 'TechSupport_Yes'], ['Contract_One_year', 'Contract_Two_year']]. F1: 0.6330\n",
      "Agreeability Coefficient (cohen_kappa) between best models: 0.6420018128906062\n",
      "------------------------------------------------------------------------------------------------------------------------------------------------------\n",
      "Results from all models:\n",
      "M1 mean score: 0.5895. Standard deviation: 0.0073\n",
      "M2 mean score: 0.6134. Standard deviation: 0.0186\n",
      "Mean agreeability coefficient (cohen_kappa): 0.6286. Standard deviation: 0.0418\n",
      "======================================================================================================================================================\n",
      "Iteration 18:\n",
      "------------------------------------------------------------------------------------------------------------------------------------------------------\n",
      "Results from best models:\n",
      "Best Model 1 included: ['Gender', 'SeniorCitizen', 'PhoneService', ['TechSupport_No_internet_service', 'TechSupport_Yes']]. F1: 0.5687\n",
      "Best Model 2 included: ['PhoneService', ['InternetService_Fiber_optic', 'InternetService_No'], ['OnlineSecurity_No_internet_service', 'OnlineSecurity_Yes'], ['Contract_One_year', 'Contract_Two_year']]. F1: 0.6274\n",
      "Agreeability Coefficient (cohen_kappa) between best models: 0.562522099010301\n",
      "------------------------------------------------------------------------------------------------------------------------------------------------------\n",
      "Results from all models:\n",
      "M1 mean score: 0.5528. Standard deviation: 0.0169\n",
      "M2 mean score: 0.6099. Standard deviation: 0.0129\n",
      "Mean agreeability coefficient (cohen_kappa): 0.5291. Standard deviation: 0.0647\n",
      "======================================================================================================================================================\n",
      "Iteration 19:\n",
      "------------------------------------------------------------------------------------------------------------------------------------------------------\n",
      "Results from best models:\n",
      "Best Model 1 included: ['Gender', 'SeniorCitizen', ['TechSupport_No_internet_service', 'TechSupport_Yes']]. F1: 0.5587\n",
      "Best Model 2 included: ['PhoneService', ['InternetService_Fiber_optic', 'InternetService_No'], ['Contract_One_year', 'Contract_Two_year']]. F1: 0.6106\n",
      "Agreeability Coefficient (cohen_kappa) between best models: 0.49533715925394556\n",
      "------------------------------------------------------------------------------------------------------------------------------------------------------\n",
      "Results from all models:\n",
      "M1 mean score: 0.5180. Standard deviation: 0.0505\n",
      "M2 mean score: 0.5896. Standard deviation: 0.0162\n",
      "Mean agreeability coefficient (cohen_kappa): 0.4253. Standard deviation: 0.0668\n",
      "======================================================================================================================================================\n",
      "Iteration 20:\n",
      "------------------------------------------------------------------------------------------------------------------------------------------------------\n",
      "Results from best models:\n",
      "Best Model 1 included: ['Gender', 'SeniorCitizen']. F1: 0.5121\n",
      "Best Model 2 included: ['PhoneService', ['Contract_One_year', 'Contract_Two_year']]. F1: 0.6086\n",
      "Agreeability Coefficient (cohen_kappa) between best models: 0.4038586448126153\n",
      "------------------------------------------------------------------------------------------------------------------------------------------------------\n",
      "Results from all models:\n",
      "M1 mean score: 0.4752. Standard deviation: 0.0394\n",
      "M2 mean score: 0.5905. Standard deviation: 0.0153\n",
      "Mean agreeability coefficient (cohen_kappa): 0.3544. Standard deviation: 0.0549\n",
      "======================================================================================================================================================\n",
      "Iteration 21:\n",
      "------------------------------------------------------------------------------------------------------------------------------------------------------\n",
      "Results from best models:\n",
      "Best Model 1 included: ['SeniorCitizen']. F1: 0.3759\n",
      "Best Model 2 included: [['Contract_One_year', 'Contract_Two_year']]. F1: 0.5818\n",
      "Agreeability Coefficient (cohen_kappa) between best models: 0.14547462607587133\n",
      "------------------------------------------------------------------------------------------------------------------------------------------------------\n",
      "Results from all models:\n",
      "M1 mean score: 0.3567. Standard deviation: 0.0192\n",
      "M2 mean score: nan. Standard deviation: nan\n",
      "Mean agreeability coefficient (cohen_kappa): 0.0727. Standard deviation: 0.0727\n",
      "======================================================================================================================================================\n"
     ]
    }
   ],
   "source": [
    "# Run the comparison algorithm \n",
    "results = seeker.compare_all_models(\n",
    "    m1=rfc, # Model 1: Logistic Regression\n",
    "    m2=mlp, # Model 2: Neural Network Classifier // Replace with 'rcf' - random forest classifier for testing the framework on a CPU to save time\n",
    "    keras_params=keras_params # Provide parameters for training the neural network\n",
    ")"
   ]
  },
  {
   "cell_type": "markdown",
   "metadata": {},
   "source": [
    "### Note: the outputs below are from a different run of the algorithm"
   ]
  },
  {
   "cell_type": "code",
   "execution_count": 22,
   "metadata": {},
   "outputs": [
    {
     "data": {
      "text/plain": [
       "[{'Best: M1 Included Features': ['Latitude',\n",
       "   'Longitude',\n",
       "   'Gender',\n",
       "   'SeniorCitizen',\n",
       "   'Partner',\n",
       "   'Dependents',\n",
       "   'TenureMonths',\n",
       "   'PhoneService',\n",
       "   'PaperlessBilling',\n",
       "   'MonthlyCharges',\n",
       "   'TotalCharges',\n",
       "   'CLTV',\n",
       "   'MultipleLines_No_phone_service',\n",
       "   'MultipleLines_Yes',\n",
       "   'InternetService_Fiber_optic',\n",
       "   'InternetService_No',\n",
       "   'OnlineSecurity_No_internet_service',\n",
       "   'OnlineSecurity_Yes',\n",
       "   'OnlineBackup_No_internet_service',\n",
       "   'OnlineBackup_Yes',\n",
       "   'DeviceProtection_No_internet_service',\n",
       "   'DeviceProtection_Yes',\n",
       "   'TechSupport_No_internet_service',\n",
       "   'TechSupport_Yes',\n",
       "   'StreamingTV_No_internet_service',\n",
       "   'StreamingTV_Yes',\n",
       "   'StreamingMovies_No_internet_service',\n",
       "   'StreamingMovies_Yes',\n",
       "   'Contract_One_year',\n",
       "   'Contract_Two_year',\n",
       "   'PaymentMethod_Credit_card_(automatic)',\n",
       "   'PaymentMethod_Electronic_check',\n",
       "   'PaymentMethod_Mailed_check'],\n",
       "  'Best: M1 f1': 0.618610747051114,\n",
       "  'Best: M2 Included Features': ['Latitude',\n",
       "   'Longitude',\n",
       "   'Gender',\n",
       "   'SeniorCitizen',\n",
       "   'Partner',\n",
       "   'Dependents',\n",
       "   'TenureMonths',\n",
       "   'PhoneService',\n",
       "   'PaperlessBilling',\n",
       "   'MonthlyCharges',\n",
       "   'TotalCharges',\n",
       "   'CLTV',\n",
       "   'MultipleLines_No_phone_service',\n",
       "   'MultipleLines_Yes',\n",
       "   'InternetService_Fiber_optic',\n",
       "   'InternetService_No',\n",
       "   'OnlineSecurity_No_internet_service',\n",
       "   'OnlineSecurity_Yes',\n",
       "   'OnlineBackup_No_internet_service',\n",
       "   'OnlineBackup_Yes',\n",
       "   'DeviceProtection_No_internet_service',\n",
       "   'DeviceProtection_Yes',\n",
       "   'TechSupport_No_internet_service',\n",
       "   'TechSupport_Yes',\n",
       "   'StreamingTV_No_internet_service',\n",
       "   'StreamingTV_Yes',\n",
       "   'StreamingMovies_No_internet_service',\n",
       "   'StreamingMovies_Yes',\n",
       "   'Contract_One_year',\n",
       "   'Contract_Two_year',\n",
       "   'PaymentMethod_Credit_card_(automatic)',\n",
       "   'PaymentMethod_Electronic_check',\n",
       "   'PaymentMethod_Mailed_check'],\n",
       "  'Best: M2 f1': 0.4233576642335767,\n",
       "  'Best: Agreeability (cohen_kappa)': 0.0016143400235041213,\n",
       "  'All: M1 Mean f1': 0.618610747051114,\n",
       "  'All: M1 STD f1': 0,\n",
       "  'All: M2 Mean f1': 0.4233576642335767,\n",
       "  'All: M2 STD f1': 0,\n",
       "  'All: Mean Agreeability (cohen_kappa)': 0.0016143400235041213,\n",
       "  'All: Agreeability St. Dev.': 0},\n",
       " {'Best: M1 Included Features': ['Latitude',\n",
       "   'Longitude',\n",
       "   'Gender',\n",
       "   'SeniorCitizen',\n",
       "   'Partner',\n",
       "   'Dependents',\n",
       "   'TenureMonths',\n",
       "   'PhoneService',\n",
       "   'PaperlessBilling',\n",
       "   'MonthlyCharges',\n",
       "   'TotalCharges',\n",
       "   'CLTV',\n",
       "   'MultipleLines_No_phone_service',\n",
       "   'MultipleLines_Yes',\n",
       "   'InternetService_Fiber_optic',\n",
       "   'InternetService_No',\n",
       "   'OnlineSecurity_No_internet_service',\n",
       "   'OnlineSecurity_Yes',\n",
       "   'DeviceProtection_No_internet_service',\n",
       "   'DeviceProtection_Yes',\n",
       "   'TechSupport_No_internet_service',\n",
       "   'TechSupport_Yes',\n",
       "   'StreamingTV_No_internet_service',\n",
       "   'StreamingTV_Yes',\n",
       "   'StreamingMovies_No_internet_service',\n",
       "   'StreamingMovies_Yes',\n",
       "   'Contract_One_year',\n",
       "   'Contract_Two_year',\n",
       "   'PaymentMethod_Credit_card_(automatic)',\n",
       "   'PaymentMethod_Electronic_check',\n",
       "   'PaymentMethod_Mailed_check'],\n",
       "  'Best: M1 f1': 0.6286438529784537,\n",
       "  'Best: M2 Included Features': ['Latitude',\n",
       "   'Longitude',\n",
       "   'Gender',\n",
       "   'SeniorCitizen',\n",
       "   'Partner',\n",
       "   'Dependents',\n",
       "   'TenureMonths',\n",
       "   'PhoneService',\n",
       "   'PaperlessBilling',\n",
       "   'MonthlyCharges',\n",
       "   'TotalCharges',\n",
       "   'MultipleLines_No_phone_service',\n",
       "   'MultipleLines_Yes',\n",
       "   'InternetService_Fiber_optic',\n",
       "   'InternetService_No',\n",
       "   'OnlineSecurity_No_internet_service',\n",
       "   'OnlineSecurity_Yes',\n",
       "   'OnlineBackup_No_internet_service',\n",
       "   'OnlineBackup_Yes',\n",
       "   'DeviceProtection_No_internet_service',\n",
       "   'DeviceProtection_Yes',\n",
       "   'TechSupport_No_internet_service',\n",
       "   'TechSupport_Yes',\n",
       "   'StreamingTV_No_internet_service',\n",
       "   'StreamingTV_Yes',\n",
       "   'StreamingMovies_No_internet_service',\n",
       "   'StreamingMovies_Yes',\n",
       "   'Contract_One_year',\n",
       "   'Contract_Two_year',\n",
       "   'PaymentMethod_Credit_card_(automatic)',\n",
       "   'PaymentMethod_Electronic_check',\n",
       "   'PaymentMethod_Mailed_check'],\n",
       "  'Best: M2 f1': 0.6289592760180996,\n",
       "  'Best: Agreeability (cohen_kappa)': 0.7540504875666227,\n",
       "  'All: M1 Mean f1': 0.6114009097741352,\n",
       "  'All: M1 STD f1': 0.010943951459352582,\n",
       "  'All: M2 Mean f1': 0.4562239687905244,\n",
       "  'All: M2 STD f1': 0.0479360557789073,\n",
       "  'All: Mean Agreeability (cohen_kappa)': 0.10116387612577263,\n",
       "  'All: Agreeability St. Dev.': 0.16286399294843804},\n",
       " {'Best: M1 Included Features': ['Latitude',\n",
       "   'Gender',\n",
       "   'SeniorCitizen',\n",
       "   'Partner',\n",
       "   'Dependents',\n",
       "   'TenureMonths',\n",
       "   'PhoneService',\n",
       "   'PaperlessBilling',\n",
       "   'MonthlyCharges',\n",
       "   'TotalCharges',\n",
       "   'CLTV',\n",
       "   'MultipleLines_No_phone_service',\n",
       "   'MultipleLines_Yes',\n",
       "   'InternetService_Fiber_optic',\n",
       "   'InternetService_No',\n",
       "   'OnlineSecurity_No_internet_service',\n",
       "   'OnlineSecurity_Yes',\n",
       "   'DeviceProtection_No_internet_service',\n",
       "   'DeviceProtection_Yes',\n",
       "   'TechSupport_No_internet_service',\n",
       "   'TechSupport_Yes',\n",
       "   'StreamingTV_No_internet_service',\n",
       "   'StreamingTV_Yes',\n",
       "   'StreamingMovies_No_internet_service',\n",
       "   'StreamingMovies_Yes',\n",
       "   'Contract_One_year',\n",
       "   'Contract_Two_year',\n",
       "   'PaymentMethod_Credit_card_(automatic)',\n",
       "   'PaymentMethod_Electronic_check',\n",
       "   'PaymentMethod_Mailed_check'],\n",
       "  'Best: M1 f1': 0.6264441591784339,\n",
       "  'Best: M2 Included Features': ['Latitude',\n",
       "   'Longitude',\n",
       "   'Gender',\n",
       "   'SeniorCitizen',\n",
       "   'Partner',\n",
       "   'Dependents',\n",
       "   'TenureMonths',\n",
       "   'PhoneService',\n",
       "   'PaperlessBilling',\n",
       "   'MonthlyCharges',\n",
       "   'TotalCharges',\n",
       "   'MultipleLines_No_phone_service',\n",
       "   'MultipleLines_Yes',\n",
       "   'InternetService_Fiber_optic',\n",
       "   'InternetService_No',\n",
       "   'OnlineSecurity_No_internet_service',\n",
       "   'OnlineSecurity_Yes',\n",
       "   'OnlineBackup_No_internet_service',\n",
       "   'OnlineBackup_Yes',\n",
       "   'DeviceProtection_No_internet_service',\n",
       "   'DeviceProtection_Yes',\n",
       "   'TechSupport_No_internet_service',\n",
       "   'TechSupport_Yes',\n",
       "   'StreamingMovies_No_internet_service',\n",
       "   'StreamingMovies_Yes',\n",
       "   'Contract_One_year',\n",
       "   'Contract_Two_year',\n",
       "   'PaymentMethod_Credit_card_(automatic)',\n",
       "   'PaymentMethod_Electronic_check',\n",
       "   'PaymentMethod_Mailed_check'],\n",
       "  'Best: M2 f1': 0.6386363636363637,\n",
       "  'Best: Agreeability (cohen_kappa)': 0.7393014110571362,\n",
       "  'All: M1 Mean f1': 0.6092393701130784,\n",
       "  'All: M1 STD f1': 0.010324679544500524,\n",
       "  'All: M2 Mean f1': 0.6018243018101737,\n",
       "  'All: M2 STD f1': 0.029070766507448078,\n",
       "  'All: Mean Agreeability (cohen_kappa)': 0.6120172104258648,\n",
       "  'All: Agreeability St. Dev.': 0.10177731826998125},\n",
       " {'Best: M1 Included Features': ['Latitude',\n",
       "   'Gender',\n",
       "   'SeniorCitizen',\n",
       "   'Partner',\n",
       "   'TenureMonths',\n",
       "   'PhoneService',\n",
       "   'PaperlessBilling',\n",
       "   'MonthlyCharges',\n",
       "   'TotalCharges',\n",
       "   'CLTV',\n",
       "   'MultipleLines_No_phone_service',\n",
       "   'MultipleLines_Yes',\n",
       "   'InternetService_Fiber_optic',\n",
       "   'InternetService_No',\n",
       "   'OnlineSecurity_No_internet_service',\n",
       "   'OnlineSecurity_Yes',\n",
       "   'DeviceProtection_No_internet_service',\n",
       "   'DeviceProtection_Yes',\n",
       "   'TechSupport_No_internet_service',\n",
       "   'TechSupport_Yes',\n",
       "   'StreamingTV_No_internet_service',\n",
       "   'StreamingTV_Yes',\n",
       "   'StreamingMovies_No_internet_service',\n",
       "   'StreamingMovies_Yes',\n",
       "   'Contract_One_year',\n",
       "   'Contract_Two_year',\n",
       "   'PaymentMethod_Credit_card_(automatic)',\n",
       "   'PaymentMethod_Electronic_check',\n",
       "   'PaymentMethod_Mailed_check'],\n",
       "  'Best: M1 f1': 0.6207792207792209,\n",
       "  'Best: M2 Included Features': ['Latitude',\n",
       "   'Longitude',\n",
       "   'Gender',\n",
       "   'SeniorCitizen',\n",
       "   'Partner',\n",
       "   'Dependents',\n",
       "   'PhoneService',\n",
       "   'PaperlessBilling',\n",
       "   'MonthlyCharges',\n",
       "   'TotalCharges',\n",
       "   'MultipleLines_No_phone_service',\n",
       "   'MultipleLines_Yes',\n",
       "   'InternetService_Fiber_optic',\n",
       "   'InternetService_No',\n",
       "   'OnlineSecurity_No_internet_service',\n",
       "   'OnlineSecurity_Yes',\n",
       "   'OnlineBackup_No_internet_service',\n",
       "   'OnlineBackup_Yes',\n",
       "   'DeviceProtection_No_internet_service',\n",
       "   'DeviceProtection_Yes',\n",
       "   'TechSupport_No_internet_service',\n",
       "   'TechSupport_Yes',\n",
       "   'StreamingMovies_No_internet_service',\n",
       "   'StreamingMovies_Yes',\n",
       "   'Contract_One_year',\n",
       "   'Contract_Two_year',\n",
       "   'PaymentMethod_Credit_card_(automatic)',\n",
       "   'PaymentMethod_Electronic_check',\n",
       "   'PaymentMethod_Mailed_check'],\n",
       "  'Best: M2 f1': 0.6384872080088988,\n",
       "  'Best: Agreeability (cohen_kappa)': 0.7417356714585235,\n",
       "  'All: M1 Mean f1': 0.6114230881423734,\n",
       "  'All: M1 STD f1': 0.006253558782906217,\n",
       "  'All: M2 Mean f1': 0.6147838508699986,\n",
       "  'All: M2 STD f1': 0.01634731743163813,\n",
       "  'All: Mean Agreeability (cohen_kappa)': 0.6498135532834346,\n",
       "  'All: Agreeability St. Dev.': 0.06900700518526039},\n",
       " {'Best: M1 Included Features': ['Latitude',\n",
       "   'Gender',\n",
       "   'SeniorCitizen',\n",
       "   'Partner',\n",
       "   'TenureMonths',\n",
       "   'PhoneService',\n",
       "   'PaperlessBilling',\n",
       "   'MonthlyCharges',\n",
       "   'TotalCharges',\n",
       "   'CLTV',\n",
       "   'MultipleLines_No_phone_service',\n",
       "   'MultipleLines_Yes',\n",
       "   'OnlineSecurity_No_internet_service',\n",
       "   'OnlineSecurity_Yes',\n",
       "   'DeviceProtection_No_internet_service',\n",
       "   'DeviceProtection_Yes',\n",
       "   'TechSupport_No_internet_service',\n",
       "   'TechSupport_Yes',\n",
       "   'StreamingTV_No_internet_service',\n",
       "   'StreamingTV_Yes',\n",
       "   'StreamingMovies_No_internet_service',\n",
       "   'StreamingMovies_Yes',\n",
       "   'Contract_One_year',\n",
       "   'Contract_Two_year',\n",
       "   'PaymentMethod_Credit_card_(automatic)',\n",
       "   'PaymentMethod_Electronic_check',\n",
       "   'PaymentMethod_Mailed_check'],\n",
       "  'Best: M1 f1': 0.631578947368421,\n",
       "  'Best: M2 Included Features': ['Latitude',\n",
       "   'Longitude',\n",
       "   'Gender',\n",
       "   'SeniorCitizen',\n",
       "   'Partner',\n",
       "   'Dependents',\n",
       "   'PhoneService',\n",
       "   'PaperlessBilling',\n",
       "   'MonthlyCharges',\n",
       "   'TotalCharges',\n",
       "   'MultipleLines_No_phone_service',\n",
       "   'MultipleLines_Yes',\n",
       "   'InternetService_Fiber_optic',\n",
       "   'InternetService_No',\n",
       "   'OnlineSecurity_No_internet_service',\n",
       "   'OnlineSecurity_Yes',\n",
       "   'DeviceProtection_No_internet_service',\n",
       "   'DeviceProtection_Yes',\n",
       "   'TechSupport_No_internet_service',\n",
       "   'TechSupport_Yes',\n",
       "   'StreamingMovies_No_internet_service',\n",
       "   'StreamingMovies_Yes',\n",
       "   'Contract_One_year',\n",
       "   'Contract_Two_year',\n",
       "   'PaymentMethod_Credit_card_(automatic)',\n",
       "   'PaymentMethod_Electronic_check',\n",
       "   'PaymentMethod_Mailed_check'],\n",
       "  'Best: M2 f1': 0.64472190692395,\n",
       "  'Best: Agreeability (cohen_kappa)': 0.7281553398058251,\n",
       "  'All: M1 Mean f1': 0.6139743729083302,\n",
       "  'All: M1 STD f1': 0.010545008322819797,\n",
       "  'All: M2 Mean f1': 0.6091749163971686,\n",
       "  'All: M2 STD f1': 0.026730309591009725,\n",
       "  'All: Mean Agreeability (cohen_kappa)': 0.636161080875194,\n",
       "  'All: Agreeability St. Dev.': 0.0870028114658105},\n",
       " {'Best: M1 Included Features': ['Latitude',\n",
       "   'Gender',\n",
       "   'SeniorCitizen',\n",
       "   'TenureMonths',\n",
       "   'PhoneService',\n",
       "   'PaperlessBilling',\n",
       "   'MonthlyCharges',\n",
       "   'TotalCharges',\n",
       "   'CLTV',\n",
       "   'MultipleLines_No_phone_service',\n",
       "   'MultipleLines_Yes',\n",
       "   'OnlineSecurity_No_internet_service',\n",
       "   'OnlineSecurity_Yes',\n",
       "   'DeviceProtection_No_internet_service',\n",
       "   'DeviceProtection_Yes',\n",
       "   'TechSupport_No_internet_service',\n",
       "   'TechSupport_Yes',\n",
       "   'StreamingTV_No_internet_service',\n",
       "   'StreamingTV_Yes',\n",
       "   'StreamingMovies_No_internet_service',\n",
       "   'StreamingMovies_Yes',\n",
       "   'Contract_One_year',\n",
       "   'Contract_Two_year',\n",
       "   'PaymentMethod_Credit_card_(automatic)',\n",
       "   'PaymentMethod_Electronic_check',\n",
       "   'PaymentMethod_Mailed_check'],\n",
       "  'Best: M1 f1': 0.6298200514138816,\n",
       "  'Best: M2 Included Features': ['Latitude',\n",
       "   'Longitude',\n",
       "   'Gender',\n",
       "   'Partner',\n",
       "   'Dependents',\n",
       "   'PhoneService',\n",
       "   'PaperlessBilling',\n",
       "   'MonthlyCharges',\n",
       "   'TotalCharges',\n",
       "   'MultipleLines_No_phone_service',\n",
       "   'MultipleLines_Yes',\n",
       "   'InternetService_Fiber_optic',\n",
       "   'InternetService_No',\n",
       "   'OnlineSecurity_No_internet_service',\n",
       "   'OnlineSecurity_Yes',\n",
       "   'DeviceProtection_No_internet_service',\n",
       "   'DeviceProtection_Yes',\n",
       "   'TechSupport_No_internet_service',\n",
       "   'TechSupport_Yes',\n",
       "   'StreamingMovies_No_internet_service',\n",
       "   'StreamingMovies_Yes',\n",
       "   'Contract_One_year',\n",
       "   'Contract_Two_year',\n",
       "   'PaymentMethod_Credit_card_(automatic)',\n",
       "   'PaymentMethod_Electronic_check',\n",
       "   'PaymentMethod_Mailed_check'],\n",
       "  'Best: M2 f1': 0.6420047732696897,\n",
       "  'Best: Agreeability (cohen_kappa)': 0.7496773856854131,\n",
       "  'All: M1 Mean f1': 0.6102708890930844,\n",
       "  'All: M1 STD f1': 0.012729156138001059,\n",
       "  'All: M2 Mean f1': 0.6136627494904059,\n",
       "  'All: M2 STD f1': 0.019197213855282193,\n",
       "  'All: Mean Agreeability (cohen_kappa)': 0.6428347238321445,\n",
       "  'All: Agreeability St. Dev.': 0.07456048944007042},\n",
       " {'Best: M1 Included Features': ['Latitude',\n",
       "   'Gender',\n",
       "   'SeniorCitizen',\n",
       "   'TenureMonths',\n",
       "   'PhoneService',\n",
       "   'PaperlessBilling',\n",
       "   'MonthlyCharges',\n",
       "   'TotalCharges',\n",
       "   'CLTV',\n",
       "   'MultipleLines_No_phone_service',\n",
       "   'MultipleLines_Yes',\n",
       "   'DeviceProtection_No_internet_service',\n",
       "   'DeviceProtection_Yes',\n",
       "   'TechSupport_No_internet_service',\n",
       "   'TechSupport_Yes',\n",
       "   'StreamingTV_No_internet_service',\n",
       "   'StreamingTV_Yes',\n",
       "   'StreamingMovies_No_internet_service',\n",
       "   'StreamingMovies_Yes',\n",
       "   'Contract_One_year',\n",
       "   'Contract_Two_year',\n",
       "   'PaymentMethod_Credit_card_(automatic)',\n",
       "   'PaymentMethod_Electronic_check',\n",
       "   'PaymentMethod_Mailed_check'],\n",
       "  'Best: M1 f1': 0.6393034825870647,\n",
       "  'Best: M2 Included Features': ['Longitude',\n",
       "   'Gender',\n",
       "   'Partner',\n",
       "   'Dependents',\n",
       "   'PhoneService',\n",
       "   'PaperlessBilling',\n",
       "   'MonthlyCharges',\n",
       "   'TotalCharges',\n",
       "   'MultipleLines_No_phone_service',\n",
       "   'MultipleLines_Yes',\n",
       "   'InternetService_Fiber_optic',\n",
       "   'InternetService_No',\n",
       "   'OnlineSecurity_No_internet_service',\n",
       "   'OnlineSecurity_Yes',\n",
       "   'DeviceProtection_No_internet_service',\n",
       "   'DeviceProtection_Yes',\n",
       "   'TechSupport_No_internet_service',\n",
       "   'TechSupport_Yes',\n",
       "   'StreamingMovies_No_internet_service',\n",
       "   'StreamingMovies_Yes',\n",
       "   'Contract_One_year',\n",
       "   'Contract_Two_year',\n",
       "   'PaymentMethod_Credit_card_(automatic)',\n",
       "   'PaymentMethod_Electronic_check',\n",
       "   'PaymentMethod_Mailed_check'],\n",
       "  'Best: M2 f1': 0.6355353075170843,\n",
       "  'Best: Agreeability (cohen_kappa)': 0.7499641165494474,\n",
       "  'All: M1 Mean f1': 0.6144516762669788,\n",
       "  'All: M1 STD f1': 0.01453390213681299,\n",
       "  'All: M2 Mean f1': 0.6093915801407712,\n",
       "  'All: M2 STD f1': 0.024447841595909757,\n",
       "  'All: Mean Agreeability (cohen_kappa)': 0.6351113262553897,\n",
       "  'All: Agreeability St. Dev.': 0.09042977274223746},\n",
       " {'Best: M1 Included Features': ['Latitude',\n",
       "   'Gender',\n",
       "   'SeniorCitizen',\n",
       "   'TenureMonths',\n",
       "   'PhoneService',\n",
       "   'PaperlessBilling',\n",
       "   'TotalCharges',\n",
       "   'CLTV',\n",
       "   'MultipleLines_No_phone_service',\n",
       "   'MultipleLines_Yes',\n",
       "   'DeviceProtection_No_internet_service',\n",
       "   'DeviceProtection_Yes',\n",
       "   'TechSupport_No_internet_service',\n",
       "   'TechSupport_Yes',\n",
       "   'StreamingTV_No_internet_service',\n",
       "   'StreamingTV_Yes',\n",
       "   'StreamingMovies_No_internet_service',\n",
       "   'StreamingMovies_Yes',\n",
       "   'Contract_One_year',\n",
       "   'Contract_Two_year',\n",
       "   'PaymentMethod_Credit_card_(automatic)',\n",
       "   'PaymentMethod_Electronic_check',\n",
       "   'PaymentMethod_Mailed_check'],\n",
       "  'Best: M1 f1': 0.6417910447761195,\n",
       "  'Best: M2 Included Features': ['Longitude',\n",
       "   'Gender',\n",
       "   'Partner',\n",
       "   'Dependents',\n",
       "   'PhoneService',\n",
       "   'MonthlyCharges',\n",
       "   'TotalCharges',\n",
       "   'MultipleLines_No_phone_service',\n",
       "   'MultipleLines_Yes',\n",
       "   'InternetService_Fiber_optic',\n",
       "   'InternetService_No',\n",
       "   'OnlineSecurity_No_internet_service',\n",
       "   'OnlineSecurity_Yes',\n",
       "   'DeviceProtection_No_internet_service',\n",
       "   'DeviceProtection_Yes',\n",
       "   'TechSupport_No_internet_service',\n",
       "   'TechSupport_Yes',\n",
       "   'StreamingMovies_No_internet_service',\n",
       "   'StreamingMovies_Yes',\n",
       "   'Contract_One_year',\n",
       "   'Contract_Two_year',\n",
       "   'PaymentMethod_Credit_card_(automatic)',\n",
       "   'PaymentMethod_Electronic_check',\n",
       "   'PaymentMethod_Mailed_check'],\n",
       "  'Best: M2 f1': 0.6383467278989666,\n",
       "  'Best: Agreeability (cohen_kappa)': 0.7053895380968019,\n",
       "  'All: M1 Mean f1': 0.6260290648017236,\n",
       "  'All: M1 STD f1': 0.014423352853244649,\n",
       "  'All: M2 Mean f1': 0.6109055308425142,\n",
       "  'All: M2 STD f1': 0.02430098033418874,\n",
       "  'All: Mean Agreeability (cohen_kappa)': 0.6383257907074574,\n",
       "  'All: Agreeability St. Dev.': 0.08624771983214193},\n",
       " {'Best: M1 Included Features': ['Latitude',\n",
       "   'Gender',\n",
       "   'SeniorCitizen',\n",
       "   'TenureMonths',\n",
       "   'PhoneService',\n",
       "   'PaperlessBilling',\n",
       "   'TotalCharges',\n",
       "   'CLTV',\n",
       "   'MultipleLines_No_phone_service',\n",
       "   'MultipleLines_Yes',\n",
       "   'DeviceProtection_No_internet_service',\n",
       "   'DeviceProtection_Yes',\n",
       "   'TechSupport_No_internet_service',\n",
       "   'TechSupport_Yes',\n",
       "   'StreamingTV_No_internet_service',\n",
       "   'StreamingTV_Yes',\n",
       "   'Contract_One_year',\n",
       "   'Contract_Two_year',\n",
       "   'PaymentMethod_Credit_card_(automatic)',\n",
       "   'PaymentMethod_Electronic_check',\n",
       "   'PaymentMethod_Mailed_check'],\n",
       "  'Best: M1 f1': 0.635118306351183,\n",
       "  'Best: M2 Included Features': ['Longitude',\n",
       "   'Gender',\n",
       "   'Partner',\n",
       "   'Dependents',\n",
       "   'PhoneService',\n",
       "   'TotalCharges',\n",
       "   'MultipleLines_No_phone_service',\n",
       "   'MultipleLines_Yes',\n",
       "   'InternetService_Fiber_optic',\n",
       "   'InternetService_No',\n",
       "   'OnlineSecurity_No_internet_service',\n",
       "   'OnlineSecurity_Yes',\n",
       "   'DeviceProtection_No_internet_service',\n",
       "   'DeviceProtection_Yes',\n",
       "   'TechSupport_No_internet_service',\n",
       "   'TechSupport_Yes',\n",
       "   'StreamingMovies_No_internet_service',\n",
       "   'StreamingMovies_Yes',\n",
       "   'Contract_One_year',\n",
       "   'Contract_Two_year',\n",
       "   'PaymentMethod_Credit_card_(automatic)',\n",
       "   'PaymentMethod_Electronic_check',\n",
       "   'PaymentMethod_Mailed_check'],\n",
       "  'Best: M2 f1': 0.6346153846153847,\n",
       "  'Best: Agreeability (cohen_kappa)': 0.7440037468878644,\n",
       "  'All: M1 Mean f1': 0.6222479353439362,\n",
       "  'All: M1 STD f1': 0.01346503299195118,\n",
       "  'All: M2 Mean f1': 0.6234265303727138,\n",
       "  'All: M2 STD f1': 0.011576163573733929,\n",
       "  'All: Mean Agreeability (cohen_kappa)': 0.6993548146931475,\n",
       "  'All: Agreeability St. Dev.': 0.055115416655214425},\n",
       " {'Best: M1 Included Features': ['Latitude',\n",
       "   'Gender',\n",
       "   'SeniorCitizen',\n",
       "   'TenureMonths',\n",
       "   'PhoneService',\n",
       "   'PaperlessBilling',\n",
       "   'CLTV',\n",
       "   'MultipleLines_No_phone_service',\n",
       "   'MultipleLines_Yes',\n",
       "   'DeviceProtection_No_internet_service',\n",
       "   'DeviceProtection_Yes',\n",
       "   'TechSupport_No_internet_service',\n",
       "   'TechSupport_Yes',\n",
       "   'StreamingTV_No_internet_service',\n",
       "   'StreamingTV_Yes',\n",
       "   'Contract_One_year',\n",
       "   'Contract_Two_year',\n",
       "   'PaymentMethod_Credit_card_(automatic)',\n",
       "   'PaymentMethod_Electronic_check',\n",
       "   'PaymentMethod_Mailed_check'],\n",
       "  'Best: M1 f1': 0.6460396039603961,\n",
       "  'Best: M2 Included Features': ['Gender',\n",
       "   'Partner',\n",
       "   'Dependents',\n",
       "   'PhoneService',\n",
       "   'TotalCharges',\n",
       "   'MultipleLines_No_phone_service',\n",
       "   'MultipleLines_Yes',\n",
       "   'InternetService_Fiber_optic',\n",
       "   'InternetService_No',\n",
       "   'OnlineSecurity_No_internet_service',\n",
       "   'OnlineSecurity_Yes',\n",
       "   'DeviceProtection_No_internet_service',\n",
       "   'DeviceProtection_Yes',\n",
       "   'TechSupport_No_internet_service',\n",
       "   'TechSupport_Yes',\n",
       "   'StreamingMovies_No_internet_service',\n",
       "   'StreamingMovies_Yes',\n",
       "   'Contract_One_year',\n",
       "   'Contract_Two_year',\n",
       "   'PaymentMethod_Credit_card_(automatic)',\n",
       "   'PaymentMethod_Electronic_check',\n",
       "   'PaymentMethod_Mailed_check'],\n",
       "  'Best: M2 f1': 0.6346604215456675,\n",
       "  'Best: Agreeability (cohen_kappa)': 0.7499047764150226,\n",
       "  'All: M1 Mean f1': 0.6180627461938366,\n",
       "  'All: M1 STD f1': 0.014538845946910713,\n",
       "  'All: M2 Mean f1': 0.6204710558205543,\n",
       "  'All: M2 STD f1': 0.011565226105106671,\n",
       "  'All: Mean Agreeability (cohen_kappa)': 0.7025688345369089,\n",
       "  'All: Agreeability St. Dev.': 0.038019521363276756},\n",
       " {'Best: M1 Included Features': ['Latitude',\n",
       "   'Gender',\n",
       "   'SeniorCitizen',\n",
       "   'TenureMonths',\n",
       "   'PhoneService',\n",
       "   'CLTV',\n",
       "   'MultipleLines_No_phone_service',\n",
       "   'MultipleLines_Yes',\n",
       "   'DeviceProtection_No_internet_service',\n",
       "   'DeviceProtection_Yes',\n",
       "   'TechSupport_No_internet_service',\n",
       "   'TechSupport_Yes',\n",
       "   'StreamingTV_No_internet_service',\n",
       "   'StreamingTV_Yes',\n",
       "   'Contract_One_year',\n",
       "   'Contract_Two_year',\n",
       "   'PaymentMethod_Credit_card_(automatic)',\n",
       "   'PaymentMethod_Electronic_check',\n",
       "   'PaymentMethod_Mailed_check'],\n",
       "  'Best: M1 f1': 0.6485819975339088,\n",
       "  'Best: M2 Included Features': ['Gender',\n",
       "   'Partner',\n",
       "   'Dependents',\n",
       "   'PhoneService',\n",
       "   'TotalCharges',\n",
       "   'InternetService_Fiber_optic',\n",
       "   'InternetService_No',\n",
       "   'OnlineSecurity_No_internet_service',\n",
       "   'OnlineSecurity_Yes',\n",
       "   'DeviceProtection_No_internet_service',\n",
       "   'DeviceProtection_Yes',\n",
       "   'TechSupport_No_internet_service',\n",
       "   'TechSupport_Yes',\n",
       "   'StreamingMovies_No_internet_service',\n",
       "   'StreamingMovies_Yes',\n",
       "   'Contract_One_year',\n",
       "   'Contract_Two_year',\n",
       "   'PaymentMethod_Credit_card_(automatic)',\n",
       "   'PaymentMethod_Electronic_check',\n",
       "   'PaymentMethod_Mailed_check'],\n",
       "  'Best: M2 f1': 0.6317073170731707,\n",
       "  'Best: Agreeability (cohen_kappa)': 0.7399398409493593,\n",
       "  'All: M1 Mean f1': 0.6251622064688422,\n",
       "  'All: M1 STD f1': 0.011490946629680785,\n",
       "  'All: M2 Mean f1': 0.6174710706365689,\n",
       "  'All: M2 STD f1': 0.011382138841426057,\n",
       "  'All: Mean Agreeability (cohen_kappa)': 0.6958868954284958,\n",
       "  'All: Agreeability St. Dev.': 0.048556487447722785},\n",
       " {'Best: M1 Included Features': ['Latitude',\n",
       "   'Gender',\n",
       "   'SeniorCitizen',\n",
       "   'PhoneService',\n",
       "   'CLTV',\n",
       "   'MultipleLines_No_phone_service',\n",
       "   'MultipleLines_Yes',\n",
       "   'DeviceProtection_No_internet_service',\n",
       "   'DeviceProtection_Yes',\n",
       "   'TechSupport_No_internet_service',\n",
       "   'TechSupport_Yes',\n",
       "   'StreamingTV_No_internet_service',\n",
       "   'StreamingTV_Yes',\n",
       "   'Contract_One_year',\n",
       "   'Contract_Two_year',\n",
       "   'PaymentMethod_Credit_card_(automatic)',\n",
       "   'PaymentMethod_Electronic_check',\n",
       "   'PaymentMethod_Mailed_check'],\n",
       "  'Best: M1 f1': 0.6533665835411471,\n",
       "  'Best: M2 Included Features': ['Gender',\n",
       "   'Dependents',\n",
       "   'PhoneService',\n",
       "   'TotalCharges',\n",
       "   'InternetService_Fiber_optic',\n",
       "   'InternetService_No',\n",
       "   'OnlineSecurity_No_internet_service',\n",
       "   'OnlineSecurity_Yes',\n",
       "   'DeviceProtection_No_internet_service',\n",
       "   'DeviceProtection_Yes',\n",
       "   'TechSupport_No_internet_service',\n",
       "   'TechSupport_Yes',\n",
       "   'StreamingMovies_No_internet_service',\n",
       "   'StreamingMovies_Yes',\n",
       "   'Contract_One_year',\n",
       "   'Contract_Two_year',\n",
       "   'PaymentMethod_Credit_card_(automatic)',\n",
       "   'PaymentMethod_Electronic_check',\n",
       "   'PaymentMethod_Mailed_check'],\n",
       "  'Best: M2 f1': 0.6354044548651817,\n",
       "  'Best: Agreeability (cohen_kappa)': 0.7375447076666044,\n",
       "  'All: M1 Mean f1': 0.6237304644358995,\n",
       "  'All: M1 STD f1': 0.01589177450492388,\n",
       "  'All: M2 Mean f1': 0.6249943924123169,\n",
       "  'All: M2 STD f1': 0.007356225459808691,\n",
       "  'All: Mean Agreeability (cohen_kappa)': 0.6973309589318847,\n",
       "  'All: Agreeability St. Dev.': 0.039672374886951745},\n",
       " {'Best: M1 Included Features': ['Latitude',\n",
       "   'Gender',\n",
       "   'SeniorCitizen',\n",
       "   'PhoneService',\n",
       "   'CLTV',\n",
       "   'DeviceProtection_No_internet_service',\n",
       "   'DeviceProtection_Yes',\n",
       "   'TechSupport_No_internet_service',\n",
       "   'TechSupport_Yes',\n",
       "   'StreamingTV_No_internet_service',\n",
       "   'StreamingTV_Yes',\n",
       "   'Contract_One_year',\n",
       "   'Contract_Two_year',\n",
       "   'PaymentMethod_Credit_card_(automatic)',\n",
       "   'PaymentMethod_Electronic_check',\n",
       "   'PaymentMethod_Mailed_check'],\n",
       "  'Best: M1 f1': 0.6433915211970074,\n",
       "  'Best: M2 Included Features': ['Gender',\n",
       "   'Dependents',\n",
       "   'PhoneService',\n",
       "   'TotalCharges',\n",
       "   'InternetService_Fiber_optic',\n",
       "   'InternetService_No',\n",
       "   'OnlineSecurity_No_internet_service',\n",
       "   'OnlineSecurity_Yes',\n",
       "   'DeviceProtection_No_internet_service',\n",
       "   'DeviceProtection_Yes',\n",
       "   'TechSupport_No_internet_service',\n",
       "   'TechSupport_Yes',\n",
       "   'Contract_One_year',\n",
       "   'Contract_Two_year',\n",
       "   'PaymentMethod_Credit_card_(automatic)',\n",
       "   'PaymentMethod_Electronic_check',\n",
       "   'PaymentMethod_Mailed_check'],\n",
       "  'Best: M2 f1': 0.6391509433962264,\n",
       "  'Best: Agreeability (cohen_kappa)': 0.7383305320566019,\n",
       "  'All: M1 Mean f1': 0.6184455238858927,\n",
       "  'All: M1 STD f1': 0.01797116576598448,\n",
       "  'All: M2 Mean f1': 0.621916658396985,\n",
       "  'All: M2 STD f1': 0.012929717647065332,\n",
       "  'All: Mean Agreeability (cohen_kappa)': 0.6920552240646756,\n",
       "  'All: Agreeability St. Dev.': 0.0468959694178526},\n",
       " {'Best: M1 Included Features': ['Latitude',\n",
       "   'Gender',\n",
       "   'SeniorCitizen',\n",
       "   'PhoneService',\n",
       "   'CLTV',\n",
       "   'DeviceProtection_No_internet_service',\n",
       "   'DeviceProtection_Yes',\n",
       "   'TechSupport_No_internet_service',\n",
       "   'TechSupport_Yes',\n",
       "   'StreamingTV_No_internet_service',\n",
       "   'StreamingTV_Yes',\n",
       "   'Contract_One_year',\n",
       "   'Contract_Two_year'],\n",
       "  'Best: M1 f1': 0.6448484848484848,\n",
       "  'Best: M2 Included Features': ['Dependents',\n",
       "   'PhoneService',\n",
       "   'TotalCharges',\n",
       "   'InternetService_Fiber_optic',\n",
       "   'InternetService_No',\n",
       "   'OnlineSecurity_No_internet_service',\n",
       "   'OnlineSecurity_Yes',\n",
       "   'DeviceProtection_No_internet_service',\n",
       "   'DeviceProtection_Yes',\n",
       "   'TechSupport_No_internet_service',\n",
       "   'TechSupport_Yes',\n",
       "   'Contract_One_year',\n",
       "   'Contract_Two_year',\n",
       "   'PaymentMethod_Credit_card_(automatic)',\n",
       "   'PaymentMethod_Electronic_check',\n",
       "   'PaymentMethod_Mailed_check'],\n",
       "  'Best: M2 f1': 0.635036496350365,\n",
       "  'Best: Agreeability (cohen_kappa)': 0.7621457076869088,\n",
       "  'All: M1 Mean f1': 0.6198099828656579,\n",
       "  'All: M1 STD f1': 0.01962574768934768,\n",
       "  'All: M2 Mean f1': 0.6217009834139873,\n",
       "  'All: M2 STD f1': 0.00812782766413254,\n",
       "  'All: Mean Agreeability (cohen_kappa)': 0.693036595269782,\n",
       "  'All: Agreeability St. Dev.': 0.042063418594277154},\n",
       " {'Best: M1 Included Features': ['Latitude',\n",
       "   'Gender',\n",
       "   'SeniorCitizen',\n",
       "   'PhoneService',\n",
       "   'CLTV',\n",
       "   'TechSupport_No_internet_service',\n",
       "   'TechSupport_Yes',\n",
       "   'StreamingTV_No_internet_service',\n",
       "   'StreamingTV_Yes',\n",
       "   'Contract_One_year',\n",
       "   'Contract_Two_year'],\n",
       "  'Best: M1 f1': 0.6448484848484848,\n",
       "  'Best: M2 Included Features': ['PhoneService',\n",
       "   'TotalCharges',\n",
       "   'InternetService_Fiber_optic',\n",
       "   'InternetService_No',\n",
       "   'OnlineSecurity_No_internet_service',\n",
       "   'OnlineSecurity_Yes',\n",
       "   'DeviceProtection_No_internet_service',\n",
       "   'DeviceProtection_Yes',\n",
       "   'TechSupport_No_internet_service',\n",
       "   'TechSupport_Yes',\n",
       "   'Contract_One_year',\n",
       "   'Contract_Two_year',\n",
       "   'PaymentMethod_Credit_card_(automatic)',\n",
       "   'PaymentMethod_Electronic_check',\n",
       "   'PaymentMethod_Mailed_check'],\n",
       "  'Best: M2 f1': 0.6351039260969977,\n",
       "  'Best: Agreeability (cohen_kappa)': 0.7586305618513659,\n",
       "  'All: M1 Mean f1': 0.6240805280639584,\n",
       "  'All: M1 STD f1': 0.012673488656867137,\n",
       "  'All: M2 Mean f1': 0.6240842636087935,\n",
       "  'All: M2 STD f1': 0.0094898529492583,\n",
       "  'All: Mean Agreeability (cohen_kappa)': 0.7082187085761852,\n",
       "  'All: Agreeability St. Dev.': 0.04438714133396733},\n",
       " {'Best: M1 Included Features': ['Latitude',\n",
       "   'Gender',\n",
       "   'SeniorCitizen',\n",
       "   'PhoneService',\n",
       "   'CLTV',\n",
       "   'TechSupport_No_internet_service',\n",
       "   'TechSupport_Yes',\n",
       "   'Contract_One_year',\n",
       "   'Contract_Two_year'],\n",
       "  'Best: M1 f1': 0.6293206197854588,\n",
       "  'Best: M2 Included Features': ['PhoneService',\n",
       "   'InternetService_Fiber_optic',\n",
       "   'InternetService_No',\n",
       "   'OnlineSecurity_No_internet_service',\n",
       "   'OnlineSecurity_Yes',\n",
       "   'DeviceProtection_No_internet_service',\n",
       "   'DeviceProtection_Yes',\n",
       "   'TechSupport_No_internet_service',\n",
       "   'TechSupport_Yes',\n",
       "   'Contract_One_year',\n",
       "   'Contract_Two_year',\n",
       "   'PaymentMethod_Credit_card_(automatic)',\n",
       "   'PaymentMethod_Electronic_check',\n",
       "   'PaymentMethod_Mailed_check'],\n",
       "  'Best: M2 f1': 0.6366863905325444,\n",
       "  'Best: Agreeability (cohen_kappa)': 0.7719449638045929,\n",
       "  'All: M1 Mean f1': 0.6172338245459481,\n",
       "  'All: M1 STD f1': 0.009705058421547709,\n",
       "  'All: M2 Mean f1': 0.6225396205866777,\n",
       "  'All: M2 STD f1': 0.0122884003367322,\n",
       "  'All: Mean Agreeability (cohen_kappa)': 0.6891894278625839,\n",
       "  'All: Agreeability St. Dev.': 0.07476961436551402},\n",
       " {'Best: M1 Included Features': ['Gender',\n",
       "   'SeniorCitizen',\n",
       "   'PhoneService',\n",
       "   'CLTV',\n",
       "   'TechSupport_No_internet_service',\n",
       "   'TechSupport_Yes',\n",
       "   'Contract_One_year',\n",
       "   'Contract_Two_year'],\n",
       "  'Best: M1 f1': 0.6329723225030084,\n",
       "  'Best: M2 Included Features': ['PhoneService',\n",
       "   'InternetService_Fiber_optic',\n",
       "   'InternetService_No',\n",
       "   'OnlineSecurity_No_internet_service',\n",
       "   'OnlineSecurity_Yes',\n",
       "   'TechSupport_No_internet_service',\n",
       "   'TechSupport_Yes',\n",
       "   'Contract_One_year',\n",
       "   'Contract_Two_year',\n",
       "   'PaymentMethod_Credit_card_(automatic)',\n",
       "   'PaymentMethod_Electronic_check',\n",
       "   'PaymentMethod_Mailed_check'],\n",
       "  'Best: M2 f1': 0.6284403669724772,\n",
       "  'Best: Agreeability (cohen_kappa)': 0.6934339448826632,\n",
       "  'All: M1 Mean f1': 0.618089827644375,\n",
       "  'All: M1 STD f1': 0.009110838517276294,\n",
       "  'All: M2 Mean f1': 0.6158951489299592,\n",
       "  'All: M2 STD f1': 0.008290058923998742,\n",
       "  'All: Mean Agreeability (cohen_kappa)': 0.6822389236087106,\n",
       "  'All: Agreeability St. Dev.': 0.052853421597471535},\n",
       " {'Best: M1 Included Features': ['Gender',\n",
       "   'SeniorCitizen',\n",
       "   'PhoneService',\n",
       "   'CLTV',\n",
       "   'TechSupport_No_internet_service',\n",
       "   'TechSupport_Yes'],\n",
       "  'Best: M1 f1': 0.5965770171149144,\n",
       "  'Best: M2 Included Features': ['PhoneService',\n",
       "   'InternetService_Fiber_optic',\n",
       "   'InternetService_No',\n",
       "   'OnlineSecurity_No_internet_service',\n",
       "   'OnlineSecurity_Yes',\n",
       "   'TechSupport_No_internet_service',\n",
       "   'TechSupport_Yes',\n",
       "   'Contract_One_year',\n",
       "   'Contract_Two_year'],\n",
       "  'Best: M2 f1': 0.6330275229357799,\n",
       "  'Best: Agreeability (cohen_kappa)': 0.6420018128906062,\n",
       "  'All: M1 Mean f1': 0.5895355609131679,\n",
       "  'All: M1 STD f1': 0.007325834738463898,\n",
       "  'All: M2 Mean f1': 0.6134304479100324,\n",
       "  'All: M2 STD f1': 0.018646788632378133,\n",
       "  'All: Mean Agreeability (cohen_kappa)': 0.6286155042785936,\n",
       "  'All: Agreeability St. Dev.': 0.04184388534493951},\n",
       " {'Best: M1 Included Features': ['Gender',\n",
       "   'SeniorCitizen',\n",
       "   'PhoneService',\n",
       "   'TechSupport_No_internet_service',\n",
       "   'TechSupport_Yes'],\n",
       "  'Best: M1 f1': 0.5686746987951807,\n",
       "  'Best: M2 Included Features': ['PhoneService',\n",
       "   'InternetService_Fiber_optic',\n",
       "   'InternetService_No',\n",
       "   'OnlineSecurity_No_internet_service',\n",
       "   'OnlineSecurity_Yes',\n",
       "   'Contract_One_year',\n",
       "   'Contract_Two_year'],\n",
       "  'Best: M2 f1': 0.6274065685164213,\n",
       "  'Best: Agreeability (cohen_kappa)': 0.562522099010301,\n",
       "  'All: M1 Mean f1': 0.5528362047587435,\n",
       "  'All: M1 STD f1': 0.016891775453640564,\n",
       "  'All: M2 Mean f1': 0.6098772979824589,\n",
       "  'All: M2 STD f1': 0.012930880630908758,\n",
       "  'All: Mean Agreeability (cohen_kappa)': 0.5291169409932042,\n",
       "  'All: Agreeability St. Dev.': 0.0646516132473266},\n",
       " {'Best: M1 Included Features': ['Gender',\n",
       "   'SeniorCitizen',\n",
       "   'TechSupport_No_internet_service',\n",
       "   'TechSupport_Yes'],\n",
       "  'Best: M1 f1': 0.5586854460093896,\n",
       "  'Best: M2 Included Features': ['PhoneService',\n",
       "   'InternetService_Fiber_optic',\n",
       "   'InternetService_No',\n",
       "   'Contract_One_year',\n",
       "   'Contract_Two_year'],\n",
       "  'Best: M2 f1': 0.6106382978723405,\n",
       "  'Best: Agreeability (cohen_kappa)': 0.49533715925394556,\n",
       "  'All: M1 Mean f1': 0.5180063234288258,\n",
       "  'All: M1 STD f1': 0.05050554883375472,\n",
       "  'All: M2 Mean f1': 0.5896459871294901,\n",
       "  'All: M2 STD f1': 0.01617635383611095,\n",
       "  'All: Mean Agreeability (cohen_kappa)': 0.42528804441286155,\n",
       "  'All: Agreeability St. Dev.': 0.0667836050366915},\n",
       " {'Best: M1 Included Features': ['Gender', 'SeniorCitizen'],\n",
       "  'Best: M1 f1': 0.5120551090700345,\n",
       "  'Best: M2 Included Features': ['PhoneService',\n",
       "   'Contract_One_year',\n",
       "   'Contract_Two_year'],\n",
       "  'Best: M2 f1': 0.6086105675146771,\n",
       "  'Best: Agreeability (cohen_kappa)': 0.4038586448126153,\n",
       "  'All: M1 Mean f1': 0.47520038524501745,\n",
       "  'All: M1 STD f1': 0.039441985326034205,\n",
       "  'All: M2 Mean f1': 0.5904851250329934,\n",
       "  'All: M2 STD f1': 0.015336774539680662,\n",
       "  'All: Mean Agreeability (cohen_kappa)': 0.3544185086288123,\n",
       "  'All: Agreeability St. Dev.': 0.054866640588673715},\n",
       " {'Best: M1 Included Features': ['SeniorCitizen'],\n",
       "  'Best: M1 f1': 0.3758519961051607,\n",
       "  'Best: M2 Included Features': ['Contract_One_year', 'Contract_Two_year'],\n",
       "  'Best: M2 f1': 0.5818181818181819,\n",
       "  'Best: Agreeability (cohen_kappa)': 0.14547462607587133,\n",
       "  'All: M1 Mean f1': 0.35666735351592754,\n",
       "  'All: M1 STD f1': 0.019184642589233136,\n",
       "  'All: M2 Mean f1': nan,\n",
       "  'All: M2 STD f1': nan,\n",
       "  'All: Mean Agreeability (cohen_kappa)': 0.07273731303793567,\n",
       "  'All: Agreeability St. Dev.': 0.07273731303793567}]"
      ]
     },
     "execution_count": 22,
     "metadata": {},
     "output_type": "execute_result"
    }
   ],
   "source": [
    "results"
   ]
  },
  {
   "cell_type": "code",
   "execution_count": 23,
   "metadata": {},
   "outputs": [],
   "source": [
    "results_df = seeker.dataframe_from_results()"
   ]
  },
  {
   "cell_type": "code",
   "execution_count": 29,
   "metadata": {},
   "outputs": [
    {
     "data": {
      "text/plain": [
       "Best: M1 Included Features              [Latitude, Longitude, Gender, SeniorCitizen, P...\n",
       "Best: M1 f1                                                                      0.618611\n",
       "Best: M2 Included Features              [Latitude, Longitude, Gender, SeniorCitizen, P...\n",
       "Best: M2 f1                                                                      0.423358\n",
       "Best: Agreeability (cohen_kappa)                                                 0.001614\n",
       "All: M1 Mean f1                                                                  0.618611\n",
       "All: M1 STD f1                                                                        0.0\n",
       "All: M2 Mean f1                                                                  0.423358\n",
       "All: M2 STD f1                                                                        0.0\n",
       "All: Mean Agreeability (cohen_kappa)                                             0.001614\n",
       "All: Agreeability St. Dev.                                                            0.0\n",
       "Name: 0, dtype: object"
      ]
     },
     "execution_count": 29,
     "metadata": {},
     "output_type": "execute_result"
    }
   ],
   "source": [
    "results_df.iloc[0]"
   ]
  },
  {
   "cell_type": "code",
   "execution_count": 25,
   "metadata": {},
   "outputs": [
    {
     "data": {
      "application/vnd.plotly.v1+json": {
       "config": {
        "plotlyServerURL": "https://plot.ly"
       },
       "data": [
        {
         "hoverinfo": "text",
         "hovertext": [
          "<br> Best: Agreeability (cohen_kappa): <br> 0.0016 <br> All: Mean Agreeability (cohen_kappa): <br> 0.0016 <br> All: Agreeability St. Dev.: <br> 0.0000",
          "<br> Best: Agreeability (cohen_kappa): <br> 0.7541 <br> All: Mean Agreeability (cohen_kappa): <br> 0.1012 <br> All: Agreeability St. Dev.: <br> 0.1629",
          "<br> Best: Agreeability (cohen_kappa): <br> 0.7393 <br> All: Mean Agreeability (cohen_kappa): <br> 0.6120 <br> All: Agreeability St. Dev.: <br> 0.1018",
          "<br> Best: Agreeability (cohen_kappa): <br> 0.7417 <br> All: Mean Agreeability (cohen_kappa): <br> 0.6498 <br> All: Agreeability St. Dev.: <br> 0.0690",
          "<br> Best: Agreeability (cohen_kappa): <br> 0.7282 <br> All: Mean Agreeability (cohen_kappa): <br> 0.6362 <br> All: Agreeability St. Dev.: <br> 0.0870",
          "<br> Best: Agreeability (cohen_kappa): <br> 0.7497 <br> All: Mean Agreeability (cohen_kappa): <br> 0.6428 <br> All: Agreeability St. Dev.: <br> 0.0746",
          "<br> Best: Agreeability (cohen_kappa): <br> 0.7500 <br> All: Mean Agreeability (cohen_kappa): <br> 0.6351 <br> All: Agreeability St. Dev.: <br> 0.0904",
          "<br> Best: Agreeability (cohen_kappa): <br> 0.7054 <br> All: Mean Agreeability (cohen_kappa): <br> 0.6383 <br> All: Agreeability St. Dev.: <br> 0.0862",
          "<br> Best: Agreeability (cohen_kappa): <br> 0.7440 <br> All: Mean Agreeability (cohen_kappa): <br> 0.6994 <br> All: Agreeability St. Dev.: <br> 0.0551",
          "<br> Best: Agreeability (cohen_kappa): <br> 0.7499 <br> All: Mean Agreeability (cohen_kappa): <br> 0.7026 <br> All: Agreeability St. Dev.: <br> 0.0380",
          "<br> Best: Agreeability (cohen_kappa): <br> 0.7399 <br> All: Mean Agreeability (cohen_kappa): <br> 0.6959 <br> All: Agreeability St. Dev.: <br> 0.0486",
          "<br> Best: Agreeability (cohen_kappa): <br> 0.7375 <br> All: Mean Agreeability (cohen_kappa): <br> 0.6973 <br> All: Agreeability St. Dev.: <br> 0.0397",
          "<br> Best: Agreeability (cohen_kappa): <br> 0.7383 <br> All: Mean Agreeability (cohen_kappa): <br> 0.6921 <br> All: Agreeability St. Dev.: <br> 0.0469",
          "<br> Best: Agreeability (cohen_kappa): <br> 0.7621 <br> All: Mean Agreeability (cohen_kappa): <br> 0.6930 <br> All: Agreeability St. Dev.: <br> 0.0421",
          "<br> Best: Agreeability (cohen_kappa): <br> 0.7586 <br> All: Mean Agreeability (cohen_kappa): <br> 0.7082 <br> All: Agreeability St. Dev.: <br> 0.0444",
          "<br> Best: Agreeability (cohen_kappa): <br> 0.7719 <br> All: Mean Agreeability (cohen_kappa): <br> 0.6892 <br> All: Agreeability St. Dev.: <br> 0.0748",
          "<br> Best: Agreeability (cohen_kappa): <br> 0.6934 <br> All: Mean Agreeability (cohen_kappa): <br> 0.6822 <br> All: Agreeability St. Dev.: <br> 0.0529",
          "<br> Best: Agreeability (cohen_kappa): <br> 0.6420 <br> All: Mean Agreeability (cohen_kappa): <br> 0.6286 <br> All: Agreeability St. Dev.: <br> 0.0418",
          "<br> Best: Agreeability (cohen_kappa): <br> 0.5625 <br> All: Mean Agreeability (cohen_kappa): <br> 0.5291 <br> All: Agreeability St. Dev.: <br> 0.0647",
          "<br> Best: Agreeability (cohen_kappa): <br> 0.4953 <br> All: Mean Agreeability (cohen_kappa): <br> 0.4253 <br> All: Agreeability St. Dev.: <br> 0.0668",
          "<br> Best: Agreeability (cohen_kappa): <br> 0.4039 <br> All: Mean Agreeability (cohen_kappa): <br> 0.3544 <br> All: Agreeability St. Dev.: <br> 0.0549",
          "<br> Best: Agreeability (cohen_kappa): <br> 0.1455 <br> All: Mean Agreeability (cohen_kappa): <br> 0.0727 <br> All: Agreeability St. Dev.: <br> 0.0727"
         ],
         "mode": "lines+markers",
         "name": "Best: Agreeability (cohen_kappa)",
         "type": "scatter",
         "x": [
          1,
          2,
          3,
          4,
          5,
          6,
          7,
          8,
          9,
          10,
          11,
          12,
          13,
          14,
          15,
          16,
          17,
          18,
          19,
          20,
          21,
          22
         ],
         "xaxis": "x",
         "y": [
          0.0016143400235041213,
          0.7540504875666227,
          0.7393014110571362,
          0.7417356714585235,
          0.7281553398058251,
          0.7496773856854131,
          0.7499641165494474,
          0.7053895380968019,
          0.7440037468878644,
          0.7499047764150226,
          0.7399398409493593,
          0.7375447076666044,
          0.7383305320566019,
          0.7621457076869088,
          0.7586305618513659,
          0.7719449638045929,
          0.6934339448826632,
          0.6420018128906062,
          0.562522099010301,
          0.49533715925394556,
          0.4038586448126153,
          0.14547462607587133
         ],
         "yaxis": "y"
        },
        {
         "hoverinfo": "text",
         "hovertext": [
          "<br> Best: M1 f1: <br> 0.6186 <br> Best: M1 Included Features: <br> Latitude, Longitude, Gender, SeniorCitizen, Partner, Dependents, TenureMonths, PhoneService, PaperlessBilling, MonthlyCharges, TotalCharges, CLTV, MultipleLines_No_phone_service, MultipleLines_Yes, InternetService_Fiber_optic, InternetService_No, OnlineSecurity_No_internet_service, OnlineSecurity_Yes, OnlineBackup_No_internet_service, OnlineBackup_Yes, DeviceProtection_No_internet_service, DeviceProtection_Yes, TechSupport_No_internet_service, TechSupport_Yes, StreamingTV_No_internet_service, StreamingTV_Yes, StreamingMovies_No_internet_service, StreamingMovies_Yes, Contract_One_year, Contract_Two_year, PaymentMethod_Credit_card_(automatic), PaymentMethod_Electronic_check, PaymentMethod_Mailed_check <br> All: M1 Mean f1: <br> 0.6186 <br> All: M1 STD f1: <br> 0.0000",
          "<br> Best: M1 f1: <br> 0.6286 <br> Best: M1 Included Features: <br> Latitude, Longitude, Gender, SeniorCitizen, Partner, Dependents, TenureMonths, PhoneService, PaperlessBilling, MonthlyCharges, TotalCharges, CLTV, MultipleLines_No_phone_service, MultipleLines_Yes, InternetService_Fiber_optic, InternetService_No, OnlineSecurity_No_internet_service, OnlineSecurity_Yes, DeviceProtection_No_internet_service, DeviceProtection_Yes, TechSupport_No_internet_service, TechSupport_Yes, StreamingTV_No_internet_service, StreamingTV_Yes, StreamingMovies_No_internet_service, StreamingMovies_Yes, Contract_One_year, Contract_Two_year, PaymentMethod_Credit_card_(automatic), PaymentMethod_Electronic_check, PaymentMethod_Mailed_check <br> All: M1 Mean f1: <br> 0.6114 <br> All: M1 STD f1: <br> 0.0109",
          "<br> Best: M1 f1: <br> 0.6264 <br> Best: M1 Included Features: <br> Latitude, Gender, SeniorCitizen, Partner, Dependents, TenureMonths, PhoneService, PaperlessBilling, MonthlyCharges, TotalCharges, CLTV, MultipleLines_No_phone_service, MultipleLines_Yes, InternetService_Fiber_optic, InternetService_No, OnlineSecurity_No_internet_service, OnlineSecurity_Yes, DeviceProtection_No_internet_service, DeviceProtection_Yes, TechSupport_No_internet_service, TechSupport_Yes, StreamingTV_No_internet_service, StreamingTV_Yes, StreamingMovies_No_internet_service, StreamingMovies_Yes, Contract_One_year, Contract_Two_year, PaymentMethod_Credit_card_(automatic), PaymentMethod_Electronic_check, PaymentMethod_Mailed_check <br> All: M1 Mean f1: <br> 0.6092 <br> All: M1 STD f1: <br> 0.0103",
          "<br> Best: M1 f1: <br> 0.6208 <br> Best: M1 Included Features: <br> Latitude, Gender, SeniorCitizen, Partner, TenureMonths, PhoneService, PaperlessBilling, MonthlyCharges, TotalCharges, CLTV, MultipleLines_No_phone_service, MultipleLines_Yes, InternetService_Fiber_optic, InternetService_No, OnlineSecurity_No_internet_service, OnlineSecurity_Yes, DeviceProtection_No_internet_service, DeviceProtection_Yes, TechSupport_No_internet_service, TechSupport_Yes, StreamingTV_No_internet_service, StreamingTV_Yes, StreamingMovies_No_internet_service, StreamingMovies_Yes, Contract_One_year, Contract_Two_year, PaymentMethod_Credit_card_(automatic), PaymentMethod_Electronic_check, PaymentMethod_Mailed_check <br> All: M1 Mean f1: <br> 0.6114 <br> All: M1 STD f1: <br> 0.0063",
          "<br> Best: M1 f1: <br> 0.6316 <br> Best: M1 Included Features: <br> Latitude, Gender, SeniorCitizen, Partner, TenureMonths, PhoneService, PaperlessBilling, MonthlyCharges, TotalCharges, CLTV, MultipleLines_No_phone_service, MultipleLines_Yes, OnlineSecurity_No_internet_service, OnlineSecurity_Yes, DeviceProtection_No_internet_service, DeviceProtection_Yes, TechSupport_No_internet_service, TechSupport_Yes, StreamingTV_No_internet_service, StreamingTV_Yes, StreamingMovies_No_internet_service, StreamingMovies_Yes, Contract_One_year, Contract_Two_year, PaymentMethod_Credit_card_(automatic), PaymentMethod_Electronic_check, PaymentMethod_Mailed_check <br> All: M1 Mean f1: <br> 0.6140 <br> All: M1 STD f1: <br> 0.0105",
          "<br> Best: M1 f1: <br> 0.6298 <br> Best: M1 Included Features: <br> Latitude, Gender, SeniorCitizen, TenureMonths, PhoneService, PaperlessBilling, MonthlyCharges, TotalCharges, CLTV, MultipleLines_No_phone_service, MultipleLines_Yes, OnlineSecurity_No_internet_service, OnlineSecurity_Yes, DeviceProtection_No_internet_service, DeviceProtection_Yes, TechSupport_No_internet_service, TechSupport_Yes, StreamingTV_No_internet_service, StreamingTV_Yes, StreamingMovies_No_internet_service, StreamingMovies_Yes, Contract_One_year, Contract_Two_year, PaymentMethod_Credit_card_(automatic), PaymentMethod_Electronic_check, PaymentMethod_Mailed_check <br> All: M1 Mean f1: <br> 0.6103 <br> All: M1 STD f1: <br> 0.0127",
          "<br> Best: M1 f1: <br> 0.6393 <br> Best: M1 Included Features: <br> Latitude, Gender, SeniorCitizen, TenureMonths, PhoneService, PaperlessBilling, MonthlyCharges, TotalCharges, CLTV, MultipleLines_No_phone_service, MultipleLines_Yes, DeviceProtection_No_internet_service, DeviceProtection_Yes, TechSupport_No_internet_service, TechSupport_Yes, StreamingTV_No_internet_service, StreamingTV_Yes, StreamingMovies_No_internet_service, StreamingMovies_Yes, Contract_One_year, Contract_Two_year, PaymentMethod_Credit_card_(automatic), PaymentMethod_Electronic_check, PaymentMethod_Mailed_check <br> All: M1 Mean f1: <br> 0.6145 <br> All: M1 STD f1: <br> 0.0145",
          "<br> Best: M1 f1: <br> 0.6418 <br> Best: M1 Included Features: <br> Latitude, Gender, SeniorCitizen, TenureMonths, PhoneService, PaperlessBilling, TotalCharges, CLTV, MultipleLines_No_phone_service, MultipleLines_Yes, DeviceProtection_No_internet_service, DeviceProtection_Yes, TechSupport_No_internet_service, TechSupport_Yes, StreamingTV_No_internet_service, StreamingTV_Yes, StreamingMovies_No_internet_service, StreamingMovies_Yes, Contract_One_year, Contract_Two_year, PaymentMethod_Credit_card_(automatic), PaymentMethod_Electronic_check, PaymentMethod_Mailed_check <br> All: M1 Mean f1: <br> 0.6260 <br> All: M1 STD f1: <br> 0.0144",
          "<br> Best: M1 f1: <br> 0.6351 <br> Best: M1 Included Features: <br> Latitude, Gender, SeniorCitizen, TenureMonths, PhoneService, PaperlessBilling, TotalCharges, CLTV, MultipleLines_No_phone_service, MultipleLines_Yes, DeviceProtection_No_internet_service, DeviceProtection_Yes, TechSupport_No_internet_service, TechSupport_Yes, StreamingTV_No_internet_service, StreamingTV_Yes, Contract_One_year, Contract_Two_year, PaymentMethod_Credit_card_(automatic), PaymentMethod_Electronic_check, PaymentMethod_Mailed_check <br> All: M1 Mean f1: <br> 0.6222 <br> All: M1 STD f1: <br> 0.0135",
          "<br> Best: M1 f1: <br> 0.6460 <br> Best: M1 Included Features: <br> Latitude, Gender, SeniorCitizen, TenureMonths, PhoneService, PaperlessBilling, CLTV, MultipleLines_No_phone_service, MultipleLines_Yes, DeviceProtection_No_internet_service, DeviceProtection_Yes, TechSupport_No_internet_service, TechSupport_Yes, StreamingTV_No_internet_service, StreamingTV_Yes, Contract_One_year, Contract_Two_year, PaymentMethod_Credit_card_(automatic), PaymentMethod_Electronic_check, PaymentMethod_Mailed_check <br> All: M1 Mean f1: <br> 0.6181 <br> All: M1 STD f1: <br> 0.0145",
          "<br> Best: M1 f1: <br> 0.6486 <br> Best: M1 Included Features: <br> Latitude, Gender, SeniorCitizen, TenureMonths, PhoneService, CLTV, MultipleLines_No_phone_service, MultipleLines_Yes, DeviceProtection_No_internet_service, DeviceProtection_Yes, TechSupport_No_internet_service, TechSupport_Yes, StreamingTV_No_internet_service, StreamingTV_Yes, Contract_One_year, Contract_Two_year, PaymentMethod_Credit_card_(automatic), PaymentMethod_Electronic_check, PaymentMethod_Mailed_check <br> All: M1 Mean f1: <br> 0.6252 <br> All: M1 STD f1: <br> 0.0115",
          "<br> Best: M1 f1: <br> 0.6534 <br> Best: M1 Included Features: <br> Latitude, Gender, SeniorCitizen, PhoneService, CLTV, MultipleLines_No_phone_service, MultipleLines_Yes, DeviceProtection_No_internet_service, DeviceProtection_Yes, TechSupport_No_internet_service, TechSupport_Yes, StreamingTV_No_internet_service, StreamingTV_Yes, Contract_One_year, Contract_Two_year, PaymentMethod_Credit_card_(automatic), PaymentMethod_Electronic_check, PaymentMethod_Mailed_check <br> All: M1 Mean f1: <br> 0.6237 <br> All: M1 STD f1: <br> 0.0159",
          "<br> Best: M1 f1: <br> 0.6434 <br> Best: M1 Included Features: <br> Latitude, Gender, SeniorCitizen, PhoneService, CLTV, DeviceProtection_No_internet_service, DeviceProtection_Yes, TechSupport_No_internet_service, TechSupport_Yes, StreamingTV_No_internet_service, StreamingTV_Yes, Contract_One_year, Contract_Two_year, PaymentMethod_Credit_card_(automatic), PaymentMethod_Electronic_check, PaymentMethod_Mailed_check <br> All: M1 Mean f1: <br> 0.6184 <br> All: M1 STD f1: <br> 0.0180",
          "<br> Best: M1 f1: <br> 0.6448 <br> Best: M1 Included Features: <br> Latitude, Gender, SeniorCitizen, PhoneService, CLTV, DeviceProtection_No_internet_service, DeviceProtection_Yes, TechSupport_No_internet_service, TechSupport_Yes, StreamingTV_No_internet_service, StreamingTV_Yes, Contract_One_year, Contract_Two_year <br> All: M1 Mean f1: <br> 0.6198 <br> All: M1 STD f1: <br> 0.0196",
          "<br> Best: M1 f1: <br> 0.6448 <br> Best: M1 Included Features: <br> Latitude, Gender, SeniorCitizen, PhoneService, CLTV, TechSupport_No_internet_service, TechSupport_Yes, StreamingTV_No_internet_service, StreamingTV_Yes, Contract_One_year, Contract_Two_year <br> All: M1 Mean f1: <br> 0.6241 <br> All: M1 STD f1: <br> 0.0127",
          "<br> Best: M1 f1: <br> 0.6293 <br> Best: M1 Included Features: <br> Latitude, Gender, SeniorCitizen, PhoneService, CLTV, TechSupport_No_internet_service, TechSupport_Yes, Contract_One_year, Contract_Two_year <br> All: M1 Mean f1: <br> 0.6172 <br> All: M1 STD f1: <br> 0.0097",
          "<br> Best: M1 f1: <br> 0.6330 <br> Best: M1 Included Features: <br> Gender, SeniorCitizen, PhoneService, CLTV, TechSupport_No_internet_service, TechSupport_Yes, Contract_One_year, Contract_Two_year <br> All: M1 Mean f1: <br> 0.6181 <br> All: M1 STD f1: <br> 0.0091",
          "<br> Best: M1 f1: <br> 0.5966 <br> Best: M1 Included Features: <br> Gender, SeniorCitizen, PhoneService, CLTV, TechSupport_No_internet_service, TechSupport_Yes <br> All: M1 Mean f1: <br> 0.5895 <br> All: M1 STD f1: <br> 0.0073",
          "<br> Best: M1 f1: <br> 0.5687 <br> Best: M1 Included Features: <br> Gender, SeniorCitizen, PhoneService, TechSupport_No_internet_service, TechSupport_Yes <br> All: M1 Mean f1: <br> 0.5528 <br> All: M1 STD f1: <br> 0.0169",
          "<br> Best: M1 f1: <br> 0.5587 <br> Best: M1 Included Features: <br> Gender, SeniorCitizen, TechSupport_No_internet_service, TechSupport_Yes <br> All: M1 Mean f1: <br> 0.5180 <br> All: M1 STD f1: <br> 0.0505",
          "<br> Best: M1 f1: <br> 0.5121 <br> Best: M1 Included Features: <br> Gender, SeniorCitizen <br> All: M1 Mean f1: <br> 0.4752 <br> All: M1 STD f1: <br> 0.0394",
          "<br> Best: M1 f1: <br> 0.3759 <br> Best: M1 Included Features: <br> SeniorCitizen <br> All: M1 Mean f1: <br> 0.3567 <br> All: M1 STD f1: <br> 0.0192"
         ],
         "mode": "lines+markers",
         "name": "Best: M1 f1",
         "type": "scatter",
         "x": [
          1,
          2,
          3,
          4,
          5,
          6,
          7,
          8,
          9,
          10,
          11,
          12,
          13,
          14,
          15,
          16,
          17,
          18,
          19,
          20,
          21,
          22
         ],
         "xaxis": "x",
         "y": [
          0.618610747051114,
          0.6286438529784537,
          0.6264441591784339,
          0.6207792207792209,
          0.631578947368421,
          0.6298200514138816,
          0.6393034825870647,
          0.6417910447761195,
          0.635118306351183,
          0.6460396039603961,
          0.6485819975339088,
          0.6533665835411471,
          0.6433915211970074,
          0.6448484848484848,
          0.6448484848484848,
          0.6293206197854588,
          0.6329723225030084,
          0.5965770171149144,
          0.5686746987951807,
          0.5586854460093896,
          0.5120551090700345,
          0.3758519961051607
         ],
         "yaxis": "y2"
        },
        {
         "hoverinfo": "text",
         "hovertext": [
          "<br> Best: M2 f1: <br> 0.4234 <br> Best: M2 Included Features: <br> Latitude, Longitude, Gender, SeniorCitizen, Partner, Dependents, TenureMonths, PhoneService, PaperlessBilling, MonthlyCharges, TotalCharges, CLTV, MultipleLines_No_phone_service, MultipleLines_Yes, InternetService_Fiber_optic, InternetService_No, OnlineSecurity_No_internet_service, OnlineSecurity_Yes, OnlineBackup_No_internet_service, OnlineBackup_Yes, DeviceProtection_No_internet_service, DeviceProtection_Yes, TechSupport_No_internet_service, TechSupport_Yes, StreamingTV_No_internet_service, StreamingTV_Yes, StreamingMovies_No_internet_service, StreamingMovies_Yes, Contract_One_year, Contract_Two_year, PaymentMethod_Credit_card_(automatic), PaymentMethod_Electronic_check, PaymentMethod_Mailed_check <br> All: M2 Mean f1: <br> 0.4234 <br> All: M2 STD f1: <br> 0.0000",
          "<br> Best: M2 f1: <br> 0.6290 <br> Best: M2 Included Features: <br> Latitude, Longitude, Gender, SeniorCitizen, Partner, Dependents, TenureMonths, PhoneService, PaperlessBilling, MonthlyCharges, TotalCharges, MultipleLines_No_phone_service, MultipleLines_Yes, InternetService_Fiber_optic, InternetService_No, OnlineSecurity_No_internet_service, OnlineSecurity_Yes, OnlineBackup_No_internet_service, OnlineBackup_Yes, DeviceProtection_No_internet_service, DeviceProtection_Yes, TechSupport_No_internet_service, TechSupport_Yes, StreamingTV_No_internet_service, StreamingTV_Yes, StreamingMovies_No_internet_service, StreamingMovies_Yes, Contract_One_year, Contract_Two_year, PaymentMethod_Credit_card_(automatic), PaymentMethod_Electronic_check, PaymentMethod_Mailed_check <br> All: M2 Mean f1: <br> 0.4562 <br> All: M2 STD f1: <br> 0.0479",
          "<br> Best: M2 f1: <br> 0.6386 <br> Best: M2 Included Features: <br> Latitude, Longitude, Gender, SeniorCitizen, Partner, Dependents, TenureMonths, PhoneService, PaperlessBilling, MonthlyCharges, TotalCharges, MultipleLines_No_phone_service, MultipleLines_Yes, InternetService_Fiber_optic, InternetService_No, OnlineSecurity_No_internet_service, OnlineSecurity_Yes, OnlineBackup_No_internet_service, OnlineBackup_Yes, DeviceProtection_No_internet_service, DeviceProtection_Yes, TechSupport_No_internet_service, TechSupport_Yes, StreamingMovies_No_internet_service, StreamingMovies_Yes, Contract_One_year, Contract_Two_year, PaymentMethod_Credit_card_(automatic), PaymentMethod_Electronic_check, PaymentMethod_Mailed_check <br> All: M2 Mean f1: <br> 0.6018 <br> All: M2 STD f1: <br> 0.0291",
          "<br> Best: M2 f1: <br> 0.6385 <br> Best: M2 Included Features: <br> Latitude, Longitude, Gender, SeniorCitizen, Partner, Dependents, PhoneService, PaperlessBilling, MonthlyCharges, TotalCharges, MultipleLines_No_phone_service, MultipleLines_Yes, InternetService_Fiber_optic, InternetService_No, OnlineSecurity_No_internet_service, OnlineSecurity_Yes, OnlineBackup_No_internet_service, OnlineBackup_Yes, DeviceProtection_No_internet_service, DeviceProtection_Yes, TechSupport_No_internet_service, TechSupport_Yes, StreamingMovies_No_internet_service, StreamingMovies_Yes, Contract_One_year, Contract_Two_year, PaymentMethod_Credit_card_(automatic), PaymentMethod_Electronic_check, PaymentMethod_Mailed_check <br> All: M2 Mean f1: <br> 0.6148 <br> All: M2 STD f1: <br> 0.0163",
          "<br> Best: M2 f1: <br> 0.6447 <br> Best: M2 Included Features: <br> Latitude, Longitude, Gender, SeniorCitizen, Partner, Dependents, PhoneService, PaperlessBilling, MonthlyCharges, TotalCharges, MultipleLines_No_phone_service, MultipleLines_Yes, InternetService_Fiber_optic, InternetService_No, OnlineSecurity_No_internet_service, OnlineSecurity_Yes, DeviceProtection_No_internet_service, DeviceProtection_Yes, TechSupport_No_internet_service, TechSupport_Yes, StreamingMovies_No_internet_service, StreamingMovies_Yes, Contract_One_year, Contract_Two_year, PaymentMethod_Credit_card_(automatic), PaymentMethod_Electronic_check, PaymentMethod_Mailed_check <br> All: M2 Mean f1: <br> 0.6092 <br> All: M2 STD f1: <br> 0.0267",
          "<br> Best: M2 f1: <br> 0.6420 <br> Best: M2 Included Features: <br> Latitude, Longitude, Gender, Partner, Dependents, PhoneService, PaperlessBilling, MonthlyCharges, TotalCharges, MultipleLines_No_phone_service, MultipleLines_Yes, InternetService_Fiber_optic, InternetService_No, OnlineSecurity_No_internet_service, OnlineSecurity_Yes, DeviceProtection_No_internet_service, DeviceProtection_Yes, TechSupport_No_internet_service, TechSupport_Yes, StreamingMovies_No_internet_service, StreamingMovies_Yes, Contract_One_year, Contract_Two_year, PaymentMethod_Credit_card_(automatic), PaymentMethod_Electronic_check, PaymentMethod_Mailed_check <br> All: M2 Mean f1: <br> 0.6137 <br> All: M2 STD f1: <br> 0.0192",
          "<br> Best: M2 f1: <br> 0.6355 <br> Best: M2 Included Features: <br> Longitude, Gender, Partner, Dependents, PhoneService, PaperlessBilling, MonthlyCharges, TotalCharges, MultipleLines_No_phone_service, MultipleLines_Yes, InternetService_Fiber_optic, InternetService_No, OnlineSecurity_No_internet_service, OnlineSecurity_Yes, DeviceProtection_No_internet_service, DeviceProtection_Yes, TechSupport_No_internet_service, TechSupport_Yes, StreamingMovies_No_internet_service, StreamingMovies_Yes, Contract_One_year, Contract_Two_year, PaymentMethod_Credit_card_(automatic), PaymentMethod_Electronic_check, PaymentMethod_Mailed_check <br> All: M2 Mean f1: <br> 0.6094 <br> All: M2 STD f1: <br> 0.0244",
          "<br> Best: M2 f1: <br> 0.6383 <br> Best: M2 Included Features: <br> Longitude, Gender, Partner, Dependents, PhoneService, MonthlyCharges, TotalCharges, MultipleLines_No_phone_service, MultipleLines_Yes, InternetService_Fiber_optic, InternetService_No, OnlineSecurity_No_internet_service, OnlineSecurity_Yes, DeviceProtection_No_internet_service, DeviceProtection_Yes, TechSupport_No_internet_service, TechSupport_Yes, StreamingMovies_No_internet_service, StreamingMovies_Yes, Contract_One_year, Contract_Two_year, PaymentMethod_Credit_card_(automatic), PaymentMethod_Electronic_check, PaymentMethod_Mailed_check <br> All: M2 Mean f1: <br> 0.6109 <br> All: M2 STD f1: <br> 0.0243",
          "<br> Best: M2 f1: <br> 0.6346 <br> Best: M2 Included Features: <br> Longitude, Gender, Partner, Dependents, PhoneService, TotalCharges, MultipleLines_No_phone_service, MultipleLines_Yes, InternetService_Fiber_optic, InternetService_No, OnlineSecurity_No_internet_service, OnlineSecurity_Yes, DeviceProtection_No_internet_service, DeviceProtection_Yes, TechSupport_No_internet_service, TechSupport_Yes, StreamingMovies_No_internet_service, StreamingMovies_Yes, Contract_One_year, Contract_Two_year, PaymentMethod_Credit_card_(automatic), PaymentMethod_Electronic_check, PaymentMethod_Mailed_check <br> All: M2 Mean f1: <br> 0.6234 <br> All: M2 STD f1: <br> 0.0116",
          "<br> Best: M2 f1: <br> 0.6347 <br> Best: M2 Included Features: <br> Gender, Partner, Dependents, PhoneService, TotalCharges, MultipleLines_No_phone_service, MultipleLines_Yes, InternetService_Fiber_optic, InternetService_No, OnlineSecurity_No_internet_service, OnlineSecurity_Yes, DeviceProtection_No_internet_service, DeviceProtection_Yes, TechSupport_No_internet_service, TechSupport_Yes, StreamingMovies_No_internet_service, StreamingMovies_Yes, Contract_One_year, Contract_Two_year, PaymentMethod_Credit_card_(automatic), PaymentMethod_Electronic_check, PaymentMethod_Mailed_check <br> All: M2 Mean f1: <br> 0.6205 <br> All: M2 STD f1: <br> 0.0116",
          "<br> Best: M2 f1: <br> 0.6317 <br> Best: M2 Included Features: <br> Gender, Partner, Dependents, PhoneService, TotalCharges, InternetService_Fiber_optic, InternetService_No, OnlineSecurity_No_internet_service, OnlineSecurity_Yes, DeviceProtection_No_internet_service, DeviceProtection_Yes, TechSupport_No_internet_service, TechSupport_Yes, StreamingMovies_No_internet_service, StreamingMovies_Yes, Contract_One_year, Contract_Two_year, PaymentMethod_Credit_card_(automatic), PaymentMethod_Electronic_check, PaymentMethod_Mailed_check <br> All: M2 Mean f1: <br> 0.6175 <br> All: M2 STD f1: <br> 0.0114",
          "<br> Best: M2 f1: <br> 0.6354 <br> Best: M2 Included Features: <br> Gender, Dependents, PhoneService, TotalCharges, InternetService_Fiber_optic, InternetService_No, OnlineSecurity_No_internet_service, OnlineSecurity_Yes, DeviceProtection_No_internet_service, DeviceProtection_Yes, TechSupport_No_internet_service, TechSupport_Yes, StreamingMovies_No_internet_service, StreamingMovies_Yes, Contract_One_year, Contract_Two_year, PaymentMethod_Credit_card_(automatic), PaymentMethod_Electronic_check, PaymentMethod_Mailed_check <br> All: M2 Mean f1: <br> 0.6250 <br> All: M2 STD f1: <br> 0.0074",
          "<br> Best: M2 f1: <br> 0.6392 <br> Best: M2 Included Features: <br> Gender, Dependents, PhoneService, TotalCharges, InternetService_Fiber_optic, InternetService_No, OnlineSecurity_No_internet_service, OnlineSecurity_Yes, DeviceProtection_No_internet_service, DeviceProtection_Yes, TechSupport_No_internet_service, TechSupport_Yes, Contract_One_year, Contract_Two_year, PaymentMethod_Credit_card_(automatic), PaymentMethod_Electronic_check, PaymentMethod_Mailed_check <br> All: M2 Mean f1: <br> 0.6219 <br> All: M2 STD f1: <br> 0.0129",
          "<br> Best: M2 f1: <br> 0.6350 <br> Best: M2 Included Features: <br> Dependents, PhoneService, TotalCharges, InternetService_Fiber_optic, InternetService_No, OnlineSecurity_No_internet_service, OnlineSecurity_Yes, DeviceProtection_No_internet_service, DeviceProtection_Yes, TechSupport_No_internet_service, TechSupport_Yes, Contract_One_year, Contract_Two_year, PaymentMethod_Credit_card_(automatic), PaymentMethod_Electronic_check, PaymentMethod_Mailed_check <br> All: M2 Mean f1: <br> 0.6217 <br> All: M2 STD f1: <br> 0.0081",
          "<br> Best: M2 f1: <br> 0.6351 <br> Best: M2 Included Features: <br> PhoneService, TotalCharges, InternetService_Fiber_optic, InternetService_No, OnlineSecurity_No_internet_service, OnlineSecurity_Yes, DeviceProtection_No_internet_service, DeviceProtection_Yes, TechSupport_No_internet_service, TechSupport_Yes, Contract_One_year, Contract_Two_year, PaymentMethod_Credit_card_(automatic), PaymentMethod_Electronic_check, PaymentMethod_Mailed_check <br> All: M2 Mean f1: <br> 0.6241 <br> All: M2 STD f1: <br> 0.0095",
          "<br> Best: M2 f1: <br> 0.6367 <br> Best: M2 Included Features: <br> PhoneService, InternetService_Fiber_optic, InternetService_No, OnlineSecurity_No_internet_service, OnlineSecurity_Yes, DeviceProtection_No_internet_service, DeviceProtection_Yes, TechSupport_No_internet_service, TechSupport_Yes, Contract_One_year, Contract_Two_year, PaymentMethod_Credit_card_(automatic), PaymentMethod_Electronic_check, PaymentMethod_Mailed_check <br> All: M2 Mean f1: <br> 0.6225 <br> All: M2 STD f1: <br> 0.0123",
          "<br> Best: M2 f1: <br> 0.6284 <br> Best: M2 Included Features: <br> PhoneService, InternetService_Fiber_optic, InternetService_No, OnlineSecurity_No_internet_service, OnlineSecurity_Yes, TechSupport_No_internet_service, TechSupport_Yes, Contract_One_year, Contract_Two_year, PaymentMethod_Credit_card_(automatic), PaymentMethod_Electronic_check, PaymentMethod_Mailed_check <br> All: M2 Mean f1: <br> 0.6159 <br> All: M2 STD f1: <br> 0.0083",
          "<br> Best: M2 f1: <br> 0.6330 <br> Best: M2 Included Features: <br> PhoneService, InternetService_Fiber_optic, InternetService_No, OnlineSecurity_No_internet_service, OnlineSecurity_Yes, TechSupport_No_internet_service, TechSupport_Yes, Contract_One_year, Contract_Two_year <br> All: M2 Mean f1: <br> 0.6134 <br> All: M2 STD f1: <br> 0.0186",
          "<br> Best: M2 f1: <br> 0.6274 <br> Best: M2 Included Features: <br> PhoneService, InternetService_Fiber_optic, InternetService_No, OnlineSecurity_No_internet_service, OnlineSecurity_Yes, Contract_One_year, Contract_Two_year <br> All: M2 Mean f1: <br> 0.6099 <br> All: M2 STD f1: <br> 0.0129",
          "<br> Best: M2 f1: <br> 0.6106 <br> Best: M2 Included Features: <br> PhoneService, InternetService_Fiber_optic, InternetService_No, Contract_One_year, Contract_Two_year <br> All: M2 Mean f1: <br> 0.5896 <br> All: M2 STD f1: <br> 0.0162",
          "<br> Best: M2 f1: <br> 0.6086 <br> Best: M2 Included Features: <br> PhoneService, Contract_One_year, Contract_Two_year <br> All: M2 Mean f1: <br> 0.5905 <br> All: M2 STD f1: <br> 0.0153",
          "<br> Best: M2 f1: <br> 0.5818 <br> Best: M2 Included Features: <br> Contract_One_year, Contract_Two_year <br> All: M2 Mean f1: <br> nan <br> All: M2 STD f1: <br> nan"
         ],
         "mode": "lines+markers",
         "name": "Best: M2 f1",
         "type": "scatter",
         "x": [
          1,
          2,
          3,
          4,
          5,
          6,
          7,
          8,
          9,
          10,
          11,
          12,
          13,
          14,
          15,
          16,
          17,
          18,
          19,
          20,
          21,
          22
         ],
         "xaxis": "x",
         "y": [
          0.4233576642335767,
          0.6289592760180996,
          0.6386363636363637,
          0.6384872080088988,
          0.64472190692395,
          0.6420047732696897,
          0.6355353075170843,
          0.6383467278989666,
          0.6346153846153847,
          0.6346604215456675,
          0.6317073170731707,
          0.6354044548651817,
          0.6391509433962264,
          0.635036496350365,
          0.6351039260969977,
          0.6366863905325444,
          0.6284403669724772,
          0.6330275229357799,
          0.6274065685164213,
          0.6106382978723405,
          0.6086105675146771,
          0.5818181818181819
         ],
         "yaxis": "y2"
        }
       ],
       "layout": {
        "hovermode": "closest",
        "template": {
         "data": {
          "bar": [
           {
            "error_x": {
             "color": "#2a3f5f"
            },
            "error_y": {
             "color": "#2a3f5f"
            },
            "marker": {
             "line": {
              "color": "#E5ECF6",
              "width": 0.5
             },
             "pattern": {
              "fillmode": "overlay",
              "size": 10,
              "solidity": 0.2
             }
            },
            "type": "bar"
           }
          ],
          "barpolar": [
           {
            "marker": {
             "line": {
              "color": "#E5ECF6",
              "width": 0.5
             },
             "pattern": {
              "fillmode": "overlay",
              "size": 10,
              "solidity": 0.2
             }
            },
            "type": "barpolar"
           }
          ],
          "carpet": [
           {
            "aaxis": {
             "endlinecolor": "#2a3f5f",
             "gridcolor": "white",
             "linecolor": "white",
             "minorgridcolor": "white",
             "startlinecolor": "#2a3f5f"
            },
            "baxis": {
             "endlinecolor": "#2a3f5f",
             "gridcolor": "white",
             "linecolor": "white",
             "minorgridcolor": "white",
             "startlinecolor": "#2a3f5f"
            },
            "type": "carpet"
           }
          ],
          "choropleth": [
           {
            "colorbar": {
             "outlinewidth": 0,
             "ticks": ""
            },
            "type": "choropleth"
           }
          ],
          "contour": [
           {
            "colorbar": {
             "outlinewidth": 0,
             "ticks": ""
            },
            "colorscale": [
             [
              0,
              "#0d0887"
             ],
             [
              0.1111111111111111,
              "#46039f"
             ],
             [
              0.2222222222222222,
              "#7201a8"
             ],
             [
              0.3333333333333333,
              "#9c179e"
             ],
             [
              0.4444444444444444,
              "#bd3786"
             ],
             [
              0.5555555555555556,
              "#d8576b"
             ],
             [
              0.6666666666666666,
              "#ed7953"
             ],
             [
              0.7777777777777778,
              "#fb9f3a"
             ],
             [
              0.8888888888888888,
              "#fdca26"
             ],
             [
              1,
              "#f0f921"
             ]
            ],
            "type": "contour"
           }
          ],
          "contourcarpet": [
           {
            "colorbar": {
             "outlinewidth": 0,
             "ticks": ""
            },
            "type": "contourcarpet"
           }
          ],
          "heatmap": [
           {
            "colorbar": {
             "outlinewidth": 0,
             "ticks": ""
            },
            "colorscale": [
             [
              0,
              "#0d0887"
             ],
             [
              0.1111111111111111,
              "#46039f"
             ],
             [
              0.2222222222222222,
              "#7201a8"
             ],
             [
              0.3333333333333333,
              "#9c179e"
             ],
             [
              0.4444444444444444,
              "#bd3786"
             ],
             [
              0.5555555555555556,
              "#d8576b"
             ],
             [
              0.6666666666666666,
              "#ed7953"
             ],
             [
              0.7777777777777778,
              "#fb9f3a"
             ],
             [
              0.8888888888888888,
              "#fdca26"
             ],
             [
              1,
              "#f0f921"
             ]
            ],
            "type": "heatmap"
           }
          ],
          "heatmapgl": [
           {
            "colorbar": {
             "outlinewidth": 0,
             "ticks": ""
            },
            "colorscale": [
             [
              0,
              "#0d0887"
             ],
             [
              0.1111111111111111,
              "#46039f"
             ],
             [
              0.2222222222222222,
              "#7201a8"
             ],
             [
              0.3333333333333333,
              "#9c179e"
             ],
             [
              0.4444444444444444,
              "#bd3786"
             ],
             [
              0.5555555555555556,
              "#d8576b"
             ],
             [
              0.6666666666666666,
              "#ed7953"
             ],
             [
              0.7777777777777778,
              "#fb9f3a"
             ],
             [
              0.8888888888888888,
              "#fdca26"
             ],
             [
              1,
              "#f0f921"
             ]
            ],
            "type": "heatmapgl"
           }
          ],
          "histogram": [
           {
            "marker": {
             "pattern": {
              "fillmode": "overlay",
              "size": 10,
              "solidity": 0.2
             }
            },
            "type": "histogram"
           }
          ],
          "histogram2d": [
           {
            "colorbar": {
             "outlinewidth": 0,
             "ticks": ""
            },
            "colorscale": [
             [
              0,
              "#0d0887"
             ],
             [
              0.1111111111111111,
              "#46039f"
             ],
             [
              0.2222222222222222,
              "#7201a8"
             ],
             [
              0.3333333333333333,
              "#9c179e"
             ],
             [
              0.4444444444444444,
              "#bd3786"
             ],
             [
              0.5555555555555556,
              "#d8576b"
             ],
             [
              0.6666666666666666,
              "#ed7953"
             ],
             [
              0.7777777777777778,
              "#fb9f3a"
             ],
             [
              0.8888888888888888,
              "#fdca26"
             ],
             [
              1,
              "#f0f921"
             ]
            ],
            "type": "histogram2d"
           }
          ],
          "histogram2dcontour": [
           {
            "colorbar": {
             "outlinewidth": 0,
             "ticks": ""
            },
            "colorscale": [
             [
              0,
              "#0d0887"
             ],
             [
              0.1111111111111111,
              "#46039f"
             ],
             [
              0.2222222222222222,
              "#7201a8"
             ],
             [
              0.3333333333333333,
              "#9c179e"
             ],
             [
              0.4444444444444444,
              "#bd3786"
             ],
             [
              0.5555555555555556,
              "#d8576b"
             ],
             [
              0.6666666666666666,
              "#ed7953"
             ],
             [
              0.7777777777777778,
              "#fb9f3a"
             ],
             [
              0.8888888888888888,
              "#fdca26"
             ],
             [
              1,
              "#f0f921"
             ]
            ],
            "type": "histogram2dcontour"
           }
          ],
          "mesh3d": [
           {
            "colorbar": {
             "outlinewidth": 0,
             "ticks": ""
            },
            "type": "mesh3d"
           }
          ],
          "parcoords": [
           {
            "line": {
             "colorbar": {
              "outlinewidth": 0,
              "ticks": ""
             }
            },
            "type": "parcoords"
           }
          ],
          "pie": [
           {
            "automargin": true,
            "type": "pie"
           }
          ],
          "scatter": [
           {
            "fillpattern": {
             "fillmode": "overlay",
             "size": 10,
             "solidity": 0.2
            },
            "type": "scatter"
           }
          ],
          "scatter3d": [
           {
            "line": {
             "colorbar": {
              "outlinewidth": 0,
              "ticks": ""
             }
            },
            "marker": {
             "colorbar": {
              "outlinewidth": 0,
              "ticks": ""
             }
            },
            "type": "scatter3d"
           }
          ],
          "scattercarpet": [
           {
            "marker": {
             "colorbar": {
              "outlinewidth": 0,
              "ticks": ""
             }
            },
            "type": "scattercarpet"
           }
          ],
          "scattergeo": [
           {
            "marker": {
             "colorbar": {
              "outlinewidth": 0,
              "ticks": ""
             }
            },
            "type": "scattergeo"
           }
          ],
          "scattergl": [
           {
            "marker": {
             "colorbar": {
              "outlinewidth": 0,
              "ticks": ""
             }
            },
            "type": "scattergl"
           }
          ],
          "scattermapbox": [
           {
            "marker": {
             "colorbar": {
              "outlinewidth": 0,
              "ticks": ""
             }
            },
            "type": "scattermapbox"
           }
          ],
          "scatterpolar": [
           {
            "marker": {
             "colorbar": {
              "outlinewidth": 0,
              "ticks": ""
             }
            },
            "type": "scatterpolar"
           }
          ],
          "scatterpolargl": [
           {
            "marker": {
             "colorbar": {
              "outlinewidth": 0,
              "ticks": ""
             }
            },
            "type": "scatterpolargl"
           }
          ],
          "scatterternary": [
           {
            "marker": {
             "colorbar": {
              "outlinewidth": 0,
              "ticks": ""
             }
            },
            "type": "scatterternary"
           }
          ],
          "surface": [
           {
            "colorbar": {
             "outlinewidth": 0,
             "ticks": ""
            },
            "colorscale": [
             [
              0,
              "#0d0887"
             ],
             [
              0.1111111111111111,
              "#46039f"
             ],
             [
              0.2222222222222222,
              "#7201a8"
             ],
             [
              0.3333333333333333,
              "#9c179e"
             ],
             [
              0.4444444444444444,
              "#bd3786"
             ],
             [
              0.5555555555555556,
              "#d8576b"
             ],
             [
              0.6666666666666666,
              "#ed7953"
             ],
             [
              0.7777777777777778,
              "#fb9f3a"
             ],
             [
              0.8888888888888888,
              "#fdca26"
             ],
             [
              1,
              "#f0f921"
             ]
            ],
            "type": "surface"
           }
          ],
          "table": [
           {
            "cells": {
             "fill": {
              "color": "#EBF0F8"
             },
             "line": {
              "color": "white"
             }
            },
            "header": {
             "fill": {
              "color": "#C8D4E3"
             },
             "line": {
              "color": "white"
             }
            },
            "type": "table"
           }
          ]
         },
         "layout": {
          "annotationdefaults": {
           "arrowcolor": "#2a3f5f",
           "arrowhead": 0,
           "arrowwidth": 1
          },
          "autotypenumbers": "strict",
          "coloraxis": {
           "colorbar": {
            "outlinewidth": 0,
            "ticks": ""
           }
          },
          "colorscale": {
           "diverging": [
            [
             0,
             "#8e0152"
            ],
            [
             0.1,
             "#c51b7d"
            ],
            [
             0.2,
             "#de77ae"
            ],
            [
             0.3,
             "#f1b6da"
            ],
            [
             0.4,
             "#fde0ef"
            ],
            [
             0.5,
             "#f7f7f7"
            ],
            [
             0.6,
             "#e6f5d0"
            ],
            [
             0.7,
             "#b8e186"
            ],
            [
             0.8,
             "#7fbc41"
            ],
            [
             0.9,
             "#4d9221"
            ],
            [
             1,
             "#276419"
            ]
           ],
           "sequential": [
            [
             0,
             "#0d0887"
            ],
            [
             0.1111111111111111,
             "#46039f"
            ],
            [
             0.2222222222222222,
             "#7201a8"
            ],
            [
             0.3333333333333333,
             "#9c179e"
            ],
            [
             0.4444444444444444,
             "#bd3786"
            ],
            [
             0.5555555555555556,
             "#d8576b"
            ],
            [
             0.6666666666666666,
             "#ed7953"
            ],
            [
             0.7777777777777778,
             "#fb9f3a"
            ],
            [
             0.8888888888888888,
             "#fdca26"
            ],
            [
             1,
             "#f0f921"
            ]
           ],
           "sequentialminus": [
            [
             0,
             "#0d0887"
            ],
            [
             0.1111111111111111,
             "#46039f"
            ],
            [
             0.2222222222222222,
             "#7201a8"
            ],
            [
             0.3333333333333333,
             "#9c179e"
            ],
            [
             0.4444444444444444,
             "#bd3786"
            ],
            [
             0.5555555555555556,
             "#d8576b"
            ],
            [
             0.6666666666666666,
             "#ed7953"
            ],
            [
             0.7777777777777778,
             "#fb9f3a"
            ],
            [
             0.8888888888888888,
             "#fdca26"
            ],
            [
             1,
             "#f0f921"
            ]
           ]
          },
          "colorway": [
           "#636efa",
           "#EF553B",
           "#00cc96",
           "#ab63fa",
           "#FFA15A",
           "#19d3f3",
           "#FF6692",
           "#B6E880",
           "#FF97FF",
           "#FECB52"
          ],
          "font": {
           "color": "#2a3f5f"
          },
          "geo": {
           "bgcolor": "white",
           "lakecolor": "white",
           "landcolor": "#E5ECF6",
           "showlakes": true,
           "showland": true,
           "subunitcolor": "white"
          },
          "hoverlabel": {
           "align": "left"
          },
          "hovermode": "closest",
          "mapbox": {
           "style": "light"
          },
          "paper_bgcolor": "white",
          "plot_bgcolor": "#E5ECF6",
          "polar": {
           "angularaxis": {
            "gridcolor": "white",
            "linecolor": "white",
            "ticks": ""
           },
           "bgcolor": "#E5ECF6",
           "radialaxis": {
            "gridcolor": "white",
            "linecolor": "white",
            "ticks": ""
           }
          },
          "scene": {
           "xaxis": {
            "backgroundcolor": "#E5ECF6",
            "gridcolor": "white",
            "gridwidth": 2,
            "linecolor": "white",
            "showbackground": true,
            "ticks": "",
            "zerolinecolor": "white"
           },
           "yaxis": {
            "backgroundcolor": "#E5ECF6",
            "gridcolor": "white",
            "gridwidth": 2,
            "linecolor": "white",
            "showbackground": true,
            "ticks": "",
            "zerolinecolor": "white"
           },
           "zaxis": {
            "backgroundcolor": "#E5ECF6",
            "gridcolor": "white",
            "gridwidth": 2,
            "linecolor": "white",
            "showbackground": true,
            "ticks": "",
            "zerolinecolor": "white"
           }
          },
          "shapedefaults": {
           "line": {
            "color": "#2a3f5f"
           }
          },
          "ternary": {
           "aaxis": {
            "gridcolor": "white",
            "linecolor": "white",
            "ticks": ""
           },
           "baxis": {
            "gridcolor": "white",
            "linecolor": "white",
            "ticks": ""
           },
           "bgcolor": "#E5ECF6",
           "caxis": {
            "gridcolor": "white",
            "linecolor": "white",
            "ticks": ""
           }
          },
          "title": {
           "x": 0.05
          },
          "xaxis": {
           "automargin": true,
           "gridcolor": "white",
           "linecolor": "white",
           "ticks": "",
           "title": {
            "standoff": 15
           },
           "zerolinecolor": "white",
           "zerolinewidth": 2
          },
          "yaxis": {
           "automargin": true,
           "gridcolor": "white",
           "linecolor": "white",
           "ticks": "",
           "title": {
            "standoff": 15
           },
           "zerolinecolor": "white",
           "zerolinewidth": 2
          }
         }
        },
        "title": {
         "text": "Agreeability Coefficients and Model Scores Over Algorithm Iterations"
        },
        "xaxis": {
         "anchor": "y",
         "domain": [
          0,
          0.94
         ],
         "title": {
          "text": "Iteration"
         },
         "type": "category"
        },
        "yaxis": {
         "anchor": "x",
         "domain": [
          0,
          1
         ],
         "title": {
          "text": "Agreeability"
         }
        },
        "yaxis2": {
         "anchor": "x",
         "overlaying": "y",
         "side": "right",
         "title": {
          "text": "Model Scores"
         }
        }
       }
      }
     },
     "metadata": {},
     "output_type": "display_data"
    }
   ],
   "source": [
    "seeker.plot_from_results()"
   ]
  },
  {
   "cell_type": "markdown",
   "metadata": {},
   "source": [
    "## TODO: I am doing something wrong with the full fit because this makes zero sense. "
   ]
  },
  {
   "cell_type": "code",
   "execution_count": 26,
   "metadata": {},
   "outputs": [
    {
     "name": "stdout",
     "output_type": "stream",
     "text": [
      "Model 1: Results for No. 1 and No. 2 best predictions: P-value: 0.00000000. Test statistic: 178.63917526.\n",
      "Model 2: Results for No. 1 and No. 2 best predictions: P-value: 0.00000000. Test statistic: 281.13522013.\n",
      "========================================================================================================================\n",
      "Model 1: Results for No. 2 and No. 3 best predictions: P-value: 0.00000000. Test statistic: 167.26369863.\n",
      "Model 2: Results for No. 2 and No. 3 best predictions: P-value: 0.00000000. Test statistic: 244.68923077.\n",
      "========================================================================================================================\n",
      "Model 1: Results for No. 3 and No. 4 best predictions: P-value: 0.00000000. Test statistic: 190.78745645.\n",
      "Model 2: Results for No. 3 and No. 4 best predictions: P-value: 0.00000000. Test statistic: 212.66453674.\n",
      "========================================================================================================================\n",
      "Model 1: Results for No. 4 and No. 5 best predictions: P-value: 0.00000000. Test statistic: 154.58680556.\n",
      "Model 2: Results for No. 4 and No. 5 best predictions: P-value: 0.00000000. Test statistic: 220.16333333.\n",
      "========================================================================================================================\n",
      "Model 1: Results for No. 5 and No. 6 best predictions: P-value: 0.00000000. Test statistic: 98.48620690.\n",
      "Model 2: Results for No. 5 and No. 6 best predictions: P-value: 0.00000000. Test statistic: 196.87812500.\n",
      "========================================================================================================================\n",
      "Model 1: Results for No. 6 and No. 7 best predictions: P-value: 0.00000000. Test statistic: 178.92013889.\n",
      "Model 2: Results for No. 6 and No. 7 best predictions: P-value: 0.00000000. Test statistic: 192.11428571.\n",
      "========================================================================================================================\n",
      "Model 1: Results for No. 7 and No. 8 best predictions: P-value: 0.00000000. Test statistic: 180.54607509.\n",
      "Model 2: Results for No. 7 and No. 8 best predictions: P-value: 0.00000000. Test statistic: 194.24013158.\n",
      "========================================================================================================================\n",
      "Model 1: Results for No. 8 and No. 9 best predictions: P-value: 0.00000000. Test statistic: 186.57692308.\n",
      "Model 2: Results for No. 8 and No. 9 best predictions: P-value: 0.00000000. Test statistic: 228.49038462.\n",
      "========================================================================================================================\n",
      "Model 1: Results for No. 9 and No. 10 best predictions: P-value: 0.00000000. Test statistic: 166.75087719.\n",
      "Model 2: Results for No. 9 and No. 10 best predictions: P-value: 0.00000000. Test statistic: 232.53311258.\n",
      "========================================================================================================================\n",
      "Model 1: Results for No. 10 and No. 11 best predictions: P-value: 0.00000000. Test statistic: 175.68705036.\n",
      "Model 2: Results for No. 10 and No. 11 best predictions: P-value: 0.00000000. Test statistic: 217.36334405.\n",
      "========================================================================================================================\n",
      "Model 1: Results for No. 11 and No. 12 best predictions: P-value: 0.00000000. Test statistic: 158.63286713.\n",
      "Model 2: Results for No. 11 and No. 12 best predictions: P-value: 0.00000000. Test statistic: 265.44117647.\n",
      "========================================================================================================================\n",
      "Model 1: Results for No. 12 and No. 13 best predictions: P-value: 0.00000000. Test statistic: 120.62798635.\n",
      "Model 2: Results for No. 12 and No. 13 best predictions: P-value: 0.00000000. Test statistic: 237.63000000.\n",
      "========================================================================================================================\n",
      "Model 1: Results for No. 13 and No. 14 best predictions: P-value: 0.00000000. Test statistic: 171.24914676.\n",
      "Model 2: Results for No. 13 and No. 14 best predictions: P-value: 0.00000000. Test statistic: 205.77531646.\n",
      "========================================================================================================================\n",
      "Model 1: Results for No. 14 and No. 15 best predictions: P-value: 0.00000000. Test statistic: 176.06430868.\n",
      "Model 2: Results for No. 14 and No. 15 best predictions: P-value: 0.00000000. Test statistic: 262.72312704.\n",
      "========================================================================================================================\n",
      "Model 1: Results for No. 15 and No. 16 best predictions: P-value: 0.00000000. Test statistic: 131.14754098.\n",
      "Model 2: Results for No. 15 and No. 16 best predictions: P-value: 0.00000000. Test statistic: 207.04012346.\n",
      "========================================================================================================================\n",
      "Model 1: Results for No. 16 and No. 17 best predictions: P-value: 0.00000000. Test statistic: 99.27575758.\n",
      "Model 2: Results for No. 16 and No. 17 best predictions: P-value: 0.00000000. Test statistic: 232.90312500.\n",
      "========================================================================================================================\n",
      "Model 1: Results for No. 17 and No. 18 best predictions: P-value: 0.00000000. Test statistic: 62.01396648.\n",
      "Model 2: Results for No. 17 and No. 18 best predictions: P-value: 0.00000000. Test statistic: 175.07598784.\n",
      "========================================================================================================================\n",
      "Model 1: Results for No. 18 and No. 19 best predictions: P-value: 0.00000000. Test statistic: 137.04521277.\n",
      "Model 2: Results for No. 18 and No. 19 best predictions: P-value: 0.00000000. Test statistic: 200.65846995.\n",
      "========================================================================================================================\n",
      "Model 1: Results for No. 19 and No. 20 best predictions: P-value: 0.00000000. Test statistic: 94.11764706.\n",
      "Model 2: Results for No. 19 and No. 20 best predictions: P-value: 0.00000000. Test statistic: 200.22250000.\n",
      "========================================================================================================================\n",
      "Model 1: Results for No. 20 and No. 21 best predictions: P-value: 0.00000000. Test statistic: 44.03120125.\n",
      "Model 2: Results for No. 20 and No. 21 best predictions: P-value: 0.00000000. Test statistic: 146.49275362.\n",
      "========================================================================================================================\n"
     ]
    }
   ],
   "source": [
    "seeker.compare_n_best(n=21, test='mcnemar_chisquare')"
   ]
  },
  {
   "cell_type": "markdown",
   "metadata": {},
   "source": [
    "### Working Code for 3D Plot\n",
    "\n",
    "```python\n",
    "\n",
    "# Create a 3D scatter plot\n",
    "fig = go.Figure(data=[\n",
    "    go.Scatter3d(\n",
    "        x=df.index + 1,\n",
    "        y=df.iloc[:, 4],\n",
    "        z=df.iloc[:, 1], \n",
    "        mode='lines+markers',\n",
    "        name=f'{df.columns[1]}',\n",
    "        text=df['Summary_M1'],\n",
    "        hoverinfo='text'\n",
    "    ),\n",
    "    go.Scatter3d(\n",
    "        x=df.index + 1,\n",
    "        y=df.iloc[:, 4],\n",
    "        z=df.iloc[:, 3], \n",
    "        mode='lines+markers',\n",
    "        name=f'{df.columns[3]}',\n",
    "        text=df['Summary_M2'],\n",
    "        hoverinfo='text'\n",
    "    )\n",
    "])\n",
    "\n",
    "# Update layout\n",
    "fig.update_layout(\n",
    "    title='Agreeability Coefficients and Model Scores Over Algorithm Iterations',\n",
    "    scene=dict(\n",
    "        xaxis_title='Iteration',\n",
    "        yaxis_title='Agreeability',\n",
    "        zaxis_title='Model Scores'\n",
    "    ),\n",
    "    hovermode='closest'\n",
    ")\n",
    "\n",
    "# Show the plot\n",
    "fig.show()\n",
    "\n",
    "```"
   ]
  },
  {
   "cell_type": "markdown",
   "metadata": {},
   "source": [
    "### Dependencies"
   ]
  },
  {
   "cell_type": "code",
   "execution_count": 52,
   "metadata": {},
   "outputs": [],
   "source": [
    "import numpy as np\n",
    "import pandas as pd\n",
    "import statsmodels\n",
    "import sklearn\n",
    "import scipy\n",
    "import plotly\n",
    "import matplotlib\n",
    "import seaborn as sns\n",
    "import tensorflow as tf\n",
    "import openpyxl\n",
    "import imblearn\n",
    "import nbformat"
   ]
  },
  {
   "cell_type": "code",
   "execution_count": 53,
   "metadata": {},
   "outputs": [
    {
     "name": "stdout",
     "output_type": "stream",
     "text": [
      "pandas: 1.5.3\n",
      "numpy: 1.24.4\n",
      "statsmodels: 0.13.5\n",
      "sklearn: 1.1.3\n",
      "scipy: 1.11.3\n",
      "plotly: 5.18.0\n",
      "matplotlib: 3.6.0\n",
      "seaborn: 0.12.2\n",
      "tensorflow: 2.14.0\n",
      "openpyxl: 3.1.2\n",
      "imblearn: 0.11.0\n",
      "nbformat: 4.2.0\n"
     ]
    }
   ],
   "source": [
    "print(f'pandas: {pd.__version__}')\n",
    "print(f'numpy: {np.__version__}')\n",
    "print(f'statsmodels: {statsmodels.__version__}')\n",
    "print(f'sklearn: {sklearn.__version__}')\n",
    "print(f'scipy: {scipy.__version__}')\n",
    "print(f'plotly: {plotly.__version__}')\n",
    "print(f'matplotlib: {matplotlib.__version__}')\n",
    "print(f'seaborn: {sns.__version__}')\n",
    "print(f'tensorflow: {tf.__version__}')\n",
    "print(f'openpyxl: {openpyxl.__version__}')\n",
    "print(f'imblearn: {imblearn.__version__}')\n",
    "print(f'nbformat: {nbformat.__version__}')"
   ]
  }
 ],
 "metadata": {
  "kernelspec": {
   "display_name": "DEDA",
   "language": "python",
   "name": "python3"
  },
  "language_info": {
   "codemirror_mode": {
    "name": "ipython",
    "version": 3
   },
   "file_extension": ".py",
   "mimetype": "text/x-python",
   "name": "python",
   "nbconvert_exporter": "python",
   "pygments_lexer": "ipython3",
   "version": "3.9.17"
  }
 },
 "nbformat": 4,
 "nbformat_minor": 2
}
