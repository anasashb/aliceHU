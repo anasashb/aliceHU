{
 "cells": [
  {
   "cell_type": "markdown",
   "metadata": {},
   "source": [
    "## **A**utomated **L**earning for **I**nsightful **C**omparison and **E**valuation - (ALICE)"
   ]
  },
  {
   "cell_type": "markdown",
   "metadata": {},
   "source": [
    "This is a demo notebook where I demonstrate the main functionalities of the proposed python framework.\n",
    "\n",
    "For demonstrational purposes, I will be using a simple and small dataset called California Housing, which includes 8 predictors and 1 target (`MedHouseVal`) - which is a house value. This amount of predictors is small for us but a small dataset helps to run the python framework in a short amount of time, so it is very suitable for demonstration purposes.\n",
    "\n",
    "Because all of the variables in the dataset are continuous, I simulate a binary categorical column from MedHouseVal which just measures if house value is above average. \n",
    "\n",
    "I also generate a fake categorical variable just to demonstrate the framework's functionality to treat $n$ amount of columns obtained from dummy encoding of a categorical variable as one variable in feature selection process.\n",
    "\n",
    "Further details are given in comments and markdown notes throughout the notebook."
   ]
  },
  {
   "cell_type": "code",
   "execution_count": 7,
   "metadata": {},
   "outputs": [],
   "source": [
    "# Import numpy for mathematical operations\n",
    "import numpy as np\n",
    "# Import pandas for handling data tables\n",
    "import pandas as pd\n",
    "# Import stats from scipy - the key statistical package (an extension of Numpy) for python\n",
    "from scipy import stats\n",
    "# This just saves the directory\n",
    "import os\n",
    "cur_dir = os.getcwd()\n",
    "\n",
    "from sklearn.model_selection import train_test_split\n",
    "\n",
    "\n",
    "from sklearn.compose import ColumnTransformer\n",
    "from sklearn.preprocessing import StandardScaler\n",
    "from sklearn.pipeline import Pipeline"
   ]
  },
  {
   "cell_type": "code",
   "execution_count": 8,
   "metadata": {},
   "outputs": [],
   "source": [
    "df = pd.read_excel('Telco_customer_churn.xlsx')"
   ]
  },
  {
   "cell_type": "code",
   "execution_count": 9,
   "metadata": {},
   "outputs": [
    {
     "name": "stdout",
     "output_type": "stream",
     "text": [
      "<class 'pandas.core.frame.DataFrame'>\n",
      "RangeIndex: 7043 entries, 0 to 7042\n",
      "Data columns (total 33 columns):\n",
      " #   Column             Non-Null Count  Dtype  \n",
      "---  ------             --------------  -----  \n",
      " 0   CustomerID         7043 non-null   object \n",
      " 1   Count              7043 non-null   int64  \n",
      " 2   Country            7043 non-null   object \n",
      " 3   State              7043 non-null   object \n",
      " 4   City               7043 non-null   object \n",
      " 5   Zip Code           7043 non-null   int64  \n",
      " 6   Lat Long           7043 non-null   object \n",
      " 7   Latitude           7043 non-null   float64\n",
      " 8   Longitude          7043 non-null   float64\n",
      " 9   Gender             7043 non-null   object \n",
      " 10  Senior Citizen     7043 non-null   object \n",
      " 11  Partner            7043 non-null   object \n",
      " 12  Dependents         7043 non-null   object \n",
      " 13  Tenure Months      7043 non-null   int64  \n",
      " 14  Phone Service      7043 non-null   object \n",
      " 15  Multiple Lines     7043 non-null   object \n",
      " 16  Internet Service   7043 non-null   object \n",
      " 17  Online Security    7043 non-null   object \n",
      " 18  Online Backup      7043 non-null   object \n",
      " 19  Device Protection  7043 non-null   object \n",
      " 20  Tech Support       7043 non-null   object \n",
      " 21  Streaming TV       7043 non-null   object \n",
      " 22  Streaming Movies   7043 non-null   object \n",
      " 23  Contract           7043 non-null   object \n",
      " 24  Paperless Billing  7043 non-null   object \n",
      " 25  Payment Method     7043 non-null   object \n",
      " 26  Monthly Charges    7043 non-null   float64\n",
      " 27  Total Charges      7043 non-null   object \n",
      " 28  Churn Label        7043 non-null   object \n",
      " 29  Churn Value        7043 non-null   int64  \n",
      " 30  Churn Score        7043 non-null   int64  \n",
      " 31  CLTV               7043 non-null   int64  \n",
      " 32  Churn Reason       1869 non-null   object \n",
      "dtypes: float64(3), int64(6), object(24)\n",
      "memory usage: 1.8+ MB\n"
     ]
    }
   ],
   "source": [
    "df.info()"
   ]
  },
  {
   "cell_type": "markdown",
   "metadata": {},
   "source": [
    "## What the customer churn dataset includes:"
   ]
  },
  {
   "cell_type": "markdown",
   "metadata": {},
   "source": [
    "**CustomerID**: A unique ID that identifies each customer.\n",
    "\n",
    "**Count**: A value used in reporting/dashboarding to sum up the number of customers in a filtered set.\n",
    "\n",
    "**Country**: The country of the customer’s primary residence.\n",
    "\n",
    "**State**: The state of the customer’s primary residence.\n",
    "\n",
    "**City**: The city of the customer’s primary residence.\n",
    "\n",
    "**Zip Code**: The zip code of the customer’s primary residence.\n",
    "\n",
    "**Lat Long**: The combined latitude and longitude of the customer’s primary residence.\n",
    "\n",
    "**Latitude**: The latitude of the customer’s primary residence.\n",
    "\n",
    "**Longitude**: The longitude of the customer’s primary residence.\n",
    "\n",
    "**Gender**: The customer’s gender: Male, Female\n",
    "\n",
    "**Senior Citizen**: Indicates if the customer is 65 or older: Yes, No\n",
    "\n",
    "**Partner**: Indicate if the customer has a partner: Yes, No\n",
    "\n",
    "**Dependents**: Indicates if the customer lives with any dependents: Yes, No. Dependents could be children, parents, grandparents, etc.\n",
    "\n",
    "**Tenure Months**: Indicates the total amount of months that the customer has been with the company by the end of the quarter specified above.\n",
    "\n",
    "**Phone Service**: Indicates if the customer subscribes to home phone service with the company: Yes, No\n",
    "\n",
    "**Multiple Lines**: Indicates if the customer subscribes to multiple telephone lines with the company: Yes, No\n",
    "\n",
    "**Internet Service**: Indicates if the customer subscribes to Internet service with the company: No, DSL, Fiber Optic, Cable.\n",
    "\n",
    "**Online Security**: Indicates if the customer subscribes to an additional online security service provided by the company: Yes, No\n",
    "\n",
    "**Online Backup**: Indicates if the customer subscribes to an additional online backup service provided by the company: Yes, No\n",
    "\n",
    "**Tech Support**: Indicates if the customer subscribes to an additional technical support plan from the company with reduced wait times: Yes, No\n",
    "\n",
    "**Streaming TV**: Indicates if the customer uses their Internet service to stream television programing from a third party provider: Yes, No. The company does not charge an additional fee for this service.\n",
    "\n",
    "**Streaming Movies**: Indicates if the customer uses their Internet service to stream movies from a third party provider: Yes, No. The company does not charge an additional fee for this service.\n",
    "\n",
    "**Contract**: Indicates the customer’s current contract type: Month-to-Month, One Year, Two Year.\n",
    "\n",
    "**Paperless Billing**: Indicates if the customer has chosen paperless billing: Yes, No\n",
    "\n",
    "**Payment Method**: Indicates how the customer pays their bill: Bank Withdrawal, Credit Card, Mailed Check\n",
    "\n",
    "**Monthly Charge**: Indicates the customer’s current total monthly charge for all their services from the company.\n",
    "\n",
    "**Total Charges**: Indicates the customer’s total charges, calculated to the end of the quarter specified above.\n",
    "\n",
    "**Churn Label**: Yes = the customer left the company this quarter. No = the customer remained with the company. Directly related to Churn Value.\n",
    "\n",
    "**Churn Value**: 1 = the customer left the company this quarter. 0 = the customer remained with the company. Directly related to Churn Label.\n",
    "\n",
    "**Churn Score**: A value from 0-100 that is calculated using the predictive tool IBM SPSS Modeler. The model incorporates multiple factors known to cause churn. The higher the score, the more likely the customer will churn.\n",
    "\n",
    "**CLTV**: Customer Lifetime Value. A predicted CLTV is calculated using corporate formulas and existing data. The higher the value, the more valuable the customer. High value customers should be monitored for churn.\n",
    "\n",
    "**Churn Reason**: A customer’s specific reason for leaving the company. Directly related to Churn Category."
   ]
  },
  {
   "cell_type": "code",
   "execution_count": 10,
   "metadata": {},
   "outputs": [],
   "source": [
    "# First begin replacing white spaces in column names with nothing\n",
    "df.columns = df.columns.str.replace(' ', '')"
   ]
  },
  {
   "cell_type": "markdown",
   "metadata": {},
   "source": [
    "I begin with dropping variables we do not need"
   ]
  },
  {
   "cell_type": "code",
   "execution_count": 11,
   "metadata": {},
   "outputs": [
    {
     "name": "stdout",
     "output_type": "stream",
     "text": [
      "Dropping CustomerID as no duplicate values observed:\n",
      "\n",
      "Dataframe columns reduced from 33 to 24.\n"
     ]
    }
   ],
   "source": [
    "### axis=1 drops column, inplace=True makes sure the existing dataframe gets re-saved with the modification\n",
    "\n",
    "initial_dataframe_columns = len(df.columns)\n",
    "\n",
    "# We do not need Churn Label as it is the same as Churn Value\n",
    "df.drop('ChurnLabel', axis=1, inplace=True)\n",
    "\n",
    "# Drop customerId if its unique values == length of dataset\n",
    "if df['CustomerID'].nunique() == len(df):\n",
    "    print(\"Dropping CustomerID as no duplicate values observed:\")\n",
    "    df.drop('CustomerID', axis=1, inplace=True)\n",
    "else:\n",
    "    print('There are duplicate customer id values')\n",
    "\n",
    "# Dropping Cities temporarily\n",
    "df.drop('City', axis=1, inplace=True)\n",
    "\n",
    "# Dropping country because every obseration is from U.S.\n",
    "df.drop('Country', axis=1, inplace=True)\n",
    "\n",
    "# Dropping state because every observation is from California\n",
    "df.drop('State', axis=1, inplace=True)\n",
    "\n",
    "df.drop('ZipCode', axis=1, inplace=True)\n",
    "\n",
    "# Dropping count as its useless\n",
    "df.drop('Count', axis=1, inplace=True)\n",
    "\n",
    "# Drop LatLong as it just inclodes both Latitude and Longitude Together\n",
    "df.drop('LatLong', axis=1, inplace=True)\n",
    "\n",
    "# Dropping ChurnReason for obvious reasons\n",
    "df.drop('ChurnReason', axis=1, inplace=True)\n",
    "\n",
    "print(f'\\nDataframe columns reduced from {initial_dataframe_columns} to {len(df.columns)}.')"
   ]
  },
  {
   "cell_type": "markdown",
   "metadata": {},
   "source": [
    "We can begin by first identifying categorical variables:"
   ]
  },
  {
   "cell_type": "code",
   "execution_count": 12,
   "metadata": {},
   "outputs": [
    {
     "name": "stdout",
     "output_type": "stream",
     "text": [
      "The following features are categorical:\n",
      "----------------------------------------------------------------------------------------------------\n",
      "Gender\n",
      "SeniorCitizen\n",
      "Partner\n",
      "Dependents\n",
      "PhoneService\n",
      "MultipleLines\n",
      "InternetService\n",
      "OnlineSecurity\n",
      "OnlineBackup\n",
      "DeviceProtection\n",
      "TechSupport\n",
      "StreamingTV\n",
      "StreamingMovies\n",
      "Contract\n",
      "PaperlessBilling\n",
      "PaymentMethod\n",
      "TotalCharges\n",
      "----------------------------------------------------------------------------------------------------\n"
     ]
    }
   ],
   "source": [
    "# We can begin by looking for categorial variables in the dataset\n",
    "cat_col = [feature for feature in df.columns if df[feature].dtype == 'object']\n",
    "\n",
    "print(f'The following features are categorical:')\n",
    "print('-'*100)\n",
    "for feature in cat_col:\n",
    "    print(feature)\n",
    "print('-'*100)"
   ]
  },
  {
   "cell_type": "markdown",
   "metadata": {},
   "source": [
    "Now we can identify which of the features are binary, and which are multi-class. "
   ]
  },
  {
   "cell_type": "code",
   "execution_count": 13,
   "metadata": {},
   "outputs": [
    {
     "name": "stdout",
     "output_type": "stream",
     "text": [
      "We have the following binary features:\n",
      "Gender\n",
      "SeniorCitizen\n",
      "Partner\n",
      "Dependents\n",
      "PhoneService\n",
      "PaperlessBilling\n",
      "----------------------------------------------------------------------------------------------------\n",
      "We have the following multi-class features:\n",
      "MultipleLines\n",
      "InternetService\n",
      "OnlineSecurity\n",
      "OnlineBackup\n",
      "DeviceProtection\n",
      "TechSupport\n",
      "StreamingTV\n",
      "StreamingMovies\n",
      "Contract\n",
      "PaymentMethod\n",
      "TotalCharges\n"
     ]
    }
   ],
   "source": [
    "# Any variable that has 2 unique values is obviously a binary feature\n",
    "binary_features = [feature for feature in df[cat_col] if df[feature].nunique() == 2]\n",
    "# Anything else falls in multiclass\n",
    "multiclass_features = [feature for feature in df[cat_col] if feature not in binary_features]\n",
    "\n",
    "print(f'We have the following binary features:')\n",
    "for feature in binary_features:\n",
    "    print(feature)\n",
    "print('-'*100)\n",
    "print(f'We have the following multi-class features:')\n",
    "for feature in multiclass_features:\n",
    "    print(feature)"
   ]
  },
  {
   "cell_type": "markdown",
   "metadata": {},
   "source": [
    "We can now look at the unique values of the multi-class categorical features:"
   ]
  },
  {
   "cell_type": "code",
   "execution_count": 14,
   "metadata": {},
   "outputs": [
    {
     "data": {
      "text/plain": [
       "MultipleLines          3\n",
       "InternetService        3\n",
       "OnlineSecurity         3\n",
       "OnlineBackup           3\n",
       "DeviceProtection       3\n",
       "TechSupport            3\n",
       "StreamingTV            3\n",
       "StreamingMovies        3\n",
       "Contract               3\n",
       "PaymentMethod          4\n",
       "TotalCharges        6531\n",
       "dtype: int64"
      ]
     },
     "execution_count": 14,
     "metadata": {},
     "output_type": "execute_result"
    }
   ],
   "source": [
    "df[multiclass_features].nunique()"
   ]
  },
  {
   "cell_type": "markdown",
   "metadata": {},
   "source": [
    "As long as there are no missing values, we can just encode everything that has 3 or four as dummies.\n",
    "\n",
    "For the rest we can either do statistical testing based binning, or WOE, or both (actually both sounds nice.)"
   ]
  },
  {
   "cell_type": "code",
   "execution_count": 15,
   "metadata": {},
   "outputs": [
    {
     "name": "stdout",
     "output_type": "stream",
     "text": [
      "There are no missing values.\n"
     ]
    }
   ],
   "source": [
    "if all(df.isna().sum()) == 0:\n",
    "    print('There are no missing values.')"
   ]
  },
  {
   "cell_type": "code",
   "execution_count": 16,
   "metadata": {},
   "outputs": [
    {
     "name": "stdout",
     "output_type": "stream",
     "text": [
      "We will just generate dummies for the following features:\n",
      "MultipleLines\n",
      "InternetService\n",
      "OnlineSecurity\n",
      "OnlineBackup\n",
      "DeviceProtection\n",
      "TechSupport\n",
      "StreamingTV\n",
      "StreamingMovies\n",
      "Contract\n",
      "PaymentMethod\n"
     ]
    }
   ],
   "source": [
    "features_to_dummify = [feature for feature in multiclass_features if df[feature].nunique() < 5]\n",
    "print('We will just generate dummies for the following features:')\n",
    "for feature in features_to_dummify:\n",
    "    print(feature)"
   ]
  },
  {
   "cell_type": "code",
   "execution_count": 17,
   "metadata": {},
   "outputs": [
    {
     "name": "stdout",
     "output_type": "stream",
     "text": [
      "MultipleLines Values:\n",
      "No                  3390\n",
      "Yes                 2971\n",
      "No phone service     682\n",
      "Name: MultipleLines, dtype: int64\n",
      "----------------------------------------------------------------------------------------------------\n",
      "InternetService Values:\n",
      "Fiber optic    3096\n",
      "DSL            2421\n",
      "No             1526\n",
      "Name: InternetService, dtype: int64\n",
      "----------------------------------------------------------------------------------------------------\n",
      "OnlineSecurity Values:\n",
      "No                     3498\n",
      "Yes                    2019\n",
      "No internet service    1526\n",
      "Name: OnlineSecurity, dtype: int64\n",
      "----------------------------------------------------------------------------------------------------\n",
      "OnlineBackup Values:\n",
      "No                     3088\n",
      "Yes                    2429\n",
      "No internet service    1526\n",
      "Name: OnlineBackup, dtype: int64\n",
      "----------------------------------------------------------------------------------------------------\n",
      "DeviceProtection Values:\n",
      "No                     3095\n",
      "Yes                    2422\n",
      "No internet service    1526\n",
      "Name: DeviceProtection, dtype: int64\n",
      "----------------------------------------------------------------------------------------------------\n",
      "TechSupport Values:\n",
      "No                     3473\n",
      "Yes                    2044\n",
      "No internet service    1526\n",
      "Name: TechSupport, dtype: int64\n",
      "----------------------------------------------------------------------------------------------------\n",
      "StreamingTV Values:\n",
      "No                     2810\n",
      "Yes                    2707\n",
      "No internet service    1526\n",
      "Name: StreamingTV, dtype: int64\n",
      "----------------------------------------------------------------------------------------------------\n",
      "StreamingMovies Values:\n",
      "No                     2785\n",
      "Yes                    2732\n",
      "No internet service    1526\n",
      "Name: StreamingMovies, dtype: int64\n",
      "----------------------------------------------------------------------------------------------------\n",
      "Contract Values:\n",
      "Month-to-month    3875\n",
      "Two year          1695\n",
      "One year          1473\n",
      "Name: Contract, dtype: int64\n",
      "----------------------------------------------------------------------------------------------------\n",
      "PaymentMethod Values:\n",
      "Electronic check             2365\n",
      "Mailed check                 1612\n",
      "Bank transfer (automatic)    1544\n",
      "Credit card (automatic)      1522\n",
      "Name: PaymentMethod, dtype: int64\n",
      "----------------------------------------------------------------------------------------------------\n"
     ]
    }
   ],
   "source": [
    "for feature in features_to_dummify:\n",
    "    print(f'{feature} Values:')\n",
    "    print(df[feature].value_counts(dropna=False))\n",
    "    print('-'*100)"
   ]
  },
  {
   "cell_type": "code",
   "execution_count": 18,
   "metadata": {},
   "outputs": [
    {
     "data": {
      "text/plain": [
       "['MultipleLines',\n",
       " 'InternetService',\n",
       " 'OnlineSecurity',\n",
       " 'OnlineBackup',\n",
       " 'DeviceProtection',\n",
       " 'TechSupport',\n",
       " 'StreamingTV',\n",
       " 'StreamingMovies',\n",
       " 'Contract',\n",
       " 'PaymentMethod']"
      ]
     },
     "execution_count": 18,
     "metadata": {},
     "output_type": "execute_result"
    }
   ],
   "source": [
    "features_to_dummify"
   ]
  },
  {
   "cell_type": "code",
   "execution_count": 19,
   "metadata": {},
   "outputs": [
    {
     "name": "stdout",
     "output_type": "stream",
     "text": [
      "Index(['MultipleLines_No_phone_service', 'MultipleLines_Yes',\n",
      "       'InternetService_Fiber_optic', 'InternetService_No',\n",
      "       'OnlineSecurity_No_internet_service', 'OnlineSecurity_Yes',\n",
      "       'OnlineBackup_No_internet_service', 'OnlineBackup_Yes',\n",
      "       'DeviceProtection_No_internet_service', 'DeviceProtection_Yes',\n",
      "       'TechSupport_No_internet_service', 'TechSupport_Yes',\n",
      "       'StreamingTV_No_internet_service', 'StreamingTV_Yes',\n",
      "       'StreamingMovies_No_internet_service', 'StreamingMovies_Yes',\n",
      "       'Contract_One_year', 'Contract_Two_year',\n",
      "       'PaymentMethod_Credit_card_(automatic)',\n",
      "       'PaymentMethod_Electronic_check', 'PaymentMethod_Mailed_check'],\n",
      "      dtype='object')\n"
     ]
    }
   ],
   "source": [
    "# Obtain dummies, drop first\n",
    "dummies = pd.get_dummies(df[features_to_dummify], drop_first=True)\n",
    "\n",
    "# Replace white spaces\n",
    "dummies.columns = dummies.columns.str.replace(' ', '_')\n",
    "\n",
    "print(dummies.columns)"
   ]
  },
  {
   "cell_type": "code",
   "execution_count": 20,
   "metadata": {},
   "outputs": [
    {
     "name": "stdout",
     "output_type": "stream",
     "text": [
      "After concatenation there were 45 columns.\n",
      "After dropping the original variables there were 35 columns.\n",
      "Operation successful if difference is 10\n"
     ]
    }
   ],
   "source": [
    "# Now add these to dataframe and drop the original ones\n",
    "# pd.concat will concatenate the two dataframes along the column axis\n",
    "df = pd.concat([df, dummies], axis=1)\n",
    "print(f'After concatenation there were {len(df.columns)} columns.')\n",
    "\n",
    "# Drop the original variables\n",
    "df.drop(features_to_dummify, axis=1, inplace=True)\n",
    "print(f'After dropping the original variables there were {len(df.columns)} columns.')\n",
    "print(f'Operation successful if difference is {len(features_to_dummify)}')\n"
   ]
  },
  {
   "cell_type": "code",
   "execution_count": 21,
   "metadata": {},
   "outputs": [
    {
     "name": "stdout",
     "output_type": "stream",
     "text": [
      "Remaining multiclass features:\n",
      "----------------------------------------------------------------------------------------------------\n",
      "TotalCharges\n"
     ]
    }
   ],
   "source": [
    "# Re generate multiclass features\n",
    "multiclass_features = [feature for feature in multiclass_features if feature not in features_to_dummify]\n",
    "\n",
    "print(f'Remaining multiclass features:')\n",
    "print('-'*100)\n",
    "for feature in multiclass_features:\n",
    "    print(feature)"
   ]
  },
  {
   "cell_type": "code",
   "execution_count": 22,
   "metadata": {},
   "outputs": [
    {
     "data": {
      "text/plain": [
       "TotalCharges    object\n",
       "dtype: object"
      ]
     },
     "execution_count": 22,
     "metadata": {},
     "output_type": "execute_result"
    }
   ],
   "source": [
    "df[multiclass_features].dtypes"
   ]
  },
  {
   "cell_type": "markdown",
   "metadata": {},
   "source": [
    "TotalCharges should be a numericla feature so we shoud inspect and transform it to a float datatype instead"
   ]
  },
  {
   "cell_type": "code",
   "execution_count": 23,
   "metadata": {},
   "outputs": [
    {
     "data": {
      "text/plain": [
       "0        108.15\n",
       "1        151.65\n",
       "2         820.5\n",
       "3       3046.05\n",
       "4        5036.3\n",
       "         ...   \n",
       "7038     1419.4\n",
       "7039     1990.5\n",
       "7040     7362.9\n",
       "7041     346.45\n",
       "7042     6844.5\n",
       "Name: TotalCharges, Length: 7043, dtype: object"
      ]
     },
     "execution_count": 23,
     "metadata": {},
     "output_type": "execute_result"
    }
   ],
   "source": [
    "df['TotalCharges']"
   ]
  },
  {
   "cell_type": "code",
   "execution_count": 24,
   "metadata": {},
   "outputs": [],
   "source": [
    "df['TotalCharges'] = pd.to_numeric(df['TotalCharges'], errors='coerce')"
   ]
  },
  {
   "cell_type": "markdown",
   "metadata": {},
   "source": [
    "Now we check if there are missing values as a result and if yes we can drop those rows."
   ]
  },
  {
   "cell_type": "code",
   "execution_count": 25,
   "metadata": {},
   "outputs": [
    {
     "data": {
      "text/html": [
       "<div>\n",
       "<style scoped>\n",
       "    .dataframe tbody tr th:only-of-type {\n",
       "        vertical-align: middle;\n",
       "    }\n",
       "\n",
       "    .dataframe tbody tr th {\n",
       "        vertical-align: top;\n",
       "    }\n",
       "\n",
       "    .dataframe thead th {\n",
       "        text-align: right;\n",
       "    }\n",
       "</style>\n",
       "<table border=\"1\" class=\"dataframe\">\n",
       "  <thead>\n",
       "    <tr style=\"text-align: right;\">\n",
       "      <th></th>\n",
       "      <th>Latitude</th>\n",
       "      <th>Longitude</th>\n",
       "      <th>Gender</th>\n",
       "      <th>SeniorCitizen</th>\n",
       "      <th>Partner</th>\n",
       "      <th>Dependents</th>\n",
       "      <th>TenureMonths</th>\n",
       "      <th>PhoneService</th>\n",
       "      <th>PaperlessBilling</th>\n",
       "      <th>MonthlyCharges</th>\n",
       "      <th>...</th>\n",
       "      <th>TechSupport_Yes</th>\n",
       "      <th>StreamingTV_No_internet_service</th>\n",
       "      <th>StreamingTV_Yes</th>\n",
       "      <th>StreamingMovies_No_internet_service</th>\n",
       "      <th>StreamingMovies_Yes</th>\n",
       "      <th>Contract_One_year</th>\n",
       "      <th>Contract_Two_year</th>\n",
       "      <th>PaymentMethod_Credit_card_(automatic)</th>\n",
       "      <th>PaymentMethod_Electronic_check</th>\n",
       "      <th>PaymentMethod_Mailed_check</th>\n",
       "    </tr>\n",
       "  </thead>\n",
       "  <tbody>\n",
       "    <tr>\n",
       "      <th>2234</th>\n",
       "      <td>34.084909</td>\n",
       "      <td>-117.258107</td>\n",
       "      <td>Female</td>\n",
       "      <td>No</td>\n",
       "      <td>Yes</td>\n",
       "      <td>No</td>\n",
       "      <td>0</td>\n",
       "      <td>No</td>\n",
       "      <td>Yes</td>\n",
       "      <td>52.55</td>\n",
       "      <td>...</td>\n",
       "      <td>1</td>\n",
       "      <td>0</td>\n",
       "      <td>1</td>\n",
       "      <td>0</td>\n",
       "      <td>0</td>\n",
       "      <td>0</td>\n",
       "      <td>1</td>\n",
       "      <td>0</td>\n",
       "      <td>0</td>\n",
       "      <td>0</td>\n",
       "    </tr>\n",
       "    <tr>\n",
       "      <th>2438</th>\n",
       "      <td>36.869584</td>\n",
       "      <td>-118.189241</td>\n",
       "      <td>Male</td>\n",
       "      <td>No</td>\n",
       "      <td>No</td>\n",
       "      <td>No</td>\n",
       "      <td>0</td>\n",
       "      <td>Yes</td>\n",
       "      <td>No</td>\n",
       "      <td>20.25</td>\n",
       "      <td>...</td>\n",
       "      <td>0</td>\n",
       "      <td>1</td>\n",
       "      <td>0</td>\n",
       "      <td>1</td>\n",
       "      <td>0</td>\n",
       "      <td>0</td>\n",
       "      <td>1</td>\n",
       "      <td>0</td>\n",
       "      <td>0</td>\n",
       "      <td>1</td>\n",
       "    </tr>\n",
       "    <tr>\n",
       "      <th>2568</th>\n",
       "      <td>37.590421</td>\n",
       "      <td>-122.306467</td>\n",
       "      <td>Female</td>\n",
       "      <td>No</td>\n",
       "      <td>Yes</td>\n",
       "      <td>No</td>\n",
       "      <td>0</td>\n",
       "      <td>Yes</td>\n",
       "      <td>No</td>\n",
       "      <td>80.85</td>\n",
       "      <td>...</td>\n",
       "      <td>0</td>\n",
       "      <td>0</td>\n",
       "      <td>1</td>\n",
       "      <td>0</td>\n",
       "      <td>1</td>\n",
       "      <td>0</td>\n",
       "      <td>1</td>\n",
       "      <td>0</td>\n",
       "      <td>0</td>\n",
       "      <td>1</td>\n",
       "    </tr>\n",
       "    <tr>\n",
       "      <th>2667</th>\n",
       "      <td>37.306612</td>\n",
       "      <td>-122.080621</td>\n",
       "      <td>Male</td>\n",
       "      <td>No</td>\n",
       "      <td>Yes</td>\n",
       "      <td>Yes</td>\n",
       "      <td>0</td>\n",
       "      <td>Yes</td>\n",
       "      <td>No</td>\n",
       "      <td>25.75</td>\n",
       "      <td>...</td>\n",
       "      <td>0</td>\n",
       "      <td>1</td>\n",
       "      <td>0</td>\n",
       "      <td>1</td>\n",
       "      <td>0</td>\n",
       "      <td>0</td>\n",
       "      <td>1</td>\n",
       "      <td>0</td>\n",
       "      <td>0</td>\n",
       "      <td>1</td>\n",
       "    </tr>\n",
       "    <tr>\n",
       "      <th>2856</th>\n",
       "      <td>40.363446</td>\n",
       "      <td>-123.835041</td>\n",
       "      <td>Female</td>\n",
       "      <td>No</td>\n",
       "      <td>Yes</td>\n",
       "      <td>No</td>\n",
       "      <td>0</td>\n",
       "      <td>No</td>\n",
       "      <td>No</td>\n",
       "      <td>56.05</td>\n",
       "      <td>...</td>\n",
       "      <td>1</td>\n",
       "      <td>0</td>\n",
       "      <td>1</td>\n",
       "      <td>0</td>\n",
       "      <td>0</td>\n",
       "      <td>0</td>\n",
       "      <td>1</td>\n",
       "      <td>1</td>\n",
       "      <td>0</td>\n",
       "      <td>0</td>\n",
       "    </tr>\n",
       "    <tr>\n",
       "      <th>4331</th>\n",
       "      <td>34.089953</td>\n",
       "      <td>-118.294824</td>\n",
       "      <td>Male</td>\n",
       "      <td>No</td>\n",
       "      <td>Yes</td>\n",
       "      <td>Yes</td>\n",
       "      <td>0</td>\n",
       "      <td>Yes</td>\n",
       "      <td>No</td>\n",
       "      <td>19.85</td>\n",
       "      <td>...</td>\n",
       "      <td>0</td>\n",
       "      <td>1</td>\n",
       "      <td>0</td>\n",
       "      <td>1</td>\n",
       "      <td>0</td>\n",
       "      <td>0</td>\n",
       "      <td>1</td>\n",
       "      <td>0</td>\n",
       "      <td>0</td>\n",
       "      <td>1</td>\n",
       "    </tr>\n",
       "    <tr>\n",
       "      <th>4687</th>\n",
       "      <td>33.739412</td>\n",
       "      <td>-117.173334</td>\n",
       "      <td>Male</td>\n",
       "      <td>No</td>\n",
       "      <td>Yes</td>\n",
       "      <td>Yes</td>\n",
       "      <td>0</td>\n",
       "      <td>Yes</td>\n",
       "      <td>No</td>\n",
       "      <td>25.35</td>\n",
       "      <td>...</td>\n",
       "      <td>0</td>\n",
       "      <td>1</td>\n",
       "      <td>0</td>\n",
       "      <td>1</td>\n",
       "      <td>0</td>\n",
       "      <td>0</td>\n",
       "      <td>1</td>\n",
       "      <td>0</td>\n",
       "      <td>0</td>\n",
       "      <td>1</td>\n",
       "    </tr>\n",
       "    <tr>\n",
       "      <th>5104</th>\n",
       "      <td>37.078873</td>\n",
       "      <td>-122.090386</td>\n",
       "      <td>Female</td>\n",
       "      <td>No</td>\n",
       "      <td>Yes</td>\n",
       "      <td>Yes</td>\n",
       "      <td>0</td>\n",
       "      <td>Yes</td>\n",
       "      <td>No</td>\n",
       "      <td>20.00</td>\n",
       "      <td>...</td>\n",
       "      <td>0</td>\n",
       "      <td>1</td>\n",
       "      <td>0</td>\n",
       "      <td>1</td>\n",
       "      <td>0</td>\n",
       "      <td>0</td>\n",
       "      <td>1</td>\n",
       "      <td>0</td>\n",
       "      <td>0</td>\n",
       "      <td>1</td>\n",
       "    </tr>\n",
       "    <tr>\n",
       "      <th>5719</th>\n",
       "      <td>34.144703</td>\n",
       "      <td>-117.770299</td>\n",
       "      <td>Male</td>\n",
       "      <td>No</td>\n",
       "      <td>Yes</td>\n",
       "      <td>Yes</td>\n",
       "      <td>0</td>\n",
       "      <td>Yes</td>\n",
       "      <td>Yes</td>\n",
       "      <td>19.70</td>\n",
       "      <td>...</td>\n",
       "      <td>0</td>\n",
       "      <td>1</td>\n",
       "      <td>0</td>\n",
       "      <td>1</td>\n",
       "      <td>0</td>\n",
       "      <td>1</td>\n",
       "      <td>0</td>\n",
       "      <td>0</td>\n",
       "      <td>0</td>\n",
       "      <td>1</td>\n",
       "    </tr>\n",
       "    <tr>\n",
       "      <th>6772</th>\n",
       "      <td>33.970343</td>\n",
       "      <td>-118.171368</td>\n",
       "      <td>Female</td>\n",
       "      <td>No</td>\n",
       "      <td>Yes</td>\n",
       "      <td>Yes</td>\n",
       "      <td>0</td>\n",
       "      <td>Yes</td>\n",
       "      <td>No</td>\n",
       "      <td>73.35</td>\n",
       "      <td>...</td>\n",
       "      <td>1</td>\n",
       "      <td>0</td>\n",
       "      <td>1</td>\n",
       "      <td>0</td>\n",
       "      <td>0</td>\n",
       "      <td>0</td>\n",
       "      <td>1</td>\n",
       "      <td>0</td>\n",
       "      <td>0</td>\n",
       "      <td>1</td>\n",
       "    </tr>\n",
       "    <tr>\n",
       "      <th>6840</th>\n",
       "      <td>33.782068</td>\n",
       "      <td>-118.262263</td>\n",
       "      <td>Male</td>\n",
       "      <td>No</td>\n",
       "      <td>No</td>\n",
       "      <td>Yes</td>\n",
       "      <td>0</td>\n",
       "      <td>Yes</td>\n",
       "      <td>Yes</td>\n",
       "      <td>61.90</td>\n",
       "      <td>...</td>\n",
       "      <td>1</td>\n",
       "      <td>0</td>\n",
       "      <td>0</td>\n",
       "      <td>0</td>\n",
       "      <td>0</td>\n",
       "      <td>0</td>\n",
       "      <td>1</td>\n",
       "      <td>0</td>\n",
       "      <td>0</td>\n",
       "      <td>0</td>\n",
       "    </tr>\n",
       "  </tbody>\n",
       "</table>\n",
       "<p>11 rows × 35 columns</p>\n",
       "</div>"
      ],
      "text/plain": [
       "       Latitude   Longitude  Gender SeniorCitizen Partner Dependents  \\\n",
       "2234  34.084909 -117.258107  Female            No     Yes         No   \n",
       "2438  36.869584 -118.189241    Male            No      No         No   \n",
       "2568  37.590421 -122.306467  Female            No     Yes         No   \n",
       "2667  37.306612 -122.080621    Male            No     Yes        Yes   \n",
       "2856  40.363446 -123.835041  Female            No     Yes         No   \n",
       "4331  34.089953 -118.294824    Male            No     Yes        Yes   \n",
       "4687  33.739412 -117.173334    Male            No     Yes        Yes   \n",
       "5104  37.078873 -122.090386  Female            No     Yes        Yes   \n",
       "5719  34.144703 -117.770299    Male            No     Yes        Yes   \n",
       "6772  33.970343 -118.171368  Female            No     Yes        Yes   \n",
       "6840  33.782068 -118.262263    Male            No      No        Yes   \n",
       "\n",
       "      TenureMonths PhoneService PaperlessBilling  MonthlyCharges  ...  \\\n",
       "2234             0           No              Yes           52.55  ...   \n",
       "2438             0          Yes               No           20.25  ...   \n",
       "2568             0          Yes               No           80.85  ...   \n",
       "2667             0          Yes               No           25.75  ...   \n",
       "2856             0           No               No           56.05  ...   \n",
       "4331             0          Yes               No           19.85  ...   \n",
       "4687             0          Yes               No           25.35  ...   \n",
       "5104             0          Yes               No           20.00  ...   \n",
       "5719             0          Yes              Yes           19.70  ...   \n",
       "6772             0          Yes               No           73.35  ...   \n",
       "6840             0          Yes              Yes           61.90  ...   \n",
       "\n",
       "      TechSupport_Yes  StreamingTV_No_internet_service  StreamingTV_Yes  \\\n",
       "2234                1                                0                1   \n",
       "2438                0                                1                0   \n",
       "2568                0                                0                1   \n",
       "2667                0                                1                0   \n",
       "2856                1                                0                1   \n",
       "4331                0                                1                0   \n",
       "4687                0                                1                0   \n",
       "5104                0                                1                0   \n",
       "5719                0                                1                0   \n",
       "6772                1                                0                1   \n",
       "6840                1                                0                0   \n",
       "\n",
       "      StreamingMovies_No_internet_service  StreamingMovies_Yes  \\\n",
       "2234                                    0                    0   \n",
       "2438                                    1                    0   \n",
       "2568                                    0                    1   \n",
       "2667                                    1                    0   \n",
       "2856                                    0                    0   \n",
       "4331                                    1                    0   \n",
       "4687                                    1                    0   \n",
       "5104                                    1                    0   \n",
       "5719                                    1                    0   \n",
       "6772                                    0                    0   \n",
       "6840                                    0                    0   \n",
       "\n",
       "      Contract_One_year  Contract_Two_year  \\\n",
       "2234                  0                  1   \n",
       "2438                  0                  1   \n",
       "2568                  0                  1   \n",
       "2667                  0                  1   \n",
       "2856                  0                  1   \n",
       "4331                  0                  1   \n",
       "4687                  0                  1   \n",
       "5104                  0                  1   \n",
       "5719                  1                  0   \n",
       "6772                  0                  1   \n",
       "6840                  0                  1   \n",
       "\n",
       "      PaymentMethod_Credit_card_(automatic)  PaymentMethod_Electronic_check  \\\n",
       "2234                                      0                               0   \n",
       "2438                                      0                               0   \n",
       "2568                                      0                               0   \n",
       "2667                                      0                               0   \n",
       "2856                                      1                               0   \n",
       "4331                                      0                               0   \n",
       "4687                                      0                               0   \n",
       "5104                                      0                               0   \n",
       "5719                                      0                               0   \n",
       "6772                                      0                               0   \n",
       "6840                                      0                               0   \n",
       "\n",
       "      PaymentMethod_Mailed_check  \n",
       "2234                           0  \n",
       "2438                           1  \n",
       "2568                           1  \n",
       "2667                           1  \n",
       "2856                           0  \n",
       "4331                           1  \n",
       "4687                           1  \n",
       "5104                           1  \n",
       "5719                           1  \n",
       "6772                           1  \n",
       "6840                           0  \n",
       "\n",
       "[11 rows x 35 columns]"
      ]
     },
     "execution_count": 25,
     "metadata": {},
     "output_type": "execute_result"
    }
   ],
   "source": [
    "nan_rows = df[df['TotalCharges'].isna()]\n",
    "nan_rows"
   ]
  },
  {
   "cell_type": "code",
   "execution_count": 26,
   "metadata": {},
   "outputs": [],
   "source": [
    "## Drop those rows\n",
    "df = df.dropna(subset=['TotalCharges'])"
   ]
  },
  {
   "cell_type": "code",
   "execution_count": 27,
   "metadata": {},
   "outputs": [
    {
     "name": "stdout",
     "output_type": "stream",
     "text": [
      "<class 'pandas.core.frame.DataFrame'>\n",
      "Int64Index: 7032 entries, 0 to 7042\n",
      "Data columns (total 35 columns):\n",
      " #   Column                                 Non-Null Count  Dtype  \n",
      "---  ------                                 --------------  -----  \n",
      " 0   Latitude                               7032 non-null   float64\n",
      " 1   Longitude                              7032 non-null   float64\n",
      " 2   Gender                                 7032 non-null   object \n",
      " 3   SeniorCitizen                          7032 non-null   object \n",
      " 4   Partner                                7032 non-null   object \n",
      " 5   Dependents                             7032 non-null   object \n",
      " 6   TenureMonths                           7032 non-null   int64  \n",
      " 7   PhoneService                           7032 non-null   object \n",
      " 8   PaperlessBilling                       7032 non-null   object \n",
      " 9   MonthlyCharges                         7032 non-null   float64\n",
      " 10  TotalCharges                           7032 non-null   float64\n",
      " 11  ChurnValue                             7032 non-null   int64  \n",
      " 12  ChurnScore                             7032 non-null   int64  \n",
      " 13  CLTV                                   7032 non-null   int64  \n",
      " 14  MultipleLines_No_phone_service         7032 non-null   uint8  \n",
      " 15  MultipleLines_Yes                      7032 non-null   uint8  \n",
      " 16  InternetService_Fiber_optic            7032 non-null   uint8  \n",
      " 17  InternetService_No                     7032 non-null   uint8  \n",
      " 18  OnlineSecurity_No_internet_service     7032 non-null   uint8  \n",
      " 19  OnlineSecurity_Yes                     7032 non-null   uint8  \n",
      " 20  OnlineBackup_No_internet_service       7032 non-null   uint8  \n",
      " 21  OnlineBackup_Yes                       7032 non-null   uint8  \n",
      " 22  DeviceProtection_No_internet_service   7032 non-null   uint8  \n",
      " 23  DeviceProtection_Yes                   7032 non-null   uint8  \n",
      " 24  TechSupport_No_internet_service        7032 non-null   uint8  \n",
      " 25  TechSupport_Yes                        7032 non-null   uint8  \n",
      " 26  StreamingTV_No_internet_service        7032 non-null   uint8  \n",
      " 27  StreamingTV_Yes                        7032 non-null   uint8  \n",
      " 28  StreamingMovies_No_internet_service    7032 non-null   uint8  \n",
      " 29  StreamingMovies_Yes                    7032 non-null   uint8  \n",
      " 30  Contract_One_year                      7032 non-null   uint8  \n",
      " 31  Contract_Two_year                      7032 non-null   uint8  \n",
      " 32  PaymentMethod_Credit_card_(automatic)  7032 non-null   uint8  \n",
      " 33  PaymentMethod_Electronic_check         7032 non-null   uint8  \n",
      " 34  PaymentMethod_Mailed_check             7032 non-null   uint8  \n",
      "dtypes: float64(4), int64(4), object(6), uint8(21)\n",
      "memory usage: 968.3+ KB\n"
     ]
    }
   ],
   "source": [
    "df.info()"
   ]
  },
  {
   "cell_type": "markdown",
   "metadata": {},
   "source": [
    "Before we take care of the Cities variables, let us take care of the binary columns that are still saved as objects"
   ]
  },
  {
   "cell_type": "code",
   "execution_count": 28,
   "metadata": {},
   "outputs": [
    {
     "data": {
      "text/html": [
       "<div>\n",
       "<style scoped>\n",
       "    .dataframe tbody tr th:only-of-type {\n",
       "        vertical-align: middle;\n",
       "    }\n",
       "\n",
       "    .dataframe tbody tr th {\n",
       "        vertical-align: top;\n",
       "    }\n",
       "\n",
       "    .dataframe thead th {\n",
       "        text-align: right;\n",
       "    }\n",
       "</style>\n",
       "<table border=\"1\" class=\"dataframe\">\n",
       "  <thead>\n",
       "    <tr style=\"text-align: right;\">\n",
       "      <th></th>\n",
       "      <th>Gender</th>\n",
       "      <th>SeniorCitizen</th>\n",
       "      <th>Partner</th>\n",
       "      <th>Dependents</th>\n",
       "      <th>PhoneService</th>\n",
       "      <th>PaperlessBilling</th>\n",
       "    </tr>\n",
       "  </thead>\n",
       "  <tbody>\n",
       "    <tr>\n",
       "      <th>0</th>\n",
       "      <td>Male</td>\n",
       "      <td>No</td>\n",
       "      <td>No</td>\n",
       "      <td>No</td>\n",
       "      <td>Yes</td>\n",
       "      <td>Yes</td>\n",
       "    </tr>\n",
       "    <tr>\n",
       "      <th>1</th>\n",
       "      <td>Female</td>\n",
       "      <td>No</td>\n",
       "      <td>No</td>\n",
       "      <td>Yes</td>\n",
       "      <td>Yes</td>\n",
       "      <td>Yes</td>\n",
       "    </tr>\n",
       "    <tr>\n",
       "      <th>2</th>\n",
       "      <td>Female</td>\n",
       "      <td>No</td>\n",
       "      <td>No</td>\n",
       "      <td>Yes</td>\n",
       "      <td>Yes</td>\n",
       "      <td>Yes</td>\n",
       "    </tr>\n",
       "    <tr>\n",
       "      <th>3</th>\n",
       "      <td>Female</td>\n",
       "      <td>No</td>\n",
       "      <td>Yes</td>\n",
       "      <td>Yes</td>\n",
       "      <td>Yes</td>\n",
       "      <td>Yes</td>\n",
       "    </tr>\n",
       "    <tr>\n",
       "      <th>4</th>\n",
       "      <td>Male</td>\n",
       "      <td>No</td>\n",
       "      <td>No</td>\n",
       "      <td>Yes</td>\n",
       "      <td>Yes</td>\n",
       "      <td>Yes</td>\n",
       "    </tr>\n",
       "    <tr>\n",
       "      <th>...</th>\n",
       "      <td>...</td>\n",
       "      <td>...</td>\n",
       "      <td>...</td>\n",
       "      <td>...</td>\n",
       "      <td>...</td>\n",
       "      <td>...</td>\n",
       "    </tr>\n",
       "    <tr>\n",
       "      <th>7038</th>\n",
       "      <td>Female</td>\n",
       "      <td>No</td>\n",
       "      <td>No</td>\n",
       "      <td>No</td>\n",
       "      <td>Yes</td>\n",
       "      <td>Yes</td>\n",
       "    </tr>\n",
       "    <tr>\n",
       "      <th>7039</th>\n",
       "      <td>Male</td>\n",
       "      <td>No</td>\n",
       "      <td>Yes</td>\n",
       "      <td>Yes</td>\n",
       "      <td>Yes</td>\n",
       "      <td>Yes</td>\n",
       "    </tr>\n",
       "    <tr>\n",
       "      <th>7040</th>\n",
       "      <td>Female</td>\n",
       "      <td>No</td>\n",
       "      <td>Yes</td>\n",
       "      <td>Yes</td>\n",
       "      <td>Yes</td>\n",
       "      <td>Yes</td>\n",
       "    </tr>\n",
       "    <tr>\n",
       "      <th>7041</th>\n",
       "      <td>Female</td>\n",
       "      <td>No</td>\n",
       "      <td>Yes</td>\n",
       "      <td>Yes</td>\n",
       "      <td>No</td>\n",
       "      <td>Yes</td>\n",
       "    </tr>\n",
       "    <tr>\n",
       "      <th>7042</th>\n",
       "      <td>Male</td>\n",
       "      <td>No</td>\n",
       "      <td>No</td>\n",
       "      <td>No</td>\n",
       "      <td>Yes</td>\n",
       "      <td>Yes</td>\n",
       "    </tr>\n",
       "  </tbody>\n",
       "</table>\n",
       "<p>7032 rows × 6 columns</p>\n",
       "</div>"
      ],
      "text/plain": [
       "      Gender SeniorCitizen Partner Dependents PhoneService PaperlessBilling\n",
       "0       Male            No      No         No          Yes              Yes\n",
       "1     Female            No      No        Yes          Yes              Yes\n",
       "2     Female            No      No        Yes          Yes              Yes\n",
       "3     Female            No     Yes        Yes          Yes              Yes\n",
       "4       Male            No      No        Yes          Yes              Yes\n",
       "...      ...           ...     ...        ...          ...              ...\n",
       "7038  Female            No      No         No          Yes              Yes\n",
       "7039    Male            No     Yes        Yes          Yes              Yes\n",
       "7040  Female            No     Yes        Yes          Yes              Yes\n",
       "7041  Female            No     Yes        Yes           No              Yes\n",
       "7042    Male            No      No         No          Yes              Yes\n",
       "\n",
       "[7032 rows x 6 columns]"
      ]
     },
     "execution_count": 28,
     "metadata": {},
     "output_type": "execute_result"
    }
   ],
   "source": [
    "df[binary_features]"
   ]
  },
  {
   "cell_type": "code",
   "execution_count": 29,
   "metadata": {},
   "outputs": [],
   "source": [
    "# Map everything to 1 and 0\n",
    "# Set up a dictionary where we map\n",
    "yes_and_no = {\n",
    "    'Yes': 1,\n",
    "    'No': 0\n",
    "}\n",
    "df['SeniorCitizen'] = df['SeniorCitizen'].map(yes_and_no)\n",
    "df['Partner'] = df['Partner'].map(yes_and_no)\n",
    "df['Dependents'] = df['Dependents'].map(yes_and_no)\n",
    "df['PhoneService'] = df['PhoneService'].map(yes_and_no)\n",
    "df['PaperlessBilling'] = df['PaperlessBilling'].map(yes_and_no)"
   ]
  },
  {
   "cell_type": "code",
   "execution_count": 30,
   "metadata": {},
   "outputs": [],
   "source": [
    "# map males to 1 and females to 0\n",
    "male_female = {\n",
    "    'Male': 1,\n",
    "    'Female': 0\n",
    "}\n",
    "df['Gender'] = df['Gender'].map(male_female)"
   ]
  },
  {
   "cell_type": "code",
   "execution_count": 31,
   "metadata": {},
   "outputs": [
    {
     "data": {
      "text/html": [
       "<div>\n",
       "<style scoped>\n",
       "    .dataframe tbody tr th:only-of-type {\n",
       "        vertical-align: middle;\n",
       "    }\n",
       "\n",
       "    .dataframe tbody tr th {\n",
       "        vertical-align: top;\n",
       "    }\n",
       "\n",
       "    .dataframe thead th {\n",
       "        text-align: right;\n",
       "    }\n",
       "</style>\n",
       "<table border=\"1\" class=\"dataframe\">\n",
       "  <thead>\n",
       "    <tr style=\"text-align: right;\">\n",
       "      <th></th>\n",
       "      <th>Gender</th>\n",
       "      <th>SeniorCitizen</th>\n",
       "      <th>Partner</th>\n",
       "      <th>Dependents</th>\n",
       "      <th>PhoneService</th>\n",
       "      <th>PaperlessBilling</th>\n",
       "    </tr>\n",
       "  </thead>\n",
       "  <tbody>\n",
       "    <tr>\n",
       "      <th>0</th>\n",
       "      <td>1</td>\n",
       "      <td>0</td>\n",
       "      <td>0</td>\n",
       "      <td>0</td>\n",
       "      <td>1</td>\n",
       "      <td>1</td>\n",
       "    </tr>\n",
       "    <tr>\n",
       "      <th>1</th>\n",
       "      <td>0</td>\n",
       "      <td>0</td>\n",
       "      <td>0</td>\n",
       "      <td>1</td>\n",
       "      <td>1</td>\n",
       "      <td>1</td>\n",
       "    </tr>\n",
       "    <tr>\n",
       "      <th>2</th>\n",
       "      <td>0</td>\n",
       "      <td>0</td>\n",
       "      <td>0</td>\n",
       "      <td>1</td>\n",
       "      <td>1</td>\n",
       "      <td>1</td>\n",
       "    </tr>\n",
       "    <tr>\n",
       "      <th>3</th>\n",
       "      <td>0</td>\n",
       "      <td>0</td>\n",
       "      <td>1</td>\n",
       "      <td>1</td>\n",
       "      <td>1</td>\n",
       "      <td>1</td>\n",
       "    </tr>\n",
       "    <tr>\n",
       "      <th>4</th>\n",
       "      <td>1</td>\n",
       "      <td>0</td>\n",
       "      <td>0</td>\n",
       "      <td>1</td>\n",
       "      <td>1</td>\n",
       "      <td>1</td>\n",
       "    </tr>\n",
       "    <tr>\n",
       "      <th>...</th>\n",
       "      <td>...</td>\n",
       "      <td>...</td>\n",
       "      <td>...</td>\n",
       "      <td>...</td>\n",
       "      <td>...</td>\n",
       "      <td>...</td>\n",
       "    </tr>\n",
       "    <tr>\n",
       "      <th>7038</th>\n",
       "      <td>0</td>\n",
       "      <td>0</td>\n",
       "      <td>0</td>\n",
       "      <td>0</td>\n",
       "      <td>1</td>\n",
       "      <td>1</td>\n",
       "    </tr>\n",
       "    <tr>\n",
       "      <th>7039</th>\n",
       "      <td>1</td>\n",
       "      <td>0</td>\n",
       "      <td>1</td>\n",
       "      <td>1</td>\n",
       "      <td>1</td>\n",
       "      <td>1</td>\n",
       "    </tr>\n",
       "    <tr>\n",
       "      <th>7040</th>\n",
       "      <td>0</td>\n",
       "      <td>0</td>\n",
       "      <td>1</td>\n",
       "      <td>1</td>\n",
       "      <td>1</td>\n",
       "      <td>1</td>\n",
       "    </tr>\n",
       "    <tr>\n",
       "      <th>7041</th>\n",
       "      <td>0</td>\n",
       "      <td>0</td>\n",
       "      <td>1</td>\n",
       "      <td>1</td>\n",
       "      <td>0</td>\n",
       "      <td>1</td>\n",
       "    </tr>\n",
       "    <tr>\n",
       "      <th>7042</th>\n",
       "      <td>1</td>\n",
       "      <td>0</td>\n",
       "      <td>0</td>\n",
       "      <td>0</td>\n",
       "      <td>1</td>\n",
       "      <td>1</td>\n",
       "    </tr>\n",
       "  </tbody>\n",
       "</table>\n",
       "<p>7032 rows × 6 columns</p>\n",
       "</div>"
      ],
      "text/plain": [
       "      Gender  SeniorCitizen  Partner  Dependents  PhoneService  \\\n",
       "0          1              0        0           0             1   \n",
       "1          0              0        0           1             1   \n",
       "2          0              0        0           1             1   \n",
       "3          0              0        1           1             1   \n",
       "4          1              0        0           1             1   \n",
       "...      ...            ...      ...         ...           ...   \n",
       "7038       0              0        0           0             1   \n",
       "7039       1              0        1           1             1   \n",
       "7040       0              0        1           1             1   \n",
       "7041       0              0        1           1             0   \n",
       "7042       1              0        0           0             1   \n",
       "\n",
       "      PaperlessBilling  \n",
       "0                    1  \n",
       "1                    1  \n",
       "2                    1  \n",
       "3                    1  \n",
       "4                    1  \n",
       "...                ...  \n",
       "7038                 1  \n",
       "7039                 1  \n",
       "7040                 1  \n",
       "7041                 1  \n",
       "7042                 1  \n",
       "\n",
       "[7032 rows x 6 columns]"
      ]
     },
     "execution_count": 31,
     "metadata": {},
     "output_type": "execute_result"
    }
   ],
   "source": [
    "df[binary_features]"
   ]
  },
  {
   "cell_type": "code",
   "execution_count": 32,
   "metadata": {},
   "outputs": [
    {
     "data": {
      "text/plain": [
       "Index(['Latitude', 'Longitude', 'Gender', 'SeniorCitizen', 'Partner',\n",
       "       'Dependents', 'TenureMonths', 'PhoneService', 'PaperlessBilling',\n",
       "       'MonthlyCharges', 'TotalCharges', 'ChurnValue', 'ChurnScore', 'CLTV',\n",
       "       'MultipleLines_No_phone_service', 'MultipleLines_Yes',\n",
       "       'InternetService_Fiber_optic', 'InternetService_No',\n",
       "       'OnlineSecurity_No_internet_service', 'OnlineSecurity_Yes',\n",
       "       'OnlineBackup_No_internet_service', 'OnlineBackup_Yes',\n",
       "       'DeviceProtection_No_internet_service', 'DeviceProtection_Yes',\n",
       "       'TechSupport_No_internet_service', 'TechSupport_Yes',\n",
       "       'StreamingTV_No_internet_service', 'StreamingTV_Yes',\n",
       "       'StreamingMovies_No_internet_service', 'StreamingMovies_Yes',\n",
       "       'Contract_One_year', 'Contract_Two_year',\n",
       "       'PaymentMethod_Credit_card_(automatic)',\n",
       "       'PaymentMethod_Electronic_check', 'PaymentMethod_Mailed_check'],\n",
       "      dtype='object')"
      ]
     },
     "execution_count": 32,
     "metadata": {},
     "output_type": "execute_result"
    }
   ],
   "source": [
    "df.columns"
   ]
  },
  {
   "cell_type": "markdown",
   "metadata": {},
   "source": [
    "ChurnValue can be used as binary classification target and ChurnValue as a regression task."
   ]
  },
  {
   "cell_type": "code",
   "execution_count": 33,
   "metadata": {},
   "outputs": [],
   "source": [
    "reg_telco = df.drop('ChurnValue', axis=1)\n",
    "class_telco = df.drop('ChurnScore', axis=1)"
   ]
  },
  {
   "cell_type": "code",
   "execution_count": 34,
   "metadata": {},
   "outputs": [
    {
     "name": "stdout",
     "output_type": "stream",
     "text": [
      "<class 'pandas.core.frame.DataFrame'>\n",
      "Int64Index: 7032 entries, 0 to 7042\n",
      "Data columns (total 34 columns):\n",
      " #   Column                                 Non-Null Count  Dtype  \n",
      "---  ------                                 --------------  -----  \n",
      " 0   Latitude                               7032 non-null   float64\n",
      " 1   Longitude                              7032 non-null   float64\n",
      " 2   Gender                                 7032 non-null   int64  \n",
      " 3   SeniorCitizen                          7032 non-null   int64  \n",
      " 4   Partner                                7032 non-null   int64  \n",
      " 5   Dependents                             7032 non-null   int64  \n",
      " 6   TenureMonths                           7032 non-null   int64  \n",
      " 7   PhoneService                           7032 non-null   int64  \n",
      " 8   PaperlessBilling                       7032 non-null   int64  \n",
      " 9   MonthlyCharges                         7032 non-null   float64\n",
      " 10  TotalCharges                           7032 non-null   float64\n",
      " 11  ChurnValue                             7032 non-null   int64  \n",
      " 12  CLTV                                   7032 non-null   int64  \n",
      " 13  MultipleLines_No_phone_service         7032 non-null   uint8  \n",
      " 14  MultipleLines_Yes                      7032 non-null   uint8  \n",
      " 15  InternetService_Fiber_optic            7032 non-null   uint8  \n",
      " 16  InternetService_No                     7032 non-null   uint8  \n",
      " 17  OnlineSecurity_No_internet_service     7032 non-null   uint8  \n",
      " 18  OnlineSecurity_Yes                     7032 non-null   uint8  \n",
      " 19  OnlineBackup_No_internet_service       7032 non-null   uint8  \n",
      " 20  OnlineBackup_Yes                       7032 non-null   uint8  \n",
      " 21  DeviceProtection_No_internet_service   7032 non-null   uint8  \n",
      " 22  DeviceProtection_Yes                   7032 non-null   uint8  \n",
      " 23  TechSupport_No_internet_service        7032 non-null   uint8  \n",
      " 24  TechSupport_Yes                        7032 non-null   uint8  \n",
      " 25  StreamingTV_No_internet_service        7032 non-null   uint8  \n",
      " 26  StreamingTV_Yes                        7032 non-null   uint8  \n",
      " 27  StreamingMovies_No_internet_service    7032 non-null   uint8  \n",
      " 28  StreamingMovies_Yes                    7032 non-null   uint8  \n",
      " 29  Contract_One_year                      7032 non-null   uint8  \n",
      " 30  Contract_Two_year                      7032 non-null   uint8  \n",
      " 31  PaymentMethod_Credit_card_(automatic)  7032 non-null   uint8  \n",
      " 32  PaymentMethod_Electronic_check         7032 non-null   uint8  \n",
      " 33  PaymentMethod_Mailed_check             7032 non-null   uint8  \n",
      "dtypes: float64(4), int64(9), uint8(21)\n",
      "memory usage: 913.3 KB\n"
     ]
    }
   ],
   "source": [
    "class_telco.info()"
   ]
  },
  {
   "cell_type": "code",
   "execution_count": 35,
   "metadata": {},
   "outputs": [
    {
     "data": {
      "text/html": [
       "<div>\n",
       "<style scoped>\n",
       "    .dataframe tbody tr th:only-of-type {\n",
       "        vertical-align: middle;\n",
       "    }\n",
       "\n",
       "    .dataframe tbody tr th {\n",
       "        vertical-align: top;\n",
       "    }\n",
       "\n",
       "    .dataframe thead th {\n",
       "        text-align: right;\n",
       "    }\n",
       "</style>\n",
       "<table border=\"1\" class=\"dataframe\">\n",
       "  <thead>\n",
       "    <tr style=\"text-align: right;\">\n",
       "      <th></th>\n",
       "      <th>Latitude</th>\n",
       "      <th>Longitude</th>\n",
       "      <th>Gender</th>\n",
       "      <th>SeniorCitizen</th>\n",
       "      <th>Partner</th>\n",
       "      <th>Dependents</th>\n",
       "      <th>TenureMonths</th>\n",
       "      <th>PhoneService</th>\n",
       "      <th>PaperlessBilling</th>\n",
       "      <th>MonthlyCharges</th>\n",
       "      <th>...</th>\n",
       "      <th>TechSupport_Yes</th>\n",
       "      <th>StreamingTV_No_internet_service</th>\n",
       "      <th>StreamingTV_Yes</th>\n",
       "      <th>StreamingMovies_No_internet_service</th>\n",
       "      <th>StreamingMovies_Yes</th>\n",
       "      <th>Contract_One_year</th>\n",
       "      <th>Contract_Two_year</th>\n",
       "      <th>PaymentMethod_Credit_card_(automatic)</th>\n",
       "      <th>PaymentMethod_Electronic_check</th>\n",
       "      <th>PaymentMethod_Mailed_check</th>\n",
       "    </tr>\n",
       "  </thead>\n",
       "  <tbody>\n",
       "    <tr>\n",
       "      <th>count</th>\n",
       "      <td>7032.000000</td>\n",
       "      <td>7032.000000</td>\n",
       "      <td>7032.000000</td>\n",
       "      <td>7032.000000</td>\n",
       "      <td>7032.000000</td>\n",
       "      <td>7032.000000</td>\n",
       "      <td>7032.000000</td>\n",
       "      <td>7032.000000</td>\n",
       "      <td>7032.000000</td>\n",
       "      <td>7032.000000</td>\n",
       "      <td>...</td>\n",
       "      <td>7032.000000</td>\n",
       "      <td>7032.000000</td>\n",
       "      <td>7032.000000</td>\n",
       "      <td>7032.000000</td>\n",
       "      <td>7032.000000</td>\n",
       "      <td>7032.000000</td>\n",
       "      <td>7032.000000</td>\n",
       "      <td>7032.000000</td>\n",
       "      <td>7032.000000</td>\n",
       "      <td>7032.000000</td>\n",
       "    </tr>\n",
       "    <tr>\n",
       "      <th>mean</th>\n",
       "      <td>36.283307</td>\n",
       "      <td>-119.799215</td>\n",
       "      <td>0.504693</td>\n",
       "      <td>0.162400</td>\n",
       "      <td>0.482509</td>\n",
       "      <td>0.230375</td>\n",
       "      <td>32.421786</td>\n",
       "      <td>0.903299</td>\n",
       "      <td>0.592719</td>\n",
       "      <td>64.798208</td>\n",
       "      <td>...</td>\n",
       "      <td>0.290102</td>\n",
       "      <td>0.216155</td>\n",
       "      <td>0.384386</td>\n",
       "      <td>0.216155</td>\n",
       "      <td>0.388367</td>\n",
       "      <td>0.209329</td>\n",
       "      <td>0.239619</td>\n",
       "      <td>0.216297</td>\n",
       "      <td>0.336320</td>\n",
       "      <td>0.228100</td>\n",
       "    </tr>\n",
       "    <tr>\n",
       "      <th>std</th>\n",
       "      <td>2.456118</td>\n",
       "      <td>2.157588</td>\n",
       "      <td>0.500014</td>\n",
       "      <td>0.368844</td>\n",
       "      <td>0.499729</td>\n",
       "      <td>0.421103</td>\n",
       "      <td>24.545260</td>\n",
       "      <td>0.295571</td>\n",
       "      <td>0.491363</td>\n",
       "      <td>30.085974</td>\n",
       "      <td>...</td>\n",
       "      <td>0.453842</td>\n",
       "      <td>0.411650</td>\n",
       "      <td>0.486484</td>\n",
       "      <td>0.411650</td>\n",
       "      <td>0.487414</td>\n",
       "      <td>0.406858</td>\n",
       "      <td>0.426881</td>\n",
       "      <td>0.411748</td>\n",
       "      <td>0.472483</td>\n",
       "      <td>0.419637</td>\n",
       "    </tr>\n",
       "    <tr>\n",
       "      <th>min</th>\n",
       "      <td>32.555828</td>\n",
       "      <td>-124.301372</td>\n",
       "      <td>0.000000</td>\n",
       "      <td>0.000000</td>\n",
       "      <td>0.000000</td>\n",
       "      <td>0.000000</td>\n",
       "      <td>1.000000</td>\n",
       "      <td>0.000000</td>\n",
       "      <td>0.000000</td>\n",
       "      <td>18.250000</td>\n",
       "      <td>...</td>\n",
       "      <td>0.000000</td>\n",
       "      <td>0.000000</td>\n",
       "      <td>0.000000</td>\n",
       "      <td>0.000000</td>\n",
       "      <td>0.000000</td>\n",
       "      <td>0.000000</td>\n",
       "      <td>0.000000</td>\n",
       "      <td>0.000000</td>\n",
       "      <td>0.000000</td>\n",
       "      <td>0.000000</td>\n",
       "    </tr>\n",
       "    <tr>\n",
       "      <th>25%</th>\n",
       "      <td>34.030915</td>\n",
       "      <td>-121.815412</td>\n",
       "      <td>0.000000</td>\n",
       "      <td>0.000000</td>\n",
       "      <td>0.000000</td>\n",
       "      <td>0.000000</td>\n",
       "      <td>9.000000</td>\n",
       "      <td>1.000000</td>\n",
       "      <td>0.000000</td>\n",
       "      <td>35.587500</td>\n",
       "      <td>...</td>\n",
       "      <td>0.000000</td>\n",
       "      <td>0.000000</td>\n",
       "      <td>0.000000</td>\n",
       "      <td>0.000000</td>\n",
       "      <td>0.000000</td>\n",
       "      <td>0.000000</td>\n",
       "      <td>0.000000</td>\n",
       "      <td>0.000000</td>\n",
       "      <td>0.000000</td>\n",
       "      <td>0.000000</td>\n",
       "    </tr>\n",
       "    <tr>\n",
       "      <th>50%</th>\n",
       "      <td>36.391777</td>\n",
       "      <td>-119.735410</td>\n",
       "      <td>1.000000</td>\n",
       "      <td>0.000000</td>\n",
       "      <td>0.000000</td>\n",
       "      <td>0.000000</td>\n",
       "      <td>29.000000</td>\n",
       "      <td>1.000000</td>\n",
       "      <td>1.000000</td>\n",
       "      <td>70.350000</td>\n",
       "      <td>...</td>\n",
       "      <td>0.000000</td>\n",
       "      <td>0.000000</td>\n",
       "      <td>0.000000</td>\n",
       "      <td>0.000000</td>\n",
       "      <td>0.000000</td>\n",
       "      <td>0.000000</td>\n",
       "      <td>0.000000</td>\n",
       "      <td>0.000000</td>\n",
       "      <td>0.000000</td>\n",
       "      <td>0.000000</td>\n",
       "    </tr>\n",
       "    <tr>\n",
       "      <th>75%</th>\n",
       "      <td>38.227285</td>\n",
       "      <td>-118.043237</td>\n",
       "      <td>1.000000</td>\n",
       "      <td>0.000000</td>\n",
       "      <td>1.000000</td>\n",
       "      <td>0.000000</td>\n",
       "      <td>55.000000</td>\n",
       "      <td>1.000000</td>\n",
       "      <td>1.000000</td>\n",
       "      <td>89.862500</td>\n",
       "      <td>...</td>\n",
       "      <td>1.000000</td>\n",
       "      <td>0.000000</td>\n",
       "      <td>1.000000</td>\n",
       "      <td>0.000000</td>\n",
       "      <td>1.000000</td>\n",
       "      <td>0.000000</td>\n",
       "      <td>0.000000</td>\n",
       "      <td>0.000000</td>\n",
       "      <td>1.000000</td>\n",
       "      <td>0.000000</td>\n",
       "    </tr>\n",
       "    <tr>\n",
       "      <th>max</th>\n",
       "      <td>41.962127</td>\n",
       "      <td>-114.192901</td>\n",
       "      <td>1.000000</td>\n",
       "      <td>1.000000</td>\n",
       "      <td>1.000000</td>\n",
       "      <td>1.000000</td>\n",
       "      <td>72.000000</td>\n",
       "      <td>1.000000</td>\n",
       "      <td>1.000000</td>\n",
       "      <td>118.750000</td>\n",
       "      <td>...</td>\n",
       "      <td>1.000000</td>\n",
       "      <td>1.000000</td>\n",
       "      <td>1.000000</td>\n",
       "      <td>1.000000</td>\n",
       "      <td>1.000000</td>\n",
       "      <td>1.000000</td>\n",
       "      <td>1.000000</td>\n",
       "      <td>1.000000</td>\n",
       "      <td>1.000000</td>\n",
       "      <td>1.000000</td>\n",
       "    </tr>\n",
       "  </tbody>\n",
       "</table>\n",
       "<p>8 rows × 34 columns</p>\n",
       "</div>"
      ],
      "text/plain": [
       "          Latitude    Longitude       Gender  SeniorCitizen      Partner  \\\n",
       "count  7032.000000  7032.000000  7032.000000    7032.000000  7032.000000   \n",
       "mean     36.283307  -119.799215     0.504693       0.162400     0.482509   \n",
       "std       2.456118     2.157588     0.500014       0.368844     0.499729   \n",
       "min      32.555828  -124.301372     0.000000       0.000000     0.000000   \n",
       "25%      34.030915  -121.815412     0.000000       0.000000     0.000000   \n",
       "50%      36.391777  -119.735410     1.000000       0.000000     0.000000   \n",
       "75%      38.227285  -118.043237     1.000000       0.000000     1.000000   \n",
       "max      41.962127  -114.192901     1.000000       1.000000     1.000000   \n",
       "\n",
       "        Dependents  TenureMonths  PhoneService  PaperlessBilling  \\\n",
       "count  7032.000000   7032.000000   7032.000000       7032.000000   \n",
       "mean      0.230375     32.421786      0.903299          0.592719   \n",
       "std       0.421103     24.545260      0.295571          0.491363   \n",
       "min       0.000000      1.000000      0.000000          0.000000   \n",
       "25%       0.000000      9.000000      1.000000          0.000000   \n",
       "50%       0.000000     29.000000      1.000000          1.000000   \n",
       "75%       0.000000     55.000000      1.000000          1.000000   \n",
       "max       1.000000     72.000000      1.000000          1.000000   \n",
       "\n",
       "       MonthlyCharges  ...  TechSupport_Yes  StreamingTV_No_internet_service  \\\n",
       "count     7032.000000  ...      7032.000000                      7032.000000   \n",
       "mean        64.798208  ...         0.290102                         0.216155   \n",
       "std         30.085974  ...         0.453842                         0.411650   \n",
       "min         18.250000  ...         0.000000                         0.000000   \n",
       "25%         35.587500  ...         0.000000                         0.000000   \n",
       "50%         70.350000  ...         0.000000                         0.000000   \n",
       "75%         89.862500  ...         1.000000                         0.000000   \n",
       "max        118.750000  ...         1.000000                         1.000000   \n",
       "\n",
       "       StreamingTV_Yes  StreamingMovies_No_internet_service  \\\n",
       "count      7032.000000                          7032.000000   \n",
       "mean          0.384386                             0.216155   \n",
       "std           0.486484                             0.411650   \n",
       "min           0.000000                             0.000000   \n",
       "25%           0.000000                             0.000000   \n",
       "50%           0.000000                             0.000000   \n",
       "75%           1.000000                             0.000000   \n",
       "max           1.000000                             1.000000   \n",
       "\n",
       "       StreamingMovies_Yes  Contract_One_year  Contract_Two_year  \\\n",
       "count          7032.000000        7032.000000        7032.000000   \n",
       "mean              0.388367           0.209329           0.239619   \n",
       "std               0.487414           0.406858           0.426881   \n",
       "min               0.000000           0.000000           0.000000   \n",
       "25%               0.000000           0.000000           0.000000   \n",
       "50%               0.000000           0.000000           0.000000   \n",
       "75%               1.000000           0.000000           0.000000   \n",
       "max               1.000000           1.000000           1.000000   \n",
       "\n",
       "       PaymentMethod_Credit_card_(automatic)  PaymentMethod_Electronic_check  \\\n",
       "count                            7032.000000                     7032.000000   \n",
       "mean                                0.216297                        0.336320   \n",
       "std                                 0.411748                        0.472483   \n",
       "min                                 0.000000                        0.000000   \n",
       "25%                                 0.000000                        0.000000   \n",
       "50%                                 0.000000                        0.000000   \n",
       "75%                                 0.000000                        1.000000   \n",
       "max                                 1.000000                        1.000000   \n",
       "\n",
       "       PaymentMethod_Mailed_check  \n",
       "count                 7032.000000  \n",
       "mean                     0.228100  \n",
       "std                      0.419637  \n",
       "min                      0.000000  \n",
       "25%                      0.000000  \n",
       "50%                      0.000000  \n",
       "75%                      0.000000  \n",
       "max                      1.000000  \n",
       "\n",
       "[8 rows x 34 columns]"
      ]
     },
     "execution_count": 35,
     "metadata": {},
     "output_type": "execute_result"
    }
   ],
   "source": [
    "class_telco.describe()"
   ]
  },
  {
   "cell_type": "code",
   "execution_count": 39,
   "metadata": {},
   "outputs": [],
   "source": [
    "import matplotlib.pyplot as plt"
   ]
  },
  {
   "cell_type": "code",
   "execution_count": 64,
   "metadata": {},
   "outputs": [],
   "source": [
    "plt.style.use('seaborn')"
   ]
  },
  {
   "cell_type": "code",
   "execution_count": 65,
   "metadata": {},
   "outputs": [],
   "source": [
    "churn_counts = class_telco['ChurnValue'].value_counts()"
   ]
  },
  {
   "cell_type": "code",
   "execution_count": 77,
   "metadata": {},
   "outputs": [
    {
     "data": {
      "image/png": "[encoded data removed]",
      "text/plain": [
       "<Figure size 1200x650 with 1 Axes>"
      ]
     },
     "metadata": {},
     "output_type": "display_data"
    }
   ],
   "source": [
    "\n",
    "plt.figure(figsize=(12, 6.5))\n",
    "plt.bar(churn_counts.index, churn_counts.values, width=0.2)\n",
    "plt.xticks([0, 1], ['0.0', '1.0'])  # Set x-axis ticks to only 0.0 and 1.0\n",
    "plt.title('Distribution of $ChurnValue$')\n",
    "plt.xlabel('Churn Value')\n",
    "plt.ylabel('Count')\n",
    "plt.savefig('ChurnValueDist.png', dpi=300)\n",
    "plt.show()\n"
   ]
  },
  {
   "cell_type": "code",
   "execution_count": 57,
   "metadata": {},
   "outputs": [
    {
     "data": {
      "text/plain": [
       "<bound method IndexOpsMixin.value_counts of 0    5163\n",
       "1    1869\n",
       "Name: ChurnValue, dtype: int64>"
      ]
     },
     "execution_count": 57,
     "metadata": {},
     "output_type": "execute_result"
    }
   ],
   "source": [
    "churn_counts.value_counts"
   ]
  },
  {
   "cell_type": "code",
   "execution_count": 37,
   "metadata": {},
   "outputs": [
    {
     "data": {
      "text/plain": [
       "<AxesSubplot:>"
      ]
     },
     "execution_count": 37,
     "metadata": {},
     "output_type": "execute_result"
    },
    {
     "data": {
      "image/png": "[encoded data removed]",
      "text/plain": [
       "<Figure size 640x480 with 1 Axes>"
      ]
     },
     "metadata": {},
     "output_type": "display_data"
    }
   ],
   "source": [
    "class_telco['ChurnValue'].plot()"
   ]
  },
  {
   "cell_type": "markdown",
   "metadata": {},
   "source": [
    "### Demonstration of the Framework.\n",
    "\n",
    "Below I demonstrate the functionalities of the python framework I am working on.\n",
    "\n",
    "The module is built in a way that allows for either importing the entire thing in one go, or importing some individual functionalities (like functions that compute correlation, or cohen's kappa and so on) separately."
   ]
  },
  {
   "cell_type": "markdown",
   "metadata": {},
   "source": [
    "**Entire library:**"
   ]
  },
  {
   "cell_type": "code",
   "execution_count": 9,
   "metadata": {},
   "outputs": [],
   "source": [
    "# Can just import entire module\n",
    "import alice"
   ]
  },
  {
   "cell_type": "markdown",
   "metadata": {},
   "source": [
    "**Individual Functions:**"
   ]
  },
  {
   "cell_type": "code",
   "execution_count": 29,
   "metadata": {},
   "outputs": [],
   "source": [
    "# Or import individual functions\n",
    "\n",
    "# Import regression metrics\n",
    "from alice.metrics.regress import mse, rmse, mae\n",
    "# Import classification metrics\n",
    "from alice.metrics.classify import accuracy, precision, recall, f1\n",
    "\n",
    "# Import regression agreeability metric\n",
    "from alice.agreeability.regress import pearson\n",
    "# Import classification agreeability metric\n",
    "from alice.agreeability.classify import cohen_kappa\n",
    "\n",
    "# Import regression tests\n",
    "from alice.testing.regress import t_test\n",
    "# Import classification tests\n",
    "from alice.testing.classify import mcnemar_binomial, mcnemar_chisquare"
   ]
  },
  {
   "cell_type": "markdown",
   "metadata": {},
   "source": [
    "**Algorithm That Combines Backwards Feature Elimination with Inter-Rater Reliability:**"
   ]
  },
  {
   "cell_type": "code",
   "execution_count": 30,
   "metadata": {},
   "outputs": [],
   "source": [
    "# Import our demo search algorithm \n",
    "from alice.search_and_compare.sequential import BackEliminator"
   ]
  },
  {
   "cell_type": "markdown",
   "metadata": {},
   "source": [
    "Before running the algorithm I just look at all the columns I have:"
   ]
  },
  {
   "cell_type": "code",
   "execution_count": 31,
   "metadata": {},
   "outputs": [
    {
     "data": {
      "text/plain": [
       "Index(['Latitude', 'Longitude', 'Gender', 'SeniorCitizen', 'Partner',\n",
       "       'Dependents', 'TenureMonths', 'PhoneService', 'PaperlessBilling',\n",
       "       'MonthlyCharges', 'TotalCharges', 'ChurnValue', 'ChurnScore', 'CLTV',\n",
       "       'MultipleLines_No_phone_service', 'MultipleLines_Yes',\n",
       "       'InternetService_Fiber_optic', 'InternetService_No',\n",
       "       'OnlineSecurity_No_internet_service', 'OnlineSecurity_Yes',\n",
       "       'OnlineBackup_No_internet_service', 'OnlineBackup_Yes',\n",
       "       'DeviceProtection_No_internet_service', 'DeviceProtection_Yes',\n",
       "       'TechSupport_No_internet_service', 'TechSupport_Yes',\n",
       "       'StreamingTV_No_internet_service', 'StreamingTV_Yes',\n",
       "       'StreamingMovies_No_internet_service', 'StreamingMovies_Yes',\n",
       "       'Contract_One_year', 'Contract_Two_year',\n",
       "       'PaymentMethod_Credit_card_(automatic)',\n",
       "       'PaymentMethod_Electronic_check', 'PaymentMethod_Mailed_check'],\n",
       "      dtype='object')"
      ]
     },
     "execution_count": 31,
     "metadata": {},
     "output_type": "execute_result"
    }
   ],
   "source": [
    "df.columns"
   ]
  },
  {
   "cell_type": "code",
   "execution_count": 34,
   "metadata": {},
   "outputs": [],
   "source": [
    "# obtain a list of columns we need to fix\n",
    "d_tofix = [feature for feature in df.columns if df[feature].dtype == 'uint8']"
   ]
  },
  {
   "cell_type": "code",
   "execution_count": 36,
   "metadata": {},
   "outputs": [
    {
     "name": "stdout",
     "output_type": "stream",
     "text": [
      "MultipleLines_No_phone_service\n",
      "MultipleLines_Yes\n",
      "InternetService_Fiber_optic\n",
      "InternetService_No\n",
      "OnlineSecurity_No_internet_service\n",
      "OnlineSecurity_Yes\n",
      "OnlineBackup_No_internet_service\n",
      "OnlineBackup_Yes\n",
      "DeviceProtection_No_internet_service\n",
      "DeviceProtection_Yes\n",
      "TechSupport_No_internet_service\n",
      "TechSupport_Yes\n",
      "StreamingTV_No_internet_service\n",
      "StreamingTV_Yes\n",
      "StreamingMovies_No_internet_service\n",
      "StreamingMovies_Yes\n",
      "Contract_One_year\n",
      "Contract_Two_year\n",
      "PaymentMethod_Credit_card_(automatic)\n",
      "PaymentMethod_Electronic_check\n",
      "PaymentMethod_Mailed_check\n"
     ]
    }
   ],
   "source": [
    "for item in d_tofix:\n",
    "    print(item)"
   ]
  },
  {
   "cell_type": "code",
   "execution_count": 84,
   "metadata": {},
   "outputs": [
    {
     "data": {
      "text/plain": [
       "[['MultipleLines_No_phone_service', 'MultipleLines_Yes'],\n",
       " ['InternetService_Fiber_optic', 'InternetService_No'],\n",
       " ['OnlineSecurity_No_internet_service', 'OnlineSecurity_Yes'],\n",
       " ['OnlineBackup_No_internet_service', 'OnlineBackup_Yes'],\n",
       " ['DeviceProtection_No_internet_service', 'DeviceProtection_Yes'],\n",
       " ['TechSupport_No_internet_service', 'TechSupport_Yes'],\n",
       " ['StreamingTV_No_internet_service', 'StreamingTV_Yes'],\n",
       " ['StreamingMovies_No_internet_service', 'StreamingMovies_Yes'],\n",
       " ['Contract_One_year', 'Contract_Two_year'],\n",
       " ['PaymentMethod_Credit_card_(automatic)',\n",
       "  'PaymentMethod_Electronic_check',\n",
       "  'PaymentMethod_Mailed_check']]"
      ]
     },
     "execution_count": 84,
     "metadata": {},
     "output_type": "execute_result"
    }
   ],
   "source": [
    "# Get dummy list for model\n",
    "dummy_list = [\n",
    "    ['MultipleLines_No_phone_service', 'MultipleLines_Yes'],\n",
    "    ['InternetService_Fiber_optic', 'InternetService_No'],\n",
    "    ['OnlineSecurity_No_internet_service', 'OnlineSecurity_Yes'],\n",
    "    ['OnlineBackup_No_internet_service', 'OnlineBackup_Yes'],\n",
    "    ['DeviceProtection_No_internet_service', 'DeviceProtection_Yes'],\n",
    "    ['TechSupport_No_internet_service', 'TechSupport_Yes'],\n",
    "    ['StreamingTV_No_internet_service', 'StreamingTV_Yes'],\n",
    "    ['StreamingMovies_No_internet_service', 'StreamingMovies_Yes'],\n",
    "    ['Contract_One_year', 'Contract_Two_year'],\n",
    "    ['PaymentMethod_Credit_card_(automatic)', 'PaymentMethod_Electronic_check', 'PaymentMethod_Mailed_check']\n",
    "]\n",
    "dummy_list"
   ]
  },
  {
   "cell_type": "markdown",
   "metadata": {},
   "source": [
    "### Running a regression task"
   ]
  },
  {
   "cell_type": "code",
   "execution_count": 15,
   "metadata": {},
   "outputs": [],
   "source": [
    "# Import the train-test splitting function from sklearn\n",
    "from sklearn.model_selection import train_test_split"
   ]
  },
  {
   "cell_type": "code",
   "execution_count": 16,
   "metadata": {},
   "outputs": [
    {
     "name": "stdout",
     "output_type": "stream",
     "text": [
      "<class 'pandas.core.frame.DataFrame'>\n",
      "RangeIndex: 20640 entries, 0 to 20639\n",
      "Data columns (total 13 columns):\n",
      " #   Column              Non-Null Count  Dtype  \n",
      "---  ------              --------------  -----  \n",
      " 0   MedInc              20640 non-null  float64\n",
      " 1   HouseAge            20640 non-null  float64\n",
      " 2   AveRooms            20640 non-null  float64\n",
      " 3   AveBedrms           20640 non-null  float64\n",
      " 4   Population          20640 non-null  float64\n",
      " 5   AveOccup            20640 non-null  float64\n",
      " 6   Latitude            20640 non-null  float64\n",
      " 7   Longitude           20640 non-null  float64\n",
      " 8   MedHouseVal         20640 non-null  float64\n",
      " 9   HouseEval_nice      20640 non-null  uint8  \n",
      " 10  HouseEval_not_nice  20640 non-null  uint8  \n",
      " 11  WallColors_gray     20640 non-null  uint8  \n",
      " 12  WallColors_white    20640 non-null  uint8  \n",
      "dtypes: float64(9), uint8(4)\n",
      "memory usage: 1.5 MB\n"
     ]
    }
   ],
   "source": [
    "df.info()"
   ]
  },
  {
   "cell_type": "code",
   "execution_count": 17,
   "metadata": {},
   "outputs": [],
   "source": [
    "# Save the target variable as y\n",
    "y = df['MedHouseVal']\n",
    "# Save the rest of the predictors as X\n",
    "X = df.drop('MedHouseVal', axis=1)\n"
   ]
  },
  {
   "cell_type": "code",
   "execution_count": 18,
   "metadata": {},
   "outputs": [],
   "source": [
    "# Obtain training and validation sets of 0.8-0.2 proportion. random_state=66 ensures i get same split whenever I re-run the train test split function \n",
    "X_train, X_val, y_train, y_val = train_test_split(X, y, test_size=0.2, random_state=66)"
   ]
  },
  {
   "cell_type": "code",
   "execution_count": 19,
   "metadata": {},
   "outputs": [],
   "source": [
    "# Import linear regression from sklearn\n",
    "from sklearn.linear_model import LinearRegression\n",
    "# Import decision tree regressor from sklearn\n",
    "from sklearn.tree import DecisionTreeRegressor"
   ]
  },
  {
   "cell_type": "code",
   "execution_count": 20,
   "metadata": {},
   "outputs": [],
   "source": [
    "# set up model1\n",
    "m1 = LinearRegression()\n",
    "# set up model2\n",
    "m2 = DecisionTreeRegressor()"
   ]
  },
  {
   "cell_type": "code",
   "execution_count": 21,
   "metadata": {},
   "outputs": [
    {
     "name": "stdout",
     "output_type": "stream",
     "text": [
      "\u001b[0;31mInit signature:\u001b[0m\n",
      "\u001b[0mBackEliminator\u001b[0m\u001b[0;34m(\u001b[0m\u001b[0;34m\u001b[0m\n",
      "\u001b[0;34m\u001b[0m    \u001b[0mX\u001b[0m\u001b[0;34m=\u001b[0m\u001b[0;32mNone\u001b[0m\u001b[0;34m,\u001b[0m\u001b[0;34m\u001b[0m\n",
      "\u001b[0;34m\u001b[0m    \u001b[0my\u001b[0m\u001b[0;34m=\u001b[0m\u001b[0;32mNone\u001b[0m\u001b[0;34m,\u001b[0m\u001b[0;34m\u001b[0m\n",
      "\u001b[0;34m\u001b[0m    \u001b[0mvalidation_data\u001b[0m\u001b[0;34m=\u001b[0m\u001b[0;32mNone\u001b[0m\u001b[0;34m,\u001b[0m\u001b[0;34m\u001b[0m\n",
      "\u001b[0;34m\u001b[0m    \u001b[0mtask_type\u001b[0m\u001b[0;34m=\u001b[0m\u001b[0;32mNone\u001b[0m\u001b[0;34m,\u001b[0m\u001b[0;34m\u001b[0m\n",
      "\u001b[0;34m\u001b[0m    \u001b[0mcriterion\u001b[0m\u001b[0;34m=\u001b[0m\u001b[0;32mNone\u001b[0m\u001b[0;34m,\u001b[0m\u001b[0;34m\u001b[0m\n",
      "\u001b[0;34m\u001b[0m    \u001b[0magreeability\u001b[0m\u001b[0;34m=\u001b[0m\u001b[0;32mNone\u001b[0m\u001b[0;34m,\u001b[0m\u001b[0;34m\u001b[0m\n",
      "\u001b[0;34m\u001b[0m    \u001b[0mdummy_list\u001b[0m\u001b[0;34m=\u001b[0m\u001b[0;32mNone\u001b[0m\u001b[0;34m,\u001b[0m\u001b[0;34m\u001b[0m\n",
      "\u001b[0;34m\u001b[0m    \u001b[0mfeatures_to_fix\u001b[0m\u001b[0;34m=\u001b[0m\u001b[0;32mNone\u001b[0m\u001b[0;34m,\u001b[0m\u001b[0;34m\u001b[0m\n",
      "\u001b[0;34m\u001b[0m\u001b[0;34m)\u001b[0m\u001b[0;34m\u001b[0m\u001b[0;34m\u001b[0m\u001b[0m\n",
      "\u001b[0;31mDocstring:\u001b[0m     \n",
      "The class is built for conducting backwards feature elimination in combination with model agreeability. A more detailed documentation will follow.\n",
      "\n",
      "Args:\n",
      "    X (pd.DataFrame): A pandas dataframe containing predictors.\n",
      "    y (pd.DataFrame): A pandas dataframe containing target.\n",
      "    validation_data (tuple): A tuple of validation data (X_val, y_val).\n",
      "    task_type (str): String for task type. Available options - 'classification' or 'regression'.\n",
      "    criterion (str): String for intra-model evaluation criterion. Available options: 'mse', 'rmse', 'mae', 'accuracy', 'precision', 'recall', 'f1'.\n",
      "    agreeability (str): String for inter-model comparison. Available options: 'pearson', 'cohen_kappa'\n",
      "    dummy_list (list): List of lists containing column names (str) of dummy features generated from a categorical variable. (Optional).\n",
      "    features_to_fix (list): List containing column names (str) of features that will be excluded from feature elimination and thus always included in modeling. (Optional)\n",
      "\n",
      "Regression Example:\n",
      "    seeker = Backeliminator(\n",
      "        X=X_train,\n",
      "        y=y_train,\n",
      "        validation_data=(X_val, y_val),\n",
      "        task_type='regression',\n",
      "        criterion='rmse',\n",
      "        agreeability='pearson',\n",
      "        dummy_list=[\n",
      "            ['dummy_1_from_variable_1', 'dummy_2_from_variable_1'],\n",
      "            ['dummy_1_from_variable_2', 'dummy_2_from_variable_2', 'dummy_3_from_variable_2']\n",
      "        ],\n",
      "        features_to_fix=[\n",
      "            'variable_3',\n",
      "            'variable_4'\n",
      "        ]\n",
      "    )\n",
      "\n",
      "Classification Example:\n",
      "    seeker = Backeliminator(\n",
      "        X=X_train,\n",
      "        y=y_train,\n",
      "        validation_data=(X_val, y_val),\n",
      "        task_type='classification',\n",
      "        criterion='f1',\n",
      "        agreeability='cohen_kappa',\n",
      "        dummy_list=[\n",
      "            ['dummy_1_from_variable_1', 'dummy_2_from_variable_1'],\n",
      "            ['dummy_1_from_variable_2', 'dummy_2_from_variable_2', 'dummy_3_from_variable_2']\n",
      "        ],\n",
      "        features_to_fix=[\n",
      "            'variable_3',\n",
      "            'variable_4'\n",
      "        ]\n",
      "    )    \n",
      "\u001b[0;31mType:\u001b[0m           type\n",
      "\u001b[0;31mSubclasses:\u001b[0m     "
     ]
    }
   ],
   "source": [
    "# We can look at my documentation for the BackEliminator\n",
    "BackEliminator?"
   ]
  },
  {
   "cell_type": "code",
   "execution_count": 22,
   "metadata": {},
   "outputs": [],
   "source": [
    "# Initialize the python class.\n",
    "seeker = BackEliminator(\n",
    "    X=X_train,\n",
    "    y=y_train,\n",
    "    validation_data=(X_val, y_val),\n",
    "    task_type='regression',\n",
    "    criterion='rmse',\n",
    "    agreeability='pearson',\n",
    "    dummy_list=dummy_list,\n",
    ")"
   ]
  },
  {
   "cell_type": "code",
   "execution_count": 23,
   "metadata": {},
   "outputs": [
    {
     "name": "stdout",
     "output_type": "stream",
     "text": [
      "Initial run: fitted both models with full feature set.\n",
      "------------------------------------------------------------------------------------------------------------------------------------------------------\n",
      "Model 1 included: ['MedInc', 'HouseAge', 'AveRooms', 'AveBedrms', 'Population', 'AveOccup', 'Latitude', 'Longitude', ['HouseEval_nice', 'HouseEval_not_nice'], ['WallColors_gray', 'WallColors_white']]. RMSE: 0.7314\n",
      "Model 2 included: ['MedInc', 'HouseAge', 'AveRooms', 'AveBedrms', 'Population', 'AveOccup', 'Latitude', 'Longitude', ['HouseEval_nice', 'HouseEval_not_nice'], ['WallColors_gray', 'WallColors_white']]. RMSE: 0.7327\n",
      "------------------------------------------------------------------------------------------------------------------------------------------------------\n",
      "Agreeability Coefficient (pearson): 0.7568\n",
      "======================================================================================================================================================\n",
      "Iteration 1:\n",
      "------------------------------------------------------------------------------------------------------------------------------------------------------\n",
      "Results from best models:\n",
      "Best Model 1 included: ['MedInc', 'HouseAge', 'AveRooms', 'AveBedrms', 'Population', 'Latitude', 'Longitude', ['HouseEval_nice', 'HouseEval_not_nice'], ['WallColors_gray', 'WallColors_white']]. RMSE: 0.7242\n",
      "Best Model 2 included: ['MedInc', 'AveRooms', 'AveBedrms', 'Population', 'AveOccup', 'Latitude', 'Longitude', ['HouseEval_nice', 'HouseEval_not_nice'], ['WallColors_gray', 'WallColors_white']]. RMSE: 0.6946\n",
      "Agreeability Coefficient (pearson) between best models: 0.7682044657495833\n",
      "------------------------------------------------------------------------------------------------------------------------------------------------------\n",
      "Results from all models:\n",
      "M1 mean score: 0.7643. Standard deviation: 0.0550\n",
      "M1 mean score: 0.7415. Standard deviation: 0.0477\n",
      "Mean agreeability coefficient (pearson): 0.7219. Standard deviation: 0.0697\n",
      "======================================================================================================================================================\n",
      "Iteration 2:\n",
      "------------------------------------------------------------------------------------------------------------------------------------------------------\n",
      "Results from best models:\n",
      "Best Model 1 included: ['MedInc', 'HouseAge', 'AveRooms', 'AveBedrms', 'Latitude', 'Longitude', ['HouseEval_nice', 'HouseEval_not_nice'], ['WallColors_gray', 'WallColors_white']]. RMSE: 0.7242\n",
      "Best Model 2 included: ['MedInc', 'AveRooms', 'AveBedrms', 'Population', 'Latitude', 'Longitude', ['HouseEval_nice', 'HouseEval_not_nice'], ['WallColors_gray', 'WallColors_white']]. RMSE: 0.6733\n",
      "Agreeability Coefficient (pearson) between best models: 0.7786815490590877\n",
      "------------------------------------------------------------------------------------------------------------------------------------------------------\n",
      "Results from all models:\n",
      "M1 mean score: 0.7596. Standard deviation: 0.0548\n",
      "M1 mean score: 0.7391. Standard deviation: 0.0701\n",
      "Mean agreeability coefficient (pearson): 0.7275. Standard deviation: 0.0729\n",
      "======================================================================================================================================================\n",
      "Iteration 3:\n",
      "------------------------------------------------------------------------------------------------------------------------------------------------------\n",
      "Results from best models:\n",
      "Best Model 1 included: ['MedInc', 'HouseAge', 'AveRooms', 'AveBedrms', 'Latitude', 'Longitude', ['WallColors_gray', 'WallColors_white']]. RMSE: 0.7242\n",
      "Best Model 2 included: ['MedInc', 'AveRooms', 'AveBedrms', 'Latitude', 'Longitude', ['HouseEval_nice', 'HouseEval_not_nice'], ['WallColors_gray', 'WallColors_white']]. RMSE: 0.6569\n",
      "Agreeability Coefficient (pearson) between best models: 0.7828323057118103\n",
      "------------------------------------------------------------------------------------------------------------------------------------------------------\n",
      "Results from all models:\n",
      "M1 mean score: 0.7643. Standard deviation: 0.0566\n",
      "M1 mean score: 0.7452. Standard deviation: 0.1201\n",
      "Mean agreeability coefficient (pearson): 0.7246. Standard deviation: 0.0832\n",
      "======================================================================================================================================================\n",
      "Iteration 4:\n",
      "------------------------------------------------------------------------------------------------------------------------------------------------------\n",
      "Results from best models:\n",
      "Best Model 1 included: ['MedInc', 'HouseAge', 'AveRooms', 'AveBedrms', 'Latitude', 'Longitude']. RMSE: 0.7243\n",
      "Best Model 2 included: ['AveRooms', 'AveBedrms', 'Latitude', 'Longitude', ['HouseEval_nice', 'HouseEval_not_nice'], ['WallColors_gray', 'WallColors_white']]. RMSE: 0.6495\n",
      "Agreeability Coefficient (pearson) between best models: 0.7416058235295625\n",
      "------------------------------------------------------------------------------------------------------------------------------------------------------\n",
      "Results from all models:\n",
      "M1 mean score: 0.7700. Standard deviation: 0.0583\n",
      "M1 mean score: 0.7409. Standard deviation: 0.1344\n",
      "Mean agreeability coefficient (pearson): 0.7228. Standard deviation: 0.0854\n",
      "======================================================================================================================================================\n",
      "Iteration 5:\n",
      "------------------------------------------------------------------------------------------------------------------------------------------------------\n",
      "Results from best models:\n",
      "Best Model 1 included: ['MedInc', 'HouseAge', 'AveBedrms', 'Latitude', 'Longitude']. RMSE: 0.7299\n",
      "Best Model 2 included: ['AveRooms', 'AveBedrms', 'Latitude', 'Longitude', ['WallColors_gray', 'WallColors_white']]. RMSE: 0.6426\n",
      "Agreeability Coefficient (pearson) between best models: 0.7424142501900122\n",
      "------------------------------------------------------------------------------------------------------------------------------------------------------\n",
      "Results from all models:\n",
      "M1 mean score: 0.7777. Standard deviation: 0.0597\n",
      "M1 mean score: 0.8395. Standard deviation: 0.2424\n",
      "Mean agreeability coefficient (pearson): 0.6312. Standard deviation: 0.1146\n",
      "======================================================================================================================================================\n",
      "Iteration 6:\n",
      "------------------------------------------------------------------------------------------------------------------------------------------------------\n",
      "Results from best models:\n",
      "Best Model 1 included: ['MedInc', 'HouseAge', 'Latitude', 'Longitude']. RMSE: 0.7340\n",
      "Best Model 2 included: ['AveRooms', 'AveBedrms', 'Latitude', 'Longitude']. RMSE: 0.6321\n",
      "Agreeability Coefficient (pearson) between best models: 0.7431019867535953\n",
      "------------------------------------------------------------------------------------------------------------------------------------------------------\n",
      "Results from all models:\n",
      "M1 mean score: 0.8222. Standard deviation: 0.1052\n",
      "M1 mean score: 0.8687. Standard deviation: 0.2476\n",
      "Mean agreeability coefficient (pearson): 0.5722. Standard deviation: 0.1692\n",
      "======================================================================================================================================================\n",
      "Iteration 7:\n",
      "------------------------------------------------------------------------------------------------------------------------------------------------------\n",
      "Results from best models:\n",
      "Best Model 1 included: ['MedInc', 'Latitude', 'Longitude']. RMSE: 0.7420\n",
      "Best Model 2 included: ['AveRooms', 'Latitude', 'Longitude']. RMSE: 0.6490\n",
      "Agreeability Coefficient (pearson) between best models: 0.719247402818799\n",
      "------------------------------------------------------------------------------------------------------------------------------------------------------\n",
      "Results from all models:\n",
      "M1 mean score: 0.8456. Standard deviation: 0.1065\n",
      "M1 mean score: 0.9229. Standard deviation: 0.2419\n",
      "Mean agreeability coefficient (pearson): 0.5258. Standard deviation: 0.1635\n",
      "======================================================================================================================================================\n",
      "Iteration 8:\n",
      "------------------------------------------------------------------------------------------------------------------------------------------------------\n",
      "Results from best models:\n",
      "Best Model 1 included: ['MedInc', 'Latitude']. RMSE: 0.8302\n",
      "Best Model 2 included: ['Latitude', 'Longitude']. RMSE: 0.6331\n",
      "Agreeability Coefficient (pearson) between best models: 0.5979782811046317\n",
      "------------------------------------------------------------------------------------------------------------------------------------------------------\n",
      "Results from all models:\n",
      "M1 mean score: 0.8977. Standard deviation: 0.0893\n",
      "M1 mean score: 1.0197. Standard deviation: 0.2777\n",
      "Mean agreeability coefficient (pearson): 0.4417. Standard deviation: 0.1491\n",
      "======================================================================================================================================================\n",
      "Iteration 9:\n",
      "------------------------------------------------------------------------------------------------------------------------------------------------------\n",
      "Results from best models:\n",
      "Best Model 1 included: ['MedInc']. RMSE: 0.8391\n",
      "Best Model 2 included: ['Longitude']. RMSE: 1.0059\n",
      "Agreeability Coefficient (pearson) between best models: 0.3262706343168213\n",
      "------------------------------------------------------------------------------------------------------------------------------------------------------\n",
      "Results from all models:\n",
      "M1 mean score: 1.0013. Standard deviation: 0.1622\n",
      "M1 mean score: 1.0256. Standard deviation: 0.0197\n",
      "Mean agreeability coefficient (pearson): 0.3075. Standard deviation: 0.0188\n",
      "======================================================================================================================================================\n"
     ]
    }
   ],
   "source": [
    "# Run the algorithm by providing model 1 (in this case linreg) and model 2 (decision tree)\n",
    "results = seeker.compare_all_models(\n",
    "    m1=m1,\n",
    "    m2=m2\n",
    ")"
   ]
  },
  {
   "cell_type": "markdown",
   "metadata": {},
   "source": [
    "We can print the raw dictionary carrying the results:"
   ]
  },
  {
   "cell_type": "code",
   "execution_count": 24,
   "metadata": {},
   "outputs": [
    {
     "data": {
      "text/plain": [
       "[{'Best: M1 Included Features': ['MedInc',\n",
       "   'HouseAge',\n",
       "   'AveRooms',\n",
       "   'AveBedrms',\n",
       "   'Population',\n",
       "   'AveOccup',\n",
       "   'Latitude',\n",
       "   'Longitude',\n",
       "   'HouseEval_nice',\n",
       "   'HouseEval_not_nice',\n",
       "   'WallColors_gray',\n",
       "   'WallColors_white'],\n",
       "  'Best: M1 rmse': 0.7313631839067938,\n",
       "  'Best: M2 Included Features': ['MedInc',\n",
       "   'HouseAge',\n",
       "   'AveRooms',\n",
       "   'AveBedrms',\n",
       "   'Population',\n",
       "   'AveOccup',\n",
       "   'Latitude',\n",
       "   'Longitude',\n",
       "   'HouseEval_nice',\n",
       "   'HouseEval_not_nice',\n",
       "   'WallColors_gray',\n",
       "   'WallColors_white'],\n",
       "  'Best: M2 rmse': 0.7327078108794725,\n",
       "  'Best: Agreeability (pearson)': 0.7567790142007598,\n",
       "  'All: M1 Mean rmse': 0.7313631839067938,\n",
       "  'All: M1 STD rmse': 0,\n",
       "  'All: M2 Mean rmse': 0.7327078108794725,\n",
       "  'All: M2 STD rmse': 0,\n",
       "  'All: Mean Agreeability (pearson)': 0.7567790142007598,\n",
       "  'All: Agreeability St. Dev.': 0},\n",
       " {'Best: M1 Included Features': ['MedInc',\n",
       "   'HouseAge',\n",
       "   'AveRooms',\n",
       "   'AveBedrms',\n",
       "   'Population',\n",
       "   'Latitude',\n",
       "   'Longitude',\n",
       "   'HouseEval_nice',\n",
       "   'HouseEval_not_nice',\n",
       "   'WallColors_gray',\n",
       "   'WallColors_white'],\n",
       "  'Best: M1 rmse': 0.724194855571701,\n",
       "  'Best: M2 Included Features': ['MedInc',\n",
       "   'AveRooms',\n",
       "   'AveBedrms',\n",
       "   'Population',\n",
       "   'AveOccup',\n",
       "   'Latitude',\n",
       "   'Longitude',\n",
       "   'HouseEval_nice',\n",
       "   'HouseEval_not_nice',\n",
       "   'WallColors_gray',\n",
       "   'WallColors_white'],\n",
       "  'Best: M2 rmse': 0.6946100961915089,\n",
       "  'Best: Agreeability (pearson)': 0.7682044657495833,\n",
       "  'All: M1 Mean rmse': 0.7643425623898734,\n",
       "  'All: M1 STD rmse': 0.05500903539036714,\n",
       "  'All: M2 Mean rmse': 0.7414573212510681,\n",
       "  'All: M2 STD rmse': 0.04769169927851932,\n",
       "  'All: Mean Agreeability (pearson)': 0.7219088883216112,\n",
       "  'All: Agreeability St. Dev.': 0.06973884953122646},\n",
       " {'Best: M1 Included Features': ['MedInc',\n",
       "   'HouseAge',\n",
       "   'AveRooms',\n",
       "   'AveBedrms',\n",
       "   'Latitude',\n",
       "   'Longitude',\n",
       "   'HouseEval_nice',\n",
       "   'HouseEval_not_nice',\n",
       "   'WallColors_gray',\n",
       "   'WallColors_white'],\n",
       "  'Best: M1 rmse': 0.7241947577334621,\n",
       "  'Best: M2 Included Features': ['MedInc',\n",
       "   'AveRooms',\n",
       "   'AveBedrms',\n",
       "   'Population',\n",
       "   'Latitude',\n",
       "   'Longitude',\n",
       "   'HouseEval_nice',\n",
       "   'HouseEval_not_nice',\n",
       "   'WallColors_gray',\n",
       "   'WallColors_white'],\n",
       "  'Best: M2 rmse': 0.6733390711251698,\n",
       "  'Best: Agreeability (pearson)': 0.7786815490590877,\n",
       "  'All: M1 Mean rmse': 0.7596490891464935,\n",
       "  'All: M1 STD rmse': 0.054841224260557694,\n",
       "  'All: M2 Mean rmse': 0.739133139913567,\n",
       "  'All: M2 STD rmse': 0.07006292878157393,\n",
       "  'All: Mean Agreeability (pearson)': 0.7274566340643847,\n",
       "  'All: Agreeability St. Dev.': 0.07294505870881547},\n",
       " {'Best: M1 Included Features': ['MedInc',\n",
       "   'HouseAge',\n",
       "   'AveRooms',\n",
       "   'AveBedrms',\n",
       "   'Latitude',\n",
       "   'Longitude',\n",
       "   'WallColors_gray',\n",
       "   'WallColors_white'],\n",
       "  'Best: M1 rmse': 0.7242297950673143,\n",
       "  'Best: M2 Included Features': ['MedInc',\n",
       "   'AveRooms',\n",
       "   'AveBedrms',\n",
       "   'Latitude',\n",
       "   'Longitude',\n",
       "   'HouseEval_nice',\n",
       "   'HouseEval_not_nice',\n",
       "   'WallColors_gray',\n",
       "   'WallColors_white'],\n",
       "  'Best: M2 rmse': 0.6568878071162784,\n",
       "  'Best: Agreeability (pearson)': 0.7828323057118103,\n",
       "  'All: M1 Mean rmse': 0.7642566468654179,\n",
       "  'All: M1 STD rmse': 0.05660504479730524,\n",
       "  'All: M2 Mean rmse': 0.7451775148916648,\n",
       "  'All: M2 STD rmse': 0.12009590033776396,\n",
       "  'All: Mean Agreeability (pearson)': 0.7245887061533516,\n",
       "  'All: Agreeability St. Dev.': 0.08321867114913885},\n",
       " {'Best: M1 Included Features': ['MedInc',\n",
       "   'HouseAge',\n",
       "   'AveRooms',\n",
       "   'AveBedrms',\n",
       "   'Latitude',\n",
       "   'Longitude'],\n",
       "  'Best: M1 rmse': 0.7243206659201569,\n",
       "  'Best: M2 Included Features': ['AveRooms',\n",
       "   'AveBedrms',\n",
       "   'Latitude',\n",
       "   'Longitude',\n",
       "   'HouseEval_nice',\n",
       "   'HouseEval_not_nice',\n",
       "   'WallColors_gray',\n",
       "   'WallColors_white'],\n",
       "  'Best: M2 rmse': 0.6495063766119754,\n",
       "  'Best: Agreeability (pearson)': 0.7416058235295625,\n",
       "  'All: M1 Mean rmse': 0.7700111818384915,\n",
       "  'All: M1 STD rmse': 0.058328337176134414,\n",
       "  'All: M2 Mean rmse': 0.7408988932375059,\n",
       "  'All: M2 STD rmse': 0.13444641280872144,\n",
       "  'All: Mean Agreeability (pearson)': 0.7227759144733948,\n",
       "  'All: Agreeability St. Dev.': 0.08541615317156795},\n",
       " {'Best: M1 Included Features': ['MedInc',\n",
       "   'HouseAge',\n",
       "   'AveBedrms',\n",
       "   'Latitude',\n",
       "   'Longitude'],\n",
       "  'Best: M1 rmse': 0.7299080678582273,\n",
       "  'Best: M2 Included Features': ['AveRooms',\n",
       "   'AveBedrms',\n",
       "   'Latitude',\n",
       "   'Longitude',\n",
       "   'WallColors_gray',\n",
       "   'WallColors_white'],\n",
       "  'Best: M2 rmse': 0.6425692969287806,\n",
       "  'Best: Agreeability (pearson)': 0.7424142501900122,\n",
       "  'All: M1 Mean rmse': 0.7777087075258885,\n",
       "  'All: M1 STD rmse': 0.059709560831612926,\n",
       "  'All: M2 Mean rmse': 0.8394955790841353,\n",
       "  'All: M2 STD rmse': 0.2423728082381623,\n",
       "  'All: Mean Agreeability (pearson)': 0.6311836919914006,\n",
       "  'All: Agreeability St. Dev.': 0.11459935123337028},\n",
       " {'Best: M1 Included Features': ['MedInc',\n",
       "   'HouseAge',\n",
       "   'Latitude',\n",
       "   'Longitude'],\n",
       "  'Best: M1 rmse': 0.7340250301119083,\n",
       "  'Best: M2 Included Features': ['AveRooms',\n",
       "   'AveBedrms',\n",
       "   'Latitude',\n",
       "   'Longitude'],\n",
       "  'Best: M2 rmse': 0.6321286467604775,\n",
       "  'Best: Agreeability (pearson)': 0.7431019867535953,\n",
       "  'All: M1 Mean rmse': 0.8222171594334977,\n",
       "  'All: M1 STD rmse': 0.10522388597581891,\n",
       "  'All: M2 Mean rmse': 0.8686958107330153,\n",
       "  'All: M2 STD rmse': 0.24761571149098466,\n",
       "  'All: Mean Agreeability (pearson)': 0.5721834169117852,\n",
       "  'All: Agreeability St. Dev.': 0.16918043716755646},\n",
       " {'Best: M1 Included Features': ['MedInc', 'Latitude', 'Longitude'],\n",
       "  'Best: M1 rmse': 0.7419579345892257,\n",
       "  'Best: M2 Included Features': ['AveRooms', 'Latitude', 'Longitude'],\n",
       "  'Best: M2 rmse': 0.6490217469976426,\n",
       "  'Best: Agreeability (pearson)': 0.719247402818799,\n",
       "  'All: M1 Mean rmse': 0.8455973116246125,\n",
       "  'All: M1 STD rmse': 0.10652176290655452,\n",
       "  'All: M2 Mean rmse': 0.9228806061257426,\n",
       "  'All: M2 STD rmse': 0.24190669854508734,\n",
       "  'All: Mean Agreeability (pearson)': 0.5257619288447826,\n",
       "  'All: Agreeability St. Dev.': 0.16353957417010037},\n",
       " {'Best: M1 Included Features': ['MedInc', 'Latitude'],\n",
       "  'Best: M1 rmse': 0.8301873925326823,\n",
       "  'Best: M2 Included Features': ['Latitude', 'Longitude'],\n",
       "  'Best: M2 rmse': 0.6330917662455698,\n",
       "  'Best: Agreeability (pearson)': 0.5979782811046317,\n",
       "  'All: M1 Mean rmse': 0.8977439834292477,\n",
       "  'All: M1 STD rmse': 0.08931202533046595,\n",
       "  'All: M2 Mean rmse': 1.0197018152078696,\n",
       "  'All: M2 STD rmse': 0.27771130162943536,\n",
       "  'All: Mean Agreeability (pearson)': 0.44169789605730414,\n",
       "  'All: Agreeability St. Dev.': 0.14911467384296567},\n",
       " {'Best: M1 Included Features': ['MedInc'],\n",
       "  'Best: M1 rmse': 0.8390728208993037,\n",
       "  'Best: M2 Included Features': ['Longitude'],\n",
       "  'Best: M2 rmse': 1.0058695484342364,\n",
       "  'Best: Agreeability (pearson)': 0.3262706343168213,\n",
       "  'All: M1 Mean rmse': 1.0013004853773162,\n",
       "  'All: M1 STD rmse': 0.16222766447801262,\n",
       "  'All: M2 Mean rmse': 1.0255794069079167,\n",
       "  'All: M2 STD rmse': 0.01970985847368034,\n",
       "  'All: Mean Agreeability (pearson)': 0.30745749491435304,\n",
       "  'All: Agreeability St. Dev.': 0.018813139402468232}]"
      ]
     },
     "execution_count": 24,
     "metadata": {},
     "output_type": "execute_result"
    }
   ],
   "source": [
    "results"
   ]
  },
  {
   "cell_type": "markdown",
   "metadata": {},
   "source": [
    "Or we can generate a good looking pandas dataframe from the results from one of my built-in functionalities in the framework."
   ]
  },
  {
   "cell_type": "code",
   "execution_count": 25,
   "metadata": {},
   "outputs": [],
   "source": [
    "# For pandas to allow viewing full column width\n",
    "pd.set_option('display.max_colwidth', None)"
   ]
  },
  {
   "cell_type": "code",
   "execution_count": 26,
   "metadata": {},
   "outputs": [],
   "source": [
    "# Generate the dataframe\n",
    "results_df = seeker.dataframe_from_results()"
   ]
  },
  {
   "cell_type": "code",
   "execution_count": 27,
   "metadata": {},
   "outputs": [
    {
     "data": {
      "text/html": [
       "<div>\n",
       "<style scoped>\n",
       "    .dataframe tbody tr th:only-of-type {\n",
       "        vertical-align: middle;\n",
       "    }\n",
       "\n",
       "    .dataframe tbody tr th {\n",
       "        vertical-align: top;\n",
       "    }\n",
       "\n",
       "    .dataframe thead th {\n",
       "        text-align: right;\n",
       "    }\n",
       "</style>\n",
       "<table border=\"1\" class=\"dataframe\">\n",
       "  <thead>\n",
       "    <tr style=\"text-align: right;\">\n",
       "      <th></th>\n",
       "      <th>Best: M1 Included Features</th>\n",
       "      <th>Best: M1 rmse</th>\n",
       "      <th>Best: M2 Included Features</th>\n",
       "      <th>Best: M2 rmse</th>\n",
       "      <th>Best: Agreeability (pearson)</th>\n",
       "      <th>All: M1 Mean rmse</th>\n",
       "      <th>All: M1 STD rmse</th>\n",
       "      <th>All: M2 Mean rmse</th>\n",
       "      <th>All: M2 STD rmse</th>\n",
       "      <th>All: Mean Agreeability (pearson)</th>\n",
       "      <th>All: Agreeability St. Dev.</th>\n",
       "    </tr>\n",
       "  </thead>\n",
       "  <tbody>\n",
       "    <tr>\n",
       "      <th>0</th>\n",
       "      <td>[MedInc, HouseAge, AveRooms, AveBedrms, Population, AveOccup, Latitude, Longitude, HouseEval_nice, HouseEval_not_nice, WallColors_gray, WallColors_white]</td>\n",
       "      <td>0.731363</td>\n",
       "      <td>[MedInc, HouseAge, AveRooms, AveBedrms, Population, AveOccup, Latitude, Longitude, HouseEval_nice, HouseEval_not_nice, WallColors_gray, WallColors_white]</td>\n",
       "      <td>0.732708</td>\n",
       "      <td>0.756779</td>\n",
       "      <td>0.731363</td>\n",
       "      <td>0.000000</td>\n",
       "      <td>0.732708</td>\n",
       "      <td>0.000000</td>\n",
       "      <td>0.756779</td>\n",
       "      <td>0.000000</td>\n",
       "    </tr>\n",
       "    <tr>\n",
       "      <th>1</th>\n",
       "      <td>[MedInc, HouseAge, AveRooms, AveBedrms, Population, Latitude, Longitude, HouseEval_nice, HouseEval_not_nice, WallColors_gray, WallColors_white]</td>\n",
       "      <td>0.724195</td>\n",
       "      <td>[MedInc, AveRooms, AveBedrms, Population, AveOccup, Latitude, Longitude, HouseEval_nice, HouseEval_not_nice, WallColors_gray, WallColors_white]</td>\n",
       "      <td>0.694610</td>\n",
       "      <td>0.768204</td>\n",
       "      <td>0.764343</td>\n",
       "      <td>0.055009</td>\n",
       "      <td>0.741457</td>\n",
       "      <td>0.047692</td>\n",
       "      <td>0.721909</td>\n",
       "      <td>0.069739</td>\n",
       "    </tr>\n",
       "    <tr>\n",
       "      <th>2</th>\n",
       "      <td>[MedInc, HouseAge, AveRooms, AveBedrms, Latitude, Longitude, HouseEval_nice, HouseEval_not_nice, WallColors_gray, WallColors_white]</td>\n",
       "      <td>0.724195</td>\n",
       "      <td>[MedInc, AveRooms, AveBedrms, Population, Latitude, Longitude, HouseEval_nice, HouseEval_not_nice, WallColors_gray, WallColors_white]</td>\n",
       "      <td>0.673339</td>\n",
       "      <td>0.778682</td>\n",
       "      <td>0.759649</td>\n",
       "      <td>0.054841</td>\n",
       "      <td>0.739133</td>\n",
       "      <td>0.070063</td>\n",
       "      <td>0.727457</td>\n",
       "      <td>0.072945</td>\n",
       "    </tr>\n",
       "    <tr>\n",
       "      <th>3</th>\n",
       "      <td>[MedInc, HouseAge, AveRooms, AveBedrms, Latitude, Longitude, WallColors_gray, WallColors_white]</td>\n",
       "      <td>0.724230</td>\n",
       "      <td>[MedInc, AveRooms, AveBedrms, Latitude, Longitude, HouseEval_nice, HouseEval_not_nice, WallColors_gray, WallColors_white]</td>\n",
       "      <td>0.656888</td>\n",
       "      <td>0.782832</td>\n",
       "      <td>0.764257</td>\n",
       "      <td>0.056605</td>\n",
       "      <td>0.745178</td>\n",
       "      <td>0.120096</td>\n",
       "      <td>0.724589</td>\n",
       "      <td>0.083219</td>\n",
       "    </tr>\n",
       "    <tr>\n",
       "      <th>4</th>\n",
       "      <td>[MedInc, HouseAge, AveRooms, AveBedrms, Latitude, Longitude]</td>\n",
       "      <td>0.724321</td>\n",
       "      <td>[AveRooms, AveBedrms, Latitude, Longitude, HouseEval_nice, HouseEval_not_nice, WallColors_gray, WallColors_white]</td>\n",
       "      <td>0.649506</td>\n",
       "      <td>0.741606</td>\n",
       "      <td>0.770011</td>\n",
       "      <td>0.058328</td>\n",
       "      <td>0.740899</td>\n",
       "      <td>0.134446</td>\n",
       "      <td>0.722776</td>\n",
       "      <td>0.085416</td>\n",
       "    </tr>\n",
       "    <tr>\n",
       "      <th>5</th>\n",
       "      <td>[MedInc, HouseAge, AveBedrms, Latitude, Longitude]</td>\n",
       "      <td>0.729908</td>\n",
       "      <td>[AveRooms, AveBedrms, Latitude, Longitude, WallColors_gray, WallColors_white]</td>\n",
       "      <td>0.642569</td>\n",
       "      <td>0.742414</td>\n",
       "      <td>0.777709</td>\n",
       "      <td>0.059710</td>\n",
       "      <td>0.839496</td>\n",
       "      <td>0.242373</td>\n",
       "      <td>0.631184</td>\n",
       "      <td>0.114599</td>\n",
       "    </tr>\n",
       "    <tr>\n",
       "      <th>6</th>\n",
       "      <td>[MedInc, HouseAge, Latitude, Longitude]</td>\n",
       "      <td>0.734025</td>\n",
       "      <td>[AveRooms, AveBedrms, Latitude, Longitude]</td>\n",
       "      <td>0.632129</td>\n",
       "      <td>0.743102</td>\n",
       "      <td>0.822217</td>\n",
       "      <td>0.105224</td>\n",
       "      <td>0.868696</td>\n",
       "      <td>0.247616</td>\n",
       "      <td>0.572183</td>\n",
       "      <td>0.169180</td>\n",
       "    </tr>\n",
       "    <tr>\n",
       "      <th>7</th>\n",
       "      <td>[MedInc, Latitude, Longitude]</td>\n",
       "      <td>0.741958</td>\n",
       "      <td>[AveRooms, Latitude, Longitude]</td>\n",
       "      <td>0.649022</td>\n",
       "      <td>0.719247</td>\n",
       "      <td>0.845597</td>\n",
       "      <td>0.106522</td>\n",
       "      <td>0.922881</td>\n",
       "      <td>0.241907</td>\n",
       "      <td>0.525762</td>\n",
       "      <td>0.163540</td>\n",
       "    </tr>\n",
       "    <tr>\n",
       "      <th>8</th>\n",
       "      <td>[MedInc, Latitude]</td>\n",
       "      <td>0.830187</td>\n",
       "      <td>[Latitude, Longitude]</td>\n",
       "      <td>0.633092</td>\n",
       "      <td>0.597978</td>\n",
       "      <td>0.897744</td>\n",
       "      <td>0.089312</td>\n",
       "      <td>1.019702</td>\n",
       "      <td>0.277711</td>\n",
       "      <td>0.441698</td>\n",
       "      <td>0.149115</td>\n",
       "    </tr>\n",
       "    <tr>\n",
       "      <th>9</th>\n",
       "      <td>[MedInc]</td>\n",
       "      <td>0.839073</td>\n",
       "      <td>[Longitude]</td>\n",
       "      <td>1.005870</td>\n",
       "      <td>0.326271</td>\n",
       "      <td>1.001300</td>\n",
       "      <td>0.162228</td>\n",
       "      <td>1.025579</td>\n",
       "      <td>0.019710</td>\n",
       "      <td>0.307457</td>\n",
       "      <td>0.018813</td>\n",
       "    </tr>\n",
       "  </tbody>\n",
       "</table>\n",
       "</div>"
      ],
      "text/plain": [
       "                                                                                                                                  Best: M1 Included Features  \\\n",
       "0  [MedInc, HouseAge, AveRooms, AveBedrms, Population, AveOccup, Latitude, Longitude, HouseEval_nice, HouseEval_not_nice, WallColors_gray, WallColors_white]   \n",
       "1            [MedInc, HouseAge, AveRooms, AveBedrms, Population, Latitude, Longitude, HouseEval_nice, HouseEval_not_nice, WallColors_gray, WallColors_white]   \n",
       "2                        [MedInc, HouseAge, AveRooms, AveBedrms, Latitude, Longitude, HouseEval_nice, HouseEval_not_nice, WallColors_gray, WallColors_white]   \n",
       "3                                                            [MedInc, HouseAge, AveRooms, AveBedrms, Latitude, Longitude, WallColors_gray, WallColors_white]   \n",
       "4                                                                                               [MedInc, HouseAge, AveRooms, AveBedrms, Latitude, Longitude]   \n",
       "5                                                                                                         [MedInc, HouseAge, AveBedrms, Latitude, Longitude]   \n",
       "6                                                                                                                    [MedInc, HouseAge, Latitude, Longitude]   \n",
       "7                                                                                                                              [MedInc, Latitude, Longitude]   \n",
       "8                                                                                                                                         [MedInc, Latitude]   \n",
       "9                                                                                                                                                   [MedInc]   \n",
       "\n",
       "   Best: M1 rmse  \\\n",
       "0       0.731363   \n",
       "1       0.724195   \n",
       "2       0.724195   \n",
       "3       0.724230   \n",
       "4       0.724321   \n",
       "5       0.729908   \n",
       "6       0.734025   \n",
       "7       0.741958   \n",
       "8       0.830187   \n",
       "9       0.839073   \n",
       "\n",
       "                                                                                                                                  Best: M2 Included Features  \\\n",
       "0  [MedInc, HouseAge, AveRooms, AveBedrms, Population, AveOccup, Latitude, Longitude, HouseEval_nice, HouseEval_not_nice, WallColors_gray, WallColors_white]   \n",
       "1            [MedInc, AveRooms, AveBedrms, Population, AveOccup, Latitude, Longitude, HouseEval_nice, HouseEval_not_nice, WallColors_gray, WallColors_white]   \n",
       "2                      [MedInc, AveRooms, AveBedrms, Population, Latitude, Longitude, HouseEval_nice, HouseEval_not_nice, WallColors_gray, WallColors_white]   \n",
       "3                                  [MedInc, AveRooms, AveBedrms, Latitude, Longitude, HouseEval_nice, HouseEval_not_nice, WallColors_gray, WallColors_white]   \n",
       "4                                          [AveRooms, AveBedrms, Latitude, Longitude, HouseEval_nice, HouseEval_not_nice, WallColors_gray, WallColors_white]   \n",
       "5                                                                              [AveRooms, AveBedrms, Latitude, Longitude, WallColors_gray, WallColors_white]   \n",
       "6                                                                                                                 [AveRooms, AveBedrms, Latitude, Longitude]   \n",
       "7                                                                                                                            [AveRooms, Latitude, Longitude]   \n",
       "8                                                                                                                                      [Latitude, Longitude]   \n",
       "9                                                                                                                                                [Longitude]   \n",
       "\n",
       "   Best: M2 rmse  Best: Agreeability (pearson)  All: M1 Mean rmse  \\\n",
       "0       0.732708                      0.756779           0.731363   \n",
       "1       0.694610                      0.768204           0.764343   \n",
       "2       0.673339                      0.778682           0.759649   \n",
       "3       0.656888                      0.782832           0.764257   \n",
       "4       0.649506                      0.741606           0.770011   \n",
       "5       0.642569                      0.742414           0.777709   \n",
       "6       0.632129                      0.743102           0.822217   \n",
       "7       0.649022                      0.719247           0.845597   \n",
       "8       0.633092                      0.597978           0.897744   \n",
       "9       1.005870                      0.326271           1.001300   \n",
       "\n",
       "   All: M1 STD rmse  All: M2 Mean rmse  All: M2 STD rmse  \\\n",
       "0          0.000000           0.732708          0.000000   \n",
       "1          0.055009           0.741457          0.047692   \n",
       "2          0.054841           0.739133          0.070063   \n",
       "3          0.056605           0.745178          0.120096   \n",
       "4          0.058328           0.740899          0.134446   \n",
       "5          0.059710           0.839496          0.242373   \n",
       "6          0.105224           0.868696          0.247616   \n",
       "7          0.106522           0.922881          0.241907   \n",
       "8          0.089312           1.019702          0.277711   \n",
       "9          0.162228           1.025579          0.019710   \n",
       "\n",
       "   All: Mean Agreeability (pearson)  All: Agreeability St. Dev.  \n",
       "0                          0.756779                    0.000000  \n",
       "1                          0.721909                    0.069739  \n",
       "2                          0.727457                    0.072945  \n",
       "3                          0.724589                    0.083219  \n",
       "4                          0.722776                    0.085416  \n",
       "5                          0.631184                    0.114599  \n",
       "6                          0.572183                    0.169180  \n",
       "7                          0.525762                    0.163540  \n",
       "8                          0.441698                    0.149115  \n",
       "9                          0.307457                    0.018813  "
      ]
     },
     "execution_count": 27,
     "metadata": {},
     "output_type": "execute_result"
    }
   ],
   "source": [
    "results_df"
   ]
  },
  {
   "cell_type": "code",
   "execution_count": 28,
   "metadata": {},
   "outputs": [
    {
     "data": {
      "application/vnd.plotly.v1+json": {
       "config": {
        "plotlyServerURL": "https://plot.ly"
       },
       "data": [
        {
         "hoverinfo": "text",
         "hovertext": [
          "<br> Best: Agreeability (pearson): <br> 0.7568 <br> All: Mean Agreeability (pearson): <br> 0.7568 <br> All: Agreeability St. Dev.: <br> 0.0000",
          "<br> Best: Agreeability (pearson): <br> 0.7682 <br> All: Mean Agreeability (pearson): <br> 0.7219 <br> All: Agreeability St. Dev.: <br> 0.0697",
          "<br> Best: Agreeability (pearson): <br> 0.7787 <br> All: Mean Agreeability (pearson): <br> 0.7275 <br> All: Agreeability St. Dev.: <br> 0.0729",
          "<br> Best: Agreeability (pearson): <br> 0.7828 <br> All: Mean Agreeability (pearson): <br> 0.7246 <br> All: Agreeability St. Dev.: <br> 0.0832",
          "<br> Best: Agreeability (pearson): <br> 0.7416 <br> All: Mean Agreeability (pearson): <br> 0.7228 <br> All: Agreeability St. Dev.: <br> 0.0854",
          "<br> Best: Agreeability (pearson): <br> 0.7424 <br> All: Mean Agreeability (pearson): <br> 0.6312 <br> All: Agreeability St. Dev.: <br> 0.1146",
          "<br> Best: Agreeability (pearson): <br> 0.7431 <br> All: Mean Agreeability (pearson): <br> 0.5722 <br> All: Agreeability St. Dev.: <br> 0.1692",
          "<br> Best: Agreeability (pearson): <br> 0.7192 <br> All: Mean Agreeability (pearson): <br> 0.5258 <br> All: Agreeability St. Dev.: <br> 0.1635",
          "<br> Best: Agreeability (pearson): <br> 0.5980 <br> All: Mean Agreeability (pearson): <br> 0.4417 <br> All: Agreeability St. Dev.: <br> 0.1491",
          "<br> Best: Agreeability (pearson): <br> 0.3263 <br> All: Mean Agreeability (pearson): <br> 0.3075 <br> All: Agreeability St. Dev.: <br> 0.0188"
         ],
         "mode": "lines+markers",
         "name": "Best: Agreeability (pearson)",
         "type": "scatter",
         "x": [
          1,
          2,
          3,
          4,
          5,
          6,
          7,
          8,
          9,
          10
         ],
         "xaxis": "x",
         "y": [
          0.7567790142007598,
          0.7682044657495833,
          0.7786815490590877,
          0.7828323057118103,
          0.7416058235295625,
          0.7424142501900122,
          0.7431019867535953,
          0.719247402818799,
          0.5979782811046317,
          0.3262706343168213
         ],
         "yaxis": "y"
        },
        {
         "hoverinfo": "text",
         "hovertext": [
          "<br> Best: M1 rmse: <br> 0.7314 <br> Best: M1 Included Features: <br> MedInc, HouseAge, AveRooms, AveBedrms, Population, AveOccup, Latitude, Longitude, HouseEval_nice, HouseEval_not_nice, WallColors_gray, WallColors_white <br> All: M1 Mean rmse: <br> 0.7314 <br> All: M1 STD rmse: <br> 0.0000",
          "<br> Best: M1 rmse: <br> 0.7242 <br> Best: M1 Included Features: <br> MedInc, HouseAge, AveRooms, AveBedrms, Population, Latitude, Longitude, HouseEval_nice, HouseEval_not_nice, WallColors_gray, WallColors_white <br> All: M1 Mean rmse: <br> 0.7643 <br> All: M1 STD rmse: <br> 0.0550",
          "<br> Best: M1 rmse: <br> 0.7242 <br> Best: M1 Included Features: <br> MedInc, HouseAge, AveRooms, AveBedrms, Latitude, Longitude, HouseEval_nice, HouseEval_not_nice, WallColors_gray, WallColors_white <br> All: M1 Mean rmse: <br> 0.7596 <br> All: M1 STD rmse: <br> 0.0548",
          "<br> Best: M1 rmse: <br> 0.7242 <br> Best: M1 Included Features: <br> MedInc, HouseAge, AveRooms, AveBedrms, Latitude, Longitude, WallColors_gray, WallColors_white <br> All: M1 Mean rmse: <br> 0.7643 <br> All: M1 STD rmse: <br> 0.0566",
          "<br> Best: M1 rmse: <br> 0.7243 <br> Best: M1 Included Features: <br> MedInc, HouseAge, AveRooms, AveBedrms, Latitude, Longitude <br> All: M1 Mean rmse: <br> 0.7700 <br> All: M1 STD rmse: <br> 0.0583",
          "<br> Best: M1 rmse: <br> 0.7299 <br> Best: M1 Included Features: <br> MedInc, HouseAge, AveBedrms, Latitude, Longitude <br> All: M1 Mean rmse: <br> 0.7777 <br> All: M1 STD rmse: <br> 0.0597",
          "<br> Best: M1 rmse: <br> 0.7340 <br> Best: M1 Included Features: <br> MedInc, HouseAge, Latitude, Longitude <br> All: M1 Mean rmse: <br> 0.8222 <br> All: M1 STD rmse: <br> 0.1052",
          "<br> Best: M1 rmse: <br> 0.7420 <br> Best: M1 Included Features: <br> MedInc, Latitude, Longitude <br> All: M1 Mean rmse: <br> 0.8456 <br> All: M1 STD rmse: <br> 0.1065",
          "<br> Best: M1 rmse: <br> 0.8302 <br> Best: M1 Included Features: <br> MedInc, Latitude <br> All: M1 Mean rmse: <br> 0.8977 <br> All: M1 STD rmse: <br> 0.0893",
          "<br> Best: M1 rmse: <br> 0.8391 <br> Best: M1 Included Features: <br> MedInc <br> All: M1 Mean rmse: <br> 1.0013 <br> All: M1 STD rmse: <br> 0.1622"
         ],
         "mode": "lines+markers",
         "name": "Best: M1 rmse",
         "type": "scatter",
         "x": [
          1,
          2,
          3,
          4,
          5,
          6,
          7,
          8,
          9,
          10
         ],
         "xaxis": "x",
         "y": [
          0.7313631839067938,
          0.724194855571701,
          0.7241947577334621,
          0.7242297950673143,
          0.7243206659201569,
          0.7299080678582273,
          0.7340250301119083,
          0.7419579345892257,
          0.8301873925326823,
          0.8390728208993037
         ],
         "yaxis": "y2"
        },
        {
         "hoverinfo": "text",
         "hovertext": [
          "<br> Best: M2 rmse: <br> 0.7327 <br> Best: M2 Included Features: <br> MedInc, HouseAge, AveRooms, AveBedrms, Population, AveOccup, Latitude, Longitude, HouseEval_nice, HouseEval_not_nice, WallColors_gray, WallColors_white <br> All: M2 Mean rmse: <br> 0.7327 <br> All: M2 STD rmse: <br> 0.0000",
          "<br> Best: M2 rmse: <br> 0.6946 <br> Best: M2 Included Features: <br> MedInc, AveRooms, AveBedrms, Population, AveOccup, Latitude, Longitude, HouseEval_nice, HouseEval_not_nice, WallColors_gray, WallColors_white <br> All: M2 Mean rmse: <br> 0.7415 <br> All: M2 STD rmse: <br> 0.0477",
          "<br> Best: M2 rmse: <br> 0.6733 <br> Best: M2 Included Features: <br> MedInc, AveRooms, AveBedrms, Population, Latitude, Longitude, HouseEval_nice, HouseEval_not_nice, WallColors_gray, WallColors_white <br> All: M2 Mean rmse: <br> 0.7391 <br> All: M2 STD rmse: <br> 0.0701",
          "<br> Best: M2 rmse: <br> 0.6569 <br> Best: M2 Included Features: <br> MedInc, AveRooms, AveBedrms, Latitude, Longitude, HouseEval_nice, HouseEval_not_nice, WallColors_gray, WallColors_white <br> All: M2 Mean rmse: <br> 0.7452 <br> All: M2 STD rmse: <br> 0.1201",
          "<br> Best: M2 rmse: <br> 0.6495 <br> Best: M2 Included Features: <br> AveRooms, AveBedrms, Latitude, Longitude, HouseEval_nice, HouseEval_not_nice, WallColors_gray, WallColors_white <br> All: M2 Mean rmse: <br> 0.7409 <br> All: M2 STD rmse: <br> 0.1344",
          "<br> Best: M2 rmse: <br> 0.6426 <br> Best: M2 Included Features: <br> AveRooms, AveBedrms, Latitude, Longitude, WallColors_gray, WallColors_white <br> All: M2 Mean rmse: <br> 0.8395 <br> All: M2 STD rmse: <br> 0.2424",
          "<br> Best: M2 rmse: <br> 0.6321 <br> Best: M2 Included Features: <br> AveRooms, AveBedrms, Latitude, Longitude <br> All: M2 Mean rmse: <br> 0.8687 <br> All: M2 STD rmse: <br> 0.2476",
          "<br> Best: M2 rmse: <br> 0.6490 <br> Best: M2 Included Features: <br> AveRooms, Latitude, Longitude <br> All: M2 Mean rmse: <br> 0.9229 <br> All: M2 STD rmse: <br> 0.2419",
          "<br> Best: M2 rmse: <br> 0.6331 <br> Best: M2 Included Features: <br> Latitude, Longitude <br> All: M2 Mean rmse: <br> 1.0197 <br> All: M2 STD rmse: <br> 0.2777",
          "<br> Best: M2 rmse: <br> 1.0059 <br> Best: M2 Included Features: <br> Longitude <br> All: M2 Mean rmse: <br> 1.0256 <br> All: M2 STD rmse: <br> 0.0197"
         ],
         "mode": "lines+markers",
         "name": "Best: M2 rmse",
         "type": "scatter",
         "x": [
          1,
          2,
          3,
          4,
          5,
          6,
          7,
          8,
          9,
          10
         ],
         "xaxis": "x",
         "y": [
          0.7327078108794725,
          0.6946100961915089,
          0.6733390711251698,
          0.6568878071162784,
          0.6495063766119754,
          0.6425692969287806,
          0.6321286467604775,
          0.6490217469976426,
          0.6330917662455698,
          1.0058695484342364
         ],
         "yaxis": "y2"
        }
       ],
       "layout": {
        "hovermode": "closest",
        "template": {
         "data": {
          "bar": [
           {
            "error_x": {
             "color": "#2a3f5f"
            },
            "error_y": {
             "color": "#2a3f5f"
            },
            "marker": {
             "line": {
              "color": "#E5ECF6",
              "width": 0.5
             },
             "pattern": {
              "fillmode": "overlay",
              "size": 10,
              "solidity": 0.2
             }
            },
            "type": "bar"
           }
          ],
          "barpolar": [
           {
            "marker": {
             "line": {
              "color": "#E5ECF6",
              "width": 0.5
             },
             "pattern": {
              "fillmode": "overlay",
              "size": 10,
              "solidity": 0.2
             }
            },
            "type": "barpolar"
           }
          ],
          "carpet": [
           {
            "aaxis": {
             "endlinecolor": "#2a3f5f",
             "gridcolor": "white",
             "linecolor": "white",
             "minorgridcolor": "white",
             "startlinecolor": "#2a3f5f"
            },
            "baxis": {
             "endlinecolor": "#2a3f5f",
             "gridcolor": "white",
             "linecolor": "white",
             "minorgridcolor": "white",
             "startlinecolor": "#2a3f5f"
            },
            "type": "carpet"
           }
          ],
          "choropleth": [
           {
            "colorbar": {
             "outlinewidth": 0,
             "ticks": ""
            },
            "type": "choropleth"
           }
          ],
          "contour": [
           {
            "colorbar": {
             "outlinewidth": 0,
             "ticks": ""
            },
            "colorscale": [
             [
              0,
              "#0d0887"
             ],
             [
              0.1111111111111111,
              "#46039f"
             ],
             [
              0.2222222222222222,
              "#7201a8"
             ],
             [
              0.3333333333333333,
              "#9c179e"
             ],
             [
              0.4444444444444444,
              "#bd3786"
             ],
             [
              0.5555555555555556,
              "#d8576b"
             ],
             [
              0.6666666666666666,
              "#ed7953"
             ],
             [
              0.7777777777777778,
              "#fb9f3a"
             ],
             [
              0.8888888888888888,
              "#fdca26"
             ],
             [
              1,
              "#f0f921"
             ]
            ],
            "type": "contour"
           }
          ],
          "contourcarpet": [
           {
            "colorbar": {
             "outlinewidth": 0,
             "ticks": ""
            },
            "type": "contourcarpet"
           }
          ],
          "heatmap": [
           {
            "colorbar": {
             "outlinewidth": 0,
             "ticks": ""
            },
            "colorscale": [
             [
              0,
              "#0d0887"
             ],
             [
              0.1111111111111111,
              "#46039f"
             ],
             [
              0.2222222222222222,
              "#7201a8"
             ],
             [
              0.3333333333333333,
              "#9c179e"
             ],
             [
              0.4444444444444444,
              "#bd3786"
             ],
             [
              0.5555555555555556,
              "#d8576b"
             ],
             [
              0.6666666666666666,
              "#ed7953"
             ],
             [
              0.7777777777777778,
              "#fb9f3a"
             ],
             [
              0.8888888888888888,
              "#fdca26"
             ],
             [
              1,
              "#f0f921"
             ]
            ],
            "type": "heatmap"
           }
          ],
          "heatmapgl": [
           {
            "colorbar": {
             "outlinewidth": 0,
             "ticks": ""
            },
            "colorscale": [
             [
              0,
              "#0d0887"
             ],
             [
              0.1111111111111111,
              "#46039f"
             ],
             [
              0.2222222222222222,
              "#7201a8"
             ],
             [
              0.3333333333333333,
              "#9c179e"
             ],
             [
              0.4444444444444444,
              "#bd3786"
             ],
             [
              0.5555555555555556,
              "#d8576b"
             ],
             [
              0.6666666666666666,
              "#ed7953"
             ],
             [
              0.7777777777777778,
              "#fb9f3a"
             ],
             [
              0.8888888888888888,
              "#fdca26"
             ],
             [
              1,
              "#f0f921"
             ]
            ],
            "type": "heatmapgl"
           }
          ],
          "histogram": [
           {
            "marker": {
             "pattern": {
              "fillmode": "overlay",
              "size": 10,
              "solidity": 0.2
             }
            },
            "type": "histogram"
           }
          ],
          "histogram2d": [
           {
            "colorbar": {
             "outlinewidth": 0,
             "ticks": ""
            },
            "colorscale": [
             [
              0,
              "#0d0887"
             ],
             [
              0.1111111111111111,
              "#46039f"
             ],
             [
              0.2222222222222222,
              "#7201a8"
             ],
             [
              0.3333333333333333,
              "#9c179e"
             ],
             [
              0.4444444444444444,
              "#bd3786"
             ],
             [
              0.5555555555555556,
              "#d8576b"
             ],
             [
              0.6666666666666666,
              "#ed7953"
             ],
             [
              0.7777777777777778,
              "#fb9f3a"
             ],
             [
              0.8888888888888888,
              "#fdca26"
             ],
             [
              1,
              "#f0f921"
             ]
            ],
            "type": "histogram2d"
           }
          ],
          "histogram2dcontour": [
           {
            "colorbar": {
             "outlinewidth": 0,
             "ticks": ""
            },
            "colorscale": [
             [
              0,
              "#0d0887"
             ],
             [
              0.1111111111111111,
              "#46039f"
             ],
             [
              0.2222222222222222,
              "#7201a8"
             ],
             [
              0.3333333333333333,
              "#9c179e"
             ],
             [
              0.4444444444444444,
              "#bd3786"
             ],
             [
              0.5555555555555556,
              "#d8576b"
             ],
             [
              0.6666666666666666,
              "#ed7953"
             ],
             [
              0.7777777777777778,
              "#fb9f3a"
             ],
             [
              0.8888888888888888,
              "#fdca26"
             ],
             [
              1,
              "#f0f921"
             ]
            ],
            "type": "histogram2dcontour"
           }
          ],
          "mesh3d": [
           {
            "colorbar": {
             "outlinewidth": 0,
             "ticks": ""
            },
            "type": "mesh3d"
           }
          ],
          "parcoords": [
           {
            "line": {
             "colorbar": {
              "outlinewidth": 0,
              "ticks": ""
             }
            },
            "type": "parcoords"
           }
          ],
          "pie": [
           {
            "automargin": true,
            "type": "pie"
           }
          ],
          "scatter": [
           {
            "fillpattern": {
             "fillmode": "overlay",
             "size": 10,
             "solidity": 0.2
            },
            "type": "scatter"
           }
          ],
          "scatter3d": [
           {
            "line": {
             "colorbar": {
              "outlinewidth": 0,
              "ticks": ""
             }
            },
            "marker": {
             "colorbar": {
              "outlinewidth": 0,
              "ticks": ""
             }
            },
            "type": "scatter3d"
           }
          ],
          "scattercarpet": [
           {
            "marker": {
             "colorbar": {
              "outlinewidth": 0,
              "ticks": ""
             }
            },
            "type": "scattercarpet"
           }
          ],
          "scattergeo": [
           {
            "marker": {
             "colorbar": {
              "outlinewidth": 0,
              "ticks": ""
             }
            },
            "type": "scattergeo"
           }
          ],
          "scattergl": [
           {
            "marker": {
             "colorbar": {
              "outlinewidth": 0,
              "ticks": ""
             }
            },
            "type": "scattergl"
           }
          ],
          "scattermapbox": [
           {
            "marker": {
             "colorbar": {
              "outlinewidth": 0,
              "ticks": ""
             }
            },
            "type": "scattermapbox"
           }
          ],
          "scatterpolar": [
           {
            "marker": {
             "colorbar": {
              "outlinewidth": 0,
              "ticks": ""
             }
            },
            "type": "scatterpolar"
           }
          ],
          "scatterpolargl": [
           {
            "marker": {
             "colorbar": {
              "outlinewidth": 0,
              "ticks": ""
             }
            },
            "type": "scatterpolargl"
           }
          ],
          "scatterternary": [
           {
            "marker": {
             "colorbar": {
              "outlinewidth": 0,
              "ticks": ""
             }
            },
            "type": "scatterternary"
           }
          ],
          "surface": [
           {
            "colorbar": {
             "outlinewidth": 0,
             "ticks": ""
            },
            "colorscale": [
             [
              0,
              "#0d0887"
             ],
             [
              0.1111111111111111,
              "#46039f"
             ],
             [
              0.2222222222222222,
              "#7201a8"
             ],
             [
              0.3333333333333333,
              "#9c179e"
             ],
             [
              0.4444444444444444,
              "#bd3786"
             ],
             [
              0.5555555555555556,
              "#d8576b"
             ],
             [
              0.6666666666666666,
              "#ed7953"
             ],
             [
              0.7777777777777778,
              "#fb9f3a"
             ],
             [
              0.8888888888888888,
              "#fdca26"
             ],
             [
              1,
              "#f0f921"
             ]
            ],
            "type": "surface"
           }
          ],
          "table": [
           {
            "cells": {
             "fill": {
              "color": "#EBF0F8"
             },
             "line": {
              "color": "white"
             }
            },
            "header": {
             "fill": {
              "color": "#C8D4E3"
             },
             "line": {
              "color": "white"
             }
            },
            "type": "table"
           }
          ]
         },
         "layout": {
          "annotationdefaults": {
           "arrowcolor": "#2a3f5f",
           "arrowhead": 0,
           "arrowwidth": 1
          },
          "autotypenumbers": "strict",
          "coloraxis": {
           "colorbar": {
            "outlinewidth": 0,
            "ticks": ""
           }
          },
          "colorscale": {
           "diverging": [
            [
             0,
             "#8e0152"
            ],
            [
             0.1,
             "#c51b7d"
            ],
            [
             0.2,
             "#de77ae"
            ],
            [
             0.3,
             "#f1b6da"
            ],
            [
             0.4,
             "#fde0ef"
            ],
            [
             0.5,
             "#f7f7f7"
            ],
            [
             0.6,
             "#e6f5d0"
            ],
            [
             0.7,
             "#b8e186"
            ],
            [
             0.8,
             "#7fbc41"
            ],
            [
             0.9,
             "#4d9221"
            ],
            [
             1,
             "#276419"
            ]
           ],
           "sequential": [
            [
             0,
             "#0d0887"
            ],
            [
             0.1111111111111111,
             "#46039f"
            ],
            [
             0.2222222222222222,
             "#7201a8"
            ],
            [
             0.3333333333333333,
             "#9c179e"
            ],
            [
             0.4444444444444444,
             "#bd3786"
            ],
            [
             0.5555555555555556,
             "#d8576b"
            ],
            [
             0.6666666666666666,
             "#ed7953"
            ],
            [
             0.7777777777777778,
             "#fb9f3a"
            ],
            [
             0.8888888888888888,
             "#fdca26"
            ],
            [
             1,
             "#f0f921"
            ]
           ],
           "sequentialminus": [
            [
             0,
             "#0d0887"
            ],
            [
             0.1111111111111111,
             "#46039f"
            ],
            [
             0.2222222222222222,
             "#7201a8"
            ],
            [
             0.3333333333333333,
             "#9c179e"
            ],
            [
             0.4444444444444444,
             "#bd3786"
            ],
            [
             0.5555555555555556,
             "#d8576b"
            ],
            [
             0.6666666666666666,
             "#ed7953"
            ],
            [
             0.7777777777777778,
             "#fb9f3a"
            ],
            [
             0.8888888888888888,
             "#fdca26"
            ],
            [
             1,
             "#f0f921"
            ]
           ]
          },
          "colorway": [
           "#636efa",
           "#EF553B",
           "#00cc96",
           "#ab63fa",
           "#FFA15A",
           "#19d3f3",
           "#FF6692",
           "#B6E880",
           "#FF97FF",
           "#FECB52"
          ],
          "font": {
           "color": "#2a3f5f"
          },
          "geo": {
           "bgcolor": "white",
           "lakecolor": "white",
           "landcolor": "#E5ECF6",
           "showlakes": true,
           "showland": true,
           "subunitcolor": "white"
          },
          "hoverlabel": {
           "align": "left"
          },
          "hovermode": "closest",
          "mapbox": {
           "style": "light"
          },
          "paper_bgcolor": "white",
          "plot_bgcolor": "#E5ECF6",
          "polar": {
           "angularaxis": {
            "gridcolor": "white",
            "linecolor": "white",
            "ticks": ""
           },
           "bgcolor": "#E5ECF6",
           "radialaxis": {
            "gridcolor": "white",
            "linecolor": "white",
            "ticks": ""
           }
          },
          "scene": {
           "xaxis": {
            "backgroundcolor": "#E5ECF6",
            "gridcolor": "white",
            "gridwidth": 2,
            "linecolor": "white",
            "showbackground": true,
            "ticks": "",
            "zerolinecolor": "white"
           },
           "yaxis": {
            "backgroundcolor": "#E5ECF6",
            "gridcolor": "white",
            "gridwidth": 2,
            "linecolor": "white",
            "showbackground": true,
            "ticks": "",
            "zerolinecolor": "white"
           },
           "zaxis": {
            "backgroundcolor": "#E5ECF6",
            "gridcolor": "white",
            "gridwidth": 2,
            "linecolor": "white",
            "showbackground": true,
            "ticks": "",
            "zerolinecolor": "white"
           }
          },
          "shapedefaults": {
           "line": {
            "color": "#2a3f5f"
           }
          },
          "ternary": {
           "aaxis": {
            "gridcolor": "white",
            "linecolor": "white",
            "ticks": ""
           },
           "baxis": {
            "gridcolor": "white",
            "linecolor": "white",
            "ticks": ""
           },
           "bgcolor": "#E5ECF6",
           "caxis": {
            "gridcolor": "white",
            "linecolor": "white",
            "ticks": ""
           }
          },
          "title": {
           "x": 0.05
          },
          "xaxis": {
           "automargin": true,
           "gridcolor": "white",
           "linecolor": "white",
           "ticks": "",
           "title": {
            "standoff": 15
           },
           "zerolinecolor": "white",
           "zerolinewidth": 2
          },
          "yaxis": {
           "automargin": true,
           "gridcolor": "white",
           "linecolor": "white",
           "ticks": "",
           "title": {
            "standoff": 15
           },
           "zerolinecolor": "white",
           "zerolinewidth": 2
          }
         }
        },
        "title": {
         "text": "Agreeability Coefficients and Model Scores Over Algorithm Iterations"
        },
        "xaxis": {
         "anchor": "y",
         "domain": [
          0,
          0.94
         ],
         "title": {
          "text": "Iteration"
         },
         "type": "category"
        },
        "yaxis": {
         "anchor": "x",
         "domain": [
          0,
          1
         ],
         "title": {
          "text": "Agreeability"
         }
        },
        "yaxis2": {
         "anchor": "x",
         "overlaying": "y",
         "side": "right",
         "title": {
          "text": "Model Scores"
         }
        }
       }
      }
     },
     "metadata": {},
     "output_type": "display_data"
    }
   ],
   "source": [
    "# We can now look at the interactive plot\n",
    "seeker.plot_from_results()"
   ]
  },
  {
   "cell_type": "markdown",
   "metadata": {},
   "source": [
    "**New functionality:**\n",
    "\n",
    "I have added a new method to the framework that allows us to compare how statistically different the $n$ amount of best results from each models are from each-other - if we let $n=2$, then we are testing best results from model 1 with second best results from model 1, and testing best results from model 2 with second best results from model 2.\n",
    "\n",
    "Some experiments on the small dataset we have for demonstrational purposes shows that test statistics (t-test in this regression task, and mcnemar's test for classification task further down in the notebook) already shows that test statistics when comparing predictions of linear / logistic regressors are stable, while test statistics from comparing decision tree models tend do highly with different features."
   ]
  },
  {
   "cell_type": "code",
   "execution_count": 29,
   "metadata": {},
   "outputs": [
    {
     "name": "stdout",
     "output_type": "stream",
     "text": [
      "\u001b[0;31mSignature:\u001b[0m \u001b[0mseeker\u001b[0m\u001b[0;34m.\u001b[0m\u001b[0mcompare_n_best\u001b[0m\u001b[0;34m(\u001b[0m\u001b[0mn\u001b[0m\u001b[0;34m=\u001b[0m\u001b[0;32mNone\u001b[0m\u001b[0;34m,\u001b[0m \u001b[0mtest\u001b[0m\u001b[0;34m=\u001b[0m\u001b[0;32mNone\u001b[0m\u001b[0;34m)\u001b[0m\u001b[0;34m\u001b[0m\u001b[0;34m\u001b[0m\u001b[0m\n",
      "\u001b[0;31mDocstring:\u001b[0m\n",
      "Method for pair-wise comparison of n amount of best predictions obtained by the models.\n",
      "The pairwise tests are conducted within the predictions of each models and will test if predictions obtained are statistically significantly different from each other.\n",
      "\n",
      "Args:\n",
      "    n (int): How many best results to compare.\n",
      "    test (str): Statistical test to use. Options: 'mcnemar_binomial' and 'mcnemar_chisquare' for binary classification. 't_test' for regression.\n",
      "\n",
      "Returns:\n",
      "    None. pval_and_stats_m1 and pval_and_stats_m2 are callable lists containing corresponding test statistics and p-values.\n",
      "\n",
      "Example: Setting n=3 will test:\n",
      "        - M1: best predictions against second best predictions; second best predictions and third best predictions.\n",
      "        - M2: best predictions against second best predictions; second best predictions and third best predictions. \n",
      "\u001b[0;31mFile:\u001b[0m      /tmp/ipykernel_130701/3955809732.py\n",
      "\u001b[0;31mType:\u001b[0m      method"
     ]
    }
   ],
   "source": [
    "# You can further inspect my documentation for this functionality\n",
    "seeker.compare_n_best?"
   ]
  },
  {
   "cell_type": "code",
   "execution_count": 30,
   "metadata": {},
   "outputs": [
    {
     "name": "stdout",
     "output_type": "stream",
     "text": [
      "Model 1: Results for No. 1 and No. 2 best predictions: P-value: 0.70239521. Test statistic: -0.38210314.\n",
      "Model 2: Results for No. 1 and No. 2 best predictions: P-value: 0.77188139. Test statistic: -0.28992436.\n",
      "========================================================================================================================\n",
      "Model 1: Results for No. 2 and No. 3 best predictions: P-value: 0.70189896. Test statistic: -0.38277231.\n",
      "Model 2: Results for No. 2 and No. 3 best predictions: P-value: 0.94458274. Test statistic: 0.06951329.\n",
      "========================================================================================================================\n",
      "Model 1: Results for No. 3 and No. 4 best predictions: P-value: 0.70389361. Test statistic: -0.38008364.\n",
      "Model 2: Results for No. 3 and No. 4 best predictions: P-value: 0.48370647. Test statistic: -0.70038528.\n",
      "========================================================================================================================\n",
      "Model 1: Results for No. 4 and No. 5 best predictions: P-value: 0.69560290. Test statistic: -0.39127734.\n",
      "Model 2: Results for No. 4 and No. 5 best predictions: P-value: 0.67762958. Test statistic: -0.41571472.\n",
      "========================================================================================================================\n",
      "Model 1: Results for No. 5 and No. 6 best predictions: P-value: 0.73395124. Test statistic: -0.33988637.\n",
      "Model 2: Results for No. 5 and No. 6 best predictions: P-value: 0.48437545. Test statistic: -0.69931412.\n",
      "========================================================================================================================\n",
      "Model 1: Results for No. 6 and No. 7 best predictions: P-value: 0.70076084. Test statistic: -0.38430779.\n",
      "Model 2: Results for No. 6 and No. 7 best predictions: P-value: 0.38450176. Test statistic: -0.86967786.\n",
      "========================================================================================================================\n",
      "Model 1: Results for No. 7 and No. 8 best predictions: P-value: 0.79582729. Test statistic: 0.25876037.\n",
      "Model 2: Results for No. 7 and No. 8 best predictions: P-value: 0.21476852. Test statistic: -1.24065491.\n",
      "========================================================================================================================\n",
      "Model 1: Results for No. 8 and No. 9 best predictions: P-value: 0.77403698. Test statistic: 0.28710888.\n",
      "Model 2: Results for No. 8 and No. 9 best predictions: P-value: 0.15870383. Test statistic: -1.40960592.\n",
      "========================================================================================================================\n"
     ]
    }
   ],
   "source": [
    "seeker.compare_n_best(n=9, test='t_test')"
   ]
  },
  {
   "cell_type": "code",
   "execution_count": 31,
   "metadata": {},
   "outputs": [],
   "source": [
    "# The pvalues and test statistics can be saved as variables (list of tuples (p_value, test_statistic))\n",
    "pval_and_stats_m1 = seeker.pval_and_stats_m1\n",
    "pval_and_stats_m2 = seeker.pval_and_stats_m2"
   ]
  },
  {
   "cell_type": "markdown",
   "metadata": {},
   "source": [
    "(A note for self, disregard). How the indexing works in scores_and_preds. The resulting list has three possible indexing.\n",
    "\n",
    "$\\text{score} = \\text{list}[i][j][k]$, where $i$ ranges from $0$ to the maximum number of iteration of the search algorithm (however-many features we dropped before ending up with one feature), $j$ ranges from $0$ to $1$ with $0$ grabbing the score and $1$ grabbing the preds, and $k$ ranges from 0 to however-many features could be dropped during the iteration of search algorithm (for example at the very first iteration all $n$ amount of features can be dropped, thus $k$ will have that many things.)"
   ]
  },
  {
   "cell_type": "markdown",
   "metadata": {},
   "source": [
    "### Check functionality on a classification task"
   ]
  },
  {
   "cell_type": "markdown",
   "metadata": {},
   "source": [
    "Below I do not include detailed comments at the moment as we just re-run everything but with a different (binary) target"
   ]
  },
  {
   "cell_type": "code",
   "execution_count": 38,
   "metadata": {},
   "outputs": [
    {
     "name": "stdout",
     "output_type": "stream",
     "text": [
      "<class 'pandas.core.frame.DataFrame'>\n",
      "Int64Index: 7032 entries, 0 to 7042\n",
      "Data columns (total 34 columns):\n",
      " #   Column                                 Non-Null Count  Dtype  \n",
      "---  ------                                 --------------  -----  \n",
      " 0   Latitude                               7032 non-null   float64\n",
      " 1   Longitude                              7032 non-null   float64\n",
      " 2   Gender                                 7032 non-null   int64  \n",
      " 3   SeniorCitizen                          7032 non-null   int64  \n",
      " 4   Partner                                7032 non-null   int64  \n",
      " 5   Dependents                             7032 non-null   int64  \n",
      " 6   TenureMonths                           7032 non-null   int64  \n",
      " 7   PhoneService                           7032 non-null   int64  \n",
      " 8   PaperlessBilling                       7032 non-null   int64  \n",
      " 9   MonthlyCharges                         7032 non-null   float64\n",
      " 10  TotalCharges                           7032 non-null   float64\n",
      " 11  ChurnScore                             7032 non-null   int64  \n",
      " 12  CLTV                                   7032 non-null   int64  \n",
      " 13  MultipleLines_No_phone_service         7032 non-null   uint8  \n",
      " 14  MultipleLines_Yes                      7032 non-null   uint8  \n",
      " 15  InternetService_Fiber_optic            7032 non-null   uint8  \n",
      " 16  InternetService_No                     7032 non-null   uint8  \n",
      " 17  OnlineSecurity_No_internet_service     7032 non-null   uint8  \n",
      " 18  OnlineSecurity_Yes                     7032 non-null   uint8  \n",
      " 19  OnlineBackup_No_internet_service       7032 non-null   uint8  \n",
      " 20  OnlineBackup_Yes                       7032 non-null   uint8  \n",
      " 21  DeviceProtection_No_internet_service   7032 non-null   uint8  \n",
      " 22  DeviceProtection_Yes                   7032 non-null   uint8  \n",
      " 23  TechSupport_No_internet_service        7032 non-null   uint8  \n",
      " 24  TechSupport_Yes                        7032 non-null   uint8  \n",
      " 25  StreamingTV_No_internet_service        7032 non-null   uint8  \n",
      " 26  StreamingTV_Yes                        7032 non-null   uint8  \n",
      " 27  StreamingMovies_No_internet_service    7032 non-null   uint8  \n",
      " 28  StreamingMovies_Yes                    7032 non-null   uint8  \n",
      " 29  Contract_One_year                      7032 non-null   uint8  \n",
      " 30  Contract_Two_year                      7032 non-null   uint8  \n",
      " 31  PaymentMethod_Credit_card_(automatic)  7032 non-null   uint8  \n",
      " 32  PaymentMethod_Electronic_check         7032 non-null   uint8  \n",
      " 33  PaymentMethod_Mailed_check             7032 non-null   uint8  \n",
      "dtypes: float64(4), int64(9), uint8(21)\n",
      "memory usage: 913.3 KB\n"
     ]
    }
   ],
   "source": [
    "class_telco.info()"
   ]
  },
  {
   "cell_type": "code",
   "execution_count": 43,
   "metadata": {},
   "outputs": [],
   "source": [
    "# Use binary target\n",
    "y = class_telco['ChurnValue']\n",
    "X = class_telco.drop('ChurnValue', axis=1)\n"
   ]
  },
  {
   "cell_type": "code",
   "execution_count": 46,
   "metadata": {},
   "outputs": [],
   "source": [
    "X_train, X_val, y_train, y_val = train_test_split(X, y, test_size=0.2, random_state=66)"
   ]
  },
  {
   "cell_type": "code",
   "execution_count": 51,
   "metadata": {},
   "outputs": [],
   "source": [
    "# Standardscaling only the continuous numerical features\n",
    "\n",
    "float_cols = X_train.select_dtypes(include=['float64']).columns \n",
    "\n",
    "standardizer = ColumnTransformer(\n",
    "    transformers=[\n",
    "        ('num', StandardScaler(), float_cols)\n",
    "    ],\n",
    "    remainder='passthrough'\n",
    ")\n",
    "\n",
    "X_train_scaled = standardizer.fit_transform(X_train)\n",
    "X_val_scaled = standardizer.transform(X_val)\n",
    "\n",
    "X_train_scaled = pd.DataFrame(X_train_scaled, columns=X_train.columns)\n",
    "X_val_scaled = pd.DataFrame(X_val_scaled, columns=X_val.columns)\n"
   ]
  },
  {
   "cell_type": "code",
   "execution_count": 85,
   "metadata": {},
   "outputs": [],
   "source": [
    "from sklearn.linear_model import LogisticRegression\n",
    "from sklearn.tree import DecisionTreeClassifier\n",
    "from sklearn.ensemble import RandomForestClassifier"
   ]
  },
  {
   "cell_type": "code",
   "execution_count": 86,
   "metadata": {},
   "outputs": [],
   "source": [
    "m1 = LogisticRegression(solver='liblinear')\n",
    "m2 = RandomForestClassifier(n_estimators=50)"
   ]
  },
  {
   "cell_type": "code",
   "execution_count": 87,
   "metadata": {},
   "outputs": [],
   "source": [
    "# Save this class under a different name\n",
    "seeker_2 = BackEliminator(\n",
    "    X=X_train_scaled,\n",
    "    y=y_train,\n",
    "    validation_data=(X_val_scaled, y_val),\n",
    "    task_type='classification',\n",
    "    criterion='f1',\n",
    "    agreeability='cohen_kappa',\n",
    "    dummy_list=dummy_list\n",
    ")"
   ]
  },
  {
   "cell_type": "code",
   "execution_count": 88,
   "metadata": {},
   "outputs": [
    {
     "name": "stdout",
     "output_type": "stream",
     "text": [
      "Initial run: fitted both models with full feature set.\n",
      "------------------------------------------------------------------------------------------------------------------------------------------------------\n",
      "Model 1 included: ['Latitude', 'Longitude', 'Gender', 'SeniorCitizen', 'Partner', 'Dependents', 'TenureMonths', 'PhoneService', 'PaperlessBilling', 'MonthlyCharges', 'TotalCharges', 'CLTV', ['MultipleLines_No_phone_service', 'MultipleLines_Yes'], ['InternetService_Fiber_optic', 'InternetService_No'], ['OnlineSecurity_No_internet_service', 'OnlineSecurity_Yes'], ['OnlineBackup_No_internet_service', 'OnlineBackup_Yes'], ['DeviceProtection_No_internet_service', 'DeviceProtection_Yes'], ['TechSupport_No_internet_service', 'TechSupport_Yes'], ['StreamingTV_No_internet_service', 'StreamingTV_Yes'], ['StreamingMovies_No_internet_service', 'StreamingMovies_Yes'], ['Contract_One_year', 'Contract_Two_year'], ['PaymentMethod_Credit_card_(automatic)', 'PaymentMethod_Electronic_check', 'PaymentMethod_Mailed_check']]. F1: 0.6219\n",
      "Model 2 included: ['Latitude', 'Longitude', 'Gender', 'SeniorCitizen', 'Partner', 'Dependents', 'TenureMonths', 'PhoneService', 'PaperlessBilling', 'MonthlyCharges', 'TotalCharges', 'CLTV', ['MultipleLines_No_phone_service', 'MultipleLines_Yes'], ['InternetService_Fiber_optic', 'InternetService_No'], ['OnlineSecurity_No_internet_service', 'OnlineSecurity_Yes'], ['OnlineBackup_No_internet_service', 'OnlineBackup_Yes'], ['DeviceProtection_No_internet_service', 'DeviceProtection_Yes'], ['TechSupport_No_internet_service', 'TechSupport_Yes'], ['StreamingTV_No_internet_service', 'StreamingTV_Yes'], ['StreamingMovies_No_internet_service', 'StreamingMovies_Yes'], ['Contract_One_year', 'Contract_Two_year'], ['PaymentMethod_Credit_card_(automatic)', 'PaymentMethod_Electronic_check', 'PaymentMethod_Mailed_check']]. F1: 0.6030\n",
      "------------------------------------------------------------------------------------------------------------------------------------------------------\n",
      "Agreeability Coefficient (cohen_kappa): 0.7440\n",
      "======================================================================================================================================================\n",
      "Iteration 1:\n",
      "------------------------------------------------------------------------------------------------------------------------------------------------------\n",
      "Results from best models:\n",
      "Best Model 1 included: ['Latitude', 'Longitude', 'Gender', 'SeniorCitizen', 'Partner', 'Dependents', 'TenureMonths', 'PhoneService', 'PaperlessBilling', 'MonthlyCharges', 'TotalCharges', 'CLTV', ['MultipleLines_No_phone_service', 'MultipleLines_Yes'], ['InternetService_Fiber_optic', 'InternetService_No'], ['OnlineSecurity_No_internet_service', 'OnlineSecurity_Yes'], ['OnlineBackup_No_internet_service', 'OnlineBackup_Yes'], ['TechSupport_No_internet_service', 'TechSupport_Yes'], ['StreamingTV_No_internet_service', 'StreamingTV_Yes'], ['StreamingMovies_No_internet_service', 'StreamingMovies_Yes'], ['Contract_One_year', 'Contract_Two_year'], ['PaymentMethod_Credit_card_(automatic)', 'PaymentMethod_Electronic_check', 'PaymentMethod_Mailed_check']]. F1: 0.6241\n",
      "Best Model 2 included: ['Longitude', 'Gender', 'SeniorCitizen', 'Partner', 'Dependents', 'TenureMonths', 'PhoneService', 'PaperlessBilling', 'MonthlyCharges', 'TotalCharges', 'CLTV', ['MultipleLines_No_phone_service', 'MultipleLines_Yes'], ['InternetService_Fiber_optic', 'InternetService_No'], ['OnlineSecurity_No_internet_service', 'OnlineSecurity_Yes'], ['OnlineBackup_No_internet_service', 'OnlineBackup_Yes'], ['DeviceProtection_No_internet_service', 'DeviceProtection_Yes'], ['TechSupport_No_internet_service', 'TechSupport_Yes'], ['StreamingTV_No_internet_service', 'StreamingTV_Yes'], ['StreamingMovies_No_internet_service', 'StreamingMovies_Yes'], ['Contract_One_year', 'Contract_Two_year'], ['PaymentMethod_Credit_card_(automatic)', 'PaymentMethod_Electronic_check', 'PaymentMethod_Mailed_check']]. F1: 0.6119\n",
      "Agreeability Coefficient (cohen_kappa) between best models: 0.7326627797900368\n",
      "------------------------------------------------------------------------------------------------------------------------------------------------------\n",
      "Results from all models:\n",
      "M1 mean score: 0.6171. Standard deviation: 0.0051\n",
      "M1 mean score: 0.5879. Standard deviation: 0.0129\n",
      "Mean agreeability coefficient (cohen_kappa): 0.7375. Standard deviation: 0.0214\n",
      "======================================================================================================================================================\n",
      "Iteration 2:\n",
      "------------------------------------------------------------------------------------------------------------------------------------------------------\n",
      "Results from best models:\n",
      "Best Model 1 included: ['Latitude', 'Longitude', 'Gender', 'SeniorCitizen', 'Partner', 'Dependents', 'TenureMonths', 'PhoneService', 'PaperlessBilling', 'MonthlyCharges', 'TotalCharges', 'CLTV', ['MultipleLines_No_phone_service', 'MultipleLines_Yes'], ['OnlineSecurity_No_internet_service', 'OnlineSecurity_Yes'], ['OnlineBackup_No_internet_service', 'OnlineBackup_Yes'], ['TechSupport_No_internet_service', 'TechSupport_Yes'], ['StreamingTV_No_internet_service', 'StreamingTV_Yes'], ['StreamingMovies_No_internet_service', 'StreamingMovies_Yes'], ['Contract_One_year', 'Contract_Two_year'], ['PaymentMethod_Credit_card_(automatic)', 'PaymentMethod_Electronic_check', 'PaymentMethod_Mailed_check']]. F1: 0.6272\n",
      "Best Model 2 included: ['Longitude', 'Gender', 'SeniorCitizen', 'Partner', 'Dependents', 'TenureMonths', 'PhoneService', 'PaperlessBilling', 'MonthlyCharges', 'TotalCharges', 'CLTV', ['MultipleLines_No_phone_service', 'MultipleLines_Yes'], ['InternetService_Fiber_optic', 'InternetService_No'], ['OnlineSecurity_No_internet_service', 'OnlineSecurity_Yes'], ['OnlineBackup_No_internet_service', 'OnlineBackup_Yes'], ['DeviceProtection_No_internet_service', 'DeviceProtection_Yes'], ['TechSupport_No_internet_service', 'TechSupport_Yes'], ['StreamingTV_No_internet_service', 'StreamingTV_Yes'], ['StreamingMovies_No_internet_service', 'StreamingMovies_Yes'], ['PaymentMethod_Credit_card_(automatic)', 'PaymentMethod_Electronic_check', 'PaymentMethod_Mailed_check']]. F1: 0.6069\n",
      "Agreeability Coefficient (cohen_kappa) between best models: 0.749408224124362\n",
      "------------------------------------------------------------------------------------------------------------------------------------------------------\n",
      "Results from all models:\n",
      "M1 mean score: 0.6178. Standard deviation: 0.0056\n",
      "M1 mean score: 0.5862. Standard deviation: 0.0116\n",
      "Mean agreeability coefficient (cohen_kappa): 0.7334. Standard deviation: 0.0212\n",
      "======================================================================================================================================================\n",
      "Iteration 3:\n",
      "------------------------------------------------------------------------------------------------------------------------------------------------------\n",
      "Results from best models:\n",
      "Best Model 1 included: ['Latitude', 'Longitude', 'Gender', 'SeniorCitizen', 'Partner', 'Dependents', 'TenureMonths', 'PhoneService', 'PaperlessBilling', 'MonthlyCharges', 'TotalCharges', 'CLTV', ['MultipleLines_No_phone_service', 'MultipleLines_Yes'], ['OnlineSecurity_No_internet_service', 'OnlineSecurity_Yes'], ['OnlineBackup_No_internet_service', 'OnlineBackup_Yes'], ['TechSupport_No_internet_service', 'TechSupport_Yes'], ['StreamingMovies_No_internet_service', 'StreamingMovies_Yes'], ['Contract_One_year', 'Contract_Two_year'], ['PaymentMethod_Credit_card_(automatic)', 'PaymentMethod_Electronic_check', 'PaymentMethod_Mailed_check']]. F1: 0.6402\n",
      "Best Model 2 included: ['Longitude', 'Gender', 'SeniorCitizen', 'Partner', 'Dependents', 'TenureMonths', 'PhoneService', 'PaperlessBilling', 'MonthlyCharges', 'TotalCharges', 'CLTV', ['MultipleLines_No_phone_service', 'MultipleLines_Yes'], ['InternetService_Fiber_optic', 'InternetService_No'], ['OnlineBackup_No_internet_service', 'OnlineBackup_Yes'], ['DeviceProtection_No_internet_service', 'DeviceProtection_Yes'], ['TechSupport_No_internet_service', 'TechSupport_Yes'], ['StreamingTV_No_internet_service', 'StreamingTV_Yes'], ['StreamingMovies_No_internet_service', 'StreamingMovies_Yes'], ['PaymentMethod_Credit_card_(automatic)', 'PaymentMethod_Electronic_check', 'PaymentMethod_Mailed_check']]. F1: 0.6060\n",
      "Agreeability Coefficient (cohen_kappa) between best models: 0.7215061155726123\n",
      "------------------------------------------------------------------------------------------------------------------------------------------------------\n",
      "Results from all models:\n",
      "M1 mean score: 0.6186. Standard deviation: 0.0104\n",
      "M1 mean score: 0.5850. Standard deviation: 0.0132\n",
      "Mean agreeability coefficient (cohen_kappa): 0.7225. Standard deviation: 0.0187\n",
      "======================================================================================================================================================\n",
      "Iteration 4:\n",
      "------------------------------------------------------------------------------------------------------------------------------------------------------\n",
      "Results from best models:\n",
      "Best Model 1 included: ['Latitude', 'Longitude', 'Gender', 'SeniorCitizen', 'Dependents', 'TenureMonths', 'PhoneService', 'PaperlessBilling', 'MonthlyCharges', 'TotalCharges', 'CLTV', ['MultipleLines_No_phone_service', 'MultipleLines_Yes'], ['OnlineSecurity_No_internet_service', 'OnlineSecurity_Yes'], ['OnlineBackup_No_internet_service', 'OnlineBackup_Yes'], ['TechSupport_No_internet_service', 'TechSupport_Yes'], ['StreamingMovies_No_internet_service', 'StreamingMovies_Yes'], ['Contract_One_year', 'Contract_Two_year'], ['PaymentMethod_Credit_card_(automatic)', 'PaymentMethod_Electronic_check', 'PaymentMethod_Mailed_check']]. F1: 0.6384\n",
      "Best Model 2 included: ['Longitude', 'Gender', 'SeniorCitizen', 'Partner', 'Dependents', 'TenureMonths', 'PhoneService', 'PaperlessBilling', 'MonthlyCharges', 'TotalCharges', ['MultipleLines_No_phone_service', 'MultipleLines_Yes'], ['InternetService_Fiber_optic', 'InternetService_No'], ['OnlineBackup_No_internet_service', 'OnlineBackup_Yes'], ['DeviceProtection_No_internet_service', 'DeviceProtection_Yes'], ['TechSupport_No_internet_service', 'TechSupport_Yes'], ['StreamingTV_No_internet_service', 'StreamingTV_Yes'], ['StreamingMovies_No_internet_service', 'StreamingMovies_Yes'], ['PaymentMethod_Credit_card_(automatic)', 'PaymentMethod_Electronic_check', 'PaymentMethod_Mailed_check']]. F1: 0.6095\n",
      "Agreeability Coefficient (cohen_kappa) between best models: 0.719967317473928\n",
      "------------------------------------------------------------------------------------------------------------------------------------------------------\n",
      "Results from all models:\n",
      "M1 mean score: 0.6185. Standard deviation: 0.0131\n",
      "M1 mean score: 0.5904. Standard deviation: 0.0131\n",
      "Mean agreeability coefficient (cohen_kappa): 0.7131. Standard deviation: 0.0227\n",
      "======================================================================================================================================================\n",
      "Iteration 5:\n",
      "------------------------------------------------------------------------------------------------------------------------------------------------------\n",
      "Results from best models:\n",
      "Best Model 1 included: ['Latitude', 'Longitude', 'Gender', 'SeniorCitizen', 'Dependents', 'TenureMonths', 'PhoneService', 'PaperlessBilling', 'TotalCharges', 'CLTV', ['MultipleLines_No_phone_service', 'MultipleLines_Yes'], ['OnlineSecurity_No_internet_service', 'OnlineSecurity_Yes'], ['OnlineBackup_No_internet_service', 'OnlineBackup_Yes'], ['TechSupport_No_internet_service', 'TechSupport_Yes'], ['StreamingMovies_No_internet_service', 'StreamingMovies_Yes'], ['Contract_One_year', 'Contract_Two_year'], ['PaymentMethod_Credit_card_(automatic)', 'PaymentMethod_Electronic_check', 'PaymentMethod_Mailed_check']]. F1: 0.6365\n",
      "Best Model 2 included: ['Longitude', 'Gender', 'SeniorCitizen', 'Partner', 'Dependents', 'TenureMonths', 'PhoneService', 'PaperlessBilling', 'MonthlyCharges', 'TotalCharges', ['MultipleLines_No_phone_service', 'MultipleLines_Yes'], ['InternetService_Fiber_optic', 'InternetService_No'], ['OnlineBackup_No_internet_service', 'OnlineBackup_Yes'], ['TechSupport_No_internet_service', 'TechSupport_Yes'], ['StreamingTV_No_internet_service', 'StreamingTV_Yes'], ['StreamingMovies_No_internet_service', 'StreamingMovies_Yes'], ['PaymentMethod_Credit_card_(automatic)', 'PaymentMethod_Electronic_check', 'PaymentMethod_Mailed_check']]. F1: 0.6124\n",
      "Agreeability Coefficient (cohen_kappa) between best models: 0.7038403260358431\n",
      "------------------------------------------------------------------------------------------------------------------------------------------------------\n",
      "Results from all models:\n",
      "M1 mean score: 0.6152. Standard deviation: 0.0124\n",
      "M1 mean score: 0.5952. Standard deviation: 0.0120\n",
      "Mean agreeability coefficient (cohen_kappa): 0.6945. Standard deviation: 0.0279\n",
      "======================================================================================================================================================\n",
      "Iteration 6:\n",
      "------------------------------------------------------------------------------------------------------------------------------------------------------\n",
      "Results from best models:\n",
      "Best Model 1 included: ['Latitude', 'Longitude', 'Gender', 'SeniorCitizen', 'Dependents', 'TenureMonths', 'PhoneService', 'PaperlessBilling', 'TotalCharges', 'CLTV', ['MultipleLines_No_phone_service', 'MultipleLines_Yes'], ['OnlineSecurity_No_internet_service', 'OnlineSecurity_Yes'], ['OnlineBackup_No_internet_service', 'OnlineBackup_Yes'], ['TechSupport_No_internet_service', 'TechSupport_Yes'], ['StreamingMovies_No_internet_service', 'StreamingMovies_Yes'], ['PaymentMethod_Credit_card_(automatic)', 'PaymentMethod_Electronic_check', 'PaymentMethod_Mailed_check']]. F1: 0.6361\n",
      "Best Model 2 included: ['Longitude', 'Gender', 'SeniorCitizen', 'Partner', 'Dependents', 'TenureMonths', 'PhoneService', 'PaperlessBilling', 'TotalCharges', ['MultipleLines_No_phone_service', 'MultipleLines_Yes'], ['InternetService_Fiber_optic', 'InternetService_No'], ['OnlineBackup_No_internet_service', 'OnlineBackup_Yes'], ['TechSupport_No_internet_service', 'TechSupport_Yes'], ['StreamingTV_No_internet_service', 'StreamingTV_Yes'], ['StreamingMovies_No_internet_service', 'StreamingMovies_Yes'], ['PaymentMethod_Credit_card_(automatic)', 'PaymentMethod_Electronic_check', 'PaymentMethod_Mailed_check']]. F1: 0.6149\n",
      "Agreeability Coefficient (cohen_kappa) between best models: 0.7219071655542548\n",
      "------------------------------------------------------------------------------------------------------------------------------------------------------\n",
      "Results from all models:\n",
      "M1 mean score: 0.6211. Standard deviation: 0.0096\n",
      "M1 mean score: 0.5954. Standard deviation: 0.0094\n",
      "Mean agreeability coefficient (cohen_kappa): 0.6879. Standard deviation: 0.0240\n",
      "======================================================================================================================================================\n",
      "Iteration 7:\n",
      "------------------------------------------------------------------------------------------------------------------------------------------------------\n",
      "Results from best models:\n",
      "Best Model 1 included: ['Latitude', 'Longitude', 'Gender', 'SeniorCitizen', 'TenureMonths', 'PhoneService', 'PaperlessBilling', 'TotalCharges', 'CLTV', ['MultipleLines_No_phone_service', 'MultipleLines_Yes'], ['OnlineSecurity_No_internet_service', 'OnlineSecurity_Yes'], ['OnlineBackup_No_internet_service', 'OnlineBackup_Yes'], ['TechSupport_No_internet_service', 'TechSupport_Yes'], ['StreamingMovies_No_internet_service', 'StreamingMovies_Yes'], ['PaymentMethod_Credit_card_(automatic)', 'PaymentMethod_Electronic_check', 'PaymentMethod_Mailed_check']]. F1: 0.6391\n",
      "Best Model 2 included: ['Longitude', 'Gender', 'SeniorCitizen', 'Partner', 'Dependents', 'TenureMonths', 'PhoneService', 'PaperlessBilling', ['MultipleLines_No_phone_service', 'MultipleLines_Yes'], ['InternetService_Fiber_optic', 'InternetService_No'], ['OnlineBackup_No_internet_service', 'OnlineBackup_Yes'], ['TechSupport_No_internet_service', 'TechSupport_Yes'], ['StreamingTV_No_internet_service', 'StreamingTV_Yes'], ['StreamingMovies_No_internet_service', 'StreamingMovies_Yes'], ['PaymentMethod_Credit_card_(automatic)', 'PaymentMethod_Electronic_check', 'PaymentMethod_Mailed_check']]. F1: 0.6184\n",
      "Agreeability Coefficient (cohen_kappa) between best models: 0.6914412169301619\n",
      "------------------------------------------------------------------------------------------------------------------------------------------------------\n",
      "Results from all models:\n",
      "M1 mean score: 0.6170. Standard deviation: 0.0144\n",
      "M1 mean score: 0.5961. Standard deviation: 0.0107\n",
      "Mean agreeability coefficient (cohen_kappa): 0.6887. Standard deviation: 0.0182\n",
      "======================================================================================================================================================\n",
      "Iteration 8:\n",
      "------------------------------------------------------------------------------------------------------------------------------------------------------\n",
      "Results from best models:\n",
      "Best Model 1 included: ['Latitude', 'Longitude', 'Gender', 'SeniorCitizen', 'TenureMonths', 'PhoneService', 'PaperlessBilling', 'TotalCharges', ['MultipleLines_No_phone_service', 'MultipleLines_Yes'], ['OnlineSecurity_No_internet_service', 'OnlineSecurity_Yes'], ['OnlineBackup_No_internet_service', 'OnlineBackup_Yes'], ['TechSupport_No_internet_service', 'TechSupport_Yes'], ['StreamingMovies_No_internet_service', 'StreamingMovies_Yes'], ['PaymentMethod_Credit_card_(automatic)', 'PaymentMethod_Electronic_check', 'PaymentMethod_Mailed_check']]. F1: 0.6324\n",
      "Best Model 2 included: ['Longitude', 'Gender', 'SeniorCitizen', 'Partner', 'Dependents', 'PhoneService', 'PaperlessBilling', ['MultipleLines_No_phone_service', 'MultipleLines_Yes'], ['InternetService_Fiber_optic', 'InternetService_No'], ['OnlineBackup_No_internet_service', 'OnlineBackup_Yes'], ['TechSupport_No_internet_service', 'TechSupport_Yes'], ['StreamingTV_No_internet_service', 'StreamingTV_Yes'], ['StreamingMovies_No_internet_service', 'StreamingMovies_Yes'], ['PaymentMethod_Credit_card_(automatic)', 'PaymentMethod_Electronic_check', 'PaymentMethod_Mailed_check']]. F1: 0.6110\n",
      "Agreeability Coefficient (cohen_kappa) between best models: 0.7214976995081706\n",
      "------------------------------------------------------------------------------------------------------------------------------------------------------\n",
      "Results from all models:\n",
      "M1 mean score: 0.6113. Standard deviation: 0.0142\n",
      "M1 mean score: 0.5886. Standard deviation: 0.0114\n",
      "Mean agreeability coefficient (cohen_kappa): 0.6692. Standard deviation: 0.0272\n",
      "======================================================================================================================================================\n",
      "Iteration 9:\n",
      "------------------------------------------------------------------------------------------------------------------------------------------------------\n",
      "Results from best models:\n",
      "Best Model 1 included: ['Latitude', 'Longitude', 'Gender', 'SeniorCitizen', 'TenureMonths', 'PhoneService', 'PaperlessBilling', 'TotalCharges', ['MultipleLines_No_phone_service', 'MultipleLines_Yes'], ['OnlineSecurity_No_internet_service', 'OnlineSecurity_Yes'], ['OnlineBackup_No_internet_service', 'OnlineBackup_Yes'], ['TechSupport_No_internet_service', 'TechSupport_Yes'], ['PaymentMethod_Credit_card_(automatic)', 'PaymentMethod_Electronic_check', 'PaymentMethod_Mailed_check']]. F1: 0.6334\n",
      "Best Model 2 included: ['Longitude', 'Gender', 'SeniorCitizen', 'Partner', 'Dependents', 'PhoneService', 'PaperlessBilling', ['MultipleLines_No_phone_service', 'MultipleLines_Yes'], ['InternetService_Fiber_optic', 'InternetService_No'], ['OnlineBackup_No_internet_service', 'OnlineBackup_Yes'], ['TechSupport_No_internet_service', 'TechSupport_Yes'], ['StreamingTV_No_internet_service', 'StreamingTV_Yes'], ['PaymentMethod_Credit_card_(automatic)', 'PaymentMethod_Electronic_check', 'PaymentMethod_Mailed_check']]. F1: 0.6099\n",
      "Agreeability Coefficient (cohen_kappa) between best models: 0.6917545882128973\n",
      "------------------------------------------------------------------------------------------------------------------------------------------------------\n",
      "Results from all models:\n",
      "M1 mean score: 0.6172. Standard deviation: 0.0125\n",
      "M1 mean score: 0.5901. Standard deviation: 0.0108\n",
      "Mean agreeability coefficient (cohen_kappa): 0.6804. Standard deviation: 0.0195\n",
      "======================================================================================================================================================\n",
      "Iteration 10:\n",
      "------------------------------------------------------------------------------------------------------------------------------------------------------\n",
      "Results from best models:\n",
      "Best Model 1 included: ['Latitude', 'Longitude', 'Gender', 'SeniorCitizen', 'TenureMonths', 'PhoneService', 'PaperlessBilling', 'TotalCharges', ['MultipleLines_No_phone_service', 'MultipleLines_Yes'], ['OnlineSecurity_No_internet_service', 'OnlineSecurity_Yes'], ['OnlineBackup_No_internet_service', 'OnlineBackup_Yes'], ['TechSupport_No_internet_service', 'TechSupport_Yes']]. F1: 0.6330\n",
      "Best Model 2 included: ['Longitude', 'Gender', 'SeniorCitizen', 'Dependents', 'PhoneService', 'PaperlessBilling', ['MultipleLines_No_phone_service', 'MultipleLines_Yes'], ['InternetService_Fiber_optic', 'InternetService_No'], ['OnlineBackup_No_internet_service', 'OnlineBackup_Yes'], ['TechSupport_No_internet_service', 'TechSupport_Yes'], ['StreamingTV_No_internet_service', 'StreamingTV_Yes'], ['PaymentMethod_Credit_card_(automatic)', 'PaymentMethod_Electronic_check', 'PaymentMethod_Mailed_check']]. F1: 0.6050\n",
      "Agreeability Coefficient (cohen_kappa) between best models: 0.6780281588360694\n",
      "------------------------------------------------------------------------------------------------------------------------------------------------------\n",
      "Results from all models:\n",
      "M1 mean score: 0.6186. Standard deviation: 0.0120\n",
      "M1 mean score: 0.5836. Standard deviation: 0.0117\n",
      "Mean agreeability coefficient (cohen_kappa): 0.6649. Standard deviation: 0.0231\n",
      "======================================================================================================================================================\n",
      "Iteration 11:\n",
      "------------------------------------------------------------------------------------------------------------------------------------------------------\n",
      "Results from best models:\n",
      "Best Model 1 included: ['Latitude', 'Gender', 'SeniorCitizen', 'TenureMonths', 'PhoneService', 'PaperlessBilling', 'TotalCharges', ['MultipleLines_No_phone_service', 'MultipleLines_Yes'], ['OnlineSecurity_No_internet_service', 'OnlineSecurity_Yes'], ['OnlineBackup_No_internet_service', 'OnlineBackup_Yes'], ['TechSupport_No_internet_service', 'TechSupport_Yes']]. F1: 0.6330\n",
      "Best Model 2 included: ['Longitude', 'Gender', 'SeniorCitizen', 'Dependents', 'PhoneService', 'PaperlessBilling', ['MultipleLines_No_phone_service', 'MultipleLines_Yes'], ['InternetService_Fiber_optic', 'InternetService_No'], ['OnlineBackup_No_internet_service', 'OnlineBackup_Yes'], ['StreamingTV_No_internet_service', 'StreamingTV_Yes'], ['PaymentMethod_Credit_card_(automatic)', 'PaymentMethod_Electronic_check', 'PaymentMethod_Mailed_check']]. F1: 0.5956\n",
      "Agreeability Coefficient (cohen_kappa) between best models: 0.6713723682095182\n",
      "------------------------------------------------------------------------------------------------------------------------------------------------------\n",
      "Results from all models:\n",
      "M1 mean score: 0.6175. Standard deviation: 0.0122\n",
      "M1 mean score: 0.5826. Standard deviation: 0.0109\n",
      "Mean agreeability coefficient (cohen_kappa): 0.6441. Standard deviation: 0.0329\n",
      "======================================================================================================================================================\n",
      "Iteration 12:\n",
      "------------------------------------------------------------------------------------------------------------------------------------------------------\n",
      "Results from best models:\n",
      "Best Model 1 included: ['Gender', 'SeniorCitizen', 'TenureMonths', 'PhoneService', 'PaperlessBilling', 'TotalCharges', ['MultipleLines_No_phone_service', 'MultipleLines_Yes'], ['OnlineSecurity_No_internet_service', 'OnlineSecurity_Yes'], ['OnlineBackup_No_internet_service', 'OnlineBackup_Yes'], ['TechSupport_No_internet_service', 'TechSupport_Yes']]. F1: 0.6302\n",
      "Best Model 2 included: ['Longitude', 'Gender', 'SeniorCitizen', 'Dependents', 'PhoneService', 'PaperlessBilling', ['MultipleLines_No_phone_service', 'MultipleLines_Yes'], ['InternetService_Fiber_optic', 'InternetService_No'], ['OnlineBackup_No_internet_service', 'OnlineBackup_Yes'], ['PaymentMethod_Credit_card_(automatic)', 'PaymentMethod_Electronic_check', 'PaymentMethod_Mailed_check']]. F1: 0.5817\n",
      "Agreeability Coefficient (cohen_kappa) between best models: 0.6328461795535807\n",
      "------------------------------------------------------------------------------------------------------------------------------------------------------\n",
      "Results from all models:\n",
      "M1 mean score: 0.6154. Standard deviation: 0.0126\n",
      "M1 mean score: 0.5703. Standard deviation: 0.0097\n",
      "Mean agreeability coefficient (cohen_kappa): 0.6174. Standard deviation: 0.0388\n",
      "======================================================================================================================================================\n",
      "Iteration 13:\n",
      "------------------------------------------------------------------------------------------------------------------------------------------------------\n",
      "Results from best models:\n",
      "Best Model 1 included: ['Gender', 'SeniorCitizen', 'TenureMonths', 'PhoneService', 'PaperlessBilling', 'TotalCharges', ['MultipleLines_No_phone_service', 'MultipleLines_Yes'], ['OnlineSecurity_No_internet_service', 'OnlineSecurity_Yes'], ['TechSupport_No_internet_service', 'TechSupport_Yes']]. F1: 0.6299\n",
      "Best Model 2 included: ['Longitude', 'Gender', 'SeniorCitizen', 'Dependents', 'PhoneService', 'PaperlessBilling', ['MultipleLines_No_phone_service', 'MultipleLines_Yes'], ['InternetService_Fiber_optic', 'InternetService_No'], ['PaymentMethod_Credit_card_(automatic)', 'PaymentMethod_Electronic_check', 'PaymentMethod_Mailed_check']]. F1: 0.5757\n",
      "Agreeability Coefficient (cohen_kappa) between best models: 0.6603335788455595\n",
      "------------------------------------------------------------------------------------------------------------------------------------------------------\n",
      "Results from all models:\n",
      "M1 mean score: 0.6149. Standard deviation: 0.0117\n",
      "M1 mean score: 0.5695. Standard deviation: 0.0055\n",
      "Mean agreeability coefficient (cohen_kappa): 0.6097. Standard deviation: 0.0365\n",
      "======================================================================================================================================================\n",
      "Iteration 14:\n",
      "------------------------------------------------------------------------------------------------------------------------------------------------------\n",
      "Results from best models:\n",
      "Best Model 1 included: ['Gender', 'TenureMonths', 'PhoneService', 'PaperlessBilling', 'TotalCharges', ['MultipleLines_No_phone_service', 'MultipleLines_Yes'], ['OnlineSecurity_No_internet_service', 'OnlineSecurity_Yes'], ['TechSupport_No_internet_service', 'TechSupport_Yes']]. F1: 0.6328\n",
      "Best Model 2 included: ['Longitude', 'Gender', 'SeniorCitizen', 'Dependents', 'PhoneService', 'PaperlessBilling', ['MultipleLines_No_phone_service', 'MultipleLines_Yes'], ['PaymentMethod_Credit_card_(automatic)', 'PaymentMethod_Electronic_check', 'PaymentMethod_Mailed_check']]. F1: 0.5762\n",
      "Agreeability Coefficient (cohen_kappa) between best models: 0.6050895822613088\n",
      "------------------------------------------------------------------------------------------------------------------------------------------------------\n",
      "Results from all models:\n",
      "M1 mean score: 0.6123. Standard deviation: 0.0108\n",
      "M1 mean score: 0.5628. Standard deviation: 0.0089\n",
      "Mean agreeability coefficient (cohen_kappa): 0.6040. Standard deviation: 0.0286\n",
      "======================================================================================================================================================\n",
      "Iteration 15:\n",
      "------------------------------------------------------------------------------------------------------------------------------------------------------\n",
      "Results from best models:\n",
      "Best Model 1 included: ['Gender', 'PhoneService', 'PaperlessBilling', 'TotalCharges', ['MultipleLines_No_phone_service', 'MultipleLines_Yes'], ['OnlineSecurity_No_internet_service', 'OnlineSecurity_Yes'], ['TechSupport_No_internet_service', 'TechSupport_Yes']]. F1: 0.6220\n",
      "Best Model 2 included: ['Longitude', 'Gender', 'Dependents', 'PhoneService', 'PaperlessBilling', ['MultipleLines_No_phone_service', 'MultipleLines_Yes'], ['PaymentMethod_Credit_card_(automatic)', 'PaymentMethod_Electronic_check', 'PaymentMethod_Mailed_check']]. F1: 0.5757\n",
      "Agreeability Coefficient (cohen_kappa) between best models: 0.6266673824185767\n",
      "------------------------------------------------------------------------------------------------------------------------------------------------------\n",
      "Results from all models:\n",
      "M1 mean score: 0.5999. Standard deviation: 0.0261\n",
      "M1 mean score: 0.5612. Standard deviation: 0.0116\n",
      "Mean agreeability coefficient (cohen_kappa): 0.5741. Standard deviation: 0.0967\n",
      "======================================================================================================================================================\n",
      "Iteration 16:\n",
      "------------------------------------------------------------------------------------------------------------------------------------------------------\n",
      "Results from best models:\n",
      "Best Model 1 included: ['Gender', 'PhoneService', 'PaperlessBilling', 'TotalCharges', ['MultipleLines_No_phone_service', 'MultipleLines_Yes'], ['TechSupport_No_internet_service', 'TechSupport_Yes']]. F1: 0.6083\n",
      "Best Model 2 included: ['Longitude', 'Gender', 'PhoneService', 'PaperlessBilling', ['MultipleLines_No_phone_service', 'MultipleLines_Yes'], ['PaymentMethod_Credit_card_(automatic)', 'PaymentMethod_Electronic_check', 'PaymentMethod_Mailed_check']]. F1: 0.5800\n",
      "Agreeability Coefficient (cohen_kappa) between best models: 0.6714799130136203\n",
      "------------------------------------------------------------------------------------------------------------------------------------------------------\n",
      "Results from all models:\n",
      "M1 mean score: 0.5922. Standard deviation: 0.0209\n",
      "M1 mean score: 0.5348. Standard deviation: 0.0523\n",
      "Mean agreeability coefficient (cohen_kappa): 0.5331. Standard deviation: 0.1223\n",
      "======================================================================================================================================================\n",
      "Iteration 17:\n",
      "------------------------------------------------------------------------------------------------------------------------------------------------------\n",
      "Results from best models:\n",
      "Best Model 1 included: ['Gender', 'PhoneService', 'PaperlessBilling', 'TotalCharges', ['TechSupport_No_internet_service', 'TechSupport_Yes']]. F1: 0.5939\n",
      "Best Model 2 included: ['Longitude', 'Gender', 'PhoneService', 'PaperlessBilling', ['PaymentMethod_Credit_card_(automatic)', 'PaymentMethod_Electronic_check', 'PaymentMethod_Mailed_check']]. F1: 0.5617\n",
      "Agreeability Coefficient (cohen_kappa) between best models: 0.6151561464155633\n",
      "------------------------------------------------------------------------------------------------------------------------------------------------------\n",
      "Results from all models:\n",
      "M1 mean score: 0.5598. Standard deviation: 0.0564\n",
      "M1 mean score: 0.5124. Standard deviation: 0.0498\n",
      "Mean agreeability coefficient (cohen_kappa): 0.5158. Standard deviation: 0.1352\n",
      "======================================================================================================================================================\n",
      "Iteration 18:\n",
      "------------------------------------------------------------------------------------------------------------------------------------------------------\n",
      "Results from best models:\n",
      "Best Model 1 included: ['Gender', 'PhoneService', 'PaperlessBilling', ['TechSupport_No_internet_service', 'TechSupport_Yes']]. F1: 0.5888\n",
      "Best Model 2 included: ['Gender', 'PhoneService', 'PaperlessBilling', ['PaymentMethod_Credit_card_(automatic)', 'PaymentMethod_Electronic_check', 'PaymentMethod_Mailed_check']]. F1: 0.5562\n",
      "Agreeability Coefficient (cohen_kappa) between best models: 0.5565672220069742\n",
      "------------------------------------------------------------------------------------------------------------------------------------------------------\n",
      "Results from all models:\n",
      "M1 mean score: 0.5693. Standard deviation: 0.0196\n",
      "M1 mean score: 0.4884. Standard deviation: 0.0579\n",
      "Mean agreeability coefficient (cohen_kappa): 0.4469. Standard deviation: 0.1721\n",
      "======================================================================================================================================================\n",
      "Iteration 19:\n",
      "------------------------------------------------------------------------------------------------------------------------------------------------------\n",
      "Results from best models:\n",
      "Best Model 1 included: ['Gender', 'PhoneService', 'PaperlessBilling']. F1: 0.5636\n",
      "Best Model 2 included: ['Gender', 'PhoneService', 'PaperlessBilling']. F1: 0.5275\n",
      "Agreeability Coefficient (cohen_kappa) between best models: 0.5436928734647246\n",
      "------------------------------------------------------------------------------------------------------------------------------------------------------\n",
      "Results from all models:\n",
      "M1 mean score: 0.4728. Standard deviation: 0.1450\n",
      "M1 mean score: 0.4973. Standard deviation: 0.0462\n",
      "Mean agreeability coefficient (cohen_kappa): 0.3988. Standard deviation: 0.1865\n",
      "======================================================================================================================================================\n",
      "Iteration 20:\n",
      "------------------------------------------------------------------------------------------------------------------------------------------------------\n",
      "Results from best models:\n",
      "Best Model 1 included: ['Gender', 'PaperlessBilling']. F1: 0.5568\n",
      "Best Model 2 included: ['Gender', 'PaperlessBilling']. F1: 0.4965\n",
      "Agreeability Coefficient (cohen_kappa) between best models: 0.506362077361167\n",
      "------------------------------------------------------------------------------------------------------------------------------------------------------\n",
      "Results from all models:\n",
      "M1 mean score: nan. Standard deviation: nan\n",
      "M1 mean score: 0.4371. Standard deviation: 0.0572\n",
      "Mean agreeability coefficient (cohen_kappa): 0.4377. Standard deviation: 0.3329\n",
      "======================================================================================================================================================\n",
      "Iteration 21:\n",
      "------------------------------------------------------------------------------------------------------------------------------------------------------\n",
      "Results from best models:\n",
      "Best Model 1 included: ['PaperlessBilling']. F1: nan\n",
      "Best Model 2 included: ['PaperlessBilling']. F1: 0.4123\n",
      "Agreeability Coefficient (cohen_kappa) between best models: 0.0\n",
      "------------------------------------------------------------------------------------------------------------------------------------------------------\n",
      "Results from all models:\n",
      "M1 mean score: nan. Standard deviation: nan\n",
      "M1 mean score: 0.3519. Standard deviation: 0.0603\n",
      "Mean agreeability coefficient (cohen_kappa): 0.0000. Standard deviation: 0.0000\n",
      "======================================================================================================================================================\n"
     ]
    }
   ],
   "source": [
    "results_2 = seeker_2.compare_all_models(\n",
    "    m1=m1,\n",
    "    m2=m2\n",
    ")"
   ]
  },
  {
   "cell_type": "code",
   "execution_count": 89,
   "metadata": {},
   "outputs": [
    {
     "data": {
      "text/plain": [
       "[{'Best: M1 Included Features': ['Latitude',\n",
       "   'Longitude',\n",
       "   'Gender',\n",
       "   'SeniorCitizen',\n",
       "   'Partner',\n",
       "   'Dependents',\n",
       "   'TenureMonths',\n",
       "   'PhoneService',\n",
       "   'PaperlessBilling',\n",
       "   'MonthlyCharges',\n",
       "   'TotalCharges',\n",
       "   'CLTV',\n",
       "   'MultipleLines_No_phone_service',\n",
       "   'MultipleLines_Yes',\n",
       "   'InternetService_Fiber_optic',\n",
       "   'InternetService_No',\n",
       "   'OnlineSecurity_No_internet_service',\n",
       "   'OnlineSecurity_Yes',\n",
       "   'OnlineBackup_No_internet_service',\n",
       "   'OnlineBackup_Yes',\n",
       "   'DeviceProtection_No_internet_service',\n",
       "   'DeviceProtection_Yes',\n",
       "   'TechSupport_No_internet_service',\n",
       "   'TechSupport_Yes',\n",
       "   'StreamingTV_No_internet_service',\n",
       "   'StreamingTV_Yes',\n",
       "   'StreamingMovies_No_internet_service',\n",
       "   'StreamingMovies_Yes',\n",
       "   'Contract_One_year',\n",
       "   'Contract_Two_year',\n",
       "   'PaymentMethod_Credit_card_(automatic)',\n",
       "   'PaymentMethod_Electronic_check',\n",
       "   'PaymentMethod_Mailed_check'],\n",
       "  'Best: M1 f1': 0.6218978102189782,\n",
       "  'Best: M2 Included Features': ['Latitude',\n",
       "   'Longitude',\n",
       "   'Gender',\n",
       "   'SeniorCitizen',\n",
       "   'Partner',\n",
       "   'Dependents',\n",
       "   'TenureMonths',\n",
       "   'PhoneService',\n",
       "   'PaperlessBilling',\n",
       "   'MonthlyCharges',\n",
       "   'TotalCharges',\n",
       "   'CLTV',\n",
       "   'MultipleLines_No_phone_service',\n",
       "   'MultipleLines_Yes',\n",
       "   'InternetService_Fiber_optic',\n",
       "   'InternetService_No',\n",
       "   'OnlineSecurity_No_internet_service',\n",
       "   'OnlineSecurity_Yes',\n",
       "   'OnlineBackup_No_internet_service',\n",
       "   'OnlineBackup_Yes',\n",
       "   'DeviceProtection_No_internet_service',\n",
       "   'DeviceProtection_Yes',\n",
       "   'TechSupport_No_internet_service',\n",
       "   'TechSupport_Yes',\n",
       "   'StreamingTV_No_internet_service',\n",
       "   'StreamingTV_Yes',\n",
       "   'StreamingMovies_No_internet_service',\n",
       "   'StreamingMovies_Yes',\n",
       "   'Contract_One_year',\n",
       "   'Contract_Two_year',\n",
       "   'PaymentMethod_Credit_card_(automatic)',\n",
       "   'PaymentMethod_Electronic_check',\n",
       "   'PaymentMethod_Mailed_check'],\n",
       "  'Best: M2 f1': 0.6029850746268657,\n",
       "  'Best: Agreeability (cohen_kappa)': 0.7440352778976393,\n",
       "  'All: M1 Mean f1': 0.6218978102189782,\n",
       "  'All: M1 STD f1': 0,\n",
       "  'All: M2 Mean f1': 0.6029850746268657,\n",
       "  'All: M2 STD f1': 0,\n",
       "  'All: Mean Agreeability (cohen_kappa)': 0.7440352778976393,\n",
       "  'All: Agreeability St. Dev.': 0},\n",
       " {'Best: M1 Included Features': ['Latitude',\n",
       "   'Longitude',\n",
       "   'Gender',\n",
       "   'SeniorCitizen',\n",
       "   'Partner',\n",
       "   'Dependents',\n",
       "   'TenureMonths',\n",
       "   'PhoneService',\n",
       "   'PaperlessBilling',\n",
       "   'MonthlyCharges',\n",
       "   'TotalCharges',\n",
       "   'CLTV',\n",
       "   'MultipleLines_No_phone_service',\n",
       "   'MultipleLines_Yes',\n",
       "   'InternetService_Fiber_optic',\n",
       "   'InternetService_No',\n",
       "   'OnlineSecurity_No_internet_service',\n",
       "   'OnlineSecurity_Yes',\n",
       "   'OnlineBackup_No_internet_service',\n",
       "   'OnlineBackup_Yes',\n",
       "   'TechSupport_No_internet_service',\n",
       "   'TechSupport_Yes',\n",
       "   'StreamingTV_No_internet_service',\n",
       "   'StreamingTV_Yes',\n",
       "   'StreamingMovies_No_internet_service',\n",
       "   'StreamingMovies_Yes',\n",
       "   'Contract_One_year',\n",
       "   'Contract_Two_year',\n",
       "   'PaymentMethod_Credit_card_(automatic)',\n",
       "   'PaymentMethod_Electronic_check',\n",
       "   'PaymentMethod_Mailed_check'],\n",
       "  'Best: M1 f1': 0.6240928882438317,\n",
       "  'Best: M2 Included Features': ['Longitude',\n",
       "   'Gender',\n",
       "   'SeniorCitizen',\n",
       "   'Partner',\n",
       "   'Dependents',\n",
       "   'TenureMonths',\n",
       "   'PhoneService',\n",
       "   'PaperlessBilling',\n",
       "   'MonthlyCharges',\n",
       "   'TotalCharges',\n",
       "   'CLTV',\n",
       "   'MultipleLines_No_phone_service',\n",
       "   'MultipleLines_Yes',\n",
       "   'InternetService_Fiber_optic',\n",
       "   'InternetService_No',\n",
       "   'OnlineSecurity_No_internet_service',\n",
       "   'OnlineSecurity_Yes',\n",
       "   'OnlineBackup_No_internet_service',\n",
       "   'OnlineBackup_Yes',\n",
       "   'DeviceProtection_No_internet_service',\n",
       "   'DeviceProtection_Yes',\n",
       "   'TechSupport_No_internet_service',\n",
       "   'TechSupport_Yes',\n",
       "   'StreamingTV_No_internet_service',\n",
       "   'StreamingTV_Yes',\n",
       "   'StreamingMovies_No_internet_service',\n",
       "   'StreamingMovies_Yes',\n",
       "   'Contract_One_year',\n",
       "   'Contract_Two_year',\n",
       "   'PaymentMethod_Credit_card_(automatic)',\n",
       "   'PaymentMethod_Electronic_check',\n",
       "   'PaymentMethod_Mailed_check'],\n",
       "  'Best: M2 f1': 0.6119402985074626,\n",
       "  'Best: Agreeability (cohen_kappa)': 0.7326627797900368,\n",
       "  'All: M1 Mean f1': 0.6171330182976587,\n",
       "  'All: M1 STD f1': 0.0050753937814639214,\n",
       "  'All: M2 Mean f1': 0.5879166029767654,\n",
       "  'All: M2 STD f1': 0.012868185494440033,\n",
       "  'All: Mean Agreeability (cohen_kappa)': 0.7375296422177225,\n",
       "  'All: Agreeability St. Dev.': 0.0213853429092295},\n",
       " {'Best: M1 Included Features': ['Latitude',\n",
       "   'Longitude',\n",
       "   'Gender',\n",
       "   'SeniorCitizen',\n",
       "   'Partner',\n",
       "   'Dependents',\n",
       "   'TenureMonths',\n",
       "   'PhoneService',\n",
       "   'PaperlessBilling',\n",
       "   'MonthlyCharges',\n",
       "   'TotalCharges',\n",
       "   'CLTV',\n",
       "   'MultipleLines_No_phone_service',\n",
       "   'MultipleLines_Yes',\n",
       "   'OnlineSecurity_No_internet_service',\n",
       "   'OnlineSecurity_Yes',\n",
       "   'OnlineBackup_No_internet_service',\n",
       "   'OnlineBackup_Yes',\n",
       "   'TechSupport_No_internet_service',\n",
       "   'TechSupport_Yes',\n",
       "   'StreamingTV_No_internet_service',\n",
       "   'StreamingTV_Yes',\n",
       "   'StreamingMovies_No_internet_service',\n",
       "   'StreamingMovies_Yes',\n",
       "   'Contract_One_year',\n",
       "   'Contract_Two_year',\n",
       "   'PaymentMethod_Credit_card_(automatic)',\n",
       "   'PaymentMethod_Electronic_check',\n",
       "   'PaymentMethod_Mailed_check'],\n",
       "  'Best: M1 f1': 0.6272189349112425,\n",
       "  'Best: M2 Included Features': ['Longitude',\n",
       "   'Gender',\n",
       "   'SeniorCitizen',\n",
       "   'Partner',\n",
       "   'Dependents',\n",
       "   'TenureMonths',\n",
       "   'PhoneService',\n",
       "   'PaperlessBilling',\n",
       "   'MonthlyCharges',\n",
       "   'TotalCharges',\n",
       "   'CLTV',\n",
       "   'MultipleLines_No_phone_service',\n",
       "   'MultipleLines_Yes',\n",
       "   'InternetService_Fiber_optic',\n",
       "   'InternetService_No',\n",
       "   'OnlineSecurity_No_internet_service',\n",
       "   'OnlineSecurity_Yes',\n",
       "   'OnlineBackup_No_internet_service',\n",
       "   'OnlineBackup_Yes',\n",
       "   'DeviceProtection_No_internet_service',\n",
       "   'DeviceProtection_Yes',\n",
       "   'TechSupport_No_internet_service',\n",
       "   'TechSupport_Yes',\n",
       "   'StreamingTV_No_internet_service',\n",
       "   'StreamingTV_Yes',\n",
       "   'StreamingMovies_No_internet_service',\n",
       "   'StreamingMovies_Yes',\n",
       "   'PaymentMethod_Credit_card_(automatic)',\n",
       "   'PaymentMethod_Electronic_check',\n",
       "   'PaymentMethod_Mailed_check'],\n",
       "  'Best: M2 f1': 0.6068759342301943,\n",
       "  'Best: Agreeability (cohen_kappa)': 0.749408224124362,\n",
       "  'All: M1 Mean f1': 0.6177554585556825,\n",
       "  'All: M1 STD f1': 0.005567050658351126,\n",
       "  'All: M2 Mean f1': 0.5861836116235641,\n",
       "  'All: M2 STD f1': 0.011621026681856163,\n",
       "  'All: Mean Agreeability (cohen_kappa)': 0.7334385991792582,\n",
       "  'All: Agreeability St. Dev.': 0.02116212036794544},\n",
       " {'Best: M1 Included Features': ['Latitude',\n",
       "   'Longitude',\n",
       "   'Gender',\n",
       "   'SeniorCitizen',\n",
       "   'Partner',\n",
       "   'Dependents',\n",
       "   'TenureMonths',\n",
       "   'PhoneService',\n",
       "   'PaperlessBilling',\n",
       "   'MonthlyCharges',\n",
       "   'TotalCharges',\n",
       "   'CLTV',\n",
       "   'MultipleLines_No_phone_service',\n",
       "   'MultipleLines_Yes',\n",
       "   'OnlineSecurity_No_internet_service',\n",
       "   'OnlineSecurity_Yes',\n",
       "   'OnlineBackup_No_internet_service',\n",
       "   'OnlineBackup_Yes',\n",
       "   'TechSupport_No_internet_service',\n",
       "   'TechSupport_Yes',\n",
       "   'StreamingMovies_No_internet_service',\n",
       "   'StreamingMovies_Yes',\n",
       "   'Contract_One_year',\n",
       "   'Contract_Two_year',\n",
       "   'PaymentMethod_Credit_card_(automatic)',\n",
       "   'PaymentMethod_Electronic_check',\n",
       "   'PaymentMethod_Mailed_check'],\n",
       "  'Best: M1 f1': 0.6402349486049926,\n",
       "  'Best: M2 Included Features': ['Longitude',\n",
       "   'Gender',\n",
       "   'SeniorCitizen',\n",
       "   'Partner',\n",
       "   'Dependents',\n",
       "   'TenureMonths',\n",
       "   'PhoneService',\n",
       "   'PaperlessBilling',\n",
       "   'MonthlyCharges',\n",
       "   'TotalCharges',\n",
       "   'CLTV',\n",
       "   'MultipleLines_No_phone_service',\n",
       "   'MultipleLines_Yes',\n",
       "   'InternetService_Fiber_optic',\n",
       "   'InternetService_No',\n",
       "   'OnlineBackup_No_internet_service',\n",
       "   'OnlineBackup_Yes',\n",
       "   'DeviceProtection_No_internet_service',\n",
       "   'DeviceProtection_Yes',\n",
       "   'TechSupport_No_internet_service',\n",
       "   'TechSupport_Yes',\n",
       "   'StreamingTV_No_internet_service',\n",
       "   'StreamingTV_Yes',\n",
       "   'StreamingMovies_No_internet_service',\n",
       "   'StreamingMovies_Yes',\n",
       "   'PaymentMethod_Credit_card_(automatic)',\n",
       "   'PaymentMethod_Electronic_check',\n",
       "   'PaymentMethod_Mailed_check'],\n",
       "  'Best: M2 f1': 0.6059701492537314,\n",
       "  'Best: Agreeability (cohen_kappa)': 0.7215061155726123,\n",
       "  'All: M1 Mean f1': 0.6185752787496459,\n",
       "  'All: M1 STD f1': 0.010398114228077592,\n",
       "  'All: M2 Mean f1': 0.5850478393123187,\n",
       "  'All: M2 STD f1': 0.01320708039701209,\n",
       "  'All: Mean Agreeability (cohen_kappa)': 0.7225304010716649,\n",
       "  'All: Agreeability St. Dev.': 0.018682967336505773},\n",
       " {'Best: M1 Included Features': ['Latitude',\n",
       "   'Longitude',\n",
       "   'Gender',\n",
       "   'SeniorCitizen',\n",
       "   'Dependents',\n",
       "   'TenureMonths',\n",
       "   'PhoneService',\n",
       "   'PaperlessBilling',\n",
       "   'MonthlyCharges',\n",
       "   'TotalCharges',\n",
       "   'CLTV',\n",
       "   'MultipleLines_No_phone_service',\n",
       "   'MultipleLines_Yes',\n",
       "   'OnlineSecurity_No_internet_service',\n",
       "   'OnlineSecurity_Yes',\n",
       "   'OnlineBackup_No_internet_service',\n",
       "   'OnlineBackup_Yes',\n",
       "   'TechSupport_No_internet_service',\n",
       "   'TechSupport_Yes',\n",
       "   'StreamingMovies_No_internet_service',\n",
       "   'StreamingMovies_Yes',\n",
       "   'Contract_One_year',\n",
       "   'Contract_Two_year',\n",
       "   'PaymentMethod_Credit_card_(automatic)',\n",
       "   'PaymentMethod_Electronic_check',\n",
       "   'PaymentMethod_Mailed_check'],\n",
       "  'Best: M1 f1': 0.6383601756954612,\n",
       "  'Best: M2 Included Features': ['Longitude',\n",
       "   'Gender',\n",
       "   'SeniorCitizen',\n",
       "   'Partner',\n",
       "   'Dependents',\n",
       "   'TenureMonths',\n",
       "   'PhoneService',\n",
       "   'PaperlessBilling',\n",
       "   'MonthlyCharges',\n",
       "   'TotalCharges',\n",
       "   'MultipleLines_No_phone_service',\n",
       "   'MultipleLines_Yes',\n",
       "   'InternetService_Fiber_optic',\n",
       "   'InternetService_No',\n",
       "   'OnlineBackup_No_internet_service',\n",
       "   'OnlineBackup_Yes',\n",
       "   'DeviceProtection_No_internet_service',\n",
       "   'DeviceProtection_Yes',\n",
       "   'TechSupport_No_internet_service',\n",
       "   'TechSupport_Yes',\n",
       "   'StreamingTV_No_internet_service',\n",
       "   'StreamingTV_Yes',\n",
       "   'StreamingMovies_No_internet_service',\n",
       "   'StreamingMovies_Yes',\n",
       "   'PaymentMethod_Credit_card_(automatic)',\n",
       "   'PaymentMethod_Electronic_check',\n",
       "   'PaymentMethod_Mailed_check'],\n",
       "  'Best: M2 f1': 0.6094674556213018,\n",
       "  'Best: Agreeability (cohen_kappa)': 0.719967317473928,\n",
       "  'All: M1 Mean f1': 0.6185432980987392,\n",
       "  'All: M1 STD f1': 0.013116807977762681,\n",
       "  'All: M2 Mean f1': 0.5903645440001399,\n",
       "  'All: M2 STD f1': 0.013123039204238221,\n",
       "  'All: Mean Agreeability (cohen_kappa)': 0.7131352191259226,\n",
       "  'All: Agreeability St. Dev.': 0.022672152496435317},\n",
       " {'Best: M1 Included Features': ['Latitude',\n",
       "   'Longitude',\n",
       "   'Gender',\n",
       "   'SeniorCitizen',\n",
       "   'Dependents',\n",
       "   'TenureMonths',\n",
       "   'PhoneService',\n",
       "   'PaperlessBilling',\n",
       "   'TotalCharges',\n",
       "   'CLTV',\n",
       "   'MultipleLines_No_phone_service',\n",
       "   'MultipleLines_Yes',\n",
       "   'OnlineSecurity_No_internet_service',\n",
       "   'OnlineSecurity_Yes',\n",
       "   'OnlineBackup_No_internet_service',\n",
       "   'OnlineBackup_Yes',\n",
       "   'TechSupport_No_internet_service',\n",
       "   'TechSupport_Yes',\n",
       "   'StreamingMovies_No_internet_service',\n",
       "   'StreamingMovies_Yes',\n",
       "   'Contract_One_year',\n",
       "   'Contract_Two_year',\n",
       "   'PaymentMethod_Credit_card_(automatic)',\n",
       "   'PaymentMethod_Electronic_check',\n",
       "   'PaymentMethod_Mailed_check'],\n",
       "  'Best: M1 f1': 0.6364963503649634,\n",
       "  'Best: M2 Included Features': ['Longitude',\n",
       "   'Gender',\n",
       "   'SeniorCitizen',\n",
       "   'Partner',\n",
       "   'Dependents',\n",
       "   'TenureMonths',\n",
       "   'PhoneService',\n",
       "   'PaperlessBilling',\n",
       "   'MonthlyCharges',\n",
       "   'TotalCharges',\n",
       "   'MultipleLines_No_phone_service',\n",
       "   'MultipleLines_Yes',\n",
       "   'InternetService_Fiber_optic',\n",
       "   'InternetService_No',\n",
       "   'OnlineBackup_No_internet_service',\n",
       "   'OnlineBackup_Yes',\n",
       "   'TechSupport_No_internet_service',\n",
       "   'TechSupport_Yes',\n",
       "   'StreamingTV_No_internet_service',\n",
       "   'StreamingTV_Yes',\n",
       "   'StreamingMovies_No_internet_service',\n",
       "   'StreamingMovies_Yes',\n",
       "   'PaymentMethod_Credit_card_(automatic)',\n",
       "   'PaymentMethod_Electronic_check',\n",
       "   'PaymentMethod_Mailed_check'],\n",
       "  'Best: M2 f1': 0.6124260355029586,\n",
       "  'Best: Agreeability (cohen_kappa)': 0.7038403260358431,\n",
       "  'All: M1 Mean f1': 0.6152469842512297,\n",
       "  'All: M1 STD f1': 0.012381600892746487,\n",
       "  'All: M2 Mean f1': 0.5951865887052192,\n",
       "  'All: M2 STD f1': 0.01200577264102835,\n",
       "  'All: Mean Agreeability (cohen_kappa)': 0.6945270561368361,\n",
       "  'All: Agreeability St. Dev.': 0.027930319476909028},\n",
       " {'Best: M1 Included Features': ['Latitude',\n",
       "   'Longitude',\n",
       "   'Gender',\n",
       "   'SeniorCitizen',\n",
       "   'Dependents',\n",
       "   'TenureMonths',\n",
       "   'PhoneService',\n",
       "   'PaperlessBilling',\n",
       "   'TotalCharges',\n",
       "   'CLTV',\n",
       "   'MultipleLines_No_phone_service',\n",
       "   'MultipleLines_Yes',\n",
       "   'OnlineSecurity_No_internet_service',\n",
       "   'OnlineSecurity_Yes',\n",
       "   'OnlineBackup_No_internet_service',\n",
       "   'OnlineBackup_Yes',\n",
       "   'TechSupport_No_internet_service',\n",
       "   'TechSupport_Yes',\n",
       "   'StreamingMovies_No_internet_service',\n",
       "   'StreamingMovies_Yes',\n",
       "   'PaymentMethod_Credit_card_(automatic)',\n",
       "   'PaymentMethod_Electronic_check',\n",
       "   'PaymentMethod_Mailed_check'],\n",
       "  'Best: M1 f1': 0.636094674556213,\n",
       "  'Best: M2 Included Features': ['Longitude',\n",
       "   'Gender',\n",
       "   'SeniorCitizen',\n",
       "   'Partner',\n",
       "   'Dependents',\n",
       "   'TenureMonths',\n",
       "   'PhoneService',\n",
       "   'PaperlessBilling',\n",
       "   'TotalCharges',\n",
       "   'MultipleLines_No_phone_service',\n",
       "   'MultipleLines_Yes',\n",
       "   'InternetService_Fiber_optic',\n",
       "   'InternetService_No',\n",
       "   'OnlineBackup_No_internet_service',\n",
       "   'OnlineBackup_Yes',\n",
       "   'TechSupport_No_internet_service',\n",
       "   'TechSupport_Yes',\n",
       "   'StreamingTV_No_internet_service',\n",
       "   'StreamingTV_Yes',\n",
       "   'StreamingMovies_No_internet_service',\n",
       "   'StreamingMovies_Yes',\n",
       "   'PaymentMethod_Credit_card_(automatic)',\n",
       "   'PaymentMethod_Electronic_check',\n",
       "   'PaymentMethod_Mailed_check'],\n",
       "  'Best: M2 f1': 0.6149253731343283,\n",
       "  'Best: Agreeability (cohen_kappa)': 0.7219071655542548,\n",
       "  'All: M1 Mean f1': 0.6211310534237608,\n",
       "  'All: M1 STD f1': 0.00956056532314113,\n",
       "  'All: M2 Mean f1': 0.5954076173751522,\n",
       "  'All: M2 STD f1': 0.009380019129188675,\n",
       "  'All: Mean Agreeability (cohen_kappa)': 0.6878752144090131,\n",
       "  'All: Agreeability St. Dev.': 0.024020158789875918},\n",
       " {'Best: M1 Included Features': ['Latitude',\n",
       "   'Longitude',\n",
       "   'Gender',\n",
       "   'SeniorCitizen',\n",
       "   'TenureMonths',\n",
       "   'PhoneService',\n",
       "   'PaperlessBilling',\n",
       "   'TotalCharges',\n",
       "   'CLTV',\n",
       "   'MultipleLines_No_phone_service',\n",
       "   'MultipleLines_Yes',\n",
       "   'OnlineSecurity_No_internet_service',\n",
       "   'OnlineSecurity_Yes',\n",
       "   'OnlineBackup_No_internet_service',\n",
       "   'OnlineBackup_Yes',\n",
       "   'TechSupport_No_internet_service',\n",
       "   'TechSupport_Yes',\n",
       "   'StreamingMovies_No_internet_service',\n",
       "   'StreamingMovies_Yes',\n",
       "   'PaymentMethod_Credit_card_(automatic)',\n",
       "   'PaymentMethod_Electronic_check',\n",
       "   'PaymentMethod_Mailed_check'],\n",
       "  'Best: M1 f1': 0.6390532544378699,\n",
       "  'Best: M2 Included Features': ['Longitude',\n",
       "   'Gender',\n",
       "   'SeniorCitizen',\n",
       "   'Partner',\n",
       "   'Dependents',\n",
       "   'TenureMonths',\n",
       "   'PhoneService',\n",
       "   'PaperlessBilling',\n",
       "   'MultipleLines_No_phone_service',\n",
       "   'MultipleLines_Yes',\n",
       "   'InternetService_Fiber_optic',\n",
       "   'InternetService_No',\n",
       "   'OnlineBackup_No_internet_service',\n",
       "   'OnlineBackup_Yes',\n",
       "   'TechSupport_No_internet_service',\n",
       "   'TechSupport_Yes',\n",
       "   'StreamingTV_No_internet_service',\n",
       "   'StreamingTV_Yes',\n",
       "   'StreamingMovies_No_internet_service',\n",
       "   'StreamingMovies_Yes',\n",
       "   'PaymentMethod_Credit_card_(automatic)',\n",
       "   'PaymentMethod_Electronic_check',\n",
       "   'PaymentMethod_Mailed_check'],\n",
       "  'Best: M2 f1': 0.6184012066365007,\n",
       "  'Best: Agreeability (cohen_kappa)': 0.6914412169301619,\n",
       "  'All: M1 Mean f1': 0.6170394656809579,\n",
       "  'All: M1 STD f1': 0.014352604298788117,\n",
       "  'All: M2 Mean f1': 0.5960584765791324,\n",
       "  'All: M2 STD f1': 0.010679221934992806,\n",
       "  'All: Mean Agreeability (cohen_kappa)': 0.6886521985922852,\n",
       "  'All: Agreeability St. Dev.': 0.018191348681333205},\n",
       " {'Best: M1 Included Features': ['Latitude',\n",
       "   'Longitude',\n",
       "   'Gender',\n",
       "   'SeniorCitizen',\n",
       "   'TenureMonths',\n",
       "   'PhoneService',\n",
       "   'PaperlessBilling',\n",
       "   'TotalCharges',\n",
       "   'MultipleLines_No_phone_service',\n",
       "   'MultipleLines_Yes',\n",
       "   'OnlineSecurity_No_internet_service',\n",
       "   'OnlineSecurity_Yes',\n",
       "   'OnlineBackup_No_internet_service',\n",
       "   'OnlineBackup_Yes',\n",
       "   'TechSupport_No_internet_service',\n",
       "   'TechSupport_Yes',\n",
       "   'StreamingMovies_No_internet_service',\n",
       "   'StreamingMovies_Yes',\n",
       "   'PaymentMethod_Credit_card_(automatic)',\n",
       "   'PaymentMethod_Electronic_check',\n",
       "   'PaymentMethod_Mailed_check'],\n",
       "  'Best: M1 f1': 0.6323529411764706,\n",
       "  'Best: M2 Included Features': ['Longitude',\n",
       "   'Gender',\n",
       "   'SeniorCitizen',\n",
       "   'Partner',\n",
       "   'Dependents',\n",
       "   'PhoneService',\n",
       "   'PaperlessBilling',\n",
       "   'MultipleLines_No_phone_service',\n",
       "   'MultipleLines_Yes',\n",
       "   'InternetService_Fiber_optic',\n",
       "   'InternetService_No',\n",
       "   'OnlineBackup_No_internet_service',\n",
       "   'OnlineBackup_Yes',\n",
       "   'TechSupport_No_internet_service',\n",
       "   'TechSupport_Yes',\n",
       "   'StreamingTV_No_internet_service',\n",
       "   'StreamingTV_Yes',\n",
       "   'StreamingMovies_No_internet_service',\n",
       "   'StreamingMovies_Yes',\n",
       "   'PaymentMethod_Credit_card_(automatic)',\n",
       "   'PaymentMethod_Electronic_check',\n",
       "   'PaymentMethod_Mailed_check'],\n",
       "  'Best: M2 f1': 0.6110283159463488,\n",
       "  'Best: Agreeability (cohen_kappa)': 0.7214976995081706,\n",
       "  'All: M1 Mean f1': 0.6113221038273521,\n",
       "  'All: M1 STD f1': 0.0142205240304649,\n",
       "  'All: M2 Mean f1': 0.5886407513955904,\n",
       "  'All: M2 STD f1': 0.011432241858600272,\n",
       "  'All: Mean Agreeability (cohen_kappa)': 0.66918593309423,\n",
       "  'All: Agreeability St. Dev.': 0.027218616328283433},\n",
       " {'Best: M1 Included Features': ['Latitude',\n",
       "   'Longitude',\n",
       "   'Gender',\n",
       "   'SeniorCitizen',\n",
       "   'TenureMonths',\n",
       "   'PhoneService',\n",
       "   'PaperlessBilling',\n",
       "   'TotalCharges',\n",
       "   'MultipleLines_No_phone_service',\n",
       "   'MultipleLines_Yes',\n",
       "   'OnlineSecurity_No_internet_service',\n",
       "   'OnlineSecurity_Yes',\n",
       "   'OnlineBackup_No_internet_service',\n",
       "   'OnlineBackup_Yes',\n",
       "   'TechSupport_No_internet_service',\n",
       "   'TechSupport_Yes',\n",
       "   'PaymentMethod_Credit_card_(automatic)',\n",
       "   'PaymentMethod_Electronic_check',\n",
       "   'PaymentMethod_Mailed_check'],\n",
       "  'Best: M1 f1': 0.6334310850439883,\n",
       "  'Best: M2 Included Features': ['Longitude',\n",
       "   'Gender',\n",
       "   'SeniorCitizen',\n",
       "   'Partner',\n",
       "   'Dependents',\n",
       "   'PhoneService',\n",
       "   'PaperlessBilling',\n",
       "   'MultipleLines_No_phone_service',\n",
       "   'MultipleLines_Yes',\n",
       "   'InternetService_Fiber_optic',\n",
       "   'InternetService_No',\n",
       "   'OnlineBackup_No_internet_service',\n",
       "   'OnlineBackup_Yes',\n",
       "   'TechSupport_No_internet_service',\n",
       "   'TechSupport_Yes',\n",
       "   'StreamingTV_No_internet_service',\n",
       "   'StreamingTV_Yes',\n",
       "   'PaymentMethod_Credit_card_(automatic)',\n",
       "   'PaymentMethod_Electronic_check',\n",
       "   'PaymentMethod_Mailed_check'],\n",
       "  'Best: M2 f1': 0.6098654708520179,\n",
       "  'Best: Agreeability (cohen_kappa)': 0.6917545882128973,\n",
       "  'All: M1 Mean f1': 0.6171926988609252,\n",
       "  'All: M1 STD f1': 0.012500699119713316,\n",
       "  'All: M2 Mean f1': 0.5901085210085827,\n",
       "  'All: M2 STD f1': 0.010842868235428325,\n",
       "  'All: Mean Agreeability (cohen_kappa)': 0.680366320314851,\n",
       "  'All: Agreeability St. Dev.': 0.019522069311772788},\n",
       " {'Best: M1 Included Features': ['Latitude',\n",
       "   'Longitude',\n",
       "   'Gender',\n",
       "   'SeniorCitizen',\n",
       "   'TenureMonths',\n",
       "   'PhoneService',\n",
       "   'PaperlessBilling',\n",
       "   'TotalCharges',\n",
       "   'MultipleLines_No_phone_service',\n",
       "   'MultipleLines_Yes',\n",
       "   'OnlineSecurity_No_internet_service',\n",
       "   'OnlineSecurity_Yes',\n",
       "   'OnlineBackup_No_internet_service',\n",
       "   'OnlineBackup_Yes',\n",
       "   'TechSupport_No_internet_service',\n",
       "   'TechSupport_Yes'],\n",
       "  'Best: M1 f1': 0.6329866270430907,\n",
       "  'Best: M2 Included Features': ['Longitude',\n",
       "   'Gender',\n",
       "   'SeniorCitizen',\n",
       "   'Dependents',\n",
       "   'PhoneService',\n",
       "   'PaperlessBilling',\n",
       "   'MultipleLines_No_phone_service',\n",
       "   'MultipleLines_Yes',\n",
       "   'InternetService_Fiber_optic',\n",
       "   'InternetService_No',\n",
       "   'OnlineBackup_No_internet_service',\n",
       "   'OnlineBackup_Yes',\n",
       "   'TechSupport_No_internet_service',\n",
       "   'TechSupport_Yes',\n",
       "   'StreamingTV_No_internet_service',\n",
       "   'StreamingTV_Yes',\n",
       "   'PaymentMethod_Credit_card_(automatic)',\n",
       "   'PaymentMethod_Electronic_check',\n",
       "   'PaymentMethod_Mailed_check'],\n",
       "  'Best: M2 f1': 0.604992657856094,\n",
       "  'Best: Agreeability (cohen_kappa)': 0.6780281588360694,\n",
       "  'All: M1 Mean f1': 0.6185937671473192,\n",
       "  'All: M1 STD f1': 0.012024569097594452,\n",
       "  'All: M2 Mean f1': 0.5836431208037338,\n",
       "  'All: M2 STD f1': 0.01168783141021223,\n",
       "  'All: Mean Agreeability (cohen_kappa)': 0.6648826049760714,\n",
       "  'All: Agreeability St. Dev.': 0.023101417110247963},\n",
       " {'Best: M1 Included Features': ['Latitude',\n",
       "   'Gender',\n",
       "   'SeniorCitizen',\n",
       "   'TenureMonths',\n",
       "   'PhoneService',\n",
       "   'PaperlessBilling',\n",
       "   'TotalCharges',\n",
       "   'MultipleLines_No_phone_service',\n",
       "   'MultipleLines_Yes',\n",
       "   'OnlineSecurity_No_internet_service',\n",
       "   'OnlineSecurity_Yes',\n",
       "   'OnlineBackup_No_internet_service',\n",
       "   'OnlineBackup_Yes',\n",
       "   'TechSupport_No_internet_service',\n",
       "   'TechSupport_Yes'],\n",
       "  'Best: M1 f1': 0.6329866270430907,\n",
       "  'Best: M2 Included Features': ['Longitude',\n",
       "   'Gender',\n",
       "   'SeniorCitizen',\n",
       "   'Dependents',\n",
       "   'PhoneService',\n",
       "   'PaperlessBilling',\n",
       "   'MultipleLines_No_phone_service',\n",
       "   'MultipleLines_Yes',\n",
       "   'InternetService_Fiber_optic',\n",
       "   'InternetService_No',\n",
       "   'OnlineBackup_No_internet_service',\n",
       "   'OnlineBackup_Yes',\n",
       "   'StreamingTV_No_internet_service',\n",
       "   'StreamingTV_Yes',\n",
       "   'PaymentMethod_Credit_card_(automatic)',\n",
       "   'PaymentMethod_Electronic_check',\n",
       "   'PaymentMethod_Mailed_check'],\n",
       "  'Best: M2 f1': 0.5955555555555555,\n",
       "  'Best: Agreeability (cohen_kappa)': 0.6713723682095182,\n",
       "  'All: M1 Mean f1': 0.6174716110502464,\n",
       "  'All: M1 STD f1': 0.012235278450874689,\n",
       "  'All: M2 Mean f1': 0.5826184434913095,\n",
       "  'All: M2 STD f1': 0.01094318309783837,\n",
       "  'All: Mean Agreeability (cohen_kappa)': 0.6440807119417519,\n",
       "  'All: Agreeability St. Dev.': 0.03288008657689982},\n",
       " {'Best: M1 Included Features': ['Gender',\n",
       "   'SeniorCitizen',\n",
       "   'TenureMonths',\n",
       "   'PhoneService',\n",
       "   'PaperlessBilling',\n",
       "   'TotalCharges',\n",
       "   'MultipleLines_No_phone_service',\n",
       "   'MultipleLines_Yes',\n",
       "   'OnlineSecurity_No_internet_service',\n",
       "   'OnlineSecurity_Yes',\n",
       "   'OnlineBackup_No_internet_service',\n",
       "   'OnlineBackup_Yes',\n",
       "   'TechSupport_No_internet_service',\n",
       "   'TechSupport_Yes'],\n",
       "  'Best: M1 f1': 0.6301775147928994,\n",
       "  'Best: M2 Included Features': ['Longitude',\n",
       "   'Gender',\n",
       "   'SeniorCitizen',\n",
       "   'Dependents',\n",
       "   'PhoneService',\n",
       "   'PaperlessBilling',\n",
       "   'MultipleLines_No_phone_service',\n",
       "   'MultipleLines_Yes',\n",
       "   'InternetService_Fiber_optic',\n",
       "   'InternetService_No',\n",
       "   'OnlineBackup_No_internet_service',\n",
       "   'OnlineBackup_Yes',\n",
       "   'PaymentMethod_Credit_card_(automatic)',\n",
       "   'PaymentMethod_Electronic_check',\n",
       "   'PaymentMethod_Mailed_check'],\n",
       "  'Best: M2 f1': 0.5817091454272864,\n",
       "  'Best: Agreeability (cohen_kappa)': 0.6328461795535807,\n",
       "  'All: M1 Mean f1': 0.6154035415556517,\n",
       "  'All: M1 STD f1': 0.01262990700355247,\n",
       "  'All: M2 Mean f1': 0.5702812183423615,\n",
       "  'All: M2 STD f1': 0.009717715928616288,\n",
       "  'All: Mean Agreeability (cohen_kappa)': 0.617389013829406,\n",
       "  'All: Agreeability St. Dev.': 0.03879344403361714},\n",
       " {'Best: M1 Included Features': ['Gender',\n",
       "   'SeniorCitizen',\n",
       "   'TenureMonths',\n",
       "   'PhoneService',\n",
       "   'PaperlessBilling',\n",
       "   'TotalCharges',\n",
       "   'MultipleLines_No_phone_service',\n",
       "   'MultipleLines_Yes',\n",
       "   'OnlineSecurity_No_internet_service',\n",
       "   'OnlineSecurity_Yes',\n",
       "   'TechSupport_No_internet_service',\n",
       "   'TechSupport_Yes'],\n",
       "  'Best: M1 f1': 0.6298507462686568,\n",
       "  'Best: M2 Included Features': ['Longitude',\n",
       "   'Gender',\n",
       "   'SeniorCitizen',\n",
       "   'Dependents',\n",
       "   'PhoneService',\n",
       "   'PaperlessBilling',\n",
       "   'MultipleLines_No_phone_service',\n",
       "   'MultipleLines_Yes',\n",
       "   'InternetService_Fiber_optic',\n",
       "   'InternetService_No',\n",
       "   'PaymentMethod_Credit_card_(automatic)',\n",
       "   'PaymentMethod_Electronic_check',\n",
       "   'PaymentMethod_Mailed_check'],\n",
       "  'Best: M2 f1': 0.5757121439280359,\n",
       "  'Best: Agreeability (cohen_kappa)': 0.6603335788455595,\n",
       "  'All: M1 Mean f1': 0.6149172047574225,\n",
       "  'All: M1 STD f1': 0.011692398498465624,\n",
       "  'All: M2 Mean f1': 0.5694963677796462,\n",
       "  'All: M2 STD f1': 0.005527437720266918,\n",
       "  'All: Mean Agreeability (cohen_kappa)': 0.6097206038999865,\n",
       "  'All: Agreeability St. Dev.': 0.03654898991805687},\n",
       " {'Best: M1 Included Features': ['Gender',\n",
       "   'TenureMonths',\n",
       "   'PhoneService',\n",
       "   'PaperlessBilling',\n",
       "   'TotalCharges',\n",
       "   'MultipleLines_No_phone_service',\n",
       "   'MultipleLines_Yes',\n",
       "   'OnlineSecurity_No_internet_service',\n",
       "   'OnlineSecurity_Yes',\n",
       "   'TechSupport_No_internet_service',\n",
       "   'TechSupport_Yes'],\n",
       "  'Best: M1 f1': 0.6328358208955223,\n",
       "  'Best: M2 Included Features': ['Longitude',\n",
       "   'Gender',\n",
       "   'SeniorCitizen',\n",
       "   'Dependents',\n",
       "   'PhoneService',\n",
       "   'PaperlessBilling',\n",
       "   'MultipleLines_No_phone_service',\n",
       "   'MultipleLines_Yes',\n",
       "   'PaymentMethod_Credit_card_(automatic)',\n",
       "   'PaymentMethod_Electronic_check',\n",
       "   'PaymentMethod_Mailed_check'],\n",
       "  'Best: M2 f1': 0.5762195121951219,\n",
       "  'Best: Agreeability (cohen_kappa)': 0.6050895822613088,\n",
       "  'All: M1 Mean f1': 0.612334120343982,\n",
       "  'All: M1 STD f1': 0.010811049457883064,\n",
       "  'All: M2 Mean f1': 0.5627645518444209,\n",
       "  'All: M2 STD f1': 0.008870953317333057,\n",
       "  'All: Mean Agreeability (cohen_kappa)': 0.6039882658770145,\n",
       "  'All: Agreeability St. Dev.': 0.028599803083051722},\n",
       " {'Best: M1 Included Features': ['Gender',\n",
       "   'PhoneService',\n",
       "   'PaperlessBilling',\n",
       "   'TotalCharges',\n",
       "   'MultipleLines_No_phone_service',\n",
       "   'MultipleLines_Yes',\n",
       "   'OnlineSecurity_No_internet_service',\n",
       "   'OnlineSecurity_Yes',\n",
       "   'TechSupport_No_internet_service',\n",
       "   'TechSupport_Yes'],\n",
       "  'Best: M1 f1': 0.6220238095238096,\n",
       "  'Best: M2 Included Features': ['Longitude',\n",
       "   'Gender',\n",
       "   'Dependents',\n",
       "   'PhoneService',\n",
       "   'PaperlessBilling',\n",
       "   'MultipleLines_No_phone_service',\n",
       "   'MultipleLines_Yes',\n",
       "   'PaymentMethod_Credit_card_(automatic)',\n",
       "   'PaymentMethod_Electronic_check',\n",
       "   'PaymentMethod_Mailed_check'],\n",
       "  'Best: M2 f1': 0.5757121439280359,\n",
       "  'Best: Agreeability (cohen_kappa)': 0.6266673824185767,\n",
       "  'All: M1 Mean f1': 0.5999044428575816,\n",
       "  'All: M1 STD f1': 0.026066689118382422,\n",
       "  'All: M2 Mean f1': 0.5612270915801348,\n",
       "  'All: M2 STD f1': 0.01164617024108493,\n",
       "  'All: Mean Agreeability (cohen_kappa)': 0.5741049263812665,\n",
       "  'All: Agreeability St. Dev.': 0.09673180374723439},\n",
       " {'Best: M1 Included Features': ['Gender',\n",
       "   'PhoneService',\n",
       "   'PaperlessBilling',\n",
       "   'TotalCharges',\n",
       "   'MultipleLines_No_phone_service',\n",
       "   'MultipleLines_Yes',\n",
       "   'TechSupport_No_internet_service',\n",
       "   'TechSupport_Yes'],\n",
       "  'Best: M1 f1': 0.6083086053412463,\n",
       "  'Best: M2 Included Features': ['Longitude',\n",
       "   'Gender',\n",
       "   'PhoneService',\n",
       "   'PaperlessBilling',\n",
       "   'MultipleLines_No_phone_service',\n",
       "   'MultipleLines_Yes',\n",
       "   'PaymentMethod_Credit_card_(automatic)',\n",
       "   'PaymentMethod_Electronic_check',\n",
       "   'PaymentMethod_Mailed_check'],\n",
       "  'Best: M2 f1': 0.5799701046337817,\n",
       "  'Best: Agreeability (cohen_kappa)': 0.6714799130136203,\n",
       "  'All: M1 Mean f1': 0.5922417243580105,\n",
       "  'All: M1 STD f1': 0.020871747923735365,\n",
       "  'All: M2 Mean f1': 0.5347911869927897,\n",
       "  'All: M2 STD f1': 0.052326373313692276,\n",
       "  'All: Mean Agreeability (cohen_kappa)': 0.5330985308776214,\n",
       "  'All: Agreeability St. Dev.': 0.12230911055232636},\n",
       " {'Best: M1 Included Features': ['Gender',\n",
       "   'PhoneService',\n",
       "   'PaperlessBilling',\n",
       "   'TotalCharges',\n",
       "   'TechSupport_No_internet_service',\n",
       "   'TechSupport_Yes'],\n",
       "  'Best: M1 f1': 0.5939393939393939,\n",
       "  'Best: M2 Included Features': ['Longitude',\n",
       "   'Gender',\n",
       "   'PhoneService',\n",
       "   'PaperlessBilling',\n",
       "   'PaymentMethod_Credit_card_(automatic)',\n",
       "   'PaymentMethod_Electronic_check',\n",
       "   'PaymentMethod_Mailed_check'],\n",
       "  'Best: M2 f1': 0.5616641901931649,\n",
       "  'Best: Agreeability (cohen_kappa)': 0.6151561464155633,\n",
       "  'All: M1 Mean f1': 0.559796712167946,\n",
       "  'All: M1 STD f1': 0.05640706134668493,\n",
       "  'All: M2 Mean f1': 0.5124448777013239,\n",
       "  'All: M2 STD f1': 0.04975827586565829,\n",
       "  'All: Mean Agreeability (cohen_kappa)': 0.5157859942779843,\n",
       "  'All: Agreeability St. Dev.': 0.13518346093189568},\n",
       " {'Best: M1 Included Features': ['Gender',\n",
       "   'PhoneService',\n",
       "   'PaperlessBilling',\n",
       "   'TechSupport_No_internet_service',\n",
       "   'TechSupport_Yes'],\n",
       "  'Best: M1 f1': 0.5887573964497042,\n",
       "  'Best: M2 Included Features': ['Gender',\n",
       "   'PhoneService',\n",
       "   'PaperlessBilling',\n",
       "   'PaymentMethod_Credit_card_(automatic)',\n",
       "   'PaymentMethod_Electronic_check',\n",
       "   'PaymentMethod_Mailed_check'],\n",
       "  'Best: M2 f1': 0.5561797752808988,\n",
       "  'Best: Agreeability (cohen_kappa)': 0.5565672220069742,\n",
       "  'All: M1 Mean f1': 0.5692530080948602,\n",
       "  'All: M1 STD f1': 0.01963068258601518,\n",
       "  'All: M2 Mean f1': 0.4884067598106438,\n",
       "  'All: M2 STD f1': 0.05791535788886514,\n",
       "  'All: Mean Agreeability (cohen_kappa)': 0.44692560479718024,\n",
       "  'All: Agreeability St. Dev.': 0.1721032059055719},\n",
       " {'Best: M1 Included Features': ['Gender', 'PhoneService', 'PaperlessBilling'],\n",
       "  'Best: M1 f1': 0.5635528330781011,\n",
       "  'Best: M2 Included Features': ['Gender', 'PhoneService', 'PaperlessBilling'],\n",
       "  'Best: M2 f1': 0.5275035260930889,\n",
       "  'Best: Agreeability (cohen_kappa)': 0.5436928734647246,\n",
       "  'All: M1 Mean f1': 0.4728169393982537,\n",
       "  'All: M1 STD f1': 0.14503205115651988,\n",
       "  'All: M2 Mean f1': 0.49732460350042756,\n",
       "  'All: M2 STD f1': 0.046157570082778314,\n",
       "  'All: Mean Agreeability (cohen_kappa)': 0.39881708802450055,\n",
       "  'All: Agreeability St. Dev.': 0.18645601690894492},\n",
       " {'Best: M1 Included Features': ['Gender', 'PaperlessBilling'],\n",
       "  'Best: M1 f1': 0.5567651632970452,\n",
       "  'Best: M2 Included Features': ['Gender', 'PaperlessBilling'],\n",
       "  'Best: M2 f1': 0.4964539007092199,\n",
       "  'Best: Agreeability (cohen_kappa)': 0.506362077361167,\n",
       "  'All: M1 Mean f1': nan,\n",
       "  'All: M1 STD f1': nan,\n",
       "  'All: M2 Mean f1': 0.4370618016455614,\n",
       "  'All: M2 STD f1': 0.05715634830829499,\n",
       "  'All: Mean Agreeability (cohen_kappa)': 0.4377241525663133,\n",
       "  'All: Agreeability St. Dev.': 0.3329355503149755},\n",
       " {'Best: M1 Included Features': ['PaperlessBilling'],\n",
       "  'Best: M1 f1': nan,\n",
       "  'Best: M2 Included Features': ['PaperlessBilling'],\n",
       "  'Best: M2 f1': 0.41229656419529837,\n",
       "  'Best: Agreeability (cohen_kappa)': 0.0,\n",
       "  'All: M1 Mean f1': nan,\n",
       "  'All: M1 STD f1': nan,\n",
       "  'All: M2 Mean f1': 0.35194859905486,\n",
       "  'All: M2 STD f1': 0.06034796514043839,\n",
       "  'All: Mean Agreeability (cohen_kappa)': 0.0,\n",
       "  'All: Agreeability St. Dev.': 0.0}]"
      ]
     },
     "execution_count": 89,
     "metadata": {},
     "output_type": "execute_result"
    }
   ],
   "source": [
    "results_2"
   ]
  },
  {
   "cell_type": "code",
   "execution_count": 90,
   "metadata": {},
   "outputs": [],
   "source": [
    "results_df_2 = seeker_2.dataframe_from_results()"
   ]
  },
  {
   "cell_type": "code",
   "execution_count": 91,
   "metadata": {},
   "outputs": [
    {
     "data": {
      "text/html": [
       "<div>\n",
       "<style scoped>\n",
       "    .dataframe tbody tr th:only-of-type {\n",
       "        vertical-align: middle;\n",
       "    }\n",
       "\n",
       "    .dataframe tbody tr th {\n",
       "        vertical-align: top;\n",
       "    }\n",
       "\n",
       "    .dataframe thead th {\n",
       "        text-align: right;\n",
       "    }\n",
       "</style>\n",
       "<table border=\"1\" class=\"dataframe\">\n",
       "  <thead>\n",
       "    <tr style=\"text-align: right;\">\n",
       "      <th></th>\n",
       "      <th>Best: M1 Included Features</th>\n",
       "      <th>Best: M1 f1</th>\n",
       "      <th>Best: M2 Included Features</th>\n",
       "      <th>Best: M2 f1</th>\n",
       "      <th>Best: Agreeability (cohen_kappa)</th>\n",
       "      <th>All: M1 Mean f1</th>\n",
       "      <th>All: M1 STD f1</th>\n",
       "      <th>All: M2 Mean f1</th>\n",
       "      <th>All: M2 STD f1</th>\n",
       "      <th>All: Mean Agreeability (cohen_kappa)</th>\n",
       "      <th>All: Agreeability St. Dev.</th>\n",
       "    </tr>\n",
       "  </thead>\n",
       "  <tbody>\n",
       "    <tr>\n",
       "      <th>0</th>\n",
       "      <td>[Latitude, Longitude, Gender, SeniorCitizen, P...</td>\n",
       "      <td>0.621898</td>\n",
       "      <td>[Latitude, Longitude, Gender, SeniorCitizen, P...</td>\n",
       "      <td>0.602985</td>\n",
       "      <td>0.744035</td>\n",
       "      <td>0.621898</td>\n",
       "      <td>0.000000</td>\n",
       "      <td>0.602985</td>\n",
       "      <td>0.000000</td>\n",
       "      <td>0.744035</td>\n",
       "      <td>0.000000</td>\n",
       "    </tr>\n",
       "    <tr>\n",
       "      <th>1</th>\n",
       "      <td>[Latitude, Longitude, Gender, SeniorCitizen, P...</td>\n",
       "      <td>0.624093</td>\n",
       "      <td>[Longitude, Gender, SeniorCitizen, Partner, De...</td>\n",
       "      <td>0.611940</td>\n",
       "      <td>0.732663</td>\n",
       "      <td>0.617133</td>\n",
       "      <td>0.005075</td>\n",
       "      <td>0.587917</td>\n",
       "      <td>0.012868</td>\n",
       "      <td>0.737530</td>\n",
       "      <td>0.021385</td>\n",
       "    </tr>\n",
       "    <tr>\n",
       "      <th>2</th>\n",
       "      <td>[Latitude, Longitude, Gender, SeniorCitizen, P...</td>\n",
       "      <td>0.627219</td>\n",
       "      <td>[Longitude, Gender, SeniorCitizen, Partner, De...</td>\n",
       "      <td>0.606876</td>\n",
       "      <td>0.749408</td>\n",
       "      <td>0.617755</td>\n",
       "      <td>0.005567</td>\n",
       "      <td>0.586184</td>\n",
       "      <td>0.011621</td>\n",
       "      <td>0.733439</td>\n",
       "      <td>0.021162</td>\n",
       "    </tr>\n",
       "    <tr>\n",
       "      <th>3</th>\n",
       "      <td>[Latitude, Longitude, Gender, SeniorCitizen, P...</td>\n",
       "      <td>0.640235</td>\n",
       "      <td>[Longitude, Gender, SeniorCitizen, Partner, De...</td>\n",
       "      <td>0.605970</td>\n",
       "      <td>0.721506</td>\n",
       "      <td>0.618575</td>\n",
       "      <td>0.010398</td>\n",
       "      <td>0.585048</td>\n",
       "      <td>0.013207</td>\n",
       "      <td>0.722530</td>\n",
       "      <td>0.018683</td>\n",
       "    </tr>\n",
       "    <tr>\n",
       "      <th>4</th>\n",
       "      <td>[Latitude, Longitude, Gender, SeniorCitizen, D...</td>\n",
       "      <td>0.638360</td>\n",
       "      <td>[Longitude, Gender, SeniorCitizen, Partner, De...</td>\n",
       "      <td>0.609467</td>\n",
       "      <td>0.719967</td>\n",
       "      <td>0.618543</td>\n",
       "      <td>0.013117</td>\n",
       "      <td>0.590365</td>\n",
       "      <td>0.013123</td>\n",
       "      <td>0.713135</td>\n",
       "      <td>0.022672</td>\n",
       "    </tr>\n",
       "    <tr>\n",
       "      <th>5</th>\n",
       "      <td>[Latitude, Longitude, Gender, SeniorCitizen, D...</td>\n",
       "      <td>0.636496</td>\n",
       "      <td>[Longitude, Gender, SeniorCitizen, Partner, De...</td>\n",
       "      <td>0.612426</td>\n",
       "      <td>0.703840</td>\n",
       "      <td>0.615247</td>\n",
       "      <td>0.012382</td>\n",
       "      <td>0.595187</td>\n",
       "      <td>0.012006</td>\n",
       "      <td>0.694527</td>\n",
       "      <td>0.027930</td>\n",
       "    </tr>\n",
       "    <tr>\n",
       "      <th>6</th>\n",
       "      <td>[Latitude, Longitude, Gender, SeniorCitizen, D...</td>\n",
       "      <td>0.636095</td>\n",
       "      <td>[Longitude, Gender, SeniorCitizen, Partner, De...</td>\n",
       "      <td>0.614925</td>\n",
       "      <td>0.721907</td>\n",
       "      <td>0.621131</td>\n",
       "      <td>0.009561</td>\n",
       "      <td>0.595408</td>\n",
       "      <td>0.009380</td>\n",
       "      <td>0.687875</td>\n",
       "      <td>0.024020</td>\n",
       "    </tr>\n",
       "    <tr>\n",
       "      <th>7</th>\n",
       "      <td>[Latitude, Longitude, Gender, SeniorCitizen, T...</td>\n",
       "      <td>0.639053</td>\n",
       "      <td>[Longitude, Gender, SeniorCitizen, Partner, De...</td>\n",
       "      <td>0.618401</td>\n",
       "      <td>0.691441</td>\n",
       "      <td>0.617039</td>\n",
       "      <td>0.014353</td>\n",
       "      <td>0.596058</td>\n",
       "      <td>0.010679</td>\n",
       "      <td>0.688652</td>\n",
       "      <td>0.018191</td>\n",
       "    </tr>\n",
       "    <tr>\n",
       "      <th>8</th>\n",
       "      <td>[Latitude, Longitude, Gender, SeniorCitizen, T...</td>\n",
       "      <td>0.632353</td>\n",
       "      <td>[Longitude, Gender, SeniorCitizen, Partner, De...</td>\n",
       "      <td>0.611028</td>\n",
       "      <td>0.721498</td>\n",
       "      <td>0.611322</td>\n",
       "      <td>0.014221</td>\n",
       "      <td>0.588641</td>\n",
       "      <td>0.011432</td>\n",
       "      <td>0.669186</td>\n",
       "      <td>0.027219</td>\n",
       "    </tr>\n",
       "    <tr>\n",
       "      <th>9</th>\n",
       "      <td>[Latitude, Longitude, Gender, SeniorCitizen, T...</td>\n",
       "      <td>0.633431</td>\n",
       "      <td>[Longitude, Gender, SeniorCitizen, Partner, De...</td>\n",
       "      <td>0.609865</td>\n",
       "      <td>0.691755</td>\n",
       "      <td>0.617193</td>\n",
       "      <td>0.012501</td>\n",
       "      <td>0.590109</td>\n",
       "      <td>0.010843</td>\n",
       "      <td>0.680366</td>\n",
       "      <td>0.019522</td>\n",
       "    </tr>\n",
       "    <tr>\n",
       "      <th>10</th>\n",
       "      <td>[Latitude, Longitude, Gender, SeniorCitizen, T...</td>\n",
       "      <td>0.632987</td>\n",
       "      <td>[Longitude, Gender, SeniorCitizen, Dependents,...</td>\n",
       "      <td>0.604993</td>\n",
       "      <td>0.678028</td>\n",
       "      <td>0.618594</td>\n",
       "      <td>0.012025</td>\n",
       "      <td>0.583643</td>\n",
       "      <td>0.011688</td>\n",
       "      <td>0.664883</td>\n",
       "      <td>0.023101</td>\n",
       "    </tr>\n",
       "    <tr>\n",
       "      <th>11</th>\n",
       "      <td>[Latitude, Gender, SeniorCitizen, TenureMonths...</td>\n",
       "      <td>0.632987</td>\n",
       "      <td>[Longitude, Gender, SeniorCitizen, Dependents,...</td>\n",
       "      <td>0.595556</td>\n",
       "      <td>0.671372</td>\n",
       "      <td>0.617472</td>\n",
       "      <td>0.012235</td>\n",
       "      <td>0.582618</td>\n",
       "      <td>0.010943</td>\n",
       "      <td>0.644081</td>\n",
       "      <td>0.032880</td>\n",
       "    </tr>\n",
       "    <tr>\n",
       "      <th>12</th>\n",
       "      <td>[Gender, SeniorCitizen, TenureMonths, PhoneSer...</td>\n",
       "      <td>0.630178</td>\n",
       "      <td>[Longitude, Gender, SeniorCitizen, Dependents,...</td>\n",
       "      <td>0.581709</td>\n",
       "      <td>0.632846</td>\n",
       "      <td>0.615404</td>\n",
       "      <td>0.012630</td>\n",
       "      <td>0.570281</td>\n",
       "      <td>0.009718</td>\n",
       "      <td>0.617389</td>\n",
       "      <td>0.038793</td>\n",
       "    </tr>\n",
       "    <tr>\n",
       "      <th>13</th>\n",
       "      <td>[Gender, SeniorCitizen, TenureMonths, PhoneSer...</td>\n",
       "      <td>0.629851</td>\n",
       "      <td>[Longitude, Gender, SeniorCitizen, Dependents,...</td>\n",
       "      <td>0.575712</td>\n",
       "      <td>0.660334</td>\n",
       "      <td>0.614917</td>\n",
       "      <td>0.011692</td>\n",
       "      <td>0.569496</td>\n",
       "      <td>0.005527</td>\n",
       "      <td>0.609721</td>\n",
       "      <td>0.036549</td>\n",
       "    </tr>\n",
       "    <tr>\n",
       "      <th>14</th>\n",
       "      <td>[Gender, TenureMonths, PhoneService, Paperless...</td>\n",
       "      <td>0.632836</td>\n",
       "      <td>[Longitude, Gender, SeniorCitizen, Dependents,...</td>\n",
       "      <td>0.576220</td>\n",
       "      <td>0.605090</td>\n",
       "      <td>0.612334</td>\n",
       "      <td>0.010811</td>\n",
       "      <td>0.562765</td>\n",
       "      <td>0.008871</td>\n",
       "      <td>0.603988</td>\n",
       "      <td>0.028600</td>\n",
       "    </tr>\n",
       "    <tr>\n",
       "      <th>15</th>\n",
       "      <td>[Gender, PhoneService, PaperlessBilling, Total...</td>\n",
       "      <td>0.622024</td>\n",
       "      <td>[Longitude, Gender, Dependents, PhoneService, ...</td>\n",
       "      <td>0.575712</td>\n",
       "      <td>0.626667</td>\n",
       "      <td>0.599904</td>\n",
       "      <td>0.026067</td>\n",
       "      <td>0.561227</td>\n",
       "      <td>0.011646</td>\n",
       "      <td>0.574105</td>\n",
       "      <td>0.096732</td>\n",
       "    </tr>\n",
       "    <tr>\n",
       "      <th>16</th>\n",
       "      <td>[Gender, PhoneService, PaperlessBilling, Total...</td>\n",
       "      <td>0.608309</td>\n",
       "      <td>[Longitude, Gender, PhoneService, PaperlessBil...</td>\n",
       "      <td>0.579970</td>\n",
       "      <td>0.671480</td>\n",
       "      <td>0.592242</td>\n",
       "      <td>0.020872</td>\n",
       "      <td>0.534791</td>\n",
       "      <td>0.052326</td>\n",
       "      <td>0.533099</td>\n",
       "      <td>0.122309</td>\n",
       "    </tr>\n",
       "    <tr>\n",
       "      <th>17</th>\n",
       "      <td>[Gender, PhoneService, PaperlessBilling, Total...</td>\n",
       "      <td>0.593939</td>\n",
       "      <td>[Longitude, Gender, PhoneService, PaperlessBil...</td>\n",
       "      <td>0.561664</td>\n",
       "      <td>0.615156</td>\n",
       "      <td>0.559797</td>\n",
       "      <td>0.056407</td>\n",
       "      <td>0.512445</td>\n",
       "      <td>0.049758</td>\n",
       "      <td>0.515786</td>\n",
       "      <td>0.135183</td>\n",
       "    </tr>\n",
       "    <tr>\n",
       "      <th>18</th>\n",
       "      <td>[Gender, PhoneService, PaperlessBilling, TechS...</td>\n",
       "      <td>0.588757</td>\n",
       "      <td>[Gender, PhoneService, PaperlessBilling, Payme...</td>\n",
       "      <td>0.556180</td>\n",
       "      <td>0.556567</td>\n",
       "      <td>0.569253</td>\n",
       "      <td>0.019631</td>\n",
       "      <td>0.488407</td>\n",
       "      <td>0.057915</td>\n",
       "      <td>0.446926</td>\n",
       "      <td>0.172103</td>\n",
       "    </tr>\n",
       "    <tr>\n",
       "      <th>19</th>\n",
       "      <td>[Gender, PhoneService, PaperlessBilling]</td>\n",
       "      <td>0.563553</td>\n",
       "      <td>[Gender, PhoneService, PaperlessBilling]</td>\n",
       "      <td>0.527504</td>\n",
       "      <td>0.543693</td>\n",
       "      <td>0.472817</td>\n",
       "      <td>0.145032</td>\n",
       "      <td>0.497325</td>\n",
       "      <td>0.046158</td>\n",
       "      <td>0.398817</td>\n",
       "      <td>0.186456</td>\n",
       "    </tr>\n",
       "    <tr>\n",
       "      <th>20</th>\n",
       "      <td>[Gender, PaperlessBilling]</td>\n",
       "      <td>0.556765</td>\n",
       "      <td>[Gender, PaperlessBilling]</td>\n",
       "      <td>0.496454</td>\n",
       "      <td>0.506362</td>\n",
       "      <td>NaN</td>\n",
       "      <td>NaN</td>\n",
       "      <td>0.437062</td>\n",
       "      <td>0.057156</td>\n",
       "      <td>0.437724</td>\n",
       "      <td>0.332936</td>\n",
       "    </tr>\n",
       "    <tr>\n",
       "      <th>21</th>\n",
       "      <td>[PaperlessBilling]</td>\n",
       "      <td>NaN</td>\n",
       "      <td>[PaperlessBilling]</td>\n",
       "      <td>0.412297</td>\n",
       "      <td>0.000000</td>\n",
       "      <td>NaN</td>\n",
       "      <td>NaN</td>\n",
       "      <td>0.351949</td>\n",
       "      <td>0.060348</td>\n",
       "      <td>0.000000</td>\n",
       "      <td>0.000000</td>\n",
       "    </tr>\n",
       "  </tbody>\n",
       "</table>\n",
       "</div>"
      ],
      "text/plain": [
       "                           Best: M1 Included Features  Best: M1 f1  \\\n",
       "0   [Latitude, Longitude, Gender, SeniorCitizen, P...     0.621898   \n",
       "1   [Latitude, Longitude, Gender, SeniorCitizen, P...     0.624093   \n",
       "2   [Latitude, Longitude, Gender, SeniorCitizen, P...     0.627219   \n",
       "3   [Latitude, Longitude, Gender, SeniorCitizen, P...     0.640235   \n",
       "4   [Latitude, Longitude, Gender, SeniorCitizen, D...     0.638360   \n",
       "5   [Latitude, Longitude, Gender, SeniorCitizen, D...     0.636496   \n",
       "6   [Latitude, Longitude, Gender, SeniorCitizen, D...     0.636095   \n",
       "7   [Latitude, Longitude, Gender, SeniorCitizen, T...     0.639053   \n",
       "8   [Latitude, Longitude, Gender, SeniorCitizen, T...     0.632353   \n",
       "9   [Latitude, Longitude, Gender, SeniorCitizen, T...     0.633431   \n",
       "10  [Latitude, Longitude, Gender, SeniorCitizen, T...     0.632987   \n",
       "11  [Latitude, Gender, SeniorCitizen, TenureMonths...     0.632987   \n",
       "12  [Gender, SeniorCitizen, TenureMonths, PhoneSer...     0.630178   \n",
       "13  [Gender, SeniorCitizen, TenureMonths, PhoneSer...     0.629851   \n",
       "14  [Gender, TenureMonths, PhoneService, Paperless...     0.632836   \n",
       "15  [Gender, PhoneService, PaperlessBilling, Total...     0.622024   \n",
       "16  [Gender, PhoneService, PaperlessBilling, Total...     0.608309   \n",
       "17  [Gender, PhoneService, PaperlessBilling, Total...     0.593939   \n",
       "18  [Gender, PhoneService, PaperlessBilling, TechS...     0.588757   \n",
       "19           [Gender, PhoneService, PaperlessBilling]     0.563553   \n",
       "20                         [Gender, PaperlessBilling]     0.556765   \n",
       "21                                 [PaperlessBilling]          NaN   \n",
       "\n",
       "                           Best: M2 Included Features  Best: M2 f1  \\\n",
       "0   [Latitude, Longitude, Gender, SeniorCitizen, P...     0.602985   \n",
       "1   [Longitude, Gender, SeniorCitizen, Partner, De...     0.611940   \n",
       "2   [Longitude, Gender, SeniorCitizen, Partner, De...     0.606876   \n",
       "3   [Longitude, Gender, SeniorCitizen, Partner, De...     0.605970   \n",
       "4   [Longitude, Gender, SeniorCitizen, Partner, De...     0.609467   \n",
       "5   [Longitude, Gender, SeniorCitizen, Partner, De...     0.612426   \n",
       "6   [Longitude, Gender, SeniorCitizen, Partner, De...     0.614925   \n",
       "7   [Longitude, Gender, SeniorCitizen, Partner, De...     0.618401   \n",
       "8   [Longitude, Gender, SeniorCitizen, Partner, De...     0.611028   \n",
       "9   [Longitude, Gender, SeniorCitizen, Partner, De...     0.609865   \n",
       "10  [Longitude, Gender, SeniorCitizen, Dependents,...     0.604993   \n",
       "11  [Longitude, Gender, SeniorCitizen, Dependents,...     0.595556   \n",
       "12  [Longitude, Gender, SeniorCitizen, Dependents,...     0.581709   \n",
       "13  [Longitude, Gender, SeniorCitizen, Dependents,...     0.575712   \n",
       "14  [Longitude, Gender, SeniorCitizen, Dependents,...     0.576220   \n",
       "15  [Longitude, Gender, Dependents, PhoneService, ...     0.575712   \n",
       "16  [Longitude, Gender, PhoneService, PaperlessBil...     0.579970   \n",
       "17  [Longitude, Gender, PhoneService, PaperlessBil...     0.561664   \n",
       "18  [Gender, PhoneService, PaperlessBilling, Payme...     0.556180   \n",
       "19           [Gender, PhoneService, PaperlessBilling]     0.527504   \n",
       "20                         [Gender, PaperlessBilling]     0.496454   \n",
       "21                                 [PaperlessBilling]     0.412297   \n",
       "\n",
       "    Best: Agreeability (cohen_kappa)  All: M1 Mean f1  All: M1 STD f1  \\\n",
       "0                           0.744035         0.621898        0.000000   \n",
       "1                           0.732663         0.617133        0.005075   \n",
       "2                           0.749408         0.617755        0.005567   \n",
       "3                           0.721506         0.618575        0.010398   \n",
       "4                           0.719967         0.618543        0.013117   \n",
       "5                           0.703840         0.615247        0.012382   \n",
       "6                           0.721907         0.621131        0.009561   \n",
       "7                           0.691441         0.617039        0.014353   \n",
       "8                           0.721498         0.611322        0.014221   \n",
       "9                           0.691755         0.617193        0.012501   \n",
       "10                          0.678028         0.618594        0.012025   \n",
       "11                          0.671372         0.617472        0.012235   \n",
       "12                          0.632846         0.615404        0.012630   \n",
       "13                          0.660334         0.614917        0.011692   \n",
       "14                          0.605090         0.612334        0.010811   \n",
       "15                          0.626667         0.599904        0.026067   \n",
       "16                          0.671480         0.592242        0.020872   \n",
       "17                          0.615156         0.559797        0.056407   \n",
       "18                          0.556567         0.569253        0.019631   \n",
       "19                          0.543693         0.472817        0.145032   \n",
       "20                          0.506362              NaN             NaN   \n",
       "21                          0.000000              NaN             NaN   \n",
       "\n",
       "    All: M2 Mean f1  All: M2 STD f1  All: Mean Agreeability (cohen_kappa)  \\\n",
       "0          0.602985        0.000000                              0.744035   \n",
       "1          0.587917        0.012868                              0.737530   \n",
       "2          0.586184        0.011621                              0.733439   \n",
       "3          0.585048        0.013207                              0.722530   \n",
       "4          0.590365        0.013123                              0.713135   \n",
       "5          0.595187        0.012006                              0.694527   \n",
       "6          0.595408        0.009380                              0.687875   \n",
       "7          0.596058        0.010679                              0.688652   \n",
       "8          0.588641        0.011432                              0.669186   \n",
       "9          0.590109        0.010843                              0.680366   \n",
       "10         0.583643        0.011688                              0.664883   \n",
       "11         0.582618        0.010943                              0.644081   \n",
       "12         0.570281        0.009718                              0.617389   \n",
       "13         0.569496        0.005527                              0.609721   \n",
       "14         0.562765        0.008871                              0.603988   \n",
       "15         0.561227        0.011646                              0.574105   \n",
       "16         0.534791        0.052326                              0.533099   \n",
       "17         0.512445        0.049758                              0.515786   \n",
       "18         0.488407        0.057915                              0.446926   \n",
       "19         0.497325        0.046158                              0.398817   \n",
       "20         0.437062        0.057156                              0.437724   \n",
       "21         0.351949        0.060348                              0.000000   \n",
       "\n",
       "    All: Agreeability St. Dev.  \n",
       "0                     0.000000  \n",
       "1                     0.021385  \n",
       "2                     0.021162  \n",
       "3                     0.018683  \n",
       "4                     0.022672  \n",
       "5                     0.027930  \n",
       "6                     0.024020  \n",
       "7                     0.018191  \n",
       "8                     0.027219  \n",
       "9                     0.019522  \n",
       "10                    0.023101  \n",
       "11                    0.032880  \n",
       "12                    0.038793  \n",
       "13                    0.036549  \n",
       "14                    0.028600  \n",
       "15                    0.096732  \n",
       "16                    0.122309  \n",
       "17                    0.135183  \n",
       "18                    0.172103  \n",
       "19                    0.186456  \n",
       "20                    0.332936  \n",
       "21                    0.000000  "
      ]
     },
     "execution_count": 91,
     "metadata": {},
     "output_type": "execute_result"
    }
   ],
   "source": [
    "results_df_2"
   ]
  },
  {
   "cell_type": "code",
   "execution_count": 92,
   "metadata": {},
   "outputs": [
    {
     "data": {
      "application/vnd.plotly.v1+json": {
       "config": {
        "plotlyServerURL": "https://plot.ly"
       },
       "data": [
        {
         "hoverinfo": "text",
         "hovertext": [
          "<br> Best: Agreeability (cohen_kappa): <br> 0.7440 <br> All: Mean Agreeability (cohen_kappa): <br> 0.7440 <br> All: Agreeability St. Dev.: <br> 0.0000",
          "<br> Best: Agreeability (cohen_kappa): <br> 0.7327 <br> All: Mean Agreeability (cohen_kappa): <br> 0.7375 <br> All: Agreeability St. Dev.: <br> 0.0214",
          "<br> Best: Agreeability (cohen_kappa): <br> 0.7494 <br> All: Mean Agreeability (cohen_kappa): <br> 0.7334 <br> All: Agreeability St. Dev.: <br> 0.0212",
          "<br> Best: Agreeability (cohen_kappa): <br> 0.7215 <br> All: Mean Agreeability (cohen_kappa): <br> 0.7225 <br> All: Agreeability St. Dev.: <br> 0.0187",
          "<br> Best: Agreeability (cohen_kappa): <br> 0.7200 <br> All: Mean Agreeability (cohen_kappa): <br> 0.7131 <br> All: Agreeability St. Dev.: <br> 0.0227",
          "<br> Best: Agreeability (cohen_kappa): <br> 0.7038 <br> All: Mean Agreeability (cohen_kappa): <br> 0.6945 <br> All: Agreeability St. Dev.: <br> 0.0279",
          "<br> Best: Agreeability (cohen_kappa): <br> 0.7219 <br> All: Mean Agreeability (cohen_kappa): <br> 0.6879 <br> All: Agreeability St. Dev.: <br> 0.0240",
          "<br> Best: Agreeability (cohen_kappa): <br> 0.6914 <br> All: Mean Agreeability (cohen_kappa): <br> 0.6887 <br> All: Agreeability St. Dev.: <br> 0.0182",
          "<br> Best: Agreeability (cohen_kappa): <br> 0.7215 <br> All: Mean Agreeability (cohen_kappa): <br> 0.6692 <br> All: Agreeability St. Dev.: <br> 0.0272",
          "<br> Best: Agreeability (cohen_kappa): <br> 0.6918 <br> All: Mean Agreeability (cohen_kappa): <br> 0.6804 <br> All: Agreeability St. Dev.: <br> 0.0195",
          "<br> Best: Agreeability (cohen_kappa): <br> 0.6780 <br> All: Mean Agreeability (cohen_kappa): <br> 0.6649 <br> All: Agreeability St. Dev.: <br> 0.0231",
          "<br> Best: Agreeability (cohen_kappa): <br> 0.6714 <br> All: Mean Agreeability (cohen_kappa): <br> 0.6441 <br> All: Agreeability St. Dev.: <br> 0.0329",
          "<br> Best: Agreeability (cohen_kappa): <br> 0.6328 <br> All: Mean Agreeability (cohen_kappa): <br> 0.6174 <br> All: Agreeability St. Dev.: <br> 0.0388",
          "<br> Best: Agreeability (cohen_kappa): <br> 0.6603 <br> All: Mean Agreeability (cohen_kappa): <br> 0.6097 <br> All: Agreeability St. Dev.: <br> 0.0365",
          "<br> Best: Agreeability (cohen_kappa): <br> 0.6051 <br> All: Mean Agreeability (cohen_kappa): <br> 0.6040 <br> All: Agreeability St. Dev.: <br> 0.0286",
          "<br> Best: Agreeability (cohen_kappa): <br> 0.6267 <br> All: Mean Agreeability (cohen_kappa): <br> 0.5741 <br> All: Agreeability St. Dev.: <br> 0.0967",
          "<br> Best: Agreeability (cohen_kappa): <br> 0.6715 <br> All: Mean Agreeability (cohen_kappa): <br> 0.5331 <br> All: Agreeability St. Dev.: <br> 0.1223",
          "<br> Best: Agreeability (cohen_kappa): <br> 0.6152 <br> All: Mean Agreeability (cohen_kappa): <br> 0.5158 <br> All: Agreeability St. Dev.: <br> 0.1352",
          "<br> Best: Agreeability (cohen_kappa): <br> 0.5566 <br> All: Mean Agreeability (cohen_kappa): <br> 0.4469 <br> All: Agreeability St. Dev.: <br> 0.1721",
          "<br> Best: Agreeability (cohen_kappa): <br> 0.5437 <br> All: Mean Agreeability (cohen_kappa): <br> 0.3988 <br> All: Agreeability St. Dev.: <br> 0.1865",
          "<br> Best: Agreeability (cohen_kappa): <br> 0.5064 <br> All: Mean Agreeability (cohen_kappa): <br> 0.4377 <br> All: Agreeability St. Dev.: <br> 0.3329",
          "<br> Best: Agreeability (cohen_kappa): <br> 0.0000 <br> All: Mean Agreeability (cohen_kappa): <br> 0.0000 <br> All: Agreeability St. Dev.: <br> 0.0000"
         ],
         "mode": "lines+markers",
         "name": "Best: Agreeability (cohen_kappa)",
         "type": "scatter",
         "x": [
          1,
          2,
          3,
          4,
          5,
          6,
          7,
          8,
          9,
          10,
          11,
          12,
          13,
          14,
          15,
          16,
          17,
          18,
          19,
          20,
          21,
          22
         ],
         "xaxis": "x",
         "y": [
          0.7440352778976393,
          0.7326627797900368,
          0.749408224124362,
          0.7215061155726123,
          0.719967317473928,
          0.7038403260358431,
          0.7219071655542548,
          0.6914412169301619,
          0.7214976995081706,
          0.6917545882128973,
          0.6780281588360694,
          0.6713723682095182,
          0.6328461795535807,
          0.6603335788455595,
          0.6050895822613088,
          0.6266673824185767,
          0.6714799130136203,
          0.6151561464155633,
          0.5565672220069742,
          0.5436928734647246,
          0.506362077361167,
          0
         ],
         "yaxis": "y"
        },
        {
         "hoverinfo": "text",
         "hovertext": [
          "<br> Best: M1 f1: <br> 0.6219 <br> Best: M1 Included Features: <br> Latitude, Longitude, Gender, SeniorCitizen, Partner, Dependents, TenureMonths, PhoneService, PaperlessBilling, MonthlyCharges, TotalCharges, CLTV, MultipleLines_No_phone_service, MultipleLines_Yes, InternetService_Fiber_optic, InternetService_No, OnlineSecurity_No_internet_service, OnlineSecurity_Yes, OnlineBackup_No_internet_service, OnlineBackup_Yes, DeviceProtection_No_internet_service, DeviceProtection_Yes, TechSupport_No_internet_service, TechSupport_Yes, StreamingTV_No_internet_service, StreamingTV_Yes, StreamingMovies_No_internet_service, StreamingMovies_Yes, Contract_One_year, Contract_Two_year, PaymentMethod_Credit_card_(automatic), PaymentMethod_Electronic_check, PaymentMethod_Mailed_check <br> All: M1 Mean f1: <br> 0.6219 <br> All: M1 STD f1: <br> 0.0000",
          "<br> Best: M1 f1: <br> 0.6241 <br> Best: M1 Included Features: <br> Latitude, Longitude, Gender, SeniorCitizen, Partner, Dependents, TenureMonths, PhoneService, PaperlessBilling, MonthlyCharges, TotalCharges, CLTV, MultipleLines_No_phone_service, MultipleLines_Yes, InternetService_Fiber_optic, InternetService_No, OnlineSecurity_No_internet_service, OnlineSecurity_Yes, OnlineBackup_No_internet_service, OnlineBackup_Yes, TechSupport_No_internet_service, TechSupport_Yes, StreamingTV_No_internet_service, StreamingTV_Yes, StreamingMovies_No_internet_service, StreamingMovies_Yes, Contract_One_year, Contract_Two_year, PaymentMethod_Credit_card_(automatic), PaymentMethod_Electronic_check, PaymentMethod_Mailed_check <br> All: M1 Mean f1: <br> 0.6171 <br> All: M1 STD f1: <br> 0.0051",
          "<br> Best: M1 f1: <br> 0.6272 <br> Best: M1 Included Features: <br> Latitude, Longitude, Gender, SeniorCitizen, Partner, Dependents, TenureMonths, PhoneService, PaperlessBilling, MonthlyCharges, TotalCharges, CLTV, MultipleLines_No_phone_service, MultipleLines_Yes, OnlineSecurity_No_internet_service, OnlineSecurity_Yes, OnlineBackup_No_internet_service, OnlineBackup_Yes, TechSupport_No_internet_service, TechSupport_Yes, StreamingTV_No_internet_service, StreamingTV_Yes, StreamingMovies_No_internet_service, StreamingMovies_Yes, Contract_One_year, Contract_Two_year, PaymentMethod_Credit_card_(automatic), PaymentMethod_Electronic_check, PaymentMethod_Mailed_check <br> All: M1 Mean f1: <br> 0.6178 <br> All: M1 STD f1: <br> 0.0056",
          "<br> Best: M1 f1: <br> 0.6402 <br> Best: M1 Included Features: <br> Latitude, Longitude, Gender, SeniorCitizen, Partner, Dependents, TenureMonths, PhoneService, PaperlessBilling, MonthlyCharges, TotalCharges, CLTV, MultipleLines_No_phone_service, MultipleLines_Yes, OnlineSecurity_No_internet_service, OnlineSecurity_Yes, OnlineBackup_No_internet_service, OnlineBackup_Yes, TechSupport_No_internet_service, TechSupport_Yes, StreamingMovies_No_internet_service, StreamingMovies_Yes, Contract_One_year, Contract_Two_year, PaymentMethod_Credit_card_(automatic), PaymentMethod_Electronic_check, PaymentMethod_Mailed_check <br> All: M1 Mean f1: <br> 0.6186 <br> All: M1 STD f1: <br> 0.0104",
          "<br> Best: M1 f1: <br> 0.6384 <br> Best: M1 Included Features: <br> Latitude, Longitude, Gender, SeniorCitizen, Dependents, TenureMonths, PhoneService, PaperlessBilling, MonthlyCharges, TotalCharges, CLTV, MultipleLines_No_phone_service, MultipleLines_Yes, OnlineSecurity_No_internet_service, OnlineSecurity_Yes, OnlineBackup_No_internet_service, OnlineBackup_Yes, TechSupport_No_internet_service, TechSupport_Yes, StreamingMovies_No_internet_service, StreamingMovies_Yes, Contract_One_year, Contract_Two_year, PaymentMethod_Credit_card_(automatic), PaymentMethod_Electronic_check, PaymentMethod_Mailed_check <br> All: M1 Mean f1: <br> 0.6185 <br> All: M1 STD f1: <br> 0.0131",
          "<br> Best: M1 f1: <br> 0.6365 <br> Best: M1 Included Features: <br> Latitude, Longitude, Gender, SeniorCitizen, Dependents, TenureMonths, PhoneService, PaperlessBilling, TotalCharges, CLTV, MultipleLines_No_phone_service, MultipleLines_Yes, OnlineSecurity_No_internet_service, OnlineSecurity_Yes, OnlineBackup_No_internet_service, OnlineBackup_Yes, TechSupport_No_internet_service, TechSupport_Yes, StreamingMovies_No_internet_service, StreamingMovies_Yes, Contract_One_year, Contract_Two_year, PaymentMethod_Credit_card_(automatic), PaymentMethod_Electronic_check, PaymentMethod_Mailed_check <br> All: M1 Mean f1: <br> 0.6152 <br> All: M1 STD f1: <br> 0.0124",
          "<br> Best: M1 f1: <br> 0.6361 <br> Best: M1 Included Features: <br> Latitude, Longitude, Gender, SeniorCitizen, Dependents, TenureMonths, PhoneService, PaperlessBilling, TotalCharges, CLTV, MultipleLines_No_phone_service, MultipleLines_Yes, OnlineSecurity_No_internet_service, OnlineSecurity_Yes, OnlineBackup_No_internet_service, OnlineBackup_Yes, TechSupport_No_internet_service, TechSupport_Yes, StreamingMovies_No_internet_service, StreamingMovies_Yes, PaymentMethod_Credit_card_(automatic), PaymentMethod_Electronic_check, PaymentMethod_Mailed_check <br> All: M1 Mean f1: <br> 0.6211 <br> All: M1 STD f1: <br> 0.0096",
          "<br> Best: M1 f1: <br> 0.6391 <br> Best: M1 Included Features: <br> Latitude, Longitude, Gender, SeniorCitizen, TenureMonths, PhoneService, PaperlessBilling, TotalCharges, CLTV, MultipleLines_No_phone_service, MultipleLines_Yes, OnlineSecurity_No_internet_service, OnlineSecurity_Yes, OnlineBackup_No_internet_service, OnlineBackup_Yes, TechSupport_No_internet_service, TechSupport_Yes, StreamingMovies_No_internet_service, StreamingMovies_Yes, PaymentMethod_Credit_card_(automatic), PaymentMethod_Electronic_check, PaymentMethod_Mailed_check <br> All: M1 Mean f1: <br> 0.6170 <br> All: M1 STD f1: <br> 0.0144",
          "<br> Best: M1 f1: <br> 0.6324 <br> Best: M1 Included Features: <br> Latitude, Longitude, Gender, SeniorCitizen, TenureMonths, PhoneService, PaperlessBilling, TotalCharges, MultipleLines_No_phone_service, MultipleLines_Yes, OnlineSecurity_No_internet_service, OnlineSecurity_Yes, OnlineBackup_No_internet_service, OnlineBackup_Yes, TechSupport_No_internet_service, TechSupport_Yes, StreamingMovies_No_internet_service, StreamingMovies_Yes, PaymentMethod_Credit_card_(automatic), PaymentMethod_Electronic_check, PaymentMethod_Mailed_check <br> All: M1 Mean f1: <br> 0.6113 <br> All: M1 STD f1: <br> 0.0142",
          "<br> Best: M1 f1: <br> 0.6334 <br> Best: M1 Included Features: <br> Latitude, Longitude, Gender, SeniorCitizen, TenureMonths, PhoneService, PaperlessBilling, TotalCharges, MultipleLines_No_phone_service, MultipleLines_Yes, OnlineSecurity_No_internet_service, OnlineSecurity_Yes, OnlineBackup_No_internet_service, OnlineBackup_Yes, TechSupport_No_internet_service, TechSupport_Yes, PaymentMethod_Credit_card_(automatic), PaymentMethod_Electronic_check, PaymentMethod_Mailed_check <br> All: M1 Mean f1: <br> 0.6172 <br> All: M1 STD f1: <br> 0.0125",
          "<br> Best: M1 f1: <br> 0.6330 <br> Best: M1 Included Features: <br> Latitude, Longitude, Gender, SeniorCitizen, TenureMonths, PhoneService, PaperlessBilling, TotalCharges, MultipleLines_No_phone_service, MultipleLines_Yes, OnlineSecurity_No_internet_service, OnlineSecurity_Yes, OnlineBackup_No_internet_service, OnlineBackup_Yes, TechSupport_No_internet_service, TechSupport_Yes <br> All: M1 Mean f1: <br> 0.6186 <br> All: M1 STD f1: <br> 0.0120",
          "<br> Best: M1 f1: <br> 0.6330 <br> Best: M1 Included Features: <br> Latitude, Gender, SeniorCitizen, TenureMonths, PhoneService, PaperlessBilling, TotalCharges, MultipleLines_No_phone_service, MultipleLines_Yes, OnlineSecurity_No_internet_service, OnlineSecurity_Yes, OnlineBackup_No_internet_service, OnlineBackup_Yes, TechSupport_No_internet_service, TechSupport_Yes <br> All: M1 Mean f1: <br> 0.6175 <br> All: M1 STD f1: <br> 0.0122",
          "<br> Best: M1 f1: <br> 0.6302 <br> Best: M1 Included Features: <br> Gender, SeniorCitizen, TenureMonths, PhoneService, PaperlessBilling, TotalCharges, MultipleLines_No_phone_service, MultipleLines_Yes, OnlineSecurity_No_internet_service, OnlineSecurity_Yes, OnlineBackup_No_internet_service, OnlineBackup_Yes, TechSupport_No_internet_service, TechSupport_Yes <br> All: M1 Mean f1: <br> 0.6154 <br> All: M1 STD f1: <br> 0.0126",
          "<br> Best: M1 f1: <br> 0.6299 <br> Best: M1 Included Features: <br> Gender, SeniorCitizen, TenureMonths, PhoneService, PaperlessBilling, TotalCharges, MultipleLines_No_phone_service, MultipleLines_Yes, OnlineSecurity_No_internet_service, OnlineSecurity_Yes, TechSupport_No_internet_service, TechSupport_Yes <br> All: M1 Mean f1: <br> 0.6149 <br> All: M1 STD f1: <br> 0.0117",
          "<br> Best: M1 f1: <br> 0.6328 <br> Best: M1 Included Features: <br> Gender, TenureMonths, PhoneService, PaperlessBilling, TotalCharges, MultipleLines_No_phone_service, MultipleLines_Yes, OnlineSecurity_No_internet_service, OnlineSecurity_Yes, TechSupport_No_internet_service, TechSupport_Yes <br> All: M1 Mean f1: <br> 0.6123 <br> All: M1 STD f1: <br> 0.0108",
          "<br> Best: M1 f1: <br> 0.6220 <br> Best: M1 Included Features: <br> Gender, PhoneService, PaperlessBilling, TotalCharges, MultipleLines_No_phone_service, MultipleLines_Yes, OnlineSecurity_No_internet_service, OnlineSecurity_Yes, TechSupport_No_internet_service, TechSupport_Yes <br> All: M1 Mean f1: <br> 0.5999 <br> All: M1 STD f1: <br> 0.0261",
          "<br> Best: M1 f1: <br> 0.6083 <br> Best: M1 Included Features: <br> Gender, PhoneService, PaperlessBilling, TotalCharges, MultipleLines_No_phone_service, MultipleLines_Yes, TechSupport_No_internet_service, TechSupport_Yes <br> All: M1 Mean f1: <br> 0.5922 <br> All: M1 STD f1: <br> 0.0209",
          "<br> Best: M1 f1: <br> 0.5939 <br> Best: M1 Included Features: <br> Gender, PhoneService, PaperlessBilling, TotalCharges, TechSupport_No_internet_service, TechSupport_Yes <br> All: M1 Mean f1: <br> 0.5598 <br> All: M1 STD f1: <br> 0.0564",
          "<br> Best: M1 f1: <br> 0.5888 <br> Best: M1 Included Features: <br> Gender, PhoneService, PaperlessBilling, TechSupport_No_internet_service, TechSupport_Yes <br> All: M1 Mean f1: <br> 0.5693 <br> All: M1 STD f1: <br> 0.0196",
          "<br> Best: M1 f1: <br> 0.5636 <br> Best: M1 Included Features: <br> Gender, PhoneService, PaperlessBilling <br> All: M1 Mean f1: <br> 0.4728 <br> All: M1 STD f1: <br> 0.1450",
          "<br> Best: M1 f1: <br> 0.5568 <br> Best: M1 Included Features: <br> Gender, PaperlessBilling <br> All: M1 Mean f1: <br> nan <br> All: M1 STD f1: <br> nan",
          "<br> Best: M1 f1: <br> nan <br> Best: M1 Included Features: <br> PaperlessBilling <br> All: M1 Mean f1: <br> nan <br> All: M1 STD f1: <br> nan"
         ],
         "mode": "lines+markers",
         "name": "Best: M1 f1",
         "type": "scatter",
         "x": [
          1,
          2,
          3,
          4,
          5,
          6,
          7,
          8,
          9,
          10,
          11,
          12,
          13,
          14,
          15,
          16,
          17,
          18,
          19,
          20,
          21,
          22
         ],
         "xaxis": "x",
         "y": [
          0.6218978102189782,
          0.6240928882438317,
          0.6272189349112425,
          0.6402349486049926,
          0.6383601756954612,
          0.6364963503649634,
          0.636094674556213,
          0.6390532544378699,
          0.6323529411764706,
          0.6334310850439883,
          0.6329866270430907,
          0.6329866270430907,
          0.6301775147928994,
          0.6298507462686568,
          0.6328358208955223,
          0.6220238095238096,
          0.6083086053412463,
          0.5939393939393939,
          0.5887573964497042,
          0.5635528330781011,
          0.5567651632970452,
          null
         ],
         "yaxis": "y2"
        },
        {
         "hoverinfo": "text",
         "hovertext": [
          "<br> Best: M2 f1: <br> 0.6030 <br> Best: M2 Included Features: <br> Latitude, Longitude, Gender, SeniorCitizen, Partner, Dependents, TenureMonths, PhoneService, PaperlessBilling, MonthlyCharges, TotalCharges, CLTV, MultipleLines_No_phone_service, MultipleLines_Yes, InternetService_Fiber_optic, InternetService_No, OnlineSecurity_No_internet_service, OnlineSecurity_Yes, OnlineBackup_No_internet_service, OnlineBackup_Yes, DeviceProtection_No_internet_service, DeviceProtection_Yes, TechSupport_No_internet_service, TechSupport_Yes, StreamingTV_No_internet_service, StreamingTV_Yes, StreamingMovies_No_internet_service, StreamingMovies_Yes, Contract_One_year, Contract_Two_year, PaymentMethod_Credit_card_(automatic), PaymentMethod_Electronic_check, PaymentMethod_Mailed_check <br> All: M2 Mean f1: <br> 0.6030 <br> All: M2 STD f1: <br> 0.0000",
          "<br> Best: M2 f1: <br> 0.6119 <br> Best: M2 Included Features: <br> Longitude, Gender, SeniorCitizen, Partner, Dependents, TenureMonths, PhoneService, PaperlessBilling, MonthlyCharges, TotalCharges, CLTV, MultipleLines_No_phone_service, MultipleLines_Yes, InternetService_Fiber_optic, InternetService_No, OnlineSecurity_No_internet_service, OnlineSecurity_Yes, OnlineBackup_No_internet_service, OnlineBackup_Yes, DeviceProtection_No_internet_service, DeviceProtection_Yes, TechSupport_No_internet_service, TechSupport_Yes, StreamingTV_No_internet_service, StreamingTV_Yes, StreamingMovies_No_internet_service, StreamingMovies_Yes, Contract_One_year, Contract_Two_year, PaymentMethod_Credit_card_(automatic), PaymentMethod_Electronic_check, PaymentMethod_Mailed_check <br> All: M2 Mean f1: <br> 0.5879 <br> All: M2 STD f1: <br> 0.0129",
          "<br> Best: M2 f1: <br> 0.6069 <br> Best: M2 Included Features: <br> Longitude, Gender, SeniorCitizen, Partner, Dependents, TenureMonths, PhoneService, PaperlessBilling, MonthlyCharges, TotalCharges, CLTV, MultipleLines_No_phone_service, MultipleLines_Yes, InternetService_Fiber_optic, InternetService_No, OnlineSecurity_No_internet_service, OnlineSecurity_Yes, OnlineBackup_No_internet_service, OnlineBackup_Yes, DeviceProtection_No_internet_service, DeviceProtection_Yes, TechSupport_No_internet_service, TechSupport_Yes, StreamingTV_No_internet_service, StreamingTV_Yes, StreamingMovies_No_internet_service, StreamingMovies_Yes, PaymentMethod_Credit_card_(automatic), PaymentMethod_Electronic_check, PaymentMethod_Mailed_check <br> All: M2 Mean f1: <br> 0.5862 <br> All: M2 STD f1: <br> 0.0116",
          "<br> Best: M2 f1: <br> 0.6060 <br> Best: M2 Included Features: <br> Longitude, Gender, SeniorCitizen, Partner, Dependents, TenureMonths, PhoneService, PaperlessBilling, MonthlyCharges, TotalCharges, CLTV, MultipleLines_No_phone_service, MultipleLines_Yes, InternetService_Fiber_optic, InternetService_No, OnlineBackup_No_internet_service, OnlineBackup_Yes, DeviceProtection_No_internet_service, DeviceProtection_Yes, TechSupport_No_internet_service, TechSupport_Yes, StreamingTV_No_internet_service, StreamingTV_Yes, StreamingMovies_No_internet_service, StreamingMovies_Yes, PaymentMethod_Credit_card_(automatic), PaymentMethod_Electronic_check, PaymentMethod_Mailed_check <br> All: M2 Mean f1: <br> 0.5850 <br> All: M2 STD f1: <br> 0.0132",
          "<br> Best: M2 f1: <br> 0.6095 <br> Best: M2 Included Features: <br> Longitude, Gender, SeniorCitizen, Partner, Dependents, TenureMonths, PhoneService, PaperlessBilling, MonthlyCharges, TotalCharges, MultipleLines_No_phone_service, MultipleLines_Yes, InternetService_Fiber_optic, InternetService_No, OnlineBackup_No_internet_service, OnlineBackup_Yes, DeviceProtection_No_internet_service, DeviceProtection_Yes, TechSupport_No_internet_service, TechSupport_Yes, StreamingTV_No_internet_service, StreamingTV_Yes, StreamingMovies_No_internet_service, StreamingMovies_Yes, PaymentMethod_Credit_card_(automatic), PaymentMethod_Electronic_check, PaymentMethod_Mailed_check <br> All: M2 Mean f1: <br> 0.5904 <br> All: M2 STD f1: <br> 0.0131",
          "<br> Best: M2 f1: <br> 0.6124 <br> Best: M2 Included Features: <br> Longitude, Gender, SeniorCitizen, Partner, Dependents, TenureMonths, PhoneService, PaperlessBilling, MonthlyCharges, TotalCharges, MultipleLines_No_phone_service, MultipleLines_Yes, InternetService_Fiber_optic, InternetService_No, OnlineBackup_No_internet_service, OnlineBackup_Yes, TechSupport_No_internet_service, TechSupport_Yes, StreamingTV_No_internet_service, StreamingTV_Yes, StreamingMovies_No_internet_service, StreamingMovies_Yes, PaymentMethod_Credit_card_(automatic), PaymentMethod_Electronic_check, PaymentMethod_Mailed_check <br> All: M2 Mean f1: <br> 0.5952 <br> All: M2 STD f1: <br> 0.0120",
          "<br> Best: M2 f1: <br> 0.6149 <br> Best: M2 Included Features: <br> Longitude, Gender, SeniorCitizen, Partner, Dependents, TenureMonths, PhoneService, PaperlessBilling, TotalCharges, MultipleLines_No_phone_service, MultipleLines_Yes, InternetService_Fiber_optic, InternetService_No, OnlineBackup_No_internet_service, OnlineBackup_Yes, TechSupport_No_internet_service, TechSupport_Yes, StreamingTV_No_internet_service, StreamingTV_Yes, StreamingMovies_No_internet_service, StreamingMovies_Yes, PaymentMethod_Credit_card_(automatic), PaymentMethod_Electronic_check, PaymentMethod_Mailed_check <br> All: M2 Mean f1: <br> 0.5954 <br> All: M2 STD f1: <br> 0.0094",
          "<br> Best: M2 f1: <br> 0.6184 <br> Best: M2 Included Features: <br> Longitude, Gender, SeniorCitizen, Partner, Dependents, TenureMonths, PhoneService, PaperlessBilling, MultipleLines_No_phone_service, MultipleLines_Yes, InternetService_Fiber_optic, InternetService_No, OnlineBackup_No_internet_service, OnlineBackup_Yes, TechSupport_No_internet_service, TechSupport_Yes, StreamingTV_No_internet_service, StreamingTV_Yes, StreamingMovies_No_internet_service, StreamingMovies_Yes, PaymentMethod_Credit_card_(automatic), PaymentMethod_Electronic_check, PaymentMethod_Mailed_check <br> All: M2 Mean f1: <br> 0.5961 <br> All: M2 STD f1: <br> 0.0107",
          "<br> Best: M2 f1: <br> 0.6110 <br> Best: M2 Included Features: <br> Longitude, Gender, SeniorCitizen, Partner, Dependents, PhoneService, PaperlessBilling, MultipleLines_No_phone_service, MultipleLines_Yes, InternetService_Fiber_optic, InternetService_No, OnlineBackup_No_internet_service, OnlineBackup_Yes, TechSupport_No_internet_service, TechSupport_Yes, StreamingTV_No_internet_service, StreamingTV_Yes, StreamingMovies_No_internet_service, StreamingMovies_Yes, PaymentMethod_Credit_card_(automatic), PaymentMethod_Electronic_check, PaymentMethod_Mailed_check <br> All: M2 Mean f1: <br> 0.5886 <br> All: M2 STD f1: <br> 0.0114",
          "<br> Best: M2 f1: <br> 0.6099 <br> Best: M2 Included Features: <br> Longitude, Gender, SeniorCitizen, Partner, Dependents, PhoneService, PaperlessBilling, MultipleLines_No_phone_service, MultipleLines_Yes, InternetService_Fiber_optic, InternetService_No, OnlineBackup_No_internet_service, OnlineBackup_Yes, TechSupport_No_internet_service, TechSupport_Yes, StreamingTV_No_internet_service, StreamingTV_Yes, PaymentMethod_Credit_card_(automatic), PaymentMethod_Electronic_check, PaymentMethod_Mailed_check <br> All: M2 Mean f1: <br> 0.5901 <br> All: M2 STD f1: <br> 0.0108",
          "<br> Best: M2 f1: <br> 0.6050 <br> Best: M2 Included Features: <br> Longitude, Gender, SeniorCitizen, Dependents, PhoneService, PaperlessBilling, MultipleLines_No_phone_service, MultipleLines_Yes, InternetService_Fiber_optic, InternetService_No, OnlineBackup_No_internet_service, OnlineBackup_Yes, TechSupport_No_internet_service, TechSupport_Yes, StreamingTV_No_internet_service, StreamingTV_Yes, PaymentMethod_Credit_card_(automatic), PaymentMethod_Electronic_check, PaymentMethod_Mailed_check <br> All: M2 Mean f1: <br> 0.5836 <br> All: M2 STD f1: <br> 0.0117",
          "<br> Best: M2 f1: <br> 0.5956 <br> Best: M2 Included Features: <br> Longitude, Gender, SeniorCitizen, Dependents, PhoneService, PaperlessBilling, MultipleLines_No_phone_service, MultipleLines_Yes, InternetService_Fiber_optic, InternetService_No, OnlineBackup_No_internet_service, OnlineBackup_Yes, StreamingTV_No_internet_service, StreamingTV_Yes, PaymentMethod_Credit_card_(automatic), PaymentMethod_Electronic_check, PaymentMethod_Mailed_check <br> All: M2 Mean f1: <br> 0.5826 <br> All: M2 STD f1: <br> 0.0109",
          "<br> Best: M2 f1: <br> 0.5817 <br> Best: M2 Included Features: <br> Longitude, Gender, SeniorCitizen, Dependents, PhoneService, PaperlessBilling, MultipleLines_No_phone_service, MultipleLines_Yes, InternetService_Fiber_optic, InternetService_No, OnlineBackup_No_internet_service, OnlineBackup_Yes, PaymentMethod_Credit_card_(automatic), PaymentMethod_Electronic_check, PaymentMethod_Mailed_check <br> All: M2 Mean f1: <br> 0.5703 <br> All: M2 STD f1: <br> 0.0097",
          "<br> Best: M2 f1: <br> 0.5757 <br> Best: M2 Included Features: <br> Longitude, Gender, SeniorCitizen, Dependents, PhoneService, PaperlessBilling, MultipleLines_No_phone_service, MultipleLines_Yes, InternetService_Fiber_optic, InternetService_No, PaymentMethod_Credit_card_(automatic), PaymentMethod_Electronic_check, PaymentMethod_Mailed_check <br> All: M2 Mean f1: <br> 0.5695 <br> All: M2 STD f1: <br> 0.0055",
          "<br> Best: M2 f1: <br> 0.5762 <br> Best: M2 Included Features: <br> Longitude, Gender, SeniorCitizen, Dependents, PhoneService, PaperlessBilling, MultipleLines_No_phone_service, MultipleLines_Yes, PaymentMethod_Credit_card_(automatic), PaymentMethod_Electronic_check, PaymentMethod_Mailed_check <br> All: M2 Mean f1: <br> 0.5628 <br> All: M2 STD f1: <br> 0.0089",
          "<br> Best: M2 f1: <br> 0.5757 <br> Best: M2 Included Features: <br> Longitude, Gender, Dependents, PhoneService, PaperlessBilling, MultipleLines_No_phone_service, MultipleLines_Yes, PaymentMethod_Credit_card_(automatic), PaymentMethod_Electronic_check, PaymentMethod_Mailed_check <br> All: M2 Mean f1: <br> 0.5612 <br> All: M2 STD f1: <br> 0.0116",
          "<br> Best: M2 f1: <br> 0.5800 <br> Best: M2 Included Features: <br> Longitude, Gender, PhoneService, PaperlessBilling, MultipleLines_No_phone_service, MultipleLines_Yes, PaymentMethod_Credit_card_(automatic), PaymentMethod_Electronic_check, PaymentMethod_Mailed_check <br> All: M2 Mean f1: <br> 0.5348 <br> All: M2 STD f1: <br> 0.0523",
          "<br> Best: M2 f1: <br> 0.5617 <br> Best: M2 Included Features: <br> Longitude, Gender, PhoneService, PaperlessBilling, PaymentMethod_Credit_card_(automatic), PaymentMethod_Electronic_check, PaymentMethod_Mailed_check <br> All: M2 Mean f1: <br> 0.5124 <br> All: M2 STD f1: <br> 0.0498",
          "<br> Best: M2 f1: <br> 0.5562 <br> Best: M2 Included Features: <br> Gender, PhoneService, PaperlessBilling, PaymentMethod_Credit_card_(automatic), PaymentMethod_Electronic_check, PaymentMethod_Mailed_check <br> All: M2 Mean f1: <br> 0.4884 <br> All: M2 STD f1: <br> 0.0579",
          "<br> Best: M2 f1: <br> 0.5275 <br> Best: M2 Included Features: <br> Gender, PhoneService, PaperlessBilling <br> All: M2 Mean f1: <br> 0.4973 <br> All: M2 STD f1: <br> 0.0462",
          "<br> Best: M2 f1: <br> 0.4965 <br> Best: M2 Included Features: <br> Gender, PaperlessBilling <br> All: M2 Mean f1: <br> 0.4371 <br> All: M2 STD f1: <br> 0.0572",
          "<br> Best: M2 f1: <br> 0.4123 <br> Best: M2 Included Features: <br> PaperlessBilling <br> All: M2 Mean f1: <br> 0.3519 <br> All: M2 STD f1: <br> 0.0603"
         ],
         "mode": "lines+markers",
         "name": "Best: M2 f1",
         "type": "scatter",
         "x": [
          1,
          2,
          3,
          4,
          5,
          6,
          7,
          8,
          9,
          10,
          11,
          12,
          13,
          14,
          15,
          16,
          17,
          18,
          19,
          20,
          21,
          22
         ],
         "xaxis": "x",
         "y": [
          0.6029850746268657,
          0.6119402985074626,
          0.6068759342301943,
          0.6059701492537314,
          0.6094674556213018,
          0.6124260355029586,
          0.6149253731343283,
          0.6184012066365007,
          0.6110283159463488,
          0.6098654708520179,
          0.604992657856094,
          0.5955555555555555,
          0.5817091454272864,
          0.5757121439280359,
          0.5762195121951219,
          0.5757121439280359,
          0.5799701046337817,
          0.5616641901931649,
          0.5561797752808988,
          0.5275035260930889,
          0.4964539007092199,
          0.41229656419529837
         ],
         "yaxis": "y2"
        }
       ],
       "layout": {
        "hovermode": "closest",
        "template": {
         "data": {
          "bar": [
           {
            "error_x": {
             "color": "#2a3f5f"
            },
            "error_y": {
             "color": "#2a3f5f"
            },
            "marker": {
             "line": {
              "color": "#E5ECF6",
              "width": 0.5
             },
             "pattern": {
              "fillmode": "overlay",
              "size": 10,
              "solidity": 0.2
             }
            },
            "type": "bar"
           }
          ],
          "barpolar": [
           {
            "marker": {
             "line": {
              "color": "#E5ECF6",
              "width": 0.5
             },
             "pattern": {
              "fillmode": "overlay",
              "size": 10,
              "solidity": 0.2
             }
            },
            "type": "barpolar"
           }
          ],
          "carpet": [
           {
            "aaxis": {
             "endlinecolor": "#2a3f5f",
             "gridcolor": "white",
             "linecolor": "white",
             "minorgridcolor": "white",
             "startlinecolor": "#2a3f5f"
            },
            "baxis": {
             "endlinecolor": "#2a3f5f",
             "gridcolor": "white",
             "linecolor": "white",
             "minorgridcolor": "white",
             "startlinecolor": "#2a3f5f"
            },
            "type": "carpet"
           }
          ],
          "choropleth": [
           {
            "colorbar": {
             "outlinewidth": 0,
             "ticks": ""
            },
            "type": "choropleth"
           }
          ],
          "contour": [
           {
            "colorbar": {
             "outlinewidth": 0,
             "ticks": ""
            },
            "colorscale": [
             [
              0,
              "#0d0887"
             ],
             [
              0.1111111111111111,
              "#46039f"
             ],
             [
              0.2222222222222222,
              "#7201a8"
             ],
             [
              0.3333333333333333,
              "#9c179e"
             ],
             [
              0.4444444444444444,
              "#bd3786"
             ],
             [
              0.5555555555555556,
              "#d8576b"
             ],
             [
              0.6666666666666666,
              "#ed7953"
             ],
             [
              0.7777777777777778,
              "#fb9f3a"
             ],
             [
              0.8888888888888888,
              "#fdca26"
             ],
             [
              1,
              "#f0f921"
             ]
            ],
            "type": "contour"
           }
          ],
          "contourcarpet": [
           {
            "colorbar": {
             "outlinewidth": 0,
             "ticks": ""
            },
            "type": "contourcarpet"
           }
          ],
          "heatmap": [
           {
            "colorbar": {
             "outlinewidth": 0,
             "ticks": ""
            },
            "colorscale": [
             [
              0,
              "#0d0887"
             ],
             [
              0.1111111111111111,
              "#46039f"
             ],
             [
              0.2222222222222222,
              "#7201a8"
             ],
             [
              0.3333333333333333,
              "#9c179e"
             ],
             [
              0.4444444444444444,
              "#bd3786"
             ],
             [
              0.5555555555555556,
              "#d8576b"
             ],
             [
              0.6666666666666666,
              "#ed7953"
             ],
             [
              0.7777777777777778,
              "#fb9f3a"
             ],
             [
              0.8888888888888888,
              "#fdca26"
             ],
             [
              1,
              "#f0f921"
             ]
            ],
            "type": "heatmap"
           }
          ],
          "heatmapgl": [
           {
            "colorbar": {
             "outlinewidth": 0,
             "ticks": ""
            },
            "colorscale": [
             [
              0,
              "#0d0887"
             ],
             [
              0.1111111111111111,
              "#46039f"
             ],
             [
              0.2222222222222222,
              "#7201a8"
             ],
             [
              0.3333333333333333,
              "#9c179e"
             ],
             [
              0.4444444444444444,
              "#bd3786"
             ],
             [
              0.5555555555555556,
              "#d8576b"
             ],
             [
              0.6666666666666666,
              "#ed7953"
             ],
             [
              0.7777777777777778,
              "#fb9f3a"
             ],
             [
              0.8888888888888888,
              "#fdca26"
             ],
             [
              1,
              "#f0f921"
             ]
            ],
            "type": "heatmapgl"
           }
          ],
          "histogram": [
           {
            "marker": {
             "pattern": {
              "fillmode": "overlay",
              "size": 10,
              "solidity": 0.2
             }
            },
            "type": "histogram"
           }
          ],
          "histogram2d": [
           {
            "colorbar": {
             "outlinewidth": 0,
             "ticks": ""
            },
            "colorscale": [
             [
              0,
              "#0d0887"
             ],
             [
              0.1111111111111111,
              "#46039f"
             ],
             [
              0.2222222222222222,
              "#7201a8"
             ],
             [
              0.3333333333333333,
              "#9c179e"
             ],
             [
              0.4444444444444444,
              "#bd3786"
             ],
             [
              0.5555555555555556,
              "#d8576b"
             ],
             [
              0.6666666666666666,
              "#ed7953"
             ],
             [
              0.7777777777777778,
              "#fb9f3a"
             ],
             [
              0.8888888888888888,
              "#fdca26"
             ],
             [
              1,
              "#f0f921"
             ]
            ],
            "type": "histogram2d"
           }
          ],
          "histogram2dcontour": [
           {
            "colorbar": {
             "outlinewidth": 0,
             "ticks": ""
            },
            "colorscale": [
             [
              0,
              "#0d0887"
             ],
             [
              0.1111111111111111,
              "#46039f"
             ],
             [
              0.2222222222222222,
              "#7201a8"
             ],
             [
              0.3333333333333333,
              "#9c179e"
             ],
             [
              0.4444444444444444,
              "#bd3786"
             ],
             [
              0.5555555555555556,
              "#d8576b"
             ],
             [
              0.6666666666666666,
              "#ed7953"
             ],
             [
              0.7777777777777778,
              "#fb9f3a"
             ],
             [
              0.8888888888888888,
              "#fdca26"
             ],
             [
              1,
              "#f0f921"
             ]
            ],
            "type": "histogram2dcontour"
           }
          ],
          "mesh3d": [
           {
            "colorbar": {
             "outlinewidth": 0,
             "ticks": ""
            },
            "type": "mesh3d"
           }
          ],
          "parcoords": [
           {
            "line": {
             "colorbar": {
              "outlinewidth": 0,
              "ticks": ""
             }
            },
            "type": "parcoords"
           }
          ],
          "pie": [
           {
            "automargin": true,
            "type": "pie"
           }
          ],
          "scatter": [
           {
            "fillpattern": {
             "fillmode": "overlay",
             "size": 10,
             "solidity": 0.2
            },
            "type": "scatter"
           }
          ],
          "scatter3d": [
           {
            "line": {
             "colorbar": {
              "outlinewidth": 0,
              "ticks": ""
             }
            },
            "marker": {
             "colorbar": {
              "outlinewidth": 0,
              "ticks": ""
             }
            },
            "type": "scatter3d"
           }
          ],
          "scattercarpet": [
           {
            "marker": {
             "colorbar": {
              "outlinewidth": 0,
              "ticks": ""
             }
            },
            "type": "scattercarpet"
           }
          ],
          "scattergeo": [
           {
            "marker": {
             "colorbar": {
              "outlinewidth": 0,
              "ticks": ""
             }
            },
            "type": "scattergeo"
           }
          ],
          "scattergl": [
           {
            "marker": {
             "colorbar": {
              "outlinewidth": 0,
              "ticks": ""
             }
            },
            "type": "scattergl"
           }
          ],
          "scattermapbox": [
           {
            "marker": {
             "colorbar": {
              "outlinewidth": 0,
              "ticks": ""
             }
            },
            "type": "scattermapbox"
           }
          ],
          "scatterpolar": [
           {
            "marker": {
             "colorbar": {
              "outlinewidth": 0,
              "ticks": ""
             }
            },
            "type": "scatterpolar"
           }
          ],
          "scatterpolargl": [
           {
            "marker": {
             "colorbar": {
              "outlinewidth": 0,
              "ticks": ""
             }
            },
            "type": "scatterpolargl"
           }
          ],
          "scatterternary": [
           {
            "marker": {
             "colorbar": {
              "outlinewidth": 0,
              "ticks": ""
             }
            },
            "type": "scatterternary"
           }
          ],
          "surface": [
           {
            "colorbar": {
             "outlinewidth": 0,
             "ticks": ""
            },
            "colorscale": [
             [
              0,
              "#0d0887"
             ],
             [
              0.1111111111111111,
              "#46039f"
             ],
             [
              0.2222222222222222,
              "#7201a8"
             ],
             [
              0.3333333333333333,
              "#9c179e"
             ],
             [
              0.4444444444444444,
              "#bd3786"
             ],
             [
              0.5555555555555556,
              "#d8576b"
             ],
             [
              0.6666666666666666,
              "#ed7953"
             ],
             [
              0.7777777777777778,
              "#fb9f3a"
             ],
             [
              0.8888888888888888,
              "#fdca26"
             ],
             [
              1,
              "#f0f921"
             ]
            ],
            "type": "surface"
           }
          ],
          "table": [
           {
            "cells": {
             "fill": {
              "color": "#EBF0F8"
             },
             "line": {
              "color": "white"
             }
            },
            "header": {
             "fill": {
              "color": "#C8D4E3"
             },
             "line": {
              "color": "white"
             }
            },
            "type": "table"
           }
          ]
         },
         "layout": {
          "annotationdefaults": {
           "arrowcolor": "#2a3f5f",
           "arrowhead": 0,
           "arrowwidth": 1
          },
          "autotypenumbers": "strict",
          "coloraxis": {
           "colorbar": {
            "outlinewidth": 0,
            "ticks": ""
           }
          },
          "colorscale": {
           "diverging": [
            [
             0,
             "#8e0152"
            ],
            [
             0.1,
             "#c51b7d"
            ],
            [
             0.2,
             "#de77ae"
            ],
            [
             0.3,
             "#f1b6da"
            ],
            [
             0.4,
             "#fde0ef"
            ],
            [
             0.5,
             "#f7f7f7"
            ],
            [
             0.6,
             "#e6f5d0"
            ],
            [
             0.7,
             "#b8e186"
            ],
            [
             0.8,
             "#7fbc41"
            ],
            [
             0.9,
             "#4d9221"
            ],
            [
             1,
             "#276419"
            ]
           ],
           "sequential": [
            [
             0,
             "#0d0887"
            ],
            [
             0.1111111111111111,
             "#46039f"
            ],
            [
             0.2222222222222222,
             "#7201a8"
            ],
            [
             0.3333333333333333,
             "#9c179e"
            ],
            [
             0.4444444444444444,
             "#bd3786"
            ],
            [
             0.5555555555555556,
             "#d8576b"
            ],
            [
             0.6666666666666666,
             "#ed7953"
            ],
            [
             0.7777777777777778,
             "#fb9f3a"
            ],
            [
             0.8888888888888888,
             "#fdca26"
            ],
            [
             1,
             "#f0f921"
            ]
           ],
           "sequentialminus": [
            [
             0,
             "#0d0887"
            ],
            [
             0.1111111111111111,
             "#46039f"
            ],
            [
             0.2222222222222222,
             "#7201a8"
            ],
            [
             0.3333333333333333,
             "#9c179e"
            ],
            [
             0.4444444444444444,
             "#bd3786"
            ],
            [
             0.5555555555555556,
             "#d8576b"
            ],
            [
             0.6666666666666666,
             "#ed7953"
            ],
            [
             0.7777777777777778,
             "#fb9f3a"
            ],
            [
             0.8888888888888888,
             "#fdca26"
            ],
            [
             1,
             "#f0f921"
            ]
           ]
          },
          "colorway": [
           "#636efa",
           "#EF553B",
           "#00cc96",
           "#ab63fa",
           "#FFA15A",
           "#19d3f3",
           "#FF6692",
           "#B6E880",
           "#FF97FF",
           "#FECB52"
          ],
          "font": {
           "color": "#2a3f5f"
          },
          "geo": {
           "bgcolor": "white",
           "lakecolor": "white",
           "landcolor": "#E5ECF6",
           "showlakes": true,
           "showland": true,
           "subunitcolor": "white"
          },
          "hoverlabel": {
           "align": "left"
          },
          "hovermode": "closest",
          "mapbox": {
           "style": "light"
          },
          "paper_bgcolor": "white",
          "plot_bgcolor": "#E5ECF6",
          "polar": {
           "angularaxis": {
            "gridcolor": "white",
            "linecolor": "white",
            "ticks": ""
           },
           "bgcolor": "#E5ECF6",
           "radialaxis": {
            "gridcolor": "white",
            "linecolor": "white",
            "ticks": ""
           }
          },
          "scene": {
           "xaxis": {
            "backgroundcolor": "#E5ECF6",
            "gridcolor": "white",
            "gridwidth": 2,
            "linecolor": "white",
            "showbackground": true,
            "ticks": "",
            "zerolinecolor": "white"
           },
           "yaxis": {
            "backgroundcolor": "#E5ECF6",
            "gridcolor": "white",
            "gridwidth": 2,
            "linecolor": "white",
            "showbackground": true,
            "ticks": "",
            "zerolinecolor": "white"
           },
           "zaxis": {
            "backgroundcolor": "#E5ECF6",
            "gridcolor": "white",
            "gridwidth": 2,
            "linecolor": "white",
            "showbackground": true,
            "ticks": "",
            "zerolinecolor": "white"
           }
          },
          "shapedefaults": {
           "line": {
            "color": "#2a3f5f"
           }
          },
          "ternary": {
           "aaxis": {
            "gridcolor": "white",
            "linecolor": "white",
            "ticks": ""
           },
           "baxis": {
            "gridcolor": "white",
            "linecolor": "white",
            "ticks": ""
           },
           "bgcolor": "#E5ECF6",
           "caxis": {
            "gridcolor": "white",
            "linecolor": "white",
            "ticks": ""
           }
          },
          "title": {
           "x": 0.05
          },
          "xaxis": {
           "automargin": true,
           "gridcolor": "white",
           "linecolor": "white",
           "ticks": "",
           "title": {
            "standoff": 15
           },
           "zerolinecolor": "white",
           "zerolinewidth": 2
          },
          "yaxis": {
           "automargin": true,
           "gridcolor": "white",
           "linecolor": "white",
           "ticks": "",
           "title": {
            "standoff": 15
           },
           "zerolinecolor": "white",
           "zerolinewidth": 2
          }
         }
        },
        "title": {
         "text": "Agreeability Coefficients and Model Scores Over Algorithm Iterations"
        },
        "xaxis": {
         "anchor": "y",
         "domain": [
          0,
          0.94
         ],
         "title": {
          "text": "Iteration"
         },
         "type": "category"
        },
        "yaxis": {
         "anchor": "x",
         "domain": [
          0,
          1
         ],
         "title": {
          "text": "Agreeability"
         }
        },
        "yaxis2": {
         "anchor": "x",
         "overlaying": "y",
         "side": "right",
         "title": {
          "text": "Model Scores"
         }
        }
       }
      }
     },
     "metadata": {},
     "output_type": "display_data"
    }
   ],
   "source": [
    "seeker_2.plot_from_results()"
   ]
  },
  {
   "cell_type": "code",
   "execution_count": 93,
   "metadata": {},
   "outputs": [
    {
     "name": "stdout",
     "output_type": "stream",
     "text": [
      "Model 1: Results for No. 1 and No. 2 best predictions: P-value: 0.00000000. Test statistic: 190.32142857.\n",
      "Model 2: Results for No. 1 and No. 2 best predictions: P-value: 0.00000000. Test statistic: 117.77946768.\n",
      "========================================================================================================================\n",
      "Model 1: Results for No. 2 and No. 3 best predictions: P-value: 0.00000000. Test statistic: 227.33061224.\n",
      "Model 2: Results for No. 2 and No. 3 best predictions: P-value: 0.00000000. Test statistic: 118.67045455.\n",
      "========================================================================================================================\n",
      "Model 1: Results for No. 3 and No. 4 best predictions: P-value: 0.00000000. Test statistic: 237.10121457.\n",
      "Model 2: Results for No. 3 and No. 4 best predictions: P-value: 0.00000000. Test statistic: 129.64015152.\n",
      "========================================================================================================================\n",
      "Model 1: Results for No. 4 and No. 5 best predictions: P-value: 0.00000000. Test statistic: 231.32530120.\n",
      "Model 2: Results for No. 4 and No. 5 best predictions: P-value: 0.00000000. Test statistic: 122.29389313.\n",
      "========================================================================================================================\n"
     ]
    }
   ],
   "source": [
    "seeker_2.compare_n_best(n=5, test='mcnemar_chisquare')"
   ]
  },
  {
   "cell_type": "markdown",
   "metadata": {},
   "source": [
    "### Working Code for 3D Plot\n",
    "\n",
    "```python\n",
    "\n",
    "# Create a 3D scatter plot\n",
    "fig = go.Figure(data=[\n",
    "    go.Scatter3d(\n",
    "        x=df.index + 1,\n",
    "        y=df.iloc[:, 4],\n",
    "        z=df.iloc[:, 1], \n",
    "        mode='lines+markers',\n",
    "        name=f'{df.columns[1]}',\n",
    "        text=df['Summary_M1'],\n",
    "        hoverinfo='text'\n",
    "    ),\n",
    "    go.Scatter3d(\n",
    "        x=df.index + 1,\n",
    "        y=df.iloc[:, 4],\n",
    "        z=df.iloc[:, 3], \n",
    "        mode='lines+markers',\n",
    "        name=f'{df.columns[3]}',\n",
    "        text=df['Summary_M2'],\n",
    "        hoverinfo='text'\n",
    "    )\n",
    "])\n",
    "\n",
    "# Update layout\n",
    "fig.update_layout(\n",
    "    title='Agreeability Coefficients and Model Scores Over Algorithm Iterations',\n",
    "    scene=dict(\n",
    "        xaxis_title='Iteration',\n",
    "        yaxis_title='Agreeability',\n",
    "        zaxis_title='Model Scores'\n",
    "    ),\n",
    "    hovermode='closest'\n",
    ")\n",
    "\n",
    "# Show the plot\n",
    "fig.show()\n",
    "\n",
    "```"
   ]
  },
  {
   "cell_type": "markdown",
   "metadata": {},
   "source": [
    "### Dependencies"
   ]
  },
  {
   "cell_type": "code",
   "execution_count": 30,
   "metadata": {},
   "outputs": [],
   "source": [
    "import numpy as np\n",
    "import pandas as pd\n",
    "import statsmodels\n",
    "import sklearn\n",
    "import scipy\n",
    "import plotly\n",
    "import matplotlib\n",
    "import seaborn as sns\n",
    "import tensorflow as tf"
   ]
  },
  {
   "cell_type": "code",
   "execution_count": 32,
   "metadata": {},
   "outputs": [
    {
     "name": "stdout",
     "output_type": "stream",
     "text": [
      "pandas: 1.5.3\n",
      "numpy: 1.20.3\n",
      "statsmodels: 0.13.5\n",
      "sklearn: 1.2.2\n",
      "scipy: 1.10.0\n",
      "plotly: 5.18.0\n",
      "matplotlib: 3.3.4\n",
      "seaborn: 0.11.1\n",
      "tensorflow: 2.10.1\n"
     ]
    }
   ],
   "source": [
    "print(f'pandas: {pd.__version__}')\n",
    "print(f'numpy: {np.__version__}')\n",
    "print(f'statsmodels: {statsmodels.__version__}')\n",
    "print(f'sklearn: {sklearn.__version__}')\n",
    "print(f'scipy: {scipy.__version__}')\n",
    "print(f'plotly: {plotly.__version__}')\n",
    "print(f'matplotlib: {matplotlib.__version__}')\n",
    "print(f'seaborn: {sns.__version__}')\n",
    "print(f'tensorflow: {tf.__version__}')\n"
   ]
  }
 ],
 "metadata": {
  "kernelspec": {
   "display_name": "DEDA",
   "language": "python",
   "name": "python3"
  },
  "language_info": {
   "codemirror_mode": {
    "name": "ipython",
    "version": 3
   },
   "file_extension": ".py",
   "mimetype": "text/x-python",
   "name": "python",
   "nbconvert_exporter": "python",
   "pygments_lexer": "ipython3",
   "version": "3.9.17"
  }
 },
 "nbformat": 4,
 "nbformat_minor": 2
}
